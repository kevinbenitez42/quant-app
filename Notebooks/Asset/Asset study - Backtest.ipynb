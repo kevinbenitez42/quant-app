{
 "cells": [
  {
   "cell_type": "code",
   "execution_count": 1,
   "id": "0316fc18",
   "metadata": {},
   "outputs": [],
   "source": [
    "import sys\n",
    "sys.path.append(r\"e:\\Coding Projects\\Investment Analysis\")"
   ]
  },
  {
   "cell_type": "code",
   "execution_count": 2,
   "id": "77e802b2",
   "metadata": {},
   "outputs": [
    {
     "name": "stderr",
     "output_type": "stream",
     "text": [
      "C:\\Users\\kevin\\AppData\\Local\\Temp\\ipykernel_33904\\2339176456.py:11: FutureWarning: Series.fillna with 'method' is deprecated and will raise in a future version. Use obj.ffill() or obj.bfill() instead.\n",
      "  price = price.asfreq('D').fillna(method='ffill')\n"
     ]
    },
    {
     "data": {
      "application/vnd.plotly.v1+json": {
       "config": {
        "plotlyServerURL": "https://plot.ly"
       },
       "data": [
        {
         "mode": "lines",
         "name": "Rolling Win Rate",
         "type": "scatter",
         "x": [
          "1993-03-02T00:00:00-05:00",
          "1993-03-31T00:00:00-05:00",
          "1993-04-16T00:00:00-04:00",
          "1993-05-06T00:00:00-04:00",
          "1993-05-20T00:00:00-04:00",
          "1993-06-28T00:00:00-04:00",
          "1993-08-05T00:00:00-04:00",
          "1993-10-04T00:00:00-04:00",
          "1993-11-18T00:00:00-05:00",
          "1993-12-03T00:00:00-05:00",
          "1994-01-27T00:00:00-05:00",
          "1994-03-16T00:00:00-05:00",
          "1994-04-25T00:00:00-04:00",
          "1994-05-20T00:00:00-04:00",
          "1994-07-08T00:00:00-04:00",
          "1994-10-13T00:00:00-04:00",
          "1994-10-28T00:00:00-04:00",
          "1994-12-06T00:00:00-05:00",
          "1995-08-25T00:00:00-04:00",
          "1995-10-17T00:00:00-04:00",
          "1995-11-08T00:00:00-05:00",
          "1996-01-01T00:00:00-05:00",
          "1996-01-23T00:00:00-05:00",
          "1996-03-05T00:00:00-05:00",
          "1996-03-22T00:00:00-05:00",
          "1996-04-23T00:00:00-04:00",
          "1996-05-13T00:00:00-04:00",
          "1996-07-01T00:00:00-04:00",
          "1996-08-02T00:00:00-04:00",
          "1996-09-12T00:00:00-04:00",
          "1996-12-25T00:00:00-05:00",
          "1997-04-16T00:00:00-04:00",
          "1997-09-09T00:00:00-04:00",
          "1997-11-10T00:00:00-05:00",
          "1998-01-01T00:00:00-05:00",
          "1998-05-11T00:00:00-04:00",
          "1998-05-20T00:00:00-04:00",
          "1998-06-09T00:00:00-04:00",
          "1998-08-18T00:00:00-04:00",
          "1998-09-14T00:00:00-04:00",
          "1998-10-15T00:00:00-04:00",
          "1999-01-28T00:00:00-05:00",
          "1999-02-22T00:00:00-05:00",
          "1999-05-03T00:00:00-04:00",
          "1999-06-07T00:00:00-04:00",
          "1999-08-18T00:00:00-04:00",
          "1999-09-13T00:00:00-04:00",
          "1999-10-07T00:00:00-04:00",
          "1999-10-28T00:00:00-04:00",
          "1999-12-21T00:00:00-05:00",
          "2000-01-18T00:00:00-05:00",
          "2000-03-03T00:00:00-05:00",
          "2000-04-28T00:00:00-04:00",
          "2000-05-17T00:00:00-04:00",
          "2000-06-02T00:00:00-04:00",
          "2000-07-07T00:00:00-04:00",
          "2000-08-11T00:00:00-04:00",
          "2000-10-31T00:00:00-05:00",
          "2000-12-06T00:00:00-05:00",
          "2001-01-03T00:00:00-05:00",
          "2001-04-17T00:00:00-04:00",
          "2001-07-02T00:00:00-04:00",
          "2001-07-20T00:00:00-04:00",
          "2001-10-03T00:00:00-04:00",
          "2001-11-06T00:00:00-05:00",
          "2001-12-05T00:00:00-05:00",
          "2001-12-27T00:00:00-05:00",
          "2002-03-01T00:00:00-05:00",
          "2002-05-17T00:00:00-04:00",
          "2002-08-06T00:00:00-04:00",
          "2002-10-17T00:00:00-04:00",
          "2003-01-02T00:00:00-05:00",
          "2003-02-21T00:00:00-05:00",
          "2003-03-17T00:00:00-05:00",
          "2003-05-30T00:00:00-04:00",
          "2003-07-07T00:00:00-04:00",
          "2003-08-18T00:00:00-04:00",
          "2003-10-08T00:00:00-04:00",
          "2003-10-31T00:00:00-05:00",
          "2003-12-01T00:00:00-05:00",
          "2004-02-11T00:00:00-05:00",
          "2004-03-01T00:00:00-05:00",
          "2004-03-29T00:00:00-05:00",
          "2004-05-24T00:00:00-04:00",
          "2004-06-23T00:00:00-04:00",
          "2004-08-20T00:00:00-04:00",
          "2004-10-06T00:00:00-04:00",
          "2004-10-28T00:00:00-04:00",
          "2005-02-02T00:00:00-05:00",
          "2005-03-04T00:00:00-05:00",
          "2005-04-05T00:00:00-04:00",
          "2005-05-04T00:00:00-04:00",
          "2005-07-08T00:00:00-04:00",
          "2005-09-06T00:00:00-04:00",
          "2005-11-01T00:00:00-05:00",
          "2005-12-13T00:00:00-05:00",
          "2006-01-04T00:00:00-05:00",
          "2006-02-16T00:00:00-05:00",
          "2006-03-14T00:00:00-05:00",
          "2006-04-21T00:00:00-04:00",
          "2006-06-01T00:00:00-04:00",
          "2006-06-27T00:00:00-04:00",
          "2006-07-27T00:00:00-04:00",
          "2006-08-15T00:00:00-04:00",
          "2007-01-12T00:00:00-05:00",
          "2007-02-01T00:00:00-05:00",
          "2007-03-19T00:00:00-04:00",
          "2007-06-21T00:00:00-04:00",
          "2007-07-06T00:00:00-04:00",
          "2007-08-24T00:00:00-04:00",
          "2007-12-03T00:00:00-05:00",
          "2007-12-31T00:00:00-05:00",
          "2008-01-31T00:00:00-05:00",
          "2008-02-20T00:00:00-05:00",
          "2008-03-24T00:00:00-04:00",
          "2008-04-24T00:00:00-04:00",
          "2008-07-23T00:00:00-04:00",
          "2008-11-07T00:00:00-05:00",
          "2008-12-04T00:00:00-05:00",
          "2009-01-01T00:00:00-05:00",
          "2009-01-28T00:00:00-05:00",
          "2009-03-16T00:00:00-04:00",
          "2009-05-29T00:00:00-04:00",
          "2009-07-16T00:00:00-04:00",
          "2009-08-25T00:00:00-04:00",
          "2009-10-09T00:00:00-04:00",
          "2009-11-10T00:00:00-05:00",
          "2009-12-04T00:00:00-05:00",
          "2009-12-11T00:00:00-05:00",
          "2010-02-18T00:00:00-05:00",
          "2010-06-03T00:00:00-04:00",
          "2010-07-13T00:00:00-04:00",
          "2010-09-03T00:00:00-04:00",
          "2010-12-01T00:00:00-05:00",
          "2011-02-02T00:00:00-05:00",
          "2011-03-29T00:00:00-04:00",
          "2011-04-26T00:00:00-04:00",
          "2011-05-31T00:00:00-04:00",
          "2011-06-29T00:00:00-04:00",
          "2011-07-25T00:00:00-04:00",
          "2011-08-24T00:00:00-04:00",
          "2011-09-16T00:00:00-04:00",
          "2011-10-12T00:00:00-04:00",
          "2011-11-15T00:00:00-05:00",
          "2011-12-05T00:00:00-05:00",
          "2011-12-26T00:00:00-05:00",
          "2012-03-13T00:00:00-04:00",
          "2012-04-25T00:00:00-04:00",
          "2012-06-15T00:00:00-04:00",
          "2012-09-06T00:00:00-04:00",
          "2012-11-06T00:00:00-05:00",
          "2012-11-22T00:00:00-05:00",
          "2013-01-02T00:00:00-05:00",
          "2013-03-06T00:00:00-05:00",
          "2013-07-04T00:00:00-04:00",
          "2013-09-09T00:00:00-04:00",
          "2013-10-14T00:00:00-04:00",
          "2013-12-19T00:00:00-05:00",
          "2014-02-12T00:00:00-05:00",
          "2014-04-22T00:00:00-04:00",
          "2014-07-22T00:00:00-04:00",
          "2014-08-14T00:00:00-04:00",
          "2014-09-18T00:00:00-04:00",
          "2014-10-24T00:00:00-04:00",
          "2014-12-24T00:00:00-05:00",
          "2015-01-26T00:00:00-05:00",
          "2015-03-20T00:00:00-04:00",
          "2015-04-08T00:00:00-04:00",
          "2015-05-14T00:00:00-04:00",
          "2015-06-18T00:00:00-04:00",
          "2015-07-13T00:00:00-04:00",
          "2015-08-10T00:00:00-04:00",
          "2015-09-08T00:00:00-04:00",
          "2015-10-06T00:00:00-04:00",
          "2015-11-26T00:00:00-05:00",
          "2015-12-25T00:00:00-05:00",
          "2016-01-29T00:00:00-05:00",
          "2016-02-19T00:00:00-05:00",
          "2016-05-25T00:00:00-04:00",
          "2016-07-08T00:00:00-04:00",
          "2016-09-07T00:00:00-04:00",
          "2016-09-23T00:00:00-04:00",
          "2016-11-09T00:00:00-05:00",
          "2017-01-06T00:00:00-05:00",
          "2017-04-04T00:00:00-04:00",
          "2017-04-25T00:00:00-04:00",
          "2017-05-26T00:00:00-04:00",
          "2017-07-13T00:00:00-04:00",
          "2017-08-31T00:00:00-04:00",
          "2017-11-23T00:00:00-05:00",
          "2018-01-02T00:00:00-05:00",
          "2018-02-19T00:00:00-05:00",
          "2018-03-15T00:00:00-04:00",
          "2018-04-16T00:00:00-04:00",
          "2018-05-08T00:00:00-04:00",
          "2018-06-06T00:00:00-04:00",
          "2018-07-09T00:00:00-04:00",
          "2018-09-19T00:00:00-04:00",
          "2018-11-07T00:00:00-05:00",
          "2018-12-03T00:00:00-05:00",
          "2019-01-04T00:00:00-05:00",
          "2019-03-18T00:00:00-04:00",
          "2019-06-07T00:00:00-04:00",
          "2019-08-19T00:00:00-04:00",
          "2019-10-16T00:00:00-04:00",
          "2020-02-10T00:00:00-05:00",
          "2020-03-30T00:00:00-04:00",
          "2020-05-18T00:00:00-04:00",
          "2020-06-25T00:00:00-04:00",
          "2020-10-05T00:00:00-04:00",
          "2020-11-09T00:00:00-05:00",
          "2021-02-10T00:00:00-05:00",
          "2021-03-11T00:00:00-05:00",
          "2021-05-26T00:00:00-04:00",
          "2021-06-29T00:00:00-04:00",
          "2021-07-30T00:00:00-04:00",
          "2021-10-14T00:00:00-04:00",
          "2021-12-10T00:00:00-05:00",
          "2022-02-04T00:00:00-05:00",
          "2022-03-18T00:00:00-04:00",
          "2022-05-26T00:00:00-04:00",
          "2022-06-27T00:00:00-04:00",
          "2022-09-12T00:00:00-04:00",
          "2022-10-21T00:00:00-04:00",
          "2023-01-10T00:00:00-05:00",
          "2023-03-24T00:00:00-04:00",
          "2023-05-10T00:00:00-04:00",
          "2023-08-30T00:00:00-04:00",
          "2023-10-10T00:00:00-04:00",
          "2023-11-03T00:00:00-04:00",
          "2024-01-17T00:00:00-05:00",
          "2024-05-03T00:00:00-04:00",
          "2024-06-06T00:00:00-04:00",
          "2024-08-16T00:00:00-04:00",
          "2024-09-17T00:00:00-04:00",
          "2024-11-06T00:00:00-05:00",
          "2025-01-21T00:00:00-05:00",
          "2025-03-24T00:00:00-04:00",
          "2025-04-22T00:00:00-04:00",
          "2025-08-08T00:00:00-04:00"
         ],
         "y": [
          null,
          null,
          null,
          null,
          null,
          null,
          null,
          null,
          null,
          null,
          null,
          null,
          null,
          null,
          null,
          null,
          null,
          null,
          null,
          null,
          null,
          null,
          null,
          null,
          null,
          null,
          null,
          null,
          null,
          null,
          null,
          null,
          null,
          null,
          null,
          null,
          null,
          null,
          null,
          null,
          null,
          null,
          null,
          null,
          null,
          null,
          null,
          null,
          null,
          null,
          null,
          null,
          null,
          null,
          null,
          null,
          null,
          null,
          null,
          null,
          null,
          null,
          null,
          null,
          null,
          null,
          null,
          null,
          null,
          null,
          null,
          null,
          null,
          null,
          null,
          null,
          null,
          null,
          null,
          null,
          null,
          null,
          null,
          null,
          null,
          null,
          null,
          null,
          null,
          null,
          null,
          null,
          null,
          null,
          null,
          null,
          null,
          null,
          null,
          0.76,
          0.75,
          0.74,
          0.74,
          0.74,
          0.74,
          0.74,
          0.74,
          0.74,
          0.74,
          0.74,
          0.73,
          0.73,
          0.73,
          0.73,
          0.74,
          0.74,
          0.73,
          0.73,
          0.72,
          0.72,
          0.72,
          0.71,
          0.71,
          0.71,
          0.71,
          0.71,
          0.71,
          0.71,
          0.71,
          0.7,
          0.69,
          0.7,
          0.7,
          0.71,
          0.71,
          0.71,
          0.71,
          0.71,
          0.71,
          0.72,
          0.71,
          0.71,
          0.71,
          0.71,
          0.71,
          0.72,
          0.72,
          0.73,
          0.72,
          0.72,
          0.71,
          0.71,
          0.72,
          0.72,
          0.71,
          0.71,
          0.71,
          0.72,
          0.73,
          0.73,
          0.74,
          0.75,
          0.76,
          0.77,
          0.77,
          0.77,
          0.77,
          0.77,
          0.78,
          0.79,
          0.8,
          0.8,
          0.8,
          0.8,
          0.8,
          0.8,
          0.79,
          0.79,
          0.79,
          0.79,
          0.79,
          0.79,
          0.79,
          0.8,
          0.8,
          0.81,
          0.81,
          0.81,
          0.81,
          0.81,
          0.82,
          0.81,
          0.81,
          0.81,
          0.82,
          0.82,
          0.82,
          0.82,
          0.81,
          0.81,
          0.81,
          0.82,
          0.81,
          0.8,
          0.8,
          0.8,
          0.79,
          0.79,
          0.78,
          0.78,
          0.79,
          0.79,
          0.8,
          0.8,
          0.8,
          0.8,
          0.8,
          0.81,
          0.81,
          0.81,
          0.8,
          0.81,
          0.8,
          0.79,
          0.78,
          0.77,
          0.77,
          0.77,
          0.76,
          0.77,
          0.78,
          0.77,
          0.77,
          0.77,
          0.77,
          0.77,
          0.77,
          0.76,
          0.76,
          0.76
         ]
        }
       ],
       "layout": {
        "annotations": [
         {
          "showarrow": false,
          "text": "50% Win Rate",
          "x": 1,
          "xanchor": "right",
          "xref": "x domain",
          "y": 0.5,
          "yanchor": "top",
          "yref": "y"
         },
         {
          "showarrow": false,
          "text": "75% Win Rate",
          "x": 1,
          "xanchor": "right",
          "xref": "x domain",
          "y": 0.75,
          "yanchor": "top",
          "yref": "y"
         },
         {
          "showarrow": false,
          "text": "30% Win Rate",
          "x": 1,
          "xanchor": "right",
          "xref": "x domain",
          "y": 0.3,
          "yanchor": "top",
          "yref": "y"
         },
         {
          "showarrow": false,
          "text": "90% Win Rate",
          "x": 1,
          "xanchor": "right",
          "xref": "x domain",
          "y": 0.9,
          "yanchor": "top",
          "yref": "y"
         }
        ],
        "shapes": [
         {
          "line": {
           "color": "red",
           "dash": "dash"
          },
          "type": "line",
          "x0": 0,
          "x1": 1,
          "xref": "x domain",
          "y0": 0.5,
          "y1": 0.5,
          "yref": "y"
         },
         {
          "line": {
           "color": "green",
           "dash": "dash"
          },
          "type": "line",
          "x0": 0,
          "x1": 1,
          "xref": "x domain",
          "y0": 0.75,
          "y1": 0.75,
          "yref": "y"
         },
         {
          "line": {
           "color": "blue",
           "dash": "dash"
          },
          "type": "line",
          "x0": 0,
          "x1": 1,
          "xref": "x domain",
          "y0": 0.3,
          "y1": 0.3,
          "yref": "y"
         },
         {
          "line": {
           "color": "black",
           "dash": "dash"
          },
          "type": "line",
          "x0": 0,
          "x1": 1,
          "xref": "x domain",
          "y0": 0.9,
          "y1": 0.9,
          "yref": "y"
         }
        ],
        "template": {
         "data": {
          "bar": [
           {
            "error_x": {
             "color": "#2a3f5f"
            },
            "error_y": {
             "color": "#2a3f5f"
            },
            "marker": {
             "line": {
              "color": "#E5ECF6",
              "width": 0.5
             },
             "pattern": {
              "fillmode": "overlay",
              "size": 10,
              "solidity": 0.2
             }
            },
            "type": "bar"
           }
          ],
          "barpolar": [
           {
            "marker": {
             "line": {
              "color": "#E5ECF6",
              "width": 0.5
             },
             "pattern": {
              "fillmode": "overlay",
              "size": 10,
              "solidity": 0.2
             }
            },
            "type": "barpolar"
           }
          ],
          "carpet": [
           {
            "aaxis": {
             "endlinecolor": "#2a3f5f",
             "gridcolor": "white",
             "linecolor": "white",
             "minorgridcolor": "white",
             "startlinecolor": "#2a3f5f"
            },
            "baxis": {
             "endlinecolor": "#2a3f5f",
             "gridcolor": "white",
             "linecolor": "white",
             "minorgridcolor": "white",
             "startlinecolor": "#2a3f5f"
            },
            "type": "carpet"
           }
          ],
          "choropleth": [
           {
            "colorbar": {
             "outlinewidth": 0,
             "ticks": ""
            },
            "type": "choropleth"
           }
          ],
          "contour": [
           {
            "colorbar": {
             "outlinewidth": 0,
             "ticks": ""
            },
            "colorscale": [
             [
              0,
              "#0d0887"
             ],
             [
              0.1111111111111111,
              "#46039f"
             ],
             [
              0.2222222222222222,
              "#7201a8"
             ],
             [
              0.3333333333333333,
              "#9c179e"
             ],
             [
              0.4444444444444444,
              "#bd3786"
             ],
             [
              0.5555555555555556,
              "#d8576b"
             ],
             [
              0.6666666666666666,
              "#ed7953"
             ],
             [
              0.7777777777777778,
              "#fb9f3a"
             ],
             [
              0.8888888888888888,
              "#fdca26"
             ],
             [
              1,
              "#f0f921"
             ]
            ],
            "type": "contour"
           }
          ],
          "contourcarpet": [
           {
            "colorbar": {
             "outlinewidth": 0,
             "ticks": ""
            },
            "type": "contourcarpet"
           }
          ],
          "heatmap": [
           {
            "colorbar": {
             "outlinewidth": 0,
             "ticks": ""
            },
            "colorscale": [
             [
              0,
              "#0d0887"
             ],
             [
              0.1111111111111111,
              "#46039f"
             ],
             [
              0.2222222222222222,
              "#7201a8"
             ],
             [
              0.3333333333333333,
              "#9c179e"
             ],
             [
              0.4444444444444444,
              "#bd3786"
             ],
             [
              0.5555555555555556,
              "#d8576b"
             ],
             [
              0.6666666666666666,
              "#ed7953"
             ],
             [
              0.7777777777777778,
              "#fb9f3a"
             ],
             [
              0.8888888888888888,
              "#fdca26"
             ],
             [
              1,
              "#f0f921"
             ]
            ],
            "type": "heatmap"
           }
          ],
          "heatmapgl": [
           {
            "colorbar": {
             "outlinewidth": 0,
             "ticks": ""
            },
            "colorscale": [
             [
              0,
              "#0d0887"
             ],
             [
              0.1111111111111111,
              "#46039f"
             ],
             [
              0.2222222222222222,
              "#7201a8"
             ],
             [
              0.3333333333333333,
              "#9c179e"
             ],
             [
              0.4444444444444444,
              "#bd3786"
             ],
             [
              0.5555555555555556,
              "#d8576b"
             ],
             [
              0.6666666666666666,
              "#ed7953"
             ],
             [
              0.7777777777777778,
              "#fb9f3a"
             ],
             [
              0.8888888888888888,
              "#fdca26"
             ],
             [
              1,
              "#f0f921"
             ]
            ],
            "type": "heatmapgl"
           }
          ],
          "histogram": [
           {
            "marker": {
             "pattern": {
              "fillmode": "overlay",
              "size": 10,
              "solidity": 0.2
             }
            },
            "type": "histogram"
           }
          ],
          "histogram2d": [
           {
            "colorbar": {
             "outlinewidth": 0,
             "ticks": ""
            },
            "colorscale": [
             [
              0,
              "#0d0887"
             ],
             [
              0.1111111111111111,
              "#46039f"
             ],
             [
              0.2222222222222222,
              "#7201a8"
             ],
             [
              0.3333333333333333,
              "#9c179e"
             ],
             [
              0.4444444444444444,
              "#bd3786"
             ],
             [
              0.5555555555555556,
              "#d8576b"
             ],
             [
              0.6666666666666666,
              "#ed7953"
             ],
             [
              0.7777777777777778,
              "#fb9f3a"
             ],
             [
              0.8888888888888888,
              "#fdca26"
             ],
             [
              1,
              "#f0f921"
             ]
            ],
            "type": "histogram2d"
           }
          ],
          "histogram2dcontour": [
           {
            "colorbar": {
             "outlinewidth": 0,
             "ticks": ""
            },
            "colorscale": [
             [
              0,
              "#0d0887"
             ],
             [
              0.1111111111111111,
              "#46039f"
             ],
             [
              0.2222222222222222,
              "#7201a8"
             ],
             [
              0.3333333333333333,
              "#9c179e"
             ],
             [
              0.4444444444444444,
              "#bd3786"
             ],
             [
              0.5555555555555556,
              "#d8576b"
             ],
             [
              0.6666666666666666,
              "#ed7953"
             ],
             [
              0.7777777777777778,
              "#fb9f3a"
             ],
             [
              0.8888888888888888,
              "#fdca26"
             ],
             [
              1,
              "#f0f921"
             ]
            ],
            "type": "histogram2dcontour"
           }
          ],
          "mesh3d": [
           {
            "colorbar": {
             "outlinewidth": 0,
             "ticks": ""
            },
            "type": "mesh3d"
           }
          ],
          "parcoords": [
           {
            "line": {
             "colorbar": {
              "outlinewidth": 0,
              "ticks": ""
             }
            },
            "type": "parcoords"
           }
          ],
          "pie": [
           {
            "automargin": true,
            "type": "pie"
           }
          ],
          "scatter": [
           {
            "fillpattern": {
             "fillmode": "overlay",
             "size": 10,
             "solidity": 0.2
            },
            "type": "scatter"
           }
          ],
          "scatter3d": [
           {
            "line": {
             "colorbar": {
              "outlinewidth": 0,
              "ticks": ""
             }
            },
            "marker": {
             "colorbar": {
              "outlinewidth": 0,
              "ticks": ""
             }
            },
            "type": "scatter3d"
           }
          ],
          "scattercarpet": [
           {
            "marker": {
             "colorbar": {
              "outlinewidth": 0,
              "ticks": ""
             }
            },
            "type": "scattercarpet"
           }
          ],
          "scattergeo": [
           {
            "marker": {
             "colorbar": {
              "outlinewidth": 0,
              "ticks": ""
             }
            },
            "type": "scattergeo"
           }
          ],
          "scattergl": [
           {
            "marker": {
             "colorbar": {
              "outlinewidth": 0,
              "ticks": ""
             }
            },
            "type": "scattergl"
           }
          ],
          "scattermapbox": [
           {
            "marker": {
             "colorbar": {
              "outlinewidth": 0,
              "ticks": ""
             }
            },
            "type": "scattermapbox"
           }
          ],
          "scatterpolar": [
           {
            "marker": {
             "colorbar": {
              "outlinewidth": 0,
              "ticks": ""
             }
            },
            "type": "scatterpolar"
           }
          ],
          "scatterpolargl": [
           {
            "marker": {
             "colorbar": {
              "outlinewidth": 0,
              "ticks": ""
             }
            },
            "type": "scatterpolargl"
           }
          ],
          "scatterternary": [
           {
            "marker": {
             "colorbar": {
              "outlinewidth": 0,
              "ticks": ""
             }
            },
            "type": "scatterternary"
           }
          ],
          "surface": [
           {
            "colorbar": {
             "outlinewidth": 0,
             "ticks": ""
            },
            "colorscale": [
             [
              0,
              "#0d0887"
             ],
             [
              0.1111111111111111,
              "#46039f"
             ],
             [
              0.2222222222222222,
              "#7201a8"
             ],
             [
              0.3333333333333333,
              "#9c179e"
             ],
             [
              0.4444444444444444,
              "#bd3786"
             ],
             [
              0.5555555555555556,
              "#d8576b"
             ],
             [
              0.6666666666666666,
              "#ed7953"
             ],
             [
              0.7777777777777778,
              "#fb9f3a"
             ],
             [
              0.8888888888888888,
              "#fdca26"
             ],
             [
              1,
              "#f0f921"
             ]
            ],
            "type": "surface"
           }
          ],
          "table": [
           {
            "cells": {
             "fill": {
              "color": "#EBF0F8"
             },
             "line": {
              "color": "white"
             }
            },
            "header": {
             "fill": {
              "color": "#C8D4E3"
             },
             "line": {
              "color": "white"
             }
            },
            "type": "table"
           }
          ]
         },
         "layout": {
          "annotationdefaults": {
           "arrowcolor": "#2a3f5f",
           "arrowhead": 0,
           "arrowwidth": 1
          },
          "autotypenumbers": "strict",
          "coloraxis": {
           "colorbar": {
            "outlinewidth": 0,
            "ticks": ""
           }
          },
          "colorscale": {
           "diverging": [
            [
             0,
             "#8e0152"
            ],
            [
             0.1,
             "#c51b7d"
            ],
            [
             0.2,
             "#de77ae"
            ],
            [
             0.3,
             "#f1b6da"
            ],
            [
             0.4,
             "#fde0ef"
            ],
            [
             0.5,
             "#f7f7f7"
            ],
            [
             0.6,
             "#e6f5d0"
            ],
            [
             0.7,
             "#b8e186"
            ],
            [
             0.8,
             "#7fbc41"
            ],
            [
             0.9,
             "#4d9221"
            ],
            [
             1,
             "#276419"
            ]
           ],
           "sequential": [
            [
             0,
             "#0d0887"
            ],
            [
             0.1111111111111111,
             "#46039f"
            ],
            [
             0.2222222222222222,
             "#7201a8"
            ],
            [
             0.3333333333333333,
             "#9c179e"
            ],
            [
             0.4444444444444444,
             "#bd3786"
            ],
            [
             0.5555555555555556,
             "#d8576b"
            ],
            [
             0.6666666666666666,
             "#ed7953"
            ],
            [
             0.7777777777777778,
             "#fb9f3a"
            ],
            [
             0.8888888888888888,
             "#fdca26"
            ],
            [
             1,
             "#f0f921"
            ]
           ],
           "sequentialminus": [
            [
             0,
             "#0d0887"
            ],
            [
             0.1111111111111111,
             "#46039f"
            ],
            [
             0.2222222222222222,
             "#7201a8"
            ],
            [
             0.3333333333333333,
             "#9c179e"
            ],
            [
             0.4444444444444444,
             "#bd3786"
            ],
            [
             0.5555555555555556,
             "#d8576b"
            ],
            [
             0.6666666666666666,
             "#ed7953"
            ],
            [
             0.7777777777777778,
             "#fb9f3a"
            ],
            [
             0.8888888888888888,
             "#fdca26"
            ],
            [
             1,
             "#f0f921"
            ]
           ]
          },
          "colorway": [
           "#636efa",
           "#EF553B",
           "#00cc96",
           "#ab63fa",
           "#FFA15A",
           "#19d3f3",
           "#FF6692",
           "#B6E880",
           "#FF97FF",
           "#FECB52"
          ],
          "font": {
           "color": "#2a3f5f"
          },
          "geo": {
           "bgcolor": "white",
           "lakecolor": "white",
           "landcolor": "#E5ECF6",
           "showlakes": true,
           "showland": true,
           "subunitcolor": "white"
          },
          "hoverlabel": {
           "align": "left"
          },
          "hovermode": "closest",
          "mapbox": {
           "style": "light"
          },
          "paper_bgcolor": "white",
          "plot_bgcolor": "#E5ECF6",
          "polar": {
           "angularaxis": {
            "gridcolor": "white",
            "linecolor": "white",
            "ticks": ""
           },
           "bgcolor": "#E5ECF6",
           "radialaxis": {
            "gridcolor": "white",
            "linecolor": "white",
            "ticks": ""
           }
          },
          "scene": {
           "xaxis": {
            "backgroundcolor": "#E5ECF6",
            "gridcolor": "white",
            "gridwidth": 2,
            "linecolor": "white",
            "showbackground": true,
            "ticks": "",
            "zerolinecolor": "white"
           },
           "yaxis": {
            "backgroundcolor": "#E5ECF6",
            "gridcolor": "white",
            "gridwidth": 2,
            "linecolor": "white",
            "showbackground": true,
            "ticks": "",
            "zerolinecolor": "white"
           },
           "zaxis": {
            "backgroundcolor": "#E5ECF6",
            "gridcolor": "white",
            "gridwidth": 2,
            "linecolor": "white",
            "showbackground": true,
            "ticks": "",
            "zerolinecolor": "white"
           }
          },
          "shapedefaults": {
           "line": {
            "color": "#2a3f5f"
           }
          },
          "ternary": {
           "aaxis": {
            "gridcolor": "white",
            "linecolor": "white",
            "ticks": ""
           },
           "baxis": {
            "gridcolor": "white",
            "linecolor": "white",
            "ticks": ""
           },
           "bgcolor": "#E5ECF6",
           "caxis": {
            "gridcolor": "white",
            "linecolor": "white",
            "ticks": ""
           }
          },
          "title": {
           "x": 0.05
          },
          "xaxis": {
           "automargin": true,
           "gridcolor": "white",
           "linecolor": "white",
           "ticks": "",
           "title": {
            "standoff": 15
           },
           "zerolinecolor": "white",
           "zerolinewidth": 2
          },
          "yaxis": {
           "automargin": true,
           "gridcolor": "white",
           "linecolor": "white",
           "ticks": "",
           "title": {
            "standoff": 15
           },
           "zerolinecolor": "white",
           "zerolinewidth": 2
          }
         }
        },
        "title": {
         "text": "Rolling Win Rate of RSI Strategy"
        },
        "xaxis": {
         "title": {
          "text": "Trade Exit Date"
         }
        },
        "yaxis": {
         "title": {
          "text": "Win Rate"
         }
        }
       }
      }
     },
     "metadata": {},
     "output_type": "display_data"
    }
   ],
   "source": [
    "#basic 14 day rsi strategy\n",
    "#buy when RSI < 30, sell when RSI > 70\n",
    "\n",
    "import vectorbt as vbt\n",
    "import yfinance as yf\n",
    "\n",
    "# === 1. Load Data ===\n",
    "symbol = 'SPY'  # You can change this to any stock symbol you want\n",
    "price = yf.Ticker(symbol).history(period='max', interval='1d')['Close']\n",
    "#use freq('D') to ensure daily frequency\n",
    "price = price.asfreq('D').fillna(method='ffill')\n",
    "\n",
    "# === 2. Compute RSI ===\n",
    "rsi = vbt.RSI.run(price, window=14)\n",
    "\n",
    "# === 3. Define Entry and Exit Conditions ===\n",
    "entries = rsi.rsi < 40\n",
    "exits = rsi.rsi > 60\n",
    "\n",
    "# === 4. Simulate Portfolio ===\n",
    "portfolio = vbt.Portfolio.from_signals(price, entries, exits, direction='longonly')\n",
    "\n",
    "\n",
    "# === 5. Analyze Performance ===\n",
    "trades = portfolio.trades.records_readable\n",
    "pnl = trades['PnL']\n",
    "\n",
    "# Compute the rolling win rate (over last 10 trades)\n",
    "rolling_win_rate = pnl.rolling(window=100).apply(lambda x: (x > 0).mean(), raw=False)\n",
    "\n",
    "# Use the Exit Timestamp as x-axis for time context\n",
    "exit_dates = trades['Exit Timestamp'].iloc[rolling_win_rate.index]\n",
    "\n",
    "# Plotting\n",
    "import plotly.graph_objects as go\n",
    "fig = go.Figure()\n",
    "fig.add_trace(go.Scatter(x=exit_dates, y=rolling_win_rate, mode='lines', name='Rolling Win Rate'))\n",
    "\n",
    "# Horizontal lines\n",
    "fig.add_hline(y=0.5, line_dash='dash', line_color='red',\n",
    "              annotation_text='50% Win Rate', annotation_position='bottom right')\n",
    "fig.add_hline(y=0.75, line_dash='dash', line_color='green',\n",
    "              annotation_text='75% Win Rate', annotation_position='bottom right')\n",
    "fig.add_hline(y=0.3, line_dash='dash', line_color='blue',\n",
    "              annotation_text='30% Win Rate', annotation_position='bottom right')\n",
    "fig.add_hline(y=.9, line_dash='dash', line_color='black'\n",
    "                , annotation_text='90% Win Rate', annotation_position='bottom right')\n",
    "\n",
    "fig.update_layout(title='Rolling Win Rate of RSI Strategy',\n",
    "                  xaxis_title='Trade Exit Date', yaxis_title='Win Rate')\n",
    "fig.show()"
   ]
  },
  {
   "cell_type": "code",
   "execution_count": 4,
   "id": "4ede2ea2",
   "metadata": {},
   "outputs": [
    {
     "name": "stdout",
     "output_type": "stream",
     "text": [
      "RSI < 30 occurred 1100 times.\n"
     ]
    },
    {
     "name": "stderr",
     "output_type": "stream",
     "text": [
      "C:\\Users\\kevin\\AppData\\Local\\Temp\\ipykernel_33904\\3428502846.py:6: FutureWarning:\n",
      "\n",
      "Series.fillna with 'method' is deprecated and will raise in a future version. Use obj.ffill() or obj.bfill() instead.\n",
      "\n"
     ]
    }
   ],
   "source": [
    "import yfinance as yf\n",
    "import vectorbt as vbt\n",
    "\n",
    "# Load SPY historical price data\n",
    "price = yf.Ticker('SPY').history(period='max', interval='1d')['Close']\n",
    "price = price.asfreq('D').fillna(method='ffill')\n",
    "\n",
    "# Calculate 14-day RSI\n",
    "rsi = vbt.RSI.run(price, window=14)\n",
    "\n",
    "# Count how many times RSI dropped below 30\n",
    "count_under_30 = (rsi.rsi < 30).sum()\n",
    "print(f\"RSI < 30 occurred {count_under_30} times.\")"
   ]
  }
 ],
 "metadata": {
  "kernelspec": {
   "display_name": "base",
   "language": "python",
   "name": "python3"
  },
  "language_info": {
   "codemirror_mode": {
    "name": "ipython",
    "version": 3
   },
   "file_extension": ".py",
   "mimetype": "text/x-python",
   "name": "python",
   "nbconvert_exporter": "python",
   "pygments_lexer": "ipython3",
   "version": "3.12.4"
  }
 },
 "nbformat": 4,
 "nbformat_minor": 5
}
