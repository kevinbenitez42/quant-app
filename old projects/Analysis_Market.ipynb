{
 "cells": [
  {
   "cell_type": "code",
   "execution_count": null,
   "id": "33504f8f-13f2-4ac1-837f-510b618a1ddf",
   "metadata": {},
   "outputs": [],
   "source": [
    "#Load Data\n",
    "import yfinance as yf\n",
    "import numpy as np\n",
    "import matplotlib.pyplot as plt\n",
    "import pandas as pd\n",
    "import numpy as np\n",
    "import plotly.express as px\n",
    "from Quantapp.Algorithm   import Algorithm\n",
    "from Quantapp.Computation import Computation\n",
    "from Quantapp.Portfolio   import Portfolio\n",
    "from Quantapp.Plot        import Plot\n",
    "from Quantapp.DataManager import DataManager\n",
    "from Quantapp.Universe    import Universe\n",
    "\n",
    "csv_file_paths = [\n",
    "    'csv_files/S&P 500.csv'\n",
    "]\n",
    "\n",
    "dm   = DataManager()\n",
    "universe  = Universe(file_paths = csv_file_paths)\n",
    "pm   = Portfolio(universe = universe)\n",
    "algorithms = Algorithm()\n",
    "comp= Computation()\n",
    "\n",
    "plt.rcParams[\"figure.figsize\"] = (10, 10)\n",
    "\n",
    "period= '2y'\n",
    "interval='1d'\n",
    "n = 200\n",
    "market_cap_threshold=1000000000\n",
    "Sector = 'Information Technology'\n",
    "Industry ='Semiconductors & Semiconductor Equipment'\n",
    "Sub_Industry= 'Semiconductors'\n",
    "\n",
    "stocks    = universe.retrieve_assets(Sector=Sector, Industry=Industry)\n",
    "tickers = stocks['Symbol']\n",
    "\n",
    "for ticker in tickers:\n",
    "    pm.add(ticker)\n",
    "pm.load()\n",
    "tickers = pm.retrieve_ticker_data()\n",
    "\n"
   ]
  },
  {
   "cell_type": "code",
   "execution_count": null,
   "id": "7328f6a0",
   "metadata": {},
   "outputs": [],
   "source": [
    "#Industry Rate of Change\n",
    "industries = pd.Series(universe.retrieve_unique_asset_classes(Sector=Sector))\n",
    "industry_indices = pd.DataFrame()\n",
    "\n",
    "for industry in industries:\n",
    "   industry_indices[industry] = universe.create_market_index(Industry=industry)\n",
    "\n",
    "industry_indices\n",
    "formula = algorithms.rate_of_change\n",
    "\n",
    "industry_index_roc_50 = comp.rolling_multi(formula,50,industry_indices)\n",
    "industry_index_roc_200= comp.rolling_multi(formula,200,industry_indices)\n",
    "\n",
    "px.line(industry_index_roc_50,title='Rate of Change (50 day)').show()\n",
    "px.line(industry_index_roc_200,title='Rate of Change (200 day)').show()\n"
   ]
  },
  {
   "cell_type": "code",
   "execution_count": null,
   "id": "ef1e0746",
   "metadata": {},
   "outputs": [],
   "source": [
    "#Sub-Industrys Rate of Change \n",
    "sub_industries = pd.Series(universe.retrieve_unique_asset_classes(Industry=Industry))\n",
    "sub_industry_indices = pd.DataFrame()\n",
    "for sub_industry in sub_industries:\n",
    "    sub_industry_indices[sub_industry] = universe.create_market_index(SubIndustry=sub_industry)\n",
    "\n",
    "formula = algorithms.rate_of_change\n",
    "sub_industry_index_roc_50 = comp.rolling_multi(formula,50,sub_industry_indices)\n",
    "sub_industry_index_roc_200= comp.rolling_multi(formula,200,sub_industry_indices)\n",
    "\n",
    "px.line(sub_industry_index_roc_50,title='Rate of Change (50 day)').show()\n",
    "px.line(sub_industry_index_roc_200,title='Rate of Change (200 day)').show()"
   ]
  },
  {
   "cell_type": "code",
   "execution_count": null,
   "id": "f6626d40",
   "metadata": {},
   "outputs": [],
   "source": [
    "#Industry vs Sub Industry 50D & 200D ROC \n",
    "df = pd.DataFrame()\n",
    "df[Industry] = industry_index_roc_50[Industry]\n",
    "df[Sub_Industry] = sub_industry_index_roc_50[Sub_Industry]\n",
    "px.line(df,title='Rate of Change (50 day)').show()\n",
    "\n",
    "df = pd.DataFrame()\n",
    "df[Industry] = industry_index_roc_200[Industry]\n",
    "df[Sub_Industry] = sub_industry_index_roc_200[Sub_Industry]\n",
    "px.line(df,title='Rate of Change (200 day)').show()"
   ]
  },
  {
   "cell_type": "code",
   "execution_count": null,
   "id": "3041dd45",
   "metadata": {},
   "outputs": [],
   "source": [
    "market_index = universe.create_market_index(Sector=Sector,Industry=Industry,SubIndustry=Sub_Industry)\n",
    "assets       = universe.retrieve_assets(Sector=Sector,Industry=Industry,SubIndustry=Sub_Industry).sort_values(by=['Market Cap'], ascending=False)\n",
    "\n",
    "tickers      = {}\n",
    "for stock in assets['Symbol']:\n",
    "    tickers[stock] = 'long'\n",
    "\n",
    "print(tickers)\n",
    "pm.add_tickers(tickers)\n",
    "pm.load(period=period,interval=interval)"
   ]
  },
  {
   "cell_type": "code",
   "execution_count": null,
   "id": "23270a1c",
   "metadata": {},
   "outputs": [],
   "source": [
    "assets"
   ]
  },
  {
   "cell_type": "code",
   "execution_count": null,
   "id": "5d011cd1",
   "metadata": {},
   "outputs": [],
   "source": [
    "market_caps = assets[['Symbol', 'Market Cap']].sort_values(by=['Market Cap'], ascending=False)\n",
    "fig = px.bar(market_caps, x='Symbol',y='Market Cap', title=\" Market Caps \")\n",
    "fig.show()\n",
    "market_cap_vs_correlation = pd.DataFrame(\n",
    "    {\n",
    "        'tickers'   : assets['Symbol'].to_list(),\n",
    "        'correlation' : pm.benchmark_correlation('XLF',period=period,interval=interval,window=252*2).iloc[-1,:],\n",
    "        'market_caps'  : market_caps['Market Cap'].to_list()\n",
    "    }\n",
    ")\n",
    "fig2 = px.line(market_cap_vs_correlation,x='tickers',y='correlation',text='tickers')\n",
    "fig2.add_hline(0)\n",
    "fig2.add_hline(.5)\n",
    "fig2.show()"
   ]
  },
  {
   "cell_type": "code",
   "execution_count": null,
   "id": "a6adbcd4-09bf-49b0-872d-373a80b2eb5c",
   "metadata": {},
   "outputs": [],
   "source": [
    "df = computations.create_correlation_heatmap(industry_indices)\n",
    "fig_ = px.imshow(df,text_auto=True,width=600,height=600,title='fgfgk')\n",
    "fig_.show()\n",
    "\n",
    "df2 = computations.create_correlation_heatmap(sub_industry_indices)\n",
    "fig2_ = px.imshow(df2,text_auto=True,width=600,height=600,title='fgfgk')\n",
    "fig2_.show()\n",
    "\n",
    "df3= computations.create_correlation_heatmap(pm.retrieve_ticker_data())\n",
    "fig3_ = px.imshow(df3,text_auto=True,width=600,height=600,title='fgfgk')\n",
    "fig3_.show()\n"
   ]
  },
  {
   "cell_type": "code",
   "execution_count": null,
   "id": "7ebb203c-3b29-4524-914d-cf881b0f6740",
   "metadata": {},
   "outputs": [],
   "source": [
    "statistics = Statistics()\n",
    "positive_trading_days_21 = statistics.n_positive_days(ticker='XLV',number_of_days=21)\n",
    "positive_trading_days_50 = statistics.n_positive_days(ticker='XLV',number_of_days=50)\n",
    "positive_trading_days_200 = statistics.n_positive_days(ticker='XLV',number_of_days=200)"
   ]
  },
  {
   "cell_type": "code",
   "execution_count": null,
   "id": "3b80b31d-6547-42c2-b8c0-e57dc92cc2eb",
   "metadata": {},
   "outputs": [],
   "source": [
    "positive_trading_days_21[-252*3:].plot()\n",
    "positive_trading_days_50[-252*3:].plot()\n",
    "positive_trading_days_200[-252*3:].plot()"
   ]
  }
 ],
 "metadata": {
  "kernelspec": {
   "display_name": "Python 3.9.12 ('base')",
   "language": "python",
   "name": "python3"
  },
  "language_info": {
   "codemirror_mode": {
    "name": "ipython",
    "version": 3
   },
   "file_extension": ".py",
   "mimetype": "text/x-python",
   "name": "python",
   "nbconvert_exporter": "python",
   "pygments_lexer": "ipython3",
   "version": "3.9.12"
  },
  "vscode": {
   "interpreter": {
    "hash": "6defd577cd85e3649e86c46a537635b7104b081260a238509c81cac8b534171b"
   }
  }
 },
 "nbformat": 4,
 "nbformat_minor": 5
}
