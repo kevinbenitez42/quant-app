{
 "cells": [
  {
   "cell_type": "code",
   "execution_count": null,
   "metadata": {},
   "outputs": [],
   "source": [
    "#Notebook description\n",
    "\n",
    "#this notebook is intended to analyze the broader economy as a whole and give a sense of the macroeconomic \n",
    "#headwinds that will effect the asset and labor markets. \n",
    "\n"
   ]
  }
 ],
 "metadata": {
  "language_info": {
   "name": "python"
  }
 },
 "nbformat": 4,
 "nbformat_minor": 2
}
