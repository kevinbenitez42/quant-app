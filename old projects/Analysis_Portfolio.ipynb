{
 "cells": [
  {
   "cell_type": "code",
   "execution_count": 1,
   "id": "0f10a756-f8ab-4b37-a975-8647c610f18f",
   "metadata": {},
   "outputs": [],
   "source": [
    "#LOAD DATA\n",
    "from dataclasses import dataclass\n",
    "import plotly.express as px\n",
    "from plotly.subplots import make_subplots\n",
    "from plotly import graph_objects as go\n",
    "import matplotlib.pyplot as plt\n",
    "from collections import Counter\n",
    "from IPython.display import display\n",
    "import plotly.figure_factory as ff\n",
    "\n",
    "from Quantapp.Universe import Universe\n",
    "plt.rcParams[\"figure.figsize\"] = (20, 7)\n",
    "\n",
    "import yfinance as yf\n",
    "import pandas as pd\n",
    "import numpy as np\n",
    "from statsmodels.tsa.stattools import coint\n",
    "from numpy_ext import rolling_apply\n",
    "\n",
    "from Quantapp.Algorithm   import Algorithm\n",
    "from Quantapp.Computation import Computation\n",
    "from Quantapp.Portfolio   import Portfolio\n",
    "from Quantapp.Plot        import Plot\n",
    "from Quantapp.DataManager import DataManager\n",
    "from Quantapp.Universe    import Universe\n",
    "\n",
    "csv_file_paths = [\n",
    "    'csv_files/Broad Market.csv',\n",
    "    'csv_files/S&P 500.csv',\n",
    "    'csv_files/Russell 1000.csv'\n",
    "]\n",
    "\n",
    "dm   = DataManager()\n",
    "universe  = Universe(file_paths = csv_file_paths)\n",
    "pm   = Portfolio(universe = universe)\n",
    "comp = Computation()\n",
    "plot = Plot()\n",
    "algorithm = Algorithm()\n",
    "\n",
    "tickers = pm.add_csv('csv_files/portfolio')\n",
    "\n",
    "\n",
    "pm.load(period='3y',interval='1d');\n",
    "\n",
    "\n",
    "benchmark      = dm.retrieve_ticker_data('SPY', period='3y', interval='1d')\n",
    "risk_free_rate = dm.retrieve_ticker_data('^IRX', period='3y',interval='1d').reindex_like(benchmark)\n",
    "scalar_multiplier = .7\n",
    "\n",
    "\n"
   ]
  },
  {
   "cell_type": "code",
   "execution_count": 2,
   "id": "46d6d049",
   "metadata": {},
   "outputs": [
    {
     "data": {
      "application/vnd.plotly.v1+json": {
       "config": {
        "plotlyServerURL": "https://plot.ly",
        "responsive": true
       },
       "data": [
        {
         "domain": {
          "x": [
           0,
           0.45
          ],
          "y": [
           0,
           1
          ]
         },
         "labels": [
          "Utilities",
          "0",
          "Financials",
          "Health Care",
          "Consumer Staples",
          "Communication Services",
          "Real Estate",
          "Materials",
          "Consumer Discretionary",
          "Information Technology",
          "Industrials"
         ],
         "type": "pie",
         "values": [
          0.07317073170731707,
          0.4634146341463415,
          0.024390243902439025,
          0.12195121951219512,
          0.07317073170731707,
          0.07317073170731707,
          0.024390243902439025,
          0.04878048780487805,
          0.04878048780487805,
          0.024390243902439025,
          0.024390243902439025
         ]
        },
        {
         "domain": {
          "x": [
           0.55,
           1
          ],
          "y": [
           0,
           1
          ]
         },
         "labels": [
          "0",
          "Communication Services",
          "Consumer Discretionary",
          "Consumer Staples",
          "Financials",
          "Health Care",
          "Industrials",
          "Information Technology",
          "Materials",
          "Real Estate",
          "Utilities"
         ],
         "type": "pie",
         "values": [
          51.284584980237156,
          4.841897233201581,
          3.1620553359683794,
          5.632411067193676,
          0,
          19.76284584980237,
          3.0632411067193677,
          6.620553359683795,
          0.9881422924901186,
          1.0869565217391306,
          3.5573122529644268
         ]
        }
       ],
       "layout": {
        "annotations": [
         {
          "font": {
           "size": 16
          },
          "showarrow": false,
          "text": "Diversity Exposure by Sector",
          "x": 0.225,
          "xanchor": "center",
          "xref": "paper",
          "y": 1,
          "yanchor": "bottom",
          "yref": "paper"
         },
         {
          "font": {
           "size": 16
          },
          "showarrow": false,
          "text": "Buying Exposure Percentage by Sector",
          "x": 0.775,
          "xanchor": "center",
          "xref": "paper",
          "y": 1,
          "yanchor": "bottom",
          "yref": "paper"
         }
        ],
        "autosize": true,
        "template": {
         "data": {
          "bar": [
           {
            "error_x": {
             "color": "#2a3f5f"
            },
            "error_y": {
             "color": "#2a3f5f"
            },
            "marker": {
             "line": {
              "color": "#E5ECF6",
              "width": 0.5
             },
             "pattern": {
              "fillmode": "overlay",
              "size": 10,
              "solidity": 0.2
             }
            },
            "type": "bar"
           }
          ],
          "barpolar": [
           {
            "marker": {
             "line": {
              "color": "#E5ECF6",
              "width": 0.5
             },
             "pattern": {
              "fillmode": "overlay",
              "size": 10,
              "solidity": 0.2
             }
            },
            "type": "barpolar"
           }
          ],
          "carpet": [
           {
            "aaxis": {
             "endlinecolor": "#2a3f5f",
             "gridcolor": "white",
             "linecolor": "white",
             "minorgridcolor": "white",
             "startlinecolor": "#2a3f5f"
            },
            "baxis": {
             "endlinecolor": "#2a3f5f",
             "gridcolor": "white",
             "linecolor": "white",
             "minorgridcolor": "white",
             "startlinecolor": "#2a3f5f"
            },
            "type": "carpet"
           }
          ],
          "choropleth": [
           {
            "colorbar": {
             "outlinewidth": 0,
             "ticks": ""
            },
            "type": "choropleth"
           }
          ],
          "contour": [
           {
            "colorbar": {
             "outlinewidth": 0,
             "ticks": ""
            },
            "colorscale": [
             [
              0,
              "#0d0887"
             ],
             [
              0.1111111111111111,
              "#46039f"
             ],
             [
              0.2222222222222222,
              "#7201a8"
             ],
             [
              0.3333333333333333,
              "#9c179e"
             ],
             [
              0.4444444444444444,
              "#bd3786"
             ],
             [
              0.5555555555555556,
              "#d8576b"
             ],
             [
              0.6666666666666666,
              "#ed7953"
             ],
             [
              0.7777777777777778,
              "#fb9f3a"
             ],
             [
              0.8888888888888888,
              "#fdca26"
             ],
             [
              1,
              "#f0f921"
             ]
            ],
            "type": "contour"
           }
          ],
          "contourcarpet": [
           {
            "colorbar": {
             "outlinewidth": 0,
             "ticks": ""
            },
            "type": "contourcarpet"
           }
          ],
          "heatmap": [
           {
            "colorbar": {
             "outlinewidth": 0,
             "ticks": ""
            },
            "colorscale": [
             [
              0,
              "#0d0887"
             ],
             [
              0.1111111111111111,
              "#46039f"
             ],
             [
              0.2222222222222222,
              "#7201a8"
             ],
             [
              0.3333333333333333,
              "#9c179e"
             ],
             [
              0.4444444444444444,
              "#bd3786"
             ],
             [
              0.5555555555555556,
              "#d8576b"
             ],
             [
              0.6666666666666666,
              "#ed7953"
             ],
             [
              0.7777777777777778,
              "#fb9f3a"
             ],
             [
              0.8888888888888888,
              "#fdca26"
             ],
             [
              1,
              "#f0f921"
             ]
            ],
            "type": "heatmap"
           }
          ],
          "heatmapgl": [
           {
            "colorbar": {
             "outlinewidth": 0,
             "ticks": ""
            },
            "colorscale": [
             [
              0,
              "#0d0887"
             ],
             [
              0.1111111111111111,
              "#46039f"
             ],
             [
              0.2222222222222222,
              "#7201a8"
             ],
             [
              0.3333333333333333,
              "#9c179e"
             ],
             [
              0.4444444444444444,
              "#bd3786"
             ],
             [
              0.5555555555555556,
              "#d8576b"
             ],
             [
              0.6666666666666666,
              "#ed7953"
             ],
             [
              0.7777777777777778,
              "#fb9f3a"
             ],
             [
              0.8888888888888888,
              "#fdca26"
             ],
             [
              1,
              "#f0f921"
             ]
            ],
            "type": "heatmapgl"
           }
          ],
          "histogram": [
           {
            "marker": {
             "pattern": {
              "fillmode": "overlay",
              "size": 10,
              "solidity": 0.2
             }
            },
            "type": "histogram"
           }
          ],
          "histogram2d": [
           {
            "colorbar": {
             "outlinewidth": 0,
             "ticks": ""
            },
            "colorscale": [
             [
              0,
              "#0d0887"
             ],
             [
              0.1111111111111111,
              "#46039f"
             ],
             [
              0.2222222222222222,
              "#7201a8"
             ],
             [
              0.3333333333333333,
              "#9c179e"
             ],
             [
              0.4444444444444444,
              "#bd3786"
             ],
             [
              0.5555555555555556,
              "#d8576b"
             ],
             [
              0.6666666666666666,
              "#ed7953"
             ],
             [
              0.7777777777777778,
              "#fb9f3a"
             ],
             [
              0.8888888888888888,
              "#fdca26"
             ],
             [
              1,
              "#f0f921"
             ]
            ],
            "type": "histogram2d"
           }
          ],
          "histogram2dcontour": [
           {
            "colorbar": {
             "outlinewidth": 0,
             "ticks": ""
            },
            "colorscale": [
             [
              0,
              "#0d0887"
             ],
             [
              0.1111111111111111,
              "#46039f"
             ],
             [
              0.2222222222222222,
              "#7201a8"
             ],
             [
              0.3333333333333333,
              "#9c179e"
             ],
             [
              0.4444444444444444,
              "#bd3786"
             ],
             [
              0.5555555555555556,
              "#d8576b"
             ],
             [
              0.6666666666666666,
              "#ed7953"
             ],
             [
              0.7777777777777778,
              "#fb9f3a"
             ],
             [
              0.8888888888888888,
              "#fdca26"
             ],
             [
              1,
              "#f0f921"
             ]
            ],
            "type": "histogram2dcontour"
           }
          ],
          "mesh3d": [
           {
            "colorbar": {
             "outlinewidth": 0,
             "ticks": ""
            },
            "type": "mesh3d"
           }
          ],
          "parcoords": [
           {
            "line": {
             "colorbar": {
              "outlinewidth": 0,
              "ticks": ""
             }
            },
            "type": "parcoords"
           }
          ],
          "pie": [
           {
            "automargin": true,
            "type": "pie"
           }
          ],
          "scatter": [
           {
            "marker": {
             "colorbar": {
              "outlinewidth": 0,
              "ticks": ""
             }
            },
            "type": "scatter"
           }
          ],
          "scatter3d": [
           {
            "line": {
             "colorbar": {
              "outlinewidth": 0,
              "ticks": ""
             }
            },
            "marker": {
             "colorbar": {
              "outlinewidth": 0,
              "ticks": ""
             }
            },
            "type": "scatter3d"
           }
          ],
          "scattercarpet": [
           {
            "marker": {
             "colorbar": {
              "outlinewidth": 0,
              "ticks": ""
             }
            },
            "type": "scattercarpet"
           }
          ],
          "scattergeo": [
           {
            "marker": {
             "colorbar": {
              "outlinewidth": 0,
              "ticks": ""
             }
            },
            "type": "scattergeo"
           }
          ],
          "scattergl": [
           {
            "marker": {
             "colorbar": {
              "outlinewidth": 0,
              "ticks": ""
             }
            },
            "type": "scattergl"
           }
          ],
          "scattermapbox": [
           {
            "marker": {
             "colorbar": {
              "outlinewidth": 0,
              "ticks": ""
             }
            },
            "type": "scattermapbox"
           }
          ],
          "scatterpolar": [
           {
            "marker": {
             "colorbar": {
              "outlinewidth": 0,
              "ticks": ""
             }
            },
            "type": "scatterpolar"
           }
          ],
          "scatterpolargl": [
           {
            "marker": {
             "colorbar": {
              "outlinewidth": 0,
              "ticks": ""
             }
            },
            "type": "scatterpolargl"
           }
          ],
          "scatterternary": [
           {
            "marker": {
             "colorbar": {
              "outlinewidth": 0,
              "ticks": ""
             }
            },
            "type": "scatterternary"
           }
          ],
          "surface": [
           {
            "colorbar": {
             "outlinewidth": 0,
             "ticks": ""
            },
            "colorscale": [
             [
              0,
              "#0d0887"
             ],
             [
              0.1111111111111111,
              "#46039f"
             ],
             [
              0.2222222222222222,
              "#7201a8"
             ],
             [
              0.3333333333333333,
              "#9c179e"
             ],
             [
              0.4444444444444444,
              "#bd3786"
             ],
             [
              0.5555555555555556,
              "#d8576b"
             ],
             [
              0.6666666666666666,
              "#ed7953"
             ],
             [
              0.7777777777777778,
              "#fb9f3a"
             ],
             [
              0.8888888888888888,
              "#fdca26"
             ],
             [
              1,
              "#f0f921"
             ]
            ],
            "type": "surface"
           }
          ],
          "table": [
           {
            "cells": {
             "fill": {
              "color": "#EBF0F8"
             },
             "line": {
              "color": "white"
             }
            },
            "header": {
             "fill": {
              "color": "#C8D4E3"
             },
             "line": {
              "color": "white"
             }
            },
            "type": "table"
           }
          ]
         },
         "layout": {
          "annotationdefaults": {
           "arrowcolor": "#2a3f5f",
           "arrowhead": 0,
           "arrowwidth": 1
          },
          "autotypenumbers": "strict",
          "coloraxis": {
           "colorbar": {
            "outlinewidth": 0,
            "ticks": ""
           }
          },
          "colorscale": {
           "diverging": [
            [
             0,
             "#8e0152"
            ],
            [
             0.1,
             "#c51b7d"
            ],
            [
             0.2,
             "#de77ae"
            ],
            [
             0.3,
             "#f1b6da"
            ],
            [
             0.4,
             "#fde0ef"
            ],
            [
             0.5,
             "#f7f7f7"
            ],
            [
             0.6,
             "#e6f5d0"
            ],
            [
             0.7,
             "#b8e186"
            ],
            [
             0.8,
             "#7fbc41"
            ],
            [
             0.9,
             "#4d9221"
            ],
            [
             1,
             "#276419"
            ]
           ],
           "sequential": [
            [
             0,
             "#0d0887"
            ],
            [
             0.1111111111111111,
             "#46039f"
            ],
            [
             0.2222222222222222,
             "#7201a8"
            ],
            [
             0.3333333333333333,
             "#9c179e"
            ],
            [
             0.4444444444444444,
             "#bd3786"
            ],
            [
             0.5555555555555556,
             "#d8576b"
            ],
            [
             0.6666666666666666,
             "#ed7953"
            ],
            [
             0.7777777777777778,
             "#fb9f3a"
            ],
            [
             0.8888888888888888,
             "#fdca26"
            ],
            [
             1,
             "#f0f921"
            ]
           ],
           "sequentialminus": [
            [
             0,
             "#0d0887"
            ],
            [
             0.1111111111111111,
             "#46039f"
            ],
            [
             0.2222222222222222,
             "#7201a8"
            ],
            [
             0.3333333333333333,
             "#9c179e"
            ],
            [
             0.4444444444444444,
             "#bd3786"
            ],
            [
             0.5555555555555556,
             "#d8576b"
            ],
            [
             0.6666666666666666,
             "#ed7953"
            ],
            [
             0.7777777777777778,
             "#fb9f3a"
            ],
            [
             0.8888888888888888,
             "#fdca26"
            ],
            [
             1,
             "#f0f921"
            ]
           ]
          },
          "colorway": [
           "#636efa",
           "#EF553B",
           "#00cc96",
           "#ab63fa",
           "#FFA15A",
           "#19d3f3",
           "#FF6692",
           "#B6E880",
           "#FF97FF",
           "#FECB52"
          ],
          "font": {
           "color": "#2a3f5f"
          },
          "geo": {
           "bgcolor": "white",
           "lakecolor": "white",
           "landcolor": "#E5ECF6",
           "showlakes": true,
           "showland": true,
           "subunitcolor": "white"
          },
          "hoverlabel": {
           "align": "left"
          },
          "hovermode": "closest",
          "mapbox": {
           "style": "light"
          },
          "paper_bgcolor": "white",
          "plot_bgcolor": "#E5ECF6",
          "polar": {
           "angularaxis": {
            "gridcolor": "white",
            "linecolor": "white",
            "ticks": ""
           },
           "bgcolor": "#E5ECF6",
           "radialaxis": {
            "gridcolor": "white",
            "linecolor": "white",
            "ticks": ""
           }
          },
          "scene": {
           "xaxis": {
            "backgroundcolor": "#E5ECF6",
            "gridcolor": "white",
            "gridwidth": 2,
            "linecolor": "white",
            "showbackground": true,
            "ticks": "",
            "zerolinecolor": "white"
           },
           "yaxis": {
            "backgroundcolor": "#E5ECF6",
            "gridcolor": "white",
            "gridwidth": 2,
            "linecolor": "white",
            "showbackground": true,
            "ticks": "",
            "zerolinecolor": "white"
           },
           "zaxis": {
            "backgroundcolor": "#E5ECF6",
            "gridcolor": "white",
            "gridwidth": 2,
            "linecolor": "white",
            "showbackground": true,
            "ticks": "",
            "zerolinecolor": "white"
           }
          },
          "shapedefaults": {
           "line": {
            "color": "#2a3f5f"
           }
          },
          "ternary": {
           "aaxis": {
            "gridcolor": "white",
            "linecolor": "white",
            "ticks": ""
           },
           "baxis": {
            "gridcolor": "white",
            "linecolor": "white",
            "ticks": ""
           },
           "bgcolor": "#E5ECF6",
           "caxis": {
            "gridcolor": "white",
            "linecolor": "white",
            "ticks": ""
           }
          },
          "title": {
           "x": 0.05
          },
          "xaxis": {
           "automargin": true,
           "gridcolor": "white",
           "linecolor": "white",
           "ticks": "",
           "title": {
            "standoff": 15
           },
           "zerolinecolor": "white",
           "zerolinewidth": 2
          },
          "yaxis": {
           "automargin": true,
           "gridcolor": "white",
           "linecolor": "white",
           "ticks": "",
           "title": {
            "standoff": 15
           },
           "zerolinecolor": "white",
           "zerolinewidth": 2
          }
         }
        },
        "title": {
         "text": "Exposure"
        }
       }
      }
     },
     "metadata": {},
     "output_type": "display_data"
    },
    {
     "data": {
      "application/vnd.plotly.v1+json": {
       "config": {
        "plotlyServerURL": "https://plot.ly",
        "responsive": true
       },
       "data": [
        {
         "alignmentgroup": "True",
         "hovertemplate": "variable=Theta<br>Sector=%{x}<br>value=%{y}<extra></extra>",
         "legendgroup": "Theta",
         "marker": {
          "color": "red",
          "pattern": {
           "shape": ""
          }
         },
         "name": "Theta",
         "offsetgroup": "Theta",
         "orientation": "v",
         "showlegend": true,
         "textposition": "auto",
         "type": "bar",
         "x": [
          "0",
          "Communication Services",
          "Consumer Discretionary",
          "Consumer Staples",
          "Financials",
          "Health Care",
          "Industrials",
          "Information Technology",
          "Materials",
          "Real Estate",
          "Utilities"
         ],
         "xaxis": "x",
         "y": [
          5.798999999999997,
          1.291,
          0.24399999999999888,
          3.721,
          -0.009000000000000008,
          7.425999999999995,
          2.447,
          2.346,
          0.15900000000000025,
          -2.203999999999999,
          2.783
         ],
         "yaxis": "y"
        },
        {
         "alignmentgroup": "True",
         "hovertemplate": "variable=Delta<br>Sector=%{x}<br>value=%{y}<extra></extra>",
         "legendgroup": "Delta",
         "marker": {
          "color": "blue",
          "pattern": {
           "shape": ""
          }
         },
         "name": "Delta",
         "offsetgroup": "Delta",
         "orientation": "v",
         "showlegend": true,
         "textposition": "auto",
         "type": "bar",
         "x": [
          "0",
          "Communication Services",
          "Consumer Discretionary",
          "Consumer Staples",
          "Financials",
          "Health Care",
          "Industrials",
          "Information Technology",
          "Materials",
          "Real Estate",
          "Utilities"
         ],
         "xaxis": "x2",
         "y": [
          -255.98999999999995,
          -7.520000000000003,
          -0.770000000000012,
          -12.880000000000003,
          0.4200000000000017,
          -27.26999999999999,
          -17.15,
          -6.670000000000002,
          -17.59,
          12.669999999999987,
          -33.99999999999999
         ],
         "yaxis": "y2"
        },
        {
         "alignmentgroup": "True",
         "hovertemplate": "variable=Gamma<br>Sector=%{x}<br>value=%{y}<extra></extra>",
         "legendgroup": "Gamma",
         "marker": {
          "color": "green",
          "pattern": {
           "shape": ""
          }
         },
         "name": "Gamma",
         "offsetgroup": "Gamma",
         "orientation": "v",
         "showlegend": true,
         "textposition": "auto",
         "type": "bar",
         "x": [
          "0",
          "Communication Services",
          "Consumer Discretionary",
          "Consumer Staples",
          "Financials",
          "Health Care",
          "Industrials",
          "Information Technology",
          "Materials",
          "Real Estate",
          "Utilities"
         ],
         "xaxis": "x3",
         "y": [
          36.530000000000015,
          -0.8799999999999997,
          0.8600000000000005,
          -3.8000000000000003,
          0.5,
          -2.56,
          -1.62,
          -0.18999999999999995,
          0.7500000000000007,
          0.46999999999999975,
          -4.65
         ],
         "yaxis": "y3"
        },
        {
         "alignmentgroup": "True",
         "hovertemplate": "variable=Vega<br>Sector=%{x}<br>value=%{y}<extra></extra>",
         "legendgroup": "Vega",
         "marker": {
          "color": "orange",
          "pattern": {
           "shape": ""
          }
         },
         "name": "Vega",
         "offsetgroup": "Vega",
         "orientation": "v",
         "showlegend": true,
         "textposition": "auto",
         "type": "bar",
         "x": [
          "0",
          "Communication Services",
          "Consumer Discretionary",
          "Consumer Staples",
          "Financials",
          "Health Care",
          "Industrials",
          "Information Technology",
          "Materials",
          "Real Estate",
          "Utilities"
         ],
         "xaxis": "x4",
         "y": [
          -45.22,
          -5.729999999999999,
          -6.489999999999998,
          -13.22,
          0.06999999999999995,
          -21.300000000000008,
          -6.78,
          -9.979999999999997,
          0.07000000000000049,
          3.49,
          -5.99
         ],
         "yaxis": "y4"
        },
        {
         "alignmentgroup": "True",
         "hovertemplate": "variable=Theta<br>Sector=%{x}<br>value=%{y}<extra></extra>",
         "legendgroup": "Theta",
         "marker": {
          "color": "red",
          "pattern": {
           "shape": ""
          }
         },
         "name": "Theta",
         "offsetgroup": "Theta",
         "orientation": "v",
         "showlegend": true,
         "textposition": "auto",
         "type": "bar",
         "x": [
          "0",
          "Communication Services",
          "Consumer Discretionary",
          "Consumer Staples",
          "Financials",
          "Health Care",
          "Industrials",
          "Information Technology",
          "Materials",
          "Real Estate",
          "Utilities"
         ],
         "xaxis": "x",
         "y": [
          5.798999999999997,
          1.291,
          0.24399999999999888,
          3.721,
          -0.009000000000000008,
          7.425999999999995,
          2.447,
          2.346,
          0.15900000000000025,
          -2.203999999999999,
          2.783
         ],
         "yaxis": "y"
        },
        {
         "alignmentgroup": "True",
         "hovertemplate": "variable=Delta<br>Sector=%{x}<br>value=%{y}<extra></extra>",
         "legendgroup": "Delta",
         "marker": {
          "color": "blue",
          "pattern": {
           "shape": ""
          }
         },
         "name": "Delta",
         "offsetgroup": "Delta",
         "orientation": "v",
         "showlegend": true,
         "textposition": "auto",
         "type": "bar",
         "x": [
          "0",
          "Communication Services",
          "Consumer Discretionary",
          "Consumer Staples",
          "Financials",
          "Health Care",
          "Industrials",
          "Information Technology",
          "Materials",
          "Real Estate",
          "Utilities"
         ],
         "xaxis": "x2",
         "y": [
          -255.98999999999995,
          -7.520000000000003,
          -0.770000000000012,
          -12.880000000000003,
          0.4200000000000017,
          -27.26999999999999,
          -17.15,
          -6.670000000000002,
          -17.59,
          12.669999999999987,
          -33.99999999999999
         ],
         "yaxis": "y2"
        },
        {
         "alignmentgroup": "True",
         "hovertemplate": "variable=Gamma<br>Sector=%{x}<br>value=%{y}<extra></extra>",
         "legendgroup": "Gamma",
         "marker": {
          "color": "green",
          "pattern": {
           "shape": ""
          }
         },
         "name": "Gamma",
         "offsetgroup": "Gamma",
         "orientation": "v",
         "showlegend": true,
         "textposition": "auto",
         "type": "bar",
         "x": [
          "0",
          "Communication Services",
          "Consumer Discretionary",
          "Consumer Staples",
          "Financials",
          "Health Care",
          "Industrials",
          "Information Technology",
          "Materials",
          "Real Estate",
          "Utilities"
         ],
         "xaxis": "x3",
         "y": [
          36.530000000000015,
          -0.8799999999999997,
          0.8600000000000005,
          -3.8000000000000003,
          0.5,
          -2.56,
          -1.62,
          -0.18999999999999995,
          0.7500000000000007,
          0.46999999999999975,
          -4.65
         ],
         "yaxis": "y3"
        },
        {
         "alignmentgroup": "True",
         "hovertemplate": "variable=Vega<br>Sector=%{x}<br>value=%{y}<extra></extra>",
         "legendgroup": "Vega",
         "marker": {
          "color": "orange",
          "pattern": {
           "shape": ""
          }
         },
         "name": "Vega",
         "offsetgroup": "Vega",
         "orientation": "v",
         "showlegend": true,
         "textposition": "auto",
         "type": "bar",
         "x": [
          "0",
          "Communication Services",
          "Consumer Discretionary",
          "Consumer Staples",
          "Financials",
          "Health Care",
          "Industrials",
          "Information Technology",
          "Materials",
          "Real Estate",
          "Utilities"
         ],
         "xaxis": "x4",
         "y": [
          -45.22,
          -5.729999999999999,
          -6.489999999999998,
          -13.22,
          0.06999999999999995,
          -21.300000000000008,
          -6.78,
          -9.979999999999997,
          0.07000000000000049,
          3.49,
          -5.99
         ],
         "yaxis": "y4"
        }
       ],
       "layout": {
        "annotations": [
         {
          "font": {
           "size": 16
          },
          "showarrow": false,
          "text": "Sector Theta",
          "x": 0.225,
          "xanchor": "center",
          "xref": "paper",
          "y": 1,
          "yanchor": "bottom",
          "yref": "paper"
         },
         {
          "font": {
           "size": 16
          },
          "showarrow": false,
          "text": "Sector Delta",
          "x": 0.775,
          "xanchor": "center",
          "xref": "paper",
          "y": 1,
          "yanchor": "bottom",
          "yref": "paper"
         },
         {
          "font": {
           "size": 16
          },
          "showarrow": false,
          "text": "Sector Gamma",
          "x": 0.225,
          "xanchor": "center",
          "xref": "paper",
          "y": 0.375,
          "yanchor": "bottom",
          "yref": "paper"
         },
         {
          "font": {
           "size": 16
          },
          "showarrow": false,
          "text": " Sector Vega",
          "x": 0.775,
          "xanchor": "center",
          "xref": "paper",
          "y": 0.375,
          "yanchor": "bottom",
          "yref": "paper"
         }
        ],
        "autosize": true,
        "height": 800,
        "shapes": [
         {
          "line": {
           "color": "#000000",
           "dash": "dash",
           "width": 1
          },
          "type": "line",
          "x0": 0,
          "x1": 1,
          "xref": "x domain",
          "y0": 2.1820909090909084,
          "y1": 2.1820909090909084,
          "yref": "y"
         },
         {
          "line": {
           "color": "#000000",
           "dash": "dash",
           "width": 1
          },
          "type": "line",
          "x0": 0,
          "x1": 1,
          "xref": "x2 domain",
          "y0": -33.34090909090908,
          "y1": -33.34090909090908,
          "yref": "y2"
         },
         {
          "line": {
           "color": "#000000",
           "dash": "dash",
           "width": 1
          },
          "type": "line",
          "x0": 0,
          "x1": 1,
          "xref": "x3 domain",
          "y0": 2.310000000000001,
          "y1": 2.310000000000001,
          "yref": "y3"
         },
         {
          "line": {
           "color": "#000000",
           "dash": "dash",
           "width": 1
          },
          "type": "line",
          "x0": 0,
          "x1": 1,
          "xref": "x4 domain",
          "y0": -10.098181818181818,
          "y1": -10.098181818181818,
          "yref": "y4"
         }
        ],
        "template": {
         "data": {
          "bar": [
           {
            "error_x": {
             "color": "#2a3f5f"
            },
            "error_y": {
             "color": "#2a3f5f"
            },
            "marker": {
             "line": {
              "color": "#E5ECF6",
              "width": 0.5
             },
             "pattern": {
              "fillmode": "overlay",
              "size": 10,
              "solidity": 0.2
             }
            },
            "type": "bar"
           }
          ],
          "barpolar": [
           {
            "marker": {
             "line": {
              "color": "#E5ECF6",
              "width": 0.5
             },
             "pattern": {
              "fillmode": "overlay",
              "size": 10,
              "solidity": 0.2
             }
            },
            "type": "barpolar"
           }
          ],
          "carpet": [
           {
            "aaxis": {
             "endlinecolor": "#2a3f5f",
             "gridcolor": "white",
             "linecolor": "white",
             "minorgridcolor": "white",
             "startlinecolor": "#2a3f5f"
            },
            "baxis": {
             "endlinecolor": "#2a3f5f",
             "gridcolor": "white",
             "linecolor": "white",
             "minorgridcolor": "white",
             "startlinecolor": "#2a3f5f"
            },
            "type": "carpet"
           }
          ],
          "choropleth": [
           {
            "colorbar": {
             "outlinewidth": 0,
             "ticks": ""
            },
            "type": "choropleth"
           }
          ],
          "contour": [
           {
            "colorbar": {
             "outlinewidth": 0,
             "ticks": ""
            },
            "colorscale": [
             [
              0,
              "#0d0887"
             ],
             [
              0.1111111111111111,
              "#46039f"
             ],
             [
              0.2222222222222222,
              "#7201a8"
             ],
             [
              0.3333333333333333,
              "#9c179e"
             ],
             [
              0.4444444444444444,
              "#bd3786"
             ],
             [
              0.5555555555555556,
              "#d8576b"
             ],
             [
              0.6666666666666666,
              "#ed7953"
             ],
             [
              0.7777777777777778,
              "#fb9f3a"
             ],
             [
              0.8888888888888888,
              "#fdca26"
             ],
             [
              1,
              "#f0f921"
             ]
            ],
            "type": "contour"
           }
          ],
          "contourcarpet": [
           {
            "colorbar": {
             "outlinewidth": 0,
             "ticks": ""
            },
            "type": "contourcarpet"
           }
          ],
          "heatmap": [
           {
            "colorbar": {
             "outlinewidth": 0,
             "ticks": ""
            },
            "colorscale": [
             [
              0,
              "#0d0887"
             ],
             [
              0.1111111111111111,
              "#46039f"
             ],
             [
              0.2222222222222222,
              "#7201a8"
             ],
             [
              0.3333333333333333,
              "#9c179e"
             ],
             [
              0.4444444444444444,
              "#bd3786"
             ],
             [
              0.5555555555555556,
              "#d8576b"
             ],
             [
              0.6666666666666666,
              "#ed7953"
             ],
             [
              0.7777777777777778,
              "#fb9f3a"
             ],
             [
              0.8888888888888888,
              "#fdca26"
             ],
             [
              1,
              "#f0f921"
             ]
            ],
            "type": "heatmap"
           }
          ],
          "heatmapgl": [
           {
            "colorbar": {
             "outlinewidth": 0,
             "ticks": ""
            },
            "colorscale": [
             [
              0,
              "#0d0887"
             ],
             [
              0.1111111111111111,
              "#46039f"
             ],
             [
              0.2222222222222222,
              "#7201a8"
             ],
             [
              0.3333333333333333,
              "#9c179e"
             ],
             [
              0.4444444444444444,
              "#bd3786"
             ],
             [
              0.5555555555555556,
              "#d8576b"
             ],
             [
              0.6666666666666666,
              "#ed7953"
             ],
             [
              0.7777777777777778,
              "#fb9f3a"
             ],
             [
              0.8888888888888888,
              "#fdca26"
             ],
             [
              1,
              "#f0f921"
             ]
            ],
            "type": "heatmapgl"
           }
          ],
          "histogram": [
           {
            "marker": {
             "pattern": {
              "fillmode": "overlay",
              "size": 10,
              "solidity": 0.2
             }
            },
            "type": "histogram"
           }
          ],
          "histogram2d": [
           {
            "colorbar": {
             "outlinewidth": 0,
             "ticks": ""
            },
            "colorscale": [
             [
              0,
              "#0d0887"
             ],
             [
              0.1111111111111111,
              "#46039f"
             ],
             [
              0.2222222222222222,
              "#7201a8"
             ],
             [
              0.3333333333333333,
              "#9c179e"
             ],
             [
              0.4444444444444444,
              "#bd3786"
             ],
             [
              0.5555555555555556,
              "#d8576b"
             ],
             [
              0.6666666666666666,
              "#ed7953"
             ],
             [
              0.7777777777777778,
              "#fb9f3a"
             ],
             [
              0.8888888888888888,
              "#fdca26"
             ],
             [
              1,
              "#f0f921"
             ]
            ],
            "type": "histogram2d"
           }
          ],
          "histogram2dcontour": [
           {
            "colorbar": {
             "outlinewidth": 0,
             "ticks": ""
            },
            "colorscale": [
             [
              0,
              "#0d0887"
             ],
             [
              0.1111111111111111,
              "#46039f"
             ],
             [
              0.2222222222222222,
              "#7201a8"
             ],
             [
              0.3333333333333333,
              "#9c179e"
             ],
             [
              0.4444444444444444,
              "#bd3786"
             ],
             [
              0.5555555555555556,
              "#d8576b"
             ],
             [
              0.6666666666666666,
              "#ed7953"
             ],
             [
              0.7777777777777778,
              "#fb9f3a"
             ],
             [
              0.8888888888888888,
              "#fdca26"
             ],
             [
              1,
              "#f0f921"
             ]
            ],
            "type": "histogram2dcontour"
           }
          ],
          "mesh3d": [
           {
            "colorbar": {
             "outlinewidth": 0,
             "ticks": ""
            },
            "type": "mesh3d"
           }
          ],
          "parcoords": [
           {
            "line": {
             "colorbar": {
              "outlinewidth": 0,
              "ticks": ""
             }
            },
            "type": "parcoords"
           }
          ],
          "pie": [
           {
            "automargin": true,
            "type": "pie"
           }
          ],
          "scatter": [
           {
            "marker": {
             "colorbar": {
              "outlinewidth": 0,
              "ticks": ""
             }
            },
            "type": "scatter"
           }
          ],
          "scatter3d": [
           {
            "line": {
             "colorbar": {
              "outlinewidth": 0,
              "ticks": ""
             }
            },
            "marker": {
             "colorbar": {
              "outlinewidth": 0,
              "ticks": ""
             }
            },
            "type": "scatter3d"
           }
          ],
          "scattercarpet": [
           {
            "marker": {
             "colorbar": {
              "outlinewidth": 0,
              "ticks": ""
             }
            },
            "type": "scattercarpet"
           }
          ],
          "scattergeo": [
           {
            "marker": {
             "colorbar": {
              "outlinewidth": 0,
              "ticks": ""
             }
            },
            "type": "scattergeo"
           }
          ],
          "scattergl": [
           {
            "marker": {
             "colorbar": {
              "outlinewidth": 0,
              "ticks": ""
             }
            },
            "type": "scattergl"
           }
          ],
          "scattermapbox": [
           {
            "marker": {
             "colorbar": {
              "outlinewidth": 0,
              "ticks": ""
             }
            },
            "type": "scattermapbox"
           }
          ],
          "scatterpolar": [
           {
            "marker": {
             "colorbar": {
              "outlinewidth": 0,
              "ticks": ""
             }
            },
            "type": "scatterpolar"
           }
          ],
          "scatterpolargl": [
           {
            "marker": {
             "colorbar": {
              "outlinewidth": 0,
              "ticks": ""
             }
            },
            "type": "scatterpolargl"
           }
          ],
          "scatterternary": [
           {
            "marker": {
             "colorbar": {
              "outlinewidth": 0,
              "ticks": ""
             }
            },
            "type": "scatterternary"
           }
          ],
          "surface": [
           {
            "colorbar": {
             "outlinewidth": 0,
             "ticks": ""
            },
            "colorscale": [
             [
              0,
              "#0d0887"
             ],
             [
              0.1111111111111111,
              "#46039f"
             ],
             [
              0.2222222222222222,
              "#7201a8"
             ],
             [
              0.3333333333333333,
              "#9c179e"
             ],
             [
              0.4444444444444444,
              "#bd3786"
             ],
             [
              0.5555555555555556,
              "#d8576b"
             ],
             [
              0.6666666666666666,
              "#ed7953"
             ],
             [
              0.7777777777777778,
              "#fb9f3a"
             ],
             [
              0.8888888888888888,
              "#fdca26"
             ],
             [
              1,
              "#f0f921"
             ]
            ],
            "type": "surface"
           }
          ],
          "table": [
           {
            "cells": {
             "fill": {
              "color": "#EBF0F8"
             },
             "line": {
              "color": "white"
             }
            },
            "header": {
             "fill": {
              "color": "#C8D4E3"
             },
             "line": {
              "color": "white"
             }
            },
            "type": "table"
           }
          ]
         },
         "layout": {
          "annotationdefaults": {
           "arrowcolor": "#2a3f5f",
           "arrowhead": 0,
           "arrowwidth": 1
          },
          "autotypenumbers": "strict",
          "coloraxis": {
           "colorbar": {
            "outlinewidth": 0,
            "ticks": ""
           }
          },
          "colorscale": {
           "diverging": [
            [
             0,
             "#8e0152"
            ],
            [
             0.1,
             "#c51b7d"
            ],
            [
             0.2,
             "#de77ae"
            ],
            [
             0.3,
             "#f1b6da"
            ],
            [
             0.4,
             "#fde0ef"
            ],
            [
             0.5,
             "#f7f7f7"
            ],
            [
             0.6,
             "#e6f5d0"
            ],
            [
             0.7,
             "#b8e186"
            ],
            [
             0.8,
             "#7fbc41"
            ],
            [
             0.9,
             "#4d9221"
            ],
            [
             1,
             "#276419"
            ]
           ],
           "sequential": [
            [
             0,
             "#0d0887"
            ],
            [
             0.1111111111111111,
             "#46039f"
            ],
            [
             0.2222222222222222,
             "#7201a8"
            ],
            [
             0.3333333333333333,
             "#9c179e"
            ],
            [
             0.4444444444444444,
             "#bd3786"
            ],
            [
             0.5555555555555556,
             "#d8576b"
            ],
            [
             0.6666666666666666,
             "#ed7953"
            ],
            [
             0.7777777777777778,
             "#fb9f3a"
            ],
            [
             0.8888888888888888,
             "#fdca26"
            ],
            [
             1,
             "#f0f921"
            ]
           ],
           "sequentialminus": [
            [
             0,
             "#0d0887"
            ],
            [
             0.1111111111111111,
             "#46039f"
            ],
            [
             0.2222222222222222,
             "#7201a8"
            ],
            [
             0.3333333333333333,
             "#9c179e"
            ],
            [
             0.4444444444444444,
             "#bd3786"
            ],
            [
             0.5555555555555556,
             "#d8576b"
            ],
            [
             0.6666666666666666,
             "#ed7953"
            ],
            [
             0.7777777777777778,
             "#fb9f3a"
            ],
            [
             0.8888888888888888,
             "#fdca26"
            ],
            [
             1,
             "#f0f921"
            ]
           ]
          },
          "colorway": [
           "#636efa",
           "#EF553B",
           "#00cc96",
           "#ab63fa",
           "#FFA15A",
           "#19d3f3",
           "#FF6692",
           "#B6E880",
           "#FF97FF",
           "#FECB52"
          ],
          "font": {
           "color": "#2a3f5f"
          },
          "geo": {
           "bgcolor": "white",
           "lakecolor": "white",
           "landcolor": "#E5ECF6",
           "showlakes": true,
           "showland": true,
           "subunitcolor": "white"
          },
          "hoverlabel": {
           "align": "left"
          },
          "hovermode": "closest",
          "mapbox": {
           "style": "light"
          },
          "paper_bgcolor": "white",
          "plot_bgcolor": "#E5ECF6",
          "polar": {
           "angularaxis": {
            "gridcolor": "white",
            "linecolor": "white",
            "ticks": ""
           },
           "bgcolor": "#E5ECF6",
           "radialaxis": {
            "gridcolor": "white",
            "linecolor": "white",
            "ticks": ""
           }
          },
          "scene": {
           "xaxis": {
            "backgroundcolor": "#E5ECF6",
            "gridcolor": "white",
            "gridwidth": 2,
            "linecolor": "white",
            "showbackground": true,
            "ticks": "",
            "zerolinecolor": "white"
           },
           "yaxis": {
            "backgroundcolor": "#E5ECF6",
            "gridcolor": "white",
            "gridwidth": 2,
            "linecolor": "white",
            "showbackground": true,
            "ticks": "",
            "zerolinecolor": "white"
           },
           "zaxis": {
            "backgroundcolor": "#E5ECF6",
            "gridcolor": "white",
            "gridwidth": 2,
            "linecolor": "white",
            "showbackground": true,
            "ticks": "",
            "zerolinecolor": "white"
           }
          },
          "shapedefaults": {
           "line": {
            "color": "#2a3f5f"
           }
          },
          "ternary": {
           "aaxis": {
            "gridcolor": "white",
            "linecolor": "white",
            "ticks": ""
           },
           "baxis": {
            "gridcolor": "white",
            "linecolor": "white",
            "ticks": ""
           },
           "bgcolor": "#E5ECF6",
           "caxis": {
            "gridcolor": "white",
            "linecolor": "white",
            "ticks": ""
           }
          },
          "title": {
           "x": 0.05
          },
          "xaxis": {
           "automargin": true,
           "gridcolor": "white",
           "linecolor": "white",
           "ticks": "",
           "title": {
            "standoff": 15
           },
           "zerolinecolor": "white",
           "zerolinewidth": 2
          },
          "yaxis": {
           "automargin": true,
           "gridcolor": "white",
           "linecolor": "white",
           "ticks": "",
           "title": {
            "standoff": 15
           },
           "zerolinecolor": "white",
           "zerolinewidth": 2
          }
         }
        },
        "title": {
         "text": "Sector Greeks"
        },
        "xaxis": {
         "anchor": "y",
         "domain": [
          0,
          0.45
         ]
        },
        "xaxis2": {
         "anchor": "y2",
         "domain": [
          0.55,
          1
         ]
        },
        "xaxis3": {
         "anchor": "y3",
         "domain": [
          0,
          0.45
         ]
        },
        "xaxis4": {
         "anchor": "y4",
         "domain": [
          0.55,
          1
         ]
        },
        "yaxis": {
         "anchor": "x",
         "domain": [
          0.625,
          1
         ]
        },
        "yaxis2": {
         "anchor": "x2",
         "domain": [
          0.625,
          1
         ]
        },
        "yaxis3": {
         "anchor": "x3",
         "domain": [
          0,
          0.375
         ]
        },
        "yaxis4": {
         "anchor": "x4",
         "domain": [
          0,
          0.375
         ]
        }
       }
      }
     },
     "metadata": {},
     "output_type": "display_data"
    },
    {
     "data": {
      "application/vnd.plotly.v1+json": {
       "config": {
        "plotlyServerURL": "https://plot.ly",
        "responsive": true
       },
       "data": [
        {
         "alignmentgroup": "True",
         "hovertemplate": "variable=Theta<br>Symbol=%{x}<br>value=%{y}<extra></extra>",
         "legendgroup": "Theta",
         "marker": {
          "color": "red",
          "pattern": {
           "shape": ""
          }
         },
         "name": "Theta",
         "offsetgroup": "Theta",
         "orientation": "v",
         "showlegend": true,
         "textposition": "auto",
         "type": "bar",
         "x": [
          "XLI",
          "HUM",
          "PEP",
          "WM",
          "MA",
          "XLV",
          "MRK",
          "ISRG",
          "VNQ",
          "CI",
          "MCD",
          "AEP",
          "EIX",
          "WMT",
          "TMUS",
          "XLP",
          "TAN",
          "XLC",
          "XLE",
          "XLRE",
          "TLT",
          "ARKK",
          "DIS",
          "XLB",
          "UNG",
          "SO",
          "COPX",
          "EWY",
          "IP",
          "NEM",
          "FXI",
          "CLX",
          "C",
          "META",
          "UUP",
          "SOXL",
          "ILMN",
          "KMX",
          "SPY",
          "EXR",
          "UVXY"
         ],
         "xaxis": "x",
         "y": [
          3.693999999999999,
          3.078999999999999,
          2.506,
          2.447,
          2.346,
          2.0780000000000003,
          2.0379999999999994,
          1.5749999999999984,
          1.5310000000000001,
          1.3559999999999999,
          1.2649999999999997,
          1.2609999999999997,
          1.255,
          1.2230000000000003,
          1.092,
          0.861,
          0.7019999999999997,
          0.633,
          0.5670000000000002,
          0.538,
          0.47499999999999987,
          0.39599999999999946,
          0.34299999999999997,
          0.30000000000000027,
          0.29600000000000004,
          0.26700000000000035,
          0.2629999999999999,
          0.25600000000000045,
          0.0940000000000003,
          0.06499999999999995,
          0.04299999999999993,
          -0.008000000000000007,
          -0.009000000000000008,
          -0.14400000000000013,
          -0.16600000000000004,
          -0.359,
          -0.6220000000000017,
          -1.0210000000000008,
          -1.578000000000003,
          -2.203999999999999,
          -4.731
         ],
         "yaxis": "y"
        },
        {
         "alignmentgroup": "True",
         "hovertemplate": "variable=Delta<br>Symbol=%{x}<br>value=%{y}<extra></extra>",
         "legendgroup": "Delta",
         "marker": {
          "color": "blue",
          "pattern": {
           "shape": ""
          }
         },
         "name": "Delta",
         "offsetgroup": "Delta",
         "orientation": "v",
         "showlegend": true,
         "textposition": "auto",
         "type": "bar",
         "x": [
          "ARKK",
          "SOXL",
          "SPY",
          "FXI",
          "EXR",
          "CLX",
          "ILMN",
          "XLRE",
          "KMX",
          "TLT",
          "META",
          "XLB",
          "C",
          "IP",
          "EWY",
          "TAN",
          "DIS",
          "XLE",
          "HUM",
          "CI",
          "MCD",
          "MA",
          "EIX",
          "COPX",
          "TMUS",
          "XLC",
          "ISRG",
          "WMT",
          "SO",
          "PEP",
          "AEP",
          "WM",
          "NEM",
          "MRK",
          "UNG",
          "XLP",
          "VNQ",
          "XLV",
          "XLI",
          "UUP",
          "UVXY"
         ],
         "xaxis": "x2",
         "y": [
          141.77,
          53.260000000000005,
          19.409999999999997,
          14.220000000000006,
          12.669999999999987,
          10.990000000000002,
          10.880000000000003,
          9.06,
          5.809999999999988,
          5.07,
          4.549999999999997,
          1.5199999999999996,
          0.4200000000000017,
          0.18999999999999995,
          -0.7900000000000009,
          -1.2699999999999996,
          -3.3599999999999994,
          -3.67,
          -4.370000000000001,
          -5.890000000000001,
          -6.58,
          -6.670000000000002,
          -6.739999999999998,
          -6.939999999999998,
          -8.71,
          -8.950000000000003,
          -9.539999999999994,
          -9.810000000000002,
          -12.979999999999997,
          -14.060000000000002,
          -14.28,
          -17.15,
          -17.78,
          -18.349999999999998,
          -18.520000000000003,
          -20.319999999999997,
          -21.119999999999994,
          -25.43,
          -55.43999999999998,
          -124.07999999999998,
          -213.77
         ],
         "yaxis": "y2"
        },
        {
         "alignmentgroup": "True",
         "hovertemplate": "variable=Gamma<br>Symbol=%{x}<br>value=%{y}<extra></extra>",
         "legendgroup": "Gamma",
         "marker": {
          "color": "green",
          "pattern": {
           "shape": ""
          }
         },
         "name": "Gamma",
         "offsetgroup": "Gamma",
         "orientation": "v",
         "showlegend": true,
         "textposition": "auto",
         "type": "bar",
         "x": [
          "UUP",
          "UVXY",
          "KMX",
          "SO",
          "C",
          "IP",
          "EXR",
          "NEM",
          "ISRG",
          "META",
          "ILMN",
          "HUM",
          "MA",
          "CI",
          "DIS",
          "MCD",
          "SPY",
          "CLX",
          "TMUS",
          "TLT",
          "XLE",
          "TAN",
          "XLB",
          "WMT",
          "XLC",
          "FXI",
          "AEP",
          "WM",
          "COPX",
          "EWY",
          "MRK",
          "VNQ",
          "PEP",
          "XLV",
          "SOXL",
          "XLP",
          "EIX",
          "XLI",
          "UNG",
          "XLRE",
          "ARKK"
         ],
         "xaxis": "x3",
         "y": [
          45.230000000000004,
          35.470000000000006,
          1.1400000000000006,
          0.6999999999999993,
          0.5,
          0.49,
          0.46999999999999975,
          0.2600000000000007,
          0.06999999999999987,
          -0.030000000000000027,
          -0.050000000000000044,
          -0.11000000000000004,
          -0.18999999999999995,
          -0.25,
          -0.2599999999999998,
          -0.28,
          -0.29000000000000004,
          -0.41999999999999993,
          -0.5899999999999999,
          -0.77,
          -0.8300000000000001,
          -0.9100000000000001,
          -0.9199999999999999,
          -1.0300000000000002,
          -1.1399999999999988,
          -1.459999999999999,
          -1.5999999999999996,
          -1.62,
          -1.8200000000000003,
          -1.96,
          -2.2199999999999998,
          -2.2500000000000004,
          -2.35,
          -2.7,
          -2.9999999999999982,
          -3.709999999999998,
          -3.75,
          -5.09,
          -5.17,
          -5.710000000000001,
          -6.4399999999999995
         ],
         "yaxis": "y3"
        },
        {
         "alignmentgroup": "True",
         "hovertemplate": "variable=Vega<br>Symbol=%{x}<br>value=%{y}<extra></extra>",
         "legendgroup": "Vega",
         "marker": {
          "color": "orange",
          "pattern": {
           "shape": ""
          }
         },
         "name": "Vega",
         "offsetgroup": "Vega",
         "orientation": "v",
         "showlegend": true,
         "textposition": "auto",
         "type": "bar",
         "x": [
          "EXR",
          "UVXY",
          "UUP",
          "KMX",
          "ILMN",
          "C",
          "NEM",
          "IP",
          "SO",
          "META",
          "FXI",
          "SOXL",
          "UNG",
          "COPX",
          "ISRG",
          "DIS",
          "CLX",
          "XLB",
          "SPY",
          "XLC",
          "XLE",
          "EWY",
          "XLRE",
          "TAN",
          "TLT",
          "ARKK",
          "WMT",
          "AEP",
          "EIX",
          "XLP",
          "TMUS",
          "VNQ",
          "HUM",
          "CI",
          "XLV",
          "WM",
          "MCD",
          "MRK",
          "PEP",
          "MA",
          "XLI"
         ],
         "xaxis": "x4",
         "y": [
          3.49,
          2.1900000000000004,
          1.9300000000000002,
          0.3900000000000001,
          0.09999999999999787,
          0.06999999999999995,
          0.0600000000000005,
          0.009999999999999995,
          -0.03000000000000025,
          -0.08999999999999986,
          -0.20000000000000018,
          -0.2100000000000004,
          -0.39,
          -0.56,
          -0.759999999999998,
          -0.7599999999999998,
          -0.8099999999999987,
          -0.9400000000000004,
          -1.0600000000000023,
          -1.1599999999999993,
          -1.1600000000000001,
          -1.17,
          -1.4599999999999997,
          -1.8600000000000003,
          -2.1500000000000004,
          -2.4799999999999995,
          -2.6800000000000015,
          -2.8199999999999994,
          -3.1400000000000006,
          -3.29,
          -4.879999999999999,
          -6.280000000000002,
          -6.430000000000007,
          -6.460000000000001,
          -6.76,
          -6.78,
          -6.879999999999999,
          -7.749999999999999,
          -9.73,
          -9.979999999999997,
          -18.209999999999994
         ],
         "yaxis": "y4"
        }
       ],
       "layout": {
        "annotations": [
         {
          "font": {
           "size": 16
          },
          "showarrow": false,
          "text": "Portfolio Theta",
          "x": 0.225,
          "xanchor": "center",
          "xref": "paper",
          "y": 1,
          "yanchor": "bottom",
          "yref": "paper"
         },
         {
          "font": {
           "size": 16
          },
          "showarrow": false,
          "text": "Portfolio Delta",
          "x": 0.775,
          "xanchor": "center",
          "xref": "paper",
          "y": 1,
          "yanchor": "bottom",
          "yref": "paper"
         },
         {
          "font": {
           "size": 16
          },
          "showarrow": false,
          "text": "Portfolio Gamma",
          "x": 0.225,
          "xanchor": "center",
          "xref": "paper",
          "y": 0.375,
          "yanchor": "bottom",
          "yref": "paper"
         },
         {
          "font": {
           "size": 16
          },
          "showarrow": false,
          "text": "Portfolio Vega",
          "x": 0.775,
          "xanchor": "center",
          "xref": "paper",
          "y": 0.375,
          "yanchor": "bottom",
          "yref": "paper"
         }
        ],
        "autosize": true,
        "height": 800,
        "shapes": [
         {
          "line": {
           "color": "#000000",
           "dash": "dash",
           "width": 1
          },
          "type": "line",
          "x0": 0,
          "x1": 1,
          "xref": "x domain",
          "y0": 0.5854390243902435,
          "y1": 0.5854390243902435,
          "yref": "y"
         },
         {
          "line": {
           "color": "#000000",
           "dash": "dash",
           "width": 1
          },
          "type": "line",
          "x0": 0,
          "x1": 1,
          "xref": "x2 domain",
          "y0": -8.945121951219512,
          "y1": -8.945121951219512,
          "yref": "y2"
         },
         {
          "line": {
           "color": "#000000",
           "dash": "dash",
           "width": 1
          },
          "type": "line",
          "x0": 0,
          "x1": 1,
          "xref": "x3 domain",
          "y0": 0.619756097560976,
          "y1": 0.619756097560976,
          "yref": "y3"
         },
         {
          "line": {
           "color": "#000000",
           "dash": "dash",
           "width": 1
          },
          "type": "line",
          "x0": 0,
          "x1": 1,
          "xref": "x4 domain",
          "y0": -2.7092682926829266,
          "y1": -2.7092682926829266,
          "yref": "y4"
         }
        ],
        "template": {
         "data": {
          "bar": [
           {
            "error_x": {
             "color": "#2a3f5f"
            },
            "error_y": {
             "color": "#2a3f5f"
            },
            "marker": {
             "line": {
              "color": "#E5ECF6",
              "width": 0.5
             },
             "pattern": {
              "fillmode": "overlay",
              "size": 10,
              "solidity": 0.2
             }
            },
            "type": "bar"
           }
          ],
          "barpolar": [
           {
            "marker": {
             "line": {
              "color": "#E5ECF6",
              "width": 0.5
             },
             "pattern": {
              "fillmode": "overlay",
              "size": 10,
              "solidity": 0.2
             }
            },
            "type": "barpolar"
           }
          ],
          "carpet": [
           {
            "aaxis": {
             "endlinecolor": "#2a3f5f",
             "gridcolor": "white",
             "linecolor": "white",
             "minorgridcolor": "white",
             "startlinecolor": "#2a3f5f"
            },
            "baxis": {
             "endlinecolor": "#2a3f5f",
             "gridcolor": "white",
             "linecolor": "white",
             "minorgridcolor": "white",
             "startlinecolor": "#2a3f5f"
            },
            "type": "carpet"
           }
          ],
          "choropleth": [
           {
            "colorbar": {
             "outlinewidth": 0,
             "ticks": ""
            },
            "type": "choropleth"
           }
          ],
          "contour": [
           {
            "colorbar": {
             "outlinewidth": 0,
             "ticks": ""
            },
            "colorscale": [
             [
              0,
              "#0d0887"
             ],
             [
              0.1111111111111111,
              "#46039f"
             ],
             [
              0.2222222222222222,
              "#7201a8"
             ],
             [
              0.3333333333333333,
              "#9c179e"
             ],
             [
              0.4444444444444444,
              "#bd3786"
             ],
             [
              0.5555555555555556,
              "#d8576b"
             ],
             [
              0.6666666666666666,
              "#ed7953"
             ],
             [
              0.7777777777777778,
              "#fb9f3a"
             ],
             [
              0.8888888888888888,
              "#fdca26"
             ],
             [
              1,
              "#f0f921"
             ]
            ],
            "type": "contour"
           }
          ],
          "contourcarpet": [
           {
            "colorbar": {
             "outlinewidth": 0,
             "ticks": ""
            },
            "type": "contourcarpet"
           }
          ],
          "heatmap": [
           {
            "colorbar": {
             "outlinewidth": 0,
             "ticks": ""
            },
            "colorscale": [
             [
              0,
              "#0d0887"
             ],
             [
              0.1111111111111111,
              "#46039f"
             ],
             [
              0.2222222222222222,
              "#7201a8"
             ],
             [
              0.3333333333333333,
              "#9c179e"
             ],
             [
              0.4444444444444444,
              "#bd3786"
             ],
             [
              0.5555555555555556,
              "#d8576b"
             ],
             [
              0.6666666666666666,
              "#ed7953"
             ],
             [
              0.7777777777777778,
              "#fb9f3a"
             ],
             [
              0.8888888888888888,
              "#fdca26"
             ],
             [
              1,
              "#f0f921"
             ]
            ],
            "type": "heatmap"
           }
          ],
          "heatmapgl": [
           {
            "colorbar": {
             "outlinewidth": 0,
             "ticks": ""
            },
            "colorscale": [
             [
              0,
              "#0d0887"
             ],
             [
              0.1111111111111111,
              "#46039f"
             ],
             [
              0.2222222222222222,
              "#7201a8"
             ],
             [
              0.3333333333333333,
              "#9c179e"
             ],
             [
              0.4444444444444444,
              "#bd3786"
             ],
             [
              0.5555555555555556,
              "#d8576b"
             ],
             [
              0.6666666666666666,
              "#ed7953"
             ],
             [
              0.7777777777777778,
              "#fb9f3a"
             ],
             [
              0.8888888888888888,
              "#fdca26"
             ],
             [
              1,
              "#f0f921"
             ]
            ],
            "type": "heatmapgl"
           }
          ],
          "histogram": [
           {
            "marker": {
             "pattern": {
              "fillmode": "overlay",
              "size": 10,
              "solidity": 0.2
             }
            },
            "type": "histogram"
           }
          ],
          "histogram2d": [
           {
            "colorbar": {
             "outlinewidth": 0,
             "ticks": ""
            },
            "colorscale": [
             [
              0,
              "#0d0887"
             ],
             [
              0.1111111111111111,
              "#46039f"
             ],
             [
              0.2222222222222222,
              "#7201a8"
             ],
             [
              0.3333333333333333,
              "#9c179e"
             ],
             [
              0.4444444444444444,
              "#bd3786"
             ],
             [
              0.5555555555555556,
              "#d8576b"
             ],
             [
              0.6666666666666666,
              "#ed7953"
             ],
             [
              0.7777777777777778,
              "#fb9f3a"
             ],
             [
              0.8888888888888888,
              "#fdca26"
             ],
             [
              1,
              "#f0f921"
             ]
            ],
            "type": "histogram2d"
           }
          ],
          "histogram2dcontour": [
           {
            "colorbar": {
             "outlinewidth": 0,
             "ticks": ""
            },
            "colorscale": [
             [
              0,
              "#0d0887"
             ],
             [
              0.1111111111111111,
              "#46039f"
             ],
             [
              0.2222222222222222,
              "#7201a8"
             ],
             [
              0.3333333333333333,
              "#9c179e"
             ],
             [
              0.4444444444444444,
              "#bd3786"
             ],
             [
              0.5555555555555556,
              "#d8576b"
             ],
             [
              0.6666666666666666,
              "#ed7953"
             ],
             [
              0.7777777777777778,
              "#fb9f3a"
             ],
             [
              0.8888888888888888,
              "#fdca26"
             ],
             [
              1,
              "#f0f921"
             ]
            ],
            "type": "histogram2dcontour"
           }
          ],
          "mesh3d": [
           {
            "colorbar": {
             "outlinewidth": 0,
             "ticks": ""
            },
            "type": "mesh3d"
           }
          ],
          "parcoords": [
           {
            "line": {
             "colorbar": {
              "outlinewidth": 0,
              "ticks": ""
             }
            },
            "type": "parcoords"
           }
          ],
          "pie": [
           {
            "automargin": true,
            "type": "pie"
           }
          ],
          "scatter": [
           {
            "marker": {
             "colorbar": {
              "outlinewidth": 0,
              "ticks": ""
             }
            },
            "type": "scatter"
           }
          ],
          "scatter3d": [
           {
            "line": {
             "colorbar": {
              "outlinewidth": 0,
              "ticks": ""
             }
            },
            "marker": {
             "colorbar": {
              "outlinewidth": 0,
              "ticks": ""
             }
            },
            "type": "scatter3d"
           }
          ],
          "scattercarpet": [
           {
            "marker": {
             "colorbar": {
              "outlinewidth": 0,
              "ticks": ""
             }
            },
            "type": "scattercarpet"
           }
          ],
          "scattergeo": [
           {
            "marker": {
             "colorbar": {
              "outlinewidth": 0,
              "ticks": ""
             }
            },
            "type": "scattergeo"
           }
          ],
          "scattergl": [
           {
            "marker": {
             "colorbar": {
              "outlinewidth": 0,
              "ticks": ""
             }
            },
            "type": "scattergl"
           }
          ],
          "scattermapbox": [
           {
            "marker": {
             "colorbar": {
              "outlinewidth": 0,
              "ticks": ""
             }
            },
            "type": "scattermapbox"
           }
          ],
          "scatterpolar": [
           {
            "marker": {
             "colorbar": {
              "outlinewidth": 0,
              "ticks": ""
             }
            },
            "type": "scatterpolar"
           }
          ],
          "scatterpolargl": [
           {
            "marker": {
             "colorbar": {
              "outlinewidth": 0,
              "ticks": ""
             }
            },
            "type": "scatterpolargl"
           }
          ],
          "scatterternary": [
           {
            "marker": {
             "colorbar": {
              "outlinewidth": 0,
              "ticks": ""
             }
            },
            "type": "scatterternary"
           }
          ],
          "surface": [
           {
            "colorbar": {
             "outlinewidth": 0,
             "ticks": ""
            },
            "colorscale": [
             [
              0,
              "#0d0887"
             ],
             [
              0.1111111111111111,
              "#46039f"
             ],
             [
              0.2222222222222222,
              "#7201a8"
             ],
             [
              0.3333333333333333,
              "#9c179e"
             ],
             [
              0.4444444444444444,
              "#bd3786"
             ],
             [
              0.5555555555555556,
              "#d8576b"
             ],
             [
              0.6666666666666666,
              "#ed7953"
             ],
             [
              0.7777777777777778,
              "#fb9f3a"
             ],
             [
              0.8888888888888888,
              "#fdca26"
             ],
             [
              1,
              "#f0f921"
             ]
            ],
            "type": "surface"
           }
          ],
          "table": [
           {
            "cells": {
             "fill": {
              "color": "#EBF0F8"
             },
             "line": {
              "color": "white"
             }
            },
            "header": {
             "fill": {
              "color": "#C8D4E3"
             },
             "line": {
              "color": "white"
             }
            },
            "type": "table"
           }
          ]
         },
         "layout": {
          "annotationdefaults": {
           "arrowcolor": "#2a3f5f",
           "arrowhead": 0,
           "arrowwidth": 1
          },
          "autotypenumbers": "strict",
          "coloraxis": {
           "colorbar": {
            "outlinewidth": 0,
            "ticks": ""
           }
          },
          "colorscale": {
           "diverging": [
            [
             0,
             "#8e0152"
            ],
            [
             0.1,
             "#c51b7d"
            ],
            [
             0.2,
             "#de77ae"
            ],
            [
             0.3,
             "#f1b6da"
            ],
            [
             0.4,
             "#fde0ef"
            ],
            [
             0.5,
             "#f7f7f7"
            ],
            [
             0.6,
             "#e6f5d0"
            ],
            [
             0.7,
             "#b8e186"
            ],
            [
             0.8,
             "#7fbc41"
            ],
            [
             0.9,
             "#4d9221"
            ],
            [
             1,
             "#276419"
            ]
           ],
           "sequential": [
            [
             0,
             "#0d0887"
            ],
            [
             0.1111111111111111,
             "#46039f"
            ],
            [
             0.2222222222222222,
             "#7201a8"
            ],
            [
             0.3333333333333333,
             "#9c179e"
            ],
            [
             0.4444444444444444,
             "#bd3786"
            ],
            [
             0.5555555555555556,
             "#d8576b"
            ],
            [
             0.6666666666666666,
             "#ed7953"
            ],
            [
             0.7777777777777778,
             "#fb9f3a"
            ],
            [
             0.8888888888888888,
             "#fdca26"
            ],
            [
             1,
             "#f0f921"
            ]
           ],
           "sequentialminus": [
            [
             0,
             "#0d0887"
            ],
            [
             0.1111111111111111,
             "#46039f"
            ],
            [
             0.2222222222222222,
             "#7201a8"
            ],
            [
             0.3333333333333333,
             "#9c179e"
            ],
            [
             0.4444444444444444,
             "#bd3786"
            ],
            [
             0.5555555555555556,
             "#d8576b"
            ],
            [
             0.6666666666666666,
             "#ed7953"
            ],
            [
             0.7777777777777778,
             "#fb9f3a"
            ],
            [
             0.8888888888888888,
             "#fdca26"
            ],
            [
             1,
             "#f0f921"
            ]
           ]
          },
          "colorway": [
           "#636efa",
           "#EF553B",
           "#00cc96",
           "#ab63fa",
           "#FFA15A",
           "#19d3f3",
           "#FF6692",
           "#B6E880",
           "#FF97FF",
           "#FECB52"
          ],
          "font": {
           "color": "#2a3f5f"
          },
          "geo": {
           "bgcolor": "white",
           "lakecolor": "white",
           "landcolor": "#E5ECF6",
           "showlakes": true,
           "showland": true,
           "subunitcolor": "white"
          },
          "hoverlabel": {
           "align": "left"
          },
          "hovermode": "closest",
          "mapbox": {
           "style": "light"
          },
          "paper_bgcolor": "white",
          "plot_bgcolor": "#E5ECF6",
          "polar": {
           "angularaxis": {
            "gridcolor": "white",
            "linecolor": "white",
            "ticks": ""
           },
           "bgcolor": "#E5ECF6",
           "radialaxis": {
            "gridcolor": "white",
            "linecolor": "white",
            "ticks": ""
           }
          },
          "scene": {
           "xaxis": {
            "backgroundcolor": "#E5ECF6",
            "gridcolor": "white",
            "gridwidth": 2,
            "linecolor": "white",
            "showbackground": true,
            "ticks": "",
            "zerolinecolor": "white"
           },
           "yaxis": {
            "backgroundcolor": "#E5ECF6",
            "gridcolor": "white",
            "gridwidth": 2,
            "linecolor": "white",
            "showbackground": true,
            "ticks": "",
            "zerolinecolor": "white"
           },
           "zaxis": {
            "backgroundcolor": "#E5ECF6",
            "gridcolor": "white",
            "gridwidth": 2,
            "linecolor": "white",
            "showbackground": true,
            "ticks": "",
            "zerolinecolor": "white"
           }
          },
          "shapedefaults": {
           "line": {
            "color": "#2a3f5f"
           }
          },
          "ternary": {
           "aaxis": {
            "gridcolor": "white",
            "linecolor": "white",
            "ticks": ""
           },
           "baxis": {
            "gridcolor": "white",
            "linecolor": "white",
            "ticks": ""
           },
           "bgcolor": "#E5ECF6",
           "caxis": {
            "gridcolor": "white",
            "linecolor": "white",
            "ticks": ""
           }
          },
          "title": {
           "x": 0.05
          },
          "xaxis": {
           "automargin": true,
           "gridcolor": "white",
           "linecolor": "white",
           "ticks": "",
           "title": {
            "standoff": 15
           },
           "zerolinecolor": "white",
           "zerolinewidth": 2
          },
          "yaxis": {
           "automargin": true,
           "gridcolor": "white",
           "linecolor": "white",
           "ticks": "",
           "title": {
            "standoff": 15
           },
           "zerolinecolor": "white",
           "zerolinewidth": 2
          }
         }
        },
        "title": {
         "text": "Portfolio Greeks"
        },
        "xaxis": {
         "anchor": "y",
         "domain": [
          0,
          0.45
         ]
        },
        "xaxis2": {
         "anchor": "y2",
         "domain": [
          0.55,
          1
         ]
        },
        "xaxis3": {
         "anchor": "y3",
         "domain": [
          0,
          0.45
         ]
        },
        "xaxis4": {
         "anchor": "y4",
         "domain": [
          0.55,
          1
         ]
        },
        "yaxis": {
         "anchor": "x",
         "domain": [
          0.625,
          1
         ]
        },
        "yaxis2": {
         "anchor": "x2",
         "domain": [
          0.625,
          1
         ]
        },
        "yaxis3": {
         "anchor": "x3",
         "domain": [
          0,
          0.375
         ]
        },
        "yaxis4": {
         "anchor": "x4",
         "domain": [
          0,
          0.375
         ]
        }
       }
      }
     },
     "metadata": {},
     "output_type": "display_data"
    }
   ],
   "source": [
    "#Portfolio Details\n",
    "\n",
    "values = pm.retrieve_sectors()\n",
    "names = list(values.keys())\n",
    "values = list(values.values())\n",
    "\n",
    "\n",
    "details = pm.position_details.copy()\n",
    "#details['BP Usage %'] = details['BP Usage % ex cash'].apply(lambda s: float(s.replace('%', '')))\n",
    "sector_details = details.groupby('Sector').sum()\n",
    "\n",
    "width = 1400\n",
    "height= 500\n",
    "\n",
    "\n",
    "pie_chart_layout = make_subplots(rows=1,\n",
    "                    cols=2,\n",
    "                    specs=[[{\"type\": \"pie\"}, {\"type\": \"pie\"}]],\n",
    "                    subplot_titles=('Diversity Exposure by Sector','Buying Exposure Percentage by Sector'),\n",
    "                    vertical_spacing = 0.05)\n",
    "\n",
    "\n",
    "pie_chart_layout.add_trace(go.Pie(labels=names,values=values),row=1,col=1)\n",
    "\n",
    "bp_usage  = list(sector_details['BP Usage % ex cash'])\n",
    "names   = list(sector_details.index)\n",
    "\n",
    "pie_chart_layout.add_trace(go.Pie(labels=names,values=bp_usage),row=1,col=2)\n",
    "pie_chart_layout.update_layout(title_text=\"Exposure\")\n",
    "pie_chart_layout.update_layout(autosize=True)\n",
    "pie_chart_layout.show(config={'responsive': True})\n",
    "\n",
    "\n",
    "portfolio_theta = details[['Symbol','Theta']].set_index('Symbol').sort_values('Theta',ascending=False)\n",
    "portfolio_delta = details[['Symbol','Delta']].set_index('Symbol').sort_values('Delta',ascending=False)\n",
    "portfolio_gamma = details[['Symbol','Gamma']].set_index('Symbol').sort_values('Gamma',ascending=False)\n",
    "portfolio_vega = details[['Symbol','Vega']].set_index('Symbol').sort_values('Vega',ascending=False)\n",
    "portfolio_theta_delta_ratio = details[['Symbol','Theta / Delta']].set_index('Symbol')\n",
    "portfolio_vega_delta_ratio = details[['Symbol','Vega / Delta']].set_index('Symbol')\n",
    "portfolio_delta_gamma_ratio = details[['Symbol','Delta / Gamma']].set_index('Symbol')\n",
    "\n",
    "\n",
    "sector_portfolio_theta = sector_details['Theta']\n",
    "sector_portfolio_delta = sector_details['Delta']\n",
    "sector_portfolio_gamma = sector_details['Gamma']\n",
    "sector_portfolio_vega = sector_details['Vega']\n",
    "#sector_portfolio_theta_delta_ratio = sector_details['Theta / Delta']\n",
    "#sector_portfolio_vega_delta_ratio = sector_details['Vega / Delta']\n",
    "#sector_portfolio_delta_gamma_ratio = sector_details['Delta / Gamma']\n",
    "\n",
    "sector_portfolio_theta_fig = px.bar(sector_portfolio_theta,title='sector portfolio theta',color_discrete_sequence=['red'])\n",
    "sector_portfolio_delta_fig = px.bar(sector_portfolio_delta,title='sector portfolio delta',color_discrete_sequence=['blue'])\n",
    "sector_portfolio_gamma_fig = px.bar(sector_portfolio_gamma,title='sector portfolio gamma',color_discrete_sequence=['green'])\n",
    "sector_portfolio_vega_fig  = px.bar(sector_portfolio_vega,title='sector portfolio vega',color_discrete_sequence=['orange'])\n",
    "\n",
    "#sector_portfolio_theta_delta_ratio_fig  = px.bar(sector_portfolio_theta_delta_ratio,title='sector portfolio Theta / Delta')\n",
    "#sector_portfolio_vega_delta_ratio_fig  = px.bar(sector_portfolio_vega_delta_ratio,title='sector portfolio Vega / Delta')\n",
    "#sector_portfolio_delta_gamma_ratio_fig  = px.bar(sector_portfolio_delta_gamma_ratio,title='sector portfolio Delta / Gamma')\n",
    "\n",
    "portfolio_theta_fig = px.bar(portfolio_theta,title='portfolio theta',color_discrete_sequence=['red'])\n",
    "portfolio_delta_fig = px.bar(portfolio_delta,title='portfolio delta',color_discrete_sequence=['blue'])\n",
    "portfolio_gamma_fig = px.bar(portfolio_gamma,title='portfolio gamma',color_discrete_sequence=['green'])\n",
    "portfolio_vega_fig  = px.bar(portfolio_vega,title='portfolio vega',color_discrete_sequence=['orange'])\n",
    "\n",
    "\n",
    "portfolio_theta_delta_ratio_fig  = px.bar(portfolio_theta_delta_ratio,title='portfolio theta / delta')\n",
    "portfolio_vega_delta_ratio_fig  = px.bar(portfolio_theta_delta_ratio,title='portfolio vega / delta')\n",
    "portfolio_delta_gamma_ratio_fig  = px.bar(portfolio_delta_gamma_ratio,title='portfolio delta / gamma')\n",
    "\n",
    "sector_portfolio_greeks_chart_layout = make_subplots(rows=2,cols=2,subplot_titles=(\"Sector Theta\", 'Sector Delta', 'Sector Gamma', ' Sector Vega'))\n",
    "sector_portfolio_greeks_chart_layout['layout'].update(height=800, title='Sector Greeks')\n",
    "\n",
    "sector_portfolio_greeks_chart_layout.add_trace(sector_portfolio_theta_fig.data[0],row=1,col=1)\n",
    "sector_portfolio_greeks_chart_layout.add_trace(sector_portfolio_delta_fig.data[0],row=1,col=2)\n",
    "sector_portfolio_greeks_chart_layout.add_trace(sector_portfolio_gamma_fig.data[0],row=2,col=1)\n",
    "sector_portfolio_greeks_chart_layout.add_trace(sector_portfolio_vega_fig.data[0],row=2,col=2)\n",
    "\n",
    "sector_portfolio_greeks_chart_layout.add_trace(sector_portfolio_theta_fig.data[0],row=1,col=1)\n",
    "sector_portfolio_greeks_chart_layout.add_trace(sector_portfolio_delta_fig.data[0],row=1,col=2)\n",
    "sector_portfolio_greeks_chart_layout.add_trace(sector_portfolio_gamma_fig.data[0],row=2,col=1)\n",
    "sector_portfolio_greeks_chart_layout.add_trace(sector_portfolio_vega_fig.data[0],row=2,col=2)\n",
    "\n",
    "sector_portfolio_greeks_chart_layout.add_hline(y=sector_portfolio_theta.mean(), line_dash=\"dash\", line_color=\"#000000\", line_width=1,row=1,col=1)\n",
    "sector_portfolio_greeks_chart_layout.add_hline(y=sector_portfolio_delta.mean(), line_dash=\"dash\", line_color=\"#000000\", line_width=1,row=1,col=2)\n",
    "sector_portfolio_greeks_chart_layout.add_hline(y=sector_portfolio_gamma.mean(), line_dash=\"dash\", line_color=\"#000000\", line_width=1,row=2,col=1)\n",
    "sector_portfolio_greeks_chart_layout.add_hline(y=sector_portfolio_vega.mean(), line_dash=\"dash\", line_color=\"#000000\", line_width=1,row=2,col=2)\n",
    "\n",
    "sector_portfolio_greeks_chart_layout.update_layout(autosize=True)\n",
    "\n",
    "sector_portfolio_greeks_chart_layout.show(config={'responsive': True})\n",
    "\n",
    "portfolio_greeks_chart_layout = make_subplots(rows=2,cols=2,subplot_titles=(\"Portfolio Theta\", 'Portfolio Delta', 'Portfolio Gamma', 'Portfolio Vega'))\n",
    "portfolio_greeks_chart_layout['layout'].update(height=800, title='Portfolio Greeks')\n",
    "\n",
    "portfolio_greeks_chart_layout.add_trace(portfolio_theta_fig.data[0],row=1,col=1)\n",
    "portfolio_greeks_chart_layout.add_trace(portfolio_delta_fig.data[0],row=1,col=2)\n",
    "portfolio_greeks_chart_layout.add_trace(portfolio_gamma_fig.data[0],row=2,col=1)\n",
    "portfolio_greeks_chart_layout.add_trace(portfolio_vega_fig.data[0],row=2,col=2)\n",
    "\n",
    "portfolio_greeks_chart_layout.add_hline(y=portfolio_theta.mean().iloc[0], line_dash=\"dash\", line_color=\"#000000\", line_width=1,row=1,col=1)\n",
    "portfolio_greeks_chart_layout.add_hline(y=portfolio_delta.mean().iloc[0], line_dash=\"dash\", line_color=\"#000000\", line_width=1,row=1,col=2)\n",
    "portfolio_greeks_chart_layout.add_hline(y=portfolio_gamma.mean().iloc[0], line_dash=\"dash\", line_color=\"#000000\", line_width=1,row=2,col=1)\n",
    "portfolio_greeks_chart_layout.add_hline(y=portfolio_vega.mean().iloc[0], line_dash=\"dash\", line_color=\"#000000\", line_width=1,row=2,col=2)\n",
    "\n",
    "portfolio_greeks_chart_layout.update_layout(autosize=True)\n",
    "portfolio_greeks_chart_layout.show(config={'responsive': True})\n",
    "\n",
    "#sector_portfolio_theta_delta_ratio_fig.update_layout(autosize=True)\n",
    "#sector_portfolio_vega_delta_ratio_fig.update_layout(autosize=True)\n",
    "#sector_portfolio_delta_gamma_ratio_fig.update_layout(autosize=True)\n",
    "\n",
    "#portfolio_theta_fig.update_layout(autosize=True)\n",
    "#portfolio_delta_fig.update_layout(autosize=True)\n",
    "#portfolio_gamma_fig.update_layout(autosize=True)\n",
    "#portfolio_vega_fig.update_layout(autosize=True)\n",
    "#portfolio_theta_delta_ratio_fig.update_layout(autosize=True)\n",
    "#portfolio_vega_delta_ratio_fig.update_layout(autosize=True)\n",
    "#portfolio_delta_gamma_ratio_fig.update_layout(autosize=True)\n",
    "\n",
    "\n",
    "#sector_portfolio_theta_delta_ratio_fig.show(config={'responsive': True})\n",
    "#sector_portfolio_vega_delta_ratio_fig.show(config={'responsive': True})\n",
    "#sector_portfolio_delta_gamma_ratio_fig.show(config={'responsive': True})\n",
    "\n",
    "\n",
    "#portfolio_theta_delta_ratio_fig.show(config={'responsive': True})\n",
    "#portfolio_vega_delta_ratio_fig.show(config={'responsive': True})\n",
    "#portfolio_delta_gamma_ratio_fig.show(config={'responsive': True})\n",
    "\n"
   ]
  },
  {
   "cell_type": "code",
   "execution_count": 3,
   "id": "11dd9560",
   "metadata": {},
   "outputs": [
    {
     "data": {
      "application/vnd.plotly.v1+json": {
       "config": {
        "plotlyServerURL": "https://plot.ly",
        "responsive": true
       },
       "data": [
        {
         "hovertemplate": "variable=Average Portfolio Return<br>Date=%{x}<br>value=%{y}<extra></extra>",
         "legendgroup": "Average Portfolio Return",
         "line": {
          "color": "#636efa",
          "dash": "solid"
         },
         "marker": {
          "symbol": "circle"
         },
         "mode": "lines",
         "name": "Average Portfolio Return",
         "orientation": "v",
         "showlegend": true,
         "type": "scatter",
         "x": [
          "2022-06-24T00:00:00",
          "2022-06-27T00:00:00",
          "2022-06-28T00:00:00",
          "2022-06-29T00:00:00",
          "2022-06-30T00:00:00",
          "2022-07-01T00:00:00",
          "2022-07-05T00:00:00",
          "2022-07-06T00:00:00",
          "2022-07-07T00:00:00",
          "2022-07-08T00:00:00",
          "2022-07-11T00:00:00",
          "2022-07-12T00:00:00",
          "2022-07-13T00:00:00",
          "2022-07-14T00:00:00",
          "2022-07-15T00:00:00",
          "2022-07-18T00:00:00",
          "2022-07-19T00:00:00",
          "2022-07-20T00:00:00",
          "2022-07-21T00:00:00",
          "2022-07-22T00:00:00",
          "2022-07-25T00:00:00",
          "2022-07-26T00:00:00",
          "2022-07-27T00:00:00",
          "2022-07-28T00:00:00",
          "2022-07-29T00:00:00",
          "2022-08-01T00:00:00",
          "2022-08-02T00:00:00",
          "2022-08-03T00:00:00",
          "2022-08-04T00:00:00",
          "2022-08-05T00:00:00",
          "2022-08-08T00:00:00",
          "2022-08-09T00:00:00",
          "2022-08-10T00:00:00",
          "2022-08-11T00:00:00",
          "2022-08-12T00:00:00",
          "2022-08-15T00:00:00",
          "2022-08-16T00:00:00",
          "2022-08-17T00:00:00",
          "2022-08-18T00:00:00",
          "2022-08-19T00:00:00",
          "2022-08-22T00:00:00",
          "2022-08-23T00:00:00",
          "2022-08-24T00:00:00",
          "2022-08-25T00:00:00",
          "2022-08-26T00:00:00",
          "2022-08-29T00:00:00",
          "2022-08-30T00:00:00",
          "2022-08-31T00:00:00",
          "2022-09-01T00:00:00",
          "2022-09-02T00:00:00",
          "2022-09-06T00:00:00",
          "2022-09-07T00:00:00",
          "2022-09-08T00:00:00",
          "2022-09-09T00:00:00",
          "2022-09-12T00:00:00",
          "2022-09-13T00:00:00",
          "2022-09-14T00:00:00",
          "2022-09-15T00:00:00",
          "2022-09-16T00:00:00",
          "2022-09-19T00:00:00",
          "2022-09-20T00:00:00",
          "2022-09-21T00:00:00",
          "2022-09-22T00:00:00",
          "2022-09-23T00:00:00",
          "2022-09-26T00:00:00",
          "2022-09-27T00:00:00",
          "2022-09-28T00:00:00",
          "2022-09-29T00:00:00",
          "2022-09-30T00:00:00",
          "2022-10-03T00:00:00",
          "2022-10-04T00:00:00",
          "2022-10-05T00:00:00",
          "2022-10-06T00:00:00",
          "2022-10-07T00:00:00",
          "2022-10-10T00:00:00",
          "2022-10-11T00:00:00",
          "2022-10-12T00:00:00",
          "2022-10-13T00:00:00",
          "2022-10-14T00:00:00",
          "2022-10-17T00:00:00",
          "2022-10-18T00:00:00",
          "2022-10-19T00:00:00",
          "2022-10-20T00:00:00",
          "2022-10-21T00:00:00",
          "2022-10-24T00:00:00",
          "2022-10-25T00:00:00",
          "2022-10-26T00:00:00",
          "2022-10-27T00:00:00",
          "2022-10-28T00:00:00",
          "2022-10-31T00:00:00",
          "2022-11-01T00:00:00",
          "2022-11-02T00:00:00",
          "2022-11-03T00:00:00",
          "2022-11-04T00:00:00",
          "2022-11-07T00:00:00",
          "2022-11-08T00:00:00",
          "2022-11-09T00:00:00",
          "2022-11-10T00:00:00",
          "2022-11-11T00:00:00",
          "2022-11-14T00:00:00",
          "2022-11-15T00:00:00",
          "2022-11-16T00:00:00",
          "2022-11-17T00:00:00",
          "2022-11-18T00:00:00",
          "2022-11-21T00:00:00",
          "2022-11-22T00:00:00",
          "2022-11-23T00:00:00",
          "2022-11-25T00:00:00",
          "2022-11-28T00:00:00",
          "2022-11-29T00:00:00",
          "2022-11-30T00:00:00",
          "2022-12-01T00:00:00",
          "2022-12-02T00:00:00",
          "2022-12-05T00:00:00",
          "2022-12-06T00:00:00",
          "2022-12-07T00:00:00",
          "2022-12-08T00:00:00",
          "2022-12-09T00:00:00",
          "2022-12-12T00:00:00",
          "2022-12-13T00:00:00",
          "2022-12-14T00:00:00",
          "2022-12-15T00:00:00",
          "2022-12-16T00:00:00",
          "2022-12-19T00:00:00",
          "2022-12-20T00:00:00",
          "2022-12-21T00:00:00",
          "2022-12-22T00:00:00",
          "2022-12-23T00:00:00",
          "2022-12-27T00:00:00",
          "2022-12-28T00:00:00",
          "2022-12-29T00:00:00",
          "2022-12-30T00:00:00",
          "2023-01-03T00:00:00",
          "2023-01-04T00:00:00",
          "2023-01-05T00:00:00",
          "2023-01-06T00:00:00",
          "2023-01-09T00:00:00",
          "2023-01-10T00:00:00",
          "2023-01-11T00:00:00",
          "2023-01-12T00:00:00",
          "2023-01-13T00:00:00",
          "2023-01-17T00:00:00",
          "2023-01-18T00:00:00",
          "2023-01-19T00:00:00",
          "2023-01-20T00:00:00",
          "2023-01-23T00:00:00",
          "2023-01-24T00:00:00",
          "2023-01-25T00:00:00",
          "2023-01-26T00:00:00",
          "2023-01-27T00:00:00",
          "2023-01-30T00:00:00",
          "2023-01-31T00:00:00",
          "2023-02-01T00:00:00",
          "2023-02-02T00:00:00",
          "2023-02-03T00:00:00",
          "2023-02-06T00:00:00",
          "2023-02-07T00:00:00",
          "2023-02-08T00:00:00",
          "2023-02-09T00:00:00",
          "2023-02-10T00:00:00",
          "2023-02-13T00:00:00",
          "2023-02-14T00:00:00",
          "2023-02-15T00:00:00",
          "2023-02-16T00:00:00",
          "2023-02-17T00:00:00",
          "2023-02-21T00:00:00",
          "2023-02-22T00:00:00",
          "2023-02-23T00:00:00",
          "2023-02-24T00:00:00",
          "2023-02-27T00:00:00",
          "2023-02-28T00:00:00",
          "2023-03-01T00:00:00",
          "2023-03-02T00:00:00",
          "2023-03-03T00:00:00",
          "2023-03-06T00:00:00",
          "2023-03-07T00:00:00",
          "2023-03-08T00:00:00",
          "2023-03-09T00:00:00",
          "2023-03-10T00:00:00",
          "2023-03-13T00:00:00",
          "2023-03-14T00:00:00",
          "2023-03-15T00:00:00",
          "2023-03-16T00:00:00",
          "2023-03-17T00:00:00",
          "2023-03-20T00:00:00",
          "2023-03-21T00:00:00",
          "2023-03-22T00:00:00",
          "2023-03-23T00:00:00",
          "2023-03-24T00:00:00",
          "2023-03-27T00:00:00",
          "2023-03-28T00:00:00",
          "2023-03-29T00:00:00",
          "2023-03-30T00:00:00",
          "2023-03-31T00:00:00",
          "2023-04-03T00:00:00",
          "2023-04-04T00:00:00",
          "2023-04-05T00:00:00",
          "2023-04-06T00:00:00",
          "2023-04-10T00:00:00",
          "2023-04-11T00:00:00"
         ],
         "xaxis": "x",
         "y": [
          0.007953301685796983,
          0.008660995780563693,
          0.00582617740107926,
          0.0019139835786034915,
          0.004802851960690753,
          0.0011031880880975073,
          0.0037805532905332176,
          0.0006115733970360658,
          0.0011544160641555282,
          0.005640634250884837,
          0.001680815130688808,
          0.005547995741900619,
          -0.0002999518937056314,
          -0.003620841600199904,
          0.000028683821873639694,
          0.007677956323132526,
          0.010482538505893141,
          0.013628526380926508,
          0.013245163869834108,
          0.016618025892827158,
          0.00644433990341735,
          -0.0009156820356507227,
          0.004180036327205943,
          -0.005007547676797544,
          -0.011246973462257066,
          -0.008121303498510599,
          -0.005288484111832046,
          0.006405388786110172,
          0.014205668053919198,
          0.010827236368841956,
          0.007643900788098575,
          -0.0008416087386133288,
          0.001773719773290415,
          0.0021910293319582024,
          -0.0051357402798256,
          -0.001002478624312076,
          -0.0018825926729854898,
          -0.004984210806488167,
          -0.012226438903589324,
          -0.01820637068316479,
          -0.016497582453127272,
          -0.014714347418906756,
          -0.02394925904308721,
          -0.023756994869018853,
          -0.021595876944996643,
          -0.02974823873841247,
          -0.019388206181779395,
          -0.020222904694846985,
          -0.028228187735707462,
          -0.027038369495162747,
          -0.021068138818418947,
          -0.02161350449275018,
          -0.02070586600238265,
          -0.02223665736455998,
          -0.01963221096587375,
          -0.03415408568828141,
          -0.03942095233870617,
          -0.029074248535109457,
          -0.02954944988818645,
          -0.02320180026410323,
          -0.029926139679897833,
          -0.026287973622943134,
          -0.026165199453163774,
          -0.02152360271861316,
          -0.02266674726181474,
          -0.01954378499238461,
          -0.024615547831357307,
          -0.030412577513703756,
          -0.02374424403012056,
          -0.02896524616585459,
          -0.026855632032668816,
          -0.024209948798314916,
          -0.019344805047035292,
          -0.016447895333860468,
          -0.021447236516412345,
          -0.02561936725538793,
          -0.025580833112466155,
          -0.03197297068280086,
          -0.029098092947869074,
          -0.028437354668759438,
          -0.02504794515621522,
          -0.03167337622133816,
          -0.028385551523072997,
          -0.026278152092063682,
          -0.0334812179525568,
          -0.028701355470420478,
          -0.030080402772939534,
          -0.03276808773158397,
          -0.03202671779433522,
          -0.03366373496863387,
          -0.034156601980708357,
          -0.03703910065810136,
          -0.038014654861529815,
          -0.04058135557085509,
          -0.04092441591923908,
          -0.047167960504365745,
          -0.04517962780135609,
          -0.03702540448812186,
          -0.025644227875593586,
          -0.026931865712960787,
          -0.02389868158605618,
          -0.030760970253591844,
          -0.03125377160410339,
          -0.032821530598790956,
          -0.034783067270137864,
          -0.03156246987203557,
          -0.03815896008850473,
          -0.03857397807054039,
          -0.03901325064041608,
          -0.038179859970895264,
          -0.04163824207864375,
          -0.03901805416798833,
          -0.04430580048717534,
          -0.041604923578031465,
          -0.04649153073419739,
          -0.04739668499573399,
          -0.040259703634294264,
          -0.04388729175389132,
          -0.03909658102644842,
          -0.03547376445283205,
          -0.03891431697951918,
          -0.04040549855360012,
          -0.03782252201065972,
          -0.034287371848192534,
          -0.032035661391326235,
          -0.03500771971802076,
          -0.030889539889883567,
          -0.035302316851191715,
          -0.040405374788658216,
          -0.03177906336283773,
          -0.022779905312371968,
          -0.022724740152565436,
          -0.016067099102027402,
          -0.00556132349822198,
          -0.006260434309376808,
          -0.006569433482367096,
          0.007928414848226642,
          0.01060890222047488,
          0.019577436524509433,
          0.019352808508664655,
          0.025333826191624702,
          0.02823587920080748,
          0.03218088867819002,
          0.02718987065381279,
          0.034117212087869546,
          0.03646373994106272,
          0.024412547186313152,
          0.011671131826548012,
          0.01667908958105923,
          0.02059458037993935,
          0.026282618169851158,
          0.028328121608125027,
          0.041519340571356846,
          0.06407743596968567,
          0.06726391982342098,
          0.06647779733535891,
          0.07185230133649718,
          0.06804555694040831,
          0.06612901407857447,
          0.052989877786959926,
          0.05685684007068238,
          0.059843360633195834,
          0.06250373516333914,
          0.062320980242758825,
          0.05975657343390257,
          0.050735715188190054,
          0.05348583950882641,
          0.05983594067266255,
          0.054125249040545075,
          0.05486838408483875,
          0.06425995477936995,
          0.06564259153172736,
          0.06979371459435726,
          0.07524299047599749,
          0.06704514494520548,
          0.07346925531803583,
          0.08113803863480228,
          0.08029426680648563,
          0.07260819839772069,
          0.062356660603508925,
          0.06601683771854097,
          0.06060039728057243,
          0.06111923019592403,
          0.05900825852810224,
          0.05857846016193562,
          0.057177531732114234,
          0.05492250812093301,
          0.054802395917434875,
          0.0467551098056668,
          0.0416385596412538,
          0.04119004724995453,
          0.0408931414137348,
          0.04508856277583175,
          0.04222288290927658,
          0.030341903806608454,
          0.030208594045056696,
          0.021626493976098077,
          0.02033108136230178,
          0.013945065589809255,
          0.016509568296476453
         ],
         "yaxis": "y"
        },
        {
         "hovertemplate": "variable=Weighted Average Portfolio Return<br>Date=%{x}<br>value=%{y}<extra></extra>",
         "legendgroup": "Weighted Average Portfolio Return",
         "line": {
          "color": "#EF553B",
          "dash": "solid"
         },
         "marker": {
          "symbol": "circle"
         },
         "mode": "lines",
         "name": "Weighted Average Portfolio Return",
         "orientation": "v",
         "showlegend": true,
         "type": "scatter",
         "x": [
          "2022-06-24T00:00:00",
          "2022-06-27T00:00:00",
          "2022-06-28T00:00:00",
          "2022-06-29T00:00:00",
          "2022-06-30T00:00:00",
          "2022-07-01T00:00:00",
          "2022-07-05T00:00:00",
          "2022-07-06T00:00:00",
          "2022-07-07T00:00:00",
          "2022-07-08T00:00:00",
          "2022-07-11T00:00:00",
          "2022-07-12T00:00:00",
          "2022-07-13T00:00:00",
          "2022-07-14T00:00:00",
          "2022-07-15T00:00:00",
          "2022-07-18T00:00:00",
          "2022-07-19T00:00:00",
          "2022-07-20T00:00:00",
          "2022-07-21T00:00:00",
          "2022-07-22T00:00:00",
          "2022-07-25T00:00:00",
          "2022-07-26T00:00:00",
          "2022-07-27T00:00:00",
          "2022-07-28T00:00:00",
          "2022-07-29T00:00:00",
          "2022-08-01T00:00:00",
          "2022-08-02T00:00:00",
          "2022-08-03T00:00:00",
          "2022-08-04T00:00:00",
          "2022-08-05T00:00:00",
          "2022-08-08T00:00:00",
          "2022-08-09T00:00:00",
          "2022-08-10T00:00:00",
          "2022-08-11T00:00:00",
          "2022-08-12T00:00:00",
          "2022-08-15T00:00:00",
          "2022-08-16T00:00:00",
          "2022-08-17T00:00:00",
          "2022-08-18T00:00:00",
          "2022-08-19T00:00:00",
          "2022-08-22T00:00:00",
          "2022-08-23T00:00:00",
          "2022-08-24T00:00:00",
          "2022-08-25T00:00:00",
          "2022-08-26T00:00:00",
          "2022-08-29T00:00:00",
          "2022-08-30T00:00:00",
          "2022-08-31T00:00:00",
          "2022-09-01T00:00:00",
          "2022-09-02T00:00:00",
          "2022-09-06T00:00:00",
          "2022-09-07T00:00:00",
          "2022-09-08T00:00:00",
          "2022-09-09T00:00:00",
          "2022-09-12T00:00:00",
          "2022-09-13T00:00:00",
          "2022-09-14T00:00:00",
          "2022-09-15T00:00:00",
          "2022-09-16T00:00:00",
          "2022-09-19T00:00:00",
          "2022-09-20T00:00:00",
          "2022-09-21T00:00:00",
          "2022-09-22T00:00:00",
          "2022-09-23T00:00:00",
          "2022-09-26T00:00:00",
          "2022-09-27T00:00:00",
          "2022-09-28T00:00:00",
          "2022-09-29T00:00:00",
          "2022-09-30T00:00:00",
          "2022-10-03T00:00:00",
          "2022-10-04T00:00:00",
          "2022-10-05T00:00:00",
          "2022-10-06T00:00:00",
          "2022-10-07T00:00:00",
          "2022-10-10T00:00:00",
          "2022-10-11T00:00:00",
          "2022-10-12T00:00:00",
          "2022-10-13T00:00:00",
          "2022-10-14T00:00:00",
          "2022-10-17T00:00:00",
          "2022-10-18T00:00:00",
          "2022-10-19T00:00:00",
          "2022-10-20T00:00:00",
          "2022-10-21T00:00:00",
          "2022-10-24T00:00:00",
          "2022-10-25T00:00:00",
          "2022-10-26T00:00:00",
          "2022-10-27T00:00:00",
          "2022-10-28T00:00:00",
          "2022-10-31T00:00:00",
          "2022-11-01T00:00:00",
          "2022-11-02T00:00:00",
          "2022-11-03T00:00:00",
          "2022-11-04T00:00:00",
          "2022-11-07T00:00:00",
          "2022-11-08T00:00:00",
          "2022-11-09T00:00:00",
          "2022-11-10T00:00:00",
          "2022-11-11T00:00:00",
          "2022-11-14T00:00:00",
          "2022-11-15T00:00:00",
          "2022-11-16T00:00:00",
          "2022-11-17T00:00:00",
          "2022-11-18T00:00:00",
          "2022-11-21T00:00:00",
          "2022-11-22T00:00:00",
          "2022-11-23T00:00:00",
          "2022-11-25T00:00:00",
          "2022-11-28T00:00:00",
          "2022-11-29T00:00:00",
          "2022-11-30T00:00:00",
          "2022-12-01T00:00:00",
          "2022-12-02T00:00:00",
          "2022-12-05T00:00:00",
          "2022-12-06T00:00:00",
          "2022-12-07T00:00:00",
          "2022-12-08T00:00:00",
          "2022-12-09T00:00:00",
          "2022-12-12T00:00:00",
          "2022-12-13T00:00:00",
          "2022-12-14T00:00:00",
          "2022-12-15T00:00:00",
          "2022-12-16T00:00:00",
          "2022-12-19T00:00:00",
          "2022-12-20T00:00:00",
          "2022-12-21T00:00:00",
          "2022-12-22T00:00:00",
          "2022-12-23T00:00:00",
          "2022-12-27T00:00:00",
          "2022-12-28T00:00:00",
          "2022-12-29T00:00:00",
          "2022-12-30T00:00:00",
          "2023-01-03T00:00:00",
          "2023-01-04T00:00:00",
          "2023-01-05T00:00:00",
          "2023-01-06T00:00:00",
          "2023-01-09T00:00:00",
          "2023-01-10T00:00:00",
          "2023-01-11T00:00:00",
          "2023-01-12T00:00:00",
          "2023-01-13T00:00:00",
          "2023-01-17T00:00:00",
          "2023-01-18T00:00:00",
          "2023-01-19T00:00:00",
          "2023-01-20T00:00:00",
          "2023-01-23T00:00:00",
          "2023-01-24T00:00:00",
          "2023-01-25T00:00:00",
          "2023-01-26T00:00:00",
          "2023-01-27T00:00:00",
          "2023-01-30T00:00:00",
          "2023-01-31T00:00:00",
          "2023-02-01T00:00:00",
          "2023-02-02T00:00:00",
          "2023-02-03T00:00:00",
          "2023-02-06T00:00:00",
          "2023-02-07T00:00:00",
          "2023-02-08T00:00:00",
          "2023-02-09T00:00:00",
          "2023-02-10T00:00:00",
          "2023-02-13T00:00:00",
          "2023-02-14T00:00:00",
          "2023-02-15T00:00:00",
          "2023-02-16T00:00:00",
          "2023-02-17T00:00:00",
          "2023-02-21T00:00:00",
          "2023-02-22T00:00:00",
          "2023-02-23T00:00:00",
          "2023-02-24T00:00:00",
          "2023-02-27T00:00:00",
          "2023-02-28T00:00:00",
          "2023-03-01T00:00:00",
          "2023-03-02T00:00:00",
          "2023-03-03T00:00:00",
          "2023-03-06T00:00:00",
          "2023-03-07T00:00:00",
          "2023-03-08T00:00:00",
          "2023-03-09T00:00:00",
          "2023-03-10T00:00:00",
          "2023-03-13T00:00:00",
          "2023-03-14T00:00:00",
          "2023-03-15T00:00:00",
          "2023-03-16T00:00:00",
          "2023-03-17T00:00:00",
          "2023-03-20T00:00:00",
          "2023-03-21T00:00:00",
          "2023-03-22T00:00:00",
          "2023-03-23T00:00:00",
          "2023-03-24T00:00:00",
          "2023-03-27T00:00:00",
          "2023-03-28T00:00:00",
          "2023-03-29T00:00:00",
          "2023-03-30T00:00:00",
          "2023-03-31T00:00:00",
          "2023-04-03T00:00:00",
          "2023-04-04T00:00:00",
          "2023-04-05T00:00:00",
          "2023-04-06T00:00:00",
          "2023-04-10T00:00:00",
          "2023-04-11T00:00:00"
         ],
         "xaxis": "x",
         "y": [
          0.2492690114127356,
          0.24540374210671131,
          0.2515251600158028,
          0.2654111788445051,
          0.2793619182778675,
          0.2729064332428211,
          0.2430984991035615,
          0.2369060848009448,
          0.22542986952804092,
          0.21821276498657427,
          0.2300340375480693,
          0.21287437835675982,
          0.20405956303613998,
          0.18835313207041848,
          0.19234334628339483,
          0.1860869836380385,
          0.15856785091085415,
          0.16198445900180652,
          0.1321848947129448,
          0.12378209077478054,
          0.12430169768540814,
          0.20880144533178216,
          0.17297328969334716,
          0.014444071422313774,
          -0.09317273001705946,
          -0.13414219200742242,
          -0.13409553822193554,
          -0.07640788666150032,
          -0.013755803264622453,
          -0.03085293070189156,
          -0.015151492580171984,
          -0.0035993056730727058,
          -0.004701399483136909,
          -0.046650276019851375,
          -0.04915543696112585,
          -0.07434728848947196,
          -0.14345650302541016,
          -0.16106611987800318,
          -0.16846765963495974,
          -0.16261728961778524,
          -0.13110794403260603,
          -0.15067765209510317,
          -0.15978858650993202,
          -0.16966856170622277,
          -0.1135747375121906,
          -0.15205537135603764,
          -0.10566797247712201,
          -0.12219548930767594,
          -0.10978777141692024,
          -0.0944941540278545,
          -0.08403531692768748,
          -0.13528440740061232,
          -0.1469003452244605,
          -0.15464337597972597,
          -0.1551117783686863,
          -0.11031160575750636,
          -0.09834138148473802,
          -0.08261498360187368,
          -0.07914667070904528,
          -0.08946502879177454,
          -0.08591214994607485,
          -0.09445832184172354,
          -0.05706160448030777,
          -0.014298912878337984,
          -0.02865556175331186,
          -0.017941367558231214,
          -0.0276811539416556,
          -0.0024686880955232453,
          0.017445505986585223,
          -0.009764979928982535,
          -0.12496068104705814,
          -0.0647158829093592,
          -0.022879051235275442,
          0.026311476852214737,
          0.023768689430229823,
          -0.005074584616527069,
          -0.01127855475478548,
          -0.06880351563935855,
          -0.04138704105987045,
          -0.04025490510477849,
          -0.05386649237384243,
          -0.04777019855248757,
          -0.03900189984676672,
          -0.04107433266196012,
          -0.0608981666033381,
          -0.00595573877915039,
          -0.013768155589451339,
          -0.014153640194343247,
          -0.047510412889144406,
          -0.06837761440538892,
          -0.06804912592460743,
          -0.050779695233483337,
          -0.042327231401300645,
          -0.08442760635892456,
          -0.08539896711165221,
          -0.09228019864132125,
          -0.061905100866203495,
          -0.0694814956316105,
          -0.08541103713295282,
          -0.054208294420510506,
          -0.10220664619432746,
          -0.10490560745598637,
          -0.09670568893994841,
          -0.10443231825725081,
          -0.13969327930105097,
          -0.14738658264855006,
          -0.16835514608605048,
          -0.17698875046459264,
          -0.1693075221459601,
          -0.17242735772107143,
          -0.15529306496640705,
          -0.17761214096718883,
          -0.21115230787840525,
          -0.18367658813444937,
          -0.1715044539442035,
          -0.14253125374495249,
          -0.1532391426792663,
          -0.14772118759210862,
          -0.14358446200553027,
          -0.12185418916799265,
          -0.12759528694934838,
          -0.1281221250106199,
          -0.135844688498255,
          -0.12853778845588706,
          -0.106565075057303,
          -0.1315973840787086,
          -0.10524646139920632,
          -0.12620474024904638,
          -0.11717922605393723,
          -0.06791285107188438,
          -0.07912704892092955,
          -0.07281862435402006,
          -0.06363402116335339,
          -0.041609142151438405,
          -0.03166204833095793,
          -0.052032630894352366,
          -0.040161347534494206,
          -0.024097311740692552,
          -0.03624792641226343,
          -0.03067904578486064,
          -0.04286222149010933,
          -0.03568098904877419,
          -0.0033724507260758344,
          0.02577680682359343,
          0.014284903584723193,
          -0.03152302756712681,
          -0.009988207792560612,
          -0.002466563743860453,
          -0.037324585376013124,
          0.02895087690563614,
          0.04642584445320585,
          0.028744115323334377,
          0.039580639858606326,
          0.0548253687938697,
          0.07383835261029939,
          0.08720711837836267,
          0.08953938173848922,
          0.09857397822560336,
          0.0846208819054244,
          0.06346780096700819,
          0.053423833463537684,
          0.05557788614102346,
          0.03540070777100778,
          0.040156952515813416,
          0.01684259170087103,
          0.011556527122244779,
          0.008731467732607627,
          0.04750463446641713,
          0.04035915784320936,
          0.04228252282376755,
          0.026348497505205168,
          0.021597343316142683,
          0.019098482225550453,
          0.027823077296502022,
          0.03699927790213356,
          0.03495816723513642,
          0.04676437277555226,
          0.05474947749433923,
          0.036255320573314834,
          0.03987321679553364,
          0.030858882407202887,
          0.03269950036171014,
          0.0405257428837646,
          0.027301335984844854,
          0.042836656858208304,
          0.03234970667200753,
          0.03903033259586113,
          0.03978977828912382,
          0.019888241194853662,
          0.0043181308149793565,
          0.0017358653104623935,
          -0.033518315129084895,
          -0.06352111496012008,
          -0.06340039820000368,
          -0.055360058514905906,
          -0.03990796636880747,
          -0.06617332997554219,
          -0.07677844891306161,
          -0.06476534114554892,
          -0.07119712452261281
         ],
         "yaxis": "y"
        },
        {
         "hovertemplate": "variable=Average Market Return<br>Date=%{x}<br>value=%{y}<extra></extra>",
         "legendgroup": "Average Market Return",
         "line": {
          "color": "#00cc96",
          "dash": "solid"
         },
         "marker": {
          "symbol": "circle"
         },
         "mode": "lines",
         "name": "Average Market Return",
         "orientation": "v",
         "showlegend": true,
         "type": "scatter",
         "x": [
          "2022-06-24T00:00:00",
          "2022-06-27T00:00:00",
          "2022-06-28T00:00:00",
          "2022-06-29T00:00:00",
          "2022-06-30T00:00:00",
          "2022-07-01T00:00:00",
          "2022-07-05T00:00:00",
          "2022-07-06T00:00:00",
          "2022-07-07T00:00:00",
          "2022-07-08T00:00:00",
          "2022-07-11T00:00:00",
          "2022-07-12T00:00:00",
          "2022-07-13T00:00:00",
          "2022-07-14T00:00:00",
          "2022-07-15T00:00:00",
          "2022-07-18T00:00:00",
          "2022-07-19T00:00:00",
          "2022-07-20T00:00:00",
          "2022-07-21T00:00:00",
          "2022-07-22T00:00:00",
          "2022-07-25T00:00:00",
          "2022-07-26T00:00:00",
          "2022-07-27T00:00:00",
          "2022-07-28T00:00:00",
          "2022-07-29T00:00:00",
          "2022-08-01T00:00:00",
          "2022-08-02T00:00:00",
          "2022-08-03T00:00:00",
          "2022-08-04T00:00:00",
          "2022-08-05T00:00:00",
          "2022-08-08T00:00:00",
          "2022-08-09T00:00:00",
          "2022-08-10T00:00:00",
          "2022-08-11T00:00:00",
          "2022-08-12T00:00:00",
          "2022-08-15T00:00:00",
          "2022-08-16T00:00:00",
          "2022-08-17T00:00:00",
          "2022-08-18T00:00:00",
          "2022-08-19T00:00:00",
          "2022-08-22T00:00:00",
          "2022-08-23T00:00:00",
          "2022-08-24T00:00:00",
          "2022-08-25T00:00:00",
          "2022-08-26T00:00:00",
          "2022-08-29T00:00:00",
          "2022-08-30T00:00:00",
          "2022-08-31T00:00:00",
          "2022-09-01T00:00:00",
          "2022-09-02T00:00:00",
          "2022-09-06T00:00:00",
          "2022-09-07T00:00:00",
          "2022-09-08T00:00:00",
          "2022-09-09T00:00:00",
          "2022-09-12T00:00:00",
          "2022-09-13T00:00:00",
          "2022-09-14T00:00:00",
          "2022-09-15T00:00:00",
          "2022-09-16T00:00:00",
          "2022-09-19T00:00:00",
          "2022-09-20T00:00:00",
          "2022-09-21T00:00:00",
          "2022-09-22T00:00:00",
          "2022-09-23T00:00:00",
          "2022-09-26T00:00:00",
          "2022-09-27T00:00:00",
          "2022-09-28T00:00:00",
          "2022-09-29T00:00:00",
          "2022-09-30T00:00:00",
          "2022-10-03T00:00:00",
          "2022-10-04T00:00:00",
          "2022-10-05T00:00:00",
          "2022-10-06T00:00:00",
          "2022-10-07T00:00:00",
          "2022-10-10T00:00:00",
          "2022-10-11T00:00:00",
          "2022-10-12T00:00:00",
          "2022-10-13T00:00:00",
          "2022-10-14T00:00:00",
          "2022-10-17T00:00:00",
          "2022-10-18T00:00:00",
          "2022-10-19T00:00:00",
          "2022-10-20T00:00:00",
          "2022-10-21T00:00:00",
          "2022-10-24T00:00:00",
          "2022-10-25T00:00:00",
          "2022-10-26T00:00:00",
          "2022-10-27T00:00:00",
          "2022-10-28T00:00:00",
          "2022-10-31T00:00:00",
          "2022-11-01T00:00:00",
          "2022-11-02T00:00:00",
          "2022-11-03T00:00:00",
          "2022-11-04T00:00:00",
          "2022-11-07T00:00:00",
          "2022-11-08T00:00:00",
          "2022-11-09T00:00:00",
          "2022-11-10T00:00:00",
          "2022-11-11T00:00:00",
          "2022-11-14T00:00:00",
          "2022-11-15T00:00:00",
          "2022-11-16T00:00:00",
          "2022-11-17T00:00:00",
          "2022-11-18T00:00:00",
          "2022-11-21T00:00:00",
          "2022-11-22T00:00:00",
          "2022-11-23T00:00:00",
          "2022-11-25T00:00:00",
          "2022-11-28T00:00:00",
          "2022-11-29T00:00:00",
          "2022-11-30T00:00:00",
          "2022-12-01T00:00:00",
          "2022-12-02T00:00:00",
          "2022-12-05T00:00:00",
          "2022-12-06T00:00:00",
          "2022-12-07T00:00:00",
          "2022-12-08T00:00:00",
          "2022-12-09T00:00:00",
          "2022-12-12T00:00:00",
          "2022-12-13T00:00:00",
          "2022-12-14T00:00:00",
          "2022-12-15T00:00:00",
          "2022-12-16T00:00:00",
          "2022-12-19T00:00:00",
          "2022-12-20T00:00:00",
          "2022-12-21T00:00:00",
          "2022-12-22T00:00:00",
          "2022-12-23T00:00:00",
          "2022-12-27T00:00:00",
          "2022-12-28T00:00:00",
          "2022-12-29T00:00:00",
          "2022-12-30T00:00:00",
          "2023-01-03T00:00:00",
          "2023-01-04T00:00:00",
          "2023-01-05T00:00:00",
          "2023-01-06T00:00:00",
          "2023-01-09T00:00:00",
          "2023-01-10T00:00:00",
          "2023-01-11T00:00:00",
          "2023-01-12T00:00:00",
          "2023-01-13T00:00:00",
          "2023-01-17T00:00:00",
          "2023-01-18T00:00:00",
          "2023-01-19T00:00:00",
          "2023-01-20T00:00:00",
          "2023-01-23T00:00:00",
          "2023-01-24T00:00:00",
          "2023-01-25T00:00:00",
          "2023-01-26T00:00:00",
          "2023-01-27T00:00:00",
          "2023-01-30T00:00:00",
          "2023-01-31T00:00:00",
          "2023-02-01T00:00:00",
          "2023-02-02T00:00:00",
          "2023-02-03T00:00:00",
          "2023-02-06T00:00:00",
          "2023-02-07T00:00:00",
          "2023-02-08T00:00:00",
          "2023-02-09T00:00:00",
          "2023-02-10T00:00:00",
          "2023-02-13T00:00:00",
          "2023-02-14T00:00:00",
          "2023-02-15T00:00:00",
          "2023-02-16T00:00:00",
          "2023-02-17T00:00:00",
          "2023-02-21T00:00:00",
          "2023-02-22T00:00:00",
          "2023-02-23T00:00:00",
          "2023-02-24T00:00:00",
          "2023-02-27T00:00:00",
          "2023-02-28T00:00:00",
          "2023-03-01T00:00:00",
          "2023-03-02T00:00:00",
          "2023-03-03T00:00:00",
          "2023-03-06T00:00:00",
          "2023-03-07T00:00:00",
          "2023-03-08T00:00:00",
          "2023-03-09T00:00:00",
          "2023-03-10T00:00:00",
          "2023-03-13T00:00:00",
          "2023-03-14T00:00:00",
          "2023-03-15T00:00:00",
          "2023-03-16T00:00:00",
          "2023-03-17T00:00:00",
          "2023-03-20T00:00:00",
          "2023-03-21T00:00:00",
          "2023-03-22T00:00:00",
          "2023-03-23T00:00:00",
          "2023-03-24T00:00:00",
          "2023-03-27T00:00:00",
          "2023-03-28T00:00:00",
          "2023-03-29T00:00:00",
          "2023-03-30T00:00:00",
          "2023-03-31T00:00:00",
          "2023-04-03T00:00:00",
          "2023-04-04T00:00:00",
          "2023-04-05T00:00:00",
          "2023-04-06T00:00:00",
          "2023-04-10T00:00:00",
          "2023-04-11T00:00:00"
         ],
         "xaxis": "x",
         "y": [
          -0.1162730312922446,
          -0.10854837658915183,
          -0.12712219968633043,
          -0.14168849297073183,
          -0.14802987603387394,
          -0.1259488085293566,
          -0.09959167808259592,
          -0.10175837261577653,
          -0.061114410647627126,
          -0.06451708871482732,
          -0.09798789649013012,
          -0.0716624125880052,
          -0.08206324225087262,
          -0.08847096304675064,
          -0.0985091360308943,
          -0.0730046767553507,
          -0.0422411594065562,
          -0.004256396754260722,
          0.0035647548001440177,
          0.010303415483617394,
          0.012587791610053179,
          -0.022755812946486754,
          0.006704452644877557,
          -0.0012144940620216632,
          0.05591197844097153,
          0.059272894469054226,
          0.051825258276011456,
          0.04867553580893581,
          0.05602848418545449,
          0.04501109684743629,
          0.02335004858372135,
          -0.00513671346597372,
          0.021490871832118882,
          0.029820713086383833,
          0.02768385833091745,
          0.049136667626466624,
          0.04800059990669793,
          0.030675486409904563,
          0.04503280400695438,
          0.05610692224978433,
          0.06499627473076391,
          0.10434998645649082,
          0.11123363257291169,
          0.11108168423712939,
          0.11021628587571339,
          0.10050294378409981,
          0.06169508807281355,
          0.055530179924686375,
          0.04856372973446159,
          0.005537378233883628,
          0.005584295837900832,
          0.045001930458676336,
          0.052689798187952115,
          0.0777999339465124,
          0.07798233178600696,
          0.029165314937410553,
          0.029615182670271113,
          0.002905020086654106,
          -0.003926663483293732,
          0.015397166405384003,
          0.012703278873553946,
          0.000291041524887925,
          -0.005696485409307841,
          -0.04068378059864742,
          -0.042265993958441106,
          -0.0698429341230807,
          -0.05754717889432674,
          -0.08653611978473115,
          -0.09223914410673935,
          -0.06940370807426148,
          -0.02908077790960352,
          -0.0558572888936593,
          -0.07717126780884777,
          -0.11580303135536738,
          -0.11994820145703337,
          -0.11971392782873655,
          -0.1361450722916656,
          -0.11274756089390293,
          -0.13149900529976166,
          -0.10814582697338099,
          -0.0940694907859248,
          -0.1189939174076801,
          -0.12638145169496406,
          -0.12004791376448486,
          -0.11293578614273507,
          -0.10053253942987293,
          -0.10092754112335577,
          -0.1083202186398503,
          -0.07467198380322007,
          -0.06182059173791708,
          -0.06366068954912067,
          -0.090072030194326,
          -0.11197818836883897,
          -0.06763713519276902,
          -0.052453115083889265,
          -0.036766543179028104,
          -0.04937778203506659,
          -0.0002741519102471701,
          0.020158611761843807,
          0.015311388907143092,
          0.005900099621958594,
          -0.008256124870290168,
          -0.02641553197834458,
          -0.0323945017523202,
          0.00791378873116984,
          0.01759430504433248,
          0.03576609426320209,
          0.043495112928838446,
          0.018942195481537465,
          0.029003666301355903,
          0.08026176656633494,
          0.08861100100493587,
          0.10588393911732466,
          0.09684065551148077,
          0.08379644748395629,
          0.06107460940656775,
          0.09220200716422651,
          0.10106951590600226,
          0.08821367852910579,
          0.06349719948154318,
          0.05916370840099572,
          0.04402458777997923,
          0.06130259033918612,
          0.060399645700044156,
          0.06861814674485112,
          0.08818603136922659,
          0.045080926072134965,
          0.07560420008705004,
          0.0445214926367865,
          0.01956089158380649,
          0.0453209314693346,
          0.0513836159170847,
          0.022118429344029595,
          0.017558087313061674,
          -0.009866667391555324,
          0.020527839393366946,
          0.02542514477231056,
          0.008620513707337471,
          0.02880884108916749,
          0.037092616291586736,
          0.0679165973653287,
          0.07705060704196215,
          0.045005259136886626,
          0.02756846190313387,
          0.04109400106422531,
          0.07574827326615917,
          0.01861640932178736,
          0.009230408057909078,
          0.0290763167444096,
          0.022718029898798436,
          0.017649569270633266,
          0.03578170243598344,
          0.042058396203681826,
          0.061085860450961704,
          0.03586774704735074,
          0.0230901407483468,
          0.036702639988153034,
          0.04199372565980341,
          0.03473759846462001,
          0.005479180713622072,
          0.018031593305315934,
          0.018738462599612652,
          0.04076936264388274,
          0.04145151854027966,
          0.04062003440982762,
          0.011817713981171376,
          0.01802811104190207,
          0.008897940242041501,
          -0.009378415282243232,
          0.0003915031262075552,
          0.021686293255452536,
          0.029926685136455678,
          0.0468132955415053,
          0.06214845993350897,
          0.047225751984851995,
          0.046096874308265666,
          0.041811382559497824,
          0.02663869067474343,
          0.02455798961389761,
          0.00500719353649082,
          0.024318275630514086,
          0.022215195137808168,
          0.03218147527810999,
          0.03188991767694781,
          0.018456842046766342,
          0.03241494106937997,
          0.007748709496139763,
          -0.0021476828818312024,
          0.0007567449932976441,
          -0.0012466559110531725,
          -0.0016596620712382411,
          0.029098472867359945,
          0.04271488407633351,
          0.03807325861518752,
          0.029674263484471396,
          0.02506174460220325,
          0.021994764320986973,
          0.014828090199655279,
          0.013540886917936647,
          0.026694882915516586
         ],
         "yaxis": "y"
        }
       ],
       "layout": {
        "autosize": true,
        "legend": {
         "title": {
          "text": "variable"
         },
         "tracegroupgap": 0
        },
        "shapes": [
         {
          "line": {
           "color": "#000000",
           "dash": "dash",
           "width": 1
          },
          "type": "line",
          "x0": 0,
          "x1": 1,
          "xref": "x domain",
          "y0": 0,
          "y1": 0,
          "yref": "y"
         }
        ],
        "template": {
         "data": {
          "bar": [
           {
            "error_x": {
             "color": "#2a3f5f"
            },
            "error_y": {
             "color": "#2a3f5f"
            },
            "marker": {
             "line": {
              "color": "#E5ECF6",
              "width": 0.5
             },
             "pattern": {
              "fillmode": "overlay",
              "size": 10,
              "solidity": 0.2
             }
            },
            "type": "bar"
           }
          ],
          "barpolar": [
           {
            "marker": {
             "line": {
              "color": "#E5ECF6",
              "width": 0.5
             },
             "pattern": {
              "fillmode": "overlay",
              "size": 10,
              "solidity": 0.2
             }
            },
            "type": "barpolar"
           }
          ],
          "carpet": [
           {
            "aaxis": {
             "endlinecolor": "#2a3f5f",
             "gridcolor": "white",
             "linecolor": "white",
             "minorgridcolor": "white",
             "startlinecolor": "#2a3f5f"
            },
            "baxis": {
             "endlinecolor": "#2a3f5f",
             "gridcolor": "white",
             "linecolor": "white",
             "minorgridcolor": "white",
             "startlinecolor": "#2a3f5f"
            },
            "type": "carpet"
           }
          ],
          "choropleth": [
           {
            "colorbar": {
             "outlinewidth": 0,
             "ticks": ""
            },
            "type": "choropleth"
           }
          ],
          "contour": [
           {
            "colorbar": {
             "outlinewidth": 0,
             "ticks": ""
            },
            "colorscale": [
             [
              0,
              "#0d0887"
             ],
             [
              0.1111111111111111,
              "#46039f"
             ],
             [
              0.2222222222222222,
              "#7201a8"
             ],
             [
              0.3333333333333333,
              "#9c179e"
             ],
             [
              0.4444444444444444,
              "#bd3786"
             ],
             [
              0.5555555555555556,
              "#d8576b"
             ],
             [
              0.6666666666666666,
              "#ed7953"
             ],
             [
              0.7777777777777778,
              "#fb9f3a"
             ],
             [
              0.8888888888888888,
              "#fdca26"
             ],
             [
              1,
              "#f0f921"
             ]
            ],
            "type": "contour"
           }
          ],
          "contourcarpet": [
           {
            "colorbar": {
             "outlinewidth": 0,
             "ticks": ""
            },
            "type": "contourcarpet"
           }
          ],
          "heatmap": [
           {
            "colorbar": {
             "outlinewidth": 0,
             "ticks": ""
            },
            "colorscale": [
             [
              0,
              "#0d0887"
             ],
             [
              0.1111111111111111,
              "#46039f"
             ],
             [
              0.2222222222222222,
              "#7201a8"
             ],
             [
              0.3333333333333333,
              "#9c179e"
             ],
             [
              0.4444444444444444,
              "#bd3786"
             ],
             [
              0.5555555555555556,
              "#d8576b"
             ],
             [
              0.6666666666666666,
              "#ed7953"
             ],
             [
              0.7777777777777778,
              "#fb9f3a"
             ],
             [
              0.8888888888888888,
              "#fdca26"
             ],
             [
              1,
              "#f0f921"
             ]
            ],
            "type": "heatmap"
           }
          ],
          "heatmapgl": [
           {
            "colorbar": {
             "outlinewidth": 0,
             "ticks": ""
            },
            "colorscale": [
             [
              0,
              "#0d0887"
             ],
             [
              0.1111111111111111,
              "#46039f"
             ],
             [
              0.2222222222222222,
              "#7201a8"
             ],
             [
              0.3333333333333333,
              "#9c179e"
             ],
             [
              0.4444444444444444,
              "#bd3786"
             ],
             [
              0.5555555555555556,
              "#d8576b"
             ],
             [
              0.6666666666666666,
              "#ed7953"
             ],
             [
              0.7777777777777778,
              "#fb9f3a"
             ],
             [
              0.8888888888888888,
              "#fdca26"
             ],
             [
              1,
              "#f0f921"
             ]
            ],
            "type": "heatmapgl"
           }
          ],
          "histogram": [
           {
            "marker": {
             "pattern": {
              "fillmode": "overlay",
              "size": 10,
              "solidity": 0.2
             }
            },
            "type": "histogram"
           }
          ],
          "histogram2d": [
           {
            "colorbar": {
             "outlinewidth": 0,
             "ticks": ""
            },
            "colorscale": [
             [
              0,
              "#0d0887"
             ],
             [
              0.1111111111111111,
              "#46039f"
             ],
             [
              0.2222222222222222,
              "#7201a8"
             ],
             [
              0.3333333333333333,
              "#9c179e"
             ],
             [
              0.4444444444444444,
              "#bd3786"
             ],
             [
              0.5555555555555556,
              "#d8576b"
             ],
             [
              0.6666666666666666,
              "#ed7953"
             ],
             [
              0.7777777777777778,
              "#fb9f3a"
             ],
             [
              0.8888888888888888,
              "#fdca26"
             ],
             [
              1,
              "#f0f921"
             ]
            ],
            "type": "histogram2d"
           }
          ],
          "histogram2dcontour": [
           {
            "colorbar": {
             "outlinewidth": 0,
             "ticks": ""
            },
            "colorscale": [
             [
              0,
              "#0d0887"
             ],
             [
              0.1111111111111111,
              "#46039f"
             ],
             [
              0.2222222222222222,
              "#7201a8"
             ],
             [
              0.3333333333333333,
              "#9c179e"
             ],
             [
              0.4444444444444444,
              "#bd3786"
             ],
             [
              0.5555555555555556,
              "#d8576b"
             ],
             [
              0.6666666666666666,
              "#ed7953"
             ],
             [
              0.7777777777777778,
              "#fb9f3a"
             ],
             [
              0.8888888888888888,
              "#fdca26"
             ],
             [
              1,
              "#f0f921"
             ]
            ],
            "type": "histogram2dcontour"
           }
          ],
          "mesh3d": [
           {
            "colorbar": {
             "outlinewidth": 0,
             "ticks": ""
            },
            "type": "mesh3d"
           }
          ],
          "parcoords": [
           {
            "line": {
             "colorbar": {
              "outlinewidth": 0,
              "ticks": ""
             }
            },
            "type": "parcoords"
           }
          ],
          "pie": [
           {
            "automargin": true,
            "type": "pie"
           }
          ],
          "scatter": [
           {
            "marker": {
             "colorbar": {
              "outlinewidth": 0,
              "ticks": ""
             }
            },
            "type": "scatter"
           }
          ],
          "scatter3d": [
           {
            "line": {
             "colorbar": {
              "outlinewidth": 0,
              "ticks": ""
             }
            },
            "marker": {
             "colorbar": {
              "outlinewidth": 0,
              "ticks": ""
             }
            },
            "type": "scatter3d"
           }
          ],
          "scattercarpet": [
           {
            "marker": {
             "colorbar": {
              "outlinewidth": 0,
              "ticks": ""
             }
            },
            "type": "scattercarpet"
           }
          ],
          "scattergeo": [
           {
            "marker": {
             "colorbar": {
              "outlinewidth": 0,
              "ticks": ""
             }
            },
            "type": "scattergeo"
           }
          ],
          "scattergl": [
           {
            "marker": {
             "colorbar": {
              "outlinewidth": 0,
              "ticks": ""
             }
            },
            "type": "scattergl"
           }
          ],
          "scattermapbox": [
           {
            "marker": {
             "colorbar": {
              "outlinewidth": 0,
              "ticks": ""
             }
            },
            "type": "scattermapbox"
           }
          ],
          "scatterpolar": [
           {
            "marker": {
             "colorbar": {
              "outlinewidth": 0,
              "ticks": ""
             }
            },
            "type": "scatterpolar"
           }
          ],
          "scatterpolargl": [
           {
            "marker": {
             "colorbar": {
              "outlinewidth": 0,
              "ticks": ""
             }
            },
            "type": "scatterpolargl"
           }
          ],
          "scatterternary": [
           {
            "marker": {
             "colorbar": {
              "outlinewidth": 0,
              "ticks": ""
             }
            },
            "type": "scatterternary"
           }
          ],
          "surface": [
           {
            "colorbar": {
             "outlinewidth": 0,
             "ticks": ""
            },
            "colorscale": [
             [
              0,
              "#0d0887"
             ],
             [
              0.1111111111111111,
              "#46039f"
             ],
             [
              0.2222222222222222,
              "#7201a8"
             ],
             [
              0.3333333333333333,
              "#9c179e"
             ],
             [
              0.4444444444444444,
              "#bd3786"
             ],
             [
              0.5555555555555556,
              "#d8576b"
             ],
             [
              0.6666666666666666,
              "#ed7953"
             ],
             [
              0.7777777777777778,
              "#fb9f3a"
             ],
             [
              0.8888888888888888,
              "#fdca26"
             ],
             [
              1,
              "#f0f921"
             ]
            ],
            "type": "surface"
           }
          ],
          "table": [
           {
            "cells": {
             "fill": {
              "color": "#EBF0F8"
             },
             "line": {
              "color": "white"
             }
            },
            "header": {
             "fill": {
              "color": "#C8D4E3"
             },
             "line": {
              "color": "white"
             }
            },
            "type": "table"
           }
          ]
         },
         "layout": {
          "annotationdefaults": {
           "arrowcolor": "#2a3f5f",
           "arrowhead": 0,
           "arrowwidth": 1
          },
          "autotypenumbers": "strict",
          "coloraxis": {
           "colorbar": {
            "outlinewidth": 0,
            "ticks": ""
           }
          },
          "colorscale": {
           "diverging": [
            [
             0,
             "#8e0152"
            ],
            [
             0.1,
             "#c51b7d"
            ],
            [
             0.2,
             "#de77ae"
            ],
            [
             0.3,
             "#f1b6da"
            ],
            [
             0.4,
             "#fde0ef"
            ],
            [
             0.5,
             "#f7f7f7"
            ],
            [
             0.6,
             "#e6f5d0"
            ],
            [
             0.7,
             "#b8e186"
            ],
            [
             0.8,
             "#7fbc41"
            ],
            [
             0.9,
             "#4d9221"
            ],
            [
             1,
             "#276419"
            ]
           ],
           "sequential": [
            [
             0,
             "#0d0887"
            ],
            [
             0.1111111111111111,
             "#46039f"
            ],
            [
             0.2222222222222222,
             "#7201a8"
            ],
            [
             0.3333333333333333,
             "#9c179e"
            ],
            [
             0.4444444444444444,
             "#bd3786"
            ],
            [
             0.5555555555555556,
             "#d8576b"
            ],
            [
             0.6666666666666666,
             "#ed7953"
            ],
            [
             0.7777777777777778,
             "#fb9f3a"
            ],
            [
             0.8888888888888888,
             "#fdca26"
            ],
            [
             1,
             "#f0f921"
            ]
           ],
           "sequentialminus": [
            [
             0,
             "#0d0887"
            ],
            [
             0.1111111111111111,
             "#46039f"
            ],
            [
             0.2222222222222222,
             "#7201a8"
            ],
            [
             0.3333333333333333,
             "#9c179e"
            ],
            [
             0.4444444444444444,
             "#bd3786"
            ],
            [
             0.5555555555555556,
             "#d8576b"
            ],
            [
             0.6666666666666666,
             "#ed7953"
            ],
            [
             0.7777777777777778,
             "#fb9f3a"
            ],
            [
             0.8888888888888888,
             "#fdca26"
            ],
            [
             1,
             "#f0f921"
            ]
           ]
          },
          "colorway": [
           "#636efa",
           "#EF553B",
           "#00cc96",
           "#ab63fa",
           "#FFA15A",
           "#19d3f3",
           "#FF6692",
           "#B6E880",
           "#FF97FF",
           "#FECB52"
          ],
          "font": {
           "color": "#2a3f5f"
          },
          "geo": {
           "bgcolor": "white",
           "lakecolor": "white",
           "landcolor": "#E5ECF6",
           "showlakes": true,
           "showland": true,
           "subunitcolor": "white"
          },
          "hoverlabel": {
           "align": "left"
          },
          "hovermode": "closest",
          "mapbox": {
           "style": "light"
          },
          "paper_bgcolor": "white",
          "plot_bgcolor": "#E5ECF6",
          "polar": {
           "angularaxis": {
            "gridcolor": "white",
            "linecolor": "white",
            "ticks": ""
           },
           "bgcolor": "#E5ECF6",
           "radialaxis": {
            "gridcolor": "white",
            "linecolor": "white",
            "ticks": ""
           }
          },
          "scene": {
           "xaxis": {
            "backgroundcolor": "#E5ECF6",
            "gridcolor": "white",
            "gridwidth": 2,
            "linecolor": "white",
            "showbackground": true,
            "ticks": "",
            "zerolinecolor": "white"
           },
           "yaxis": {
            "backgroundcolor": "#E5ECF6",
            "gridcolor": "white",
            "gridwidth": 2,
            "linecolor": "white",
            "showbackground": true,
            "ticks": "",
            "zerolinecolor": "white"
           },
           "zaxis": {
            "backgroundcolor": "#E5ECF6",
            "gridcolor": "white",
            "gridwidth": 2,
            "linecolor": "white",
            "showbackground": true,
            "ticks": "",
            "zerolinecolor": "white"
           }
          },
          "shapedefaults": {
           "line": {
            "color": "#2a3f5f"
           }
          },
          "ternary": {
           "aaxis": {
            "gridcolor": "white",
            "linecolor": "white",
            "ticks": ""
           },
           "baxis": {
            "gridcolor": "white",
            "linecolor": "white",
            "ticks": ""
           },
           "bgcolor": "#E5ECF6",
           "caxis": {
            "gridcolor": "white",
            "linecolor": "white",
            "ticks": ""
           }
          },
          "title": {
           "x": 0.05
          },
          "xaxis": {
           "automargin": true,
           "gridcolor": "white",
           "linecolor": "white",
           "ticks": "",
           "title": {
            "standoff": 15
           },
           "zerolinecolor": "white",
           "zerolinewidth": 2
          },
          "yaxis": {
           "automargin": true,
           "gridcolor": "white",
           "linecolor": "white",
           "ticks": "",
           "title": {
            "standoff": 15
           },
           "zerolinecolor": "white",
           "zerolinewidth": 2
          }
         }
        },
        "title": {
         "text": "Portfolio Returns"
        },
        "xaxis": {
         "anchor": "y",
         "domain": [
          0,
          1
         ],
         "title": {
          "text": "Date"
         }
        },
        "yaxis": {
         "anchor": "x",
         "domain": [
          0,
          1
         ],
         "title": {
          "text": "value"
         }
        }
       }
      }
     },
     "metadata": {},
     "output_type": "display_data"
    },
    {
     "data": {
      "application/vnd.plotly.v1+json": {
       "config": {
        "plotlyServerURL": "https://plot.ly",
        "responsive": true
       },
       "data": [
        {
         "hovertemplate": "variable=Average Portfolio Sharpe<br>Date=%{x}<br>value=%{y}<extra></extra>",
         "legendgroup": "Average Portfolio Sharpe",
         "line": {
          "color": "#636efa",
          "dash": "solid"
         },
         "marker": {
          "symbol": "circle"
         },
         "mode": "lines",
         "name": "Average Portfolio Sharpe",
         "orientation": "v",
         "showlegend": true,
         "type": "scatter",
         "x": [
          "2022-06-24T00:00:00",
          "2022-06-27T00:00:00",
          "2022-06-28T00:00:00",
          "2022-06-29T00:00:00",
          "2022-06-30T00:00:00",
          "2022-07-01T00:00:00",
          "2022-07-05T00:00:00",
          "2022-07-06T00:00:00",
          "2022-07-07T00:00:00",
          "2022-07-08T00:00:00",
          "2022-07-11T00:00:00",
          "2022-07-12T00:00:00",
          "2022-07-13T00:00:00",
          "2022-07-14T00:00:00",
          "2022-07-15T00:00:00",
          "2022-07-18T00:00:00",
          "2022-07-19T00:00:00",
          "2022-07-20T00:00:00",
          "2022-07-21T00:00:00",
          "2022-07-22T00:00:00",
          "2022-07-25T00:00:00",
          "2022-07-26T00:00:00",
          "2022-07-27T00:00:00",
          "2022-07-28T00:00:00",
          "2022-07-29T00:00:00",
          "2022-08-01T00:00:00",
          "2022-08-02T00:00:00",
          "2022-08-03T00:00:00",
          "2022-08-04T00:00:00",
          "2022-08-05T00:00:00",
          "2022-08-08T00:00:00",
          "2022-08-09T00:00:00",
          "2022-08-10T00:00:00",
          "2022-08-11T00:00:00",
          "2022-08-12T00:00:00",
          "2022-08-15T00:00:00",
          "2022-08-16T00:00:00",
          "2022-08-17T00:00:00",
          "2022-08-18T00:00:00",
          "2022-08-19T00:00:00",
          "2022-08-22T00:00:00",
          "2022-08-23T00:00:00",
          "2022-08-24T00:00:00",
          "2022-08-25T00:00:00",
          "2022-08-26T00:00:00",
          "2022-08-29T00:00:00",
          "2022-08-30T00:00:00",
          "2022-08-31T00:00:00",
          "2022-09-01T00:00:00",
          "2022-09-02T00:00:00",
          "2022-09-06T00:00:00",
          "2022-09-07T00:00:00",
          "2022-09-08T00:00:00",
          "2022-09-09T00:00:00",
          "2022-09-12T00:00:00",
          "2022-09-13T00:00:00",
          "2022-09-14T00:00:00",
          "2022-09-15T00:00:00",
          "2022-09-16T00:00:00",
          "2022-09-19T00:00:00",
          "2022-09-20T00:00:00",
          "2022-09-21T00:00:00",
          "2022-09-22T00:00:00",
          "2022-09-23T00:00:00",
          "2022-09-26T00:00:00",
          "2022-09-27T00:00:00",
          "2022-09-28T00:00:00",
          "2022-09-29T00:00:00",
          "2022-09-30T00:00:00",
          "2022-10-03T00:00:00",
          "2022-10-04T00:00:00",
          "2022-10-05T00:00:00",
          "2022-10-06T00:00:00",
          "2022-10-07T00:00:00",
          "2022-10-10T00:00:00",
          "2022-10-11T00:00:00",
          "2022-10-12T00:00:00",
          "2022-10-13T00:00:00",
          "2022-10-14T00:00:00",
          "2022-10-17T00:00:00",
          "2022-10-18T00:00:00",
          "2022-10-19T00:00:00",
          "2022-10-20T00:00:00",
          "2022-10-21T00:00:00",
          "2022-10-24T00:00:00",
          "2022-10-25T00:00:00",
          "2022-10-26T00:00:00",
          "2022-10-27T00:00:00",
          "2022-10-28T00:00:00",
          "2022-10-31T00:00:00",
          "2022-11-01T00:00:00",
          "2022-11-02T00:00:00",
          "2022-11-03T00:00:00",
          "2022-11-04T00:00:00",
          "2022-11-07T00:00:00",
          "2022-11-08T00:00:00",
          "2022-11-09T00:00:00",
          "2022-11-10T00:00:00",
          "2022-11-11T00:00:00",
          "2022-11-14T00:00:00",
          "2022-11-15T00:00:00",
          "2022-11-16T00:00:00",
          "2022-11-17T00:00:00",
          "2022-11-18T00:00:00",
          "2022-11-21T00:00:00",
          "2022-11-22T00:00:00",
          "2022-11-23T00:00:00",
          "2022-11-25T00:00:00",
          "2022-11-28T00:00:00",
          "2022-11-29T00:00:00",
          "2022-11-30T00:00:00",
          "2022-12-01T00:00:00",
          "2022-12-02T00:00:00",
          "2022-12-05T00:00:00",
          "2022-12-06T00:00:00",
          "2022-12-07T00:00:00",
          "2022-12-08T00:00:00",
          "2022-12-09T00:00:00",
          "2022-12-12T00:00:00",
          "2022-12-13T00:00:00",
          "2022-12-14T00:00:00",
          "2022-12-15T00:00:00",
          "2022-12-16T00:00:00",
          "2022-12-19T00:00:00",
          "2022-12-20T00:00:00",
          "2022-12-21T00:00:00",
          "2022-12-22T00:00:00",
          "2022-12-23T00:00:00",
          "2022-12-27T00:00:00",
          "2022-12-28T00:00:00",
          "2022-12-29T00:00:00",
          "2022-12-30T00:00:00",
          "2023-01-03T00:00:00",
          "2023-01-04T00:00:00",
          "2023-01-05T00:00:00",
          "2023-01-06T00:00:00",
          "2023-01-09T00:00:00",
          "2023-01-10T00:00:00",
          "2023-01-11T00:00:00",
          "2023-01-12T00:00:00",
          "2023-01-13T00:00:00",
          "2023-01-17T00:00:00",
          "2023-01-18T00:00:00",
          "2023-01-19T00:00:00",
          "2023-01-20T00:00:00",
          "2023-01-23T00:00:00",
          "2023-01-24T00:00:00",
          "2023-01-25T00:00:00",
          "2023-01-26T00:00:00",
          "2023-01-27T00:00:00",
          "2023-01-30T00:00:00",
          "2023-01-31T00:00:00",
          "2023-02-01T00:00:00",
          "2023-02-02T00:00:00",
          "2023-02-03T00:00:00",
          "2023-02-06T00:00:00",
          "2023-02-07T00:00:00",
          "2023-02-08T00:00:00",
          "2023-02-09T00:00:00",
          "2023-02-10T00:00:00",
          "2023-02-13T00:00:00",
          "2023-02-14T00:00:00",
          "2023-02-15T00:00:00",
          "2023-02-16T00:00:00",
          "2023-02-17T00:00:00",
          "2023-02-21T00:00:00",
          "2023-02-22T00:00:00",
          "2023-02-23T00:00:00",
          "2023-02-24T00:00:00",
          "2023-02-27T00:00:00",
          "2023-02-28T00:00:00",
          "2023-03-01T00:00:00",
          "2023-03-02T00:00:00",
          "2023-03-03T00:00:00",
          "2023-03-06T00:00:00",
          "2023-03-07T00:00:00",
          "2023-03-08T00:00:00",
          "2023-03-09T00:00:00",
          "2023-03-10T00:00:00",
          "2023-03-13T00:00:00",
          "2023-03-14T00:00:00",
          "2023-03-15T00:00:00",
          "2023-03-16T00:00:00",
          "2023-03-17T00:00:00",
          "2023-03-20T00:00:00",
          "2023-03-21T00:00:00",
          "2023-03-22T00:00:00",
          "2023-03-23T00:00:00",
          "2023-03-24T00:00:00",
          "2023-03-27T00:00:00",
          "2023-03-28T00:00:00",
          "2023-03-29T00:00:00",
          "2023-03-30T00:00:00",
          "2023-03-31T00:00:00",
          "2023-04-03T00:00:00",
          "2023-04-04T00:00:00",
          "2023-04-05T00:00:00",
          "2023-04-06T00:00:00",
          "2023-04-10T00:00:00",
          "2023-04-11T00:00:00"
         ],
         "xaxis": "x",
         "y": [
          0.4177554791644371,
          0.3780994797659565,
          0.3934198238800813,
          0.3988789854062075,
          0.4535313883938286,
          0.27885730011378806,
          0.23146844013500728,
          0.1682275735877425,
          0.06293683102544304,
          0.11128350092567055,
          0.22881260597479378,
          0.14653534790010084,
          0.08904847759858472,
          0.024050860211927823,
          0.13190163601774324,
          0.20076371169526838,
          0.17448555691539056,
          0.13482194990289573,
          0.11868048659311517,
          0.15764174738102307,
          -0.02101301051954826,
          -0.025840266423022954,
          -0.011191303681509522,
          -0.17715090019238514,
          -0.5513659787670556,
          -0.5089708992358459,
          -0.4373168106699723,
          -0.2683314177970153,
          -0.1503496078977603,
          -0.17144896041786026,
          -0.14334070232156684,
          -0.15075385981547035,
          -0.18819727224986285,
          -0.21446301096768966,
          -0.3605639249377462,
          -0.4355037866180188,
          -0.44743216641442707,
          -0.4212646546071126,
          -0.6034982303912965,
          -0.8346143911003486,
          -0.7923654013211626,
          -1.0179669518537333,
          -1.2885756607174599,
          -1.2975360937863114,
          -1.1935363779756882,
          -1.3358349362537139,
          -0.9368144361130317,
          -0.8789312945053588,
          -0.9790050074780955,
          -0.739965541455976,
          -0.6110548547816491,
          -0.8543483183301545,
          -0.8359093677178522,
          -0.9138664813941682,
          -0.8371765418621907,
          -0.8563328586641088,
          -0.9297372150914458,
          -0.6863504287302694,
          -0.6666458399028433,
          -0.6398544541410297,
          -0.737158837851386,
          -0.6264883740783379,
          -0.604407582523192,
          -0.3722357425400033,
          -0.44794277713436226,
          -0.257544640261995,
          -0.4249774637858358,
          -0.3188709180489493,
          -0.14392982949975527,
          -0.35402504150499964,
          -0.43349405663737883,
          -0.3044659972380901,
          -0.04530053869754423,
          0.13311171081346515,
          0.009994397651892356,
          -0.05098004076815694,
          -0.0004928915345940107,
          -0.2517345175533475,
          -0.10573201728755673,
          -0.18526220230061236,
          -0.21076633172917833,
          -0.26890418090006474,
          -0.2253084910775413,
          -0.19957824987390485,
          -0.33552288059704155,
          -0.2557150439244383,
          -0.31376893537603956,
          -0.2950533831218999,
          -0.41932775345881357,
          -0.5273555385735529,
          -0.5616620258346487,
          -0.47849254127166074,
          -0.47791242795472166,
          -0.691588944855742,
          -0.7505350902538414,
          -0.9416226554701533,
          -0.8950440067399534,
          -0.8037415591693781,
          -0.5954212128734891,
          -0.5917724912409761,
          -0.4694009681952349,
          -0.49763062731651725,
          -0.4881089696476419,
          -0.5416739863594228,
          -0.805128496005768,
          -0.7702376433516647,
          -0.9189486390050445,
          -0.9277770244100471,
          -0.8696704993411982,
          -0.8945630723554084,
          -1.1825503030776976,
          -1.1464052055054632,
          -1.346133001539375,
          -1.2907480875602104,
          -1.3114896207679072,
          -1.24565226455494,
          -1.3409685946463223,
          -1.4230987897693854,
          -1.2805278693239817,
          -1.092722037726363,
          -1.170197880999252,
          -1.1221355266313253,
          -1.1788228734030952,
          -1.1335253285124367,
          -1.1346984740886246,
          -1.360612364034971,
          -1.085285236592664,
          -1.3823774226234435,
          -1.361844107869224,
          -1.059301416474859,
          -1.0085895647116503,
          -1.027758747277439,
          -0.7788802612116615,
          -0.5285519731727369,
          -0.41840011488299333,
          -0.5712398210071272,
          -0.26678881163331875,
          -0.08877825022750611,
          -0.0026903887110019445,
          0.04075407916363378,
          -0.0028692665826407747,
          0.04335290428889479,
          0.30773023430466173,
          0.32992976564078674,
          0.41326923558497497,
          0.27523718584539375,
          0.26062460125746034,
          -0.07995568056612067,
          -0.027115950585043673,
          0.13022705966957726,
          0.25122942184073027,
          0.20661755543849952,
          0.4388314549021427,
          0.8009458662825784,
          1.0338126214806094,
          1.0608822602828936,
          1.113128371044337,
          1.0453882238394778,
          1.0261485595925235,
          0.9563691900395034,
          0.9192289655519402,
          0.9935999886574284,
          0.9818794541073158,
          0.9565648702790678,
          0.8356760754513669,
          0.808571760335709,
          0.8243808592692647,
          1.049054491668792,
          1.0146335193495617,
          1.0531585771824963,
          1.1161756108308016,
          1.169781889990363,
          1.1144896443803796,
          1.1559860056303406,
          1.0642663561413517,
          1.1633355294378263,
          1.3339255950160096,
          1.3922137089409972,
          1.2914773198286462,
          1.133303524681172,
          1.0254696918974429,
          0.9117813769494925,
          0.8629546234947841,
          0.8901947809935501,
          0.9956175920569728,
          0.8816716458139741,
          1.0037357670845184,
          1.043453281271379,
          0.7559725191167477,
          0.6451749279764132,
          0.6660117856536989,
          0.3470296332027958,
          0.2715786389027136,
          0.2817256504396923,
          0.09856832918386696,
          0.17607084120921015,
          -0.01871934844781395,
          -0.04376255964255203,
          -0.1985458205808923,
          -0.22842617501732776
         ],
         "yaxis": "y"
        },
        {
         "hovertemplate": "variable=Weighted Average Portfolio Sharpe<br>Date=%{x}<br>value=%{y}<extra></extra>",
         "legendgroup": "Weighted Average Portfolio Sharpe",
         "line": {
          "color": "#EF553B",
          "dash": "solid"
         },
         "marker": {
          "symbol": "circle"
         },
         "mode": "lines",
         "name": "Weighted Average Portfolio Sharpe",
         "orientation": "v",
         "showlegend": true,
         "type": "scatter",
         "x": [
          "2022-06-24T00:00:00",
          "2022-06-27T00:00:00",
          "2022-06-28T00:00:00",
          "2022-06-29T00:00:00",
          "2022-06-30T00:00:00",
          "2022-07-01T00:00:00",
          "2022-07-05T00:00:00",
          "2022-07-06T00:00:00",
          "2022-07-07T00:00:00",
          "2022-07-08T00:00:00",
          "2022-07-11T00:00:00",
          "2022-07-12T00:00:00",
          "2022-07-13T00:00:00",
          "2022-07-14T00:00:00",
          "2022-07-15T00:00:00",
          "2022-07-18T00:00:00",
          "2022-07-19T00:00:00",
          "2022-07-20T00:00:00",
          "2022-07-21T00:00:00",
          "2022-07-22T00:00:00",
          "2022-07-25T00:00:00",
          "2022-07-26T00:00:00",
          "2022-07-27T00:00:00",
          "2022-07-28T00:00:00",
          "2022-07-29T00:00:00",
          "2022-08-01T00:00:00",
          "2022-08-02T00:00:00",
          "2022-08-03T00:00:00",
          "2022-08-04T00:00:00",
          "2022-08-05T00:00:00",
          "2022-08-08T00:00:00",
          "2022-08-09T00:00:00",
          "2022-08-10T00:00:00",
          "2022-08-11T00:00:00",
          "2022-08-12T00:00:00",
          "2022-08-15T00:00:00",
          "2022-08-16T00:00:00",
          "2022-08-17T00:00:00",
          "2022-08-18T00:00:00",
          "2022-08-19T00:00:00",
          "2022-08-22T00:00:00",
          "2022-08-23T00:00:00",
          "2022-08-24T00:00:00",
          "2022-08-25T00:00:00",
          "2022-08-26T00:00:00",
          "2022-08-29T00:00:00",
          "2022-08-30T00:00:00",
          "2022-08-31T00:00:00",
          "2022-09-01T00:00:00",
          "2022-09-02T00:00:00",
          "2022-09-06T00:00:00",
          "2022-09-07T00:00:00",
          "2022-09-08T00:00:00",
          "2022-09-09T00:00:00",
          "2022-09-12T00:00:00",
          "2022-09-13T00:00:00",
          "2022-09-14T00:00:00",
          "2022-09-15T00:00:00",
          "2022-09-16T00:00:00",
          "2022-09-19T00:00:00",
          "2022-09-20T00:00:00",
          "2022-09-21T00:00:00",
          "2022-09-22T00:00:00",
          "2022-09-23T00:00:00",
          "2022-09-26T00:00:00",
          "2022-09-27T00:00:00",
          "2022-09-28T00:00:00",
          "2022-09-29T00:00:00",
          "2022-09-30T00:00:00",
          "2022-10-03T00:00:00",
          "2022-10-04T00:00:00",
          "2022-10-05T00:00:00",
          "2022-10-06T00:00:00",
          "2022-10-07T00:00:00",
          "2022-10-10T00:00:00",
          "2022-10-11T00:00:00",
          "2022-10-12T00:00:00",
          "2022-10-13T00:00:00",
          "2022-10-14T00:00:00",
          "2022-10-17T00:00:00",
          "2022-10-18T00:00:00",
          "2022-10-19T00:00:00",
          "2022-10-20T00:00:00",
          "2022-10-21T00:00:00",
          "2022-10-24T00:00:00",
          "2022-10-25T00:00:00",
          "2022-10-26T00:00:00",
          "2022-10-27T00:00:00",
          "2022-10-28T00:00:00",
          "2022-10-31T00:00:00",
          "2022-11-01T00:00:00",
          "2022-11-02T00:00:00",
          "2022-11-03T00:00:00",
          "2022-11-04T00:00:00",
          "2022-11-07T00:00:00",
          "2022-11-08T00:00:00",
          "2022-11-09T00:00:00",
          "2022-11-10T00:00:00",
          "2022-11-11T00:00:00",
          "2022-11-14T00:00:00",
          "2022-11-15T00:00:00",
          "2022-11-16T00:00:00",
          "2022-11-17T00:00:00",
          "2022-11-18T00:00:00",
          "2022-11-21T00:00:00",
          "2022-11-22T00:00:00",
          "2022-11-23T00:00:00",
          "2022-11-25T00:00:00",
          "2022-11-28T00:00:00",
          "2022-11-29T00:00:00",
          "2022-11-30T00:00:00",
          "2022-12-01T00:00:00",
          "2022-12-02T00:00:00",
          "2022-12-05T00:00:00",
          "2022-12-06T00:00:00",
          "2022-12-07T00:00:00",
          "2022-12-08T00:00:00",
          "2022-12-09T00:00:00",
          "2022-12-12T00:00:00",
          "2022-12-13T00:00:00",
          "2022-12-14T00:00:00",
          "2022-12-15T00:00:00",
          "2022-12-16T00:00:00",
          "2022-12-19T00:00:00",
          "2022-12-20T00:00:00",
          "2022-12-21T00:00:00",
          "2022-12-22T00:00:00",
          "2022-12-23T00:00:00",
          "2022-12-27T00:00:00",
          "2022-12-28T00:00:00",
          "2022-12-29T00:00:00",
          "2022-12-30T00:00:00",
          "2023-01-03T00:00:00",
          "2023-01-04T00:00:00",
          "2023-01-05T00:00:00",
          "2023-01-06T00:00:00",
          "2023-01-09T00:00:00",
          "2023-01-10T00:00:00",
          "2023-01-11T00:00:00",
          "2023-01-12T00:00:00",
          "2023-01-13T00:00:00",
          "2023-01-17T00:00:00",
          "2023-01-18T00:00:00",
          "2023-01-19T00:00:00",
          "2023-01-20T00:00:00",
          "2023-01-23T00:00:00",
          "2023-01-24T00:00:00",
          "2023-01-25T00:00:00",
          "2023-01-26T00:00:00",
          "2023-01-27T00:00:00",
          "2023-01-30T00:00:00",
          "2023-01-31T00:00:00",
          "2023-02-01T00:00:00",
          "2023-02-02T00:00:00",
          "2023-02-03T00:00:00",
          "2023-02-06T00:00:00",
          "2023-02-07T00:00:00",
          "2023-02-08T00:00:00",
          "2023-02-09T00:00:00",
          "2023-02-10T00:00:00",
          "2023-02-13T00:00:00",
          "2023-02-14T00:00:00",
          "2023-02-15T00:00:00",
          "2023-02-16T00:00:00",
          "2023-02-17T00:00:00",
          "2023-02-21T00:00:00",
          "2023-02-22T00:00:00",
          "2023-02-23T00:00:00",
          "2023-02-24T00:00:00",
          "2023-02-27T00:00:00",
          "2023-02-28T00:00:00",
          "2023-03-01T00:00:00",
          "2023-03-02T00:00:00",
          "2023-03-03T00:00:00",
          "2023-03-06T00:00:00",
          "2023-03-07T00:00:00",
          "2023-03-08T00:00:00",
          "2023-03-09T00:00:00",
          "2023-03-10T00:00:00",
          "2023-03-13T00:00:00",
          "2023-03-14T00:00:00",
          "2023-03-15T00:00:00",
          "2023-03-16T00:00:00",
          "2023-03-17T00:00:00",
          "2023-03-20T00:00:00",
          "2023-03-21T00:00:00",
          "2023-03-22T00:00:00",
          "2023-03-23T00:00:00",
          "2023-03-24T00:00:00",
          "2023-03-27T00:00:00",
          "2023-03-28T00:00:00",
          "2023-03-29T00:00:00",
          "2023-03-30T00:00:00",
          "2023-03-31T00:00:00",
          "2023-04-03T00:00:00",
          "2023-04-04T00:00:00",
          "2023-04-05T00:00:00",
          "2023-04-06T00:00:00",
          "2023-04-10T00:00:00",
          "2023-04-11T00:00:00"
         ],
         "xaxis": "x",
         "y": [
          4.609936985955381,
          4.534469208142376,
          4.640916608767341,
          4.920419415888373,
          5.2083325735486055,
          5.074248434037426,
          4.509152889391341,
          4.385587707705054,
          4.173263449594308,
          4.038436953277126,
          4.277724796962287,
          3.978496312665118,
          3.811443226322069,
          3.4875715799375486,
          3.5693479886516437,
          3.454752208022851,
          2.9562404910068563,
          3.0246970362730043,
          2.460840245797201,
          2.3072173828749603,
          2.3169464314933106,
          3.5398035284822567,
          2.8627115646789463,
          0.30543364615516577,
          -2.2352166425729094,
          -3.3070344297058005,
          -3.3058759625525735,
          -1.905826497831251,
          -0.3283593505029505,
          -0.7361321933208146,
          -0.3655604843986026,
          -0.08759406302855262,
          -0.1144047644189168,
          -1.1556624056578675,
          -1.2151027050819754,
          -1.8578312668101817,
          -3.34394994430049,
          -3.7770983467820134,
          -3.9614976004454268,
          -3.809254541783467,
          -3.0357926024337396,
          -3.5299446971239923,
          -3.7414763986752324,
          -3.9722599431741177,
          -2.5781333946601777,
          -3.490874492735859,
          -2.4875393527647724,
          -2.893150822497989,
          -2.625008389649047,
          -2.2484446645444804,
          -1.9972894634558866,
          -3.1871721258529475,
          -3.4636630650090887,
          -3.6491177445037843,
          -3.659702047288799,
          -2.572069620400487,
          -2.2938147011412613,
          -1.9187152109618786,
          -1.8375724634493178,
          -2.0742212161219657,
          -1.9900055849024816,
          -2.1844633165149663,
          -1.3268595816481659,
          -0.32709214877511966,
          -0.6541161152881774,
          -0.4098009234498228,
          -0.62896129787313,
          -0.05633422852929948,
          0.39415120833485057,
          -0.21791283006171203,
          -3.404470029335675,
          -1.8462978022585177,
          -0.66623745029241,
          0.7573595120480938,
          0.6834854486050809,
          -0.1419082653771747,
          -0.31731521988250444,
          -2.06656474552294,
          -1.232908313927601,
          -1.1998999364248033,
          -1.5820893833022318,
          -1.4022688963682142,
          -1.148814963600749,
          -1.2064291736770691,
          -1.7632078581878148,
          -0.19423387089727004,
          -0.44765798359571635,
          -0.4602459510415838,
          -1.5528167549478153,
          -2.2809125939192905,
          -2.269571807006926,
          -1.6916330220415063,
          -1.4128018730398553,
          -3.016506537657018,
          -3.0485113936382944,
          -3.298420014260795,
          -2.1267253216054267,
          -2.3582013133505457,
          -2.9259843547611513,
          -1.7596856483391374,
          -2.843039813703954,
          -2.9159303695198986,
          -2.685438599004362,
          -2.8855948884541163,
          -3.940568712556243,
          -4.16092675114278,
          -4.787743754632546,
          -5.037884137779997,
          -4.8260122089758815,
          -4.922112868845257,
          -4.433501454997504,
          -5.104841748748091,
          -6.287718598546528,
          -5.4343875298721445,
          -5.032885951534797,
          -4.20764100113175,
          -4.540005954854857,
          -4.337133848331277,
          -4.236781078135201,
          -3.609143255932172,
          -3.794231032802283,
          -3.811496068726592,
          -4.0932858495525855,
          -3.875091129733639,
          -3.2943352593084785,
          -4.097714199652713,
          -3.2530730380412387,
          -3.951841841978979,
          -3.673761757849797,
          -2.129721890359883,
          -2.4805095513762767,
          -2.2812171775529833,
          -2.0167665345143027,
          -1.341885912999679,
          -1.0211247928968976,
          -1.6336931858899832,
          -1.2504004460467444,
          -0.7557845316898796,
          -1.1331149478401494,
          -0.9557408002128724,
          -1.3384070561820525,
          -1.1116290757610305,
          -0.10179406584891118,
          0.7747982045126307,
          0.4263315049184835,
          -0.956334626030168,
          -0.3090657124076116,
          -0.07623999752680859,
          -1.2101324714135306,
          1.2494906762717986,
          2.0049631965301717,
          1.2231011393534348,
          1.717875282110312,
          2.3810388296862697,
          3.1669068786793755,
          3.7419370895238444,
          3.8495687156379104,
          4.240850407583417,
          3.600683549121273,
          2.632639877113498,
          2.1754266755921545,
          2.262412446468308,
          1.4439638453606152,
          1.6226721752929856,
          0.6683334518429379,
          0.45719745218752444,
          0.34850490473110585,
          1.9201479188794357,
          1.6307791232166013,
          1.7057010829909238,
          1.066583703206548,
          0.884050963555089,
          0.7812412109029608,
          1.1462763138891734,
          1.5339279240423984,
          1.4540955751240392,
          1.9364164015483851,
          2.260354926423051,
          1.536439059615572,
          1.6949643412246165,
          1.3078915451788902,
          1.3911189989730426,
          1.720393890907036,
          1.151712677558894,
          1.8955306475595193,
          1.451577667233144,
          1.7451391724165772,
          1.781348434496643,
          0.8901979986563201,
          0.1880258208807242,
          0.07574789986930253,
          -1.563387677738911,
          -3.0140652187679495,
          -3.009102399405554,
          -2.6711183309498687,
          -1.9000831322461855,
          -3.0748399516216782,
          -3.5533155100734315,
          -3.00818410587816,
          -3.3327015724781344
         ],
         "yaxis": "y"
        },
        {
         "hovertemplate": "variable=Average Market Sharpe<br>Date=%{x}<br>value=%{y}<extra></extra>",
         "legendgroup": "Average Market Sharpe",
         "line": {
          "color": "#00cc96",
          "dash": "solid"
         },
         "marker": {
          "symbol": "circle"
         },
         "mode": "lines",
         "name": "Average Market Sharpe",
         "orientation": "v",
         "showlegend": true,
         "type": "scatter",
         "x": [
          "2022-06-24T00:00:00",
          "2022-06-27T00:00:00",
          "2022-06-28T00:00:00",
          "2022-06-29T00:00:00",
          "2022-06-30T00:00:00",
          "2022-07-01T00:00:00",
          "2022-07-05T00:00:00",
          "2022-07-06T00:00:00",
          "2022-07-07T00:00:00",
          "2022-07-08T00:00:00",
          "2022-07-11T00:00:00",
          "2022-07-12T00:00:00",
          "2022-07-13T00:00:00",
          "2022-07-14T00:00:00",
          "2022-07-15T00:00:00",
          "2022-07-18T00:00:00",
          "2022-07-19T00:00:00",
          "2022-07-20T00:00:00",
          "2022-07-21T00:00:00",
          "2022-07-22T00:00:00",
          "2022-07-25T00:00:00",
          "2022-07-26T00:00:00",
          "2022-07-27T00:00:00",
          "2022-07-28T00:00:00",
          "2022-07-29T00:00:00",
          "2022-08-01T00:00:00",
          "2022-08-02T00:00:00",
          "2022-08-03T00:00:00",
          "2022-08-04T00:00:00",
          "2022-08-05T00:00:00",
          "2022-08-08T00:00:00",
          "2022-08-09T00:00:00",
          "2022-08-10T00:00:00",
          "2022-08-11T00:00:00",
          "2022-08-12T00:00:00",
          "2022-08-15T00:00:00",
          "2022-08-16T00:00:00",
          "2022-08-17T00:00:00",
          "2022-08-18T00:00:00",
          "2022-08-19T00:00:00",
          "2022-08-22T00:00:00",
          "2022-08-23T00:00:00",
          "2022-08-24T00:00:00",
          "2022-08-25T00:00:00",
          "2022-08-26T00:00:00",
          "2022-08-29T00:00:00",
          "2022-08-30T00:00:00",
          "2022-08-31T00:00:00",
          "2022-09-01T00:00:00",
          "2022-09-02T00:00:00",
          "2022-09-06T00:00:00",
          "2022-09-07T00:00:00",
          "2022-09-08T00:00:00",
          "2022-09-09T00:00:00",
          "2022-09-12T00:00:00",
          "2022-09-13T00:00:00",
          "2022-09-14T00:00:00",
          "2022-09-15T00:00:00",
          "2022-09-16T00:00:00",
          "2022-09-19T00:00:00",
          "2022-09-20T00:00:00",
          "2022-09-21T00:00:00",
          "2022-09-22T00:00:00",
          "2022-09-23T00:00:00",
          "2022-09-26T00:00:00",
          "2022-09-27T00:00:00",
          "2022-09-28T00:00:00",
          "2022-09-29T00:00:00",
          "2022-09-30T00:00:00",
          "2022-10-03T00:00:00",
          "2022-10-04T00:00:00",
          "2022-10-05T00:00:00",
          "2022-10-06T00:00:00",
          "2022-10-07T00:00:00",
          "2022-10-10T00:00:00",
          "2022-10-11T00:00:00",
          "2022-10-12T00:00:00",
          "2022-10-13T00:00:00",
          "2022-10-14T00:00:00",
          "2022-10-17T00:00:00",
          "2022-10-18T00:00:00",
          "2022-10-19T00:00:00",
          "2022-10-20T00:00:00",
          "2022-10-21T00:00:00",
          "2022-10-24T00:00:00",
          "2022-10-25T00:00:00",
          "2022-10-26T00:00:00",
          "2022-10-27T00:00:00",
          "2022-10-28T00:00:00",
          "2022-10-31T00:00:00",
          "2022-11-01T00:00:00",
          "2022-11-02T00:00:00",
          "2022-11-03T00:00:00",
          "2022-11-04T00:00:00",
          "2022-11-07T00:00:00",
          "2022-11-08T00:00:00",
          "2022-11-09T00:00:00",
          "2022-11-10T00:00:00",
          "2022-11-11T00:00:00",
          "2022-11-14T00:00:00",
          "2022-11-15T00:00:00",
          "2022-11-16T00:00:00",
          "2022-11-17T00:00:00",
          "2022-11-18T00:00:00",
          "2022-11-21T00:00:00",
          "2022-11-22T00:00:00",
          "2022-11-23T00:00:00",
          "2022-11-25T00:00:00",
          "2022-11-28T00:00:00",
          "2022-11-29T00:00:00",
          "2022-11-30T00:00:00",
          "2022-12-01T00:00:00",
          "2022-12-02T00:00:00",
          "2022-12-05T00:00:00",
          "2022-12-06T00:00:00",
          "2022-12-07T00:00:00",
          "2022-12-08T00:00:00",
          "2022-12-09T00:00:00",
          "2022-12-12T00:00:00",
          "2022-12-13T00:00:00",
          "2022-12-14T00:00:00",
          "2022-12-15T00:00:00",
          "2022-12-16T00:00:00",
          "2022-12-19T00:00:00",
          "2022-12-20T00:00:00",
          "2022-12-21T00:00:00",
          "2022-12-22T00:00:00",
          "2022-12-23T00:00:00",
          "2022-12-27T00:00:00",
          "2022-12-28T00:00:00",
          "2022-12-29T00:00:00",
          "2022-12-30T00:00:00",
          "2023-01-03T00:00:00",
          "2023-01-04T00:00:00",
          "2023-01-05T00:00:00",
          "2023-01-06T00:00:00",
          "2023-01-09T00:00:00",
          "2023-01-10T00:00:00",
          "2023-01-11T00:00:00",
          "2023-01-12T00:00:00",
          "2023-01-13T00:00:00",
          "2023-01-17T00:00:00",
          "2023-01-18T00:00:00",
          "2023-01-19T00:00:00",
          "2023-01-20T00:00:00",
          "2023-01-23T00:00:00",
          "2023-01-24T00:00:00",
          "2023-01-25T00:00:00",
          "2023-01-26T00:00:00",
          "2023-01-27T00:00:00",
          "2023-01-30T00:00:00",
          "2023-01-31T00:00:00",
          "2023-02-01T00:00:00",
          "2023-02-02T00:00:00",
          "2023-02-03T00:00:00",
          "2023-02-06T00:00:00",
          "2023-02-07T00:00:00",
          "2023-02-08T00:00:00",
          "2023-02-09T00:00:00",
          "2023-02-10T00:00:00",
          "2023-02-13T00:00:00",
          "2023-02-14T00:00:00",
          "2023-02-15T00:00:00",
          "2023-02-16T00:00:00",
          "2023-02-17T00:00:00",
          "2023-02-21T00:00:00",
          "2023-02-22T00:00:00",
          "2023-02-23T00:00:00",
          "2023-02-24T00:00:00",
          "2023-02-27T00:00:00",
          "2023-02-28T00:00:00",
          "2023-03-01T00:00:00",
          "2023-03-02T00:00:00",
          "2023-03-03T00:00:00",
          "2023-03-06T00:00:00",
          "2023-03-07T00:00:00",
          "2023-03-08T00:00:00",
          "2023-03-09T00:00:00",
          "2023-03-10T00:00:00",
          "2023-03-13T00:00:00",
          "2023-03-14T00:00:00",
          "2023-03-15T00:00:00",
          "2023-03-16T00:00:00",
          "2023-03-17T00:00:00",
          "2023-03-20T00:00:00",
          "2023-03-21T00:00:00",
          "2023-03-22T00:00:00",
          "2023-03-23T00:00:00",
          "2023-03-24T00:00:00",
          "2023-03-27T00:00:00",
          "2023-03-28T00:00:00",
          "2023-03-29T00:00:00",
          "2023-03-30T00:00:00",
          "2023-03-31T00:00:00",
          "2023-04-03T00:00:00",
          "2023-04-04T00:00:00",
          "2023-04-05T00:00:00",
          "2023-04-06T00:00:00",
          "2023-04-10T00:00:00",
          "2023-04-11T00:00:00"
         ],
         "xaxis": "x",
         "y": [
          -2.617971974859009,
          -2.4505762830744207,
          -2.845767175586948,
          -3.201890910314595,
          -3.3435248957689634,
          -2.8419194861384725,
          -2.2857242845056693,
          -2.3375528897451154,
          -1.4233023501850681,
          -1.5032680207252123,
          -2.3243605044712754,
          -1.7655143919971168,
          -2.0246653780700394,
          -2.1855865088639668,
          -2.480599955893713,
          -1.9122845750163722,
          -1.0775764949349809,
          -0.11241379519489139,
          0.09381299956979307,
          0.2728592919800511,
          0.3333632517120386,
          -0.6122825816891914,
          0.17609290912867542,
          -0.032201501737630964,
          1.5749280367188776,
          1.6721223591512302,
          1.4584179430159123,
          1.375292523447164,
          1.587898161774588,
          1.2785386327122956,
          0.6736496704613248,
          -0.15197365798996212,
          0.6246783217488983,
          0.8696760854184173,
          0.8099533887730795,
          1.4566228577461573,
          1.423162701228629,
          0.9100880959774094,
          1.3442723836952228,
          1.7085531361988875,
          2.023379917381538,
          3.553052966340515,
          3.7931795971007807,
          3.7887531791273537,
          3.746355138702066,
          3.4006920056825076,
          2.137243449359922,
          1.915419302464143,
          1.6826689704282791,
          0.2026486404283656,
          0.20437091274931607,
          1.6643761347161128,
          1.9448690169565308,
          2.849322701117277,
          2.8553853134391147,
          0.9396805996469391,
          0.9540386600253878,
          0.09396037480282915,
          -0.12660310514390913,
          0.4985272380662104,
          0.410047684906896,
          0.009251274784003631,
          -0.18045585241725096,
          -1.2961401859796688,
          -1.3445971969857133,
          -2.3192131083570544,
          -1.8707805169223246,
          -2.77532058204814,
          -2.9373534669920667,
          -2.125489666154123,
          -0.8544492821873086,
          -1.695992524874703,
          -2.3559594412427156,
          -3.465939949454585,
          -3.5856391789677904,
          -3.578982912202724,
          -4.135905653734019,
          -3.2961840026737304,
          -3.7747447970746,
          -3.0045604328525086,
          -2.5937196807115415,
          -3.3498241980234473,
          -3.5539621321528974,
          -3.330067449434614,
          -3.111273652927038,
          -2.735866892092419,
          -2.746130895772189,
          -2.9492270392264848,
          -1.9935165567764097,
          -1.672498854239722,
          -1.7217403662063697,
          -2.3868546929384027,
          -2.988964858755663,
          -1.8615173712510116,
          -1.4386253032328389,
          -1.0108813504522833,
          -1.3390797991231516,
          -0.006719303241555439,
          0.49450830586305494,
          0.37486684859104075,
          0.14555909316890278,
          -0.20358287049201865,
          -0.6564447280546799,
          -0.807682518800069,
          0.21114959057467042,
          0.4666685082339133,
          0.9525287526972037,
          1.1614174257845467,
          0.5015205797710107,
          0.771894234872698,
          2.093874949223986,
          2.319667883902713,
          2.8067734250797582,
          2.5425004862603555,
          2.1806648947508718,
          1.6075498144188325,
          2.4696031822357307,
          2.72952720141796,
          2.4226368969470577,
          1.8023006698416673,
          1.6760677228400183,
          1.2199709337801932,
          1.7483599572741886,
          1.721444955136082,
          1.960550876630188,
          2.503229473614945,
          1.29994185335547,
          2.2361784849751714,
          1.3519648634664152,
          0.5925356342389118,
          1.357555170054464,
          1.5446322199063782,
          0.6818400081349756,
          0.5435745279825352,
          -0.3072421823611752,
          0.6250520172695159,
          0.7754084435242231,
          0.2694677900581097,
          0.8963829127018282,
          1.1551084124045177,
          2.1937098387943474,
          2.5063853528064133,
          1.4541635183489432,
          0.8913889797963389,
          1.307802294982224,
          2.4591018188970084,
          0.7251103495744567,
          0.36205457226820914,
          1.1376068114645372,
          0.8931854610310713,
          0.6880842572480107,
          1.3748677257816866,
          1.6058890828110262,
          2.3046148105992903,
          1.3550323302433502,
          0.8714754564278453,
          1.3696686592251186,
          1.584108193767207,
          1.302281420862163,
          0.2212064813554427,
          0.7200242361629586,
          0.7483529661798417,
          1.677309419365528,
          1.7083637924431139,
          1.6733988237539352,
          0.4711832167314103,
          0.7223035799182135,
          0.3617772017011904,
          -0.37939903919208934,
          0.01587598655443193,
          0.9296455920914618,
          1.2998886346672256,
          2.04096089039475,
          2.65199651997533,
          2.052656200680563,
          1.9968346005292323,
          1.8153186028225299,
          1.1183404339875387,
          1.025598388561068,
          0.21520303776101835,
          1.0206627761845626,
          0.9303749797095351,
          1.3197751614513404,
          1.3070188318700562,
          0.7853311629525138,
          1.3592468047136927,
          0.317218972673113,
          -0.08910282553063396,
          0.03131195409065992,
          -0.05163658089256826,
          -0.0687330306273383,
          1.2118377453743057,
          1.785130649236154,
          1.6116096124498098,
          1.2701132125716912,
          1.0691218482040314,
          0.9374286037261859,
          0.6380385497161015,
          0.5828489130358812,
          1.1685087124551958
         ],
         "yaxis": "y"
        }
       ],
       "layout": {
        "autosize": true,
        "legend": {
         "title": {
          "text": "variable"
         },
         "tracegroupgap": 0
        },
        "shapes": [
         {
          "line": {
           "color": "#000000",
           "dash": "dash",
           "width": 1
          },
          "type": "line",
          "x0": 0,
          "x1": 1,
          "xref": "x domain",
          "y0": 0,
          "y1": 0,
          "yref": "y"
         }
        ],
        "template": {
         "data": {
          "bar": [
           {
            "error_x": {
             "color": "#2a3f5f"
            },
            "error_y": {
             "color": "#2a3f5f"
            },
            "marker": {
             "line": {
              "color": "#E5ECF6",
              "width": 0.5
             },
             "pattern": {
              "fillmode": "overlay",
              "size": 10,
              "solidity": 0.2
             }
            },
            "type": "bar"
           }
          ],
          "barpolar": [
           {
            "marker": {
             "line": {
              "color": "#E5ECF6",
              "width": 0.5
             },
             "pattern": {
              "fillmode": "overlay",
              "size": 10,
              "solidity": 0.2
             }
            },
            "type": "barpolar"
           }
          ],
          "carpet": [
           {
            "aaxis": {
             "endlinecolor": "#2a3f5f",
             "gridcolor": "white",
             "linecolor": "white",
             "minorgridcolor": "white",
             "startlinecolor": "#2a3f5f"
            },
            "baxis": {
             "endlinecolor": "#2a3f5f",
             "gridcolor": "white",
             "linecolor": "white",
             "minorgridcolor": "white",
             "startlinecolor": "#2a3f5f"
            },
            "type": "carpet"
           }
          ],
          "choropleth": [
           {
            "colorbar": {
             "outlinewidth": 0,
             "ticks": ""
            },
            "type": "choropleth"
           }
          ],
          "contour": [
           {
            "colorbar": {
             "outlinewidth": 0,
             "ticks": ""
            },
            "colorscale": [
             [
              0,
              "#0d0887"
             ],
             [
              0.1111111111111111,
              "#46039f"
             ],
             [
              0.2222222222222222,
              "#7201a8"
             ],
             [
              0.3333333333333333,
              "#9c179e"
             ],
             [
              0.4444444444444444,
              "#bd3786"
             ],
             [
              0.5555555555555556,
              "#d8576b"
             ],
             [
              0.6666666666666666,
              "#ed7953"
             ],
             [
              0.7777777777777778,
              "#fb9f3a"
             ],
             [
              0.8888888888888888,
              "#fdca26"
             ],
             [
              1,
              "#f0f921"
             ]
            ],
            "type": "contour"
           }
          ],
          "contourcarpet": [
           {
            "colorbar": {
             "outlinewidth": 0,
             "ticks": ""
            },
            "type": "contourcarpet"
           }
          ],
          "heatmap": [
           {
            "colorbar": {
             "outlinewidth": 0,
             "ticks": ""
            },
            "colorscale": [
             [
              0,
              "#0d0887"
             ],
             [
              0.1111111111111111,
              "#46039f"
             ],
             [
              0.2222222222222222,
              "#7201a8"
             ],
             [
              0.3333333333333333,
              "#9c179e"
             ],
             [
              0.4444444444444444,
              "#bd3786"
             ],
             [
              0.5555555555555556,
              "#d8576b"
             ],
             [
              0.6666666666666666,
              "#ed7953"
             ],
             [
              0.7777777777777778,
              "#fb9f3a"
             ],
             [
              0.8888888888888888,
              "#fdca26"
             ],
             [
              1,
              "#f0f921"
             ]
            ],
            "type": "heatmap"
           }
          ],
          "heatmapgl": [
           {
            "colorbar": {
             "outlinewidth": 0,
             "ticks": ""
            },
            "colorscale": [
             [
              0,
              "#0d0887"
             ],
             [
              0.1111111111111111,
              "#46039f"
             ],
             [
              0.2222222222222222,
              "#7201a8"
             ],
             [
              0.3333333333333333,
              "#9c179e"
             ],
             [
              0.4444444444444444,
              "#bd3786"
             ],
             [
              0.5555555555555556,
              "#d8576b"
             ],
             [
              0.6666666666666666,
              "#ed7953"
             ],
             [
              0.7777777777777778,
              "#fb9f3a"
             ],
             [
              0.8888888888888888,
              "#fdca26"
             ],
             [
              1,
              "#f0f921"
             ]
            ],
            "type": "heatmapgl"
           }
          ],
          "histogram": [
           {
            "marker": {
             "pattern": {
              "fillmode": "overlay",
              "size": 10,
              "solidity": 0.2
             }
            },
            "type": "histogram"
           }
          ],
          "histogram2d": [
           {
            "colorbar": {
             "outlinewidth": 0,
             "ticks": ""
            },
            "colorscale": [
             [
              0,
              "#0d0887"
             ],
             [
              0.1111111111111111,
              "#46039f"
             ],
             [
              0.2222222222222222,
              "#7201a8"
             ],
             [
              0.3333333333333333,
              "#9c179e"
             ],
             [
              0.4444444444444444,
              "#bd3786"
             ],
             [
              0.5555555555555556,
              "#d8576b"
             ],
             [
              0.6666666666666666,
              "#ed7953"
             ],
             [
              0.7777777777777778,
              "#fb9f3a"
             ],
             [
              0.8888888888888888,
              "#fdca26"
             ],
             [
              1,
              "#f0f921"
             ]
            ],
            "type": "histogram2d"
           }
          ],
          "histogram2dcontour": [
           {
            "colorbar": {
             "outlinewidth": 0,
             "ticks": ""
            },
            "colorscale": [
             [
              0,
              "#0d0887"
             ],
             [
              0.1111111111111111,
              "#46039f"
             ],
             [
              0.2222222222222222,
              "#7201a8"
             ],
             [
              0.3333333333333333,
              "#9c179e"
             ],
             [
              0.4444444444444444,
              "#bd3786"
             ],
             [
              0.5555555555555556,
              "#d8576b"
             ],
             [
              0.6666666666666666,
              "#ed7953"
             ],
             [
              0.7777777777777778,
              "#fb9f3a"
             ],
             [
              0.8888888888888888,
              "#fdca26"
             ],
             [
              1,
              "#f0f921"
             ]
            ],
            "type": "histogram2dcontour"
           }
          ],
          "mesh3d": [
           {
            "colorbar": {
             "outlinewidth": 0,
             "ticks": ""
            },
            "type": "mesh3d"
           }
          ],
          "parcoords": [
           {
            "line": {
             "colorbar": {
              "outlinewidth": 0,
              "ticks": ""
             }
            },
            "type": "parcoords"
           }
          ],
          "pie": [
           {
            "automargin": true,
            "type": "pie"
           }
          ],
          "scatter": [
           {
            "marker": {
             "colorbar": {
              "outlinewidth": 0,
              "ticks": ""
             }
            },
            "type": "scatter"
           }
          ],
          "scatter3d": [
           {
            "line": {
             "colorbar": {
              "outlinewidth": 0,
              "ticks": ""
             }
            },
            "marker": {
             "colorbar": {
              "outlinewidth": 0,
              "ticks": ""
             }
            },
            "type": "scatter3d"
           }
          ],
          "scattercarpet": [
           {
            "marker": {
             "colorbar": {
              "outlinewidth": 0,
              "ticks": ""
             }
            },
            "type": "scattercarpet"
           }
          ],
          "scattergeo": [
           {
            "marker": {
             "colorbar": {
              "outlinewidth": 0,
              "ticks": ""
             }
            },
            "type": "scattergeo"
           }
          ],
          "scattergl": [
           {
            "marker": {
             "colorbar": {
              "outlinewidth": 0,
              "ticks": ""
             }
            },
            "type": "scattergl"
           }
          ],
          "scattermapbox": [
           {
            "marker": {
             "colorbar": {
              "outlinewidth": 0,
              "ticks": ""
             }
            },
            "type": "scattermapbox"
           }
          ],
          "scatterpolar": [
           {
            "marker": {
             "colorbar": {
              "outlinewidth": 0,
              "ticks": ""
             }
            },
            "type": "scatterpolar"
           }
          ],
          "scatterpolargl": [
           {
            "marker": {
             "colorbar": {
              "outlinewidth": 0,
              "ticks": ""
             }
            },
            "type": "scatterpolargl"
           }
          ],
          "scatterternary": [
           {
            "marker": {
             "colorbar": {
              "outlinewidth": 0,
              "ticks": ""
             }
            },
            "type": "scatterternary"
           }
          ],
          "surface": [
           {
            "colorbar": {
             "outlinewidth": 0,
             "ticks": ""
            },
            "colorscale": [
             [
              0,
              "#0d0887"
             ],
             [
              0.1111111111111111,
              "#46039f"
             ],
             [
              0.2222222222222222,
              "#7201a8"
             ],
             [
              0.3333333333333333,
              "#9c179e"
             ],
             [
              0.4444444444444444,
              "#bd3786"
             ],
             [
              0.5555555555555556,
              "#d8576b"
             ],
             [
              0.6666666666666666,
              "#ed7953"
             ],
             [
              0.7777777777777778,
              "#fb9f3a"
             ],
             [
              0.8888888888888888,
              "#fdca26"
             ],
             [
              1,
              "#f0f921"
             ]
            ],
            "type": "surface"
           }
          ],
          "table": [
           {
            "cells": {
             "fill": {
              "color": "#EBF0F8"
             },
             "line": {
              "color": "white"
             }
            },
            "header": {
             "fill": {
              "color": "#C8D4E3"
             },
             "line": {
              "color": "white"
             }
            },
            "type": "table"
           }
          ]
         },
         "layout": {
          "annotationdefaults": {
           "arrowcolor": "#2a3f5f",
           "arrowhead": 0,
           "arrowwidth": 1
          },
          "autotypenumbers": "strict",
          "coloraxis": {
           "colorbar": {
            "outlinewidth": 0,
            "ticks": ""
           }
          },
          "colorscale": {
           "diverging": [
            [
             0,
             "#8e0152"
            ],
            [
             0.1,
             "#c51b7d"
            ],
            [
             0.2,
             "#de77ae"
            ],
            [
             0.3,
             "#f1b6da"
            ],
            [
             0.4,
             "#fde0ef"
            ],
            [
             0.5,
             "#f7f7f7"
            ],
            [
             0.6,
             "#e6f5d0"
            ],
            [
             0.7,
             "#b8e186"
            ],
            [
             0.8,
             "#7fbc41"
            ],
            [
             0.9,
             "#4d9221"
            ],
            [
             1,
             "#276419"
            ]
           ],
           "sequential": [
            [
             0,
             "#0d0887"
            ],
            [
             0.1111111111111111,
             "#46039f"
            ],
            [
             0.2222222222222222,
             "#7201a8"
            ],
            [
             0.3333333333333333,
             "#9c179e"
            ],
            [
             0.4444444444444444,
             "#bd3786"
            ],
            [
             0.5555555555555556,
             "#d8576b"
            ],
            [
             0.6666666666666666,
             "#ed7953"
            ],
            [
             0.7777777777777778,
             "#fb9f3a"
            ],
            [
             0.8888888888888888,
             "#fdca26"
            ],
            [
             1,
             "#f0f921"
            ]
           ],
           "sequentialminus": [
            [
             0,
             "#0d0887"
            ],
            [
             0.1111111111111111,
             "#46039f"
            ],
            [
             0.2222222222222222,
             "#7201a8"
            ],
            [
             0.3333333333333333,
             "#9c179e"
            ],
            [
             0.4444444444444444,
             "#bd3786"
            ],
            [
             0.5555555555555556,
             "#d8576b"
            ],
            [
             0.6666666666666666,
             "#ed7953"
            ],
            [
             0.7777777777777778,
             "#fb9f3a"
            ],
            [
             0.8888888888888888,
             "#fdca26"
            ],
            [
             1,
             "#f0f921"
            ]
           ]
          },
          "colorway": [
           "#636efa",
           "#EF553B",
           "#00cc96",
           "#ab63fa",
           "#FFA15A",
           "#19d3f3",
           "#FF6692",
           "#B6E880",
           "#FF97FF",
           "#FECB52"
          ],
          "font": {
           "color": "#2a3f5f"
          },
          "geo": {
           "bgcolor": "white",
           "lakecolor": "white",
           "landcolor": "#E5ECF6",
           "showlakes": true,
           "showland": true,
           "subunitcolor": "white"
          },
          "hoverlabel": {
           "align": "left"
          },
          "hovermode": "closest",
          "mapbox": {
           "style": "light"
          },
          "paper_bgcolor": "white",
          "plot_bgcolor": "#E5ECF6",
          "polar": {
           "angularaxis": {
            "gridcolor": "white",
            "linecolor": "white",
            "ticks": ""
           },
           "bgcolor": "#E5ECF6",
           "radialaxis": {
            "gridcolor": "white",
            "linecolor": "white",
            "ticks": ""
           }
          },
          "scene": {
           "xaxis": {
            "backgroundcolor": "#E5ECF6",
            "gridcolor": "white",
            "gridwidth": 2,
            "linecolor": "white",
            "showbackground": true,
            "ticks": "",
            "zerolinecolor": "white"
           },
           "yaxis": {
            "backgroundcolor": "#E5ECF6",
            "gridcolor": "white",
            "gridwidth": 2,
            "linecolor": "white",
            "showbackground": true,
            "ticks": "",
            "zerolinecolor": "white"
           },
           "zaxis": {
            "backgroundcolor": "#E5ECF6",
            "gridcolor": "white",
            "gridwidth": 2,
            "linecolor": "white",
            "showbackground": true,
            "ticks": "",
            "zerolinecolor": "white"
           }
          },
          "shapedefaults": {
           "line": {
            "color": "#2a3f5f"
           }
          },
          "ternary": {
           "aaxis": {
            "gridcolor": "white",
            "linecolor": "white",
            "ticks": ""
           },
           "baxis": {
            "gridcolor": "white",
            "linecolor": "white",
            "ticks": ""
           },
           "bgcolor": "#E5ECF6",
           "caxis": {
            "gridcolor": "white",
            "linecolor": "white",
            "ticks": ""
           }
          },
          "title": {
           "x": 0.05
          },
          "xaxis": {
           "automargin": true,
           "gridcolor": "white",
           "linecolor": "white",
           "ticks": "",
           "title": {
            "standoff": 15
           },
           "zerolinecolor": "white",
           "zerolinewidth": 2
          },
          "yaxis": {
           "automargin": true,
           "gridcolor": "white",
           "linecolor": "white",
           "ticks": "",
           "title": {
            "standoff": 15
           },
           "zerolinecolor": "white",
           "zerolinewidth": 2
          }
         }
        },
        "title": {
         "text": "Portfolio Sharpe"
        },
        "xaxis": {
         "anchor": "y",
         "domain": [
          0,
          1
         ],
         "title": {
          "text": "Date"
         }
        },
        "yaxis": {
         "anchor": "x",
         "domain": [
          0,
          1
         ],
         "title": {
          "text": "value"
         }
        }
       }
      }
     },
     "metadata": {},
     "output_type": "display_data"
    }
   ],
   "source": [
    "#Portfolio vs Market Returns \n",
    "\n",
    "average_return_50          = pm.rolling(algorithm.percent_return,50).mean(axis=1)[-200:]\n",
    "weighted_average_sharpe_50 = pm.weighted_average_rolling(algorithm.percent_return,50)[-200:]\n",
    "market_return_50 = comp.rolling(algorithm.percent_return,50,benchmark['Close'])[-200:]\n",
    "\n",
    "df = pd.DataFrame({\n",
    "    'Average Portfolio Return' : average_return_50,\n",
    "    'Weighted Average Portfolio Return': weighted_average_sharpe_50,\n",
    "    'Average Market Return' : market_return_50 \n",
    "})\n",
    "\n",
    "average_return = px.line(df,title='Portfolio Returns')\n",
    "average_return.add_hline(y=0, line_dash=\"dash\", row='all', col='all', line_color=\"#000000\", line_width=1)\n",
    "average_return.update_layout(autosize=True)\n",
    "average_return.show(config={'responsive': True})\n",
    "\n",
    "average_sharpe_50          = pm.rolling(algorithm.sharpe,50,risk_free_rate['Close']).mean(axis=1)[-200:]\n",
    "weighted_average_sharpe_50 = pm.weighted_average_rolling(algorithm.sharpe,50,risk_free_rate['Close'])[-200:]\n",
    "market_sharpe_50 = comp.rolling(algorithm.sharpe,50,benchmark['Close'],risk_free_rate['Close'])[-200:]\n",
    "\n",
    "df = pd.DataFrame({\n",
    "    'Average Portfolio Sharpe' : average_sharpe_50,\n",
    "    'Weighted Average Portfolio Sharpe': weighted_average_sharpe_50,\n",
    "    'Average Market Sharpe' : market_sharpe_50 \n",
    "})\n",
    "\n",
    "average_sharpe = px.line(df,title='Portfolio Sharpe' )\n",
    "average_sharpe.add_hline(y=0, line_dash=\"dash\", row='all', col='all', line_color=\"#000000\", line_width=1)\n",
    "average_sharpe.update_layout(autosize=True)\n",
    "average_sharpe.show(config={'responsive': True})\n",
    "\n",
    "\n",
    "\n"
   ]
  },
  {
   "cell_type": "code",
   "execution_count": 4,
   "id": "64515fb8",
   "metadata": {},
   "outputs": [
    {
     "data": {
      "application/vnd.plotly.v1+json": {
       "config": {
        "plotlyServerURL": "https://plot.ly"
       },
       "data": [
        {
         "autobinx": false,
         "histnorm": "probability density",
         "legendgroup": "Average Portfolio Return Distribution",
         "marker": {
          "color": "rgb(31, 119, 180)"
         },
         "name": "Average Portfolio Return Distribution",
         "opacity": 0.7,
         "type": "histogram",
         "x": [
          0.024629706353194177,
          0.0002606051789112738,
          -0.014178491858602682,
          -0.0024745467214230448,
          -0.009969858021054935,
          0.009880889908320327,
          -0.002730073042009689,
          0.0009840967323644476,
          0.017450857002936082,
          -0.00462009373810191,
          -0.009720851611750674,
          -0.004696335595107225,
          -0.0016604648818529617,
          -0.00627184119285499,
          0.018617655497395007,
          -0.0024520918089975118,
          0.022663585472661753,
          0.0038706617300934627,
          0.005619494244582077,
          -0.008412535886079322,
          0.0014200704387640098,
          -0.006234850338960402,
          0.017515867632884343,
          0.011232823215681729,
          0.0051946883022241834,
          -0.0007277676856381355,
          -0.005498454019302051,
          0.011777129658058934,
          -0.0003330979088959128,
          -0.0023169564915731388,
          0.0027436563729070773,
          -0.003991547136527233,
          0.01781395245156152,
          0.0017443938035021224,
          0.014617854409827092,
          0.003756933419295413,
          0.0020031836732485875,
          -0.010539902833787747,
          0.000577481619446891,
          -0.010535831775081342,
          -0.013637883809185219,
          -0.003930014389016786,
          0.00516111018634848,
          0.01569543123883162,
          -0.025382732530500707,
          -0.004613804825777072,
          -0.010554546517679215,
          -0.006147480678226468,
          0.0002571980211481406,
          -0.010007038738959691,
          -0.005821805066375508,
          0.016681208808864523,
          0.00521004861539072,
          0.01329462781634384,
          0.007699551645573758,
          -0.03353232922484496,
          0.003525985764190257,
          -0.009975936870121944,
          -0.008886861461438047,
          0.0039774211217779186,
          -0.013785907914803783,
          -0.011311513068391038,
          -0.011942663861324124,
          -0.015661011012720456,
          -0.012284706385561605,
          -0.005656886352570962,
          0.021646478409071745,
          -0.02569044430115548,
          -0.009297156565776246,
          0.02101408356532604,
          0.02815611130203073,
          -0.004113004423560901,
          -0.012394553095764904,
          -0.02457407290394385,
          -0.006221682989985288,
          -0.004707752271365047,
          -0.006699208921785008,
          0.02009742536281413,
          -0.020280961485705393,
          0.01883593683373267,
          0.007803873298035173,
          -0.008949208761767023,
          -0.005985286286127605,
          0.01730487612794669,
          0.003039081374656626,
          0.024184767304056016,
          0.0032942318195786826,
          -0.009061483056138346,
          0.016291263783942658,
          -0.005901738031254727,
          0.0010968449595282366,
          -0.022838210300502475,
          -0.004913040541645179,
          0.018852813206803574,
          0.0069657351171318275,
          0.007944124490077902,
          -0.016677279260011585,
          0.052125966027631504,
          0.0048709358255784665,
          -0.007178452780733111,
          0.011079334824616658,
          -0.0105594309407706,
          -0.0026045337696849495,
          0.004833909236063416,
          0.0005250983787554188,
          0.009876943273476511,
          0.005062339628007915,
          -0.0010108673774888214,
          -0.013667633866756995,
          0.0020361911701784054,
          0.028825302542232277,
          -0.0001154690736151893,
          -0.0016228331456812376,
          -0.016369050333370192,
          -0.012327955684269195,
          0.0031197058485931913,
          0.006815428929001205,
          -0.004775358351578439,
          0.011631752506015794,
          0.007726116953475381,
          -0.005268015984510857,
          -0.019111805127487603,
          -0.010800370635886802,
          -0.015159896139469138,
          -0.0013236950801693089,
          0.011899391828818036,
          -0.011404730204004778,
          0.004043207010675461,
          -0.00020356006277848126,
          -0.013671622135492879,
          0.014333787613871109,
          -0.005899248494751611,
          -0.001119149212788778,
          0.016194556299899247,
          -0.011663895595951592,
          0.02247551334060292,
          0.004296905596888302,
          0.0010688964812835097,
          0.01176491941483472,
          0.001085051798401928,
          0.00041855636952831257,
          0.0013305676639241534,
          -0.016934143018934786,
          -0.007424294973400816,
          0.015754962678382223,
          0.01280864797553766,
          -0.0033460205276258977,
          -0.0010214072705027923,
          0.006665478796227332,
          0.0005537647737399149,
          -0.012270902782705711,
          0.015957462491040124,
          0.008866101321436705,
          0.009550340199409068,
          -0.013501387024887047,
          -0.004401786442587025,
          0.007642335268640408,
          -0.010634760110718126,
          -0.0067839424908488445,
          0.0024162340289437803,
          0.009569773173597494,
          -0.001330393932369247,
          0.0005670204463369925,
          -0.008957352693903799,
          -0.0015697484898692057,
          -0.017133682734476373,
          -0.0025505489634549683,
          0.0038156673037795553,
          -0.006579874348893424,
          0.002490871785080914,
          -0.0024945321249169147,
          -0.00004588495195257919,
          0.006249062424967567,
          0.016624897419990382,
          -0.00666834219204742,
          -0.01271675388264236,
          0.001307546880988826,
          -0.015150659629725713,
          -0.009420247081938522,
          0.009776800729620606,
          0.010966385921750355,
          -0.0027615884370488434,
          0.006729094027110925,
          -0.008065638203243613,
          0.006491317081156218,
          0.005009865058301074,
          -0.015940716289650707,
          0.0020983248643432185,
          0.008448048782505178,
          -0.0012572875050204102,
          -0.003740058616127427,
          0.011948085275477251,
          0.007725637047362611,
          0.014415501162264161,
          -0.00017000182302338344,
          -0.0038794518260297944,
          0.0031508642793848566,
          0.0015247603859565788,
          0.004472842699239194,
          0.006242084104840219
         ],
         "xaxis": "x",
         "xbins": {
          "end": 0.052125966027631504,
          "size": 0.005,
          "start": -0.03353232922484496
         },
         "yaxis": "y"
        },
        {
         "autobinx": false,
         "histnorm": "probability density",
         "legendgroup": "Market Return Distribution",
         "marker": {
          "color": "rgb(255, 127, 14)"
         },
         "name": "Market Return Distribution",
         "opacity": 0.7,
         "type": "histogram",
         "x": [
          0.031793859022121174,
          -0.003819706494633812,
          -0.020432889485827888,
          -0.000814397032841141,
          -0.008124284425026218,
          0.01057658534923167,
          0.001888564941912474,
          0.003377314086326688,
          0.014977114210282139,
          -0.0008225951761684502,
          -0.011423490843509576,
          -0.008849001674498425,
          -0.005251643907676851,
          -0.002428581648118877,
          0.01910521367503204,
          -0.00825704532733551,
          0.02701930182439294,
          0.006373068974359075,
          0.010183278504690696,
          -0.009278166862722315,
          0.001214881132410417,
          -0.011830972008287421,
          0.025966394765534195,
          0.01254237598957575,
          0.014578713547128253,
          -0.0029611810762227853,
          -0.006597363221259145,
          0.015659423813353168,
          -0.0006755826275728349,
          -0.0016901356749269292,
          -0.0011608759759508258,
          -0.003971004603109063,
          0.021003983831497486,
          0,
          0.01692900272517739,
          0.004120754494194578,
          0.0019587197506811815,
          -0.007097984795662371,
          0.002906437960343844,
          -0.013438011119180193,
          -0.020822580388957235,
          -0.002419237276034991,
          0.0032011734863370833,
          0.014117547576038225,
          -0.0338490864235943,
          -0.00661220789785566,
          -0.010977836109841155,
          -0.007609078591837348,
          0.003137891195427178,
          -0.010544364202199286,
          -0.003773225485024345,
          0.017964904322798514,
          0.0065364092467572465,
          0.01553523418774927,
          0.010747606871877702,
          -0.043482504242637554,
          0.0038159093935532518,
          -0.011353309228985364,
          -0.007628886622798481,
          0.007754900540489107,
          -0.011478563194747937,
          -0.017443816042980953,
          -0.008399829503203393,
          -0.016754797294074475,
          -0.009892740545064282,
          -0.002552635326925401,
          0.019676324283453228,
          -0.020888986008976484,
          -0.015463535362892133,
          0.02640122643958498,
          0.030986596740167682,
          -0.0023282355329208304,
          -0.010315722260515914,
          -0.027893918257497763,
          -0.007635360754466247,
          -0.006332915105292436,
          -0.0032985572855068757,
          0.026391120004501945,
          -0.022788699167828774,
          0.025696972575794952,
          0.011749546374502984,
          -0.007086403473821168,
          -0.008385338572858059,
          0.024301509208539462,
          0.012236463366664951,
          0.015968462228209246,
          -0.0075340183317945675,
          -0.005340020711430804,
          0.02379067812183666,
          -0.007223302402504128,
          -0.004375841910310152,
          -0.025096140994520066,
          -0.01029693372570073,
          0.014393139695051405,
          0.009565635279449758,
          0.0053953561156157015,
          -0.02060206472600634,
          0.05495417640586675,
          0.0096784931030367,
          -0.008506737641093887,
          0.008529018641402653,
          -0.00762877015254293,
          -0.003059806540661403,
          0.004540411102942565,
          -0.0036361152531662055,
          0.013457067590753269,
          0.006301545154109078,
          -0.00022368683781526233,
          -0.015957067607243802,
          -0.0017174799504912075,
          0.03150058040826975,
          -0.0007358516146311889,
          -0.0011536932082581997,
          -0.01798926896974007,
          -0.014414805876424519,
          -0.0017012327158358875,
          0.007833949881882463,
          -0.007470155338409334,
          0.014417199037194406,
          0.007569910183636175,
          -0.006393504059006072,
          -0.02446174099074716,
          -0.011806125340778517,
          -0.00847965373861359,
          0.0013683831821151848,
          0.014952432458018805,
          -0.014266172065425464,
          0.00575233297776534,
          -0.003943520580158011,
          -0.012427913802823598,
          0.01800037070566396,
          -0.002634141399809109,
          -0.0042098488916173515,
          0.007720211280170419,
          -0.011413449636703654,
          0.022932094685681248,
          -0.0005668499278826955,
          0.007012832638618738,
          0.012647898624808862,
          0.003640736468800032,
          0.0038794949579916693,
          -0.0018318930973914016,
          -0.015787968659110918,
          -0.007279821834394906,
          0.01862903811898886,
          0.011998567501537494,
          -0.0010733348361193773,
          0.0003748499203337641,
          0.010990380748274298,
          0.0022976860489556383,
          -0.012546835894967967,
          0.014703334025153003,
          0.010627786968863129,
          0.014556990107692735,
          -0.010629084353004359,
          -0.006111356974284665,
          0.01307861543336264,
          -0.01093474465846489,
          -0.00866921561245082,
          0.002333693134854542,
          0.011738972448576579,
          -0.00046014519989012737,
          0.0032473693353665123,
          -0.013768819574651592,
          -0.0024982641356086077,
          -0.020060916066800716,
          -0.0013781445495089084,
          0.005319412650876654,
          -0.010682387853239494,
          0.0034058527743259237,
          -0.0036959883591694,
          -0.0038358659418272767,
          0.007777248852251395,
          0.016037807843089835,
          0.0006928074595529132,
          -0.015328763308337767,
          0.0016321186552339384,
          -0.018449848995308882,
          -0.014429438103511716,
          -0.001425291732331524,
          0.01653011344042743,
          -0.0062543568257705795,
          0.01754516983726595,
          -0.01169269309346832,
          0.009615631410812231,
          0.013130526631691453,
          -0.017046497325513887,
          0.0027033947508923184,
          0.006562012575101583,
          0.0018698426642451693,
          -0.002244657249312332,
          0.014534883496678752,
          0.005855253688247242,
          0.014094630342711634,
          0.003810541299922532,
          -0.0055481170740256935,
          -0.0026182672793729767,
          0.003900874175862601,
          0.0010263762742257487,
          0.0002685868828276039
         ],
         "xaxis": "x",
         "xbins": {
          "end": 0.05495417640586675,
          "size": 0.005,
          "start": -0.043482504242637554
         },
         "yaxis": "y"
        },
        {
         "legendgroup": "Average Portfolio Return Distribution",
         "marker": {
          "color": "rgb(31, 119, 180)"
         },
         "mode": "lines",
         "name": "Average Portfolio Return Distribution",
         "showlegend": false,
         "type": "scatter",
         "x": [
          -0.03353232922484496,
          -0.033361012634340007,
          -0.03318969604383506,
          -0.0330183794533301,
          -0.03284706286282515,
          -0.0326757462723202,
          -0.032504429681815245,
          -0.03233311309131029,
          -0.03216179650080534,
          -0.031990479910300386,
          -0.03181916331979543,
          -0.03164784672929048,
          -0.03147653013878553,
          -0.03130521354828057,
          -0.03113389695777562,
          -0.03096258036727067,
          -0.030791263776765714,
          -0.030619947186260762,
          -0.03044863059575581,
          -0.030277314005250855,
          -0.030105997414745903,
          -0.02993468082424095,
          -0.029763364233735996,
          -0.029592047643231045,
          -0.029420731052726093,
          -0.029249414462221138,
          -0.029078097871716186,
          -0.028906781281211234,
          -0.02873546469070628,
          -0.028564148100201327,
          -0.028392831509696376,
          -0.02822151491919142,
          -0.02805019832868647,
          -0.027878881738181517,
          -0.027707565147676562,
          -0.02753624855717161,
          -0.027364931966666655,
          -0.027193615376161703,
          -0.027022298785656748,
          -0.026850982195151796,
          -0.026679665604646845,
          -0.02650834901414189,
          -0.026337032423636938,
          -0.026165715833131986,
          -0.02599439924262703,
          -0.02582308265212208,
          -0.025651766061617128,
          -0.025480449471112172,
          -0.02530913288060722,
          -0.02513781629010227,
          -0.024966499699597314,
          -0.024795183109092362,
          -0.02462386651858741,
          -0.024452549928082455,
          -0.024281233337577503,
          -0.02410991674707255,
          -0.023938600156567597,
          -0.023767283566062645,
          -0.023595966975557693,
          -0.023424650385052738,
          -0.023253333794547786,
          -0.023082017204042835,
          -0.02291070061353788,
          -0.022739384023032924,
          -0.022568067432527976,
          -0.02239675084202302,
          -0.02222543425151807,
          -0.022054117661013117,
          -0.021882801070508162,
          -0.02171148448000321,
          -0.02154016788949826,
          -0.021368851298993304,
          -0.02119753470848835,
          -0.0210262181179834,
          -0.020854901527478445,
          -0.02068358493697349,
          -0.020512268346468538,
          -0.020340951755963586,
          -0.02016963516545863,
          -0.01999831857495368,
          -0.019827001984448728,
          -0.019655685393943773,
          -0.01948436880343882,
          -0.01931305221293387,
          -0.019141735622428914,
          -0.018970419031923962,
          -0.01879910244141901,
          -0.018627785850914055,
          -0.018456469260409104,
          -0.018285152669904152,
          -0.018113836079399197,
          -0.017942519488894245,
          -0.01777120289838929,
          -0.017599886307884338,
          -0.017428569717379386,
          -0.01725725312687443,
          -0.01708593653636948,
          -0.016914619945864528,
          -0.016743303355359576,
          -0.01657198676485462,
          -0.01640067017434967,
          -0.016229353583844718,
          -0.016058036993339762,
          -0.015886720402834807,
          -0.01571540381232986,
          -0.015544087221824904,
          -0.015372770631319952,
          -0.015201454040814997,
          -0.015030137450310045,
          -0.014858820859805093,
          -0.014687504269300138,
          -0.014516187678795183,
          -0.014344871088290235,
          -0.01417355449778528,
          -0.014002237907280328,
          -0.013830921316775373,
          -0.013659604726270421,
          -0.01348828813576547,
          -0.013316971545260514,
          -0.013145654954755566,
          -0.01297433836425061,
          -0.012803021773745656,
          -0.012631705183240704,
          -0.012460388592735752,
          -0.012289072002230797,
          -0.012117755411725845,
          -0.01194643882122089,
          -0.011775122230715942,
          -0.011603805640210987,
          -0.011432489049706031,
          -0.01126117245920108,
          -0.011089855868696128,
          -0.010918539278191176,
          -0.010747222687686221,
          -0.01057590609718127,
          -0.010404589506676318,
          -0.010233272916171363,
          -0.010061956325666407,
          -0.00989063973516146,
          -0.009719323144656504,
          -0.009548006554151552,
          -0.009376689963646597,
          -0.009205373373141645,
          -0.009034056782636694,
          -0.008862740192131738,
          -0.008691423601626787,
          -0.008520107011121835,
          -0.00834879042061688,
          -0.008177473830111928,
          -0.008006157239606976,
          -0.007834840649102021,
          -0.00766352405859707,
          -0.007492207468092114,
          -0.007320890877587166,
          -0.007149574287082211,
          -0.006978257696577256,
          -0.006806941106072304,
          -0.006635624515567352,
          -0.006464307925062397,
          -0.0062929913345574455,
          -0.00612167474405249,
          -0.005950358153547542,
          -0.005779041563042587,
          -0.005607724972537632,
          -0.00543640838203268,
          -0.005265091791527728,
          -0.005093775201022777,
          -0.004922458610517821,
          -0.00475114202001287,
          -0.004579825429507918,
          -0.004408508839002963,
          -0.004237192248498008,
          -0.004065875657993059,
          -0.003894559067488104,
          -0.0037232424769831525,
          -0.0035519258864781973,
          -0.0033806092959732456,
          -0.003209292705468294,
          -0.0030379761149633387,
          -0.002866659524458387,
          -0.0026953429339534353,
          -0.00252402634344848,
          -0.0023527097529435284,
          -0.0021813931624385732,
          -0.002010076571933618,
          -0.0018387599814286698,
          -0.0016674433909237146,
          -0.0014961268004187595,
          -0.0013248102099138112,
          -0.001153493619408863,
          -0.0009821770289039009,
          -0.0008108604383989526,
          -0.0006395438478939974,
          -0.00046822725738904225,
          -0.000296910666884094,
          -0.00012559407637913883,
          0.00004572251412580941,
          0.0002170391046307646,
          0.00038835569513571977,
          0.000559672285640668,
          0.0007309888761456232,
          0.0009023054666505784,
          0.0010736220571555266,
          0.0012449386476604887,
          0.001416255238165437,
          0.0015875718286703852,
          0.0017588884191753473,
          0.0019302050096802956,
          0.002101521600185244,
          0.002272838190690199,
          0.002444154781195154,
          0.0026154713717001093,
          0.0027867879622050576,
          0.0029581045527100128,
          0.003129421143214968,
          0.003300737733719916,
          0.0034720543242248714,
          0.0036433709147298265,
          0.003814687505234775,
          0.00398600409573973,
          0.004157320686244685,
          0.004328637276749633,
          0.0044999538672545955,
          0.004671270457759544,
          0.004842587048264492,
          0.005013903638769447,
          0.005185220229274402,
          0.005356536819779351,
          0.005527853410284306,
          0.005699170000789261,
          0.005870486591294216,
          0.006041803181799164,
          0.0062131197723041195,
          0.006384436362809075,
          0.006555752953314023,
          0.006727069543818978,
          0.006898386134323933,
          0.007069702724828882,
          0.00724101931533383,
          0.007412335905838792,
          0.00758365249634374,
          0.007754969086848695,
          0.00792628567735365,
          0.008097602267858599,
          0.008268918858363554,
          0.008440235448868509,
          0.008611552039373457,
          0.008782868629878413,
          0.008954185220383368,
          0.009125501810888316,
          0.009296818401393271,
          0.00946813499189822,
          0.009639451582403182,
          0.00981076817290813,
          0.009982084763413078,
          0.01015340135391804,
          0.010324717944422988,
          0.010496034534927937,
          0.010667351125432899,
          0.010838667715937847,
          0.011009984306442802,
          0.011181300896947757,
          0.011352617487452706,
          0.01152393407795766,
          0.011695250668462609,
          0.011866567258967564,
          0.01203788384947252,
          0.012209200439977468,
          0.012380517030482423,
          0.012551833620987378,
          0.012723150211492326,
          0.012894466801997288,
          0.013065783392502237,
          0.013237099983007185,
          0.013408416573512147,
          0.013579733164017095,
          0.013751049754522043,
          0.013922366345026999,
          0.014093682935531954,
          0.014264999526036909,
          0.014436316116541857,
          0.014607632707046812,
          0.014778949297551768,
          0.014950265888056716,
          0.015121582478561671,
          0.015292899069066626,
          0.015464215659571574,
          0.01563553225007653,
          0.015806848840581485,
          0.015978165431086433,
          0.016149482021591388,
          0.016320798612096343,
          0.01649211520260129,
          0.016663431793106247,
          0.016834748383611202,
          0.01700606497411615,
          0.017177381564621105,
          0.01734869815512606,
          0.01752001474563101,
          0.017691331336135964,
          0.01786264792664092,
          0.018033964517145874,
          0.018205281107650823,
          0.018376597698155778,
          0.018547914288660733,
          0.01871923087916568,
          0.01889054746967063,
          0.01906186406017559,
          0.01923318065068054,
          0.019404497241185495,
          0.01957581383169045,
          0.0197471304221954,
          0.019918447012700354,
          0.02008976360320531,
          0.020261080193710257,
          0.020432396784215212,
          0.020603713374720167,
          0.020775029965225116,
          0.02094634655573007,
          0.02111766314623502,
          0.02128897973673998,
          0.02146029632724493,
          0.021631612917749878,
          0.02180292950825484,
          0.021974246098759788,
          0.022145562689264736,
          0.022316879279769698,
          0.022488195870274647,
          0.0226595124607796,
          0.022830829051284557,
          0.023002145641789505,
          0.02317346223229446,
          0.02334477882279941,
          0.023516095413304364,
          0.02368741200380932,
          0.023858728594314267,
          0.024030045184819222,
          0.024201361775324177,
          0.024372678365829126,
          0.024543994956334088,
          0.024715311546839036,
          0.024886628137343984,
          0.025057944727848946,
          0.025229261318353895,
          0.025400577908858843,
          0.025571894499363798,
          0.025743211089868753,
          0.0259145276803737,
          0.026085844270878657,
          0.026257160861383612,
          0.026428477451888567,
          0.026599794042393515,
          0.02677111063289847,
          0.026942427223403426,
          0.027113743813908374,
          0.02728506040441333,
          0.027456376994918284,
          0.027627693585423233,
          0.027799010175928188,
          0.027970326766433143,
          0.02814164335693809,
          0.028312959947443046,
          0.028484276537948,
          0.02865559312845295,
          0.028826909718957905,
          0.02899822630946286,
          0.029169542899967815,
          0.029340859490472757,
          0.029512176080977726,
          0.029683492671482667,
          0.029854809261987622,
          0.030026125852492577,
          0.030197442442997532,
          0.030368759033502488,
          0.030540075624007443,
          0.030711392214512384,
          0.03088270880501734,
          0.031054025395522294,
          0.031225341986027236,
          0.031396658576532205,
          0.03156797516703716,
          0.0317392917575421,
          0.031910608348047056,
          0.03208192493855201,
          0.03225324152905697,
          0.03242455811956192,
          0.03259587471006688,
          0.03276719130057182,
          0.032938507891076774,
          0.03310982448158173,
          0.033281141072086684,
          0.03345245766259164,
          0.03362377425309658,
          0.033795090843601536,
          0.03396640743410649,
          0.034137724024611446,
          0.0343090406151164,
          0.034480357205621356,
          0.0346516737961263,
          0.03482299038663125,
          0.03499430697713621,
          0.03516562356764116,
          0.03533694015814612,
          0.035508256748651074,
          0.035679573339156015,
          0.03585088992966097,
          0.03602220652016594,
          0.03619352311067088,
          0.036364839701175836,
          0.03653615629168079,
          0.03670747288218573,
          0.0368787894726907,
          0.037050106063195656,
          0.0372214226537006,
          0.03739273924420555,
          0.03756405583471051,
          0.03773537242521545,
          0.03790668901572042,
          0.03807800560622536,
          0.038249322196730315,
          0.03842063878723527,
          0.03859195537774021,
          0.03876327196824518,
          0.038934588558750136,
          0.03910590514925508,
          0.03927722173976003,
          0.03944853833026499,
          0.03961985492076993,
          0.0397911715112749,
          0.03996248810177985,
          0.040133804692284794,
          0.04030512128278975,
          0.040476437873294704,
          0.04064775446379966,
          0.040819071054304615,
          0.04099038764480957,
          0.04116170423531451,
          0.041333020825819466,
          0.04150433741632442,
          0.04167565400682938,
          0.04184697059733433,
          0.04201828718783929,
          0.04218960377834423,
          0.042360920368849184,
          0.04253223695935415,
          0.042703553549859094,
          0.04287487014036405,
          0.04304618673086899,
          0.043217503321373946,
          0.0433888199118789,
          0.043560136502383856,
          0.04373145309288881,
          0.043902769683393766,
          0.04407408627389871,
          0.04424540286440366,
          0.04441671945490863,
          0.04458803604541357,
          0.04475935263591853,
          0.044930669226423484,
          0.045101985816928425,
          0.045273302407433394,
          0.04544461899793835,
          0.04561593558844329,
          0.045787252178948246,
          0.0459585687694532,
          0.04612988535995814,
          0.04630120195046311,
          0.046472518540968066,
          0.04664383513147301,
          0.04681515172197796,
          0.04698646831248292,
          0.04715778490298787,
          0.04732910149349283,
          0.04750041808399777,
          0.047671734674502725,
          0.04784305126500768,
          0.04801436785551262,
          0.04818568444601759,
          0.048357001036522546,
          0.04852831762702749,
          0.04869963421753244,
          0.0488709508080374,
          0.04904226739854235,
          0.04921358398904731,
          0.04938490057955226,
          0.049556217170057204,
          0.04972753376056216,
          0.049898850351067114,
          0.05007016694157207,
          0.050241483532077025,
          0.05041280012258198,
          0.05058411671308692,
          0.050755433303591876,
          0.050926749894096845,
          0.05109806648460179,
          0.05126938307510674,
          0.0514406996656117,
          0.05161201625611664,
          0.051783332846621594,
          0.05195464943712655
         ],
         "xaxis": "x",
         "y": [
          0.6948171990673517,
          0.712996274768393,
          0.7316104662220211,
          0.7507176247269426,
          0.7703781946430988,
          0.790654684094958,
          0.811611090724508,
          0.8333122890185078,
          0.8558233866097624,
          0.8792090577511571,
          0.9035328628679172,
          0.9288565636931717,
          0.9552394439704839,
          0.9827376460524218,
          1.0114035339259637,
          1.041285093245044,
          1.0724253788417044,
          1.1048620199161518,
          1.138626792671361,
          1.1737452695608952,
          1.2102365535634674,
          1.2481131049910539,
          1.287380667288515,
          1.3280382971035525,
          1.3700785026108109,
          1.4134874926795,
          1.4582455379988333,
          1.5043274437399954,
          1.5517031317589705,
          1.6003383287547008,
          1.6501953552144868,
          1.7012340084280213,
          1.7534125313563256,
          1.806688657725743,
          1.861020722402678,
          1.9163688249130912,
          1.9726960329217822,
          2.0299696115978785,
          2.08816226408008,
          2.1472533677310945,
          2.207230190545442,
          2.2680890719551017,
          2.3298365523680222,
          2.392490436075116,
          2.4560807726701337,
          2.5206507428378506,
          2.586257435270121,
          2.652972502555257,
          2.7208826851385584,
          2.790090193854107,
          2.860712943060213,
          2.9328846280521654,
          3.0067546421530444,
          3.0824878306725183,
          3.160264080749641,
          3.2402777479339684,
          3.3227369221843843,
          3.407862537752533,
          3.495887333144138,
          3.587054668994121,
          3.68161721322976,
          3.7798355043114475,
          3.881976404615945,
          3.988311457148943,
          4.099115159729771,
          4.21466317157369,
          4.33523046779911,
          4.461089457806704,
          4.592508083713031,
          4.729747915076703,
          4.8730622560348,
          5.022694280678707,
          5.1788752120520245,
          5.341822559560006,
          5.5117384288537234,
          5.6888079174074555,
          5.87319760806101,
          6.065054171765154,
          6.26450308966619,
          6.47164750351118,
          6.686567202164463,
          6.909317750815984,
          7.139929768246418,
          7.37840835630743,
          7.624732684589902,
          7.878855732099722,
          8.140704186648088,
          8.410178501599093,
          8.687153108607376,
          8.971476784025063,
          9.262973165763812,
          9.561441416562767,
          9.866657028836926,
          10.17837276555915,
          10.49631973095888,
          10.820208564198804,
          11.149730748609494,
          11.484560028518645,
          11.824353925199501,
          12.168755342977711,
          12.517394256073588,
          12.869889466314682,
          13.225850421428337,
          13.584879083217201,
          13.94657183453233,
          14.310521413590978,
          14.67631886384449,
          15.043555487293228,
          15.411824788873945,
          15.780724399325084,
          16.149857963771783,
          16.51883698318066,
          16.887282595823073,
          17.254827285968744,
          17.621116507218673,
          17.985810208190898,
          18.34858424870092,
          18.709131695142627,
          19.067163984477094,
          19.42241194708328,
          19.774626679713325,
          20.123580260926474,
          20.46906630264206,
          20.810900332844103,
          21.148920005977605,
          21.482985139178062,
          21.8129775741602,
          22.13880086632568,
          22.460379804419677,
          22.777659765834713,
          23.09060591440645,
          23.399202249235284,
          23.703450514672134,
          24.00336898309692,
          24.298991123464926,
          24.590364169774723,
          24.877547604595758,
          25.160611573566744,
          25.439635247320417,
          25.71470514759195,
          25.985913454326088,
          26.25335631040553,
          26.5171321401862,
          26.77733999735414,
          27.034077956727046,
          27.287441563530177,
          27.537522352409958,
          27.78440644703007,
          28.028173249563366,
          28.268894227778333,
          28.506631805757724,
          28.741438362617014,
          28.973355341947926,
          29.202412473131528,
          29.42862710418164,
          29.65200364442097,
          29.87253311408729,
          30.09019279693767,
          30.30494599107949,
          30.51674185262424,
          30.72551532633341,
          30.93118715721171,
          31.133663976987673,
          31.33283845960313,
          31.52858954018329,
          31.720782692466255,
          31.909270260302108,
          32.09389183956206,
          32.27447470759317,
          32.450834298183565,
          32.622774720830215,
          32.79008932389672,
          32.95256130197644,
          33.1099643484123,
          33.262063354437416,
          33.40861515677399,
          33.54936933573833,
          33.68406906594241,
          33.81245202154165,
          33.93425133766149,
          34.049196629140546,
          34.15701506706992,
          34.25743251279534,
          34.35017470811056,
          34.434968519319156,
          34.511543231714974,
          34.579631889851655,
          34.63897267777385,
          34.68931033219844,
          34.730397580494994,
          34.76199659425305,
          34.78388044826885,
          34.79583457396154,
          34.79765819556478,
          34.78916573695177,
          34.77018818665545,
          34.7405744085534,
          34.70019238580325,
          34.64893038593853,
          34.58669803556774,
          34.51342729384436,
          34.42907331478755,
          34.33361518960805,
          34.22705656141546,
          34.10942610602403,
          33.98077787401166,
          33.84119149069095,
          33.69077221219437,
          33.52965083742859,
          33.35798347718973,
          33.17595118322048,
          32.9837594414109,
          32.78163753467087,
          32.569837782214556,
          32.34863466307796,
          32.11832383262557,
          31.879221041579424,
          31.631660967718602,
          31.375995970842094,
          31.112594781865788,
          30.841841137035463,
          30.564132368189394,
          30.279877959804097,
          29.98949808321674,
          29.693422117949336,
          29.392087169479876,
          29.085936592128025,
          28.77541852496634,
          28.46098444784925,
          28.14308776378922,
          27.822182413020933,
          27.498721523196064,
          27.17315609926234,
          26.845933755715862,
          26.517497493088925,
          26.18828451976362,
          25.858725119495066,
          25.52924156439634,
          25.200247072595072,
          24.872144809320098,
          24.545326929827443,
          24.22017366233012,
          23.897052428958357,
          23.57631700274799,
          23.258306698732824,
          22.94334559740122,
          22.631741799059103,
          22.323786708021245,
          22.019754346015763,
          21.7199006947265,
          21.42446306800368,
          21.133659514929576,
          20.847688255619087,
          20.566727152350943,
          20.29093321934452,
          20.020442175203048,
          19.75536804271865,
          19.49580280135741,
          19.241816098297345,
          18.99345502435821,
          18.750743961521856,
          18.513684508982006,
          18.282255494762932,
          18.056413079899485,
          17.8360909619631,
          17.621200684342256,
          17.411632057139,
          17.20725369482096,
          17.007913674876935,
          16.813440320666835,
          16.623643110446213,
          16.4383137131935,
          16.2572271503951,
          16.080143081366376,
          15.906807208036478,
          15.736952793421821,
          15.570302286292913,
          15.4065690428298,
          15.245459134397315,
          15.086673228984138,
          14.929908532375041,
          14.774860773791797,
          14.621226219579441,
          14.468703697554623,
          14.316996613899972,
          14.165814944000367,
          14.014877178391982,
          13.863912205044418,
          13.712661109525161,
          13.560878875206262,
          13.40833596656021,
          13.254819779745196,
          13.100135946082862,
          12.944109475664693,
          12.786585730159723,
          12.627431215905373,
          12.46653419051409,
          12.303805078481734,
          12.139176693601277,
          11.972604268330333,
          11.8040652925877,
          11.633559166728345,
          11.461106675625345,
          11.286749292837435,
          11.11054832572758,
          10.932583914092293,
          10.752953896337393,
          10.571772558473407,
          10.389169282187176,
          10.205287108964573,
          10.020281237690263,
          9.83431747333056,
          9.647570644226585,
          9.46022300519227,
          9.27246264304555,
          9.08448190041858,
          8.896475832718387,
          8.70864071196885,
          8.521172589986955,
          8.334265931960513,
          8.148112330031344,
          7.962899304978419,
          7.778809202567727,
          7.596018189620482,
          7.4146953533719495,
          7.235001906275718,
          7.0570904970724735,
          6.88110462770537,
          6.707178174540399,
          6.5354350113501365,
          6.365988730648704,
          6.198942459228664,
          6.034388763145976,
          5.872409636923683,
          5.713076571392611,
          5.556450694348753,
          5.402582978072071,
          5.251514507708013,
          5.103276804546852,
          4.957892198334935,
          4.815374242900871,
          4.675728169565756,
          4.538951373017373,
          4.405033924551714,
          4.273959107811725,
          4.145703972374499,
          4.020239900746965,
          3.897533184522689,
          3.7775456056252965,
          3.660235018716853,
          3.5455559309825277,
          3.433460075619102,
          3.3238969754577954,
          3.2168144932463143,
          3.112159365206694,
          3.009877714580669,
          2.9099155419793727,
          2.812219189474769,
          2.7167357755133823,
          2.6234135979023745,
          2.532202502319221,
          2.4430542140315525,
          2.3559226307855474,
          2.270764075129671,
          2.187537504785126,
          2.1062046800525343,
          2.0267302876525117,
          1.9490820208311592,
          1.8732306160139156,
          1.7991498467558518,
          1.7268164762050855,
          1.656210169761537,
          1.5873133700652176,
          1.5201111368800921,
          1.454590954841445,
          1.3907425123991928,
          1.3285574556094815,
          1.268029120695603,
          1.2091522495112028,
          1.15192269219025,
          1.0963371013557128,
          1.0423926222809683,
          0.9900865833548889,
          0.9394161910936242,
          0.8903782337724611,
          0.842968797523382,
          0.7971829984627052,
          0.7530147340846491,
          0.7104564567873268,
          0.6694989719951402,
          0.6301312629133846,
          0.5923403435057568,
          0.5561111408310909,
          0.5214264074207182,
          0.4882666639300542,
          0.45661017186476976,
          0.42643293577047575,
          0.39770873389108924,
          0.3704091759505668,
          0.34450378639999446,
          0.31996011120065865,
          0.2967438459861861,
          0.27481898326498455,
          0.254147976188357,
          0.23469191631979255,
          0.21641072279565726,
          0.19926334026502565,
          0.18320794303384053,
          0.1682021429127871,
          0.1542031983754212,
          0.14116822276874755,
          0.12905438947843395,
          0.11781913213023652,
          0.1074203381032907,
          0.0978165338351122,
          0.08896706060768382,
          0.08083223971460356,
          0.0733735261168696,
          0.06655364989570581,
          0.06033674500154095,
          0.054688464976121454,
          0.049576085487143255,
          0.044968593660048704,
          0.04083676431821645,
          0.037153223349806294,
          0.03389249850663972,
          0.031031058007679406,
          0.02854733736744963,
          0.02642175489900512,
          0.024636716353052656,
          0.023176609151134658,
          0.022027786653298315,
          0.02117854287143898,
          0.02061907800083636,
          0.020341455096701214,
          0.020339548172307268,
          0.020608981943044547,
          0.02114706338901849,
          0.021952705260102394,
          0.023026341604002777,
          0.024369835362142184,
          0.02598637805204821,
          0.027880381540282877,
          0.03005736190832462,
          0.0325238154264996,
          0.03528708667902297,
          0.03835522892707593,
          0.04173685685685161,
          0.04544099193558679,
          0.04947690069018248,
          0.05385392632927564,
          0.05858131424921093,
          0.06366803209562802,
          0.0691225851932615,
          0.0749528283046538,
          0.08116577483105117,
          0.08776740472283379,
          0.09476247251909484,
          0.10215431708300157,
          0.10994467473781429,
          0.1181334976341238,
          0.1267187792884343,
          0.13569638932304806,
          0.14505991950377367,
          0.154800543212176,
          0.16490689049992252,
          0.17536494085169857,
          0.18615793572814887,
          0.19726631286978555,
          0.20866766421573416,
          0.22033671912738495,
          0.23224535440675048,
          0.24436263236369404,
          0.2566548679170361,
          0.26908572541441655,
          0.28161634552793174,
          0.2942055022310485,
          0.30680978949161325,
          0.31938383693126393,
          0.33188055330891053,
          0.34425139629121704,
          0.35644666658280816,
          0.36841582410979284,
          0.3801078235888394,
          0.391471466477184,
          0.4024557659930119,
          0.41301032162675305,
          0.42308569933760287,
          0.4326338134511684,
          0.4416083061477162,
          0.44996492035976315,
          0.4576618618851732,
          0.4646601465691712,
          0.4709239285163171,
          0.4764208054609895,
          0.48112209765070113,
          0.48500309687792365,
          0.48804328262937535,
          0.49022650270213114,
          0.49154111605792744
         ],
         "yaxis": "y"
        },
        {
         "legendgroup": "Market Return Distribution",
         "marker": {
          "color": "rgb(255, 127, 14)"
         },
         "mode": "lines",
         "name": "Market Return Distribution",
         "showlegend": false,
         "type": "scatter",
         "x": [
          -0.043482504242637554,
          -0.04328563088134055,
          -0.043088757520043534,
          -0.04289188415874653,
          -0.04269501079744952,
          -0.04249813743615251,
          -0.0423012640748555,
          -0.042104390713558495,
          -0.04190751735226148,
          -0.041710643990964476,
          -0.04151377062966747,
          -0.041316897268370456,
          -0.04112002390707345,
          -0.04092315054577644,
          -0.04072627718447944,
          -0.040529403823182424,
          -0.04033253046188542,
          -0.04013565710058841,
          -0.0399387837392914,
          -0.03974191037799439,
          -0.039545037016697385,
          -0.03934816365540037,
          -0.039151290294103365,
          -0.03895441693280636,
          -0.038757543571509345,
          -0.03856067021021234,
          -0.03836379684891533,
          -0.03816692348761832,
          -0.03797005012632131,
          -0.037773176765024306,
          -0.03757630340372729,
          -0.03737943004243029,
          -0.03718255668113328,
          -0.036985683319836274,
          -0.03678880995853926,
          -0.036591936597242254,
          -0.03639506323594524,
          -0.036198189874648234,
          -0.03600131651335123,
          -0.03580444315205422,
          -0.03560756979075721,
          -0.0354106964294602,
          -0.03521382306816319,
          -0.03501694970686618,
          -0.034820076345569176,
          -0.03462320298427217,
          -0.034426329622975156,
          -0.03422945626167815,
          -0.03403258290038114,
          -0.03383570953908413,
          -0.033638836177787124,
          -0.03344196281649012,
          -0.03324508945519311,
          -0.0330482160938961,
          -0.03285134273259909,
          -0.03265446937130208,
          -0.03245759601000507,
          -0.032260722648708065,
          -0.03206384928741106,
          -0.031866975926114045,
          -0.03167010256481704,
          -0.031473229203520026,
          -0.03127635584222302,
          -0.031079482480926013,
          -0.030882609119629003,
          -0.030685735758331993,
          -0.030488862397034987,
          -0.03029198903573798,
          -0.030095115674440967,
          -0.02989824231314396,
          -0.02970136895184695,
          -0.02950449559054994,
          -0.029307622229252935,
          -0.029110748867955928,
          -0.02891387550665892,
          -0.02871700214536191,
          -0.0285201287840649,
          -0.02832325542276789,
          -0.028126382061470882,
          -0.027929508700173876,
          -0.027732635338876866,
          -0.027535761977579856,
          -0.02733888861628285,
          -0.02714201525498584,
          -0.02694514189368883,
          -0.026748268532391824,
          -0.026551395171094814,
          -0.026354521809797807,
          -0.026157648448500794,
          -0.025960775087203788,
          -0.025763901725906778,
          -0.025567028364609768,
          -0.02537015500331276,
          -0.025173281642015752,
          -0.024976408280718745,
          -0.024779534919421736,
          -0.02458266155812473,
          -0.02438578819682772,
          -0.02418891483553071,
          -0.023992041474233703,
          -0.023795168112936693,
          -0.023598294751639687,
          -0.023401421390342677,
          -0.02320454802904567,
          -0.02300767466774866,
          -0.022810801306451647,
          -0.02261392794515464,
          -0.02241705458385763,
          -0.022220181222560625,
          -0.022023307861263615,
          -0.021826434499966605,
          -0.0216295611386696,
          -0.02143268777737259,
          -0.021235814416075582,
          -0.021038941054778573,
          -0.020842067693481566,
          -0.020645194332184556,
          -0.020448320970887546,
          -0.02025144760959054,
          -0.02005457424829353,
          -0.01985770088699652,
          -0.01966082752569951,
          -0.019463954164402504,
          -0.019267080803105494,
          -0.019070207441808484,
          -0.018873334080511478,
          -0.018676460719214468,
          -0.018479587357917462,
          -0.018282713996620452,
          -0.018085840635323445,
          -0.017888967274026436,
          -0.017692093912729426,
          -0.01749522055143242,
          -0.01729834719013541,
          -0.017101473828838403,
          -0.016904600467541393,
          -0.016707727106244383,
          -0.016510853744947374,
          -0.016313980383650364,
          -0.016117107022353357,
          -0.015920233661056347,
          -0.01572336029975934,
          -0.015526486938462331,
          -0.015329613577165321,
          -0.015132740215868315,
          -0.014935866854571305,
          -0.014738993493274299,
          -0.014542120131977289,
          -0.014345246770680282,
          -0.014148373409383273,
          -0.013951500048086263,
          -0.013754626686789256,
          -0.013557753325492243,
          -0.013360879964195237,
          -0.013164006602898227,
          -0.012967133241601217,
          -0.01277025988030421,
          -0.0125733865190072,
          -0.012376513157710194,
          -0.012179639796413184,
          -0.011982766435116178,
          -0.011785893073819172,
          -0.011589019712522158,
          -0.011392146351225152,
          -0.011195272989928146,
          -0.010998399628631132,
          -0.010801526267334126,
          -0.01060465290603712,
          -0.010407779544740106,
          -0.0102109061834431,
          -0.010014032822146093,
          -0.009817159460849087,
          -0.009620286099552074,
          -0.009423412738255067,
          -0.009226539376958061,
          -0.009029666015661048,
          -0.008832792654364034,
          -0.008635919293067028,
          -0.008439045931770021,
          -0.008242172570473008,
          -0.008045299209176002,
          -0.007848425847878995,
          -0.007651552486581982,
          -0.007454679125284976,
          -0.007257805763987969,
          -0.007060932402690963,
          -0.0068640590413939495,
          -0.006667185680096943,
          -0.006470312318799937,
          -0.006273438957502923,
          -0.006076565596205917,
          -0.005879692234908911,
          -0.005682818873611904,
          -0.005485945512314891,
          -0.0052890721510178845,
          -0.005092198789720878,
          -0.004895325428423865,
          -0.004698452067126858,
          -0.004501578705829852,
          -0.004304705344532846,
          -0.004107831983235832,
          -0.003910958621938826,
          -0.0037140852606418195,
          -0.003517211899344806,
          -0.0033203385380478,
          -0.0031234651767507934,
          -0.002926591815453787,
          -0.0027297184541567737,
          -0.0025328450928597673,
          -0.002335971731562754,
          -0.0021390983702657407,
          -0.0019422250089687343,
          -0.001745351647671728,
          -0.0015484782863747146,
          -0.0013516049250777082,
          -0.0011547315637807018,
          -0.0009578582024836954,
          -0.0007609848411866821,
          -0.0005641114798896757,
          -0.0003672381185926693,
          -0.00017036475729565598,
          0.00002650860400135041,
          0.0002233819652983568,
          0.0004202553265953632,
          0.0006171286878923765,
          0.0008140020491893829,
          0.0010108754104863893,
          0.0012077487717834026,
          0.001404622133080409,
          0.0016014954943774154,
          0.0017983688556744218,
          0.001995242216971435,
          0.0021921155782684415,
          0.002388988939565448,
          0.002585862300862461,
          0.0027827356621594676,
          0.002979609023456474,
          0.0031764823847534804,
          0.0033733557460504937,
          0.0035702291073475,
          0.0037671024686445134,
          0.003963975829941527,
          0.004160849191238533,
          0.0043577225525355395,
          0.004554595913832546,
          0.004751469275129559,
          0.004948342636426566,
          0.005145215997723572,
          0.005342089359020585,
          0.005538962720317592,
          0.005735836081614598,
          0.0059327094429116045,
          0.006129582804208618,
          0.006326456165505624,
          0.006523329526802631,
          0.006720202888099644,
          0.00691707624939665,
          0.007113949610693657,
          0.007310822971990663,
          0.0075076963332876764,
          0.007704569694584683,
          0.00790144305588169,
          0.008098316417178703,
          0.008295189778475709,
          0.008492063139772715,
          0.008688936501069729,
          0.008885809862366735,
          0.009082683223663741,
          0.009279556584960748,
          0.009476429946257761,
          0.009673303307554768,
          0.009870176668851774,
          0.010067050030148787,
          0.0102639233914458,
          0.010460796752742807,
          0.010657670114039813,
          0.010854543475336827,
          0.011051416836633833,
          0.01124829019793084,
          0.011445163559227853,
          0.01164203692052486,
          0.011838910281821866,
          0.012035783643118872,
          0.012232657004415885,
          0.012429530365712892,
          0.012626403727009898,
          0.012823277088306911,
          0.013020150449603918,
          0.013217023810900924,
          0.01341389717219793,
          0.013610770533494944,
          0.01380764389479195,
          0.014004517256088957,
          0.01420139061738597,
          0.014398263978682976,
          0.014595137339979983,
          0.01479201070127699,
          0.014988884062574002,
          0.015185757423871009,
          0.015382630785168015,
          0.015579504146465029,
          0.015776377507762035,
          0.01597325086905904,
          0.016170124230356048,
          0.016366997591653068,
          0.016563870952950074,
          0.01676074431424708,
          0.016957617675544094,
          0.0171544910368411,
          0.017351364398138107,
          0.01754823775943512,
          0.017745111120732127,
          0.017941984482029133,
          0.01813885784332614,
          0.018335731204623153,
          0.01853260456592016,
          0.018729477927217165,
          0.01892635128851418,
          0.019123224649811185,
          0.01932009801110819,
          0.019516971372405198,
          0.019713844733702204,
          0.01991071809499921,
          0.02010759145629623,
          0.020304464817593237,
          0.020501338178890244,
          0.02069821154018725,
          0.020895084901484257,
          0.021091958262781263,
          0.02128883162407827,
          0.02148570498537529,
          0.021682578346672296,
          0.021879451707969302,
          0.02207632506926631,
          0.022273198430563315,
          0.02247007179186032,
          0.022666945153157342,
          0.022863818514454348,
          0.023060691875751355,
          0.02325756523704836,
          0.023454438598345367,
          0.023651311959642374,
          0.02384818532093938,
          0.0240450586822364,
          0.024241932043533407,
          0.024438805404830413,
          0.02463567876612742,
          0.024832552127424426,
          0.025029425488721432,
          0.02522629885001844,
          0.02542317221131546,
          0.025620045572612465,
          0.025816918933909486,
          0.026013792295206492,
          0.0262106656565035,
          0.026407539017800505,
          0.02660441237909751,
          0.02680128574039453,
          0.026998159101691538,
          0.027195032462988544,
          0.02739190582428555,
          0.027588779185582557,
          0.027785652546879563,
          0.02798252590817657,
          0.02817939926947359,
          0.028376272630770596,
          0.028573145992067603,
          0.02877001935336461,
          0.028966892714661616,
          0.029163766075958622,
          0.02936063943725563,
          0.02955751279855265,
          0.029754386159849655,
          0.02995125952114666,
          0.030148132882443668,
          0.030345006243740674,
          0.03054187960503768,
          0.030738752966334687,
          0.030935626327631707,
          0.031132499688928714,
          0.03132937305022572,
          0.031526246411522726,
          0.03172311977281973,
          0.03191999313411674,
          0.032116866495413746,
          0.032313739856710766,
          0.03251061321800777,
          0.03270748657930478,
          0.032904359940601785,
          0.03310123330189879,
          0.0332981066631958,
          0.033494980024492804,
          0.033691853385789824,
          0.03388872674708683,
          0.03408560010838384,
          0.034282473469680844,
          0.03447934683097785,
          0.034676220192274856,
          0.03487309355357186,
          0.03506996691486888,
          0.03526684027616589,
          0.035463713637462896,
          0.0356605869987599,
          0.03585746036005691,
          0.036054333721353915,
          0.03625120708265092,
          0.03644808044394794,
          0.03664495380524495,
          0.036841827166541954,
          0.03703870052783896,
          0.03723557388913597,
          0.037432447250432974,
          0.03762932061172998,
          0.037826193973027,
          0.03802306733432401,
          0.03821994069562101,
          0.03841681405691802,
          0.03861368741821504,
          0.038810560779512046,
          0.039007434140809066,
          0.03920430750210607,
          0.03940118086340308,
          0.039598054224700086,
          0.03979492758599709,
          0.0399918009472941,
          0.040188674308591105,
          0.040385547669888125,
          0.04058242103118513,
          0.04077929439248214,
          0.040976167753779144,
          0.04117304111507615,
          0.04136991447637316,
          0.04156678783767016,
          0.041763661198967184,
          0.04196053456026419,
          0.042157407921561196,
          0.0423542812828582,
          0.04255115464415521,
          0.042748028005452215,
          0.04294490136674922,
          0.04314177472804624,
          0.04333864808934325,
          0.043535521450640255,
          0.04373239481193726,
          0.04392926817323427,
          0.044126141534531274,
          0.04432301489582828,
          0.0445198882571253,
          0.04471676161842231,
          0.044913634979719314,
          0.04511050834101632,
          0.045307381702313326,
          0.04550425506361033,
          0.04570112842490734,
          0.04589800178620436,
          0.046094875147501366,
          0.04629174850879837,
          0.04648862187009538,
          0.046685495231392385,
          0.04688236859268939,
          0.0470792419539864,
          0.04727611531528342,
          0.047472988676580424,
          0.04766986203787743,
          0.04786673539917444,
          0.048063608760471443,
          0.04826048212176845,
          0.048457355483065456,
          0.048654228844362477,
          0.04885110220565948,
          0.04904797556695649,
          0.049244848928253496,
          0.0494417222895505,
          0.04963859565084751,
          0.049835469012144515,
          0.050032342373441535,
          0.05022921573473854,
          0.05042608909603555,
          0.050622962457332554,
          0.05081983581862956,
          0.05101670917992658,
          0.05121358254122359,
          0.05141045590252061,
          0.051607329263817614,
          0.05180420262511462,
          0.05200107598641163,
          0.05219794934770863,
          0.05239482270900564,
          0.052591696070302646,
          0.052788569431599666,
          0.05298544279289667,
          0.05318231615419368,
          0.053379189515490685,
          0.05357606287678769,
          0.0537729362380847,
          0.053969809599381705,
          0.054166682960678725,
          0.05436355632197573,
          0.05456042968327274,
          0.054757303044569744
         ],
         "xaxis": "x",
         "y": [
          0.48209358288860543,
          0.4865108325358043,
          0.490499789847185,
          0.4940813328735396,
          0.4972800927787789,
          0.5001242613185801,
          0.5026453624835124,
          0.5048779913257526,
          0.5068595235107988,
          0.5086297996095996,
          0.5102307885634304,
          0.5117062351056004,
          0.5131012962038123,
          0.5144621717888834,
          0.515835735155073,
          0.5172691684514952,
          0.51880960863135,
          0.5205038090859287,
          0.5223978219651224,
          0.5245367058783923,
          0.5269642632844727,
          0.5297228114203535,
          0.5328529900976186,
          0.5363936091154556,
          0.5403815374141735,
          0.5448516354311415,
          0.549836731433968,
          0.5553676419048788,
          0.5614732353475995,
          0.5681805381954851,
          0.5755148808289204,
          0.5835000810724844,
          0.5921586619488913,
          0.6015120999271467,
          0.6115810994258084,
          0.6223858889264725,
          0.633946533724264,
          0.6462832600961832,
          0.6594167855085263,
          0.6733686494130143,
          0.6881615391985119,
          0.7038196059699023,
          0.7203687650153493,
          0.7378369760933897,
          0.7562544990167778,
          0.775654120423534,
          0.7960713480995693,
          0.817544569742337,
          0.8401151736217217,
          0.8638276291922442,
          0.8887295263293372,
          0.9148715724907991,
          0.9423075477321081,
          0.9710942181206114,
          1.001291208688667,
          1.0329608376305977,
          1.0661679139742395,
          1.1009795014376897,
          1.1374646516093214,
          1.1756941099591283,
          1.2157399984983437,
          1.2576754791495075,
          1.30157440206965,
          1.3475109432851435,
          1.3955592360493894,
          1.4457930003263062,
          1.4982851747371624,
          1.553107555189807,
          1.610330444243137,
          1.6700223150510547,
          1.7322494934855313,
          1.7970758617635956,
          1.8645625866046562,
          1.9347678746285144,
          2.0077467573764176,
          2.0835509080032764,
          2.162228491353151,
          2.243824048796672,
          2.328378418881655,
          2.4159286945293084,
          2.506508217200158,
          2.6001466081569524,
          2.696869836667075,
          2.7967003247136057,
          2.8996570875214096,
          3.0057559089510923,
          3.1150095505674438,
          3.227427992947768,
          3.3430187075578046,
          3.4617869572858466,
          3.583736123487919,
          3.708868057156347,
          3.837183451580257,
          3.9686822336182144,
          4.103363970450926,
          4.241228288426629,
          4.382275300354474,
          4.526506037345155,
          4.673922881045931,
          4.824529991873038,
          4.9783337286136495,
          5.135343054556497,
          5.295569925121769,
          5.459029651802682,
          5.625741237110235,
          5.795727675135151,
          5.969016212314546,
          6.145638563020702,
          6.325631074681956,
          6.5090348373073,
          6.695895732519625,
          6.886264417513267,
          7.080196239741497,
          7.277751078609537,
          7.478993111000693,
          7.683990498093816,
          7.89281499163893,
          8.105541458638445,
          8.322247324230068,
          8.543011933475615,
          8.767915833719478,
          8.99703998018208,
          9.23046486848395,
          9.468269598845367,
          9.710530877758082,
          9.957321963967994,
          10.208711566622998,
          10.464762704414353,
          10.72553153545656,
          10.991066168492862,
          11.26140546676666,
          11.536577856545863,
          11.816600152814965,
          12.101476415042027,
          12.39119684617434,
          12.685736748104429,
          12.985055546768775,
          13.289095899787405,
          13.597782899117673,
          13.911023380578166,
          14.228705351297434,
          14.550697545160796,
          14.87684911517132,
          15.206989470317275,
          15.540928263059648,
          15.878455531932982,
          16.219342002009896,
          16.563339544133775,
          16.910181791897728,
          17.259584913368265,
          17.61124853254425,
          17.964856793538218,
          18.320079558496033,
          18.67657372836568,
          19.033984673818683,
          19.39194776194983,
          19.75008996286439,
          20.108031518937537,
          20.465387658424543,
          20.821770334240767,
          21.17678996813785,
          21.530057180196348,
          21.881184483550037,
          22.2297879245629,
          22.57548864930036,
          22.917914378071263,
          23.256700771059652,
          23.591492669603586,
          23.92194519949192,
          24.247724724717507,
          24.56850964241641,
          24.883991012199793,
          25.19387301571599,
          25.49787324501298,
          25.795722821066715,
          26.08716634664645,
          26.371961700453998,
          26.649879682150093,
          26.920703520417895,
          27.18422825855962,
          27.440260034235546,
          27.68861527178962,
          27.92911980712661,
          28.161607966278904,
          28.385921619603213,
          28.601909233956054,
          28.809424945205535,
          29.00832767303782,
          29.198480299217344,
          29.379748929273244,
          29.55200225602861,
          29.715111041496463,
          29.868947731468733,
          30.013386214664727,
          30.148301735631374,
          30.27357096774847,
          30.38907224974418,
          30.49468598612502,
          30.59029520892733,
          30.675786295262345,
          30.7510498323063,
          30.81598161873608,
          30.870483789174394,
          30.914466046031485,
          30.94784698124581,
          30.970555468869943,
          30.982532108234015,
          30.983730696567775,
          30.974119709480412,
          30.95368376757657,
          30.92242506772723,
          30.880364758090828,
          30.827544236875593,
          30.764026356015425,
          30.68989651236686,
          30.605263610683906,
          30.510260884451238,
          30.4050465626089,
          30.289804372242656,
          30.16474386939626,
          30.030100592248512,
          29.886136032944517,
          29.733137426345554,
          29.57141735583321,
          29.4013131780419,
          29.223186269982513,
          29.037421103440874,
          28.844424152778934,
          28.644622643330294,
          28.438463148467786,
          28.22641004413432,
          28.008943830183334,
          27.786559328285794,
          27.55976376644528,
          27.329074760348142,
          27.095018201876506,
          26.858126065161187,
          26.618934140567415,
          26.377979707014614,
          26.135799153052034,
          25.892925557165807,
          25.649886237893384,
          25.407200284482176,
          25.16537607905805,
          24.924908821569403,
          24.68627806914502,
          24.4499453019398,
          24.216351528037244,
          23.985914940513364,
          23.759028640327166,
          23.536058439269457,
          23.3173407577471,
          23.10318063268211,
          22.89384985123496,
          22.689585226392182,
          22.490587030663338,
          22.29701760418339,
          22.109000153389967,
          21.926617756118834,
          21.74991258841293,
          21.578885387559048,
          21.41349516483522,
          21.253659180168327,
          21.099253189360816,
          20.950111972750136,
          20.80603015212666,
          20.666763300464396,
          20.532029346536625,
          20.401510273817664,
          20.274854110241794,
          20.151677202433522,
          20.031566764978418,
          19.914083692207594,
          19.798765616869147,
          19.68513019699616,
          19.572678609302546,
          19.46089922459041,
          19.34927143798029,
          19.237269624324743,
          19.124367186977267,
          19.010040666203494,
          18.893773871973938,
          18.77506200470163,
          18.653415726708428,
          18.52836514684307,
          18.399463680748703,
          18.26629174979534,
          18.12846028265857,
          17.985613984935085,
          17.83743434402924,
          17.683642338805775,
          17.52400082615958,
          17.358316579675453,
          17.186441958904826,
          17.00827619143238,
          16.823766253800716,
          16.632907341456555,
          16.435742922127908,
          16.232364371383117,
          16.022910193506853,
          15.807564835196935,
          15.586557103886122,
          15.360158206667508,
          15.128679429799107,
          14.89246948253259,
          14.65191153250259,
          14.407419963086129,
          14.159436885954893,
          13.908428444462801,
          13.654880945508294,
          13.399296859062416,
          13.142190725641807,
          12.884085012620389,
          12.625505960409845,
          12.366979459197593,
          12.109026996122436,
          11.852161711503259,
          11.596884601037502,
          11.343680898778416,
          11.093016673212167,
          10.84533566592607,
          10.601056399224085,
          10.360569575648958,
          10.124235788759176,
          9.892383560729593,
          9.665307718447645,
          9.443268115814845,
          9.226488705984105,
          9.015156963320972,
          8.809423651018824,
          8.609402926573669,
          8.415172773778087,
          8.226775746569253,
          8.044220007001956,
          7.867480636848403,
          7.696501199882937,
          7.531195529818228,
          7.371449717137655,
          7.217124266733539,
          7.0680563973199915,
          6.924062453045753,
          6.78494039758372,
          6.650472361211418,
          6.520427212006182,
          6.394563123240992,
          6.272630110356892,
          6.154372512478184,
          6.039531395292439,
          5.927846854204211,
          5.8190601989496065,
          5.712916003287062,
          5.609164005916861,
          5.507560851383422,
          5.4078716623395,
          5.309871437156432,
          5.21334626941158,
          5.118094388233073,
          5.023927020800733,
          4.9306690804573785,
          4.838159685851228,
          4.746252518284383,
          4.654816025967106,
          4.563733485160218,
          4.4729029292202425,
          4.382236957342555,
          4.2916624353277095,
          4.201120100983979,
          4.110564086835539,
          4.019961372646594,
          3.9292911799164267,
          3.8385443199702602,
          3.7477225065910984,
          3.6568376433337706,
          3.5659110947615287,
          3.474972949875698,
          3.384061284996299,
          3.2932214323233944,
          3.2025052593895906,
          3.1119704636265872,
          3.021679885333291,
          2.9317008414674723,
          2.842104481902081,
          2.7529651691017807,
          2.664359881593885,
          2.5763676411346705,
          2.4890689631083522,
          2.4025453294407146,
          2.3168786831566557,
          2.2321509436549776,
          2.148443541803661,
          2.0658369740645672,
          1.9844103750244966,
          1.904241107926577,
          1.8254043730477105,
          1.7479728340400387,
          1.672016262633199,
          1.5976012023663266,
          1.5247906522719732,
          1.4536437716578232,
          1.3842156073166807,
          1.3165568446335463,
          1.2507135841445747,
          1.186727145133333,
          1.1246338978224164,
          1.0644651256340536,
          1.0062469188532372,
          0.950000100834887,
          0.895740187657448,
          0.8434773818454693,
          0.793216600470111,
          0.744957537597162,
          0.6986947606953705,
          0.6544178402522384,
          0.6121115114784943,
          0.5717558666244177,
          0.5333265760888125,
          0.49679513618206605,
          0.4621291411142489,
          0.4292925765233824,
          0.3982461316419229,
          0.3689475270244983,
          0.34135185462906487,
          0.31541192695816966,
          0.2910786319266243,
          0.268301290125936,
          0.24702801120226656,
          0.2272060461508952,
          0.20878213245291402,
          0.19170282913521403,
          0.17591483901872057,
          0.16136531562759365,
          0.1480021524593612,
          0.13577425255795905,
          0.12463177658408231,
          0.11452636783578836,
          0.10541135293309595,
          0.09724191713991288,
          0.08997525355183317,
          0.08357068562671714,
          0.07798976277436245,
          0.07319632895041867,
          0.06915656441694057,
          0.06583900103694891,
          0.06321451166289287,
          0.06125627435908146,
          0.05993971236645913,
          0.05924241087515763,
          0.059144011816908475,
          0.05962608802651255,
          0.06067199825004342,
          0.062266724598120805,
          0.0643966941561239,
          0.06704958657012929,
          0.07021412952790576,
          0.07387988414848339,
          0.07803702238130758,
          0.0826760985961985,
          0.08778781761727704,
          0.09336280151652077,
          0.0993913575341064,
          0.10586324953148625,
          0.11276747540726657,
          0.12009205291338694,
          0.1278238162977069,
          0.13594822616677799,
          0.14444919490735414,
          0.15330892992519837,
          0.16250779685341613,
          0.1720242047486669,
          0.18183451513130938,
          0.19191297653451128,
          0.20223168600770935,
          0.2127605787724103,
          0.22346744695441947,
          0.23431798801829953,
          0.24527588320976373,
          0.25630290597310323,
          0.2673590599575143,
          0.27840274586270025,
          0.28939095600534875,
          0.3002794951192905,
          0.3110232255389827,
          0.3215763345643113,
          0.3318926214704337,
          0.3419258013155695,
          0.3516298224178753,
          0.36095919412553806,
          0.36986932129689587,
          0.3783168417445027,
          0.38625996278240704,
          0.3936587929528346,
          0.4004756649992408,
          0.4066754461988746,
          0.4122258322700471,
          0.4170976212267676,
          0.42126496376480926,
          0.4247055870261154,
          0.4274009888992828,
          0.42933660036834354,
          0.4305019138149282
         ],
         "yaxis": "y"
        },
        {
         "legendgroup": "Average Portfolio Return Distribution",
         "marker": {
          "color": "rgb(31, 119, 180)",
          "symbol": "line-ns-open"
         },
         "mode": "markers",
         "name": "Average Portfolio Return Distribution",
         "showlegend": false,
         "type": "scatter",
         "x": [
          0.024629706353194177,
          0.0002606051789112738,
          -0.014178491858602682,
          -0.0024745467214230448,
          -0.009969858021054935,
          0.009880889908320327,
          -0.002730073042009689,
          0.0009840967323644476,
          0.017450857002936082,
          -0.00462009373810191,
          -0.009720851611750674,
          -0.004696335595107225,
          -0.0016604648818529617,
          -0.00627184119285499,
          0.018617655497395007,
          -0.0024520918089975118,
          0.022663585472661753,
          0.0038706617300934627,
          0.005619494244582077,
          -0.008412535886079322,
          0.0014200704387640098,
          -0.006234850338960402,
          0.017515867632884343,
          0.011232823215681729,
          0.0051946883022241834,
          -0.0007277676856381355,
          -0.005498454019302051,
          0.011777129658058934,
          -0.0003330979088959128,
          -0.0023169564915731388,
          0.0027436563729070773,
          -0.003991547136527233,
          0.01781395245156152,
          0.0017443938035021224,
          0.014617854409827092,
          0.003756933419295413,
          0.0020031836732485875,
          -0.010539902833787747,
          0.000577481619446891,
          -0.010535831775081342,
          -0.013637883809185219,
          -0.003930014389016786,
          0.00516111018634848,
          0.01569543123883162,
          -0.025382732530500707,
          -0.004613804825777072,
          -0.010554546517679215,
          -0.006147480678226468,
          0.0002571980211481406,
          -0.010007038738959691,
          -0.005821805066375508,
          0.016681208808864523,
          0.00521004861539072,
          0.01329462781634384,
          0.007699551645573758,
          -0.03353232922484496,
          0.003525985764190257,
          -0.009975936870121944,
          -0.008886861461438047,
          0.0039774211217779186,
          -0.013785907914803783,
          -0.011311513068391038,
          -0.011942663861324124,
          -0.015661011012720456,
          -0.012284706385561605,
          -0.005656886352570962,
          0.021646478409071745,
          -0.02569044430115548,
          -0.009297156565776246,
          0.02101408356532604,
          0.02815611130203073,
          -0.004113004423560901,
          -0.012394553095764904,
          -0.02457407290394385,
          -0.006221682989985288,
          -0.004707752271365047,
          -0.006699208921785008,
          0.02009742536281413,
          -0.020280961485705393,
          0.01883593683373267,
          0.007803873298035173,
          -0.008949208761767023,
          -0.005985286286127605,
          0.01730487612794669,
          0.003039081374656626,
          0.024184767304056016,
          0.0032942318195786826,
          -0.009061483056138346,
          0.016291263783942658,
          -0.005901738031254727,
          0.0010968449595282366,
          -0.022838210300502475,
          -0.004913040541645179,
          0.018852813206803574,
          0.0069657351171318275,
          0.007944124490077902,
          -0.016677279260011585,
          0.052125966027631504,
          0.0048709358255784665,
          -0.007178452780733111,
          0.011079334824616658,
          -0.0105594309407706,
          -0.0026045337696849495,
          0.004833909236063416,
          0.0005250983787554188,
          0.009876943273476511,
          0.005062339628007915,
          -0.0010108673774888214,
          -0.013667633866756995,
          0.0020361911701784054,
          0.028825302542232277,
          -0.0001154690736151893,
          -0.0016228331456812376,
          -0.016369050333370192,
          -0.012327955684269195,
          0.0031197058485931913,
          0.006815428929001205,
          -0.004775358351578439,
          0.011631752506015794,
          0.007726116953475381,
          -0.005268015984510857,
          -0.019111805127487603,
          -0.010800370635886802,
          -0.015159896139469138,
          -0.0013236950801693089,
          0.011899391828818036,
          -0.011404730204004778,
          0.004043207010675461,
          -0.00020356006277848126,
          -0.013671622135492879,
          0.014333787613871109,
          -0.005899248494751611,
          -0.001119149212788778,
          0.016194556299899247,
          -0.011663895595951592,
          0.02247551334060292,
          0.004296905596888302,
          0.0010688964812835097,
          0.01176491941483472,
          0.001085051798401928,
          0.00041855636952831257,
          0.0013305676639241534,
          -0.016934143018934786,
          -0.007424294973400816,
          0.015754962678382223,
          0.01280864797553766,
          -0.0033460205276258977,
          -0.0010214072705027923,
          0.006665478796227332,
          0.0005537647737399149,
          -0.012270902782705711,
          0.015957462491040124,
          0.008866101321436705,
          0.009550340199409068,
          -0.013501387024887047,
          -0.004401786442587025,
          0.007642335268640408,
          -0.010634760110718126,
          -0.0067839424908488445,
          0.0024162340289437803,
          0.009569773173597494,
          -0.001330393932369247,
          0.0005670204463369925,
          -0.008957352693903799,
          -0.0015697484898692057,
          -0.017133682734476373,
          -0.0025505489634549683,
          0.0038156673037795553,
          -0.006579874348893424,
          0.002490871785080914,
          -0.0024945321249169147,
          -0.00004588495195257919,
          0.006249062424967567,
          0.016624897419990382,
          -0.00666834219204742,
          -0.01271675388264236,
          0.001307546880988826,
          -0.015150659629725713,
          -0.009420247081938522,
          0.009776800729620606,
          0.010966385921750355,
          -0.0027615884370488434,
          0.006729094027110925,
          -0.008065638203243613,
          0.006491317081156218,
          0.005009865058301074,
          -0.015940716289650707,
          0.0020983248643432185,
          0.008448048782505178,
          -0.0012572875050204102,
          -0.003740058616127427,
          0.011948085275477251,
          0.007725637047362611,
          0.014415501162264161,
          -0.00017000182302338344,
          -0.0038794518260297944,
          0.0031508642793848566,
          0.0015247603859565788,
          0.004472842699239194,
          0.006242084104840219
         ],
         "xaxis": "x",
         "y": [
          "Average Portfolio Return Distribution",
          "Average Portfolio Return Distribution",
          "Average Portfolio Return Distribution",
          "Average Portfolio Return Distribution",
          "Average Portfolio Return Distribution",
          "Average Portfolio Return Distribution",
          "Average Portfolio Return Distribution",
          "Average Portfolio Return Distribution",
          "Average Portfolio Return Distribution",
          "Average Portfolio Return Distribution",
          "Average Portfolio Return Distribution",
          "Average Portfolio Return Distribution",
          "Average Portfolio Return Distribution",
          "Average Portfolio Return Distribution",
          "Average Portfolio Return Distribution",
          "Average Portfolio Return Distribution",
          "Average Portfolio Return Distribution",
          "Average Portfolio Return Distribution",
          "Average Portfolio Return Distribution",
          "Average Portfolio Return Distribution",
          "Average Portfolio Return Distribution",
          "Average Portfolio Return Distribution",
          "Average Portfolio Return Distribution",
          "Average Portfolio Return Distribution",
          "Average Portfolio Return Distribution",
          "Average Portfolio Return Distribution",
          "Average Portfolio Return Distribution",
          "Average Portfolio Return Distribution",
          "Average Portfolio Return Distribution",
          "Average Portfolio Return Distribution",
          "Average Portfolio Return Distribution",
          "Average Portfolio Return Distribution",
          "Average Portfolio Return Distribution",
          "Average Portfolio Return Distribution",
          "Average Portfolio Return Distribution",
          "Average Portfolio Return Distribution",
          "Average Portfolio Return Distribution",
          "Average Portfolio Return Distribution",
          "Average Portfolio Return Distribution",
          "Average Portfolio Return Distribution",
          "Average Portfolio Return Distribution",
          "Average Portfolio Return Distribution",
          "Average Portfolio Return Distribution",
          "Average Portfolio Return Distribution",
          "Average Portfolio Return Distribution",
          "Average Portfolio Return Distribution",
          "Average Portfolio Return Distribution",
          "Average Portfolio Return Distribution",
          "Average Portfolio Return Distribution",
          "Average Portfolio Return Distribution",
          "Average Portfolio Return Distribution",
          "Average Portfolio Return Distribution",
          "Average Portfolio Return Distribution",
          "Average Portfolio Return Distribution",
          "Average Portfolio Return Distribution",
          "Average Portfolio Return Distribution",
          "Average Portfolio Return Distribution",
          "Average Portfolio Return Distribution",
          "Average Portfolio Return Distribution",
          "Average Portfolio Return Distribution",
          "Average Portfolio Return Distribution",
          "Average Portfolio Return Distribution",
          "Average Portfolio Return Distribution",
          "Average Portfolio Return Distribution",
          "Average Portfolio Return Distribution",
          "Average Portfolio Return Distribution",
          "Average Portfolio Return Distribution",
          "Average Portfolio Return Distribution",
          "Average Portfolio Return Distribution",
          "Average Portfolio Return Distribution",
          "Average Portfolio Return Distribution",
          "Average Portfolio Return Distribution",
          "Average Portfolio Return Distribution",
          "Average Portfolio Return Distribution",
          "Average Portfolio Return Distribution",
          "Average Portfolio Return Distribution",
          "Average Portfolio Return Distribution",
          "Average Portfolio Return Distribution",
          "Average Portfolio Return Distribution",
          "Average Portfolio Return Distribution",
          "Average Portfolio Return Distribution",
          "Average Portfolio Return Distribution",
          "Average Portfolio Return Distribution",
          "Average Portfolio Return Distribution",
          "Average Portfolio Return Distribution",
          "Average Portfolio Return Distribution",
          "Average Portfolio Return Distribution",
          "Average Portfolio Return Distribution",
          "Average Portfolio Return Distribution",
          "Average Portfolio Return Distribution",
          "Average Portfolio Return Distribution",
          "Average Portfolio Return Distribution",
          "Average Portfolio Return Distribution",
          "Average Portfolio Return Distribution",
          "Average Portfolio Return Distribution",
          "Average Portfolio Return Distribution",
          "Average Portfolio Return Distribution",
          "Average Portfolio Return Distribution",
          "Average Portfolio Return Distribution",
          "Average Portfolio Return Distribution",
          "Average Portfolio Return Distribution",
          "Average Portfolio Return Distribution",
          "Average Portfolio Return Distribution",
          "Average Portfolio Return Distribution",
          "Average Portfolio Return Distribution",
          "Average Portfolio Return Distribution",
          "Average Portfolio Return Distribution",
          "Average Portfolio Return Distribution",
          "Average Portfolio Return Distribution",
          "Average Portfolio Return Distribution",
          "Average Portfolio Return Distribution",
          "Average Portfolio Return Distribution",
          "Average Portfolio Return Distribution",
          "Average Portfolio Return Distribution",
          "Average Portfolio Return Distribution",
          "Average Portfolio Return Distribution",
          "Average Portfolio Return Distribution",
          "Average Portfolio Return Distribution",
          "Average Portfolio Return Distribution",
          "Average Portfolio Return Distribution",
          "Average Portfolio Return Distribution",
          "Average Portfolio Return Distribution",
          "Average Portfolio Return Distribution",
          "Average Portfolio Return Distribution",
          "Average Portfolio Return Distribution",
          "Average Portfolio Return Distribution",
          "Average Portfolio Return Distribution",
          "Average Portfolio Return Distribution",
          "Average Portfolio Return Distribution",
          "Average Portfolio Return Distribution",
          "Average Portfolio Return Distribution",
          "Average Portfolio Return Distribution",
          "Average Portfolio Return Distribution",
          "Average Portfolio Return Distribution",
          "Average Portfolio Return Distribution",
          "Average Portfolio Return Distribution",
          "Average Portfolio Return Distribution",
          "Average Portfolio Return Distribution",
          "Average Portfolio Return Distribution",
          "Average Portfolio Return Distribution",
          "Average Portfolio Return Distribution",
          "Average Portfolio Return Distribution",
          "Average Portfolio Return Distribution",
          "Average Portfolio Return Distribution",
          "Average Portfolio Return Distribution",
          "Average Portfolio Return Distribution",
          "Average Portfolio Return Distribution",
          "Average Portfolio Return Distribution",
          "Average Portfolio Return Distribution",
          "Average Portfolio Return Distribution",
          "Average Portfolio Return Distribution",
          "Average Portfolio Return Distribution",
          "Average Portfolio Return Distribution",
          "Average Portfolio Return Distribution",
          "Average Portfolio Return Distribution",
          "Average Portfolio Return Distribution",
          "Average Portfolio Return Distribution",
          "Average Portfolio Return Distribution",
          "Average Portfolio Return Distribution",
          "Average Portfolio Return Distribution",
          "Average Portfolio Return Distribution",
          "Average Portfolio Return Distribution",
          "Average Portfolio Return Distribution",
          "Average Portfolio Return Distribution",
          "Average Portfolio Return Distribution",
          "Average Portfolio Return Distribution",
          "Average Portfolio Return Distribution",
          "Average Portfolio Return Distribution",
          "Average Portfolio Return Distribution",
          "Average Portfolio Return Distribution",
          "Average Portfolio Return Distribution",
          "Average Portfolio Return Distribution",
          "Average Portfolio Return Distribution",
          "Average Portfolio Return Distribution",
          "Average Portfolio Return Distribution",
          "Average Portfolio Return Distribution",
          "Average Portfolio Return Distribution",
          "Average Portfolio Return Distribution",
          "Average Portfolio Return Distribution",
          "Average Portfolio Return Distribution",
          "Average Portfolio Return Distribution",
          "Average Portfolio Return Distribution",
          "Average Portfolio Return Distribution",
          "Average Portfolio Return Distribution",
          "Average Portfolio Return Distribution",
          "Average Portfolio Return Distribution",
          "Average Portfolio Return Distribution",
          "Average Portfolio Return Distribution",
          "Average Portfolio Return Distribution",
          "Average Portfolio Return Distribution",
          "Average Portfolio Return Distribution",
          "Average Portfolio Return Distribution",
          "Average Portfolio Return Distribution",
          "Average Portfolio Return Distribution",
          "Average Portfolio Return Distribution",
          "Average Portfolio Return Distribution",
          "Average Portfolio Return Distribution",
          "Average Portfolio Return Distribution",
          "Average Portfolio Return Distribution",
          "Average Portfolio Return Distribution"
         ],
         "yaxis": "y2"
        },
        {
         "legendgroup": "Market Return Distribution",
         "marker": {
          "color": "rgb(255, 127, 14)",
          "symbol": "line-ns-open"
         },
         "mode": "markers",
         "name": "Market Return Distribution",
         "showlegend": false,
         "type": "scatter",
         "x": [
          0.031793859022121174,
          -0.003819706494633812,
          -0.020432889485827888,
          -0.000814397032841141,
          -0.008124284425026218,
          0.01057658534923167,
          0.001888564941912474,
          0.003377314086326688,
          0.014977114210282139,
          -0.0008225951761684502,
          -0.011423490843509576,
          -0.008849001674498425,
          -0.005251643907676851,
          -0.002428581648118877,
          0.01910521367503204,
          -0.00825704532733551,
          0.02701930182439294,
          0.006373068974359075,
          0.010183278504690696,
          -0.009278166862722315,
          0.001214881132410417,
          -0.011830972008287421,
          0.025966394765534195,
          0.01254237598957575,
          0.014578713547128253,
          -0.0029611810762227853,
          -0.006597363221259145,
          0.015659423813353168,
          -0.0006755826275728349,
          -0.0016901356749269292,
          -0.0011608759759508258,
          -0.003971004603109063,
          0.021003983831497486,
          0,
          0.01692900272517739,
          0.004120754494194578,
          0.0019587197506811815,
          -0.007097984795662371,
          0.002906437960343844,
          -0.013438011119180193,
          -0.020822580388957235,
          -0.002419237276034991,
          0.0032011734863370833,
          0.014117547576038225,
          -0.0338490864235943,
          -0.00661220789785566,
          -0.010977836109841155,
          -0.007609078591837348,
          0.003137891195427178,
          -0.010544364202199286,
          -0.003773225485024345,
          0.017964904322798514,
          0.0065364092467572465,
          0.01553523418774927,
          0.010747606871877702,
          -0.043482504242637554,
          0.0038159093935532518,
          -0.011353309228985364,
          -0.007628886622798481,
          0.007754900540489107,
          -0.011478563194747937,
          -0.017443816042980953,
          -0.008399829503203393,
          -0.016754797294074475,
          -0.009892740545064282,
          -0.002552635326925401,
          0.019676324283453228,
          -0.020888986008976484,
          -0.015463535362892133,
          0.02640122643958498,
          0.030986596740167682,
          -0.0023282355329208304,
          -0.010315722260515914,
          -0.027893918257497763,
          -0.007635360754466247,
          -0.006332915105292436,
          -0.0032985572855068757,
          0.026391120004501945,
          -0.022788699167828774,
          0.025696972575794952,
          0.011749546374502984,
          -0.007086403473821168,
          -0.008385338572858059,
          0.024301509208539462,
          0.012236463366664951,
          0.015968462228209246,
          -0.0075340183317945675,
          -0.005340020711430804,
          0.02379067812183666,
          -0.007223302402504128,
          -0.004375841910310152,
          -0.025096140994520066,
          -0.01029693372570073,
          0.014393139695051405,
          0.009565635279449758,
          0.0053953561156157015,
          -0.02060206472600634,
          0.05495417640586675,
          0.0096784931030367,
          -0.008506737641093887,
          0.008529018641402653,
          -0.00762877015254293,
          -0.003059806540661403,
          0.004540411102942565,
          -0.0036361152531662055,
          0.013457067590753269,
          0.006301545154109078,
          -0.00022368683781526233,
          -0.015957067607243802,
          -0.0017174799504912075,
          0.03150058040826975,
          -0.0007358516146311889,
          -0.0011536932082581997,
          -0.01798926896974007,
          -0.014414805876424519,
          -0.0017012327158358875,
          0.007833949881882463,
          -0.007470155338409334,
          0.014417199037194406,
          0.007569910183636175,
          -0.006393504059006072,
          -0.02446174099074716,
          -0.011806125340778517,
          -0.00847965373861359,
          0.0013683831821151848,
          0.014952432458018805,
          -0.014266172065425464,
          0.00575233297776534,
          -0.003943520580158011,
          -0.012427913802823598,
          0.01800037070566396,
          -0.002634141399809109,
          -0.0042098488916173515,
          0.007720211280170419,
          -0.011413449636703654,
          0.022932094685681248,
          -0.0005668499278826955,
          0.007012832638618738,
          0.012647898624808862,
          0.003640736468800032,
          0.0038794949579916693,
          -0.0018318930973914016,
          -0.015787968659110918,
          -0.007279821834394906,
          0.01862903811898886,
          0.011998567501537494,
          -0.0010733348361193773,
          0.0003748499203337641,
          0.010990380748274298,
          0.0022976860489556383,
          -0.012546835894967967,
          0.014703334025153003,
          0.010627786968863129,
          0.014556990107692735,
          -0.010629084353004359,
          -0.006111356974284665,
          0.01307861543336264,
          -0.01093474465846489,
          -0.00866921561245082,
          0.002333693134854542,
          0.011738972448576579,
          -0.00046014519989012737,
          0.0032473693353665123,
          -0.013768819574651592,
          -0.0024982641356086077,
          -0.020060916066800716,
          -0.0013781445495089084,
          0.005319412650876654,
          -0.010682387853239494,
          0.0034058527743259237,
          -0.0036959883591694,
          -0.0038358659418272767,
          0.007777248852251395,
          0.016037807843089835,
          0.0006928074595529132,
          -0.015328763308337767,
          0.0016321186552339384,
          -0.018449848995308882,
          -0.014429438103511716,
          -0.001425291732331524,
          0.01653011344042743,
          -0.0062543568257705795,
          0.01754516983726595,
          -0.01169269309346832,
          0.009615631410812231,
          0.013130526631691453,
          -0.017046497325513887,
          0.0027033947508923184,
          0.006562012575101583,
          0.0018698426642451693,
          -0.002244657249312332,
          0.014534883496678752,
          0.005855253688247242,
          0.014094630342711634,
          0.003810541299922532,
          -0.0055481170740256935,
          -0.0026182672793729767,
          0.003900874175862601,
          0.0010263762742257487,
          0.0002685868828276039
         ],
         "xaxis": "x",
         "y": [
          "Market Return Distribution",
          "Market Return Distribution",
          "Market Return Distribution",
          "Market Return Distribution",
          "Market Return Distribution",
          "Market Return Distribution",
          "Market Return Distribution",
          "Market Return Distribution",
          "Market Return Distribution",
          "Market Return Distribution",
          "Market Return Distribution",
          "Market Return Distribution",
          "Market Return Distribution",
          "Market Return Distribution",
          "Market Return Distribution",
          "Market Return Distribution",
          "Market Return Distribution",
          "Market Return Distribution",
          "Market Return Distribution",
          "Market Return Distribution",
          "Market Return Distribution",
          "Market Return Distribution",
          "Market Return Distribution",
          "Market Return Distribution",
          "Market Return Distribution",
          "Market Return Distribution",
          "Market Return Distribution",
          "Market Return Distribution",
          "Market Return Distribution",
          "Market Return Distribution",
          "Market Return Distribution",
          "Market Return Distribution",
          "Market Return Distribution",
          "Market Return Distribution",
          "Market Return Distribution",
          "Market Return Distribution",
          "Market Return Distribution",
          "Market Return Distribution",
          "Market Return Distribution",
          "Market Return Distribution",
          "Market Return Distribution",
          "Market Return Distribution",
          "Market Return Distribution",
          "Market Return Distribution",
          "Market Return Distribution",
          "Market Return Distribution",
          "Market Return Distribution",
          "Market Return Distribution",
          "Market Return Distribution",
          "Market Return Distribution",
          "Market Return Distribution",
          "Market Return Distribution",
          "Market Return Distribution",
          "Market Return Distribution",
          "Market Return Distribution",
          "Market Return Distribution",
          "Market Return Distribution",
          "Market Return Distribution",
          "Market Return Distribution",
          "Market Return Distribution",
          "Market Return Distribution",
          "Market Return Distribution",
          "Market Return Distribution",
          "Market Return Distribution",
          "Market Return Distribution",
          "Market Return Distribution",
          "Market Return Distribution",
          "Market Return Distribution",
          "Market Return Distribution",
          "Market Return Distribution",
          "Market Return Distribution",
          "Market Return Distribution",
          "Market Return Distribution",
          "Market Return Distribution",
          "Market Return Distribution",
          "Market Return Distribution",
          "Market Return Distribution",
          "Market Return Distribution",
          "Market Return Distribution",
          "Market Return Distribution",
          "Market Return Distribution",
          "Market Return Distribution",
          "Market Return Distribution",
          "Market Return Distribution",
          "Market Return Distribution",
          "Market Return Distribution",
          "Market Return Distribution",
          "Market Return Distribution",
          "Market Return Distribution",
          "Market Return Distribution",
          "Market Return Distribution",
          "Market Return Distribution",
          "Market Return Distribution",
          "Market Return Distribution",
          "Market Return Distribution",
          "Market Return Distribution",
          "Market Return Distribution",
          "Market Return Distribution",
          "Market Return Distribution",
          "Market Return Distribution",
          "Market Return Distribution",
          "Market Return Distribution",
          "Market Return Distribution",
          "Market Return Distribution",
          "Market Return Distribution",
          "Market Return Distribution",
          "Market Return Distribution",
          "Market Return Distribution",
          "Market Return Distribution",
          "Market Return Distribution",
          "Market Return Distribution",
          "Market Return Distribution",
          "Market Return Distribution",
          "Market Return Distribution",
          "Market Return Distribution",
          "Market Return Distribution",
          "Market Return Distribution",
          "Market Return Distribution",
          "Market Return Distribution",
          "Market Return Distribution",
          "Market Return Distribution",
          "Market Return Distribution",
          "Market Return Distribution",
          "Market Return Distribution",
          "Market Return Distribution",
          "Market Return Distribution",
          "Market Return Distribution",
          "Market Return Distribution",
          "Market Return Distribution",
          "Market Return Distribution",
          "Market Return Distribution",
          "Market Return Distribution",
          "Market Return Distribution",
          "Market Return Distribution",
          "Market Return Distribution",
          "Market Return Distribution",
          "Market Return Distribution",
          "Market Return Distribution",
          "Market Return Distribution",
          "Market Return Distribution",
          "Market Return Distribution",
          "Market Return Distribution",
          "Market Return Distribution",
          "Market Return Distribution",
          "Market Return Distribution",
          "Market Return Distribution",
          "Market Return Distribution",
          "Market Return Distribution",
          "Market Return Distribution",
          "Market Return Distribution",
          "Market Return Distribution",
          "Market Return Distribution",
          "Market Return Distribution",
          "Market Return Distribution",
          "Market Return Distribution",
          "Market Return Distribution",
          "Market Return Distribution",
          "Market Return Distribution",
          "Market Return Distribution",
          "Market Return Distribution",
          "Market Return Distribution",
          "Market Return Distribution",
          "Market Return Distribution",
          "Market Return Distribution",
          "Market Return Distribution",
          "Market Return Distribution",
          "Market Return Distribution",
          "Market Return Distribution",
          "Market Return Distribution",
          "Market Return Distribution",
          "Market Return Distribution",
          "Market Return Distribution",
          "Market Return Distribution",
          "Market Return Distribution",
          "Market Return Distribution",
          "Market Return Distribution",
          "Market Return Distribution",
          "Market Return Distribution",
          "Market Return Distribution",
          "Market Return Distribution",
          "Market Return Distribution",
          "Market Return Distribution",
          "Market Return Distribution",
          "Market Return Distribution",
          "Market Return Distribution",
          "Market Return Distribution",
          "Market Return Distribution",
          "Market Return Distribution",
          "Market Return Distribution",
          "Market Return Distribution",
          "Market Return Distribution",
          "Market Return Distribution",
          "Market Return Distribution",
          "Market Return Distribution",
          "Market Return Distribution",
          "Market Return Distribution",
          "Market Return Distribution",
          "Market Return Distribution",
          "Market Return Distribution",
          "Market Return Distribution"
         ],
         "yaxis": "y2"
        }
       ],
       "layout": {
        "barmode": "overlay",
        "hovermode": "closest",
        "legend": {
         "traceorder": "reversed"
        },
        "template": {
         "data": {
          "bar": [
           {
            "error_x": {
             "color": "#2a3f5f"
            },
            "error_y": {
             "color": "#2a3f5f"
            },
            "marker": {
             "line": {
              "color": "#E5ECF6",
              "width": 0.5
             },
             "pattern": {
              "fillmode": "overlay",
              "size": 10,
              "solidity": 0.2
             }
            },
            "type": "bar"
           }
          ],
          "barpolar": [
           {
            "marker": {
             "line": {
              "color": "#E5ECF6",
              "width": 0.5
             },
             "pattern": {
              "fillmode": "overlay",
              "size": 10,
              "solidity": 0.2
             }
            },
            "type": "barpolar"
           }
          ],
          "carpet": [
           {
            "aaxis": {
             "endlinecolor": "#2a3f5f",
             "gridcolor": "white",
             "linecolor": "white",
             "minorgridcolor": "white",
             "startlinecolor": "#2a3f5f"
            },
            "baxis": {
             "endlinecolor": "#2a3f5f",
             "gridcolor": "white",
             "linecolor": "white",
             "minorgridcolor": "white",
             "startlinecolor": "#2a3f5f"
            },
            "type": "carpet"
           }
          ],
          "choropleth": [
           {
            "colorbar": {
             "outlinewidth": 0,
             "ticks": ""
            },
            "type": "choropleth"
           }
          ],
          "contour": [
           {
            "colorbar": {
             "outlinewidth": 0,
             "ticks": ""
            },
            "colorscale": [
             [
              0,
              "#0d0887"
             ],
             [
              0.1111111111111111,
              "#46039f"
             ],
             [
              0.2222222222222222,
              "#7201a8"
             ],
             [
              0.3333333333333333,
              "#9c179e"
             ],
             [
              0.4444444444444444,
              "#bd3786"
             ],
             [
              0.5555555555555556,
              "#d8576b"
             ],
             [
              0.6666666666666666,
              "#ed7953"
             ],
             [
              0.7777777777777778,
              "#fb9f3a"
             ],
             [
              0.8888888888888888,
              "#fdca26"
             ],
             [
              1,
              "#f0f921"
             ]
            ],
            "type": "contour"
           }
          ],
          "contourcarpet": [
           {
            "colorbar": {
             "outlinewidth": 0,
             "ticks": ""
            },
            "type": "contourcarpet"
           }
          ],
          "heatmap": [
           {
            "colorbar": {
             "outlinewidth": 0,
             "ticks": ""
            },
            "colorscale": [
             [
              0,
              "#0d0887"
             ],
             [
              0.1111111111111111,
              "#46039f"
             ],
             [
              0.2222222222222222,
              "#7201a8"
             ],
             [
              0.3333333333333333,
              "#9c179e"
             ],
             [
              0.4444444444444444,
              "#bd3786"
             ],
             [
              0.5555555555555556,
              "#d8576b"
             ],
             [
              0.6666666666666666,
              "#ed7953"
             ],
             [
              0.7777777777777778,
              "#fb9f3a"
             ],
             [
              0.8888888888888888,
              "#fdca26"
             ],
             [
              1,
              "#f0f921"
             ]
            ],
            "type": "heatmap"
           }
          ],
          "heatmapgl": [
           {
            "colorbar": {
             "outlinewidth": 0,
             "ticks": ""
            },
            "colorscale": [
             [
              0,
              "#0d0887"
             ],
             [
              0.1111111111111111,
              "#46039f"
             ],
             [
              0.2222222222222222,
              "#7201a8"
             ],
             [
              0.3333333333333333,
              "#9c179e"
             ],
             [
              0.4444444444444444,
              "#bd3786"
             ],
             [
              0.5555555555555556,
              "#d8576b"
             ],
             [
              0.6666666666666666,
              "#ed7953"
             ],
             [
              0.7777777777777778,
              "#fb9f3a"
             ],
             [
              0.8888888888888888,
              "#fdca26"
             ],
             [
              1,
              "#f0f921"
             ]
            ],
            "type": "heatmapgl"
           }
          ],
          "histogram": [
           {
            "marker": {
             "pattern": {
              "fillmode": "overlay",
              "size": 10,
              "solidity": 0.2
             }
            },
            "type": "histogram"
           }
          ],
          "histogram2d": [
           {
            "colorbar": {
             "outlinewidth": 0,
             "ticks": ""
            },
            "colorscale": [
             [
              0,
              "#0d0887"
             ],
             [
              0.1111111111111111,
              "#46039f"
             ],
             [
              0.2222222222222222,
              "#7201a8"
             ],
             [
              0.3333333333333333,
              "#9c179e"
             ],
             [
              0.4444444444444444,
              "#bd3786"
             ],
             [
              0.5555555555555556,
              "#d8576b"
             ],
             [
              0.6666666666666666,
              "#ed7953"
             ],
             [
              0.7777777777777778,
              "#fb9f3a"
             ],
             [
              0.8888888888888888,
              "#fdca26"
             ],
             [
              1,
              "#f0f921"
             ]
            ],
            "type": "histogram2d"
           }
          ],
          "histogram2dcontour": [
           {
            "colorbar": {
             "outlinewidth": 0,
             "ticks": ""
            },
            "colorscale": [
             [
              0,
              "#0d0887"
             ],
             [
              0.1111111111111111,
              "#46039f"
             ],
             [
              0.2222222222222222,
              "#7201a8"
             ],
             [
              0.3333333333333333,
              "#9c179e"
             ],
             [
              0.4444444444444444,
              "#bd3786"
             ],
             [
              0.5555555555555556,
              "#d8576b"
             ],
             [
              0.6666666666666666,
              "#ed7953"
             ],
             [
              0.7777777777777778,
              "#fb9f3a"
             ],
             [
              0.8888888888888888,
              "#fdca26"
             ],
             [
              1,
              "#f0f921"
             ]
            ],
            "type": "histogram2dcontour"
           }
          ],
          "mesh3d": [
           {
            "colorbar": {
             "outlinewidth": 0,
             "ticks": ""
            },
            "type": "mesh3d"
           }
          ],
          "parcoords": [
           {
            "line": {
             "colorbar": {
              "outlinewidth": 0,
              "ticks": ""
             }
            },
            "type": "parcoords"
           }
          ],
          "pie": [
           {
            "automargin": true,
            "type": "pie"
           }
          ],
          "scatter": [
           {
            "marker": {
             "colorbar": {
              "outlinewidth": 0,
              "ticks": ""
             }
            },
            "type": "scatter"
           }
          ],
          "scatter3d": [
           {
            "line": {
             "colorbar": {
              "outlinewidth": 0,
              "ticks": ""
             }
            },
            "marker": {
             "colorbar": {
              "outlinewidth": 0,
              "ticks": ""
             }
            },
            "type": "scatter3d"
           }
          ],
          "scattercarpet": [
           {
            "marker": {
             "colorbar": {
              "outlinewidth": 0,
              "ticks": ""
             }
            },
            "type": "scattercarpet"
           }
          ],
          "scattergeo": [
           {
            "marker": {
             "colorbar": {
              "outlinewidth": 0,
              "ticks": ""
             }
            },
            "type": "scattergeo"
           }
          ],
          "scattergl": [
           {
            "marker": {
             "colorbar": {
              "outlinewidth": 0,
              "ticks": ""
             }
            },
            "type": "scattergl"
           }
          ],
          "scattermapbox": [
           {
            "marker": {
             "colorbar": {
              "outlinewidth": 0,
              "ticks": ""
             }
            },
            "type": "scattermapbox"
           }
          ],
          "scatterpolar": [
           {
            "marker": {
             "colorbar": {
              "outlinewidth": 0,
              "ticks": ""
             }
            },
            "type": "scatterpolar"
           }
          ],
          "scatterpolargl": [
           {
            "marker": {
             "colorbar": {
              "outlinewidth": 0,
              "ticks": ""
             }
            },
            "type": "scatterpolargl"
           }
          ],
          "scatterternary": [
           {
            "marker": {
             "colorbar": {
              "outlinewidth": 0,
              "ticks": ""
             }
            },
            "type": "scatterternary"
           }
          ],
          "surface": [
           {
            "colorbar": {
             "outlinewidth": 0,
             "ticks": ""
            },
            "colorscale": [
             [
              0,
              "#0d0887"
             ],
             [
              0.1111111111111111,
              "#46039f"
             ],
             [
              0.2222222222222222,
              "#7201a8"
             ],
             [
              0.3333333333333333,
              "#9c179e"
             ],
             [
              0.4444444444444444,
              "#bd3786"
             ],
             [
              0.5555555555555556,
              "#d8576b"
             ],
             [
              0.6666666666666666,
              "#ed7953"
             ],
             [
              0.7777777777777778,
              "#fb9f3a"
             ],
             [
              0.8888888888888888,
              "#fdca26"
             ],
             [
              1,
              "#f0f921"
             ]
            ],
            "type": "surface"
           }
          ],
          "table": [
           {
            "cells": {
             "fill": {
              "color": "#EBF0F8"
             },
             "line": {
              "color": "white"
             }
            },
            "header": {
             "fill": {
              "color": "#C8D4E3"
             },
             "line": {
              "color": "white"
             }
            },
            "type": "table"
           }
          ]
         },
         "layout": {
          "annotationdefaults": {
           "arrowcolor": "#2a3f5f",
           "arrowhead": 0,
           "arrowwidth": 1
          },
          "autotypenumbers": "strict",
          "coloraxis": {
           "colorbar": {
            "outlinewidth": 0,
            "ticks": ""
           }
          },
          "colorscale": {
           "diverging": [
            [
             0,
             "#8e0152"
            ],
            [
             0.1,
             "#c51b7d"
            ],
            [
             0.2,
             "#de77ae"
            ],
            [
             0.3,
             "#f1b6da"
            ],
            [
             0.4,
             "#fde0ef"
            ],
            [
             0.5,
             "#f7f7f7"
            ],
            [
             0.6,
             "#e6f5d0"
            ],
            [
             0.7,
             "#b8e186"
            ],
            [
             0.8,
             "#7fbc41"
            ],
            [
             0.9,
             "#4d9221"
            ],
            [
             1,
             "#276419"
            ]
           ],
           "sequential": [
            [
             0,
             "#0d0887"
            ],
            [
             0.1111111111111111,
             "#46039f"
            ],
            [
             0.2222222222222222,
             "#7201a8"
            ],
            [
             0.3333333333333333,
             "#9c179e"
            ],
            [
             0.4444444444444444,
             "#bd3786"
            ],
            [
             0.5555555555555556,
             "#d8576b"
            ],
            [
             0.6666666666666666,
             "#ed7953"
            ],
            [
             0.7777777777777778,
             "#fb9f3a"
            ],
            [
             0.8888888888888888,
             "#fdca26"
            ],
            [
             1,
             "#f0f921"
            ]
           ],
           "sequentialminus": [
            [
             0,
             "#0d0887"
            ],
            [
             0.1111111111111111,
             "#46039f"
            ],
            [
             0.2222222222222222,
             "#7201a8"
            ],
            [
             0.3333333333333333,
             "#9c179e"
            ],
            [
             0.4444444444444444,
             "#bd3786"
            ],
            [
             0.5555555555555556,
             "#d8576b"
            ],
            [
             0.6666666666666666,
             "#ed7953"
            ],
            [
             0.7777777777777778,
             "#fb9f3a"
            ],
            [
             0.8888888888888888,
             "#fdca26"
            ],
            [
             1,
             "#f0f921"
            ]
           ]
          },
          "colorway": [
           "#636efa",
           "#EF553B",
           "#00cc96",
           "#ab63fa",
           "#FFA15A",
           "#19d3f3",
           "#FF6692",
           "#B6E880",
           "#FF97FF",
           "#FECB52"
          ],
          "font": {
           "color": "#2a3f5f"
          },
          "geo": {
           "bgcolor": "white",
           "lakecolor": "white",
           "landcolor": "#E5ECF6",
           "showlakes": true,
           "showland": true,
           "subunitcolor": "white"
          },
          "hoverlabel": {
           "align": "left"
          },
          "hovermode": "closest",
          "mapbox": {
           "style": "light"
          },
          "paper_bgcolor": "white",
          "plot_bgcolor": "#E5ECF6",
          "polar": {
           "angularaxis": {
            "gridcolor": "white",
            "linecolor": "white",
            "ticks": ""
           },
           "bgcolor": "#E5ECF6",
           "radialaxis": {
            "gridcolor": "white",
            "linecolor": "white",
            "ticks": ""
           }
          },
          "scene": {
           "xaxis": {
            "backgroundcolor": "#E5ECF6",
            "gridcolor": "white",
            "gridwidth": 2,
            "linecolor": "white",
            "showbackground": true,
            "ticks": "",
            "zerolinecolor": "white"
           },
           "yaxis": {
            "backgroundcolor": "#E5ECF6",
            "gridcolor": "white",
            "gridwidth": 2,
            "linecolor": "white",
            "showbackground": true,
            "ticks": "",
            "zerolinecolor": "white"
           },
           "zaxis": {
            "backgroundcolor": "#E5ECF6",
            "gridcolor": "white",
            "gridwidth": 2,
            "linecolor": "white",
            "showbackground": true,
            "ticks": "",
            "zerolinecolor": "white"
           }
          },
          "shapedefaults": {
           "line": {
            "color": "#2a3f5f"
           }
          },
          "ternary": {
           "aaxis": {
            "gridcolor": "white",
            "linecolor": "white",
            "ticks": ""
           },
           "baxis": {
            "gridcolor": "white",
            "linecolor": "white",
            "ticks": ""
           },
           "bgcolor": "#E5ECF6",
           "caxis": {
            "gridcolor": "white",
            "linecolor": "white",
            "ticks": ""
           }
          },
          "title": {
           "x": 0.05
          },
          "xaxis": {
           "automargin": true,
           "gridcolor": "white",
           "linecolor": "white",
           "ticks": "",
           "title": {
            "standoff": 15
           },
           "zerolinecolor": "white",
           "zerolinewidth": 2
          },
          "yaxis": {
           "automargin": true,
           "gridcolor": "white",
           "linecolor": "white",
           "ticks": "",
           "title": {
            "standoff": 15
           },
           "zerolinecolor": "white",
           "zerolinewidth": 2
          }
         }
        },
        "xaxis": {
         "anchor": "y2",
         "domain": [
          0,
          1
         ],
         "zeroline": false
        },
        "yaxis": {
         "anchor": "free",
         "domain": [
          0.35,
          1
         ],
         "position": 0
        },
        "yaxis2": {
         "anchor": "x",
         "domain": [
          0,
          0.25
         ],
         "dtick": 1,
         "showticklabels": false
        }
       }
      }
     },
     "metadata": {},
     "output_type": "display_data"
    }
   ],
   "source": [
    "#Portfolio vs Market return distribution plots\n",
    "average_return_50          = pm.retrieve_ticker_data().pct_change().mean(axis=1).dropna()[-200:]\n",
    "market_return_50           = benchmark['Close'].pct_change().dropna()[-200:]\n",
    "\n",
    "hist_data     = [average_return_50.tolist(), market_return_50.tolist()]\n",
    "group_labels = ['Average Portfolio Return Distribution', 'Market Return Distribution']\n",
    "\n",
    "\n",
    "fig = ff.create_distplot(hist_data=hist_data,group_labels=group_labels,bin_size=[.005,.005])\n",
    "fig.show()"
   ]
  },
  {
   "cell_type": "code",
   "execution_count": 5,
   "id": "d430f19f",
   "metadata": {},
   "outputs": [
    {
     "data": {
      "application/vnd.plotly.v1+json": {
       "config": {
        "plotlyServerURL": "https://plot.ly",
        "responsive": true
       },
       "data": [
        {
         "hovertemplate": "variable=UVXY<br>Date=%{x}<br>value=%{y}<extra></extra>",
         "legendgroup": "UVXY",
         "line": {
          "color": "#636efa",
          "dash": "solid"
         },
         "marker": {
          "symbol": "circle"
         },
         "mode": "lines",
         "name": "UVXY",
         "orientation": "v",
         "showlegend": true,
         "type": "scatter",
         "x": [
          "2022-11-15T00:00:00",
          "2022-11-16T00:00:00",
          "2022-11-17T00:00:00",
          "2022-11-18T00:00:00",
          "2022-11-21T00:00:00",
          "2022-11-22T00:00:00",
          "2022-11-23T00:00:00",
          "2022-11-25T00:00:00",
          "2022-11-28T00:00:00",
          "2022-11-29T00:00:00",
          "2022-11-30T00:00:00",
          "2022-12-01T00:00:00",
          "2022-12-02T00:00:00",
          "2022-12-05T00:00:00",
          "2022-12-06T00:00:00",
          "2022-12-07T00:00:00",
          "2022-12-08T00:00:00",
          "2022-12-09T00:00:00",
          "2022-12-12T00:00:00",
          "2022-12-13T00:00:00",
          "2022-12-14T00:00:00",
          "2022-12-15T00:00:00",
          "2022-12-16T00:00:00",
          "2022-12-19T00:00:00",
          "2022-12-20T00:00:00",
          "2022-12-21T00:00:00",
          "2022-12-22T00:00:00",
          "2022-12-23T00:00:00",
          "2022-12-27T00:00:00",
          "2022-12-28T00:00:00",
          "2022-12-29T00:00:00",
          "2022-12-30T00:00:00",
          "2023-01-03T00:00:00",
          "2023-01-04T00:00:00",
          "2023-01-05T00:00:00",
          "2023-01-06T00:00:00",
          "2023-01-09T00:00:00",
          "2023-01-10T00:00:00",
          "2023-01-11T00:00:00",
          "2023-01-12T00:00:00",
          "2023-01-13T00:00:00",
          "2023-01-17T00:00:00",
          "2023-01-18T00:00:00",
          "2023-01-19T00:00:00",
          "2023-01-20T00:00:00",
          "2023-01-23T00:00:00",
          "2023-01-24T00:00:00",
          "2023-01-25T00:00:00",
          "2023-01-26T00:00:00",
          "2023-01-27T00:00:00",
          "2023-01-30T00:00:00",
          "2023-01-31T00:00:00",
          "2023-02-01T00:00:00",
          "2023-02-02T00:00:00",
          "2023-02-03T00:00:00",
          "2023-02-06T00:00:00",
          "2023-02-07T00:00:00",
          "2023-02-08T00:00:00",
          "2023-02-09T00:00:00",
          "2023-02-10T00:00:00",
          "2023-02-13T00:00:00",
          "2023-02-14T00:00:00",
          "2023-02-15T00:00:00",
          "2023-02-16T00:00:00",
          "2023-02-17T00:00:00",
          "2023-02-21T00:00:00",
          "2023-02-22T00:00:00",
          "2023-02-23T00:00:00",
          "2023-02-24T00:00:00",
          "2023-02-27T00:00:00",
          "2023-02-28T00:00:00",
          "2023-03-01T00:00:00",
          "2023-03-02T00:00:00",
          "2023-03-03T00:00:00",
          "2023-03-06T00:00:00",
          "2023-03-07T00:00:00",
          "2023-03-08T00:00:00",
          "2023-03-09T00:00:00",
          "2023-03-10T00:00:00",
          "2023-03-13T00:00:00",
          "2023-03-14T00:00:00",
          "2023-03-15T00:00:00",
          "2023-03-16T00:00:00",
          "2023-03-17T00:00:00",
          "2023-03-20T00:00:00",
          "2023-03-21T00:00:00",
          "2023-03-22T00:00:00",
          "2023-03-23T00:00:00",
          "2023-03-24T00:00:00",
          "2023-03-27T00:00:00",
          "2023-03-28T00:00:00",
          "2023-03-29T00:00:00",
          "2023-03-30T00:00:00",
          "2023-03-31T00:00:00",
          "2023-04-03T00:00:00",
          "2023-04-04T00:00:00",
          "2023-04-05T00:00:00",
          "2023-04-06T00:00:00",
          "2023-04-10T00:00:00",
          "2023-04-11T00:00:00"
         ],
         "xaxis": "x",
         "y": [
          0.41082106282799263,
          0.5509094715400283,
          0.5263681811063412,
          0.6092920684807622,
          2.343725555209319,
          2.730784670709373,
          2.9576688582819686,
          2.881397877698098,
          1.9944972556488099,
          2.68015075928659,
          3.522827246180897,
          3.6863850262523843,
          4.772415800744676,
          5.0578756262593965,
          4.847897177556555,
          4.2398588295822455,
          4.937261671469051,
          4.835108838024188,
          4.489947903474634,
          4.534546442464805,
          4.979159362254425,
          4.325899416289318,
          4.921290839781981,
          5.499295536249195,
          5.805720663548902,
          5.969390740917693,
          4.906567042824821,
          5.4492437114356305,
          5.250890323997171,
          5.023516678074676,
          5.275650451574326,
          5.184267828502191,
          5.209690630883081,
          5.293302852763513,
          4.866674779923022,
          4.899135513845129,
          4.598524496638226,
          4.729259695656953,
          4.504907169103626,
          4.779208158845754,
          5.31762811325284,
          5.047375051648814,
          4.443141242980843,
          4.292595675883794,
          4.9526509810751564,
          5.423383657358991,
          5.3803413045022435,
          5.257270431552253,
          5.381148659353599,
          5.695663741173648,
          5.1325433483945755,
          5.218533408871992,
          5.375014648023802,
          4.893055350536639,
          4.44731926446898,
          3.854826412201403,
          4.241335448842643,
          4.204947351895315,
          3.6836996882015276,
          3.098942277112746,
          3.29234193624485,
          3.4986731552995347,
          3.9191124046982013,
          3.558891309862779,
          3.6957412058814962,
          2.498062697037296,
          3.086954699751959,
          3.350968671528593,
          2.4986911612289715,
          2.498080063094777,
          3.587752182417368,
          3.494808199891891,
          3.5976743919481344,
          3.810718348609811,
          3.6358107647949254,
          4.056706339602235,
          3.964879914068646,
          2.5206575385807577,
          1.2698143565069646,
          0.7112251682124578,
          1.326397325933342,
          0.4241053974782581,
          1.0696076839258468,
          0.18472540088447786,
          0.34836924667246827,
          1.2124117316972263,
          0.6042218770821004,
          0.3484690424980381,
          0.2083062106173773,
          0.37884695182836226,
          0.660508394889824,
          1.290379372977091,
          1.3214723743352088,
          1.044693386335374,
          1.195095512724854,
          0.6977519748074983,
          0.7780466370029376,
          0.8203771721231516,
          0.7324566181208861,
          1.0478585296198866
         ],
         "yaxis": "y"
        },
        {
         "hovertemplate": "variable=SPY<br>Date=%{x}<br>value=%{y}<extra></extra>",
         "legendgroup": "SPY",
         "line": {
          "color": "#EF553B",
          "dash": "solid"
         },
         "marker": {
          "symbol": "circle"
         },
         "mode": "lines",
         "name": "SPY",
         "orientation": "v",
         "showlegend": true,
         "type": "scatter",
         "x": [
          "2022-11-15T00:00:00",
          "2022-11-16T00:00:00",
          "2022-11-17T00:00:00",
          "2022-11-18T00:00:00",
          "2022-11-21T00:00:00",
          "2022-11-22T00:00:00",
          "2022-11-23T00:00:00",
          "2022-11-25T00:00:00",
          "2022-11-28T00:00:00",
          "2022-11-29T00:00:00",
          "2022-11-30T00:00:00",
          "2022-12-01T00:00:00",
          "2022-12-02T00:00:00",
          "2022-12-05T00:00:00",
          "2022-12-06T00:00:00",
          "2022-12-07T00:00:00",
          "2022-12-08T00:00:00",
          "2022-12-09T00:00:00",
          "2022-12-12T00:00:00",
          "2022-12-13T00:00:00",
          "2022-12-14T00:00:00",
          "2022-12-15T00:00:00",
          "2022-12-16T00:00:00",
          "2022-12-19T00:00:00",
          "2022-12-20T00:00:00",
          "2022-12-21T00:00:00",
          "2022-12-22T00:00:00",
          "2022-12-23T00:00:00",
          "2022-12-27T00:00:00",
          "2022-12-28T00:00:00",
          "2022-12-29T00:00:00",
          "2022-12-30T00:00:00",
          "2023-01-03T00:00:00",
          "2023-01-04T00:00:00",
          "2023-01-05T00:00:00",
          "2023-01-06T00:00:00",
          "2023-01-09T00:00:00",
          "2023-01-10T00:00:00",
          "2023-01-11T00:00:00",
          "2023-01-12T00:00:00",
          "2023-01-13T00:00:00",
          "2023-01-17T00:00:00",
          "2023-01-18T00:00:00",
          "2023-01-19T00:00:00",
          "2023-01-20T00:00:00",
          "2023-01-23T00:00:00",
          "2023-01-24T00:00:00",
          "2023-01-25T00:00:00",
          "2023-01-26T00:00:00",
          "2023-01-27T00:00:00",
          "2023-01-30T00:00:00",
          "2023-01-31T00:00:00",
          "2023-02-01T00:00:00",
          "2023-02-02T00:00:00",
          "2023-02-03T00:00:00",
          "2023-02-06T00:00:00",
          "2023-02-07T00:00:00",
          "2023-02-08T00:00:00",
          "2023-02-09T00:00:00",
          "2023-02-10T00:00:00",
          "2023-02-13T00:00:00",
          "2023-02-14T00:00:00",
          "2023-02-15T00:00:00",
          "2023-02-16T00:00:00",
          "2023-02-17T00:00:00",
          "2023-02-21T00:00:00",
          "2023-02-22T00:00:00",
          "2023-02-23T00:00:00",
          "2023-02-24T00:00:00",
          "2023-02-27T00:00:00",
          "2023-02-28T00:00:00",
          "2023-03-01T00:00:00",
          "2023-03-02T00:00:00",
          "2023-03-03T00:00:00",
          "2023-03-06T00:00:00",
          "2023-03-07T00:00:00",
          "2023-03-08T00:00:00",
          "2023-03-09T00:00:00",
          "2023-03-10T00:00:00",
          "2023-03-13T00:00:00",
          "2023-03-14T00:00:00",
          "2023-03-15T00:00:00",
          "2023-03-16T00:00:00",
          "2023-03-17T00:00:00",
          "2023-03-20T00:00:00",
          "2023-03-21T00:00:00",
          "2023-03-22T00:00:00",
          "2023-03-23T00:00:00",
          "2023-03-24T00:00:00",
          "2023-03-27T00:00:00",
          "2023-03-28T00:00:00",
          "2023-03-29T00:00:00",
          "2023-03-30T00:00:00",
          "2023-03-31T00:00:00",
          "2023-04-03T00:00:00",
          "2023-04-04T00:00:00",
          "2023-04-05T00:00:00",
          "2023-04-06T00:00:00",
          "2023-04-10T00:00:00",
          "2023-04-11T00:00:00"
         ],
         "xaxis": "x",
         "y": [
          0.14555713139919269,
          -0.2035828165977105,
          -0.6564445515535556,
          -0.8076841592175515,
          0.21114959057467042,
          0.4666685082339133,
          0.9525287526972037,
          1.1614174257845467,
          0.5015205797710107,
          0.771894234872698,
          2.093874949223986,
          2.319667883902713,
          2.8067734250797582,
          2.5425004862603555,
          2.1806648947508718,
          1.6075498144188325,
          2.4696031822357307,
          2.72952720141796,
          2.4226368969470577,
          1.8023006698416673,
          1.6760677228400183,
          1.2199709337801932,
          1.7483599572741886,
          1.721444955136082,
          1.960550876630188,
          2.503229473614945,
          1.29994185335547,
          2.2361784849751714,
          1.3519648634664152,
          0.5925356342389118,
          1.357555170054464,
          1.5446322199063782,
          0.6818400081349756,
          0.5435745279825352,
          -0.3072421823611752,
          0.6250520172695159,
          0.7754084435242231,
          0.2694677900581097,
          0.8963829127018282,
          1.1551084124045177,
          2.1937098387943474,
          2.5063853528064133,
          1.4541635183489432,
          0.8913889797963389,
          1.307802294982224,
          2.4591018188970084,
          0.7251103495744567,
          0.36205457226820914,
          1.1376068114645372,
          0.8931854610310713,
          0.6880842572480107,
          1.3748677257816866,
          1.6058890828110262,
          2.3046148105992903,
          1.3550323302433502,
          0.8714754564278453,
          1.3696686592251186,
          1.584108193767207,
          1.302281420862163,
          0.2212064813554427,
          0.7200242361629586,
          0.7483529661798417,
          1.677309419365528,
          1.7083637924431139,
          1.6733988237539352,
          0.4711832167314103,
          0.7223035799182135,
          0.3617772017011904,
          -0.37939903919208934,
          0.01587598655443193,
          0.9296455920914618,
          1.2998886346672256,
          2.04096089039475,
          2.65199651997533,
          2.052656200680563,
          1.9968346005292323,
          1.8153186028225299,
          1.1183404339875387,
          1.025598388561068,
          0.21520303776101835,
          1.0206627761845626,
          0.9303749797095351,
          1.3197751614513404,
          1.3070188318700562,
          0.7853311629525138,
          1.3592468047136927,
          0.317218972673113,
          -0.08910282553063396,
          0.03131195409065992,
          -0.05163658089256826,
          -0.0687330306273383,
          1.2118377453743057,
          1.785130649236154,
          1.6116096124498098,
          1.2701132125716912,
          1.0691218482040314,
          0.9374286037261859,
          0.6380385497161015,
          0.5828489130358812,
          1.1685087124551958
         ],
         "yaxis": "y"
        },
        {
         "hovertemplate": "variable=SOXL<br>Date=%{x}<br>value=%{y}<extra></extra>",
         "legendgroup": "SOXL",
         "line": {
          "color": "#00cc96",
          "dash": "solid"
         },
         "marker": {
          "symbol": "circle"
         },
         "mode": "lines",
         "name": "SOXL",
         "orientation": "v",
         "showlegend": true,
         "type": "scatter",
         "x": [
          "2022-11-15T00:00:00",
          "2022-11-16T00:00:00",
          "2022-11-17T00:00:00",
          "2022-11-18T00:00:00",
          "2022-11-21T00:00:00",
          "2022-11-22T00:00:00",
          "2022-11-23T00:00:00",
          "2022-11-25T00:00:00",
          "2022-11-28T00:00:00",
          "2022-11-29T00:00:00",
          "2022-11-30T00:00:00",
          "2022-12-01T00:00:00",
          "2022-12-02T00:00:00",
          "2022-12-05T00:00:00",
          "2022-12-06T00:00:00",
          "2022-12-07T00:00:00",
          "2022-12-08T00:00:00",
          "2022-12-09T00:00:00",
          "2022-12-12T00:00:00",
          "2022-12-13T00:00:00",
          "2022-12-14T00:00:00",
          "2022-12-15T00:00:00",
          "2022-12-16T00:00:00",
          "2022-12-19T00:00:00",
          "2022-12-20T00:00:00",
          "2022-12-21T00:00:00",
          "2022-12-22T00:00:00",
          "2022-12-23T00:00:00",
          "2022-12-27T00:00:00",
          "2022-12-28T00:00:00",
          "2022-12-29T00:00:00",
          "2022-12-30T00:00:00",
          "2023-01-03T00:00:00",
          "2023-01-04T00:00:00",
          "2023-01-05T00:00:00",
          "2023-01-06T00:00:00",
          "2023-01-09T00:00:00",
          "2023-01-10T00:00:00",
          "2023-01-11T00:00:00",
          "2023-01-12T00:00:00",
          "2023-01-13T00:00:00",
          "2023-01-17T00:00:00",
          "2023-01-18T00:00:00",
          "2023-01-19T00:00:00",
          "2023-01-20T00:00:00",
          "2023-01-23T00:00:00",
          "2023-01-24T00:00:00",
          "2023-01-25T00:00:00",
          "2023-01-26T00:00:00",
          "2023-01-27T00:00:00",
          "2023-01-30T00:00:00",
          "2023-01-31T00:00:00",
          "2023-02-01T00:00:00",
          "2023-02-02T00:00:00",
          "2023-02-03T00:00:00",
          "2023-02-06T00:00:00",
          "2023-02-07T00:00:00",
          "2023-02-08T00:00:00",
          "2023-02-09T00:00:00",
          "2023-02-10T00:00:00",
          "2023-02-13T00:00:00",
          "2023-02-14T00:00:00",
          "2023-02-15T00:00:00",
          "2023-02-16T00:00:00",
          "2023-02-17T00:00:00",
          "2023-02-21T00:00:00",
          "2023-02-22T00:00:00",
          "2023-02-23T00:00:00",
          "2023-02-24T00:00:00",
          "2023-02-27T00:00:00",
          "2023-02-28T00:00:00",
          "2023-03-01T00:00:00",
          "2023-03-02T00:00:00",
          "2023-03-03T00:00:00",
          "2023-03-06T00:00:00",
          "2023-03-07T00:00:00",
          "2023-03-08T00:00:00",
          "2023-03-09T00:00:00",
          "2023-03-10T00:00:00",
          "2023-03-13T00:00:00",
          "2023-03-14T00:00:00",
          "2023-03-15T00:00:00",
          "2023-03-16T00:00:00",
          "2023-03-17T00:00:00",
          "2023-03-20T00:00:00",
          "2023-03-21T00:00:00",
          "2023-03-22T00:00:00",
          "2023-03-23T00:00:00",
          "2023-03-24T00:00:00",
          "2023-03-27T00:00:00",
          "2023-03-28T00:00:00",
          "2023-03-29T00:00:00",
          "2023-03-30T00:00:00",
          "2023-03-31T00:00:00",
          "2023-04-03T00:00:00",
          "2023-04-04T00:00:00",
          "2023-04-05T00:00:00",
          "2023-04-06T00:00:00",
          "2023-04-10T00:00:00",
          "2023-04-11T00:00:00"
         ],
         "xaxis": "x",
         "y": [
          0.36443789995470727,
          -0.5434410862373088,
          -0.7710460982894148,
          -0.7675215500971915,
          -0.07082936366266983,
          0.2040229715406843,
          0.6445780030340962,
          0.36809369649265633,
          -0.16236621132992055,
          0.01342270665685266,
          1.072647542909357,
          1.4503759533886778,
          1.5270532050321004,
          1.6282816210524855,
          0.9887211710229934,
          0.7650647881916031,
          1.8327935166342435,
          2.0021889209133072,
          1.7457374260402077,
          1.2347824263347786,
          0.7264510863973985,
          0.09617729276156857,
          1.1173555227292538,
          1.6024910195867745,
          2.1207200331005818,
          2.9087505648697864,
          1.2369704048171641,
          2.344721131224704,
          1.5190999210069696,
          1.132960314172371,
          1.5678797325326863,
          1.4478201024714556,
          0.5357720474918634,
          0.9208736697107106,
          0.20872288361644348,
          1.155670578826315,
          1.9663823406092409,
          1.4750626399298845,
          2.217425138169949,
          2.3204911073248797,
          3.300215935514159,
          3.7987474842289246,
          2.5396334548964323,
          1.3529608738009626,
          1.5217259017554852,
          3.4432875648334265,
          1.3060236391569449,
          0.6857745175626607,
          1.3141226357189335,
          0.565552633715486,
          0.9828724709935313,
          1.2281046070509263,
          2.302275310870562,
          3.3719197430037324,
          2.0931212733006435,
          1.398877584744487,
          2.418467898504445,
          2.597520040406796,
          2.735035229367428,
          1.015426849775406,
          1.5185452643735995,
          2.299605374103635,
          2.7461288842076073,
          2.714628942652954,
          2.2533133506597007,
          0.7692069547384044,
          0.8541925164776224,
          1.1077940412154295,
          0.3574245132449673,
          0.7996775283623424,
          2.029679931959634,
          2.2902438339759734,
          2.887055922359615,
          3.5690791940127164,
          2.5640078984345367,
          3.7003643520579685,
          4.536424766610306,
          4.454487784725835,
          4.267750710342005,
          3.3348126833427947,
          4.190428989161962,
          4.154730276350611,
          4.521699218438708,
          4.955031007097574,
          3.9665260733444914,
          3.3909319246334575,
          2.7144176567440876,
          3.087294587050622,
          2.184798696740515,
          1.7355483768737336,
          1.4635953314397183,
          2.419377259300682,
          3.8899796151582136,
          3.2451813147355018,
          1.6629196373185335,
          1.2879683986671329,
          0.7544992196984508,
          0.22700370942861758,
          0.7430673584734055,
          1.3998782592581824
         ],
         "yaxis": "y"
        },
        {
         "hovertemplate": "variable=EXR<br>Date=%{x}<br>value=%{y}<extra></extra>",
         "legendgroup": "EXR",
         "line": {
          "color": "#ab63fa",
          "dash": "solid"
         },
         "marker": {
          "symbol": "circle"
         },
         "mode": "lines",
         "name": "EXR",
         "orientation": "v",
         "showlegend": true,
         "type": "scatter",
         "x": [
          "2022-11-15T00:00:00",
          "2022-11-16T00:00:00",
          "2022-11-17T00:00:00",
          "2022-11-18T00:00:00",
          "2022-11-21T00:00:00",
          "2022-11-22T00:00:00",
          "2022-11-23T00:00:00",
          "2022-11-25T00:00:00",
          "2022-11-28T00:00:00",
          "2022-11-29T00:00:00",
          "2022-11-30T00:00:00",
          "2022-12-01T00:00:00",
          "2022-12-02T00:00:00",
          "2022-12-05T00:00:00",
          "2022-12-06T00:00:00",
          "2022-12-07T00:00:00",
          "2022-12-08T00:00:00",
          "2022-12-09T00:00:00",
          "2022-12-12T00:00:00",
          "2022-12-13T00:00:00",
          "2022-12-14T00:00:00",
          "2022-12-15T00:00:00",
          "2022-12-16T00:00:00",
          "2022-12-19T00:00:00",
          "2022-12-20T00:00:00",
          "2022-12-21T00:00:00",
          "2022-12-22T00:00:00",
          "2022-12-23T00:00:00",
          "2022-12-27T00:00:00",
          "2022-12-28T00:00:00",
          "2022-12-29T00:00:00",
          "2022-12-30T00:00:00",
          "2023-01-03T00:00:00",
          "2023-01-04T00:00:00",
          "2023-01-05T00:00:00",
          "2023-01-06T00:00:00",
          "2023-01-09T00:00:00",
          "2023-01-10T00:00:00",
          "2023-01-11T00:00:00",
          "2023-01-12T00:00:00",
          "2023-01-13T00:00:00",
          "2023-01-17T00:00:00",
          "2023-01-18T00:00:00",
          "2023-01-19T00:00:00",
          "2023-01-20T00:00:00",
          "2023-01-23T00:00:00",
          "2023-01-24T00:00:00",
          "2023-01-25T00:00:00",
          "2023-01-26T00:00:00",
          "2023-01-27T00:00:00",
          "2023-01-30T00:00:00",
          "2023-01-31T00:00:00",
          "2023-02-01T00:00:00",
          "2023-02-02T00:00:00",
          "2023-02-03T00:00:00",
          "2023-02-06T00:00:00",
          "2023-02-07T00:00:00",
          "2023-02-08T00:00:00",
          "2023-02-09T00:00:00",
          "2023-02-10T00:00:00",
          "2023-02-13T00:00:00",
          "2023-02-14T00:00:00",
          "2023-02-15T00:00:00",
          "2023-02-16T00:00:00",
          "2023-02-17T00:00:00",
          "2023-02-21T00:00:00",
          "2023-02-22T00:00:00",
          "2023-02-23T00:00:00",
          "2023-02-24T00:00:00",
          "2023-02-27T00:00:00",
          "2023-02-28T00:00:00",
          "2023-03-01T00:00:00",
          "2023-03-02T00:00:00",
          "2023-03-03T00:00:00",
          "2023-03-06T00:00:00",
          "2023-03-07T00:00:00",
          "2023-03-08T00:00:00",
          "2023-03-09T00:00:00",
          "2023-03-10T00:00:00",
          "2023-03-13T00:00:00",
          "2023-03-14T00:00:00",
          "2023-03-15T00:00:00",
          "2023-03-16T00:00:00",
          "2023-03-17T00:00:00",
          "2023-03-20T00:00:00",
          "2023-03-21T00:00:00",
          "2023-03-22T00:00:00",
          "2023-03-23T00:00:00",
          "2023-03-24T00:00:00",
          "2023-03-27T00:00:00",
          "2023-03-28T00:00:00",
          "2023-03-29T00:00:00",
          "2023-03-30T00:00:00",
          "2023-03-31T00:00:00",
          "2023-04-03T00:00:00",
          "2023-04-04T00:00:00",
          "2023-04-05T00:00:00",
          "2023-04-06T00:00:00",
          "2023-04-10T00:00:00",
          "2023-04-11T00:00:00"
         ],
         "xaxis": "x",
         "y": [
          -3.8198384978285524,
          -3.5400238610213464,
          -3.5698786499750828,
          -3.2092216297431015,
          -2.9174965014552026,
          -2.8968192118397944,
          -2.587113148941585,
          -2.4864955425696333,
          -2.6089239922617504,
          -2.2846757551132657,
          -1.4526752506598393,
          -1.2899043314020149,
          -1.2389517722898384,
          -1.188542729724718,
          -1.0244589404358668,
          -1.246455665786827,
          -1.0614746248973719,
          -1.4833263978822633,
          -1.3674154465413755,
          -1.8243093611135794,
          -1.863144016673459,
          -1.4237186795649217,
          -1.4277272401665735,
          -1.7207776232015268,
          -2.0251321149397525,
          -1.8049414039584706,
          -1.8918863525947665,
          -1.2901163153327673,
          -1.9315790970810829,
          -2.428378229891077,
          -1.6021503053166541,
          -1.7774515818826466,
          -2.0860809889102905,
          -1.9809326238641705,
          -3.164262238270196,
          -2.668240567219486,
          -2.3413859861340334,
          -3.0862879437658877,
          -2.138082639625506,
          -2.1480254220919974,
          -0.7101528589119344,
          0.04523650851775711,
          -0.23297759621367475,
          -0.08345100138477367,
          -0.205212693092651,
          0.16238329981771027,
          -1.5574742913954895,
          -0.8932034984369289,
          0.6016766258905307,
          0.7443999719653064,
          -0.4161152883776947,
          0.6669257095903774,
          0.2972138874602603,
          1.417544078266906,
          1.2400958124246284,
          1.9997299855514212,
          2.0941840775106826,
          2.4331020723466974,
          2.162314204595607,
          0.40931079132930825,
          0.6992946950122244,
          0.39073916436088046,
          1.0964338878423776,
          0.6821033395598539,
          0.5260179251640034,
          0.40344340142351187,
          -0.1244554230423068,
          0.2294502589133808,
          0.47165316485293746,
          0.8902530998330251,
          1.363168237952013,
          2.3866989125203077,
          3.427729492994448,
          3.9349297349305967,
          3.4127076480403358,
          2.94850547637688,
          2.7881851533822335,
          2.090706080126874,
          1.2888143894449353,
          1.310360808337796,
          1.8348631028760927,
          2.39346740716622,
          2.7341890397471116,
          3.351924687391611,
          2.9635060342573003,
          2.109582863361028,
          0.6823388574346326,
          -0.44964393750099285,
          0.10004541040409652,
          0.4560165550055214,
          -0.057771216038360135,
          0.9549363319353477,
          1.5455438260746859,
          1.982188858821949,
          0.6509586433920547,
          1.2718732003097557,
          1.3023907853215373,
          1.0578395400011211,
          1.0621353361898995,
          1.7940576393654726
         ],
         "yaxis": "y"
        },
        {
         "hovertemplate": "variable=VNQ<br>Date=%{x}<br>value=%{y}<extra></extra>",
         "legendgroup": "VNQ",
         "line": {
          "color": "#FFA15A",
          "dash": "solid"
         },
         "marker": {
          "symbol": "circle"
         },
         "mode": "lines",
         "name": "VNQ",
         "orientation": "v",
         "showlegend": true,
         "type": "scatter",
         "x": [
          "2022-11-15T00:00:00",
          "2022-11-16T00:00:00",
          "2022-11-17T00:00:00",
          "2022-11-18T00:00:00",
          "2022-11-21T00:00:00",
          "2022-11-22T00:00:00",
          "2022-11-23T00:00:00",
          "2022-11-25T00:00:00",
          "2022-11-28T00:00:00",
          "2022-11-29T00:00:00",
          "2022-11-30T00:00:00",
          "2022-12-01T00:00:00",
          "2022-12-02T00:00:00",
          "2022-12-05T00:00:00",
          "2022-12-06T00:00:00",
          "2022-12-07T00:00:00",
          "2022-12-08T00:00:00",
          "2022-12-09T00:00:00",
          "2022-12-12T00:00:00",
          "2022-12-13T00:00:00",
          "2022-12-14T00:00:00",
          "2022-12-15T00:00:00",
          "2022-12-16T00:00:00",
          "2022-12-19T00:00:00",
          "2022-12-20T00:00:00",
          "2022-12-21T00:00:00",
          "2022-12-22T00:00:00",
          "2022-12-23T00:00:00",
          "2022-12-27T00:00:00",
          "2022-12-28T00:00:00",
          "2022-12-29T00:00:00",
          "2022-12-30T00:00:00",
          "2023-01-03T00:00:00",
          "2023-01-04T00:00:00",
          "2023-01-05T00:00:00",
          "2023-01-06T00:00:00",
          "2023-01-09T00:00:00",
          "2023-01-10T00:00:00",
          "2023-01-11T00:00:00",
          "2023-01-12T00:00:00",
          "2023-01-13T00:00:00",
          "2023-01-17T00:00:00",
          "2023-01-18T00:00:00",
          "2023-01-19T00:00:00",
          "2023-01-20T00:00:00",
          "2023-01-23T00:00:00",
          "2023-01-24T00:00:00",
          "2023-01-25T00:00:00",
          "2023-01-26T00:00:00",
          "2023-01-27T00:00:00",
          "2023-01-30T00:00:00",
          "2023-01-31T00:00:00",
          "2023-02-01T00:00:00",
          "2023-02-02T00:00:00",
          "2023-02-03T00:00:00",
          "2023-02-06T00:00:00",
          "2023-02-07T00:00:00",
          "2023-02-08T00:00:00",
          "2023-02-09T00:00:00",
          "2023-02-10T00:00:00",
          "2023-02-13T00:00:00",
          "2023-02-14T00:00:00",
          "2023-02-15T00:00:00",
          "2023-02-16T00:00:00",
          "2023-02-17T00:00:00",
          "2023-02-21T00:00:00",
          "2023-02-22T00:00:00",
          "2023-02-23T00:00:00",
          "2023-02-24T00:00:00",
          "2023-02-27T00:00:00",
          "2023-02-28T00:00:00",
          "2023-03-01T00:00:00",
          "2023-03-02T00:00:00",
          "2023-03-03T00:00:00",
          "2023-03-06T00:00:00",
          "2023-03-07T00:00:00",
          "2023-03-08T00:00:00",
          "2023-03-09T00:00:00",
          "2023-03-10T00:00:00",
          "2023-03-13T00:00:00",
          "2023-03-14T00:00:00",
          "2023-03-15T00:00:00",
          "2023-03-16T00:00:00",
          "2023-03-17T00:00:00",
          "2023-03-20T00:00:00",
          "2023-03-21T00:00:00",
          "2023-03-22T00:00:00",
          "2023-03-23T00:00:00",
          "2023-03-24T00:00:00",
          "2023-03-27T00:00:00",
          "2023-03-28T00:00:00",
          "2023-03-29T00:00:00",
          "2023-03-30T00:00:00",
          "2023-03-31T00:00:00",
          "2023-04-03T00:00:00",
          "2023-04-04T00:00:00",
          "2023-04-05T00:00:00",
          "2023-04-06T00:00:00",
          "2023-04-10T00:00:00",
          "2023-04-11T00:00:00"
         ],
         "xaxis": "x",
         "y": [
          1.783029814063225,
          2.015586678786343,
          2.366628648926934,
          2.305442890902521,
          1.4806022907184775,
          1.126161118686346,
          0.7139065505112091,
          0.5764995427067501,
          1.1137059385530976,
          0.23524762895800444,
          -0.6285953242252642,
          -0.8761659519759595,
          -1.1241815926763077,
          -1.378844329289672,
          -1.4779882569589893,
          -1.0437976509593592,
          -1.9974471468602504,
          -1.6701635579187029,
          -1.4272553066514266,
          -1.3871752290411465,
          -1.7356779501464799,
          -2.1640546613689797,
          -2.1090730103244573,
          -2.0148574093453844,
          -1.6847360841644368,
          -2.195683467707197,
          -1.6168398383295266,
          -2.587558204992228,
          -1.6330742995744634,
          -0.8485228058732822,
          -2.1723577109655605,
          -2.086705129527775,
          -1.893888087370989,
          -2.502347105469411,
          -0.6939952710914263,
          -1.413535357944457,
          -1.3827118428717153,
          -0.8654106665382959,
          -1.7999500757009985,
          -2.1459787056487922,
          -2.8258852719085046,
          -2.9484701827391606,
          -2.1301025015891115,
          -1.9722951716837267,
          -2.2093188086500244,
          -2.6412600223788156,
          -0.9365919853285632,
          -0.9552381139917956,
          -2.218034685513417,
          -2.2294298962367436,
          -2.0900983058519063,
          -3.0124601893674012,
          -2.8010501118192663,
          -3.3355286820150636,
          -2.440217374553073,
          -2.1619693064634307,
          -1.8831065123222457,
          -2.732330001902694,
          -1.7988582265574646,
          -1.1832978788679847,
          -1.5576868420512686,
          -1.380423225636983,
          -2.20328822915265,
          -2.190848649501048,
          -1.97722044004186,
          -0.9986733492654053,
          -0.7524845933953682,
          -0.7465495735835402,
          0.43233473078199347,
          0.1630659353614122,
          -0.2337882708484215,
          -0.7071358397428996,
          -1.5727971884103367,
          -2.183380024691315,
          -1.7409134471336922,
          -1.0224587118764963,
          -1.1054495748442577,
          -0.3333489312507674,
          0.1830555663388707,
          0.44897672310371595,
          -0.06712924696990272,
          -0.014903712398344265,
          0.7515442843977398,
          0.6255973902653551,
          1.133880273073131,
          1.2850163264061096,
          2.362086895733571,
          3.7787137025512942,
          3.3031717264641065,
          3.1596229772311304,
          3.31535479643517,
          2.1948137153281015,
          1.6326059050350912,
          1.3331629139808574,
          1.6964718777301593,
          1.8081770470178162,
          1.9739239996796654,
          2.1067121818727066,
          2.3070751012880573,
          1.8245989284039321
         ],
         "yaxis": "y"
        },
        {
         "hovertemplate": "variable=DIS<br>Date=%{x}<br>value=%{y}<extra></extra>",
         "legendgroup": "DIS",
         "line": {
          "color": "#19d3f3",
          "dash": "solid"
         },
         "marker": {
          "symbol": "circle"
         },
         "mode": "lines",
         "name": "DIS",
         "orientation": "v",
         "showlegend": true,
         "type": "scatter",
         "x": [
          "2022-11-15T00:00:00",
          "2022-11-16T00:00:00",
          "2022-11-17T00:00:00",
          "2022-11-18T00:00:00",
          "2022-11-21T00:00:00",
          "2022-11-22T00:00:00",
          "2022-11-23T00:00:00",
          "2022-11-25T00:00:00",
          "2022-11-28T00:00:00",
          "2022-11-29T00:00:00",
          "2022-11-30T00:00:00",
          "2022-12-01T00:00:00",
          "2022-12-02T00:00:00",
          "2022-12-05T00:00:00",
          "2022-12-06T00:00:00",
          "2022-12-07T00:00:00",
          "2022-12-08T00:00:00",
          "2022-12-09T00:00:00",
          "2022-12-12T00:00:00",
          "2022-12-13T00:00:00",
          "2022-12-14T00:00:00",
          "2022-12-15T00:00:00",
          "2022-12-16T00:00:00",
          "2022-12-19T00:00:00",
          "2022-12-20T00:00:00",
          "2022-12-21T00:00:00",
          "2022-12-22T00:00:00",
          "2022-12-23T00:00:00",
          "2022-12-27T00:00:00",
          "2022-12-28T00:00:00",
          "2022-12-29T00:00:00",
          "2022-12-30T00:00:00",
          "2023-01-03T00:00:00",
          "2023-01-04T00:00:00",
          "2023-01-05T00:00:00",
          "2023-01-06T00:00:00",
          "2023-01-09T00:00:00",
          "2023-01-10T00:00:00",
          "2023-01-11T00:00:00",
          "2023-01-12T00:00:00",
          "2023-01-13T00:00:00",
          "2023-01-17T00:00:00",
          "2023-01-18T00:00:00",
          "2023-01-19T00:00:00",
          "2023-01-20T00:00:00",
          "2023-01-23T00:00:00",
          "2023-01-24T00:00:00",
          "2023-01-25T00:00:00",
          "2023-01-26T00:00:00",
          "2023-01-27T00:00:00",
          "2023-01-30T00:00:00",
          "2023-01-31T00:00:00",
          "2023-02-01T00:00:00",
          "2023-02-02T00:00:00",
          "2023-02-03T00:00:00",
          "2023-02-06T00:00:00",
          "2023-02-07T00:00:00",
          "2023-02-08T00:00:00",
          "2023-02-09T00:00:00",
          "2023-02-10T00:00:00",
          "2023-02-13T00:00:00",
          "2023-02-14T00:00:00",
          "2023-02-15T00:00:00",
          "2023-02-16T00:00:00",
          "2023-02-17T00:00:00",
          "2023-02-21T00:00:00",
          "2023-02-22T00:00:00",
          "2023-02-23T00:00:00",
          "2023-02-24T00:00:00",
          "2023-02-27T00:00:00",
          "2023-02-28T00:00:00",
          "2023-03-01T00:00:00",
          "2023-03-02T00:00:00",
          "2023-03-03T00:00:00",
          "2023-03-06T00:00:00",
          "2023-03-07T00:00:00",
          "2023-03-08T00:00:00",
          "2023-03-09T00:00:00",
          "2023-03-10T00:00:00",
          "2023-03-13T00:00:00",
          "2023-03-14T00:00:00",
          "2023-03-15T00:00:00",
          "2023-03-16T00:00:00",
          "2023-03-17T00:00:00",
          "2023-03-20T00:00:00",
          "2023-03-21T00:00:00",
          "2023-03-22T00:00:00",
          "2023-03-23T00:00:00",
          "2023-03-24T00:00:00",
          "2023-03-27T00:00:00",
          "2023-03-28T00:00:00",
          "2023-03-29T00:00:00",
          "2023-03-30T00:00:00",
          "2023-03-31T00:00:00",
          "2023-04-03T00:00:00",
          "2023-04-04T00:00:00",
          "2023-04-05T00:00:00",
          "2023-04-06T00:00:00",
          "2023-04-10T00:00:00",
          "2023-04-11T00:00:00"
         ],
         "xaxis": "x",
         "y": [
          2.225339026616109,
          2.3839363244786953,
          3.0129578200119473,
          3.0951857727758103,
          1.8017569569174956,
          2.0555331562358026,
          1.5118811597631638,
          1.2260417614432295,
          1.7324041058962645,
          1.6813943059650673,
          0.8851737045943084,
          0.4902199700588943,
          0.009930632152762122,
          0.31156215168619567,
          0.5135984781719204,
          1.0231645357752785,
          0.7076323200038115,
          0.14311871680872681,
          0.3640197279711316,
          0.9719132309105015,
          0.9650742428804604,
          1.374936609558428,
          1.0581489510165074,
          1.4028164506900846,
          0.93085695788104,
          0.9905689357626765,
          1.4914288335426382,
          0.9873315965827218,
          1.6439927262263914,
          2.1139662459234194,
          1.709613069241047,
          1.7020405121481272,
          1.8489916851732924,
          1.3633677474193926,
          1.711487738939492,
          1.4610417905919162,
          1.3198292767108672,
          1.4003087416439877,
          1.3677868360076442,
          0.8215478620186687,
          0.3398532317139895,
          -0.09572343778321364,
          0.07800354406917732,
          0.1935160144610772,
          -0.5058793047952684,
          -4.0595310001064595,
          -3.2824839295246293,
          -2.73503966606784,
          -3.24028413401132,
          -2.9150958870613652,
          -2.8775697369843365,
          -3.761936386141217,
          -3.866709966685736,
          -3.4099973100975793,
          -3.182342850216475,
          -2.3757273957709115,
          -2.746889720524063,
          -3.6911097492208897,
          -3.6265414939806764,
          -2.303202041461671,
          -2.0349713522421213,
          -1.8329305735184656,
          -3.1796530809123693,
          -3.4122747132887903,
          -3.2937322828686764,
          -2.3252569331247726,
          -2.0058511458051353,
          -1.691975984447346,
          -1.331079464409196,
          -1.508214688827866,
          -2.3755406157917154,
          -2.205963842898248,
          -3.9077346856743573,
          -4.105851392546972,
          -3.994157618663962,
          -3.5735497768003652,
          -3.22393686940998,
          -2.7742587031113475,
          -2.7325791403019455,
          -1.5698841843482643,
          -1.8819082683844814,
          -1.1910681167704174,
          -0.6658202581210854,
          -0.36724173095532925,
          -0.08530969605582162,
          -0.4896575129259743,
          0.1795845914202515,
          0.1348134086833778,
          1.5463281564044407,
          1.0132689876671255,
          1.35649081755707,
          0.5743343000057156,
          0.2577248643635181,
          0.8922022667964079,
          1.5767001733169204,
          1.70583268485587,
          2.174320961428719,
          2.568544720933882,
          2.2975187465433615,
          1.9436757358184051
         ],
         "yaxis": "y"
        },
        {
         "hovertemplate": "variable=UNG<br>Date=%{x}<br>value=%{y}<extra></extra>",
         "legendgroup": "UNG",
         "line": {
          "color": "#FF6692",
          "dash": "solid"
         },
         "marker": {
          "symbol": "circle"
         },
         "mode": "lines",
         "name": "UNG",
         "orientation": "v",
         "showlegend": true,
         "type": "scatter",
         "x": [
          "2022-11-15T00:00:00",
          "2022-11-16T00:00:00",
          "2022-11-17T00:00:00",
          "2022-11-18T00:00:00",
          "2022-11-21T00:00:00",
          "2022-11-22T00:00:00",
          "2022-11-23T00:00:00",
          "2022-11-25T00:00:00",
          "2022-11-28T00:00:00",
          "2022-11-29T00:00:00",
          "2022-11-30T00:00:00",
          "2022-12-01T00:00:00",
          "2022-12-02T00:00:00",
          "2022-12-05T00:00:00",
          "2022-12-06T00:00:00",
          "2022-12-07T00:00:00",
          "2022-12-08T00:00:00",
          "2022-12-09T00:00:00",
          "2022-12-12T00:00:00",
          "2022-12-13T00:00:00",
          "2022-12-14T00:00:00",
          "2022-12-15T00:00:00",
          "2022-12-16T00:00:00",
          "2022-12-19T00:00:00",
          "2022-12-20T00:00:00",
          "2022-12-21T00:00:00",
          "2022-12-22T00:00:00",
          "2022-12-23T00:00:00",
          "2022-12-27T00:00:00",
          "2022-12-28T00:00:00",
          "2022-12-29T00:00:00",
          "2022-12-30T00:00:00",
          "2023-01-03T00:00:00",
          "2023-01-04T00:00:00",
          "2023-01-05T00:00:00",
          "2023-01-06T00:00:00",
          "2023-01-09T00:00:00",
          "2023-01-10T00:00:00",
          "2023-01-11T00:00:00",
          "2023-01-12T00:00:00",
          "2023-01-13T00:00:00",
          "2023-01-17T00:00:00",
          "2023-01-18T00:00:00",
          "2023-01-19T00:00:00",
          "2023-01-20T00:00:00",
          "2023-01-23T00:00:00",
          "2023-01-24T00:00:00",
          "2023-01-25T00:00:00",
          "2023-01-26T00:00:00",
          "2023-01-27T00:00:00",
          "2023-01-30T00:00:00",
          "2023-01-31T00:00:00",
          "2023-02-01T00:00:00",
          "2023-02-02T00:00:00",
          "2023-02-03T00:00:00",
          "2023-02-06T00:00:00",
          "2023-02-07T00:00:00",
          "2023-02-08T00:00:00",
          "2023-02-09T00:00:00",
          "2023-02-10T00:00:00",
          "2023-02-13T00:00:00",
          "2023-02-14T00:00:00",
          "2023-02-15T00:00:00",
          "2023-02-16T00:00:00",
          "2023-02-17T00:00:00",
          "2023-02-21T00:00:00",
          "2023-02-22T00:00:00",
          "2023-02-23T00:00:00",
          "2023-02-24T00:00:00",
          "2023-02-27T00:00:00",
          "2023-02-28T00:00:00",
          "2023-03-01T00:00:00",
          "2023-03-02T00:00:00",
          "2023-03-03T00:00:00",
          "2023-03-06T00:00:00",
          "2023-03-07T00:00:00",
          "2023-03-08T00:00:00",
          "2023-03-09T00:00:00",
          "2023-03-10T00:00:00",
          "2023-03-13T00:00:00",
          "2023-03-14T00:00:00",
          "2023-03-15T00:00:00",
          "2023-03-16T00:00:00",
          "2023-03-17T00:00:00",
          "2023-03-20T00:00:00",
          "2023-03-21T00:00:00",
          "2023-03-22T00:00:00",
          "2023-03-23T00:00:00",
          "2023-03-24T00:00:00",
          "2023-03-27T00:00:00",
          "2023-03-28T00:00:00",
          "2023-03-29T00:00:00",
          "2023-03-30T00:00:00",
          "2023-03-31T00:00:00",
          "2023-04-03T00:00:00",
          "2023-04-04T00:00:00",
          "2023-04-05T00:00:00",
          "2023-04-06T00:00:00",
          "2023-04-10T00:00:00",
          "2023-04-11T00:00:00"
         ],
         "xaxis": "x",
         "y": [
          2.6388523241603132,
          2.662484814047406,
          2.5671380526066567,
          2.8915456458648596,
          2.4504433065684865,
          2.713439393942039,
          1.8465835426733628,
          1.6421603295799994,
          1.9022353739899736,
          1.7751202673889808,
          2.2128238945426633,
          1.8091905462022246,
          2.1327206275353934,
          2.8575491837091946,
          2.9099553838243066,
          2.483783391184165,
          2.1562623936799183,
          1.6274401833437206,
          1.0487197347181656,
          0.8635410784553251,
          1.657468088304916,
          1.062651117617514,
          1.07361984913302,
          1.6484283528661836,
          2.167093797542572,
          1.9395545328147665,
          2.549711174640484,
          2.346476175243089,
          1.8669402747672097,
          2.0319193207784627,
          1.9459372361204692,
          2.0535757453566963,
          2.264424377468918,
          2.310402744556554,
          3.2069812513337665,
          3.1940586839986618,
          2.720299984421472,
          3.0284600769807573,
          3.4028908252302723,
          3.0555525561602828,
          3.6458465075411697,
          3.204909858135943,
          4.0348830645708444,
          4.2944170976156295,
          4.146417056781968,
          3.515672936182693,
          3.919317523857585,
          4.01565106865721,
          4.188917973613702,
          4.154814139494016,
          4.465857826928452,
          4.482575113644238,
          4.713256807773792,
          5.046775071317137,
          5.348435688369762,
          5.304400260679401,
          4.995465377475612,
          5.127176549496211,
          5.034534402131431,
          4.665048432664053,
          4.765478702438522,
          4.241201884222041,
          4.121182580949413,
          4.038032699005433,
          4.690921183106102,
          5.026712123037625,
          5.049166036238805,
          4.881984366742623,
          4.974388977106976,
          4.468936189474678,
          4.785077636598806,
          4.545742761656912,
          4.300478331654228,
          3.5114683831802944,
          4.00371256457319,
          3.6882012828651773,
          3.819499721655174,
          4.051800593082442,
          3.9023964648018703,
          3.313366358616356,
          3.212590116561432,
          3.0613142705206076,
          3.094952998294771,
          2.9686322480017515,
          3.164872837975506,
          3.222640435075869,
          3.069333574567336,
          3.367071336241657,
          3.264550912261231,
          3.1396732741038855,
          3.6105497007256586,
          3.161647358543444,
          3.281570875760152,
          2.8900066949909777,
          3.574892571739366,
          3.4076282442276025,
          2.864139423808331,
          3.072053859675913,
          2.7209390878611805,
          2.064512803294888
         ],
         "yaxis": "y"
        },
        {
         "hovertemplate": "variable=CLX<br>Date=%{x}<br>value=%{y}<extra></extra>",
         "legendgroup": "CLX",
         "line": {
          "color": "#B6E880",
          "dash": "solid"
         },
         "marker": {
          "symbol": "circle"
         },
         "mode": "lines",
         "name": "CLX",
         "orientation": "v",
         "showlegend": true,
         "type": "scatter",
         "x": [
          "2022-11-15T00:00:00",
          "2022-11-16T00:00:00",
          "2022-11-17T00:00:00",
          "2022-11-18T00:00:00",
          "2022-11-21T00:00:00",
          "2022-11-22T00:00:00",
          "2022-11-23T00:00:00",
          "2022-11-25T00:00:00",
          "2022-11-28T00:00:00",
          "2022-11-29T00:00:00",
          "2022-11-30T00:00:00",
          "2022-12-01T00:00:00",
          "2022-12-02T00:00:00",
          "2022-12-05T00:00:00",
          "2022-12-06T00:00:00",
          "2022-12-07T00:00:00",
          "2022-12-08T00:00:00",
          "2022-12-09T00:00:00",
          "2022-12-12T00:00:00",
          "2022-12-13T00:00:00",
          "2022-12-14T00:00:00",
          "2022-12-15T00:00:00",
          "2022-12-16T00:00:00",
          "2022-12-19T00:00:00",
          "2022-12-20T00:00:00",
          "2022-12-21T00:00:00",
          "2022-12-22T00:00:00",
          "2022-12-23T00:00:00",
          "2022-12-27T00:00:00",
          "2022-12-28T00:00:00",
          "2022-12-29T00:00:00",
          "2022-12-30T00:00:00",
          "2023-01-03T00:00:00",
          "2023-01-04T00:00:00",
          "2023-01-05T00:00:00",
          "2023-01-06T00:00:00",
          "2023-01-09T00:00:00",
          "2023-01-10T00:00:00",
          "2023-01-11T00:00:00",
          "2023-01-12T00:00:00",
          "2023-01-13T00:00:00",
          "2023-01-17T00:00:00",
          "2023-01-18T00:00:00",
          "2023-01-19T00:00:00",
          "2023-01-20T00:00:00",
          "2023-01-23T00:00:00",
          "2023-01-24T00:00:00",
          "2023-01-25T00:00:00",
          "2023-01-26T00:00:00",
          "2023-01-27T00:00:00",
          "2023-01-30T00:00:00",
          "2023-01-31T00:00:00",
          "2023-02-01T00:00:00",
          "2023-02-02T00:00:00",
          "2023-02-03T00:00:00",
          "2023-02-06T00:00:00",
          "2023-02-07T00:00:00",
          "2023-02-08T00:00:00",
          "2023-02-09T00:00:00",
          "2023-02-10T00:00:00",
          "2023-02-13T00:00:00",
          "2023-02-14T00:00:00",
          "2023-02-15T00:00:00",
          "2023-02-16T00:00:00",
          "2023-02-17T00:00:00",
          "2023-02-21T00:00:00",
          "2023-02-22T00:00:00",
          "2023-02-23T00:00:00",
          "2023-02-24T00:00:00",
          "2023-02-27T00:00:00",
          "2023-02-28T00:00:00",
          "2023-03-01T00:00:00",
          "2023-03-02T00:00:00",
          "2023-03-03T00:00:00",
          "2023-03-06T00:00:00",
          "2023-03-07T00:00:00",
          "2023-03-08T00:00:00",
          "2023-03-09T00:00:00",
          "2023-03-10T00:00:00",
          "2023-03-13T00:00:00",
          "2023-03-14T00:00:00",
          "2023-03-15T00:00:00",
          "2023-03-16T00:00:00",
          "2023-03-17T00:00:00",
          "2023-03-20T00:00:00",
          "2023-03-21T00:00:00",
          "2023-03-22T00:00:00",
          "2023-03-23T00:00:00",
          "2023-03-24T00:00:00",
          "2023-03-27T00:00:00",
          "2023-03-28T00:00:00",
          "2023-03-29T00:00:00",
          "2023-03-30T00:00:00",
          "2023-03-31T00:00:00",
          "2023-04-03T00:00:00",
          "2023-04-04T00:00:00",
          "2023-04-05T00:00:00",
          "2023-04-06T00:00:00",
          "2023-04-10T00:00:00",
          "2023-04-11T00:00:00"
         ],
         "xaxis": "x",
         "y": [
          -0.034119454482821866,
          -0.2745651908109516,
          -0.16242267643466043,
          -0.001409944017044599,
          1.069703635938063,
          1.7654309638382923,
          1.6468717681025498,
          1.4883400629029673,
          1.209723977957509,
          1.226954252243275,
          1.3122639436193906,
          1.634822687874883,
          1.7177106581022648,
          1.7158805107959565,
          2.238958859321334,
          2.5150875206143333,
          3.359875011883452,
          4.3015941409222656,
          4.223268194619501,
          3.323078002876714,
          3.4321065803223836,
          3.417533716388335,
          4.202738635771181,
          4.218203876285028,
          3.2533665038024573,
          3.2033761712629976,
          3.1906189940447818,
          2.807127847137036,
          2.4324110044944045,
          1.642372758519193,
          1.3089252197773642,
          1.7114488123245133,
          1.4539733349030213,
          1.274453672446968,
          0.3221770844922441,
          0.5813697605875711,
          -0.07730959087062106,
          -1.4013367565426418,
          -0.8164454950543648,
          -0.7645243542142546,
          2.1551595814885904,
          2.46534853801378,
          0.6214816125336671,
          -0.9511454074288983,
          -0.10195643086024025,
          0.6086075464146357,
          -0.4362443946042307,
          0.18116886065786225,
          0.10062140495839958,
          -0.7926780395933283,
          0.12237601028721666,
          0.008578028695074012,
          -0.28690258841367383,
          -1.6884496901300823,
          0.810922144687002,
          0.7667621288523915,
          0.5576554975385236,
          0.511143038411665,
          0.6417067053745301,
          0.5076511847496684,
          0.6923009131165786,
          0.5221729567799636,
          0.9726304100586787,
          1.1568878397037923,
          0.915926249706341,
          0.895500931668002,
          1.1498862454186614,
          0.7489212658119077,
          1.2895439746043729,
          1.3496038503902934,
          1.7622275103535032,
          1.9676437660361685,
          2.233089641736565,
          2.50384008570496,
          1.657215105086479,
          1.3106872879226872,
          1.4324146091886452,
          1.0833659460639107,
          1.5650376357109657,
          1.7528895789301504,
          2.5958923371042815,
          2.6658922122090636,
          2.128201460453083,
          2.293671469025954,
          2.2781113255220182,
          2.681594183573987,
          2.6341489287641413,
          2.4425910823530015,
          2.7607486063243796,
          2.2185557416346575,
          1.6759419161697122,
          2.4411061949398674,
          3.0302042554527713,
          3.1477735407354754,
          2.794258940917298,
          2.7794760416798145,
          2.9551082928513317,
          2.9336906658878155,
          3.270558067089141,
          3.150719547387816
         ],
         "yaxis": "y"
        },
        {
         "hovertemplate": "variable=CI<br>Date=%{x}<br>value=%{y}<extra></extra>",
         "legendgroup": "CI",
         "line": {
          "color": "#FF97FF",
          "dash": "solid"
         },
         "marker": {
          "symbol": "circle"
         },
         "mode": "lines",
         "name": "CI",
         "orientation": "v",
         "showlegend": true,
         "type": "scatter",
         "x": [
          "2022-11-15T00:00:00",
          "2022-11-16T00:00:00",
          "2022-11-17T00:00:00",
          "2022-11-18T00:00:00",
          "2022-11-21T00:00:00",
          "2022-11-22T00:00:00",
          "2022-11-23T00:00:00",
          "2022-11-25T00:00:00",
          "2022-11-28T00:00:00",
          "2022-11-29T00:00:00",
          "2022-11-30T00:00:00",
          "2022-12-01T00:00:00",
          "2022-12-02T00:00:00",
          "2022-12-05T00:00:00",
          "2022-12-06T00:00:00",
          "2022-12-07T00:00:00",
          "2022-12-08T00:00:00",
          "2022-12-09T00:00:00",
          "2022-12-12T00:00:00",
          "2022-12-13T00:00:00",
          "2022-12-14T00:00:00",
          "2022-12-15T00:00:00",
          "2022-12-16T00:00:00",
          "2022-12-19T00:00:00",
          "2022-12-20T00:00:00",
          "2022-12-21T00:00:00",
          "2022-12-22T00:00:00",
          "2022-12-23T00:00:00",
          "2022-12-27T00:00:00",
          "2022-12-28T00:00:00",
          "2022-12-29T00:00:00",
          "2022-12-30T00:00:00",
          "2023-01-03T00:00:00",
          "2023-01-04T00:00:00",
          "2023-01-05T00:00:00",
          "2023-01-06T00:00:00",
          "2023-01-09T00:00:00",
          "2023-01-10T00:00:00",
          "2023-01-11T00:00:00",
          "2023-01-12T00:00:00",
          "2023-01-13T00:00:00",
          "2023-01-17T00:00:00",
          "2023-01-18T00:00:00",
          "2023-01-19T00:00:00",
          "2023-01-20T00:00:00",
          "2023-01-23T00:00:00",
          "2023-01-24T00:00:00",
          "2023-01-25T00:00:00",
          "2023-01-26T00:00:00",
          "2023-01-27T00:00:00",
          "2023-01-30T00:00:00",
          "2023-01-31T00:00:00",
          "2023-02-01T00:00:00",
          "2023-02-02T00:00:00",
          "2023-02-03T00:00:00",
          "2023-02-06T00:00:00",
          "2023-02-07T00:00:00",
          "2023-02-08T00:00:00",
          "2023-02-09T00:00:00",
          "2023-02-10T00:00:00",
          "2023-02-13T00:00:00",
          "2023-02-14T00:00:00",
          "2023-02-15T00:00:00",
          "2023-02-16T00:00:00",
          "2023-02-17T00:00:00",
          "2023-02-21T00:00:00",
          "2023-02-22T00:00:00",
          "2023-02-23T00:00:00",
          "2023-02-24T00:00:00",
          "2023-02-27T00:00:00",
          "2023-02-28T00:00:00",
          "2023-03-01T00:00:00",
          "2023-03-02T00:00:00",
          "2023-03-03T00:00:00",
          "2023-03-06T00:00:00",
          "2023-03-07T00:00:00",
          "2023-03-08T00:00:00",
          "2023-03-09T00:00:00",
          "2023-03-10T00:00:00",
          "2023-03-13T00:00:00",
          "2023-03-14T00:00:00",
          "2023-03-15T00:00:00",
          "2023-03-16T00:00:00",
          "2023-03-17T00:00:00",
          "2023-03-20T00:00:00",
          "2023-03-21T00:00:00",
          "2023-03-22T00:00:00",
          "2023-03-23T00:00:00",
          "2023-03-24T00:00:00",
          "2023-03-27T00:00:00",
          "2023-03-28T00:00:00",
          "2023-03-29T00:00:00",
          "2023-03-30T00:00:00",
          "2023-03-31T00:00:00",
          "2023-04-03T00:00:00",
          "2023-04-04T00:00:00",
          "2023-04-05T00:00:00",
          "2023-04-06T00:00:00",
          "2023-04-10T00:00:00",
          "2023-04-11T00:00:00"
         ],
         "xaxis": "x",
         "y": [
          -1.4301167095023142,
          -1.5020148542205047,
          -1.7812869824481015,
          -2.2697705485306865,
          -2.698412350111189,
          -3.378466856455928,
          -2.8412733638707004,
          -3.1721213477485546,
          -2.8403639849043243,
          -3.0868121604252567,
          -4.150330418608517,
          -3.817503225843521,
          -4.808565141501499,
          -5.0576484441917655,
          -5.180781226639112,
          -4.897623569086648,
          -5.276241655522251,
          -5.537345807082335,
          -5.240711820474731,
          -3.609693172256423,
          -3.9016817378346986,
          -3.6826673782908954,
          -3.8104927064471203,
          -4.451989969551034,
          -3.788925301362692,
          -4.434833057711082,
          -3.5630081346634843,
          -3.939112884912958,
          -4.6183420811848706,
          -3.949994272846976,
          -3.9088522092768163,
          -3.8319159682120865,
          -2.0312110794084277,
          -0.3974736115861833,
          0.500659446890699,
          0.9825812740054481,
          1.089319751629383,
          1.7418478764022127,
          1.1063311018478037,
          1.1929089529653925,
          0.48629258360568517,
          0.7079529867311641,
          1.0926370936066976,
          1.0789413521384774,
          1.552855949363872,
          1.350159820300314,
          1.1443492375058388,
          -1.1856313056883845,
          -0.8075669178761389,
          -0.4521143423938303,
          -0.5080876011552067,
          -0.5931671335272338,
          0.5088414194808066,
          1.2591317350786024,
          2.4385939717428826,
          2.8554225256549257,
          3.174376397317978,
          2.699512392147858,
          2.6764404408951243,
          2.958625586114983,
          2.306263354214431,
          2.582002073770148,
          2.7776420055297897,
          2.9009788621539454,
          2.9724730570923583,
          3.6773626047523487,
          3.470662599862638,
          4.201139130520624,
          3.6484302438201324,
          3.8036665574031625,
          3.9232488624489905,
          3.8959891090959875,
          4.364231773025965,
          4.317862401361924,
          4.516904740896476,
          5.012795873655973,
          5.344008883807104,
          5.890435777761689,
          5.264796029683111,
          5.41481186156579,
          5.562000005815777,
          5.126612551187718,
          3.853474759783773,
          3.8177963525058134,
          3.225250062048315,
          2.8023923646699376,
          3.4836608204917985,
          4.940858735094863,
          4.615213572097403,
          4.819711593921617,
          5.322410546039375,
          5.1045762681795335,
          5.3072497890295764,
          4.967816621183797,
          4.176600439979767,
          4.693972172153118,
          3.9973706828830755,
          4.020218680365117,
          3.8677346089892017,
          3.7035536630281385
         ],
         "yaxis": "y"
        },
        {
         "hovertemplate": "variable=META<br>Date=%{x}<br>value=%{y}<extra></extra>",
         "legendgroup": "META",
         "line": {
          "color": "#FECB52",
          "dash": "solid"
         },
         "marker": {
          "symbol": "circle"
         },
         "mode": "lines",
         "name": "META",
         "orientation": "v",
         "showlegend": true,
         "type": "scatter",
         "x": [
          "2022-11-15T00:00:00",
          "2022-11-16T00:00:00",
          "2022-11-17T00:00:00",
          "2022-11-18T00:00:00",
          "2022-11-21T00:00:00",
          "2022-11-22T00:00:00",
          "2022-11-23T00:00:00",
          "2022-11-25T00:00:00",
          "2022-11-28T00:00:00",
          "2022-11-29T00:00:00",
          "2022-11-30T00:00:00",
          "2022-12-01T00:00:00",
          "2022-12-02T00:00:00",
          "2022-12-05T00:00:00",
          "2022-12-06T00:00:00",
          "2022-12-07T00:00:00",
          "2022-12-08T00:00:00",
          "2022-12-09T00:00:00",
          "2022-12-12T00:00:00",
          "2022-12-13T00:00:00",
          "2022-12-14T00:00:00",
          "2022-12-15T00:00:00",
          "2022-12-16T00:00:00",
          "2022-12-19T00:00:00",
          "2022-12-20T00:00:00",
          "2022-12-21T00:00:00",
          "2022-12-22T00:00:00",
          "2022-12-23T00:00:00",
          "2022-12-27T00:00:00",
          "2022-12-28T00:00:00",
          "2022-12-29T00:00:00",
          "2022-12-30T00:00:00",
          "2023-01-03T00:00:00",
          "2023-01-04T00:00:00",
          "2023-01-05T00:00:00",
          "2023-01-06T00:00:00",
          "2023-01-09T00:00:00",
          "2023-01-10T00:00:00",
          "2023-01-11T00:00:00",
          "2023-01-12T00:00:00",
          "2023-01-13T00:00:00",
          "2023-01-17T00:00:00",
          "2023-01-18T00:00:00",
          "2023-01-19T00:00:00",
          "2023-01-20T00:00:00",
          "2023-01-23T00:00:00",
          "2023-01-24T00:00:00",
          "2023-01-25T00:00:00",
          "2023-01-26T00:00:00",
          "2023-01-27T00:00:00",
          "2023-01-30T00:00:00",
          "2023-01-31T00:00:00",
          "2023-02-01T00:00:00",
          "2023-02-02T00:00:00",
          "2023-02-03T00:00:00",
          "2023-02-06T00:00:00",
          "2023-02-07T00:00:00",
          "2023-02-08T00:00:00",
          "2023-02-09T00:00:00",
          "2023-02-10T00:00:00",
          "2023-02-13T00:00:00",
          "2023-02-14T00:00:00",
          "2023-02-15T00:00:00",
          "2023-02-16T00:00:00",
          "2023-02-17T00:00:00",
          "2023-02-21T00:00:00",
          "2023-02-22T00:00:00",
          "2023-02-23T00:00:00",
          "2023-02-24T00:00:00",
          "2023-02-27T00:00:00",
          "2023-02-28T00:00:00",
          "2023-03-01T00:00:00",
          "2023-03-02T00:00:00",
          "2023-03-03T00:00:00",
          "2023-03-06T00:00:00",
          "2023-03-07T00:00:00",
          "2023-03-08T00:00:00",
          "2023-03-09T00:00:00",
          "2023-03-10T00:00:00",
          "2023-03-13T00:00:00",
          "2023-03-14T00:00:00",
          "2023-03-15T00:00:00",
          "2023-03-16T00:00:00",
          "2023-03-17T00:00:00",
          "2023-03-20T00:00:00",
          "2023-03-21T00:00:00",
          "2023-03-22T00:00:00",
          "2023-03-23T00:00:00",
          "2023-03-24T00:00:00",
          "2023-03-27T00:00:00",
          "2023-03-28T00:00:00",
          "2023-03-29T00:00:00",
          "2023-03-30T00:00:00",
          "2023-03-31T00:00:00",
          "2023-04-03T00:00:00",
          "2023-04-04T00:00:00",
          "2023-04-05T00:00:00",
          "2023-04-06T00:00:00",
          "2023-04-10T00:00:00",
          "2023-04-11T00:00:00"
         ],
         "xaxis": "x",
         "y": [
          -2.254079546454765,
          -2.511426640979187,
          -2.869644620273608,
          -2.8320936961724072,
          -2.4506897923774775,
          -2.288298798533534,
          -2.1590912335259067,
          -2.0655931721417837,
          -2.296540565589538,
          -2.171235509386907,
          -1.4300868463713954,
          -1.3235913537055986,
          -1.0156035167329798,
          -0.8637095326586189,
          -1.2543370158625982,
          -1.6437438987829731,
          -1.3037004656002662,
          -1.2295891339053,
          -1.457425907714387,
          -1.2028320743063676,
          -1.0481314406514712,
          -1.3714910194852432,
          -0.875904424371013,
          -1.1966224664292315,
          -0.7406033363015371,
          -0.5037323593284624,
          -0.8391457656323508,
          -0.572251785035935,
          -1.0779685497335427,
          -1.0892113417806704,
          -0.8144602598628866,
          -0.7120588754405205,
          -0.3376820002996143,
          -0.15066442239051497,
          -0.6475943439479016,
          0.013107023351328054,
          4.416949957010487,
          4.655416235140804,
          6.121898365035801,
          6.243182617328127,
          7.623399145509178,
          7.791558293376545,
          6.897307995121723,
          6.256057743076617,
          6.81049596531603,
          6.425298376277588,
          4.91395219989027,
          4.413013904196584,
          4.975711543516157,
          5.068902354861772,
          5.1283021693375686,
          5.8153442314468,
          6.286892694427531,
          8.27238885208559,
          7.733232559769938,
          7.5400865618625454,
          8.252460737239685,
          7.771927833298308,
          7.005918848014201,
          5.44613107859687,
          5.607172209151212,
          5.198998917096693,
          5.12029386333377,
          6.06172304959408,
          6.140493076575116,
          5.832961305305175,
          5.640443746465937,
          5.931234778991708,
          5.006704856803679,
          4.717697890150924,
          6.161600222970219,
          5.508062801091258,
          6.521668715211232,
          7.1016290514491045,
          6.638739712445486,
          7.0704920603564565,
          6.965105695646471,
          6.791641563637926,
          6.765508761103166,
          6.219838225116215,
          7.34142301984899,
          7.050273552509773,
          7.30424609691858,
          6.348771376235283,
          6.129025881339448,
          6.600143704599951,
          5.902825728155405,
          6.306799599071321,
          5.967992726465229,
          5.639150404914969,
          5.661732061846277,
          6.400858258021819,
          6.207393775695215,
          6.142843474447382,
          5.762813739830886,
          5.918729259872348,
          5.846660592963152,
          5.556478145152408,
          4.951244071052372,
          5.4712556751599
         ],
         "yaxis": "y"
        }
       ],
       "layout": {
        "autosize": true,
        "legend": {
         "title": {
          "text": "variable"
         },
         "tracegroupgap": 0
        },
        "shapes": [
         {
          "line": {
           "color": "#000000",
           "dash": "dash",
           "width": 1
          },
          "type": "line",
          "x0": 0,
          "x1": 1,
          "xref": "x domain",
          "y0": 0,
          "y1": 0,
          "yref": "y"
         }
        ],
        "template": {
         "data": {
          "bar": [
           {
            "error_x": {
             "color": "#2a3f5f"
            },
            "error_y": {
             "color": "#2a3f5f"
            },
            "marker": {
             "line": {
              "color": "#E5ECF6",
              "width": 0.5
             },
             "pattern": {
              "fillmode": "overlay",
              "size": 10,
              "solidity": 0.2
             }
            },
            "type": "bar"
           }
          ],
          "barpolar": [
           {
            "marker": {
             "line": {
              "color": "#E5ECF6",
              "width": 0.5
             },
             "pattern": {
              "fillmode": "overlay",
              "size": 10,
              "solidity": 0.2
             }
            },
            "type": "barpolar"
           }
          ],
          "carpet": [
           {
            "aaxis": {
             "endlinecolor": "#2a3f5f",
             "gridcolor": "white",
             "linecolor": "white",
             "minorgridcolor": "white",
             "startlinecolor": "#2a3f5f"
            },
            "baxis": {
             "endlinecolor": "#2a3f5f",
             "gridcolor": "white",
             "linecolor": "white",
             "minorgridcolor": "white",
             "startlinecolor": "#2a3f5f"
            },
            "type": "carpet"
           }
          ],
          "choropleth": [
           {
            "colorbar": {
             "outlinewidth": 0,
             "ticks": ""
            },
            "type": "choropleth"
           }
          ],
          "contour": [
           {
            "colorbar": {
             "outlinewidth": 0,
             "ticks": ""
            },
            "colorscale": [
             [
              0,
              "#0d0887"
             ],
             [
              0.1111111111111111,
              "#46039f"
             ],
             [
              0.2222222222222222,
              "#7201a8"
             ],
             [
              0.3333333333333333,
              "#9c179e"
             ],
             [
              0.4444444444444444,
              "#bd3786"
             ],
             [
              0.5555555555555556,
              "#d8576b"
             ],
             [
              0.6666666666666666,
              "#ed7953"
             ],
             [
              0.7777777777777778,
              "#fb9f3a"
             ],
             [
              0.8888888888888888,
              "#fdca26"
             ],
             [
              1,
              "#f0f921"
             ]
            ],
            "type": "contour"
           }
          ],
          "contourcarpet": [
           {
            "colorbar": {
             "outlinewidth": 0,
             "ticks": ""
            },
            "type": "contourcarpet"
           }
          ],
          "heatmap": [
           {
            "colorbar": {
             "outlinewidth": 0,
             "ticks": ""
            },
            "colorscale": [
             [
              0,
              "#0d0887"
             ],
             [
              0.1111111111111111,
              "#46039f"
             ],
             [
              0.2222222222222222,
              "#7201a8"
             ],
             [
              0.3333333333333333,
              "#9c179e"
             ],
             [
              0.4444444444444444,
              "#bd3786"
             ],
             [
              0.5555555555555556,
              "#d8576b"
             ],
             [
              0.6666666666666666,
              "#ed7953"
             ],
             [
              0.7777777777777778,
              "#fb9f3a"
             ],
             [
              0.8888888888888888,
              "#fdca26"
             ],
             [
              1,
              "#f0f921"
             ]
            ],
            "type": "heatmap"
           }
          ],
          "heatmapgl": [
           {
            "colorbar": {
             "outlinewidth": 0,
             "ticks": ""
            },
            "colorscale": [
             [
              0,
              "#0d0887"
             ],
             [
              0.1111111111111111,
              "#46039f"
             ],
             [
              0.2222222222222222,
              "#7201a8"
             ],
             [
              0.3333333333333333,
              "#9c179e"
             ],
             [
              0.4444444444444444,
              "#bd3786"
             ],
             [
              0.5555555555555556,
              "#d8576b"
             ],
             [
              0.6666666666666666,
              "#ed7953"
             ],
             [
              0.7777777777777778,
              "#fb9f3a"
             ],
             [
              0.8888888888888888,
              "#fdca26"
             ],
             [
              1,
              "#f0f921"
             ]
            ],
            "type": "heatmapgl"
           }
          ],
          "histogram": [
           {
            "marker": {
             "pattern": {
              "fillmode": "overlay",
              "size": 10,
              "solidity": 0.2
             }
            },
            "type": "histogram"
           }
          ],
          "histogram2d": [
           {
            "colorbar": {
             "outlinewidth": 0,
             "ticks": ""
            },
            "colorscale": [
             [
              0,
              "#0d0887"
             ],
             [
              0.1111111111111111,
              "#46039f"
             ],
             [
              0.2222222222222222,
              "#7201a8"
             ],
             [
              0.3333333333333333,
              "#9c179e"
             ],
             [
              0.4444444444444444,
              "#bd3786"
             ],
             [
              0.5555555555555556,
              "#d8576b"
             ],
             [
              0.6666666666666666,
              "#ed7953"
             ],
             [
              0.7777777777777778,
              "#fb9f3a"
             ],
             [
              0.8888888888888888,
              "#fdca26"
             ],
             [
              1,
              "#f0f921"
             ]
            ],
            "type": "histogram2d"
           }
          ],
          "histogram2dcontour": [
           {
            "colorbar": {
             "outlinewidth": 0,
             "ticks": ""
            },
            "colorscale": [
             [
              0,
              "#0d0887"
             ],
             [
              0.1111111111111111,
              "#46039f"
             ],
             [
              0.2222222222222222,
              "#7201a8"
             ],
             [
              0.3333333333333333,
              "#9c179e"
             ],
             [
              0.4444444444444444,
              "#bd3786"
             ],
             [
              0.5555555555555556,
              "#d8576b"
             ],
             [
              0.6666666666666666,
              "#ed7953"
             ],
             [
              0.7777777777777778,
              "#fb9f3a"
             ],
             [
              0.8888888888888888,
              "#fdca26"
             ],
             [
              1,
              "#f0f921"
             ]
            ],
            "type": "histogram2dcontour"
           }
          ],
          "mesh3d": [
           {
            "colorbar": {
             "outlinewidth": 0,
             "ticks": ""
            },
            "type": "mesh3d"
           }
          ],
          "parcoords": [
           {
            "line": {
             "colorbar": {
              "outlinewidth": 0,
              "ticks": ""
             }
            },
            "type": "parcoords"
           }
          ],
          "pie": [
           {
            "automargin": true,
            "type": "pie"
           }
          ],
          "scatter": [
           {
            "marker": {
             "colorbar": {
              "outlinewidth": 0,
              "ticks": ""
             }
            },
            "type": "scatter"
           }
          ],
          "scatter3d": [
           {
            "line": {
             "colorbar": {
              "outlinewidth": 0,
              "ticks": ""
             }
            },
            "marker": {
             "colorbar": {
              "outlinewidth": 0,
              "ticks": ""
             }
            },
            "type": "scatter3d"
           }
          ],
          "scattercarpet": [
           {
            "marker": {
             "colorbar": {
              "outlinewidth": 0,
              "ticks": ""
             }
            },
            "type": "scattercarpet"
           }
          ],
          "scattergeo": [
           {
            "marker": {
             "colorbar": {
              "outlinewidth": 0,
              "ticks": ""
             }
            },
            "type": "scattergeo"
           }
          ],
          "scattergl": [
           {
            "marker": {
             "colorbar": {
              "outlinewidth": 0,
              "ticks": ""
             }
            },
            "type": "scattergl"
           }
          ],
          "scattermapbox": [
           {
            "marker": {
             "colorbar": {
              "outlinewidth": 0,
              "ticks": ""
             }
            },
            "type": "scattermapbox"
           }
          ],
          "scatterpolar": [
           {
            "marker": {
             "colorbar": {
              "outlinewidth": 0,
              "ticks": ""
             }
            },
            "type": "scatterpolar"
           }
          ],
          "scatterpolargl": [
           {
            "marker": {
             "colorbar": {
              "outlinewidth": 0,
              "ticks": ""
             }
            },
            "type": "scatterpolargl"
           }
          ],
          "scatterternary": [
           {
            "marker": {
             "colorbar": {
              "outlinewidth": 0,
              "ticks": ""
             }
            },
            "type": "scatterternary"
           }
          ],
          "surface": [
           {
            "colorbar": {
             "outlinewidth": 0,
             "ticks": ""
            },
            "colorscale": [
             [
              0,
              "#0d0887"
             ],
             [
              0.1111111111111111,
              "#46039f"
             ],
             [
              0.2222222222222222,
              "#7201a8"
             ],
             [
              0.3333333333333333,
              "#9c179e"
             ],
             [
              0.4444444444444444,
              "#bd3786"
             ],
             [
              0.5555555555555556,
              "#d8576b"
             ],
             [
              0.6666666666666666,
              "#ed7953"
             ],
             [
              0.7777777777777778,
              "#fb9f3a"
             ],
             [
              0.8888888888888888,
              "#fdca26"
             ],
             [
              1,
              "#f0f921"
             ]
            ],
            "type": "surface"
           }
          ],
          "table": [
           {
            "cells": {
             "fill": {
              "color": "#EBF0F8"
             },
             "line": {
              "color": "white"
             }
            },
            "header": {
             "fill": {
              "color": "#C8D4E3"
             },
             "line": {
              "color": "white"
             }
            },
            "type": "table"
           }
          ]
         },
         "layout": {
          "annotationdefaults": {
           "arrowcolor": "#2a3f5f",
           "arrowhead": 0,
           "arrowwidth": 1
          },
          "autotypenumbers": "strict",
          "coloraxis": {
           "colorbar": {
            "outlinewidth": 0,
            "ticks": ""
           }
          },
          "colorscale": {
           "diverging": [
            [
             0,
             "#8e0152"
            ],
            [
             0.1,
             "#c51b7d"
            ],
            [
             0.2,
             "#de77ae"
            ],
            [
             0.3,
             "#f1b6da"
            ],
            [
             0.4,
             "#fde0ef"
            ],
            [
             0.5,
             "#f7f7f7"
            ],
            [
             0.6,
             "#e6f5d0"
            ],
            [
             0.7,
             "#b8e186"
            ],
            [
             0.8,
             "#7fbc41"
            ],
            [
             0.9,
             "#4d9221"
            ],
            [
             1,
             "#276419"
            ]
           ],
           "sequential": [
            [
             0,
             "#0d0887"
            ],
            [
             0.1111111111111111,
             "#46039f"
            ],
            [
             0.2222222222222222,
             "#7201a8"
            ],
            [
             0.3333333333333333,
             "#9c179e"
            ],
            [
             0.4444444444444444,
             "#bd3786"
            ],
            [
             0.5555555555555556,
             "#d8576b"
            ],
            [
             0.6666666666666666,
             "#ed7953"
            ],
            [
             0.7777777777777778,
             "#fb9f3a"
            ],
            [
             0.8888888888888888,
             "#fdca26"
            ],
            [
             1,
             "#f0f921"
            ]
           ],
           "sequentialminus": [
            [
             0,
             "#0d0887"
            ],
            [
             0.1111111111111111,
             "#46039f"
            ],
            [
             0.2222222222222222,
             "#7201a8"
            ],
            [
             0.3333333333333333,
             "#9c179e"
            ],
            [
             0.4444444444444444,
             "#bd3786"
            ],
            [
             0.5555555555555556,
             "#d8576b"
            ],
            [
             0.6666666666666666,
             "#ed7953"
            ],
            [
             0.7777777777777778,
             "#fb9f3a"
            ],
            [
             0.8888888888888888,
             "#fdca26"
            ],
            [
             1,
             "#f0f921"
            ]
           ]
          },
          "colorway": [
           "#636efa",
           "#EF553B",
           "#00cc96",
           "#ab63fa",
           "#FFA15A",
           "#19d3f3",
           "#FF6692",
           "#B6E880",
           "#FF97FF",
           "#FECB52"
          ],
          "font": {
           "color": "#2a3f5f"
          },
          "geo": {
           "bgcolor": "white",
           "lakecolor": "white",
           "landcolor": "#E5ECF6",
           "showlakes": true,
           "showland": true,
           "subunitcolor": "white"
          },
          "hoverlabel": {
           "align": "left"
          },
          "hovermode": "closest",
          "mapbox": {
           "style": "light"
          },
          "paper_bgcolor": "white",
          "plot_bgcolor": "#E5ECF6",
          "polar": {
           "angularaxis": {
            "gridcolor": "white",
            "linecolor": "white",
            "ticks": ""
           },
           "bgcolor": "#E5ECF6",
           "radialaxis": {
            "gridcolor": "white",
            "linecolor": "white",
            "ticks": ""
           }
          },
          "scene": {
           "xaxis": {
            "backgroundcolor": "#E5ECF6",
            "gridcolor": "white",
            "gridwidth": 2,
            "linecolor": "white",
            "showbackground": true,
            "ticks": "",
            "zerolinecolor": "white"
           },
           "yaxis": {
            "backgroundcolor": "#E5ECF6",
            "gridcolor": "white",
            "gridwidth": 2,
            "linecolor": "white",
            "showbackground": true,
            "ticks": "",
            "zerolinecolor": "white"
           },
           "zaxis": {
            "backgroundcolor": "#E5ECF6",
            "gridcolor": "white",
            "gridwidth": 2,
            "linecolor": "white",
            "showbackground": true,
            "ticks": "",
            "zerolinecolor": "white"
           }
          },
          "shapedefaults": {
           "line": {
            "color": "#2a3f5f"
           }
          },
          "ternary": {
           "aaxis": {
            "gridcolor": "white",
            "linecolor": "white",
            "ticks": ""
           },
           "baxis": {
            "gridcolor": "white",
            "linecolor": "white",
            "ticks": ""
           },
           "bgcolor": "#E5ECF6",
           "caxis": {
            "gridcolor": "white",
            "linecolor": "white",
            "ticks": ""
           }
          },
          "title": {
           "x": 0.05
          },
          "xaxis": {
           "automargin": true,
           "gridcolor": "white",
           "linecolor": "white",
           "ticks": "",
           "title": {
            "standoff": 15
           },
           "zerolinecolor": "white",
           "zerolinewidth": 2
          },
          "yaxis": {
           "automargin": true,
           "gridcolor": "white",
           "linecolor": "white",
           "ticks": "",
           "title": {
            "standoff": 15
           },
           "zerolinecolor": "white",
           "zerolinewidth": 2
          }
         }
        },
        "title": {
         "text": "Top 50 Day Portfolio Sharpe"
        },
        "xaxis": {
         "anchor": "y",
         "domain": [
          0,
          1
         ],
         "title": {
          "text": "Date"
         }
        },
        "yaxis": {
         "anchor": "x",
         "domain": [
          0,
          1
         ],
         "title": {
          "text": "value"
         }
        }
       }
      }
     },
     "metadata": {},
     "output_type": "display_data"
    },
    {
     "data": {
      "application/vnd.plotly.v1+json": {
       "config": {
        "plotlyServerURL": "https://plot.ly",
        "responsive": true
       },
       "data": [
        {
         "hovertemplate": "variable=PEP<br>Date=%{x}<br>value=%{y}<extra></extra>",
         "legendgroup": "PEP",
         "line": {
          "color": "#636efa",
          "dash": "solid"
         },
         "marker": {
          "symbol": "circle"
         },
         "mode": "lines",
         "name": "PEP",
         "orientation": "v",
         "showlegend": true,
         "type": "scatter",
         "x": [
          "2022-11-15T00:00:00",
          "2022-11-16T00:00:00",
          "2022-11-17T00:00:00",
          "2022-11-18T00:00:00",
          "2022-11-21T00:00:00",
          "2022-11-22T00:00:00",
          "2022-11-23T00:00:00",
          "2022-11-25T00:00:00",
          "2022-11-28T00:00:00",
          "2022-11-29T00:00:00",
          "2022-11-30T00:00:00",
          "2022-12-01T00:00:00",
          "2022-12-02T00:00:00",
          "2022-12-05T00:00:00",
          "2022-12-06T00:00:00",
          "2022-12-07T00:00:00",
          "2022-12-08T00:00:00",
          "2022-12-09T00:00:00",
          "2022-12-12T00:00:00",
          "2022-12-13T00:00:00",
          "2022-12-14T00:00:00",
          "2022-12-15T00:00:00",
          "2022-12-16T00:00:00",
          "2022-12-19T00:00:00",
          "2022-12-20T00:00:00",
          "2022-12-21T00:00:00",
          "2022-12-22T00:00:00",
          "2022-12-23T00:00:00",
          "2022-12-27T00:00:00",
          "2022-12-28T00:00:00",
          "2022-12-29T00:00:00",
          "2022-12-30T00:00:00",
          "2023-01-03T00:00:00",
          "2023-01-04T00:00:00",
          "2023-01-05T00:00:00",
          "2023-01-06T00:00:00",
          "2023-01-09T00:00:00",
          "2023-01-10T00:00:00",
          "2023-01-11T00:00:00",
          "2023-01-12T00:00:00",
          "2023-01-13T00:00:00",
          "2023-01-17T00:00:00",
          "2023-01-18T00:00:00",
          "2023-01-19T00:00:00",
          "2023-01-20T00:00:00",
          "2023-01-23T00:00:00",
          "2023-01-24T00:00:00",
          "2023-01-25T00:00:00",
          "2023-01-26T00:00:00",
          "2023-01-27T00:00:00",
          "2023-01-30T00:00:00",
          "2023-01-31T00:00:00",
          "2023-02-01T00:00:00",
          "2023-02-02T00:00:00",
          "2023-02-03T00:00:00",
          "2023-02-06T00:00:00",
          "2023-02-07T00:00:00",
          "2023-02-08T00:00:00",
          "2023-02-09T00:00:00",
          "2023-02-10T00:00:00",
          "2023-02-13T00:00:00",
          "2023-02-14T00:00:00",
          "2023-02-15T00:00:00",
          "2023-02-16T00:00:00",
          "2023-02-17T00:00:00",
          "2023-02-21T00:00:00",
          "2023-02-22T00:00:00",
          "2023-02-23T00:00:00",
          "2023-02-24T00:00:00",
          "2023-02-27T00:00:00",
          "2023-02-28T00:00:00",
          "2023-03-01T00:00:00",
          "2023-03-02T00:00:00",
          "2023-03-03T00:00:00",
          "2023-03-06T00:00:00",
          "2023-03-07T00:00:00",
          "2023-03-08T00:00:00",
          "2023-03-09T00:00:00",
          "2023-03-10T00:00:00",
          "2023-03-13T00:00:00",
          "2023-03-14T00:00:00",
          "2023-03-15T00:00:00",
          "2023-03-16T00:00:00",
          "2023-03-17T00:00:00",
          "2023-03-20T00:00:00",
          "2023-03-21T00:00:00",
          "2023-03-22T00:00:00",
          "2023-03-23T00:00:00",
          "2023-03-24T00:00:00",
          "2023-03-27T00:00:00",
          "2023-03-28T00:00:00",
          "2023-03-29T00:00:00",
          "2023-03-30T00:00:00",
          "2023-03-31T00:00:00",
          "2023-04-03T00:00:00",
          "2023-04-04T00:00:00",
          "2023-04-05T00:00:00",
          "2023-04-06T00:00:00",
          "2023-04-10T00:00:00",
          "2023-04-11T00:00:00"
         ],
         "xaxis": "x",
         "y": [
          -0.699376085010176,
          -1.0071130704985214,
          -1.2036745478682112,
          -1.3061328649236024,
          -3.393620786978415,
          -3.1311875446231054,
          -3.8600901281046958,
          -3.4165374683932277,
          -3.001659674609102,
          -2.6915473049727745,
          -3.3364369682177366,
          -3.5968192335435076,
          -3.5721540593559493,
          -3.040769760525738,
          -3.3001699639299362,
          -2.8715370330407204,
          -3.6682689523793384,
          -4.4126839421163595,
          -4.150896012894948,
          -3.716734326184704,
          -3.879341730655087,
          -3.995289245280342,
          -4.327153808725343,
          -4.492351048466292,
          -4.279433245626709,
          -3.298107833765217,
          -1.8251647308322054,
          -3.4794814200348108,
          -3.035621110757632,
          -2.0594117448545544,
          -2.627125357559775,
          -2.8370694179980585,
          -2.03409836907679,
          -0.6934998913830784,
          0.018494190074422764,
          -0.8394497130282188,
          -0.4123161080184619,
          0.872802515036989,
          0.6486327886188643,
          1.028359785955585,
          0.5235693452029915,
          0.1707911016568321,
          1.551460814444872,
          2.3970926495691955,
          2.455068075401289,
          2.155405644773665,
          2.584248300733085,
          1.390129615741834,
          1.5038417337657586,
          1.7934464850665806,
          2.146647811650362,
          2.1698847998419555,
          2.3745519432972095,
          3.8711282926352046,
          4.1115387382037705,
          3.2794858992003126,
          3.111325305805324,
          3.1641532418827083,
          2.3623836021185087,
          2.1482904585513904,
          2.11989859413345,
          2.55635444233256,
          1.8954181929091638,
          1.6554063298945303,
          1.5886872945385304,
          2.0522097825464054,
          1.8937679714528057,
          2.0758064199045494,
          2.144407160533107,
          2.026191626597172,
          1.8843070212015047,
          2.479561288565698,
          1.7998243766802542,
          1.8170012191824556,
          2.057028810229521,
          1.9360971011452943,
          2.1182029011498607,
          2.667107270298131,
          2.283174784523581,
          1.8661605550591398,
          1.586272088675357,
          0.4112758381769581,
          0.3295244394920427,
          0.2078279944903149,
          0.6191406214001002,
          0.03204221358396872,
          0.04061054405989983,
          0.3333098908663256,
          -1.227696117283979,
          -1.4901914925032782,
          -1.2465929440867591,
          -3.125670810017476,
          -3.9202535436488555,
          -4.2742620656549475,
          -4.621374016262187,
          -3.9010759362396663,
          -4.0266694902238624,
          -4.928676210006814,
          -4.736264013347927,
          -4.691855549236775
         ],
         "yaxis": "y"
        },
        {
         "hovertemplate": "variable=WM<br>Date=%{x}<br>value=%{y}<extra></extra>",
         "legendgroup": "WM",
         "line": {
          "color": "#EF553B",
          "dash": "solid"
         },
         "marker": {
          "symbol": "circle"
         },
         "mode": "lines",
         "name": "WM",
         "orientation": "v",
         "showlegend": true,
         "type": "scatter",
         "x": [
          "2022-11-15T00:00:00",
          "2022-11-16T00:00:00",
          "2022-11-17T00:00:00",
          "2022-11-18T00:00:00",
          "2022-11-21T00:00:00",
          "2022-11-22T00:00:00",
          "2022-11-23T00:00:00",
          "2022-11-25T00:00:00",
          "2022-11-28T00:00:00",
          "2022-11-29T00:00:00",
          "2022-11-30T00:00:00",
          "2022-12-01T00:00:00",
          "2022-12-02T00:00:00",
          "2022-12-05T00:00:00",
          "2022-12-06T00:00:00",
          "2022-12-07T00:00:00",
          "2022-12-08T00:00:00",
          "2022-12-09T00:00:00",
          "2022-12-12T00:00:00",
          "2022-12-13T00:00:00",
          "2022-12-14T00:00:00",
          "2022-12-15T00:00:00",
          "2022-12-16T00:00:00",
          "2022-12-19T00:00:00",
          "2022-12-20T00:00:00",
          "2022-12-21T00:00:00",
          "2022-12-22T00:00:00",
          "2022-12-23T00:00:00",
          "2022-12-27T00:00:00",
          "2022-12-28T00:00:00",
          "2022-12-29T00:00:00",
          "2022-12-30T00:00:00",
          "2023-01-03T00:00:00",
          "2023-01-04T00:00:00",
          "2023-01-05T00:00:00",
          "2023-01-06T00:00:00",
          "2023-01-09T00:00:00",
          "2023-01-10T00:00:00",
          "2023-01-11T00:00:00",
          "2023-01-12T00:00:00",
          "2023-01-13T00:00:00",
          "2023-01-17T00:00:00",
          "2023-01-18T00:00:00",
          "2023-01-19T00:00:00",
          "2023-01-20T00:00:00",
          "2023-01-23T00:00:00",
          "2023-01-24T00:00:00",
          "2023-01-25T00:00:00",
          "2023-01-26T00:00:00",
          "2023-01-27T00:00:00",
          "2023-01-30T00:00:00",
          "2023-01-31T00:00:00",
          "2023-02-01T00:00:00",
          "2023-02-02T00:00:00",
          "2023-02-03T00:00:00",
          "2023-02-06T00:00:00",
          "2023-02-07T00:00:00",
          "2023-02-08T00:00:00",
          "2023-02-09T00:00:00",
          "2023-02-10T00:00:00",
          "2023-02-13T00:00:00",
          "2023-02-14T00:00:00",
          "2023-02-15T00:00:00",
          "2023-02-16T00:00:00",
          "2023-02-17T00:00:00",
          "2023-02-21T00:00:00",
          "2023-02-22T00:00:00",
          "2023-02-23T00:00:00",
          "2023-02-24T00:00:00",
          "2023-02-27T00:00:00",
          "2023-02-28T00:00:00",
          "2023-03-01T00:00:00",
          "2023-03-02T00:00:00",
          "2023-03-03T00:00:00",
          "2023-03-06T00:00:00",
          "2023-03-07T00:00:00",
          "2023-03-08T00:00:00",
          "2023-03-09T00:00:00",
          "2023-03-10T00:00:00",
          "2023-03-13T00:00:00",
          "2023-03-14T00:00:00",
          "2023-03-15T00:00:00",
          "2023-03-16T00:00:00",
          "2023-03-17T00:00:00",
          "2023-03-20T00:00:00",
          "2023-03-21T00:00:00",
          "2023-03-22T00:00:00",
          "2023-03-23T00:00:00",
          "2023-03-24T00:00:00",
          "2023-03-27T00:00:00",
          "2023-03-28T00:00:00",
          "2023-03-29T00:00:00",
          "2023-03-30T00:00:00",
          "2023-03-31T00:00:00",
          "2023-04-03T00:00:00",
          "2023-04-04T00:00:00",
          "2023-04-05T00:00:00",
          "2023-04-06T00:00:00",
          "2023-04-10T00:00:00",
          "2023-04-11T00:00:00"
         ],
         "xaxis": "x",
         "y": [
          2.8219403839269455,
          2.7216802412062937,
          2.5071949251159737,
          2.17004992395112,
          1.481130072133973,
          1.490873566366379,
          1.2364826850169017,
          0.871145593553062,
          1.1230381938701453,
          0.8279369082461636,
          0.20823099561598502,
          -0.2904724265972039,
          -0.8598659122429921,
          -0.5837020776637685,
          -0.546283997681308,
          -0.21530454030242968,
          -0.8904069117405161,
          -1.3856992458141193,
          -0.45417774040107806,
          0.15105845079606137,
          -0.10939157004975208,
          -1.0430755282008404,
          -1.7465555619296584,
          -0.623530372726025,
          -0.4904756471568018,
          -1.2968283487212104,
          -0.2252803805655429,
          -1.2321411087752372,
          -0.5604311009907998,
          0.7637520242736144,
          0.48508487941126466,
          0.4386283653542464,
          0.5352054806893114,
          1.2760438111030201,
          2.549613978181854,
          -0.03387148804942682,
          -0.1358706216136421,
          0.5682478606799247,
          0.17951648629585348,
          0.7341378972905033,
          0.09786197369928379,
          0.4902431915766247,
          0.9538483379247911,
          1.3932921842986503,
          1.5402670710597866,
          1.1010953800991472,
          1.877690711019781,
          1.0415475879924772,
          1.0550719057111795,
          0.9150977043444998,
          1.028321157789178,
          0.8710513855196793,
          1.430464897060639,
          2.6263786950579973,
          2.5531244937912163,
          2.5419902875603126,
          2.743810898037623,
          2.873965530333574,
          2.6435897294874815,
          2.8059824525467065,
          3.2307818604531398,
          3.9590812063974066,
          3.40458639409864,
          2.9561946134623955,
          2.2383658297590707,
          2.8858822314744037,
          3.1390044625651625,
          3.374620718661232,
          3.293272900577621,
          3.303907231856191,
          3.01434152712905,
          2.9071181294277086,
          1.8168116560554843,
          1.8435824717340439,
          2.0251823918260787,
          2.0055351582047267,
          2.235951788940303,
          1.9439302124629825,
          1.7822986245421946,
          1.6548723422055345,
          0.4254422353215956,
          0.2936353795887568,
          0.13466307536444924,
          0.0027920431891844304,
          1.0038021192067734,
          0.7844922806225453,
          0.5720313433751633,
          1.5125071077790109,
          -0.7076102349872867,
          -0.031104518547205837,
          -0.3285975471072026,
          -2.036603934946222,
          -3.2681663803281733,
          -3.2571553693953557,
          -3.2691936836837514,
          -3.2950587163726506,
          -2.8492692529058923,
          -3.2624789333104958,
          -2.826000165620068,
          -2.9148345257647557
         ],
         "yaxis": "y"
        },
        {
         "hovertemplate": "variable=MCD<br>Date=%{x}<br>value=%{y}<extra></extra>",
         "legendgroup": "MCD",
         "line": {
          "color": "#00cc96",
          "dash": "solid"
         },
         "marker": {
          "symbol": "circle"
         },
         "mode": "lines",
         "name": "MCD",
         "orientation": "v",
         "showlegend": true,
         "type": "scatter",
         "x": [
          "2022-11-15T00:00:00",
          "2022-11-16T00:00:00",
          "2022-11-17T00:00:00",
          "2022-11-18T00:00:00",
          "2022-11-21T00:00:00",
          "2022-11-22T00:00:00",
          "2022-11-23T00:00:00",
          "2022-11-25T00:00:00",
          "2022-11-28T00:00:00",
          "2022-11-29T00:00:00",
          "2022-11-30T00:00:00",
          "2022-12-01T00:00:00",
          "2022-12-02T00:00:00",
          "2022-12-05T00:00:00",
          "2022-12-06T00:00:00",
          "2022-12-07T00:00:00",
          "2022-12-08T00:00:00",
          "2022-12-09T00:00:00",
          "2022-12-12T00:00:00",
          "2022-12-13T00:00:00",
          "2022-12-14T00:00:00",
          "2022-12-15T00:00:00",
          "2022-12-16T00:00:00",
          "2022-12-19T00:00:00",
          "2022-12-20T00:00:00",
          "2022-12-21T00:00:00",
          "2022-12-22T00:00:00",
          "2022-12-23T00:00:00",
          "2022-12-27T00:00:00",
          "2022-12-28T00:00:00",
          "2022-12-29T00:00:00",
          "2022-12-30T00:00:00",
          "2023-01-03T00:00:00",
          "2023-01-04T00:00:00",
          "2023-01-05T00:00:00",
          "2023-01-06T00:00:00",
          "2023-01-09T00:00:00",
          "2023-01-10T00:00:00",
          "2023-01-11T00:00:00",
          "2023-01-12T00:00:00",
          "2023-01-13T00:00:00",
          "2023-01-17T00:00:00",
          "2023-01-18T00:00:00",
          "2023-01-19T00:00:00",
          "2023-01-20T00:00:00",
          "2023-01-23T00:00:00",
          "2023-01-24T00:00:00",
          "2023-01-25T00:00:00",
          "2023-01-26T00:00:00",
          "2023-01-27T00:00:00",
          "2023-01-30T00:00:00",
          "2023-01-31T00:00:00",
          "2023-02-01T00:00:00",
          "2023-02-02T00:00:00",
          "2023-02-03T00:00:00",
          "2023-02-06T00:00:00",
          "2023-02-07T00:00:00",
          "2023-02-08T00:00:00",
          "2023-02-09T00:00:00",
          "2023-02-10T00:00:00",
          "2023-02-13T00:00:00",
          "2023-02-14T00:00:00",
          "2023-02-15T00:00:00",
          "2023-02-16T00:00:00",
          "2023-02-17T00:00:00",
          "2023-02-21T00:00:00",
          "2023-02-22T00:00:00",
          "2023-02-23T00:00:00",
          "2023-02-24T00:00:00",
          "2023-02-27T00:00:00",
          "2023-02-28T00:00:00",
          "2023-03-01T00:00:00",
          "2023-03-02T00:00:00",
          "2023-03-03T00:00:00",
          "2023-03-06T00:00:00",
          "2023-03-07T00:00:00",
          "2023-03-08T00:00:00",
          "2023-03-09T00:00:00",
          "2023-03-10T00:00:00",
          "2023-03-13T00:00:00",
          "2023-03-14T00:00:00",
          "2023-03-15T00:00:00",
          "2023-03-16T00:00:00",
          "2023-03-17T00:00:00",
          "2023-03-20T00:00:00",
          "2023-03-21T00:00:00",
          "2023-03-22T00:00:00",
          "2023-03-23T00:00:00",
          "2023-03-24T00:00:00",
          "2023-03-27T00:00:00",
          "2023-03-28T00:00:00",
          "2023-03-29T00:00:00",
          "2023-03-30T00:00:00",
          "2023-03-31T00:00:00",
          "2023-04-03T00:00:00",
          "2023-04-04T00:00:00",
          "2023-04-05T00:00:00",
          "2023-04-06T00:00:00",
          "2023-04-10T00:00:00",
          "2023-04-11T00:00:00"
         ],
         "xaxis": "x",
         "y": [
          -1.1518038505562294,
          -1.4915377679755961,
          -1.6647860786956399,
          -1.558965054052396,
          -2.559051036991482,
          -2.40215443019923,
          -2.5283372613785544,
          -2.5500743207101624,
          -1.993935552739867,
          -2.0255904375436615,
          -3.0355484848008483,
          -3.6137049227257916,
          -3.934317674384845,
          -4.031270720099619,
          -5.5174160555695435,
          -5.237145531555839,
          -6.194860651103183,
          -6.787272560934008,
          -6.697922075059016,
          -5.744896448526873,
          -5.677154563924818,
          -6.142881260627062,
          -5.344948967969328,
          -4.9916997994889645,
          -4.85558868231888,
          -4.996029795293302,
          -3.3394539655166735,
          -4.373684106058031,
          -3.6772381161402694,
          -2.90297864868118,
          -2.7683385303735433,
          -2.5220677139685193,
          -1.8836138057744702,
          -1.7603918080904608,
          -1.305681401883697,
          -2.2243385771842386,
          -0.5938144534610521,
          0.7346833023176266,
          0.4242535702525199,
          0.856945062762131,
          -0.0062651304822351475,
          -0.4715838840259671,
          1.1203242208203918,
          1.779345374442493,
          1.2546846516281542,
          1.0562833264146856,
          0.7340477914604595,
          -0.49397183886168755,
          -0.6236791508106615,
          -0.9958841870482276,
          0.015399098952475798,
          0.7133750451340096,
          0.8956347048319049,
          1.5499693930642409,
          1.4222171501671845,
          0.5969295500996851,
          0.9541747012057149,
          1.3132055925951516,
          1.423808102697872,
          1.5935585297117478,
          1.082622978315025,
          1.0206152249677096,
          0.7636984248246251,
          0.9009304236266071,
          0.052338717879367655,
          0.7220911926707312,
          0.5107112711872199,
          1.4870713441534882,
          1.606844307832134,
          1.473772093166746,
          0.9688679003561909,
          0.30752080756969113,
          -0.5202101059226044,
          -0.5312741329390557,
          -0.6332474140082736,
          -0.4548472322859812,
          0.11019565486204286,
          0.5677729177781035,
          0.24286539028692197,
          0.2055272030633591,
          -0.6070233950453234,
          -0.5500707510527169,
          -1.1760120830592509,
          -1.0008246577172135,
          -0.440645121855039,
          -0.713346739207566,
          -0.079139159533593,
          -0.3684705126491472,
          -0.9768422970318117,
          -1.01796578269999,
          -0.5246534573033448,
          -2.3241299685243364,
          -2.8903139354321086,
          -2.3509212873168086,
          -2.6636086966806145,
          -2.6370902968692023,
          -1.9666905100789012,
          -1.805367975202733,
          -2.4316117846084015,
          -2.89254929284795
         ],
         "yaxis": "y"
        },
        {
         "hovertemplate": "variable=WMT<br>Date=%{x}<br>value=%{y}<extra></extra>",
         "legendgroup": "WMT",
         "line": {
          "color": "#ab63fa",
          "dash": "solid"
         },
         "marker": {
          "symbol": "circle"
         },
         "mode": "lines",
         "name": "WMT",
         "orientation": "v",
         "showlegend": true,
         "type": "scatter",
         "x": [
          "2022-11-15T00:00:00",
          "2022-11-16T00:00:00",
          "2022-11-17T00:00:00",
          "2022-11-18T00:00:00",
          "2022-11-21T00:00:00",
          "2022-11-22T00:00:00",
          "2022-11-23T00:00:00",
          "2022-11-25T00:00:00",
          "2022-11-28T00:00:00",
          "2022-11-29T00:00:00",
          "2022-11-30T00:00:00",
          "2022-12-01T00:00:00",
          "2022-12-02T00:00:00",
          "2022-12-05T00:00:00",
          "2022-12-06T00:00:00",
          "2022-12-07T00:00:00",
          "2022-12-08T00:00:00",
          "2022-12-09T00:00:00",
          "2022-12-12T00:00:00",
          "2022-12-13T00:00:00",
          "2022-12-14T00:00:00",
          "2022-12-15T00:00:00",
          "2022-12-16T00:00:00",
          "2022-12-19T00:00:00",
          "2022-12-20T00:00:00",
          "2022-12-21T00:00:00",
          "2022-12-22T00:00:00",
          "2022-12-23T00:00:00",
          "2022-12-27T00:00:00",
          "2022-12-28T00:00:00",
          "2022-12-29T00:00:00",
          "2022-12-30T00:00:00",
          "2023-01-03T00:00:00",
          "2023-01-04T00:00:00",
          "2023-01-05T00:00:00",
          "2023-01-06T00:00:00",
          "2023-01-09T00:00:00",
          "2023-01-10T00:00:00",
          "2023-01-11T00:00:00",
          "2023-01-12T00:00:00",
          "2023-01-13T00:00:00",
          "2023-01-17T00:00:00",
          "2023-01-18T00:00:00",
          "2023-01-19T00:00:00",
          "2023-01-20T00:00:00",
          "2023-01-23T00:00:00",
          "2023-01-24T00:00:00",
          "2023-01-25T00:00:00",
          "2023-01-26T00:00:00",
          "2023-01-27T00:00:00",
          "2023-01-30T00:00:00",
          "2023-01-31T00:00:00",
          "2023-02-01T00:00:00",
          "2023-02-02T00:00:00",
          "2023-02-03T00:00:00",
          "2023-02-06T00:00:00",
          "2023-02-07T00:00:00",
          "2023-02-08T00:00:00",
          "2023-02-09T00:00:00",
          "2023-02-10T00:00:00",
          "2023-02-13T00:00:00",
          "2023-02-14T00:00:00",
          "2023-02-15T00:00:00",
          "2023-02-16T00:00:00",
          "2023-02-17T00:00:00",
          "2023-02-21T00:00:00",
          "2023-02-22T00:00:00",
          "2023-02-23T00:00:00",
          "2023-02-24T00:00:00",
          "2023-02-27T00:00:00",
          "2023-02-28T00:00:00",
          "2023-03-01T00:00:00",
          "2023-03-02T00:00:00",
          "2023-03-03T00:00:00",
          "2023-03-06T00:00:00",
          "2023-03-07T00:00:00",
          "2023-03-08T00:00:00",
          "2023-03-09T00:00:00",
          "2023-03-10T00:00:00",
          "2023-03-13T00:00:00",
          "2023-03-14T00:00:00",
          "2023-03-15T00:00:00",
          "2023-03-16T00:00:00",
          "2023-03-17T00:00:00",
          "2023-03-20T00:00:00",
          "2023-03-21T00:00:00",
          "2023-03-22T00:00:00",
          "2023-03-23T00:00:00",
          "2023-03-24T00:00:00",
          "2023-03-27T00:00:00",
          "2023-03-28T00:00:00",
          "2023-03-29T00:00:00",
          "2023-03-30T00:00:00",
          "2023-03-31T00:00:00",
          "2023-04-03T00:00:00",
          "2023-04-04T00:00:00",
          "2023-04-05T00:00:00",
          "2023-04-06T00:00:00",
          "2023-04-10T00:00:00",
          "2023-04-11T00:00:00"
         ],
         "xaxis": "x",
         "y": [
          -2.397630242890335,
          -2.459101278295115,
          -2.264719885160346,
          -2.4335183559296385,
          -3.323212947589099,
          -3.509048226797078,
          -4.037663899740114,
          -4.248615622861132,
          -4.069936962902994,
          -4.150981852726168,
          -3.7389195603812295,
          -4.30508320811089,
          -5.30264268477424,
          -4.583000150192176,
          -4.244400485794346,
          -3.5484439109544432,
          -3.8287383552609304,
          -3.657649545426044,
          -3.5730187092273535,
          -3.0437108125027987,
          -3.1998015043299257,
          -3.214361684626093,
          -3.452004399789348,
          -3.2679935194087024,
          -2.7782227353501505,
          -3.455738975040455,
          -2.743424928748112,
          -3.3327199534022727,
          -3.098205749119996,
          -1.7960654608701683,
          -2.091896388327327,
          -1.9238264864030161,
          -1.7008064441070623,
          -1.1316571199630627,
          -0.8611485753430504,
          -1.3777479201005527,
          -1.054504376166088,
          -0.6373782883917986,
          -0.9555936060118595,
          -0.8060080748461892,
          -1.1287232840468644,
          -0.9374738538918026,
          -0.0858463288659151,
          0.6534131524723187,
          0.3595395691479211,
          -0.8065088679521084,
          -0.26064541746375247,
          -0.06429573124760858,
          -1.0205450508920777,
          1.053737136989217,
          1.690852295740445,
          1.03148196085473,
          1.44874148791303,
          2.008009413035421,
          2.6707581343529405,
          3.155700278831776,
          3.2464696168546383,
          3.576450510395349,
          3.036576459758941,
          2.2201929630323836,
          1.8346098297493838,
          1.9079678298549398,
          1.2177428429207857,
          1.3684535344970847,
          0.5636278777208777,
          0.38556985134481236,
          0.2939058029898993,
          1.6193247449216577,
          1.3752903939126673,
          1.4384745799890126,
          0.8994855897041889,
          0.7455496459314586,
          0.6588467545281638,
          0.966693024713203,
          1.2936125492757562,
          1.2262872683546067,
          1.6330444986391384,
          1.9062326546167734,
          1.2957302736091325,
          1.4294199277660935,
          1.1029885364341976,
          1.1731770224672662,
          1.4508655146649339,
          0.9712776914080008,
          1.5985641794418615,
          1.2241638326999515,
          1.471734035404647,
          1.5022705130921692,
          0.7507336455334968,
          0.15856844227607744,
          0.06388072888977847,
          -1.3184569415598153,
          -2.541861667827638,
          -2.5376763568320175,
          -2.252643125767723,
          -1.6024034415276167,
          -2.5931150258676157,
          -2.996629413495261,
          -2.536901929290582,
          -2.810578326123227
         ],
         "yaxis": "y"
        },
        {
         "hovertemplate": "variable=XLP<br>Date=%{x}<br>value=%{y}<extra></extra>",
         "legendgroup": "XLP",
         "line": {
          "color": "#FFA15A",
          "dash": "solid"
         },
         "marker": {
          "symbol": "circle"
         },
         "mode": "lines",
         "name": "XLP",
         "orientation": "v",
         "showlegend": true,
         "type": "scatter",
         "x": [
          "2022-11-15T00:00:00",
          "2022-11-16T00:00:00",
          "2022-11-17T00:00:00",
          "2022-11-18T00:00:00",
          "2022-11-21T00:00:00",
          "2022-11-22T00:00:00",
          "2022-11-23T00:00:00",
          "2022-11-25T00:00:00",
          "2022-11-28T00:00:00",
          "2022-11-29T00:00:00",
          "2022-11-30T00:00:00",
          "2022-12-01T00:00:00",
          "2022-12-02T00:00:00",
          "2022-12-05T00:00:00",
          "2022-12-06T00:00:00",
          "2022-12-07T00:00:00",
          "2022-12-08T00:00:00",
          "2022-12-09T00:00:00",
          "2022-12-12T00:00:00",
          "2022-12-13T00:00:00",
          "2022-12-14T00:00:00",
          "2022-12-15T00:00:00",
          "2022-12-16T00:00:00",
          "2022-12-19T00:00:00",
          "2022-12-20T00:00:00",
          "2022-12-21T00:00:00",
          "2022-12-22T00:00:00",
          "2022-12-23T00:00:00",
          "2022-12-27T00:00:00",
          "2022-12-28T00:00:00",
          "2022-12-29T00:00:00",
          "2022-12-30T00:00:00",
          "2023-01-03T00:00:00",
          "2023-01-04T00:00:00",
          "2023-01-05T00:00:00",
          "2023-01-06T00:00:00",
          "2023-01-09T00:00:00",
          "2023-01-10T00:00:00",
          "2023-01-11T00:00:00",
          "2023-01-12T00:00:00",
          "2023-01-13T00:00:00",
          "2023-01-17T00:00:00",
          "2023-01-18T00:00:00",
          "2023-01-19T00:00:00",
          "2023-01-20T00:00:00",
          "2023-01-23T00:00:00",
          "2023-01-24T00:00:00",
          "2023-01-25T00:00:00",
          "2023-01-26T00:00:00",
          "2023-01-27T00:00:00",
          "2023-01-30T00:00:00",
          "2023-01-31T00:00:00",
          "2023-02-01T00:00:00",
          "2023-02-02T00:00:00",
          "2023-02-03T00:00:00",
          "2023-02-06T00:00:00",
          "2023-02-07T00:00:00",
          "2023-02-08T00:00:00",
          "2023-02-09T00:00:00",
          "2023-02-10T00:00:00",
          "2023-02-13T00:00:00",
          "2023-02-14T00:00:00",
          "2023-02-15T00:00:00",
          "2023-02-16T00:00:00",
          "2023-02-17T00:00:00",
          "2023-02-21T00:00:00",
          "2023-02-22T00:00:00",
          "2023-02-23T00:00:00",
          "2023-02-24T00:00:00",
          "2023-02-27T00:00:00",
          "2023-02-28T00:00:00",
          "2023-03-01T00:00:00",
          "2023-03-02T00:00:00",
          "2023-03-03T00:00:00",
          "2023-03-06T00:00:00",
          "2023-03-07T00:00:00",
          "2023-03-08T00:00:00",
          "2023-03-09T00:00:00",
          "2023-03-10T00:00:00",
          "2023-03-13T00:00:00",
          "2023-03-14T00:00:00",
          "2023-03-15T00:00:00",
          "2023-03-16T00:00:00",
          "2023-03-17T00:00:00",
          "2023-03-20T00:00:00",
          "2023-03-21T00:00:00",
          "2023-03-22T00:00:00",
          "2023-03-23T00:00:00",
          "2023-03-24T00:00:00",
          "2023-03-27T00:00:00",
          "2023-03-28T00:00:00",
          "2023-03-29T00:00:00",
          "2023-03-30T00:00:00",
          "2023-03-31T00:00:00",
          "2023-04-03T00:00:00",
          "2023-04-04T00:00:00",
          "2023-04-05T00:00:00",
          "2023-04-06T00:00:00",
          "2023-04-10T00:00:00",
          "2023-04-11T00:00:00"
         ],
         "xaxis": "x",
         "y": [
          -0.27906399808391213,
          -0.546456051344112,
          -0.18807847364625224,
          -0.4268994763070329,
          -2.1845258328538857,
          -2.4906976644281915,
          -2.9960019708478525,
          -2.924256475743469,
          -2.49420036725335,
          -2.566144161258523,
          -3.4705170698330217,
          -3.334595009129554,
          -4.349428179598531,
          -3.716845156461515,
          -4.291320931468688,
          -3.988106750806281,
          -5.0945060900322385,
          -5.687788935743453,
          -5.451112992394612,
          -4.740293332383718,
          -5.012466029443699,
          -4.855413387824042,
          -5.468679581230761,
          -5.257793034993619,
          -4.833140971945773,
          -5.0307036075517,
          -4.21341214742396,
          -5.595057820732272,
          -5.3260653837518,
          -3.9831110431315575,
          -4.448435740057363,
          -5.030163807698732,
          -4.1178285949291595,
          -3.507234295734354,
          -2.2930956939380582,
          -3.097149785516435,
          -2.5390833790145173,
          -1.5140534926608535,
          -1.8431345122627412,
          -1.595017347198371,
          -2.8205415579081956,
          -3.0422951656753185,
          -0.91113549078731,
          -0.05498086531139116,
          -0.2769991244390812,
          -0.941281172040629,
          -0.049859310974948015,
          -0.22472676041279407,
          -0.4439754642956209,
          0.11365890705716039,
          0.29584703039485793,
          -0.2527501800045229,
          -0.1215958559099,
          0.773008578484617,
          1.32713284719171,
          1.4362314182346698,
          1.6709883623886075,
          1.8485320051647716,
          1.8759088510155824,
          2.4933101658812795,
          1.6696265967303932,
          2.3276607694767484,
          1.6464422741587648,
          1.6971540509613854,
          1.237365061199104,
          1.6940093793003308,
          1.3962533268060664,
          2.009481878389165,
          2.2617790455698876,
          2.2839285849831983,
          1.9020277125894205,
          2.0201321790801137,
          1.249972004469294,
          1.1673220555241155,
          1.5559556915542165,
          1.9213117896839518,
          2.1058586863608406,
          2.789283078640358,
          2.456440553299273,
          2.414878725805674,
          1.6898549941593637,
          1.1661781647506004,
          1.3309187394060007,
          1.198107295561475,
          1.985298565326376,
          1.5159336081400345,
          1.9307602015574938,
          2.1686395030070384,
          0.778386671146705,
          0.7436288331091154,
          0.6844713927704994,
          -1.2724642259673749,
          -2.0940014546574512,
          -2.112853894729423,
          -2.2388242578640005,
          -1.8465970901649245,
          -1.9831961259570023,
          -2.271934336626985,
          -2.4653010215910705,
          -2.57273049761503
         ],
         "yaxis": "y"
        },
        {
         "hovertemplate": "variable=SO<br>Date=%{x}<br>value=%{y}<extra></extra>",
         "legendgroup": "SO",
         "line": {
          "color": "#19d3f3",
          "dash": "solid"
         },
         "marker": {
          "symbol": "circle"
         },
         "mode": "lines",
         "name": "SO",
         "orientation": "v",
         "showlegend": true,
         "type": "scatter",
         "x": [
          "2022-11-15T00:00:00",
          "2022-11-16T00:00:00",
          "2022-11-17T00:00:00",
          "2022-11-18T00:00:00",
          "2022-11-21T00:00:00",
          "2022-11-22T00:00:00",
          "2022-11-23T00:00:00",
          "2022-11-25T00:00:00",
          "2022-11-28T00:00:00",
          "2022-11-29T00:00:00",
          "2022-11-30T00:00:00",
          "2022-12-01T00:00:00",
          "2022-12-02T00:00:00",
          "2022-12-05T00:00:00",
          "2022-12-06T00:00:00",
          "2022-12-07T00:00:00",
          "2022-12-08T00:00:00",
          "2022-12-09T00:00:00",
          "2022-12-12T00:00:00",
          "2022-12-13T00:00:00",
          "2022-12-14T00:00:00",
          "2022-12-15T00:00:00",
          "2022-12-16T00:00:00",
          "2022-12-19T00:00:00",
          "2022-12-20T00:00:00",
          "2022-12-21T00:00:00",
          "2022-12-22T00:00:00",
          "2022-12-23T00:00:00",
          "2022-12-27T00:00:00",
          "2022-12-28T00:00:00",
          "2022-12-29T00:00:00",
          "2022-12-30T00:00:00",
          "2023-01-03T00:00:00",
          "2023-01-04T00:00:00",
          "2023-01-05T00:00:00",
          "2023-01-06T00:00:00",
          "2023-01-09T00:00:00",
          "2023-01-10T00:00:00",
          "2023-01-11T00:00:00",
          "2023-01-12T00:00:00",
          "2023-01-13T00:00:00",
          "2023-01-17T00:00:00",
          "2023-01-18T00:00:00",
          "2023-01-19T00:00:00",
          "2023-01-20T00:00:00",
          "2023-01-23T00:00:00",
          "2023-01-24T00:00:00",
          "2023-01-25T00:00:00",
          "2023-01-26T00:00:00",
          "2023-01-27T00:00:00",
          "2023-01-30T00:00:00",
          "2023-01-31T00:00:00",
          "2023-02-01T00:00:00",
          "2023-02-02T00:00:00",
          "2023-02-03T00:00:00",
          "2023-02-06T00:00:00",
          "2023-02-07T00:00:00",
          "2023-02-08T00:00:00",
          "2023-02-09T00:00:00",
          "2023-02-10T00:00:00",
          "2023-02-13T00:00:00",
          "2023-02-14T00:00:00",
          "2023-02-15T00:00:00",
          "2023-02-16T00:00:00",
          "2023-02-17T00:00:00",
          "2023-02-21T00:00:00",
          "2023-02-22T00:00:00",
          "2023-02-23T00:00:00",
          "2023-02-24T00:00:00",
          "2023-02-27T00:00:00",
          "2023-02-28T00:00:00",
          "2023-03-01T00:00:00",
          "2023-03-02T00:00:00",
          "2023-03-03T00:00:00",
          "2023-03-06T00:00:00",
          "2023-03-07T00:00:00",
          "2023-03-08T00:00:00",
          "2023-03-09T00:00:00",
          "2023-03-10T00:00:00",
          "2023-03-13T00:00:00",
          "2023-03-14T00:00:00",
          "2023-03-15T00:00:00",
          "2023-03-16T00:00:00",
          "2023-03-17T00:00:00",
          "2023-03-20T00:00:00",
          "2023-03-21T00:00:00",
          "2023-03-22T00:00:00",
          "2023-03-23T00:00:00",
          "2023-03-24T00:00:00",
          "2023-03-27T00:00:00",
          "2023-03-28T00:00:00",
          "2023-03-29T00:00:00",
          "2023-03-30T00:00:00",
          "2023-03-31T00:00:00",
          "2023-04-03T00:00:00",
          "2023-04-04T00:00:00",
          "2023-04-05T00:00:00",
          "2023-04-06T00:00:00",
          "2023-04-10T00:00:00",
          "2023-04-11T00:00:00"
         ],
         "xaxis": "x",
         "y": [
          4.121457156612593,
          4.054460149717098,
          4.344009117201206,
          4.044901344463237,
          3.5628180048138582,
          3.8337482435115153,
          3.1996544600258745,
          3.0040338695130564,
          3.621514776398489,
          3.3878515786468304,
          2.412841988866711,
          2.3338481472282884,
          2.1914549049538508,
          1.6300990569383826,
          0.8463509235277242,
          1.101285608864384,
          -0.010040408577655459,
          -0.41690272150253405,
          -0.7479874317860526,
          -0.46070169617801404,
          -1.199715988338744,
          -2.32956034719595,
          -2.7363061193361435,
          -2.554354861301276,
          -2.9868087903916427,
          -4.945771372261238,
          -3.828132909990475,
          -4.65079824908419,
          -4.4921500029224655,
          -3.5600344728138325,
          -4.272534511240865,
          -4.6371280300086495,
          -4.339755010404899,
          -4.603579840887072,
          -2.6879981190430637,
          -3.315683370100521,
          -3.5207307214445005,
          -2.725413127677141,
          -3.457938024146183,
          -2.750354519109924,
          -3.1655884261133016,
          -2.994877480006118,
          -1.6638484421002366,
          -1.855207299130913,
          -1.8790758722111343,
          -2.020913859084574,
          -0.853506673239227,
          -1.4679187594966903,
          -1.90697604589807,
          -1.4608425256213668,
          -1.1896354279804235,
          -1.8359579745040244,
          -1.7325764139178228,
          -1.5165731302348384,
          -0.6732161536666124,
          -0.7784527537542683,
          -0.4174611789601035,
          -0.3097541972260295,
          -0.025278334700407554,
          0.3859039114297993,
          0.298979673413255,
          0.3512021512331525,
          0.36066524428785435,
          1.3160851518964631,
          0.5721789921090883,
          1.171895835693231,
          1.174093778980024,
          2.859547072213888,
          3.0397347014240936,
          3.0906118661443767,
          3.3605712187080403,
          3.315305225127935,
          2.290803824291008,
          1.9453035350558714,
          2.3562219970621157,
          2.7886048486579718,
          3.0592991688892974,
          3.3967730685585864,
          3.4217378515387997,
          3.002720509163254,
          2.138873392085472,
          1.6138939546258368,
          1.6638100823643458,
          0.867345077348754,
          1.154151413937087,
          1.749746193076124,
          1.774989636240037,
          2.161108275714261,
          0.47670537801043505,
          0.6298578091913717,
          0.4375912816576053,
          -1.1860804731201111,
          -1.7581865375690255,
          -1.6693323864977532,
          -1.481528816335047,
          -1.9114784566789462,
          -2.493195970584078,
          -2.747246188988995,
          -2.357977974829771,
          -2.5673175446636147
         ],
         "yaxis": "y"
        },
        {
         "hovertemplate": "variable=HUM<br>Date=%{x}<br>value=%{y}<extra></extra>",
         "legendgroup": "HUM",
         "line": {
          "color": "#FF6692",
          "dash": "solid"
         },
         "marker": {
          "symbol": "circle"
         },
         "mode": "lines",
         "name": "HUM",
         "orientation": "v",
         "showlegend": true,
         "type": "scatter",
         "x": [
          "2022-11-15T00:00:00",
          "2022-11-16T00:00:00",
          "2022-11-17T00:00:00",
          "2022-11-18T00:00:00",
          "2022-11-21T00:00:00",
          "2022-11-22T00:00:00",
          "2022-11-23T00:00:00",
          "2022-11-25T00:00:00",
          "2022-11-28T00:00:00",
          "2022-11-29T00:00:00",
          "2022-11-30T00:00:00",
          "2022-12-01T00:00:00",
          "2022-12-02T00:00:00",
          "2022-12-05T00:00:00",
          "2022-12-06T00:00:00",
          "2022-12-07T00:00:00",
          "2022-12-08T00:00:00",
          "2022-12-09T00:00:00",
          "2022-12-12T00:00:00",
          "2022-12-13T00:00:00",
          "2022-12-14T00:00:00",
          "2022-12-15T00:00:00",
          "2022-12-16T00:00:00",
          "2022-12-19T00:00:00",
          "2022-12-20T00:00:00",
          "2022-12-21T00:00:00",
          "2022-12-22T00:00:00",
          "2022-12-23T00:00:00",
          "2022-12-27T00:00:00",
          "2022-12-28T00:00:00",
          "2022-12-29T00:00:00",
          "2022-12-30T00:00:00",
          "2023-01-03T00:00:00",
          "2023-01-04T00:00:00",
          "2023-01-05T00:00:00",
          "2023-01-06T00:00:00",
          "2023-01-09T00:00:00",
          "2023-01-10T00:00:00",
          "2023-01-11T00:00:00",
          "2023-01-12T00:00:00",
          "2023-01-13T00:00:00",
          "2023-01-17T00:00:00",
          "2023-01-18T00:00:00",
          "2023-01-19T00:00:00",
          "2023-01-20T00:00:00",
          "2023-01-23T00:00:00",
          "2023-01-24T00:00:00",
          "2023-01-25T00:00:00",
          "2023-01-26T00:00:00",
          "2023-01-27T00:00:00",
          "2023-01-30T00:00:00",
          "2023-01-31T00:00:00",
          "2023-02-01T00:00:00",
          "2023-02-02T00:00:00",
          "2023-02-03T00:00:00",
          "2023-02-06T00:00:00",
          "2023-02-07T00:00:00",
          "2023-02-08T00:00:00",
          "2023-02-09T00:00:00",
          "2023-02-10T00:00:00",
          "2023-02-13T00:00:00",
          "2023-02-14T00:00:00",
          "2023-02-15T00:00:00",
          "2023-02-16T00:00:00",
          "2023-02-17T00:00:00",
          "2023-02-21T00:00:00",
          "2023-02-22T00:00:00",
          "2023-02-23T00:00:00",
          "2023-02-24T00:00:00",
          "2023-02-27T00:00:00",
          "2023-02-28T00:00:00",
          "2023-03-01T00:00:00",
          "2023-03-02T00:00:00",
          "2023-03-03T00:00:00",
          "2023-03-06T00:00:00",
          "2023-03-07T00:00:00",
          "2023-03-08T00:00:00",
          "2023-03-09T00:00:00",
          "2023-03-10T00:00:00",
          "2023-03-13T00:00:00",
          "2023-03-14T00:00:00",
          "2023-03-15T00:00:00",
          "2023-03-16T00:00:00",
          "2023-03-17T00:00:00",
          "2023-03-20T00:00:00",
          "2023-03-21T00:00:00",
          "2023-03-22T00:00:00",
          "2023-03-23T00:00:00",
          "2023-03-24T00:00:00",
          "2023-03-27T00:00:00",
          "2023-03-28T00:00:00",
          "2023-03-29T00:00:00",
          "2023-03-30T00:00:00",
          "2023-03-31T00:00:00",
          "2023-04-03T00:00:00",
          "2023-04-04T00:00:00",
          "2023-04-05T00:00:00",
          "2023-04-06T00:00:00",
          "2023-04-10T00:00:00",
          "2023-04-11T00:00:00"
         ],
         "xaxis": "x",
         "y": [
          -1.518395633208129,
          -1.5049524834038916,
          -2.048830724587563,
          -2.10753413196861,
          -2.951472536834371,
          -3.8531347491136017,
          -2.5765617404898777,
          -2.569967264863976,
          -2.0591665202995335,
          -1.8721982756097852,
          -3.6847558499120443,
          -3.3664481156135215,
          -3.794091886764821,
          -4.162629996691337,
          -3.76740053689093,
          -3.509781199143586,
          -3.534095432114877,
          -2.9794337490496825,
          -1.8912424991107633,
          -1.178045229228101,
          -1.024000409836025,
          -0.548531391244527,
          -0.004159852497176697,
          -0.47316537161392175,
          -0.19505423338039113,
          -0.8450927020522679,
          -0.7384319039744631,
          -0.8402013661930209,
          -0.9409808041619115,
          -0.8189360123119077,
          -0.8302351235781886,
          -0.45679497418136267,
          0.5395569670562892,
          1.6729252885873116,
          2.3308007530253354,
          2.6111414961232238,
          3.4583825852278074,
          4.0557180475884085,
          3.4720958980702292,
          3.227994985482285,
          3.6518093879466464,
          3.8764355501506094,
          3.702396486222523,
          3.4187799368954037,
          3.2297368451010855,
          3.1748038845165456,
          3.0834887682069625,
          1.6986564161936037,
          1.9806098693021301,
          2.0591185114729953,
          2.1452978123304782,
          0.4433037679392928,
          0.9005466320264978,
          1.8196839616981841,
          2.725439517191084,
          2.556217479953741,
          2.9315014441049647,
          1.918626638582565,
          1.9775620900844575,
          2.468940137366061,
          2.231831790470795,
          2.173131450610985,
          2.3653259652358964,
          1.936080886100126,
          1.8434025640377234,
          2.0785298176477625,
          1.466280173347867,
          0.9357280011858302,
          0.7628999310222059,
          0.7324107668387089,
          0.6716544976603388,
          0.3556749642643964,
          0.4460191811150516,
          0.040053780217883354,
          0.44268261094279643,
          0.8306200143387018,
          1.2589600956383658,
          1.4358901612124821,
          1.8224643406587526,
          1.6069969592195377,
          1.5839862403879916,
          0.9076636478217779,
          -0.1245503620384358,
          -0.41958398155989574,
          -0.10243736779525811,
          -1.1001583450080832,
          -0.9601688507540014,
          0.09367939749139115,
          -0.4520171973603678,
          -0.8720243049341848,
          0.3627603261844084,
          -0.05225299582112365,
          0.1278254961947937,
          0.5627734378315912,
          -0.7953376451518319,
          -0.18294295307945058,
          -0.690372281303344,
          -1.0011058661228833,
          -2.1943764798218535,
          -2.4617717730720896
         ],
         "yaxis": "y"
        },
        {
         "hovertemplate": "variable=FXI<br>Date=%{x}<br>value=%{y}<extra></extra>",
         "legendgroup": "FXI",
         "line": {
          "color": "#B6E880",
          "dash": "solid"
         },
         "marker": {
          "symbol": "circle"
         },
         "mode": "lines",
         "name": "FXI",
         "orientation": "v",
         "showlegend": true,
         "type": "scatter",
         "x": [
          "2022-11-15T00:00:00",
          "2022-11-16T00:00:00",
          "2022-11-17T00:00:00",
          "2022-11-18T00:00:00",
          "2022-11-21T00:00:00",
          "2022-11-22T00:00:00",
          "2022-11-23T00:00:00",
          "2022-11-25T00:00:00",
          "2022-11-28T00:00:00",
          "2022-11-29T00:00:00",
          "2022-11-30T00:00:00",
          "2022-12-01T00:00:00",
          "2022-12-02T00:00:00",
          "2022-12-05T00:00:00",
          "2022-12-06T00:00:00",
          "2022-12-07T00:00:00",
          "2022-12-08T00:00:00",
          "2022-12-09T00:00:00",
          "2022-12-12T00:00:00",
          "2022-12-13T00:00:00",
          "2022-12-14T00:00:00",
          "2022-12-15T00:00:00",
          "2022-12-16T00:00:00",
          "2022-12-19T00:00:00",
          "2022-12-20T00:00:00",
          "2022-12-21T00:00:00",
          "2022-12-22T00:00:00",
          "2022-12-23T00:00:00",
          "2022-12-27T00:00:00",
          "2022-12-28T00:00:00",
          "2022-12-29T00:00:00",
          "2022-12-30T00:00:00",
          "2023-01-03T00:00:00",
          "2023-01-04T00:00:00",
          "2023-01-05T00:00:00",
          "2023-01-06T00:00:00",
          "2023-01-09T00:00:00",
          "2023-01-10T00:00:00",
          "2023-01-11T00:00:00",
          "2023-01-12T00:00:00",
          "2023-01-13T00:00:00",
          "2023-01-17T00:00:00",
          "2023-01-18T00:00:00",
          "2023-01-19T00:00:00",
          "2023-01-20T00:00:00",
          "2023-01-23T00:00:00",
          "2023-01-24T00:00:00",
          "2023-01-25T00:00:00",
          "2023-01-26T00:00:00",
          "2023-01-27T00:00:00",
          "2023-01-30T00:00:00",
          "2023-01-31T00:00:00",
          "2023-02-01T00:00:00",
          "2023-02-02T00:00:00",
          "2023-02-03T00:00:00",
          "2023-02-06T00:00:00",
          "2023-02-07T00:00:00",
          "2023-02-08T00:00:00",
          "2023-02-09T00:00:00",
          "2023-02-10T00:00:00",
          "2023-02-13T00:00:00",
          "2023-02-14T00:00:00",
          "2023-02-15T00:00:00",
          "2023-02-16T00:00:00",
          "2023-02-17T00:00:00",
          "2023-02-21T00:00:00",
          "2023-02-22T00:00:00",
          "2023-02-23T00:00:00",
          "2023-02-24T00:00:00",
          "2023-02-27T00:00:00",
          "2023-02-28T00:00:00",
          "2023-03-01T00:00:00",
          "2023-03-02T00:00:00",
          "2023-03-03T00:00:00",
          "2023-03-06T00:00:00",
          "2023-03-07T00:00:00",
          "2023-03-08T00:00:00",
          "2023-03-09T00:00:00",
          "2023-03-10T00:00:00",
          "2023-03-13T00:00:00",
          "2023-03-14T00:00:00",
          "2023-03-15T00:00:00",
          "2023-03-16T00:00:00",
          "2023-03-17T00:00:00",
          "2023-03-20T00:00:00",
          "2023-03-21T00:00:00",
          "2023-03-22T00:00:00",
          "2023-03-23T00:00:00",
          "2023-03-24T00:00:00",
          "2023-03-27T00:00:00",
          "2023-03-28T00:00:00",
          "2023-03-29T00:00:00",
          "2023-03-30T00:00:00",
          "2023-03-31T00:00:00",
          "2023-04-03T00:00:00",
          "2023-04-04T00:00:00",
          "2023-04-05T00:00:00",
          "2023-04-06T00:00:00",
          "2023-04-10T00:00:00",
          "2023-04-11T00:00:00"
         ],
         "xaxis": "x",
         "y": [
          -1.068791747790161,
          -1.1958538554629168,
          -1.2124556784153737,
          -1.7827251523059948,
          -1.452500411146018,
          -1.5947141628172017,
          -1.369444349660432,
          -1.3948425883613427,
          -1.3259433385480388,
          -0.5218217891818535,
          0.5325997146224236,
          0.39968129626321375,
          1.0046778080923278,
          0.8686521336987192,
          1.1912501510442823,
          0.7028226435418347,
          1.6870924602880426,
          1.6603385676188267,
          1.4098172554992816,
          1.0095242242539784,
          0.993862892068921,
          0.7451040008306176,
          1.1533430390689896,
          1.5561822159735519,
          1.766200069182855,
          2.3122912982632955,
          2.3545396904232736,
          2.4974766500714214,
          2.738782039788059,
          2.28632250362068,
          3.565400927152407,
          3.0252910418489276,
          3.494302918898942,
          7.39139111925094,
          6.916810819255791,
          6.233604396978098,
          6.92191262131677,
          8.005344760651482,
          9.099851227132321,
          7.945338938744085,
          8.177892951269568,
          7.3046188110243,
          5.76474860040071,
          6.090319808612327,
          6.665159051743688,
          8.27891154051886,
          7.0472186117771125,
          6.155438967294187,
          6.341079136989978,
          5.246175369857904,
          4.759458348572701,
          4.0694674998932,
          5.49890869820679,
          5.362466246428567,
          4.915242745099764,
          4.202988908333473,
          4.868649797386109,
          4.286075142309294,
          3.6963656462170933,
          1.957578321475665,
          2.6992354687729616,
          1.8526883522103907,
          1.7391181857159987,
          1.4700532851522992,
          1.5023242781905772,
          0.5319731875115924,
          0.4546117338530653,
          0.5965715158459095,
          -0.34075845111723313,
          -0.1949953697447676,
          0.0776739147311755,
          0.879789308060063,
          1.394645702763246,
          1.7143162719260714,
          0.8631222288189695,
          0.5921986955602296,
          0.48152054543791484,
          -1.266172144222529,
          -0.6136656733456347,
          -1.1339139254344832,
          -0.4650845832125186,
          -1.5902233898689992,
          -2.989237562945331,
          -2.995964558365434,
          -3.075968854481357,
          -2.7172299194548404,
          -2.9538531553717156,
          -2.377703473136973,
          -2.279469864493933,
          -3.071758551649476,
          -1.5511552139772777,
          -1.3177380244006534,
          -1.3897536562581259,
          -2.283270900347291,
          -2.6466930927889027,
          -2.704942522073147,
          -3.0071618943354728,
          -3.0231352378014877,
          -3.0588846874418,
          -2.290798031034529
         ],
         "yaxis": "y"
        },
        {
         "hovertemplate": "variable=EIX<br>Date=%{x}<br>value=%{y}<extra></extra>",
         "legendgroup": "EIX",
         "line": {
          "color": "#FF97FF",
          "dash": "solid"
         },
         "marker": {
          "symbol": "circle"
         },
         "mode": "lines",
         "name": "EIX",
         "orientation": "v",
         "showlegend": true,
         "type": "scatter",
         "x": [
          "2022-11-15T00:00:00",
          "2022-11-16T00:00:00",
          "2022-11-17T00:00:00",
          "2022-11-18T00:00:00",
          "2022-11-21T00:00:00",
          "2022-11-22T00:00:00",
          "2022-11-23T00:00:00",
          "2022-11-25T00:00:00",
          "2022-11-28T00:00:00",
          "2022-11-29T00:00:00",
          "2022-11-30T00:00:00",
          "2022-12-01T00:00:00",
          "2022-12-02T00:00:00",
          "2022-12-05T00:00:00",
          "2022-12-06T00:00:00",
          "2022-12-07T00:00:00",
          "2022-12-08T00:00:00",
          "2022-12-09T00:00:00",
          "2022-12-12T00:00:00",
          "2022-12-13T00:00:00",
          "2022-12-14T00:00:00",
          "2022-12-15T00:00:00",
          "2022-12-16T00:00:00",
          "2022-12-19T00:00:00",
          "2022-12-20T00:00:00",
          "2022-12-21T00:00:00",
          "2022-12-22T00:00:00",
          "2022-12-23T00:00:00",
          "2022-12-27T00:00:00",
          "2022-12-28T00:00:00",
          "2022-12-29T00:00:00",
          "2022-12-30T00:00:00",
          "2023-01-03T00:00:00",
          "2023-01-04T00:00:00",
          "2023-01-05T00:00:00",
          "2023-01-06T00:00:00",
          "2023-01-09T00:00:00",
          "2023-01-10T00:00:00",
          "2023-01-11T00:00:00",
          "2023-01-12T00:00:00",
          "2023-01-13T00:00:00",
          "2023-01-17T00:00:00",
          "2023-01-18T00:00:00",
          "2023-01-19T00:00:00",
          "2023-01-20T00:00:00",
          "2023-01-23T00:00:00",
          "2023-01-24T00:00:00",
          "2023-01-25T00:00:00",
          "2023-01-26T00:00:00",
          "2023-01-27T00:00:00",
          "2023-01-30T00:00:00",
          "2023-01-31T00:00:00",
          "2023-02-01T00:00:00",
          "2023-02-02T00:00:00",
          "2023-02-03T00:00:00",
          "2023-02-06T00:00:00",
          "2023-02-07T00:00:00",
          "2023-02-08T00:00:00",
          "2023-02-09T00:00:00",
          "2023-02-10T00:00:00",
          "2023-02-13T00:00:00",
          "2023-02-14T00:00:00",
          "2023-02-15T00:00:00",
          "2023-02-16T00:00:00",
          "2023-02-17T00:00:00",
          "2023-02-21T00:00:00",
          "2023-02-22T00:00:00",
          "2023-02-23T00:00:00",
          "2023-02-24T00:00:00",
          "2023-02-27T00:00:00",
          "2023-02-28T00:00:00",
          "2023-03-01T00:00:00",
          "2023-03-02T00:00:00",
          "2023-03-03T00:00:00",
          "2023-03-06T00:00:00",
          "2023-03-07T00:00:00",
          "2023-03-08T00:00:00",
          "2023-03-09T00:00:00",
          "2023-03-10T00:00:00",
          "2023-03-13T00:00:00",
          "2023-03-14T00:00:00",
          "2023-03-15T00:00:00",
          "2023-03-16T00:00:00",
          "2023-03-17T00:00:00",
          "2023-03-20T00:00:00",
          "2023-03-21T00:00:00",
          "2023-03-22T00:00:00",
          "2023-03-23T00:00:00",
          "2023-03-24T00:00:00",
          "2023-03-27T00:00:00",
          "2023-03-28T00:00:00",
          "2023-03-29T00:00:00",
          "2023-03-30T00:00:00",
          "2023-03-31T00:00:00",
          "2023-04-03T00:00:00",
          "2023-04-04T00:00:00",
          "2023-04-05T00:00:00",
          "2023-04-06T00:00:00",
          "2023-04-10T00:00:00",
          "2023-04-11T00:00:00"
         ],
         "xaxis": "x",
         "y": [
          1.9566817344232492,
          1.9830498132438015,
          2.470535221892003,
          2.426531009658251,
          1.8262143923921597,
          1.8448027644026497,
          1.1292984237191541,
          0.7597697792252105,
          1.2517989838576815,
          1.0328766409614907,
          -0.35754150110313804,
          -0.13985849450390664,
          -0.37805379126340605,
          -0.8410316255656833,
          -1.7613457427175665,
          -1.5643101626220963,
          -2.9475921228475426,
          -3.4995150668096664,
          -3.0247745966613113,
          -2.6232732835823467,
          -2.8657609676072755,
          -3.177642866555528,
          -2.495125350931618,
          -2.79182851095067,
          -2.9432345078116695,
          -4.114466425986113,
          -3.183466324449481,
          -4.572787844816706,
          -3.9203896553423974,
          -3.3813915460972135,
          -3.8096227966812215,
          -4.571836824564373,
          -4.505304564953916,
          -5.293314314496794,
          -3.9474092317897287,
          -4.71755439990865,
          -4.412024890229819,
          -3.77476879698608,
          -4.37499280931212,
          -3.6877260143906607,
          -4.6106536401704465,
          -5.016127474041532,
          -3.710055025145147,
          -3.8878297925428478,
          -4.208054253013608,
          -4.7490878159251215,
          -3.8904357760589137,
          -3.9849566693367833,
          -4.343164849881672,
          -4.129677068954629,
          -3.6391011294093247,
          -4.7190913786239905,
          -3.288131308878157,
          -3.560781079558232,
          -2.344788028236132,
          -2.1617591816252926,
          -1.6984344999622494,
          -1.8807241570081432,
          -1.3548516988878065,
          -0.5173679576105552,
          -1.5519455413757521,
          -1.3926569170289984,
          -1.5951562497692946,
          -0.9289390598448678,
          -1.4321624825290755,
          -0.9822216814493041,
          -0.5493015517971288,
          0.3792502844307107,
          -0.6692786552418502,
          -0.546366319660682,
          -0.10248399307321478,
          -0.10128102127492247,
          -0.5922280196069698,
          -1.35292655927929,
          -1.6655992734460352,
          -1.5412183077093673,
          -1.6172995293531915,
          -0.7920107504872801,
          -0.8109741547964694,
          -1.2298686495407958,
          -1.950724104859823,
          -1.5880020492910265,
          -1.0712389364647155,
          -1.224817902564384,
          -0.902542553142545,
          -0.0083097511807757,
          0.7665916923355,
          1.36520325055782,
          0.02749076388261285,
          -0.13012120534470917,
          0,
          -1.241928312662737,
          -2.146175658490273,
          -1.9320724981738702,
          -1.777750906029517,
          -1.3323533425544192,
          -2.2253702705540013,
          -1.992248871925274,
          -1.9475659269629826,
          -2.203007516128115
         ],
         "yaxis": "y"
        },
        {
         "hovertemplate": "variable=XLC<br>Date=%{x}<br>value=%{y}<extra></extra>",
         "legendgroup": "XLC",
         "line": {
          "color": "#FECB52",
          "dash": "solid"
         },
         "marker": {
          "symbol": "circle"
         },
         "mode": "lines",
         "name": "XLC",
         "orientation": "v",
         "showlegend": true,
         "type": "scatter",
         "x": [
          "2022-11-15T00:00:00",
          "2022-11-16T00:00:00",
          "2022-11-17T00:00:00",
          "2022-11-18T00:00:00",
          "2022-11-21T00:00:00",
          "2022-11-22T00:00:00",
          "2022-11-23T00:00:00",
          "2022-11-25T00:00:00",
          "2022-11-28T00:00:00",
          "2022-11-29T00:00:00",
          "2022-11-30T00:00:00",
          "2022-12-01T00:00:00",
          "2022-12-02T00:00:00",
          "2022-12-05T00:00:00",
          "2022-12-06T00:00:00",
          "2022-12-07T00:00:00",
          "2022-12-08T00:00:00",
          "2022-12-09T00:00:00",
          "2022-12-12T00:00:00",
          "2022-12-13T00:00:00",
          "2022-12-14T00:00:00",
          "2022-12-15T00:00:00",
          "2022-12-16T00:00:00",
          "2022-12-19T00:00:00",
          "2022-12-20T00:00:00",
          "2022-12-21T00:00:00",
          "2022-12-22T00:00:00",
          "2022-12-23T00:00:00",
          "2022-12-27T00:00:00",
          "2022-12-28T00:00:00",
          "2022-12-29T00:00:00",
          "2022-12-30T00:00:00",
          "2023-01-03T00:00:00",
          "2023-01-04T00:00:00",
          "2023-01-05T00:00:00",
          "2023-01-06T00:00:00",
          "2023-01-09T00:00:00",
          "2023-01-10T00:00:00",
          "2023-01-11T00:00:00",
          "2023-01-12T00:00:00",
          "2023-01-13T00:00:00",
          "2023-01-17T00:00:00",
          "2023-01-18T00:00:00",
          "2023-01-19T00:00:00",
          "2023-01-20T00:00:00",
          "2023-01-23T00:00:00",
          "2023-01-24T00:00:00",
          "2023-01-25T00:00:00",
          "2023-01-26T00:00:00",
          "2023-01-27T00:00:00",
          "2023-01-30T00:00:00",
          "2023-01-31T00:00:00",
          "2023-02-01T00:00:00",
          "2023-02-02T00:00:00",
          "2023-02-03T00:00:00",
          "2023-02-06T00:00:00",
          "2023-02-07T00:00:00",
          "2023-02-08T00:00:00",
          "2023-02-09T00:00:00",
          "2023-02-10T00:00:00",
          "2023-02-13T00:00:00",
          "2023-02-14T00:00:00",
          "2023-02-15T00:00:00",
          "2023-02-16T00:00:00",
          "2023-02-17T00:00:00",
          "2023-02-21T00:00:00",
          "2023-02-22T00:00:00",
          "2023-02-23T00:00:00",
          "2023-02-24T00:00:00",
          "2023-02-27T00:00:00",
          "2023-02-28T00:00:00",
          "2023-03-01T00:00:00",
          "2023-03-02T00:00:00",
          "2023-03-03T00:00:00",
          "2023-03-06T00:00:00",
          "2023-03-07T00:00:00",
          "2023-03-08T00:00:00",
          "2023-03-09T00:00:00",
          "2023-03-10T00:00:00",
          "2023-03-13T00:00:00",
          "2023-03-14T00:00:00",
          "2023-03-15T00:00:00",
          "2023-03-16T00:00:00",
          "2023-03-17T00:00:00",
          "2023-03-20T00:00:00",
          "2023-03-21T00:00:00",
          "2023-03-22T00:00:00",
          "2023-03-23T00:00:00",
          "2023-03-24T00:00:00",
          "2023-03-27T00:00:00",
          "2023-03-28T00:00:00",
          "2023-03-29T00:00:00",
          "2023-03-30T00:00:00",
          "2023-03-31T00:00:00",
          "2023-04-03T00:00:00",
          "2023-04-04T00:00:00",
          "2023-04-05T00:00:00",
          "2023-04-06T00:00:00",
          "2023-04-10T00:00:00",
          "2023-04-11T00:00:00"
         ],
         "xaxis": "x",
         "y": [
          1.3273110269201105,
          1.466452176850139,
          2.148954206807763,
          2.301998452387374,
          1.504454641401045,
          1.2277096725215526,
          0.8722502614369456,
          0.7664878616679858,
          1.214640212988104,
          0.8888902725519411,
          -0.5277348017134047,
          -0.7328458456613524,
          -1.2347138376217996,
          -1.2468230707030097,
          -0.6993268783314085,
          0.12575299485540573,
          -0.3699850250987342,
          -0.7107822244145536,
          -0.27239959328666363,
          0.03135830323376118,
          0.15302269098486013,
          0.8787479399088117,
          0.30958744712645386,
          0.7541984590638142,
          0.20524134261843027,
          -0.10947975992268322,
          0.6033833988648714,
          0.029011924740850164,
          0.8366625715813144,
          1.3125134859957037,
          0.7244914370572793,
          0.7674537662658614,
          0.6268766472027248,
          0.3731714883700415,
          0.9182288886483743,
          -0.14728813832275667,
          -1.4260948513464127,
          -1.1812596684682515,
          -1.8309988562847241,
          -2.30166277176767,
          -3.288575781971103,
          -3.82204463740009,
          -3.229124733769653,
          -2.881725595600768,
          -3.6592819664432255,
          -4.593578356820693,
          -3.1445194323281522,
          -2.4954870900561983,
          -3.1079114872900053,
          -2.8704500616402653,
          -2.655878839051692,
          -3.294927590857535,
          -3.7730326518994617,
          -5.440360746191373,
          -4.305825430117598,
          -3.569295012318122,
          -4.2435835289330255,
          -3.6810039430812,
          -3.0011645620963554,
          -1.7395752406581713,
          -1.9529818675321757,
          -1.8954064902641474,
          -2.5955285116969904,
          -3.048139994793693,
          -3.166896377363999,
          -2.5372238927708075,
          -2.5149519430233167,
          -2.1709038796578173,
          -1.3432496172046395,
          -1.7914816828197662,
          -3.1297282520021477,
          -2.894962956558083,
          -3.9938278454167357,
          -4.405670870194221,
          -4.009838888980545,
          -3.9517593059593517,
          -3.6748063827055195,
          -3.1903212882460776,
          -3.2047517480434093,
          -2.456982795691332,
          -3.2079546269194275,
          -3.149741312842647,
          -3.2435462380143116,
          -2.901114944311571,
          -2.661360461994703,
          -3.198090308651509,
          -2.231098580744315,
          -2.469346582573368,
          -2.3093324829702193,
          -2.0538076664446225,
          -2.0894787080858293,
          -2.8192938661574325,
          -2.8106717041673597,
          -2.52061341562875,
          -2.156896188254102,
          -2.329172805811516,
          -2.130219303452378,
          -2.0505057798966337,
          -1.7890100653991654,
          -2.1978097459836654
         ],
         "yaxis": "y"
        }
       ],
       "layout": {
        "autosize": true,
        "legend": {
         "title": {
          "text": "variable"
         },
         "tracegroupgap": 0
        },
        "shapes": [
         {
          "line": {
           "color": "#000000",
           "dash": "dash",
           "width": 1
          },
          "type": "line",
          "x0": 0,
          "x1": 1,
          "xref": "x domain",
          "y0": 0,
          "y1": 0,
          "yref": "y"
         }
        ],
        "template": {
         "data": {
          "bar": [
           {
            "error_x": {
             "color": "#2a3f5f"
            },
            "error_y": {
             "color": "#2a3f5f"
            },
            "marker": {
             "line": {
              "color": "#E5ECF6",
              "width": 0.5
             },
             "pattern": {
              "fillmode": "overlay",
              "size": 10,
              "solidity": 0.2
             }
            },
            "type": "bar"
           }
          ],
          "barpolar": [
           {
            "marker": {
             "line": {
              "color": "#E5ECF6",
              "width": 0.5
             },
             "pattern": {
              "fillmode": "overlay",
              "size": 10,
              "solidity": 0.2
             }
            },
            "type": "barpolar"
           }
          ],
          "carpet": [
           {
            "aaxis": {
             "endlinecolor": "#2a3f5f",
             "gridcolor": "white",
             "linecolor": "white",
             "minorgridcolor": "white",
             "startlinecolor": "#2a3f5f"
            },
            "baxis": {
             "endlinecolor": "#2a3f5f",
             "gridcolor": "white",
             "linecolor": "white",
             "minorgridcolor": "white",
             "startlinecolor": "#2a3f5f"
            },
            "type": "carpet"
           }
          ],
          "choropleth": [
           {
            "colorbar": {
             "outlinewidth": 0,
             "ticks": ""
            },
            "type": "choropleth"
           }
          ],
          "contour": [
           {
            "colorbar": {
             "outlinewidth": 0,
             "ticks": ""
            },
            "colorscale": [
             [
              0,
              "#0d0887"
             ],
             [
              0.1111111111111111,
              "#46039f"
             ],
             [
              0.2222222222222222,
              "#7201a8"
             ],
             [
              0.3333333333333333,
              "#9c179e"
             ],
             [
              0.4444444444444444,
              "#bd3786"
             ],
             [
              0.5555555555555556,
              "#d8576b"
             ],
             [
              0.6666666666666666,
              "#ed7953"
             ],
             [
              0.7777777777777778,
              "#fb9f3a"
             ],
             [
              0.8888888888888888,
              "#fdca26"
             ],
             [
              1,
              "#f0f921"
             ]
            ],
            "type": "contour"
           }
          ],
          "contourcarpet": [
           {
            "colorbar": {
             "outlinewidth": 0,
             "ticks": ""
            },
            "type": "contourcarpet"
           }
          ],
          "heatmap": [
           {
            "colorbar": {
             "outlinewidth": 0,
             "ticks": ""
            },
            "colorscale": [
             [
              0,
              "#0d0887"
             ],
             [
              0.1111111111111111,
              "#46039f"
             ],
             [
              0.2222222222222222,
              "#7201a8"
             ],
             [
              0.3333333333333333,
              "#9c179e"
             ],
             [
              0.4444444444444444,
              "#bd3786"
             ],
             [
              0.5555555555555556,
              "#d8576b"
             ],
             [
              0.6666666666666666,
              "#ed7953"
             ],
             [
              0.7777777777777778,
              "#fb9f3a"
             ],
             [
              0.8888888888888888,
              "#fdca26"
             ],
             [
              1,
              "#f0f921"
             ]
            ],
            "type": "heatmap"
           }
          ],
          "heatmapgl": [
           {
            "colorbar": {
             "outlinewidth": 0,
             "ticks": ""
            },
            "colorscale": [
             [
              0,
              "#0d0887"
             ],
             [
              0.1111111111111111,
              "#46039f"
             ],
             [
              0.2222222222222222,
              "#7201a8"
             ],
             [
              0.3333333333333333,
              "#9c179e"
             ],
             [
              0.4444444444444444,
              "#bd3786"
             ],
             [
              0.5555555555555556,
              "#d8576b"
             ],
             [
              0.6666666666666666,
              "#ed7953"
             ],
             [
              0.7777777777777778,
              "#fb9f3a"
             ],
             [
              0.8888888888888888,
              "#fdca26"
             ],
             [
              1,
              "#f0f921"
             ]
            ],
            "type": "heatmapgl"
           }
          ],
          "histogram": [
           {
            "marker": {
             "pattern": {
              "fillmode": "overlay",
              "size": 10,
              "solidity": 0.2
             }
            },
            "type": "histogram"
           }
          ],
          "histogram2d": [
           {
            "colorbar": {
             "outlinewidth": 0,
             "ticks": ""
            },
            "colorscale": [
             [
              0,
              "#0d0887"
             ],
             [
              0.1111111111111111,
              "#46039f"
             ],
             [
              0.2222222222222222,
              "#7201a8"
             ],
             [
              0.3333333333333333,
              "#9c179e"
             ],
             [
              0.4444444444444444,
              "#bd3786"
             ],
             [
              0.5555555555555556,
              "#d8576b"
             ],
             [
              0.6666666666666666,
              "#ed7953"
             ],
             [
              0.7777777777777778,
              "#fb9f3a"
             ],
             [
              0.8888888888888888,
              "#fdca26"
             ],
             [
              1,
              "#f0f921"
             ]
            ],
            "type": "histogram2d"
           }
          ],
          "histogram2dcontour": [
           {
            "colorbar": {
             "outlinewidth": 0,
             "ticks": ""
            },
            "colorscale": [
             [
              0,
              "#0d0887"
             ],
             [
              0.1111111111111111,
              "#46039f"
             ],
             [
              0.2222222222222222,
              "#7201a8"
             ],
             [
              0.3333333333333333,
              "#9c179e"
             ],
             [
              0.4444444444444444,
              "#bd3786"
             ],
             [
              0.5555555555555556,
              "#d8576b"
             ],
             [
              0.6666666666666666,
              "#ed7953"
             ],
             [
              0.7777777777777778,
              "#fb9f3a"
             ],
             [
              0.8888888888888888,
              "#fdca26"
             ],
             [
              1,
              "#f0f921"
             ]
            ],
            "type": "histogram2dcontour"
           }
          ],
          "mesh3d": [
           {
            "colorbar": {
             "outlinewidth": 0,
             "ticks": ""
            },
            "type": "mesh3d"
           }
          ],
          "parcoords": [
           {
            "line": {
             "colorbar": {
              "outlinewidth": 0,
              "ticks": ""
             }
            },
            "type": "parcoords"
           }
          ],
          "pie": [
           {
            "automargin": true,
            "type": "pie"
           }
          ],
          "scatter": [
           {
            "marker": {
             "colorbar": {
              "outlinewidth": 0,
              "ticks": ""
             }
            },
            "type": "scatter"
           }
          ],
          "scatter3d": [
           {
            "line": {
             "colorbar": {
              "outlinewidth": 0,
              "ticks": ""
             }
            },
            "marker": {
             "colorbar": {
              "outlinewidth": 0,
              "ticks": ""
             }
            },
            "type": "scatter3d"
           }
          ],
          "scattercarpet": [
           {
            "marker": {
             "colorbar": {
              "outlinewidth": 0,
              "ticks": ""
             }
            },
            "type": "scattercarpet"
           }
          ],
          "scattergeo": [
           {
            "marker": {
             "colorbar": {
              "outlinewidth": 0,
              "ticks": ""
             }
            },
            "type": "scattergeo"
           }
          ],
          "scattergl": [
           {
            "marker": {
             "colorbar": {
              "outlinewidth": 0,
              "ticks": ""
             }
            },
            "type": "scattergl"
           }
          ],
          "scattermapbox": [
           {
            "marker": {
             "colorbar": {
              "outlinewidth": 0,
              "ticks": ""
             }
            },
            "type": "scattermapbox"
           }
          ],
          "scatterpolar": [
           {
            "marker": {
             "colorbar": {
              "outlinewidth": 0,
              "ticks": ""
             }
            },
            "type": "scatterpolar"
           }
          ],
          "scatterpolargl": [
           {
            "marker": {
             "colorbar": {
              "outlinewidth": 0,
              "ticks": ""
             }
            },
            "type": "scatterpolargl"
           }
          ],
          "scatterternary": [
           {
            "marker": {
             "colorbar": {
              "outlinewidth": 0,
              "ticks": ""
             }
            },
            "type": "scatterternary"
           }
          ],
          "surface": [
           {
            "colorbar": {
             "outlinewidth": 0,
             "ticks": ""
            },
            "colorscale": [
             [
              0,
              "#0d0887"
             ],
             [
              0.1111111111111111,
              "#46039f"
             ],
             [
              0.2222222222222222,
              "#7201a8"
             ],
             [
              0.3333333333333333,
              "#9c179e"
             ],
             [
              0.4444444444444444,
              "#bd3786"
             ],
             [
              0.5555555555555556,
              "#d8576b"
             ],
             [
              0.6666666666666666,
              "#ed7953"
             ],
             [
              0.7777777777777778,
              "#fb9f3a"
             ],
             [
              0.8888888888888888,
              "#fdca26"
             ],
             [
              1,
              "#f0f921"
             ]
            ],
            "type": "surface"
           }
          ],
          "table": [
           {
            "cells": {
             "fill": {
              "color": "#EBF0F8"
             },
             "line": {
              "color": "white"
             }
            },
            "header": {
             "fill": {
              "color": "#C8D4E3"
             },
             "line": {
              "color": "white"
             }
            },
            "type": "table"
           }
          ]
         },
         "layout": {
          "annotationdefaults": {
           "arrowcolor": "#2a3f5f",
           "arrowhead": 0,
           "arrowwidth": 1
          },
          "autotypenumbers": "strict",
          "coloraxis": {
           "colorbar": {
            "outlinewidth": 0,
            "ticks": ""
           }
          },
          "colorscale": {
           "diverging": [
            [
             0,
             "#8e0152"
            ],
            [
             0.1,
             "#c51b7d"
            ],
            [
             0.2,
             "#de77ae"
            ],
            [
             0.3,
             "#f1b6da"
            ],
            [
             0.4,
             "#fde0ef"
            ],
            [
             0.5,
             "#f7f7f7"
            ],
            [
             0.6,
             "#e6f5d0"
            ],
            [
             0.7,
             "#b8e186"
            ],
            [
             0.8,
             "#7fbc41"
            ],
            [
             0.9,
             "#4d9221"
            ],
            [
             1,
             "#276419"
            ]
           ],
           "sequential": [
            [
             0,
             "#0d0887"
            ],
            [
             0.1111111111111111,
             "#46039f"
            ],
            [
             0.2222222222222222,
             "#7201a8"
            ],
            [
             0.3333333333333333,
             "#9c179e"
            ],
            [
             0.4444444444444444,
             "#bd3786"
            ],
            [
             0.5555555555555556,
             "#d8576b"
            ],
            [
             0.6666666666666666,
             "#ed7953"
            ],
            [
             0.7777777777777778,
             "#fb9f3a"
            ],
            [
             0.8888888888888888,
             "#fdca26"
            ],
            [
             1,
             "#f0f921"
            ]
           ],
           "sequentialminus": [
            [
             0,
             "#0d0887"
            ],
            [
             0.1111111111111111,
             "#46039f"
            ],
            [
             0.2222222222222222,
             "#7201a8"
            ],
            [
             0.3333333333333333,
             "#9c179e"
            ],
            [
             0.4444444444444444,
             "#bd3786"
            ],
            [
             0.5555555555555556,
             "#d8576b"
            ],
            [
             0.6666666666666666,
             "#ed7953"
            ],
            [
             0.7777777777777778,
             "#fb9f3a"
            ],
            [
             0.8888888888888888,
             "#fdca26"
            ],
            [
             1,
             "#f0f921"
            ]
           ]
          },
          "colorway": [
           "#636efa",
           "#EF553B",
           "#00cc96",
           "#ab63fa",
           "#FFA15A",
           "#19d3f3",
           "#FF6692",
           "#B6E880",
           "#FF97FF",
           "#FECB52"
          ],
          "font": {
           "color": "#2a3f5f"
          },
          "geo": {
           "bgcolor": "white",
           "lakecolor": "white",
           "landcolor": "#E5ECF6",
           "showlakes": true,
           "showland": true,
           "subunitcolor": "white"
          },
          "hoverlabel": {
           "align": "left"
          },
          "hovermode": "closest",
          "mapbox": {
           "style": "light"
          },
          "paper_bgcolor": "white",
          "plot_bgcolor": "#E5ECF6",
          "polar": {
           "angularaxis": {
            "gridcolor": "white",
            "linecolor": "white",
            "ticks": ""
           },
           "bgcolor": "#E5ECF6",
           "radialaxis": {
            "gridcolor": "white",
            "linecolor": "white",
            "ticks": ""
           }
          },
          "scene": {
           "xaxis": {
            "backgroundcolor": "#E5ECF6",
            "gridcolor": "white",
            "gridwidth": 2,
            "linecolor": "white",
            "showbackground": true,
            "ticks": "",
            "zerolinecolor": "white"
           },
           "yaxis": {
            "backgroundcolor": "#E5ECF6",
            "gridcolor": "white",
            "gridwidth": 2,
            "linecolor": "white",
            "showbackground": true,
            "ticks": "",
            "zerolinecolor": "white"
           },
           "zaxis": {
            "backgroundcolor": "#E5ECF6",
            "gridcolor": "white",
            "gridwidth": 2,
            "linecolor": "white",
            "showbackground": true,
            "ticks": "",
            "zerolinecolor": "white"
           }
          },
          "shapedefaults": {
           "line": {
            "color": "#2a3f5f"
           }
          },
          "ternary": {
           "aaxis": {
            "gridcolor": "white",
            "linecolor": "white",
            "ticks": ""
           },
           "baxis": {
            "gridcolor": "white",
            "linecolor": "white",
            "ticks": ""
           },
           "bgcolor": "#E5ECF6",
           "caxis": {
            "gridcolor": "white",
            "linecolor": "white",
            "ticks": ""
           }
          },
          "title": {
           "x": 0.05
          },
          "xaxis": {
           "automargin": true,
           "gridcolor": "white",
           "linecolor": "white",
           "ticks": "",
           "title": {
            "standoff": 15
           },
           "zerolinecolor": "white",
           "zerolinewidth": 2
          },
          "yaxis": {
           "automargin": true,
           "gridcolor": "white",
           "linecolor": "white",
           "ticks": "",
           "title": {
            "standoff": 15
           },
           "zerolinecolor": "white",
           "zerolinewidth": 2
          }
         }
        },
        "title": {
         "text": "Bottom 50 Day Portfolio Sharpe"
        },
        "xaxis": {
         "anchor": "y",
         "domain": [
          0,
          1
         ],
         "title": {
          "text": "Date"
         }
        },
        "yaxis": {
         "anchor": "x",
         "domain": [
          0,
          1
         ],
         "title": {
          "text": "value"
         }
        }
       }
      }
     },
     "metadata": {},
     "output_type": "display_data"
    }
   ],
   "source": [
    "#Portfolio Asset Sharpe Comparison\n",
    "\n",
    "height= 500\n",
    "width = 1400\n",
    "\n",
    "sharpe_50 = pm.rolling(algorithm.sharpe,50,risk_free_rate['Close'])\n",
    "top_num = 10\n",
    "\n",
    "last_row_50D = sharpe_50.iloc[-1].sort_values()\n",
    "\n",
    "top_50D       = list(last_row_50D[-top_num:].index)\n",
    "bottom_50D    = list(last_row_50D[:top_num].index)\n",
    "\n",
    "top_performance_chart_50 = px.line(sharpe_50[top_50D][-100:],title='Top 50 Day Portfolio Sharpe')\n",
    "top_performance_chart_50.add_hline(y=0, line_dash=\"dash\", row='all', col='all', line_color=\"#000000\", line_width=1)\n",
    "\n",
    "bottom_performance_chart_50 = px.line(sharpe_50[bottom_50D][-100:],title='Bottom 50 Day Portfolio Sharpe')\n",
    "bottom_performance_chart_50.add_hline(y=0, line_dash=\"dash\", row='all', col='all', line_color=\"#000000\", line_width=1)\n",
    "\n",
    "top_performance_chart_50.update_layout(autosize=True)\n",
    "top_performance_chart_50.show(config={'responsive': True})\n",
    "\n",
    "bottom_performance_chart_50.update_layout(autosize=True)\n",
    "bottom_performance_chart_50.show(config={'responsive': True})\n",
    "\n"
   ]
  },
  {
   "cell_type": "code",
   "execution_count": 6,
   "id": "140836e5",
   "metadata": {},
   "outputs": [
    {
     "data": {
      "application/vnd.plotly.v1+json": {
       "config": {
        "plotlyServerURL": "https://plot.ly",
        "responsive": true
       },
       "data": [
        {
         "hovertemplate": "variable=Average_50<br>Date=%{x}<br>value=%{y}<extra></extra>",
         "legendgroup": "Average_50",
         "line": {
          "color": "#636efa",
          "dash": "solid"
         },
         "marker": {
          "symbol": "circle"
         },
         "mode": "lines",
         "name": "Average_50",
         "showlegend": true,
         "type": "scattergl",
         "x": [
          "2020-04-13T00:00:00",
          "2020-04-14T00:00:00",
          "2020-04-15T00:00:00",
          "2020-04-16T00:00:00",
          "2020-04-17T00:00:00",
          "2020-04-20T00:00:00",
          "2020-04-21T00:00:00",
          "2020-04-22T00:00:00",
          "2020-04-23T00:00:00",
          "2020-04-24T00:00:00",
          "2020-04-27T00:00:00",
          "2020-04-28T00:00:00",
          "2020-04-29T00:00:00",
          "2020-04-30T00:00:00",
          "2020-05-01T00:00:00",
          "2020-05-04T00:00:00",
          "2020-05-05T00:00:00",
          "2020-05-06T00:00:00",
          "2020-05-07T00:00:00",
          "2020-05-08T00:00:00",
          "2020-05-11T00:00:00",
          "2020-05-12T00:00:00",
          "2020-05-13T00:00:00",
          "2020-05-14T00:00:00",
          "2020-05-15T00:00:00",
          "2020-05-18T00:00:00",
          "2020-05-19T00:00:00",
          "2020-05-20T00:00:00",
          "2020-05-21T00:00:00",
          "2020-05-22T00:00:00",
          "2020-05-26T00:00:00",
          "2020-05-27T00:00:00",
          "2020-05-28T00:00:00",
          "2020-05-29T00:00:00",
          "2020-06-01T00:00:00",
          "2020-06-02T00:00:00",
          "2020-06-03T00:00:00",
          "2020-06-04T00:00:00",
          "2020-06-05T00:00:00",
          "2020-06-08T00:00:00",
          "2020-06-09T00:00:00",
          "2020-06-10T00:00:00",
          "2020-06-11T00:00:00",
          "2020-06-12T00:00:00",
          "2020-06-15T00:00:00",
          "2020-06-16T00:00:00",
          "2020-06-17T00:00:00",
          "2020-06-18T00:00:00",
          "2020-06-19T00:00:00",
          "2020-06-22T00:00:00",
          "2020-06-23T00:00:00",
          "2020-06-24T00:00:00",
          "2020-06-25T00:00:00",
          "2020-06-26T00:00:00",
          "2020-06-29T00:00:00",
          "2020-06-30T00:00:00",
          "2020-07-01T00:00:00",
          "2020-07-02T00:00:00",
          "2020-07-06T00:00:00",
          "2020-07-07T00:00:00",
          "2020-07-08T00:00:00",
          "2020-07-09T00:00:00",
          "2020-07-10T00:00:00",
          "2020-07-13T00:00:00",
          "2020-07-14T00:00:00",
          "2020-07-15T00:00:00",
          "2020-07-16T00:00:00",
          "2020-07-17T00:00:00",
          "2020-07-20T00:00:00",
          "2020-07-21T00:00:00",
          "2020-07-22T00:00:00",
          "2020-07-23T00:00:00",
          "2020-07-24T00:00:00",
          "2020-07-27T00:00:00",
          "2020-07-28T00:00:00",
          "2020-07-29T00:00:00",
          "2020-07-30T00:00:00",
          "2020-07-31T00:00:00",
          "2020-08-03T00:00:00",
          "2020-08-04T00:00:00",
          "2020-08-05T00:00:00",
          "2020-08-06T00:00:00",
          "2020-08-07T00:00:00",
          "2020-08-10T00:00:00",
          "2020-08-11T00:00:00",
          "2020-08-12T00:00:00",
          "2020-08-13T00:00:00",
          "2020-08-14T00:00:00",
          "2020-08-17T00:00:00",
          "2020-08-18T00:00:00",
          "2020-08-19T00:00:00",
          "2020-08-20T00:00:00",
          "2020-08-21T00:00:00",
          "2020-08-24T00:00:00",
          "2020-08-25T00:00:00",
          "2020-08-26T00:00:00",
          "2020-08-27T00:00:00",
          "2020-08-28T00:00:00",
          "2020-08-31T00:00:00",
          "2020-09-01T00:00:00",
          "2020-09-02T00:00:00",
          "2020-09-03T00:00:00",
          "2020-09-04T00:00:00",
          "2020-09-08T00:00:00",
          "2020-09-09T00:00:00",
          "2020-09-10T00:00:00",
          "2020-09-11T00:00:00",
          "2020-09-14T00:00:00",
          "2020-09-15T00:00:00",
          "2020-09-16T00:00:00",
          "2020-09-17T00:00:00",
          "2020-09-18T00:00:00",
          "2020-09-21T00:00:00",
          "2020-09-22T00:00:00",
          "2020-09-23T00:00:00",
          "2020-09-24T00:00:00",
          "2020-09-25T00:00:00",
          "2020-09-28T00:00:00",
          "2020-09-29T00:00:00",
          "2020-09-30T00:00:00",
          "2020-10-01T00:00:00",
          "2020-10-02T00:00:00",
          "2020-10-05T00:00:00",
          "2020-10-06T00:00:00",
          "2020-10-07T00:00:00",
          "2020-10-08T00:00:00",
          "2020-10-09T00:00:00",
          "2020-10-12T00:00:00",
          "2020-10-13T00:00:00",
          "2020-10-14T00:00:00",
          "2020-10-15T00:00:00",
          "2020-10-16T00:00:00",
          "2020-10-19T00:00:00",
          "2020-10-20T00:00:00",
          "2020-10-21T00:00:00",
          "2020-10-22T00:00:00",
          "2020-10-23T00:00:00",
          "2020-10-26T00:00:00",
          "2020-10-27T00:00:00",
          "2020-10-28T00:00:00",
          "2020-10-29T00:00:00",
          "2020-10-30T00:00:00",
          "2020-11-02T00:00:00",
          "2020-11-03T00:00:00",
          "2020-11-04T00:00:00",
          "2020-11-05T00:00:00",
          "2020-11-06T00:00:00",
          "2020-11-09T00:00:00",
          "2020-11-10T00:00:00",
          "2020-11-11T00:00:00",
          "2020-11-12T00:00:00",
          "2020-11-13T00:00:00",
          "2020-11-16T00:00:00",
          "2020-11-17T00:00:00",
          "2020-11-18T00:00:00",
          "2020-11-19T00:00:00",
          "2020-11-20T00:00:00",
          "2020-11-23T00:00:00",
          "2020-11-24T00:00:00",
          "2020-11-25T00:00:00",
          "2020-11-27T00:00:00",
          "2020-11-30T00:00:00",
          "2020-12-01T00:00:00",
          "2020-12-02T00:00:00",
          "2020-12-03T00:00:00",
          "2020-12-04T00:00:00",
          "2020-12-07T00:00:00",
          "2020-12-08T00:00:00",
          "2020-12-09T00:00:00",
          "2020-12-10T00:00:00",
          "2020-12-11T00:00:00",
          "2020-12-14T00:00:00",
          "2020-12-15T00:00:00",
          "2020-12-16T00:00:00",
          "2020-12-17T00:00:00",
          "2020-12-18T00:00:00",
          "2020-12-21T00:00:00",
          "2020-12-22T00:00:00",
          "2020-12-23T00:00:00",
          "2020-12-24T00:00:00",
          "2020-12-28T00:00:00",
          "2020-12-29T00:00:00",
          "2020-12-30T00:00:00",
          "2020-12-31T00:00:00",
          "2021-01-04T00:00:00",
          "2021-01-05T00:00:00",
          "2021-01-06T00:00:00",
          "2021-01-07T00:00:00",
          "2021-01-08T00:00:00",
          "2021-01-11T00:00:00",
          "2021-01-12T00:00:00",
          "2021-01-13T00:00:00",
          "2021-01-14T00:00:00",
          "2021-01-15T00:00:00",
          "2021-01-19T00:00:00",
          "2021-01-20T00:00:00",
          "2021-01-21T00:00:00",
          "2021-01-22T00:00:00",
          "2021-01-25T00:00:00",
          "2021-01-26T00:00:00",
          "2021-01-27T00:00:00",
          "2021-01-28T00:00:00",
          "2021-01-29T00:00:00",
          "2021-02-01T00:00:00",
          "2021-02-02T00:00:00",
          "2021-02-03T00:00:00",
          "2021-02-04T00:00:00",
          "2021-02-05T00:00:00",
          "2021-02-08T00:00:00",
          "2021-02-09T00:00:00",
          "2021-02-10T00:00:00",
          "2021-02-11T00:00:00",
          "2021-02-12T00:00:00",
          "2021-02-16T00:00:00",
          "2021-02-17T00:00:00",
          "2021-02-18T00:00:00",
          "2021-02-19T00:00:00",
          "2021-02-22T00:00:00",
          "2021-02-23T00:00:00",
          "2021-02-24T00:00:00",
          "2021-02-25T00:00:00",
          "2021-02-26T00:00:00",
          "2021-03-01T00:00:00",
          "2021-03-02T00:00:00",
          "2021-03-03T00:00:00",
          "2021-03-04T00:00:00",
          "2021-03-05T00:00:00",
          "2021-03-08T00:00:00",
          "2021-03-09T00:00:00",
          "2021-03-10T00:00:00",
          "2021-03-11T00:00:00",
          "2021-03-12T00:00:00",
          "2021-03-15T00:00:00",
          "2021-03-16T00:00:00",
          "2021-03-17T00:00:00",
          "2021-03-18T00:00:00",
          "2021-03-19T00:00:00",
          "2021-03-22T00:00:00",
          "2021-03-23T00:00:00",
          "2021-03-24T00:00:00",
          "2021-03-25T00:00:00",
          "2021-03-26T00:00:00",
          "2021-03-29T00:00:00",
          "2021-03-30T00:00:00",
          "2021-03-31T00:00:00",
          "2021-04-01T00:00:00",
          "2021-04-05T00:00:00",
          "2021-04-06T00:00:00",
          "2021-04-07T00:00:00",
          "2021-04-08T00:00:00",
          "2021-04-09T00:00:00",
          "2021-04-12T00:00:00",
          "2021-04-13T00:00:00",
          "2021-04-14T00:00:00",
          "2021-04-15T00:00:00",
          "2021-04-16T00:00:00",
          "2021-04-19T00:00:00",
          "2021-04-20T00:00:00",
          "2021-04-21T00:00:00",
          "2021-04-22T00:00:00",
          "2021-04-23T00:00:00",
          "2021-04-26T00:00:00",
          "2021-04-27T00:00:00",
          "2021-04-28T00:00:00",
          "2021-04-29T00:00:00",
          "2021-04-30T00:00:00",
          "2021-05-03T00:00:00",
          "2021-05-04T00:00:00",
          "2021-05-05T00:00:00",
          "2021-05-06T00:00:00",
          "2021-05-07T00:00:00",
          "2021-05-10T00:00:00",
          "2021-05-11T00:00:00",
          "2021-05-12T00:00:00",
          "2021-05-13T00:00:00",
          "2021-05-14T00:00:00",
          "2021-05-17T00:00:00",
          "2021-05-18T00:00:00",
          "2021-05-19T00:00:00",
          "2021-05-20T00:00:00",
          "2021-05-21T00:00:00",
          "2021-05-24T00:00:00",
          "2021-05-25T00:00:00",
          "2021-05-26T00:00:00",
          "2021-05-27T00:00:00",
          "2021-05-28T00:00:00",
          "2021-06-01T00:00:00",
          "2021-06-02T00:00:00",
          "2021-06-03T00:00:00",
          "2021-06-04T00:00:00",
          "2021-06-07T00:00:00",
          "2021-06-08T00:00:00",
          "2021-06-09T00:00:00",
          "2021-06-10T00:00:00",
          "2021-06-11T00:00:00",
          "2021-06-14T00:00:00",
          "2021-06-15T00:00:00",
          "2021-06-16T00:00:00",
          "2021-06-17T00:00:00",
          "2021-06-18T00:00:00",
          "2021-06-21T00:00:00",
          "2021-06-22T00:00:00",
          "2021-06-23T00:00:00",
          "2021-06-24T00:00:00",
          "2021-06-25T00:00:00",
          "2021-06-28T00:00:00",
          "2021-06-29T00:00:00",
          "2021-06-30T00:00:00",
          "2021-07-01T00:00:00",
          "2021-07-02T00:00:00",
          "2021-07-06T00:00:00",
          "2021-07-07T00:00:00",
          "2021-07-08T00:00:00",
          "2021-07-09T00:00:00",
          "2021-07-12T00:00:00",
          "2021-07-13T00:00:00",
          "2021-07-14T00:00:00",
          "2021-07-15T00:00:00",
          "2021-07-16T00:00:00",
          "2021-07-19T00:00:00",
          "2021-07-20T00:00:00",
          "2021-07-21T00:00:00",
          "2021-07-22T00:00:00",
          "2021-07-23T00:00:00",
          "2021-07-26T00:00:00",
          "2021-07-27T00:00:00",
          "2021-07-28T00:00:00",
          "2021-07-29T00:00:00",
          "2021-07-30T00:00:00",
          "2021-08-02T00:00:00",
          "2021-08-03T00:00:00",
          "2021-08-04T00:00:00",
          "2021-08-05T00:00:00",
          "2021-08-06T00:00:00",
          "2021-08-09T00:00:00",
          "2021-08-10T00:00:00",
          "2021-08-11T00:00:00",
          "2021-08-12T00:00:00",
          "2021-08-13T00:00:00",
          "2021-08-16T00:00:00",
          "2021-08-17T00:00:00",
          "2021-08-18T00:00:00",
          "2021-08-19T00:00:00",
          "2021-08-20T00:00:00",
          "2021-08-23T00:00:00",
          "2021-08-24T00:00:00",
          "2021-08-25T00:00:00",
          "2021-08-26T00:00:00",
          "2021-08-27T00:00:00",
          "2021-08-30T00:00:00",
          "2021-08-31T00:00:00",
          "2021-09-01T00:00:00",
          "2021-09-02T00:00:00",
          "2021-09-03T00:00:00",
          "2021-09-07T00:00:00",
          "2021-09-08T00:00:00",
          "2021-09-09T00:00:00",
          "2021-09-10T00:00:00",
          "2021-09-13T00:00:00",
          "2021-09-14T00:00:00",
          "2021-09-15T00:00:00",
          "2021-09-16T00:00:00",
          "2021-09-17T00:00:00",
          "2021-09-20T00:00:00",
          "2021-09-21T00:00:00",
          "2021-09-22T00:00:00",
          "2021-09-23T00:00:00",
          "2021-09-24T00:00:00",
          "2021-09-27T00:00:00",
          "2021-09-28T00:00:00",
          "2021-09-29T00:00:00",
          "2021-09-30T00:00:00",
          "2021-10-01T00:00:00",
          "2021-10-04T00:00:00",
          "2021-10-05T00:00:00",
          "2021-10-06T00:00:00",
          "2021-10-07T00:00:00",
          "2021-10-08T00:00:00",
          "2021-10-11T00:00:00",
          "2021-10-12T00:00:00",
          "2021-10-13T00:00:00",
          "2021-10-14T00:00:00",
          "2021-10-15T00:00:00",
          "2021-10-18T00:00:00",
          "2021-10-19T00:00:00",
          "2021-10-20T00:00:00",
          "2021-10-21T00:00:00",
          "2021-10-22T00:00:00",
          "2021-10-25T00:00:00",
          "2021-10-26T00:00:00",
          "2021-10-27T00:00:00",
          "2021-10-28T00:00:00",
          "2021-10-29T00:00:00",
          "2021-11-01T00:00:00",
          "2021-11-02T00:00:00",
          "2021-11-03T00:00:00",
          "2021-11-04T00:00:00",
          "2021-11-05T00:00:00",
          "2021-11-08T00:00:00",
          "2021-11-09T00:00:00",
          "2021-11-10T00:00:00",
          "2021-11-11T00:00:00",
          "2021-11-12T00:00:00",
          "2021-11-15T00:00:00",
          "2021-11-16T00:00:00",
          "2021-11-17T00:00:00",
          "2021-11-18T00:00:00",
          "2021-11-19T00:00:00",
          "2021-11-22T00:00:00",
          "2021-11-23T00:00:00",
          "2021-11-24T00:00:00",
          "2021-11-26T00:00:00",
          "2021-11-29T00:00:00",
          "2021-11-30T00:00:00",
          "2021-12-01T00:00:00",
          "2021-12-02T00:00:00",
          "2021-12-03T00:00:00",
          "2021-12-06T00:00:00",
          "2021-12-07T00:00:00",
          "2021-12-08T00:00:00",
          "2021-12-09T00:00:00",
          "2021-12-10T00:00:00",
          "2021-12-13T00:00:00",
          "2021-12-14T00:00:00",
          "2021-12-15T00:00:00",
          "2021-12-16T00:00:00",
          "2021-12-17T00:00:00",
          "2021-12-20T00:00:00",
          "2021-12-21T00:00:00",
          "2021-12-22T00:00:00",
          "2021-12-23T00:00:00",
          "2021-12-27T00:00:00",
          "2021-12-28T00:00:00",
          "2021-12-29T00:00:00",
          "2021-12-30T00:00:00",
          "2021-12-31T00:00:00",
          "2022-01-03T00:00:00",
          "2022-01-04T00:00:00",
          "2022-01-05T00:00:00",
          "2022-01-06T00:00:00",
          "2022-01-07T00:00:00",
          "2022-01-10T00:00:00",
          "2022-01-11T00:00:00",
          "2022-01-12T00:00:00",
          "2022-01-13T00:00:00",
          "2022-01-14T00:00:00",
          "2022-01-18T00:00:00",
          "2022-01-19T00:00:00",
          "2022-01-20T00:00:00",
          "2022-01-21T00:00:00",
          "2022-01-24T00:00:00",
          "2022-01-25T00:00:00",
          "2022-01-26T00:00:00",
          "2022-01-27T00:00:00",
          "2022-01-28T00:00:00",
          "2022-01-31T00:00:00",
          "2022-02-01T00:00:00",
          "2022-02-02T00:00:00",
          "2022-02-03T00:00:00",
          "2022-02-04T00:00:00",
          "2022-02-07T00:00:00",
          "2022-02-08T00:00:00",
          "2022-02-09T00:00:00",
          "2022-02-10T00:00:00",
          "2022-02-11T00:00:00",
          "2022-02-14T00:00:00",
          "2022-02-15T00:00:00",
          "2022-02-16T00:00:00",
          "2022-02-17T00:00:00",
          "2022-02-18T00:00:00",
          "2022-02-22T00:00:00",
          "2022-02-23T00:00:00",
          "2022-02-24T00:00:00",
          "2022-02-25T00:00:00",
          "2022-02-28T00:00:00",
          "2022-03-01T00:00:00",
          "2022-03-02T00:00:00",
          "2022-03-03T00:00:00",
          "2022-03-04T00:00:00",
          "2022-03-07T00:00:00",
          "2022-03-08T00:00:00",
          "2022-03-09T00:00:00",
          "2022-03-10T00:00:00",
          "2022-03-11T00:00:00",
          "2022-03-14T00:00:00",
          "2022-03-15T00:00:00",
          "2022-03-16T00:00:00",
          "2022-03-17T00:00:00",
          "2022-03-18T00:00:00",
          "2022-03-21T00:00:00",
          "2022-03-22T00:00:00",
          "2022-03-23T00:00:00",
          "2022-03-24T00:00:00",
          "2022-03-25T00:00:00",
          "2022-03-28T00:00:00",
          "2022-03-29T00:00:00",
          "2022-03-30T00:00:00",
          "2022-03-31T00:00:00",
          "2022-04-01T00:00:00",
          "2022-04-04T00:00:00",
          "2022-04-05T00:00:00",
          "2022-04-06T00:00:00",
          "2022-04-07T00:00:00",
          "2022-04-08T00:00:00",
          "2022-04-11T00:00:00",
          "2022-04-12T00:00:00",
          "2022-04-13T00:00:00",
          "2022-04-14T00:00:00",
          "2022-04-18T00:00:00",
          "2022-04-19T00:00:00",
          "2022-04-20T00:00:00",
          "2022-04-21T00:00:00",
          "2022-04-22T00:00:00",
          "2022-04-25T00:00:00",
          "2022-04-26T00:00:00",
          "2022-04-27T00:00:00",
          "2022-04-28T00:00:00",
          "2022-04-29T00:00:00",
          "2022-05-02T00:00:00",
          "2022-05-03T00:00:00",
          "2022-05-04T00:00:00",
          "2022-05-05T00:00:00",
          "2022-05-06T00:00:00",
          "2022-05-09T00:00:00",
          "2022-05-10T00:00:00",
          "2022-05-11T00:00:00",
          "2022-05-12T00:00:00",
          "2022-05-13T00:00:00",
          "2022-05-16T00:00:00",
          "2022-05-17T00:00:00",
          "2022-05-18T00:00:00",
          "2022-05-19T00:00:00",
          "2022-05-20T00:00:00",
          "2022-05-23T00:00:00",
          "2022-05-24T00:00:00",
          "2022-05-25T00:00:00",
          "2022-05-26T00:00:00",
          "2022-05-27T00:00:00",
          "2022-05-31T00:00:00",
          "2022-06-01T00:00:00",
          "2022-06-02T00:00:00",
          "2022-06-03T00:00:00",
          "2022-06-06T00:00:00",
          "2022-06-07T00:00:00",
          "2022-06-08T00:00:00",
          "2022-06-09T00:00:00",
          "2022-06-10T00:00:00",
          "2022-06-13T00:00:00",
          "2022-06-14T00:00:00",
          "2022-06-15T00:00:00",
          "2022-06-16T00:00:00",
          "2022-06-17T00:00:00",
          "2022-06-21T00:00:00",
          "2022-06-22T00:00:00",
          "2022-06-23T00:00:00",
          "2022-06-24T00:00:00",
          "2022-06-27T00:00:00",
          "2022-06-28T00:00:00",
          "2022-06-29T00:00:00",
          "2022-06-30T00:00:00",
          "2022-07-01T00:00:00",
          "2022-07-05T00:00:00",
          "2022-07-06T00:00:00",
          "2022-07-07T00:00:00",
          "2022-07-08T00:00:00",
          "2022-07-11T00:00:00",
          "2022-07-12T00:00:00",
          "2022-07-13T00:00:00",
          "2022-07-14T00:00:00",
          "2022-07-15T00:00:00",
          "2022-07-18T00:00:00",
          "2022-07-19T00:00:00",
          "2022-07-20T00:00:00",
          "2022-07-21T00:00:00",
          "2022-07-22T00:00:00",
          "2022-07-25T00:00:00",
          "2022-07-26T00:00:00",
          "2022-07-27T00:00:00",
          "2022-07-28T00:00:00",
          "2022-07-29T00:00:00",
          "2022-08-01T00:00:00",
          "2022-08-02T00:00:00",
          "2022-08-03T00:00:00",
          "2022-08-04T00:00:00",
          "2022-08-05T00:00:00",
          "2022-08-08T00:00:00",
          "2022-08-09T00:00:00",
          "2022-08-10T00:00:00",
          "2022-08-11T00:00:00",
          "2022-08-12T00:00:00",
          "2022-08-15T00:00:00",
          "2022-08-16T00:00:00",
          "2022-08-17T00:00:00",
          "2022-08-18T00:00:00",
          "2022-08-19T00:00:00",
          "2022-08-22T00:00:00",
          "2022-08-23T00:00:00",
          "2022-08-24T00:00:00",
          "2022-08-25T00:00:00",
          "2022-08-26T00:00:00",
          "2022-08-29T00:00:00",
          "2022-08-30T00:00:00",
          "2022-08-31T00:00:00",
          "2022-09-01T00:00:00",
          "2022-09-02T00:00:00",
          "2022-09-06T00:00:00",
          "2022-09-07T00:00:00",
          "2022-09-08T00:00:00",
          "2022-09-09T00:00:00",
          "2022-09-12T00:00:00",
          "2022-09-13T00:00:00",
          "2022-09-14T00:00:00",
          "2022-09-15T00:00:00",
          "2022-09-16T00:00:00",
          "2022-09-19T00:00:00",
          "2022-09-20T00:00:00",
          "2022-09-21T00:00:00",
          "2022-09-22T00:00:00",
          "2022-09-23T00:00:00",
          "2022-09-26T00:00:00",
          "2022-09-27T00:00:00",
          "2022-09-28T00:00:00",
          "2022-09-29T00:00:00",
          "2022-09-30T00:00:00",
          "2022-10-03T00:00:00",
          "2022-10-04T00:00:00",
          "2022-10-05T00:00:00",
          "2022-10-06T00:00:00",
          "2022-10-07T00:00:00",
          "2022-10-10T00:00:00",
          "2022-10-11T00:00:00",
          "2022-10-12T00:00:00",
          "2022-10-13T00:00:00",
          "2022-10-14T00:00:00",
          "2022-10-17T00:00:00",
          "2022-10-18T00:00:00",
          "2022-10-19T00:00:00",
          "2022-10-20T00:00:00",
          "2022-10-21T00:00:00",
          "2022-10-24T00:00:00",
          "2022-10-25T00:00:00",
          "2022-10-26T00:00:00",
          "2022-10-27T00:00:00",
          "2022-10-28T00:00:00",
          "2022-10-31T00:00:00",
          "2022-11-01T00:00:00",
          "2022-11-02T00:00:00",
          "2022-11-03T00:00:00",
          "2022-11-04T00:00:00",
          "2022-11-07T00:00:00",
          "2022-11-08T00:00:00",
          "2022-11-09T00:00:00",
          "2022-11-10T00:00:00",
          "2022-11-11T00:00:00",
          "2022-11-14T00:00:00",
          "2022-11-15T00:00:00",
          "2022-11-16T00:00:00",
          "2022-11-17T00:00:00",
          "2022-11-18T00:00:00",
          "2022-11-21T00:00:00",
          "2022-11-22T00:00:00",
          "2022-11-23T00:00:00",
          "2022-11-25T00:00:00",
          "2022-11-28T00:00:00",
          "2022-11-29T00:00:00",
          "2022-11-30T00:00:00",
          "2022-12-01T00:00:00",
          "2022-12-02T00:00:00",
          "2022-12-05T00:00:00",
          "2022-12-06T00:00:00",
          "2022-12-07T00:00:00",
          "2022-12-08T00:00:00",
          "2022-12-09T00:00:00",
          "2022-12-12T00:00:00",
          "2022-12-13T00:00:00",
          "2022-12-14T00:00:00",
          "2022-12-15T00:00:00",
          "2022-12-16T00:00:00",
          "2022-12-19T00:00:00",
          "2022-12-20T00:00:00",
          "2022-12-21T00:00:00",
          "2022-12-22T00:00:00",
          "2022-12-23T00:00:00",
          "2022-12-27T00:00:00",
          "2022-12-28T00:00:00",
          "2022-12-29T00:00:00",
          "2022-12-30T00:00:00",
          "2023-01-03T00:00:00",
          "2023-01-04T00:00:00",
          "2023-01-05T00:00:00",
          "2023-01-06T00:00:00",
          "2023-01-09T00:00:00",
          "2023-01-10T00:00:00",
          "2023-01-11T00:00:00",
          "2023-01-12T00:00:00",
          "2023-01-13T00:00:00",
          "2023-01-17T00:00:00",
          "2023-01-18T00:00:00",
          "2023-01-19T00:00:00",
          "2023-01-20T00:00:00",
          "2023-01-23T00:00:00",
          "2023-01-24T00:00:00",
          "2023-01-25T00:00:00",
          "2023-01-26T00:00:00",
          "2023-01-27T00:00:00",
          "2023-01-30T00:00:00",
          "2023-01-31T00:00:00",
          "2023-02-01T00:00:00",
          "2023-02-02T00:00:00",
          "2023-02-03T00:00:00",
          "2023-02-06T00:00:00",
          "2023-02-07T00:00:00",
          "2023-02-08T00:00:00",
          "2023-02-09T00:00:00",
          "2023-02-10T00:00:00",
          "2023-02-13T00:00:00",
          "2023-02-14T00:00:00",
          "2023-02-15T00:00:00",
          "2023-02-16T00:00:00",
          "2023-02-17T00:00:00",
          "2023-02-21T00:00:00",
          "2023-02-22T00:00:00",
          "2023-02-23T00:00:00",
          "2023-02-24T00:00:00",
          "2023-02-27T00:00:00",
          "2023-02-28T00:00:00",
          "2023-03-01T00:00:00",
          "2023-03-02T00:00:00",
          "2023-03-03T00:00:00",
          "2023-03-06T00:00:00",
          "2023-03-07T00:00:00",
          "2023-03-08T00:00:00",
          "2023-03-09T00:00:00",
          "2023-03-10T00:00:00",
          "2023-03-13T00:00:00",
          "2023-03-14T00:00:00",
          "2023-03-15T00:00:00",
          "2023-03-16T00:00:00",
          "2023-03-17T00:00:00",
          "2023-03-20T00:00:00",
          "2023-03-21T00:00:00",
          "2023-03-22T00:00:00",
          "2023-03-23T00:00:00",
          "2023-03-24T00:00:00",
          "2023-03-27T00:00:00",
          "2023-03-28T00:00:00",
          "2023-03-29T00:00:00",
          "2023-03-30T00:00:00",
          "2023-03-31T00:00:00",
          "2023-04-03T00:00:00",
          "2023-04-04T00:00:00",
          "2023-04-05T00:00:00",
          "2023-04-06T00:00:00",
          "2023-04-10T00:00:00",
          "2023-04-11T00:00:00"
         ],
         "xaxis": "x",
         "y": [
          null,
          null,
          null,
          null,
          null,
          null,
          null,
          null,
          null,
          null,
          null,
          null,
          null,
          null,
          null,
          null,
          null,
          null,
          null,
          null,
          null,
          null,
          null,
          null,
          null,
          null,
          null,
          null,
          null,
          null,
          null,
          null,
          null,
          null,
          null,
          null,
          null,
          null,
          null,
          null,
          null,
          null,
          null,
          null,
          null,
          null,
          null,
          null,
          null,
          -0.03544982228863405,
          -0.029249865823891177,
          -0.027817041113963135,
          -0.021699586624592048,
          -0.023666708310855347,
          -0.02599154961415473,
          -0.0269917147929149,
          -0.02224551085048634,
          -0.023646899236945573,
          -0.02489627054926755,
          -0.02935711834681338,
          -0.03418508908887683,
          -0.036316803066072295,
          -0.03492313566267481,
          -0.03339596574070996,
          -0.030097942177293762,
          -0.028510036311084494,
          -0.029292721968849435,
          -0.025726713971125525,
          -0.0198644670488235,
          -0.020329010655230434,
          -0.023057802479831285,
          -0.02297589767081667,
          -0.018883625688171313,
          -0.018336979619769645,
          -0.02289377723141114,
          -0.032296602144163127,
          -0.03931717841534382,
          -0.04337925485092141,
          -0.04780143985722766,
          -0.054501423871558756,
          -0.06374516511824091,
          -0.0709991942801911,
          -0.08721779969756323,
          -0.10318205172825433,
          -0.11333505838221102,
          -0.1252211946997808,
          -0.13325791775497917,
          -0.1387578149572183,
          -0.13908364206171556,
          -0.13373779989865694,
          -0.12986980428444714,
          -0.12659822883271554,
          -0.1342273100070292,
          -0.13883640837828473,
          -0.14162448940760877,
          -0.14035494798911985,
          -0.1421147359319317,
          -0.14674276063383582,
          -0.1480730065413733,
          -0.1489892578710202,
          -0.15073647655769903,
          -0.15348846315549178,
          -0.15389539405506916,
          -0.15347006421957177,
          -0.15474409673162107,
          -0.15618077911364983,
          -0.16037591196681805,
          -0.16506629483874347,
          -0.16679379670626737,
          -0.16483828439618714,
          -0.15929097175145043,
          -0.14584522047150653,
          -0.13768303210688887,
          -0.12875524326429838,
          -0.12823010553611344,
          -0.12517632114651078,
          -0.1232001801667599,
          -0.1229782350628671,
          -0.12071668240538479,
          -0.11991865129165061,
          -0.12023588040819401,
          -0.12210865633891145,
          -0.12759424418693957,
          -0.12619065059790907,
          -0.1291134809927753,
          -0.13422096079997906,
          -0.13705768924229,
          -0.14065583403678056,
          -0.14211426419349962,
          -0.14049069299785372,
          -0.1396551127899395,
          -0.1400467233397786,
          -0.13871087964072604,
          -0.1378592768769113,
          -0.13661466036332207,
          -0.1371289556545406,
          -0.13757665997745963,
          -0.13562892849013894,
          -0.13463080823528115,
          -0.13636726443586367,
          -0.137927847542978,
          -0.13729642532009886,
          -0.13644201756657073,
          -0.1352181527565221,
          -0.13374262076094334,
          -0.13875167354310408,
          -0.14089154502654547,
          -0.15333416538196587,
          -0.16355624483484466,
          -0.17579457905231774,
          -0.18286186593006867,
          -0.18598135614818767,
          -0.18808932073679818,
          -0.18682241320081144,
          -0.18577308845666196,
          -0.1817503469233934,
          -0.1769361686499341,
          -0.17439277351032054,
          -0.17340037667176864,
          -0.17300834362896986,
          -0.1712375621134807,
          -0.1698387560848041,
          -0.16697523369804818,
          -0.16246887929490267,
          -0.15137272417216496,
          -0.1473869118606554,
          -0.1443697894381,
          -0.14231826008121923,
          -0.14025426941790425,
          -0.14020768199998976,
          -0.13812654668295934,
          -0.13446340774000423,
          -0.13150934275287357,
          -0.12832922419631684,
          -0.12685803315568767,
          -0.12449837453365432,
          -0.12273925413597057,
          -0.12082757978925247,
          -0.12034356975738514,
          -0.12102458351237594,
          -0.121860802142107,
          -0.1221981778079459,
          -0.12160299183862258,
          -0.12194651330016364,
          -0.12207770593315255,
          -0.12328626335167597,
          -0.12805376604524457,
          -0.13257058901514457,
          -0.13545457944639358,
          -0.1308325332538746,
          -0.11812610149437548,
          -0.10246065605526929,
          -0.07630490539396594,
          -0.052946068607025464,
          -0.029603017378643043,
          -0.013141740764527772,
          0.011204680449477413,
          0.026201340879242547,
          0.03929703465546838,
          0.051020576646978955,
          0.05731734214439102,
          0.05784812396768458,
          0.04947444716649048,
          0.0505980440688976,
          0.05611553314429271,
          0.06585100469010013,
          0.07209090205952964,
          0.0752905311416737,
          0.07344551068951177,
          0.07200617340981529,
          0.07064876437420639,
          0.0694710310890858,
          0.06873011849416318,
          0.07184955211150353,
          0.07512636120582007,
          0.07708455776952217,
          0.08315278807160614,
          0.08665430434705403,
          0.09024842342233247,
          0.09817414329517023,
          0.0976687629556946,
          0.09677922076942506,
          0.10075218210305735,
          0.10427739127335543,
          0.10269059355490542,
          0.09755203842462747,
          0.10009049387105166,
          0.1005042821841313,
          0.10159805155751417,
          0.09709057597728159,
          0.09082630397826341,
          0.08056306223173398,
          0.06508053889173332,
          0.04739543185964771,
          0.031930869807043634,
          0.020750784048117983,
          0.004273794778158358,
          -0.00816839892551207,
          -0.016764018320722576,
          -0.029105036059215248,
          -0.03931804313971459,
          -0.05775253194790713,
          -0.07484511560705501,
          -0.09386348260982148,
          -0.10857515687053146,
          -0.12236957727548418,
          -0.1385284254574163,
          -0.15059747020473085,
          -0.1629015559055943,
          -0.17244980399290807,
          -0.17381965941501434,
          -0.1786487475996538,
          -0.17944900162877864,
          -0.18151191195346675,
          -0.1870585490369605,
          -0.19044601292117402,
          -0.19580216759477387,
          -0.1983572568132446,
          -0.20138409391062323,
          -0.202874571033331,
          -0.20402770219461283,
          -0.20389143828723016,
          -0.2050917061279663,
          -0.206210567456664,
          -0.2076645934204335,
          -0.2065043694243598,
          -0.20907955098322623,
          -0.21107115165969836,
          -0.21342102968566,
          -0.21758969005291098,
          -0.22054595063621804,
          -0.21905040761448885,
          -0.22133582958097217,
          -0.21927441897248987,
          -0.21855673724308286,
          -0.22124624589478276,
          -0.22318830777472862,
          -0.22575009702535367,
          -0.2234527923276644,
          -0.22065497415852178,
          -0.21867452356355752,
          -0.21886588307415908,
          -0.21673789521667386,
          -0.21432641612276543,
          -0.21077122525080144,
          -0.204778375465255,
          -0.19625911502480736,
          -0.185964392239202,
          -0.17321857594785642,
          -0.16099360601765655,
          -0.14682499492893478,
          -0.13261698904053212,
          -0.12477943373146158,
          -0.10957071207304082,
          -0.0864340847608666,
          -0.06246809427932358,
          -0.05016086444687463,
          -0.03328878852950655,
          -0.01777260798708849,
          -0.005625403601582772,
          0.005807711755998641,
          0.019752167579394464,
          0.031940224265475915,
          0.04368460265989601,
          0.0430558875580555,
          0.04594457180029068,
          0.051776853285887145,
          0.05074807268140004,
          0.04366022064174381,
          0.034065947643298226,
          0.02554327725463432,
          0.017360733389784652,
          0.014499523296970771,
          0.006525378096547277,
          -0.00579868864759537,
          -0.015833586495383554,
          -0.026439597937757523,
          -0.03761438754714933,
          -0.040390043037801616,
          -0.038548597047288136,
          -0.039688090920529114,
          -0.046633931225567096,
          -0.051168305273210736,
          -0.05328066747276866,
          -0.06537435747416592,
          -0.07534095677084746,
          -0.07961022877616934,
          -0.0860099912136612,
          -0.08567145851894195,
          -0.0861535140679152,
          -0.09229877495190267,
          -0.09203548590927658,
          -0.09129619422579592,
          -0.08944049562083628,
          -0.08646338153045795,
          -0.08413433169222784,
          -0.08207779100225795,
          -0.07985022182282422,
          -0.07924984952361933,
          -0.07809832823885404,
          -0.07464595669734682,
          -0.07232871227299437,
          -0.06772457207930566,
          -0.06484492145910112,
          -0.06361859164982157,
          -0.06182929573095996,
          -0.05806468108879984,
          -0.054913590605641445,
          -0.05225608310620579,
          -0.04506120781016452,
          -0.043950857561832056,
          -0.040914130451543816,
          -0.03819556294643802,
          -0.03761819833421953,
          -0.03608421413054497,
          -0.03115637560160071,
          -0.02363680366858633,
          -0.019431026702442615,
          -0.017426606813718937,
          -0.01636091211899449,
          -0.014462955958516823,
          -0.012387471136548695,
          -0.008206105947842646,
          -0.015191053704820006,
          -0.024940938708774694,
          -0.03125067977964175,
          -0.03137038206826838,
          -0.03410203135437619,
          -0.036017968809521725,
          -0.027305027722085044,
          -0.025833025081194148,
          -0.027809000431204815,
          -0.025291164868757265,
          -0.02330076055783585,
          -0.025741191693659446,
          -0.03073305776118645,
          -0.034338620584477834,
          -0.03686054748407197,
          -0.03883453680834459,
          -0.03685177941189533,
          -0.03915377115896183,
          -0.04521447773177759,
          -0.04795152582596005,
          -0.05014337572725995,
          -0.05779706120268137,
          -0.06643634017441916,
          -0.07452364576387047,
          -0.07919592305478099,
          -0.08700409229095411,
          -0.09540406271012285,
          -0.10059422466230372,
          -0.1038571627727278,
          -0.10896287823594582,
          -0.11267899531246003,
          -0.11536491919038959,
          -0.11709347321755571,
          -0.12141691670902166,
          -0.12885399184845914,
          -0.13354866518893777,
          -0.1360240955907501,
          -0.14179314440655458,
          -0.14410410690946518,
          -0.14701328670100558,
          -0.1502222663640478,
          -0.1525733256580807,
          -0.1536442179117538,
          -0.15488690387804557,
          -0.152750730020797,
          -0.15244004181548976,
          -0.15471786865267118,
          -0.15745637545817265,
          -0.1583699353706458,
          -0.1532905195000812,
          -0.14672977513194876,
          -0.14284517088345572,
          -0.13788775896341854,
          -0.13819600811376487,
          -0.13588173661597633,
          -0.13438941021197934,
          -0.12873664838045057,
          -0.12257480020487947,
          -0.11633942686200067,
          -0.11108701577721393,
          -0.10585627667613941,
          -0.10085253899695003,
          -0.0957727856884215,
          -0.09086371952932705,
          -0.08204679009910312,
          -0.07327868030726431,
          -0.06535158851414397,
          -0.062388551256390805,
          -0.07414056007586502,
          -0.08856139100520885,
          -0.09930699162629916,
          -0.11109650247258264,
          -0.12539963550964123,
          -0.13901662119603717,
          -0.15474127539336305,
          -0.16291428975766145,
          -0.16622963808537383,
          -0.1651482264346568,
          -0.1630758593165344,
          -0.16141606992719462,
          -0.15822754636576114,
          -0.15268142907974178,
          -0.1469701723797033,
          -0.13584132816109096,
          -0.12050347883191986,
          -0.10701221575028877,
          -0.09545782749387563,
          -0.0898584267507737,
          -0.08278474892470578,
          -0.07338908860087812,
          -0.05947983772925172,
          -0.050410991104036636,
          -0.04760693158034349,
          -0.04783631092431182,
          -0.04926652295243374,
          -0.04807654703186315,
          -0.04697676543841246,
          -0.04581764752196263,
          -0.040950417828920394,
          -0.04337355180397321,
          -0.03654925049550237,
          -0.020263395062721803,
          -0.012007404669201964,
          -0.0013613713124666733,
          0.003221607381196308,
          0.0013392922290579963,
          -0.0032774239267171356,
          -0.005172687818153233,
          -0.009442174110027056,
          -0.007652436939627732,
          -0.003600364435050651,
          0.0018743631860465312,
          0.010187364431438282,
          0.016308057917231562,
          0.02749493628329714,
          0.039237539597540796,
          0.056650983187680186,
          0.06774359209510769,
          0.07549346756836535,
          0.08775020690974017,
          0.10161491995909316,
          0.11479165466573893,
          0.12693632862588253,
          0.13731920169121747,
          0.14347014074280703,
          0.14450417100430005,
          0.13727588368122895,
          0.12506367365188695,
          0.11838164312294233,
          0.10243105795373632,
          0.0812085329716205,
          0.05341405480519163,
          0.01885590550456528,
          -0.011955432162565121,
          -0.03152493845543581,
          -0.05114836725830397,
          -0.06707177081874462,
          -0.07676791644515801,
          -0.0747597667136374,
          -0.07293033797798772,
          -0.06687566126204289,
          -0.06303733323848174,
          -0.06569678974270307,
          -0.07927911277550508,
          -0.08985715599942982,
          -0.09196404723164972,
          -0.10406481262502659,
          -0.11384956617760189,
          -0.12106273013702566,
          -0.12869171715556552,
          -0.13167704367385683,
          -0.11863894966921992,
          -0.10360532543311929,
          -0.10204820236170487,
          -0.09500233890070715,
          -0.08618515402675261,
          -0.07903935880716374,
          -0.0711892936538858,
          -0.04877639482188342,
          -0.0318594136291905,
          -0.027403761149637444,
          -0.024120019260698,
          -0.013274031953837315,
          -0.012409056209066264,
          -0.008747350805260467,
          -0.0017924016901679678,
          0.005933816247043483,
          0.010161954608997926,
          0.0075466876620356406,
          0.007470625081671666,
          0.013489804668671375,
          0.024351894266363014,
          0.03140264912491443,
          0.03302688656653366,
          0.03184147806889283,
          0.027122186557137672,
          0.021571334240027547,
          0.012708096187135325,
          0.00538555921756155,
          -0.004488071454517741,
          -0.015280570476740252,
          -0.028865941965494926,
          -0.04427612910804782,
          -0.057320535662259545,
          -0.07169260787909745,
          -0.08396360289984806,
          -0.10000672374993849,
          -0.11420644797888052,
          -0.12337171289112073,
          -0.12572904188797313,
          -0.12914764063087253,
          -0.13263461719812722,
          -0.13393300048479412,
          -0.1330808836114812,
          -0.13188334599858206,
          -0.13067029607600414,
          -0.13047767817344283,
          -0.1255510556502314,
          -0.12436695985637075,
          -0.1242953804510669,
          -0.12685328964829637,
          -0.1266276396870739,
          -0.12319955150120447,
          -0.11632085453419956,
          -0.11373471533014291,
          -0.11319547938137009,
          -0.1157943366314414,
          -0.1187266222252181,
          -0.11780503880892776,
          -0.11522583701575279,
          -0.11368163422162768,
          -0.11396924192429875,
          -0.11406421960129612,
          -0.11505880494209263,
          -0.11781859340860479,
          -0.12372272002646288,
          -0.13106119933236163,
          -0.13446090239767342,
          -0.13662929664855003,
          -0.13903897421976366,
          -0.14055635515382,
          -0.14332939908939565,
          -0.14509198432905726,
          -0.14701661748522257,
          -0.14846726624980688,
          -0.1515642000168075,
          -0.15759280608009044,
          -0.16308838446879623,
          -0.1680091495820998,
          -0.17255248593242176,
          -0.17705811588614215,
          -0.18259748624353098,
          -0.18618201527241116,
          -0.19026868159028248,
          -0.19590760218028705,
          -0.20171854755708113,
          -0.20300378407412475,
          -0.20237796265987104,
          -0.1997623914913804,
          -0.20041228081234239,
          -0.1982496384277586,
          -0.19286903275371467,
          -0.18896056066289788,
          -0.1859284448591127,
          -0.1838025073296528,
          -0.18196627649326097,
          -0.1801747026996854,
          -0.1729174198335889,
          -0.16150238807445635,
          -0.150074268971112,
          -0.14035580353299673,
          -0.13210918899525753,
          -0.12337738160033457,
          -0.11147222494869571,
          -0.09583772962596838,
          -0.08617329641379833,
          -0.08605508844011539,
          -0.08440061721168902,
          -0.08450892137910304,
          -0.08715771882184327,
          -0.09692934518068719,
          -0.09867864641924205,
          -0.09566220800127738,
          -0.09392714120647712,
          -0.09271159185097153,
          -0.09375908708583164,
          -0.09388364268162495,
          -0.09272576808655733,
          -0.09326778429681909,
          -0.09253955663165378,
          -0.09356470174343401,
          -0.09526918304057279,
          -0.09641390483338909,
          -0.0960570614695012,
          -0.09662695071462973,
          -0.09732823327672574,
          -0.09458980897175308,
          -0.0951267150578504,
          -0.09139530653427311,
          -0.08799640294155997,
          -0.08626131013738046,
          -0.08390366662164854,
          -0.08062298524128086,
          -0.07397361840543118,
          -0.06597789281415561,
          -0.060418959543584234,
          -0.061708967546837364,
          -0.06467742454741494,
          -0.06327503529523569,
          -0.07487624297802853,
          -0.08344908099053386,
          -0.08982228168034938,
          -0.09552332867990282,
          -0.10283093801227104,
          -0.11052903438768132,
          -0.12336928144941811,
          -0.13877096785477855,
          -0.15133676617655173,
          -0.1642349899428886,
          -0.1753462159023011,
          -0.1833008260926769,
          -0.19147471263163923,
          -0.20045132289180556,
          -0.20647103681894646,
          -0.21073077317444378,
          -0.2137939963296895,
          -0.21512284120640515,
          -0.2139697658150694,
          -0.2115271169948309,
          -0.21014242411180323,
          -0.2056567235645216,
          -0.20515998335528907,
          -0.2070901046815183,
          -0.20708522645894364,
          -0.20476471586042352,
          -0.19965630510072885,
          -0.1928306374396782,
          -0.18545458740239446,
          -0.17223748045039772,
          -0.16389948883698147,
          -0.14844506530884932,
          -0.13185842278517304,
          -0.12026613593431086,
          -0.10682593073273212,
          -0.08663077670481992,
          -0.07494923980124883,
          -0.07057179163209464,
          -0.06893922523762012,
          -0.06310899819961799,
          -0.055504773638282726,
          -0.05298048600174316,
          -0.047055739495175844,
          -0.03920699782232416,
          -0.03186831023433809,
          -0.0235746658391886,
          -0.019682915603539047,
          -0.01259463783683302,
          -0.004751201677039354,
          0.01016143829536434,
          0.019822739548457417,
          0.031225478704584433,
          0.04773618500992369,
          0.056894579559385,
          0.06906281571678802,
          0.08355769651698368,
          0.10833145318234202,
          0.13205784406835633,
          0.1484097462921541,
          0.1682899042723565,
          0.18471195925162717,
          0.19441346838313223,
          0.1997037436571321,
          0.21693691630924575,
          0.23402996991037328,
          0.24920762822752868,
          0.2551247451012925,
          0.2549229761008955,
          0.2526824943103896,
          0.2532781848587655,
          0.25318226344772354,
          0.25576617419647696,
          0.263227880871902,
          0.2652541642671895,
          0.2566522174446601,
          0.2538090122467826,
          0.2547700361609282,
          0.2529391862974257,
          0.24577097858171293,
          0.24006830485919944,
          0.22207706441121433,
          0.19068381720871921,
          0.15791683166839862,
          0.1385443827005792,
          0.11676796043868878,
          0.10100444126239227,
          0.07980601666500593,
          0.0631145155149621,
          0.0402385922628299,
          0.012745141666096643,
          -0.013627586103220873,
          -0.027149355299226016,
          -0.03561120996256141,
          -0.04172509402680212,
          -0.05095586144420205,
          -0.062015359423294954,
          -0.07625801756162197,
          -0.09101668438959704,
          -0.09745137811912409,
          -0.10544047308909137,
          -0.11346478597913061,
          -0.11819136373162668,
          -0.1217488098847535
         ],
         "yaxis": "y"
        },
        {
         "hovertemplate": "variable=Average_200<br>Date=%{x}<br>value=%{y}<extra></extra>",
         "legendgroup": "Average_200",
         "line": {
          "color": "#EF553B",
          "dash": "solid"
         },
         "marker": {
          "symbol": "circle"
         },
         "mode": "lines",
         "name": "Average_200",
         "showlegend": true,
         "type": "scattergl",
         "x": [
          "2020-04-13T00:00:00",
          "2020-04-14T00:00:00",
          "2020-04-15T00:00:00",
          "2020-04-16T00:00:00",
          "2020-04-17T00:00:00",
          "2020-04-20T00:00:00",
          "2020-04-21T00:00:00",
          "2020-04-22T00:00:00",
          "2020-04-23T00:00:00",
          "2020-04-24T00:00:00",
          "2020-04-27T00:00:00",
          "2020-04-28T00:00:00",
          "2020-04-29T00:00:00",
          "2020-04-30T00:00:00",
          "2020-05-01T00:00:00",
          "2020-05-04T00:00:00",
          "2020-05-05T00:00:00",
          "2020-05-06T00:00:00",
          "2020-05-07T00:00:00",
          "2020-05-08T00:00:00",
          "2020-05-11T00:00:00",
          "2020-05-12T00:00:00",
          "2020-05-13T00:00:00",
          "2020-05-14T00:00:00",
          "2020-05-15T00:00:00",
          "2020-05-18T00:00:00",
          "2020-05-19T00:00:00",
          "2020-05-20T00:00:00",
          "2020-05-21T00:00:00",
          "2020-05-22T00:00:00",
          "2020-05-26T00:00:00",
          "2020-05-27T00:00:00",
          "2020-05-28T00:00:00",
          "2020-05-29T00:00:00",
          "2020-06-01T00:00:00",
          "2020-06-02T00:00:00",
          "2020-06-03T00:00:00",
          "2020-06-04T00:00:00",
          "2020-06-05T00:00:00",
          "2020-06-08T00:00:00",
          "2020-06-09T00:00:00",
          "2020-06-10T00:00:00",
          "2020-06-11T00:00:00",
          "2020-06-12T00:00:00",
          "2020-06-15T00:00:00",
          "2020-06-16T00:00:00",
          "2020-06-17T00:00:00",
          "2020-06-18T00:00:00",
          "2020-06-19T00:00:00",
          "2020-06-22T00:00:00",
          "2020-06-23T00:00:00",
          "2020-06-24T00:00:00",
          "2020-06-25T00:00:00",
          "2020-06-26T00:00:00",
          "2020-06-29T00:00:00",
          "2020-06-30T00:00:00",
          "2020-07-01T00:00:00",
          "2020-07-02T00:00:00",
          "2020-07-06T00:00:00",
          "2020-07-07T00:00:00",
          "2020-07-08T00:00:00",
          "2020-07-09T00:00:00",
          "2020-07-10T00:00:00",
          "2020-07-13T00:00:00",
          "2020-07-14T00:00:00",
          "2020-07-15T00:00:00",
          "2020-07-16T00:00:00",
          "2020-07-17T00:00:00",
          "2020-07-20T00:00:00",
          "2020-07-21T00:00:00",
          "2020-07-22T00:00:00",
          "2020-07-23T00:00:00",
          "2020-07-24T00:00:00",
          "2020-07-27T00:00:00",
          "2020-07-28T00:00:00",
          "2020-07-29T00:00:00",
          "2020-07-30T00:00:00",
          "2020-07-31T00:00:00",
          "2020-08-03T00:00:00",
          "2020-08-04T00:00:00",
          "2020-08-05T00:00:00",
          "2020-08-06T00:00:00",
          "2020-08-07T00:00:00",
          "2020-08-10T00:00:00",
          "2020-08-11T00:00:00",
          "2020-08-12T00:00:00",
          "2020-08-13T00:00:00",
          "2020-08-14T00:00:00",
          "2020-08-17T00:00:00",
          "2020-08-18T00:00:00",
          "2020-08-19T00:00:00",
          "2020-08-20T00:00:00",
          "2020-08-21T00:00:00",
          "2020-08-24T00:00:00",
          "2020-08-25T00:00:00",
          "2020-08-26T00:00:00",
          "2020-08-27T00:00:00",
          "2020-08-28T00:00:00",
          "2020-08-31T00:00:00",
          "2020-09-01T00:00:00",
          "2020-09-02T00:00:00",
          "2020-09-03T00:00:00",
          "2020-09-04T00:00:00",
          "2020-09-08T00:00:00",
          "2020-09-09T00:00:00",
          "2020-09-10T00:00:00",
          "2020-09-11T00:00:00",
          "2020-09-14T00:00:00",
          "2020-09-15T00:00:00",
          "2020-09-16T00:00:00",
          "2020-09-17T00:00:00",
          "2020-09-18T00:00:00",
          "2020-09-21T00:00:00",
          "2020-09-22T00:00:00",
          "2020-09-23T00:00:00",
          "2020-09-24T00:00:00",
          "2020-09-25T00:00:00",
          "2020-09-28T00:00:00",
          "2020-09-29T00:00:00",
          "2020-09-30T00:00:00",
          "2020-10-01T00:00:00",
          "2020-10-02T00:00:00",
          "2020-10-05T00:00:00",
          "2020-10-06T00:00:00",
          "2020-10-07T00:00:00",
          "2020-10-08T00:00:00",
          "2020-10-09T00:00:00",
          "2020-10-12T00:00:00",
          "2020-10-13T00:00:00",
          "2020-10-14T00:00:00",
          "2020-10-15T00:00:00",
          "2020-10-16T00:00:00",
          "2020-10-19T00:00:00",
          "2020-10-20T00:00:00",
          "2020-10-21T00:00:00",
          "2020-10-22T00:00:00",
          "2020-10-23T00:00:00",
          "2020-10-26T00:00:00",
          "2020-10-27T00:00:00",
          "2020-10-28T00:00:00",
          "2020-10-29T00:00:00",
          "2020-10-30T00:00:00",
          "2020-11-02T00:00:00",
          "2020-11-03T00:00:00",
          "2020-11-04T00:00:00",
          "2020-11-05T00:00:00",
          "2020-11-06T00:00:00",
          "2020-11-09T00:00:00",
          "2020-11-10T00:00:00",
          "2020-11-11T00:00:00",
          "2020-11-12T00:00:00",
          "2020-11-13T00:00:00",
          "2020-11-16T00:00:00",
          "2020-11-17T00:00:00",
          "2020-11-18T00:00:00",
          "2020-11-19T00:00:00",
          "2020-11-20T00:00:00",
          "2020-11-23T00:00:00",
          "2020-11-24T00:00:00",
          "2020-11-25T00:00:00",
          "2020-11-27T00:00:00",
          "2020-11-30T00:00:00",
          "2020-12-01T00:00:00",
          "2020-12-02T00:00:00",
          "2020-12-03T00:00:00",
          "2020-12-04T00:00:00",
          "2020-12-07T00:00:00",
          "2020-12-08T00:00:00",
          "2020-12-09T00:00:00",
          "2020-12-10T00:00:00",
          "2020-12-11T00:00:00",
          "2020-12-14T00:00:00",
          "2020-12-15T00:00:00",
          "2020-12-16T00:00:00",
          "2020-12-17T00:00:00",
          "2020-12-18T00:00:00",
          "2020-12-21T00:00:00",
          "2020-12-22T00:00:00",
          "2020-12-23T00:00:00",
          "2020-12-24T00:00:00",
          "2020-12-28T00:00:00",
          "2020-12-29T00:00:00",
          "2020-12-30T00:00:00",
          "2020-12-31T00:00:00",
          "2021-01-04T00:00:00",
          "2021-01-05T00:00:00",
          "2021-01-06T00:00:00",
          "2021-01-07T00:00:00",
          "2021-01-08T00:00:00",
          "2021-01-11T00:00:00",
          "2021-01-12T00:00:00",
          "2021-01-13T00:00:00",
          "2021-01-14T00:00:00",
          "2021-01-15T00:00:00",
          "2021-01-19T00:00:00",
          "2021-01-20T00:00:00",
          "2021-01-21T00:00:00",
          "2021-01-22T00:00:00",
          "2021-01-25T00:00:00",
          "2021-01-26T00:00:00",
          "2021-01-27T00:00:00",
          "2021-01-28T00:00:00",
          "2021-01-29T00:00:00",
          "2021-02-01T00:00:00",
          "2021-02-02T00:00:00",
          "2021-02-03T00:00:00",
          "2021-02-04T00:00:00",
          "2021-02-05T00:00:00",
          "2021-02-08T00:00:00",
          "2021-02-09T00:00:00",
          "2021-02-10T00:00:00",
          "2021-02-11T00:00:00",
          "2021-02-12T00:00:00",
          "2021-02-16T00:00:00",
          "2021-02-17T00:00:00",
          "2021-02-18T00:00:00",
          "2021-02-19T00:00:00",
          "2021-02-22T00:00:00",
          "2021-02-23T00:00:00",
          "2021-02-24T00:00:00",
          "2021-02-25T00:00:00",
          "2021-02-26T00:00:00",
          "2021-03-01T00:00:00",
          "2021-03-02T00:00:00",
          "2021-03-03T00:00:00",
          "2021-03-04T00:00:00",
          "2021-03-05T00:00:00",
          "2021-03-08T00:00:00",
          "2021-03-09T00:00:00",
          "2021-03-10T00:00:00",
          "2021-03-11T00:00:00",
          "2021-03-12T00:00:00",
          "2021-03-15T00:00:00",
          "2021-03-16T00:00:00",
          "2021-03-17T00:00:00",
          "2021-03-18T00:00:00",
          "2021-03-19T00:00:00",
          "2021-03-22T00:00:00",
          "2021-03-23T00:00:00",
          "2021-03-24T00:00:00",
          "2021-03-25T00:00:00",
          "2021-03-26T00:00:00",
          "2021-03-29T00:00:00",
          "2021-03-30T00:00:00",
          "2021-03-31T00:00:00",
          "2021-04-01T00:00:00",
          "2021-04-05T00:00:00",
          "2021-04-06T00:00:00",
          "2021-04-07T00:00:00",
          "2021-04-08T00:00:00",
          "2021-04-09T00:00:00",
          "2021-04-12T00:00:00",
          "2021-04-13T00:00:00",
          "2021-04-14T00:00:00",
          "2021-04-15T00:00:00",
          "2021-04-16T00:00:00",
          "2021-04-19T00:00:00",
          "2021-04-20T00:00:00",
          "2021-04-21T00:00:00",
          "2021-04-22T00:00:00",
          "2021-04-23T00:00:00",
          "2021-04-26T00:00:00",
          "2021-04-27T00:00:00",
          "2021-04-28T00:00:00",
          "2021-04-29T00:00:00",
          "2021-04-30T00:00:00",
          "2021-05-03T00:00:00",
          "2021-05-04T00:00:00",
          "2021-05-05T00:00:00",
          "2021-05-06T00:00:00",
          "2021-05-07T00:00:00",
          "2021-05-10T00:00:00",
          "2021-05-11T00:00:00",
          "2021-05-12T00:00:00",
          "2021-05-13T00:00:00",
          "2021-05-14T00:00:00",
          "2021-05-17T00:00:00",
          "2021-05-18T00:00:00",
          "2021-05-19T00:00:00",
          "2021-05-20T00:00:00",
          "2021-05-21T00:00:00",
          "2021-05-24T00:00:00",
          "2021-05-25T00:00:00",
          "2021-05-26T00:00:00",
          "2021-05-27T00:00:00",
          "2021-05-28T00:00:00",
          "2021-06-01T00:00:00",
          "2021-06-02T00:00:00",
          "2021-06-03T00:00:00",
          "2021-06-04T00:00:00",
          "2021-06-07T00:00:00",
          "2021-06-08T00:00:00",
          "2021-06-09T00:00:00",
          "2021-06-10T00:00:00",
          "2021-06-11T00:00:00",
          "2021-06-14T00:00:00",
          "2021-06-15T00:00:00",
          "2021-06-16T00:00:00",
          "2021-06-17T00:00:00",
          "2021-06-18T00:00:00",
          "2021-06-21T00:00:00",
          "2021-06-22T00:00:00",
          "2021-06-23T00:00:00",
          "2021-06-24T00:00:00",
          "2021-06-25T00:00:00",
          "2021-06-28T00:00:00",
          "2021-06-29T00:00:00",
          "2021-06-30T00:00:00",
          "2021-07-01T00:00:00",
          "2021-07-02T00:00:00",
          "2021-07-06T00:00:00",
          "2021-07-07T00:00:00",
          "2021-07-08T00:00:00",
          "2021-07-09T00:00:00",
          "2021-07-12T00:00:00",
          "2021-07-13T00:00:00",
          "2021-07-14T00:00:00",
          "2021-07-15T00:00:00",
          "2021-07-16T00:00:00",
          "2021-07-19T00:00:00",
          "2021-07-20T00:00:00",
          "2021-07-21T00:00:00",
          "2021-07-22T00:00:00",
          "2021-07-23T00:00:00",
          "2021-07-26T00:00:00",
          "2021-07-27T00:00:00",
          "2021-07-28T00:00:00",
          "2021-07-29T00:00:00",
          "2021-07-30T00:00:00",
          "2021-08-02T00:00:00",
          "2021-08-03T00:00:00",
          "2021-08-04T00:00:00",
          "2021-08-05T00:00:00",
          "2021-08-06T00:00:00",
          "2021-08-09T00:00:00",
          "2021-08-10T00:00:00",
          "2021-08-11T00:00:00",
          "2021-08-12T00:00:00",
          "2021-08-13T00:00:00",
          "2021-08-16T00:00:00",
          "2021-08-17T00:00:00",
          "2021-08-18T00:00:00",
          "2021-08-19T00:00:00",
          "2021-08-20T00:00:00",
          "2021-08-23T00:00:00",
          "2021-08-24T00:00:00",
          "2021-08-25T00:00:00",
          "2021-08-26T00:00:00",
          "2021-08-27T00:00:00",
          "2021-08-30T00:00:00",
          "2021-08-31T00:00:00",
          "2021-09-01T00:00:00",
          "2021-09-02T00:00:00",
          "2021-09-03T00:00:00",
          "2021-09-07T00:00:00",
          "2021-09-08T00:00:00",
          "2021-09-09T00:00:00",
          "2021-09-10T00:00:00",
          "2021-09-13T00:00:00",
          "2021-09-14T00:00:00",
          "2021-09-15T00:00:00",
          "2021-09-16T00:00:00",
          "2021-09-17T00:00:00",
          "2021-09-20T00:00:00",
          "2021-09-21T00:00:00",
          "2021-09-22T00:00:00",
          "2021-09-23T00:00:00",
          "2021-09-24T00:00:00",
          "2021-09-27T00:00:00",
          "2021-09-28T00:00:00",
          "2021-09-29T00:00:00",
          "2021-09-30T00:00:00",
          "2021-10-01T00:00:00",
          "2021-10-04T00:00:00",
          "2021-10-05T00:00:00",
          "2021-10-06T00:00:00",
          "2021-10-07T00:00:00",
          "2021-10-08T00:00:00",
          "2021-10-11T00:00:00",
          "2021-10-12T00:00:00",
          "2021-10-13T00:00:00",
          "2021-10-14T00:00:00",
          "2021-10-15T00:00:00",
          "2021-10-18T00:00:00",
          "2021-10-19T00:00:00",
          "2021-10-20T00:00:00",
          "2021-10-21T00:00:00",
          "2021-10-22T00:00:00",
          "2021-10-25T00:00:00",
          "2021-10-26T00:00:00",
          "2021-10-27T00:00:00",
          "2021-10-28T00:00:00",
          "2021-10-29T00:00:00",
          "2021-11-01T00:00:00",
          "2021-11-02T00:00:00",
          "2021-11-03T00:00:00",
          "2021-11-04T00:00:00",
          "2021-11-05T00:00:00",
          "2021-11-08T00:00:00",
          "2021-11-09T00:00:00",
          "2021-11-10T00:00:00",
          "2021-11-11T00:00:00",
          "2021-11-12T00:00:00",
          "2021-11-15T00:00:00",
          "2021-11-16T00:00:00",
          "2021-11-17T00:00:00",
          "2021-11-18T00:00:00",
          "2021-11-19T00:00:00",
          "2021-11-22T00:00:00",
          "2021-11-23T00:00:00",
          "2021-11-24T00:00:00",
          "2021-11-26T00:00:00",
          "2021-11-29T00:00:00",
          "2021-11-30T00:00:00",
          "2021-12-01T00:00:00",
          "2021-12-02T00:00:00",
          "2021-12-03T00:00:00",
          "2021-12-06T00:00:00",
          "2021-12-07T00:00:00",
          "2021-12-08T00:00:00",
          "2021-12-09T00:00:00",
          "2021-12-10T00:00:00",
          "2021-12-13T00:00:00",
          "2021-12-14T00:00:00",
          "2021-12-15T00:00:00",
          "2021-12-16T00:00:00",
          "2021-12-17T00:00:00",
          "2021-12-20T00:00:00",
          "2021-12-21T00:00:00",
          "2021-12-22T00:00:00",
          "2021-12-23T00:00:00",
          "2021-12-27T00:00:00",
          "2021-12-28T00:00:00",
          "2021-12-29T00:00:00",
          "2021-12-30T00:00:00",
          "2021-12-31T00:00:00",
          "2022-01-03T00:00:00",
          "2022-01-04T00:00:00",
          "2022-01-05T00:00:00",
          "2022-01-06T00:00:00",
          "2022-01-07T00:00:00",
          "2022-01-10T00:00:00",
          "2022-01-11T00:00:00",
          "2022-01-12T00:00:00",
          "2022-01-13T00:00:00",
          "2022-01-14T00:00:00",
          "2022-01-18T00:00:00",
          "2022-01-19T00:00:00",
          "2022-01-20T00:00:00",
          "2022-01-21T00:00:00",
          "2022-01-24T00:00:00",
          "2022-01-25T00:00:00",
          "2022-01-26T00:00:00",
          "2022-01-27T00:00:00",
          "2022-01-28T00:00:00",
          "2022-01-31T00:00:00",
          "2022-02-01T00:00:00",
          "2022-02-02T00:00:00",
          "2022-02-03T00:00:00",
          "2022-02-04T00:00:00",
          "2022-02-07T00:00:00",
          "2022-02-08T00:00:00",
          "2022-02-09T00:00:00",
          "2022-02-10T00:00:00",
          "2022-02-11T00:00:00",
          "2022-02-14T00:00:00",
          "2022-02-15T00:00:00",
          "2022-02-16T00:00:00",
          "2022-02-17T00:00:00",
          "2022-02-18T00:00:00",
          "2022-02-22T00:00:00",
          "2022-02-23T00:00:00",
          "2022-02-24T00:00:00",
          "2022-02-25T00:00:00",
          "2022-02-28T00:00:00",
          "2022-03-01T00:00:00",
          "2022-03-02T00:00:00",
          "2022-03-03T00:00:00",
          "2022-03-04T00:00:00",
          "2022-03-07T00:00:00",
          "2022-03-08T00:00:00",
          "2022-03-09T00:00:00",
          "2022-03-10T00:00:00",
          "2022-03-11T00:00:00",
          "2022-03-14T00:00:00",
          "2022-03-15T00:00:00",
          "2022-03-16T00:00:00",
          "2022-03-17T00:00:00",
          "2022-03-18T00:00:00",
          "2022-03-21T00:00:00",
          "2022-03-22T00:00:00",
          "2022-03-23T00:00:00",
          "2022-03-24T00:00:00",
          "2022-03-25T00:00:00",
          "2022-03-28T00:00:00",
          "2022-03-29T00:00:00",
          "2022-03-30T00:00:00",
          "2022-03-31T00:00:00",
          "2022-04-01T00:00:00",
          "2022-04-04T00:00:00",
          "2022-04-05T00:00:00",
          "2022-04-06T00:00:00",
          "2022-04-07T00:00:00",
          "2022-04-08T00:00:00",
          "2022-04-11T00:00:00",
          "2022-04-12T00:00:00",
          "2022-04-13T00:00:00",
          "2022-04-14T00:00:00",
          "2022-04-18T00:00:00",
          "2022-04-19T00:00:00",
          "2022-04-20T00:00:00",
          "2022-04-21T00:00:00",
          "2022-04-22T00:00:00",
          "2022-04-25T00:00:00",
          "2022-04-26T00:00:00",
          "2022-04-27T00:00:00",
          "2022-04-28T00:00:00",
          "2022-04-29T00:00:00",
          "2022-05-02T00:00:00",
          "2022-05-03T00:00:00",
          "2022-05-04T00:00:00",
          "2022-05-05T00:00:00",
          "2022-05-06T00:00:00",
          "2022-05-09T00:00:00",
          "2022-05-10T00:00:00",
          "2022-05-11T00:00:00",
          "2022-05-12T00:00:00",
          "2022-05-13T00:00:00",
          "2022-05-16T00:00:00",
          "2022-05-17T00:00:00",
          "2022-05-18T00:00:00",
          "2022-05-19T00:00:00",
          "2022-05-20T00:00:00",
          "2022-05-23T00:00:00",
          "2022-05-24T00:00:00",
          "2022-05-25T00:00:00",
          "2022-05-26T00:00:00",
          "2022-05-27T00:00:00",
          "2022-05-31T00:00:00",
          "2022-06-01T00:00:00",
          "2022-06-02T00:00:00",
          "2022-06-03T00:00:00",
          "2022-06-06T00:00:00",
          "2022-06-07T00:00:00",
          "2022-06-08T00:00:00",
          "2022-06-09T00:00:00",
          "2022-06-10T00:00:00",
          "2022-06-13T00:00:00",
          "2022-06-14T00:00:00",
          "2022-06-15T00:00:00",
          "2022-06-16T00:00:00",
          "2022-06-17T00:00:00",
          "2022-06-21T00:00:00",
          "2022-06-22T00:00:00",
          "2022-06-23T00:00:00",
          "2022-06-24T00:00:00",
          "2022-06-27T00:00:00",
          "2022-06-28T00:00:00",
          "2022-06-29T00:00:00",
          "2022-06-30T00:00:00",
          "2022-07-01T00:00:00",
          "2022-07-05T00:00:00",
          "2022-07-06T00:00:00",
          "2022-07-07T00:00:00",
          "2022-07-08T00:00:00",
          "2022-07-11T00:00:00",
          "2022-07-12T00:00:00",
          "2022-07-13T00:00:00",
          "2022-07-14T00:00:00",
          "2022-07-15T00:00:00",
          "2022-07-18T00:00:00",
          "2022-07-19T00:00:00",
          "2022-07-20T00:00:00",
          "2022-07-21T00:00:00",
          "2022-07-22T00:00:00",
          "2022-07-25T00:00:00",
          "2022-07-26T00:00:00",
          "2022-07-27T00:00:00",
          "2022-07-28T00:00:00",
          "2022-07-29T00:00:00",
          "2022-08-01T00:00:00",
          "2022-08-02T00:00:00",
          "2022-08-03T00:00:00",
          "2022-08-04T00:00:00",
          "2022-08-05T00:00:00",
          "2022-08-08T00:00:00",
          "2022-08-09T00:00:00",
          "2022-08-10T00:00:00",
          "2022-08-11T00:00:00",
          "2022-08-12T00:00:00",
          "2022-08-15T00:00:00",
          "2022-08-16T00:00:00",
          "2022-08-17T00:00:00",
          "2022-08-18T00:00:00",
          "2022-08-19T00:00:00",
          "2022-08-22T00:00:00",
          "2022-08-23T00:00:00",
          "2022-08-24T00:00:00",
          "2022-08-25T00:00:00",
          "2022-08-26T00:00:00",
          "2022-08-29T00:00:00",
          "2022-08-30T00:00:00",
          "2022-08-31T00:00:00",
          "2022-09-01T00:00:00",
          "2022-09-02T00:00:00",
          "2022-09-06T00:00:00",
          "2022-09-07T00:00:00",
          "2022-09-08T00:00:00",
          "2022-09-09T00:00:00",
          "2022-09-12T00:00:00",
          "2022-09-13T00:00:00",
          "2022-09-14T00:00:00",
          "2022-09-15T00:00:00",
          "2022-09-16T00:00:00",
          "2022-09-19T00:00:00",
          "2022-09-20T00:00:00",
          "2022-09-21T00:00:00",
          "2022-09-22T00:00:00",
          "2022-09-23T00:00:00",
          "2022-09-26T00:00:00",
          "2022-09-27T00:00:00",
          "2022-09-28T00:00:00",
          "2022-09-29T00:00:00",
          "2022-09-30T00:00:00",
          "2022-10-03T00:00:00",
          "2022-10-04T00:00:00",
          "2022-10-05T00:00:00",
          "2022-10-06T00:00:00",
          "2022-10-07T00:00:00",
          "2022-10-10T00:00:00",
          "2022-10-11T00:00:00",
          "2022-10-12T00:00:00",
          "2022-10-13T00:00:00",
          "2022-10-14T00:00:00",
          "2022-10-17T00:00:00",
          "2022-10-18T00:00:00",
          "2022-10-19T00:00:00",
          "2022-10-20T00:00:00",
          "2022-10-21T00:00:00",
          "2022-10-24T00:00:00",
          "2022-10-25T00:00:00",
          "2022-10-26T00:00:00",
          "2022-10-27T00:00:00",
          "2022-10-28T00:00:00",
          "2022-10-31T00:00:00",
          "2022-11-01T00:00:00",
          "2022-11-02T00:00:00",
          "2022-11-03T00:00:00",
          "2022-11-04T00:00:00",
          "2022-11-07T00:00:00",
          "2022-11-08T00:00:00",
          "2022-11-09T00:00:00",
          "2022-11-10T00:00:00",
          "2022-11-11T00:00:00",
          "2022-11-14T00:00:00",
          "2022-11-15T00:00:00",
          "2022-11-16T00:00:00",
          "2022-11-17T00:00:00",
          "2022-11-18T00:00:00",
          "2022-11-21T00:00:00",
          "2022-11-22T00:00:00",
          "2022-11-23T00:00:00",
          "2022-11-25T00:00:00",
          "2022-11-28T00:00:00",
          "2022-11-29T00:00:00",
          "2022-11-30T00:00:00",
          "2022-12-01T00:00:00",
          "2022-12-02T00:00:00",
          "2022-12-05T00:00:00",
          "2022-12-06T00:00:00",
          "2022-12-07T00:00:00",
          "2022-12-08T00:00:00",
          "2022-12-09T00:00:00",
          "2022-12-12T00:00:00",
          "2022-12-13T00:00:00",
          "2022-12-14T00:00:00",
          "2022-12-15T00:00:00",
          "2022-12-16T00:00:00",
          "2022-12-19T00:00:00",
          "2022-12-20T00:00:00",
          "2022-12-21T00:00:00",
          "2022-12-22T00:00:00",
          "2022-12-23T00:00:00",
          "2022-12-27T00:00:00",
          "2022-12-28T00:00:00",
          "2022-12-29T00:00:00",
          "2022-12-30T00:00:00",
          "2023-01-03T00:00:00",
          "2023-01-04T00:00:00",
          "2023-01-05T00:00:00",
          "2023-01-06T00:00:00",
          "2023-01-09T00:00:00",
          "2023-01-10T00:00:00",
          "2023-01-11T00:00:00",
          "2023-01-12T00:00:00",
          "2023-01-13T00:00:00",
          "2023-01-17T00:00:00",
          "2023-01-18T00:00:00",
          "2023-01-19T00:00:00",
          "2023-01-20T00:00:00",
          "2023-01-23T00:00:00",
          "2023-01-24T00:00:00",
          "2023-01-25T00:00:00",
          "2023-01-26T00:00:00",
          "2023-01-27T00:00:00",
          "2023-01-30T00:00:00",
          "2023-01-31T00:00:00",
          "2023-02-01T00:00:00",
          "2023-02-02T00:00:00",
          "2023-02-03T00:00:00",
          "2023-02-06T00:00:00",
          "2023-02-07T00:00:00",
          "2023-02-08T00:00:00",
          "2023-02-09T00:00:00",
          "2023-02-10T00:00:00",
          "2023-02-13T00:00:00",
          "2023-02-14T00:00:00",
          "2023-02-15T00:00:00",
          "2023-02-16T00:00:00",
          "2023-02-17T00:00:00",
          "2023-02-21T00:00:00",
          "2023-02-22T00:00:00",
          "2023-02-23T00:00:00",
          "2023-02-24T00:00:00",
          "2023-02-27T00:00:00",
          "2023-02-28T00:00:00",
          "2023-03-01T00:00:00",
          "2023-03-02T00:00:00",
          "2023-03-03T00:00:00",
          "2023-03-06T00:00:00",
          "2023-03-07T00:00:00",
          "2023-03-08T00:00:00",
          "2023-03-09T00:00:00",
          "2023-03-10T00:00:00",
          "2023-03-13T00:00:00",
          "2023-03-14T00:00:00",
          "2023-03-15T00:00:00",
          "2023-03-16T00:00:00",
          "2023-03-17T00:00:00",
          "2023-03-20T00:00:00",
          "2023-03-21T00:00:00",
          "2023-03-22T00:00:00",
          "2023-03-23T00:00:00",
          "2023-03-24T00:00:00",
          "2023-03-27T00:00:00",
          "2023-03-28T00:00:00",
          "2023-03-29T00:00:00",
          "2023-03-30T00:00:00",
          "2023-03-31T00:00:00",
          "2023-04-03T00:00:00",
          "2023-04-04T00:00:00",
          "2023-04-05T00:00:00",
          "2023-04-06T00:00:00",
          "2023-04-10T00:00:00",
          "2023-04-11T00:00:00"
         ],
         "xaxis": "x",
         "y": [
          null,
          null,
          null,
          null,
          null,
          null,
          null,
          null,
          null,
          null,
          null,
          null,
          null,
          null,
          null,
          null,
          null,
          null,
          null,
          null,
          null,
          null,
          null,
          null,
          null,
          null,
          null,
          null,
          null,
          null,
          null,
          null,
          null,
          null,
          null,
          null,
          null,
          null,
          null,
          null,
          null,
          null,
          null,
          null,
          null,
          null,
          null,
          null,
          null,
          null,
          null,
          null,
          null,
          null,
          null,
          null,
          null,
          null,
          null,
          null,
          null,
          null,
          null,
          null,
          null,
          null,
          null,
          null,
          null,
          null,
          null,
          null,
          null,
          null,
          null,
          null,
          null,
          null,
          null,
          null,
          null,
          null,
          null,
          null,
          null,
          null,
          null,
          null,
          null,
          null,
          null,
          null,
          null,
          null,
          null,
          null,
          null,
          null,
          null,
          null,
          null,
          null,
          null,
          null,
          null,
          null,
          null,
          null,
          null,
          null,
          null,
          null,
          null,
          null,
          null,
          null,
          null,
          null,
          null,
          null,
          null,
          null,
          null,
          null,
          null,
          null,
          null,
          null,
          null,
          null,
          null,
          null,
          null,
          null,
          null,
          null,
          null,
          null,
          null,
          null,
          null,
          null,
          null,
          null,
          null,
          null,
          null,
          null,
          null,
          null,
          null,
          null,
          null,
          null,
          null,
          null,
          null,
          null,
          null,
          null,
          null,
          null,
          null,
          null,
          null,
          null,
          null,
          null,
          null,
          null,
          null,
          null,
          null,
          null,
          null,
          null,
          null,
          null,
          null,
          null,
          null,
          null,
          null,
          null,
          null,
          null,
          null,
          null,
          null,
          null,
          null,
          null,
          null,
          null,
          null,
          null,
          null,
          null,
          null,
          -0.15989349255866894,
          -0.15898313402044387,
          -0.15900441945633267,
          -0.1582560536612789,
          -0.1579198347190166,
          -0.15803036162334663,
          -0.1576775993803098,
          -0.15693395439027355,
          -0.156895038186409,
          -0.15655129576117935,
          -0.15643232893478573,
          -0.15663893558242872,
          -0.1565424190070473,
          -0.15586862040951618,
          -0.1547868043832574,
          -0.15314994912989147,
          -0.15184477619679726,
          -0.15040039747165856,
          -0.1481971722907375,
          -0.14588844008656265,
          -0.14386780470280106,
          -0.14200156894082472,
          -0.13940905247557728,
          -0.13651167797635677,
          -0.13461434815452344,
          -0.13284972540661494,
          -0.1317567789373246,
          -0.13080358952395743,
          -0.1296788817281943,
          -0.1281857555436448,
          -0.1271631014187612,
          -0.12578547895630635,
          -0.12477708598319112,
          -0.12451890156282676,
          -0.12451471562878838,
          -0.12430375455041971,
          -0.12404435261992286,
          -0.1239616324834995,
          -0.1236567899532415,
          -0.12379618076880851,
          -0.12468589610409654,
          -0.125265296036662,
          -0.12618333102715687,
          -0.12568348334279605,
          -0.1248573862441798,
          -0.12371309898656359,
          -0.12295751178364256,
          -0.12230584842591874,
          -0.12126386163670136,
          -0.12003922074609572,
          -0.11875907941917781,
          -0.11784945664800872,
          -0.11599941147426132,
          -0.11443209356765294,
          -0.11226615004918261,
          -0.11148317529773075,
          -0.11166377873125019,
          -0.11192798051168608,
          -0.11248106797564685,
          -0.1134838295273379,
          -0.11382237266593241,
          -0.11411470866835328,
          -0.1136037010946916,
          -0.11342897297678542,
          -0.11264092198538164,
          -0.1126299976049017,
          -0.11285522872201831,
          -0.11345198017148644,
          -0.1142152970950889,
          -0.1147102646757571,
          -0.11589210008289591,
          -0.11743633944856824,
          -0.11895523696183238,
          -0.11980727177732645,
          -0.11985583807669178,
          -0.12064427399114695,
          -0.12173955284258657,
          -0.12269015028035538,
          -0.12363995381089433,
          -0.12456363987942659,
          -0.12577855142456568,
          -0.12697319741387209,
          -0.12825241559128514,
          -0.12946334557207967,
          -0.13052694302510323,
          -0.13085335061479914,
          -0.13158639582585296,
          -0.13213051569456166,
          -0.13268735780692104,
          -0.1335862433804643,
          -0.13436408856363843,
          -0.13467034080057372,
          -0.13469140414422143,
          -0.13479687234362167,
          -0.13519990508698532,
          -0.13565871019524667,
          -0.13606767435077963,
          -0.13670256754315882,
          -0.13752500346732713,
          -0.13826761113431102,
          -0.138629663492936,
          -0.13954105841661743,
          -0.140028162681026,
          -0.14024713682533507,
          -0.14023889210441418,
          -0.1411101255265118,
          -0.141416424397688,
          -0.14164726419830803,
          -0.14268732521624808,
          -0.14382933882913373,
          -0.14525106828910628,
          -0.14650450809222795,
          -0.14746173829303974,
          -0.14794625703307698,
          -0.14854490079944094,
          -0.14875001782165048,
          -0.14952536992011878,
          -0.15059399280211166,
          -0.15193185274772683,
          -0.15270188100749352,
          -0.15322013361025844,
          -0.15403621554441763,
          -0.15468734760426428,
          -0.1559527800484149,
          -0.15735707217228467,
          -0.15933312437958122,
          -0.1616945775161507,
          -0.16381033150263719,
          -0.16590786196411567,
          -0.16772906154090678,
          -0.16909088239402253,
          -0.17089833822641254,
          -0.1726432368848266,
          -0.17399728220982547,
          -0.17558475443132907,
          -0.17686356521471586,
          -0.17857123541529485,
          -0.18034230576972077,
          -0.1817144620043178,
          -0.18280886601275648,
          -0.18284349158942542,
          -0.18265394322976292,
          -0.18231911529767475,
          -0.1826056924364852,
          -0.1833380065451372,
          -0.18413191177104096,
          -0.1848584330878015,
          -0.1850391136971822,
          -0.18556789715037836,
          -0.18687021501321577,
          -0.18811613453989162,
          -0.1892580210310159,
          -0.19060214637791917,
          -0.19177197768751622,
          -0.19252999934004367,
          -0.1927083342658604,
          -0.19247040247925123,
          -0.19167680827735353,
          -0.19072962725884787,
          -0.19009047139941757,
          -0.18894846466654852,
          -0.18759607558125843,
          -0.18588785930944768,
          -0.18431432839341735,
          -0.18260315905037441,
          -0.1804043012118051,
          -0.1785878819326131,
          -0.17678617768725255,
          -0.17491183080917241,
          -0.17298775856813514,
          -0.1706432823044504,
          -0.1692602724562663,
          -0.16699523038499658,
          -0.16557729302927582,
          -0.16376616335004474,
          -0.1620044935580984,
          -0.16044646563804035,
          -0.15863522864294588,
          -0.15655209618117316,
          -0.15454130163841928,
          -0.15294273340822176,
          -0.1519340295712575,
          -0.15124441356069368,
          -0.15106849838639633,
          -0.15111704130374468,
          -0.15151025116835726,
          -0.152241400646645,
          -0.15379902817133925,
          -0.15546046313438336,
          -0.15716462122362787,
          -0.15900362500346255,
          -0.16016684880785126,
          -0.16114529164543073,
          -0.1611841381637951,
          -0.16118179181807654,
          -0.16042008042923844,
          -0.15981051011657715,
          -0.1589257166801245,
          -0.1585628055972148,
          -0.15793487434626183,
          -0.15677357696337568,
          -0.15406405617333702,
          -0.15235070908076132,
          -0.149577684581146,
          -0.1473759328014005,
          -0.14609011312526818,
          -0.14466572028894295,
          -0.14341219424503152,
          -0.1419878299227605,
          -0.14050458936178342,
          -0.13947410676005775,
          -0.1384917146939835,
          -0.13704413849824706,
          -0.13529399931949396,
          -0.13359466164279496,
          -0.1320031100474227,
          -0.1297805459609749,
          -0.12762491200438142,
          -0.12568737767983387,
          -0.12419395000235862,
          -0.12306850894466835,
          -0.12124374880293692,
          -0.11922109946449538,
          -0.11810762166394666,
          -0.1164785115295658,
          -0.11444066662684085,
          -0.11212348511611853,
          -0.11038451347727471,
          -0.10830247536216085,
          -0.10698011770118875,
          -0.10620937322365932,
          -0.10619638432245371,
          -0.10689380548360977,
          -0.10808307920149299,
          -0.10946467608995987,
          -0.11033188256495763,
          -0.11034570857731253,
          -0.11084590714839315,
          -0.11140595497649922,
          -0.11096201670673353,
          -0.109466237830316,
          -0.10803195795569151,
          -0.10754605643314985,
          -0.10753374150576117,
          -0.10762709197307835,
          -0.10706895272009977,
          -0.10694650827822379,
          -0.10686217528626325,
          -0.10638955345755034,
          -0.10568232103242219,
          -0.10410064937652488,
          -0.10277680079177491,
          -0.10101094210600227,
          -0.09946863074720895,
          -0.09762082678113229,
          -0.09666424854780284,
          -0.09676198023929383,
          -0.09713918218212142,
          -0.09834748767446516,
          -0.09881633950045507,
          -0.09907502616153473,
          -0.09926268107611093,
          -0.09963130759797909,
          -0.10082748100867206,
          -0.1008326616465829,
          -0.09984153265754686,
          -0.0988255294493558,
          -0.09900149087603831,
          -0.09914905321511538,
          -0.09804738511163112,
          -0.09700680097621978,
          -0.09549205902262509,
          -0.09363761466737368,
          -0.09191311427593057,
          -0.09047874434128689,
          -0.08919529082445662,
          -0.08671869867887744,
          -0.08520651566011715,
          -0.08294927745982023,
          -0.07924816094367755,
          -0.07272879626631495,
          -0.06669038602699821,
          -0.06298831789709722,
          -0.05808777315778977,
          -0.052046829732162306,
          -0.045203989423918484,
          -0.04013299131461412,
          -0.0373322372182799,
          -0.035739222059532255,
          -0.03522377030804919,
          -0.034850045121167184,
          -0.035293942616119706,
          -0.0340021984926708,
          -0.03416672214862856,
          -0.03521761057135142,
          -0.037057556894620924,
          -0.04045588150768024,
          -0.04309870315700312,
          -0.04320056500289244,
          -0.04356937096277071,
          -0.04369308063881262,
          -0.04317019254960857,
          -0.04087355240178414,
          -0.03893357463416708,
          -0.03673932484883868,
          -0.03250069928672505,
          -0.027534615128100594,
          -0.02414671769602721,
          -0.018993474923626043,
          -0.014604373344487677,
          -0.013055742680840594,
          -0.011044980175011744,
          -0.006782415793684351,
          0.0007749554360328006,
          0.00706268156739788,
          0.01573325390038571,
          0.024650314966165238,
          0.031586765110872654,
          0.04105119876807449,
          0.04921746953455046,
          0.05821656370930986,
          0.06406748352845591,
          0.07187744952099699,
          0.08006258174122752,
          0.087910420621746,
          0.09446974113414476,
          0.10140615333115094,
          0.1074292278804209,
          0.11308315315656103,
          0.11926195959533684,
          0.12391399869399526,
          0.12639418827350465,
          0.12880862042345972,
          0.13170496673686813,
          0.13531230251890125,
          0.1396484635123798,
          0.14364816312035467,
          0.14717585728412003,
          0.15017704034985746,
          0.15311855606947328,
          0.15595472576669547,
          0.15855947560834324,
          0.16191804556795403,
          0.16496747132898082,
          0.1675571422046622,
          0.16980883466929442,
          0.17159063327264906,
          0.17294510059474727,
          0.17203406289430728,
          0.16959778666029324,
          0.1676998905306471,
          0.16410494235930403,
          0.16048224513764078,
          0.15961933889883245,
          0.15872233192200702,
          0.15853317178619541,
          0.1593157584643635,
          0.16045967459560057,
          0.16126973055769814,
          0.16229788831873534,
          0.16325198894996704,
          0.16469880099078804,
          0.165403910198895,
          0.166795096370858,
          0.1690789278945739,
          0.17149047786931335,
          0.17353884772329115,
          0.17455130276395206,
          0.17537883884032146,
          0.1762183533530462,
          0.1781984109339909,
          0.17966807221868827,
          0.1819324769279824,
          0.18307538060313683,
          0.18476539395233113,
          0.1861926351242237,
          0.1873737060620564,
          0.18856281397040983,
          0.18980100347182458,
          0.191722353166401,
          0.1934226619270124,
          0.19498835533805847,
          0.19605399117642303,
          0.19638378940350334,
          0.19662190638546778,
          0.19663408855392392,
          0.19660025365865869,
          0.19652727443712706,
          0.19608176250724563,
          0.19536833103627255,
          0.19390901649947084,
          0.19230871105158423,
          0.19042249570202693,
          0.18879593564530264,
          0.18700654212402545,
          0.18554520926779508,
          0.18475112923766815,
          0.18412689063832074,
          0.18338077686084503,
          0.18196632059590429,
          0.18134668008728053,
          0.1811849365158293,
          0.18098154662179394,
          0.18056620811825055,
          0.18019884998490832,
          0.1796672908586964,
          0.17894605968128102,
          0.1783342778478713,
          0.1775349528918037,
          0.17629533879104478,
          0.17507608924641652,
          0.1744109175800933,
          0.17406356647548718,
          0.17318800579450808,
          0.17257067218444572,
          0.17231002275709745,
          0.17151070307527438,
          0.1711822485632571,
          0.17068974061184342,
          0.16909405140179434,
          0.16694837888413624,
          0.1646525599191349,
          0.16319486028563024,
          0.16116777488240425,
          0.1582822243665768,
          0.15666877157497058,
          0.155980793927094,
          0.15480473841940903,
          0.15308385454073337,
          0.1504179416792181,
          0.14758172772929562,
          0.1447805673299783,
          0.14155311082065783,
          0.13973589000217357,
          0.13721535753411873,
          0.1351768221380532,
          0.13363851272954475,
          0.13168450771136367,
          0.1291871581928147,
          0.12719354085515353,
          0.12481666201825668,
          0.1225002994146789,
          0.12036017818234859,
          0.11794047659240377,
          0.1149621805158026,
          0.11245487866087005,
          0.11000764811936137,
          0.1082984520795557,
          0.10728930950038199,
          0.10630909841067072,
          0.10583600882511088,
          0.10492437267072895,
          0.1047063859648773,
          0.103351270985754,
          0.10200600884266336,
          0.09980003289361247,
          0.09696746730002984,
          0.09373328777783788,
          0.09029299961746315,
          0.08753311049255333,
          0.08493400526202079,
          0.08166292353567833,
          0.07791796852167998,
          0.07360439229400707,
          0.07003213543699724,
          0.06732461732421777,
          0.06306963151115659,
          0.05813199116851925,
          0.0531802293906813,
          0.04994082354692385,
          0.047287268986325126,
          0.045256229790379236,
          0.04373308333899706,
          0.04151339863082863,
          0.03848740692296207,
          0.03537424288612544,
          0.03329962838702012,
          0.031272020055324354,
          0.029728573379614334,
          0.028970536711352468,
          0.029056682377144913,
          0.029015328428275998,
          0.028168960646313388,
          0.027514072288066616,
          0.027524554801556703,
          0.028051865657884787,
          0.027732582007213565,
          0.026453178608379608,
          0.02490213497581652,
          0.022553703199471763,
          0.0203261651783719,
          0.017544473753750928,
          0.014885072006733339,
          0.011988029392149328,
          0.008737611670415521,
          0.005026500593046391,
          0.0008037082833139839,
          -0.002854316798008608,
          -0.005776730932041219,
          -0.00828272027890274,
          -0.012075567182394886,
          -0.015297943390964401,
          -0.01730509099957531,
          -0.019208225990796114,
          -0.021313140404802724,
          -0.023602862821692574,
          -0.025471296780084692,
          -0.02746357860149951,
          -0.029366680634560303,
          -0.030992016186029855,
          -0.03234303001739845,
          -0.03347764798482153,
          -0.034871349679366496,
          -0.03684940412098573,
          -0.03924980805440016,
          -0.041151598329487074,
          -0.0428201715582212,
          -0.044426781284696605,
          -0.045567052976058765,
          -0.04709124485256929,
          -0.0493095291336478,
          -0.05197906495207232,
          -0.053238690717671434,
          -0.05446136992970913,
          -0.054943324841188294,
          -0.05550264403571954,
          -0.05538856693283008,
          -0.055094682638392824,
          -0.05563532735509302,
          -0.05584799378481929,
          -0.057040117178591476,
          -0.056454726149754456,
          -0.05543678583528474,
          -0.05460813220470209,
          -0.05477860358682404,
          -0.05477589828525518,
          -0.05481740237047247,
          -0.055588220572552645,
          -0.05683291820730195,
          -0.05831028838827482,
          -0.059620994842791944,
          -0.06136001814060805,
          -0.06263590591652303,
          -0.06375108468734363,
          -0.06505041087254156,
          -0.06647603287890921,
          -0.06708089680217823,
          -0.06656336488806307,
          -0.06441963067213358,
          -0.061645732914599585,
          -0.05986367334918638,
          -0.05576418931357842,
          -0.05181883524809708,
          -0.04997816415088517,
          -0.04792588662255976,
          -0.046342445991890434
         ],
         "yaxis": "y"
        }
       ],
       "layout": {
        "autosize": true,
        "legend": {
         "title": {
          "text": "variable"
         },
         "tracegroupgap": 0
        },
        "shapes": [
         {
          "line": {
           "color": "#000000",
           "dash": "dash",
           "width": 1
          },
          "type": "line",
          "x0": 0,
          "x1": 1,
          "xref": "x domain",
          "y0": 0,
          "y1": 0,
          "yref": "y"
         }
        ],
        "template": {
         "data": {
          "bar": [
           {
            "error_x": {
             "color": "#2a3f5f"
            },
            "error_y": {
             "color": "#2a3f5f"
            },
            "marker": {
             "line": {
              "color": "#E5ECF6",
              "width": 0.5
             },
             "pattern": {
              "fillmode": "overlay",
              "size": 10,
              "solidity": 0.2
             }
            },
            "type": "bar"
           }
          ],
          "barpolar": [
           {
            "marker": {
             "line": {
              "color": "#E5ECF6",
              "width": 0.5
             },
             "pattern": {
              "fillmode": "overlay",
              "size": 10,
              "solidity": 0.2
             }
            },
            "type": "barpolar"
           }
          ],
          "carpet": [
           {
            "aaxis": {
             "endlinecolor": "#2a3f5f",
             "gridcolor": "white",
             "linecolor": "white",
             "minorgridcolor": "white",
             "startlinecolor": "#2a3f5f"
            },
            "baxis": {
             "endlinecolor": "#2a3f5f",
             "gridcolor": "white",
             "linecolor": "white",
             "minorgridcolor": "white",
             "startlinecolor": "#2a3f5f"
            },
            "type": "carpet"
           }
          ],
          "choropleth": [
           {
            "colorbar": {
             "outlinewidth": 0,
             "ticks": ""
            },
            "type": "choropleth"
           }
          ],
          "contour": [
           {
            "colorbar": {
             "outlinewidth": 0,
             "ticks": ""
            },
            "colorscale": [
             [
              0,
              "#0d0887"
             ],
             [
              0.1111111111111111,
              "#46039f"
             ],
             [
              0.2222222222222222,
              "#7201a8"
             ],
             [
              0.3333333333333333,
              "#9c179e"
             ],
             [
              0.4444444444444444,
              "#bd3786"
             ],
             [
              0.5555555555555556,
              "#d8576b"
             ],
             [
              0.6666666666666666,
              "#ed7953"
             ],
             [
              0.7777777777777778,
              "#fb9f3a"
             ],
             [
              0.8888888888888888,
              "#fdca26"
             ],
             [
              1,
              "#f0f921"
             ]
            ],
            "type": "contour"
           }
          ],
          "contourcarpet": [
           {
            "colorbar": {
             "outlinewidth": 0,
             "ticks": ""
            },
            "type": "contourcarpet"
           }
          ],
          "heatmap": [
           {
            "colorbar": {
             "outlinewidth": 0,
             "ticks": ""
            },
            "colorscale": [
             [
              0,
              "#0d0887"
             ],
             [
              0.1111111111111111,
              "#46039f"
             ],
             [
              0.2222222222222222,
              "#7201a8"
             ],
             [
              0.3333333333333333,
              "#9c179e"
             ],
             [
              0.4444444444444444,
              "#bd3786"
             ],
             [
              0.5555555555555556,
              "#d8576b"
             ],
             [
              0.6666666666666666,
              "#ed7953"
             ],
             [
              0.7777777777777778,
              "#fb9f3a"
             ],
             [
              0.8888888888888888,
              "#fdca26"
             ],
             [
              1,
              "#f0f921"
             ]
            ],
            "type": "heatmap"
           }
          ],
          "heatmapgl": [
           {
            "colorbar": {
             "outlinewidth": 0,
             "ticks": ""
            },
            "colorscale": [
             [
              0,
              "#0d0887"
             ],
             [
              0.1111111111111111,
              "#46039f"
             ],
             [
              0.2222222222222222,
              "#7201a8"
             ],
             [
              0.3333333333333333,
              "#9c179e"
             ],
             [
              0.4444444444444444,
              "#bd3786"
             ],
             [
              0.5555555555555556,
              "#d8576b"
             ],
             [
              0.6666666666666666,
              "#ed7953"
             ],
             [
              0.7777777777777778,
              "#fb9f3a"
             ],
             [
              0.8888888888888888,
              "#fdca26"
             ],
             [
              1,
              "#f0f921"
             ]
            ],
            "type": "heatmapgl"
           }
          ],
          "histogram": [
           {
            "marker": {
             "pattern": {
              "fillmode": "overlay",
              "size": 10,
              "solidity": 0.2
             }
            },
            "type": "histogram"
           }
          ],
          "histogram2d": [
           {
            "colorbar": {
             "outlinewidth": 0,
             "ticks": ""
            },
            "colorscale": [
             [
              0,
              "#0d0887"
             ],
             [
              0.1111111111111111,
              "#46039f"
             ],
             [
              0.2222222222222222,
              "#7201a8"
             ],
             [
              0.3333333333333333,
              "#9c179e"
             ],
             [
              0.4444444444444444,
              "#bd3786"
             ],
             [
              0.5555555555555556,
              "#d8576b"
             ],
             [
              0.6666666666666666,
              "#ed7953"
             ],
             [
              0.7777777777777778,
              "#fb9f3a"
             ],
             [
              0.8888888888888888,
              "#fdca26"
             ],
             [
              1,
              "#f0f921"
             ]
            ],
            "type": "histogram2d"
           }
          ],
          "histogram2dcontour": [
           {
            "colorbar": {
             "outlinewidth": 0,
             "ticks": ""
            },
            "colorscale": [
             [
              0,
              "#0d0887"
             ],
             [
              0.1111111111111111,
              "#46039f"
             ],
             [
              0.2222222222222222,
              "#7201a8"
             ],
             [
              0.3333333333333333,
              "#9c179e"
             ],
             [
              0.4444444444444444,
              "#bd3786"
             ],
             [
              0.5555555555555556,
              "#d8576b"
             ],
             [
              0.6666666666666666,
              "#ed7953"
             ],
             [
              0.7777777777777778,
              "#fb9f3a"
             ],
             [
              0.8888888888888888,
              "#fdca26"
             ],
             [
              1,
              "#f0f921"
             ]
            ],
            "type": "histogram2dcontour"
           }
          ],
          "mesh3d": [
           {
            "colorbar": {
             "outlinewidth": 0,
             "ticks": ""
            },
            "type": "mesh3d"
           }
          ],
          "parcoords": [
           {
            "line": {
             "colorbar": {
              "outlinewidth": 0,
              "ticks": ""
             }
            },
            "type": "parcoords"
           }
          ],
          "pie": [
           {
            "automargin": true,
            "type": "pie"
           }
          ],
          "scatter": [
           {
            "marker": {
             "colorbar": {
              "outlinewidth": 0,
              "ticks": ""
             }
            },
            "type": "scatter"
           }
          ],
          "scatter3d": [
           {
            "line": {
             "colorbar": {
              "outlinewidth": 0,
              "ticks": ""
             }
            },
            "marker": {
             "colorbar": {
              "outlinewidth": 0,
              "ticks": ""
             }
            },
            "type": "scatter3d"
           }
          ],
          "scattercarpet": [
           {
            "marker": {
             "colorbar": {
              "outlinewidth": 0,
              "ticks": ""
             }
            },
            "type": "scattercarpet"
           }
          ],
          "scattergeo": [
           {
            "marker": {
             "colorbar": {
              "outlinewidth": 0,
              "ticks": ""
             }
            },
            "type": "scattergeo"
           }
          ],
          "scattergl": [
           {
            "marker": {
             "colorbar": {
              "outlinewidth": 0,
              "ticks": ""
             }
            },
            "type": "scattergl"
           }
          ],
          "scattermapbox": [
           {
            "marker": {
             "colorbar": {
              "outlinewidth": 0,
              "ticks": ""
             }
            },
            "type": "scattermapbox"
           }
          ],
          "scatterpolar": [
           {
            "marker": {
             "colorbar": {
              "outlinewidth": 0,
              "ticks": ""
             }
            },
            "type": "scatterpolar"
           }
          ],
          "scatterpolargl": [
           {
            "marker": {
             "colorbar": {
              "outlinewidth": 0,
              "ticks": ""
             }
            },
            "type": "scatterpolargl"
           }
          ],
          "scatterternary": [
           {
            "marker": {
             "colorbar": {
              "outlinewidth": 0,
              "ticks": ""
             }
            },
            "type": "scatterternary"
           }
          ],
          "surface": [
           {
            "colorbar": {
             "outlinewidth": 0,
             "ticks": ""
            },
            "colorscale": [
             [
              0,
              "#0d0887"
             ],
             [
              0.1111111111111111,
              "#46039f"
             ],
             [
              0.2222222222222222,
              "#7201a8"
             ],
             [
              0.3333333333333333,
              "#9c179e"
             ],
             [
              0.4444444444444444,
              "#bd3786"
             ],
             [
              0.5555555555555556,
              "#d8576b"
             ],
             [
              0.6666666666666666,
              "#ed7953"
             ],
             [
              0.7777777777777778,
              "#fb9f3a"
             ],
             [
              0.8888888888888888,
              "#fdca26"
             ],
             [
              1,
              "#f0f921"
             ]
            ],
            "type": "surface"
           }
          ],
          "table": [
           {
            "cells": {
             "fill": {
              "color": "#EBF0F8"
             },
             "line": {
              "color": "white"
             }
            },
            "header": {
             "fill": {
              "color": "#C8D4E3"
             },
             "line": {
              "color": "white"
             }
            },
            "type": "table"
           }
          ]
         },
         "layout": {
          "annotationdefaults": {
           "arrowcolor": "#2a3f5f",
           "arrowhead": 0,
           "arrowwidth": 1
          },
          "autotypenumbers": "strict",
          "coloraxis": {
           "colorbar": {
            "outlinewidth": 0,
            "ticks": ""
           }
          },
          "colorscale": {
           "diverging": [
            [
             0,
             "#8e0152"
            ],
            [
             0.1,
             "#c51b7d"
            ],
            [
             0.2,
             "#de77ae"
            ],
            [
             0.3,
             "#f1b6da"
            ],
            [
             0.4,
             "#fde0ef"
            ],
            [
             0.5,
             "#f7f7f7"
            ],
            [
             0.6,
             "#e6f5d0"
            ],
            [
             0.7,
             "#b8e186"
            ],
            [
             0.8,
             "#7fbc41"
            ],
            [
             0.9,
             "#4d9221"
            ],
            [
             1,
             "#276419"
            ]
           ],
           "sequential": [
            [
             0,
             "#0d0887"
            ],
            [
             0.1111111111111111,
             "#46039f"
            ],
            [
             0.2222222222222222,
             "#7201a8"
            ],
            [
             0.3333333333333333,
             "#9c179e"
            ],
            [
             0.4444444444444444,
             "#bd3786"
            ],
            [
             0.5555555555555556,
             "#d8576b"
            ],
            [
             0.6666666666666666,
             "#ed7953"
            ],
            [
             0.7777777777777778,
             "#fb9f3a"
            ],
            [
             0.8888888888888888,
             "#fdca26"
            ],
            [
             1,
             "#f0f921"
            ]
           ],
           "sequentialminus": [
            [
             0,
             "#0d0887"
            ],
            [
             0.1111111111111111,
             "#46039f"
            ],
            [
             0.2222222222222222,
             "#7201a8"
            ],
            [
             0.3333333333333333,
             "#9c179e"
            ],
            [
             0.4444444444444444,
             "#bd3786"
            ],
            [
             0.5555555555555556,
             "#d8576b"
            ],
            [
             0.6666666666666666,
             "#ed7953"
            ],
            [
             0.7777777777777778,
             "#fb9f3a"
            ],
            [
             0.8888888888888888,
             "#fdca26"
            ],
            [
             1,
             "#f0f921"
            ]
           ]
          },
          "colorway": [
           "#636efa",
           "#EF553B",
           "#00cc96",
           "#ab63fa",
           "#FFA15A",
           "#19d3f3",
           "#FF6692",
           "#B6E880",
           "#FF97FF",
           "#FECB52"
          ],
          "font": {
           "color": "#2a3f5f"
          },
          "geo": {
           "bgcolor": "white",
           "lakecolor": "white",
           "landcolor": "#E5ECF6",
           "showlakes": true,
           "showland": true,
           "subunitcolor": "white"
          },
          "hoverlabel": {
           "align": "left"
          },
          "hovermode": "closest",
          "mapbox": {
           "style": "light"
          },
          "paper_bgcolor": "white",
          "plot_bgcolor": "#E5ECF6",
          "polar": {
           "angularaxis": {
            "gridcolor": "white",
            "linecolor": "white",
            "ticks": ""
           },
           "bgcolor": "#E5ECF6",
           "radialaxis": {
            "gridcolor": "white",
            "linecolor": "white",
            "ticks": ""
           }
          },
          "scene": {
           "xaxis": {
            "backgroundcolor": "#E5ECF6",
            "gridcolor": "white",
            "gridwidth": 2,
            "linecolor": "white",
            "showbackground": true,
            "ticks": "",
            "zerolinecolor": "white"
           },
           "yaxis": {
            "backgroundcolor": "#E5ECF6",
            "gridcolor": "white",
            "gridwidth": 2,
            "linecolor": "white",
            "showbackground": true,
            "ticks": "",
            "zerolinecolor": "white"
           },
           "zaxis": {
            "backgroundcolor": "#E5ECF6",
            "gridcolor": "white",
            "gridwidth": 2,
            "linecolor": "white",
            "showbackground": true,
            "ticks": "",
            "zerolinecolor": "white"
           }
          },
          "shapedefaults": {
           "line": {
            "color": "#2a3f5f"
           }
          },
          "ternary": {
           "aaxis": {
            "gridcolor": "white",
            "linecolor": "white",
            "ticks": ""
           },
           "baxis": {
            "gridcolor": "white",
            "linecolor": "white",
            "ticks": ""
           },
           "bgcolor": "#E5ECF6",
           "caxis": {
            "gridcolor": "white",
            "linecolor": "white",
            "ticks": ""
           }
          },
          "title": {
           "x": 0.05
          },
          "xaxis": {
           "automargin": true,
           "gridcolor": "white",
           "linecolor": "white",
           "ticks": "",
           "title": {
            "standoff": 15
           },
           "zerolinecolor": "white",
           "zerolinewidth": 2
          },
          "yaxis": {
           "automargin": true,
           "gridcolor": "white",
           "linecolor": "white",
           "ticks": "",
           "title": {
            "standoff": 15
           },
           "zerolinecolor": "white",
           "zerolinewidth": 2
          }
         }
        },
        "title": {
         "text": "Stock market Correlation"
        },
        "xaxis": {
         "anchor": "y",
         "domain": [
          0,
          1
         ],
         "title": {
          "text": "Date"
         }
        },
        "yaxis": {
         "anchor": "x",
         "domain": [
          0,
          1
         ],
         "title": {
          "text": "value"
         }
        }
       }
      }
     },
     "metadata": {},
     "output_type": "display_data"
    }
   ],
   "source": [
    "#Average Correlation with stock market\n",
    "\n",
    "broad_markets = {\n",
    "    'SPY' : 'long'\n",
    "}\n",
    "height= 600\n",
    "width = 1400\n",
    "\n",
    "time_frames = [50,200]\n",
    "\n",
    "broad_market_portfolio = Portfolio(universe=universe)\n",
    "broad_market_portfolio.add_tickers(broad_markets)\n",
    "\n",
    "pm.load(period='3y', interval='1d')\n",
    "broad_market_portfolio.load(period='3y', interval='1d')\n",
    "\n",
    "broad_market_data = broad_market_portfolio.retrieve_ticker_data()\n",
    "portfolio_data    = pm.retrieve_ticker_data()\n",
    "\n",
    "stock_market_corr = pm.rolling_multi_timeframe(algorithm.correlation, time_frames, broad_market_data['SPY'])\n",
    "\n",
    "broad_market_portfolio.retrieve_assets().keys\n",
    "\n",
    "def average_portfolio_correlation(market_df):\n",
    "    average_window_df = pd.DataFrame()\n",
    "    for window in time_frames:\n",
    "        df = pd.DataFrame()\n",
    "        for key in pm.retrieve_assets().keys():\n",
    "            df[str(key) + '_' + str(window)]=market_df[key][window]\n",
    "        average_window_df['Average_' + str(window)] = df.mean(axis=1)\n",
    "    return average_window_df\n",
    "\n",
    "stock_market_corr_chart         = px.line(average_portfolio_correlation(stock_market_corr),title='Stock market Correlation')\n",
    "stock_market_corr_chart.add_hline(y=0, line_dash=\"dash\", row='all', col='all', line_color=\"#000000\", line_width=1)\n",
    "stock_market_corr_chart.update_layout(autosize=True)\n",
    "stock_market_corr_chart.show(config={'responsive': True})"
   ]
  },
  {
   "cell_type": "code",
   "execution_count": 7,
   "id": "a3f4bdab-c1a9-4974-9c01-6df5d3e3ba97",
   "metadata": {},
   "outputs": [
    {
     "data": {
      "application/vnd.plotly.v1+json": {
       "config": {
        "plotlyServerURL": "https://plot.ly",
        "responsive": true
       },
       "data": [
        {
         "alignmentgroup": "True",
         "hovertemplate": "variable=0<br>index=%{x}<br>value=%{y}<extra></extra>",
         "legendgroup": "0",
         "marker": {
          "color": "#636efa",
          "pattern": {
           "shape": ""
          }
         },
         "name": "0",
         "offsetgroup": "0",
         "orientation": "v",
         "showlegend": true,
         "textposition": "auto",
         "type": "bar",
         "x": [
          "TMUS",
          "WMT",
          "XLP",
          "AEP",
          "XLV",
          "HUM",
          "EIX",
          "WM",
          "SO",
          "NEM",
          "MRK",
          "MCD",
          "ISRG",
          "XLC",
          "XLE",
          "PEP",
          "COPX",
          "EWY",
          "MA",
          "DIS",
          "VNQ",
          "TAN",
          "CI",
          "XLI",
          "EXR",
          "C",
          "CLX",
          "ARKK",
          "SOXL",
          "META",
          "IP",
          "KMX",
          "XLRE",
          "XLB",
          "ILMN",
          "TLT",
          "FXI",
          "UNG",
          "UVXY",
          "SPY",
          "UUP"
         ],
         "xaxis": "x",
         "y": [
          0.18560975609756097,
          0.18073170731707316,
          0.17853658536585362,
          0.16414634146341456,
          0.16121951219512198,
          0.15634146341463415,
          0.15512195121951217,
          0.14463414634146343,
          0.14414634146341462,
          0.14073170731707313,
          0.13560975609756096,
          0.12780487804878046,
          0.12609756097560978,
          0.10829268292682925,
          0.10390243902439024,
          0.10390243902439024,
          0.10048780487804876,
          0.09780487804878048,
          0.09073170731707318,
          0.06121951219512194,
          0.0402439024390244,
          0.025365853658536587,
          0.013414634146341465,
          0.003658536585365861,
          -0.0014634146341463495,
          -0.002682926829268295,
          -0.0029268292682926795,
          -0.011951219512195119,
          -0.019268292682926833,
          -0.0224390243902439,
          -0.03341463414634146,
          -0.03365853658536585,
          -0.04609756097560977,
          -0.052926829268292695,
          -0.07536585365853657,
          -0.08292682926829269,
          -0.08341463414634145,
          -0.08609756097560974,
          -0.10609756097560977,
          -0.12097560975609759,
          -0.12170731707317074
         ],
         "yaxis": "y"
        }
       ],
       "layout": {
        "autosize": true,
        "barmode": "relative",
        "legend": {
         "title": {
          "text": "variable"
         },
         "tracegroupgap": 0
        },
        "shapes": [
         {
          "line": {
           "color": "#000000",
           "dash": "dash",
           "width": 1
          },
          "type": "line",
          "x0": 0,
          "x1": 1,
          "xref": "x domain",
          "y0": 0.25,
          "y1": 0.25,
          "yref": "y"
         },
         {
          "line": {
           "color": "#000000",
           "dash": "dash",
           "width": 1
          },
          "type": "line",
          "x0": 0,
          "x1": 1,
          "xref": "x domain",
          "y0": -0.25,
          "y1": -0.25,
          "yref": "y"
         }
        ],
        "template": {
         "data": {
          "bar": [
           {
            "error_x": {
             "color": "#2a3f5f"
            },
            "error_y": {
             "color": "#2a3f5f"
            },
            "marker": {
             "line": {
              "color": "#E5ECF6",
              "width": 0.5
             },
             "pattern": {
              "fillmode": "overlay",
              "size": 10,
              "solidity": 0.2
             }
            },
            "type": "bar"
           }
          ],
          "barpolar": [
           {
            "marker": {
             "line": {
              "color": "#E5ECF6",
              "width": 0.5
             },
             "pattern": {
              "fillmode": "overlay",
              "size": 10,
              "solidity": 0.2
             }
            },
            "type": "barpolar"
           }
          ],
          "carpet": [
           {
            "aaxis": {
             "endlinecolor": "#2a3f5f",
             "gridcolor": "white",
             "linecolor": "white",
             "minorgridcolor": "white",
             "startlinecolor": "#2a3f5f"
            },
            "baxis": {
             "endlinecolor": "#2a3f5f",
             "gridcolor": "white",
             "linecolor": "white",
             "minorgridcolor": "white",
             "startlinecolor": "#2a3f5f"
            },
            "type": "carpet"
           }
          ],
          "choropleth": [
           {
            "colorbar": {
             "outlinewidth": 0,
             "ticks": ""
            },
            "type": "choropleth"
           }
          ],
          "contour": [
           {
            "colorbar": {
             "outlinewidth": 0,
             "ticks": ""
            },
            "colorscale": [
             [
              0,
              "#0d0887"
             ],
             [
              0.1111111111111111,
              "#46039f"
             ],
             [
              0.2222222222222222,
              "#7201a8"
             ],
             [
              0.3333333333333333,
              "#9c179e"
             ],
             [
              0.4444444444444444,
              "#bd3786"
             ],
             [
              0.5555555555555556,
              "#d8576b"
             ],
             [
              0.6666666666666666,
              "#ed7953"
             ],
             [
              0.7777777777777778,
              "#fb9f3a"
             ],
             [
              0.8888888888888888,
              "#fdca26"
             ],
             [
              1,
              "#f0f921"
             ]
            ],
            "type": "contour"
           }
          ],
          "contourcarpet": [
           {
            "colorbar": {
             "outlinewidth": 0,
             "ticks": ""
            },
            "type": "contourcarpet"
           }
          ],
          "heatmap": [
           {
            "colorbar": {
             "outlinewidth": 0,
             "ticks": ""
            },
            "colorscale": [
             [
              0,
              "#0d0887"
             ],
             [
              0.1111111111111111,
              "#46039f"
             ],
             [
              0.2222222222222222,
              "#7201a8"
             ],
             [
              0.3333333333333333,
              "#9c179e"
             ],
             [
              0.4444444444444444,
              "#bd3786"
             ],
             [
              0.5555555555555556,
              "#d8576b"
             ],
             [
              0.6666666666666666,
              "#ed7953"
             ],
             [
              0.7777777777777778,
              "#fb9f3a"
             ],
             [
              0.8888888888888888,
              "#fdca26"
             ],
             [
              1,
              "#f0f921"
             ]
            ],
            "type": "heatmap"
           }
          ],
          "heatmapgl": [
           {
            "colorbar": {
             "outlinewidth": 0,
             "ticks": ""
            },
            "colorscale": [
             [
              0,
              "#0d0887"
             ],
             [
              0.1111111111111111,
              "#46039f"
             ],
             [
              0.2222222222222222,
              "#7201a8"
             ],
             [
              0.3333333333333333,
              "#9c179e"
             ],
             [
              0.4444444444444444,
              "#bd3786"
             ],
             [
              0.5555555555555556,
              "#d8576b"
             ],
             [
              0.6666666666666666,
              "#ed7953"
             ],
             [
              0.7777777777777778,
              "#fb9f3a"
             ],
             [
              0.8888888888888888,
              "#fdca26"
             ],
             [
              1,
              "#f0f921"
             ]
            ],
            "type": "heatmapgl"
           }
          ],
          "histogram": [
           {
            "marker": {
             "pattern": {
              "fillmode": "overlay",
              "size": 10,
              "solidity": 0.2
             }
            },
            "type": "histogram"
           }
          ],
          "histogram2d": [
           {
            "colorbar": {
             "outlinewidth": 0,
             "ticks": ""
            },
            "colorscale": [
             [
              0,
              "#0d0887"
             ],
             [
              0.1111111111111111,
              "#46039f"
             ],
             [
              0.2222222222222222,
              "#7201a8"
             ],
             [
              0.3333333333333333,
              "#9c179e"
             ],
             [
              0.4444444444444444,
              "#bd3786"
             ],
             [
              0.5555555555555556,
              "#d8576b"
             ],
             [
              0.6666666666666666,
              "#ed7953"
             ],
             [
              0.7777777777777778,
              "#fb9f3a"
             ],
             [
              0.8888888888888888,
              "#fdca26"
             ],
             [
              1,
              "#f0f921"
             ]
            ],
            "type": "histogram2d"
           }
          ],
          "histogram2dcontour": [
           {
            "colorbar": {
             "outlinewidth": 0,
             "ticks": ""
            },
            "colorscale": [
             [
              0,
              "#0d0887"
             ],
             [
              0.1111111111111111,
              "#46039f"
             ],
             [
              0.2222222222222222,
              "#7201a8"
             ],
             [
              0.3333333333333333,
              "#9c179e"
             ],
             [
              0.4444444444444444,
              "#bd3786"
             ],
             [
              0.5555555555555556,
              "#d8576b"
             ],
             [
              0.6666666666666666,
              "#ed7953"
             ],
             [
              0.7777777777777778,
              "#fb9f3a"
             ],
             [
              0.8888888888888888,
              "#fdca26"
             ],
             [
              1,
              "#f0f921"
             ]
            ],
            "type": "histogram2dcontour"
           }
          ],
          "mesh3d": [
           {
            "colorbar": {
             "outlinewidth": 0,
             "ticks": ""
            },
            "type": "mesh3d"
           }
          ],
          "parcoords": [
           {
            "line": {
             "colorbar": {
              "outlinewidth": 0,
              "ticks": ""
             }
            },
            "type": "parcoords"
           }
          ],
          "pie": [
           {
            "automargin": true,
            "type": "pie"
           }
          ],
          "scatter": [
           {
            "marker": {
             "colorbar": {
              "outlinewidth": 0,
              "ticks": ""
             }
            },
            "type": "scatter"
           }
          ],
          "scatter3d": [
           {
            "line": {
             "colorbar": {
              "outlinewidth": 0,
              "ticks": ""
             }
            },
            "marker": {
             "colorbar": {
              "outlinewidth": 0,
              "ticks": ""
             }
            },
            "type": "scatter3d"
           }
          ],
          "scattercarpet": [
           {
            "marker": {
             "colorbar": {
              "outlinewidth": 0,
              "ticks": ""
             }
            },
            "type": "scattercarpet"
           }
          ],
          "scattergeo": [
           {
            "marker": {
             "colorbar": {
              "outlinewidth": 0,
              "ticks": ""
             }
            },
            "type": "scattergeo"
           }
          ],
          "scattergl": [
           {
            "marker": {
             "colorbar": {
              "outlinewidth": 0,
              "ticks": ""
             }
            },
            "type": "scattergl"
           }
          ],
          "scattermapbox": [
           {
            "marker": {
             "colorbar": {
              "outlinewidth": 0,
              "ticks": ""
             }
            },
            "type": "scattermapbox"
           }
          ],
          "scatterpolar": [
           {
            "marker": {
             "colorbar": {
              "outlinewidth": 0,
              "ticks": ""
             }
            },
            "type": "scatterpolar"
           }
          ],
          "scatterpolargl": [
           {
            "marker": {
             "colorbar": {
              "outlinewidth": 0,
              "ticks": ""
             }
            },
            "type": "scatterpolargl"
           }
          ],
          "scatterternary": [
           {
            "marker": {
             "colorbar": {
              "outlinewidth": 0,
              "ticks": ""
             }
            },
            "type": "scatterternary"
           }
          ],
          "surface": [
           {
            "colorbar": {
             "outlinewidth": 0,
             "ticks": ""
            },
            "colorscale": [
             [
              0,
              "#0d0887"
             ],
             [
              0.1111111111111111,
              "#46039f"
             ],
             [
              0.2222222222222222,
              "#7201a8"
             ],
             [
              0.3333333333333333,
              "#9c179e"
             ],
             [
              0.4444444444444444,
              "#bd3786"
             ],
             [
              0.5555555555555556,
              "#d8576b"
             ],
             [
              0.6666666666666666,
              "#ed7953"
             ],
             [
              0.7777777777777778,
              "#fb9f3a"
             ],
             [
              0.8888888888888888,
              "#fdca26"
             ],
             [
              1,
              "#f0f921"
             ]
            ],
            "type": "surface"
           }
          ],
          "table": [
           {
            "cells": {
             "fill": {
              "color": "#EBF0F8"
             },
             "line": {
              "color": "white"
             }
            },
            "header": {
             "fill": {
              "color": "#C8D4E3"
             },
             "line": {
              "color": "white"
             }
            },
            "type": "table"
           }
          ]
         },
         "layout": {
          "annotationdefaults": {
           "arrowcolor": "#2a3f5f",
           "arrowhead": 0,
           "arrowwidth": 1
          },
          "autotypenumbers": "strict",
          "coloraxis": {
           "colorbar": {
            "outlinewidth": 0,
            "ticks": ""
           }
          },
          "colorscale": {
           "diverging": [
            [
             0,
             "#8e0152"
            ],
            [
             0.1,
             "#c51b7d"
            ],
            [
             0.2,
             "#de77ae"
            ],
            [
             0.3,
             "#f1b6da"
            ],
            [
             0.4,
             "#fde0ef"
            ],
            [
             0.5,
             "#f7f7f7"
            ],
            [
             0.6,
             "#e6f5d0"
            ],
            [
             0.7,
             "#b8e186"
            ],
            [
             0.8,
             "#7fbc41"
            ],
            [
             0.9,
             "#4d9221"
            ],
            [
             1,
             "#276419"
            ]
           ],
           "sequential": [
            [
             0,
             "#0d0887"
            ],
            [
             0.1111111111111111,
             "#46039f"
            ],
            [
             0.2222222222222222,
             "#7201a8"
            ],
            [
             0.3333333333333333,
             "#9c179e"
            ],
            [
             0.4444444444444444,
             "#bd3786"
            ],
            [
             0.5555555555555556,
             "#d8576b"
            ],
            [
             0.6666666666666666,
             "#ed7953"
            ],
            [
             0.7777777777777778,
             "#fb9f3a"
            ],
            [
             0.8888888888888888,
             "#fdca26"
            ],
            [
             1,
             "#f0f921"
            ]
           ],
           "sequentialminus": [
            [
             0,
             "#0d0887"
            ],
            [
             0.1111111111111111,
             "#46039f"
            ],
            [
             0.2222222222222222,
             "#7201a8"
            ],
            [
             0.3333333333333333,
             "#9c179e"
            ],
            [
             0.4444444444444444,
             "#bd3786"
            ],
            [
             0.5555555555555556,
             "#d8576b"
            ],
            [
             0.6666666666666666,
             "#ed7953"
            ],
            [
             0.7777777777777778,
             "#fb9f3a"
            ],
            [
             0.8888888888888888,
             "#fdca26"
            ],
            [
             1,
             "#f0f921"
            ]
           ]
          },
          "colorway": [
           "#636efa",
           "#EF553B",
           "#00cc96",
           "#ab63fa",
           "#FFA15A",
           "#19d3f3",
           "#FF6692",
           "#B6E880",
           "#FF97FF",
           "#FECB52"
          ],
          "font": {
           "color": "#2a3f5f"
          },
          "geo": {
           "bgcolor": "white",
           "lakecolor": "white",
           "landcolor": "#E5ECF6",
           "showlakes": true,
           "showland": true,
           "subunitcolor": "white"
          },
          "hoverlabel": {
           "align": "left"
          },
          "hovermode": "closest",
          "mapbox": {
           "style": "light"
          },
          "paper_bgcolor": "white",
          "plot_bgcolor": "#E5ECF6",
          "polar": {
           "angularaxis": {
            "gridcolor": "white",
            "linecolor": "white",
            "ticks": ""
           },
           "bgcolor": "#E5ECF6",
           "radialaxis": {
            "gridcolor": "white",
            "linecolor": "white",
            "ticks": ""
           }
          },
          "scene": {
           "xaxis": {
            "backgroundcolor": "#E5ECF6",
            "gridcolor": "white",
            "gridwidth": 2,
            "linecolor": "white",
            "showbackground": true,
            "ticks": "",
            "zerolinecolor": "white"
           },
           "yaxis": {
            "backgroundcolor": "#E5ECF6",
            "gridcolor": "white",
            "gridwidth": 2,
            "linecolor": "white",
            "showbackground": true,
            "ticks": "",
            "zerolinecolor": "white"
           },
           "zaxis": {
            "backgroundcolor": "#E5ECF6",
            "gridcolor": "white",
            "gridwidth": 2,
            "linecolor": "white",
            "showbackground": true,
            "ticks": "",
            "zerolinecolor": "white"
           }
          },
          "shapedefaults": {
           "line": {
            "color": "#2a3f5f"
           }
          },
          "ternary": {
           "aaxis": {
            "gridcolor": "white",
            "linecolor": "white",
            "ticks": ""
           },
           "baxis": {
            "gridcolor": "white",
            "linecolor": "white",
            "ticks": ""
           },
           "bgcolor": "#E5ECF6",
           "caxis": {
            "gridcolor": "white",
            "linecolor": "white",
            "ticks": ""
           }
          },
          "title": {
           "x": 0.05
          },
          "xaxis": {
           "automargin": true,
           "gridcolor": "white",
           "linecolor": "white",
           "ticks": "",
           "title": {
            "standoff": 15
           },
           "zerolinecolor": "white",
           "zerolinewidth": 2
          },
          "yaxis": {
           "automargin": true,
           "gridcolor": "white",
           "linecolor": "white",
           "ticks": "",
           "title": {
            "standoff": 15
           },
           "zerolinecolor": "white",
           "zerolinewidth": 2
          }
         }
        },
        "title": {
         "text": "50 Day Portfolio correlation"
        },
        "xaxis": {
         "anchor": "y",
         "domain": [
          0,
          1
         ],
         "title": {
          "text": "index"
         }
        },
        "yaxis": {
         "anchor": "x",
         "domain": [
          0,
          1
         ],
         "title": {
          "text": "value"
         }
        }
       }
      }
     },
     "metadata": {},
     "output_type": "display_data"
    }
   ],
   "source": [
    "#Average Portfolio correlation of each individual assets with other portfolio components\n",
    "height= 500\n",
    "width = 1400\n",
    "\n",
    "\n",
    "pm.load(period='1y')\n",
    "fifty_d= pm.retrieve_ticker_data()[-50:]\n",
    "\n",
    "pm.load(period='1y')\n",
    "two_hundred_d = pm.retrieve_ticker_data()[-200:]\n",
    "\n",
    "corr_50D_matrix   = comp.create_correlation_heatmap(fifty_d)\n",
    "\n",
    "scalar_multiplier = .7\n",
    "\n",
    "fifty_d_corr       = fifty_d .corr().round(2).mean(axis=0).sort_values(ascending=False)\n",
    "\n",
    "#s1, s2 = fifty_d_corr.align(two_hundred_d_corr)\n",
    "#difference_corr = ((s1 + s2) / 2).sort_values(ascending=False)\n",
    "\n",
    "average_corr = px.bar(fifty_d_corr,title='50 Day Portfolio correlation')\n",
    "average_corr.add_hline(y=0.25, line_dash=\"dash\", row='all', col='all', line_color=\"#000000\", line_width=1)\n",
    "average_corr.add_hline(y=-0.25, line_dash=\"dash\", row='all', col='all', line_color=\"#000000\", line_width=1)\n",
    "\n",
    "\n",
    "\n",
    "average_corr.update_layout(autosize=True)\n",
    "average_corr.show(config={'responsive': True})"
   ]
  },
  {
   "cell_type": "code",
   "execution_count": 8,
   "id": "79eee895-8e0f-4bc0-b6cc-853064df96fb",
   "metadata": {},
   "outputs": [
    {
     "data": {
      "application/vnd.plotly.v1+json": {
       "config": {
        "plotlyServerURL": "https://plot.ly",
        "responsive": true
       },
       "data": [
        {
         "coloraxis": "coloraxis",
         "hovertemplate": "x: %{x}<br>y: %{y}<br>color: %{z}<extra></extra>",
         "name": "0",
         "texttemplate": "%{z}",
         "type": "heatmap",
         "x": [
          "TMUS",
          "WMT",
          "XLP",
          "AEP",
          "XLV",
          "HUM",
          "EIX",
          "WM",
          "SO",
          "NEM",
          "MRK",
          "MCD",
          "ISRG",
          "XLC",
          "XLE",
          "PEP",
          "COPX",
          "EWY",
          "MA",
          "DIS",
          "VNQ",
          "TAN",
          "CI",
          "XLI",
          "EXR",
          "C",
          "CLX",
          "ARKK",
          "SOXL",
          "META",
          "IP",
          "KMX",
          "XLRE",
          "XLB",
          "ILMN",
          "TLT",
          "FXI",
          "UNG",
          "UVXY",
          "SPY",
          "UUP"
         ],
         "xaxis": "x",
         "y": [
          "TMUS",
          "WMT",
          "XLP",
          "AEP",
          "XLV",
          "HUM",
          "EIX",
          "WM",
          "SO",
          "NEM",
          "MRK",
          "MCD",
          "ISRG",
          "XLC",
          "XLE",
          "PEP",
          "COPX",
          "EWY",
          "MA",
          "DIS",
          "VNQ",
          "TAN",
          "CI",
          "XLI",
          "EXR",
          "C",
          "CLX",
          "ARKK",
          "SOXL",
          "META",
          "IP",
          "KMX",
          "XLRE",
          "XLB",
          "ILMN",
          "TLT",
          "FXI",
          "UNG",
          "UVXY",
          "SPY",
          "UUP"
         ],
         "yaxis": "y",
         "z": [
          [
           1,
           0.8,
           0.74,
           0.77,
           0.78,
           0.69,
           0.55,
           0.5,
           0.56,
           0.61,
           0.48,
           0.41,
           0.54,
           0.5,
           0.46,
           0.31,
           0.54,
           0.52,
           0.5,
           0.43,
           0.35,
           0.22,
           0.25,
           0.15,
           -0.01,
           -0.14,
           0.06,
           -0.34,
           -0.2,
           0.02,
           -0.33,
           -0.3,
           -0.37,
           -0.33,
           -0.32,
           -0.33,
           -0.47,
           -0.32,
           -0.45,
           -0.64,
           -0.58
          ],
          [
           0.8,
           1,
           0.91,
           0.6,
           0.71,
           0.68,
           0.72,
           0.74,
           0.7,
           0.6,
           0.52,
           0.71,
           0.68,
           0.67,
           0.38,
           0.67,
           0.43,
           0.37,
           0.38,
           0.24,
           0.08,
           -0.01,
           -0.16,
           0.03,
           -0.06,
           0.09,
           -0.32,
           -0.16,
           -0.36,
           -0.35,
           -0.06,
           -0.11,
           -0.1,
           -0.18,
           -0.42,
           -0.32,
           -0.33,
           -0.6,
           -0.56,
           -0.66,
           -0.54
          ],
          [
           0.74,
           0.91,
           1,
           0.7,
           0.7,
           0.59,
           0.84,
           0.85,
           0.85,
           0.72,
           0.46,
           0.81,
           0.82,
           0.8,
           0.3,
           0.69,
           0.39,
           0.39,
           0.4,
           0.19,
           0.03,
           0.06,
           -0.28,
           -0.02,
           -0.12,
           0.19,
           -0.31,
           -0.15,
           -0.45,
           -0.49,
           -0.06,
           -0.04,
           -0.06,
           -0.14,
           -0.59,
           -0.52,
           -0.34,
           -0.65,
           -0.6,
           -0.67,
           -0.62
          ],
          [
           0.77,
           0.6,
           0.7,
           1,
           0.71,
           0.46,
           0.68,
           0.55,
           0.67,
           0.62,
           0.41,
           0.39,
           0.55,
           0.52,
           0.32,
           0.27,
           0.34,
           0.42,
           0.42,
           0.35,
           0.37,
           0.18,
           0.16,
           0.07,
           -0.26,
           -0.06,
           0.1,
           -0.3,
           -0.15,
           -0.1,
           -0.32,
           -0.26,
           -0.4,
           -0.23,
           -0.47,
           -0.48,
           -0.35,
           -0.23,
           -0.28,
           -0.55,
           -0.46
          ],
          [
           0.78,
           0.71,
           0.7,
           0.71,
           1,
           0.52,
           0.42,
           0.35,
           0.46,
           0.65,
           0.31,
           0.24,
           0.67,
           0.64,
           0.74,
           0.09,
           0.75,
           0.81,
           0.83,
           0.78,
           0.67,
           0.47,
           0.38,
           0.45,
           -0.35,
           -0.39,
           0.17,
           -0.61,
           -0.34,
           0.07,
           -0.65,
           -0.65,
           -0.69,
           -0.62,
           -0.17,
           -0.32,
           -0.75,
           -0.09,
           -0.57,
           -0.91,
           -0.65
          ],
          [
           0.69,
           0.68,
           0.59,
           0.46,
           0.52,
           1,
           0.5,
           0.44,
           0.4,
           0.28,
           0.72,
           0.46,
           0.32,
           0.29,
           0.3,
           0.49,
           0.27,
           0.15,
           0.12,
           0.08,
           0.02,
           -0.1,
           0.07,
           -0.04,
           -0.1,
           0,
           -0.27,
           0,
           0.01,
           -0.11,
           -0.01,
           -0.08,
           -0.03,
           -0.14,
           -0.17,
           -0.1,
           -0.06,
           -0.28,
           -0.41,
           -0.35,
           -0.2
          ],
          [
           0.55,
           0.72,
           0.84,
           0.68,
           0.42,
           0.5,
           1,
           0.89,
           0.88,
           0.59,
           0.54,
           0.85,
           0.67,
           0.66,
           0.1,
           0.76,
           0.09,
           0.1,
           0.15,
           -0.11,
           -0.22,
           -0.09,
           -0.48,
           -0.24,
           -0.17,
           0.38,
           -0.34,
           0.14,
           -0.33,
           -0.63,
           0.19,
           0.21,
           0.18,
           0.08,
           -0.71,
           -0.58,
           -0.01,
           -0.62,
           -0.48,
           -0.4,
           -0.4
          ],
          [
           0.5,
           0.74,
           0.85,
           0.55,
           0.35,
           0.44,
           0.89,
           1,
           0.88,
           0.61,
           0.45,
           0.89,
           0.66,
           0.65,
           -0.02,
           0.84,
           0.03,
           0.05,
           0.05,
           -0.2,
           -0.34,
           -0.22,
           -0.59,
           -0.36,
           0.01,
           0.53,
           -0.45,
           0.2,
           -0.39,
           -0.68,
           0.32,
           0.34,
           0.3,
           0.24,
           -0.72,
           -0.6,
           0.03,
           -0.76,
           -0.34,
           -0.33,
           -0.47
          ],
          [
           0.56,
           0.7,
           0.85,
           0.67,
           0.46,
           0.4,
           0.88,
           0.88,
           1,
           0.78,
           0.3,
           0.82,
           0.84,
           0.8,
           -0.07,
           0.73,
           0.04,
           0.22,
           0.17,
           -0.07,
           -0.25,
           -0.17,
           -0.52,
           -0.39,
           0,
           0.55,
           -0.32,
           0.06,
           -0.5,
           -0.69,
           0.2,
           0.28,
           0.2,
           0.24,
           -0.78,
           -0.77,
           -0.11,
           -0.74,
           -0.31,
           -0.42,
           -0.61
          ],
          [
           0.61,
           0.6,
           0.72,
           0.62,
           0.65,
           0.28,
           0.59,
           0.61,
           0.78,
           1,
           -0.02,
           0.5,
           0.85,
           0.75,
           0.21,
           0.3,
           0.41,
           0.65,
           0.5,
           0.32,
           0.11,
           0.17,
           -0.11,
           -0.15,
           0.06,
           0.24,
           0.14,
           -0.2,
           -0.49,
           -0.27,
           -0.2,
           -0.02,
           -0.16,
           -0.11,
           -0.58,
           -0.82,
           -0.57,
           -0.42,
           -0.3,
           -0.56,
           -0.92
          ],
          [
           0.48,
           0.52,
           0.46,
           0.41,
           0.31,
           0.72,
           0.54,
           0.45,
           0.3,
           -0.02,
           1,
           0.47,
           0.04,
           0.07,
           0.3,
           0.53,
           0.05,
           -0.14,
           -0.03,
           -0.11,
           -0.08,
           -0.12,
           -0.09,
           -0.03,
           -0.18,
           -0.03,
           -0.32,
           0.27,
           0.24,
           -0.18,
           0.19,
           0,
           0.08,
           -0.04,
           -0.11,
           0.07,
           0.19,
           -0.26,
           -0.37,
           -0.17,
           0.15
          ],
          [
           0.41,
           0.71,
           0.81,
           0.39,
           0.24,
           0.46,
           0.85,
           0.89,
           0.82,
           0.5,
           0.47,
           1,
           0.6,
           0.63,
           -0.07,
           0.86,
           0.03,
           -0.04,
           -0.02,
           -0.32,
           -0.47,
           -0.25,
           -0.67,
           -0.36,
           0.02,
           0.52,
           -0.57,
           0.27,
           -0.33,
           -0.74,
           0.43,
           0.42,
           0.44,
           0.24,
           -0.72,
           -0.46,
           0.09,
           -0.75,
           -0.48,
           -0.27,
           -0.34
          ],
          [
           0.54,
           0.68,
           0.82,
           0.55,
           0.67,
           0.32,
           0.67,
           0.66,
           0.84,
           0.85,
           0.04,
           0.6,
           1,
           0.95,
           0.2,
           0.46,
           0.34,
           0.58,
           0.53,
           0.33,
           0.07,
           0.15,
           -0.29,
           -0.06,
           -0.1,
           0.27,
           -0.13,
           -0.31,
           -0.71,
           -0.54,
           -0.17,
           -0.08,
           -0.12,
           -0.1,
           -0.59,
           -0.73,
           -0.48,
           -0.57,
           -0.48,
           -0.71,
           -0.78
          ],
          [
           0.5,
           0.67,
           0.8,
           0.52,
           0.64,
           0.29,
           0.66,
           0.65,
           0.8,
           0.75,
           0.07,
           0.63,
           0.95,
           1,
           0.19,
           0.47,
           0.32,
           0.51,
           0.53,
           0.32,
           0.08,
           0.16,
           -0.33,
           0,
           -0.23,
           0.23,
           -0.21,
           -0.4,
           -0.76,
           -0.63,
           -0.17,
           -0.11,
           -0.12,
           -0.12,
           -0.62,
           -0.67,
           -0.41,
           -0.57,
           -0.53,
           -0.75,
           -0.67
          ],
          [
           0.46,
           0.38,
           0.3,
           0.32,
           0.74,
           0.3,
           0.1,
           -0.02,
           -0.07,
           0.21,
           0.3,
           -0.07,
           0.2,
           0.19,
           1,
           -0.23,
           0.84,
           0.69,
           0.82,
           0.79,
           0.77,
           0.71,
           0.58,
           0.78,
           -0.41,
           -0.76,
           0.38,
           -0.49,
           -0.05,
           0.41,
           -0.75,
           -0.81,
           -0.76,
           -0.89,
           0.22,
           0.13,
           -0.72,
           0.34,
           -0.65,
           -0.72,
           -0.3
          ],
          [
           0.31,
           0.67,
           0.69,
           0.27,
           0.09,
           0.49,
           0.76,
           0.84,
           0.73,
           0.3,
           0.53,
           0.86,
           0.46,
           0.47,
           -0.23,
           1,
           -0.26,
           -0.27,
           -0.26,
           -0.47,
           -0.59,
           -0.53,
           -0.74,
           -0.49,
           0.11,
           0.66,
           -0.73,
           0.4,
           -0.31,
           -0.78,
           0.61,
           0.54,
           0.57,
           0.47,
           -0.6,
           -0.34,
           0.34,
           -0.81,
           -0.24,
           -0.11,
           -0.15
          ],
          [
           0.54,
           0.43,
           0.39,
           0.34,
           0.75,
           0.27,
           0.09,
           0.03,
           0.04,
           0.41,
           0.05,
           0.03,
           0.34,
           0.32,
           0.84,
           -0.26,
           1,
           0.82,
           0.83,
           0.79,
           0.73,
           0.76,
           0.54,
           0.73,
           -0.34,
           -0.69,
           0.4,
           -0.61,
           -0.18,
           0.38,
           -0.77,
           -0.75,
           -0.73,
           -0.89,
           0.07,
           0.01,
           -0.87,
           0.23,
           -0.67,
           -0.75,
           -0.53
          ],
          [
           0.52,
           0.37,
           0.39,
           0.42,
           0.81,
           0.15,
           0.1,
           0.05,
           0.22,
           0.65,
           -0.14,
           -0.04,
           0.58,
           0.51,
           0.69,
           -0.27,
           0.82,
           1,
           0.89,
           0.85,
           0.72,
           0.68,
           0.49,
           0.54,
           -0.19,
           -0.47,
           0.54,
           -0.66,
           -0.41,
           0.27,
           -0.77,
           -0.68,
           -0.75,
           -0.69,
           -0.05,
           -0.32,
           -0.95,
           0.13,
           -0.45,
           -0.79,
           -0.75
          ],
          [
           0.5,
           0.38,
           0.4,
           0.42,
           0.83,
           0.12,
           0.15,
           0.05,
           0.17,
           0.5,
           -0.03,
           -0.02,
           0.53,
           0.53,
           0.82,
           -0.26,
           0.83,
           0.89,
           1,
           0.91,
           0.8,
           0.77,
           0.48,
           0.71,
           -0.4,
           -0.6,
           0.43,
           -0.75,
           -0.42,
           0.22,
           -0.83,
           -0.79,
           -0.81,
           -0.8,
           -0.01,
           -0.19,
           -0.9,
           0.17,
           -0.61,
           -0.89,
           -0.58
          ],
          [
           0.43,
           0.24,
           0.19,
           0.35,
           0.78,
           0.08,
           -0.11,
           -0.2,
           -0.07,
           0.32,
           -0.11,
           -0.32,
           0.33,
           0.32,
           0.79,
           -0.47,
           0.79,
           0.85,
           0.91,
           1,
           0.93,
           0.72,
           0.7,
           0.75,
           -0.39,
           -0.74,
           0.53,
           -0.83,
           -0.25,
           0.46,
           -0.92,
           -0.91,
           -0.94,
           -0.82,
           0.27,
           0,
           -0.87,
           0.34,
           -0.4,
           -0.79,
           -0.43
          ],
          [
           0.35,
           0.08,
           0.03,
           0.37,
           0.67,
           0.02,
           -0.22,
           -0.34,
           -0.25,
           0.11,
           -0.08,
           -0.47,
           0.07,
           0.08,
           0.77,
           -0.59,
           0.73,
           0.72,
           0.8,
           0.93,
           1,
           0.74,
           0.84,
           0.83,
           -0.46,
           -0.87,
           0.58,
           -0.8,
           -0.04,
           0.62,
           -0.94,
           -0.94,
           -1,
           -0.85,
           0.34,
           0.18,
           -0.76,
           0.54,
           -0.28,
           -0.64,
           -0.22
          ],
          [
           0.22,
           -0.01,
           0.06,
           0.18,
           0.47,
           -0.1,
           -0.09,
           -0.22,
           -0.17,
           0.17,
           -0.12,
           -0.25,
           0.15,
           0.16,
           0.71,
           -0.53,
           0.76,
           0.68,
           0.77,
           0.72,
           0.74,
           1,
           0.54,
           0.8,
           -0.38,
           -0.73,
           0.62,
           -0.62,
           -0.16,
           0.42,
           -0.82,
           -0.76,
           -0.74,
           -0.85,
           0.09,
           0.01,
           -0.74,
           0.46,
           -0.53,
           -0.56,
           -0.31
          ],
          [
           0.25,
           -0.16,
           -0.28,
           0.16,
           0.38,
           0.07,
           -0.48,
           -0.59,
           -0.52,
           -0.11,
           -0.09,
           -0.67,
           -0.29,
           -0.33,
           0.58,
           -0.74,
           0.54,
           0.49,
           0.48,
           0.7,
           0.84,
           0.54,
           1,
           0.65,
           -0.17,
           -0.83,
           0.66,
           -0.56,
           0.32,
           0.89,
           -0.77,
           -0.75,
           -0.82,
           -0.68,
           0.55,
           0.37,
           -0.53,
           0.73,
           -0.01,
           -0.24,
           -0.03
          ],
          [
           0.15,
           0.03,
           -0.02,
           0.07,
           0.45,
           -0.04,
           -0.24,
           -0.36,
           -0.39,
           -0.15,
           -0.03,
           -0.36,
           -0.06,
           0,
           0.78,
           -0.49,
           0.73,
           0.54,
           0.71,
           0.75,
           0.83,
           0.8,
           0.65,
           1,
           -0.53,
           -0.91,
           0.4,
           -0.71,
           -0.12,
           0.5,
           -0.82,
           -0.87,
           -0.82,
           -0.91,
           0.34,
           0.43,
           -0.62,
           0.54,
           -0.51,
           -0.59,
           0
          ],
          [
           -0.01,
           -0.06,
           -0.12,
           -0.26,
           -0.35,
           -0.1,
           -0.17,
           0.01,
           0,
           0.06,
           -0.18,
           0.02,
           -0.1,
           -0.23,
           -0.41,
           0.11,
           -0.34,
           -0.19,
           -0.4,
           -0.39,
           -0.46,
           -0.38,
           -0.17,
           -0.53,
           1,
           0.45,
           0.07,
           0.45,
           0.17,
           0.06,
           0.42,
           0.51,
           0.47,
           0.52,
           0.02,
           -0.14,
           0.2,
           -0.32,
           0.41,
           0.46,
           -0.16
          ],
          [
           -0.14,
           0.09,
           0.19,
           -0.06,
           -0.39,
           0,
           0.38,
           0.53,
           0.55,
           0.24,
           -0.03,
           0.52,
           0.27,
           0.23,
           -0.76,
           0.66,
           -0.69,
           -0.47,
           -0.6,
           -0.74,
           -0.87,
           -0.73,
           -0.83,
           -0.91,
           0.45,
           1,
           -0.52,
           0.61,
           -0.21,
           -0.74,
           0.81,
           0.88,
           0.84,
           0.89,
           -0.56,
           -0.53,
           0.57,
           -0.7,
           0.36,
           0.41,
           -0.11
          ],
          [
           0.06,
           -0.32,
           -0.31,
           0.1,
           0.17,
           -0.27,
           -0.34,
           -0.45,
           -0.32,
           0.14,
           -0.32,
           -0.57,
           -0.13,
           -0.21,
           0.38,
           -0.73,
           0.4,
           0.54,
           0.43,
           0.53,
           0.58,
           0.62,
           0.66,
           0.4,
           0.07,
           -0.52,
           1,
           -0.32,
           0.15,
           0.68,
           -0.59,
           -0.48,
           -0.59,
           -0.48,
           0.32,
           -0.04,
           -0.55,
           0.52,
           0.06,
           -0.11,
           -0.28
          ],
          [
           -0.34,
           -0.16,
           -0.15,
           -0.3,
           -0.61,
           0,
           0.14,
           0.2,
           0.06,
           -0.2,
           0.27,
           0.27,
           -0.31,
           -0.4,
           -0.49,
           0.4,
           -0.61,
           -0.66,
           -0.75,
           -0.83,
           -0.8,
           -0.62,
           -0.56,
           -0.71,
           0.45,
           0.61,
           -0.32,
           1,
           0.44,
           -0.25,
           0.8,
           0.77,
           0.8,
           0.67,
           -0.04,
           -0.02,
           0.67,
           -0.28,
           0.34,
           0.73,
           0.3
          ],
          [
           -0.2,
           -0.36,
           -0.45,
           -0.15,
           -0.34,
           0.01,
           -0.33,
           -0.39,
           -0.5,
           -0.49,
           0.24,
           -0.33,
           -0.71,
           -0.76,
           -0.05,
           -0.31,
           -0.18,
           -0.41,
           -0.42,
           -0.25,
           -0.04,
           -0.16,
           0.32,
           -0.12,
           0.17,
           -0.21,
           0.15,
           0.44,
           1,
           0.54,
           0.14,
           0.06,
           0.08,
           0.06,
           0.5,
           0.47,
           0.33,
           0.39,
           0.35,
           0.61,
           0.51
          ],
          [
           0.02,
           -0.35,
           -0.49,
           -0.1,
           0.07,
           -0.11,
           -0.63,
           -0.68,
           -0.69,
           -0.27,
           -0.18,
           -0.74,
           -0.54,
           -0.63,
           0.41,
           -0.78,
           0.38,
           0.27,
           0.22,
           0.46,
           0.62,
           0.42,
           0.89,
           0.5,
           0.06,
           -0.74,
           0.68,
           -0.25,
           0.54,
           1,
           -0.56,
           -0.54,
           -0.59,
           -0.53,
           0.7,
           0.5,
           -0.37,
           0.74,
           0.16,
           0.09,
           0.12
          ],
          [
           -0.33,
           -0.06,
           -0.06,
           -0.32,
           -0.65,
           -0.01,
           0.19,
           0.32,
           0.2,
           -0.2,
           0.19,
           0.43,
           -0.17,
           -0.17,
           -0.75,
           0.61,
           -0.77,
           -0.77,
           -0.83,
           -0.92,
           -0.94,
           -0.82,
           -0.77,
           -0.82,
           0.42,
           0.81,
           -0.59,
           0.8,
           0.14,
           -0.56,
           1,
           0.91,
           0.94,
           0.87,
           -0.27,
           -0.06,
           0.81,
           -0.52,
           0.36,
           0.66,
           0.33
          ],
          [
           -0.3,
           -0.11,
           -0.04,
           -0.26,
           -0.65,
           -0.08,
           0.21,
           0.34,
           0.28,
           -0.02,
           0,
           0.42,
           -0.08,
           -0.11,
           -0.81,
           0.54,
           -0.75,
           -0.68,
           -0.79,
           -0.91,
           -0.94,
           -0.76,
           -0.75,
           -0.87,
           0.51,
           0.88,
           -0.48,
           0.77,
           0.06,
           -0.54,
           0.91,
           1,
           0.94,
           0.88,
           -0.4,
           -0.22,
           0.71,
           -0.49,
           0.4,
           0.66,
           0.15
          ],
          [
           -0.37,
           -0.1,
           -0.06,
           -0.4,
           -0.69,
           -0.03,
           0.18,
           0.3,
           0.2,
           -0.16,
           0.08,
           0.44,
           -0.12,
           -0.12,
           -0.76,
           0.57,
           -0.73,
           -0.75,
           -0.81,
           -0.94,
           -1,
           -0.74,
           -0.82,
           -0.82,
           0.47,
           0.84,
           -0.59,
           0.8,
           0.08,
           -0.59,
           0.94,
           0.94,
           1,
           0.84,
           -0.3,
           -0.13,
           0.77,
           -0.52,
           0.29,
           0.66,
           0.26
          ],
          [
           -0.33,
           -0.18,
           -0.14,
           -0.23,
           -0.62,
           -0.14,
           0.08,
           0.24,
           0.24,
           -0.11,
           -0.04,
           0.24,
           -0.1,
           -0.12,
           -0.89,
           0.47,
           -0.89,
           -0.69,
           -0.8,
           -0.82,
           -0.85,
           -0.85,
           -0.68,
           -0.91,
           0.52,
           0.89,
           -0.48,
           0.67,
           0.06,
           -0.53,
           0.87,
           0.88,
           0.84,
           1,
           -0.29,
           -0.24,
           0.76,
           -0.52,
           0.63,
           0.67,
           0.22
          ],
          [
           -0.32,
           -0.42,
           -0.59,
           -0.47,
           -0.17,
           -0.17,
           -0.71,
           -0.72,
           -0.78,
           -0.58,
           -0.11,
           -0.72,
           -0.59,
           -0.62,
           0.22,
           -0.6,
           0.07,
           -0.05,
           -0.01,
           0.27,
           0.34,
           0.09,
           0.55,
           0.34,
           0.02,
           -0.56,
           0.32,
           -0.04,
           0.5,
           0.7,
           -0.27,
           -0.4,
           -0.3,
           -0.29,
           1,
           0.67,
           -0.04,
           0.51,
           0.18,
           0.22,
           0.44
          ],
          [
           -0.33,
           -0.32,
           -0.52,
           -0.48,
           -0.32,
           -0.1,
           -0.58,
           -0.6,
           -0.77,
           -0.82,
           0.07,
           -0.46,
           -0.73,
           -0.67,
           0.13,
           -0.34,
           0.01,
           -0.32,
           -0.19,
           0,
           0.18,
           0.01,
           0.37,
           0.43,
           -0.14,
           -0.53,
           -0.04,
           -0.02,
           0.47,
           0.5,
           -0.06,
           -0.22,
           -0.13,
           -0.24,
           0.67,
           1,
           0.19,
           0.49,
           0.02,
           0.27,
           0.72
          ],
          [
           -0.47,
           -0.33,
           -0.34,
           -0.35,
           -0.75,
           -0.06,
           -0.01,
           0.03,
           -0.11,
           -0.57,
           0.19,
           0.09,
           -0.48,
           -0.41,
           -0.72,
           0.34,
           -0.87,
           -0.95,
           -0.9,
           -0.87,
           -0.76,
           -0.74,
           -0.53,
           -0.62,
           0.2,
           0.57,
           -0.55,
           0.67,
           0.33,
           -0.37,
           0.81,
           0.71,
           0.77,
           0.76,
           -0.04,
           0.19,
           1,
           -0.21,
           0.49,
           0.76,
           0.68
          ],
          [
           -0.32,
           -0.6,
           -0.65,
           -0.23,
           -0.09,
           -0.28,
           -0.62,
           -0.76,
           -0.74,
           -0.42,
           -0.26,
           -0.75,
           -0.57,
           -0.57,
           0.34,
           -0.81,
           0.23,
           0.13,
           0.17,
           0.34,
           0.54,
           0.46,
           0.73,
           0.54,
           -0.32,
           -0.7,
           0.52,
           -0.28,
           0.39,
           0.74,
           -0.52,
           -0.49,
           -0.52,
           -0.52,
           0.51,
           0.49,
           -0.21,
           1,
           0.11,
           0.12,
           0.34
          ],
          [
           -0.45,
           -0.56,
           -0.6,
           -0.28,
           -0.57,
           -0.41,
           -0.48,
           -0.34,
           -0.31,
           -0.3,
           -0.37,
           -0.48,
           -0.48,
           -0.53,
           -0.65,
           -0.24,
           -0.67,
           -0.45,
           -0.61,
           -0.4,
           -0.28,
           -0.53,
           -0.01,
           -0.51,
           0.41,
           0.36,
           0.06,
           0.34,
           0.35,
           0.16,
           0.36,
           0.4,
           0.29,
           0.63,
           0.18,
           0.02,
           0.49,
           0.11,
           1,
           0.71,
           0.29
          ],
          [
           -0.64,
           -0.66,
           -0.67,
           -0.55,
           -0.91,
           -0.35,
           -0.4,
           -0.33,
           -0.42,
           -0.56,
           -0.17,
           -0.27,
           -0.71,
           -0.75,
           -0.72,
           -0.11,
           -0.75,
           -0.79,
           -0.89,
           -0.79,
           -0.64,
           -0.56,
           -0.24,
           -0.59,
           0.46,
           0.41,
           -0.11,
           0.73,
           0.61,
           0.09,
           0.66,
           0.66,
           0.66,
           0.67,
           0.22,
           0.27,
           0.76,
           0.12,
           0.71,
           1,
           0.59
          ],
          [
           -0.58,
           -0.54,
           -0.62,
           -0.46,
           -0.65,
           -0.2,
           -0.4,
           -0.47,
           -0.61,
           -0.92,
           0.15,
           -0.34,
           -0.78,
           -0.67,
           -0.3,
           -0.15,
           -0.53,
           -0.75,
           -0.58,
           -0.43,
           -0.22,
           -0.31,
           -0.03,
           0,
           -0.16,
           -0.11,
           -0.28,
           0.3,
           0.51,
           0.12,
           0.33,
           0.15,
           0.26,
           0.22,
           0.44,
           0.72,
           0.68,
           0.34,
           0.29,
           0.59,
           1
          ]
         ]
        }
       ],
       "layout": {
        "annotations": [
         {
          "font": {
           "size": 16
          },
          "showarrow": false,
          "text": "5",
          "x": 0.5,
          "xanchor": "center",
          "xref": "paper",
          "y": 1,
          "yanchor": "bottom",
          "yref": "paper"
         }
        ],
        "autosize": true,
        "height": 840,
        "template": {
         "data": {
          "bar": [
           {
            "error_x": {
             "color": "#2a3f5f"
            },
            "error_y": {
             "color": "#2a3f5f"
            },
            "marker": {
             "line": {
              "color": "#E5ECF6",
              "width": 0.5
             },
             "pattern": {
              "fillmode": "overlay",
              "size": 10,
              "solidity": 0.2
             }
            },
            "type": "bar"
           }
          ],
          "barpolar": [
           {
            "marker": {
             "line": {
              "color": "#E5ECF6",
              "width": 0.5
             },
             "pattern": {
              "fillmode": "overlay",
              "size": 10,
              "solidity": 0.2
             }
            },
            "type": "barpolar"
           }
          ],
          "carpet": [
           {
            "aaxis": {
             "endlinecolor": "#2a3f5f",
             "gridcolor": "white",
             "linecolor": "white",
             "minorgridcolor": "white",
             "startlinecolor": "#2a3f5f"
            },
            "baxis": {
             "endlinecolor": "#2a3f5f",
             "gridcolor": "white",
             "linecolor": "white",
             "minorgridcolor": "white",
             "startlinecolor": "#2a3f5f"
            },
            "type": "carpet"
           }
          ],
          "choropleth": [
           {
            "colorbar": {
             "outlinewidth": 0,
             "ticks": ""
            },
            "type": "choropleth"
           }
          ],
          "contour": [
           {
            "colorbar": {
             "outlinewidth": 0,
             "ticks": ""
            },
            "colorscale": [
             [
              0,
              "#0d0887"
             ],
             [
              0.1111111111111111,
              "#46039f"
             ],
             [
              0.2222222222222222,
              "#7201a8"
             ],
             [
              0.3333333333333333,
              "#9c179e"
             ],
             [
              0.4444444444444444,
              "#bd3786"
             ],
             [
              0.5555555555555556,
              "#d8576b"
             ],
             [
              0.6666666666666666,
              "#ed7953"
             ],
             [
              0.7777777777777778,
              "#fb9f3a"
             ],
             [
              0.8888888888888888,
              "#fdca26"
             ],
             [
              1,
              "#f0f921"
             ]
            ],
            "type": "contour"
           }
          ],
          "contourcarpet": [
           {
            "colorbar": {
             "outlinewidth": 0,
             "ticks": ""
            },
            "type": "contourcarpet"
           }
          ],
          "heatmap": [
           {
            "colorbar": {
             "outlinewidth": 0,
             "ticks": ""
            },
            "colorscale": [
             [
              0,
              "#0d0887"
             ],
             [
              0.1111111111111111,
              "#46039f"
             ],
             [
              0.2222222222222222,
              "#7201a8"
             ],
             [
              0.3333333333333333,
              "#9c179e"
             ],
             [
              0.4444444444444444,
              "#bd3786"
             ],
             [
              0.5555555555555556,
              "#d8576b"
             ],
             [
              0.6666666666666666,
              "#ed7953"
             ],
             [
              0.7777777777777778,
              "#fb9f3a"
             ],
             [
              0.8888888888888888,
              "#fdca26"
             ],
             [
              1,
              "#f0f921"
             ]
            ],
            "type": "heatmap"
           }
          ],
          "heatmapgl": [
           {
            "colorbar": {
             "outlinewidth": 0,
             "ticks": ""
            },
            "colorscale": [
             [
              0,
              "#0d0887"
             ],
             [
              0.1111111111111111,
              "#46039f"
             ],
             [
              0.2222222222222222,
              "#7201a8"
             ],
             [
              0.3333333333333333,
              "#9c179e"
             ],
             [
              0.4444444444444444,
              "#bd3786"
             ],
             [
              0.5555555555555556,
              "#d8576b"
             ],
             [
              0.6666666666666666,
              "#ed7953"
             ],
             [
              0.7777777777777778,
              "#fb9f3a"
             ],
             [
              0.8888888888888888,
              "#fdca26"
             ],
             [
              1,
              "#f0f921"
             ]
            ],
            "type": "heatmapgl"
           }
          ],
          "histogram": [
           {
            "marker": {
             "pattern": {
              "fillmode": "overlay",
              "size": 10,
              "solidity": 0.2
             }
            },
            "type": "histogram"
           }
          ],
          "histogram2d": [
           {
            "colorbar": {
             "outlinewidth": 0,
             "ticks": ""
            },
            "colorscale": [
             [
              0,
              "#0d0887"
             ],
             [
              0.1111111111111111,
              "#46039f"
             ],
             [
              0.2222222222222222,
              "#7201a8"
             ],
             [
              0.3333333333333333,
              "#9c179e"
             ],
             [
              0.4444444444444444,
              "#bd3786"
             ],
             [
              0.5555555555555556,
              "#d8576b"
             ],
             [
              0.6666666666666666,
              "#ed7953"
             ],
             [
              0.7777777777777778,
              "#fb9f3a"
             ],
             [
              0.8888888888888888,
              "#fdca26"
             ],
             [
              1,
              "#f0f921"
             ]
            ],
            "type": "histogram2d"
           }
          ],
          "histogram2dcontour": [
           {
            "colorbar": {
             "outlinewidth": 0,
             "ticks": ""
            },
            "colorscale": [
             [
              0,
              "#0d0887"
             ],
             [
              0.1111111111111111,
              "#46039f"
             ],
             [
              0.2222222222222222,
              "#7201a8"
             ],
             [
              0.3333333333333333,
              "#9c179e"
             ],
             [
              0.4444444444444444,
              "#bd3786"
             ],
             [
              0.5555555555555556,
              "#d8576b"
             ],
             [
              0.6666666666666666,
              "#ed7953"
             ],
             [
              0.7777777777777778,
              "#fb9f3a"
             ],
             [
              0.8888888888888888,
              "#fdca26"
             ],
             [
              1,
              "#f0f921"
             ]
            ],
            "type": "histogram2dcontour"
           }
          ],
          "mesh3d": [
           {
            "colorbar": {
             "outlinewidth": 0,
             "ticks": ""
            },
            "type": "mesh3d"
           }
          ],
          "parcoords": [
           {
            "line": {
             "colorbar": {
              "outlinewidth": 0,
              "ticks": ""
             }
            },
            "type": "parcoords"
           }
          ],
          "pie": [
           {
            "automargin": true,
            "type": "pie"
           }
          ],
          "scatter": [
           {
            "marker": {
             "colorbar": {
              "outlinewidth": 0,
              "ticks": ""
             }
            },
            "type": "scatter"
           }
          ],
          "scatter3d": [
           {
            "line": {
             "colorbar": {
              "outlinewidth": 0,
              "ticks": ""
             }
            },
            "marker": {
             "colorbar": {
              "outlinewidth": 0,
              "ticks": ""
             }
            },
            "type": "scatter3d"
           }
          ],
          "scattercarpet": [
           {
            "marker": {
             "colorbar": {
              "outlinewidth": 0,
              "ticks": ""
             }
            },
            "type": "scattercarpet"
           }
          ],
          "scattergeo": [
           {
            "marker": {
             "colorbar": {
              "outlinewidth": 0,
              "ticks": ""
             }
            },
            "type": "scattergeo"
           }
          ],
          "scattergl": [
           {
            "marker": {
             "colorbar": {
              "outlinewidth": 0,
              "ticks": ""
             }
            },
            "type": "scattergl"
           }
          ],
          "scattermapbox": [
           {
            "marker": {
             "colorbar": {
              "outlinewidth": 0,
              "ticks": ""
             }
            },
            "type": "scattermapbox"
           }
          ],
          "scatterpolar": [
           {
            "marker": {
             "colorbar": {
              "outlinewidth": 0,
              "ticks": ""
             }
            },
            "type": "scatterpolar"
           }
          ],
          "scatterpolargl": [
           {
            "marker": {
             "colorbar": {
              "outlinewidth": 0,
              "ticks": ""
             }
            },
            "type": "scatterpolargl"
           }
          ],
          "scatterternary": [
           {
            "marker": {
             "colorbar": {
              "outlinewidth": 0,
              "ticks": ""
             }
            },
            "type": "scatterternary"
           }
          ],
          "surface": [
           {
            "colorbar": {
             "outlinewidth": 0,
             "ticks": ""
            },
            "colorscale": [
             [
              0,
              "#0d0887"
             ],
             [
              0.1111111111111111,
              "#46039f"
             ],
             [
              0.2222222222222222,
              "#7201a8"
             ],
             [
              0.3333333333333333,
              "#9c179e"
             ],
             [
              0.4444444444444444,
              "#bd3786"
             ],
             [
              0.5555555555555556,
              "#d8576b"
             ],
             [
              0.6666666666666666,
              "#ed7953"
             ],
             [
              0.7777777777777778,
              "#fb9f3a"
             ],
             [
              0.8888888888888888,
              "#fdca26"
             ],
             [
              1,
              "#f0f921"
             ]
            ],
            "type": "surface"
           }
          ],
          "table": [
           {
            "cells": {
             "fill": {
              "color": "#EBF0F8"
             },
             "line": {
              "color": "white"
             }
            },
            "header": {
             "fill": {
              "color": "#C8D4E3"
             },
             "line": {
              "color": "white"
             }
            },
            "type": "table"
           }
          ]
         },
         "layout": {
          "annotationdefaults": {
           "arrowcolor": "#2a3f5f",
           "arrowhead": 0,
           "arrowwidth": 1
          },
          "autotypenumbers": "strict",
          "coloraxis": {
           "colorbar": {
            "outlinewidth": 0,
            "ticks": ""
           }
          },
          "colorscale": {
           "diverging": [
            [
             0,
             "#8e0152"
            ],
            [
             0.1,
             "#c51b7d"
            ],
            [
             0.2,
             "#de77ae"
            ],
            [
             0.3,
             "#f1b6da"
            ],
            [
             0.4,
             "#fde0ef"
            ],
            [
             0.5,
             "#f7f7f7"
            ],
            [
             0.6,
             "#e6f5d0"
            ],
            [
             0.7,
             "#b8e186"
            ],
            [
             0.8,
             "#7fbc41"
            ],
            [
             0.9,
             "#4d9221"
            ],
            [
             1,
             "#276419"
            ]
           ],
           "sequential": [
            [
             0,
             "#0d0887"
            ],
            [
             0.1111111111111111,
             "#46039f"
            ],
            [
             0.2222222222222222,
             "#7201a8"
            ],
            [
             0.3333333333333333,
             "#9c179e"
            ],
            [
             0.4444444444444444,
             "#bd3786"
            ],
            [
             0.5555555555555556,
             "#d8576b"
            ],
            [
             0.6666666666666666,
             "#ed7953"
            ],
            [
             0.7777777777777778,
             "#fb9f3a"
            ],
            [
             0.8888888888888888,
             "#fdca26"
            ],
            [
             1,
             "#f0f921"
            ]
           ],
           "sequentialminus": [
            [
             0,
             "#0d0887"
            ],
            [
             0.1111111111111111,
             "#46039f"
            ],
            [
             0.2222222222222222,
             "#7201a8"
            ],
            [
             0.3333333333333333,
             "#9c179e"
            ],
            [
             0.4444444444444444,
             "#bd3786"
            ],
            [
             0.5555555555555556,
             "#d8576b"
            ],
            [
             0.6666666666666666,
             "#ed7953"
            ],
            [
             0.7777777777777778,
             "#fb9f3a"
            ],
            [
             0.8888888888888888,
             "#fdca26"
            ],
            [
             1,
             "#f0f921"
            ]
           ]
          },
          "colorway": [
           "#636efa",
           "#EF553B",
           "#00cc96",
           "#ab63fa",
           "#FFA15A",
           "#19d3f3",
           "#FF6692",
           "#B6E880",
           "#FF97FF",
           "#FECB52"
          ],
          "font": {
           "color": "#2a3f5f"
          },
          "geo": {
           "bgcolor": "white",
           "lakecolor": "white",
           "landcolor": "#E5ECF6",
           "showlakes": true,
           "showland": true,
           "subunitcolor": "white"
          },
          "hoverlabel": {
           "align": "left"
          },
          "hovermode": "closest",
          "mapbox": {
           "style": "light"
          },
          "paper_bgcolor": "white",
          "plot_bgcolor": "#E5ECF6",
          "polar": {
           "angularaxis": {
            "gridcolor": "white",
            "linecolor": "white",
            "ticks": ""
           },
           "bgcolor": "#E5ECF6",
           "radialaxis": {
            "gridcolor": "white",
            "linecolor": "white",
            "ticks": ""
           }
          },
          "scene": {
           "xaxis": {
            "backgroundcolor": "#E5ECF6",
            "gridcolor": "white",
            "gridwidth": 2,
            "linecolor": "white",
            "showbackground": true,
            "ticks": "",
            "zerolinecolor": "white"
           },
           "yaxis": {
            "backgroundcolor": "#E5ECF6",
            "gridcolor": "white",
            "gridwidth": 2,
            "linecolor": "white",
            "showbackground": true,
            "ticks": "",
            "zerolinecolor": "white"
           },
           "zaxis": {
            "backgroundcolor": "#E5ECF6",
            "gridcolor": "white",
            "gridwidth": 2,
            "linecolor": "white",
            "showbackground": true,
            "ticks": "",
            "zerolinecolor": "white"
           }
          },
          "shapedefaults": {
           "line": {
            "color": "#2a3f5f"
           }
          },
          "ternary": {
           "aaxis": {
            "gridcolor": "white",
            "linecolor": "white",
            "ticks": ""
           },
           "baxis": {
            "gridcolor": "white",
            "linecolor": "white",
            "ticks": ""
           },
           "bgcolor": "#E5ECF6",
           "caxis": {
            "gridcolor": "white",
            "linecolor": "white",
            "ticks": ""
           }
          },
          "title": {
           "x": 0.05
          },
          "xaxis": {
           "automargin": true,
           "gridcolor": "white",
           "linecolor": "white",
           "ticks": "",
           "title": {
            "standoff": 15
           },
           "zerolinecolor": "white",
           "zerolinewidth": 2
          },
          "yaxis": {
           "automargin": true,
           "gridcolor": "white",
           "linecolor": "white",
           "ticks": "",
           "title": {
            "standoff": 15
           },
           "zerolinecolor": "white",
           "zerolinewidth": 2
          }
         }
        },
        "title": {
         "text": "Portfolio Correlation"
        },
        "width": 840,
        "xaxis": {
         "anchor": "y",
         "domain": [
          0,
          1
         ]
        },
        "yaxis": {
         "anchor": "x",
         "domain": [
          0,
          1
         ]
        }
       }
      }
     },
     "metadata": {},
     "output_type": "display_data"
    }
   ],
   "source": [
    "#Portfolio correlation heat map on multiple time frames \n",
    "height= 1200\n",
    "width = 1200\n",
    "\n",
    "fig_layout = make_subplots(rows=1,\n",
    "                    cols=1,\n",
    "                    subplot_titles=(\"50 Day Correlation\"),\n",
    "                    vertical_spacing = 0.05)\n",
    "\n",
    "fig_layout.update_layout(title_text=\"Portfolio Correlation\")\n",
    "\n",
    "scalar_multiplier = .7\n",
    "fig_layout['layout'].update(width=width* scalar_multiplier,height=height* scalar_multiplier, title='')\n",
    "\n",
    "ticker_data = pm.retrieve_ticker_data()\n",
    "\n",
    "returns_50 = ticker_data[-50:]\n",
    "\n",
    "\n",
    "returns_50_fig  = plot.create_correlation_figure(returns_50)\n",
    "\n",
    "fig_layout.add_trace(returns_50_fig.data[0], col=1,row=1)\n",
    "fig_layout.update_layout(title_text=\"Portfolio Correlation\")\n",
    "fig_layout.update_layout(autosize=True)\n",
    "fig_layout.show(config={'responsive': True})\n"
   ]
  },
  {
   "cell_type": "code",
   "execution_count": 9,
   "id": "8f85f106",
   "metadata": {},
   "outputs": [],
   "source": [
    "#Multi-time frame 'Rank' of Highest, Lowest, and Least correlated Assets to portfolio\n",
    "\n",
    "''' \n",
    "1. Retrieve all assets in portfolio \n",
    "2. Retrieve all assets in universe to compare\n",
    "3. Calculate average correlation of each portfolio asset to each asset in universe 21,50,200 window\n",
    "4. Rank each asset in universe by level of correlation by Highest, Lowest, least for each window\n",
    "5. find the average rank for all windows for each asset and sort by average rank\n",
    "6. display sorted table displaying each windows rank and average rank\n",
    "'''\n",
    "\n",
    "pm.load(period='3y',interval='1d')\n",
    "portfolio_assets = pm.retrieve_ticker_data()\n",
    "\n"
   ]
  },
  {
   "cell_type": "code",
   "execution_count": 10,
   "id": "65a9e0e1",
   "metadata": {},
   "outputs": [
    {
     "name": "stdout",
     "output_type": "stream",
     "text": [
      "         contractSymbol             lastTradeDate  strike  lastPrice     bid  \\\n",
      "0   MSFT230414C00170000 2023-03-29 14:09:13+00:00   170.0     110.13  111.80   \n",
      "1   MSFT230414C00175000 2023-03-29 14:09:13+00:00   175.0     105.12  106.90   \n",
      "2   MSFT230414C00180000 2023-04-05 19:48:40+00:00   180.0     104.67  102.05   \n",
      "3   MSFT230414C00200000 2023-03-27 14:58:58+00:00   200.0      79.00   81.85   \n",
      "4   MSFT230414C00210000 2023-04-04 15:10:22+00:00   210.0      78.41   71.95   \n",
      "5   MSFT230414C00215000 2023-03-31 19:55:30+00:00   215.0      75.55   66.65   \n",
      "6   MSFT230414C00220000 2023-04-06 17:23:20+00:00   220.0      68.79   62.05   \n",
      "7   MSFT230414C00225000 2023-03-07 18:19:33+00:00   225.0      32.45   64.75   \n",
      "8   MSFT230414C00230000 2023-04-10 18:43:38+00:00   230.0      58.63   51.95   \n",
      "9   MSFT230414C00235000 2023-04-11 15:32:20+00:00   235.0      47.55   47.20   \n",
      "10  MSFT230414C00240000 2023-04-11 15:13:37+00:00   240.0      42.44   42.10   \n",
      "11  MSFT230414C00242500 2023-04-06 18:29:08+00:00   242.5      47.94   39.40   \n",
      "12  MSFT230414C00245000 2023-04-11 15:05:49+00:00   245.0      37.75   37.10   \n",
      "13  MSFT230414C00247500 2023-04-05 15:27:00+00:00   247.5      36.45   34.40   \n",
      "14  MSFT230414C00250000 2023-04-11 16:54:38+00:00   250.0      33.70   31.65   \n",
      "15  MSFT230414C00252500 2023-04-11 13:43:17+00:00   252.5      31.77   29.10   \n",
      "16  MSFT230414C00255000 2023-04-11 19:11:13+00:00   255.0      29.08   26.55   \n",
      "17  MSFT230414C00257500 2023-04-11 15:25:43+00:00   257.5      25.70   24.60   \n",
      "18  MSFT230414C00260000 2023-04-11 19:52:36+00:00   260.0      23.00   21.40   \n",
      "19  MSFT230414C00262500 2023-04-11 19:25:25+00:00   262.5      21.30   19.20   \n",
      "20  MSFT230414C00265000 2023-04-11 19:59:21+00:00   265.0      18.18   16.35   \n",
      "21  MSFT230414C00267500 2023-04-11 19:54:55+00:00   267.5      16.02   14.25   \n",
      "22  MSFT230414C00270000 2023-04-11 19:59:33+00:00   270.0      13.42   12.75   \n",
      "23  MSFT230414C00272500 2023-04-11 19:59:44+00:00   272.5      10.25   10.25   \n",
      "24  MSFT230414C00275000 2023-04-11 19:58:22+00:00   275.0       8.73    8.55   \n",
      "25  MSFT230414C00277500 2023-04-11 19:57:35+00:00   277.5       6.60    6.55   \n",
      "26  MSFT230414C00280000 2023-04-11 19:59:37+00:00   280.0       4.95    4.75   \n",
      "27  MSFT230414C00282500 2023-04-11 19:59:50+00:00   282.5       3.30    3.25   \n",
      "28  MSFT230414C00285000 2023-04-11 19:59:57+00:00   285.0       2.13    2.10   \n",
      "29  MSFT230414C00287500 2023-04-11 19:59:52+00:00   287.5       1.28    1.26   \n",
      "30  MSFT230414C00290000 2023-04-11 19:59:57+00:00   290.0       0.71    0.71   \n",
      "31  MSFT230414C00292500 2023-04-11 19:59:55+00:00   292.5       0.39    0.39   \n",
      "32  MSFT230414C00295000 2023-04-11 19:59:45+00:00   295.0       0.21    0.21   \n",
      "33  MSFT230414C00297500 2023-04-11 19:59:39+00:00   297.5       0.12    0.12   \n",
      "34  MSFT230414C00300000 2023-04-11 19:59:57+00:00   300.0       0.07    0.07   \n",
      "35  MSFT230414C00302500 2023-04-11 19:59:40+00:00   302.5       0.05    0.04   \n",
      "36  MSFT230414C00305000 2023-04-11 19:59:53+00:00   305.0       0.04    0.03   \n",
      "37  MSFT230414C00307500 2023-04-11 19:49:45+00:00   307.5       0.02    0.01   \n",
      "38  MSFT230414C00310000 2023-04-11 19:59:45+00:00   310.0       0.02    0.01   \n",
      "39  MSFT230414C00312500 2023-04-11 19:36:49+00:00   312.5       0.01    0.00   \n",
      "40  MSFT230414C00315000 2023-04-11 17:42:30+00:00   315.0       0.01    0.00   \n",
      "41  MSFT230414C00317500 2023-04-11 14:21:28+00:00   317.5       0.01    0.00   \n",
      "42  MSFT230414C00320000 2023-04-11 19:51:16+00:00   320.0       0.01    0.00   \n",
      "43  MSFT230414C00322500 2023-04-10 17:27:57+00:00   322.5       0.01    0.00   \n",
      "44  MSFT230414C00325000 2023-04-10 13:54:22+00:00   325.0       0.02    0.00   \n",
      "45  MSFT230414C00327500 2023-04-06 18:47:32+00:00   327.5       0.03    0.00   \n",
      "46  MSFT230414C00330000 2023-04-11 19:27:16+00:00   330.0       0.01    0.00   \n",
      "47  MSFT230414C00335000 2023-04-06 19:44:57+00:00   335.0       0.01    0.00   \n",
      "48  MSFT230414C00340000 2023-04-06 16:47:43+00:00   340.0       0.01    0.00   \n",
      "49  MSFT230414C00345000 2023-03-27 18:17:55+00:00   345.0       0.10    0.00   \n",
      "50  MSFT230414C00350000 2023-04-06 19:06:56+00:00   350.0       0.03    0.00   \n",
      "\n",
      "       ask    change  percentChange   volume  openInterest  impliedVolatility  \\\n",
      "0   114.25  0.000000       0.000000      2.0             2           2.472660   \n",
      "1   109.00  0.000000       0.000000      2.0             2           2.203129   \n",
      "2   104.30  0.000000       0.000000      2.0             2           2.408207   \n",
      "3    84.25  0.000000       0.000000      1.0             2           1.783204   \n",
      "4    74.35  0.000000       0.000000      NaN            10           1.652345   \n",
      "5    69.65  0.000000       0.000000     20.0             5           1.539065   \n",
      "6    64.05  0.000000       0.000000      5.0           207           1.345706   \n",
      "7    68.20  0.000000       0.000000      2.0             2           3.157961   \n",
      "8    54.10  0.000000       0.000000      1.0           194           1.116215   \n",
      "9    49.00 -3.650002      -7.128909      4.0            21           1.070317   \n",
      "10   44.00 -5.830002     -12.077899      1.0           163           0.933594   \n",
      "11   41.85  0.000000       0.000000      1.0             2           0.929688   \n",
      "12   38.80 -4.250000     -10.119048     12.0            44           0.757815   \n",
      "13   36.85  0.000000       0.000000      NaN             3           0.825197   \n",
      "14   34.00 -5.180000     -13.323047     16.0           305           1.052251   \n",
      "15   31.40 -6.479999     -16.941175      1.0            35           0.964844   \n",
      "16   29.05 -4.769999     -14.091577     20.0           467           0.935059   \n",
      "17   27.10 -5.139999     -16.666664      3.0            37           0.697757   \n",
      "18   24.70 -6.000000     -20.689655    153.0           967           0.534184   \n",
      "19   21.45 -5.190001     -19.592302     17.0            39           0.719729   \n",
      "20   19.05 -6.229999     -25.522324    294.0          1189           0.672611   \n",
      "21   17.65 -5.779999     -26.513756     26.0           842           0.770754   \n",
      "22   14.25 -5.580000     -29.368422    663.0          3978           0.567387   \n",
      "23   11.70 -6.250000     -37.878788    333.0           611           0.487554   \n",
      "24    8.85 -5.370001     -38.085114    320.0          2561           0.365241   \n",
      "25    6.80 -5.520000     -45.544556    510.0           984           0.346442   \n",
      "26    4.90 -4.830000     -49.386505   4772.0          3228           0.323493   \n",
      "27    3.40 -4.380000     -57.031250   8580.0          1531           0.316169   \n",
      "28    2.14 -3.970000     -65.081960  30560.0          3765           0.302375   \n",
      "29    1.30 -3.070000     -70.574715  13136.0          4641           0.299568   \n",
      "30    0.74 -2.290000     -76.333330  23694.0          6954           0.298103   \n",
      "31    0.40 -1.510000     -79.473690   8233.0          5431           0.298347   \n",
      "32    0.23 -0.940000     -81.739136  13465.0          7418           0.307624   \n",
      "33    0.13 -0.520000     -81.250000   2743.0          3110           0.316413   \n",
      "34    0.08 -0.290000     -80.555560   5747.0          7706           0.330085   \n",
      "35    0.05 -0.140000     -73.684210   1054.0          1449           0.343757   \n",
      "36    0.04 -0.070000     -63.636364   1534.0          4746           0.367194   \n",
      "37    0.03 -0.050000     -71.428570    173.0           927           0.386725   \n",
      "38    0.03 -0.020000     -50.000000    881.0          2776           0.421881   \n",
      "39    0.01 -0.020000     -66.666670    248.0          1467           0.398444   \n",
      "40    0.02  0.000000       0.000000    231.0          1543           0.460943   \n",
      "41    0.01  0.000000       0.000000      3.0           240           0.460943   \n",
      "42    0.01  0.000000       0.000000     17.0           923           0.484380   \n",
      "43    0.01  0.000000       0.000000      4.0           128           0.515630   \n",
      "44    0.01  0.000000       0.000000      1.0           289           0.500005   \n",
      "45    0.01  0.000000       0.000000      3.0             3           0.531255   \n",
      "46    0.01  0.000000       0.000000     18.0           126           0.562504   \n",
      "47    0.01  0.000000       0.000000     12.0           207           0.609379   \n",
      "48    0.01  0.000000       0.000000      1.0           642           0.656253   \n",
      "49    0.01  0.000000       0.000000      1.0            50           0.703128   \n",
      "50    0.00  0.000000       0.000000      1.0           372           0.500005   \n",
      "\n",
      "    inTheMoney contractSize currency  \n",
      "0         True      REGULAR      USD  \n",
      "1         True      REGULAR      USD  \n",
      "2         True      REGULAR      USD  \n",
      "3         True      REGULAR      USD  \n",
      "4         True      REGULAR      USD  \n",
      "5         True      REGULAR      USD  \n",
      "6         True      REGULAR      USD  \n",
      "7         True      REGULAR      USD  \n",
      "8         True      REGULAR      USD  \n",
      "9         True      REGULAR      USD  \n",
      "10        True      REGULAR      USD  \n",
      "11        True      REGULAR      USD  \n",
      "12        True      REGULAR      USD  \n",
      "13        True      REGULAR      USD  \n",
      "14        True      REGULAR      USD  \n",
      "15        True      REGULAR      USD  \n",
      "16        True      REGULAR      USD  \n",
      "17        True      REGULAR      USD  \n",
      "18        True      REGULAR      USD  \n",
      "19        True      REGULAR      USD  \n",
      "20        True      REGULAR      USD  \n",
      "21        True      REGULAR      USD  \n",
      "22        True      REGULAR      USD  \n",
      "23        True      REGULAR      USD  \n",
      "24        True      REGULAR      USD  \n",
      "25        True      REGULAR      USD  \n",
      "26        True      REGULAR      USD  \n",
      "27        True      REGULAR      USD  \n",
      "28       False      REGULAR      USD  \n",
      "29       False      REGULAR      USD  \n",
      "30       False      REGULAR      USD  \n",
      "31       False      REGULAR      USD  \n",
      "32       False      REGULAR      USD  \n",
      "33       False      REGULAR      USD  \n",
      "34       False      REGULAR      USD  \n",
      "35       False      REGULAR      USD  \n",
      "36       False      REGULAR      USD  \n",
      "37       False      REGULAR      USD  \n",
      "38       False      REGULAR      USD  \n",
      "39       False      REGULAR      USD  \n",
      "40       False      REGULAR      USD  \n",
      "41       False      REGULAR      USD  \n",
      "42       False      REGULAR      USD  \n",
      "43       False      REGULAR      USD  \n",
      "44       False      REGULAR      USD  \n",
      "45       False      REGULAR      USD  \n",
      "46       False      REGULAR      USD  \n",
      "47       False      REGULAR      USD  \n",
      "48       False      REGULAR      USD  \n",
      "49       False      REGULAR      USD  \n",
      "50       False      REGULAR      USD  \n",
      "         contractSymbol             lastTradeDate  strike  lastPrice     bid  \\\n",
      "0   MSFT230421C00110000 2023-03-07 18:05:26+00:00   110.0     145.79  179.55   \n",
      "1   MSFT230421C00115000 2023-03-24 15:19:51+00:00   115.0     162.70  166.55   \n",
      "2   MSFT230421C00120000 2023-03-23 17:57:34+00:00   120.0     159.53  161.80   \n",
      "3   MSFT230421C00125000 2023-03-23 17:57:34+00:00   125.0     154.50  156.50   \n",
      "4   MSFT230421C00130000 2023-04-10 14:54:52+00:00   130.0     156.85  151.65   \n",
      "..                  ...                       ...     ...        ...     ...   \n",
      "68  MSFT230421C00395000 2023-03-17 17:14:25+00:00   395.0       0.04    0.00   \n",
      "69  MSFT230421C00400000 2023-04-11 19:32:30+00:00   400.0       0.02    0.00   \n",
      "70  MSFT230421C00410000 2023-03-08 14:35:25+00:00   410.0       0.01    0.00   \n",
      "71  MSFT230421C00420000 2023-03-17 18:30:48+00:00   420.0       0.03    0.00   \n",
      "72  MSFT230421C00430000 2023-03-24 19:07:45+00:00   430.0       0.03    0.00   \n",
      "\n",
      "       ask  change  percentChange  volume  openInterest  impliedVolatility  \\\n",
      "0   183.25    0.00            0.0       5           459           4.972660   \n",
      "1   169.35    0.00            0.0       1             7           2.156255   \n",
      "2   164.85    0.00            0.0      20            23           2.478519   \n",
      "3   159.00    0.00            0.0      20            93           2.730472   \n",
      "4   154.60    0.00            0.0       1             3           2.103520   \n",
      "..     ...     ...            ...     ...           ...                ...   \n",
      "68    0.01    0.00            0.0       4          1914           0.625004   \n",
      "69    0.20    0.01          100.0       4           465           0.843752   \n",
      "70    0.51    0.00            0.0       1           427           1.006841   \n",
      "71    0.24    0.00            0.0      14           316           0.966797   \n",
      "72    0.01    0.00            0.0       2           479           0.750003   \n",
      "\n",
      "    inTheMoney contractSize currency  \n",
      "0         True      REGULAR      USD  \n",
      "1         True      REGULAR      USD  \n",
      "2         True      REGULAR      USD  \n",
      "3         True      REGULAR      USD  \n",
      "4         True      REGULAR      USD  \n",
      "..         ...          ...      ...  \n",
      "68       False      REGULAR      USD  \n",
      "69       False      REGULAR      USD  \n",
      "70       False      REGULAR      USD  \n",
      "71       False      REGULAR      USD  \n",
      "72       False      REGULAR      USD  \n",
      "\n",
      "[73 rows x 14 columns]\n",
      "         contractSymbol             lastTradeDate  strike  lastPrice     bid  \\\n",
      "0   MSFT230428C00175000 2023-03-10 14:58:34+00:00   175.0      75.57  115.00   \n",
      "1   MSFT230428C00185000 2023-04-06 14:08:11+00:00   185.0      99.50   96.65   \n",
      "2   MSFT230428C00200000 2023-03-31 17:37:56+00:00   200.0      87.00   81.90   \n",
      "3   MSFT230428C00205000 2023-03-31 19:43:58+00:00   205.0      82.55   76.70   \n",
      "4   MSFT230428C00215000 2023-03-23 15:43:05+00:00   215.0      66.65   67.45   \n",
      "5   MSFT230428C00220000 2023-04-03 19:47:34+00:00   220.0      67.98   62.65   \n",
      "6   MSFT230428C00225000 2023-04-10 17:20:00+00:00   225.0      64.25   56.90   \n",
      "7   MSFT230428C00230000 2023-04-11 16:07:03+00:00   230.0      53.86   52.50   \n",
      "8   MSFT230428C00235000 2023-04-11 18:48:37+00:00   235.0      49.82   47.30   \n",
      "9   MSFT230428C00240000 2023-04-11 19:59:07+00:00   240.0      43.70   42.80   \n",
      "10  MSFT230428C00245000 2023-04-06 18:29:01+00:00   245.0      46.86   37.45   \n",
      "11  MSFT230428C00250000 2023-04-11 18:55:14+00:00   250.0      35.30   32.95   \n",
      "12  MSFT230428C00255000 2023-04-11 19:55:49+00:00   255.0      29.50   28.10   \n",
      "13  MSFT230428C00260000 2023-04-11 19:40:02+00:00   260.0      24.75   23.20   \n",
      "14  MSFT230428C00265000 2023-04-11 19:27:39+00:00   265.0      21.32   19.30   \n",
      "15  MSFT230428C00270000 2023-04-11 19:54:20+00:00   270.0      16.85   16.70   \n",
      "16  MSFT230428C00275000 2023-04-11 19:55:26+00:00   275.0      13.00   11.80   \n",
      "17  MSFT230428C00280000 2023-04-11 19:58:17+00:00   280.0       9.97    9.50   \n",
      "18  MSFT230428C00285000 2023-04-11 19:59:33+00:00   285.0       7.30    6.90   \n",
      "19  MSFT230428C00290000 2023-04-11 19:58:36+00:00   290.0       5.03    4.60   \n",
      "20  MSFT230428C00295000 2023-04-11 19:55:30+00:00   295.0       3.27    3.25   \n",
      "21  MSFT230428C00300000 2023-04-11 19:59:45+00:00   300.0       2.14    2.10   \n",
      "22  MSFT230428C00305000 2023-04-11 19:59:27+00:00   305.0       1.29    1.20   \n",
      "23  MSFT230428C00310000 2023-04-11 19:57:42+00:00   310.0       0.76    0.50   \n",
      "24  MSFT230428C00315000 2023-04-11 19:55:54+00:00   315.0       0.43    0.42   \n",
      "25  MSFT230428C00320000 2023-04-11 19:49:43+00:00   320.0       0.28    0.26   \n",
      "26  MSFT230428C00325000 2023-04-11 19:51:29+00:00   325.0       0.18    0.15   \n",
      "27  MSFT230428C00330000 2023-04-11 19:32:50+00:00   330.0       0.13    0.02   \n",
      "28  MSFT230428C00335000 2023-04-11 17:00:14+00:00   335.0       0.11    0.00   \n",
      "29  MSFT230428C00340000 2023-04-11 13:56:52+00:00   340.0       0.08    0.04   \n",
      "30  MSFT230428C00345000 2023-04-11 13:55:55+00:00   345.0       0.06    0.03   \n",
      "31  MSFT230428C00350000 2023-04-11 18:48:47+00:00   350.0       0.04    0.03   \n",
      "32  MSFT230428C00355000 2023-04-11 14:15:02+00:00   355.0       0.03    0.01   \n",
      "\n",
      "       ask    change  percentChange  volume  openInterest  impliedVolatility  \\\n",
      "0   118.65  0.000000       0.000000     NaN             1           2.247075   \n",
      "1    99.15  0.000000       0.000000     5.0             5           0.777346   \n",
      "2    84.50  0.000000       0.000000     2.0             8           0.810060   \n",
      "3    79.85  0.000000       0.000000     2.0             2           0.783205   \n",
      "4    69.70  0.000000       0.000000     NaN             6           0.750979   \n",
      "5    64.55  0.000000       0.000000     1.0             8           0.703128   \n",
      "6    59.45  0.000000       0.000000     3.0            14           0.560551   \n",
      "7    54.90 -8.139999     -13.129032     1.0            22           0.615238   \n",
      "8    49.75 -2.130001      -4.100098     3.0            19           0.536626   \n",
      "9    45.20 -6.219997     -12.459931     2.0           123           0.549321   \n",
      "10   40.15  0.000000       0.000000     3.0             7           0.601933   \n",
      "11   35.85 -4.260002     -10.768458    11.0            90           0.592167   \n",
      "12   31.10 -4.139999     -12.306776    10.0           164           0.544072   \n",
      "13   25.40 -5.250000     -17.500000    27.0           290           0.434820   \n",
      "14   21.65 -4.930000     -18.780954   208.0           266           0.440924   \n",
      "15   17.75 -5.020001     -22.953820  2724.0           394           0.422918   \n",
      "16   14.05 -4.850000     -27.170870   472.0           819           0.401251   \n",
      "17   10.10 -4.019999     -28.734806   869.0          1978           0.355475   \n",
      "18    7.35 -3.700000     -33.636360  1429.0          1542           0.343268   \n",
      "19    5.10 -3.039999     -37.670380  1051.0          2102           0.332221   \n",
      "20    3.40 -2.390000     -42.226147   936.0          1737           0.324348   \n",
      "21    2.15 -1.710000     -44.415580  1398.0          7757           0.317268   \n",
      "22    1.46 -1.180000     -47.773280  1083.0          7972           0.323493   \n",
      "23    0.78 -0.830000     -52.201260  1880.0          2450           0.310554   \n",
      "24    0.46 -0.520000     -54.736840   215.0          1015           0.311042   \n",
      "25    0.28 -0.310000     -52.542370    69.0           996           0.314948   \n",
      "26    0.19 -0.150000     -45.454548    32.0           448           0.325202   \n",
      "27    0.13 -0.080000     -38.095238    46.0           578           0.334968   \n",
      "28    0.10 -0.040000     -26.666672    61.0           308           0.349616   \n",
      "29    0.08 -0.040000     -33.333336     1.0           144           0.365241   \n",
      "30    0.07 -0.030000     -33.333336    50.0            75           0.382819   \n",
      "31    0.05 -0.020000     -33.333336   112.0          1750           0.392584   \n",
      "32    0.03 -0.020000     -40.000004     4.0            41           0.392584   \n",
      "\n",
      "    inTheMoney contractSize currency  \n",
      "0         True      REGULAR      USD  \n",
      "1         True      REGULAR      USD  \n",
      "2         True      REGULAR      USD  \n",
      "3         True      REGULAR      USD  \n",
      "4         True      REGULAR      USD  \n",
      "5         True      REGULAR      USD  \n",
      "6         True      REGULAR      USD  \n",
      "7         True      REGULAR      USD  \n",
      "8         True      REGULAR      USD  \n",
      "9         True      REGULAR      USD  \n",
      "10        True      REGULAR      USD  \n",
      "11        True      REGULAR      USD  \n",
      "12        True      REGULAR      USD  \n",
      "13        True      REGULAR      USD  \n",
      "14        True      REGULAR      USD  \n",
      "15        True      REGULAR      USD  \n",
      "16        True      REGULAR      USD  \n",
      "17        True      REGULAR      USD  \n",
      "18       False      REGULAR      USD  \n",
      "19       False      REGULAR      USD  \n",
      "20       False      REGULAR      USD  \n",
      "21       False      REGULAR      USD  \n",
      "22       False      REGULAR      USD  \n",
      "23       False      REGULAR      USD  \n",
      "24       False      REGULAR      USD  \n",
      "25       False      REGULAR      USD  \n",
      "26       False      REGULAR      USD  \n",
      "27       False      REGULAR      USD  \n",
      "28       False      REGULAR      USD  \n",
      "29       False      REGULAR      USD  \n",
      "30       False      REGULAR      USD  \n",
      "31       False      REGULAR      USD  \n",
      "32       False      REGULAR      USD  \n",
      "         contractSymbol             lastTradeDate  strike  lastPrice    bid  \\\n",
      "0   MSFT230505C00205000 2023-03-23 15:42:33+00:00   205.0      76.80  77.20   \n",
      "1   MSFT230505C00210000 2023-04-06 17:51:02+00:00   210.0      80.90  72.65   \n",
      "2   MSFT230505C00220000 2023-03-31 16:17:19+00:00   220.0      66.40  63.05   \n",
      "3   MSFT230505C00225000 2023-03-31 19:25:06+00:00   225.0      65.00  58.15   \n",
      "4   MSFT230505C00230000 2023-04-10 15:51:07+00:00   230.0      58.70  53.05   \n",
      "5   MSFT230505C00240000 2023-04-11 14:49:42+00:00   240.0      44.80  43.30   \n",
      "6   MSFT230505C00245000 2023-04-11 13:35:47+00:00   245.0      41.41  38.45   \n",
      "7   MSFT230505C00250000 2023-04-11 19:43:59+00:00   250.0      34.41  33.20   \n",
      "8   MSFT230505C00255000 2023-04-11 19:05:29+00:00   255.0      31.37  29.60   \n",
      "9   MSFT230505C00260000 2023-04-11 19:16:44+00:00   260.0      26.84  24.95   \n",
      "10  MSFT230505C00265000 2023-04-11 19:28:57+00:00   265.0      22.15  21.10   \n",
      "11  MSFT230505C00270000 2023-04-11 17:52:01+00:00   270.0      18.41  17.50   \n",
      "12  MSFT230505C00275000 2023-04-11 19:27:01+00:00   275.0      14.95  12.60   \n",
      "13  MSFT230505C00280000 2023-04-11 19:38:46+00:00   280.0      11.16  11.00   \n",
      "14  MSFT230505C00285000 2023-04-11 19:59:13+00:00   285.0       8.60   8.55   \n",
      "15  MSFT230505C00290000 2023-04-11 19:59:45+00:00   290.0       6.35   6.25   \n",
      "16  MSFT230505C00295000 2023-04-11 19:54:35+00:00   295.0       4.49   4.20   \n",
      "17  MSFT230505C00300000 2023-04-11 19:59:05+00:00   300.0       3.08   2.91   \n",
      "18  MSFT230505C00305000 2023-04-11 19:53:30+00:00   305.0       2.04   1.71   \n",
      "19  MSFT230505C00310000 2023-04-11 19:59:02+00:00   310.0       1.32   1.06   \n",
      "20  MSFT230505C00315000 2023-04-11 19:55:28+00:00   315.0       0.82   0.80   \n",
      "21  MSFT230505C00320000 2023-04-11 19:27:16+00:00   320.0       0.60   0.50   \n",
      "22  MSFT230505C00325000 2023-04-11 16:28:26+00:00   325.0       0.37   0.32   \n",
      "23  MSFT230505C00330000 2023-04-11 19:58:35+00:00   330.0       0.24   0.20   \n",
      "24  MSFT230505C00335000 2023-04-11 17:43:45+00:00   335.0       0.18   0.13   \n",
      "25  MSFT230505C00340000 2023-04-11 15:50:55+00:00   340.0       0.13   0.09   \n",
      "26  MSFT230505C00345000 2023-04-11 19:05:21+00:00   345.0       0.08   0.07   \n",
      "27  MSFT230505C00350000 2023-04-11 13:43:40+00:00   350.0       0.07   0.01   \n",
      "\n",
      "      ask    change  percentChange  volume  openInterest  impliedVolatility  \\\n",
      "0   79.80  0.000000       0.000000     NaN            10           0.708499   \n",
      "1   75.25  0.000000       0.000000     1.0             1           0.735354   \n",
      "2   65.75  0.000000       0.000000    10.0            22           0.692630   \n",
      "3   60.20  0.000000       0.000000     1.0             1           0.619633   \n",
      "4   55.00  0.000000       0.000000     3.0            14           0.556401   \n",
      "5   45.50 -5.520001     -10.969794    51.0            87           0.582524   \n",
      "6   40.70 -1.520001      -3.540649    40.0            15           0.542851   \n",
      "7   36.05 -3.959999     -10.320560    10.0            13           0.510015   \n",
      "8   32.15 -2.100000      -6.274276     7.0            32           0.512151   \n",
      "9   27.00 -4.709999     -14.928682    13.0           209           0.446234   \n",
      "10  23.00 -5.610001     -20.208935     9.0            46           0.430120   \n",
      "11  19.05 -4.440001     -19.431074    37.0           145           0.407477   \n",
      "12  14.75 -3.980001     -21.024830    47.0           159           0.363471   \n",
      "13  11.50 -4.140000     -27.058825   139.0           275           0.348212   \n",
      "14   9.45 -3.549999     -29.218102   546.0          1353           0.361579   \n",
      "15   6.40 -3.120000     -32.946148  1096.0          3355           0.326362   \n",
      "16   4.75 -2.470000     -35.488510   269.0           603           0.326179   \n",
      "17   3.15 -2.020000     -39.607845   669.0          3596           0.312995   \n",
      "18   2.28 -1.490000     -42.209633   378.0          1399           0.317268   \n",
      "19   1.50 -1.020000     -43.589737  1970.0          5994           0.313239   \n",
      "20   1.06 -0.760000     -48.101270   454.0          1388           0.318122   \n",
      "21   0.75 -0.430000     -41.747570    75.0           255           0.323493   \n",
      "22   0.54 -0.250000     -40.322582    70.0           159           0.330085   \n",
      "23   0.25 -0.180000     -42.857143    32.0           286           0.311774   \n",
      "24   0.18 -0.110000     -37.931030     3.0            61           0.319831   \n",
      "25   0.13 -0.070000     -35.000004    11.0           228           0.327155   \n",
      "26   0.10 -0.100000     -55.555557     9.0           157           0.337409   \n",
      "27   0.15 -0.030000     -30.000002     5.0           323           0.377936   \n",
      "\n",
      "    inTheMoney contractSize currency  \n",
      "0         True      REGULAR      USD  \n",
      "1         True      REGULAR      USD  \n",
      "2         True      REGULAR      USD  \n",
      "3         True      REGULAR      USD  \n",
      "4         True      REGULAR      USD  \n",
      "5         True      REGULAR      USD  \n",
      "6         True      REGULAR      USD  \n",
      "7         True      REGULAR      USD  \n",
      "8         True      REGULAR      USD  \n",
      "9         True      REGULAR      USD  \n",
      "10        True      REGULAR      USD  \n",
      "11        True      REGULAR      USD  \n",
      "12        True      REGULAR      USD  \n",
      "13        True      REGULAR      USD  \n",
      "14       False      REGULAR      USD  \n",
      "15       False      REGULAR      USD  \n",
      "16       False      REGULAR      USD  \n",
      "17       False      REGULAR      USD  \n",
      "18       False      REGULAR      USD  \n",
      "19       False      REGULAR      USD  \n",
      "20       False      REGULAR      USD  \n",
      "21       False      REGULAR      USD  \n",
      "22       False      REGULAR      USD  \n",
      "23       False      REGULAR      USD  \n",
      "24       False      REGULAR      USD  \n",
      "25       False      REGULAR      USD  \n",
      "26       False      REGULAR      USD  \n",
      "27       False      REGULAR      USD  \n",
      "         contractSymbol             lastTradeDate  strike  lastPrice    bid  \\\n",
      "0   MSFT230512C00215000 2023-04-11 14:09:32+00:00   215.0      69.70  68.30   \n",
      "1   MSFT230512C00220000 2023-03-31 16:24:05+00:00   220.0      66.80  62.55   \n",
      "2   MSFT230512C00225000 2023-03-31 16:24:05+00:00   225.0      61.95  58.40   \n",
      "3   MSFT230512C00230000 2023-04-06 17:18:19+00:00   230.0      59.84  53.70   \n",
      "4   MSFT230512C00240000 2023-04-11 15:13:37+00:00   240.0      44.44  44.00   \n",
      "5   MSFT230512C00245000 2023-04-11 13:33:20+00:00   245.0      41.64  39.50   \n",
      "6   MSFT230512C00250000 2023-04-11 19:43:59+00:00   250.0      34.90  34.30   \n",
      "7   MSFT230512C00255000 2023-04-11 15:55:00+00:00   255.0      30.86  30.20   \n",
      "8   MSFT230512C00260000 2023-04-11 19:37:49+00:00   260.0      27.00  26.10   \n",
      "9   MSFT230512C00265000 2023-04-11 14:17:04+00:00   265.0      23.42  22.55   \n",
      "10  MSFT230512C00270000 2023-04-11 15:48:38+00:00   270.0      18.60  18.65   \n",
      "11  MSFT230512C00275000 2023-04-11 17:10:53+00:00   275.0      15.82  13.55   \n",
      "12  MSFT230512C00280000 2023-04-11 19:54:33+00:00   280.0      12.45  11.55   \n",
      "13  MSFT230512C00285000 2023-04-11 19:55:00+00:00   285.0       9.60   8.20   \n",
      "14  MSFT230512C00290000 2023-04-11 19:55:34+00:00   290.0       7.15   6.50   \n",
      "15  MSFT230512C00295000 2023-04-11 19:54:35+00:00   295.0       5.31   5.15   \n",
      "16  MSFT230512C00300000 2023-04-11 19:42:16+00:00   300.0       3.60   3.60   \n",
      "17  MSFT230512C00305000 2023-04-11 19:58:45+00:00   305.0       2.53   2.24   \n",
      "18  MSFT230512C00310000 2023-04-11 19:38:42+00:00   310.0       1.70   1.69   \n",
      "19  MSFT230512C00315000 2023-04-11 19:59:44+00:00   315.0       1.14   1.10   \n",
      "20  MSFT230512C00320000 2023-04-11 19:52:56+00:00   320.0       0.77   0.73   \n",
      "21  MSFT230512C00325000 2023-04-11 19:57:42+00:00   325.0       0.48   0.46   \n",
      "22  MSFT230512C00330000 2023-04-11 19:56:29+00:00   330.0       0.32   0.30   \n",
      "23  MSFT230512C00335000 2023-04-11 15:16:33+00:00   335.0       0.24   0.20   \n",
      "24  MSFT230512C00340000 2023-04-11 15:28:40+00:00   340.0       0.17   0.15   \n",
      "25  MSFT230512C00345000 2023-04-10 15:27:53+00:00   345.0       0.19   0.09   \n",
      "26  MSFT230512C00350000 2023-04-10 13:30:00+00:00   350.0       0.01   0.06   \n",
      "\n",
      "      ask    change  percentChange  volume  openInterest  impliedVolatility  \\\n",
      "0   70.10 -6.100006      -8.047501       1             2           0.632816   \n",
      "1   65.30  0.000000       0.000000      10            10           0.560551   \n",
      "2   60.40  0.000000       0.000000       6             6           0.566166   \n",
      "3   55.85  0.000000       0.000000       2             2           0.553593   \n",
      "4   47.00 -5.560001     -11.120003       1             5           0.512456   \n",
      "5   41.45 -6.360001     -13.250001       6             3           0.517705   \n",
      "6   36.70 -6.199997     -15.085152       3            18           0.480657   \n",
      "7   31.55 -5.790001     -15.798092      14            17           0.423834   \n",
      "8   27.85 -3.200001     -10.596028      11             6           0.427252   \n",
      "9   23.55 -4.479999     -16.057346       2           191           0.398871   \n",
      "10  19.30 -5.650000     -23.298967      14            60           0.367072   \n",
      "11  15.75 -3.860001     -19.613823       4           670           0.351996   \n",
      "12  13.15 -4.130000     -24.909530      57           127           0.357123   \n",
      "13   9.70 -3.290000     -25.523659     215           149           0.325751   \n",
      "14   8.00 -3.200000     -30.917877     217           526           0.337165   \n",
      "15   5.35 -2.460000     -31.660233     438           784           0.307136   \n",
      "16   3.80 -2.160000     -37.500004     219           444           0.299995   \n",
      "17   2.84 -1.770000     -41.162796     234           930           0.303535   \n",
      "18   1.78 -1.290000     -43.143810      65           204           0.290657   \n",
      "19   1.18 -0.860000     -43.000000     103           416           0.287971   \n",
      "20   2.00 -0.610000     -44.202900     259           144           0.368170   \n",
      "21   2.62 -0.440000     -47.826090      38           136           0.433233   \n",
      "22   0.36 -0.250000     -43.859650      12           105           0.291999   \n",
      "23   0.25 -0.170000     -41.463417       8           128           0.296150   \n",
      "24   0.18 -0.100000     -37.037040       1           103           0.301765   \n",
      "25   0.14  0.000000       0.000000       6           103           0.310554   \n",
      "26   0.11  0.000000       0.000000       7           153           0.319343   \n",
      "\n",
      "    inTheMoney contractSize currency  \n",
      "0         True      REGULAR      USD  \n",
      "1         True      REGULAR      USD  \n",
      "2         True      REGULAR      USD  \n",
      "3         True      REGULAR      USD  \n",
      "4         True      REGULAR      USD  \n",
      "5         True      REGULAR      USD  \n",
      "6         True      REGULAR      USD  \n",
      "7         True      REGULAR      USD  \n",
      "8         True      REGULAR      USD  \n",
      "9         True      REGULAR      USD  \n",
      "10        True      REGULAR      USD  \n",
      "11        True      REGULAR      USD  \n",
      "12        True      REGULAR      USD  \n",
      "13       False      REGULAR      USD  \n",
      "14       False      REGULAR      USD  \n",
      "15       False      REGULAR      USD  \n",
      "16       False      REGULAR      USD  \n",
      "17       False      REGULAR      USD  \n",
      "18       False      REGULAR      USD  \n",
      "19       False      REGULAR      USD  \n",
      "20       False      REGULAR      USD  \n",
      "21       False      REGULAR      USD  \n",
      "22       False      REGULAR      USD  \n",
      "23       False      REGULAR      USD  \n",
      "24       False      REGULAR      USD  \n",
      "25       False      REGULAR      USD  \n",
      "26       False      REGULAR      USD  \n",
      "         contractSymbol             lastTradeDate  strike  lastPrice     bid  \\\n",
      "0   MSFT230519C00125000 2023-03-07 16:26:59+00:00   125.0     131.27  165.10   \n",
      "1   MSFT230519C00130000 2023-03-15 18:41:35+00:00   130.0     136.51  151.85   \n",
      "2   MSFT230519C00140000 2023-03-20 17:36:30+00:00   140.0     132.00  141.95   \n",
      "3   MSFT230519C00145000 2023-02-06 16:41:57+00:00   145.0     114.22  108.55   \n",
      "4   MSFT230519C00150000 2023-03-14 19:57:44+00:00   150.0     112.00  132.80   \n",
      "5   MSFT230519C00155000 2023-03-31 18:16:41+00:00   155.0     131.30  127.00   \n",
      "6   MSFT230519C00160000 2023-03-22 17:57:27+00:00   160.0     118.80  122.60   \n",
      "7   MSFT230519C00165000 2023-02-02 15:41:17+00:00   165.0      97.00   91.45   \n",
      "8   MSFT230519C00170000 2023-03-16 13:38:32+00:00   170.0      96.09  112.15   \n",
      "9   MSFT230519C00175000 2023-03-24 13:30:10+00:00   175.0     102.50  107.30   \n",
      "10  MSFT230519C00180000 2023-03-27 16:41:43+00:00   180.0      97.70  102.10   \n",
      "11  MSFT230519C00185000 2023-03-21 14:46:48+00:00   185.0      87.15   97.20   \n",
      "12  MSFT230519C00190000 2023-04-06 14:53:00+00:00   190.0      94.24   92.25   \n",
      "13  MSFT230519C00195000 2023-03-23 15:58:53+00:00   195.0      87.00   87.35   \n",
      "14  MSFT230519C00200000 2023-04-11 16:00:22+00:00   200.0      84.00   83.15   \n",
      "15  MSFT230519C00205000 2023-03-29 13:30:08+00:00   205.0      75.77   77.45   \n",
      "16  MSFT230519C00210000 2023-04-10 13:53:23+00:00   210.0      77.13   72.45   \n",
      "17  MSFT230519C00215000 2023-04-10 15:51:07+00:00   215.0      73.90   67.60   \n",
      "18  MSFT230519C00220000 2023-04-06 17:46:31+00:00   220.0      71.32   62.80   \n",
      "19  MSFT230519C00225000 2023-04-11 14:52:40+00:00   225.0      60.00   58.10   \n",
      "20  MSFT230519C00230000 2023-04-06 19:47:41+00:00   230.0      64.55   53.00   \n",
      "21  MSFT230519C00235000 2023-04-11 15:30:06+00:00   235.0      49.65   49.15   \n",
      "22  MSFT230519C00240000 2023-04-11 19:27:29+00:00   240.0      45.76   43.45   \n",
      "23  MSFT230519C00245000 2023-04-11 19:42:39+00:00   245.0      40.27   39.00   \n",
      "24  MSFT230519C00250000 2023-04-11 19:38:35+00:00   250.0      36.00   35.15   \n",
      "25  MSFT230519C00255000 2023-04-11 18:57:42+00:00   255.0      32.75   31.00   \n",
      "26  MSFT230519C00260000 2023-04-11 19:58:07+00:00   260.0      27.52   27.30   \n",
      "27  MSFT230519C00265000 2023-04-11 19:51:46+00:00   265.0      23.25   22.75   \n",
      "28  MSFT230519C00270000 2023-04-11 19:57:14+00:00   270.0      19.55   19.55   \n",
      "29  MSFT230519C00275000 2023-04-11 19:58:25+00:00   275.0      16.20   15.95   \n",
      "30  MSFT230519C00280000 2023-04-11 19:59:32+00:00   280.0      13.10   12.95   \n",
      "31  MSFT230519C00285000 2023-04-11 19:59:51+00:00   285.0      10.20   10.15   \n",
      "32  MSFT230519C00290000 2023-04-11 19:59:57+00:00   290.0       7.85    7.75   \n",
      "33  MSFT230519C00295000 2023-04-11 19:58:54+00:00   295.0       5.85    5.75   \n",
      "34  MSFT230519C00300000 2023-04-11 19:59:44+00:00   300.0       4.19    4.15   \n",
      "35  MSFT230519C00305000 2023-04-11 19:59:56+00:00   305.0       2.98    2.91   \n",
      "36  MSFT230519C00310000 2023-04-11 19:59:58+00:00   310.0       2.08    2.02   \n",
      "37  MSFT230519C00315000 2023-04-11 19:59:59+00:00   315.0       1.43    1.36   \n",
      "38  MSFT230519C00320000 2023-04-11 19:59:04+00:00   320.0       0.95    0.91   \n",
      "39  MSFT230519C00325000 2023-04-11 19:51:38+00:00   325.0       0.62    0.60   \n",
      "40  MSFT230519C00330000 2023-04-11 19:59:33+00:00   330.0       0.42    0.42   \n",
      "41  MSFT230519C00335000 2023-04-11 19:55:44+00:00   335.0       0.29    0.27   \n",
      "42  MSFT230519C00340000 2023-04-11 19:57:38+00:00   340.0       0.20    0.10   \n",
      "43  MSFT230519C00345000 2023-04-11 19:57:13+00:00   345.0       0.16    0.13   \n",
      "44  MSFT230519C00350000 2023-04-11 18:18:41+00:00   350.0       0.10    0.09   \n",
      "45  MSFT230519C00355000 2023-04-11 14:16:23+00:00   355.0       0.09    0.07   \n",
      "46  MSFT230519C00360000 2023-04-11 18:59:36+00:00   360.0       0.07    0.04   \n",
      "47  MSFT230519C00365000 2023-04-10 14:17:34+00:00   365.0       0.06    0.03   \n",
      "48  MSFT230519C00370000 2023-04-05 15:47:25+00:00   370.0       0.05    0.04   \n",
      "49  MSFT230519C00375000 2023-04-06 15:59:29+00:00   375.0       0.07    0.01   \n",
      "50  MSFT230519C00380000 2023-04-11 17:13:27+00:00   380.0       0.02    0.00   \n",
      "51  MSFT230519C00385000 2023-04-11 14:12:10+00:00   385.0       0.08    0.01   \n",
      "52  MSFT230519C00390000 2023-03-30 14:03:06+00:00   390.0       0.06    0.00   \n",
      "53  MSFT230519C00395000 2023-04-04 19:53:17+00:00   395.0       0.04    0.00   \n",
      "54  MSFT230519C00400000 2023-04-10 13:39:57+00:00   400.0       0.01    0.00   \n",
      "55  MSFT230519C00410000 2023-04-04 19:52:37+00:00   410.0       0.03    0.00   \n",
      "\n",
      "       ask    change  percentChange  volume  openInterest  impliedVolatility  \\\n",
      "0   168.70  0.000000       0.000000     2.0            10           2.293461   \n",
      "1   154.65  0.000000       0.000000     NaN             1           1.133793   \n",
      "2   145.45  0.000000       0.000000     1.0             2           1.162602   \n",
      "3   110.90  0.000000       0.000000     NaN             2           0.000010   \n",
      "4   134.80  0.000000       0.000000     4.0            25           1.081059   \n",
      "5   129.80  0.000000       0.000000     1.0             1           0.942383   \n",
      "6   125.40  0.000000       0.000000     1.0            12           1.019048   \n",
      "7    93.60  0.000000       0.000000     NaN            10           0.000010   \n",
      "8   114.70  0.000000       0.000000     NaN             5           0.818849   \n",
      "9   109.55  0.000000       0.000000     1.0             6           0.777834   \n",
      "10  104.90  0.000000       0.000000     3.0             4           0.752932   \n",
      "11   99.85  0.000000       0.000000     3.0             4           0.717776   \n",
      "12   95.60  0.000000       0.000000     5.0            10           0.739993   \n",
      "13   90.00  0.000000       0.000000     NaN             6           0.664554   \n",
      "14   85.20 -5.940002      -6.604405    10.0            99           0.688480   \n",
      "15   79.95  0.000000       0.000000     1.0             2           0.591801   \n",
      "16   75.15  0.000000       0.000000     1.0            46           0.566899   \n",
      "17   70.90  0.000000       0.000000     6.0            21           0.576176   \n",
      "18   65.30  0.000000       0.000000     1.0            74           0.518804   \n",
      "19   60.40  0.500000       0.840336     2.0            72           0.583012   \n",
      "20   56.70  0.000000       0.000000     2.0            30           0.505132   \n",
      "21   51.85 -6.099998     -10.941701     3.0            92           0.504766   \n",
      "22   46.40 -1.030003      -2.201331   125.0           508           0.509465   \n",
      "23   42.55 -4.079998      -9.199545    30.0           761           0.516606   \n",
      "24   37.65 -5.549999     -13.357399    39.0          1410           0.473821   \n",
      "25   32.95 -4.180000     -11.318712    30.0          2697           0.437933   \n",
      "26   28.10 -5.529999     -16.732220    76.0          4620           0.394842   \n",
      "27   24.00 -5.049999     -17.844520    68.0          4828           0.375128   \n",
      "28   19.85 -4.770001     -19.613490   358.0          7887           0.348517   \n",
      "29   16.35 -4.549999     -21.927708  1391.0          7368           0.335273   \n",
      "30   13.15 -4.039999     -23.570590   813.0          7502           0.322578   \n",
      "31   10.35 -3.800000     -27.142859  2443.0         10979           0.312080   \n",
      "32    7.90 -3.150000     -28.636364  1934.0         12433           0.301704   \n",
      "33    5.90 -2.800000     -32.369940   426.0          5538           0.293830   \n",
      "34    4.30 -2.260000     -35.038757  1475.0          8385           0.287483   \n",
      "35    3.05 -1.770000     -37.263157   368.0          7816           0.282051   \n",
      "36    2.09 -1.270000     -37.910450   880.0         10590           0.276741   \n",
      "37    1.43 -0.950000     -39.915974   686.0          9006           0.274299   \n",
      "38    0.95 -0.700000     -42.424244   922.0          3952           0.271736   \n",
      "39    0.64 -0.530000     -46.086956   318.0          2481           0.271736   \n",
      "40    0.55 -0.330000     -44.000004    51.0          1489           0.285774   \n",
      "41    0.31 -0.240000     -45.283016   110.0           907           0.277107   \n",
      "42    0.22 -0.150000     -42.857140   171.0           856           0.281013   \n",
      "43    0.16 -0.100000     -38.461536   190.0           624           0.285652   \n",
      "44    0.11 -0.090000     -47.368420     6.0           887           0.288093   \n",
      "45    0.25 -0.040000     -30.769226     1.0           536           0.341315   \n",
      "46    0.23 -0.020000     -22.222225     1.0          1166           0.354499   \n",
      "47    0.10  0.000000       0.000000     2.0           732           0.332038   \n",
      "48    0.06  0.000000       0.000000     4.0           935           0.327155   \n",
      "49    0.05  0.000000       0.000000     5.0           215           0.334968   \n",
      "50    0.04 -0.030000     -60.000004     6.0            79           0.340827   \n",
      "51    0.04  0.020000      33.333336     1.0            61           0.353522   \n",
      "52    0.05  0.000000       0.000000     1.0          1092           0.375006   \n",
      "53    0.04  0.000000       0.000000    34.0            36           0.380866   \n",
      "54    0.04  0.000000       0.000000     1.0          1619           0.392584   \n",
      "55    0.18  0.000000       0.000000    16.0            44           0.493169   \n",
      "\n",
      "    inTheMoney contractSize currency  \n",
      "0         True      REGULAR      USD  \n",
      "1         True      REGULAR      USD  \n",
      "2         True      REGULAR      USD  \n",
      "3         True      REGULAR      USD  \n",
      "4         True      REGULAR      USD  \n",
      "5         True      REGULAR      USD  \n",
      "6         True      REGULAR      USD  \n",
      "7         True      REGULAR      USD  \n",
      "8         True      REGULAR      USD  \n",
      "9         True      REGULAR      USD  \n",
      "10        True      REGULAR      USD  \n",
      "11        True      REGULAR      USD  \n",
      "12        True      REGULAR      USD  \n",
      "13        True      REGULAR      USD  \n",
      "14        True      REGULAR      USD  \n",
      "15        True      REGULAR      USD  \n",
      "16        True      REGULAR      USD  \n",
      "17        True      REGULAR      USD  \n",
      "18        True      REGULAR      USD  \n",
      "19        True      REGULAR      USD  \n",
      "20        True      REGULAR      USD  \n",
      "21        True      REGULAR      USD  \n",
      "22        True      REGULAR      USD  \n",
      "23        True      REGULAR      USD  \n",
      "24        True      REGULAR      USD  \n",
      "25        True      REGULAR      USD  \n",
      "26        True      REGULAR      USD  \n",
      "27        True      REGULAR      USD  \n",
      "28        True      REGULAR      USD  \n",
      "29        True      REGULAR      USD  \n",
      "30        True      REGULAR      USD  \n",
      "31       False      REGULAR      USD  \n",
      "32       False      REGULAR      USD  \n",
      "33       False      REGULAR      USD  \n",
      "34       False      REGULAR      USD  \n",
      "35       False      REGULAR      USD  \n",
      "36       False      REGULAR      USD  \n",
      "37       False      REGULAR      USD  \n",
      "38       False      REGULAR      USD  \n",
      "39       False      REGULAR      USD  \n",
      "40       False      REGULAR      USD  \n",
      "41       False      REGULAR      USD  \n",
      "42       False      REGULAR      USD  \n",
      "43       False      REGULAR      USD  \n",
      "44       False      REGULAR      USD  \n",
      "45       False      REGULAR      USD  \n",
      "46       False      REGULAR      USD  \n",
      "47       False      REGULAR      USD  \n",
      "48       False      REGULAR      USD  \n",
      "49       False      REGULAR      USD  \n",
      "50       False      REGULAR      USD  \n",
      "51       False      REGULAR      USD  \n",
      "52       False      REGULAR      USD  \n",
      "53       False      REGULAR      USD  \n",
      "54       False      REGULAR      USD  \n",
      "55       False      REGULAR      USD  \n",
      "         contractSymbol             lastTradeDate  strike  lastPrice    bid  \\\n",
      "0   MSFT230526C00260000 2023-04-11 16:40:06+00:00   260.0      28.15  27.30   \n",
      "1   MSFT230526C00265000 2023-04-11 17:16:21+00:00   265.0      24.02  22.45   \n",
      "2   MSFT230526C00270000 2023-04-11 18:39:15+00:00   270.0      22.35  19.05   \n",
      "3   MSFT230526C00275000 2023-04-11 19:42:39+00:00   275.0      16.52  15.10   \n",
      "4   MSFT230526C00280000 2023-04-11 19:53:23+00:00   280.0      13.94  13.40   \n",
      "5   MSFT230526C00285000 2023-04-11 19:59:54+00:00   285.0      10.93  10.00   \n",
      "6   MSFT230526C00290000 2023-04-11 19:45:19+00:00   290.0       8.40   8.40   \n",
      "7   MSFT230526C00295000 2023-04-11 19:46:58+00:00   295.0       6.35   5.35   \n",
      "8   MSFT230526C00300000 2023-04-11 19:54:26+00:00   300.0       4.83   4.70   \n",
      "9   MSFT230526C00305000 2023-04-11 19:52:36+00:00   305.0       3.48   3.40   \n",
      "10  MSFT230526C00310000 2023-04-11 19:47:57+00:00   310.0       2.45   2.42   \n",
      "11  MSFT230526C00315000 2023-04-11 16:59:50+00:00   315.0       1.88   1.68   \n",
      "12  MSFT230526C00320000 2023-04-11 19:28:14+00:00   320.0       1.25   1.16   \n",
      "13  MSFT230526C00325000 2023-04-11 19:54:26+00:00   325.0       0.83   0.78   \n",
      "14  MSFT230526C00330000 2023-04-11 19:06:08+00:00   330.0       0.60   0.52   \n",
      "15  MSFT230526C00335000 2023-04-11 13:38:45+00:00   335.0       0.54   0.37   \n",
      "16  MSFT230526C00340000 2023-04-11 15:04:12+00:00   340.0       0.31   0.25   \n",
      "17  MSFT230526C00345000 2023-04-06 17:10:25+00:00   345.0       0.33   0.18   \n",
      "18  MSFT230526C00350000 2023-04-10 18:19:43+00:00   350.0       0.25   0.12   \n",
      "\n",
      "      ask    change  percentChange  volume  openInterest  impliedVolatility  \\\n",
      "0   29.85  1.100000       4.066545      40             1           0.418646   \n",
      "1   25.50 -5.150000     -17.655125       2            11           0.389227   \n",
      "2   21.50 -0.719999      -3.120933       6             4           0.366217   \n",
      "3   18.80 -3.209999     -16.269636      22             6           0.372687   \n",
      "4   14.60 -3.860000     -21.685392      24           133           0.333381   \n",
      "5   11.10 -3.540000     -24.464409      68           160           0.305732   \n",
      "6    8.65 -3.350000     -28.510643      67            70           0.296516   \n",
      "7    6.60 -3.000001     -32.085564      97            49           0.289009   \n",
      "8    4.95 -2.320000     -32.447556      54           387           0.283454   \n",
      "9    3.60 -1.770000     -33.714287      21            15           0.277656   \n",
      "10   2.80 -1.010000     -29.190752      42            31           0.281868   \n",
      "11   1.80 -0.970000     -34.035088      10            10           0.269783   \n",
      "12   1.26 -0.780000     -38.423645      28            18           0.268318   \n",
      "13   0.88 -0.620000     -42.758620       5            11           0.267952   \n",
      "14   0.62 -0.400000     -39.999996       5           103           0.269050   \n",
      "15   0.44 -0.170000     -23.943657       2             4           0.271003   \n",
      "16   0.32 -0.200000     -39.215683       1             4           0.274177   \n",
      "17   0.24  0.000000       0.000000      14            10           0.278816   \n",
      "18   0.18  0.000000       0.000000       1            17           0.283210   \n",
      "\n",
      "    inTheMoney contractSize currency  \n",
      "0         True      REGULAR      USD  \n",
      "1         True      REGULAR      USD  \n",
      "2         True      REGULAR      USD  \n",
      "3         True      REGULAR      USD  \n",
      "4         True      REGULAR      USD  \n",
      "5        False      REGULAR      USD  \n",
      "6        False      REGULAR      USD  \n",
      "7        False      REGULAR      USD  \n",
      "8        False      REGULAR      USD  \n",
      "9        False      REGULAR      USD  \n",
      "10       False      REGULAR      USD  \n",
      "11       False      REGULAR      USD  \n",
      "12       False      REGULAR      USD  \n",
      "13       False      REGULAR      USD  \n",
      "14       False      REGULAR      USD  \n",
      "15       False      REGULAR      USD  \n",
      "16       False      REGULAR      USD  \n",
      "17       False      REGULAR      USD  \n",
      "18       False      REGULAR      USD  \n",
      "         contractSymbol             lastTradeDate  strike  lastPrice     bid  \\\n",
      "0   MSFT230616C00110000 2023-04-11 13:34:02+00:00   110.0     174.50  171.75   \n",
      "1   MSFT230616C00115000 2023-03-30 15:15:28+00:00   115.0     168.81  166.80   \n",
      "2   MSFT230616C00120000 2023-03-31 15:50:37+00:00   120.0     165.50  161.75   \n",
      "3   MSFT230616C00125000 2023-03-30 16:54:52+00:00   125.0     158.08  157.65   \n",
      "4   MSFT230616C00130000 2023-03-31 19:11:29+00:00   130.0     158.65  151.80   \n",
      "..                  ...                       ...     ...        ...     ...   \n",
      "69  MSFT230616C00470000 2023-04-04 15:25:59+00:00   470.0       0.04    0.02   \n",
      "70  MSFT230616C00480000 2023-04-11 18:09:21+00:00   480.0       0.02    0.02   \n",
      "71  MSFT230616C00490000 2023-04-11 13:35:10+00:00   490.0       0.01    0.01   \n",
      "72  MSFT230616C00500000 2023-04-11 19:19:49+00:00   500.0       0.02    0.01   \n",
      "73  MSFT230616C00520000 2023-04-11 14:45:24+00:00   520.0       0.01    0.00   \n",
      "\n",
      "       ask  change  percentChange  volume  openInterest  impliedVolatility  \\\n",
      "0   174.50   25.14      16.831816       1           237           0.980469   \n",
      "1   169.90    0.00       0.000000       1           981           1.015630   \n",
      "2   164.55    0.00       0.000000       1           935           0.906251   \n",
      "3   159.65    0.00       0.000000       1           131           0.998779   \n",
      "4   154.50    0.00       0.000000       2            55           0.827638   \n",
      "..     ...     ...            ...     ...           ...                ...   \n",
      "69    0.03    0.00       0.000000      10          1122           0.406256   \n",
      "70    0.04   -0.01     -33.333336       1           381           0.433599   \n",
      "71    0.07    0.00       0.000000       1           923           0.472662   \n",
      "72    0.05   -0.01     -33.333336       2          3607           0.472662   \n",
      "73    0.02    0.00       0.000000       1          3203           0.460943   \n",
      "\n",
      "    inTheMoney contractSize currency  \n",
      "0         True      REGULAR      USD  \n",
      "1         True      REGULAR      USD  \n",
      "2         True      REGULAR      USD  \n",
      "3         True      REGULAR      USD  \n",
      "4         True      REGULAR      USD  \n",
      "..         ...          ...      ...  \n",
      "69       False      REGULAR      USD  \n",
      "70       False      REGULAR      USD  \n",
      "71       False      REGULAR      USD  \n",
      "72       False      REGULAR      USD  \n",
      "73       False      REGULAR      USD  \n",
      "\n",
      "[74 rows x 14 columns]\n",
      "         contractSymbol             lastTradeDate  strike  lastPrice     bid  \\\n",
      "0   MSFT230721C00115000 2023-03-27 15:34:21+00:00   115.0     163.90  167.75   \n",
      "1   MSFT230721C00120000 2023-04-05 14:45:26+00:00   120.0     164.50  162.35   \n",
      "2   MSFT230721C00125000 2023-03-27 14:14:57+00:00   125.0     156.75  158.30   \n",
      "3   MSFT230721C00130000 2023-03-27 13:36:21+00:00   130.0     150.95  152.55   \n",
      "4   MSFT230721C00135000 2023-03-20 17:35:57+00:00   135.0     137.70  148.45   \n",
      "5   MSFT230721C00140000 2023-03-30 16:14:17+00:00   140.0     146.55  142.70   \n",
      "6   MSFT230721C00150000 2023-03-27 14:16:31+00:00   150.0     132.54  132.90   \n",
      "7   MSFT230721C00155000 2023-02-27 20:54:50+00:00   155.0      97.85  126.70   \n",
      "8   MSFT230721C00160000 2022-12-29 17:32:43+00:00   160.0      86.55   90.05   \n",
      "9   MSFT230721C00165000 2022-12-30 15:37:21+00:00   165.0      79.10   85.30   \n",
      "10  MSFT230721C00170000 2023-03-20 17:41:49+00:00   170.0     105.90  113.40   \n",
      "11  MSFT230721C00175000 2023-03-01 16:55:13+00:00   175.0      78.60  113.50   \n",
      "12  MSFT230721C00180000 2023-04-04 17:38:58+00:00   180.0     110.97  103.80   \n",
      "13  MSFT230721C00185000 2023-03-03 19:40:51+00:00   185.0      75.00  103.50   \n",
      "14  MSFT230721C00190000 2023-03-13 19:50:23+00:00   190.0      69.91   93.85   \n",
      "15  MSFT230721C00195000 2023-02-24 19:17:26+00:00   195.0      60.32   87.35   \n",
      "16  MSFT230721C00200000 2023-04-10 18:34:00+00:00   200.0      91.99   84.40   \n",
      "17  MSFT230721C00205000 2023-03-08 14:48:01+00:00   205.0      54.09   87.70   \n",
      "18  MSFT230721C00210000 2023-03-21 15:54:10+00:00   210.0      65.60   74.90   \n",
      "19  MSFT230721C00215000 2023-03-30 19:31:41+00:00   215.0      73.27   70.45   \n",
      "20  MSFT230721C00220000 2023-04-10 18:56:52+00:00   220.0      73.25   65.60   \n",
      "21  MSFT230721C00225000 2023-03-24 15:08:17+00:00   225.0      60.70   61.30   \n",
      "22  MSFT230721C00230000 2023-04-11 15:18:09+00:00   230.0      57.99   56.85   \n",
      "23  MSFT230721C00235000 2023-04-10 16:05:02+00:00   235.0      56.90   53.15   \n",
      "24  MSFT230721C00240000 2023-04-10 16:05:02+00:00   240.0      52.55   48.50   \n",
      "25  MSFT230721C00245000 2023-04-11 14:16:16+00:00   245.0      45.99   44.00   \n",
      "26  MSFT230721C00250000 2023-04-11 17:18:23+00:00   250.0      41.03   40.45   \n",
      "27  MSFT230721C00255000 2023-04-11 18:52:22+00:00   255.0      37.95   36.40   \n",
      "28  MSFT230721C00260000 2023-04-11 17:12:30+00:00   260.0      33.35   32.40   \n",
      "29  MSFT230721C00265000 2023-04-11 17:01:15+00:00   265.0      30.15   28.85   \n",
      "30  MSFT230721C00270000 2023-04-11 19:21:11+00:00   270.0      26.62   25.80   \n",
      "31  MSFT230721C00275000 2023-04-11 17:17:35+00:00   275.0      22.75   22.30   \n",
      "32  MSFT230721C00280000 2023-04-11 19:55:00+00:00   280.0      19.65   19.35   \n",
      "33  MSFT230721C00285000 2023-04-11 19:38:33+00:00   285.0      16.79   16.75   \n",
      "34  MSFT230721C00290000 2023-04-11 19:53:07+00:00   290.0      14.18   14.20   \n",
      "35  MSFT230721C00295000 2023-04-11 19:38:11+00:00   295.0      11.90   11.85   \n",
      "36  MSFT230721C00300000 2023-04-11 19:57:34+00:00   300.0       9.90    9.75   \n",
      "37  MSFT230721C00305000 2023-04-11 19:58:49+00:00   305.0       8.06    8.00   \n",
      "38  MSFT230721C00310000 2023-04-11 19:57:14+00:00   310.0       6.45    6.40   \n",
      "39  MSFT230721C00315000 2023-04-11 19:55:45+00:00   315.0       5.15    5.10   \n",
      "40  MSFT230721C00320000 2023-04-11 19:58:45+00:00   320.0       4.11    4.05   \n",
      "41  MSFT230721C00325000 2023-04-11 19:16:01+00:00   325.0       3.32    3.15   \n",
      "42  MSFT230721C00330000 2023-04-11 19:46:11+00:00   330.0       2.50    2.48   \n",
      "43  MSFT230721C00335000 2023-04-11 19:41:13+00:00   335.0       1.91    1.92   \n",
      "44  MSFT230721C00340000 2023-04-11 18:53:33+00:00   340.0       1.59    1.48   \n",
      "45  MSFT230721C00350000 2023-04-11 19:51:27+00:00   350.0       0.90    0.87   \n",
      "46  MSFT230721C00360000 2023-04-11 13:32:38+00:00   360.0       0.70    0.52   \n",
      "47  MSFT230721C00370000 2023-04-11 19:30:19+00:00   370.0       0.32    0.31   \n",
      "48  MSFT230721C00380000 2023-04-10 15:04:51+00:00   380.0       0.29    0.20   \n",
      "49  MSFT230721C00390000 2023-04-11 19:34:35+00:00   390.0       0.14    0.13   \n",
      "50  MSFT230721C00400000 2023-04-11 14:29:06+00:00   400.0       0.12    0.10   \n",
      "51  MSFT230721C00410000 2023-03-29 14:05:01+00:00   410.0       0.10    0.05   \n",
      "52  MSFT230721C00420000 2023-04-10 13:31:21+00:00   420.0       0.08    0.03   \n",
      "\n",
      "       ask    change  percentChange  volume  openInterest  impliedVolatility  \\\n",
      "0   169.95  0.000000       0.000000    16.0             8           0.915284   \n",
      "1   165.20  0.000000       0.000000     1.0             2           0.864259   \n",
      "2   160.15  0.000000       0.000000     1.0             0           0.887208   \n",
      "3   155.10  0.000000       0.000000    14.0            14           0.798098   \n",
      "4   150.40  0.000000       0.000000     1.0             0           0.833742   \n",
      "5   145.50  0.000000       0.000000     NaN             7           0.763064   \n",
      "6   135.45  0.000000       0.000000     1.0             2           0.704593   \n",
      "7   128.85  0.000000       0.000000     6.0           103           0.638431   \n",
      "8    93.05  0.000000       0.000000     2.0             3           0.000010   \n",
      "9    88.40  0.000000       0.000000     2.0             3           0.000010   \n",
      "10  116.55  0.000000       0.000000     1.0           504           0.643924   \n",
      "11  117.80  0.000000       0.000000     1.0            21           0.878541   \n",
      "12  106.35  0.000000       0.000000     1.0            82           0.589604   \n",
      "13  108.00  0.000000       0.000000     1.0            21           0.804873   \n",
      "14   96.75  0.000000       0.000000     1.0            21           0.543828   \n",
      "15   90.55  0.000000       0.000000    12.0            18           0.528020   \n",
      "16   87.75  0.000000       0.000000     1.0           102           0.523747   \n",
      "17   91.75  0.000000       0.000000     1.0            19           0.775423   \n",
      "18   78.25  0.000000       0.000000     2.0           142           0.546513   \n",
      "19   73.15  0.000000       0.000000     5.0           488           0.512029   \n",
      "20   68.50  0.000000       0.000000     1.0           186           0.492254   \n",
      "21   64.35  0.000000       0.000000     1.0           159           0.486211   \n",
      "22   58.60 -3.009998      -4.934423     1.0           942           0.434027   \n",
      "23   54.70  0.000000       0.000000     1.0          1112           0.432928   \n",
      "24   50.50  0.000000       0.000000     1.0          2146           0.421270   \n",
      "25   46.15 -2.329998      -4.822016     5.0          3762           0.404303   \n",
      "26   41.80 -5.570000     -11.952789    15.0          2565           0.385931   \n",
      "27   37.75 -2.049999      -5.124998    23.0          1947           0.372260   \n",
      "28   34.25 -3.070000      -8.429434     6.0          2727           0.367255   \n",
      "29   30.15 -4.350000     -12.608697     6.0          1701           0.348151   \n",
      "30   26.80 -4.160000     -13.515268    82.0          2256           0.340461   \n",
      "31   22.95 -4.750000     -17.272728    51.0          2156           0.321113   \n",
      "32   19.85 -4.340000     -18.090872    52.0          2550           0.311866   \n",
      "33   17.00 -3.959999     -19.084333   119.0          2239           0.303443   \n",
      "34   14.35 -3.619999     -20.337074  1065.0          3801           0.294807   \n",
      "35   12.05 -3.220000     -21.296299  2148.0          2214           0.288307   \n",
      "36    9.95 -2.910001     -22.716633   840.0          5763           0.281349   \n",
      "37    8.15 -2.710000     -25.162489   262.0          1811           0.275642   \n",
      "38    6.60 -2.350000     -26.704550   162.0          2111           0.270546   \n",
      "39    5.30 -2.100000     -28.965515   106.0         15575           0.266304   \n",
      "40    4.20 -1.740000     -29.743586   871.0          3100           0.262214   \n",
      "41    3.30 -1.330000     -28.602154    10.0          1054           0.258796   \n",
      "42    2.56 -1.250000     -33.333336    36.0          1949           0.255501   \n",
      "43    1.99 -1.050000     -35.472973    26.0          1246           0.253425   \n",
      "44    1.54 -0.660000     -29.333332    12.0          1537           0.251839   \n",
      "45    0.93 -0.540000     -37.500004   139.0          1472           0.250862   \n",
      "46    0.57 -0.180000     -20.454546    80.0          1581           0.251716   \n",
      "47    0.36 -0.200000     -38.461536   203.0           906           0.254402   \n",
      "48    0.24  0.000000       0.000000     3.0           258           0.259285   \n",
      "49    0.17 -0.070000     -33.333332    10.0           180           0.265632   \n",
      "50    0.13 -0.050000     -29.411766    10.0           710           0.273933   \n",
      "51    0.10  0.000000       0.000000     1.0           415           0.282234   \n",
      "52    0.07  0.000000       0.000000     1.0           183           0.286140   \n",
      "\n",
      "    inTheMoney contractSize currency  \n",
      "0         True      REGULAR      USD  \n",
      "1         True      REGULAR      USD  \n",
      "2         True      REGULAR      USD  \n",
      "3         True      REGULAR      USD  \n",
      "4         True      REGULAR      USD  \n",
      "5         True      REGULAR      USD  \n",
      "6         True      REGULAR      USD  \n",
      "7         True      REGULAR      USD  \n",
      "8         True      REGULAR      USD  \n",
      "9         True      REGULAR      USD  \n",
      "10        True      REGULAR      USD  \n",
      "11        True      REGULAR      USD  \n",
      "12        True      REGULAR      USD  \n",
      "13        True      REGULAR      USD  \n",
      "14        True      REGULAR      USD  \n",
      "15        True      REGULAR      USD  \n",
      "16        True      REGULAR      USD  \n",
      "17        True      REGULAR      USD  \n",
      "18        True      REGULAR      USD  \n",
      "19        True      REGULAR      USD  \n",
      "20        True      REGULAR      USD  \n",
      "21        True      REGULAR      USD  \n",
      "22        True      REGULAR      USD  \n",
      "23        True      REGULAR      USD  \n",
      "24        True      REGULAR      USD  \n",
      "25        True      REGULAR      USD  \n",
      "26        True      REGULAR      USD  \n",
      "27        True      REGULAR      USD  \n",
      "28        True      REGULAR      USD  \n",
      "29        True      REGULAR      USD  \n",
      "30        True      REGULAR      USD  \n",
      "31        True      REGULAR      USD  \n",
      "32        True      REGULAR      USD  \n",
      "33       False      REGULAR      USD  \n",
      "34       False      REGULAR      USD  \n",
      "35       False      REGULAR      USD  \n",
      "36       False      REGULAR      USD  \n",
      "37       False      REGULAR      USD  \n",
      "38       False      REGULAR      USD  \n",
      "39       False      REGULAR      USD  \n",
      "40       False      REGULAR      USD  \n",
      "41       False      REGULAR      USD  \n",
      "42       False      REGULAR      USD  \n",
      "43       False      REGULAR      USD  \n",
      "44       False      REGULAR      USD  \n",
      "45       False      REGULAR      USD  \n",
      "46       False      REGULAR      USD  \n",
      "47       False      REGULAR      USD  \n",
      "48       False      REGULAR      USD  \n",
      "49       False      REGULAR      USD  \n",
      "50       False      REGULAR      USD  \n",
      "51       False      REGULAR      USD  \n",
      "52       False      REGULAR      USD  \n",
      "         contractSymbol             lastTradeDate  strike  lastPrice     bid  \\\n",
      "0   MSFT230818C00115000 2023-03-24 14:13:30+00:00   115.0     164.00  167.80   \n",
      "1   MSFT230818C00120000 2023-03-06 20:42:49+00:00   120.0     139.41  165.35   \n",
      "2   MSFT230818C00125000 2023-02-28 15:27:37+00:00   125.0     127.42  159.35   \n",
      "3   MSFT230818C00130000 2023-01-25 17:55:33+00:00   130.0     111.70  121.30   \n",
      "4   MSFT230818C00135000 2023-03-27 14:26:48+00:00   135.0     147.57  148.25   \n",
      "5   MSFT230818C00140000 2023-03-27 13:41:03+00:00   140.0     141.63  143.50   \n",
      "6   MSFT230818C00145000 2023-02-28 20:04:00+00:00   145.0     108.10  139.90   \n",
      "7   MSFT230818C00155000 2023-03-20 14:01:23+00:00   155.0     120.50  128.65   \n",
      "8   MSFT230818C00165000 2023-02-13 20:54:50+00:00   165.0     109.55  101.95   \n",
      "9   MSFT230818C00170000 2023-03-08 18:29:02+00:00   170.0      86.55  122.30   \n",
      "10  MSFT230818C00175000 2023-02-02 19:41:35+00:00   175.0      91.68   84.20   \n",
      "11  MSFT230818C00180000 2023-03-20 19:38:22+00:00   180.0      95.90  104.55   \n",
      "12  MSFT230818C00185000 2023-03-24 16:01:49+00:00   185.0      98.86   99.85   \n",
      "13  MSFT230818C00190000 2023-02-14 15:44:24+00:00   190.0      85.80   86.10   \n",
      "14  MSFT230818C00195000 2023-03-16 17:46:48+00:00   195.0      85.79   90.60   \n",
      "15  MSFT230818C00200000 2023-04-10 15:49:42+00:00   200.0      92.00   86.25   \n",
      "16  MSFT230818C00205000 2023-03-06 20:42:49+00:00   205.0      59.80   84.30   \n",
      "17  MSFT230818C00210000 2023-03-27 17:15:10+00:00   210.0      72.38   77.40   \n",
      "18  MSFT230818C00215000 2023-03-31 16:35:23+00:00   215.0      76.36   71.85   \n",
      "19  MSFT230818C00220000 2023-04-11 15:04:17+00:00   220.0      68.95   68.20   \n",
      "20  MSFT230818C00225000 2023-04-11 14:32:14+00:00   225.0      64.60   63.75   \n",
      "21  MSFT230818C00230000 2023-04-11 15:02:48+00:00   230.0      60.00   59.70   \n",
      "22  MSFT230818C00235000 2023-04-06 16:51:59+00:00   235.0      60.45   54.25   \n",
      "23  MSFT230818C00240000 2023-04-06 17:36:05+00:00   240.0      57.50   50.65   \n",
      "24  MSFT230818C00245000 2023-04-11 16:05:55+00:00   245.0      46.60   46.10   \n",
      "25  MSFT230818C00250000 2023-04-11 16:06:32+00:00   250.0      44.00   43.50   \n",
      "26  MSFT230818C00255000 2023-04-10 16:16:31+00:00   255.0      43.00   38.80   \n",
      "27  MSFT230818C00260000 2023-04-11 19:42:06+00:00   260.0      35.94   35.90   \n",
      "28  MSFT230818C00265000 2023-04-11 19:46:02+00:00   265.0      32.43   32.45   \n",
      "29  MSFT230818C00270000 2023-04-11 19:19:03+00:00   270.0      29.80   28.60   \n",
      "30  MSFT230818C00275000 2023-04-11 18:56:02+00:00   275.0      26.80   25.55   \n",
      "31  MSFT230818C00280000 2023-04-11 19:39:13+00:00   280.0      22.75   22.65   \n",
      "32  MSFT230818C00285000 2023-04-11 19:38:40+00:00   285.0      20.00   19.80   \n",
      "33  MSFT230818C00290000 2023-04-11 19:56:27+00:00   290.0      17.50   17.40   \n",
      "34  MSFT230818C00295000 2023-04-11 19:38:12+00:00   295.0      15.10   14.95   \n",
      "35  MSFT230818C00300000 2023-04-11 19:46:59+00:00   300.0      12.79   12.80   \n",
      "36  MSFT230818C00305000 2023-04-11 19:38:12+00:00   305.0      10.95   10.85   \n",
      "37  MSFT230818C00310000 2023-04-11 19:49:52+00:00   310.0       9.04    9.10   \n",
      "38  MSFT230818C00315000 2023-04-11 19:30:26+00:00   315.0       7.80    7.60   \n",
      "39  MSFT230818C00320000 2023-04-11 19:45:28+00:00   320.0       6.27    6.20   \n",
      "40  MSFT230818C00325000 2023-04-11 18:47:36+00:00   325.0       5.45    5.15   \n",
      "41  MSFT230818C00330000 2023-04-11 19:50:28+00:00   330.0       4.20    4.25   \n",
      "42  MSFT230818C00335000 2023-04-11 15:57:47+00:00   335.0       3.45    3.45   \n",
      "43  MSFT230818C00340000 2023-04-11 19:40:57+00:00   340.0       2.79    2.80   \n",
      "44  MSFT230818C00345000 2023-04-11 19:38:43+00:00   345.0       2.29    2.26   \n",
      "45  MSFT230818C00350000 2023-04-11 15:42:13+00:00   350.0       1.82    1.83   \n",
      "46  MSFT230818C00360000 2023-04-11 14:29:27+00:00   360.0       1.30    1.19   \n",
      "47  MSFT230818C00370000 2023-04-10 16:18:33+00:00   370.0       1.11    0.78   \n",
      "48  MSFT230818C00380000 2023-04-11 19:00:50+00:00   380.0       0.59    0.52   \n",
      "49  MSFT230818C00390000 2023-04-11 14:17:36+00:00   390.0       0.41    0.34   \n",
      "50  MSFT230818C00400000 2023-04-11 15:49:46+00:00   400.0       0.24    0.24   \n",
      "51  MSFT230818C00410000 2023-04-10 18:51:12+00:00   410.0       0.27    0.17   \n",
      "52  MSFT230818C00420000 2023-04-11 16:33:38+00:00   420.0       0.12    0.11   \n",
      "\n",
      "       ask    change  percentChange  volume  openInterest  impliedVolatility  \\\n",
      "0   170.35  0.000000       0.000000     1.0             7           0.839113   \n",
      "1   166.90  0.000000       0.000000     NaN             1           0.982666   \n",
      "2   161.85  0.000000       0.000000     4.0             3           0.904420   \n",
      "3   123.30  0.000000       0.000000     NaN             1           0.000010   \n",
      "4   150.65  0.000000       0.000000     NaN            10           0.739993   \n",
      "5   145.70  0.000000       0.000000    13.0            13           0.720706   \n",
      "6   142.45  0.000000       0.000000     NaN             1           0.795046   \n",
      "7   131.45  0.000000       0.000000     1.0             2           0.660892   \n",
      "8   105.25  0.000000       0.000000   128.0            68           0.000010   \n",
      "9   126.15  0.000000       0.000000     NaN             1           0.928284   \n",
      "10   86.15  0.000000       0.000000     NaN             0           0.000010   \n",
      "11  107.20  0.000000       0.000000     1.0            74           0.562138   \n",
      "12  102.35  0.000000       0.000000     1.0             2           0.544682   \n",
      "13   89.90  0.000000       0.000000     2.0            24           0.000010   \n",
      "14   93.55  0.000000       0.000000     2.0            10           0.528203   \n",
      "15   88.70  0.000000       0.000000     1.0            42           0.514470   \n",
      "16   84.90  0.000000       0.000000     3.0            69           0.551823   \n",
      "17   79.00  0.000000       0.000000    12.0            88           0.505437   \n",
      "18   75.40  0.000000       0.000000    10.0            21           0.514348   \n",
      "19   70.95  4.599998       7.148405    40.0            77           0.498601   \n",
      "20   66.25 -5.400002      -7.714288     1.0            27           0.476202   \n",
      "21   61.10 -5.919998      -8.980579     3.0            85           0.443395   \n",
      "22   58.00  0.000000       0.000000     2.0           456           0.454900   \n",
      "23   52.95  0.000000       0.000000     2.0           535           0.423590   \n",
      "24   49.35 -3.500000      -6.986028     1.0           334           0.420355   \n",
      "25   44.90 -4.799999      -9.836064    43.0           857           0.399359   \n",
      "26   41.25  0.000000       0.000000     1.0          1073           0.391547   \n",
      "27   36.85 -5.780003     -13.854273     5.0          1867           0.369147   \n",
      "28   33.95 -3.509998      -9.766274    13.0          3851           0.370032   \n",
      "29   29.90 -4.010002     -11.860402     5.0          2704           0.350165   \n",
      "30   26.40 -3.710001     -12.159951    23.0           812           0.337104   \n",
      "31   23.10 -4.450001     -16.360296    31.0          1217           0.324897   \n",
      "32   20.25 -3.900000     -16.317991    87.0           698           0.316993   \n",
      "33   17.60 -3.629999     -17.179363    57.0          1598           0.309394   \n",
      "34   15.20 -3.600000     -19.251337    35.0          1185           0.302772   \n",
      "35   13.00 -3.210000     -20.062500   152.0          1859           0.296272   \n",
      "36   11.05 -2.760000     -20.131292    90.0          3937           0.290687   \n",
      "37    9.30 -2.740000     -23.259760   103.0          2627           0.285285   \n",
      "38    7.80 -2.099999     -21.212116    37.0           936           0.280983   \n",
      "39    6.45 -2.050000     -24.639420   750.0          1610           0.276252   \n",
      "40    5.35 -1.620000     -22.913725    32.0          1853           0.273170   \n",
      "41    4.40 -1.700000     -28.813564    46.0           501           0.270210   \n",
      "42    3.60 -1.150000     -24.999996    10.0           299           0.267585   \n",
      "43    2.91 -1.150000     -29.187819    76.0           605           0.264778   \n",
      "44    2.80 -0.860000     -27.301592    68.0          4301           0.275825   \n",
      "45    1.92 -0.880000     -32.592590     4.0           251           0.261848   \n",
      "46    1.27 -0.360000     -21.686749     2.0           519           0.260689   \n",
      "47    0.85  0.000000       0.000000    36.0           703           0.261116   \n",
      "48    0.58 -0.150000     -20.270275   104.0           404           0.262825   \n",
      "49    0.40 -0.220000     -34.920635    27.0          1527           0.265144   \n",
      "50    0.29 -0.190000     -44.186050   120.0           678           0.269294   \n",
      "51    0.21  0.000000       0.000000    50.0           586           0.273201   \n",
      "52    0.16 -0.110000     -47.826090     1.0           124           0.278328   \n",
      "\n",
      "    inTheMoney contractSize currency  \n",
      "0         True      REGULAR      USD  \n",
      "1         True      REGULAR      USD  \n",
      "2         True      REGULAR      USD  \n",
      "3         True      REGULAR      USD  \n",
      "4         True      REGULAR      USD  \n",
      "5         True      REGULAR      USD  \n",
      "6         True      REGULAR      USD  \n",
      "7         True      REGULAR      USD  \n",
      "8         True      REGULAR      USD  \n",
      "9         True      REGULAR      USD  \n",
      "10        True      REGULAR      USD  \n",
      "11        True      REGULAR      USD  \n",
      "12        True      REGULAR      USD  \n",
      "13        True      REGULAR      USD  \n",
      "14        True      REGULAR      USD  \n",
      "15        True      REGULAR      USD  \n",
      "16        True      REGULAR      USD  \n",
      "17        True      REGULAR      USD  \n",
      "18        True      REGULAR      USD  \n",
      "19        True      REGULAR      USD  \n",
      "20        True      REGULAR      USD  \n",
      "21        True      REGULAR      USD  \n",
      "22        True      REGULAR      USD  \n",
      "23        True      REGULAR      USD  \n",
      "24        True      REGULAR      USD  \n",
      "25        True      REGULAR      USD  \n",
      "26        True      REGULAR      USD  \n",
      "27        True      REGULAR      USD  \n",
      "28        True      REGULAR      USD  \n",
      "29        True      REGULAR      USD  \n",
      "30        True      REGULAR      USD  \n",
      "31        True      REGULAR      USD  \n",
      "32       False      REGULAR      USD  \n",
      "33       False      REGULAR      USD  \n",
      "34       False      REGULAR      USD  \n",
      "35       False      REGULAR      USD  \n",
      "36       False      REGULAR      USD  \n",
      "37       False      REGULAR      USD  \n",
      "38       False      REGULAR      USD  \n",
      "39       False      REGULAR      USD  \n",
      "40       False      REGULAR      USD  \n",
      "41       False      REGULAR      USD  \n",
      "42       False      REGULAR      USD  \n",
      "43       False      REGULAR      USD  \n",
      "44       False      REGULAR      USD  \n",
      "45       False      REGULAR      USD  \n",
      "46       False      REGULAR      USD  \n",
      "47       False      REGULAR      USD  \n",
      "48       False      REGULAR      USD  \n",
      "49       False      REGULAR      USD  \n",
      "50       False      REGULAR      USD  \n",
      "51       False      REGULAR      USD  \n",
      "52       False      REGULAR      USD  \n",
      "         contractSymbol             lastTradeDate  strike  lastPrice     bid  \\\n",
      "0   MSFT230915C00110000 2023-03-22 13:30:10+00:00   110.0     167.25  172.65   \n",
      "1   MSFT230915C00115000 2023-02-14 15:07:22+00:00   115.0     160.06  158.05   \n",
      "2   MSFT230915C00120000 2023-03-02 14:34:50+00:00   120.0     129.30  168.00   \n",
      "3   MSFT230915C00125000 2022-12-22 16:40:35+00:00   125.0     114.25  116.55   \n",
      "4   MSFT230915C00130000 2023-03-01 20:07:30+00:00   130.0     119.46  158.00   \n",
      "..                  ...                       ...     ...        ...     ...   \n",
      "56  MSFT230915C00390000 2023-04-10 17:15:56+00:00   390.0       0.91    0.59   \n",
      "57  MSFT230915C00400000 2023-04-11 15:41:30+00:00   400.0       0.44    0.41   \n",
      "58  MSFT230915C00410000 2023-04-11 18:04:02+00:00   410.0       0.32    0.28   \n",
      "59  MSFT230915C00420000 2023-04-11 15:08:11+00:00   420.0       0.23    0.21   \n",
      "60  MSFT230915C00430000 2023-04-11 16:39:40+00:00   430.0       0.15    0.15   \n",
      "\n",
      "       ask  change  percentChange  volume  openInterest  impliedVolatility  \\\n",
      "0   175.35    0.00       0.000000       1           831           0.785891   \n",
      "1   161.80    0.00       0.000000       2           265           0.000010   \n",
      "2   172.10    0.00       0.000000       4            69           1.095769   \n",
      "3   119.25    0.00       0.000000       6          1373           0.000010   \n",
      "4   162.35    0.00       0.000000       4           386           1.013677   \n",
      "..     ...     ...            ...     ...           ...                ...   \n",
      "56    0.64    0.00       0.000000      13          1156           0.259285   \n",
      "57    0.47   -0.19     -30.158731       5         13388           0.262214   \n",
      "58    0.36   -0.09     -21.951221       2          5437           0.266609   \n",
      "59    0.27   -0.09     -28.124996       1          9574           0.270027   \n",
      "60    0.21   -0.08     -34.782608      27          5284           0.274177   \n",
      "\n",
      "    inTheMoney contractSize currency  \n",
      "0         True      REGULAR      USD  \n",
      "1         True      REGULAR      USD  \n",
      "2         True      REGULAR      USD  \n",
      "3         True      REGULAR      USD  \n",
      "4         True      REGULAR      USD  \n",
      "..         ...          ...      ...  \n",
      "56       False      REGULAR      USD  \n",
      "57       False      REGULAR      USD  \n",
      "58       False      REGULAR      USD  \n",
      "59       False      REGULAR      USD  \n",
      "60       False      REGULAR      USD  \n",
      "\n",
      "[61 rows x 14 columns]\n",
      "         contractSymbol             lastTradeDate  strike  lastPrice     bid  \\\n",
      "0   MSFT231020C00125000 2023-04-03 14:12:34+00:00   125.0     165.40  158.80   \n",
      "1   MSFT231020C00130000 2023-03-27 15:00:29+00:00   130.0     151.00  153.80   \n",
      "2   MSFT231020C00160000 2023-04-05 16:51:27+00:00   160.0     126.75  125.20   \n",
      "3   MSFT231020C00175000 2023-03-15 17:45:10+00:00   175.0      94.35  111.05   \n",
      "4   MSFT231020C00180000 2023-04-04 17:38:58+00:00   180.0     113.72  106.45   \n",
      "5   MSFT231020C00185000 2023-03-14 19:55:12+00:00   185.0      81.50  101.80   \n",
      "6   MSFT231020C00190000 2023-04-11 14:33:26+00:00   190.0      98.60   97.30   \n",
      "7   MSFT231020C00195000 2023-03-23 14:29:46+00:00   195.0      90.09   92.55   \n",
      "8   MSFT231020C00200000 2023-04-03 14:48:24+00:00   200.0      93.30   88.90   \n",
      "9   MSFT231020C00205000 2023-03-23 14:29:46+00:00   205.0      81.24   84.35   \n",
      "10  MSFT231020C00210000 2023-03-31 16:01:06+00:00   210.0      83.20   79.20   \n",
      "11  MSFT231020C00215000 2023-03-31 16:08:58+00:00   215.0      78.35   75.70   \n",
      "12  MSFT231020C00220000 2023-04-10 19:10:53+00:00   220.0      78.00   71.40   \n",
      "13  MSFT231020C00225000 2023-04-10 19:37:38+00:00   225.0      73.19   67.60   \n",
      "14  MSFT231020C00230000 2023-03-28 19:57:00+00:00   230.0      57.75   63.05   \n",
      "15  MSFT231020C00235000 2023-03-31 19:01:59+00:00   235.0      63.99   59.20   \n",
      "16  MSFT231020C00240000 2023-04-06 18:47:59+00:00   240.0      62.41   55.20   \n",
      "17  MSFT231020C00245000 2023-04-04 18:43:43+00:00   245.0      55.38   51.00   \n",
      "18  MSFT231020C00250000 2023-04-04 14:12:18+00:00   250.0      54.05   47.70   \n",
      "19  MSFT231020C00255000 2023-04-11 19:36:37+00:00   255.0      44.55   43.15   \n",
      "20  MSFT231020C00260000 2023-04-11 17:53:02+00:00   260.0      41.30   40.15   \n",
      "21  MSFT231020C00265000 2023-04-11 19:54:38+00:00   265.0      37.60   36.70   \n",
      "22  MSFT231020C00270000 2023-04-11 17:33:55+00:00   270.0      34.46   33.20   \n",
      "23  MSFT231020C00275000 2023-04-11 16:59:45+00:00   275.0      31.50   29.20   \n",
      "24  MSFT231020C00280000 2023-04-11 19:54:23+00:00   280.0      28.10   26.40   \n",
      "25  MSFT231020C00285000 2023-04-11 19:57:14+00:00   285.0      25.05   24.25   \n",
      "26  MSFT231020C00290000 2023-04-11 14:33:29+00:00   290.0      22.60   22.45   \n",
      "27  MSFT231020C00295000 2023-04-11 19:57:14+00:00   295.0      20.02   19.95   \n",
      "28  MSFT231020C00300000 2023-04-11 19:14:02+00:00   300.0      18.20   17.65   \n",
      "29  MSFT231020C00305000 2023-04-11 16:09:58+00:00   305.0      15.69   14.80   \n",
      "30  MSFT231020C00310000 2023-04-11 15:56:40+00:00   310.0      13.58   13.60   \n",
      "31  MSFT231020C00315000 2023-04-11 19:39:26+00:00   315.0      11.85   11.30   \n",
      "32  MSFT231020C00320000 2023-04-11 19:48:47+00:00   320.0      10.35   10.25   \n",
      "33  MSFT231020C00325000 2023-04-11 16:31:06+00:00   325.0       8.94    8.85   \n",
      "34  MSFT231020C00330000 2023-04-06 19:40:05+00:00   330.0      10.97    6.85   \n",
      "35  MSFT231020C00335000 2023-04-11 14:44:21+00:00   335.0       6.65    6.50   \n",
      "36  MSFT231020C00340000 2023-04-11 19:46:34+00:00   340.0       5.50    5.50   \n",
      "37  MSFT231020C00345000 2023-04-11 17:37:05+00:00   345.0       4.80    4.70   \n",
      "38  MSFT231020C00350000 2023-04-11 18:10:27+00:00   350.0       4.00    3.95   \n",
      "39  MSFT231020C00355000 2023-04-10 16:45:38+00:00   355.0       4.55    3.35   \n",
      "40  MSFT231020C00360000 2023-04-11 14:50:20+00:00   360.0       3.05    2.86   \n",
      "41  MSFT231020C00365000 2023-04-11 19:02:35+00:00   365.0       2.55    2.41   \n",
      "42  MSFT231020C00370000 2023-04-10 17:16:58+00:00   370.0       2.89    2.04   \n",
      "43  MSFT231020C00375000 2023-04-05 15:31:48+00:00   375.0       1.97    1.73   \n",
      "44  MSFT231020C00380000 2023-04-11 19:37:52+00:00   380.0       1.54    1.47   \n",
      "45  MSFT231020C00385000 2023-04-04 15:08:00+00:00   385.0       1.91    1.25   \n",
      "46  MSFT231020C00390000 2023-04-10 13:40:08+00:00   390.0       1.51    1.06   \n",
      "47  MSFT231020C00395000 2023-04-06 19:36:22+00:00   395.0       1.54    0.92   \n",
      "48  MSFT231020C00400000 2023-04-11 17:00:30+00:00   400.0       0.82    0.78   \n",
      "49  MSFT231020C00405000 2023-04-11 16:59:31+00:00   405.0       0.72    0.67   \n",
      "50  MSFT231020C00410000 2023-04-11 16:59:09+00:00   410.0       0.61    0.57   \n",
      "51  MSFT231020C00415000 2023-04-11 16:58:43+00:00   415.0       0.53    0.49   \n",
      "52  MSFT231020C00420000 2023-04-06 18:33:52+00:00   420.0       0.66    0.43   \n",
      "\n",
      "       ask     change  percentChange  volume  openInterest  impliedVolatility  \\\n",
      "0   161.25   0.000000       0.000000       2             3           0.704471   \n",
      "1   156.45   0.000000       0.000000      20            36           0.680911   \n",
      "2   128.45   0.000000       0.000000       1             4           0.596928   \n",
      "3   113.70   0.000000       0.000000       1             2           0.538701   \n",
      "4   109.75   0.000000       0.000000       1             2           0.536504   \n",
      "5   105.40   0.000000       0.000000       1             1           0.525762   \n",
      "6   100.05  31.949997      47.936977      25             1           0.502660   \n",
      "7    95.25   0.000000       0.000000      20            20           0.518010   \n",
      "8    91.65   0.000000       0.000000       1            16           0.524602   \n",
      "9    87.20   0.000000       0.000000      20            23           0.510259   \n",
      "10   82.65   0.000000       0.000000       1            22           0.493413   \n",
      "11   77.30   0.000000       0.000000       1            11           0.460516   \n",
      "12   73.00   0.000000       0.000000       1            20           0.448522   \n",
      "13   68.85   0.000000       0.000000       2            89           0.438452   \n",
      "14   64.90   0.000000       0.000000       7           116           0.430822   \n",
      "15   60.15   0.000000       0.000000       1           199           0.408880   \n",
      "16   56.65   0.000000       0.000000       1            53           0.406561   \n",
      "17   52.85   0.000000       0.000000       2           136           0.398016   \n",
      "18   49.25   0.000000       0.000000       1           189           0.391150   \n",
      "19   45.55  -2.900002      -6.111700       1           191           0.381537   \n",
      "20   41.15  -3.450001      -7.709499       3           129           0.361258   \n",
      "21   38.50  -4.600002     -10.900478       4           139           0.363303   \n",
      "22   34.80  -4.540001     -11.641027      26           177           0.349952   \n",
      "23   31.25  -3.750000     -10.638298       3           880           0.337256   \n",
      "24   28.70  -5.990000     -17.571135      23           711           0.335547   \n",
      "25   25.45  -4.150002     -14.212334      10           880           0.323493   \n",
      "26   22.75  -3.699999     -14.068437       6           719           0.316535   \n",
      "27   20.25  -3.879999     -16.234306      23           326           0.310218   \n",
      "28   17.95  -3.099998     -14.553984      40           977           0.304542   \n",
      "29   15.80  -2.430001     -13.410603      14           519           0.298835   \n",
      "30   13.85  -2.990000     -18.044659      11          1522           0.293739   \n",
      "31   12.10  -2.349999     -16.549292      23           552           0.289283   \n",
      "32   10.50  -2.650000     -20.384613     127           812           0.284889   \n",
      "33    9.10  -2.360001     -20.884960       3           488           0.281303   \n",
      "34    7.80   0.000000       0.000000       6           673           0.277198   \n",
      "35    6.70  -1.000000     -13.071895       2           358           0.274208   \n",
      "36    5.75  -1.200000     -17.910444       4           260           0.271766   \n",
      "37    4.90  -1.500000     -23.809523      34           380           0.269203   \n",
      "38    4.15  -1.310000     -24.670433       9           376           0.266670   \n",
      "39    3.50   0.000000       0.000000      11            76           0.264290   \n",
      "40    2.97  -0.650000     -17.567570       1           108           0.262825   \n",
      "41    2.51  -0.200000      -7.272729       1          1546           0.261390   \n",
      "42    2.14   0.000000       0.000000       3           495           0.260811   \n",
      "43    1.81   0.000000       0.000000      12           214           0.259956   \n",
      "44    1.54  -0.710000     -31.555557      25          1004           0.259590   \n",
      "45    1.33   0.000000       0.000000      34           100           0.260139   \n",
      "46    1.14   0.000000       0.000000       2           740           0.260383   \n",
      "47    0.99   0.000000       0.000000       2            56           0.261299   \n",
      "48    0.85  -0.240000     -22.641506      18            50           0.261665   \n",
      "49    0.76  -0.270000     -27.272724       2            16           0.263923   \n",
      "50    0.65  -0.180000     -22.784810      15           105           0.264045   \n",
      "51    0.58  -0.180000     -25.352114       3             6           0.266121   \n",
      "52    0.58   0.000000       0.000000       1           494           0.272834   \n",
      "\n",
      "    inTheMoney contractSize currency  \n",
      "0         True      REGULAR      USD  \n",
      "1         True      REGULAR      USD  \n",
      "2         True      REGULAR      USD  \n",
      "3         True      REGULAR      USD  \n",
      "4         True      REGULAR      USD  \n",
      "5         True      REGULAR      USD  \n",
      "6         True      REGULAR      USD  \n",
      "7         True      REGULAR      USD  \n",
      "8         True      REGULAR      USD  \n",
      "9         True      REGULAR      USD  \n",
      "10        True      REGULAR      USD  \n",
      "11        True      REGULAR      USD  \n",
      "12        True      REGULAR      USD  \n",
      "13        True      REGULAR      USD  \n",
      "14        True      REGULAR      USD  \n",
      "15        True      REGULAR      USD  \n",
      "16        True      REGULAR      USD  \n",
      "17        True      REGULAR      USD  \n",
      "18        True      REGULAR      USD  \n",
      "19        True      REGULAR      USD  \n",
      "20        True      REGULAR      USD  \n",
      "21        True      REGULAR      USD  \n",
      "22        True      REGULAR      USD  \n",
      "23        True      REGULAR      USD  \n",
      "24        True      REGULAR      USD  \n",
      "25       False      REGULAR      USD  \n",
      "26       False      REGULAR      USD  \n",
      "27       False      REGULAR      USD  \n",
      "28       False      REGULAR      USD  \n",
      "29       False      REGULAR      USD  \n",
      "30       False      REGULAR      USD  \n",
      "31       False      REGULAR      USD  \n",
      "32       False      REGULAR      USD  \n",
      "33       False      REGULAR      USD  \n",
      "34       False      REGULAR      USD  \n",
      "35       False      REGULAR      USD  \n",
      "36       False      REGULAR      USD  \n",
      "37       False      REGULAR      USD  \n",
      "38       False      REGULAR      USD  \n",
      "39       False      REGULAR      USD  \n",
      "40       False      REGULAR      USD  \n",
      "41       False      REGULAR      USD  \n",
      "42       False      REGULAR      USD  \n",
      "43       False      REGULAR      USD  \n",
      "44       False      REGULAR      USD  \n",
      "45       False      REGULAR      USD  \n",
      "46       False      REGULAR      USD  \n",
      "47       False      REGULAR      USD  \n",
      "48       False      REGULAR      USD  \n",
      "49       False      REGULAR      USD  \n",
      "50       False      REGULAR      USD  \n",
      "51       False      REGULAR      USD  \n",
      "52       False      REGULAR      USD  \n",
      "         contractSymbol             lastTradeDate  strike  lastPrice     bid  \\\n",
      "0   MSFT231117C00125000 2023-04-04 14:03:46+00:00   125.0     167.00  159.10   \n",
      "1   MSFT231117C00130000 2023-03-31 14:10:26+00:00   130.0     156.67  154.80   \n",
      "2   MSFT231117C00165000 2023-03-30 13:49:32+00:00   165.0     123.78  121.65   \n",
      "3   MSFT231117C00185000 2023-03-21 15:41:32+00:00   185.0      92.75  103.50   \n",
      "4   MSFT231117C00200000 2023-03-21 15:39:23+00:00   200.0      80.15   89.70   \n",
      "5   MSFT231117C00210000 2023-03-17 18:38:05+00:00   210.0      78.90   81.10   \n",
      "6   MSFT231117C00215000 2023-03-21 15:41:04+00:00   215.0      67.50   76.85   \n",
      "7   MSFT231117C00220000 2023-03-20 18:39:30+00:00   220.0      64.00   72.45   \n",
      "8   MSFT231117C00225000 2023-03-27 14:41:53+00:00   225.0      66.80   68.20   \n",
      "9   MSFT231117C00230000 2023-04-06 18:23:05+00:00   230.0      72.50   64.20   \n",
      "10  MSFT231117C00235000 2023-03-28 19:03:04+00:00   235.0      54.68   60.35   \n",
      "11  MSFT231117C00240000 2023-04-11 13:45:32+00:00   240.0      58.65   56.70   \n",
      "12  MSFT231117C00245000 2023-04-04 17:54:46+00:00   245.0      58.10   52.65   \n",
      "13  MSFT231117C00250000 2023-04-11 15:59:41+00:00   250.0      50.15   49.35   \n",
      "14  MSFT231117C00255000 2023-04-10 14:59:55+00:00   255.0      49.60   45.50   \n",
      "15  MSFT231117C00260000 2023-04-11 15:16:12+00:00   260.0      42.95   42.25   \n",
      "16  MSFT231117C00265000 2023-04-11 18:38:09+00:00   265.0      40.32   39.10   \n",
      "17  MSFT231117C00270000 2023-04-11 18:00:57+00:00   270.0      36.87   36.25   \n",
      "18  MSFT231117C00275000 2023-04-11 19:52:28+00:00   275.0      33.50   33.15   \n",
      "19  MSFT231117C00280000 2023-04-11 18:19:39+00:00   280.0      30.70   30.25   \n",
      "20  MSFT231117C00285000 2023-04-11 19:00:22+00:00   285.0      28.31   27.05   \n",
      "21  MSFT231117C00290000 2023-04-11 19:38:32+00:00   290.0      24.95   24.80   \n",
      "22  MSFT231117C00295000 2023-04-11 19:11:13+00:00   295.0      23.05   22.30   \n",
      "23  MSFT231117C00300000 2023-04-11 19:24:10+00:00   300.0      20.51   19.95   \n",
      "24  MSFT231117C00305000 2023-04-11 18:47:12+00:00   305.0      18.36   17.75   \n",
      "25  MSFT231117C00310000 2023-04-11 18:47:12+00:00   310.0      16.30   15.75   \n",
      "26  MSFT231117C00315000 2023-04-11 15:45:25+00:00   315.0      13.52   13.90   \n",
      "27  MSFT231117C00320000 2023-04-11 17:02:56+00:00   320.0      12.50   12.20   \n",
      "28  MSFT231117C00325000 2023-04-11 17:52:14+00:00   325.0      10.90   10.70   \n",
      "29  MSFT231117C00330000 2023-04-11 16:37:03+00:00   330.0       9.45    9.30   \n",
      "30  MSFT231117C00335000 2023-04-11 19:08:05+00:00   335.0       8.50    8.10   \n",
      "31  MSFT231117C00340000 2023-04-11 19:46:11+00:00   340.0       7.05    7.05   \n",
      "32  MSFT231117C00345000 2023-04-11 15:39:40+00:00   345.0       6.10    5.35   \n",
      "33  MSFT231117C00350000 2023-04-11 15:57:47+00:00   350.0       5.30    5.25   \n",
      "34  MSFT231117C00355000 2023-04-11 15:13:06+00:00   355.0       4.60    4.50   \n",
      "35  MSFT231117C00360000 2023-04-11 17:42:47+00:00   360.0       4.00    3.85   \n",
      "36  MSFT231117C00365000 2023-04-11 18:54:14+00:00   365.0       3.55    3.35   \n",
      "37  MSFT231117C00370000 2023-04-11 16:33:07+00:00   370.0       2.97    2.87   \n",
      "38  MSFT231117C00375000 2023-04-11 18:59:56+00:00   375.0       2.65    2.46   \n",
      "39  MSFT231117C00380000 2023-04-11 15:55:05+00:00   380.0       2.16    2.11   \n",
      "40  MSFT231117C00385000 2023-04-06 16:09:27+00:00   385.0       2.29    1.82   \n",
      "41  MSFT231117C00390000 2023-04-10 18:51:12+00:00   390.0       2.21    1.56   \n",
      "42  MSFT231117C00395000 2023-04-05 16:22:56+00:00   395.0       1.50    1.35   \n",
      "43  MSFT231117C00400000 2023-04-11 17:02:36+00:00   400.0       1.26    1.18   \n",
      "44  MSFT231117C00405000 2023-04-11 19:31:22+00:00   405.0       1.11    1.01   \n",
      "45  MSFT231117C00410000 2023-04-11 17:01:32+00:00   410.0       0.96    0.87   \n",
      "46  MSFT231117C00415000 2023-04-11 17:01:06+00:00   415.0       0.84    0.78   \n",
      "47  MSFT231117C00420000 2023-04-11 15:45:31+00:00   420.0       0.70    0.69   \n",
      "\n",
      "       ask    change  percentChange  volume  openInterest  impliedVolatility  \\\n",
      "0   162.35  0.000000       0.000000     NaN             1           0.699344   \n",
      "1   156.80  0.000000       0.000000     2.0             2           0.673892   \n",
      "2   124.65  0.000000       0.000000     NaN             1           0.577214   \n",
      "3   106.45  0.000000       0.000000     NaN             1           0.526433   \n",
      "4    92.30  0.000000       0.000000     NaN             2           0.503545   \n",
      "5    83.25  0.000000       0.000000     4.0             3           0.472265   \n",
      "6    79.20  0.000000       0.000000     4.0             3           0.464697   \n",
      "7    75.10  0.000000       0.000000     1.0             3           0.455267   \n",
      "8    71.40  0.000000       0.000000     2.0             6           0.451422   \n",
      "9    67.10  0.000000       0.000000     1.0             5           0.436987   \n",
      "10   62.55  0.000000       0.000000     2.0             6           0.418310   \n",
      "11   58.60 -4.079998      -6.504062     1.0             8           0.408056   \n",
      "12   54.95  0.000000       0.000000     5.0            54           0.401037   \n",
      "13   51.50  1.700001       3.508773     4.0           165           0.395544   \n",
      "14   47.90  0.000000       0.000000     1.0            14           0.386877   \n",
      "15   44.05 -3.049999      -6.630434     1.0           103           0.373999   \n",
      "16   40.05 -3.920002      -8.860764     2.0           144           0.358374   \n",
      "17   36.80 -3.200001      -7.986026     3.0            38           0.350867   \n",
      "18   33.80 -4.750000     -12.418301     3.0            46           0.345008   \n",
      "19   31.10 -4.149998     -11.908172    44.0           155           0.341239   \n",
      "20   28.25 -3.690001     -11.531252    22.0           212           0.334296   \n",
      "21   25.15 -4.049999     -13.965514    14.0           493           0.323096   \n",
      "22   22.65 -3.250000     -12.357414    63.0           283           0.317252   \n",
      "23   20.30 -2.990000     -12.723403    16.0           547           0.311591   \n",
      "24   18.10 -3.039999     -14.205604     3.0           365           0.306068   \n",
      "25   16.05 -1.130001      -6.483081     9.0           171           0.300666   \n",
      "26   14.20 -3.430000     -20.235989     6.0           154           0.296028   \n",
      "27   12.50 -2.500000     -16.666668     3.0           291           0.291542   \n",
      "28   11.00 -3.760000     -25.648026     1.0            92           0.287940   \n",
      "29    9.60 -2.560000     -21.315573     4.0           136           0.283973   \n",
      "30    8.35 -0.750000      -8.108108     2.0           148           0.280372   \n",
      "31    7.30 -1.960000     -21.753607     7.0           222           0.278022   \n",
      "32    6.30 -1.490000     -19.631096     3.0           204           0.274849   \n",
      "33    5.50 -1.500000     -22.058823    62.0           167           0.273292   \n",
      "34    4.70 -2.200000     -32.352943    10.0            22           0.270240   \n",
      "35    4.05 -1.160000     -22.480618    12.0            95           0.268348   \n",
      "36    3.45 -0.950000     -21.111113   137.0            76           0.265938   \n",
      "37    3.05 -1.280000     -30.117645    96.0            25           0.266548   \n",
      "38    2.60 -0.550000     -17.187498    27.0           234           0.264778   \n",
      "39    2.23 -0.810000     -27.272724     5.0            22           0.263618   \n",
      "40    1.93  0.000000       0.000000    70.0           100           0.263252   \n",
      "41    1.67  0.000000       0.000000    20.0           785           0.262947   \n",
      "42    1.45  0.000000       0.000000     2.0             6           0.262947   \n",
      "43    1.27 -0.250000     -16.556292     5.0            26           0.263435   \n",
      "44    1.11 -0.310000     -21.830982     3.0             2           0.263862   \n",
      "45    1.00 -0.220000     -18.644066     2.0            11           0.265754   \n",
      "46    0.87 -0.410000     -32.800000     3.0            23           0.265876   \n",
      "47    0.76 -0.400000     -36.363636    28.0           101           0.266365   \n",
      "\n",
      "    inTheMoney contractSize currency  \n",
      "0         True      REGULAR      USD  \n",
      "1         True      REGULAR      USD  \n",
      "2         True      REGULAR      USD  \n",
      "3         True      REGULAR      USD  \n",
      "4         True      REGULAR      USD  \n",
      "5         True      REGULAR      USD  \n",
      "6         True      REGULAR      USD  \n",
      "7         True      REGULAR      USD  \n",
      "8         True      REGULAR      USD  \n",
      "9         True      REGULAR      USD  \n",
      "10        True      REGULAR      USD  \n",
      "11        True      REGULAR      USD  \n",
      "12        True      REGULAR      USD  \n",
      "13        True      REGULAR      USD  \n",
      "14        True      REGULAR      USD  \n",
      "15        True      REGULAR      USD  \n",
      "16        True      REGULAR      USD  \n",
      "17        True      REGULAR      USD  \n",
      "18        True      REGULAR      USD  \n",
      "19        True      REGULAR      USD  \n",
      "20       False      REGULAR      USD  \n",
      "21       False      REGULAR      USD  \n",
      "22       False      REGULAR      USD  \n",
      "23       False      REGULAR      USD  \n",
      "24       False      REGULAR      USD  \n",
      "25       False      REGULAR      USD  \n",
      "26       False      REGULAR      USD  \n",
      "27       False      REGULAR      USD  \n",
      "28       False      REGULAR      USD  \n",
      "29       False      REGULAR      USD  \n",
      "30       False      REGULAR      USD  \n",
      "31       False      REGULAR      USD  \n",
      "32       False      REGULAR      USD  \n",
      "33       False      REGULAR      USD  \n",
      "34       False      REGULAR      USD  \n",
      "35       False      REGULAR      USD  \n",
      "36       False      REGULAR      USD  \n",
      "37       False      REGULAR      USD  \n",
      "38       False      REGULAR      USD  \n",
      "39       False      REGULAR      USD  \n",
      "40       False      REGULAR      USD  \n",
      "41       False      REGULAR      USD  \n",
      "42       False      REGULAR      USD  \n",
      "43       False      REGULAR      USD  \n",
      "44       False      REGULAR      USD  \n",
      "45       False      REGULAR      USD  \n",
      "46       False      REGULAR      USD  \n",
      "47       False      REGULAR      USD  \n",
      "         contractSymbol             lastTradeDate  strike  lastPrice     bid  \\\n",
      "0   MSFT240119C00110000 2023-04-10 15:59:37+00:00   110.0     179.35  174.40   \n",
      "1   MSFT240119C00115000 2023-01-25 14:53:17+00:00   115.0     120.93  136.40   \n",
      "2   MSFT240119C00120000 2023-04-11 19:45:28+00:00   120.0     165.90  164.65   \n",
      "3   MSFT240119C00125000 2023-03-30 16:54:52+00:00   125.0     160.75  159.65   \n",
      "4   MSFT240119C00130000 2023-04-06 15:18:48+00:00   130.0     158.01  155.00   \n",
      "..                  ...                       ...     ...        ...     ...   \n",
      "69  MSFT240119C00470000 2023-04-10 19:47:18+00:00   470.0       0.58    0.38   \n",
      "70  MSFT240119C00480000 2023-04-11 13:37:36+00:00   480.0       0.39    0.30   \n",
      "71  MSFT240119C00490000 2023-04-05 14:31:37+00:00   490.0       0.30    0.25   \n",
      "72  MSFT240119C00500000 2023-04-11 13:40:21+00:00   500.0       0.25    0.23   \n",
      "73  MSFT240119C00520000 2023-04-11 19:53:16+00:00   520.0       0.16    0.16   \n",
      "\n",
      "       ask    change  percentChange  volume  openInterest  impliedVolatility  \\\n",
      "0   176.50  0.000000       0.000000       4           778           0.686160   \n",
      "1   139.45  0.000000       0.000000       1           385           0.000010   \n",
      "2   167.00 -0.600006      -0.360364       1           716           0.648685   \n",
      "3   162.45  0.000000       0.000000       1          1665           0.631962   \n",
      "4   157.95  0.000000       0.000000       2          1109           0.623783   \n",
      "..     ...       ...            ...     ...           ...                ...   \n",
      "69    0.49  0.000000       0.000000      40          1185           0.268806   \n",
      "70    0.40 -0.090000     -18.750002       1          1146           0.270271   \n",
      "71    0.35  0.000000       0.000000       1           737           0.274177   \n",
      "72    0.28 -0.030000     -10.714286      10          4643           0.274665   \n",
      "73    0.20 -0.060000     -27.272728     124         11260           0.278816   \n",
      "\n",
      "    inTheMoney contractSize currency  \n",
      "0         True      REGULAR      USD  \n",
      "1         True      REGULAR      USD  \n",
      "2         True      REGULAR      USD  \n",
      "3         True      REGULAR      USD  \n",
      "4         True      REGULAR      USD  \n",
      "..         ...          ...      ...  \n",
      "69       False      REGULAR      USD  \n",
      "70       False      REGULAR      USD  \n",
      "71       False      REGULAR      USD  \n",
      "72       False      REGULAR      USD  \n",
      "73       False      REGULAR      USD  \n",
      "\n",
      "[74 rows x 14 columns]\n",
      "         contractSymbol             lastTradeDate  strike  lastPrice    bid  \\\n",
      "0   MSFT240315C00250000 2023-04-10 15:23:26+00:00   250.0      60.68  54.50   \n",
      "1   MSFT240315C00260000 2023-04-11 14:55:10+00:00   260.0      50.50  48.55   \n",
      "2   MSFT240315C00270000 2023-04-06 19:10:05+00:00   270.0      49.39  41.55   \n",
      "3   MSFT240315C00280000 2023-04-11 18:32:13+00:00   280.0      38.12  36.95   \n",
      "4   MSFT240315C00285000 2023-04-11 16:24:31+00:00   285.0      34.95  33.30   \n",
      "5   MSFT240315C00290000 2023-04-11 14:48:35+00:00   290.0      32.42  31.35   \n",
      "6   MSFT240315C00295000 2023-04-06 19:49:07+00:00   295.0      34.96  29.50   \n",
      "7   MSFT240315C00300000 2023-04-11 19:30:26+00:00   300.0      27.50  25.45   \n",
      "8   MSFT240315C00305000 2023-04-06 17:58:57+00:00   305.0      29.35  24.80   \n",
      "9   MSFT240315C00310000 2023-04-11 14:05:27+00:00   310.0      23.90  21.85   \n",
      "10  MSFT240315C00315000 2023-04-11 18:17:23+00:00   315.0      21.30  20.55   \n",
      "11  MSFT240315C00320000 2023-04-11 17:13:17+00:00   320.0      19.30  17.20   \n",
      "12  MSFT240315C00325000 2023-04-06 19:39:31+00:00   325.0      21.46  16.60   \n",
      "13  MSFT240315C00330000 2023-04-11 16:10:56+00:00   330.0      15.73  14.65   \n",
      "14  MSFT240315C00335000 2023-04-11 15:09:59+00:00   335.0      14.11  12.95   \n",
      "15  MSFT240315C00340000 2023-04-10 15:23:26+00:00   340.0      14.95  11.40   \n",
      "16  MSFT240315C00345000 2023-04-10 18:18:00+00:00   345.0      14.00  10.70   \n",
      "17  MSFT240315C00350000 2023-04-10 14:28:28+00:00   350.0      11.65   9.15   \n",
      "18  MSFT240315C00360000 2023-04-11 16:36:07+00:00   360.0       8.50   7.25   \n",
      "19  MSFT240315C00370000 2023-04-06 18:00:15+00:00   370.0       8.33   5.55   \n",
      "20  MSFT240315C00375000 2023-04-06 17:18:24+00:00   375.0       7.15   5.70   \n",
      "21  MSFT240315C00380000 2023-04-10 18:57:00+00:00   380.0       6.80   5.10   \n",
      "22  MSFT240315C00385000 2023-04-11 14:42:07+00:00   385.0       4.87   4.50   \n",
      "23  MSFT240315C00390000 2023-04-10 18:37:19+00:00   390.0       5.60   2.99   \n",
      "24  MSFT240315C00395000 2023-04-10 17:00:43+00:00   395.0       4.85   3.40   \n",
      "25  MSFT240315C00400000 2023-04-06 19:59:46+00:00   400.0       4.81   2.54   \n",
      "26  MSFT240315C00405000 2023-04-11 17:48:20+00:00   405.0       3.20   2.25   \n",
      "27  MSFT240315C00410000 2023-04-11 15:05:41+00:00   410.0       2.75   2.11   \n",
      "\n",
      "      ask    change  percentChange  volume  openInterest  impliedVolatility  \\\n",
      "0   58.00  0.000000       0.000000       2             3           0.387549   \n",
      "1   50.50 -0.459999      -0.902667       2             6           0.366126   \n",
      "2   44.60  0.000000       0.000000       5            17           0.357764   \n",
      "3   38.50 -3.030003      -7.363311       7             2           0.344062   \n",
      "4   35.70 -0.660000      -1.853411       3             1           0.338294   \n",
      "5   32.60 -3.030003      -8.547256       2            17           0.328864   \n",
      "6   30.25  0.000000       0.000000      22            20           0.325446   \n",
      "7   27.85 -4.100000     -12.974684      26            26           0.320624   \n",
      "8   25.60  0.000000       0.000000       5             5           0.316245   \n",
      "9   24.50 -2.960001     -11.020107       1             2           0.321586   \n",
      "10  21.35 -2.430000     -10.240204       2             3           0.306876   \n",
      "11  19.45 -3.200001     -14.222225       8            13           0.302833   \n",
      "12  17.80  0.000000       0.000000       6             5           0.300193   \n",
      "13  16.15 -1.970001     -11.129950       5            19           0.296592   \n",
      "14  14.90 -1.790000     -11.257861       1            11           0.296058   \n",
      "15  14.05  0.000000       0.000000       5             4           0.298820   \n",
      "16  12.20  0.000000       0.000000      25            29           0.290199   \n",
      "17  10.75  0.000000       0.000000       1            18           0.284614   \n",
      "18   9.25 -2.250000     -20.930233       1             7           0.286705   \n",
      "19   7.60  0.000000       0.000000       1             1           0.284019   \n",
      "20   6.35  0.000000       0.000000     104            63           0.275428   \n",
      "21   5.65  0.000000       0.000000       6            15           0.273277   \n",
      "22   5.10 -1.230000     -20.163935       1            25           0.272529   \n",
      "23   5.20  0.000000       0.000000       1           183           0.281654   \n",
      "24   4.80  0.000000       0.000000       2            88           0.282478   \n",
      "25   3.70  0.000000       0.000000       9             6           0.269966   \n",
      "26   3.30 -0.700000     -17.948719       2           220           0.268837   \n",
      "27   2.95 -0.800000     -22.535212       3            14           0.267952   \n",
      "\n",
      "    inTheMoney contractSize currency  \n",
      "0         True      REGULAR      USD  \n",
      "1         True      REGULAR      USD  \n",
      "2         True      REGULAR      USD  \n",
      "3         True      REGULAR      USD  \n",
      "4        False      REGULAR      USD  \n",
      "5        False      REGULAR      USD  \n",
      "6        False      REGULAR      USD  \n",
      "7        False      REGULAR      USD  \n",
      "8        False      REGULAR      USD  \n",
      "9        False      REGULAR      USD  \n",
      "10       False      REGULAR      USD  \n",
      "11       False      REGULAR      USD  \n",
      "12       False      REGULAR      USD  \n",
      "13       False      REGULAR      USD  \n",
      "14       False      REGULAR      USD  \n",
      "15       False      REGULAR      USD  \n",
      "16       False      REGULAR      USD  \n",
      "17       False      REGULAR      USD  \n",
      "18       False      REGULAR      USD  \n",
      "19       False      REGULAR      USD  \n",
      "20       False      REGULAR      USD  \n",
      "21       False      REGULAR      USD  \n",
      "22       False      REGULAR      USD  \n",
      "23       False      REGULAR      USD  \n",
      "24       False      REGULAR      USD  \n",
      "25       False      REGULAR      USD  \n",
      "26       False      REGULAR      USD  \n",
      "27       False      REGULAR      USD  \n",
      "         contractSymbol             lastTradeDate  strike  lastPrice     bid  \\\n",
      "0   MSFT240621C00110000 2023-04-10 14:07:36+00:00   110.0     179.20  174.50   \n",
      "1   MSFT240621C00115000 2023-04-11 17:13:28+00:00   115.0     172.77  170.10   \n",
      "2   MSFT240621C00120000 2023-04-05 18:43:49+00:00   120.0     170.90  165.85   \n",
      "3   MSFT240621C00125000 2023-04-05 16:29:29+00:00   125.0     162.82  161.20   \n",
      "4   MSFT240621C00130000 2023-04-10 14:07:36+00:00   130.0     160.80  157.00   \n",
      "..                  ...                       ...     ...        ...     ...   \n",
      "65  MSFT240621C00435000 2023-04-10 15:42:02+00:00   435.0       3.85    2.53   \n",
      "66  MSFT240621C00440000 2023-04-11 17:39:58+00:00   440.0       2.92    2.75   \n",
      "67  MSFT240621C00445000 2023-04-10 14:15:02+00:00   445.0       2.91    2.39   \n",
      "68  MSFT240621C00450000 2023-04-11 16:00:25+00:00   450.0       2.40    2.00   \n",
      "69  MSFT240621C00460000 2023-04-11 19:11:26+00:00   460.0       2.03    1.07   \n",
      "\n",
      "       ask     change  percentChange  volume  openInterest  impliedVolatility  \\\n",
      "0   178.15   0.000000       0.000000       1          1107           0.589482   \n",
      "1   173.45  15.930008      10.156853       1           193           0.581547   \n",
      "2   169.25   0.000000       0.000000       2           157           0.583256   \n",
      "3   164.70   0.000000       0.000000       5           329           0.571354   \n",
      "4   160.95   0.000000       0.000000       1           194           0.576359   \n",
      "..     ...        ...            ...     ...           ...                ...   \n",
      "65    3.30   0.000000       0.000000     105           183           0.269569   \n",
      "66    2.95   0.150000       5.415166       6          1115           0.267738   \n",
      "67    2.98   0.000000       0.000000      37           263           0.273323   \n",
      "68    3.80  -0.450000     -15.789467       3          1023           0.294227   \n",
      "69    2.79  -0.460000     -18.473896       4          7752           0.283699   \n",
      "\n",
      "    inTheMoney contractSize currency  \n",
      "0         True      REGULAR      USD  \n",
      "1         True      REGULAR      USD  \n",
      "2         True      REGULAR      USD  \n",
      "3         True      REGULAR      USD  \n",
      "4         True      REGULAR      USD  \n",
      "..         ...          ...      ...  \n",
      "65       False      REGULAR      USD  \n",
      "66       False      REGULAR      USD  \n",
      "67       False      REGULAR      USD  \n",
      "68       False      REGULAR      USD  \n",
      "69       False      REGULAR      USD  \n",
      "\n",
      "[70 rows x 14 columns]\n",
      "         contractSymbol             lastTradeDate  strike  lastPrice     bid  \\\n",
      "0   MSFT241220C00130000 2023-02-22 16:33:41+00:00   130.0     132.88  155.50   \n",
      "1   MSFT241220C00145000 2023-04-10 14:37:42+00:00   145.0     153.00  145.55   \n",
      "2   MSFT241220C00160000 2023-02-24 18:05:03+00:00   160.0     105.60  130.00   \n",
      "3   MSFT241220C00170000 2023-03-15 16:28:31+00:00   170.0     106.25  125.50   \n",
      "4   MSFT241220C00175000 2023-03-15 17:13:47+00:00   175.0     104.75  121.15   \n",
      "5   MSFT241220C00180000 2023-03-15 18:31:31+00:00   180.0     102.70  117.35   \n",
      "6   MSFT241220C00185000 2023-03-20 13:45:00+00:00   185.0     106.81  113.10   \n",
      "7   MSFT241220C00190000 2023-04-03 15:31:05+00:00   190.0     113.68  108.80   \n",
      "8   MSFT241220C00195000 2023-04-03 16:39:05+00:00   195.0     108.78  105.00   \n",
      "9   MSFT241220C00200000 2023-04-03 16:47:29+00:00   200.0     104.93  101.00   \n",
      "10  MSFT241220C00205000 2023-04-06 16:39:22+00:00   205.0     103.57   98.45   \n",
      "11  MSFT241220C00210000 2023-04-06 16:50:21+00:00   210.0      99.85   93.85   \n",
      "12  MSFT241220C00215000 2023-04-06 16:38:53+00:00   215.0      96.63   91.20   \n",
      "13  MSFT241220C00220000 2023-04-11 18:24:26+00:00   220.0      88.80   87.85   \n",
      "14  MSFT241220C00225000 2023-04-10 17:20:31+00:00   225.0      89.95   84.35   \n",
      "15  MSFT241220C00230000 2023-04-10 17:20:09+00:00   230.0      86.50   79.60   \n",
      "16  MSFT241220C00235000 2023-04-10 17:22:33+00:00   235.0      83.24   77.55   \n",
      "17  MSFT241220C00240000 2023-04-10 18:15:22+00:00   240.0      79.82   73.20   \n",
      "18  MSFT241220C00245000 2023-04-11 16:53:33+00:00   245.0      72.10   71.00   \n",
      "19  MSFT241220C00250000 2023-04-11 16:38:16+00:00   250.0      68.70   66.80   \n",
      "20  MSFT241220C00255000 2023-04-11 16:37:48+00:00   255.0      65.17   63.95   \n",
      "21  MSFT241220C00260000 2023-04-11 16:51:10+00:00   260.0      62.64   61.80   \n",
      "22  MSFT241220C00265000 2023-04-11 16:39:35+00:00   265.0      59.54   58.90   \n",
      "23  MSFT241220C00270000 2023-04-10 15:01:51+00:00   270.0      59.42   54.95   \n",
      "24  MSFT241220C00275000 2023-04-10 15:01:09+00:00   275.0      56.64   52.15   \n",
      "25  MSFT241220C00280000 2023-04-11 14:31:29+00:00   280.0      51.13   50.50   \n",
      "26  MSFT241220C00285000 2023-04-11 15:53:39+00:00   285.0      50.25   47.85   \n",
      "27  MSFT241220C00290000 2023-04-11 15:49:35+00:00   290.0      45.64   45.50   \n",
      "28  MSFT241220C00295000 2023-04-11 18:48:34+00:00   295.0      44.60   41.00   \n",
      "29  MSFT241220C00300000 2023-04-11 18:46:22+00:00   300.0      41.83   40.60   \n",
      "30  MSFT241220C00305000 2023-04-10 13:30:01+00:00   305.0      42.13   37.15   \n",
      "31  MSFT241220C00310000 2023-04-03 18:22:50+00:00   310.0      37.40   36.25   \n",
      "32  MSFT241220C00315000 2023-04-11 18:57:32+00:00   315.0      35.25   32.20   \n",
      "33  MSFT241220C00320000 2023-04-06 16:39:22+00:00   320.0      34.69   32.10   \n",
      "34  MSFT241220C00325000 2023-04-06 18:30:32+00:00   325.0      33.90   30.10   \n",
      "35  MSFT241220C00330000 2023-04-05 18:19:05+00:00   330.0      28.89   28.25   \n",
      "36  MSFT241220C00335000 2023-04-05 18:17:48+00:00   335.0      26.91   26.70   \n",
      "37  MSFT241220C00340000 2023-04-06 19:54:39+00:00   340.0      28.77   25.05   \n",
      "38  MSFT241220C00345000 2023-04-11 16:51:10+00:00   345.0      23.96   23.45   \n",
      "39  MSFT241220C00350000 2023-04-11 16:59:56+00:00   350.0      22.60   21.95   \n",
      "40  MSFT241220C00355000 2023-04-11 19:28:57+00:00   355.0      20.95   19.15   \n",
      "41  MSFT241220C00360000 2023-04-11 19:28:57+00:00   360.0      19.60   19.15   \n",
      "42  MSFT241220C00365000 2023-04-10 15:17:46+00:00   365.0      20.68   17.75   \n",
      "43  MSFT241220C00370000 2023-04-10 17:23:23+00:00   370.0      19.41   16.25   \n",
      "44  MSFT241220C00375000 2023-04-11 17:30:55+00:00   375.0      16.20   14.60   \n",
      "45  MSFT241220C00380000 2023-04-10 18:36:01+00:00   380.0      16.95   14.15   \n",
      "46  MSFT241220C00385000 2023-04-06 16:49:29+00:00   385.0      15.47   13.25   \n",
      "47  MSFT241220C00390000 2023-04-06 16:50:21+00:00   390.0      14.35   12.05   \n",
      "48  MSFT241220C00395000 2023-04-03 15:08:49+00:00   395.0      12.50   11.30   \n",
      "49  MSFT241220C00400000 2023-04-03 18:27:13+00:00   400.0      11.55   10.05   \n",
      "50  MSFT241220C00405000 2023-04-06 13:53:39+00:00   405.0      10.00    9.50   \n",
      "51  MSFT241220C00410000 2023-04-05 16:16:00+00:00   410.0       9.30    7.55   \n",
      "52  MSFT241220C00415000 2023-04-11 17:57:44+00:00   415.0       8.91    8.00   \n",
      "53  MSFT241220C00420000 2023-04-11 19:52:16+00:00   420.0       8.25    6.25   \n",
      "\n",
      "       ask    change  percentChange  volume  openInterest  impliedVolatility  \\\n",
      "0   160.00  0.000000       0.000000     NaN             1           0.506536   \n",
      "1   150.00  0.000000       0.000000     1.0             1           0.533727   \n",
      "2   134.50  0.000000       0.000000    10.0             5           0.464819   \n",
      "3   128.55  0.000000       0.000000     NaN             2           0.481206   \n",
      "4   124.40  0.000000       0.000000     NaN           138           0.472204   \n",
      "5   120.45  0.000000       0.000000     NaN           152           0.465368   \n",
      "6   116.60  0.000000       0.000000     2.0           166           0.459310   \n",
      "7   112.20  0.000000       0.000000     2.0           114           0.446844   \n",
      "8   108.35  0.000000       0.000000    52.0            24           0.440237   \n",
      "9   104.30  0.000000       0.000000    80.0            81           0.431250   \n",
      "10  100.90  0.000000       0.000000     2.0             7           0.428473   \n",
      "11   97.75  0.000000       0.000000     8.0           113           0.427465   \n",
      "12   94.10  0.000000       0.000000    10.0            58           0.421179   \n",
      "13   91.00 -3.809998      -4.114024     2.0            52           0.419439   \n",
      "14   87.50  0.000000       0.000000     4.0            71           0.413656   \n",
      "15   83.05  0.000000       0.000000     4.0           173           0.399466   \n",
      "16   79.65  0.000000       0.000000    52.0            42           0.393957   \n",
      "17   76.25  0.000000       0.000000    10.0           150           0.388068   \n",
      "18   73.05 -4.250000      -5.566470     5.0           167           0.383383   \n",
      "19   71.00 -4.450005      -6.083396     2.0           152           0.387122   \n",
      "20   66.95 -5.020004      -7.152022    32.0            99           0.375006   \n",
      "21   63.85 -5.790001      -8.461203    38.0           268           0.369788   \n",
      "22   61.00 -0.959999      -1.586775    32.0           162           0.365988   \n",
      "23   58.05  0.000000       0.000000     2.0           160           0.361006   \n",
      "24   56.50  0.000000       0.000000     2.0           163           0.365561   \n",
      "25   53.50 -3.669998      -6.697077     1.0           161           0.359290   \n",
      "26   50.95 -3.950001      -7.287824    15.0            64           0.355750   \n",
      "27   46.55 -3.459999      -7.046842    13.0           116           0.338996   \n",
      "28   44.05 -1.150001      -2.513664     1.0            68           0.334998   \n",
      "29   41.65 -3.129997      -6.961738     6.0           289           0.331214   \n",
      "30   40.10  0.000000       0.000000    12.0            58           0.332755   \n",
      "31   38.50  0.000000       0.000000     1.0            49           0.333480   \n",
      "32   35.15  0.400002       1.147781    10.0            80           0.321815   \n",
      "33   33.20  0.000000       0.000000     4.0            84           0.319221   \n",
      "34   32.75  0.000000       0.000000     2.0           151           0.326423   \n",
      "35   29.30  0.000000       0.000000   202.0            83           0.312583   \n",
      "36   28.85  0.000000       0.000000    16.0           126           0.318992   \n",
      "37   26.55  0.000000       0.000000     7.0            60           0.312095   \n",
      "38   24.35 -2.740002     -10.262178    14.0            53           0.305351   \n",
      "39   22.90 -2.900000     -11.372547   108.0           672           0.303443   \n",
      "40   21.35 -2.769999     -11.677903    17.0           178           0.300346   \n",
      "41   21.15 -2.699999     -12.107619    67.0          1148           0.306770   \n",
      "42   18.80  0.000000       0.000000     2.0             4           0.296821   \n",
      "43   17.60  0.000000       0.000000     2.0           122           0.294959   \n",
      "44   16.35 -1.199999      -6.896545     4.0           126           0.292274   \n",
      "45   16.40  0.000000       0.000000     4.0            19           0.299552   \n",
      "46   14.75  0.000000       0.000000     6.0             8           0.292854   \n",
      "47   13.55  0.000000       0.000000     8.0           100           0.289253   \n",
      "48   12.50  0.000000       0.000000     9.0            54           0.286430   \n",
      "49   11.60  0.000000       0.000000    19.0            45           0.284462   \n",
      "50   10.80  0.000000       0.000000     1.0           230           0.282951   \n",
      "51   11.50  0.000000       0.000000    14.0          1026           0.295112   \n",
      "52   10.25 -1.640000     -15.545027    28.0           365           0.288948   \n",
      "53    9.35 -1.550000     -15.816328   964.0          1582           0.285514   \n",
      "\n",
      "    inTheMoney contractSize currency  \n",
      "0         True      REGULAR      USD  \n",
      "1         True      REGULAR      USD  \n",
      "2         True      REGULAR      USD  \n",
      "3         True      REGULAR      USD  \n",
      "4         True      REGULAR      USD  \n",
      "5         True      REGULAR      USD  \n",
      "6         True      REGULAR      USD  \n",
      "7         True      REGULAR      USD  \n",
      "8         True      REGULAR      USD  \n",
      "9         True      REGULAR      USD  \n",
      "10        True      REGULAR      USD  \n",
      "11        True      REGULAR      USD  \n",
      "12        True      REGULAR      USD  \n",
      "13        True      REGULAR      USD  \n",
      "14        True      REGULAR      USD  \n",
      "15        True      REGULAR      USD  \n",
      "16        True      REGULAR      USD  \n",
      "17        True      REGULAR      USD  \n",
      "18        True      REGULAR      USD  \n",
      "19        True      REGULAR      USD  \n",
      "20        True      REGULAR      USD  \n",
      "21        True      REGULAR      USD  \n",
      "22        True      REGULAR      USD  \n",
      "23        True      REGULAR      USD  \n",
      "24        True      REGULAR      USD  \n",
      "25        True      REGULAR      USD  \n",
      "26       False      REGULAR      USD  \n",
      "27       False      REGULAR      USD  \n",
      "28       False      REGULAR      USD  \n",
      "29       False      REGULAR      USD  \n",
      "30       False      REGULAR      USD  \n",
      "31       False      REGULAR      USD  \n",
      "32       False      REGULAR      USD  \n",
      "33       False      REGULAR      USD  \n",
      "34       False      REGULAR      USD  \n",
      "35       False      REGULAR      USD  \n",
      "36       False      REGULAR      USD  \n",
      "37       False      REGULAR      USD  \n",
      "38       False      REGULAR      USD  \n",
      "39       False      REGULAR      USD  \n",
      "40       False      REGULAR      USD  \n",
      "41       False      REGULAR      USD  \n",
      "42       False      REGULAR      USD  \n",
      "43       False      REGULAR      USD  \n",
      "44       False      REGULAR      USD  \n",
      "45       False      REGULAR      USD  \n",
      "46       False      REGULAR      USD  \n",
      "47       False      REGULAR      USD  \n",
      "48       False      REGULAR      USD  \n",
      "49       False      REGULAR      USD  \n",
      "50       False      REGULAR      USD  \n",
      "51       False      REGULAR      USD  \n",
      "52       False      REGULAR      USD  \n",
      "53       False      REGULAR      USD  \n",
      "         contractSymbol             lastTradeDate  strike  lastPrice     bid  \\\n",
      "0   MSFT250117C00110000 2023-03-30 13:37:39+00:00   110.0     176.50  176.05   \n",
      "1   MSFT250117C00115000 2023-03-30 19:11:34+00:00   115.0     174.00  172.00   \n",
      "2   MSFT250117C00120000 2023-03-16 16:20:04+00:00   120.0     162.00  167.55   \n",
      "3   MSFT250117C00125000 2023-02-23 19:58:19+00:00   125.0     138.55  160.50   \n",
      "4   MSFT250117C00130000 2023-04-03 17:28:49+00:00   130.0     161.50  158.55   \n",
      "..                  ...                       ...     ...        ...     ...   \n",
      "58  MSFT250117C00400000 2023-04-11 16:22:37+00:00   400.0      12.20   10.85   \n",
      "59  MSFT250117C00405000 2023-04-11 19:33:15+00:00   405.0      11.40   10.80   \n",
      "60  MSFT250117C00410000 2023-04-10 16:43:35+00:00   410.0      11.95   10.00   \n",
      "61  MSFT250117C00415000 2023-04-11 18:27:13+00:00   415.0       9.87    9.00   \n",
      "62  MSFT250117C00420000 2023-04-11 19:57:29+00:00   420.0       9.00    9.00   \n",
      "\n",
      "       ask    change  percentChange  volume  openInterest  impliedVolatility  \\\n",
      "0   180.90  0.000000       0.000000       1            55           0.547063   \n",
      "1   176.45  0.000000       0.000000      24            58           0.543034   \n",
      "2   171.75  0.000000       0.000000       3            57           0.530522   \n",
      "3   165.00  0.000000       0.000000       1             9           0.516454   \n",
      "4   163.30  0.000000       0.000000       2            16           0.514226   \n",
      "..     ...       ...            ...     ...           ...                ...   \n",
      "58   13.45 -1.900001     -13.475182      64          3958           0.294166   \n",
      "59   12.00 -1.850000     -13.962267       4            27           0.287483   \n",
      "60   12.50  0.000000       0.000000       1          4535           0.297523   \n",
      "61   10.65 -1.230001     -11.081085      82           390           0.286354   \n",
      "62   10.05 -1.850000     -17.050694      28          1843           0.286018   \n",
      "\n",
      "    inTheMoney contractSize currency  \n",
      "0         True      REGULAR      USD  \n",
      "1         True      REGULAR      USD  \n",
      "2         True      REGULAR      USD  \n",
      "3         True      REGULAR      USD  \n",
      "4         True      REGULAR      USD  \n",
      "..         ...          ...      ...  \n",
      "58       False      REGULAR      USD  \n",
      "59       False      REGULAR      USD  \n",
      "60       False      REGULAR      USD  \n",
      "61       False      REGULAR      USD  \n",
      "62       False      REGULAR      USD  \n",
      "\n",
      "[63 rows x 14 columns]\n",
      "         contractSymbol             lastTradeDate  strike  lastPrice     bid  \\\n",
      "0   MSFT250620C00115000 2023-03-10 20:59:47+00:00   115.0     143.35  181.00   \n",
      "1   MSFT250620C00120000 2023-02-10 19:21:38+00:00   120.0     150.40  136.50   \n",
      "2   MSFT250620C00125000 2023-02-15 15:59:39+00:00   125.0     152.00  159.50   \n",
      "3   MSFT250620C00130000 2023-03-10 20:59:47+00:00   130.0     131.09  168.50   \n",
      "4   MSFT250620C00135000 2023-03-13 14:50:29+00:00   135.0     128.75  156.50   \n",
      "..                  ...                       ...     ...        ...     ...   \n",
      "57  MSFT250620C00400000 2023-04-04 13:40:15+00:00   400.0      17.80   16.20   \n",
      "58  MSFT250620C00405000 2023-04-06 17:46:09+00:00   405.0      17.75   15.20   \n",
      "59  MSFT250620C00410000 2023-04-10 13:39:23+00:00   410.0      16.55   13.00   \n",
      "60  MSFT250620C00415000 2023-04-11 17:56:59+00:00   415.0      14.65   12.05   \n",
      "61  MSFT250620C00420000 2023-04-11 19:38:46+00:00   420.0      13.60   12.50   \n",
      "\n",
      "       ask    change  percentChange  volume  openInterest  impliedVolatility  \\\n",
      "0   186.00  0.000000       0.000000       3            31           0.656833   \n",
      "1   141.50  0.000000       0.000000       5            17           0.000010   \n",
      "2   163.90  0.000000       0.000000       2            35           0.442114   \n",
      "3   173.00  0.000000       0.000000       3            12           0.614323   \n",
      "4   161.00  0.000000       0.000000       2            30           0.523503   \n",
      "..     ...       ...            ...     ...           ...                ...   \n",
      "57   17.50  0.000000       0.000000       1            99           0.293952   \n",
      "58   16.55  0.000000       0.000000     421           210           0.292594   \n",
      "59   17.00  0.000000       0.000000       2           526           0.301124   \n",
      "60   14.70 -0.670000      -4.373369       2             1           0.289344   \n",
      "61   14.95 -1.559999     -10.290234      15            86           0.296226   \n",
      "\n",
      "    inTheMoney contractSize currency  \n",
      "0         True      REGULAR      USD  \n",
      "1         True      REGULAR      USD  \n",
      "2         True      REGULAR      USD  \n",
      "3         True      REGULAR      USD  \n",
      "4         True      REGULAR      USD  \n",
      "..         ...          ...      ...  \n",
      "57       False      REGULAR      USD  \n",
      "58       False      REGULAR      USD  \n",
      "59       False      REGULAR      USD  \n",
      "60       False      REGULAR      USD  \n",
      "61       False      REGULAR      USD  \n",
      "\n",
      "[62 rows x 14 columns]\n",
      "         contractSymbol             lastTradeDate  strike  lastPrice     bid  \\\n",
      "0   MSFT251219C00125000 2023-04-10 15:45:10+00:00   125.0     172.75  166.00   \n",
      "1   MSFT251219C00130000 2023-02-24 16:06:31+00:00   130.0     135.94  159.05   \n",
      "2   MSFT251219C00135000 2023-04-06 16:07:25+00:00   135.0     163.77  158.00   \n",
      "3   MSFT251219C00140000 2023-04-11 19:53:47+00:00   140.0     156.00  154.00   \n",
      "4   MSFT251219C00145000 2023-03-30 14:15:49+00:00   145.0     152.80  150.00   \n",
      "5   MSFT251219C00150000 2023-03-29 16:14:22+00:00   150.0     146.50  146.00   \n",
      "6   MSFT251219C00160000 2023-03-22 14:44:30+00:00   160.0     134.68  138.50   \n",
      "7   MSFT251219C00165000 2023-03-14 15:22:33+00:00   165.0     114.50  134.65   \n",
      "8   MSFT251219C00170000 2023-03-31 19:57:39+00:00   170.0     138.32  131.00   \n",
      "9   MSFT251219C00175000 2023-04-10 13:32:17+00:00   175.0     135.04  127.20   \n",
      "10  MSFT251219C00180000 2023-04-06 16:26:04+00:00   180.0     128.38  123.95   \n",
      "11  MSFT251219C00185000 2023-04-10 15:49:30+00:00   185.0     125.38  120.10   \n",
      "12  MSFT251219C00190000 2023-04-10 15:49:30+00:00   190.0     121.78  116.60   \n",
      "13  MSFT251219C00195000 2023-04-11 14:28:39+00:00   195.0     116.00  113.25   \n",
      "14  MSFT251219C00200000 2023-04-11 19:43:17+00:00   200.0     112.41  111.35   \n",
      "15  MSFT251219C00205000 2023-04-06 19:58:53+00:00   205.0     114.75  106.55   \n",
      "16  MSFT251219C00210000 2023-04-11 19:36:03+00:00   210.0     106.05  103.05   \n",
      "17  MSFT251219C00215000 2023-04-05 14:30:00+00:00   215.0     102.37   99.80   \n",
      "18  MSFT251219C00220000 2023-04-11 17:26:58+00:00   220.0     100.75   96.70   \n",
      "19  MSFT251219C00225000 2023-04-06 15:18:40+00:00   225.0      96.22   93.65   \n",
      "20  MSFT251219C00230000 2023-04-10 18:07:12+00:00   230.0      97.01   90.10   \n",
      "21  MSFT251219C00235000 2023-04-10 17:55:51+00:00   235.0      93.43   86.55   \n",
      "22  MSFT251219C00240000 2023-04-10 17:55:51+00:00   240.0      90.13   83.70   \n",
      "23  MSFT251219C00245000 2023-04-10 16:34:51+00:00   245.0      86.42   80.85   \n",
      "24  MSFT251219C00250000 2023-04-11 19:43:17+00:00   250.0      80.81   80.10   \n",
      "25  MSFT251219C00255000 2023-04-06 18:55:19+00:00   255.0      82.20   75.95   \n",
      "26  MSFT251219C00260000 2023-04-11 17:12:51+00:00   260.0      76.00   72.05   \n",
      "27  MSFT251219C00265000 2023-04-04 18:29:00+00:00   265.0      73.61   70.15   \n",
      "28  MSFT251219C00270000 2023-04-10 15:46:43+00:00   270.0      72.13   67.35   \n",
      "29  MSFT251219C00275000 2023-04-11 18:08:43+00:00   275.0      66.87   65.40   \n",
      "30  MSFT251219C00280000 2023-04-11 18:32:41+00:00   280.0      65.18   63.10   \n",
      "31  MSFT251219C00285000 2023-04-11 19:13:25+00:00   285.0      62.00   60.00   \n",
      "32  MSFT251219C00290000 2023-04-11 18:59:15+00:00   290.0      60.00   58.30   \n",
      "33  MSFT251219C00295000 2023-04-11 19:40:13+00:00   295.0      57.00   54.90   \n",
      "34  MSFT251219C00300000 2023-04-11 13:41:46+00:00   300.0      54.86   54.80   \n",
      "35  MSFT251219C00305000 2023-04-11 14:47:36+00:00   305.0      51.64   50.95   \n",
      "36  MSFT251219C00310000 2023-04-11 15:44:50+00:00   310.0      49.13   49.10   \n",
      "37  MSFT251219C00315000 2023-04-05 14:40:26+00:00   315.0      47.20   46.90   \n",
      "38  MSFT251219C00320000 2023-04-10 15:07:38+00:00   320.0      48.85   45.00   \n",
      "39  MSFT251219C00325000 2023-04-11 17:31:08+00:00   325.0      44.87   42.75   \n",
      "40  MSFT251219C00330000 2023-04-10 14:50:00+00:00   330.0      44.45   41.45   \n",
      "41  MSFT251219C00335000 2023-03-31 18:06:33+00:00   335.0      42.50   39.40   \n",
      "42  MSFT251219C00340000 2023-04-04 15:25:28+00:00   340.0      40.15   37.60   \n",
      "43  MSFT251219C00345000 2023-04-03 16:45:54+00:00   345.0      37.85   35.25   \n",
      "44  MSFT251219C00350000 2023-04-06 19:55:51+00:00   350.0      38.50   35.00   \n",
      "45  MSFT251219C00355000 2023-04-10 19:05:39+00:00   355.0      36.32   32.60   \n",
      "46  MSFT251219C00360000 2023-04-11 15:26:04+00:00   360.0      32.11   30.95   \n",
      "47  MSFT251219C00365000 2023-03-30 16:06:10+00:00   365.0      30.65   29.70   \n",
      "48  MSFT251219C00370000 2023-04-03 17:51:59+00:00   370.0      29.80   28.75   \n",
      "49  MSFT251219C00375000 2023-04-04 15:55:26+00:00   375.0      30.30   27.15   \n",
      "50  MSFT251219C00380000 2023-03-30 16:06:58+00:00   380.0      26.10   26.10   \n",
      "51  MSFT251219C00385000 2023-03-30 15:39:55+00:00   385.0      25.25   24.95   \n",
      "52  MSFT251219C00390000 2023-04-10 17:20:43+00:00   390.0      28.10   23.80   \n",
      "53  MSFT251219C00400000 2023-04-11 19:58:34+00:00   400.0      23.00   22.00   \n",
      "54  MSFT251219C00405000 2023-04-10 13:55:36+00:00   405.0      22.50   19.15   \n",
      "55  MSFT251219C00410000 2023-04-11 13:43:36+00:00   410.0      20.50   20.00   \n",
      "56  MSFT251219C00415000 2023-04-10 18:06:45+00:00   415.0      21.10   17.80   \n",
      "57  MSFT251219C00420000 2023-04-11 19:13:55+00:00   420.0      18.80   16.50   \n",
      "\n",
      "       ask    change  percentChange  volume  openInterest  impliedVolatility  \\\n",
      "0   170.50  0.000000       0.000000     2.0            42           0.504949   \n",
      "1   163.80  0.000000       0.000000     1.0             1           0.460851   \n",
      "2   162.50  0.000000       0.000000     5.0            16           0.492132   \n",
      "3   158.50 -3.750000      -2.347418     4.0            25           0.485265   \n",
      "4   155.00  0.000000       0.000000     1.0             2           0.483983   \n",
      "5   151.00  0.000000       0.000000     1.0            16           0.476430   \n",
      "6   143.00  0.000000       0.000000     2.0             7           0.460897   \n",
      "7   139.45  0.000000       0.000000     NaN             0           0.457388   \n",
      "8   135.50  0.000000       0.000000     1.0             9           0.449682   \n",
      "9   131.90  0.000000       0.000000     1.0             7           0.445043   \n",
      "10  128.00  0.000000       0.000000     4.0             9           0.437475   \n",
      "11  124.45  0.000000       0.000000     2.0            17           0.432760   \n",
      "12  120.90  0.000000       0.000000     2.0             4           0.427771   \n",
      "13  117.50  1.260002       1.098137     7.0             9           0.423712   \n",
      "14  113.75 -4.429993      -3.791504     5.0            60           0.416632   \n",
      "15  110.15  0.000000       0.000000     1.0            24           0.410559   \n",
      "16  107.25  1.550003       1.483256     1.0            49           0.409414   \n",
      "17  103.95  0.000000       0.000000     1.0             7           0.404989   \n",
      "18  100.30  8.699997       9.451381     2.0            81           0.397864   \n",
      "19   97.20  0.000000       0.000000     7.0            41           0.394339   \n",
      "20   94.10  0.000000       0.000000    17.0           194           0.390524   \n",
      "21   90.60  0.000000       0.000000    10.0            13           0.383841   \n",
      "22   88.35  0.000000       0.000000    10.0            67           0.384955   \n",
      "23   85.45  0.000000       0.000000     1.0            12           0.381552   \n",
      "24   82.30 -3.340004      -3.969108     8.0           279           0.376334   \n",
      "25   79.45  0.000000       0.000000     5.0            66           0.372710   \n",
      "26   76.00 -3.000000      -3.797468     1.0           156           0.365248   \n",
      "27   73.40  0.000000       0.000000     1.0           135           0.362624   \n",
      "28   70.80  0.000000       0.000000    11.0           221           0.359702   \n",
      "29   68.00 -4.129997      -5.816897     1.0            78           0.355368   \n",
      "30   65.65 -3.570000      -5.192727    35.0           613           0.353324   \n",
      "31   63.85 -2.330002      -3.621952    14.0           102           0.354071   \n",
      "32   61.35 -2.000000      -3.225806     3.0           181           0.350592   \n",
      "33   59.00 -2.200001      -3.716217     2.0            83           0.347693   \n",
      "34   55.30 -4.139999      -7.016948     3.0           222           0.337111   \n",
      "35   53.75 -4.990002      -8.811587     1.0           108           0.338073   \n",
      "36   52.05 -5.469997     -10.018311     4.0            46           0.337920   \n",
      "37   50.35  0.000000       0.000000     2.0            25           0.337485   \n",
      "38   47.60  0.000000       0.000000     1.0            51           0.331092   \n",
      "39   45.70 -1.380001      -2.983786     1.0            37           0.329047   \n",
      "40   44.25  0.000000       0.000000     1.0            32           0.329154   \n",
      "41   41.95  0.000000       0.000000   321.0           362           0.324409   \n",
      "42   40.50  0.000000       0.000000     2.0            77           0.324012   \n",
      "43   38.70  0.000000       0.000000     3.0            44           0.321448   \n",
      "44   37.45  0.000000       0.000000     6.0           149           0.321632   \n",
      "45   35.30  0.000000       0.000000     1.0            16           0.316642   \n",
      "46   33.85 -1.639999      -4.859258     2.0            46           0.315223   \n",
      "47   32.75  0.000000       0.000000     NaN             5           0.315513   \n",
      "48   30.90  0.000000       0.000000     1.0             9           0.311378   \n",
      "49   30.15  0.000000       0.000000    86.0            75           0.313178   \n",
      "50   28.65  0.000000       0.000000     6.0            66           0.310523   \n",
      "51   27.45  0.000000       0.000000     NaN            28           0.309333   \n",
      "52   26.05  0.000000       0.000000     5.0           198           0.306747   \n",
      "53   23.65 -1.500000      -6.122449    23.0           185           0.303184   \n",
      "54   23.40  0.000000       0.000000     1.0             2           0.306770   \n",
      "55   22.50  1.500000       7.894736     1.0           165           0.306297   \n",
      "56   20.85  0.000000       0.000000    10.0            27           0.300987   \n",
      "57   20.00 -1.500000      -7.389163     7.0           430           0.300369   \n",
      "\n",
      "    inTheMoney contractSize currency  \n",
      "0         True      REGULAR      USD  \n",
      "1         True      REGULAR      USD  \n",
      "2         True      REGULAR      USD  \n",
      "3         True      REGULAR      USD  \n",
      "4         True      REGULAR      USD  \n",
      "5         True      REGULAR      USD  \n",
      "6         True      REGULAR      USD  \n",
      "7         True      REGULAR      USD  \n",
      "8         True      REGULAR      USD  \n",
      "9         True      REGULAR      USD  \n",
      "10        True      REGULAR      USD  \n",
      "11        True      REGULAR      USD  \n",
      "12        True      REGULAR      USD  \n",
      "13        True      REGULAR      USD  \n",
      "14        True      REGULAR      USD  \n",
      "15        True      REGULAR      USD  \n",
      "16        True      REGULAR      USD  \n",
      "17        True      REGULAR      USD  \n",
      "18        True      REGULAR      USD  \n",
      "19        True      REGULAR      USD  \n",
      "20        True      REGULAR      USD  \n",
      "21        True      REGULAR      USD  \n",
      "22        True      REGULAR      USD  \n",
      "23        True      REGULAR      USD  \n",
      "24        True      REGULAR      USD  \n",
      "25        True      REGULAR      USD  \n",
      "26        True      REGULAR      USD  \n",
      "27        True      REGULAR      USD  \n",
      "28        True      REGULAR      USD  \n",
      "29        True      REGULAR      USD  \n",
      "30        True      REGULAR      USD  \n",
      "31       False      REGULAR      USD  \n",
      "32       False      REGULAR      USD  \n",
      "33       False      REGULAR      USD  \n",
      "34       False      REGULAR      USD  \n",
      "35       False      REGULAR      USD  \n",
      "36       False      REGULAR      USD  \n",
      "37       False      REGULAR      USD  \n",
      "38       False      REGULAR      USD  \n",
      "39       False      REGULAR      USD  \n",
      "40       False      REGULAR      USD  \n",
      "41       False      REGULAR      USD  \n",
      "42       False      REGULAR      USD  \n",
      "43       False      REGULAR      USD  \n",
      "44       False      REGULAR      USD  \n",
      "45       False      REGULAR      USD  \n",
      "46       False      REGULAR      USD  \n",
      "47       False      REGULAR      USD  \n",
      "48       False      REGULAR      USD  \n",
      "49       False      REGULAR      USD  \n",
      "50       False      REGULAR      USD  \n",
      "51       False      REGULAR      USD  \n",
      "52       False      REGULAR      USD  \n",
      "53       False      REGULAR      USD  \n",
      "54       False      REGULAR      USD  \n",
      "55       False      REGULAR      USD  \n",
      "56       False      REGULAR      USD  \n",
      "57       False      REGULAR      USD  \n"
     ]
    },
    {
     "ename": "ModuleNotFoundError",
     "evalue": "No module named 'Quantapp.Algorithms'",
     "output_type": "error",
     "traceback": [
      "\u001b[1;31m---------------------------------------------------------------------------\u001b[0m",
      "\u001b[1;31mModuleNotFoundError\u001b[0m                       Traceback (most recent call last)",
      "\u001b[1;32mc:\\Users\\kevin\\Dropbox\\Code\\Notebooks\\Projects\\Analysis_Portfolio.ipynb Cell 10\u001b[0m in \u001b[0;36m<cell line: 15>\u001b[1;34m()\u001b[0m\n\u001b[0;32m     <a href='vscode-notebook-cell:/c%3A/Users/kevin/Dropbox/Code/Notebooks/Projects/Analysis_Portfolio.ipynb#X12sZmlsZQ%3D%3D?line=12'>13</a>\u001b[0m \u001b[39mimport\u001b[39;00m \u001b[39mpandas\u001b[39;00m \u001b[39mas\u001b[39;00m \u001b[39mpd\u001b[39;00m\n\u001b[0;32m     <a href='vscode-notebook-cell:/c%3A/Users/kevin/Dropbox/Code/Notebooks/Projects/Analysis_Portfolio.ipynb#X12sZmlsZQ%3D%3D?line=13'>14</a>\u001b[0m \u001b[39mimport\u001b[39;00m \u001b[39myfinance\u001b[39;00m \u001b[39mas\u001b[39;00m \u001b[39myf\u001b[39;00m\n\u001b[1;32m---> <a href='vscode-notebook-cell:/c%3A/Users/kevin/Dropbox/Code/Notebooks/Projects/Analysis_Portfolio.ipynb#X12sZmlsZQ%3D%3D?line=14'>15</a>\u001b[0m \u001b[39mfrom\u001b[39;00m \u001b[39mQuantapp\u001b[39;00m\u001b[39m.\u001b[39;00m\u001b[39mAlgorithms\u001b[39;00m \u001b[39mimport\u001b[39;00m Algorithms\n\u001b[0;32m     <a href='vscode-notebook-cell:/c%3A/Users/kevin/Dropbox/Code/Notebooks/Projects/Analysis_Portfolio.ipynb#X12sZmlsZQ%3D%3D?line=15'>16</a>\u001b[0m data \u001b[39m=\u001b[39m yf\u001b[39m.\u001b[39mTicker(\u001b[39m'\u001b[39m\u001b[39mSPY\u001b[39m\u001b[39m'\u001b[39m)\n\u001b[0;32m     <a href='vscode-notebook-cell:/c%3A/Users/kevin/Dropbox/Code/Notebooks/Projects/Analysis_Portfolio.ipynb#X12sZmlsZQ%3D%3D?line=16'>17</a>\u001b[0m algorithms \u001b[39m=\u001b[39m Algorithms()\n",
      "\u001b[1;31mModuleNotFoundError\u001b[0m: No module named 'Quantapp.Algorithms'"
     ]
    }
   ],
   "source": [
    "#Options Portfolio\n",
    "\n",
    "import yfinance as yf\n",
    "msft = yf.Ticker(\"MSFT\")\n",
    "msft.options\n",
    "\n",
    "for expiration in msft.options:\n",
    "    print(msft.option_chain(expiration).calls)\n",
    "\n",
    "# The usual py_vollib syntax\n",
    "\n",
    "import numpy as np\n",
    "import pandas as pd\n",
    "import yfinance as yf\n",
    "from Quantapp.Algorithms import Algorithms\n",
    "data = yf.Ticker('SPY')\n",
    "algorithms = Algorithms()\n",
    "\n",
    "from py_vollib.black_scholes.greeks.analytical import *\n",
    "from py_vollib.black_scholes.implied_volatility import implied_volatility as iv\n",
    "from py_vollib.black_scholes import *\n",
    "\n",
    "\n",
    "\n",
    "option_chain = data.option_chain()\n",
    "\n",
    "strike_list = option_chain.calls['strike']\n",
    "current_price = data.history(period='5y', interval='1D').iloc[-1]['Close']\n",
    "volatility = algorithms.rolling(algorithms.standard_deviation, 200, data.history(period='1Y', interval='1D')['Close'])\n",
    "sigma= volatility.iloc[-1] \n",
    "sigma /=10\n",
    "sigma /=10\n",
    "flag = 'c'  # 'c' for call, 'p' for put\n",
    "F = 100  # Underlying asset price\n",
    "K = 90  # Strike\n",
    "t = 0.5  # (Annualized) time-to-expiration\n",
    "r = 0.01  # Interest free rate\n",
    "\n",
    "delta_list = []\n",
    "gamma_list = []\n",
    "theta_list = []\n",
    "vega_list  = []\n",
    "rho_list  = []\n",
    "implied_volatility_list = []\n",
    "price_list = []\n",
    "\n",
    "for strike in strike_list:\n",
    "    delta_list.append(delta(flag, current_price, strike, t, r, sigma))\n",
    "    gamma_list.append(gamma(flag, current_price, strike, t, r, sigma))\n",
    "    theta_list.append(theta(flag, current_price, strike, t, r, sigma))\n",
    "    vega_list.append(vega(flag, current_price, strike, t, r, sigma))\n",
    "    rho_list.append(rho(flag, current_price, strike, t, r, sigma))\n",
    "    price = black_scholes(flag, current_price, strike, t, r, sigma)\n",
    "    price_list.append(price)\n",
    "    implied_volatility_list.append(iv(price, current_price, strike, t, r, flag))\n",
    "  \n",
    "greeks = {\n",
    "    'strike': strike_list,\n",
    "    'delta': delta_list,\n",
    "    'gamma': gamma_list,\n",
    "    'theta': theta_list,\n",
    "    'vega' : vega_list,\n",
    "    'rho': rho_list,\n",
    "    'IV': implied_volatility_list,\n",
    "    'price': price_list,\n",
    "}\n",
    "\n",
    "\n",
    "df = pd.DataFrame(greeks)\n",
    "df.index = strike_list\n",
    "\n",
    "df\n",
    "#gamma(flag, F, K, t, r, sigma)"
   ]
  }
 ],
 "metadata": {
  "kernelspec": {
   "display_name": "Python 3.9.12 ('base')",
   "language": "python",
   "name": "python3"
  },
  "language_info": {
   "codemirror_mode": {
    "name": "ipython",
    "version": 3
   },
   "file_extension": ".py",
   "mimetype": "text/x-python",
   "name": "python",
   "nbconvert_exporter": "python",
   "pygments_lexer": "ipython3",
   "version": "3.9.12"
  },
  "vscode": {
   "interpreter": {
    "hash": "6defd577cd85e3649e86c46a537635b7104b081260a238509c81cac8b534171b"
   }
  }
 },
 "nbformat": 4,
 "nbformat_minor": 5
}
