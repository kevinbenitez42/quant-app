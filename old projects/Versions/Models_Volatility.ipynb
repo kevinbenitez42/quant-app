{
 "cells": [
  {
   "cell_type": "code",
   "execution_count": null,
   "metadata": {},
   "outputs": [],
   "source": [
    "#LOAD DATA\n",
    "from dataclasses import dataclass\n",
    "import plotly.express as px\n",
    "from plotly.subplots import make_subplots\n",
    "from plotly import graph_objects as go\n",
    "import matplotlib.pyplot as plt\n",
    "from collections import Counter\n",
    "from IPython.display import display\n",
    "from sklearn.preprocessing import StandardScaler\n",
    "\n",
    "plt.rcParams[\"figure.figsize\"] = (20, 7)\n",
    "\n",
    "import yfinance as yf\n",
    "import pandas as pd\n",
    "import numpy as np\n",
    "from statsmodels.tsa.stattools import coint\n",
    "#from numpy_ext import rolling_apply\n",
    "from arch import arch_model\n",
    "\n",
    "#from Quantapp.Algorithm   import Algorithm\n",
    "#from Quantapp.Computation import Computation\n",
    "#from Quantapp.Plot        import Plot\n",
    "#from Quantapp.DataManager import DataManager\n",
    "#from Quantapp.Universe    import Universe\n",
    "\n",
    "time_frames = [10]\n",
    "\n",
    "csv_file_paths = [\n",
    "    'csv_files/S&P 500.csv',\n",
    "]\n",
    "\n",
    "\n",
    "period = '1y'\n",
    "interval='1d'\n",
    "# Retrieve benchmark data using yfinance\n",
    "benchmark_ticker = 'SPY'\n",
    "benchmark = yf.download(benchmark_ticker, period=period, interval=interval)\n",
    "benchmark_returns = benchmark['Close'].pct_change().fillna(0)\n",
    "\n",
    "# Retrieve risk-free rate data using yfinance\n",
    "rf_ticker = '^IRX'\n",
    "rf_data = yf.download(rf_ticker, period=period, interval=interval)\n",
    "rf = rf_data['Close'].pct_change().fillna(0)  # Convert to returns\n",
    "\n",
    "# If the data needs to be reindexed like benchmark\n",
    "rf = rf.reindex_like(benchmark_returns)\n"
   ]
  },
  {
   "cell_type": "code",
   "execution_count": null,
   "metadata": {},
   "outputs": [],
   "source": [
    "\"\"\"\n",
    "market_sd = comp.rolling_windows(algorithm.standard_deviation,time_frames, benchmark['Close']) \n",
    "market_yz = comp.rolling_windows(algorithm.yang_zhang_volatility,time_frames, benchmark) \n",
    "metrics = pd.concat([market_sd, market_yz], axis=1).fillna(0)\n",
    "\n",
    "scaler = StandardScaler()\n",
    "scaler.fit(metrics)\n",
    "\n",
    "standardized_metrics = pd.DataFrame(scaler.transform(metrics), columns=metrics.columns)\n",
    "\n",
    "standardized_metrics\n",
    "#px.addhline(y=0)\n",
    "#market_sd.plot(title='Standard Deviation')\n",
    "#market_yz.plot(title='Yang Zhang')\n",
    "#standardized_metrics.plot()\"\"\""
   ]
  },
  {
   "cell_type": "code",
   "execution_count": null,
   "metadata": {},
   "outputs": [],
   "source": [
    "#am = arch_model(returns, p=1, o=1, q=1, power=1.0, dist=\"StudentsT\")\n",
    "arch_models = {}\n",
    "\n",
    "arch_models['garch']      = arch_model(benchmark_returns)\n",
    "arch_models['egarch']     = arch_model(benchmark_returns,vol='EGARCH')\n",
    "arch_models['gjrgarch']   = arch_model(benchmark_returns, p=1, o=1, q=1)\n",
    "arch_models['tgarch']     = arch_model(benchmark_returns, p=1, o=1, q=1, power=1.0)\n",
    "arch_models['studenttgarch']   = arch_model(benchmark_returns, p=1, o=1, q=1, power=1.0, dist=\"StudentsT\")\n",
    "\n",
    "arch_model_results = {}\n",
    "\n",
    "for key, value in arch_models.items():\n",
    "    arch_model_results[key] = value.fit(disp=\"off\")\n",
    "\n",
    "arch_model_results[\"garch\"].plot()\n",
    "arch_model_results[\"gjrgarch\"].plot()\n",
    "#results = garch.fit(disp=off)\n",
    "#results.summary()\n",
    "#results.plot()"
   ]
  },
  {
   "cell_type": "code",
   "execution_count": null,
   "metadata": {},
   "outputs": [],
   "source": []
  }
 ],
 "metadata": {
  "kernelspec": {
   "display_name": "base",
   "language": "python",
   "name": "python3"
  },
  "language_info": {
   "codemirror_mode": {
    "name": "ipython",
    "version": 3
   },
   "file_extension": ".py",
   "mimetype": "text/x-python",
   "name": "python",
   "nbconvert_exporter": "python",
   "pygments_lexer": "ipython3",
   "version": "3.12.4"
  },
  "orig_nbformat": 4
 },
 "nbformat": 4,
 "nbformat_minor": 2
}
