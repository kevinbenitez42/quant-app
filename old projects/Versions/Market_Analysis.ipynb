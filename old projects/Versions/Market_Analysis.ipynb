{
 "cells": [
  {
   "cell_type": "code",
   "execution_count": 13,
   "metadata": {},
   "outputs": [
    {
     "name": "stderr",
     "output_type": "stream",
     "text": [
      "C:\\Users\\kevin\\AppData\\Local\\Temp\\ipykernel_15944\\2752965126.py:110: FutureWarning:\n",
      "\n",
      "'M' is deprecated and will be removed in a future version, please use 'ME' instead.\n",
      "\n"
     ]
    }
   ],
   "source": [
    "from Quantapp.DataManager import DataManager\n",
    "import numpy as np\n",
    "import json\n",
    "import os\n",
    "import pandas as pd\n",
    "import yfinance as yf\n",
    "import statsmodels.api as sm\n",
    "from statsmodels.tsa.stattools import coint\n",
    "from IPython.display import display\n",
    "from concurrent.futures import ThreadPoolExecutor\n",
    "import matplotlib.pyplot as plt\n",
    "import plotly.express as px\n",
    "import plotly.graph_objects as go\n",
    "from plotly.subplots import make_subplots\n",
    "from datetime import datetime\n",
    "from plotly.subplots import make_subplots\n",
    "\n",
    "# Parameters\n",
    "sp500_url = 'https://en.wikipedia.org/wiki/List_of_S%26P_500_companies'\n",
    "dow_url = 'https://en.wikipedia.org/wiki/Dow_Jones_Industrial_Average'\n",
    "nasdaq_url = 'https://en.wikipedia.org/wiki/NASDAQ-100'\n",
    "\n",
    "time_frame_week = 7\n",
    "time_frame_short = 21\n",
    "time_frame_mid   = 50\n",
    "time_frame_long = 200\n",
    "period     = '5y'\n",
    "\n",
    "risk_free_rate = 0.02 / 252  # Annualized risk-free rate divided by trading days\n",
    "benchmark = 'SPY'\n",
    "\n",
    "\n",
    "\n",
    "dm = DataManager()\n",
    "interval = '1d'\n",
    "\n",
    "def plot_returns(series_returns):\n",
    "    negative_returns = series_returns[series_returns<0]\n",
    "    mean = negative_returns.mean()\n",
    "    standard_deviation = negative_returns.std()\n",
    "    standard_deviation_level_three_fourths = mean - .5 * standard_deviation\n",
    "    standard_deviation_level_single        = mean - standard_deviation\n",
    "    \n",
    "    fig = px.line(series_returns)\n",
    "\n",
    "    fig.add_hline(y=0, line_dash=\"dash\", line_color=\"black\", \n",
    "                annotation_text=\"Zero Line\", annotation_position=\"bottom right\")\n",
    "    fig.add_hline(y=mean, line_dash=\"dot\", line_color=\"blue\", \n",
    "                annotation_text=f\"Mean of negative returns: {mean:.2f}\", annotation_position=\"top right\")\n",
    "    fig.add_hline(y=standard_deviation_level_three_fourths , line_dash=\"dashdot\", line_color=\"red\", \n",
    "                annotation_text=f\".75 Std Dev: {standard_deviation_level_three_fourths :.2f}\", annotation_position=\"top right\")\n",
    "    fig.add_hline(y=standard_deviation_level_single, line_dash=\"dashdot\", line_color=\"red\", \n",
    "                annotation_text=f\"1 Std Dev: {standard_deviation_level_single:.2f}\", annotation_position=\"top right\")\n",
    "\n",
    "    fig.add_shape(\n",
    "        type=\"rect\",\n",
    "        x0=series_returns.index.min(),\n",
    "        x1=series_returns.index.max(),\n",
    "        y0=standard_deviation_level_three_fourths,\n",
    "        y1=standard_deviation_level_single,\n",
    "        fillcolor=\"green\",\n",
    "        opacity=0.2,\n",
    "        line_width=0,\n",
    "    )\n",
    "\n",
    "    return fig\n",
    "\n",
    "def create_spread_plot(asset_spreads):\n",
    "    spread_threshold = 0\n",
    "    spread           = asset_spreads\n",
    "    mean             = spread[spread>=0].mean()\n",
    "    std_dev = spread[spread >= 0].std()\n",
    "    #spread = asset_spreads[:200]\n",
    "\n",
    "\n",
    "    fig = px.line(spread)\n",
    "    fig.update_layout(title=asset_spreads.name)\n",
    "    fig.add_hline(y=spread_threshold, line_dash=\"dash\", line_color=\"red\", annotation_text=f\"y={spread_threshold}\")\n",
    "    fig.add_hline(y=mean , line_color=\"red\", annotation_text=\"mean\")\n",
    "    fig.add_hline(y=mean + std_dev, line_dash=\"dash\", line_color=\"blue\", \n",
    "                  annotation_text=\"mean + 1 std dev\", annotation_position=\"bottom right\")\n",
    "    fig.add_hline(y=mean - std_dev, line_dash=\"dash\", line_color=\"blue\", \n",
    "                  annotation_text=\"mean - 1 std dev\", annotation_position=\"bottom right\")\n",
    "    fig.add_hline(y=mean + 2*std_dev, line_dash=\"dot\", line_color=\"green\", \n",
    "                  annotation_text=\"mean + 2 std dev\", annotation_position=\"bottom right\")\n",
    "    fig.add_hline(y=mean - 2*std_dev, line_dash=\"dot\", line_color=\"green\", \n",
    "                  annotation_text=\"mean - 2 std dev\", annotation_position=\"bottom right\")\n",
    "    fig.add_shape(type=\"rect\",\n",
    "                  xref=\"paper\", yref=\"y\",\n",
    "                  x0=0, y0=mean+std_dev, x1=1, y1=spread.max(),\n",
    "                  fillcolor=\"green\", opacity=0.2, line_width=0)\n",
    "    fig.update_layout(height=800)\n",
    "    return fig\\\n",
    "\n",
    "\n",
    "\n",
    "\n",
    "def add_labels(df):\n",
    "    df['name of day'] = df.index.day_name()\n",
    "    df['name of month'] = df.index.month_name()\n",
    "    df['month/day'] = df.index.strftime('%m/%d') \n",
    "    return df\n",
    "\n",
    "def calculate_monthly_returns(data):\n",
    "    # Ensure DateTime index\n",
    "    if not isinstance(data.index, pd.DatetimeIndex):\n",
    "        data.index = pd.to_datetime(data.index)\n",
    "    \n",
    "    # Resample to monthly frequency, taking the last observation of each month\n",
    "    monthly_data = data.resample('M').last()\n",
    "    \n",
    "    # Calculate monthly returns\n",
    "    monthly_returns = monthly_data['Close'].pct_change().dropna()\n",
    "    \n",
    "    return monthly_returns\n",
    "\n",
    "def plot_seasonality(data, title):\n",
    "    # Ensure the index is a DateTimeIndex\n",
    "    if not isinstance(data.index, pd.DatetimeIndex):\n",
    "        data.index = pd.to_datetime(data.index)\n",
    "    \n",
    "    # Extract month and calculate average returns for each month\n",
    "    monthly_avg_returns = data.groupby(data.index.month).mean()\n",
    "    \n",
    "    # Define month names\n",
    "    months = ['Jan', 'Feb', 'Mar', 'Apr', 'May', 'Jun', 'Jul', 'Aug', 'Sep', 'Oct', 'Nov', 'Dec']\n",
    "    \n",
    "    # Create a bar plot\n",
    "    fig = px.bar(x=months, y=monthly_avg_returns, title=title, labels={'x': 'Month', 'y': 'Average Monthly Return'})\n",
    "    \n",
    "    # Highlight the current month\n",
    "    current_date = datetime.now()\n",
    "    current_month_index = current_date.month - 1  # 0-based index for months\n",
    "    fig.update_traces(marker_color=['red' if i == current_month_index else 'blue' for i in range(12)])\n",
    "\n",
    "    return fig\n",
    "# Function to convert figure to traces and extract layout information\n",
    "def extract_fig_components(fig):\n",
    "    traces = fig.data\n",
    "    layout = fig.layout\n",
    "    return traces, layout\n",
    "\n",
    "# Function to add traces, layout components, and a vertical line to subplots\n",
    "def add_fig_to_subplot(fig, traces, layout, row, col):\n",
    "    for trace in traces:\n",
    "        fig.add_trace(trace, row=row, col=col)\n",
    "    \n",
    "    # Transfer annotations\n",
    "    for annotation in layout.annotations:\n",
    "        fig.add_annotation(annotation.update(xref='paper', yref='paper', x=(col-1)*0.5 + 0.25, y=1 - (row-1)*0.5 - 0.25))\n",
    "\n",
    "    # Transfer shapes\n",
    "    for shape in layout.shapes:\n",
    "        fig.add_shape(shape.update(xref='paper', yref='paper'))\n",
    "    \n",
    "    # Add vertical line to current month\n",
    "    months = ['Jan', 'Feb', 'Mar', 'Apr', 'May', 'Jun', 'Jul', 'Aug', 'Sep', 'Oct', 'Nov', 'Dec']\n",
    "    current_date = datetime.now()\n",
    "    current_month = months[current_date.month - 1]\n",
    "\n",
    "\n",
    "\n",
    "sp500 = dm.retrieve_ticker_data('SPY', period=period,interval=interval).drop(['Dividends', 'Stock Splits','Capital Gains'],axis=1)\n",
    "nasdaq = dm.retrieve_ticker_data('QQQ', period=period,interval=interval).drop(['Dividends', 'Stock Splits','Capital Gains'],axis=1)\n",
    "russell_2000 = dm.retrieve_ticker_data('IWM', period=period,interval=interval).drop(['Dividends', 'Stock Splits','Capital Gains'],axis=1)\n",
    "dija = dm.retrieve_ticker_data('DIA', period=period,interval=interval).drop(['Dividends', 'Stock Splits','Capital Gains'],axis=1)\n",
    "uso = dm.retrieve_ticker_data('USO', period=period, interval=interval).drop(['Dividends', 'Stock Splits', 'Capital Gains'], axis=1)\n",
    "vnq = dm.retrieve_ticker_data('VNQ', period=period, interval=interval).drop(['Dividends', 'Stock Splits', 'Capital Gains'], axis=1)\n",
    "xlc = dm.retrieve_ticker_data('XLC', period=period, interval=interval).drop(['Dividends', 'Stock Splits', 'Capital Gains'], axis=1)\n",
    "xlb = dm.retrieve_ticker_data('XLB', period=period, interval=interval).drop(['Dividends', 'Stock Splits', 'Capital Gains'], axis=1)\n",
    "xli = dm.retrieve_ticker_data('XLI', period=period, interval=interval).drop(['Dividends', 'Stock Splits', 'Capital Gains'], axis=1)\n",
    "xlf = dm.retrieve_ticker_data('XLF', period=period, interval=interval).drop(['Dividends', 'Stock Splits', 'Capital Gains'], axis=1)\n",
    "xlp = dm.retrieve_ticker_data('XLP', period=period, interval=interval).drop(['Dividends', 'Stock Splits', 'Capital Gains'], axis=1)\n",
    "xlu = dm.retrieve_ticker_data('XLU', period=period, interval=interval).drop(['Dividends', 'Stock Splits', 'Capital Gains'], axis=1)\n",
    "xlv = dm.retrieve_ticker_data('XLV', period=period, interval=interval).drop(['Dividends', 'Stock Splits', 'Capital Gains'], axis=1)\n",
    "xly = dm.retrieve_ticker_data('XLY', period=period, interval=interval).drop(['Dividends', 'Stock Splits', 'Capital Gains'], axis=1)\n",
    "xlk = dm.retrieve_ticker_data('XLK', period=period, interval=interval).drop(['Dividends', 'Stock Splits', 'Capital Gains'], axis=1)\n",
    "xlre = dm.retrieve_ticker_data('XLRE', period=period, interval=interval).drop(['Dividends', 'Stock Splits', 'Capital Gains'], axis=1)\n",
    "xle = dm.retrieve_ticker_data('XLE', period=period, interval=interval).drop(['Dividends', 'Stock Splits', 'Capital Gains'], axis=1)\n",
    "\n",
    "gold               = dm.retrieve_ticker_data('GLD', period=period,interval=interval).drop(['Dividends', 'Stock Splits','Capital Gains'],axis=1)\n",
    "treasury_bonds_20y = dm.retrieve_ticker_data('TLT', period=period,interval=interval).drop(['Dividends', 'Stock Splits','Capital Gains'],axis=1)\n",
    "\n",
    "risk_free_rate   = dm.retrieve_ticker_data('^IRX',period=period,interval=interval).reindex_like(sp500)\n",
    "vix   = dm.retrieve_ticker_data('^VIX',period=period).drop(['Dividends', 'Stock Splits'],axis=1)\n",
    "\n",
    "sp500_monthly_returns = calculate_monthly_returns(sp500)\n",
    "nasdaq_monthly_returns = calculate_monthly_returns(nasdaq)\n",
    "russell_2000_monthly_returns = calculate_monthly_returns(russell_2000)\n",
    "dija_monthly_returns = calculate_monthly_returns(dija)\n",
    "gold_monthly_returns = calculate_monthly_returns(gold)\n",
    "treasury_bonds_20y_monthly_returns = calculate_monthly_returns(treasury_bonds_20y)\n",
    "vix_monthly_returns = calculate_monthly_returns(vix)\n",
    "uso_monthly_returns = calculate_monthly_returns(uso)\n",
    "vnq_monthly_returns = calculate_monthly_returns(vnq)\n",
    "\n",
    "# Calculate monthly returns for each SPDR sector ETF\n",
    "xlc_monthly_returns = calculate_monthly_returns(xlc)\n",
    "xlb_monthly_returns = calculate_monthly_returns(xlb)\n",
    "xli_monthly_returns = calculate_monthly_returns(xli)\n",
    "xlf_monthly_returns = calculate_monthly_returns(xlf)\n",
    "xlp_monthly_returns = calculate_monthly_returns(xlp)\n",
    "xlu_monthly_returns = calculate_monthly_returns(xlu)\n",
    "xlv_monthly_returns = calculate_monthly_returns(xlv)\n",
    "xly_monthly_returns = calculate_monthly_returns(xly)\n",
    "xlk_monthly_returns = calculate_monthly_returns(xlk)\n",
    "xlre_monthly_returns = calculate_monthly_returns(xlre)\n",
    "xle_monthly_returns = calculate_monthly_returns(xle)\n",
    "\n"
   ]
  },
  {
   "cell_type": "code",
   "execution_count": 14,
   "metadata": {},
   "outputs": [
    {
     "data": {
      "application/vnd.plotly.v1+json": {
       "config": {
        "plotlyServerURL": "https://plot.ly"
       },
       "data": [
        {
         "alignmentgroup": "True",
         "hovertemplate": "Month=%{x}<br>Average Monthly Return=%{y}<extra></extra>",
         "legendgroup": "",
         "marker": {
          "color": [
           "blue",
           "blue",
           "blue",
           "blue",
           "blue",
           "blue",
           "red",
           "blue",
           "blue",
           "blue",
           "blue",
           "blue"
          ],
          "pattern": {
           "shape": ""
          }
         },
         "name": "",
         "offsetgroup": "",
         "orientation": "v",
         "showlegend": false,
         "textposition": "auto",
         "type": "bar",
         "x": [
          "Jan",
          "Feb",
          "Mar",
          "Apr",
          "May",
          "Jun",
          "Jul",
          "Aug",
          "Sep",
          "Oct",
          "Nov",
          "Dec"
         ],
         "xaxis": "x",
         "y": [
          0.003095665328941877,
          -0.010766630894103457,
          0.005579641834409443,
          0.013556054028157738,
          0.022332867700233638,
          0.011556258901901395,
          0.03948632257157536,
          0.005151899646035618,
          -0.040894331541481144,
          0.025380312521494353,
          0.056775094072930354,
          0.020075727648709442
         ],
         "yaxis": "y"
        },
        {
         "alignmentgroup": "True",
         "hovertemplate": "Month=%{x}<br>Average Monthly Return=%{y}<extra></extra>",
         "legendgroup": "",
         "marker": {
          "color": [
           "blue",
           "blue",
           "blue",
           "blue",
           "blue",
           "blue",
           "red",
           "blue",
           "blue",
           "blue",
           "blue",
           "blue"
          ],
          "pattern": {
           "shape": ""
          }
         },
         "name": "",
         "offsetgroup": "",
         "orientation": "v",
         "showlegend": false,
         "textposition": "auto",
         "type": "bar",
         "x": [
          "Jan",
          "Feb",
          "Mar",
          "Apr",
          "May",
          "Jun",
          "Jul",
          "Aug",
          "Sep",
          "Oct",
          "Nov",
          "Dec"
         ],
         "xaxis": "x2",
         "y": [
          0.014029804302886783,
          -0.011486663732743119,
          0.01973307771350341,
          0.006843767384514398,
          0.03569746112326402,
          0.03282972639505044,
          0.04453911568268778,
          0.013297445847797152,
          -0.05231869109400653,
          0.022267081196905812,
          0.06731003376883837,
          0.013028895740974012
         ],
         "yaxis": "y2"
        },
        {
         "alignmentgroup": "True",
         "hovertemplate": "Month=%{x}<br>Average Monthly Return=%{y}<extra></extra>",
         "legendgroup": "",
         "marker": {
          "color": [
           "blue",
           "blue",
           "blue",
           "blue",
           "blue",
           "blue",
           "red",
           "blue",
           "blue",
           "blue",
           "blue",
           "blue"
          ],
          "pattern": {
           "shape": ""
          }
         },
         "name": "",
         "offsetgroup": "",
         "orientation": "v",
         "showlegend": false,
         "textposition": "auto",
         "type": "bar",
         "x": [
          "Jan",
          "Feb",
          "Mar",
          "Apr",
          "May",
          "Jun",
          "Jul",
          "Aug",
          "Sep",
          "Oct",
          "Nov",
          "Dec"
         ],
         "xaxis": "x3",
         "y": [
          -0.0037990374167734763,
          -0.02203528379373343,
          0.00020680108626918158,
          0.012965591496247875,
          0.01361847026164138,
          0.0016461780518021607,
          0.03292571001743418,
          0.00406999317059602,
          -0.03278417603070392,
          0.029574379065214408,
          0.055545262938631976,
          0.02293737288511395
         ],
         "yaxis": "y3"
        },
        {
         "alignmentgroup": "True",
         "hovertemplate": "Month=%{x}<br>Average Monthly Return=%{y}<extra></extra>",
         "legendgroup": "",
         "marker": {
          "color": [
           "blue",
           "blue",
           "blue",
           "blue",
           "blue",
           "blue",
           "red",
           "blue",
           "blue",
           "blue",
           "blue",
           "blue"
          ],
          "pattern": {
           "shape": ""
          }
         },
         "name": "",
         "offsetgroup": "",
         "orientation": "v",
         "showlegend": false,
         "textposition": "auto",
         "type": "bar",
         "x": [
          "Jan",
          "Feb",
          "Mar",
          "Apr",
          "May",
          "Jun",
          "Jul",
          "Aug",
          "Sep",
          "Oct",
          "Nov",
          "Dec"
         ],
         "xaxis": "x4",
         "y": [
          0.26229795517107146,
          0.23774243029710052,
          -0.08297465810132224,
          0.0536808036966621,
          -0.1094544494754937,
          -0.026550570495931104,
          0.02672333127415911,
          0.07381875367493902,
          0.1543195393075813,
          -0.03752679329945665,
          -0.06494123998009341,
          -0.03043909292762066
         ],
         "yaxis": "y4"
        },
        {
         "alignmentgroup": "True",
         "hovertemplate": "Month=%{x}<br>Average Monthly Return=%{y}<extra></extra>",
         "legendgroup": "",
         "marker": {
          "color": [
           "blue",
           "blue",
           "blue",
           "blue",
           "blue",
           "blue",
           "red",
           "blue",
           "blue",
           "blue",
           "blue",
           "blue"
          ],
          "pattern": {
           "shape": ""
          }
         },
         "name": "",
         "offsetgroup": "",
         "orientation": "v",
         "showlegend": false,
         "textposition": "auto",
         "type": "bar",
         "x": [
          "Jan",
          "Feb",
          "Mar",
          "Apr",
          "May",
          "Jun",
          "Jul",
          "Aug",
          "Sep",
          "Oct",
          "Nov",
          "Dec"
         ],
         "xaxis": "x5",
         "y": [
          0.007867033971671034,
          -0.011365140291819653,
          0.03298259265336647,
          0.02521200462614224,
          0.014563847558443532,
          -0.01666398984449229,
          0.029157563759488858,
          0.006582199753008622,
          -0.03687696688982236,
          0.018223629545470632,
          0.0034319178161627884,
          0.0363632073443247
         ],
         "yaxis": "y5"
        },
        {
         "alignmentgroup": "True",
         "hovertemplate": "Month=%{x}<br>Average Monthly Return=%{y}<extra></extra>",
         "legendgroup": "",
         "marker": {
          "color": [
           "blue",
           "blue",
           "blue",
           "blue",
           "blue",
           "blue",
           "red",
           "blue",
           "blue",
           "blue",
           "blue",
           "blue"
          ],
          "pattern": {
           "shape": ""
          }
         },
         "name": "",
         "offsetgroup": "",
         "orientation": "v",
         "showlegend": false,
         "textposition": "auto",
         "type": "bar",
         "x": [
          "Jan",
          "Feb",
          "Mar",
          "Apr",
          "May",
          "Jun",
          "Jul",
          "Aug",
          "Sep",
          "Oct",
          "Nov",
          "Dec"
         ],
         "xaxis": "x6",
         "y": [
          0.01108600526547585,
          -0.015684527364772504,
          0.0026185190299117477,
          -0.02365392046012409,
          -0.008282617012646609,
          0.011030722164810557,
          0.017784568479910945,
          -0.004065721646388876,
          -0.041999290429389505,
          -0.026922104137305024,
          0.0422064816732509,
          -0.0007465586255796409
         ],
         "yaxis": "y6"
        },
        {
         "alignmentgroup": "True",
         "hovertemplate": "Month=%{x}<br>Average Monthly Return=%{y}<extra></extra>",
         "legendgroup": "",
         "marker": {
          "color": [
           "blue",
           "blue",
           "blue",
           "blue",
           "blue",
           "blue",
           "red",
           "blue",
           "blue",
           "blue",
           "blue",
           "blue"
          ],
          "pattern": {
           "shape": ""
          }
         },
         "name": "",
         "offsetgroup": "",
         "orientation": "v",
         "showlegend": false,
         "textposition": "auto",
         "type": "bar",
         "x": [
          "Jan",
          "Feb",
          "Mar",
          "Apr",
          "May",
          "Jun",
          "Jul",
          "Aug",
          "Sep",
          "Oct",
          "Nov",
          "Dec"
         ],
         "xaxis": "x7",
         "y": [
          0.02282481226953188,
          0.026002012293415255,
          -0.0826470812125177,
          -0.062435318585766716,
          0.07274902087184372,
          0.04688789149404573,
          0.029599749824338994,
          -0.01708180159378836,
          -0.004219159490039592,
          -0.000027856395422909408,
          0.0019899904674624434,
          0.0502881973175797
         ],
         "yaxis": "y7"
        },
        {
         "alignmentgroup": "True",
         "hovertemplate": "Month=%{x}<br>Average Monthly Return=%{y}<extra></extra>",
         "legendgroup": "",
         "marker": {
          "color": [
           "blue",
           "blue",
           "blue",
           "blue",
           "blue",
           "blue",
           "red",
           "blue",
           "blue",
           "blue",
           "blue",
           "blue"
          ],
          "pattern": {
           "shape": ""
          }
         },
         "name": "",
         "offsetgroup": "",
         "orientation": "v",
         "showlegend": false,
         "textposition": "auto",
         "type": "bar",
         "x": [
          "Jan",
          "Feb",
          "Mar",
          "Apr",
          "May",
          "Jun",
          "Jul",
          "Aug",
          "Sep",
          "Oct",
          "Nov",
          "Dec"
         ],
         "xaxis": "x8",
         "y": [
          -0.003628173356945341,
          -0.021939027839699053,
          -0.01636066494375359,
          0.01020613277401683,
          -0.003091022774831198,
          0.010237249763802869,
          0.04757448380455194,
          -0.006094909426884576,
          -0.053107514069264575,
          0.010282240378479291,
          0.04897803668423804,
          0.03523929416984106
         ],
         "yaxis": "y8"
        }
       ],
       "layout": {
        "annotations": [
         {
          "font": {
           "size": 16
          },
          "showarrow": false,
          "text": "Seasonality: S&P 500",
          "x": 0.10625,
          "xanchor": "center",
          "xref": "paper",
          "y": 1,
          "yanchor": "bottom",
          "yref": "paper"
         },
         {
          "font": {
           "size": 16
          },
          "showarrow": false,
          "text": "Seasonality: Nasdaq 100",
          "x": 0.36875,
          "xanchor": "center",
          "xref": "paper",
          "y": 1,
          "yanchor": "bottom",
          "yref": "paper"
         },
         {
          "font": {
           "size": 16
          },
          "showarrow": false,
          "text": "Seasonality: DIJA",
          "x": 0.6312500000000001,
          "xanchor": "center",
          "xref": "paper",
          "y": 1,
          "yanchor": "bottom",
          "yref": "paper"
         },
         {
          "font": {
           "size": 16
          },
          "showarrow": false,
          "text": "Seasonality: VIX",
          "x": 0.89375,
          "xanchor": "center",
          "xref": "paper",
          "y": 1,
          "yanchor": "bottom",
          "yref": "paper"
         },
         {
          "font": {
           "size": 16
          },
          "showarrow": false,
          "text": "Seasonality: Gold",
          "x": 0.10625,
          "xanchor": "center",
          "xref": "paper",
          "y": 0.375,
          "yanchor": "bottom",
          "yref": "paper"
         },
         {
          "font": {
           "size": 16
          },
          "showarrow": false,
          "text": "Seasonality: Treasury Bonds 20Y",
          "x": 0.36875,
          "xanchor": "center",
          "xref": "paper",
          "y": 0.375,
          "yanchor": "bottom",
          "yref": "paper"
         },
         {
          "font": {
           "size": 16
          },
          "showarrow": false,
          "text": "Seasonality: USO",
          "x": 0.6312500000000001,
          "xanchor": "center",
          "xref": "paper",
          "y": 0.375,
          "yanchor": "bottom",
          "yref": "paper"
         },
         {
          "font": {
           "size": 16
          },
          "showarrow": false,
          "text": "Seasonality: VNQ",
          "x": 0.89375,
          "xanchor": "center",
          "xref": "paper",
          "y": 0.375,
          "yanchor": "bottom",
          "yref": "paper"
         }
        ],
        "height": 800,
        "showlegend": false,
        "template": {
         "data": {
          "bar": [
           {
            "error_x": {
             "color": "#2a3f5f"
            },
            "error_y": {
             "color": "#2a3f5f"
            },
            "marker": {
             "line": {
              "color": "#E5ECF6",
              "width": 0.5
             },
             "pattern": {
              "fillmode": "overlay",
              "size": 10,
              "solidity": 0.2
             }
            },
            "type": "bar"
           }
          ],
          "barpolar": [
           {
            "marker": {
             "line": {
              "color": "#E5ECF6",
              "width": 0.5
             },
             "pattern": {
              "fillmode": "overlay",
              "size": 10,
              "solidity": 0.2
             }
            },
            "type": "barpolar"
           }
          ],
          "carpet": [
           {
            "aaxis": {
             "endlinecolor": "#2a3f5f",
             "gridcolor": "white",
             "linecolor": "white",
             "minorgridcolor": "white",
             "startlinecolor": "#2a3f5f"
            },
            "baxis": {
             "endlinecolor": "#2a3f5f",
             "gridcolor": "white",
             "linecolor": "white",
             "minorgridcolor": "white",
             "startlinecolor": "#2a3f5f"
            },
            "type": "carpet"
           }
          ],
          "choropleth": [
           {
            "colorbar": {
             "outlinewidth": 0,
             "ticks": ""
            },
            "type": "choropleth"
           }
          ],
          "contour": [
           {
            "colorbar": {
             "outlinewidth": 0,
             "ticks": ""
            },
            "colorscale": [
             [
              0,
              "#0d0887"
             ],
             [
              0.1111111111111111,
              "#46039f"
             ],
             [
              0.2222222222222222,
              "#7201a8"
             ],
             [
              0.3333333333333333,
              "#9c179e"
             ],
             [
              0.4444444444444444,
              "#bd3786"
             ],
             [
              0.5555555555555556,
              "#d8576b"
             ],
             [
              0.6666666666666666,
              "#ed7953"
             ],
             [
              0.7777777777777778,
              "#fb9f3a"
             ],
             [
              0.8888888888888888,
              "#fdca26"
             ],
             [
              1,
              "#f0f921"
             ]
            ],
            "type": "contour"
           }
          ],
          "contourcarpet": [
           {
            "colorbar": {
             "outlinewidth": 0,
             "ticks": ""
            },
            "type": "contourcarpet"
           }
          ],
          "heatmap": [
           {
            "colorbar": {
             "outlinewidth": 0,
             "ticks": ""
            },
            "colorscale": [
             [
              0,
              "#0d0887"
             ],
             [
              0.1111111111111111,
              "#46039f"
             ],
             [
              0.2222222222222222,
              "#7201a8"
             ],
             [
              0.3333333333333333,
              "#9c179e"
             ],
             [
              0.4444444444444444,
              "#bd3786"
             ],
             [
              0.5555555555555556,
              "#d8576b"
             ],
             [
              0.6666666666666666,
              "#ed7953"
             ],
             [
              0.7777777777777778,
              "#fb9f3a"
             ],
             [
              0.8888888888888888,
              "#fdca26"
             ],
             [
              1,
              "#f0f921"
             ]
            ],
            "type": "heatmap"
           }
          ],
          "heatmapgl": [
           {
            "colorbar": {
             "outlinewidth": 0,
             "ticks": ""
            },
            "colorscale": [
             [
              0,
              "#0d0887"
             ],
             [
              0.1111111111111111,
              "#46039f"
             ],
             [
              0.2222222222222222,
              "#7201a8"
             ],
             [
              0.3333333333333333,
              "#9c179e"
             ],
             [
              0.4444444444444444,
              "#bd3786"
             ],
             [
              0.5555555555555556,
              "#d8576b"
             ],
             [
              0.6666666666666666,
              "#ed7953"
             ],
             [
              0.7777777777777778,
              "#fb9f3a"
             ],
             [
              0.8888888888888888,
              "#fdca26"
             ],
             [
              1,
              "#f0f921"
             ]
            ],
            "type": "heatmapgl"
           }
          ],
          "histogram": [
           {
            "marker": {
             "pattern": {
              "fillmode": "overlay",
              "size": 10,
              "solidity": 0.2
             }
            },
            "type": "histogram"
           }
          ],
          "histogram2d": [
           {
            "colorbar": {
             "outlinewidth": 0,
             "ticks": ""
            },
            "colorscale": [
             [
              0,
              "#0d0887"
             ],
             [
              0.1111111111111111,
              "#46039f"
             ],
             [
              0.2222222222222222,
              "#7201a8"
             ],
             [
              0.3333333333333333,
              "#9c179e"
             ],
             [
              0.4444444444444444,
              "#bd3786"
             ],
             [
              0.5555555555555556,
              "#d8576b"
             ],
             [
              0.6666666666666666,
              "#ed7953"
             ],
             [
              0.7777777777777778,
              "#fb9f3a"
             ],
             [
              0.8888888888888888,
              "#fdca26"
             ],
             [
              1,
              "#f0f921"
             ]
            ],
            "type": "histogram2d"
           }
          ],
          "histogram2dcontour": [
           {
            "colorbar": {
             "outlinewidth": 0,
             "ticks": ""
            },
            "colorscale": [
             [
              0,
              "#0d0887"
             ],
             [
              0.1111111111111111,
              "#46039f"
             ],
             [
              0.2222222222222222,
              "#7201a8"
             ],
             [
              0.3333333333333333,
              "#9c179e"
             ],
             [
              0.4444444444444444,
              "#bd3786"
             ],
             [
              0.5555555555555556,
              "#d8576b"
             ],
             [
              0.6666666666666666,
              "#ed7953"
             ],
             [
              0.7777777777777778,
              "#fb9f3a"
             ],
             [
              0.8888888888888888,
              "#fdca26"
             ],
             [
              1,
              "#f0f921"
             ]
            ],
            "type": "histogram2dcontour"
           }
          ],
          "mesh3d": [
           {
            "colorbar": {
             "outlinewidth": 0,
             "ticks": ""
            },
            "type": "mesh3d"
           }
          ],
          "parcoords": [
           {
            "line": {
             "colorbar": {
              "outlinewidth": 0,
              "ticks": ""
             }
            },
            "type": "parcoords"
           }
          ],
          "pie": [
           {
            "automargin": true,
            "type": "pie"
           }
          ],
          "scatter": [
           {
            "fillpattern": {
             "fillmode": "overlay",
             "size": 10,
             "solidity": 0.2
            },
            "type": "scatter"
           }
          ],
          "scatter3d": [
           {
            "line": {
             "colorbar": {
              "outlinewidth": 0,
              "ticks": ""
             }
            },
            "marker": {
             "colorbar": {
              "outlinewidth": 0,
              "ticks": ""
             }
            },
            "type": "scatter3d"
           }
          ],
          "scattercarpet": [
           {
            "marker": {
             "colorbar": {
              "outlinewidth": 0,
              "ticks": ""
             }
            },
            "type": "scattercarpet"
           }
          ],
          "scattergeo": [
           {
            "marker": {
             "colorbar": {
              "outlinewidth": 0,
              "ticks": ""
             }
            },
            "type": "scattergeo"
           }
          ],
          "scattergl": [
           {
            "marker": {
             "colorbar": {
              "outlinewidth": 0,
              "ticks": ""
             }
            },
            "type": "scattergl"
           }
          ],
          "scattermapbox": [
           {
            "marker": {
             "colorbar": {
              "outlinewidth": 0,
              "ticks": ""
             }
            },
            "type": "scattermapbox"
           }
          ],
          "scatterpolar": [
           {
            "marker": {
             "colorbar": {
              "outlinewidth": 0,
              "ticks": ""
             }
            },
            "type": "scatterpolar"
           }
          ],
          "scatterpolargl": [
           {
            "marker": {
             "colorbar": {
              "outlinewidth": 0,
              "ticks": ""
             }
            },
            "type": "scatterpolargl"
           }
          ],
          "scatterternary": [
           {
            "marker": {
             "colorbar": {
              "outlinewidth": 0,
              "ticks": ""
             }
            },
            "type": "scatterternary"
           }
          ],
          "surface": [
           {
            "colorbar": {
             "outlinewidth": 0,
             "ticks": ""
            },
            "colorscale": [
             [
              0,
              "#0d0887"
             ],
             [
              0.1111111111111111,
              "#46039f"
             ],
             [
              0.2222222222222222,
              "#7201a8"
             ],
             [
              0.3333333333333333,
              "#9c179e"
             ],
             [
              0.4444444444444444,
              "#bd3786"
             ],
             [
              0.5555555555555556,
              "#d8576b"
             ],
             [
              0.6666666666666666,
              "#ed7953"
             ],
             [
              0.7777777777777778,
              "#fb9f3a"
             ],
             [
              0.8888888888888888,
              "#fdca26"
             ],
             [
              1,
              "#f0f921"
             ]
            ],
            "type": "surface"
           }
          ],
          "table": [
           {
            "cells": {
             "fill": {
              "color": "#EBF0F8"
             },
             "line": {
              "color": "white"
             }
            },
            "header": {
             "fill": {
              "color": "#C8D4E3"
             },
             "line": {
              "color": "white"
             }
            },
            "type": "table"
           }
          ]
         },
         "layout": {
          "annotationdefaults": {
           "arrowcolor": "#2a3f5f",
           "arrowhead": 0,
           "arrowwidth": 1
          },
          "autotypenumbers": "strict",
          "coloraxis": {
           "colorbar": {
            "outlinewidth": 0,
            "ticks": ""
           }
          },
          "colorscale": {
           "diverging": [
            [
             0,
             "#8e0152"
            ],
            [
             0.1,
             "#c51b7d"
            ],
            [
             0.2,
             "#de77ae"
            ],
            [
             0.3,
             "#f1b6da"
            ],
            [
             0.4,
             "#fde0ef"
            ],
            [
             0.5,
             "#f7f7f7"
            ],
            [
             0.6,
             "#e6f5d0"
            ],
            [
             0.7,
             "#b8e186"
            ],
            [
             0.8,
             "#7fbc41"
            ],
            [
             0.9,
             "#4d9221"
            ],
            [
             1,
             "#276419"
            ]
           ],
           "sequential": [
            [
             0,
             "#0d0887"
            ],
            [
             0.1111111111111111,
             "#46039f"
            ],
            [
             0.2222222222222222,
             "#7201a8"
            ],
            [
             0.3333333333333333,
             "#9c179e"
            ],
            [
             0.4444444444444444,
             "#bd3786"
            ],
            [
             0.5555555555555556,
             "#d8576b"
            ],
            [
             0.6666666666666666,
             "#ed7953"
            ],
            [
             0.7777777777777778,
             "#fb9f3a"
            ],
            [
             0.8888888888888888,
             "#fdca26"
            ],
            [
             1,
             "#f0f921"
            ]
           ],
           "sequentialminus": [
            [
             0,
             "#0d0887"
            ],
            [
             0.1111111111111111,
             "#46039f"
            ],
            [
             0.2222222222222222,
             "#7201a8"
            ],
            [
             0.3333333333333333,
             "#9c179e"
            ],
            [
             0.4444444444444444,
             "#bd3786"
            ],
            [
             0.5555555555555556,
             "#d8576b"
            ],
            [
             0.6666666666666666,
             "#ed7953"
            ],
            [
             0.7777777777777778,
             "#fb9f3a"
            ],
            [
             0.8888888888888888,
             "#fdca26"
            ],
            [
             1,
             "#f0f921"
            ]
           ]
          },
          "colorway": [
           "#636efa",
           "#EF553B",
           "#00cc96",
           "#ab63fa",
           "#FFA15A",
           "#19d3f3",
           "#FF6692",
           "#B6E880",
           "#FF97FF",
           "#FECB52"
          ],
          "font": {
           "color": "#2a3f5f"
          },
          "geo": {
           "bgcolor": "white",
           "lakecolor": "white",
           "landcolor": "#E5ECF6",
           "showlakes": true,
           "showland": true,
           "subunitcolor": "white"
          },
          "hoverlabel": {
           "align": "left"
          },
          "hovermode": "closest",
          "mapbox": {
           "style": "light"
          },
          "paper_bgcolor": "white",
          "plot_bgcolor": "#E5ECF6",
          "polar": {
           "angularaxis": {
            "gridcolor": "white",
            "linecolor": "white",
            "ticks": ""
           },
           "bgcolor": "#E5ECF6",
           "radialaxis": {
            "gridcolor": "white",
            "linecolor": "white",
            "ticks": ""
           }
          },
          "scene": {
           "xaxis": {
            "backgroundcolor": "#E5ECF6",
            "gridcolor": "white",
            "gridwidth": 2,
            "linecolor": "white",
            "showbackground": true,
            "ticks": "",
            "zerolinecolor": "white"
           },
           "yaxis": {
            "backgroundcolor": "#E5ECF6",
            "gridcolor": "white",
            "gridwidth": 2,
            "linecolor": "white",
            "showbackground": true,
            "ticks": "",
            "zerolinecolor": "white"
           },
           "zaxis": {
            "backgroundcolor": "#E5ECF6",
            "gridcolor": "white",
            "gridwidth": 2,
            "linecolor": "white",
            "showbackground": true,
            "ticks": "",
            "zerolinecolor": "white"
           }
          },
          "shapedefaults": {
           "line": {
            "color": "#2a3f5f"
           }
          },
          "ternary": {
           "aaxis": {
            "gridcolor": "white",
            "linecolor": "white",
            "ticks": ""
           },
           "baxis": {
            "gridcolor": "white",
            "linecolor": "white",
            "ticks": ""
           },
           "bgcolor": "#E5ECF6",
           "caxis": {
            "gridcolor": "white",
            "linecolor": "white",
            "ticks": ""
           }
          },
          "title": {
           "x": 0.05
          },
          "xaxis": {
           "automargin": true,
           "gridcolor": "white",
           "linecolor": "white",
           "ticks": "",
           "title": {
            "standoff": 15
           },
           "zerolinecolor": "white",
           "zerolinewidth": 2
          },
          "yaxis": {
           "automargin": true,
           "gridcolor": "white",
           "linecolor": "white",
           "ticks": "",
           "title": {
            "standoff": 15
           },
           "zerolinecolor": "white",
           "zerolinewidth": 2
          }
         }
        },
        "title": {
         "text": "Seasonality of Major Markets and Key Assets"
        },
        "width": 1600,
        "xaxis": {
         "anchor": "y",
         "domain": [
          0,
          0.2125
         ]
        },
        "xaxis2": {
         "anchor": "y2",
         "domain": [
          0.2625,
          0.475
         ]
        },
        "xaxis3": {
         "anchor": "y3",
         "domain": [
          0.525,
          0.7375
         ]
        },
        "xaxis4": {
         "anchor": "y4",
         "domain": [
          0.7875,
          1
         ]
        },
        "xaxis5": {
         "anchor": "y5",
         "domain": [
          0,
          0.2125
         ]
        },
        "xaxis6": {
         "anchor": "y6",
         "domain": [
          0.2625,
          0.475
         ]
        },
        "xaxis7": {
         "anchor": "y7",
         "domain": [
          0.525,
          0.7375
         ]
        },
        "xaxis8": {
         "anchor": "y8",
         "domain": [
          0.7875,
          1
         ]
        },
        "yaxis": {
         "anchor": "x",
         "domain": [
          0.625,
          1
         ]
        },
        "yaxis2": {
         "anchor": "x2",
         "domain": [
          0.625,
          1
         ]
        },
        "yaxis3": {
         "anchor": "x3",
         "domain": [
          0.625,
          1
         ]
        },
        "yaxis4": {
         "anchor": "x4",
         "domain": [
          0.625,
          1
         ]
        },
        "yaxis5": {
         "anchor": "x5",
         "domain": [
          0,
          0.375
         ]
        },
        "yaxis6": {
         "anchor": "x6",
         "domain": [
          0,
          0.375
         ]
        },
        "yaxis7": {
         "anchor": "x7",
         "domain": [
          0,
          0.375
         ]
        },
        "yaxis8": {
         "anchor": "x8",
         "domain": [
          0,
          0.375
         ]
        }
       }
      }
     },
     "metadata": {},
     "output_type": "display_data"
    },
    {
     "data": {
      "application/vnd.plotly.v1+json": {
       "config": {
        "plotlyServerURL": "https://plot.ly"
       },
       "data": [
        {
         "alignmentgroup": "True",
         "hovertemplate": "Month=%{x}<br>Average Monthly Return=%{y}<extra></extra>",
         "legendgroup": "",
         "marker": {
          "color": [
           "blue",
           "blue",
           "blue",
           "blue",
           "blue",
           "blue",
           "red",
           "blue",
           "blue",
           "blue",
           "blue",
           "blue"
          ],
          "pattern": {
           "shape": ""
          }
         },
         "name": "",
         "offsetgroup": "",
         "orientation": "v",
         "showlegend": false,
         "textposition": "auto",
         "type": "bar",
         "x": [
          "Jan",
          "Feb",
          "Mar",
          "Apr",
          "May",
          "Jun",
          "Jul",
          "Aug",
          "Sep",
          "Oct",
          "Nov",
          "Dec"
         ],
         "xaxis": "x",
         "y": [
          0.028073382268688142,
          -0.009100697659425916,
          0.005185082042267553,
          0.009295651701527529,
          0.042249787525121006,
          0.002951643271759297,
          0.029661081231331064,
          0.010400079040846921,
          -0.0533229135196468,
          0.002987300438742224,
          0.045627833501976856,
          0.013347197573742763
         ],
         "yaxis": "y"
        },
        {
         "alignmentgroup": "True",
         "hovertemplate": "Month=%{x}<br>Average Monthly Return=%{y}<extra></extra>",
         "legendgroup": "",
         "marker": {
          "color": [
           "blue",
           "blue",
           "blue",
           "blue",
           "blue",
           "blue",
           "red",
           "blue",
           "blue",
           "blue",
           "blue",
           "blue"
          ],
          "pattern": {
           "shape": ""
          }
         },
         "name": "",
         "offsetgroup": "",
         "orientation": "v",
         "showlegend": false,
         "textposition": "auto",
         "type": "bar",
         "x": [
          "Jan",
          "Feb",
          "Mar",
          "Apr",
          "May",
          "Jun",
          "Jul",
          "Aug",
          "Sep",
          "Oct",
          "Nov",
          "Dec"
         ],
         "xaxis": "x2",
         "y": [
          -0.02061327971981315,
          -0.004982115968657519,
          0.010359775671572712,
          0.02461071548232314,
          0.019091771876309015,
          -0.017981459244858722,
          0.04106335234462573,
          -0.006722905394308132,
          -0.03316644684304737,
          0.02522448550422849,
          0.0700816331161243,
          0.02386375867497472
         ],
         "yaxis": "y2"
        },
        {
         "alignmentgroup": "True",
         "hovertemplate": "Month=%{x}<br>Average Monthly Return=%{y}<extra></extra>",
         "legendgroup": "",
         "marker": {
          "color": [
           "blue",
           "blue",
           "blue",
           "blue",
           "blue",
           "blue",
           "red",
           "blue",
           "blue",
           "blue",
           "blue",
           "blue"
          ],
          "pattern": {
           "shape": ""
          }
         },
         "name": "",
         "offsetgroup": "",
         "orientation": "v",
         "showlegend": false,
         "textposition": "auto",
         "type": "bar",
         "x": [
          "Jan",
          "Feb",
          "Mar",
          "Apr",
          "May",
          "Jun",
          "Jul",
          "Aug",
          "Sep",
          "Oct",
          "Nov",
          "Dec"
         ],
         "xaxis": "x3",
         "y": [
          -0.013521862161632559,
          0.004930693838236655,
          -0.0023253967303001667,
          0.00008505583231042114,
          0.013086585243708048,
          0.005182256696092203,
          0.03922096864672797,
          0.004249700977246728,
          -0.04025812042544352,
          0.03480765664693806,
          0.06721943740680056,
          0.020558154825892228
         ],
         "yaxis": "y3"
        },
        {
         "alignmentgroup": "True",
         "hovertemplate": "Month=%{x}<br>Average Monthly Return=%{y}<extra></extra>",
         "legendgroup": "",
         "marker": {
          "color": [
           "blue",
           "blue",
           "blue",
           "blue",
           "blue",
           "blue",
           "red",
           "blue",
           "blue",
           "blue",
           "blue",
           "blue"
          ],
          "pattern": {
           "shape": ""
          }
         },
         "name": "",
         "offsetgroup": "",
         "orientation": "v",
         "showlegend": false,
         "textposition": "auto",
         "type": "bar",
         "x": [
          "Jan",
          "Feb",
          "Mar",
          "Apr",
          "May",
          "Jun",
          "Jul",
          "Aug",
          "Sep",
          "Oct",
          "Nov",
          "Dec"
         ],
         "xaxis": "x4",
         "y": [
          0.011098801866226471,
          0.0015083414540485896,
          -0.04011114227861521,
          0.01000798174293498,
          0.018388090029905622,
          -0.017377890359224435,
          0.0388736032089602,
          0.00015885022426256334,
          -0.02293358914492103,
          0.03676679231576132,
          0.06796815466701064,
          0.024626049163121166
         ],
         "yaxis": "y4"
        },
        {
         "alignmentgroup": "True",
         "hovertemplate": "Month=%{x}<br>Average Monthly Return=%{y}<extra></extra>",
         "legendgroup": "",
         "marker": {
          "color": [
           "blue",
           "blue",
           "blue",
           "blue",
           "blue",
           "blue",
           "red",
           "blue",
           "blue",
           "blue",
           "blue",
           "blue"
          ],
          "pattern": {
           "shape": ""
          }
         },
         "name": "",
         "offsetgroup": "",
         "orientation": "v",
         "showlegend": false,
         "textposition": "auto",
         "type": "bar",
         "x": [
          "Jan",
          "Feb",
          "Mar",
          "Apr",
          "May",
          "Jun",
          "Jul",
          "Aug",
          "Sep",
          "Oct",
          "Nov",
          "Dec"
         ],
         "xaxis": "x5",
         "y": [
          -0.011986555005101152,
          -0.022152911142286857,
          0.02457475034598251,
          0.027301921682068818,
          -0.008745570259652013,
          -0.001126403760793826,
          0.03193975793393498,
          0.004025880863941978,
          -0.03396683133841509,
          0.01566579792205571,
          0.035477147700303725,
          0.02900512801485309
         ],
         "yaxis": "y5"
        },
        {
         "alignmentgroup": "True",
         "hovertemplate": "Month=%{x}<br>Average Monthly Return=%{y}<extra></extra>",
         "legendgroup": "",
         "marker": {
          "color": [
           "blue",
           "blue",
           "blue",
           "blue",
           "blue",
           "blue",
           "red",
           "blue",
           "blue",
           "blue",
           "blue",
           "blue"
          ],
          "pattern": {
           "shape": ""
          }
         },
         "name": "",
         "offsetgroup": "",
         "orientation": "v",
         "showlegend": false,
         "textposition": "auto",
         "type": "bar",
         "x": [
          "Jan",
          "Feb",
          "Mar",
          "Apr",
          "May",
          "Jun",
          "Jul",
          "Aug",
          "Sep",
          "Oct",
          "Nov",
          "Dec"
         ],
         "xaxis": "x6",
         "y": [
          -0.004707387185777678,
          -0.04544862945296202,
          0.0447955906220916,
          0.013584146851025204,
          0.018605449194798472,
          -0.0314450939250122,
          0.0470052639392645,
          0.0015717588610940415,
          -0.035367307425644846,
          0.024533801214924145,
          0.018544633917098617,
          0.02992930117142767
         ],
         "yaxis": "y6"
        },
        {
         "alignmentgroup": "True",
         "hovertemplate": "Month=%{x}<br>Average Monthly Return=%{y}<extra></extra>",
         "legendgroup": "",
         "marker": {
          "color": [
           "blue",
           "blue",
           "blue",
           "blue",
           "blue",
           "blue",
           "red",
           "blue",
           "blue",
           "blue",
           "blue",
           "blue"
          ],
          "pattern": {
           "shape": ""
          }
         },
         "name": "",
         "offsetgroup": "",
         "orientation": "v",
         "showlegend": false,
         "textposition": "auto",
         "type": "bar",
         "x": [
          "Jan",
          "Feb",
          "Mar",
          "Apr",
          "May",
          "Jun",
          "Jul",
          "Aug",
          "Sep",
          "Oct",
          "Nov",
          "Dec"
         ],
         "xaxis": "x7",
         "y": [
          -0.01405016836443571,
          -0.022273751105431484,
          0.02090727811293831,
          0.019526233290375374,
          0.009563182358779686,
          0.0066659336110313164,
          0.033927093528715216,
          -0.004322158538400167,
          -0.026604622450391725,
          0.025949682592880642,
          0.04010700305814334,
          0.037482768116446505
         ],
         "yaxis": "y7"
        },
        {
         "alignmentgroup": "True",
         "hovertemplate": "Month=%{x}<br>Average Monthly Return=%{y}<extra></extra>",
         "legendgroup": "",
         "marker": {
          "color": [
           "blue",
           "blue",
           "blue",
           "blue",
           "blue",
           "blue",
           "red",
           "blue",
           "blue",
           "blue",
           "blue",
           "blue"
          ],
          "pattern": {
           "shape": ""
          }
         },
         "name": "",
         "offsetgroup": "",
         "orientation": "v",
         "showlegend": false,
         "textposition": "auto",
         "type": "bar",
         "x": [
          "Jan",
          "Feb",
          "Mar",
          "Apr",
          "May",
          "Jun",
          "Jul",
          "Aug",
          "Sep",
          "Oct",
          "Nov",
          "Dec"
         ],
         "xaxis": "x8",
         "y": [
          0.003735915287678626,
          -0.012803750532737478,
          -0.006059470384659394,
          0.015521524563512523,
          0.001452804582373357,
          0.023608100714321022,
          0.05616556627033435,
          0.00831119377004188,
          -0.0329422589225836,
          0.01016298603207828,
          0.05081380576878205,
          0.00015589379042106887
         ],
         "yaxis": "y8"
        },
        {
         "alignmentgroup": "True",
         "hovertemplate": "Month=%{x}<br>Average Monthly Return=%{y}<extra></extra>",
         "legendgroup": "",
         "marker": {
          "color": [
           "blue",
           "blue",
           "blue",
           "blue",
           "blue",
           "blue",
           "red",
           "blue",
           "blue",
           "blue",
           "blue",
           "blue"
          ],
          "pattern": {
           "shape": ""
          }
         },
         "name": "",
         "offsetgroup": "",
         "orientation": "v",
         "showlegend": false,
         "textposition": "auto",
         "type": "bar",
         "x": [
          "Jan",
          "Feb",
          "Mar",
          "Apr",
          "May",
          "Jun",
          "Jul",
          "Aug",
          "Sep",
          "Oct",
          "Nov",
          "Dec"
         ],
         "xaxis": "x9",
         "y": [
          0.016538262765392053,
          -0.01139370596977234,
          0.016502286152904257,
          0.004051988294246733,
          0.04310847854455806,
          0.036936550780419596,
          0.03995890304892047,
          0.012367794297381218,
          -0.05609523110775809,
          0.029547073842897897,
          0.08084709229650189,
          0.018164021844987156
         ],
         "yaxis": "y9"
        },
        {
         "alignmentgroup": "True",
         "hovertemplate": "Month=%{x}<br>Average Monthly Return=%{y}<extra></extra>",
         "legendgroup": "",
         "marker": {
          "color": [
           "blue",
           "blue",
           "blue",
           "blue",
           "blue",
           "blue",
           "red",
           "blue",
           "blue",
           "blue",
           "blue",
           "blue"
          ],
          "pattern": {
           "shape": ""
          }
         },
         "name": "",
         "offsetgroup": "",
         "orientation": "v",
         "showlegend": false,
         "textposition": "auto",
         "type": "bar",
         "x": [
          "Jan",
          "Feb",
          "Mar",
          "Apr",
          "May",
          "Jun",
          "Jul",
          "Aug",
          "Sep",
          "Oct",
          "Nov",
          "Dec"
         ],
         "xaxis": "x10",
         "y": [
          -0.003079288827382354,
          -0.025460631649952225,
          -0.0003632082182917662,
          0.013412372888320711,
          -0.002399575653102004,
          0.010144761765442234,
          0.04585819803192903,
          -0.0021848237861504137,
          -0.05554589770522744,
          0.007066079962865323,
          0.047128432777826676,
          0.033586787326671905
         ],
         "yaxis": "y10"
        },
        {
         "alignmentgroup": "True",
         "hovertemplate": "Month=%{x}<br>Average Monthly Return=%{y}<extra></extra>",
         "legendgroup": "",
         "marker": {
          "color": [
           "blue",
           "blue",
           "blue",
           "blue",
           "blue",
           "blue",
           "red",
           "blue",
           "blue",
           "blue",
           "blue",
           "blue"
          ],
          "pattern": {
           "shape": ""
          }
         },
         "name": "",
         "offsetgroup": "",
         "orientation": "v",
         "showlegend": false,
         "textposition": "auto",
         "type": "bar",
         "x": [
          "Jan",
          "Feb",
          "Mar",
          "Apr",
          "May",
          "Jun",
          "Jul",
          "Aug",
          "Sep",
          "Oct",
          "Nov",
          "Dec"
         ],
         "xaxis": "x11",
         "y": [
          0.027656757211310577,
          0.021143965909530493,
          -0.023139285669303677,
          0.06316607616143048,
          0.026740686711483774,
          -0.016871761885468996,
          0.010028418730367371,
          -0.014172058188914516,
          -0.01779246784485764,
          0.046678484168512016,
          0.050298849981487016,
          0.02103590770509791
         ],
         "yaxis": "y11"
        }
       ],
       "layout": {
        "annotations": [
         {
          "font": {
           "size": 16
          },
          "showarrow": false,
          "text": "Seasonality: Communication Services",
          "x": 0.06944444444444445,
          "xanchor": "center",
          "xref": "paper",
          "y": 1,
          "yanchor": "bottom",
          "yref": "paper"
         },
         {
          "font": {
           "size": 16
          },
          "showarrow": false,
          "text": "Seasonality: Materials",
          "x": 0.24166666666666667,
          "xanchor": "center",
          "xref": "paper",
          "y": 1,
          "yanchor": "bottom",
          "yref": "paper"
         },
         {
          "font": {
           "size": 16
          },
          "showarrow": false,
          "text": "Seasonality: Industrials",
          "x": 0.41388888888888886,
          "xanchor": "center",
          "xref": "paper",
          "y": 1,
          "yanchor": "bottom",
          "yref": "paper"
         },
         {
          "font": {
           "size": 16
          },
          "showarrow": false,
          "text": "Seasonality: Financials",
          "x": 0.5861111111111112,
          "xanchor": "center",
          "xref": "paper",
          "y": 1,
          "yanchor": "bottom",
          "yref": "paper"
         },
         {
          "font": {
           "size": 16
          },
          "showarrow": false,
          "text": "Seasonality: Consumer Staples",
          "x": 0.7583333333333333,
          "xanchor": "center",
          "xref": "paper",
          "y": 1,
          "yanchor": "bottom",
          "yref": "paper"
         },
         {
          "font": {
           "size": 16
          },
          "showarrow": false,
          "text": "Seasonality: Utilities",
          "x": 0.9305555555555556,
          "xanchor": "center",
          "xref": "paper",
          "y": 1,
          "yanchor": "bottom",
          "yref": "paper"
         },
         {
          "font": {
           "size": 16
          },
          "showarrow": false,
          "text": "Seasonality: Health Care",
          "x": 0.06944444444444445,
          "xanchor": "center",
          "xref": "paper",
          "y": 0.375,
          "yanchor": "bottom",
          "yref": "paper"
         },
         {
          "font": {
           "size": 16
          },
          "showarrow": false,
          "text": "Seasonality: Consumer Discretionary",
          "x": 0.24166666666666667,
          "xanchor": "center",
          "xref": "paper",
          "y": 0.375,
          "yanchor": "bottom",
          "yref": "paper"
         },
         {
          "font": {
           "size": 16
          },
          "showarrow": false,
          "text": "Seasonality: Technology",
          "x": 0.41388888888888886,
          "xanchor": "center",
          "xref": "paper",
          "y": 0.375,
          "yanchor": "bottom",
          "yref": "paper"
         },
         {
          "font": {
           "size": 16
          },
          "showarrow": false,
          "text": "Seasonality: Real Estate",
          "x": 0.5861111111111112,
          "xanchor": "center",
          "xref": "paper",
          "y": 0.375,
          "yanchor": "bottom",
          "yref": "paper"
         },
         {
          "font": {
           "size": 16
          },
          "showarrow": false,
          "text": "Seasonality: Energy",
          "x": 0.7583333333333333,
          "xanchor": "center",
          "xref": "paper",
          "y": 0.375,
          "yanchor": "bottom",
          "yref": "paper"
         }
        ],
        "height": 800,
        "showlegend": false,
        "template": {
         "data": {
          "bar": [
           {
            "error_x": {
             "color": "#2a3f5f"
            },
            "error_y": {
             "color": "#2a3f5f"
            },
            "marker": {
             "line": {
              "color": "#E5ECF6",
              "width": 0.5
             },
             "pattern": {
              "fillmode": "overlay",
              "size": 10,
              "solidity": 0.2
             }
            },
            "type": "bar"
           }
          ],
          "barpolar": [
           {
            "marker": {
             "line": {
              "color": "#E5ECF6",
              "width": 0.5
             },
             "pattern": {
              "fillmode": "overlay",
              "size": 10,
              "solidity": 0.2
             }
            },
            "type": "barpolar"
           }
          ],
          "carpet": [
           {
            "aaxis": {
             "endlinecolor": "#2a3f5f",
             "gridcolor": "white",
             "linecolor": "white",
             "minorgridcolor": "white",
             "startlinecolor": "#2a3f5f"
            },
            "baxis": {
             "endlinecolor": "#2a3f5f",
             "gridcolor": "white",
             "linecolor": "white",
             "minorgridcolor": "white",
             "startlinecolor": "#2a3f5f"
            },
            "type": "carpet"
           }
          ],
          "choropleth": [
           {
            "colorbar": {
             "outlinewidth": 0,
             "ticks": ""
            },
            "type": "choropleth"
           }
          ],
          "contour": [
           {
            "colorbar": {
             "outlinewidth": 0,
             "ticks": ""
            },
            "colorscale": [
             [
              0,
              "#0d0887"
             ],
             [
              0.1111111111111111,
              "#46039f"
             ],
             [
              0.2222222222222222,
              "#7201a8"
             ],
             [
              0.3333333333333333,
              "#9c179e"
             ],
             [
              0.4444444444444444,
              "#bd3786"
             ],
             [
              0.5555555555555556,
              "#d8576b"
             ],
             [
              0.6666666666666666,
              "#ed7953"
             ],
             [
              0.7777777777777778,
              "#fb9f3a"
             ],
             [
              0.8888888888888888,
              "#fdca26"
             ],
             [
              1,
              "#f0f921"
             ]
            ],
            "type": "contour"
           }
          ],
          "contourcarpet": [
           {
            "colorbar": {
             "outlinewidth": 0,
             "ticks": ""
            },
            "type": "contourcarpet"
           }
          ],
          "heatmap": [
           {
            "colorbar": {
             "outlinewidth": 0,
             "ticks": ""
            },
            "colorscale": [
             [
              0,
              "#0d0887"
             ],
             [
              0.1111111111111111,
              "#46039f"
             ],
             [
              0.2222222222222222,
              "#7201a8"
             ],
             [
              0.3333333333333333,
              "#9c179e"
             ],
             [
              0.4444444444444444,
              "#bd3786"
             ],
             [
              0.5555555555555556,
              "#d8576b"
             ],
             [
              0.6666666666666666,
              "#ed7953"
             ],
             [
              0.7777777777777778,
              "#fb9f3a"
             ],
             [
              0.8888888888888888,
              "#fdca26"
             ],
             [
              1,
              "#f0f921"
             ]
            ],
            "type": "heatmap"
           }
          ],
          "heatmapgl": [
           {
            "colorbar": {
             "outlinewidth": 0,
             "ticks": ""
            },
            "colorscale": [
             [
              0,
              "#0d0887"
             ],
             [
              0.1111111111111111,
              "#46039f"
             ],
             [
              0.2222222222222222,
              "#7201a8"
             ],
             [
              0.3333333333333333,
              "#9c179e"
             ],
             [
              0.4444444444444444,
              "#bd3786"
             ],
             [
              0.5555555555555556,
              "#d8576b"
             ],
             [
              0.6666666666666666,
              "#ed7953"
             ],
             [
              0.7777777777777778,
              "#fb9f3a"
             ],
             [
              0.8888888888888888,
              "#fdca26"
             ],
             [
              1,
              "#f0f921"
             ]
            ],
            "type": "heatmapgl"
           }
          ],
          "histogram": [
           {
            "marker": {
             "pattern": {
              "fillmode": "overlay",
              "size": 10,
              "solidity": 0.2
             }
            },
            "type": "histogram"
           }
          ],
          "histogram2d": [
           {
            "colorbar": {
             "outlinewidth": 0,
             "ticks": ""
            },
            "colorscale": [
             [
              0,
              "#0d0887"
             ],
             [
              0.1111111111111111,
              "#46039f"
             ],
             [
              0.2222222222222222,
              "#7201a8"
             ],
             [
              0.3333333333333333,
              "#9c179e"
             ],
             [
              0.4444444444444444,
              "#bd3786"
             ],
             [
              0.5555555555555556,
              "#d8576b"
             ],
             [
              0.6666666666666666,
              "#ed7953"
             ],
             [
              0.7777777777777778,
              "#fb9f3a"
             ],
             [
              0.8888888888888888,
              "#fdca26"
             ],
             [
              1,
              "#f0f921"
             ]
            ],
            "type": "histogram2d"
           }
          ],
          "histogram2dcontour": [
           {
            "colorbar": {
             "outlinewidth": 0,
             "ticks": ""
            },
            "colorscale": [
             [
              0,
              "#0d0887"
             ],
             [
              0.1111111111111111,
              "#46039f"
             ],
             [
              0.2222222222222222,
              "#7201a8"
             ],
             [
              0.3333333333333333,
              "#9c179e"
             ],
             [
              0.4444444444444444,
              "#bd3786"
             ],
             [
              0.5555555555555556,
              "#d8576b"
             ],
             [
              0.6666666666666666,
              "#ed7953"
             ],
             [
              0.7777777777777778,
              "#fb9f3a"
             ],
             [
              0.8888888888888888,
              "#fdca26"
             ],
             [
              1,
              "#f0f921"
             ]
            ],
            "type": "histogram2dcontour"
           }
          ],
          "mesh3d": [
           {
            "colorbar": {
             "outlinewidth": 0,
             "ticks": ""
            },
            "type": "mesh3d"
           }
          ],
          "parcoords": [
           {
            "line": {
             "colorbar": {
              "outlinewidth": 0,
              "ticks": ""
             }
            },
            "type": "parcoords"
           }
          ],
          "pie": [
           {
            "automargin": true,
            "type": "pie"
           }
          ],
          "scatter": [
           {
            "fillpattern": {
             "fillmode": "overlay",
             "size": 10,
             "solidity": 0.2
            },
            "type": "scatter"
           }
          ],
          "scatter3d": [
           {
            "line": {
             "colorbar": {
              "outlinewidth": 0,
              "ticks": ""
             }
            },
            "marker": {
             "colorbar": {
              "outlinewidth": 0,
              "ticks": ""
             }
            },
            "type": "scatter3d"
           }
          ],
          "scattercarpet": [
           {
            "marker": {
             "colorbar": {
              "outlinewidth": 0,
              "ticks": ""
             }
            },
            "type": "scattercarpet"
           }
          ],
          "scattergeo": [
           {
            "marker": {
             "colorbar": {
              "outlinewidth": 0,
              "ticks": ""
             }
            },
            "type": "scattergeo"
           }
          ],
          "scattergl": [
           {
            "marker": {
             "colorbar": {
              "outlinewidth": 0,
              "ticks": ""
             }
            },
            "type": "scattergl"
           }
          ],
          "scattermapbox": [
           {
            "marker": {
             "colorbar": {
              "outlinewidth": 0,
              "ticks": ""
             }
            },
            "type": "scattermapbox"
           }
          ],
          "scatterpolar": [
           {
            "marker": {
             "colorbar": {
              "outlinewidth": 0,
              "ticks": ""
             }
            },
            "type": "scatterpolar"
           }
          ],
          "scatterpolargl": [
           {
            "marker": {
             "colorbar": {
              "outlinewidth": 0,
              "ticks": ""
             }
            },
            "type": "scatterpolargl"
           }
          ],
          "scatterternary": [
           {
            "marker": {
             "colorbar": {
              "outlinewidth": 0,
              "ticks": ""
             }
            },
            "type": "scatterternary"
           }
          ],
          "surface": [
           {
            "colorbar": {
             "outlinewidth": 0,
             "ticks": ""
            },
            "colorscale": [
             [
              0,
              "#0d0887"
             ],
             [
              0.1111111111111111,
              "#46039f"
             ],
             [
              0.2222222222222222,
              "#7201a8"
             ],
             [
              0.3333333333333333,
              "#9c179e"
             ],
             [
              0.4444444444444444,
              "#bd3786"
             ],
             [
              0.5555555555555556,
              "#d8576b"
             ],
             [
              0.6666666666666666,
              "#ed7953"
             ],
             [
              0.7777777777777778,
              "#fb9f3a"
             ],
             [
              0.8888888888888888,
              "#fdca26"
             ],
             [
              1,
              "#f0f921"
             ]
            ],
            "type": "surface"
           }
          ],
          "table": [
           {
            "cells": {
             "fill": {
              "color": "#EBF0F8"
             },
             "line": {
              "color": "white"
             }
            },
            "header": {
             "fill": {
              "color": "#C8D4E3"
             },
             "line": {
              "color": "white"
             }
            },
            "type": "table"
           }
          ]
         },
         "layout": {
          "annotationdefaults": {
           "arrowcolor": "#2a3f5f",
           "arrowhead": 0,
           "arrowwidth": 1
          },
          "autotypenumbers": "strict",
          "coloraxis": {
           "colorbar": {
            "outlinewidth": 0,
            "ticks": ""
           }
          },
          "colorscale": {
           "diverging": [
            [
             0,
             "#8e0152"
            ],
            [
             0.1,
             "#c51b7d"
            ],
            [
             0.2,
             "#de77ae"
            ],
            [
             0.3,
             "#f1b6da"
            ],
            [
             0.4,
             "#fde0ef"
            ],
            [
             0.5,
             "#f7f7f7"
            ],
            [
             0.6,
             "#e6f5d0"
            ],
            [
             0.7,
             "#b8e186"
            ],
            [
             0.8,
             "#7fbc41"
            ],
            [
             0.9,
             "#4d9221"
            ],
            [
             1,
             "#276419"
            ]
           ],
           "sequential": [
            [
             0,
             "#0d0887"
            ],
            [
             0.1111111111111111,
             "#46039f"
            ],
            [
             0.2222222222222222,
             "#7201a8"
            ],
            [
             0.3333333333333333,
             "#9c179e"
            ],
            [
             0.4444444444444444,
             "#bd3786"
            ],
            [
             0.5555555555555556,
             "#d8576b"
            ],
            [
             0.6666666666666666,
             "#ed7953"
            ],
            [
             0.7777777777777778,
             "#fb9f3a"
            ],
            [
             0.8888888888888888,
             "#fdca26"
            ],
            [
             1,
             "#f0f921"
            ]
           ],
           "sequentialminus": [
            [
             0,
             "#0d0887"
            ],
            [
             0.1111111111111111,
             "#46039f"
            ],
            [
             0.2222222222222222,
             "#7201a8"
            ],
            [
             0.3333333333333333,
             "#9c179e"
            ],
            [
             0.4444444444444444,
             "#bd3786"
            ],
            [
             0.5555555555555556,
             "#d8576b"
            ],
            [
             0.6666666666666666,
             "#ed7953"
            ],
            [
             0.7777777777777778,
             "#fb9f3a"
            ],
            [
             0.8888888888888888,
             "#fdca26"
            ],
            [
             1,
             "#f0f921"
            ]
           ]
          },
          "colorway": [
           "#636efa",
           "#EF553B",
           "#00cc96",
           "#ab63fa",
           "#FFA15A",
           "#19d3f3",
           "#FF6692",
           "#B6E880",
           "#FF97FF",
           "#FECB52"
          ],
          "font": {
           "color": "#2a3f5f"
          },
          "geo": {
           "bgcolor": "white",
           "lakecolor": "white",
           "landcolor": "#E5ECF6",
           "showlakes": true,
           "showland": true,
           "subunitcolor": "white"
          },
          "hoverlabel": {
           "align": "left"
          },
          "hovermode": "closest",
          "mapbox": {
           "style": "light"
          },
          "paper_bgcolor": "white",
          "plot_bgcolor": "#E5ECF6",
          "polar": {
           "angularaxis": {
            "gridcolor": "white",
            "linecolor": "white",
            "ticks": ""
           },
           "bgcolor": "#E5ECF6",
           "radialaxis": {
            "gridcolor": "white",
            "linecolor": "white",
            "ticks": ""
           }
          },
          "scene": {
           "xaxis": {
            "backgroundcolor": "#E5ECF6",
            "gridcolor": "white",
            "gridwidth": 2,
            "linecolor": "white",
            "showbackground": true,
            "ticks": "",
            "zerolinecolor": "white"
           },
           "yaxis": {
            "backgroundcolor": "#E5ECF6",
            "gridcolor": "white",
            "gridwidth": 2,
            "linecolor": "white",
            "showbackground": true,
            "ticks": "",
            "zerolinecolor": "white"
           },
           "zaxis": {
            "backgroundcolor": "#E5ECF6",
            "gridcolor": "white",
            "gridwidth": 2,
            "linecolor": "white",
            "showbackground": true,
            "ticks": "",
            "zerolinecolor": "white"
           }
          },
          "shapedefaults": {
           "line": {
            "color": "#2a3f5f"
           }
          },
          "ternary": {
           "aaxis": {
            "gridcolor": "white",
            "linecolor": "white",
            "ticks": ""
           },
           "baxis": {
            "gridcolor": "white",
            "linecolor": "white",
            "ticks": ""
           },
           "bgcolor": "#E5ECF6",
           "caxis": {
            "gridcolor": "white",
            "linecolor": "white",
            "ticks": ""
           }
          },
          "title": {
           "x": 0.05
          },
          "xaxis": {
           "automargin": true,
           "gridcolor": "white",
           "linecolor": "white",
           "ticks": "",
           "title": {
            "standoff": 15
           },
           "zerolinecolor": "white",
           "zerolinewidth": 2
          },
          "yaxis": {
           "automargin": true,
           "gridcolor": "white",
           "linecolor": "white",
           "ticks": "",
           "title": {
            "standoff": 15
           },
           "zerolinecolor": "white",
           "zerolinewidth": 2
          }
         }
        },
        "title": {
         "text": "Seasonality of S&P 500 Sector SPDRs"
        },
        "width": 1600,
        "xaxis": {
         "anchor": "y",
         "domain": [
          0,
          0.1388888888888889
         ]
        },
        "xaxis10": {
         "anchor": "y10",
         "domain": [
          0.5166666666666667,
          0.6555555555555557
         ]
        },
        "xaxis11": {
         "anchor": "y11",
         "domain": [
          0.6888888888888889,
          0.8277777777777777
         ]
        },
        "xaxis12": {
         "anchor": "y12",
         "domain": [
          0.861111111111111,
          1
         ]
        },
        "xaxis2": {
         "anchor": "y2",
         "domain": [
          0.17222222222222222,
          0.3111111111111111
         ]
        },
        "xaxis3": {
         "anchor": "y3",
         "domain": [
          0.34444444444444444,
          0.48333333333333334
         ]
        },
        "xaxis4": {
         "anchor": "y4",
         "domain": [
          0.5166666666666667,
          0.6555555555555557
         ]
        },
        "xaxis5": {
         "anchor": "y5",
         "domain": [
          0.6888888888888889,
          0.8277777777777777
         ]
        },
        "xaxis6": {
         "anchor": "y6",
         "domain": [
          0.861111111111111,
          1
         ]
        },
        "xaxis7": {
         "anchor": "y7",
         "domain": [
          0,
          0.1388888888888889
         ]
        },
        "xaxis8": {
         "anchor": "y8",
         "domain": [
          0.17222222222222222,
          0.3111111111111111
         ]
        },
        "xaxis9": {
         "anchor": "y9",
         "domain": [
          0.34444444444444444,
          0.48333333333333334
         ]
        },
        "yaxis": {
         "anchor": "x",
         "domain": [
          0.625,
          1
         ]
        },
        "yaxis10": {
         "anchor": "x10",
         "domain": [
          0,
          0.375
         ]
        },
        "yaxis11": {
         "anchor": "x11",
         "domain": [
          0,
          0.375
         ]
        },
        "yaxis12": {
         "anchor": "x12",
         "domain": [
          0,
          0.375
         ]
        },
        "yaxis2": {
         "anchor": "x2",
         "domain": [
          0.625,
          1
         ]
        },
        "yaxis3": {
         "anchor": "x3",
         "domain": [
          0.625,
          1
         ]
        },
        "yaxis4": {
         "anchor": "x4",
         "domain": [
          0.625,
          1
         ]
        },
        "yaxis5": {
         "anchor": "x5",
         "domain": [
          0.625,
          1
         ]
        },
        "yaxis6": {
         "anchor": "x6",
         "domain": [
          0.625,
          1
         ]
        },
        "yaxis7": {
         "anchor": "x7",
         "domain": [
          0,
          0.375
         ]
        },
        "yaxis8": {
         "anchor": "x8",
         "domain": [
          0,
          0.375
         ]
        },
        "yaxis9": {
         "anchor": "x9",
         "domain": [
          0,
          0.375
         ]
        }
       }
      }
     },
     "metadata": {},
     "output_type": "display_data"
    }
   ],
   "source": [
    "#MONTHLY SEASONALITY\n",
    "# Create individual figures\n",
    "fig_sp500 = plot_seasonality(sp500_monthly_returns, 'Seasonality: S&P 500')\n",
    "fig_nasdaq = plot_seasonality(nasdaq_monthly_returns, 'Seasonality: Nasdaq 100')\n",
    "fig_dija = plot_seasonality(dija_monthly_returns, 'Seasonality: DIJA')\n",
    "fig_vix = plot_seasonality(vix_monthly_returns, 'Seasonality: VIX')\n",
    "fig_gold = plot_seasonality(gold_monthly_returns, 'Seasonality: Gold')\n",
    "fig_treasury_bonds_20y = plot_seasonality(treasury_bonds_20y_monthly_returns, 'Seasonality: Treasury Bonds 20Y')\n",
    "fig_uso = plot_seasonality(uso_monthly_returns, 'Seasonality: USO')\n",
    "fig_vnq = plot_seasonality(vnq_monthly_returns, 'Seasonality: VNQ')\n",
    "# Create individual seasonality figures\n",
    "# Create individual seasonality figures\n",
    "fig_xlc = plot_seasonality(xlc_monthly_returns, 'Seasonality: Communication Services')\n",
    "fig_xlb = plot_seasonality(xlb_monthly_returns, 'Seasonality: Materials')\n",
    "fig_xli = plot_seasonality(xli_monthly_returns, 'Seasonality: Industrials')\n",
    "fig_xlf = plot_seasonality(xlf_monthly_returns, 'Seasonality: Financials')\n",
    "fig_xlp = plot_seasonality(xlp_monthly_returns, 'Seasonality: Consumer Staples')\n",
    "fig_xlu = plot_seasonality(xlu_monthly_returns, 'Seasonality: Utilities')\n",
    "fig_xlv = plot_seasonality(xlv_monthly_returns, 'Seasonality: Health Care')\n",
    "fig_xly = plot_seasonality(xly_monthly_returns, 'Seasonality: Consumer Discretionary')\n",
    "fig_xlk = plot_seasonality(xlk_monthly_returns, 'Seasonality: Technology')\n",
    "fig_xlre = plot_seasonality(xlre_monthly_returns, 'Seasonality: Real Estate')\n",
    "fig_xle = plot_seasonality(xle_monthly_returns, 'Seasonality: Energy')\n",
    "\n",
    "# Create a 2x4 subplot\n",
    "fig = make_subplots(rows=2, cols=4, \n",
    "                    subplot_titles=('Seasonality: S&P 500', 'Seasonality: Nasdaq 100',\n",
    "                                    'Seasonality: DIJA', 'Seasonality: VIX',\n",
    "                                    'Seasonality: Gold', 'Seasonality: Treasury Bonds 20Y',\n",
    "                                    'Seasonality: USO', 'Seasonality: VNQ'))\n",
    "\n",
    "# Extract components from existing figures\n",
    "traces_sp500, layout_sp500 = extract_fig_components(fig_sp500)\n",
    "traces_nasdaq, layout_nasdaq = extract_fig_components(fig_nasdaq)\n",
    "traces_dija, layout_dija = extract_fig_components(fig_dija)\n",
    "traces_vix, layout_vix = extract_fig_components(fig_vix)\n",
    "traces_gold, layout_gold = extract_fig_components(fig_gold)\n",
    "traces_treasury_bonds_20y, layout_treasury_bonds_20y = extract_fig_components(fig_treasury_bonds_20y)\n",
    "traces_uso, layout_uso = extract_fig_components(fig_uso)\n",
    "traces_vnq, layout_vnq = extract_fig_components(fig_vnq)\n",
    "\n",
    "# Add traces and layout components to subplots\n",
    "add_fig_to_subplot(fig, traces_sp500, layout_sp500, 1, 1)\n",
    "add_fig_to_subplot(fig, traces_nasdaq, layout_nasdaq, 1, 2)\n",
    "add_fig_to_subplot(fig, traces_dija, layout_dija, 1, 3)\n",
    "add_fig_to_subplot(fig, traces_vix, layout_vix, 1, 4)\n",
    "add_fig_to_subplot(fig, traces_gold, layout_gold, 2, 1)\n",
    "add_fig_to_subplot(fig, traces_treasury_bonds_20y, layout_treasury_bonds_20y, 2, 2)\n",
    "add_fig_to_subplot(fig, traces_uso, layout_uso, 2, 3)\n",
    "add_fig_to_subplot(fig, traces_vnq, layout_vnq, 2, 4)\n",
    "\n",
    "# Update layout for the entire figure\n",
    "fig.update_layout(height=800, width=1600, \n",
    "                  title_text=\"Seasonality of Major Markets and Key Assets\",\n",
    "                  showlegend=False)  # Hide legend if desired\n",
    "\n",
    "fig.show()\n",
    "\n",
    "fig = make_subplots(rows=2, cols=6, \n",
    "                    subplot_titles=('Seasonality: Communication Services', 'Seasonality: Materials',\n",
    "                                    'Seasonality: Industrials', 'Seasonality: Financials',\n",
    "                                    'Seasonality: Consumer Staples', 'Seasonality: Utilities',\n",
    "                                    'Seasonality: Health Care', 'Seasonality: Consumer Discretionary',\n",
    "                                    'Seasonality: Technology', 'Seasonality: Real Estate',\n",
    "                                    'Seasonality: Energy'))\n",
    "\n",
    "# Extract components from existing figures\n",
    "traces_xlc, layout_xlc = extract_fig_components(fig_xlc)\n",
    "traces_xlb, layout_xlb = extract_fig_components(fig_xlb)\n",
    "traces_xli, layout_xli = extract_fig_components(fig_xli)\n",
    "traces_xlf, layout_xlf = extract_fig_components(fig_xlf)\n",
    "traces_xlp, layout_xlp = extract_fig_components(fig_xlp)\n",
    "traces_xlu, layout_xlu = extract_fig_components(fig_xlu)\n",
    "traces_xlv, layout_xlv = extract_fig_components(fig_xlv)\n",
    "traces_xly, layout_xly = extract_fig_components(fig_xly)\n",
    "traces_xlk, layout_xlk = extract_fig_components(fig_xlk)\n",
    "traces_xlre, layout_xlre = extract_fig_components(fig_xlre)\n",
    "traces_xle, layout_xle = extract_fig_components(fig_xle)\n",
    "\n",
    "# Add traces and layout components to subplots\n",
    "add_fig_to_subplot(fig, traces_xlc, layout_xlc, 1, 1)\n",
    "add_fig_to_subplot(fig, traces_xlb, layout_xlb, 1, 2)\n",
    "add_fig_to_subplot(fig, traces_xli, layout_xli, 1, 3)\n",
    "add_fig_to_subplot(fig, traces_xlf, layout_xlf, 1, 4)\n",
    "add_fig_to_subplot(fig, traces_xlp, layout_xlp, 1, 5)\n",
    "add_fig_to_subplot(fig, traces_xlu, layout_xlu, 1, 6)\n",
    "add_fig_to_subplot(fig, traces_xlv, layout_xlv, 2, 1)\n",
    "add_fig_to_subplot(fig, traces_xly, layout_xly, 2, 2)\n",
    "add_fig_to_subplot(fig, traces_xlk, layout_xlk, 2, 3)\n",
    "add_fig_to_subplot(fig, traces_xlre, layout_xlre, 2, 4)\n",
    "add_fig_to_subplot(fig, traces_xle, layout_xle, 2, 5)\n",
    "\n",
    "# Update layout for the entire figure\n",
    "fig.update_layout(height=800, width=1600, \n",
    "                  title_text=\"Seasonality of S&P 500 Sector SPDRs\",\n",
    "                  showlegend=False)  # Hide legend if desired\n",
    "\n",
    "fig.show()\n"
   ]
  },
  {
   "cell_type": "code",
   "execution_count": 15,
   "metadata": {},
   "outputs": [
    {
     "data": {
      "application/vnd.plotly.v1+json": {
       "config": {
        "plotlyServerURL": "https://plot.ly"
       },
       "data": [
        {
         "alignmentgroup": "True",
         "hovertemplate": "x=%{x}<br>y=%{y}<extra></extra>",
         "legendgroup": "",
         "marker": {
          "color": "#636efa",
          "pattern": {
           "shape": ""
          }
         },
         "name": "",
         "offsetgroup": "",
         "orientation": "v",
         "showlegend": false,
         "textposition": "auto",
         "type": "bar",
         "x": [
          "01/02",
          "01/03",
          "01/04",
          "01/05",
          "01/06",
          "01/07",
          "01/08",
          "01/09",
          "01/10",
          "01/11",
          "01/12",
          "01/13",
          "01/14",
          "01/15",
          "01/16",
          "01/17",
          "01/18",
          "01/19",
          "01/20",
          "01/21",
          "01/22",
          "01/23",
          "01/24",
          "01/25",
          "01/26",
          "01/27",
          "01/28",
          "01/29",
          "01/30",
          "01/31",
          "02/01",
          "02/02",
          "02/03",
          "02/04",
          "02/05",
          "02/06",
          "02/07",
          "02/08",
          "02/09",
          "02/10",
          "02/11",
          "02/12",
          "02/13",
          "02/14",
          "02/15",
          "02/16",
          "02/17",
          "02/18",
          "02/19",
          "02/20",
          "02/21",
          "02/22",
          "02/23",
          "02/24",
          "02/25",
          "02/26",
          "02/27",
          "02/28",
          "03/01",
          "03/02",
          "03/03",
          "03/04",
          "03/05",
          "03/06",
          "03/07",
          "03/08",
          "03/09",
          "03/10",
          "03/11",
          "03/12",
          "03/13",
          "03/14",
          "03/15",
          "03/16",
          "03/17",
          "03/18",
          "03/19",
          "03/20",
          "03/21",
          "03/22",
          "03/23",
          "03/24",
          "03/25",
          "03/26",
          "03/27",
          "03/28",
          "03/29",
          "03/30",
          "03/31",
          "04/01",
          "04/02",
          "04/03",
          "04/04",
          "04/05",
          "04/06",
          "04/07",
          "04/08",
          "04/09",
          "04/10",
          "04/11",
          "04/12",
          "04/13",
          "04/14",
          "04/15",
          "04/16",
          "04/17",
          "04/18",
          "04/19",
          "04/20",
          "04/21",
          "04/22",
          "04/23",
          "04/24",
          "04/25",
          "04/26",
          "04/27",
          "04/28",
          "04/29",
          "04/30",
          "05/01",
          "05/02",
          "05/03",
          "05/04",
          "05/05",
          "05/06",
          "05/07",
          "05/08",
          "05/09",
          "05/10",
          "05/11",
          "05/12",
          "05/13",
          "05/14",
          "05/15",
          "05/16",
          "05/17",
          "05/18",
          "05/19",
          "05/20",
          "05/21",
          "05/22",
          "05/23",
          "05/24",
          "05/25",
          "05/26",
          "05/27",
          "05/28",
          "05/29",
          "05/30",
          "05/31",
          "06/01",
          "06/02",
          "06/03",
          "06/04",
          "06/05",
          "06/06",
          "06/07",
          "06/08",
          "06/09",
          "06/10",
          "06/11",
          "06/12",
          "06/13",
          "06/14",
          "06/15",
          "06/16",
          "06/17",
          "06/18",
          "06/19",
          "06/20",
          "06/21",
          "06/22",
          "06/23",
          "06/24",
          "06/25",
          "06/26",
          "06/27",
          "06/28",
          "06/29",
          "06/30",
          "07/01",
          "07/02",
          "07/03",
          "07/05",
          "07/06",
          "07/07",
          "07/08",
          "07/09",
          "07/10",
          "07/11",
          "07/12",
          "07/13",
          "07/14",
          "07/15",
          "07/16",
          "07/17",
          "07/18",
          "07/19",
          "07/20",
          "07/21",
          "07/22",
          "07/23",
          "07/24",
          "07/25",
          "07/26",
          "07/27",
          "07/28",
          "07/29",
          "07/30",
          "07/31",
          "08/01",
          "08/02",
          "08/03",
          "08/04",
          "08/05",
          "08/06",
          "08/07",
          "08/08",
          "08/09",
          "08/10",
          "08/11",
          "08/12",
          "08/13",
          "08/14",
          "08/15",
          "08/16",
          "08/17",
          "08/18",
          "08/19",
          "08/20",
          "08/21",
          "08/22",
          "08/23",
          "08/24",
          "08/25",
          "08/26",
          "08/27",
          "08/28",
          "08/29",
          "08/30",
          "08/31",
          "09/01",
          "09/02",
          "09/03",
          "09/04",
          "09/05",
          "09/06",
          "09/07",
          "09/08",
          "09/09",
          "09/10",
          "09/11",
          "09/12",
          "09/13",
          "09/14",
          "09/15",
          "09/16",
          "09/17",
          "09/18",
          "09/19",
          "09/20",
          "09/21",
          "09/22",
          "09/23",
          "09/24",
          "09/25",
          "09/26",
          "09/27",
          "09/28",
          "09/29",
          "09/30",
          "10/01",
          "10/02",
          "10/03",
          "10/04",
          "10/05",
          "10/06",
          "10/07",
          "10/08",
          "10/09",
          "10/10",
          "10/11",
          "10/12",
          "10/13",
          "10/14",
          "10/15",
          "10/16",
          "10/17",
          "10/18",
          "10/19",
          "10/20",
          "10/21",
          "10/22",
          "10/23",
          "10/24",
          "10/25",
          "10/26",
          "10/27",
          "10/28",
          "10/29",
          "10/30",
          "10/31",
          "11/01",
          "11/02",
          "11/03",
          "11/04",
          "11/05",
          "11/06",
          "11/07",
          "11/08",
          "11/09",
          "11/10",
          "11/11",
          "11/12",
          "11/13",
          "11/14",
          "11/15",
          "11/16",
          "11/17",
          "11/18",
          "11/19",
          "11/20",
          "11/21",
          "11/22",
          "11/23",
          "11/24",
          "11/25",
          "11/26",
          "11/27",
          "11/28",
          "11/29",
          "11/30",
          "12/01",
          "12/02",
          "12/03",
          "12/04",
          "12/05",
          "12/06",
          "12/07",
          "12/08",
          "12/09",
          "12/10",
          "12/11",
          "12/12",
          "12/13",
          "12/14",
          "12/15",
          "12/16",
          "12/17",
          "12/18",
          "12/19",
          "12/20",
          "12/21",
          "12/22",
          "12/23",
          "12/24",
          "12/26",
          "12/27",
          "12/28",
          "12/29",
          "12/30",
          "12/31"
         ],
         "xaxis": "x",
         "y": [
          0.18777349191653747,
          -0.35397134081132653,
          -0.236246530727674,
          -0.5589605045268092,
          0.7946571854929474,
          0.269731977502589,
          0.8434563840409082,
          0.15653686453543555,
          0.2136625741898296,
          0.36436465020963094,
          0.18121270942851875,
          -0.008222964727594428,
          -0.1539209597944994,
          -0.2516372059049421,
          0.23234072532434258,
          -0.14258324767654207,
          -0.820165982859015,
          0.06637417755377129,
          0.713322176121256,
          -0.689242523985556,
          -0.04347917293815821,
          0.5354029271295394,
          -0.11566648334115082,
          -0.06128306225675617,
          0.14125247185098888,
          -1.077750229185434,
          1.4638250008981595,
          -0.4308821151770485,
          -0.3358294577889831,
          -0.04401966885173303,
          1.1779567886685216,
          1.22346460639432,
          -0.6479816509325276,
          1.0436492059960223,
          0.3947623494651535,
          0.005221194552562647,
          0.3219986014124071,
          0.12391873378763407,
          0.27701422070605386,
          -0.21504425014046147,
          -0.5457069752013544,
          0.36480271355627814,
          -0.10337732566292705,
          0.17399945305989206,
          0.8758002045822814,
          -0.4623559938319588,
          -0.7876643892446911,
          -0.4435941826759178,
          0.1507658406562029,
          -0.4806829167721738,
          -0.9817809435359037,
          0.022347762991101194,
          -0.2628773231240361,
          -0.4444849855518712,
          -1.0777893023962444,
          -0.4164616810845567,
          -1.3215992905555713,
          -0.29443909690864134,
          0.36405488305352174,
          1.5419316026193342,
          -0.7704852593234277,
          0.5115444144269843,
          -0.8279837921532122,
          -0.35903663807618597,
          -1.16271918375546,
          -0.42325819659049246,
          -1.3864094483243354,
          0.975610614804706,
          -1.304597591822021,
          -2.7857654379594465,
          2.7497881871885586,
          0.24148659797375385,
          0.3708324706589383,
          -1.7741426311028292,
          1.4555057693815154,
          -1.2071701140139335,
          0.1943933977748724,
          -0.8076462474536085,
          0.5380910737781944,
          0.018607720669064354,
          -1.0903485344764126,
          2.678902360141164,
          0.567914799576924,
          2.4219292839118984,
          -0.6504044690987901,
          0.1559060951577059,
          0.8800253597597655,
          0.737582265100517,
          -0.30372181337728066,
          -0.8277926785560137,
          0.8358665054360448,
          -0.3181667687817802,
          -0.3062480471798616,
          0.23875928503386268,
          1.5119216919233736,
          0.24053398945807677,
          0.9050171918201261,
          0.7881368993182628,
          -0.4493366178675906,
          -0.3092279613454226,
          -0.5304987389962768,
          0.4642517183116507,
          0.27957345953155965,
          -0.7677877404290304,
          0.2114277365443377,
          0.8228543192877283,
          -0.03314441210068667,
          0.058300639596448045,
          -0.7784439100985363,
          -0.8769474962865093,
          -0.12921937519283777,
          0.754587305407195,
          0.48357449415658377,
          -0.4625099924785066,
          -0.5408752961446411,
          0.9230754956785742,
          0.7227192086927986,
          -0.021581442344642543,
          -1.0574043460833793,
          -1.0243390471283382,
          0.13779525995688915,
          0.30680186895052086,
          0.49896143350797173,
          -0.18694304006543483,
          0.13911340067344347,
          0.6816089895965641,
          0.5636448623325278,
          -1.0213526639934467,
          -0.04078807639050497,
          -0.6587384817340974,
          -1.0882739088986126,
          0.4592193860696675,
          1.0636891762650036,
          0.6810017368099089,
          -0.4265950467960226,
          0.7900598868531561,
          -0.2208624234492168,
          -0.5118165817600884,
          0.7333694274953118,
          -0.17568336019872696,
          -0.01913392055473695,
          0.006103599964849919,
          0.04830855579476545,
          0.5091971523502048,
          1.1809306992139612,
          1.3317685422779373,
          0.02142027845613385,
          -0.1273355387442554,
          -0.31264130845349847,
          -0.06826384282334248,
          0.11432736492310025,
          1.0839451804616096,
          -0.1499763354976702,
          0.2545587545943066,
          1.1866091188297772,
          0.17345881341127947,
          0.09870919709345782,
          0.1869405981927058,
          -0.773445353995611,
          -0.6709283668089344,
          -1.7862781140501882,
          0.975349025809269,
          -0.9787258593885961,
          0.025624479539770872,
          0.8538893968148109,
          -0.570956752562965,
          0.14073809348137678,
          -0.35215112140623744,
          -0.5715004993238071,
          -0.3952335866807377,
          0.8256300884711382,
          0.33894664654584017,
          0.14101873428033485,
          0.22376584323790527,
          0.6041103430758143,
          -0.8863037646260286,
          0.2906716527877477,
          -0.5461846511115725,
          0.4590648403945269,
          0.43317740885812084,
          0.6294024439089052,
          0.6626832522766302,
          0.28065520147233514,
          0.20559276375305227,
          0.2290561795291468,
          0.1418208035758567,
          -0.0041984379729964605,
          0.19847629995741745,
          0.7545657133448828,
          -0.4559227684988139,
          0.22716169945888043,
          -0.23456869843887784,
          0.28499973310024684,
          0.6906714886565413,
          -0.17356571557921216,
          -0.25498580849759866,
          -0.2837095858387724,
          0.1958623267736853,
          0.5537603929892443,
          0.5101775458991098,
          0.22045052286860933,
          -0.10707837788804797,
          -0.8211846296737546,
          -0.042789780689604186,
          -0.3074166179927655,
          0.5517792680189787,
          0.3895083523036025,
          0.7300931773075975,
          -0.3626273109802569,
          -0.037824762932758826,
          -0.484352771598362,
          -0.7534012038600268,
          0.6970311878770563,
          -0.15636692495561988,
          -0.480474493123198,
          0.7453285615285132,
          0.3345644177922269,
          0.47035393951205445,
          -0.45703265472776256,
          0.6398888943981773,
          -0.15882225099974334,
          0.5423836069252036,
          0.5187810172677739,
          -0.8005897112137395,
          -0.1628795292000403,
          0.2932564881284322,
          -0.4524109613134264,
          -0.13492545295917258,
          -0.10014074079477686,
          0.11361148754368555,
          0.6062989291298152,
          -0.7946298284467282,
          -0.20430816745966307,
          0.02657026277390062,
          0.6691183978788096,
          -0.4667159770258611,
          0.24013545621731636,
          0.661413356008452,
          0.6871897187886611,
          -0.07264309792479051,
          -0.35441080256029267,
          0.37381953202781926,
          0.23321241192734896,
          -1.3501443042837475,
          0.1593065952909034,
          0.42667141445763557,
          -0.3241124474362718,
          0.37731072232140006,
          -0.5124819323326452,
          0.7876438479942127,
          -0.8494235417444947,
          0.47322367558732353,
          0.2908591953729278,
          -1.010533070662717,
          0.5053198765338662,
          -0.2499042864091222,
          -0.40679107880961796,
          -0.5334871104382466,
          -0.3442797462385368,
          0.18716719092661074,
          -1.051773563345129,
          -1.1511593840998369,
          0.23227729059293323,
          -0.7007566584845332,
          -0.1178220606355344,
          0.8762502761426649,
          -0.8889099885799889,
          -0.2600431617920451,
          0.5482803457722119,
          -0.6769690072063739,
          -0.3866536285784289,
          0.21364490414794712,
          -0.9185675339288379,
          0.7069417889604431,
          0.9726118578967241,
          0.6358257599386186,
          -0.21257293900557028,
          -0.15390158646028662,
          -0.28285207260626555,
          0.8276173946332103,
          0.14442656403628554,
          0.02226759046717597,
          0.10577275595265445,
          0.4620449774235619,
          -0.3341433627725404,
          0.5426740975607691,
          0.2770412268234231,
          0.9533379509747641,
          -0.07479992171338934,
          -0.5840292189139867,
          -0.31850255984179343,
          0.7948936496393222,
          0.039417787113119974,
          0.15239884260898803,
          0.7136601211590321,
          0.2768560256188046,
          -0.9272168137091613,
          -0.44376068780326017,
          0.12242155402015786,
          0.3965328819653391,
          0.15327326797093996,
          -0.12020400268052771,
          0.43182618851902443,
          0.23299001649824957,
          0.564701240262433,
          1.1368070760544746,
          0.7288683775852641,
          0.07666052537556405,
          0.5309540761722223,
          0.2361919960134462,
          -0.47851320631188965,
          1.5261856028337961,
          0.3880261930639367,
          -0.001535531290734286,
          0.4404854284388378,
          0.411667138468604,
          0.4556149933928888,
          0.2508753831227173,
          -0.24059169208294762,
          -0.08400436661526178,
          0.07111559581010063,
          -0.09563339497329719,
          -0.2474785305085677,
          0.4181560084394992,
          0.4540805186749264,
          0.6466238496369995,
          0.19949447117226793,
          -1.0018697078370276,
          0.18138848973415408,
          -0.7483521449898223,
          0.15342056502548607,
          0.28883546277577166,
          0.1252438200423922,
          0.19429171491112396,
          -0.5226616012767934,
          0.3179434287090703,
          -0.5462751304435817,
          0.06331100354111663,
          0.6139784231569911,
          0.4426809254967856,
          -0.6583654359237717,
          0.26570719445688784,
          0.18518991924328562,
          0.9201122813269347,
          0.3275222486450957,
          -0.3635410234640202,
          0.07590682416830918,
          -0.30462238062808067,
          -0.16106411159972542,
          0.05649251455642027,
          0.05667059063474792,
          -0.46845260224123997,
          0.9654505144542996,
          -0.09858456638306146,
          0.3600287616058906,
          0.19609809578898796,
          0.47726781132119145,
          0.2942254986832399,
          -0.10691521054120023,
          0.3619123204261332,
          -0.23712033803791055,
          0.16632392544327543
         ],
         "yaxis": "y"
        }
       ],
       "layout": {
        "barmode": "relative",
        "legend": {
         "tracegroupgap": 0
        },
        "template": {
         "data": {
          "bar": [
           {
            "error_x": {
             "color": "#2a3f5f"
            },
            "error_y": {
             "color": "#2a3f5f"
            },
            "marker": {
             "line": {
              "color": "#E5ECF6",
              "width": 0.5
             },
             "pattern": {
              "fillmode": "overlay",
              "size": 10,
              "solidity": 0.2
             }
            },
            "type": "bar"
           }
          ],
          "barpolar": [
           {
            "marker": {
             "line": {
              "color": "#E5ECF6",
              "width": 0.5
             },
             "pattern": {
              "fillmode": "overlay",
              "size": 10,
              "solidity": 0.2
             }
            },
            "type": "barpolar"
           }
          ],
          "carpet": [
           {
            "aaxis": {
             "endlinecolor": "#2a3f5f",
             "gridcolor": "white",
             "linecolor": "white",
             "minorgridcolor": "white",
             "startlinecolor": "#2a3f5f"
            },
            "baxis": {
             "endlinecolor": "#2a3f5f",
             "gridcolor": "white",
             "linecolor": "white",
             "minorgridcolor": "white",
             "startlinecolor": "#2a3f5f"
            },
            "type": "carpet"
           }
          ],
          "choropleth": [
           {
            "colorbar": {
             "outlinewidth": 0,
             "ticks": ""
            },
            "type": "choropleth"
           }
          ],
          "contour": [
           {
            "colorbar": {
             "outlinewidth": 0,
             "ticks": ""
            },
            "colorscale": [
             [
              0,
              "#0d0887"
             ],
             [
              0.1111111111111111,
              "#46039f"
             ],
             [
              0.2222222222222222,
              "#7201a8"
             ],
             [
              0.3333333333333333,
              "#9c179e"
             ],
             [
              0.4444444444444444,
              "#bd3786"
             ],
             [
              0.5555555555555556,
              "#d8576b"
             ],
             [
              0.6666666666666666,
              "#ed7953"
             ],
             [
              0.7777777777777778,
              "#fb9f3a"
             ],
             [
              0.8888888888888888,
              "#fdca26"
             ],
             [
              1,
              "#f0f921"
             ]
            ],
            "type": "contour"
           }
          ],
          "contourcarpet": [
           {
            "colorbar": {
             "outlinewidth": 0,
             "ticks": ""
            },
            "type": "contourcarpet"
           }
          ],
          "heatmap": [
           {
            "colorbar": {
             "outlinewidth": 0,
             "ticks": ""
            },
            "colorscale": [
             [
              0,
              "#0d0887"
             ],
             [
              0.1111111111111111,
              "#46039f"
             ],
             [
              0.2222222222222222,
              "#7201a8"
             ],
             [
              0.3333333333333333,
              "#9c179e"
             ],
             [
              0.4444444444444444,
              "#bd3786"
             ],
             [
              0.5555555555555556,
              "#d8576b"
             ],
             [
              0.6666666666666666,
              "#ed7953"
             ],
             [
              0.7777777777777778,
              "#fb9f3a"
             ],
             [
              0.8888888888888888,
              "#fdca26"
             ],
             [
              1,
              "#f0f921"
             ]
            ],
            "type": "heatmap"
           }
          ],
          "heatmapgl": [
           {
            "colorbar": {
             "outlinewidth": 0,
             "ticks": ""
            },
            "colorscale": [
             [
              0,
              "#0d0887"
             ],
             [
              0.1111111111111111,
              "#46039f"
             ],
             [
              0.2222222222222222,
              "#7201a8"
             ],
             [
              0.3333333333333333,
              "#9c179e"
             ],
             [
              0.4444444444444444,
              "#bd3786"
             ],
             [
              0.5555555555555556,
              "#d8576b"
             ],
             [
              0.6666666666666666,
              "#ed7953"
             ],
             [
              0.7777777777777778,
              "#fb9f3a"
             ],
             [
              0.8888888888888888,
              "#fdca26"
             ],
             [
              1,
              "#f0f921"
             ]
            ],
            "type": "heatmapgl"
           }
          ],
          "histogram": [
           {
            "marker": {
             "pattern": {
              "fillmode": "overlay",
              "size": 10,
              "solidity": 0.2
             }
            },
            "type": "histogram"
           }
          ],
          "histogram2d": [
           {
            "colorbar": {
             "outlinewidth": 0,
             "ticks": ""
            },
            "colorscale": [
             [
              0,
              "#0d0887"
             ],
             [
              0.1111111111111111,
              "#46039f"
             ],
             [
              0.2222222222222222,
              "#7201a8"
             ],
             [
              0.3333333333333333,
              "#9c179e"
             ],
             [
              0.4444444444444444,
              "#bd3786"
             ],
             [
              0.5555555555555556,
              "#d8576b"
             ],
             [
              0.6666666666666666,
              "#ed7953"
             ],
             [
              0.7777777777777778,
              "#fb9f3a"
             ],
             [
              0.8888888888888888,
              "#fdca26"
             ],
             [
              1,
              "#f0f921"
             ]
            ],
            "type": "histogram2d"
           }
          ],
          "histogram2dcontour": [
           {
            "colorbar": {
             "outlinewidth": 0,
             "ticks": ""
            },
            "colorscale": [
             [
              0,
              "#0d0887"
             ],
             [
              0.1111111111111111,
              "#46039f"
             ],
             [
              0.2222222222222222,
              "#7201a8"
             ],
             [
              0.3333333333333333,
              "#9c179e"
             ],
             [
              0.4444444444444444,
              "#bd3786"
             ],
             [
              0.5555555555555556,
              "#d8576b"
             ],
             [
              0.6666666666666666,
              "#ed7953"
             ],
             [
              0.7777777777777778,
              "#fb9f3a"
             ],
             [
              0.8888888888888888,
              "#fdca26"
             ],
             [
              1,
              "#f0f921"
             ]
            ],
            "type": "histogram2dcontour"
           }
          ],
          "mesh3d": [
           {
            "colorbar": {
             "outlinewidth": 0,
             "ticks": ""
            },
            "type": "mesh3d"
           }
          ],
          "parcoords": [
           {
            "line": {
             "colorbar": {
              "outlinewidth": 0,
              "ticks": ""
             }
            },
            "type": "parcoords"
           }
          ],
          "pie": [
           {
            "automargin": true,
            "type": "pie"
           }
          ],
          "scatter": [
           {
            "fillpattern": {
             "fillmode": "overlay",
             "size": 10,
             "solidity": 0.2
            },
            "type": "scatter"
           }
          ],
          "scatter3d": [
           {
            "line": {
             "colorbar": {
              "outlinewidth": 0,
              "ticks": ""
             }
            },
            "marker": {
             "colorbar": {
              "outlinewidth": 0,
              "ticks": ""
             }
            },
            "type": "scatter3d"
           }
          ],
          "scattercarpet": [
           {
            "marker": {
             "colorbar": {
              "outlinewidth": 0,
              "ticks": ""
             }
            },
            "type": "scattercarpet"
           }
          ],
          "scattergeo": [
           {
            "marker": {
             "colorbar": {
              "outlinewidth": 0,
              "ticks": ""
             }
            },
            "type": "scattergeo"
           }
          ],
          "scattergl": [
           {
            "marker": {
             "colorbar": {
              "outlinewidth": 0,
              "ticks": ""
             }
            },
            "type": "scattergl"
           }
          ],
          "scattermapbox": [
           {
            "marker": {
             "colorbar": {
              "outlinewidth": 0,
              "ticks": ""
             }
            },
            "type": "scattermapbox"
           }
          ],
          "scatterpolar": [
           {
            "marker": {
             "colorbar": {
              "outlinewidth": 0,
              "ticks": ""
             }
            },
            "type": "scatterpolar"
           }
          ],
          "scatterpolargl": [
           {
            "marker": {
             "colorbar": {
              "outlinewidth": 0,
              "ticks": ""
             }
            },
            "type": "scatterpolargl"
           }
          ],
          "scatterternary": [
           {
            "marker": {
             "colorbar": {
              "outlinewidth": 0,
              "ticks": ""
             }
            },
            "type": "scatterternary"
           }
          ],
          "surface": [
           {
            "colorbar": {
             "outlinewidth": 0,
             "ticks": ""
            },
            "colorscale": [
             [
              0,
              "#0d0887"
             ],
             [
              0.1111111111111111,
              "#46039f"
             ],
             [
              0.2222222222222222,
              "#7201a8"
             ],
             [
              0.3333333333333333,
              "#9c179e"
             ],
             [
              0.4444444444444444,
              "#bd3786"
             ],
             [
              0.5555555555555556,
              "#d8576b"
             ],
             [
              0.6666666666666666,
              "#ed7953"
             ],
             [
              0.7777777777777778,
              "#fb9f3a"
             ],
             [
              0.8888888888888888,
              "#fdca26"
             ],
             [
              1,
              "#f0f921"
             ]
            ],
            "type": "surface"
           }
          ],
          "table": [
           {
            "cells": {
             "fill": {
              "color": "#EBF0F8"
             },
             "line": {
              "color": "white"
             }
            },
            "header": {
             "fill": {
              "color": "#C8D4E3"
             },
             "line": {
              "color": "white"
             }
            },
            "type": "table"
           }
          ]
         },
         "layout": {
          "annotationdefaults": {
           "arrowcolor": "#2a3f5f",
           "arrowhead": 0,
           "arrowwidth": 1
          },
          "autotypenumbers": "strict",
          "coloraxis": {
           "colorbar": {
            "outlinewidth": 0,
            "ticks": ""
           }
          },
          "colorscale": {
           "diverging": [
            [
             0,
             "#8e0152"
            ],
            [
             0.1,
             "#c51b7d"
            ],
            [
             0.2,
             "#de77ae"
            ],
            [
             0.3,
             "#f1b6da"
            ],
            [
             0.4,
             "#fde0ef"
            ],
            [
             0.5,
             "#f7f7f7"
            ],
            [
             0.6,
             "#e6f5d0"
            ],
            [
             0.7,
             "#b8e186"
            ],
            [
             0.8,
             "#7fbc41"
            ],
            [
             0.9,
             "#4d9221"
            ],
            [
             1,
             "#276419"
            ]
           ],
           "sequential": [
            [
             0,
             "#0d0887"
            ],
            [
             0.1111111111111111,
             "#46039f"
            ],
            [
             0.2222222222222222,
             "#7201a8"
            ],
            [
             0.3333333333333333,
             "#9c179e"
            ],
            [
             0.4444444444444444,
             "#bd3786"
            ],
            [
             0.5555555555555556,
             "#d8576b"
            ],
            [
             0.6666666666666666,
             "#ed7953"
            ],
            [
             0.7777777777777778,
             "#fb9f3a"
            ],
            [
             0.8888888888888888,
             "#fdca26"
            ],
            [
             1,
             "#f0f921"
            ]
           ],
           "sequentialminus": [
            [
             0,
             "#0d0887"
            ],
            [
             0.1111111111111111,
             "#46039f"
            ],
            [
             0.2222222222222222,
             "#7201a8"
            ],
            [
             0.3333333333333333,
             "#9c179e"
            ],
            [
             0.4444444444444444,
             "#bd3786"
            ],
            [
             0.5555555555555556,
             "#d8576b"
            ],
            [
             0.6666666666666666,
             "#ed7953"
            ],
            [
             0.7777777777777778,
             "#fb9f3a"
            ],
            [
             0.8888888888888888,
             "#fdca26"
            ],
            [
             1,
             "#f0f921"
            ]
           ]
          },
          "colorway": [
           "#636efa",
           "#EF553B",
           "#00cc96",
           "#ab63fa",
           "#FFA15A",
           "#19d3f3",
           "#FF6692",
           "#B6E880",
           "#FF97FF",
           "#FECB52"
          ],
          "font": {
           "color": "#2a3f5f"
          },
          "geo": {
           "bgcolor": "white",
           "lakecolor": "white",
           "landcolor": "#E5ECF6",
           "showlakes": true,
           "showland": true,
           "subunitcolor": "white"
          },
          "hoverlabel": {
           "align": "left"
          },
          "hovermode": "closest",
          "mapbox": {
           "style": "light"
          },
          "paper_bgcolor": "white",
          "plot_bgcolor": "#E5ECF6",
          "polar": {
           "angularaxis": {
            "gridcolor": "white",
            "linecolor": "white",
            "ticks": ""
           },
           "bgcolor": "#E5ECF6",
           "radialaxis": {
            "gridcolor": "white",
            "linecolor": "white",
            "ticks": ""
           }
          },
          "scene": {
           "xaxis": {
            "backgroundcolor": "#E5ECF6",
            "gridcolor": "white",
            "gridwidth": 2,
            "linecolor": "white",
            "showbackground": true,
            "ticks": "",
            "zerolinecolor": "white"
           },
           "yaxis": {
            "backgroundcolor": "#E5ECF6",
            "gridcolor": "white",
            "gridwidth": 2,
            "linecolor": "white",
            "showbackground": true,
            "ticks": "",
            "zerolinecolor": "white"
           },
           "zaxis": {
            "backgroundcolor": "#E5ECF6",
            "gridcolor": "white",
            "gridwidth": 2,
            "linecolor": "white",
            "showbackground": true,
            "ticks": "",
            "zerolinecolor": "white"
           }
          },
          "shapedefaults": {
           "line": {
            "color": "#2a3f5f"
           }
          },
          "ternary": {
           "aaxis": {
            "gridcolor": "white",
            "linecolor": "white",
            "ticks": ""
           },
           "baxis": {
            "gridcolor": "white",
            "linecolor": "white",
            "ticks": ""
           },
           "bgcolor": "#E5ECF6",
           "caxis": {
            "gridcolor": "white",
            "linecolor": "white",
            "ticks": ""
           }
          },
          "title": {
           "x": 0.05
          },
          "xaxis": {
           "automargin": true,
           "gridcolor": "white",
           "linecolor": "white",
           "ticks": "",
           "title": {
            "standoff": 15
           },
           "zerolinecolor": "white",
           "zerolinewidth": 2
          },
          "yaxis": {
           "automargin": true,
           "gridcolor": "white",
           "linecolor": "white",
           "ticks": "",
           "title": {
            "standoff": 15
           },
           "zerolinecolor": "white",
           "zerolinewidth": 2
          }
         }
        },
        "title": {
         "text": "Average Returns for Each Day of the Year"
        },
        "xaxis": {
         "anchor": "y",
         "domain": [
          0,
          1
         ],
         "title": {
          "text": "x"
         }
        },
        "yaxis": {
         "anchor": "x",
         "domain": [
          0,
          1
         ],
         "title": {
          "text": "y"
         }
        }
       }
      }
     },
     "metadata": {},
     "output_type": "display_data"
    },
    {
     "data": {
      "application/vnd.plotly.v1+json": {
       "config": {
        "plotlyServerURL": "https://plot.ly"
       },
       "data": [
        {
         "alignmentgroup": "True",
         "hovertemplate": "x=%{x}<br>y=%{y}<extra></extra>",
         "legendgroup": "",
         "marker": {
          "color": "#636efa",
          "pattern": {
           "shape": ""
          }
         },
         "name": "",
         "offsetgroup": "",
         "orientation": "v",
         "showlegend": false,
         "textposition": "auto",
         "type": "bar",
         "x": [
          "Friday",
          "Monday",
          "Tuesday",
          "Wednesday",
          "Thursday"
         ],
         "xaxis": "x",
         "y": [
          0.07422076190689797,
          0.09066956360640772,
          0.07066954140580672,
          0.03420639276705552,
          0.038159482557753095
         ],
         "yaxis": "y"
        }
       ],
       "layout": {
        "barmode": "relative",
        "legend": {
         "tracegroupgap": 0
        },
        "template": {
         "data": {
          "bar": [
           {
            "error_x": {
             "color": "#2a3f5f"
            },
            "error_y": {
             "color": "#2a3f5f"
            },
            "marker": {
             "line": {
              "color": "#E5ECF6",
              "width": 0.5
             },
             "pattern": {
              "fillmode": "overlay",
              "size": 10,
              "solidity": 0.2
             }
            },
            "type": "bar"
           }
          ],
          "barpolar": [
           {
            "marker": {
             "line": {
              "color": "#E5ECF6",
              "width": 0.5
             },
             "pattern": {
              "fillmode": "overlay",
              "size": 10,
              "solidity": 0.2
             }
            },
            "type": "barpolar"
           }
          ],
          "carpet": [
           {
            "aaxis": {
             "endlinecolor": "#2a3f5f",
             "gridcolor": "white",
             "linecolor": "white",
             "minorgridcolor": "white",
             "startlinecolor": "#2a3f5f"
            },
            "baxis": {
             "endlinecolor": "#2a3f5f",
             "gridcolor": "white",
             "linecolor": "white",
             "minorgridcolor": "white",
             "startlinecolor": "#2a3f5f"
            },
            "type": "carpet"
           }
          ],
          "choropleth": [
           {
            "colorbar": {
             "outlinewidth": 0,
             "ticks": ""
            },
            "type": "choropleth"
           }
          ],
          "contour": [
           {
            "colorbar": {
             "outlinewidth": 0,
             "ticks": ""
            },
            "colorscale": [
             [
              0,
              "#0d0887"
             ],
             [
              0.1111111111111111,
              "#46039f"
             ],
             [
              0.2222222222222222,
              "#7201a8"
             ],
             [
              0.3333333333333333,
              "#9c179e"
             ],
             [
              0.4444444444444444,
              "#bd3786"
             ],
             [
              0.5555555555555556,
              "#d8576b"
             ],
             [
              0.6666666666666666,
              "#ed7953"
             ],
             [
              0.7777777777777778,
              "#fb9f3a"
             ],
             [
              0.8888888888888888,
              "#fdca26"
             ],
             [
              1,
              "#f0f921"
             ]
            ],
            "type": "contour"
           }
          ],
          "contourcarpet": [
           {
            "colorbar": {
             "outlinewidth": 0,
             "ticks": ""
            },
            "type": "contourcarpet"
           }
          ],
          "heatmap": [
           {
            "colorbar": {
             "outlinewidth": 0,
             "ticks": ""
            },
            "colorscale": [
             [
              0,
              "#0d0887"
             ],
             [
              0.1111111111111111,
              "#46039f"
             ],
             [
              0.2222222222222222,
              "#7201a8"
             ],
             [
              0.3333333333333333,
              "#9c179e"
             ],
             [
              0.4444444444444444,
              "#bd3786"
             ],
             [
              0.5555555555555556,
              "#d8576b"
             ],
             [
              0.6666666666666666,
              "#ed7953"
             ],
             [
              0.7777777777777778,
              "#fb9f3a"
             ],
             [
              0.8888888888888888,
              "#fdca26"
             ],
             [
              1,
              "#f0f921"
             ]
            ],
            "type": "heatmap"
           }
          ],
          "heatmapgl": [
           {
            "colorbar": {
             "outlinewidth": 0,
             "ticks": ""
            },
            "colorscale": [
             [
              0,
              "#0d0887"
             ],
             [
              0.1111111111111111,
              "#46039f"
             ],
             [
              0.2222222222222222,
              "#7201a8"
             ],
             [
              0.3333333333333333,
              "#9c179e"
             ],
             [
              0.4444444444444444,
              "#bd3786"
             ],
             [
              0.5555555555555556,
              "#d8576b"
             ],
             [
              0.6666666666666666,
              "#ed7953"
             ],
             [
              0.7777777777777778,
              "#fb9f3a"
             ],
             [
              0.8888888888888888,
              "#fdca26"
             ],
             [
              1,
              "#f0f921"
             ]
            ],
            "type": "heatmapgl"
           }
          ],
          "histogram": [
           {
            "marker": {
             "pattern": {
              "fillmode": "overlay",
              "size": 10,
              "solidity": 0.2
             }
            },
            "type": "histogram"
           }
          ],
          "histogram2d": [
           {
            "colorbar": {
             "outlinewidth": 0,
             "ticks": ""
            },
            "colorscale": [
             [
              0,
              "#0d0887"
             ],
             [
              0.1111111111111111,
              "#46039f"
             ],
             [
              0.2222222222222222,
              "#7201a8"
             ],
             [
              0.3333333333333333,
              "#9c179e"
             ],
             [
              0.4444444444444444,
              "#bd3786"
             ],
             [
              0.5555555555555556,
              "#d8576b"
             ],
             [
              0.6666666666666666,
              "#ed7953"
             ],
             [
              0.7777777777777778,
              "#fb9f3a"
             ],
             [
              0.8888888888888888,
              "#fdca26"
             ],
             [
              1,
              "#f0f921"
             ]
            ],
            "type": "histogram2d"
           }
          ],
          "histogram2dcontour": [
           {
            "colorbar": {
             "outlinewidth": 0,
             "ticks": ""
            },
            "colorscale": [
             [
              0,
              "#0d0887"
             ],
             [
              0.1111111111111111,
              "#46039f"
             ],
             [
              0.2222222222222222,
              "#7201a8"
             ],
             [
              0.3333333333333333,
              "#9c179e"
             ],
             [
              0.4444444444444444,
              "#bd3786"
             ],
             [
              0.5555555555555556,
              "#d8576b"
             ],
             [
              0.6666666666666666,
              "#ed7953"
             ],
             [
              0.7777777777777778,
              "#fb9f3a"
             ],
             [
              0.8888888888888888,
              "#fdca26"
             ],
             [
              1,
              "#f0f921"
             ]
            ],
            "type": "histogram2dcontour"
           }
          ],
          "mesh3d": [
           {
            "colorbar": {
             "outlinewidth": 0,
             "ticks": ""
            },
            "type": "mesh3d"
           }
          ],
          "parcoords": [
           {
            "line": {
             "colorbar": {
              "outlinewidth": 0,
              "ticks": ""
             }
            },
            "type": "parcoords"
           }
          ],
          "pie": [
           {
            "automargin": true,
            "type": "pie"
           }
          ],
          "scatter": [
           {
            "fillpattern": {
             "fillmode": "overlay",
             "size": 10,
             "solidity": 0.2
            },
            "type": "scatter"
           }
          ],
          "scatter3d": [
           {
            "line": {
             "colorbar": {
              "outlinewidth": 0,
              "ticks": ""
             }
            },
            "marker": {
             "colorbar": {
              "outlinewidth": 0,
              "ticks": ""
             }
            },
            "type": "scatter3d"
           }
          ],
          "scattercarpet": [
           {
            "marker": {
             "colorbar": {
              "outlinewidth": 0,
              "ticks": ""
             }
            },
            "type": "scattercarpet"
           }
          ],
          "scattergeo": [
           {
            "marker": {
             "colorbar": {
              "outlinewidth": 0,
              "ticks": ""
             }
            },
            "type": "scattergeo"
           }
          ],
          "scattergl": [
           {
            "marker": {
             "colorbar": {
              "outlinewidth": 0,
              "ticks": ""
             }
            },
            "type": "scattergl"
           }
          ],
          "scattermapbox": [
           {
            "marker": {
             "colorbar": {
              "outlinewidth": 0,
              "ticks": ""
             }
            },
            "type": "scattermapbox"
           }
          ],
          "scatterpolar": [
           {
            "marker": {
             "colorbar": {
              "outlinewidth": 0,
              "ticks": ""
             }
            },
            "type": "scatterpolar"
           }
          ],
          "scatterpolargl": [
           {
            "marker": {
             "colorbar": {
              "outlinewidth": 0,
              "ticks": ""
             }
            },
            "type": "scatterpolargl"
           }
          ],
          "scatterternary": [
           {
            "marker": {
             "colorbar": {
              "outlinewidth": 0,
              "ticks": ""
             }
            },
            "type": "scatterternary"
           }
          ],
          "surface": [
           {
            "colorbar": {
             "outlinewidth": 0,
             "ticks": ""
            },
            "colorscale": [
             [
              0,
              "#0d0887"
             ],
             [
              0.1111111111111111,
              "#46039f"
             ],
             [
              0.2222222222222222,
              "#7201a8"
             ],
             [
              0.3333333333333333,
              "#9c179e"
             ],
             [
              0.4444444444444444,
              "#bd3786"
             ],
             [
              0.5555555555555556,
              "#d8576b"
             ],
             [
              0.6666666666666666,
              "#ed7953"
             ],
             [
              0.7777777777777778,
              "#fb9f3a"
             ],
             [
              0.8888888888888888,
              "#fdca26"
             ],
             [
              1,
              "#f0f921"
             ]
            ],
            "type": "surface"
           }
          ],
          "table": [
           {
            "cells": {
             "fill": {
              "color": "#EBF0F8"
             },
             "line": {
              "color": "white"
             }
            },
            "header": {
             "fill": {
              "color": "#C8D4E3"
             },
             "line": {
              "color": "white"
             }
            },
            "type": "table"
           }
          ]
         },
         "layout": {
          "annotationdefaults": {
           "arrowcolor": "#2a3f5f",
           "arrowhead": 0,
           "arrowwidth": 1
          },
          "autotypenumbers": "strict",
          "coloraxis": {
           "colorbar": {
            "outlinewidth": 0,
            "ticks": ""
           }
          },
          "colorscale": {
           "diverging": [
            [
             0,
             "#8e0152"
            ],
            [
             0.1,
             "#c51b7d"
            ],
            [
             0.2,
             "#de77ae"
            ],
            [
             0.3,
             "#f1b6da"
            ],
            [
             0.4,
             "#fde0ef"
            ],
            [
             0.5,
             "#f7f7f7"
            ],
            [
             0.6,
             "#e6f5d0"
            ],
            [
             0.7,
             "#b8e186"
            ],
            [
             0.8,
             "#7fbc41"
            ],
            [
             0.9,
             "#4d9221"
            ],
            [
             1,
             "#276419"
            ]
           ],
           "sequential": [
            [
             0,
             "#0d0887"
            ],
            [
             0.1111111111111111,
             "#46039f"
            ],
            [
             0.2222222222222222,
             "#7201a8"
            ],
            [
             0.3333333333333333,
             "#9c179e"
            ],
            [
             0.4444444444444444,
             "#bd3786"
            ],
            [
             0.5555555555555556,
             "#d8576b"
            ],
            [
             0.6666666666666666,
             "#ed7953"
            ],
            [
             0.7777777777777778,
             "#fb9f3a"
            ],
            [
             0.8888888888888888,
             "#fdca26"
            ],
            [
             1,
             "#f0f921"
            ]
           ],
           "sequentialminus": [
            [
             0,
             "#0d0887"
            ],
            [
             0.1111111111111111,
             "#46039f"
            ],
            [
             0.2222222222222222,
             "#7201a8"
            ],
            [
             0.3333333333333333,
             "#9c179e"
            ],
            [
             0.4444444444444444,
             "#bd3786"
            ],
            [
             0.5555555555555556,
             "#d8576b"
            ],
            [
             0.6666666666666666,
             "#ed7953"
            ],
            [
             0.7777777777777778,
             "#fb9f3a"
            ],
            [
             0.8888888888888888,
             "#fdca26"
            ],
            [
             1,
             "#f0f921"
            ]
           ]
          },
          "colorway": [
           "#636efa",
           "#EF553B",
           "#00cc96",
           "#ab63fa",
           "#FFA15A",
           "#19d3f3",
           "#FF6692",
           "#B6E880",
           "#FF97FF",
           "#FECB52"
          ],
          "font": {
           "color": "#2a3f5f"
          },
          "geo": {
           "bgcolor": "white",
           "lakecolor": "white",
           "landcolor": "#E5ECF6",
           "showlakes": true,
           "showland": true,
           "subunitcolor": "white"
          },
          "hoverlabel": {
           "align": "left"
          },
          "hovermode": "closest",
          "mapbox": {
           "style": "light"
          },
          "paper_bgcolor": "white",
          "plot_bgcolor": "#E5ECF6",
          "polar": {
           "angularaxis": {
            "gridcolor": "white",
            "linecolor": "white",
            "ticks": ""
           },
           "bgcolor": "#E5ECF6",
           "radialaxis": {
            "gridcolor": "white",
            "linecolor": "white",
            "ticks": ""
           }
          },
          "scene": {
           "xaxis": {
            "backgroundcolor": "#E5ECF6",
            "gridcolor": "white",
            "gridwidth": 2,
            "linecolor": "white",
            "showbackground": true,
            "ticks": "",
            "zerolinecolor": "white"
           },
           "yaxis": {
            "backgroundcolor": "#E5ECF6",
            "gridcolor": "white",
            "gridwidth": 2,
            "linecolor": "white",
            "showbackground": true,
            "ticks": "",
            "zerolinecolor": "white"
           },
           "zaxis": {
            "backgroundcolor": "#E5ECF6",
            "gridcolor": "white",
            "gridwidth": 2,
            "linecolor": "white",
            "showbackground": true,
            "ticks": "",
            "zerolinecolor": "white"
           }
          },
          "shapedefaults": {
           "line": {
            "color": "#2a3f5f"
           }
          },
          "ternary": {
           "aaxis": {
            "gridcolor": "white",
            "linecolor": "white",
            "ticks": ""
           },
           "baxis": {
            "gridcolor": "white",
            "linecolor": "white",
            "ticks": ""
           },
           "bgcolor": "#E5ECF6",
           "caxis": {
            "gridcolor": "white",
            "linecolor": "white",
            "ticks": ""
           }
          },
          "title": {
           "x": 0.05
          },
          "xaxis": {
           "automargin": true,
           "gridcolor": "white",
           "linecolor": "white",
           "ticks": "",
           "title": {
            "standoff": 15
           },
           "zerolinecolor": "white",
           "zerolinewidth": 2
          },
          "yaxis": {
           "automargin": true,
           "gridcolor": "white",
           "linecolor": "white",
           "ticks": "",
           "title": {
            "standoff": 15
           },
           "zerolinecolor": "white",
           "zerolinewidth": 2
          }
         }
        },
        "title": {
         "text": "Average Returns for Each Day"
        },
        "xaxis": {
         "anchor": "y",
         "domain": [
          0,
          1
         ],
         "title": {
          "text": "x"
         }
        },
        "yaxis": {
         "anchor": "x",
         "domain": [
          0,
          1
         ],
         "title": {
          "text": "y"
         }
        }
       }
      }
     },
     "metadata": {},
     "output_type": "display_data"
    },
    {
     "name": "stderr",
     "output_type": "stream",
     "text": [
      "C:\\Users\\kevin\\AppData\\Local\\Temp\\ipykernel_15944\\227141821.py:88: UserWarning:\n",
      "\n",
      "Converting to PeriodArray/Index representation will drop timezone information.\n",
      "\n"
     ]
    },
    {
     "data": {
      "application/vnd.plotly.v1+json": {
       "config": {
        "plotlyServerURL": "https://plot.ly"
       },
       "data": [
        {
         "alignmentgroup": "True",
         "hovertemplate": "variable=Close<br>Date=%{x}<br>value=%{y}<extra></extra>",
         "legendgroup": "Close",
         "marker": {
          "color": "#1f77b4",
          "pattern": {
           "shape": ""
          }
         },
         "name": "Close",
         "offsetgroup": "Close",
         "orientation": "v",
         "showlegend": true,
         "textposition": "auto",
         "type": "bar",
         "x": [
          "2019-07-29T00:00:00-04:00",
          "2019-08-05T00:00:00-04:00",
          "2019-08-12T00:00:00-04:00",
          "2019-08-19T00:00:00-04:00",
          "2019-08-26T00:00:00-04:00",
          "2019-09-09T00:00:00-04:00",
          "2019-09-16T00:00:00-04:00",
          "2019-09-23T00:00:00-04:00",
          "2019-09-30T00:00:00-04:00",
          "2019-10-07T00:00:00-04:00",
          "2019-10-14T00:00:00-04:00",
          "2019-10-21T00:00:00-04:00",
          "2019-10-28T00:00:00-04:00",
          "2019-11-04T00:00:00-05:00",
          "2019-11-11T00:00:00-05:00",
          "2019-11-18T00:00:00-05:00",
          "2019-11-25T00:00:00-05:00",
          "2019-12-02T00:00:00-05:00",
          "2019-12-09T00:00:00-05:00",
          "2019-12-16T00:00:00-05:00",
          "2019-12-23T00:00:00-05:00",
          "2019-12-30T00:00:00-05:00",
          "2020-01-06T00:00:00-05:00",
          "2020-01-13T00:00:00-05:00",
          "2020-01-27T00:00:00-05:00",
          "2020-02-03T00:00:00-05:00",
          "2020-02-10T00:00:00-05:00",
          "2020-02-24T00:00:00-05:00",
          "2020-03-02T00:00:00-05:00",
          "2020-03-09T00:00:00-04:00",
          "2020-03-16T00:00:00-04:00",
          "2020-03-23T00:00:00-04:00",
          "2020-03-30T00:00:00-04:00",
          "2020-04-06T00:00:00-04:00",
          "2020-04-13T00:00:00-04:00",
          "2020-04-20T00:00:00-04:00",
          "2020-04-27T00:00:00-04:00",
          "2020-05-04T00:00:00-04:00",
          "2020-05-11T00:00:00-04:00",
          "2020-05-18T00:00:00-04:00",
          "2020-06-01T00:00:00-04:00",
          "2020-06-08T00:00:00-04:00",
          "2020-06-15T00:00:00-04:00",
          "2020-06-22T00:00:00-04:00",
          "2020-06-29T00:00:00-04:00",
          "2020-07-06T00:00:00-04:00",
          "2020-07-13T00:00:00-04:00",
          "2020-07-20T00:00:00-04:00",
          "2020-07-27T00:00:00-04:00",
          "2020-08-03T00:00:00-04:00",
          "2020-08-10T00:00:00-04:00",
          "2020-08-17T00:00:00-04:00",
          "2020-08-24T00:00:00-04:00",
          "2020-08-31T00:00:00-04:00",
          "2020-09-14T00:00:00-04:00",
          "2020-09-21T00:00:00-04:00",
          "2020-09-28T00:00:00-04:00",
          "2020-10-05T00:00:00-04:00",
          "2020-10-12T00:00:00-04:00",
          "2020-10-19T00:00:00-04:00",
          "2020-10-26T00:00:00-04:00",
          "2020-11-02T00:00:00-05:00",
          "2020-11-09T00:00:00-05:00",
          "2020-11-16T00:00:00-05:00",
          "2020-11-23T00:00:00-05:00",
          "2020-11-30T00:00:00-05:00",
          "2020-12-07T00:00:00-05:00",
          "2020-12-14T00:00:00-05:00",
          "2020-12-21T00:00:00-05:00",
          "2020-12-28T00:00:00-05:00",
          "2021-01-04T00:00:00-05:00",
          "2021-01-11T00:00:00-05:00",
          "2021-01-25T00:00:00-05:00",
          "2021-02-01T00:00:00-05:00",
          "2021-02-08T00:00:00-05:00",
          "2021-02-22T00:00:00-05:00",
          "2021-03-01T00:00:00-05:00",
          "2021-03-08T00:00:00-05:00",
          "2021-03-15T00:00:00-04:00",
          "2021-03-22T00:00:00-04:00",
          "2021-03-29T00:00:00-04:00",
          "2021-04-05T00:00:00-04:00",
          "2021-04-12T00:00:00-04:00",
          "2021-04-19T00:00:00-04:00",
          "2021-04-26T00:00:00-04:00",
          "2021-05-03T00:00:00-04:00",
          "2021-05-10T00:00:00-04:00",
          "2021-05-17T00:00:00-04:00",
          "2021-05-24T00:00:00-04:00",
          "2021-06-07T00:00:00-04:00",
          "2021-06-14T00:00:00-04:00",
          "2021-06-21T00:00:00-04:00",
          "2021-06-28T00:00:00-04:00",
          "2021-07-12T00:00:00-04:00",
          "2021-07-19T00:00:00-04:00",
          "2021-07-26T00:00:00-04:00",
          "2021-08-02T00:00:00-04:00",
          "2021-08-09T00:00:00-04:00",
          "2021-08-16T00:00:00-04:00",
          "2021-08-23T00:00:00-04:00",
          "2021-08-30T00:00:00-04:00",
          "2021-09-13T00:00:00-04:00",
          "2021-09-20T00:00:00-04:00",
          "2021-09-27T00:00:00-04:00",
          "2021-10-04T00:00:00-04:00",
          "2021-10-11T00:00:00-04:00",
          "2021-10-18T00:00:00-04:00",
          "2021-10-25T00:00:00-04:00",
          "2021-11-01T00:00:00-04:00",
          "2021-11-08T00:00:00-05:00",
          "2021-11-15T00:00:00-05:00",
          "2021-11-22T00:00:00-05:00",
          "2021-11-29T00:00:00-05:00",
          "2021-12-06T00:00:00-05:00",
          "2021-12-13T00:00:00-05:00",
          "2021-12-20T00:00:00-05:00",
          "2021-12-27T00:00:00-05:00",
          "2022-01-03T00:00:00-05:00",
          "2022-01-10T00:00:00-05:00",
          "2022-01-24T00:00:00-05:00",
          "2022-01-31T00:00:00-05:00",
          "2022-02-07T00:00:00-05:00",
          "2022-02-14T00:00:00-05:00",
          "2022-02-28T00:00:00-05:00",
          "2022-03-07T00:00:00-05:00",
          "2022-03-14T00:00:00-04:00",
          "2022-03-21T00:00:00-04:00",
          "2022-03-28T00:00:00-04:00",
          "2022-04-04T00:00:00-04:00",
          "2022-04-11T00:00:00-04:00",
          "2022-04-18T00:00:00-04:00",
          "2022-04-25T00:00:00-04:00",
          "2022-05-02T00:00:00-04:00",
          "2022-05-09T00:00:00-04:00",
          "2022-05-16T00:00:00-04:00",
          "2022-05-23T00:00:00-04:00",
          "2022-06-06T00:00:00-04:00",
          "2022-06-13T00:00:00-04:00",
          "2022-06-27T00:00:00-04:00",
          "2022-07-11T00:00:00-04:00",
          "2022-07-18T00:00:00-04:00",
          "2022-07-25T00:00:00-04:00",
          "2022-08-01T00:00:00-04:00",
          "2022-08-08T00:00:00-04:00",
          "2022-08-15T00:00:00-04:00",
          "2022-08-22T00:00:00-04:00",
          "2022-08-29T00:00:00-04:00",
          "2022-09-12T00:00:00-04:00",
          "2022-09-19T00:00:00-04:00",
          "2022-09-26T00:00:00-04:00",
          "2022-10-03T00:00:00-04:00",
          "2022-10-10T00:00:00-04:00",
          "2022-10-17T00:00:00-04:00",
          "2022-10-24T00:00:00-04:00",
          "2022-10-31T00:00:00-04:00",
          "2022-11-07T00:00:00-05:00",
          "2022-11-14T00:00:00-05:00",
          "2022-11-21T00:00:00-05:00",
          "2022-11-28T00:00:00-05:00",
          "2022-12-05T00:00:00-05:00",
          "2022-12-12T00:00:00-05:00",
          "2022-12-19T00:00:00-05:00",
          "2023-01-09T00:00:00-05:00",
          "2023-01-23T00:00:00-05:00",
          "2023-01-30T00:00:00-05:00",
          "2023-02-06T00:00:00-05:00",
          "2023-02-13T00:00:00-05:00",
          "2023-02-27T00:00:00-05:00",
          "2023-03-06T00:00:00-05:00",
          "2023-03-13T00:00:00-04:00",
          "2023-03-20T00:00:00-04:00",
          "2023-03-27T00:00:00-04:00",
          "2023-04-03T00:00:00-04:00",
          "2023-04-10T00:00:00-04:00",
          "2023-04-17T00:00:00-04:00",
          "2023-04-24T00:00:00-04:00",
          "2023-05-01T00:00:00-04:00",
          "2023-05-08T00:00:00-04:00",
          "2023-05-15T00:00:00-04:00",
          "2023-05-22T00:00:00-04:00",
          "2023-06-05T00:00:00-04:00",
          "2023-06-12T00:00:00-04:00",
          "2023-06-26T00:00:00-04:00",
          "2023-07-03T00:00:00-04:00",
          "2023-07-10T00:00:00-04:00",
          "2023-07-17T00:00:00-04:00",
          "2023-07-24T00:00:00-04:00",
          "2023-07-31T00:00:00-04:00",
          "2023-08-07T00:00:00-04:00",
          "2023-08-14T00:00:00-04:00",
          "2023-08-21T00:00:00-04:00",
          "2023-08-28T00:00:00-04:00",
          "2023-09-11T00:00:00-04:00",
          "2023-09-18T00:00:00-04:00",
          "2023-09-25T00:00:00-04:00",
          "2023-10-02T00:00:00-04:00",
          "2023-10-09T00:00:00-04:00",
          "2023-10-16T00:00:00-04:00",
          "2023-10-23T00:00:00-04:00",
          "2023-10-30T00:00:00-04:00",
          "2023-11-06T00:00:00-05:00",
          "2023-11-13T00:00:00-05:00",
          "2023-11-20T00:00:00-05:00",
          "2023-11-27T00:00:00-05:00",
          "2023-12-04T00:00:00-05:00",
          "2023-12-11T00:00:00-05:00",
          "2023-12-18T00:00:00-05:00",
          "2024-01-08T00:00:00-05:00",
          "2024-01-22T00:00:00-05:00",
          "2024-01-29T00:00:00-05:00",
          "2024-02-05T00:00:00-05:00",
          "2024-02-12T00:00:00-05:00",
          "2024-02-26T00:00:00-05:00",
          "2024-03-04T00:00:00-05:00",
          "2024-03-11T00:00:00-04:00",
          "2024-03-18T00:00:00-04:00",
          "2024-03-25T00:00:00-04:00",
          "2024-04-01T00:00:00-04:00",
          "2024-04-08T00:00:00-04:00",
          "2024-04-15T00:00:00-04:00",
          "2024-04-22T00:00:00-04:00",
          "2024-04-29T00:00:00-04:00",
          "2024-05-06T00:00:00-04:00",
          "2024-05-13T00:00:00-04:00",
          "2024-05-20T00:00:00-04:00",
          "2024-06-03T00:00:00-04:00",
          "2024-06-10T00:00:00-04:00",
          "2024-06-17T00:00:00-04:00",
          "2024-06-24T00:00:00-04:00",
          "2024-07-01T00:00:00-04:00",
          "2024-07-08T00:00:00-04:00",
          "2024-07-15T00:00:00-04:00",
          "2024-07-22T00:00:00-04:00"
         ],
         "xaxis": "x",
         "y": [
          null,
          null,
          null,
          null,
          null,
          null,
          null,
          null,
          null,
          null,
          null,
          null,
          null,
          null,
          null,
          null,
          null,
          null,
          null,
          null,
          0.5238095238095238,
          0.5238095238095238,
          0.5714285714285714,
          0.6190476190476191,
          0.5714285714285714,
          0.5714285714285714,
          0.5714285714285714,
          0.5714285714285714,
          0.6190476190476191,
          0.5714285714285714,
          0.5714285714285714,
          0.5714285714285714,
          0.5714285714285714,
          0.5714285714285714,
          0.5238095238095238,
          0.5238095238095238,
          0.5238095238095238,
          0.5238095238095238,
          0.5714285714285714,
          0.6190476190476191,
          0.6190476190476191,
          0.6190476190476191,
          0.6666666666666666,
          0.6666666666666666,
          0.6666666666666666,
          0.7142857142857143,
          0.6666666666666666,
          0.6666666666666666,
          0.7142857142857143,
          0.7142857142857143,
          0.7619047619047619,
          0.8095238095238095,
          0.8571428571428571,
          0.8095238095238095,
          0.8095238095238095,
          0.8095238095238095,
          0.8571428571428571,
          0.8571428571428571,
          0.8571428571428571,
          0.8095238095238095,
          0.7619047619047619,
          0.7619047619047619,
          0.7619047619047619,
          0.7619047619047619,
          0.7619047619047619,
          0.7142857142857143,
          0.6666666666666666,
          0.6666666666666666,
          0.6190476190476191,
          0.6190476190476191,
          0.5714285714285714,
          0.5238095238095238,
          0.5238095238095238,
          0.5238095238095238,
          0.5714285714285714,
          0.5238095238095238,
          0.5714285714285714,
          0.5238095238095238,
          0.5238095238095238,
          0.5238095238095238,
          0.5238095238095238,
          0.5714285714285714,
          0.5714285714285714,
          0.5238095238095238,
          0.5238095238095238,
          0.5238095238095238,
          0.5238095238095238,
          0.5238095238095238,
          0.5714285714285714,
          0.5714285714285714,
          0.5714285714285714,
          0.6190476190476191,
          0.6666666666666666,
          0.6666666666666666,
          0.6190476190476191,
          0.6190476190476191,
          0.6190476190476191,
          0.5714285714285714,
          0.6190476190476191,
          0.6190476190476191,
          0.6190476190476191,
          0.6666666666666666,
          0.6190476190476191,
          0.5714285714285714,
          0.5714285714285714,
          0.5238095238095238,
          0.5238095238095238,
          0.5714285714285714,
          0.6190476190476191,
          0.6190476190476191,
          0.6666666666666666,
          0.6190476190476191,
          0.6190476190476191,
          0.6190476190476191,
          0.5714285714285714,
          0.5714285714285714,
          0.5714285714285714,
          0.6190476190476191,
          0.6190476190476191,
          0.6190476190476191,
          0.6190476190476191,
          0.5714285714285714,
          0.5238095238095238,
          0.5238095238095238,
          0.5238095238095238,
          0.5238095238095238,
          0.5238095238095238,
          0.5238095238095238,
          0.5238095238095238,
          0.47619047619047616,
          0.47619047619047616,
          0.47619047619047616,
          0.5238095238095238,
          0.47619047619047616,
          0.42857142857142855,
          0.47619047619047616,
          0.5238095238095238,
          0.47619047619047616,
          0.42857142857142855,
          0.42857142857142855,
          0.38095238095238093,
          0.38095238095238093,
          0.38095238095238093,
          0.38095238095238093,
          0.42857142857142855,
          0.42857142857142855,
          0.42857142857142855,
          0.47619047619047616,
          0.47619047619047616,
          0.42857142857142855,
          0.47619047619047616,
          0.42857142857142855,
          0.42857142857142855,
          0.42857142857142855,
          0.42857142857142855,
          0.47619047619047616,
          0.42857142857142855,
          0.38095238095238093,
          0.38095238095238093,
          0.38095238095238093,
          0.42857142857142855,
          0.42857142857142855,
          0.38095238095238093,
          0.42857142857142855,
          0.42857142857142855,
          0.38095238095238093,
          0.42857142857142855,
          0.47619047619047616,
          0.47619047619047616,
          0.42857142857142855,
          0.47619047619047616,
          0.47619047619047616,
          0.5238095238095238,
          0.5238095238095238,
          0.5238095238095238,
          0.5714285714285714,
          0.5238095238095238,
          0.5714285714285714,
          0.6190476190476191,
          0.6666666666666666,
          0.6666666666666666,
          0.6666666666666666,
          0.6666666666666666,
          0.7142857142857143,
          0.7142857142857143,
          0.7619047619047619,
          0.8095238095238095,
          0.8095238095238095,
          0.8095238095238095,
          0.8095238095238095,
          0.8571428571428571,
          0.8571428571428571,
          0.8571428571428571,
          0.8571428571428571,
          0.8571428571428571,
          0.8095238095238095,
          0.8095238095238095,
          0.8571428571428571,
          0.8095238095238095,
          0.8095238095238095,
          0.8095238095238095,
          0.8095238095238095,
          0.8095238095238095,
          0.8095238095238095,
          0.7619047619047619,
          0.7619047619047619,
          0.7619047619047619,
          0.7619047619047619,
          0.7619047619047619,
          0.7619047619047619,
          0.7142857142857143,
          0.6666666666666666,
          0.6190476190476191,
          0.5714285714285714,
          0.5238095238095238,
          0.5238095238095238,
          0.5238095238095238,
          0.47619047619047616,
          0.47619047619047616,
          0.47619047619047616,
          0.47619047619047616,
          0.47619047619047616,
          0.5238095238095238,
          0.5238095238095238,
          0.5714285714285714,
          0.6190476190476191,
          0.6190476190476191,
          0.6190476190476191,
          0.5714285714285714,
          0.5714285714285714,
          0.5714285714285714,
          0.6190476190476191,
          0.6666666666666666
         ],
         "yaxis": "y"
        }
       ],
       "layout": {
        "annotations": [
         {
          "align": "center",
          "font": {
           "color": "black",
           "size": 12
          },
          "showarrow": false,
          "text": "19: Q3",
          "x": "2019-05-17T00:00:00",
          "xanchor": "center",
          "y": 1.02,
          "yanchor": "bottom"
         },
         {
          "align": "center",
          "font": {
           "color": "black",
           "size": 12
          },
          "showarrow": false,
          "text": "19: Q4",
          "x": "2019-08-17T00:00:00",
          "xanchor": "center",
          "y": 1.02,
          "yanchor": "bottom"
         },
         {
          "align": "center",
          "font": {
           "color": "black",
           "size": 12
          },
          "showarrow": false,
          "text": "20: Q1",
          "x": "2019-11-17T00:00:00",
          "xanchor": "center",
          "y": 1.02,
          "yanchor": "bottom"
         },
         {
          "align": "center",
          "font": {
           "color": "black",
           "size": 12
          },
          "showarrow": false,
          "text": "20: Q2",
          "x": "2020-02-16T00:00:00",
          "xanchor": "center",
          "y": 1.02,
          "yanchor": "bottom"
         },
         {
          "align": "center",
          "font": {
           "color": "black",
           "size": 12
          },
          "showarrow": false,
          "text": "20: Q3",
          "x": "2020-05-17T00:00:00",
          "xanchor": "center",
          "y": 1.02,
          "yanchor": "bottom"
         },
         {
          "align": "center",
          "font": {
           "color": "black",
           "size": 12
          },
          "showarrow": false,
          "text": "20: Q4",
          "x": "2020-08-17T00:00:00",
          "xanchor": "center",
          "y": 1.02,
          "yanchor": "bottom"
         },
         {
          "align": "center",
          "font": {
           "color": "black",
           "size": 12
          },
          "showarrow": false,
          "text": "21: Q1",
          "x": "2020-11-17T00:00:00",
          "xanchor": "center",
          "y": 1.02,
          "yanchor": "bottom"
         },
         {
          "align": "center",
          "font": {
           "color": "black",
           "size": 12
          },
          "showarrow": false,
          "text": "21: Q2",
          "x": "2021-02-15T00:00:00",
          "xanchor": "center",
          "y": 1.02,
          "yanchor": "bottom"
         },
         {
          "align": "center",
          "font": {
           "color": "black",
           "size": 12
          },
          "showarrow": false,
          "text": "21: Q3",
          "x": "2021-05-17T00:00:00",
          "xanchor": "center",
          "y": 1.02,
          "yanchor": "bottom"
         },
         {
          "align": "center",
          "font": {
           "color": "black",
           "size": 12
          },
          "showarrow": false,
          "text": "21: Q4",
          "x": "2021-08-17T00:00:00",
          "xanchor": "center",
          "y": 1.02,
          "yanchor": "bottom"
         },
         {
          "align": "center",
          "font": {
           "color": "black",
           "size": 12
          },
          "showarrow": false,
          "text": "22: Q1",
          "x": "2021-11-17T00:00:00",
          "xanchor": "center",
          "y": 1.02,
          "yanchor": "bottom"
         },
         {
          "align": "center",
          "font": {
           "color": "black",
           "size": 12
          },
          "showarrow": false,
          "text": "22: Q2",
          "x": "2022-02-15T00:00:00",
          "xanchor": "center",
          "y": 1.02,
          "yanchor": "bottom"
         },
         {
          "align": "center",
          "font": {
           "color": "black",
           "size": 12
          },
          "showarrow": false,
          "text": "22: Q3",
          "x": "2022-05-17T00:00:00",
          "xanchor": "center",
          "y": 1.02,
          "yanchor": "bottom"
         },
         {
          "align": "center",
          "font": {
           "color": "black",
           "size": 12
          },
          "showarrow": false,
          "text": "22: Q4",
          "x": "2022-08-17T00:00:00",
          "xanchor": "center",
          "y": 1.02,
          "yanchor": "bottom"
         },
         {
          "align": "center",
          "font": {
           "color": "black",
           "size": 12
          },
          "showarrow": false,
          "text": "23: Q1",
          "x": "2022-11-17T00:00:00",
          "xanchor": "center",
          "y": 1.02,
          "yanchor": "bottom"
         },
         {
          "align": "center",
          "font": {
           "color": "black",
           "size": 12
          },
          "showarrow": false,
          "text": "23: Q2",
          "x": "2023-02-15T00:00:00",
          "xanchor": "center",
          "y": 1.02,
          "yanchor": "bottom"
         },
         {
          "align": "center",
          "font": {
           "color": "black",
           "size": 12
          },
          "showarrow": false,
          "text": "23: Q3",
          "x": "2023-05-17T00:00:00",
          "xanchor": "center",
          "y": 1.02,
          "yanchor": "bottom"
         },
         {
          "align": "center",
          "font": {
           "color": "black",
           "size": 12
          },
          "showarrow": false,
          "text": "23: Q4",
          "x": "2023-08-17T00:00:00",
          "xanchor": "center",
          "y": 1.02,
          "yanchor": "bottom"
         },
         {
          "align": "center",
          "font": {
           "color": "black",
           "size": 12
          },
          "showarrow": false,
          "text": "24: Q1",
          "x": "2023-11-17T00:00:00",
          "xanchor": "center",
          "y": 1.02,
          "yanchor": "bottom"
         },
         {
          "align": "center",
          "font": {
           "color": "black",
           "size": 12
          },
          "showarrow": false,
          "text": "24: Q2",
          "x": "2024-02-16T00:00:00",
          "xanchor": "center",
          "y": 1.02,
          "yanchor": "bottom"
         },
         {
          "align": "center",
          "font": {
           "color": "black",
           "size": 12
          },
          "showarrow": false,
          "text": "24: Q3",
          "x": "2024-05-17T00:00:00",
          "xanchor": "center",
          "y": 1.02,
          "yanchor": "bottom"
         }
        ],
        "barmode": "relative",
        "font": {
         "color": "black"
        },
        "height": 600,
        "legend": {
         "orientation": "h",
         "title": {
          "font": {
           "size": 14
          },
          "text": "Statistics"
         },
         "tracegroupgap": 0,
         "x": 0,
         "y": -0.2
        },
        "paper_bgcolor": "white",
        "plot_bgcolor": "white",
        "shapes": [
         {
          "line": {
           "color": "blue",
           "dash": "solid",
           "width": 3
          },
          "name": "Mean",
          "type": "line",
          "x0": 0,
          "x1": 1,
          "xref": "x domain",
          "y0": 0.5971383858707802,
          "y1": 0.5971383858707802,
          "yref": "y"
         },
         {
          "line": {
           "color": "orange",
           "dash": "dash",
           "width": 2
          },
          "name": "Mean + 1 Std Dev",
          "type": "line",
          "x0": 0,
          "x1": 1,
          "xref": "x domain",
          "y0": 0.7243478537907012,
          "y1": 0.7243478537907012,
          "yref": "y"
         },
         {
          "line": {
           "color": "orange",
           "dash": "dash",
           "width": 2
          },
          "name": "Mean - 1 Std Dev",
          "type": "line",
          "x0": 0,
          "x1": 1,
          "xref": "x domain",
          "y0": 0.4699289179508591,
          "y1": 0.4699289179508591,
          "yref": "y"
         },
         {
          "line": {
           "color": "purple",
           "dash": "dash",
           "width": 2
          },
          "name": "Mean + 2 Std Dev",
          "type": "line",
          "x0": 0,
          "x1": 1,
          "xref": "x domain",
          "y0": 0.8515573217106223,
          "y1": 0.8515573217106223,
          "yref": "y"
         },
         {
          "line": {
           "color": "purple",
           "dash": "dash",
           "width": 2
          },
          "name": "Mean - 2 Std Dev",
          "type": "line",
          "x0": 0,
          "x1": 1,
          "xref": "x domain",
          "y0": 0.342719450030938,
          "y1": 0.342719450030938,
          "yref": "y"
         },
         {
          "fillcolor": "rgba(255, 182, 193, 0.5)",
          "line": {
           "width": 0
          },
          "name": "1 to 2 Std Dev",
          "type": "rect",
          "x0": "2019-07-29T00:00:00-04:00",
          "x1": "2024-07-22T00:00:00-04:00",
          "y0": 0.7243478537907012,
          "y1": 0.8515573217106223
         },
         {
          "fillcolor": "rgba(255, 182, 193, 0.5)",
          "line": {
           "width": 0
          },
          "name": "-2 to -1 Std Dev",
          "type": "rect",
          "x0": "2019-07-29T00:00:00-04:00",
          "x1": "2024-07-22T00:00:00-04:00",
          "y0": 0.342719450030938,
          "y1": 0.4699289179508591
         },
         {
          "line": {
           "color": "gray",
           "dash": "dash",
           "width": 2
          },
          "name": "Fiscal Quarter End",
          "type": "line",
          "x0": "2019-07-01T00:00:00",
          "x1": "2019-07-01T00:00:00",
          "xref": "x",
          "y0": 0,
          "y1": 1,
          "yref": "y domain"
         },
         {
          "fillcolor": "rgba(200, 200, 200, 0.3)",
          "line": {
           "width": 0
          },
          "name": "Quarter Background",
          "type": "rect",
          "x0": "2019-04-02T00:00:00",
          "x1": "2019-07-01T00:00:00",
          "xref": "x",
          "y0": 0,
          "y1": 1,
          "yref": "paper"
         },
         {
          "line": {
           "color": "gray",
           "dash": "dash",
           "width": 2
          },
          "name": "Fiscal Quarter End",
          "type": "line",
          "x0": "2019-10-01T00:00:00",
          "x1": "2019-10-01T00:00:00",
          "xref": "x",
          "y0": 0,
          "y1": 1,
          "yref": "y domain"
         },
         {
          "line": {
           "color": "gray",
           "dash": "dash",
           "width": 2
          },
          "name": "Fiscal Quarter End",
          "type": "line",
          "x0": "2020-01-01T00:00:00",
          "x1": "2020-01-01T00:00:00",
          "xref": "x",
          "y0": 0,
          "y1": 1,
          "yref": "y domain"
         },
         {
          "fillcolor": "rgba(200, 200, 200, 0.3)",
          "line": {
           "width": 0
          },
          "name": "Quarter Background",
          "type": "rect",
          "x0": "2019-10-03T00:00:00",
          "x1": "2020-01-01T00:00:00",
          "xref": "x",
          "y0": 0,
          "y1": 1,
          "yref": "paper"
         },
         {
          "line": {
           "color": "gray",
           "dash": "dash",
           "width": 2
          },
          "name": "Fiscal Quarter End",
          "type": "line",
          "x0": "2020-04-01T00:00:00",
          "x1": "2020-04-01T00:00:00",
          "xref": "x",
          "y0": 0,
          "y1": 1,
          "yref": "y domain"
         },
         {
          "line": {
           "color": "gray",
           "dash": "dash",
           "width": 2
          },
          "name": "Fiscal Quarter End",
          "type": "line",
          "x0": "2020-07-01T00:00:00",
          "x1": "2020-07-01T00:00:00",
          "xref": "x",
          "y0": 0,
          "y1": 1,
          "yref": "y domain"
         },
         {
          "fillcolor": "rgba(200, 200, 200, 0.3)",
          "line": {
           "width": 0
          },
          "name": "Quarter Background",
          "type": "rect",
          "x0": "2020-04-02T00:00:00",
          "x1": "2020-07-01T00:00:00",
          "xref": "x",
          "y0": 0,
          "y1": 1,
          "yref": "paper"
         },
         {
          "line": {
           "color": "gray",
           "dash": "dash",
           "width": 2
          },
          "name": "Fiscal Quarter End",
          "type": "line",
          "x0": "2020-10-01T00:00:00",
          "x1": "2020-10-01T00:00:00",
          "xref": "x",
          "y0": 0,
          "y1": 1,
          "yref": "y domain"
         },
         {
          "line": {
           "color": "gray",
           "dash": "dash",
           "width": 2
          },
          "name": "Fiscal Quarter End",
          "type": "line",
          "x0": "2021-01-01T00:00:00",
          "x1": "2021-01-01T00:00:00",
          "xref": "x",
          "y0": 0,
          "y1": 1,
          "yref": "y domain"
         },
         {
          "fillcolor": "rgba(200, 200, 200, 0.3)",
          "line": {
           "width": 0
          },
          "name": "Quarter Background",
          "type": "rect",
          "x0": "2020-10-03T00:00:00",
          "x1": "2021-01-01T00:00:00",
          "xref": "x",
          "y0": 0,
          "y1": 1,
          "yref": "paper"
         },
         {
          "line": {
           "color": "gray",
           "dash": "dash",
           "width": 2
          },
          "name": "Fiscal Quarter End",
          "type": "line",
          "x0": "2021-04-01T00:00:00",
          "x1": "2021-04-01T00:00:00",
          "xref": "x",
          "y0": 0,
          "y1": 1,
          "yref": "y domain"
         },
         {
          "line": {
           "color": "gray",
           "dash": "dash",
           "width": 2
          },
          "name": "Fiscal Quarter End",
          "type": "line",
          "x0": "2021-07-01T00:00:00",
          "x1": "2021-07-01T00:00:00",
          "xref": "x",
          "y0": 0,
          "y1": 1,
          "yref": "y domain"
         },
         {
          "fillcolor": "rgba(200, 200, 200, 0.3)",
          "line": {
           "width": 0
          },
          "name": "Quarter Background",
          "type": "rect",
          "x0": "2021-04-02T00:00:00",
          "x1": "2021-07-01T00:00:00",
          "xref": "x",
          "y0": 0,
          "y1": 1,
          "yref": "paper"
         },
         {
          "line": {
           "color": "gray",
           "dash": "dash",
           "width": 2
          },
          "name": "Fiscal Quarter End",
          "type": "line",
          "x0": "2021-10-01T00:00:00",
          "x1": "2021-10-01T00:00:00",
          "xref": "x",
          "y0": 0,
          "y1": 1,
          "yref": "y domain"
         },
         {
          "line": {
           "color": "gray",
           "dash": "dash",
           "width": 2
          },
          "name": "Fiscal Quarter End",
          "type": "line",
          "x0": "2022-01-01T00:00:00",
          "x1": "2022-01-01T00:00:00",
          "xref": "x",
          "y0": 0,
          "y1": 1,
          "yref": "y domain"
         },
         {
          "fillcolor": "rgba(200, 200, 200, 0.3)",
          "line": {
           "width": 0
          },
          "name": "Quarter Background",
          "type": "rect",
          "x0": "2021-10-03T00:00:00",
          "x1": "2022-01-01T00:00:00",
          "xref": "x",
          "y0": 0,
          "y1": 1,
          "yref": "paper"
         },
         {
          "line": {
           "color": "gray",
           "dash": "dash",
           "width": 2
          },
          "name": "Fiscal Quarter End",
          "type": "line",
          "x0": "2022-04-01T00:00:00",
          "x1": "2022-04-01T00:00:00",
          "xref": "x",
          "y0": 0,
          "y1": 1,
          "yref": "y domain"
         },
         {
          "line": {
           "color": "gray",
           "dash": "dash",
           "width": 2
          },
          "name": "Fiscal Quarter End",
          "type": "line",
          "x0": "2022-07-01T00:00:00",
          "x1": "2022-07-01T00:00:00",
          "xref": "x",
          "y0": 0,
          "y1": 1,
          "yref": "y domain"
         },
         {
          "fillcolor": "rgba(200, 200, 200, 0.3)",
          "line": {
           "width": 0
          },
          "name": "Quarter Background",
          "type": "rect",
          "x0": "2022-04-02T00:00:00",
          "x1": "2022-07-01T00:00:00",
          "xref": "x",
          "y0": 0,
          "y1": 1,
          "yref": "paper"
         },
         {
          "line": {
           "color": "gray",
           "dash": "dash",
           "width": 2
          },
          "name": "Fiscal Quarter End",
          "type": "line",
          "x0": "2022-10-01T00:00:00",
          "x1": "2022-10-01T00:00:00",
          "xref": "x",
          "y0": 0,
          "y1": 1,
          "yref": "y domain"
         },
         {
          "line": {
           "color": "gray",
           "dash": "dash",
           "width": 2
          },
          "name": "Fiscal Quarter End",
          "type": "line",
          "x0": "2023-01-01T00:00:00",
          "x1": "2023-01-01T00:00:00",
          "xref": "x",
          "y0": 0,
          "y1": 1,
          "yref": "y domain"
         },
         {
          "fillcolor": "rgba(200, 200, 200, 0.3)",
          "line": {
           "width": 0
          },
          "name": "Quarter Background",
          "type": "rect",
          "x0": "2022-10-03T00:00:00",
          "x1": "2023-01-01T00:00:00",
          "xref": "x",
          "y0": 0,
          "y1": 1,
          "yref": "paper"
         },
         {
          "line": {
           "color": "gray",
           "dash": "dash",
           "width": 2
          },
          "name": "Fiscal Quarter End",
          "type": "line",
          "x0": "2023-04-01T00:00:00",
          "x1": "2023-04-01T00:00:00",
          "xref": "x",
          "y0": 0,
          "y1": 1,
          "yref": "y domain"
         },
         {
          "line": {
           "color": "gray",
           "dash": "dash",
           "width": 2
          },
          "name": "Fiscal Quarter End",
          "type": "line",
          "x0": "2023-07-01T00:00:00",
          "x1": "2023-07-01T00:00:00",
          "xref": "x",
          "y0": 0,
          "y1": 1,
          "yref": "y domain"
         },
         {
          "fillcolor": "rgba(200, 200, 200, 0.3)",
          "line": {
           "width": 0
          },
          "name": "Quarter Background",
          "type": "rect",
          "x0": "2023-04-02T00:00:00",
          "x1": "2023-07-01T00:00:00",
          "xref": "x",
          "y0": 0,
          "y1": 1,
          "yref": "paper"
         },
         {
          "line": {
           "color": "gray",
           "dash": "dash",
           "width": 2
          },
          "name": "Fiscal Quarter End",
          "type": "line",
          "x0": "2023-10-01T00:00:00",
          "x1": "2023-10-01T00:00:00",
          "xref": "x",
          "y0": 0,
          "y1": 1,
          "yref": "y domain"
         },
         {
          "line": {
           "color": "gray",
           "dash": "dash",
           "width": 2
          },
          "name": "Fiscal Quarter End",
          "type": "line",
          "x0": "2024-01-01T00:00:00",
          "x1": "2024-01-01T00:00:00",
          "xref": "x",
          "y0": 0,
          "y1": 1,
          "yref": "y domain"
         },
         {
          "fillcolor": "rgba(200, 200, 200, 0.3)",
          "line": {
           "width": 0
          },
          "name": "Quarter Background",
          "type": "rect",
          "x0": "2023-10-03T00:00:00",
          "x1": "2024-01-01T00:00:00",
          "xref": "x",
          "y0": 0,
          "y1": 1,
          "yref": "paper"
         },
         {
          "line": {
           "color": "gray",
           "dash": "dash",
           "width": 2
          },
          "name": "Fiscal Quarter End",
          "type": "line",
          "x0": "2024-04-01T00:00:00",
          "x1": "2024-04-01T00:00:00",
          "xref": "x",
          "y0": 0,
          "y1": 1,
          "yref": "y domain"
         },
         {
          "line": {
           "color": "gray",
           "dash": "dash",
           "width": 2
          },
          "name": "Fiscal Quarter End",
          "type": "line",
          "x0": "2024-07-01T00:00:00",
          "x1": "2024-07-01T00:00:00",
          "xref": "x",
          "y0": 0,
          "y1": 1,
          "yref": "y domain"
         },
         {
          "fillcolor": "rgba(200, 200, 200, 0.3)",
          "line": {
           "width": 0
          },
          "name": "Quarter Background",
          "type": "rect",
          "x0": "2024-04-02T00:00:00",
          "x1": "2024-07-01T00:00:00",
          "xref": "x",
          "y0": 0,
          "y1": 1,
          "yref": "paper"
         }
        ],
        "template": {
         "data": {
          "bar": [
           {
            "error_x": {
             "color": "#2a3f5f"
            },
            "error_y": {
             "color": "#2a3f5f"
            },
            "marker": {
             "line": {
              "color": "#E5ECF6",
              "width": 0.5
             },
             "pattern": {
              "fillmode": "overlay",
              "size": 10,
              "solidity": 0.2
             }
            },
            "type": "bar"
           }
          ],
          "barpolar": [
           {
            "marker": {
             "line": {
              "color": "#E5ECF6",
              "width": 0.5
             },
             "pattern": {
              "fillmode": "overlay",
              "size": 10,
              "solidity": 0.2
             }
            },
            "type": "barpolar"
           }
          ],
          "carpet": [
           {
            "aaxis": {
             "endlinecolor": "#2a3f5f",
             "gridcolor": "white",
             "linecolor": "white",
             "minorgridcolor": "white",
             "startlinecolor": "#2a3f5f"
            },
            "baxis": {
             "endlinecolor": "#2a3f5f",
             "gridcolor": "white",
             "linecolor": "white",
             "minorgridcolor": "white",
             "startlinecolor": "#2a3f5f"
            },
            "type": "carpet"
           }
          ],
          "choropleth": [
           {
            "colorbar": {
             "outlinewidth": 0,
             "ticks": ""
            },
            "type": "choropleth"
           }
          ],
          "contour": [
           {
            "colorbar": {
             "outlinewidth": 0,
             "ticks": ""
            },
            "colorscale": [
             [
              0,
              "#0d0887"
             ],
             [
              0.1111111111111111,
              "#46039f"
             ],
             [
              0.2222222222222222,
              "#7201a8"
             ],
             [
              0.3333333333333333,
              "#9c179e"
             ],
             [
              0.4444444444444444,
              "#bd3786"
             ],
             [
              0.5555555555555556,
              "#d8576b"
             ],
             [
              0.6666666666666666,
              "#ed7953"
             ],
             [
              0.7777777777777778,
              "#fb9f3a"
             ],
             [
              0.8888888888888888,
              "#fdca26"
             ],
             [
              1,
              "#f0f921"
             ]
            ],
            "type": "contour"
           }
          ],
          "contourcarpet": [
           {
            "colorbar": {
             "outlinewidth": 0,
             "ticks": ""
            },
            "type": "contourcarpet"
           }
          ],
          "heatmap": [
           {
            "colorbar": {
             "outlinewidth": 0,
             "ticks": ""
            },
            "colorscale": [
             [
              0,
              "#0d0887"
             ],
             [
              0.1111111111111111,
              "#46039f"
             ],
             [
              0.2222222222222222,
              "#7201a8"
             ],
             [
              0.3333333333333333,
              "#9c179e"
             ],
             [
              0.4444444444444444,
              "#bd3786"
             ],
             [
              0.5555555555555556,
              "#d8576b"
             ],
             [
              0.6666666666666666,
              "#ed7953"
             ],
             [
              0.7777777777777778,
              "#fb9f3a"
             ],
             [
              0.8888888888888888,
              "#fdca26"
             ],
             [
              1,
              "#f0f921"
             ]
            ],
            "type": "heatmap"
           }
          ],
          "heatmapgl": [
           {
            "colorbar": {
             "outlinewidth": 0,
             "ticks": ""
            },
            "colorscale": [
             [
              0,
              "#0d0887"
             ],
             [
              0.1111111111111111,
              "#46039f"
             ],
             [
              0.2222222222222222,
              "#7201a8"
             ],
             [
              0.3333333333333333,
              "#9c179e"
             ],
             [
              0.4444444444444444,
              "#bd3786"
             ],
             [
              0.5555555555555556,
              "#d8576b"
             ],
             [
              0.6666666666666666,
              "#ed7953"
             ],
             [
              0.7777777777777778,
              "#fb9f3a"
             ],
             [
              0.8888888888888888,
              "#fdca26"
             ],
             [
              1,
              "#f0f921"
             ]
            ],
            "type": "heatmapgl"
           }
          ],
          "histogram": [
           {
            "marker": {
             "pattern": {
              "fillmode": "overlay",
              "size": 10,
              "solidity": 0.2
             }
            },
            "type": "histogram"
           }
          ],
          "histogram2d": [
           {
            "colorbar": {
             "outlinewidth": 0,
             "ticks": ""
            },
            "colorscale": [
             [
              0,
              "#0d0887"
             ],
             [
              0.1111111111111111,
              "#46039f"
             ],
             [
              0.2222222222222222,
              "#7201a8"
             ],
             [
              0.3333333333333333,
              "#9c179e"
             ],
             [
              0.4444444444444444,
              "#bd3786"
             ],
             [
              0.5555555555555556,
              "#d8576b"
             ],
             [
              0.6666666666666666,
              "#ed7953"
             ],
             [
              0.7777777777777778,
              "#fb9f3a"
             ],
             [
              0.8888888888888888,
              "#fdca26"
             ],
             [
              1,
              "#f0f921"
             ]
            ],
            "type": "histogram2d"
           }
          ],
          "histogram2dcontour": [
           {
            "colorbar": {
             "outlinewidth": 0,
             "ticks": ""
            },
            "colorscale": [
             [
              0,
              "#0d0887"
             ],
             [
              0.1111111111111111,
              "#46039f"
             ],
             [
              0.2222222222222222,
              "#7201a8"
             ],
             [
              0.3333333333333333,
              "#9c179e"
             ],
             [
              0.4444444444444444,
              "#bd3786"
             ],
             [
              0.5555555555555556,
              "#d8576b"
             ],
             [
              0.6666666666666666,
              "#ed7953"
             ],
             [
              0.7777777777777778,
              "#fb9f3a"
             ],
             [
              0.8888888888888888,
              "#fdca26"
             ],
             [
              1,
              "#f0f921"
             ]
            ],
            "type": "histogram2dcontour"
           }
          ],
          "mesh3d": [
           {
            "colorbar": {
             "outlinewidth": 0,
             "ticks": ""
            },
            "type": "mesh3d"
           }
          ],
          "parcoords": [
           {
            "line": {
             "colorbar": {
              "outlinewidth": 0,
              "ticks": ""
             }
            },
            "type": "parcoords"
           }
          ],
          "pie": [
           {
            "automargin": true,
            "type": "pie"
           }
          ],
          "scatter": [
           {
            "fillpattern": {
             "fillmode": "overlay",
             "size": 10,
             "solidity": 0.2
            },
            "type": "scatter"
           }
          ],
          "scatter3d": [
           {
            "line": {
             "colorbar": {
              "outlinewidth": 0,
              "ticks": ""
             }
            },
            "marker": {
             "colorbar": {
              "outlinewidth": 0,
              "ticks": ""
             }
            },
            "type": "scatter3d"
           }
          ],
          "scattercarpet": [
           {
            "marker": {
             "colorbar": {
              "outlinewidth": 0,
              "ticks": ""
             }
            },
            "type": "scattercarpet"
           }
          ],
          "scattergeo": [
           {
            "marker": {
             "colorbar": {
              "outlinewidth": 0,
              "ticks": ""
             }
            },
            "type": "scattergeo"
           }
          ],
          "scattergl": [
           {
            "marker": {
             "colorbar": {
              "outlinewidth": 0,
              "ticks": ""
             }
            },
            "type": "scattergl"
           }
          ],
          "scattermapbox": [
           {
            "marker": {
             "colorbar": {
              "outlinewidth": 0,
              "ticks": ""
             }
            },
            "type": "scattermapbox"
           }
          ],
          "scatterpolar": [
           {
            "marker": {
             "colorbar": {
              "outlinewidth": 0,
              "ticks": ""
             }
            },
            "type": "scatterpolar"
           }
          ],
          "scatterpolargl": [
           {
            "marker": {
             "colorbar": {
              "outlinewidth": 0,
              "ticks": ""
             }
            },
            "type": "scatterpolargl"
           }
          ],
          "scatterternary": [
           {
            "marker": {
             "colorbar": {
              "outlinewidth": 0,
              "ticks": ""
             }
            },
            "type": "scatterternary"
           }
          ],
          "surface": [
           {
            "colorbar": {
             "outlinewidth": 0,
             "ticks": ""
            },
            "colorscale": [
             [
              0,
              "#0d0887"
             ],
             [
              0.1111111111111111,
              "#46039f"
             ],
             [
              0.2222222222222222,
              "#7201a8"
             ],
             [
              0.3333333333333333,
              "#9c179e"
             ],
             [
              0.4444444444444444,
              "#bd3786"
             ],
             [
              0.5555555555555556,
              "#d8576b"
             ],
             [
              0.6666666666666666,
              "#ed7953"
             ],
             [
              0.7777777777777778,
              "#fb9f3a"
             ],
             [
              0.8888888888888888,
              "#fdca26"
             ],
             [
              1,
              "#f0f921"
             ]
            ],
            "type": "surface"
           }
          ],
          "table": [
           {
            "cells": {
             "fill": {
              "color": "#EBF0F8"
             },
             "line": {
              "color": "white"
             }
            },
            "header": {
             "fill": {
              "color": "#C8D4E3"
             },
             "line": {
              "color": "white"
             }
            },
            "type": "table"
           }
          ]
         },
         "layout": {
          "annotationdefaults": {
           "arrowcolor": "#2a3f5f",
           "arrowhead": 0,
           "arrowwidth": 1
          },
          "autotypenumbers": "strict",
          "coloraxis": {
           "colorbar": {
            "outlinewidth": 0,
            "ticks": ""
           }
          },
          "colorscale": {
           "diverging": [
            [
             0,
             "#8e0152"
            ],
            [
             0.1,
             "#c51b7d"
            ],
            [
             0.2,
             "#de77ae"
            ],
            [
             0.3,
             "#f1b6da"
            ],
            [
             0.4,
             "#fde0ef"
            ],
            [
             0.5,
             "#f7f7f7"
            ],
            [
             0.6,
             "#e6f5d0"
            ],
            [
             0.7,
             "#b8e186"
            ],
            [
             0.8,
             "#7fbc41"
            ],
            [
             0.9,
             "#4d9221"
            ],
            [
             1,
             "#276419"
            ]
           ],
           "sequential": [
            [
             0,
             "#0d0887"
            ],
            [
             0.1111111111111111,
             "#46039f"
            ],
            [
             0.2222222222222222,
             "#7201a8"
            ],
            [
             0.3333333333333333,
             "#9c179e"
            ],
            [
             0.4444444444444444,
             "#bd3786"
            ],
            [
             0.5555555555555556,
             "#d8576b"
            ],
            [
             0.6666666666666666,
             "#ed7953"
            ],
            [
             0.7777777777777778,
             "#fb9f3a"
            ],
            [
             0.8888888888888888,
             "#fdca26"
            ],
            [
             1,
             "#f0f921"
            ]
           ],
           "sequentialminus": [
            [
             0,
             "#0d0887"
            ],
            [
             0.1111111111111111,
             "#46039f"
            ],
            [
             0.2222222222222222,
             "#7201a8"
            ],
            [
             0.3333333333333333,
             "#9c179e"
            ],
            [
             0.4444444444444444,
             "#bd3786"
            ],
            [
             0.5555555555555556,
             "#d8576b"
            ],
            [
             0.6666666666666666,
             "#ed7953"
            ],
            [
             0.7777777777777778,
             "#fb9f3a"
            ],
            [
             0.8888888888888888,
             "#fdca26"
            ],
            [
             1,
             "#f0f921"
            ]
           ]
          },
          "colorway": [
           "#636efa",
           "#EF553B",
           "#00cc96",
           "#ab63fa",
           "#FFA15A",
           "#19d3f3",
           "#FF6692",
           "#B6E880",
           "#FF97FF",
           "#FECB52"
          ],
          "font": {
           "color": "#2a3f5f"
          },
          "geo": {
           "bgcolor": "white",
           "lakecolor": "white",
           "landcolor": "#E5ECF6",
           "showlakes": true,
           "showland": true,
           "subunitcolor": "white"
          },
          "hoverlabel": {
           "align": "left"
          },
          "hovermode": "closest",
          "mapbox": {
           "style": "light"
          },
          "paper_bgcolor": "white",
          "plot_bgcolor": "#E5ECF6",
          "polar": {
           "angularaxis": {
            "gridcolor": "white",
            "linecolor": "white",
            "ticks": ""
           },
           "bgcolor": "#E5ECF6",
           "radialaxis": {
            "gridcolor": "white",
            "linecolor": "white",
            "ticks": ""
           }
          },
          "scene": {
           "xaxis": {
            "backgroundcolor": "#E5ECF6",
            "gridcolor": "white",
            "gridwidth": 2,
            "linecolor": "white",
            "showbackground": true,
            "ticks": "",
            "zerolinecolor": "white"
           },
           "yaxis": {
            "backgroundcolor": "#E5ECF6",
            "gridcolor": "white",
            "gridwidth": 2,
            "linecolor": "white",
            "showbackground": true,
            "ticks": "",
            "zerolinecolor": "white"
           },
           "zaxis": {
            "backgroundcolor": "#E5ECF6",
            "gridcolor": "white",
            "gridwidth": 2,
            "linecolor": "white",
            "showbackground": true,
            "ticks": "",
            "zerolinecolor": "white"
           }
          },
          "shapedefaults": {
           "line": {
            "color": "#2a3f5f"
           }
          },
          "ternary": {
           "aaxis": {
            "gridcolor": "white",
            "linecolor": "white",
            "ticks": ""
           },
           "baxis": {
            "gridcolor": "white",
            "linecolor": "white",
            "ticks": ""
           },
           "bgcolor": "#E5ECF6",
           "caxis": {
            "gridcolor": "white",
            "linecolor": "white",
            "ticks": ""
           }
          },
          "title": {
           "x": 0.05
          },
          "xaxis": {
           "automargin": true,
           "gridcolor": "white",
           "linecolor": "white",
           "ticks": "",
           "title": {
            "standoff": 15
           },
           "zerolinecolor": "white",
           "zerolinewidth": 2
          },
          "yaxis": {
           "automargin": true,
           "gridcolor": "white",
           "linecolor": "white",
           "ticks": "",
           "title": {
            "standoff": 15
           },
           "zerolinecolor": "white",
           "zerolinewidth": 2
          }
         }
        },
        "title": {
         "font": {
          "size": 16
         },
         "text": "Successive Monday Returns with Fiscal Quarter End Lines"
        },
        "xaxis": {
         "anchor": "y",
         "domain": [
          0,
          1
         ],
         "title": {
          "text": "Date"
         }
        },
        "yaxis": {
         "anchor": "x",
         "domain": [
          0,
          1
         ],
         "title": {
          "text": "Rolling Mean of Positive Returns"
         }
        }
       }
      }
     },
     "metadata": {},
     "output_type": "display_data"
    },
    {
     "name": "stderr",
     "output_type": "stream",
     "text": [
      "C:\\Users\\kevin\\AppData\\Local\\Temp\\ipykernel_15944\\227141821.py:88: UserWarning:\n",
      "\n",
      "Converting to PeriodArray/Index representation will drop timezone information.\n",
      "\n"
     ]
    },
    {
     "data": {
      "application/vnd.plotly.v1+json": {
       "config": {
        "plotlyServerURL": "https://plot.ly"
       },
       "data": [
        {
         "alignmentgroup": "True",
         "hovertemplate": "variable=Close<br>Date=%{x}<br>value=%{y}<extra></extra>",
         "legendgroup": "Close",
         "marker": {
          "color": "#1f77b4",
          "pattern": {
           "shape": ""
          }
         },
         "name": "Close",
         "offsetgroup": "Close",
         "orientation": "v",
         "showlegend": true,
         "textposition": "auto",
         "type": "bar",
         "x": [
          "2019-07-30T00:00:00-04:00",
          "2019-08-06T00:00:00-04:00",
          "2019-08-13T00:00:00-04:00",
          "2019-08-20T00:00:00-04:00",
          "2019-08-27T00:00:00-04:00",
          "2019-09-03T00:00:00-04:00",
          "2019-09-10T00:00:00-04:00",
          "2019-09-17T00:00:00-04:00",
          "2019-09-24T00:00:00-04:00",
          "2019-10-01T00:00:00-04:00",
          "2019-10-08T00:00:00-04:00",
          "2019-10-15T00:00:00-04:00",
          "2019-10-22T00:00:00-04:00",
          "2019-10-29T00:00:00-04:00",
          "2019-11-05T00:00:00-05:00",
          "2019-11-12T00:00:00-05:00",
          "2019-11-19T00:00:00-05:00",
          "2019-11-26T00:00:00-05:00",
          "2019-12-03T00:00:00-05:00",
          "2019-12-10T00:00:00-05:00",
          "2019-12-17T00:00:00-05:00",
          "2019-12-24T00:00:00-05:00",
          "2019-12-31T00:00:00-05:00",
          "2020-01-07T00:00:00-05:00",
          "2020-01-14T00:00:00-05:00",
          "2020-01-21T00:00:00-05:00",
          "2020-01-28T00:00:00-05:00",
          "2020-02-04T00:00:00-05:00",
          "2020-02-11T00:00:00-05:00",
          "2020-02-18T00:00:00-05:00",
          "2020-02-25T00:00:00-05:00",
          "2020-03-03T00:00:00-05:00",
          "2020-03-10T00:00:00-04:00",
          "2020-03-17T00:00:00-04:00",
          "2020-03-24T00:00:00-04:00",
          "2020-03-31T00:00:00-04:00",
          "2020-04-07T00:00:00-04:00",
          "2020-04-14T00:00:00-04:00",
          "2020-04-21T00:00:00-04:00",
          "2020-04-28T00:00:00-04:00",
          "2020-05-05T00:00:00-04:00",
          "2020-05-12T00:00:00-04:00",
          "2020-05-19T00:00:00-04:00",
          "2020-05-26T00:00:00-04:00",
          "2020-06-02T00:00:00-04:00",
          "2020-06-09T00:00:00-04:00",
          "2020-06-16T00:00:00-04:00",
          "2020-06-23T00:00:00-04:00",
          "2020-06-30T00:00:00-04:00",
          "2020-07-07T00:00:00-04:00",
          "2020-07-14T00:00:00-04:00",
          "2020-07-21T00:00:00-04:00",
          "2020-07-28T00:00:00-04:00",
          "2020-08-04T00:00:00-04:00",
          "2020-08-11T00:00:00-04:00",
          "2020-08-18T00:00:00-04:00",
          "2020-08-25T00:00:00-04:00",
          "2020-09-01T00:00:00-04:00",
          "2020-09-08T00:00:00-04:00",
          "2020-09-15T00:00:00-04:00",
          "2020-09-22T00:00:00-04:00",
          "2020-09-29T00:00:00-04:00",
          "2020-10-06T00:00:00-04:00",
          "2020-10-13T00:00:00-04:00",
          "2020-10-20T00:00:00-04:00",
          "2020-10-27T00:00:00-04:00",
          "2020-11-03T00:00:00-05:00",
          "2020-11-10T00:00:00-05:00",
          "2020-11-17T00:00:00-05:00",
          "2020-11-24T00:00:00-05:00",
          "2020-12-01T00:00:00-05:00",
          "2020-12-08T00:00:00-05:00",
          "2020-12-15T00:00:00-05:00",
          "2020-12-22T00:00:00-05:00",
          "2020-12-29T00:00:00-05:00",
          "2021-01-05T00:00:00-05:00",
          "2021-01-12T00:00:00-05:00",
          "2021-01-19T00:00:00-05:00",
          "2021-01-26T00:00:00-05:00",
          "2021-02-02T00:00:00-05:00",
          "2021-02-09T00:00:00-05:00",
          "2021-02-16T00:00:00-05:00",
          "2021-02-23T00:00:00-05:00",
          "2021-03-02T00:00:00-05:00",
          "2021-03-09T00:00:00-05:00",
          "2021-03-16T00:00:00-04:00",
          "2021-03-23T00:00:00-04:00",
          "2021-03-30T00:00:00-04:00",
          "2021-04-06T00:00:00-04:00",
          "2021-04-13T00:00:00-04:00",
          "2021-04-20T00:00:00-04:00",
          "2021-04-27T00:00:00-04:00",
          "2021-05-04T00:00:00-04:00",
          "2021-05-11T00:00:00-04:00",
          "2021-05-18T00:00:00-04:00",
          "2021-05-25T00:00:00-04:00",
          "2021-06-01T00:00:00-04:00",
          "2021-06-08T00:00:00-04:00",
          "2021-06-15T00:00:00-04:00",
          "2021-06-22T00:00:00-04:00",
          "2021-06-29T00:00:00-04:00",
          "2021-07-06T00:00:00-04:00",
          "2021-07-13T00:00:00-04:00",
          "2021-07-20T00:00:00-04:00",
          "2021-07-27T00:00:00-04:00",
          "2021-08-03T00:00:00-04:00",
          "2021-08-10T00:00:00-04:00",
          "2021-08-17T00:00:00-04:00",
          "2021-08-24T00:00:00-04:00",
          "2021-08-31T00:00:00-04:00",
          "2021-09-07T00:00:00-04:00",
          "2021-09-14T00:00:00-04:00",
          "2021-09-21T00:00:00-04:00",
          "2021-09-28T00:00:00-04:00",
          "2021-10-05T00:00:00-04:00",
          "2021-10-12T00:00:00-04:00",
          "2021-10-19T00:00:00-04:00",
          "2021-10-26T00:00:00-04:00",
          "2021-11-02T00:00:00-04:00",
          "2021-11-09T00:00:00-05:00",
          "2021-11-16T00:00:00-05:00",
          "2021-11-23T00:00:00-05:00",
          "2021-11-30T00:00:00-05:00",
          "2021-12-07T00:00:00-05:00",
          "2021-12-14T00:00:00-05:00",
          "2021-12-21T00:00:00-05:00",
          "2021-12-28T00:00:00-05:00",
          "2022-01-04T00:00:00-05:00",
          "2022-01-11T00:00:00-05:00",
          "2022-01-18T00:00:00-05:00",
          "2022-01-25T00:00:00-05:00",
          "2022-02-01T00:00:00-05:00",
          "2022-02-08T00:00:00-05:00",
          "2022-02-15T00:00:00-05:00",
          "2022-02-22T00:00:00-05:00",
          "2022-03-01T00:00:00-05:00",
          "2022-03-08T00:00:00-05:00",
          "2022-03-15T00:00:00-04:00",
          "2022-03-22T00:00:00-04:00",
          "2022-03-29T00:00:00-04:00",
          "2022-04-05T00:00:00-04:00",
          "2022-04-12T00:00:00-04:00",
          "2022-04-19T00:00:00-04:00",
          "2022-04-26T00:00:00-04:00",
          "2022-05-03T00:00:00-04:00",
          "2022-05-10T00:00:00-04:00",
          "2022-05-17T00:00:00-04:00",
          "2022-05-24T00:00:00-04:00",
          "2022-05-31T00:00:00-04:00",
          "2022-06-07T00:00:00-04:00",
          "2022-06-14T00:00:00-04:00",
          "2022-06-21T00:00:00-04:00",
          "2022-06-28T00:00:00-04:00",
          "2022-07-05T00:00:00-04:00",
          "2022-07-12T00:00:00-04:00",
          "2022-07-19T00:00:00-04:00",
          "2022-07-26T00:00:00-04:00",
          "2022-08-02T00:00:00-04:00",
          "2022-08-09T00:00:00-04:00",
          "2022-08-16T00:00:00-04:00",
          "2022-08-23T00:00:00-04:00",
          "2022-08-30T00:00:00-04:00",
          "2022-09-06T00:00:00-04:00",
          "2022-09-13T00:00:00-04:00",
          "2022-09-20T00:00:00-04:00",
          "2022-09-27T00:00:00-04:00",
          "2022-10-04T00:00:00-04:00",
          "2022-10-11T00:00:00-04:00",
          "2022-10-18T00:00:00-04:00",
          "2022-10-25T00:00:00-04:00",
          "2022-11-01T00:00:00-04:00",
          "2022-11-08T00:00:00-05:00",
          "2022-11-15T00:00:00-05:00",
          "2022-11-22T00:00:00-05:00",
          "2022-11-29T00:00:00-05:00",
          "2022-12-06T00:00:00-05:00",
          "2022-12-13T00:00:00-05:00",
          "2022-12-20T00:00:00-05:00",
          "2022-12-27T00:00:00-05:00",
          "2023-01-03T00:00:00-05:00",
          "2023-01-10T00:00:00-05:00",
          "2023-01-17T00:00:00-05:00",
          "2023-01-24T00:00:00-05:00",
          "2023-01-31T00:00:00-05:00",
          "2023-02-07T00:00:00-05:00",
          "2023-02-14T00:00:00-05:00",
          "2023-02-21T00:00:00-05:00",
          "2023-02-28T00:00:00-05:00",
          "2023-03-07T00:00:00-05:00",
          "2023-03-14T00:00:00-04:00",
          "2023-03-21T00:00:00-04:00",
          "2023-03-28T00:00:00-04:00",
          "2023-04-04T00:00:00-04:00",
          "2023-04-11T00:00:00-04:00",
          "2023-04-18T00:00:00-04:00",
          "2023-04-25T00:00:00-04:00",
          "2023-05-02T00:00:00-04:00",
          "2023-05-09T00:00:00-04:00",
          "2023-05-16T00:00:00-04:00",
          "2023-05-23T00:00:00-04:00",
          "2023-05-30T00:00:00-04:00",
          "2023-06-06T00:00:00-04:00",
          "2023-06-13T00:00:00-04:00",
          "2023-06-20T00:00:00-04:00",
          "2023-06-27T00:00:00-04:00",
          "2023-07-11T00:00:00-04:00",
          "2023-07-18T00:00:00-04:00",
          "2023-07-25T00:00:00-04:00",
          "2023-08-01T00:00:00-04:00",
          "2023-08-08T00:00:00-04:00",
          "2023-08-15T00:00:00-04:00",
          "2023-08-22T00:00:00-04:00",
          "2023-08-29T00:00:00-04:00",
          "2023-09-05T00:00:00-04:00",
          "2023-09-12T00:00:00-04:00",
          "2023-09-19T00:00:00-04:00",
          "2023-09-26T00:00:00-04:00",
          "2023-10-03T00:00:00-04:00",
          "2023-10-10T00:00:00-04:00",
          "2023-10-17T00:00:00-04:00",
          "2023-10-24T00:00:00-04:00",
          "2023-10-31T00:00:00-04:00",
          "2023-11-07T00:00:00-05:00",
          "2023-11-14T00:00:00-05:00",
          "2023-11-21T00:00:00-05:00",
          "2023-11-28T00:00:00-05:00",
          "2023-12-05T00:00:00-05:00",
          "2023-12-12T00:00:00-05:00",
          "2023-12-19T00:00:00-05:00",
          "2023-12-26T00:00:00-05:00",
          "2024-01-02T00:00:00-05:00",
          "2024-01-09T00:00:00-05:00",
          "2024-01-16T00:00:00-05:00",
          "2024-01-23T00:00:00-05:00",
          "2024-01-30T00:00:00-05:00",
          "2024-02-06T00:00:00-05:00",
          "2024-02-13T00:00:00-05:00",
          "2024-02-20T00:00:00-05:00",
          "2024-02-27T00:00:00-05:00",
          "2024-03-05T00:00:00-05:00",
          "2024-03-12T00:00:00-04:00",
          "2024-03-19T00:00:00-04:00",
          "2024-03-26T00:00:00-04:00",
          "2024-04-02T00:00:00-04:00",
          "2024-04-09T00:00:00-04:00",
          "2024-04-16T00:00:00-04:00",
          "2024-04-23T00:00:00-04:00",
          "2024-04-30T00:00:00-04:00",
          "2024-05-07T00:00:00-04:00",
          "2024-05-14T00:00:00-04:00",
          "2024-05-21T00:00:00-04:00",
          "2024-05-28T00:00:00-04:00",
          "2024-06-04T00:00:00-04:00",
          "2024-06-11T00:00:00-04:00",
          "2024-06-18T00:00:00-04:00",
          "2024-06-25T00:00:00-04:00",
          "2024-07-02T00:00:00-04:00",
          "2024-07-09T00:00:00-04:00",
          "2024-07-16T00:00:00-04:00",
          "2024-07-23T00:00:00-04:00"
         ],
         "xaxis": "x",
         "y": [
          null,
          null,
          null,
          null,
          null,
          null,
          null,
          null,
          null,
          null,
          null,
          null,
          null,
          null,
          null,
          null,
          null,
          null,
          null,
          null,
          0.3333333333333333,
          0.38095238095238093,
          0.38095238095238093,
          0.3333333333333333,
          0.3333333333333333,
          0.3333333333333333,
          0.38095238095238093,
          0.42857142857142855,
          0.42857142857142855,
          0.42857142857142855,
          0.42857142857142855,
          0.42857142857142855,
          0.42857142857142855,
          0.47619047619047616,
          0.5238095238095238,
          0.5238095238095238,
          0.5238095238095238,
          0.5714285714285714,
          0.5238095238095238,
          0.5238095238095238,
          0.5714285714285714,
          0.5238095238095238,
          0.47619047619047616,
          0.47619047619047616,
          0.5238095238095238,
          0.5238095238095238,
          0.5714285714285714,
          0.5714285714285714,
          0.5714285714285714,
          0.5238095238095238,
          0.5714285714285714,
          0.6190476190476191,
          0.6190476190476191,
          0.6190476190476191,
          0.5714285714285714,
          0.5714285714285714,
          0.6190476190476191,
          0.6190476190476191,
          0.5714285714285714,
          0.6190476190476191,
          0.6666666666666666,
          0.6190476190476191,
          0.6190476190476191,
          0.6190476190476191,
          0.6190476190476191,
          0.5714285714285714,
          0.6190476190476191,
          0.5714285714285714,
          0.5238095238095238,
          0.5238095238095238,
          0.5714285714285714,
          0.5714285714285714,
          0.5714285714285714,
          0.5714285714285714,
          0.5238095238095238,
          0.5714285714285714,
          0.5714285714285714,
          0.5714285714285714,
          0.5238095238095238,
          0.5714285714285714,
          0.5238095238095238,
          0.47619047619047616,
          0.5238095238095238,
          0.5238095238095238,
          0.5714285714285714,
          0.5238095238095238,
          0.5238095238095238,
          0.47619047619047616,
          0.47619047619047616,
          0.5238095238095238,
          0.47619047619047616,
          0.42857142857142855,
          0.38095238095238093,
          0.3333333333333333,
          0.3333333333333333,
          0.3333333333333333,
          0.2857142857142857,
          0.2857142857142857,
          0.23809523809523808,
          0.2857142857142857,
          0.2857142857142857,
          0.2857142857142857,
          0.2857142857142857,
          0.2857142857142857,
          0.2857142857142857,
          0.2857142857142857,
          0.3333333333333333,
          0.3333333333333333,
          0.38095238095238093,
          0.38095238095238093,
          0.3333333333333333,
          0.3333333333333333,
          0.3333333333333333,
          0.3333333333333333,
          0.38095238095238093,
          0.38095238095238093,
          0.42857142857142855,
          0.47619047619047616,
          0.47619047619047616,
          0.47619047619047616,
          0.47619047619047616,
          0.47619047619047616,
          0.47619047619047616,
          0.5238095238095238,
          0.47619047619047616,
          0.5238095238095238,
          0.47619047619047616,
          0.42857142857142855,
          0.47619047619047616,
          0.42857142857142855,
          0.42857142857142855,
          0.47619047619047616,
          0.5238095238095238,
          0.5714285714285714,
          0.5714285714285714,
          0.5238095238095238,
          0.5238095238095238,
          0.5238095238095238,
          0.5238095238095238,
          0.5238095238095238,
          0.5238095238095238,
          0.47619047619047616,
          0.47619047619047616,
          0.47619047619047616,
          0.47619047619047616,
          0.5238095238095238,
          0.5238095238095238,
          0.5238095238095238,
          0.5238095238095238,
          0.5238095238095238,
          0.5238095238095238,
          0.5714285714285714,
          0.5238095238095238,
          0.5238095238095238,
          0.47619047619047616,
          0.5238095238095238,
          0.5238095238095238,
          0.5238095238095238,
          0.47619047619047616,
          0.47619047619047616,
          0.42857142857142855,
          0.42857142857142855,
          0.42857142857142855,
          0.38095238095238093,
          0.38095238095238093,
          0.3333333333333333,
          0.3333333333333333,
          0.2857142857142857,
          0.3333333333333333,
          0.38095238095238093,
          0.3333333333333333,
          0.38095238095238093,
          0.38095238095238093,
          0.42857142857142855,
          0.38095238095238093,
          0.38095238095238093,
          0.38095238095238093,
          0.42857142857142855,
          0.42857142857142855,
          0.42857142857142855,
          0.42857142857142855,
          0.42857142857142855,
          0.42857142857142855,
          0.47619047619047616,
          0.5238095238095238,
          0.5238095238095238,
          0.5238095238095238,
          0.47619047619047616,
          0.47619047619047616,
          0.47619047619047616,
          0.47619047619047616,
          0.47619047619047616,
          0.42857142857142855,
          0.42857142857142855,
          0.42857142857142855,
          0.42857142857142855,
          0.42857142857142855,
          0.38095238095238093,
          0.3333333333333333,
          0.3333333333333333,
          0.38095238095238093,
          0.38095238095238093,
          0.42857142857142855,
          0.42857142857142855,
          0.42857142857142855,
          0.42857142857142855,
          0.47619047619047616,
          0.5238095238095238,
          0.5238095238095238,
          0.5238095238095238,
          0.47619047619047616,
          0.42857142857142855,
          0.47619047619047616,
          0.47619047619047616,
          0.42857142857142855,
          0.38095238095238093,
          0.38095238095238093,
          0.38095238095238093,
          0.42857142857142855,
          0.42857142857142855,
          0.47619047619047616,
          0.47619047619047616,
          0.47619047619047616,
          0.47619047619047616,
          0.47619047619047616,
          0.47619047619047616,
          0.42857142857142855,
          0.42857142857142855,
          0.42857142857142855,
          0.47619047619047616,
          0.47619047619047616,
          0.47619047619047616,
          0.47619047619047616,
          0.47619047619047616,
          0.47619047619047616,
          0.5238095238095238,
          0.5238095238095238,
          0.5238095238095238,
          0.5714285714285714,
          0.5238095238095238,
          0.5714285714285714,
          0.5714285714285714,
          0.5238095238095238,
          0.47619047619047616,
          0.47619047619047616,
          0.47619047619047616,
          0.47619047619047616,
          0.47619047619047616,
          0.47619047619047616,
          0.47619047619047616,
          0.47619047619047616,
          0.5238095238095238,
          0.5714285714285714,
          0.6190476190476191,
          0.6190476190476191,
          0.6666666666666666,
          0.6666666666666666,
          0.7142857142857143,
          0.7619047619047619,
          0.7142857142857143
         ],
         "yaxis": "y"
        }
       ],
       "layout": {
        "annotations": [
         {
          "align": "center",
          "font": {
           "color": "black",
           "size": 12
          },
          "showarrow": false,
          "text": "19: Q3",
          "x": "2019-05-17T00:00:00",
          "xanchor": "center",
          "y": 1.02,
          "yanchor": "bottom"
         },
         {
          "align": "center",
          "font": {
           "color": "black",
           "size": 12
          },
          "showarrow": false,
          "text": "19: Q4",
          "x": "2019-08-17T00:00:00",
          "xanchor": "center",
          "y": 1.02,
          "yanchor": "bottom"
         },
         {
          "align": "center",
          "font": {
           "color": "black",
           "size": 12
          },
          "showarrow": false,
          "text": "20: Q1",
          "x": "2019-11-17T00:00:00",
          "xanchor": "center",
          "y": 1.02,
          "yanchor": "bottom"
         },
         {
          "align": "center",
          "font": {
           "color": "black",
           "size": 12
          },
          "showarrow": false,
          "text": "20: Q2",
          "x": "2020-02-16T00:00:00",
          "xanchor": "center",
          "y": 1.02,
          "yanchor": "bottom"
         },
         {
          "align": "center",
          "font": {
           "color": "black",
           "size": 12
          },
          "showarrow": false,
          "text": "20: Q3",
          "x": "2020-05-17T00:00:00",
          "xanchor": "center",
          "y": 1.02,
          "yanchor": "bottom"
         },
         {
          "align": "center",
          "font": {
           "color": "black",
           "size": 12
          },
          "showarrow": false,
          "text": "20: Q4",
          "x": "2020-08-17T00:00:00",
          "xanchor": "center",
          "y": 1.02,
          "yanchor": "bottom"
         },
         {
          "align": "center",
          "font": {
           "color": "black",
           "size": 12
          },
          "showarrow": false,
          "text": "21: Q1",
          "x": "2020-11-17T00:00:00",
          "xanchor": "center",
          "y": 1.02,
          "yanchor": "bottom"
         },
         {
          "align": "center",
          "font": {
           "color": "black",
           "size": 12
          },
          "showarrow": false,
          "text": "21: Q2",
          "x": "2021-02-15T00:00:00",
          "xanchor": "center",
          "y": 1.02,
          "yanchor": "bottom"
         },
         {
          "align": "center",
          "font": {
           "color": "black",
           "size": 12
          },
          "showarrow": false,
          "text": "21: Q3",
          "x": "2021-05-17T00:00:00",
          "xanchor": "center",
          "y": 1.02,
          "yanchor": "bottom"
         },
         {
          "align": "center",
          "font": {
           "color": "black",
           "size": 12
          },
          "showarrow": false,
          "text": "21: Q4",
          "x": "2021-08-17T00:00:00",
          "xanchor": "center",
          "y": 1.02,
          "yanchor": "bottom"
         },
         {
          "align": "center",
          "font": {
           "color": "black",
           "size": 12
          },
          "showarrow": false,
          "text": "22: Q1",
          "x": "2021-11-17T00:00:00",
          "xanchor": "center",
          "y": 1.02,
          "yanchor": "bottom"
         },
         {
          "align": "center",
          "font": {
           "color": "black",
           "size": 12
          },
          "showarrow": false,
          "text": "22: Q2",
          "x": "2022-02-15T00:00:00",
          "xanchor": "center",
          "y": 1.02,
          "yanchor": "bottom"
         },
         {
          "align": "center",
          "font": {
           "color": "black",
           "size": 12
          },
          "showarrow": false,
          "text": "22: Q3",
          "x": "2022-05-17T00:00:00",
          "xanchor": "center",
          "y": 1.02,
          "yanchor": "bottom"
         },
         {
          "align": "center",
          "font": {
           "color": "black",
           "size": 12
          },
          "showarrow": false,
          "text": "22: Q4",
          "x": "2022-08-17T00:00:00",
          "xanchor": "center",
          "y": 1.02,
          "yanchor": "bottom"
         },
         {
          "align": "center",
          "font": {
           "color": "black",
           "size": 12
          },
          "showarrow": false,
          "text": "23: Q1",
          "x": "2022-11-17T00:00:00",
          "xanchor": "center",
          "y": 1.02,
          "yanchor": "bottom"
         },
         {
          "align": "center",
          "font": {
           "color": "black",
           "size": 12
          },
          "showarrow": false,
          "text": "23: Q2",
          "x": "2023-02-15T00:00:00",
          "xanchor": "center",
          "y": 1.02,
          "yanchor": "bottom"
         },
         {
          "align": "center",
          "font": {
           "color": "black",
           "size": 12
          },
          "showarrow": false,
          "text": "23: Q3",
          "x": "2023-05-17T00:00:00",
          "xanchor": "center",
          "y": 1.02,
          "yanchor": "bottom"
         },
         {
          "align": "center",
          "font": {
           "color": "black",
           "size": 12
          },
          "showarrow": false,
          "text": "23: Q4",
          "x": "2023-08-17T00:00:00",
          "xanchor": "center",
          "y": 1.02,
          "yanchor": "bottom"
         },
         {
          "align": "center",
          "font": {
           "color": "black",
           "size": 12
          },
          "showarrow": false,
          "text": "24: Q1",
          "x": "2023-11-17T00:00:00",
          "xanchor": "center",
          "y": 1.02,
          "yanchor": "bottom"
         },
         {
          "align": "center",
          "font": {
           "color": "black",
           "size": 12
          },
          "showarrow": false,
          "text": "24: Q2",
          "x": "2024-02-16T00:00:00",
          "xanchor": "center",
          "y": 1.02,
          "yanchor": "bottom"
         },
         {
          "align": "center",
          "font": {
           "color": "black",
           "size": 12
          },
          "showarrow": false,
          "text": "24: Q3",
          "x": "2024-05-17T00:00:00",
          "xanchor": "center",
          "y": 1.02,
          "yanchor": "bottom"
         }
        ],
        "barmode": "relative",
        "font": {
         "color": "black"
        },
        "height": 600,
        "legend": {
         "orientation": "h",
         "title": {
          "font": {
           "size": 14
          },
          "text": "Statistics"
         },
         "tracegroupgap": 0,
         "x": 0,
         "y": -0.2
        },
        "paper_bgcolor": "white",
        "plot_bgcolor": "white",
        "shapes": [
         {
          "line": {
           "color": "blue",
           "dash": "solid",
           "width": 3
          },
          "name": "Mean",
          "type": "line",
          "x0": 0,
          "x1": 1,
          "xref": "x domain",
          "y0": 0.4740079365079365,
          "y1": 0.4740079365079365,
          "yref": "y"
         },
         {
          "line": {
           "color": "orange",
           "dash": "dash",
           "width": 2
          },
          "name": "Mean + 1 Std Dev",
          "type": "line",
          "x0": 0,
          "x1": 1,
          "xref": "x domain",
          "y0": 0.5659253300248065,
          "y1": 0.5659253300248065,
          "yref": "y"
         },
         {
          "line": {
           "color": "orange",
           "dash": "dash",
           "width": 2
          },
          "name": "Mean - 1 Std Dev",
          "type": "line",
          "x0": 0,
          "x1": 1,
          "xref": "x domain",
          "y0": 0.3820905429910665,
          "y1": 0.3820905429910665,
          "yref": "y"
         },
         {
          "line": {
           "color": "purple",
           "dash": "dash",
           "width": 2
          },
          "name": "Mean + 2 Std Dev",
          "type": "line",
          "x0": 0,
          "x1": 1,
          "xref": "x domain",
          "y0": 0.6578427235416765,
          "y1": 0.6578427235416765,
          "yref": "y"
         },
         {
          "line": {
           "color": "purple",
           "dash": "dash",
           "width": 2
          },
          "name": "Mean - 2 Std Dev",
          "type": "line",
          "x0": 0,
          "x1": 1,
          "xref": "x domain",
          "y0": 0.2901731494741965,
          "y1": 0.2901731494741965,
          "yref": "y"
         },
         {
          "fillcolor": "rgba(255, 182, 193, 0.5)",
          "line": {
           "width": 0
          },
          "name": "1 to 2 Std Dev",
          "type": "rect",
          "x0": "2019-07-30T00:00:00-04:00",
          "x1": "2024-07-23T00:00:00-04:00",
          "y0": 0.5659253300248065,
          "y1": 0.6578427235416765
         },
         {
          "fillcolor": "rgba(255, 182, 193, 0.5)",
          "line": {
           "width": 0
          },
          "name": "-2 to -1 Std Dev",
          "type": "rect",
          "x0": "2019-07-30T00:00:00-04:00",
          "x1": "2024-07-23T00:00:00-04:00",
          "y0": 0.2901731494741965,
          "y1": 0.3820905429910665
         },
         {
          "line": {
           "color": "gray",
           "dash": "dash",
           "width": 2
          },
          "name": "Fiscal Quarter End",
          "type": "line",
          "x0": "2019-07-01T00:00:00",
          "x1": "2019-07-01T00:00:00",
          "xref": "x",
          "y0": 0,
          "y1": 1,
          "yref": "y domain"
         },
         {
          "fillcolor": "rgba(200, 200, 200, 0.3)",
          "line": {
           "width": 0
          },
          "name": "Quarter Background",
          "type": "rect",
          "x0": "2019-04-02T00:00:00",
          "x1": "2019-07-01T00:00:00",
          "xref": "x",
          "y0": 0,
          "y1": 1,
          "yref": "paper"
         },
         {
          "line": {
           "color": "gray",
           "dash": "dash",
           "width": 2
          },
          "name": "Fiscal Quarter End",
          "type": "line",
          "x0": "2019-10-01T00:00:00",
          "x1": "2019-10-01T00:00:00",
          "xref": "x",
          "y0": 0,
          "y1": 1,
          "yref": "y domain"
         },
         {
          "line": {
           "color": "gray",
           "dash": "dash",
           "width": 2
          },
          "name": "Fiscal Quarter End",
          "type": "line",
          "x0": "2020-01-01T00:00:00",
          "x1": "2020-01-01T00:00:00",
          "xref": "x",
          "y0": 0,
          "y1": 1,
          "yref": "y domain"
         },
         {
          "fillcolor": "rgba(200, 200, 200, 0.3)",
          "line": {
           "width": 0
          },
          "name": "Quarter Background",
          "type": "rect",
          "x0": "2019-10-03T00:00:00",
          "x1": "2020-01-01T00:00:00",
          "xref": "x",
          "y0": 0,
          "y1": 1,
          "yref": "paper"
         },
         {
          "line": {
           "color": "gray",
           "dash": "dash",
           "width": 2
          },
          "name": "Fiscal Quarter End",
          "type": "line",
          "x0": "2020-04-01T00:00:00",
          "x1": "2020-04-01T00:00:00",
          "xref": "x",
          "y0": 0,
          "y1": 1,
          "yref": "y domain"
         },
         {
          "line": {
           "color": "gray",
           "dash": "dash",
           "width": 2
          },
          "name": "Fiscal Quarter End",
          "type": "line",
          "x0": "2020-07-01T00:00:00",
          "x1": "2020-07-01T00:00:00",
          "xref": "x",
          "y0": 0,
          "y1": 1,
          "yref": "y domain"
         },
         {
          "fillcolor": "rgba(200, 200, 200, 0.3)",
          "line": {
           "width": 0
          },
          "name": "Quarter Background",
          "type": "rect",
          "x0": "2020-04-02T00:00:00",
          "x1": "2020-07-01T00:00:00",
          "xref": "x",
          "y0": 0,
          "y1": 1,
          "yref": "paper"
         },
         {
          "line": {
           "color": "gray",
           "dash": "dash",
           "width": 2
          },
          "name": "Fiscal Quarter End",
          "type": "line",
          "x0": "2020-10-01T00:00:00",
          "x1": "2020-10-01T00:00:00",
          "xref": "x",
          "y0": 0,
          "y1": 1,
          "yref": "y domain"
         },
         {
          "line": {
           "color": "gray",
           "dash": "dash",
           "width": 2
          },
          "name": "Fiscal Quarter End",
          "type": "line",
          "x0": "2021-01-01T00:00:00",
          "x1": "2021-01-01T00:00:00",
          "xref": "x",
          "y0": 0,
          "y1": 1,
          "yref": "y domain"
         },
         {
          "fillcolor": "rgba(200, 200, 200, 0.3)",
          "line": {
           "width": 0
          },
          "name": "Quarter Background",
          "type": "rect",
          "x0": "2020-10-03T00:00:00",
          "x1": "2021-01-01T00:00:00",
          "xref": "x",
          "y0": 0,
          "y1": 1,
          "yref": "paper"
         },
         {
          "line": {
           "color": "gray",
           "dash": "dash",
           "width": 2
          },
          "name": "Fiscal Quarter End",
          "type": "line",
          "x0": "2021-04-01T00:00:00",
          "x1": "2021-04-01T00:00:00",
          "xref": "x",
          "y0": 0,
          "y1": 1,
          "yref": "y domain"
         },
         {
          "line": {
           "color": "gray",
           "dash": "dash",
           "width": 2
          },
          "name": "Fiscal Quarter End",
          "type": "line",
          "x0": "2021-07-01T00:00:00",
          "x1": "2021-07-01T00:00:00",
          "xref": "x",
          "y0": 0,
          "y1": 1,
          "yref": "y domain"
         },
         {
          "fillcolor": "rgba(200, 200, 200, 0.3)",
          "line": {
           "width": 0
          },
          "name": "Quarter Background",
          "type": "rect",
          "x0": "2021-04-02T00:00:00",
          "x1": "2021-07-01T00:00:00",
          "xref": "x",
          "y0": 0,
          "y1": 1,
          "yref": "paper"
         },
         {
          "line": {
           "color": "gray",
           "dash": "dash",
           "width": 2
          },
          "name": "Fiscal Quarter End",
          "type": "line",
          "x0": "2021-10-01T00:00:00",
          "x1": "2021-10-01T00:00:00",
          "xref": "x",
          "y0": 0,
          "y1": 1,
          "yref": "y domain"
         },
         {
          "line": {
           "color": "gray",
           "dash": "dash",
           "width": 2
          },
          "name": "Fiscal Quarter End",
          "type": "line",
          "x0": "2022-01-01T00:00:00",
          "x1": "2022-01-01T00:00:00",
          "xref": "x",
          "y0": 0,
          "y1": 1,
          "yref": "y domain"
         },
         {
          "fillcolor": "rgba(200, 200, 200, 0.3)",
          "line": {
           "width": 0
          },
          "name": "Quarter Background",
          "type": "rect",
          "x0": "2021-10-03T00:00:00",
          "x1": "2022-01-01T00:00:00",
          "xref": "x",
          "y0": 0,
          "y1": 1,
          "yref": "paper"
         },
         {
          "line": {
           "color": "gray",
           "dash": "dash",
           "width": 2
          },
          "name": "Fiscal Quarter End",
          "type": "line",
          "x0": "2022-04-01T00:00:00",
          "x1": "2022-04-01T00:00:00",
          "xref": "x",
          "y0": 0,
          "y1": 1,
          "yref": "y domain"
         },
         {
          "line": {
           "color": "gray",
           "dash": "dash",
           "width": 2
          },
          "name": "Fiscal Quarter End",
          "type": "line",
          "x0": "2022-07-01T00:00:00",
          "x1": "2022-07-01T00:00:00",
          "xref": "x",
          "y0": 0,
          "y1": 1,
          "yref": "y domain"
         },
         {
          "fillcolor": "rgba(200, 200, 200, 0.3)",
          "line": {
           "width": 0
          },
          "name": "Quarter Background",
          "type": "rect",
          "x0": "2022-04-02T00:00:00",
          "x1": "2022-07-01T00:00:00",
          "xref": "x",
          "y0": 0,
          "y1": 1,
          "yref": "paper"
         },
         {
          "line": {
           "color": "gray",
           "dash": "dash",
           "width": 2
          },
          "name": "Fiscal Quarter End",
          "type": "line",
          "x0": "2022-10-01T00:00:00",
          "x1": "2022-10-01T00:00:00",
          "xref": "x",
          "y0": 0,
          "y1": 1,
          "yref": "y domain"
         },
         {
          "line": {
           "color": "gray",
           "dash": "dash",
           "width": 2
          },
          "name": "Fiscal Quarter End",
          "type": "line",
          "x0": "2023-01-01T00:00:00",
          "x1": "2023-01-01T00:00:00",
          "xref": "x",
          "y0": 0,
          "y1": 1,
          "yref": "y domain"
         },
         {
          "fillcolor": "rgba(200, 200, 200, 0.3)",
          "line": {
           "width": 0
          },
          "name": "Quarter Background",
          "type": "rect",
          "x0": "2022-10-03T00:00:00",
          "x1": "2023-01-01T00:00:00",
          "xref": "x",
          "y0": 0,
          "y1": 1,
          "yref": "paper"
         },
         {
          "line": {
           "color": "gray",
           "dash": "dash",
           "width": 2
          },
          "name": "Fiscal Quarter End",
          "type": "line",
          "x0": "2023-04-01T00:00:00",
          "x1": "2023-04-01T00:00:00",
          "xref": "x",
          "y0": 0,
          "y1": 1,
          "yref": "y domain"
         },
         {
          "line": {
           "color": "gray",
           "dash": "dash",
           "width": 2
          },
          "name": "Fiscal Quarter End",
          "type": "line",
          "x0": "2023-07-01T00:00:00",
          "x1": "2023-07-01T00:00:00",
          "xref": "x",
          "y0": 0,
          "y1": 1,
          "yref": "y domain"
         },
         {
          "fillcolor": "rgba(200, 200, 200, 0.3)",
          "line": {
           "width": 0
          },
          "name": "Quarter Background",
          "type": "rect",
          "x0": "2023-04-02T00:00:00",
          "x1": "2023-07-01T00:00:00",
          "xref": "x",
          "y0": 0,
          "y1": 1,
          "yref": "paper"
         },
         {
          "line": {
           "color": "gray",
           "dash": "dash",
           "width": 2
          },
          "name": "Fiscal Quarter End",
          "type": "line",
          "x0": "2023-10-01T00:00:00",
          "x1": "2023-10-01T00:00:00",
          "xref": "x",
          "y0": 0,
          "y1": 1,
          "yref": "y domain"
         },
         {
          "line": {
           "color": "gray",
           "dash": "dash",
           "width": 2
          },
          "name": "Fiscal Quarter End",
          "type": "line",
          "x0": "2024-01-01T00:00:00",
          "x1": "2024-01-01T00:00:00",
          "xref": "x",
          "y0": 0,
          "y1": 1,
          "yref": "y domain"
         },
         {
          "fillcolor": "rgba(200, 200, 200, 0.3)",
          "line": {
           "width": 0
          },
          "name": "Quarter Background",
          "type": "rect",
          "x0": "2023-10-03T00:00:00",
          "x1": "2024-01-01T00:00:00",
          "xref": "x",
          "y0": 0,
          "y1": 1,
          "yref": "paper"
         },
         {
          "line": {
           "color": "gray",
           "dash": "dash",
           "width": 2
          },
          "name": "Fiscal Quarter End",
          "type": "line",
          "x0": "2024-04-01T00:00:00",
          "x1": "2024-04-01T00:00:00",
          "xref": "x",
          "y0": 0,
          "y1": 1,
          "yref": "y domain"
         },
         {
          "line": {
           "color": "gray",
           "dash": "dash",
           "width": 2
          },
          "name": "Fiscal Quarter End",
          "type": "line",
          "x0": "2024-07-01T00:00:00",
          "x1": "2024-07-01T00:00:00",
          "xref": "x",
          "y0": 0,
          "y1": 1,
          "yref": "y domain"
         },
         {
          "fillcolor": "rgba(200, 200, 200, 0.3)",
          "line": {
           "width": 0
          },
          "name": "Quarter Background",
          "type": "rect",
          "x0": "2024-04-02T00:00:00",
          "x1": "2024-07-01T00:00:00",
          "xref": "x",
          "y0": 0,
          "y1": 1,
          "yref": "paper"
         }
        ],
        "template": {
         "data": {
          "bar": [
           {
            "error_x": {
             "color": "#2a3f5f"
            },
            "error_y": {
             "color": "#2a3f5f"
            },
            "marker": {
             "line": {
              "color": "#E5ECF6",
              "width": 0.5
             },
             "pattern": {
              "fillmode": "overlay",
              "size": 10,
              "solidity": 0.2
             }
            },
            "type": "bar"
           }
          ],
          "barpolar": [
           {
            "marker": {
             "line": {
              "color": "#E5ECF6",
              "width": 0.5
             },
             "pattern": {
              "fillmode": "overlay",
              "size": 10,
              "solidity": 0.2
             }
            },
            "type": "barpolar"
           }
          ],
          "carpet": [
           {
            "aaxis": {
             "endlinecolor": "#2a3f5f",
             "gridcolor": "white",
             "linecolor": "white",
             "minorgridcolor": "white",
             "startlinecolor": "#2a3f5f"
            },
            "baxis": {
             "endlinecolor": "#2a3f5f",
             "gridcolor": "white",
             "linecolor": "white",
             "minorgridcolor": "white",
             "startlinecolor": "#2a3f5f"
            },
            "type": "carpet"
           }
          ],
          "choropleth": [
           {
            "colorbar": {
             "outlinewidth": 0,
             "ticks": ""
            },
            "type": "choropleth"
           }
          ],
          "contour": [
           {
            "colorbar": {
             "outlinewidth": 0,
             "ticks": ""
            },
            "colorscale": [
             [
              0,
              "#0d0887"
             ],
             [
              0.1111111111111111,
              "#46039f"
             ],
             [
              0.2222222222222222,
              "#7201a8"
             ],
             [
              0.3333333333333333,
              "#9c179e"
             ],
             [
              0.4444444444444444,
              "#bd3786"
             ],
             [
              0.5555555555555556,
              "#d8576b"
             ],
             [
              0.6666666666666666,
              "#ed7953"
             ],
             [
              0.7777777777777778,
              "#fb9f3a"
             ],
             [
              0.8888888888888888,
              "#fdca26"
             ],
             [
              1,
              "#f0f921"
             ]
            ],
            "type": "contour"
           }
          ],
          "contourcarpet": [
           {
            "colorbar": {
             "outlinewidth": 0,
             "ticks": ""
            },
            "type": "contourcarpet"
           }
          ],
          "heatmap": [
           {
            "colorbar": {
             "outlinewidth": 0,
             "ticks": ""
            },
            "colorscale": [
             [
              0,
              "#0d0887"
             ],
             [
              0.1111111111111111,
              "#46039f"
             ],
             [
              0.2222222222222222,
              "#7201a8"
             ],
             [
              0.3333333333333333,
              "#9c179e"
             ],
             [
              0.4444444444444444,
              "#bd3786"
             ],
             [
              0.5555555555555556,
              "#d8576b"
             ],
             [
              0.6666666666666666,
              "#ed7953"
             ],
             [
              0.7777777777777778,
              "#fb9f3a"
             ],
             [
              0.8888888888888888,
              "#fdca26"
             ],
             [
              1,
              "#f0f921"
             ]
            ],
            "type": "heatmap"
           }
          ],
          "heatmapgl": [
           {
            "colorbar": {
             "outlinewidth": 0,
             "ticks": ""
            },
            "colorscale": [
             [
              0,
              "#0d0887"
             ],
             [
              0.1111111111111111,
              "#46039f"
             ],
             [
              0.2222222222222222,
              "#7201a8"
             ],
             [
              0.3333333333333333,
              "#9c179e"
             ],
             [
              0.4444444444444444,
              "#bd3786"
             ],
             [
              0.5555555555555556,
              "#d8576b"
             ],
             [
              0.6666666666666666,
              "#ed7953"
             ],
             [
              0.7777777777777778,
              "#fb9f3a"
             ],
             [
              0.8888888888888888,
              "#fdca26"
             ],
             [
              1,
              "#f0f921"
             ]
            ],
            "type": "heatmapgl"
           }
          ],
          "histogram": [
           {
            "marker": {
             "pattern": {
              "fillmode": "overlay",
              "size": 10,
              "solidity": 0.2
             }
            },
            "type": "histogram"
           }
          ],
          "histogram2d": [
           {
            "colorbar": {
             "outlinewidth": 0,
             "ticks": ""
            },
            "colorscale": [
             [
              0,
              "#0d0887"
             ],
             [
              0.1111111111111111,
              "#46039f"
             ],
             [
              0.2222222222222222,
              "#7201a8"
             ],
             [
              0.3333333333333333,
              "#9c179e"
             ],
             [
              0.4444444444444444,
              "#bd3786"
             ],
             [
              0.5555555555555556,
              "#d8576b"
             ],
             [
              0.6666666666666666,
              "#ed7953"
             ],
             [
              0.7777777777777778,
              "#fb9f3a"
             ],
             [
              0.8888888888888888,
              "#fdca26"
             ],
             [
              1,
              "#f0f921"
             ]
            ],
            "type": "histogram2d"
           }
          ],
          "histogram2dcontour": [
           {
            "colorbar": {
             "outlinewidth": 0,
             "ticks": ""
            },
            "colorscale": [
             [
              0,
              "#0d0887"
             ],
             [
              0.1111111111111111,
              "#46039f"
             ],
             [
              0.2222222222222222,
              "#7201a8"
             ],
             [
              0.3333333333333333,
              "#9c179e"
             ],
             [
              0.4444444444444444,
              "#bd3786"
             ],
             [
              0.5555555555555556,
              "#d8576b"
             ],
             [
              0.6666666666666666,
              "#ed7953"
             ],
             [
              0.7777777777777778,
              "#fb9f3a"
             ],
             [
              0.8888888888888888,
              "#fdca26"
             ],
             [
              1,
              "#f0f921"
             ]
            ],
            "type": "histogram2dcontour"
           }
          ],
          "mesh3d": [
           {
            "colorbar": {
             "outlinewidth": 0,
             "ticks": ""
            },
            "type": "mesh3d"
           }
          ],
          "parcoords": [
           {
            "line": {
             "colorbar": {
              "outlinewidth": 0,
              "ticks": ""
             }
            },
            "type": "parcoords"
           }
          ],
          "pie": [
           {
            "automargin": true,
            "type": "pie"
           }
          ],
          "scatter": [
           {
            "fillpattern": {
             "fillmode": "overlay",
             "size": 10,
             "solidity": 0.2
            },
            "type": "scatter"
           }
          ],
          "scatter3d": [
           {
            "line": {
             "colorbar": {
              "outlinewidth": 0,
              "ticks": ""
             }
            },
            "marker": {
             "colorbar": {
              "outlinewidth": 0,
              "ticks": ""
             }
            },
            "type": "scatter3d"
           }
          ],
          "scattercarpet": [
           {
            "marker": {
             "colorbar": {
              "outlinewidth": 0,
              "ticks": ""
             }
            },
            "type": "scattercarpet"
           }
          ],
          "scattergeo": [
           {
            "marker": {
             "colorbar": {
              "outlinewidth": 0,
              "ticks": ""
             }
            },
            "type": "scattergeo"
           }
          ],
          "scattergl": [
           {
            "marker": {
             "colorbar": {
              "outlinewidth": 0,
              "ticks": ""
             }
            },
            "type": "scattergl"
           }
          ],
          "scattermapbox": [
           {
            "marker": {
             "colorbar": {
              "outlinewidth": 0,
              "ticks": ""
             }
            },
            "type": "scattermapbox"
           }
          ],
          "scatterpolar": [
           {
            "marker": {
             "colorbar": {
              "outlinewidth": 0,
              "ticks": ""
             }
            },
            "type": "scatterpolar"
           }
          ],
          "scatterpolargl": [
           {
            "marker": {
             "colorbar": {
              "outlinewidth": 0,
              "ticks": ""
             }
            },
            "type": "scatterpolargl"
           }
          ],
          "scatterternary": [
           {
            "marker": {
             "colorbar": {
              "outlinewidth": 0,
              "ticks": ""
             }
            },
            "type": "scatterternary"
           }
          ],
          "surface": [
           {
            "colorbar": {
             "outlinewidth": 0,
             "ticks": ""
            },
            "colorscale": [
             [
              0,
              "#0d0887"
             ],
             [
              0.1111111111111111,
              "#46039f"
             ],
             [
              0.2222222222222222,
              "#7201a8"
             ],
             [
              0.3333333333333333,
              "#9c179e"
             ],
             [
              0.4444444444444444,
              "#bd3786"
             ],
             [
              0.5555555555555556,
              "#d8576b"
             ],
             [
              0.6666666666666666,
              "#ed7953"
             ],
             [
              0.7777777777777778,
              "#fb9f3a"
             ],
             [
              0.8888888888888888,
              "#fdca26"
             ],
             [
              1,
              "#f0f921"
             ]
            ],
            "type": "surface"
           }
          ],
          "table": [
           {
            "cells": {
             "fill": {
              "color": "#EBF0F8"
             },
             "line": {
              "color": "white"
             }
            },
            "header": {
             "fill": {
              "color": "#C8D4E3"
             },
             "line": {
              "color": "white"
             }
            },
            "type": "table"
           }
          ]
         },
         "layout": {
          "annotationdefaults": {
           "arrowcolor": "#2a3f5f",
           "arrowhead": 0,
           "arrowwidth": 1
          },
          "autotypenumbers": "strict",
          "coloraxis": {
           "colorbar": {
            "outlinewidth": 0,
            "ticks": ""
           }
          },
          "colorscale": {
           "diverging": [
            [
             0,
             "#8e0152"
            ],
            [
             0.1,
             "#c51b7d"
            ],
            [
             0.2,
             "#de77ae"
            ],
            [
             0.3,
             "#f1b6da"
            ],
            [
             0.4,
             "#fde0ef"
            ],
            [
             0.5,
             "#f7f7f7"
            ],
            [
             0.6,
             "#e6f5d0"
            ],
            [
             0.7,
             "#b8e186"
            ],
            [
             0.8,
             "#7fbc41"
            ],
            [
             0.9,
             "#4d9221"
            ],
            [
             1,
             "#276419"
            ]
           ],
           "sequential": [
            [
             0,
             "#0d0887"
            ],
            [
             0.1111111111111111,
             "#46039f"
            ],
            [
             0.2222222222222222,
             "#7201a8"
            ],
            [
             0.3333333333333333,
             "#9c179e"
            ],
            [
             0.4444444444444444,
             "#bd3786"
            ],
            [
             0.5555555555555556,
             "#d8576b"
            ],
            [
             0.6666666666666666,
             "#ed7953"
            ],
            [
             0.7777777777777778,
             "#fb9f3a"
            ],
            [
             0.8888888888888888,
             "#fdca26"
            ],
            [
             1,
             "#f0f921"
            ]
           ],
           "sequentialminus": [
            [
             0,
             "#0d0887"
            ],
            [
             0.1111111111111111,
             "#46039f"
            ],
            [
             0.2222222222222222,
             "#7201a8"
            ],
            [
             0.3333333333333333,
             "#9c179e"
            ],
            [
             0.4444444444444444,
             "#bd3786"
            ],
            [
             0.5555555555555556,
             "#d8576b"
            ],
            [
             0.6666666666666666,
             "#ed7953"
            ],
            [
             0.7777777777777778,
             "#fb9f3a"
            ],
            [
             0.8888888888888888,
             "#fdca26"
            ],
            [
             1,
             "#f0f921"
            ]
           ]
          },
          "colorway": [
           "#636efa",
           "#EF553B",
           "#00cc96",
           "#ab63fa",
           "#FFA15A",
           "#19d3f3",
           "#FF6692",
           "#B6E880",
           "#FF97FF",
           "#FECB52"
          ],
          "font": {
           "color": "#2a3f5f"
          },
          "geo": {
           "bgcolor": "white",
           "lakecolor": "white",
           "landcolor": "#E5ECF6",
           "showlakes": true,
           "showland": true,
           "subunitcolor": "white"
          },
          "hoverlabel": {
           "align": "left"
          },
          "hovermode": "closest",
          "mapbox": {
           "style": "light"
          },
          "paper_bgcolor": "white",
          "plot_bgcolor": "#E5ECF6",
          "polar": {
           "angularaxis": {
            "gridcolor": "white",
            "linecolor": "white",
            "ticks": ""
           },
           "bgcolor": "#E5ECF6",
           "radialaxis": {
            "gridcolor": "white",
            "linecolor": "white",
            "ticks": ""
           }
          },
          "scene": {
           "xaxis": {
            "backgroundcolor": "#E5ECF6",
            "gridcolor": "white",
            "gridwidth": 2,
            "linecolor": "white",
            "showbackground": true,
            "ticks": "",
            "zerolinecolor": "white"
           },
           "yaxis": {
            "backgroundcolor": "#E5ECF6",
            "gridcolor": "white",
            "gridwidth": 2,
            "linecolor": "white",
            "showbackground": true,
            "ticks": "",
            "zerolinecolor": "white"
           },
           "zaxis": {
            "backgroundcolor": "#E5ECF6",
            "gridcolor": "white",
            "gridwidth": 2,
            "linecolor": "white",
            "showbackground": true,
            "ticks": "",
            "zerolinecolor": "white"
           }
          },
          "shapedefaults": {
           "line": {
            "color": "#2a3f5f"
           }
          },
          "ternary": {
           "aaxis": {
            "gridcolor": "white",
            "linecolor": "white",
            "ticks": ""
           },
           "baxis": {
            "gridcolor": "white",
            "linecolor": "white",
            "ticks": ""
           },
           "bgcolor": "#E5ECF6",
           "caxis": {
            "gridcolor": "white",
            "linecolor": "white",
            "ticks": ""
           }
          },
          "title": {
           "x": 0.05
          },
          "xaxis": {
           "automargin": true,
           "gridcolor": "white",
           "linecolor": "white",
           "ticks": "",
           "title": {
            "standoff": 15
           },
           "zerolinecolor": "white",
           "zerolinewidth": 2
          },
          "yaxis": {
           "automargin": true,
           "gridcolor": "white",
           "linecolor": "white",
           "ticks": "",
           "title": {
            "standoff": 15
           },
           "zerolinecolor": "white",
           "zerolinewidth": 2
          }
         }
        },
        "title": {
         "font": {
          "size": 16
         },
         "text": "Successive Tuesday Returns with Fiscal Quarter End Lines"
        },
        "xaxis": {
         "anchor": "y",
         "domain": [
          0,
          1
         ],
         "title": {
          "text": "Date"
         }
        },
        "yaxis": {
         "anchor": "x",
         "domain": [
          0,
          1
         ],
         "title": {
          "text": "Rolling Mean of Positive Returns"
         }
        }
       }
      }
     },
     "metadata": {},
     "output_type": "display_data"
    },
    {
     "name": "stderr",
     "output_type": "stream",
     "text": [
      "C:\\Users\\kevin\\AppData\\Local\\Temp\\ipykernel_15944\\227141821.py:88: UserWarning:\n",
      "\n",
      "Converting to PeriodArray/Index representation will drop timezone information.\n",
      "\n"
     ]
    },
    {
     "data": {
      "application/vnd.plotly.v1+json": {
       "config": {
        "plotlyServerURL": "https://plot.ly"
       },
       "data": [
        {
         "alignmentgroup": "True",
         "hovertemplate": "variable=Close<br>Date=%{x}<br>value=%{y}<extra></extra>",
         "legendgroup": "Close",
         "marker": {
          "color": "#1f77b4",
          "pattern": {
           "shape": ""
          }
         },
         "name": "Close",
         "offsetgroup": "Close",
         "orientation": "v",
         "showlegend": true,
         "textposition": "auto",
         "type": "bar",
         "x": [
          "2019-07-31T00:00:00-04:00",
          "2019-08-07T00:00:00-04:00",
          "2019-08-14T00:00:00-04:00",
          "2019-08-21T00:00:00-04:00",
          "2019-08-28T00:00:00-04:00",
          "2019-09-04T00:00:00-04:00",
          "2019-09-11T00:00:00-04:00",
          "2019-09-18T00:00:00-04:00",
          "2019-09-25T00:00:00-04:00",
          "2019-10-02T00:00:00-04:00",
          "2019-10-09T00:00:00-04:00",
          "2019-10-16T00:00:00-04:00",
          "2019-10-23T00:00:00-04:00",
          "2019-10-30T00:00:00-04:00",
          "2019-11-06T00:00:00-05:00",
          "2019-11-13T00:00:00-05:00",
          "2019-11-20T00:00:00-05:00",
          "2019-11-27T00:00:00-05:00",
          "2019-12-04T00:00:00-05:00",
          "2019-12-11T00:00:00-05:00",
          "2019-12-18T00:00:00-05:00",
          "2020-01-08T00:00:00-05:00",
          "2020-01-15T00:00:00-05:00",
          "2020-01-22T00:00:00-05:00",
          "2020-01-29T00:00:00-05:00",
          "2020-02-05T00:00:00-05:00",
          "2020-02-12T00:00:00-05:00",
          "2020-02-19T00:00:00-05:00",
          "2020-02-26T00:00:00-05:00",
          "2020-03-04T00:00:00-05:00",
          "2020-03-11T00:00:00-04:00",
          "2020-03-18T00:00:00-04:00",
          "2020-03-25T00:00:00-04:00",
          "2020-04-01T00:00:00-04:00",
          "2020-04-08T00:00:00-04:00",
          "2020-04-15T00:00:00-04:00",
          "2020-04-22T00:00:00-04:00",
          "2020-04-29T00:00:00-04:00",
          "2020-05-06T00:00:00-04:00",
          "2020-05-13T00:00:00-04:00",
          "2020-05-20T00:00:00-04:00",
          "2020-05-27T00:00:00-04:00",
          "2020-06-03T00:00:00-04:00",
          "2020-06-10T00:00:00-04:00",
          "2020-06-17T00:00:00-04:00",
          "2020-06-24T00:00:00-04:00",
          "2020-07-01T00:00:00-04:00",
          "2020-07-08T00:00:00-04:00",
          "2020-07-15T00:00:00-04:00",
          "2020-07-22T00:00:00-04:00",
          "2020-07-29T00:00:00-04:00",
          "2020-08-05T00:00:00-04:00",
          "2020-08-12T00:00:00-04:00",
          "2020-08-19T00:00:00-04:00",
          "2020-08-26T00:00:00-04:00",
          "2020-09-02T00:00:00-04:00",
          "2020-09-09T00:00:00-04:00",
          "2020-09-16T00:00:00-04:00",
          "2020-09-23T00:00:00-04:00",
          "2020-09-30T00:00:00-04:00",
          "2020-10-07T00:00:00-04:00",
          "2020-10-14T00:00:00-04:00",
          "2020-10-21T00:00:00-04:00",
          "2020-10-28T00:00:00-04:00",
          "2020-11-04T00:00:00-05:00",
          "2020-11-11T00:00:00-05:00",
          "2020-11-18T00:00:00-05:00",
          "2020-11-25T00:00:00-05:00",
          "2020-12-02T00:00:00-05:00",
          "2020-12-09T00:00:00-05:00",
          "2020-12-16T00:00:00-05:00",
          "2020-12-23T00:00:00-05:00",
          "2020-12-30T00:00:00-05:00",
          "2021-01-06T00:00:00-05:00",
          "2021-01-13T00:00:00-05:00",
          "2021-01-20T00:00:00-05:00",
          "2021-01-27T00:00:00-05:00",
          "2021-02-03T00:00:00-05:00",
          "2021-02-10T00:00:00-05:00",
          "2021-02-17T00:00:00-05:00",
          "2021-02-24T00:00:00-05:00",
          "2021-03-03T00:00:00-05:00",
          "2021-03-10T00:00:00-05:00",
          "2021-03-17T00:00:00-04:00",
          "2021-03-24T00:00:00-04:00",
          "2021-03-31T00:00:00-04:00",
          "2021-04-07T00:00:00-04:00",
          "2021-04-14T00:00:00-04:00",
          "2021-04-21T00:00:00-04:00",
          "2021-04-28T00:00:00-04:00",
          "2021-05-05T00:00:00-04:00",
          "2021-05-12T00:00:00-04:00",
          "2021-05-19T00:00:00-04:00",
          "2021-05-26T00:00:00-04:00",
          "2021-06-02T00:00:00-04:00",
          "2021-06-09T00:00:00-04:00",
          "2021-06-16T00:00:00-04:00",
          "2021-06-23T00:00:00-04:00",
          "2021-06-30T00:00:00-04:00",
          "2021-07-07T00:00:00-04:00",
          "2021-07-14T00:00:00-04:00",
          "2021-07-21T00:00:00-04:00",
          "2021-07-28T00:00:00-04:00",
          "2021-08-04T00:00:00-04:00",
          "2021-08-11T00:00:00-04:00",
          "2021-08-18T00:00:00-04:00",
          "2021-08-25T00:00:00-04:00",
          "2021-09-01T00:00:00-04:00",
          "2021-09-08T00:00:00-04:00",
          "2021-09-15T00:00:00-04:00",
          "2021-09-22T00:00:00-04:00",
          "2021-09-29T00:00:00-04:00",
          "2021-10-06T00:00:00-04:00",
          "2021-10-13T00:00:00-04:00",
          "2021-10-20T00:00:00-04:00",
          "2021-10-27T00:00:00-04:00",
          "2021-11-03T00:00:00-04:00",
          "2021-11-10T00:00:00-05:00",
          "2021-11-17T00:00:00-05:00",
          "2021-11-24T00:00:00-05:00",
          "2021-12-01T00:00:00-05:00",
          "2021-12-08T00:00:00-05:00",
          "2021-12-15T00:00:00-05:00",
          "2021-12-22T00:00:00-05:00",
          "2021-12-29T00:00:00-05:00",
          "2022-01-05T00:00:00-05:00",
          "2022-01-12T00:00:00-05:00",
          "2022-01-19T00:00:00-05:00",
          "2022-01-26T00:00:00-05:00",
          "2022-02-02T00:00:00-05:00",
          "2022-02-09T00:00:00-05:00",
          "2022-02-16T00:00:00-05:00",
          "2022-02-23T00:00:00-05:00",
          "2022-03-02T00:00:00-05:00",
          "2022-03-09T00:00:00-05:00",
          "2022-03-16T00:00:00-04:00",
          "2022-03-23T00:00:00-04:00",
          "2022-03-30T00:00:00-04:00",
          "2022-04-06T00:00:00-04:00",
          "2022-04-13T00:00:00-04:00",
          "2022-04-20T00:00:00-04:00",
          "2022-04-27T00:00:00-04:00",
          "2022-05-04T00:00:00-04:00",
          "2022-05-11T00:00:00-04:00",
          "2022-05-18T00:00:00-04:00",
          "2022-05-25T00:00:00-04:00",
          "2022-06-01T00:00:00-04:00",
          "2022-06-08T00:00:00-04:00",
          "2022-06-15T00:00:00-04:00",
          "2022-06-22T00:00:00-04:00",
          "2022-06-29T00:00:00-04:00",
          "2022-07-06T00:00:00-04:00",
          "2022-07-13T00:00:00-04:00",
          "2022-07-20T00:00:00-04:00",
          "2022-07-27T00:00:00-04:00",
          "2022-08-03T00:00:00-04:00",
          "2022-08-10T00:00:00-04:00",
          "2022-08-17T00:00:00-04:00",
          "2022-08-24T00:00:00-04:00",
          "2022-08-31T00:00:00-04:00",
          "2022-09-07T00:00:00-04:00",
          "2022-09-14T00:00:00-04:00",
          "2022-09-21T00:00:00-04:00",
          "2022-09-28T00:00:00-04:00",
          "2022-10-05T00:00:00-04:00",
          "2022-10-12T00:00:00-04:00",
          "2022-10-19T00:00:00-04:00",
          "2022-10-26T00:00:00-04:00",
          "2022-11-02T00:00:00-04:00",
          "2022-11-09T00:00:00-05:00",
          "2022-11-16T00:00:00-05:00",
          "2022-11-23T00:00:00-05:00",
          "2022-11-30T00:00:00-05:00",
          "2022-12-07T00:00:00-05:00",
          "2022-12-14T00:00:00-05:00",
          "2022-12-21T00:00:00-05:00",
          "2022-12-28T00:00:00-05:00",
          "2023-01-04T00:00:00-05:00",
          "2023-01-11T00:00:00-05:00",
          "2023-01-18T00:00:00-05:00",
          "2023-01-25T00:00:00-05:00",
          "2023-02-01T00:00:00-05:00",
          "2023-02-08T00:00:00-05:00",
          "2023-02-15T00:00:00-05:00",
          "2023-02-22T00:00:00-05:00",
          "2023-03-01T00:00:00-05:00",
          "2023-03-08T00:00:00-05:00",
          "2023-03-15T00:00:00-04:00",
          "2023-03-22T00:00:00-04:00",
          "2023-03-29T00:00:00-04:00",
          "2023-04-05T00:00:00-04:00",
          "2023-04-12T00:00:00-04:00",
          "2023-04-19T00:00:00-04:00",
          "2023-04-26T00:00:00-04:00",
          "2023-05-03T00:00:00-04:00",
          "2023-05-10T00:00:00-04:00",
          "2023-05-17T00:00:00-04:00",
          "2023-05-24T00:00:00-04:00",
          "2023-05-31T00:00:00-04:00",
          "2023-06-07T00:00:00-04:00",
          "2023-06-14T00:00:00-04:00",
          "2023-06-21T00:00:00-04:00",
          "2023-06-28T00:00:00-04:00",
          "2023-07-05T00:00:00-04:00",
          "2023-07-12T00:00:00-04:00",
          "2023-07-19T00:00:00-04:00",
          "2023-07-26T00:00:00-04:00",
          "2023-08-02T00:00:00-04:00",
          "2023-08-09T00:00:00-04:00",
          "2023-08-16T00:00:00-04:00",
          "2023-08-23T00:00:00-04:00",
          "2023-08-30T00:00:00-04:00",
          "2023-09-06T00:00:00-04:00",
          "2023-09-13T00:00:00-04:00",
          "2023-09-20T00:00:00-04:00",
          "2023-09-27T00:00:00-04:00",
          "2023-10-04T00:00:00-04:00",
          "2023-10-11T00:00:00-04:00",
          "2023-10-18T00:00:00-04:00",
          "2023-10-25T00:00:00-04:00",
          "2023-11-01T00:00:00-04:00",
          "2023-11-08T00:00:00-05:00",
          "2023-11-15T00:00:00-05:00",
          "2023-11-22T00:00:00-05:00",
          "2023-11-29T00:00:00-05:00",
          "2023-12-06T00:00:00-05:00",
          "2023-12-13T00:00:00-05:00",
          "2023-12-20T00:00:00-05:00",
          "2023-12-27T00:00:00-05:00",
          "2024-01-03T00:00:00-05:00",
          "2024-01-10T00:00:00-05:00",
          "2024-01-17T00:00:00-05:00",
          "2024-01-24T00:00:00-05:00",
          "2024-01-31T00:00:00-05:00",
          "2024-02-07T00:00:00-05:00",
          "2024-02-14T00:00:00-05:00",
          "2024-02-21T00:00:00-05:00",
          "2024-02-28T00:00:00-05:00",
          "2024-03-06T00:00:00-05:00",
          "2024-03-13T00:00:00-04:00",
          "2024-03-20T00:00:00-04:00",
          "2024-03-27T00:00:00-04:00",
          "2024-04-03T00:00:00-04:00",
          "2024-04-10T00:00:00-04:00",
          "2024-04-17T00:00:00-04:00",
          "2024-04-24T00:00:00-04:00",
          "2024-05-01T00:00:00-04:00",
          "2024-05-08T00:00:00-04:00",
          "2024-05-15T00:00:00-04:00",
          "2024-05-22T00:00:00-04:00",
          "2024-05-29T00:00:00-04:00",
          "2024-06-05T00:00:00-04:00",
          "2024-06-12T00:00:00-04:00",
          "2024-06-26T00:00:00-04:00",
          "2024-07-03T00:00:00-04:00",
          "2024-07-10T00:00:00-04:00",
          "2024-07-17T00:00:00-04:00",
          "2024-07-24T00:00:00-04:00"
         ],
         "xaxis": "x",
         "y": [
          null,
          null,
          null,
          null,
          null,
          null,
          null,
          null,
          null,
          null,
          null,
          null,
          null,
          null,
          null,
          null,
          null,
          null,
          null,
          null,
          0.7619047619047619,
          0.8095238095238095,
          0.8095238095238095,
          0.8571428571428571,
          0.8095238095238095,
          0.8095238095238095,
          0.8095238095238095,
          0.8095238095238095,
          0.7619047619047619,
          0.7619047619047619,
          0.7619047619047619,
          0.7142857142857143,
          0.7619047619047619,
          0.7142857142857143,
          0.7142857142857143,
          0.6666666666666666,
          0.6666666666666666,
          0.7142857142857143,
          0.6666666666666666,
          0.6190476190476191,
          0.6190476190476191,
          0.6190476190476191,
          0.6190476190476191,
          0.5714285714285714,
          0.5238095238095238,
          0.5238095238095238,
          0.5238095238095238,
          0.5238095238095238,
          0.5238095238095238,
          0.5714285714285714,
          0.5714285714285714,
          0.6190476190476191,
          0.6666666666666666,
          0.6190476190476191,
          0.6666666666666666,
          0.6666666666666666,
          0.7142857142857143,
          0.6666666666666666,
          0.6190476190476191,
          0.6666666666666666,
          0.7142857142857143,
          0.6666666666666666,
          0.6190476190476191,
          0.5714285714285714,
          0.6190476190476191,
          0.6666666666666666,
          0.6666666666666666,
          0.6190476190476191,
          0.6190476190476191,
          0.5714285714285714,
          0.5714285714285714,
          0.5714285714285714,
          0.5714285714285714,
          0.5714285714285714,
          0.6190476190476191,
          0.6190476190476191,
          0.5714285714285714,
          0.5714285714285714,
          0.5714285714285714,
          0.6190476190476191,
          0.6190476190476191,
          0.5714285714285714,
          0.6190476190476191,
          0.6666666666666666,
          0.6666666666666666,
          0.6666666666666666,
          0.6666666666666666,
          0.6666666666666666,
          0.7142857142857143,
          0.6666666666666666,
          0.7142857142857143,
          0.6666666666666666,
          0.6190476190476191,
          0.6190476190476191,
          0.6190476190476191,
          0.5714285714285714,
          0.5238095238095238,
          0.5238095238095238,
          0.5238095238095238,
          0.5714285714285714,
          0.5714285714285714,
          0.5714285714285714,
          0.5714285714285714,
          0.5238095238095238,
          0.5238095238095238,
          0.5238095238095238,
          0.5238095238095238,
          0.5238095238095238,
          0.5238095238095238,
          0.5238095238095238,
          0.5714285714285714,
          0.5714285714285714,
          0.6190476190476191,
          0.6666666666666666,
          0.6666666666666666,
          0.6190476190476191,
          0.6666666666666666,
          0.6666666666666666,
          0.6666666666666666,
          0.6666666666666666,
          0.6190476190476191,
          0.6190476190476191,
          0.6190476190476191,
          0.6666666666666666,
          0.7142857142857143,
          0.6666666666666666,
          0.7142857142857143,
          0.6666666666666666,
          0.6190476190476191,
          0.6666666666666666,
          0.6666666666666666,
          0.6666666666666666,
          0.6190476190476191,
          0.6190476190476191,
          0.6190476190476191,
          0.6190476190476191,
          0.6190476190476191,
          0.5714285714285714,
          0.5714285714285714,
          0.6190476190476191,
          0.5714285714285714,
          0.6190476190476191,
          0.6190476190476191,
          0.5714285714285714,
          0.5238095238095238,
          0.5238095238095238,
          0.5238095238095238,
          0.47619047619047616,
          0.5238095238095238,
          0.5238095238095238,
          0.47619047619047616,
          0.47619047619047616,
          0.42857142857142855,
          0.47619047619047616,
          0.47619047619047616,
          0.47619047619047616,
          0.47619047619047616,
          0.47619047619047616,
          0.5238095238095238,
          0.5238095238095238,
          0.5238095238095238,
          0.5714285714285714,
          0.5238095238095238,
          0.5238095238095238,
          0.5238095238095238,
          0.5238095238095238,
          0.47619047619047616,
          0.47619047619047616,
          0.47619047619047616,
          0.42857142857142855,
          0.42857142857142855,
          0.47619047619047616,
          0.47619047619047616,
          0.47619047619047616,
          0.42857142857142855,
          0.42857142857142855,
          0.38095238095238093,
          0.38095238095238093,
          0.42857142857142855,
          0.38095238095238093,
          0.42857142857142855,
          0.42857142857142855,
          0.38095238095238093,
          0.42857142857142855,
          0.38095238095238093,
          0.38095238095238093,
          0.42857142857142855,
          0.42857142857142855,
          0.42857142857142855,
          0.47619047619047616,
          0.47619047619047616,
          0.47619047619047616,
          0.42857142857142855,
          0.38095238095238093,
          0.38095238095238093,
          0.42857142857142855,
          0.42857142857142855,
          0.42857142857142855,
          0.38095238095238093,
          0.3333333333333333,
          0.38095238095238093,
          0.3333333333333333,
          0.3333333333333333,
          0.3333333333333333,
          0.3333333333333333,
          0.38095238095238093,
          0.42857142857142855,
          0.38095238095238093,
          0.38095238095238093,
          0.38095238095238093,
          0.38095238095238093,
          0.42857142857142855,
          0.42857142857142855,
          0.47619047619047616,
          0.47619047619047616,
          0.5238095238095238,
          0.5238095238095238,
          0.5238095238095238,
          0.5238095238095238,
          0.5238095238095238,
          0.5714285714285714,
          0.5714285714285714,
          0.6190476190476191,
          0.6190476190476191,
          0.6190476190476191,
          0.5714285714285714,
          0.5714285714285714,
          0.5238095238095238,
          0.5714285714285714,
          0.5714285714285714,
          0.6190476190476191,
          0.5714285714285714,
          0.5714285714285714,
          0.5714285714285714,
          0.5714285714285714,
          0.6190476190476191,
          0.6190476190476191,
          0.5714285714285714,
          0.5714285714285714,
          0.5714285714285714,
          0.6190476190476191,
          0.6190476190476191,
          0.6190476190476191,
          0.5714285714285714,
          0.5238095238095238,
          0.5238095238095238,
          0.5238095238095238,
          0.5238095238095238,
          0.5714285714285714,
          0.5238095238095238,
          0.5238095238095238,
          0.5238095238095238,
          0.5714285714285714,
          0.5714285714285714,
          0.6190476190476191,
          0.6190476190476191,
          0.5714285714285714,
          0.5238095238095238
         ],
         "yaxis": "y"
        }
       ],
       "layout": {
        "annotations": [
         {
          "align": "center",
          "font": {
           "color": "black",
           "size": 12
          },
          "showarrow": false,
          "text": "19: Q3",
          "x": "2019-05-17T00:00:00",
          "xanchor": "center",
          "y": 1.02,
          "yanchor": "bottom"
         },
         {
          "align": "center",
          "font": {
           "color": "black",
           "size": 12
          },
          "showarrow": false,
          "text": "19: Q4",
          "x": "2019-08-17T00:00:00",
          "xanchor": "center",
          "y": 1.02,
          "yanchor": "bottom"
         },
         {
          "align": "center",
          "font": {
           "color": "black",
           "size": 12
          },
          "showarrow": false,
          "text": "20: Q1",
          "x": "2019-11-17T00:00:00",
          "xanchor": "center",
          "y": 1.02,
          "yanchor": "bottom"
         },
         {
          "align": "center",
          "font": {
           "color": "black",
           "size": 12
          },
          "showarrow": false,
          "text": "20: Q2",
          "x": "2020-02-16T00:00:00",
          "xanchor": "center",
          "y": 1.02,
          "yanchor": "bottom"
         },
         {
          "align": "center",
          "font": {
           "color": "black",
           "size": 12
          },
          "showarrow": false,
          "text": "20: Q3",
          "x": "2020-05-17T00:00:00",
          "xanchor": "center",
          "y": 1.02,
          "yanchor": "bottom"
         },
         {
          "align": "center",
          "font": {
           "color": "black",
           "size": 12
          },
          "showarrow": false,
          "text": "20: Q4",
          "x": "2020-08-17T00:00:00",
          "xanchor": "center",
          "y": 1.02,
          "yanchor": "bottom"
         },
         {
          "align": "center",
          "font": {
           "color": "black",
           "size": 12
          },
          "showarrow": false,
          "text": "21: Q1",
          "x": "2020-11-17T00:00:00",
          "xanchor": "center",
          "y": 1.02,
          "yanchor": "bottom"
         },
         {
          "align": "center",
          "font": {
           "color": "black",
           "size": 12
          },
          "showarrow": false,
          "text": "21: Q2",
          "x": "2021-02-15T00:00:00",
          "xanchor": "center",
          "y": 1.02,
          "yanchor": "bottom"
         },
         {
          "align": "center",
          "font": {
           "color": "black",
           "size": 12
          },
          "showarrow": false,
          "text": "21: Q3",
          "x": "2021-05-17T00:00:00",
          "xanchor": "center",
          "y": 1.02,
          "yanchor": "bottom"
         },
         {
          "align": "center",
          "font": {
           "color": "black",
           "size": 12
          },
          "showarrow": false,
          "text": "21: Q4",
          "x": "2021-08-17T00:00:00",
          "xanchor": "center",
          "y": 1.02,
          "yanchor": "bottom"
         },
         {
          "align": "center",
          "font": {
           "color": "black",
           "size": 12
          },
          "showarrow": false,
          "text": "22: Q1",
          "x": "2021-11-17T00:00:00",
          "xanchor": "center",
          "y": 1.02,
          "yanchor": "bottom"
         },
         {
          "align": "center",
          "font": {
           "color": "black",
           "size": 12
          },
          "showarrow": false,
          "text": "22: Q2",
          "x": "2022-02-15T00:00:00",
          "xanchor": "center",
          "y": 1.02,
          "yanchor": "bottom"
         },
         {
          "align": "center",
          "font": {
           "color": "black",
           "size": 12
          },
          "showarrow": false,
          "text": "22: Q3",
          "x": "2022-05-17T00:00:00",
          "xanchor": "center",
          "y": 1.02,
          "yanchor": "bottom"
         },
         {
          "align": "center",
          "font": {
           "color": "black",
           "size": 12
          },
          "showarrow": false,
          "text": "22: Q4",
          "x": "2022-08-17T00:00:00",
          "xanchor": "center",
          "y": 1.02,
          "yanchor": "bottom"
         },
         {
          "align": "center",
          "font": {
           "color": "black",
           "size": 12
          },
          "showarrow": false,
          "text": "23: Q1",
          "x": "2022-11-17T00:00:00",
          "xanchor": "center",
          "y": 1.02,
          "yanchor": "bottom"
         },
         {
          "align": "center",
          "font": {
           "color": "black",
           "size": 12
          },
          "showarrow": false,
          "text": "23: Q2",
          "x": "2023-02-15T00:00:00",
          "xanchor": "center",
          "y": 1.02,
          "yanchor": "bottom"
         },
         {
          "align": "center",
          "font": {
           "color": "black",
           "size": 12
          },
          "showarrow": false,
          "text": "23: Q3",
          "x": "2023-05-17T00:00:00",
          "xanchor": "center",
          "y": 1.02,
          "yanchor": "bottom"
         },
         {
          "align": "center",
          "font": {
           "color": "black",
           "size": 12
          },
          "showarrow": false,
          "text": "23: Q4",
          "x": "2023-08-17T00:00:00",
          "xanchor": "center",
          "y": 1.02,
          "yanchor": "bottom"
         },
         {
          "align": "center",
          "font": {
           "color": "black",
           "size": 12
          },
          "showarrow": false,
          "text": "24: Q1",
          "x": "2023-11-17T00:00:00",
          "xanchor": "center",
          "y": 1.02,
          "yanchor": "bottom"
         },
         {
          "align": "center",
          "font": {
           "color": "black",
           "size": 12
          },
          "showarrow": false,
          "text": "24: Q2",
          "x": "2024-02-16T00:00:00",
          "xanchor": "center",
          "y": 1.02,
          "yanchor": "bottom"
         },
         {
          "align": "center",
          "font": {
           "color": "black",
           "size": 12
          },
          "showarrow": false,
          "text": "24: Q3",
          "x": "2024-05-17T00:00:00",
          "xanchor": "center",
          "y": 1.02,
          "yanchor": "bottom"
         }
        ],
        "barmode": "relative",
        "font": {
         "color": "black"
        },
        "height": 600,
        "legend": {
         "orientation": "h",
         "title": {
          "font": {
           "size": 14
          },
          "text": "Statistics"
         },
         "tracegroupgap": 0,
         "x": 0,
         "y": -0.2
        },
        "paper_bgcolor": "white",
        "plot_bgcolor": "white",
        "shapes": [
         {
          "line": {
           "color": "blue",
           "dash": "solid",
           "width": 3
          },
          "name": "Mean",
          "type": "line",
          "x0": 0,
          "x1": 1,
          "xref": "x domain",
          "y0": 0.5652260904361744,
          "y1": 0.5652260904361744,
          "yref": "y"
         },
         {
          "line": {
           "color": "orange",
           "dash": "dash",
           "width": 2
          },
          "name": "Mean + 1 Std Dev",
          "type": "line",
          "x0": 0,
          "x1": 1,
          "xref": "x domain",
          "y0": 0.6709825159067146,
          "y1": 0.6709825159067146,
          "yref": "y"
         },
         {
          "line": {
           "color": "orange",
           "dash": "dash",
           "width": 2
          },
          "name": "Mean - 1 Std Dev",
          "type": "line",
          "x0": 0,
          "x1": 1,
          "xref": "x domain",
          "y0": 0.45946966496563424,
          "y1": 0.45946966496563424,
          "yref": "y"
         },
         {
          "line": {
           "color": "purple",
           "dash": "dash",
           "width": 2
          },
          "name": "Mean + 2 Std Dev",
          "type": "line",
          "x0": 0,
          "x1": 1,
          "xref": "x domain",
          "y0": 0.7767389413772549,
          "y1": 0.7767389413772549,
          "yref": "y"
         },
         {
          "line": {
           "color": "purple",
           "dash": "dash",
           "width": 2
          },
          "name": "Mean - 2 Std Dev",
          "type": "line",
          "x0": 0,
          "x1": 1,
          "xref": "x domain",
          "y0": 0.35371323949509403,
          "y1": 0.35371323949509403,
          "yref": "y"
         },
         {
          "fillcolor": "rgba(255, 182, 193, 0.5)",
          "line": {
           "width": 0
          },
          "name": "1 to 2 Std Dev",
          "type": "rect",
          "x0": "2019-07-31T00:00:00-04:00",
          "x1": "2024-07-24T00:00:00-04:00",
          "y0": 0.6709825159067146,
          "y1": 0.7767389413772549
         },
         {
          "fillcolor": "rgba(255, 182, 193, 0.5)",
          "line": {
           "width": 0
          },
          "name": "-2 to -1 Std Dev",
          "type": "rect",
          "x0": "2019-07-31T00:00:00-04:00",
          "x1": "2024-07-24T00:00:00-04:00",
          "y0": 0.35371323949509403,
          "y1": 0.45946966496563424
         },
         {
          "line": {
           "color": "gray",
           "dash": "dash",
           "width": 2
          },
          "name": "Fiscal Quarter End",
          "type": "line",
          "x0": "2019-07-01T00:00:00",
          "x1": "2019-07-01T00:00:00",
          "xref": "x",
          "y0": 0,
          "y1": 1,
          "yref": "y domain"
         },
         {
          "fillcolor": "rgba(200, 200, 200, 0.3)",
          "line": {
           "width": 0
          },
          "name": "Quarter Background",
          "type": "rect",
          "x0": "2019-04-02T00:00:00",
          "x1": "2019-07-01T00:00:00",
          "xref": "x",
          "y0": 0,
          "y1": 1,
          "yref": "paper"
         },
         {
          "line": {
           "color": "gray",
           "dash": "dash",
           "width": 2
          },
          "name": "Fiscal Quarter End",
          "type": "line",
          "x0": "2019-10-01T00:00:00",
          "x1": "2019-10-01T00:00:00",
          "xref": "x",
          "y0": 0,
          "y1": 1,
          "yref": "y domain"
         },
         {
          "line": {
           "color": "gray",
           "dash": "dash",
           "width": 2
          },
          "name": "Fiscal Quarter End",
          "type": "line",
          "x0": "2020-01-01T00:00:00",
          "x1": "2020-01-01T00:00:00",
          "xref": "x",
          "y0": 0,
          "y1": 1,
          "yref": "y domain"
         },
         {
          "fillcolor": "rgba(200, 200, 200, 0.3)",
          "line": {
           "width": 0
          },
          "name": "Quarter Background",
          "type": "rect",
          "x0": "2019-10-03T00:00:00",
          "x1": "2020-01-01T00:00:00",
          "xref": "x",
          "y0": 0,
          "y1": 1,
          "yref": "paper"
         },
         {
          "line": {
           "color": "gray",
           "dash": "dash",
           "width": 2
          },
          "name": "Fiscal Quarter End",
          "type": "line",
          "x0": "2020-04-01T00:00:00",
          "x1": "2020-04-01T00:00:00",
          "xref": "x",
          "y0": 0,
          "y1": 1,
          "yref": "y domain"
         },
         {
          "line": {
           "color": "gray",
           "dash": "dash",
           "width": 2
          },
          "name": "Fiscal Quarter End",
          "type": "line",
          "x0": "2020-07-01T00:00:00",
          "x1": "2020-07-01T00:00:00",
          "xref": "x",
          "y0": 0,
          "y1": 1,
          "yref": "y domain"
         },
         {
          "fillcolor": "rgba(200, 200, 200, 0.3)",
          "line": {
           "width": 0
          },
          "name": "Quarter Background",
          "type": "rect",
          "x0": "2020-04-02T00:00:00",
          "x1": "2020-07-01T00:00:00",
          "xref": "x",
          "y0": 0,
          "y1": 1,
          "yref": "paper"
         },
         {
          "line": {
           "color": "gray",
           "dash": "dash",
           "width": 2
          },
          "name": "Fiscal Quarter End",
          "type": "line",
          "x0": "2020-10-01T00:00:00",
          "x1": "2020-10-01T00:00:00",
          "xref": "x",
          "y0": 0,
          "y1": 1,
          "yref": "y domain"
         },
         {
          "line": {
           "color": "gray",
           "dash": "dash",
           "width": 2
          },
          "name": "Fiscal Quarter End",
          "type": "line",
          "x0": "2021-01-01T00:00:00",
          "x1": "2021-01-01T00:00:00",
          "xref": "x",
          "y0": 0,
          "y1": 1,
          "yref": "y domain"
         },
         {
          "fillcolor": "rgba(200, 200, 200, 0.3)",
          "line": {
           "width": 0
          },
          "name": "Quarter Background",
          "type": "rect",
          "x0": "2020-10-03T00:00:00",
          "x1": "2021-01-01T00:00:00",
          "xref": "x",
          "y0": 0,
          "y1": 1,
          "yref": "paper"
         },
         {
          "line": {
           "color": "gray",
           "dash": "dash",
           "width": 2
          },
          "name": "Fiscal Quarter End",
          "type": "line",
          "x0": "2021-04-01T00:00:00",
          "x1": "2021-04-01T00:00:00",
          "xref": "x",
          "y0": 0,
          "y1": 1,
          "yref": "y domain"
         },
         {
          "line": {
           "color": "gray",
           "dash": "dash",
           "width": 2
          },
          "name": "Fiscal Quarter End",
          "type": "line",
          "x0": "2021-07-01T00:00:00",
          "x1": "2021-07-01T00:00:00",
          "xref": "x",
          "y0": 0,
          "y1": 1,
          "yref": "y domain"
         },
         {
          "fillcolor": "rgba(200, 200, 200, 0.3)",
          "line": {
           "width": 0
          },
          "name": "Quarter Background",
          "type": "rect",
          "x0": "2021-04-02T00:00:00",
          "x1": "2021-07-01T00:00:00",
          "xref": "x",
          "y0": 0,
          "y1": 1,
          "yref": "paper"
         },
         {
          "line": {
           "color": "gray",
           "dash": "dash",
           "width": 2
          },
          "name": "Fiscal Quarter End",
          "type": "line",
          "x0": "2021-10-01T00:00:00",
          "x1": "2021-10-01T00:00:00",
          "xref": "x",
          "y0": 0,
          "y1": 1,
          "yref": "y domain"
         },
         {
          "line": {
           "color": "gray",
           "dash": "dash",
           "width": 2
          },
          "name": "Fiscal Quarter End",
          "type": "line",
          "x0": "2022-01-01T00:00:00",
          "x1": "2022-01-01T00:00:00",
          "xref": "x",
          "y0": 0,
          "y1": 1,
          "yref": "y domain"
         },
         {
          "fillcolor": "rgba(200, 200, 200, 0.3)",
          "line": {
           "width": 0
          },
          "name": "Quarter Background",
          "type": "rect",
          "x0": "2021-10-03T00:00:00",
          "x1": "2022-01-01T00:00:00",
          "xref": "x",
          "y0": 0,
          "y1": 1,
          "yref": "paper"
         },
         {
          "line": {
           "color": "gray",
           "dash": "dash",
           "width": 2
          },
          "name": "Fiscal Quarter End",
          "type": "line",
          "x0": "2022-04-01T00:00:00",
          "x1": "2022-04-01T00:00:00",
          "xref": "x",
          "y0": 0,
          "y1": 1,
          "yref": "y domain"
         },
         {
          "line": {
           "color": "gray",
           "dash": "dash",
           "width": 2
          },
          "name": "Fiscal Quarter End",
          "type": "line",
          "x0": "2022-07-01T00:00:00",
          "x1": "2022-07-01T00:00:00",
          "xref": "x",
          "y0": 0,
          "y1": 1,
          "yref": "y domain"
         },
         {
          "fillcolor": "rgba(200, 200, 200, 0.3)",
          "line": {
           "width": 0
          },
          "name": "Quarter Background",
          "type": "rect",
          "x0": "2022-04-02T00:00:00",
          "x1": "2022-07-01T00:00:00",
          "xref": "x",
          "y0": 0,
          "y1": 1,
          "yref": "paper"
         },
         {
          "line": {
           "color": "gray",
           "dash": "dash",
           "width": 2
          },
          "name": "Fiscal Quarter End",
          "type": "line",
          "x0": "2022-10-01T00:00:00",
          "x1": "2022-10-01T00:00:00",
          "xref": "x",
          "y0": 0,
          "y1": 1,
          "yref": "y domain"
         },
         {
          "line": {
           "color": "gray",
           "dash": "dash",
           "width": 2
          },
          "name": "Fiscal Quarter End",
          "type": "line",
          "x0": "2023-01-01T00:00:00",
          "x1": "2023-01-01T00:00:00",
          "xref": "x",
          "y0": 0,
          "y1": 1,
          "yref": "y domain"
         },
         {
          "fillcolor": "rgba(200, 200, 200, 0.3)",
          "line": {
           "width": 0
          },
          "name": "Quarter Background",
          "type": "rect",
          "x0": "2022-10-03T00:00:00",
          "x1": "2023-01-01T00:00:00",
          "xref": "x",
          "y0": 0,
          "y1": 1,
          "yref": "paper"
         },
         {
          "line": {
           "color": "gray",
           "dash": "dash",
           "width": 2
          },
          "name": "Fiscal Quarter End",
          "type": "line",
          "x0": "2023-04-01T00:00:00",
          "x1": "2023-04-01T00:00:00",
          "xref": "x",
          "y0": 0,
          "y1": 1,
          "yref": "y domain"
         },
         {
          "line": {
           "color": "gray",
           "dash": "dash",
           "width": 2
          },
          "name": "Fiscal Quarter End",
          "type": "line",
          "x0": "2023-07-01T00:00:00",
          "x1": "2023-07-01T00:00:00",
          "xref": "x",
          "y0": 0,
          "y1": 1,
          "yref": "y domain"
         },
         {
          "fillcolor": "rgba(200, 200, 200, 0.3)",
          "line": {
           "width": 0
          },
          "name": "Quarter Background",
          "type": "rect",
          "x0": "2023-04-02T00:00:00",
          "x1": "2023-07-01T00:00:00",
          "xref": "x",
          "y0": 0,
          "y1": 1,
          "yref": "paper"
         },
         {
          "line": {
           "color": "gray",
           "dash": "dash",
           "width": 2
          },
          "name": "Fiscal Quarter End",
          "type": "line",
          "x0": "2023-10-01T00:00:00",
          "x1": "2023-10-01T00:00:00",
          "xref": "x",
          "y0": 0,
          "y1": 1,
          "yref": "y domain"
         },
         {
          "line": {
           "color": "gray",
           "dash": "dash",
           "width": 2
          },
          "name": "Fiscal Quarter End",
          "type": "line",
          "x0": "2024-01-01T00:00:00",
          "x1": "2024-01-01T00:00:00",
          "xref": "x",
          "y0": 0,
          "y1": 1,
          "yref": "y domain"
         },
         {
          "fillcolor": "rgba(200, 200, 200, 0.3)",
          "line": {
           "width": 0
          },
          "name": "Quarter Background",
          "type": "rect",
          "x0": "2023-10-03T00:00:00",
          "x1": "2024-01-01T00:00:00",
          "xref": "x",
          "y0": 0,
          "y1": 1,
          "yref": "paper"
         },
         {
          "line": {
           "color": "gray",
           "dash": "dash",
           "width": 2
          },
          "name": "Fiscal Quarter End",
          "type": "line",
          "x0": "2024-04-01T00:00:00",
          "x1": "2024-04-01T00:00:00",
          "xref": "x",
          "y0": 0,
          "y1": 1,
          "yref": "y domain"
         },
         {
          "line": {
           "color": "gray",
           "dash": "dash",
           "width": 2
          },
          "name": "Fiscal Quarter End",
          "type": "line",
          "x0": "2024-07-01T00:00:00",
          "x1": "2024-07-01T00:00:00",
          "xref": "x",
          "y0": 0,
          "y1": 1,
          "yref": "y domain"
         },
         {
          "fillcolor": "rgba(200, 200, 200, 0.3)",
          "line": {
           "width": 0
          },
          "name": "Quarter Background",
          "type": "rect",
          "x0": "2024-04-02T00:00:00",
          "x1": "2024-07-01T00:00:00",
          "xref": "x",
          "y0": 0,
          "y1": 1,
          "yref": "paper"
         }
        ],
        "template": {
         "data": {
          "bar": [
           {
            "error_x": {
             "color": "#2a3f5f"
            },
            "error_y": {
             "color": "#2a3f5f"
            },
            "marker": {
             "line": {
              "color": "#E5ECF6",
              "width": 0.5
             },
             "pattern": {
              "fillmode": "overlay",
              "size": 10,
              "solidity": 0.2
             }
            },
            "type": "bar"
           }
          ],
          "barpolar": [
           {
            "marker": {
             "line": {
              "color": "#E5ECF6",
              "width": 0.5
             },
             "pattern": {
              "fillmode": "overlay",
              "size": 10,
              "solidity": 0.2
             }
            },
            "type": "barpolar"
           }
          ],
          "carpet": [
           {
            "aaxis": {
             "endlinecolor": "#2a3f5f",
             "gridcolor": "white",
             "linecolor": "white",
             "minorgridcolor": "white",
             "startlinecolor": "#2a3f5f"
            },
            "baxis": {
             "endlinecolor": "#2a3f5f",
             "gridcolor": "white",
             "linecolor": "white",
             "minorgridcolor": "white",
             "startlinecolor": "#2a3f5f"
            },
            "type": "carpet"
           }
          ],
          "choropleth": [
           {
            "colorbar": {
             "outlinewidth": 0,
             "ticks": ""
            },
            "type": "choropleth"
           }
          ],
          "contour": [
           {
            "colorbar": {
             "outlinewidth": 0,
             "ticks": ""
            },
            "colorscale": [
             [
              0,
              "#0d0887"
             ],
             [
              0.1111111111111111,
              "#46039f"
             ],
             [
              0.2222222222222222,
              "#7201a8"
             ],
             [
              0.3333333333333333,
              "#9c179e"
             ],
             [
              0.4444444444444444,
              "#bd3786"
             ],
             [
              0.5555555555555556,
              "#d8576b"
             ],
             [
              0.6666666666666666,
              "#ed7953"
             ],
             [
              0.7777777777777778,
              "#fb9f3a"
             ],
             [
              0.8888888888888888,
              "#fdca26"
             ],
             [
              1,
              "#f0f921"
             ]
            ],
            "type": "contour"
           }
          ],
          "contourcarpet": [
           {
            "colorbar": {
             "outlinewidth": 0,
             "ticks": ""
            },
            "type": "contourcarpet"
           }
          ],
          "heatmap": [
           {
            "colorbar": {
             "outlinewidth": 0,
             "ticks": ""
            },
            "colorscale": [
             [
              0,
              "#0d0887"
             ],
             [
              0.1111111111111111,
              "#46039f"
             ],
             [
              0.2222222222222222,
              "#7201a8"
             ],
             [
              0.3333333333333333,
              "#9c179e"
             ],
             [
              0.4444444444444444,
              "#bd3786"
             ],
             [
              0.5555555555555556,
              "#d8576b"
             ],
             [
              0.6666666666666666,
              "#ed7953"
             ],
             [
              0.7777777777777778,
              "#fb9f3a"
             ],
             [
              0.8888888888888888,
              "#fdca26"
             ],
             [
              1,
              "#f0f921"
             ]
            ],
            "type": "heatmap"
           }
          ],
          "heatmapgl": [
           {
            "colorbar": {
             "outlinewidth": 0,
             "ticks": ""
            },
            "colorscale": [
             [
              0,
              "#0d0887"
             ],
             [
              0.1111111111111111,
              "#46039f"
             ],
             [
              0.2222222222222222,
              "#7201a8"
             ],
             [
              0.3333333333333333,
              "#9c179e"
             ],
             [
              0.4444444444444444,
              "#bd3786"
             ],
             [
              0.5555555555555556,
              "#d8576b"
             ],
             [
              0.6666666666666666,
              "#ed7953"
             ],
             [
              0.7777777777777778,
              "#fb9f3a"
             ],
             [
              0.8888888888888888,
              "#fdca26"
             ],
             [
              1,
              "#f0f921"
             ]
            ],
            "type": "heatmapgl"
           }
          ],
          "histogram": [
           {
            "marker": {
             "pattern": {
              "fillmode": "overlay",
              "size": 10,
              "solidity": 0.2
             }
            },
            "type": "histogram"
           }
          ],
          "histogram2d": [
           {
            "colorbar": {
             "outlinewidth": 0,
             "ticks": ""
            },
            "colorscale": [
             [
              0,
              "#0d0887"
             ],
             [
              0.1111111111111111,
              "#46039f"
             ],
             [
              0.2222222222222222,
              "#7201a8"
             ],
             [
              0.3333333333333333,
              "#9c179e"
             ],
             [
              0.4444444444444444,
              "#bd3786"
             ],
             [
              0.5555555555555556,
              "#d8576b"
             ],
             [
              0.6666666666666666,
              "#ed7953"
             ],
             [
              0.7777777777777778,
              "#fb9f3a"
             ],
             [
              0.8888888888888888,
              "#fdca26"
             ],
             [
              1,
              "#f0f921"
             ]
            ],
            "type": "histogram2d"
           }
          ],
          "histogram2dcontour": [
           {
            "colorbar": {
             "outlinewidth": 0,
             "ticks": ""
            },
            "colorscale": [
             [
              0,
              "#0d0887"
             ],
             [
              0.1111111111111111,
              "#46039f"
             ],
             [
              0.2222222222222222,
              "#7201a8"
             ],
             [
              0.3333333333333333,
              "#9c179e"
             ],
             [
              0.4444444444444444,
              "#bd3786"
             ],
             [
              0.5555555555555556,
              "#d8576b"
             ],
             [
              0.6666666666666666,
              "#ed7953"
             ],
             [
              0.7777777777777778,
              "#fb9f3a"
             ],
             [
              0.8888888888888888,
              "#fdca26"
             ],
             [
              1,
              "#f0f921"
             ]
            ],
            "type": "histogram2dcontour"
           }
          ],
          "mesh3d": [
           {
            "colorbar": {
             "outlinewidth": 0,
             "ticks": ""
            },
            "type": "mesh3d"
           }
          ],
          "parcoords": [
           {
            "line": {
             "colorbar": {
              "outlinewidth": 0,
              "ticks": ""
             }
            },
            "type": "parcoords"
           }
          ],
          "pie": [
           {
            "automargin": true,
            "type": "pie"
           }
          ],
          "scatter": [
           {
            "fillpattern": {
             "fillmode": "overlay",
             "size": 10,
             "solidity": 0.2
            },
            "type": "scatter"
           }
          ],
          "scatter3d": [
           {
            "line": {
             "colorbar": {
              "outlinewidth": 0,
              "ticks": ""
             }
            },
            "marker": {
             "colorbar": {
              "outlinewidth": 0,
              "ticks": ""
             }
            },
            "type": "scatter3d"
           }
          ],
          "scattercarpet": [
           {
            "marker": {
             "colorbar": {
              "outlinewidth": 0,
              "ticks": ""
             }
            },
            "type": "scattercarpet"
           }
          ],
          "scattergeo": [
           {
            "marker": {
             "colorbar": {
              "outlinewidth": 0,
              "ticks": ""
             }
            },
            "type": "scattergeo"
           }
          ],
          "scattergl": [
           {
            "marker": {
             "colorbar": {
              "outlinewidth": 0,
              "ticks": ""
             }
            },
            "type": "scattergl"
           }
          ],
          "scattermapbox": [
           {
            "marker": {
             "colorbar": {
              "outlinewidth": 0,
              "ticks": ""
             }
            },
            "type": "scattermapbox"
           }
          ],
          "scatterpolar": [
           {
            "marker": {
             "colorbar": {
              "outlinewidth": 0,
              "ticks": ""
             }
            },
            "type": "scatterpolar"
           }
          ],
          "scatterpolargl": [
           {
            "marker": {
             "colorbar": {
              "outlinewidth": 0,
              "ticks": ""
             }
            },
            "type": "scatterpolargl"
           }
          ],
          "scatterternary": [
           {
            "marker": {
             "colorbar": {
              "outlinewidth": 0,
              "ticks": ""
             }
            },
            "type": "scatterternary"
           }
          ],
          "surface": [
           {
            "colorbar": {
             "outlinewidth": 0,
             "ticks": ""
            },
            "colorscale": [
             [
              0,
              "#0d0887"
             ],
             [
              0.1111111111111111,
              "#46039f"
             ],
             [
              0.2222222222222222,
              "#7201a8"
             ],
             [
              0.3333333333333333,
              "#9c179e"
             ],
             [
              0.4444444444444444,
              "#bd3786"
             ],
             [
              0.5555555555555556,
              "#d8576b"
             ],
             [
              0.6666666666666666,
              "#ed7953"
             ],
             [
              0.7777777777777778,
              "#fb9f3a"
             ],
             [
              0.8888888888888888,
              "#fdca26"
             ],
             [
              1,
              "#f0f921"
             ]
            ],
            "type": "surface"
           }
          ],
          "table": [
           {
            "cells": {
             "fill": {
              "color": "#EBF0F8"
             },
             "line": {
              "color": "white"
             }
            },
            "header": {
             "fill": {
              "color": "#C8D4E3"
             },
             "line": {
              "color": "white"
             }
            },
            "type": "table"
           }
          ]
         },
         "layout": {
          "annotationdefaults": {
           "arrowcolor": "#2a3f5f",
           "arrowhead": 0,
           "arrowwidth": 1
          },
          "autotypenumbers": "strict",
          "coloraxis": {
           "colorbar": {
            "outlinewidth": 0,
            "ticks": ""
           }
          },
          "colorscale": {
           "diverging": [
            [
             0,
             "#8e0152"
            ],
            [
             0.1,
             "#c51b7d"
            ],
            [
             0.2,
             "#de77ae"
            ],
            [
             0.3,
             "#f1b6da"
            ],
            [
             0.4,
             "#fde0ef"
            ],
            [
             0.5,
             "#f7f7f7"
            ],
            [
             0.6,
             "#e6f5d0"
            ],
            [
             0.7,
             "#b8e186"
            ],
            [
             0.8,
             "#7fbc41"
            ],
            [
             0.9,
             "#4d9221"
            ],
            [
             1,
             "#276419"
            ]
           ],
           "sequential": [
            [
             0,
             "#0d0887"
            ],
            [
             0.1111111111111111,
             "#46039f"
            ],
            [
             0.2222222222222222,
             "#7201a8"
            ],
            [
             0.3333333333333333,
             "#9c179e"
            ],
            [
             0.4444444444444444,
             "#bd3786"
            ],
            [
             0.5555555555555556,
             "#d8576b"
            ],
            [
             0.6666666666666666,
             "#ed7953"
            ],
            [
             0.7777777777777778,
             "#fb9f3a"
            ],
            [
             0.8888888888888888,
             "#fdca26"
            ],
            [
             1,
             "#f0f921"
            ]
           ],
           "sequentialminus": [
            [
             0,
             "#0d0887"
            ],
            [
             0.1111111111111111,
             "#46039f"
            ],
            [
             0.2222222222222222,
             "#7201a8"
            ],
            [
             0.3333333333333333,
             "#9c179e"
            ],
            [
             0.4444444444444444,
             "#bd3786"
            ],
            [
             0.5555555555555556,
             "#d8576b"
            ],
            [
             0.6666666666666666,
             "#ed7953"
            ],
            [
             0.7777777777777778,
             "#fb9f3a"
            ],
            [
             0.8888888888888888,
             "#fdca26"
            ],
            [
             1,
             "#f0f921"
            ]
           ]
          },
          "colorway": [
           "#636efa",
           "#EF553B",
           "#00cc96",
           "#ab63fa",
           "#FFA15A",
           "#19d3f3",
           "#FF6692",
           "#B6E880",
           "#FF97FF",
           "#FECB52"
          ],
          "font": {
           "color": "#2a3f5f"
          },
          "geo": {
           "bgcolor": "white",
           "lakecolor": "white",
           "landcolor": "#E5ECF6",
           "showlakes": true,
           "showland": true,
           "subunitcolor": "white"
          },
          "hoverlabel": {
           "align": "left"
          },
          "hovermode": "closest",
          "mapbox": {
           "style": "light"
          },
          "paper_bgcolor": "white",
          "plot_bgcolor": "#E5ECF6",
          "polar": {
           "angularaxis": {
            "gridcolor": "white",
            "linecolor": "white",
            "ticks": ""
           },
           "bgcolor": "#E5ECF6",
           "radialaxis": {
            "gridcolor": "white",
            "linecolor": "white",
            "ticks": ""
           }
          },
          "scene": {
           "xaxis": {
            "backgroundcolor": "#E5ECF6",
            "gridcolor": "white",
            "gridwidth": 2,
            "linecolor": "white",
            "showbackground": true,
            "ticks": "",
            "zerolinecolor": "white"
           },
           "yaxis": {
            "backgroundcolor": "#E5ECF6",
            "gridcolor": "white",
            "gridwidth": 2,
            "linecolor": "white",
            "showbackground": true,
            "ticks": "",
            "zerolinecolor": "white"
           },
           "zaxis": {
            "backgroundcolor": "#E5ECF6",
            "gridcolor": "white",
            "gridwidth": 2,
            "linecolor": "white",
            "showbackground": true,
            "ticks": "",
            "zerolinecolor": "white"
           }
          },
          "shapedefaults": {
           "line": {
            "color": "#2a3f5f"
           }
          },
          "ternary": {
           "aaxis": {
            "gridcolor": "white",
            "linecolor": "white",
            "ticks": ""
           },
           "baxis": {
            "gridcolor": "white",
            "linecolor": "white",
            "ticks": ""
           },
           "bgcolor": "#E5ECF6",
           "caxis": {
            "gridcolor": "white",
            "linecolor": "white",
            "ticks": ""
           }
          },
          "title": {
           "x": 0.05
          },
          "xaxis": {
           "automargin": true,
           "gridcolor": "white",
           "linecolor": "white",
           "ticks": "",
           "title": {
            "standoff": 15
           },
           "zerolinecolor": "white",
           "zerolinewidth": 2
          },
          "yaxis": {
           "automargin": true,
           "gridcolor": "white",
           "linecolor": "white",
           "ticks": "",
           "title": {
            "standoff": 15
           },
           "zerolinecolor": "white",
           "zerolinewidth": 2
          }
         }
        },
        "title": {
         "font": {
          "size": 16
         },
         "text": "Successive Wednesday Returns with Fiscal Quarter End Lines"
        },
        "xaxis": {
         "anchor": "y",
         "domain": [
          0,
          1
         ],
         "title": {
          "text": "Date"
         }
        },
        "yaxis": {
         "anchor": "x",
         "domain": [
          0,
          1
         ],
         "title": {
          "text": "Rolling Mean of Positive Returns"
         }
        }
       }
      }
     },
     "metadata": {},
     "output_type": "display_data"
    },
    {
     "name": "stderr",
     "output_type": "stream",
     "text": [
      "C:\\Users\\kevin\\AppData\\Local\\Temp\\ipykernel_15944\\227141821.py:88: UserWarning:\n",
      "\n",
      "Converting to PeriodArray/Index representation will drop timezone information.\n",
      "\n"
     ]
    },
    {
     "data": {
      "application/vnd.plotly.v1+json": {
       "config": {
        "plotlyServerURL": "https://plot.ly"
       },
       "data": [
        {
         "alignmentgroup": "True",
         "hovertemplate": "variable=Close<br>Date=%{x}<br>value=%{y}<extra></extra>",
         "legendgroup": "Close",
         "marker": {
          "color": "#1f77b4",
          "pattern": {
           "shape": ""
          }
         },
         "name": "Close",
         "offsetgroup": "Close",
         "orientation": "v",
         "showlegend": true,
         "textposition": "auto",
         "type": "bar",
         "x": [
          "2019-08-01T00:00:00-04:00",
          "2019-08-08T00:00:00-04:00",
          "2019-08-15T00:00:00-04:00",
          "2019-08-22T00:00:00-04:00",
          "2019-08-29T00:00:00-04:00",
          "2019-09-05T00:00:00-04:00",
          "2019-09-12T00:00:00-04:00",
          "2019-09-19T00:00:00-04:00",
          "2019-09-26T00:00:00-04:00",
          "2019-10-03T00:00:00-04:00",
          "2019-10-10T00:00:00-04:00",
          "2019-10-17T00:00:00-04:00",
          "2019-10-24T00:00:00-04:00",
          "2019-10-31T00:00:00-04:00",
          "2019-11-07T00:00:00-05:00",
          "2019-11-14T00:00:00-05:00",
          "2019-11-21T00:00:00-05:00",
          "2019-12-05T00:00:00-05:00",
          "2019-12-12T00:00:00-05:00",
          "2019-12-19T00:00:00-05:00",
          "2019-12-26T00:00:00-05:00",
          "2020-01-02T00:00:00-05:00",
          "2020-01-09T00:00:00-05:00",
          "2020-01-16T00:00:00-05:00",
          "2020-01-23T00:00:00-05:00",
          "2020-01-30T00:00:00-05:00",
          "2020-02-06T00:00:00-05:00",
          "2020-02-13T00:00:00-05:00",
          "2020-02-20T00:00:00-05:00",
          "2020-02-27T00:00:00-05:00",
          "2020-03-05T00:00:00-05:00",
          "2020-03-12T00:00:00-04:00",
          "2020-03-19T00:00:00-04:00",
          "2020-03-26T00:00:00-04:00",
          "2020-04-02T00:00:00-04:00",
          "2020-04-09T00:00:00-04:00",
          "2020-04-16T00:00:00-04:00",
          "2020-04-23T00:00:00-04:00",
          "2020-04-30T00:00:00-04:00",
          "2020-05-07T00:00:00-04:00",
          "2020-05-14T00:00:00-04:00",
          "2020-05-21T00:00:00-04:00",
          "2020-05-28T00:00:00-04:00",
          "2020-06-04T00:00:00-04:00",
          "2020-06-11T00:00:00-04:00",
          "2020-06-18T00:00:00-04:00",
          "2020-06-25T00:00:00-04:00",
          "2020-07-02T00:00:00-04:00",
          "2020-07-09T00:00:00-04:00",
          "2020-07-16T00:00:00-04:00",
          "2020-07-23T00:00:00-04:00",
          "2020-07-30T00:00:00-04:00",
          "2020-08-06T00:00:00-04:00",
          "2020-08-13T00:00:00-04:00",
          "2020-08-20T00:00:00-04:00",
          "2020-08-27T00:00:00-04:00",
          "2020-09-03T00:00:00-04:00",
          "2020-09-10T00:00:00-04:00",
          "2020-09-17T00:00:00-04:00",
          "2020-09-24T00:00:00-04:00",
          "2020-10-01T00:00:00-04:00",
          "2020-10-08T00:00:00-04:00",
          "2020-10-15T00:00:00-04:00",
          "2020-10-22T00:00:00-04:00",
          "2020-10-29T00:00:00-04:00",
          "2020-11-05T00:00:00-05:00",
          "2020-11-12T00:00:00-05:00",
          "2020-11-19T00:00:00-05:00",
          "2020-12-03T00:00:00-05:00",
          "2020-12-10T00:00:00-05:00",
          "2020-12-17T00:00:00-05:00",
          "2020-12-24T00:00:00-05:00",
          "2020-12-31T00:00:00-05:00",
          "2021-01-07T00:00:00-05:00",
          "2021-01-14T00:00:00-05:00",
          "2021-01-21T00:00:00-05:00",
          "2021-01-28T00:00:00-05:00",
          "2021-02-04T00:00:00-05:00",
          "2021-02-11T00:00:00-05:00",
          "2021-02-18T00:00:00-05:00",
          "2021-02-25T00:00:00-05:00",
          "2021-03-04T00:00:00-05:00",
          "2021-03-11T00:00:00-05:00",
          "2021-03-18T00:00:00-04:00",
          "2021-03-25T00:00:00-04:00",
          "2021-04-01T00:00:00-04:00",
          "2021-04-08T00:00:00-04:00",
          "2021-04-15T00:00:00-04:00",
          "2021-04-22T00:00:00-04:00",
          "2021-04-29T00:00:00-04:00",
          "2021-05-06T00:00:00-04:00",
          "2021-05-13T00:00:00-04:00",
          "2021-05-20T00:00:00-04:00",
          "2021-05-27T00:00:00-04:00",
          "2021-06-03T00:00:00-04:00",
          "2021-06-10T00:00:00-04:00",
          "2021-06-17T00:00:00-04:00",
          "2021-06-24T00:00:00-04:00",
          "2021-07-01T00:00:00-04:00",
          "2021-07-08T00:00:00-04:00",
          "2021-07-15T00:00:00-04:00",
          "2021-07-22T00:00:00-04:00",
          "2021-07-29T00:00:00-04:00",
          "2021-08-05T00:00:00-04:00",
          "2021-08-12T00:00:00-04:00",
          "2021-08-19T00:00:00-04:00",
          "2021-08-26T00:00:00-04:00",
          "2021-09-02T00:00:00-04:00",
          "2021-09-09T00:00:00-04:00",
          "2021-09-16T00:00:00-04:00",
          "2021-09-23T00:00:00-04:00",
          "2021-09-30T00:00:00-04:00",
          "2021-10-07T00:00:00-04:00",
          "2021-10-14T00:00:00-04:00",
          "2021-10-21T00:00:00-04:00",
          "2021-10-28T00:00:00-04:00",
          "2021-11-04T00:00:00-04:00",
          "2021-11-11T00:00:00-05:00",
          "2021-11-18T00:00:00-05:00",
          "2021-12-02T00:00:00-05:00",
          "2021-12-09T00:00:00-05:00",
          "2021-12-16T00:00:00-05:00",
          "2021-12-23T00:00:00-05:00",
          "2021-12-30T00:00:00-05:00",
          "2022-01-06T00:00:00-05:00",
          "2022-01-13T00:00:00-05:00",
          "2022-01-20T00:00:00-05:00",
          "2022-01-27T00:00:00-05:00",
          "2022-02-03T00:00:00-05:00",
          "2022-02-10T00:00:00-05:00",
          "2022-02-17T00:00:00-05:00",
          "2022-02-24T00:00:00-05:00",
          "2022-03-03T00:00:00-05:00",
          "2022-03-10T00:00:00-05:00",
          "2022-03-17T00:00:00-04:00",
          "2022-03-24T00:00:00-04:00",
          "2022-03-31T00:00:00-04:00",
          "2022-04-07T00:00:00-04:00",
          "2022-04-14T00:00:00-04:00",
          "2022-04-21T00:00:00-04:00",
          "2022-04-28T00:00:00-04:00",
          "2022-05-05T00:00:00-04:00",
          "2022-05-12T00:00:00-04:00",
          "2022-05-19T00:00:00-04:00",
          "2022-05-26T00:00:00-04:00",
          "2022-06-02T00:00:00-04:00",
          "2022-06-09T00:00:00-04:00",
          "2022-06-16T00:00:00-04:00",
          "2022-06-23T00:00:00-04:00",
          "2022-06-30T00:00:00-04:00",
          "2022-07-07T00:00:00-04:00",
          "2022-07-14T00:00:00-04:00",
          "2022-07-21T00:00:00-04:00",
          "2022-07-28T00:00:00-04:00",
          "2022-08-04T00:00:00-04:00",
          "2022-08-11T00:00:00-04:00",
          "2022-08-18T00:00:00-04:00",
          "2022-08-25T00:00:00-04:00",
          "2022-09-01T00:00:00-04:00",
          "2022-09-08T00:00:00-04:00",
          "2022-09-15T00:00:00-04:00",
          "2022-09-22T00:00:00-04:00",
          "2022-09-29T00:00:00-04:00",
          "2022-10-06T00:00:00-04:00",
          "2022-10-13T00:00:00-04:00",
          "2022-10-20T00:00:00-04:00",
          "2022-10-27T00:00:00-04:00",
          "2022-11-03T00:00:00-04:00",
          "2022-11-10T00:00:00-05:00",
          "2022-11-17T00:00:00-05:00",
          "2022-12-01T00:00:00-05:00",
          "2022-12-08T00:00:00-05:00",
          "2022-12-15T00:00:00-05:00",
          "2022-12-22T00:00:00-05:00",
          "2022-12-29T00:00:00-05:00",
          "2023-01-05T00:00:00-05:00",
          "2023-01-12T00:00:00-05:00",
          "2023-01-19T00:00:00-05:00",
          "2023-01-26T00:00:00-05:00",
          "2023-02-02T00:00:00-05:00",
          "2023-02-09T00:00:00-05:00",
          "2023-02-16T00:00:00-05:00",
          "2023-02-23T00:00:00-05:00",
          "2023-03-02T00:00:00-05:00",
          "2023-03-09T00:00:00-05:00",
          "2023-03-16T00:00:00-04:00",
          "2023-03-23T00:00:00-04:00",
          "2023-03-30T00:00:00-04:00",
          "2023-04-06T00:00:00-04:00",
          "2023-04-13T00:00:00-04:00",
          "2023-04-20T00:00:00-04:00",
          "2023-04-27T00:00:00-04:00",
          "2023-05-04T00:00:00-04:00",
          "2023-05-11T00:00:00-04:00",
          "2023-05-18T00:00:00-04:00",
          "2023-05-25T00:00:00-04:00",
          "2023-06-01T00:00:00-04:00",
          "2023-06-08T00:00:00-04:00",
          "2023-06-15T00:00:00-04:00",
          "2023-06-22T00:00:00-04:00",
          "2023-06-29T00:00:00-04:00",
          "2023-07-06T00:00:00-04:00",
          "2023-07-13T00:00:00-04:00",
          "2023-07-20T00:00:00-04:00",
          "2023-07-27T00:00:00-04:00",
          "2023-08-03T00:00:00-04:00",
          "2023-08-10T00:00:00-04:00",
          "2023-08-17T00:00:00-04:00",
          "2023-08-24T00:00:00-04:00",
          "2023-08-31T00:00:00-04:00",
          "2023-09-07T00:00:00-04:00",
          "2023-09-14T00:00:00-04:00",
          "2023-09-21T00:00:00-04:00",
          "2023-09-28T00:00:00-04:00",
          "2023-10-05T00:00:00-04:00",
          "2023-10-12T00:00:00-04:00",
          "2023-10-19T00:00:00-04:00",
          "2023-10-26T00:00:00-04:00",
          "2023-11-02T00:00:00-04:00",
          "2023-11-09T00:00:00-05:00",
          "2023-11-16T00:00:00-05:00",
          "2023-11-30T00:00:00-05:00",
          "2023-12-07T00:00:00-05:00",
          "2023-12-14T00:00:00-05:00",
          "2023-12-21T00:00:00-05:00",
          "2023-12-28T00:00:00-05:00",
          "2024-01-04T00:00:00-05:00",
          "2024-01-11T00:00:00-05:00",
          "2024-01-18T00:00:00-05:00",
          "2024-01-25T00:00:00-05:00",
          "2024-02-01T00:00:00-05:00",
          "2024-02-08T00:00:00-05:00",
          "2024-02-15T00:00:00-05:00",
          "2024-02-22T00:00:00-05:00",
          "2024-02-29T00:00:00-05:00",
          "2024-03-07T00:00:00-05:00",
          "2024-03-14T00:00:00-04:00",
          "2024-03-21T00:00:00-04:00",
          "2024-03-28T00:00:00-04:00",
          "2024-04-04T00:00:00-04:00",
          "2024-04-11T00:00:00-04:00",
          "2024-04-18T00:00:00-04:00",
          "2024-04-25T00:00:00-04:00",
          "2024-05-02T00:00:00-04:00",
          "2024-05-09T00:00:00-04:00",
          "2024-05-16T00:00:00-04:00",
          "2024-05-23T00:00:00-04:00",
          "2024-05-30T00:00:00-04:00",
          "2024-06-06T00:00:00-04:00",
          "2024-06-13T00:00:00-04:00",
          "2024-06-20T00:00:00-04:00",
          "2024-06-27T00:00:00-04:00",
          "2024-07-11T00:00:00-04:00",
          "2024-07-18T00:00:00-04:00",
          "2024-07-25T00:00:00-04:00"
         ],
         "xaxis": "x",
         "y": [
          null,
          null,
          null,
          null,
          null,
          null,
          null,
          null,
          null,
          null,
          null,
          null,
          null,
          null,
          null,
          null,
          null,
          null,
          null,
          null,
          0.7142857142857143,
          0.7619047619047619,
          0.7619047619047619,
          0.7619047619047619,
          0.8095238095238095,
          0.8095238095238095,
          0.8095238095238095,
          0.7619047619047619,
          0.7619047619047619,
          0.7619047619047619,
          0.7142857142857143,
          0.6666666666666666,
          0.6666666666666666,
          0.6666666666666666,
          0.7142857142857143,
          0.7142857142857143,
          0.7142857142857143,
          0.7142857142857143,
          0.6666666666666666,
          0.6666666666666666,
          0.6666666666666666,
          0.6190476190476191,
          0.5714285714285714,
          0.5238095238095238,
          0.47619047619047616,
          0.47619047619047616,
          0.47619047619047616,
          0.47619047619047616,
          0.47619047619047616,
          0.47619047619047616,
          0.47619047619047616,
          0.47619047619047616,
          0.5238095238095238,
          0.47619047619047616,
          0.47619047619047616,
          0.47619047619047616,
          0.42857142857142855,
          0.38095238095238093,
          0.38095238095238093,
          0.42857142857142855,
          0.42857142857142855,
          0.42857142857142855,
          0.42857142857142855,
          0.47619047619047616,
          0.5238095238095238,
          0.5714285714285714,
          0.5238095238095238,
          0.5238095238095238,
          0.47619047619047616,
          0.47619047619047616,
          0.5238095238095238,
          0.5714285714285714,
          0.6190476190476191,
          0.6190476190476191,
          0.6190476190476191,
          0.6190476190476191,
          0.6190476190476191,
          0.6666666666666666,
          0.7142857142857143,
          0.7142857142857143,
          0.6666666666666666,
          0.6190476190476191,
          0.6190476190476191,
          0.6190476190476191,
          0.6190476190476191,
          0.6190476190476191,
          0.6190476190476191,
          0.6666666666666666,
          0.6190476190476191,
          0.6666666666666666,
          0.7142857142857143,
          0.7142857142857143,
          0.7142857142857143,
          0.7142857142857143,
          0.6666666666666666,
          0.7142857142857143,
          0.6666666666666666,
          0.6666666666666666,
          0.6666666666666666,
          0.6190476190476191,
          0.6190476190476191,
          0.6666666666666666,
          0.7142857142857143,
          0.7142857142857143,
          0.7619047619047619,
          0.7619047619047619,
          0.7142857142857143,
          0.7142857142857143,
          0.6666666666666666,
          0.6666666666666666,
          0.6666666666666666,
          0.6190476190476191,
          0.6190476190476191,
          0.6190476190476191,
          0.6190476190476191,
          0.6666666666666666,
          0.6666666666666666,
          0.7142857142857143,
          0.7142857142857143,
          0.7142857142857143,
          0.7142857142857143,
          0.7142857142857143,
          0.7142857142857143,
          0.6666666666666666,
          0.6190476190476191,
          0.5714285714285714,
          0.5238095238095238,
          0.5238095238095238,
          0.47619047619047616,
          0.47619047619047616,
          0.47619047619047616,
          0.47619047619047616,
          0.47619047619047616,
          0.42857142857142855,
          0.42857142857142855,
          0.42857142857142855,
          0.38095238095238093,
          0.38095238095238093,
          0.3333333333333333,
          0.2857142857142857,
          0.2857142857142857,
          0.2857142857142857,
          0.2857142857142857,
          0.23809523809523808,
          0.2857142857142857,
          0.3333333333333333,
          0.3333333333333333,
          0.3333333333333333,
          0.38095238095238093,
          0.38095238095238093,
          0.42857142857142855,
          0.42857142857142855,
          0.42857142857142855,
          0.47619047619047616,
          0.47619047619047616,
          0.42857142857142855,
          0.42857142857142855,
          0.47619047619047616,
          0.47619047619047616,
          0.5238095238095238,
          0.5238095238095238,
          0.47619047619047616,
          0.47619047619047616,
          0.47619047619047616,
          0.5238095238095238,
          0.47619047619047616,
          0.42857142857142855,
          0.42857142857142855,
          0.47619047619047616,
          0.42857142857142855,
          0.42857142857142855,
          0.42857142857142855,
          0.42857142857142855,
          0.38095238095238093,
          0.38095238095238093,
          0.38095238095238093,
          0.42857142857142855,
          0.38095238095238093,
          0.38095238095238093,
          0.38095238095238093,
          0.3333333333333333,
          0.3333333333333333,
          0.38095238095238093,
          0.42857142857142855,
          0.42857142857142855,
          0.42857142857142855,
          0.47619047619047616,
          0.5238095238095238,
          0.5714285714285714,
          0.5714285714285714,
          0.5714285714285714,
          0.6190476190476191,
          0.5714285714285714,
          0.5714285714285714,
          0.6190476190476191,
          0.6190476190476191,
          0.6666666666666666,
          0.6666666666666666,
          0.7142857142857143,
          0.7142857142857143,
          0.7142857142857143,
          0.7142857142857143,
          0.7619047619047619,
          0.7142857142857143,
          0.6666666666666666,
          0.6666666666666666,
          0.6666666666666666,
          0.6190476190476191,
          0.5714285714285714,
          0.5238095238095238,
          0.47619047619047616,
          0.5238095238095238,
          0.47619047619047616,
          0.5238095238095238,
          0.5238095238095238,
          0.47619047619047616,
          0.42857142857142855,
          0.38095238095238093,
          0.38095238095238093,
          0.3333333333333333,
          0.3333333333333333,
          0.3333333333333333,
          0.38095238095238093,
          0.38095238095238093,
          0.42857142857142855,
          0.47619047619047616,
          0.47619047619047616,
          0.42857142857142855,
          0.47619047619047616,
          0.5238095238095238,
          0.5714285714285714,
          0.6190476190476191,
          0.6190476190476191,
          0.6666666666666666,
          0.6666666666666666,
          0.7142857142857143,
          0.7142857142857143,
          0.7619047619047619,
          0.7619047619047619,
          0.7142857142857143,
          0.7619047619047619,
          0.7142857142857143,
          0.6666666666666666,
          0.6666666666666666,
          0.6666666666666666,
          0.6190476190476191,
          0.5714285714285714,
          0.5714285714285714,
          0.5714285714285714,
          0.5714285714285714,
          0.5238095238095238,
          0.5238095238095238,
          0.47619047619047616,
          0.42857142857142855,
          0.38095238095238093
         ],
         "yaxis": "y"
        }
       ],
       "layout": {
        "annotations": [
         {
          "align": "center",
          "font": {
           "color": "black",
           "size": 12
          },
          "showarrow": false,
          "text": "19: Q3",
          "x": "2019-05-17T00:00:00",
          "xanchor": "center",
          "y": 1.02,
          "yanchor": "bottom"
         },
         {
          "align": "center",
          "font": {
           "color": "black",
           "size": 12
          },
          "showarrow": false,
          "text": "19: Q4",
          "x": "2019-08-17T00:00:00",
          "xanchor": "center",
          "y": 1.02,
          "yanchor": "bottom"
         },
         {
          "align": "center",
          "font": {
           "color": "black",
           "size": 12
          },
          "showarrow": false,
          "text": "20: Q1",
          "x": "2019-11-17T00:00:00",
          "xanchor": "center",
          "y": 1.02,
          "yanchor": "bottom"
         },
         {
          "align": "center",
          "font": {
           "color": "black",
           "size": 12
          },
          "showarrow": false,
          "text": "20: Q2",
          "x": "2020-02-16T00:00:00",
          "xanchor": "center",
          "y": 1.02,
          "yanchor": "bottom"
         },
         {
          "align": "center",
          "font": {
           "color": "black",
           "size": 12
          },
          "showarrow": false,
          "text": "20: Q3",
          "x": "2020-05-17T00:00:00",
          "xanchor": "center",
          "y": 1.02,
          "yanchor": "bottom"
         },
         {
          "align": "center",
          "font": {
           "color": "black",
           "size": 12
          },
          "showarrow": false,
          "text": "20: Q4",
          "x": "2020-08-17T00:00:00",
          "xanchor": "center",
          "y": 1.02,
          "yanchor": "bottom"
         },
         {
          "align": "center",
          "font": {
           "color": "black",
           "size": 12
          },
          "showarrow": false,
          "text": "21: Q1",
          "x": "2020-11-17T00:00:00",
          "xanchor": "center",
          "y": 1.02,
          "yanchor": "bottom"
         },
         {
          "align": "center",
          "font": {
           "color": "black",
           "size": 12
          },
          "showarrow": false,
          "text": "21: Q2",
          "x": "2021-02-15T00:00:00",
          "xanchor": "center",
          "y": 1.02,
          "yanchor": "bottom"
         },
         {
          "align": "center",
          "font": {
           "color": "black",
           "size": 12
          },
          "showarrow": false,
          "text": "21: Q3",
          "x": "2021-05-17T00:00:00",
          "xanchor": "center",
          "y": 1.02,
          "yanchor": "bottom"
         },
         {
          "align": "center",
          "font": {
           "color": "black",
           "size": 12
          },
          "showarrow": false,
          "text": "21: Q4",
          "x": "2021-08-17T00:00:00",
          "xanchor": "center",
          "y": 1.02,
          "yanchor": "bottom"
         },
         {
          "align": "center",
          "font": {
           "color": "black",
           "size": 12
          },
          "showarrow": false,
          "text": "22: Q1",
          "x": "2021-11-17T00:00:00",
          "xanchor": "center",
          "y": 1.02,
          "yanchor": "bottom"
         },
         {
          "align": "center",
          "font": {
           "color": "black",
           "size": 12
          },
          "showarrow": false,
          "text": "22: Q2",
          "x": "2022-02-15T00:00:00",
          "xanchor": "center",
          "y": 1.02,
          "yanchor": "bottom"
         },
         {
          "align": "center",
          "font": {
           "color": "black",
           "size": 12
          },
          "showarrow": false,
          "text": "22: Q3",
          "x": "2022-05-17T00:00:00",
          "xanchor": "center",
          "y": 1.02,
          "yanchor": "bottom"
         },
         {
          "align": "center",
          "font": {
           "color": "black",
           "size": 12
          },
          "showarrow": false,
          "text": "22: Q4",
          "x": "2022-08-17T00:00:00",
          "xanchor": "center",
          "y": 1.02,
          "yanchor": "bottom"
         },
         {
          "align": "center",
          "font": {
           "color": "black",
           "size": 12
          },
          "showarrow": false,
          "text": "23: Q1",
          "x": "2022-11-17T00:00:00",
          "xanchor": "center",
          "y": 1.02,
          "yanchor": "bottom"
         },
         {
          "align": "center",
          "font": {
           "color": "black",
           "size": 12
          },
          "showarrow": false,
          "text": "23: Q2",
          "x": "2023-02-15T00:00:00",
          "xanchor": "center",
          "y": 1.02,
          "yanchor": "bottom"
         },
         {
          "align": "center",
          "font": {
           "color": "black",
           "size": 12
          },
          "showarrow": false,
          "text": "23: Q3",
          "x": "2023-05-17T00:00:00",
          "xanchor": "center",
          "y": 1.02,
          "yanchor": "bottom"
         },
         {
          "align": "center",
          "font": {
           "color": "black",
           "size": 12
          },
          "showarrow": false,
          "text": "23: Q4",
          "x": "2023-08-17T00:00:00",
          "xanchor": "center",
          "y": 1.02,
          "yanchor": "bottom"
         },
         {
          "align": "center",
          "font": {
           "color": "black",
           "size": 12
          },
          "showarrow": false,
          "text": "24: Q1",
          "x": "2023-11-17T00:00:00",
          "xanchor": "center",
          "y": 1.02,
          "yanchor": "bottom"
         },
         {
          "align": "center",
          "font": {
           "color": "black",
           "size": 12
          },
          "showarrow": false,
          "text": "24: Q2",
          "x": "2024-02-16T00:00:00",
          "xanchor": "center",
          "y": 1.02,
          "yanchor": "bottom"
         },
         {
          "align": "center",
          "font": {
           "color": "black",
           "size": 12
          },
          "showarrow": false,
          "text": "24: Q3",
          "x": "2024-05-17T00:00:00",
          "xanchor": "center",
          "y": 1.02,
          "yanchor": "bottom"
         }
        ],
        "barmode": "relative",
        "font": {
         "color": "black"
        },
        "height": 600,
        "legend": {
         "orientation": "h",
         "title": {
          "font": {
           "size": 14
          },
          "text": "Statistics"
         },
         "tracegroupgap": 0,
         "x": 0,
         "y": -0.2
        },
        "paper_bgcolor": "white",
        "plot_bgcolor": "white",
        "shapes": [
         {
          "line": {
           "color": "blue",
           "dash": "solid",
           "width": 3
          },
          "name": "Mean",
          "type": "line",
          "x0": 0,
          "x1": 1,
          "xref": "x domain",
          "y0": 0.5556231003039513,
          "y1": 0.5556231003039513,
          "yref": "y"
         },
         {
          "line": {
           "color": "orange",
           "dash": "dash",
           "width": 2
          },
          "name": "Mean + 1 Std Dev",
          "type": "line",
          "x0": 0,
          "x1": 1,
          "xref": "x domain",
          "y0": 0.6887218618656656,
          "y1": 0.6887218618656656,
          "yref": "y"
         },
         {
          "line": {
           "color": "orange",
           "dash": "dash",
           "width": 2
          },
          "name": "Mean - 1 Std Dev",
          "type": "line",
          "x0": 0,
          "x1": 1,
          "xref": "x domain",
          "y0": 0.422524338742237,
          "y1": 0.422524338742237,
          "yref": "y"
         },
         {
          "line": {
           "color": "purple",
           "dash": "dash",
           "width": 2
          },
          "name": "Mean + 2 Std Dev",
          "type": "line",
          "x0": 0,
          "x1": 1,
          "xref": "x domain",
          "y0": 0.82182062342738,
          "y1": 0.82182062342738,
          "yref": "y"
         },
         {
          "line": {
           "color": "purple",
           "dash": "dash",
           "width": 2
          },
          "name": "Mean - 2 Std Dev",
          "type": "line",
          "x0": 0,
          "x1": 1,
          "xref": "x domain",
          "y0": 0.28942557718052264,
          "y1": 0.28942557718052264,
          "yref": "y"
         },
         {
          "fillcolor": "rgba(255, 182, 193, 0.5)",
          "line": {
           "width": 0
          },
          "name": "1 to 2 Std Dev",
          "type": "rect",
          "x0": "2019-08-01T00:00:00-04:00",
          "x1": "2024-07-25T00:00:00-04:00",
          "y0": 0.6887218618656656,
          "y1": 0.82182062342738
         },
         {
          "fillcolor": "rgba(255, 182, 193, 0.5)",
          "line": {
           "width": 0
          },
          "name": "-2 to -1 Std Dev",
          "type": "rect",
          "x0": "2019-08-01T00:00:00-04:00",
          "x1": "2024-07-25T00:00:00-04:00",
          "y0": 0.28942557718052264,
          "y1": 0.422524338742237
         },
         {
          "line": {
           "color": "gray",
           "dash": "dash",
           "width": 2
          },
          "name": "Fiscal Quarter End",
          "type": "line",
          "x0": "2019-07-01T00:00:00",
          "x1": "2019-07-01T00:00:00",
          "xref": "x",
          "y0": 0,
          "y1": 1,
          "yref": "y domain"
         },
         {
          "fillcolor": "rgba(200, 200, 200, 0.3)",
          "line": {
           "width": 0
          },
          "name": "Quarter Background",
          "type": "rect",
          "x0": "2019-04-02T00:00:00",
          "x1": "2019-07-01T00:00:00",
          "xref": "x",
          "y0": 0,
          "y1": 1,
          "yref": "paper"
         },
         {
          "line": {
           "color": "gray",
           "dash": "dash",
           "width": 2
          },
          "name": "Fiscal Quarter End",
          "type": "line",
          "x0": "2019-10-01T00:00:00",
          "x1": "2019-10-01T00:00:00",
          "xref": "x",
          "y0": 0,
          "y1": 1,
          "yref": "y domain"
         },
         {
          "line": {
           "color": "gray",
           "dash": "dash",
           "width": 2
          },
          "name": "Fiscal Quarter End",
          "type": "line",
          "x0": "2020-01-01T00:00:00",
          "x1": "2020-01-01T00:00:00",
          "xref": "x",
          "y0": 0,
          "y1": 1,
          "yref": "y domain"
         },
         {
          "fillcolor": "rgba(200, 200, 200, 0.3)",
          "line": {
           "width": 0
          },
          "name": "Quarter Background",
          "type": "rect",
          "x0": "2019-10-03T00:00:00",
          "x1": "2020-01-01T00:00:00",
          "xref": "x",
          "y0": 0,
          "y1": 1,
          "yref": "paper"
         },
         {
          "line": {
           "color": "gray",
           "dash": "dash",
           "width": 2
          },
          "name": "Fiscal Quarter End",
          "type": "line",
          "x0": "2020-04-01T00:00:00",
          "x1": "2020-04-01T00:00:00",
          "xref": "x",
          "y0": 0,
          "y1": 1,
          "yref": "y domain"
         },
         {
          "line": {
           "color": "gray",
           "dash": "dash",
           "width": 2
          },
          "name": "Fiscal Quarter End",
          "type": "line",
          "x0": "2020-07-01T00:00:00",
          "x1": "2020-07-01T00:00:00",
          "xref": "x",
          "y0": 0,
          "y1": 1,
          "yref": "y domain"
         },
         {
          "fillcolor": "rgba(200, 200, 200, 0.3)",
          "line": {
           "width": 0
          },
          "name": "Quarter Background",
          "type": "rect",
          "x0": "2020-04-02T00:00:00",
          "x1": "2020-07-01T00:00:00",
          "xref": "x",
          "y0": 0,
          "y1": 1,
          "yref": "paper"
         },
         {
          "line": {
           "color": "gray",
           "dash": "dash",
           "width": 2
          },
          "name": "Fiscal Quarter End",
          "type": "line",
          "x0": "2020-10-01T00:00:00",
          "x1": "2020-10-01T00:00:00",
          "xref": "x",
          "y0": 0,
          "y1": 1,
          "yref": "y domain"
         },
         {
          "line": {
           "color": "gray",
           "dash": "dash",
           "width": 2
          },
          "name": "Fiscal Quarter End",
          "type": "line",
          "x0": "2021-01-01T00:00:00",
          "x1": "2021-01-01T00:00:00",
          "xref": "x",
          "y0": 0,
          "y1": 1,
          "yref": "y domain"
         },
         {
          "fillcolor": "rgba(200, 200, 200, 0.3)",
          "line": {
           "width": 0
          },
          "name": "Quarter Background",
          "type": "rect",
          "x0": "2020-10-03T00:00:00",
          "x1": "2021-01-01T00:00:00",
          "xref": "x",
          "y0": 0,
          "y1": 1,
          "yref": "paper"
         },
         {
          "line": {
           "color": "gray",
           "dash": "dash",
           "width": 2
          },
          "name": "Fiscal Quarter End",
          "type": "line",
          "x0": "2021-04-01T00:00:00",
          "x1": "2021-04-01T00:00:00",
          "xref": "x",
          "y0": 0,
          "y1": 1,
          "yref": "y domain"
         },
         {
          "line": {
           "color": "gray",
           "dash": "dash",
           "width": 2
          },
          "name": "Fiscal Quarter End",
          "type": "line",
          "x0": "2021-07-01T00:00:00",
          "x1": "2021-07-01T00:00:00",
          "xref": "x",
          "y0": 0,
          "y1": 1,
          "yref": "y domain"
         },
         {
          "fillcolor": "rgba(200, 200, 200, 0.3)",
          "line": {
           "width": 0
          },
          "name": "Quarter Background",
          "type": "rect",
          "x0": "2021-04-02T00:00:00",
          "x1": "2021-07-01T00:00:00",
          "xref": "x",
          "y0": 0,
          "y1": 1,
          "yref": "paper"
         },
         {
          "line": {
           "color": "gray",
           "dash": "dash",
           "width": 2
          },
          "name": "Fiscal Quarter End",
          "type": "line",
          "x0": "2021-10-01T00:00:00",
          "x1": "2021-10-01T00:00:00",
          "xref": "x",
          "y0": 0,
          "y1": 1,
          "yref": "y domain"
         },
         {
          "line": {
           "color": "gray",
           "dash": "dash",
           "width": 2
          },
          "name": "Fiscal Quarter End",
          "type": "line",
          "x0": "2022-01-01T00:00:00",
          "x1": "2022-01-01T00:00:00",
          "xref": "x",
          "y0": 0,
          "y1": 1,
          "yref": "y domain"
         },
         {
          "fillcolor": "rgba(200, 200, 200, 0.3)",
          "line": {
           "width": 0
          },
          "name": "Quarter Background",
          "type": "rect",
          "x0": "2021-10-03T00:00:00",
          "x1": "2022-01-01T00:00:00",
          "xref": "x",
          "y0": 0,
          "y1": 1,
          "yref": "paper"
         },
         {
          "line": {
           "color": "gray",
           "dash": "dash",
           "width": 2
          },
          "name": "Fiscal Quarter End",
          "type": "line",
          "x0": "2022-04-01T00:00:00",
          "x1": "2022-04-01T00:00:00",
          "xref": "x",
          "y0": 0,
          "y1": 1,
          "yref": "y domain"
         },
         {
          "line": {
           "color": "gray",
           "dash": "dash",
           "width": 2
          },
          "name": "Fiscal Quarter End",
          "type": "line",
          "x0": "2022-07-01T00:00:00",
          "x1": "2022-07-01T00:00:00",
          "xref": "x",
          "y0": 0,
          "y1": 1,
          "yref": "y domain"
         },
         {
          "fillcolor": "rgba(200, 200, 200, 0.3)",
          "line": {
           "width": 0
          },
          "name": "Quarter Background",
          "type": "rect",
          "x0": "2022-04-02T00:00:00",
          "x1": "2022-07-01T00:00:00",
          "xref": "x",
          "y0": 0,
          "y1": 1,
          "yref": "paper"
         },
         {
          "line": {
           "color": "gray",
           "dash": "dash",
           "width": 2
          },
          "name": "Fiscal Quarter End",
          "type": "line",
          "x0": "2022-10-01T00:00:00",
          "x1": "2022-10-01T00:00:00",
          "xref": "x",
          "y0": 0,
          "y1": 1,
          "yref": "y domain"
         },
         {
          "line": {
           "color": "gray",
           "dash": "dash",
           "width": 2
          },
          "name": "Fiscal Quarter End",
          "type": "line",
          "x0": "2023-01-01T00:00:00",
          "x1": "2023-01-01T00:00:00",
          "xref": "x",
          "y0": 0,
          "y1": 1,
          "yref": "y domain"
         },
         {
          "fillcolor": "rgba(200, 200, 200, 0.3)",
          "line": {
           "width": 0
          },
          "name": "Quarter Background",
          "type": "rect",
          "x0": "2022-10-03T00:00:00",
          "x1": "2023-01-01T00:00:00",
          "xref": "x",
          "y0": 0,
          "y1": 1,
          "yref": "paper"
         },
         {
          "line": {
           "color": "gray",
           "dash": "dash",
           "width": 2
          },
          "name": "Fiscal Quarter End",
          "type": "line",
          "x0": "2023-04-01T00:00:00",
          "x1": "2023-04-01T00:00:00",
          "xref": "x",
          "y0": 0,
          "y1": 1,
          "yref": "y domain"
         },
         {
          "line": {
           "color": "gray",
           "dash": "dash",
           "width": 2
          },
          "name": "Fiscal Quarter End",
          "type": "line",
          "x0": "2023-07-01T00:00:00",
          "x1": "2023-07-01T00:00:00",
          "xref": "x",
          "y0": 0,
          "y1": 1,
          "yref": "y domain"
         },
         {
          "fillcolor": "rgba(200, 200, 200, 0.3)",
          "line": {
           "width": 0
          },
          "name": "Quarter Background",
          "type": "rect",
          "x0": "2023-04-02T00:00:00",
          "x1": "2023-07-01T00:00:00",
          "xref": "x",
          "y0": 0,
          "y1": 1,
          "yref": "paper"
         },
         {
          "line": {
           "color": "gray",
           "dash": "dash",
           "width": 2
          },
          "name": "Fiscal Quarter End",
          "type": "line",
          "x0": "2023-10-01T00:00:00",
          "x1": "2023-10-01T00:00:00",
          "xref": "x",
          "y0": 0,
          "y1": 1,
          "yref": "y domain"
         },
         {
          "line": {
           "color": "gray",
           "dash": "dash",
           "width": 2
          },
          "name": "Fiscal Quarter End",
          "type": "line",
          "x0": "2024-01-01T00:00:00",
          "x1": "2024-01-01T00:00:00",
          "xref": "x",
          "y0": 0,
          "y1": 1,
          "yref": "y domain"
         },
         {
          "fillcolor": "rgba(200, 200, 200, 0.3)",
          "line": {
           "width": 0
          },
          "name": "Quarter Background",
          "type": "rect",
          "x0": "2023-10-03T00:00:00",
          "x1": "2024-01-01T00:00:00",
          "xref": "x",
          "y0": 0,
          "y1": 1,
          "yref": "paper"
         },
         {
          "line": {
           "color": "gray",
           "dash": "dash",
           "width": 2
          },
          "name": "Fiscal Quarter End",
          "type": "line",
          "x0": "2024-04-01T00:00:00",
          "x1": "2024-04-01T00:00:00",
          "xref": "x",
          "y0": 0,
          "y1": 1,
          "yref": "y domain"
         },
         {
          "line": {
           "color": "gray",
           "dash": "dash",
           "width": 2
          },
          "name": "Fiscal Quarter End",
          "type": "line",
          "x0": "2024-07-01T00:00:00",
          "x1": "2024-07-01T00:00:00",
          "xref": "x",
          "y0": 0,
          "y1": 1,
          "yref": "y domain"
         },
         {
          "fillcolor": "rgba(200, 200, 200, 0.3)",
          "line": {
           "width": 0
          },
          "name": "Quarter Background",
          "type": "rect",
          "x0": "2024-04-02T00:00:00",
          "x1": "2024-07-01T00:00:00",
          "xref": "x",
          "y0": 0,
          "y1": 1,
          "yref": "paper"
         }
        ],
        "template": {
         "data": {
          "bar": [
           {
            "error_x": {
             "color": "#2a3f5f"
            },
            "error_y": {
             "color": "#2a3f5f"
            },
            "marker": {
             "line": {
              "color": "#E5ECF6",
              "width": 0.5
             },
             "pattern": {
              "fillmode": "overlay",
              "size": 10,
              "solidity": 0.2
             }
            },
            "type": "bar"
           }
          ],
          "barpolar": [
           {
            "marker": {
             "line": {
              "color": "#E5ECF6",
              "width": 0.5
             },
             "pattern": {
              "fillmode": "overlay",
              "size": 10,
              "solidity": 0.2
             }
            },
            "type": "barpolar"
           }
          ],
          "carpet": [
           {
            "aaxis": {
             "endlinecolor": "#2a3f5f",
             "gridcolor": "white",
             "linecolor": "white",
             "minorgridcolor": "white",
             "startlinecolor": "#2a3f5f"
            },
            "baxis": {
             "endlinecolor": "#2a3f5f",
             "gridcolor": "white",
             "linecolor": "white",
             "minorgridcolor": "white",
             "startlinecolor": "#2a3f5f"
            },
            "type": "carpet"
           }
          ],
          "choropleth": [
           {
            "colorbar": {
             "outlinewidth": 0,
             "ticks": ""
            },
            "type": "choropleth"
           }
          ],
          "contour": [
           {
            "colorbar": {
             "outlinewidth": 0,
             "ticks": ""
            },
            "colorscale": [
             [
              0,
              "#0d0887"
             ],
             [
              0.1111111111111111,
              "#46039f"
             ],
             [
              0.2222222222222222,
              "#7201a8"
             ],
             [
              0.3333333333333333,
              "#9c179e"
             ],
             [
              0.4444444444444444,
              "#bd3786"
             ],
             [
              0.5555555555555556,
              "#d8576b"
             ],
             [
              0.6666666666666666,
              "#ed7953"
             ],
             [
              0.7777777777777778,
              "#fb9f3a"
             ],
             [
              0.8888888888888888,
              "#fdca26"
             ],
             [
              1,
              "#f0f921"
             ]
            ],
            "type": "contour"
           }
          ],
          "contourcarpet": [
           {
            "colorbar": {
             "outlinewidth": 0,
             "ticks": ""
            },
            "type": "contourcarpet"
           }
          ],
          "heatmap": [
           {
            "colorbar": {
             "outlinewidth": 0,
             "ticks": ""
            },
            "colorscale": [
             [
              0,
              "#0d0887"
             ],
             [
              0.1111111111111111,
              "#46039f"
             ],
             [
              0.2222222222222222,
              "#7201a8"
             ],
             [
              0.3333333333333333,
              "#9c179e"
             ],
             [
              0.4444444444444444,
              "#bd3786"
             ],
             [
              0.5555555555555556,
              "#d8576b"
             ],
             [
              0.6666666666666666,
              "#ed7953"
             ],
             [
              0.7777777777777778,
              "#fb9f3a"
             ],
             [
              0.8888888888888888,
              "#fdca26"
             ],
             [
              1,
              "#f0f921"
             ]
            ],
            "type": "heatmap"
           }
          ],
          "heatmapgl": [
           {
            "colorbar": {
             "outlinewidth": 0,
             "ticks": ""
            },
            "colorscale": [
             [
              0,
              "#0d0887"
             ],
             [
              0.1111111111111111,
              "#46039f"
             ],
             [
              0.2222222222222222,
              "#7201a8"
             ],
             [
              0.3333333333333333,
              "#9c179e"
             ],
             [
              0.4444444444444444,
              "#bd3786"
             ],
             [
              0.5555555555555556,
              "#d8576b"
             ],
             [
              0.6666666666666666,
              "#ed7953"
             ],
             [
              0.7777777777777778,
              "#fb9f3a"
             ],
             [
              0.8888888888888888,
              "#fdca26"
             ],
             [
              1,
              "#f0f921"
             ]
            ],
            "type": "heatmapgl"
           }
          ],
          "histogram": [
           {
            "marker": {
             "pattern": {
              "fillmode": "overlay",
              "size": 10,
              "solidity": 0.2
             }
            },
            "type": "histogram"
           }
          ],
          "histogram2d": [
           {
            "colorbar": {
             "outlinewidth": 0,
             "ticks": ""
            },
            "colorscale": [
             [
              0,
              "#0d0887"
             ],
             [
              0.1111111111111111,
              "#46039f"
             ],
             [
              0.2222222222222222,
              "#7201a8"
             ],
             [
              0.3333333333333333,
              "#9c179e"
             ],
             [
              0.4444444444444444,
              "#bd3786"
             ],
             [
              0.5555555555555556,
              "#d8576b"
             ],
             [
              0.6666666666666666,
              "#ed7953"
             ],
             [
              0.7777777777777778,
              "#fb9f3a"
             ],
             [
              0.8888888888888888,
              "#fdca26"
             ],
             [
              1,
              "#f0f921"
             ]
            ],
            "type": "histogram2d"
           }
          ],
          "histogram2dcontour": [
           {
            "colorbar": {
             "outlinewidth": 0,
             "ticks": ""
            },
            "colorscale": [
             [
              0,
              "#0d0887"
             ],
             [
              0.1111111111111111,
              "#46039f"
             ],
             [
              0.2222222222222222,
              "#7201a8"
             ],
             [
              0.3333333333333333,
              "#9c179e"
             ],
             [
              0.4444444444444444,
              "#bd3786"
             ],
             [
              0.5555555555555556,
              "#d8576b"
             ],
             [
              0.6666666666666666,
              "#ed7953"
             ],
             [
              0.7777777777777778,
              "#fb9f3a"
             ],
             [
              0.8888888888888888,
              "#fdca26"
             ],
             [
              1,
              "#f0f921"
             ]
            ],
            "type": "histogram2dcontour"
           }
          ],
          "mesh3d": [
           {
            "colorbar": {
             "outlinewidth": 0,
             "ticks": ""
            },
            "type": "mesh3d"
           }
          ],
          "parcoords": [
           {
            "line": {
             "colorbar": {
              "outlinewidth": 0,
              "ticks": ""
             }
            },
            "type": "parcoords"
           }
          ],
          "pie": [
           {
            "automargin": true,
            "type": "pie"
           }
          ],
          "scatter": [
           {
            "fillpattern": {
             "fillmode": "overlay",
             "size": 10,
             "solidity": 0.2
            },
            "type": "scatter"
           }
          ],
          "scatter3d": [
           {
            "line": {
             "colorbar": {
              "outlinewidth": 0,
              "ticks": ""
             }
            },
            "marker": {
             "colorbar": {
              "outlinewidth": 0,
              "ticks": ""
             }
            },
            "type": "scatter3d"
           }
          ],
          "scattercarpet": [
           {
            "marker": {
             "colorbar": {
              "outlinewidth": 0,
              "ticks": ""
             }
            },
            "type": "scattercarpet"
           }
          ],
          "scattergeo": [
           {
            "marker": {
             "colorbar": {
              "outlinewidth": 0,
              "ticks": ""
             }
            },
            "type": "scattergeo"
           }
          ],
          "scattergl": [
           {
            "marker": {
             "colorbar": {
              "outlinewidth": 0,
              "ticks": ""
             }
            },
            "type": "scattergl"
           }
          ],
          "scattermapbox": [
           {
            "marker": {
             "colorbar": {
              "outlinewidth": 0,
              "ticks": ""
             }
            },
            "type": "scattermapbox"
           }
          ],
          "scatterpolar": [
           {
            "marker": {
             "colorbar": {
              "outlinewidth": 0,
              "ticks": ""
             }
            },
            "type": "scatterpolar"
           }
          ],
          "scatterpolargl": [
           {
            "marker": {
             "colorbar": {
              "outlinewidth": 0,
              "ticks": ""
             }
            },
            "type": "scatterpolargl"
           }
          ],
          "scatterternary": [
           {
            "marker": {
             "colorbar": {
              "outlinewidth": 0,
              "ticks": ""
             }
            },
            "type": "scatterternary"
           }
          ],
          "surface": [
           {
            "colorbar": {
             "outlinewidth": 0,
             "ticks": ""
            },
            "colorscale": [
             [
              0,
              "#0d0887"
             ],
             [
              0.1111111111111111,
              "#46039f"
             ],
             [
              0.2222222222222222,
              "#7201a8"
             ],
             [
              0.3333333333333333,
              "#9c179e"
             ],
             [
              0.4444444444444444,
              "#bd3786"
             ],
             [
              0.5555555555555556,
              "#d8576b"
             ],
             [
              0.6666666666666666,
              "#ed7953"
             ],
             [
              0.7777777777777778,
              "#fb9f3a"
             ],
             [
              0.8888888888888888,
              "#fdca26"
             ],
             [
              1,
              "#f0f921"
             ]
            ],
            "type": "surface"
           }
          ],
          "table": [
           {
            "cells": {
             "fill": {
              "color": "#EBF0F8"
             },
             "line": {
              "color": "white"
             }
            },
            "header": {
             "fill": {
              "color": "#C8D4E3"
             },
             "line": {
              "color": "white"
             }
            },
            "type": "table"
           }
          ]
         },
         "layout": {
          "annotationdefaults": {
           "arrowcolor": "#2a3f5f",
           "arrowhead": 0,
           "arrowwidth": 1
          },
          "autotypenumbers": "strict",
          "coloraxis": {
           "colorbar": {
            "outlinewidth": 0,
            "ticks": ""
           }
          },
          "colorscale": {
           "diverging": [
            [
             0,
             "#8e0152"
            ],
            [
             0.1,
             "#c51b7d"
            ],
            [
             0.2,
             "#de77ae"
            ],
            [
             0.3,
             "#f1b6da"
            ],
            [
             0.4,
             "#fde0ef"
            ],
            [
             0.5,
             "#f7f7f7"
            ],
            [
             0.6,
             "#e6f5d0"
            ],
            [
             0.7,
             "#b8e186"
            ],
            [
             0.8,
             "#7fbc41"
            ],
            [
             0.9,
             "#4d9221"
            ],
            [
             1,
             "#276419"
            ]
           ],
           "sequential": [
            [
             0,
             "#0d0887"
            ],
            [
             0.1111111111111111,
             "#46039f"
            ],
            [
             0.2222222222222222,
             "#7201a8"
            ],
            [
             0.3333333333333333,
             "#9c179e"
            ],
            [
             0.4444444444444444,
             "#bd3786"
            ],
            [
             0.5555555555555556,
             "#d8576b"
            ],
            [
             0.6666666666666666,
             "#ed7953"
            ],
            [
             0.7777777777777778,
             "#fb9f3a"
            ],
            [
             0.8888888888888888,
             "#fdca26"
            ],
            [
             1,
             "#f0f921"
            ]
           ],
           "sequentialminus": [
            [
             0,
             "#0d0887"
            ],
            [
             0.1111111111111111,
             "#46039f"
            ],
            [
             0.2222222222222222,
             "#7201a8"
            ],
            [
             0.3333333333333333,
             "#9c179e"
            ],
            [
             0.4444444444444444,
             "#bd3786"
            ],
            [
             0.5555555555555556,
             "#d8576b"
            ],
            [
             0.6666666666666666,
             "#ed7953"
            ],
            [
             0.7777777777777778,
             "#fb9f3a"
            ],
            [
             0.8888888888888888,
             "#fdca26"
            ],
            [
             1,
             "#f0f921"
            ]
           ]
          },
          "colorway": [
           "#636efa",
           "#EF553B",
           "#00cc96",
           "#ab63fa",
           "#FFA15A",
           "#19d3f3",
           "#FF6692",
           "#B6E880",
           "#FF97FF",
           "#FECB52"
          ],
          "font": {
           "color": "#2a3f5f"
          },
          "geo": {
           "bgcolor": "white",
           "lakecolor": "white",
           "landcolor": "#E5ECF6",
           "showlakes": true,
           "showland": true,
           "subunitcolor": "white"
          },
          "hoverlabel": {
           "align": "left"
          },
          "hovermode": "closest",
          "mapbox": {
           "style": "light"
          },
          "paper_bgcolor": "white",
          "plot_bgcolor": "#E5ECF6",
          "polar": {
           "angularaxis": {
            "gridcolor": "white",
            "linecolor": "white",
            "ticks": ""
           },
           "bgcolor": "#E5ECF6",
           "radialaxis": {
            "gridcolor": "white",
            "linecolor": "white",
            "ticks": ""
           }
          },
          "scene": {
           "xaxis": {
            "backgroundcolor": "#E5ECF6",
            "gridcolor": "white",
            "gridwidth": 2,
            "linecolor": "white",
            "showbackground": true,
            "ticks": "",
            "zerolinecolor": "white"
           },
           "yaxis": {
            "backgroundcolor": "#E5ECF6",
            "gridcolor": "white",
            "gridwidth": 2,
            "linecolor": "white",
            "showbackground": true,
            "ticks": "",
            "zerolinecolor": "white"
           },
           "zaxis": {
            "backgroundcolor": "#E5ECF6",
            "gridcolor": "white",
            "gridwidth": 2,
            "linecolor": "white",
            "showbackground": true,
            "ticks": "",
            "zerolinecolor": "white"
           }
          },
          "shapedefaults": {
           "line": {
            "color": "#2a3f5f"
           }
          },
          "ternary": {
           "aaxis": {
            "gridcolor": "white",
            "linecolor": "white",
            "ticks": ""
           },
           "baxis": {
            "gridcolor": "white",
            "linecolor": "white",
            "ticks": ""
           },
           "bgcolor": "#E5ECF6",
           "caxis": {
            "gridcolor": "white",
            "linecolor": "white",
            "ticks": ""
           }
          },
          "title": {
           "x": 0.05
          },
          "xaxis": {
           "automargin": true,
           "gridcolor": "white",
           "linecolor": "white",
           "ticks": "",
           "title": {
            "standoff": 15
           },
           "zerolinecolor": "white",
           "zerolinewidth": 2
          },
          "yaxis": {
           "automargin": true,
           "gridcolor": "white",
           "linecolor": "white",
           "ticks": "",
           "title": {
            "standoff": 15
           },
           "zerolinecolor": "white",
           "zerolinewidth": 2
          }
         }
        },
        "title": {
         "font": {
          "size": 16
         },
         "text": "Successive Thursday Returns with Fiscal Quarter End Lines"
        },
        "xaxis": {
         "anchor": "y",
         "domain": [
          0,
          1
         ],
         "title": {
          "text": "Date"
         }
        },
        "yaxis": {
         "anchor": "x",
         "domain": [
          0,
          1
         ],
         "title": {
          "text": "Rolling Mean of Positive Returns"
         }
        }
       }
      }
     },
     "metadata": {},
     "output_type": "display_data"
    },
    {
     "name": "stderr",
     "output_type": "stream",
     "text": [
      "C:\\Users\\kevin\\AppData\\Local\\Temp\\ipykernel_15944\\227141821.py:88: UserWarning:\n",
      "\n",
      "Converting to PeriodArray/Index representation will drop timezone information.\n",
      "\n"
     ]
    },
    {
     "data": {
      "application/vnd.plotly.v1+json": {
       "config": {
        "plotlyServerURL": "https://plot.ly"
       },
       "data": [
        {
         "alignmentgroup": "True",
         "hovertemplate": "variable=Close<br>Date=%{x}<br>value=%{y}<extra></extra>",
         "legendgroup": "Close",
         "marker": {
          "color": "#1f77b4",
          "pattern": {
           "shape": ""
          }
         },
         "name": "Close",
         "offsetgroup": "Close",
         "orientation": "v",
         "showlegend": true,
         "textposition": "auto",
         "type": "bar",
         "x": [
          "2019-07-26T00:00:00-04:00",
          "2019-08-02T00:00:00-04:00",
          "2019-08-09T00:00:00-04:00",
          "2019-08-16T00:00:00-04:00",
          "2019-08-23T00:00:00-04:00",
          "2019-08-30T00:00:00-04:00",
          "2019-09-06T00:00:00-04:00",
          "2019-09-13T00:00:00-04:00",
          "2019-09-20T00:00:00-04:00",
          "2019-09-27T00:00:00-04:00",
          "2019-10-04T00:00:00-04:00",
          "2019-10-11T00:00:00-04:00",
          "2019-10-18T00:00:00-04:00",
          "2019-10-25T00:00:00-04:00",
          "2019-11-01T00:00:00-04:00",
          "2019-11-08T00:00:00-05:00",
          "2019-11-15T00:00:00-05:00",
          "2019-11-22T00:00:00-05:00",
          "2019-11-29T00:00:00-05:00",
          "2019-12-06T00:00:00-05:00",
          "2019-12-13T00:00:00-05:00",
          "2019-12-20T00:00:00-05:00",
          "2019-12-27T00:00:00-05:00",
          "2020-01-03T00:00:00-05:00",
          "2020-01-10T00:00:00-05:00",
          "2020-01-17T00:00:00-05:00",
          "2020-01-24T00:00:00-05:00",
          "2020-01-31T00:00:00-05:00",
          "2020-02-07T00:00:00-05:00",
          "2020-02-14T00:00:00-05:00",
          "2020-02-21T00:00:00-05:00",
          "2020-02-28T00:00:00-05:00",
          "2020-03-06T00:00:00-05:00",
          "2020-03-13T00:00:00-04:00",
          "2020-03-20T00:00:00-04:00",
          "2020-03-27T00:00:00-04:00",
          "2020-04-03T00:00:00-04:00",
          "2020-04-17T00:00:00-04:00",
          "2020-04-24T00:00:00-04:00",
          "2020-05-01T00:00:00-04:00",
          "2020-05-08T00:00:00-04:00",
          "2020-05-15T00:00:00-04:00",
          "2020-05-22T00:00:00-04:00",
          "2020-05-29T00:00:00-04:00",
          "2020-06-05T00:00:00-04:00",
          "2020-06-12T00:00:00-04:00",
          "2020-06-19T00:00:00-04:00",
          "2020-06-26T00:00:00-04:00",
          "2020-07-10T00:00:00-04:00",
          "2020-07-17T00:00:00-04:00",
          "2020-07-24T00:00:00-04:00",
          "2020-07-31T00:00:00-04:00",
          "2020-08-07T00:00:00-04:00",
          "2020-08-14T00:00:00-04:00",
          "2020-08-21T00:00:00-04:00",
          "2020-08-28T00:00:00-04:00",
          "2020-09-04T00:00:00-04:00",
          "2020-09-11T00:00:00-04:00",
          "2020-09-18T00:00:00-04:00",
          "2020-09-25T00:00:00-04:00",
          "2020-10-02T00:00:00-04:00",
          "2020-10-09T00:00:00-04:00",
          "2020-10-16T00:00:00-04:00",
          "2020-10-23T00:00:00-04:00",
          "2020-10-30T00:00:00-04:00",
          "2020-11-06T00:00:00-05:00",
          "2020-11-13T00:00:00-05:00",
          "2020-11-20T00:00:00-05:00",
          "2020-11-27T00:00:00-05:00",
          "2020-12-04T00:00:00-05:00",
          "2020-12-11T00:00:00-05:00",
          "2020-12-18T00:00:00-05:00",
          "2021-01-08T00:00:00-05:00",
          "2021-01-15T00:00:00-05:00",
          "2021-01-22T00:00:00-05:00",
          "2021-01-29T00:00:00-05:00",
          "2021-02-05T00:00:00-05:00",
          "2021-02-12T00:00:00-05:00",
          "2021-02-19T00:00:00-05:00",
          "2021-02-26T00:00:00-05:00",
          "2021-03-05T00:00:00-05:00",
          "2021-03-12T00:00:00-05:00",
          "2021-03-19T00:00:00-04:00",
          "2021-03-26T00:00:00-04:00",
          "2021-04-09T00:00:00-04:00",
          "2021-04-16T00:00:00-04:00",
          "2021-04-23T00:00:00-04:00",
          "2021-04-30T00:00:00-04:00",
          "2021-05-07T00:00:00-04:00",
          "2021-05-14T00:00:00-04:00",
          "2021-05-21T00:00:00-04:00",
          "2021-05-28T00:00:00-04:00",
          "2021-06-04T00:00:00-04:00",
          "2021-06-11T00:00:00-04:00",
          "2021-06-18T00:00:00-04:00",
          "2021-06-25T00:00:00-04:00",
          "2021-07-02T00:00:00-04:00",
          "2021-07-09T00:00:00-04:00",
          "2021-07-16T00:00:00-04:00",
          "2021-07-23T00:00:00-04:00",
          "2021-07-30T00:00:00-04:00",
          "2021-08-06T00:00:00-04:00",
          "2021-08-13T00:00:00-04:00",
          "2021-08-20T00:00:00-04:00",
          "2021-08-27T00:00:00-04:00",
          "2021-09-03T00:00:00-04:00",
          "2021-09-10T00:00:00-04:00",
          "2021-09-17T00:00:00-04:00",
          "2021-09-24T00:00:00-04:00",
          "2021-10-01T00:00:00-04:00",
          "2021-10-08T00:00:00-04:00",
          "2021-10-15T00:00:00-04:00",
          "2021-10-22T00:00:00-04:00",
          "2021-10-29T00:00:00-04:00",
          "2021-11-05T00:00:00-04:00",
          "2021-11-12T00:00:00-05:00",
          "2021-11-19T00:00:00-05:00",
          "2021-11-26T00:00:00-05:00",
          "2021-12-03T00:00:00-05:00",
          "2021-12-10T00:00:00-05:00",
          "2021-12-17T00:00:00-05:00",
          "2021-12-31T00:00:00-05:00",
          "2022-01-07T00:00:00-05:00",
          "2022-01-14T00:00:00-05:00",
          "2022-01-21T00:00:00-05:00",
          "2022-01-28T00:00:00-05:00",
          "2022-02-04T00:00:00-05:00",
          "2022-02-11T00:00:00-05:00",
          "2022-02-18T00:00:00-05:00",
          "2022-02-25T00:00:00-05:00",
          "2022-03-04T00:00:00-05:00",
          "2022-03-11T00:00:00-05:00",
          "2022-03-18T00:00:00-04:00",
          "2022-03-25T00:00:00-04:00",
          "2022-04-01T00:00:00-04:00",
          "2022-04-08T00:00:00-04:00",
          "2022-04-22T00:00:00-04:00",
          "2022-04-29T00:00:00-04:00",
          "2022-05-06T00:00:00-04:00",
          "2022-05-13T00:00:00-04:00",
          "2022-05-20T00:00:00-04:00",
          "2022-05-27T00:00:00-04:00",
          "2022-06-03T00:00:00-04:00",
          "2022-06-10T00:00:00-04:00",
          "2022-06-17T00:00:00-04:00",
          "2022-06-24T00:00:00-04:00",
          "2022-07-01T00:00:00-04:00",
          "2022-07-08T00:00:00-04:00",
          "2022-07-15T00:00:00-04:00",
          "2022-07-22T00:00:00-04:00",
          "2022-07-29T00:00:00-04:00",
          "2022-08-05T00:00:00-04:00",
          "2022-08-12T00:00:00-04:00",
          "2022-08-19T00:00:00-04:00",
          "2022-08-26T00:00:00-04:00",
          "2022-09-02T00:00:00-04:00",
          "2022-09-09T00:00:00-04:00",
          "2022-09-16T00:00:00-04:00",
          "2022-09-23T00:00:00-04:00",
          "2022-09-30T00:00:00-04:00",
          "2022-10-07T00:00:00-04:00",
          "2022-10-14T00:00:00-04:00",
          "2022-10-21T00:00:00-04:00",
          "2022-10-28T00:00:00-04:00",
          "2022-11-04T00:00:00-04:00",
          "2022-11-11T00:00:00-05:00",
          "2022-11-18T00:00:00-05:00",
          "2022-11-25T00:00:00-05:00",
          "2022-12-02T00:00:00-05:00",
          "2022-12-09T00:00:00-05:00",
          "2022-12-16T00:00:00-05:00",
          "2022-12-23T00:00:00-05:00",
          "2022-12-30T00:00:00-05:00",
          "2023-01-06T00:00:00-05:00",
          "2023-01-13T00:00:00-05:00",
          "2023-01-20T00:00:00-05:00",
          "2023-01-27T00:00:00-05:00",
          "2023-02-03T00:00:00-05:00",
          "2023-02-10T00:00:00-05:00",
          "2023-02-17T00:00:00-05:00",
          "2023-02-24T00:00:00-05:00",
          "2023-03-03T00:00:00-05:00",
          "2023-03-10T00:00:00-05:00",
          "2023-03-17T00:00:00-04:00",
          "2023-03-24T00:00:00-04:00",
          "2023-03-31T00:00:00-04:00",
          "2023-04-14T00:00:00-04:00",
          "2023-04-21T00:00:00-04:00",
          "2023-04-28T00:00:00-04:00",
          "2023-05-05T00:00:00-04:00",
          "2023-05-12T00:00:00-04:00",
          "2023-05-19T00:00:00-04:00",
          "2023-05-26T00:00:00-04:00",
          "2023-06-02T00:00:00-04:00",
          "2023-06-09T00:00:00-04:00",
          "2023-06-16T00:00:00-04:00",
          "2023-06-23T00:00:00-04:00",
          "2023-06-30T00:00:00-04:00",
          "2023-07-07T00:00:00-04:00",
          "2023-07-14T00:00:00-04:00",
          "2023-07-21T00:00:00-04:00",
          "2023-07-28T00:00:00-04:00",
          "2023-08-04T00:00:00-04:00",
          "2023-08-11T00:00:00-04:00",
          "2023-08-18T00:00:00-04:00",
          "2023-08-25T00:00:00-04:00",
          "2023-09-01T00:00:00-04:00",
          "2023-09-08T00:00:00-04:00",
          "2023-09-15T00:00:00-04:00",
          "2023-09-22T00:00:00-04:00",
          "2023-09-29T00:00:00-04:00",
          "2023-10-06T00:00:00-04:00",
          "2023-10-13T00:00:00-04:00",
          "2023-10-20T00:00:00-04:00",
          "2023-10-27T00:00:00-04:00",
          "2023-11-03T00:00:00-04:00",
          "2023-11-10T00:00:00-05:00",
          "2023-11-17T00:00:00-05:00",
          "2023-11-24T00:00:00-05:00",
          "2023-12-01T00:00:00-05:00",
          "2023-12-08T00:00:00-05:00",
          "2023-12-15T00:00:00-05:00",
          "2023-12-22T00:00:00-05:00",
          "2023-12-29T00:00:00-05:00",
          "2024-01-05T00:00:00-05:00",
          "2024-01-12T00:00:00-05:00",
          "2024-01-19T00:00:00-05:00",
          "2024-01-26T00:00:00-05:00",
          "2024-02-02T00:00:00-05:00",
          "2024-02-09T00:00:00-05:00",
          "2024-02-16T00:00:00-05:00",
          "2024-02-23T00:00:00-05:00",
          "2024-03-01T00:00:00-05:00",
          "2024-03-08T00:00:00-05:00",
          "2024-03-15T00:00:00-04:00",
          "2024-03-22T00:00:00-04:00",
          "2024-04-05T00:00:00-04:00",
          "2024-04-12T00:00:00-04:00",
          "2024-04-19T00:00:00-04:00",
          "2024-04-26T00:00:00-04:00",
          "2024-05-03T00:00:00-04:00",
          "2024-05-10T00:00:00-04:00",
          "2024-05-17T00:00:00-04:00",
          "2024-05-24T00:00:00-04:00",
          "2024-05-31T00:00:00-04:00",
          "2024-06-07T00:00:00-04:00",
          "2024-06-14T00:00:00-04:00",
          "2024-06-21T00:00:00-04:00",
          "2024-06-28T00:00:00-04:00",
          "2024-07-05T00:00:00-04:00",
          "2024-07-12T00:00:00-04:00",
          "2024-07-19T00:00:00-04:00"
         ],
         "xaxis": "x",
         "y": [
          null,
          null,
          null,
          null,
          null,
          null,
          null,
          null,
          null,
          null,
          null,
          null,
          null,
          null,
          null,
          null,
          null,
          null,
          null,
          null,
          0.5238095238095238,
          0.5714285714285714,
          0.5714285714285714,
          0.5714285714285714,
          0.5238095238095238,
          0.5714285714285714,
          0.5714285714285714,
          0.5238095238095238,
          0.5238095238095238,
          0.5714285714285714,
          0.5714285714285714,
          0.5238095238095238,
          0.47619047619047616,
          0.5238095238095238,
          0.47619047619047616,
          0.42857142857142855,
          0.38095238095238093,
          0.38095238095238093,
          0.38095238095238093,
          0.38095238095238093,
          0.38095238095238093,
          0.38095238095238093,
          0.38095238095238093,
          0.42857142857142855,
          0.47619047619047616,
          0.5238095238095238,
          0.47619047619047616,
          0.47619047619047616,
          0.5238095238095238,
          0.5714285714285714,
          0.5238095238095238,
          0.5714285714285714,
          0.6190476190476191,
          0.6666666666666666,
          0.6666666666666666,
          0.7142857142857143,
          0.7142857142857143,
          0.7619047619047619,
          0.7142857142857143,
          0.7142857142857143,
          0.7142857142857143,
          0.7142857142857143,
          0.6666666666666666,
          0.6666666666666666,
          0.6190476190476191,
          0.5714285714285714,
          0.5714285714285714,
          0.5714285714285714,
          0.6190476190476191,
          0.6190476190476191,
          0.5714285714285714,
          0.5714285714285714,
          0.5714285714285714,
          0.5238095238095238,
          0.47619047619047616,
          0.42857142857142855,
          0.42857142857142855,
          0.47619047619047616,
          0.42857142857142855,
          0.42857142857142855,
          0.42857142857142855,
          0.47619047619047616,
          0.42857142857142855,
          0.47619047619047616,
          0.47619047619047616,
          0.5238095238095238,
          0.5714285714285714,
          0.5238095238095238,
          0.5714285714285714,
          0.5714285714285714,
          0.5238095238095238,
          0.5714285714285714,
          0.6190476190476191,
          0.6190476190476191,
          0.6190476190476191,
          0.6666666666666666,
          0.7142857142857143,
          0.7142857142857143,
          0.6666666666666666,
          0.7142857142857143,
          0.7142857142857143,
          0.7142857142857143,
          0.7142857142857143,
          0.7619047619047619,
          0.7619047619047619,
          0.7142857142857143,
          0.6666666666666666,
          0.6190476190476191,
          0.6666666666666666,
          0.6666666666666666,
          0.6190476190476191,
          0.6666666666666666,
          0.6190476190476191,
          0.6190476190476191,
          0.6190476190476191,
          0.6666666666666666,
          0.6190476190476191,
          0.5714285714285714,
          0.5238095238095238,
          0.5714285714285714,
          0.5238095238095238,
          0.5238095238095238,
          0.47619047619047616,
          0.47619047619047616,
          0.42857142857142855,
          0.42857142857142855,
          0.47619047619047616,
          0.47619047619047616,
          0.47619047619047616,
          0.47619047619047616,
          0.42857142857142855,
          0.42857142857142855,
          0.42857142857142855,
          0.47619047619047616,
          0.47619047619047616,
          0.42857142857142855,
          0.38095238095238093,
          0.38095238095238093,
          0.38095238095238093,
          0.42857142857142855,
          0.42857142857142855,
          0.47619047619047616,
          0.47619047619047616,
          0.47619047619047616,
          0.47619047619047616,
          0.5238095238095238,
          0.5238095238095238,
          0.47619047619047616,
          0.5238095238095238,
          0.5238095238095238,
          0.5238095238095238,
          0.5238095238095238,
          0.5714285714285714,
          0.5238095238095238,
          0.47619047619047616,
          0.42857142857142855,
          0.47619047619047616,
          0.47619047619047616,
          0.47619047619047616,
          0.47619047619047616,
          0.42857142857142855,
          0.38095238095238093,
          0.38095238095238093,
          0.42857142857142855,
          0.47619047619047616,
          0.47619047619047616,
          0.47619047619047616,
          0.42857142857142855,
          0.42857142857142855,
          0.38095238095238093,
          0.38095238095238093,
          0.38095238095238093,
          0.38095238095238093,
          0.38095238095238093,
          0.42857142857142855,
          0.47619047619047616,
          0.5238095238095238,
          0.47619047619047616,
          0.5238095238095238,
          0.5238095238095238,
          0.5238095238095238,
          0.5714285714285714,
          0.5714285714285714,
          0.5238095238095238,
          0.5238095238095238,
          0.5238095238095238,
          0.47619047619047616,
          0.47619047619047616,
          0.5238095238095238,
          0.5714285714285714,
          0.5714285714285714,
          0.5714285714285714,
          0.5714285714285714,
          0.6190476190476191,
          0.6190476190476191,
          0.5714285714285714,
          0.5238095238095238,
          0.5238095238095238,
          0.5238095238095238,
          0.47619047619047616,
          0.47619047619047616,
          0.5238095238095238,
          0.47619047619047616,
          0.47619047619047616,
          0.5238095238095238,
          0.5238095238095238,
          0.5238095238095238,
          0.5714285714285714,
          0.5238095238095238,
          0.47619047619047616,
          0.42857142857142855,
          0.47619047619047616,
          0.47619047619047616,
          0.42857142857142855,
          0.38095238095238093,
          0.38095238095238093,
          0.42857142857142855,
          0.47619047619047616,
          0.47619047619047616,
          0.5238095238095238,
          0.5714285714285714,
          0.5714285714285714,
          0.5714285714285714,
          0.5714285714285714,
          0.6190476190476191,
          0.6190476190476191,
          0.6190476190476191,
          0.5714285714285714,
          0.5714285714285714,
          0.6190476190476191,
          0.6190476190476191,
          0.6666666666666666,
          0.6666666666666666,
          0.6666666666666666,
          0.6666666666666666,
          0.6666666666666666,
          0.6666666666666666,
          0.6190476190476191,
          0.5714285714285714,
          0.5714285714285714,
          0.5714285714285714,
          0.5714285714285714,
          0.6190476190476191,
          0.6190476190476191,
          0.6666666666666666,
          0.6190476190476191,
          0.6190476190476191,
          0.5714285714285714,
          0.5714285714285714,
          0.5714285714285714,
          0.5714285714285714,
          0.5714285714285714
         ],
         "yaxis": "y"
        }
       ],
       "layout": {
        "annotations": [
         {
          "align": "center",
          "font": {
           "color": "black",
           "size": 12
          },
          "showarrow": false,
          "text": "19: Q3",
          "x": "2019-05-17T00:00:00",
          "xanchor": "center",
          "y": 1.02,
          "yanchor": "bottom"
         },
         {
          "align": "center",
          "font": {
           "color": "black",
           "size": 12
          },
          "showarrow": false,
          "text": "19: Q4",
          "x": "2019-08-17T00:00:00",
          "xanchor": "center",
          "y": 1.02,
          "yanchor": "bottom"
         },
         {
          "align": "center",
          "font": {
           "color": "black",
           "size": 12
          },
          "showarrow": false,
          "text": "20: Q1",
          "x": "2019-11-17T00:00:00",
          "xanchor": "center",
          "y": 1.02,
          "yanchor": "bottom"
         },
         {
          "align": "center",
          "font": {
           "color": "black",
           "size": 12
          },
          "showarrow": false,
          "text": "20: Q2",
          "x": "2020-02-16T00:00:00",
          "xanchor": "center",
          "y": 1.02,
          "yanchor": "bottom"
         },
         {
          "align": "center",
          "font": {
           "color": "black",
           "size": 12
          },
          "showarrow": false,
          "text": "20: Q3",
          "x": "2020-05-17T00:00:00",
          "xanchor": "center",
          "y": 1.02,
          "yanchor": "bottom"
         },
         {
          "align": "center",
          "font": {
           "color": "black",
           "size": 12
          },
          "showarrow": false,
          "text": "20: Q4",
          "x": "2020-08-17T00:00:00",
          "xanchor": "center",
          "y": 1.02,
          "yanchor": "bottom"
         },
         {
          "align": "center",
          "font": {
           "color": "black",
           "size": 12
          },
          "showarrow": false,
          "text": "21: Q1",
          "x": "2020-11-17T00:00:00",
          "xanchor": "center",
          "y": 1.02,
          "yanchor": "bottom"
         },
         {
          "align": "center",
          "font": {
           "color": "black",
           "size": 12
          },
          "showarrow": false,
          "text": "21: Q2",
          "x": "2021-02-15T00:00:00",
          "xanchor": "center",
          "y": 1.02,
          "yanchor": "bottom"
         },
         {
          "align": "center",
          "font": {
           "color": "black",
           "size": 12
          },
          "showarrow": false,
          "text": "21: Q3",
          "x": "2021-05-17T00:00:00",
          "xanchor": "center",
          "y": 1.02,
          "yanchor": "bottom"
         },
         {
          "align": "center",
          "font": {
           "color": "black",
           "size": 12
          },
          "showarrow": false,
          "text": "21: Q4",
          "x": "2021-08-17T00:00:00",
          "xanchor": "center",
          "y": 1.02,
          "yanchor": "bottom"
         },
         {
          "align": "center",
          "font": {
           "color": "black",
           "size": 12
          },
          "showarrow": false,
          "text": "22: Q1",
          "x": "2021-11-17T00:00:00",
          "xanchor": "center",
          "y": 1.02,
          "yanchor": "bottom"
         },
         {
          "align": "center",
          "font": {
           "color": "black",
           "size": 12
          },
          "showarrow": false,
          "text": "22: Q2",
          "x": "2022-02-15T00:00:00",
          "xanchor": "center",
          "y": 1.02,
          "yanchor": "bottom"
         },
         {
          "align": "center",
          "font": {
           "color": "black",
           "size": 12
          },
          "showarrow": false,
          "text": "22: Q3",
          "x": "2022-05-17T00:00:00",
          "xanchor": "center",
          "y": 1.02,
          "yanchor": "bottom"
         },
         {
          "align": "center",
          "font": {
           "color": "black",
           "size": 12
          },
          "showarrow": false,
          "text": "22: Q4",
          "x": "2022-08-17T00:00:00",
          "xanchor": "center",
          "y": 1.02,
          "yanchor": "bottom"
         },
         {
          "align": "center",
          "font": {
           "color": "black",
           "size": 12
          },
          "showarrow": false,
          "text": "23: Q1",
          "x": "2022-11-17T00:00:00",
          "xanchor": "center",
          "y": 1.02,
          "yanchor": "bottom"
         },
         {
          "align": "center",
          "font": {
           "color": "black",
           "size": 12
          },
          "showarrow": false,
          "text": "23: Q2",
          "x": "2023-02-15T00:00:00",
          "xanchor": "center",
          "y": 1.02,
          "yanchor": "bottom"
         },
         {
          "align": "center",
          "font": {
           "color": "black",
           "size": 12
          },
          "showarrow": false,
          "text": "23: Q3",
          "x": "2023-05-17T00:00:00",
          "xanchor": "center",
          "y": 1.02,
          "yanchor": "bottom"
         },
         {
          "align": "center",
          "font": {
           "color": "black",
           "size": 12
          },
          "showarrow": false,
          "text": "23: Q4",
          "x": "2023-08-17T00:00:00",
          "xanchor": "center",
          "y": 1.02,
          "yanchor": "bottom"
         },
         {
          "align": "center",
          "font": {
           "color": "black",
           "size": 12
          },
          "showarrow": false,
          "text": "24: Q1",
          "x": "2023-11-17T00:00:00",
          "xanchor": "center",
          "y": 1.02,
          "yanchor": "bottom"
         },
         {
          "align": "center",
          "font": {
           "color": "black",
           "size": 12
          },
          "showarrow": false,
          "text": "24: Q2",
          "x": "2024-02-16T00:00:00",
          "xanchor": "center",
          "y": 1.02,
          "yanchor": "bottom"
         },
         {
          "align": "center",
          "font": {
           "color": "black",
           "size": 12
          },
          "showarrow": false,
          "text": "24: Q3",
          "x": "2024-05-17T00:00:00",
          "xanchor": "center",
          "y": 1.02,
          "yanchor": "bottom"
         }
        ],
        "barmode": "relative",
        "font": {
         "color": "black"
        },
        "height": 600,
        "legend": {
         "orientation": "h",
         "title": {
          "font": {
           "size": 14
          },
          "text": "Statistics"
         },
         "tracegroupgap": 0,
         "x": 0,
         "y": -0.2
        },
        "paper_bgcolor": "white",
        "plot_bgcolor": "white",
        "shapes": [
         {
          "line": {
           "color": "blue",
           "dash": "solid",
           "width": 3
          },
          "name": "Mean",
          "type": "line",
          "x0": 0,
          "x1": 1,
          "xref": "x domain",
          "y0": 0.5371510673234812,
          "y1": 0.5371510673234812,
          "yref": "y"
         },
         {
          "line": {
           "color": "orange",
           "dash": "dash",
           "width": 2
          },
          "name": "Mean + 1 Std Dev",
          "type": "line",
          "x0": 0,
          "x1": 1,
          "xref": "x domain",
          "y0": 0.6304517482524437,
          "y1": 0.6304517482524437,
          "yref": "y"
         },
         {
          "line": {
           "color": "orange",
           "dash": "dash",
           "width": 2
          },
          "name": "Mean - 1 Std Dev",
          "type": "line",
          "x0": 0,
          "x1": 1,
          "xref": "x domain",
          "y0": 0.4438503863945187,
          "y1": 0.4438503863945187,
          "yref": "y"
         },
         {
          "line": {
           "color": "purple",
           "dash": "dash",
           "width": 2
          },
          "name": "Mean + 2 Std Dev",
          "type": "line",
          "x0": 0,
          "x1": 1,
          "xref": "x domain",
          "y0": 0.7237524291814061,
          "y1": 0.7237524291814061,
          "yref": "y"
         },
         {
          "line": {
           "color": "purple",
           "dash": "dash",
           "width": 2
          },
          "name": "Mean - 2 Std Dev",
          "type": "line",
          "x0": 0,
          "x1": 1,
          "xref": "x domain",
          "y0": 0.3505497054655562,
          "y1": 0.3505497054655562,
          "yref": "y"
         },
         {
          "fillcolor": "rgba(255, 182, 193, 0.5)",
          "line": {
           "width": 0
          },
          "name": "1 to 2 Std Dev",
          "type": "rect",
          "x0": "2019-07-26T00:00:00-04:00",
          "x1": "2024-07-19T00:00:00-04:00",
          "y0": 0.6304517482524437,
          "y1": 0.7237524291814061
         },
         {
          "fillcolor": "rgba(255, 182, 193, 0.5)",
          "line": {
           "width": 0
          },
          "name": "-2 to -1 Std Dev",
          "type": "rect",
          "x0": "2019-07-26T00:00:00-04:00",
          "x1": "2024-07-19T00:00:00-04:00",
          "y0": 0.3505497054655562,
          "y1": 0.4438503863945187
         },
         {
          "line": {
           "color": "gray",
           "dash": "dash",
           "width": 2
          },
          "name": "Fiscal Quarter End",
          "type": "line",
          "x0": "2019-07-01T00:00:00",
          "x1": "2019-07-01T00:00:00",
          "xref": "x",
          "y0": 0,
          "y1": 1,
          "yref": "y domain"
         },
         {
          "fillcolor": "rgba(200, 200, 200, 0.3)",
          "line": {
           "width": 0
          },
          "name": "Quarter Background",
          "type": "rect",
          "x0": "2019-04-02T00:00:00",
          "x1": "2019-07-01T00:00:00",
          "xref": "x",
          "y0": 0,
          "y1": 1,
          "yref": "paper"
         },
         {
          "line": {
           "color": "gray",
           "dash": "dash",
           "width": 2
          },
          "name": "Fiscal Quarter End",
          "type": "line",
          "x0": "2019-10-01T00:00:00",
          "x1": "2019-10-01T00:00:00",
          "xref": "x",
          "y0": 0,
          "y1": 1,
          "yref": "y domain"
         },
         {
          "line": {
           "color": "gray",
           "dash": "dash",
           "width": 2
          },
          "name": "Fiscal Quarter End",
          "type": "line",
          "x0": "2020-01-01T00:00:00",
          "x1": "2020-01-01T00:00:00",
          "xref": "x",
          "y0": 0,
          "y1": 1,
          "yref": "y domain"
         },
         {
          "fillcolor": "rgba(200, 200, 200, 0.3)",
          "line": {
           "width": 0
          },
          "name": "Quarter Background",
          "type": "rect",
          "x0": "2019-10-03T00:00:00",
          "x1": "2020-01-01T00:00:00",
          "xref": "x",
          "y0": 0,
          "y1": 1,
          "yref": "paper"
         },
         {
          "line": {
           "color": "gray",
           "dash": "dash",
           "width": 2
          },
          "name": "Fiscal Quarter End",
          "type": "line",
          "x0": "2020-04-01T00:00:00",
          "x1": "2020-04-01T00:00:00",
          "xref": "x",
          "y0": 0,
          "y1": 1,
          "yref": "y domain"
         },
         {
          "line": {
           "color": "gray",
           "dash": "dash",
           "width": 2
          },
          "name": "Fiscal Quarter End",
          "type": "line",
          "x0": "2020-07-01T00:00:00",
          "x1": "2020-07-01T00:00:00",
          "xref": "x",
          "y0": 0,
          "y1": 1,
          "yref": "y domain"
         },
         {
          "fillcolor": "rgba(200, 200, 200, 0.3)",
          "line": {
           "width": 0
          },
          "name": "Quarter Background",
          "type": "rect",
          "x0": "2020-04-02T00:00:00",
          "x1": "2020-07-01T00:00:00",
          "xref": "x",
          "y0": 0,
          "y1": 1,
          "yref": "paper"
         },
         {
          "line": {
           "color": "gray",
           "dash": "dash",
           "width": 2
          },
          "name": "Fiscal Quarter End",
          "type": "line",
          "x0": "2020-10-01T00:00:00",
          "x1": "2020-10-01T00:00:00",
          "xref": "x",
          "y0": 0,
          "y1": 1,
          "yref": "y domain"
         },
         {
          "line": {
           "color": "gray",
           "dash": "dash",
           "width": 2
          },
          "name": "Fiscal Quarter End",
          "type": "line",
          "x0": "2021-01-01T00:00:00",
          "x1": "2021-01-01T00:00:00",
          "xref": "x",
          "y0": 0,
          "y1": 1,
          "yref": "y domain"
         },
         {
          "fillcolor": "rgba(200, 200, 200, 0.3)",
          "line": {
           "width": 0
          },
          "name": "Quarter Background",
          "type": "rect",
          "x0": "2020-10-03T00:00:00",
          "x1": "2021-01-01T00:00:00",
          "xref": "x",
          "y0": 0,
          "y1": 1,
          "yref": "paper"
         },
         {
          "line": {
           "color": "gray",
           "dash": "dash",
           "width": 2
          },
          "name": "Fiscal Quarter End",
          "type": "line",
          "x0": "2021-04-01T00:00:00",
          "x1": "2021-04-01T00:00:00",
          "xref": "x",
          "y0": 0,
          "y1": 1,
          "yref": "y domain"
         },
         {
          "line": {
           "color": "gray",
           "dash": "dash",
           "width": 2
          },
          "name": "Fiscal Quarter End",
          "type": "line",
          "x0": "2021-07-01T00:00:00",
          "x1": "2021-07-01T00:00:00",
          "xref": "x",
          "y0": 0,
          "y1": 1,
          "yref": "y domain"
         },
         {
          "fillcolor": "rgba(200, 200, 200, 0.3)",
          "line": {
           "width": 0
          },
          "name": "Quarter Background",
          "type": "rect",
          "x0": "2021-04-02T00:00:00",
          "x1": "2021-07-01T00:00:00",
          "xref": "x",
          "y0": 0,
          "y1": 1,
          "yref": "paper"
         },
         {
          "line": {
           "color": "gray",
           "dash": "dash",
           "width": 2
          },
          "name": "Fiscal Quarter End",
          "type": "line",
          "x0": "2021-10-01T00:00:00",
          "x1": "2021-10-01T00:00:00",
          "xref": "x",
          "y0": 0,
          "y1": 1,
          "yref": "y domain"
         },
         {
          "line": {
           "color": "gray",
           "dash": "dash",
           "width": 2
          },
          "name": "Fiscal Quarter End",
          "type": "line",
          "x0": "2022-01-01T00:00:00",
          "x1": "2022-01-01T00:00:00",
          "xref": "x",
          "y0": 0,
          "y1": 1,
          "yref": "y domain"
         },
         {
          "fillcolor": "rgba(200, 200, 200, 0.3)",
          "line": {
           "width": 0
          },
          "name": "Quarter Background",
          "type": "rect",
          "x0": "2021-10-03T00:00:00",
          "x1": "2022-01-01T00:00:00",
          "xref": "x",
          "y0": 0,
          "y1": 1,
          "yref": "paper"
         },
         {
          "line": {
           "color": "gray",
           "dash": "dash",
           "width": 2
          },
          "name": "Fiscal Quarter End",
          "type": "line",
          "x0": "2022-04-01T00:00:00",
          "x1": "2022-04-01T00:00:00",
          "xref": "x",
          "y0": 0,
          "y1": 1,
          "yref": "y domain"
         },
         {
          "line": {
           "color": "gray",
           "dash": "dash",
           "width": 2
          },
          "name": "Fiscal Quarter End",
          "type": "line",
          "x0": "2022-07-01T00:00:00",
          "x1": "2022-07-01T00:00:00",
          "xref": "x",
          "y0": 0,
          "y1": 1,
          "yref": "y domain"
         },
         {
          "fillcolor": "rgba(200, 200, 200, 0.3)",
          "line": {
           "width": 0
          },
          "name": "Quarter Background",
          "type": "rect",
          "x0": "2022-04-02T00:00:00",
          "x1": "2022-07-01T00:00:00",
          "xref": "x",
          "y0": 0,
          "y1": 1,
          "yref": "paper"
         },
         {
          "line": {
           "color": "gray",
           "dash": "dash",
           "width": 2
          },
          "name": "Fiscal Quarter End",
          "type": "line",
          "x0": "2022-10-01T00:00:00",
          "x1": "2022-10-01T00:00:00",
          "xref": "x",
          "y0": 0,
          "y1": 1,
          "yref": "y domain"
         },
         {
          "line": {
           "color": "gray",
           "dash": "dash",
           "width": 2
          },
          "name": "Fiscal Quarter End",
          "type": "line",
          "x0": "2023-01-01T00:00:00",
          "x1": "2023-01-01T00:00:00",
          "xref": "x",
          "y0": 0,
          "y1": 1,
          "yref": "y domain"
         },
         {
          "fillcolor": "rgba(200, 200, 200, 0.3)",
          "line": {
           "width": 0
          },
          "name": "Quarter Background",
          "type": "rect",
          "x0": "2022-10-03T00:00:00",
          "x1": "2023-01-01T00:00:00",
          "xref": "x",
          "y0": 0,
          "y1": 1,
          "yref": "paper"
         },
         {
          "line": {
           "color": "gray",
           "dash": "dash",
           "width": 2
          },
          "name": "Fiscal Quarter End",
          "type": "line",
          "x0": "2023-04-01T00:00:00",
          "x1": "2023-04-01T00:00:00",
          "xref": "x",
          "y0": 0,
          "y1": 1,
          "yref": "y domain"
         },
         {
          "line": {
           "color": "gray",
           "dash": "dash",
           "width": 2
          },
          "name": "Fiscal Quarter End",
          "type": "line",
          "x0": "2023-07-01T00:00:00",
          "x1": "2023-07-01T00:00:00",
          "xref": "x",
          "y0": 0,
          "y1": 1,
          "yref": "y domain"
         },
         {
          "fillcolor": "rgba(200, 200, 200, 0.3)",
          "line": {
           "width": 0
          },
          "name": "Quarter Background",
          "type": "rect",
          "x0": "2023-04-02T00:00:00",
          "x1": "2023-07-01T00:00:00",
          "xref": "x",
          "y0": 0,
          "y1": 1,
          "yref": "paper"
         },
         {
          "line": {
           "color": "gray",
           "dash": "dash",
           "width": 2
          },
          "name": "Fiscal Quarter End",
          "type": "line",
          "x0": "2023-10-01T00:00:00",
          "x1": "2023-10-01T00:00:00",
          "xref": "x",
          "y0": 0,
          "y1": 1,
          "yref": "y domain"
         },
         {
          "line": {
           "color": "gray",
           "dash": "dash",
           "width": 2
          },
          "name": "Fiscal Quarter End",
          "type": "line",
          "x0": "2024-01-01T00:00:00",
          "x1": "2024-01-01T00:00:00",
          "xref": "x",
          "y0": 0,
          "y1": 1,
          "yref": "y domain"
         },
         {
          "fillcolor": "rgba(200, 200, 200, 0.3)",
          "line": {
           "width": 0
          },
          "name": "Quarter Background",
          "type": "rect",
          "x0": "2023-10-03T00:00:00",
          "x1": "2024-01-01T00:00:00",
          "xref": "x",
          "y0": 0,
          "y1": 1,
          "yref": "paper"
         },
         {
          "line": {
           "color": "gray",
           "dash": "dash",
           "width": 2
          },
          "name": "Fiscal Quarter End",
          "type": "line",
          "x0": "2024-04-01T00:00:00",
          "x1": "2024-04-01T00:00:00",
          "xref": "x",
          "y0": 0,
          "y1": 1,
          "yref": "y domain"
         },
         {
          "line": {
           "color": "gray",
           "dash": "dash",
           "width": 2
          },
          "name": "Fiscal Quarter End",
          "type": "line",
          "x0": "2024-07-01T00:00:00",
          "x1": "2024-07-01T00:00:00",
          "xref": "x",
          "y0": 0,
          "y1": 1,
          "yref": "y domain"
         },
         {
          "fillcolor": "rgba(200, 200, 200, 0.3)",
          "line": {
           "width": 0
          },
          "name": "Quarter Background",
          "type": "rect",
          "x0": "2024-04-02T00:00:00",
          "x1": "2024-07-01T00:00:00",
          "xref": "x",
          "y0": 0,
          "y1": 1,
          "yref": "paper"
         }
        ],
        "template": {
         "data": {
          "bar": [
           {
            "error_x": {
             "color": "#2a3f5f"
            },
            "error_y": {
             "color": "#2a3f5f"
            },
            "marker": {
             "line": {
              "color": "#E5ECF6",
              "width": 0.5
             },
             "pattern": {
              "fillmode": "overlay",
              "size": 10,
              "solidity": 0.2
             }
            },
            "type": "bar"
           }
          ],
          "barpolar": [
           {
            "marker": {
             "line": {
              "color": "#E5ECF6",
              "width": 0.5
             },
             "pattern": {
              "fillmode": "overlay",
              "size": 10,
              "solidity": 0.2
             }
            },
            "type": "barpolar"
           }
          ],
          "carpet": [
           {
            "aaxis": {
             "endlinecolor": "#2a3f5f",
             "gridcolor": "white",
             "linecolor": "white",
             "minorgridcolor": "white",
             "startlinecolor": "#2a3f5f"
            },
            "baxis": {
             "endlinecolor": "#2a3f5f",
             "gridcolor": "white",
             "linecolor": "white",
             "minorgridcolor": "white",
             "startlinecolor": "#2a3f5f"
            },
            "type": "carpet"
           }
          ],
          "choropleth": [
           {
            "colorbar": {
             "outlinewidth": 0,
             "ticks": ""
            },
            "type": "choropleth"
           }
          ],
          "contour": [
           {
            "colorbar": {
             "outlinewidth": 0,
             "ticks": ""
            },
            "colorscale": [
             [
              0,
              "#0d0887"
             ],
             [
              0.1111111111111111,
              "#46039f"
             ],
             [
              0.2222222222222222,
              "#7201a8"
             ],
             [
              0.3333333333333333,
              "#9c179e"
             ],
             [
              0.4444444444444444,
              "#bd3786"
             ],
             [
              0.5555555555555556,
              "#d8576b"
             ],
             [
              0.6666666666666666,
              "#ed7953"
             ],
             [
              0.7777777777777778,
              "#fb9f3a"
             ],
             [
              0.8888888888888888,
              "#fdca26"
             ],
             [
              1,
              "#f0f921"
             ]
            ],
            "type": "contour"
           }
          ],
          "contourcarpet": [
           {
            "colorbar": {
             "outlinewidth": 0,
             "ticks": ""
            },
            "type": "contourcarpet"
           }
          ],
          "heatmap": [
           {
            "colorbar": {
             "outlinewidth": 0,
             "ticks": ""
            },
            "colorscale": [
             [
              0,
              "#0d0887"
             ],
             [
              0.1111111111111111,
              "#46039f"
             ],
             [
              0.2222222222222222,
              "#7201a8"
             ],
             [
              0.3333333333333333,
              "#9c179e"
             ],
             [
              0.4444444444444444,
              "#bd3786"
             ],
             [
              0.5555555555555556,
              "#d8576b"
             ],
             [
              0.6666666666666666,
              "#ed7953"
             ],
             [
              0.7777777777777778,
              "#fb9f3a"
             ],
             [
              0.8888888888888888,
              "#fdca26"
             ],
             [
              1,
              "#f0f921"
             ]
            ],
            "type": "heatmap"
           }
          ],
          "heatmapgl": [
           {
            "colorbar": {
             "outlinewidth": 0,
             "ticks": ""
            },
            "colorscale": [
             [
              0,
              "#0d0887"
             ],
             [
              0.1111111111111111,
              "#46039f"
             ],
             [
              0.2222222222222222,
              "#7201a8"
             ],
             [
              0.3333333333333333,
              "#9c179e"
             ],
             [
              0.4444444444444444,
              "#bd3786"
             ],
             [
              0.5555555555555556,
              "#d8576b"
             ],
             [
              0.6666666666666666,
              "#ed7953"
             ],
             [
              0.7777777777777778,
              "#fb9f3a"
             ],
             [
              0.8888888888888888,
              "#fdca26"
             ],
             [
              1,
              "#f0f921"
             ]
            ],
            "type": "heatmapgl"
           }
          ],
          "histogram": [
           {
            "marker": {
             "pattern": {
              "fillmode": "overlay",
              "size": 10,
              "solidity": 0.2
             }
            },
            "type": "histogram"
           }
          ],
          "histogram2d": [
           {
            "colorbar": {
             "outlinewidth": 0,
             "ticks": ""
            },
            "colorscale": [
             [
              0,
              "#0d0887"
             ],
             [
              0.1111111111111111,
              "#46039f"
             ],
             [
              0.2222222222222222,
              "#7201a8"
             ],
             [
              0.3333333333333333,
              "#9c179e"
             ],
             [
              0.4444444444444444,
              "#bd3786"
             ],
             [
              0.5555555555555556,
              "#d8576b"
             ],
             [
              0.6666666666666666,
              "#ed7953"
             ],
             [
              0.7777777777777778,
              "#fb9f3a"
             ],
             [
              0.8888888888888888,
              "#fdca26"
             ],
             [
              1,
              "#f0f921"
             ]
            ],
            "type": "histogram2d"
           }
          ],
          "histogram2dcontour": [
           {
            "colorbar": {
             "outlinewidth": 0,
             "ticks": ""
            },
            "colorscale": [
             [
              0,
              "#0d0887"
             ],
             [
              0.1111111111111111,
              "#46039f"
             ],
             [
              0.2222222222222222,
              "#7201a8"
             ],
             [
              0.3333333333333333,
              "#9c179e"
             ],
             [
              0.4444444444444444,
              "#bd3786"
             ],
             [
              0.5555555555555556,
              "#d8576b"
             ],
             [
              0.6666666666666666,
              "#ed7953"
             ],
             [
              0.7777777777777778,
              "#fb9f3a"
             ],
             [
              0.8888888888888888,
              "#fdca26"
             ],
             [
              1,
              "#f0f921"
             ]
            ],
            "type": "histogram2dcontour"
           }
          ],
          "mesh3d": [
           {
            "colorbar": {
             "outlinewidth": 0,
             "ticks": ""
            },
            "type": "mesh3d"
           }
          ],
          "parcoords": [
           {
            "line": {
             "colorbar": {
              "outlinewidth": 0,
              "ticks": ""
             }
            },
            "type": "parcoords"
           }
          ],
          "pie": [
           {
            "automargin": true,
            "type": "pie"
           }
          ],
          "scatter": [
           {
            "fillpattern": {
             "fillmode": "overlay",
             "size": 10,
             "solidity": 0.2
            },
            "type": "scatter"
           }
          ],
          "scatter3d": [
           {
            "line": {
             "colorbar": {
              "outlinewidth": 0,
              "ticks": ""
             }
            },
            "marker": {
             "colorbar": {
              "outlinewidth": 0,
              "ticks": ""
             }
            },
            "type": "scatter3d"
           }
          ],
          "scattercarpet": [
           {
            "marker": {
             "colorbar": {
              "outlinewidth": 0,
              "ticks": ""
             }
            },
            "type": "scattercarpet"
           }
          ],
          "scattergeo": [
           {
            "marker": {
             "colorbar": {
              "outlinewidth": 0,
              "ticks": ""
             }
            },
            "type": "scattergeo"
           }
          ],
          "scattergl": [
           {
            "marker": {
             "colorbar": {
              "outlinewidth": 0,
              "ticks": ""
             }
            },
            "type": "scattergl"
           }
          ],
          "scattermapbox": [
           {
            "marker": {
             "colorbar": {
              "outlinewidth": 0,
              "ticks": ""
             }
            },
            "type": "scattermapbox"
           }
          ],
          "scatterpolar": [
           {
            "marker": {
             "colorbar": {
              "outlinewidth": 0,
              "ticks": ""
             }
            },
            "type": "scatterpolar"
           }
          ],
          "scatterpolargl": [
           {
            "marker": {
             "colorbar": {
              "outlinewidth": 0,
              "ticks": ""
             }
            },
            "type": "scatterpolargl"
           }
          ],
          "scatterternary": [
           {
            "marker": {
             "colorbar": {
              "outlinewidth": 0,
              "ticks": ""
             }
            },
            "type": "scatterternary"
           }
          ],
          "surface": [
           {
            "colorbar": {
             "outlinewidth": 0,
             "ticks": ""
            },
            "colorscale": [
             [
              0,
              "#0d0887"
             ],
             [
              0.1111111111111111,
              "#46039f"
             ],
             [
              0.2222222222222222,
              "#7201a8"
             ],
             [
              0.3333333333333333,
              "#9c179e"
             ],
             [
              0.4444444444444444,
              "#bd3786"
             ],
             [
              0.5555555555555556,
              "#d8576b"
             ],
             [
              0.6666666666666666,
              "#ed7953"
             ],
             [
              0.7777777777777778,
              "#fb9f3a"
             ],
             [
              0.8888888888888888,
              "#fdca26"
             ],
             [
              1,
              "#f0f921"
             ]
            ],
            "type": "surface"
           }
          ],
          "table": [
           {
            "cells": {
             "fill": {
              "color": "#EBF0F8"
             },
             "line": {
              "color": "white"
             }
            },
            "header": {
             "fill": {
              "color": "#C8D4E3"
             },
             "line": {
              "color": "white"
             }
            },
            "type": "table"
           }
          ]
         },
         "layout": {
          "annotationdefaults": {
           "arrowcolor": "#2a3f5f",
           "arrowhead": 0,
           "arrowwidth": 1
          },
          "autotypenumbers": "strict",
          "coloraxis": {
           "colorbar": {
            "outlinewidth": 0,
            "ticks": ""
           }
          },
          "colorscale": {
           "diverging": [
            [
             0,
             "#8e0152"
            ],
            [
             0.1,
             "#c51b7d"
            ],
            [
             0.2,
             "#de77ae"
            ],
            [
             0.3,
             "#f1b6da"
            ],
            [
             0.4,
             "#fde0ef"
            ],
            [
             0.5,
             "#f7f7f7"
            ],
            [
             0.6,
             "#e6f5d0"
            ],
            [
             0.7,
             "#b8e186"
            ],
            [
             0.8,
             "#7fbc41"
            ],
            [
             0.9,
             "#4d9221"
            ],
            [
             1,
             "#276419"
            ]
           ],
           "sequential": [
            [
             0,
             "#0d0887"
            ],
            [
             0.1111111111111111,
             "#46039f"
            ],
            [
             0.2222222222222222,
             "#7201a8"
            ],
            [
             0.3333333333333333,
             "#9c179e"
            ],
            [
             0.4444444444444444,
             "#bd3786"
            ],
            [
             0.5555555555555556,
             "#d8576b"
            ],
            [
             0.6666666666666666,
             "#ed7953"
            ],
            [
             0.7777777777777778,
             "#fb9f3a"
            ],
            [
             0.8888888888888888,
             "#fdca26"
            ],
            [
             1,
             "#f0f921"
            ]
           ],
           "sequentialminus": [
            [
             0,
             "#0d0887"
            ],
            [
             0.1111111111111111,
             "#46039f"
            ],
            [
             0.2222222222222222,
             "#7201a8"
            ],
            [
             0.3333333333333333,
             "#9c179e"
            ],
            [
             0.4444444444444444,
             "#bd3786"
            ],
            [
             0.5555555555555556,
             "#d8576b"
            ],
            [
             0.6666666666666666,
             "#ed7953"
            ],
            [
             0.7777777777777778,
             "#fb9f3a"
            ],
            [
             0.8888888888888888,
             "#fdca26"
            ],
            [
             1,
             "#f0f921"
            ]
           ]
          },
          "colorway": [
           "#636efa",
           "#EF553B",
           "#00cc96",
           "#ab63fa",
           "#FFA15A",
           "#19d3f3",
           "#FF6692",
           "#B6E880",
           "#FF97FF",
           "#FECB52"
          ],
          "font": {
           "color": "#2a3f5f"
          },
          "geo": {
           "bgcolor": "white",
           "lakecolor": "white",
           "landcolor": "#E5ECF6",
           "showlakes": true,
           "showland": true,
           "subunitcolor": "white"
          },
          "hoverlabel": {
           "align": "left"
          },
          "hovermode": "closest",
          "mapbox": {
           "style": "light"
          },
          "paper_bgcolor": "white",
          "plot_bgcolor": "#E5ECF6",
          "polar": {
           "angularaxis": {
            "gridcolor": "white",
            "linecolor": "white",
            "ticks": ""
           },
           "bgcolor": "#E5ECF6",
           "radialaxis": {
            "gridcolor": "white",
            "linecolor": "white",
            "ticks": ""
           }
          },
          "scene": {
           "xaxis": {
            "backgroundcolor": "#E5ECF6",
            "gridcolor": "white",
            "gridwidth": 2,
            "linecolor": "white",
            "showbackground": true,
            "ticks": "",
            "zerolinecolor": "white"
           },
           "yaxis": {
            "backgroundcolor": "#E5ECF6",
            "gridcolor": "white",
            "gridwidth": 2,
            "linecolor": "white",
            "showbackground": true,
            "ticks": "",
            "zerolinecolor": "white"
           },
           "zaxis": {
            "backgroundcolor": "#E5ECF6",
            "gridcolor": "white",
            "gridwidth": 2,
            "linecolor": "white",
            "showbackground": true,
            "ticks": "",
            "zerolinecolor": "white"
           }
          },
          "shapedefaults": {
           "line": {
            "color": "#2a3f5f"
           }
          },
          "ternary": {
           "aaxis": {
            "gridcolor": "white",
            "linecolor": "white",
            "ticks": ""
           },
           "baxis": {
            "gridcolor": "white",
            "linecolor": "white",
            "ticks": ""
           },
           "bgcolor": "#E5ECF6",
           "caxis": {
            "gridcolor": "white",
            "linecolor": "white",
            "ticks": ""
           }
          },
          "title": {
           "x": 0.05
          },
          "xaxis": {
           "automargin": true,
           "gridcolor": "white",
           "linecolor": "white",
           "ticks": "",
           "title": {
            "standoff": 15
           },
           "zerolinecolor": "white",
           "zerolinewidth": 2
          },
          "yaxis": {
           "automargin": true,
           "gridcolor": "white",
           "linecolor": "white",
           "ticks": "",
           "title": {
            "standoff": 15
           },
           "zerolinecolor": "white",
           "zerolinewidth": 2
          }
         }
        },
        "title": {
         "font": {
          "size": 16
         },
         "text": "Successive Friday Returns with Fiscal Quarter End Lines"
        },
        "xaxis": {
         "anchor": "y",
         "domain": [
          0,
          1
         ],
         "title": {
          "text": "Date"
         }
        },
        "yaxis": {
         "anchor": "x",
         "domain": [
          0,
          1
         ],
         "title": {
          "text": "Rolling Mean of Positive Returns"
         }
        }
       }
      }
     },
     "metadata": {},
     "output_type": "display_data"
    }
   ],
   "source": [
    "#Day by Data Statistics\n",
    "\n",
    "sp500_daily= sp500#.resample('M').last()#.reset_index(inplace=True)\n",
    "sp500_daily_returns = sp500_daily.pct_change() * 100\n",
    "sp500_daily_returns['name of day'] = sp500_daily_returns.index.day_name()\n",
    "sp500_daily_returns['name of month'] = sp500_daily_returns.index.month_name()\n",
    "sp500_daily_returns['month/day'] = sp500_daily_returns.index.strftime('%m/%d') \n",
    "month_days = sp500_daily_returns['month/day'].unique()\n",
    "name_of_days= sp500_daily_returns['name of day'].unique()\n",
    "def convert_date(date):\n",
    "    try:\n",
    "        return pd.to_datetime(date, format='%m/%d')\n",
    "    except ValueError:\n",
    "        return None\n",
    "    \n",
    "converted_dates = [convert_date(x) for x in month_days]\n",
    "converted_dates = [date for date in converted_dates if date is not None]\n",
    "sorted_dates = sorted(converted_dates)\n",
    "sorted_dates = [date.strftime('%m/%d') for date in sorted_dates]\n",
    "\n",
    "data = []\n",
    "for month_day in sorted_dates:\n",
    "    data.append(sp500_daily_returns[sp500_daily_returns['month/day'] == month_day]['Close'].mean())\n",
    "\n",
    "\n",
    "fig = px.bar(y=data, x=sorted_dates, title='Average Returns for Each Day of the Year')\n",
    "fig.show()\n",
    "\n",
    "data = []\n",
    "for name_of_day in name_of_days:\n",
    "    data.append(sp500_daily_returns[sp500_daily_returns['name of day'] == name_of_day]['Close'].mean())\n",
    "fig = px.bar(y=data, x=name_of_days, title='Average Returns for Each Day')\n",
    "fig.show()\n",
    "\n",
    "\n",
    "days = ['Monday', 'Tuesday', 'Wednesday', 'Thursday', 'Friday']\n",
    "\n",
    "for day in days:\n",
    "    # Filter data for the current day\n",
    "    daily_returns = sp500_daily_returns[sp500_daily_returns['name of day'] == day]['Close']\n",
    "    \n",
    "    # Calculate the rolling mean of positive returns\n",
    "    rolling_mean = (daily_returns > 0).rolling(window=21).sum() / 21\n",
    "    \n",
    "    # Calculate statistics\n",
    "    mean_value = rolling_mean.mean()\n",
    "    std_dev = rolling_mean.std()\n",
    "    \n",
    "    # Calculate standard deviation lines\n",
    "    one_std_dev_up = mean_value + std_dev\n",
    "    one_std_dev_down = mean_value - std_dev\n",
    "    two_std_dev_up = mean_value + 2 * std_dev\n",
    "    two_std_dev_down = mean_value - 2 * std_dev\n",
    "    \n",
    "    # Create the plot\n",
    "    fig = px.bar(rolling_mean, title=f'Successive {day} Returns with Fiscal Quarter End Lines', color_discrete_sequence=['#1f77b4'])  # Change bar color to a contrasting blue\n",
    "    \n",
    "    # Add horizontal lines with distinct styles and colors\n",
    "    fig.add_hline(y=mean_value, line_width=3, line_dash=\"solid\", line_color=\"blue\", name='Mean')\n",
    "    fig.add_hline(y=one_std_dev_up, line_width=2, line_dash=\"dash\", line_color=\"orange\", name='Mean + 1 Std Dev')\n",
    "    fig.add_hline(y=one_std_dev_down, line_width=2, line_dash=\"dash\", line_color=\"orange\", name='Mean - 1 Std Dev')\n",
    "    fig.add_hline(y=two_std_dev_up, line_width=2, line_dash=\"dash\", line_color=\"purple\", name='Mean + 2 Std Dev')\n",
    "    fig.add_hline(y=two_std_dev_down, line_width=2, line_dash=\"dash\", line_color=\"purple\", name='Mean - 2 Std Dev')\n",
    "    \n",
    "    # Add shaded areas between the 1 and 2 standard deviation lines\n",
    "    fig.add_shape(\n",
    "        type=\"rect\",\n",
    "        x0=rolling_mean.index.min(),\n",
    "        x1=rolling_mean.index.max(),\n",
    "        y0=one_std_dev_up,\n",
    "        y1=two_std_dev_up,\n",
    "        fillcolor=\"rgba(255, 182, 193, 0.5)\",  # Light pink with 50% opacity\n",
    "        line=dict(width=0),\n",
    "        name='1 to 2 Std Dev'\n",
    "    )\n",
    "    fig.add_shape(\n",
    "        type=\"rect\",\n",
    "        x0=rolling_mean.index.min(),\n",
    "        x1=rolling_mean.index.max(),\n",
    "        y0=two_std_dev_down,\n",
    "        y1=one_std_dev_down,\n",
    "        fillcolor=\"rgba(255, 182, 193, 0.5)\",  # Light pink with 50% opacity\n",
    "        line=dict(width=0),\n",
    "        name='-2 to -1 Std Dev'\n",
    "    )\n",
    "    \n",
    "    # Add vertical lines at the end of each fiscal quarter\n",
    "    fiscal_quarter_end_dates = rolling_mean.index.to_period(\"Q\").to_timestamp().drop_duplicates()\n",
    "    for i, date in enumerate(fiscal_quarter_end_dates):\n",
    "        fig.add_vline(x=date, line_width=2, line_dash=\"dash\", line_color=\"gray\", name='Fiscal Quarter End')\n",
    "        \n",
    "        # Shade every other quarter with light grey from bottom to top of the graph\n",
    "        if i % 2 == 0:\n",
    "            fig.add_shape(\n",
    "                type=\"rect\",\n",
    "                x0=date - pd.DateOffset(days=90),\n",
    "                x1=date,\n",
    "                y0=0,  # Extend from the bottom of the graph\n",
    "                y1=1,  # Extend to the top of the graph\n",
    "                xref='x',  # Specify x-axis reference\n",
    "                yref='paper',  # Specify y-axis reference as the paper (full height of the plot)\n",
    "                fillcolor=\"rgba(200, 200, 200, 0.3)\",  # Light grey with 30% opacity\n",
    "                line=dict(width=0),\n",
    "                name='Quarter Background'\n",
    "            )\n",
    "        \n",
    "        # Add annotations for each fiscal quarter at the top of the plot\n",
    "        quarter_start = date - pd.DateOffset(days=90)  # Approximate start of the quarter area\n",
    "        quarter_end = date  # End of the quarter area\n",
    "        quarter_mid = quarter_start + (quarter_end - quarter_start) / 2  # Midpoint of the quarter area\n",
    "        \n",
    "        quarter_label = f\"{str(date.year)[-2:]}: Q{date.quarter}\"\n",
    "        fig.add_annotation(\n",
    "            x=quarter_mid,\n",
    "            y=1.02,  # Position slightly above the top of the plot\n",
    "            text=quarter_label,\n",
    "            showarrow=False,\n",
    "            font=dict(size=12, color=\"black\"),\n",
    "            align=\"center\",\n",
    "            xanchor='center',\n",
    "            yanchor='bottom'\n",
    "        )\n",
    "    \n",
    "    # Update layout to include a more descriptive legend\n",
    "    fig.update_layout(\n",
    "        legend_title_text='Statistics',\n",
    "        legend=dict(x=0, y=-0.2, orientation=\"h\"),\n",
    "        xaxis_title='Date',\n",
    "        yaxis_title='Rolling Mean of Positive Returns',\n",
    "        title_font_size=16,\n",
    "        height=600,\n",
    "        legend_title_font_size=14,\n",
    "        plot_bgcolor='white',  # Ensure the plot background is white\n",
    "        paper_bgcolor='white',  # Ensure the overall paper background is white\n",
    "        font_color='black'  # Ensure text is black for contrast\n",
    "    )\n",
    "    \n",
    "    # Show the plot\n",
    "    fig.show()"
   ]
  },
  {
   "cell_type": "code",
   "execution_count": 16,
   "metadata": {},
   "outputs": [],
   "source": [
    "#Parameters\n",
    "#Retrieve Asset Information\n",
    "sp500_url = 'https://en.wikipedia.org/wiki/List_of_S%26P_500_companies'\n",
    "dow_url = 'https://en.wikipedia.org/wiki/Dow_Jones_Industrial_Average'\n",
    "nasdaq_url = 'https://en.wikipedia.org/wiki/NASDAQ-100'\n",
    "\n",
    "\n",
    "time_frame_week = 7\n",
    "time_frame_short = 21\n",
    "time_frame_mid   = 50\n",
    "time_frame_long = 200\n",
    "period     = '10y'\n",
    "\n",
    "risk_free_rate = 0.02 / 252  # Annualized risk-free rate divided by trading days\n",
    "benchmark = 'SPY'\n"
   ]
  },
  {
   "cell_type": "code",
   "execution_count": 17,
   "metadata": {},
   "outputs": [],
   "source": [
    "#Methods & Classes\n",
    "#Define Parameters\n",
    "\n",
    "import numpy as np\n",
    "import pandas as pd\n",
    "\n",
    "import statsmodels\n",
    "import statsmodels.api as sm\n",
    "from statsmodels.tsa.stattools import coint\n",
    "from IPython.display import display\n",
    "\n",
    "import matplotlib.pyplot as plt\n",
    "import plotly.express as px\n",
    "from plotly.subplots import make_subplots\n",
    "import plotly.graph_objects as go\n",
    "\n",
    "import plotly.graph_objects as go\n",
    "import yfinance as yf\n",
    "from concurrent.futures import ThreadPoolExecutor\n",
    "\n",
    "#plt.rcParams[\"figure.figsize\"] = (20, 7)\n",
    "\n",
    "\n",
    "def calculate_sortino_ratio(returns):\n",
    "    excess_returns = returns - risk_free_rate\n",
    "    downside_deviation = excess_returns[excess_returns < 0].std()\n",
    "    sortino_ratio = excess_returns.mean() / downside_deviation if downside_deviation != 0 else np.nan\n",
    "    return sortino_ratio\n",
    "\n",
    "def calculate_risk_adjusted_returns(df, time_frame):\n",
    "    daily_returns = df.pct_change()\n",
    "    rolling_sortino_ratio = daily_returns.rolling(window=time_frame).apply(calculate_sortino_ratio)\n",
    "    return rolling_sortino_ratio\n",
    "\n",
    "def generate_series(tickers):\n",
    "    tickers = [ticker.replace('.', '-') for ticker in tickers]\n",
    "    try:\n",
    "        df = yf.download(tickers, period=period)['Close']\n",
    "    except Exception as e:\n",
    "        print(f\"An error occurred while fetching data: {e}\")\n",
    "        return pd.DataFrame()  \n",
    "    df.columns = [col.replace('-', '.') for col in df.columns]\n",
    "    return df\n",
    "\n",
    "\n",
    "def plot_returns(returns, time_frame):\n",
    "    threshold = 0\n",
    "    fig = px.line(returns , x=returns.index, y=returns.columns)\n",
    "    fig.add_hline(y=threshold, line_dash=\"dash\", line_color=\"red\", annotation_text=f\"y={threshold}\")\n",
    "    fig.add_hline(y=threshold, line_dash=\"dash\", line_color=\"red\", annotation_text=f\"y={threshold}\")\n",
    "    fig.show()\n",
    "\n",
    "def create_spreads(asset_series, benchmark_series, time_frame, mode='standard'):\n",
    "    \n",
    "    if mode == 'standard':\n",
    "        asset_returns = asset_series.pct_change(time_frame)\n",
    "        benchmark_returns= benchmark_series.pct_change(time_frame)\n",
    "    elif mode == 'sortino':\n",
    "        asset_returns = calculate_risk_adjusted_returns(asset_series, time_frame)\n",
    "        benchmark_returns= calculate_risk_adjusted_returns(benchmark_series, time_frame)\n",
    "\n",
    "    benchmark_minus_asset = asset_returns.apply(lambda x: benchmark_returns - x)\n",
    "    benchmark_minus_asset.columns = [\"Benchmark\" + \"_minus_\" + col for col in benchmark_minus_asset.columns]\n",
    "    return benchmark_minus_asset    \n",
    "\n",
    "def create_spread_plot(asset_spreads):\n",
    "    spread_threshold = 0\n",
    "    spread           = asset_spreads.last('1Y') \n",
    "    mean             = spread[spread>=0].mean()\n",
    "    std_dev = spread[spread >= 0].std()\n",
    "    #spread = asset_spreads[:200]\n",
    "\n",
    "\n",
    "    fig = px.line(spread)\n",
    "    fig.update_layout(title=asset_spreads.name)\n",
    "    fig.add_hline(y=spread_threshold, line_dash=\"dash\", line_color=\"red\", annotation_text=f\"y={spread_threshold}\")\n",
    "    fig.add_hline(y=mean , line_color=\"red\", annotation_text=\"mean\")\n",
    "    fig.add_hline(y=mean + std_dev, line_dash=\"dash\", line_color=\"blue\", \n",
    "                  annotation_text=\"mean + 1 std dev\", annotation_position=\"bottom right\")\n",
    "    fig.add_hline(y=mean - std_dev, line_dash=\"dash\", line_color=\"blue\", \n",
    "                  annotation_text=\"mean - 1 std dev\", annotation_position=\"bottom right\")\n",
    "    fig.add_hline(y=mean + 2*std_dev, line_dash=\"dot\", line_color=\"green\", \n",
    "                  annotation_text=\"mean + 2 std dev\", annotation_position=\"bottom right\")\n",
    "    fig.add_hline(y=mean - 2*std_dev, line_dash=\"dot\", line_color=\"green\", \n",
    "                  annotation_text=\"mean - 2 std dev\", annotation_position=\"bottom right\")\n",
    "    fig.add_shape(type=\"rect\",\n",
    "                  xref=\"paper\", yref=\"y\",\n",
    "                  x0=0, y0=mean, x1=1, y1=spread.max(),\n",
    "                  fillcolor=\"green\", opacity=0.2, line_width=0)\n",
    "    #fig.update_layout(height=800)\n",
    "    return fig\n",
    "\n",
    "def create_side_by_side_subplots(fig1, fig2):\n",
    "    fig = make_subplots(rows=1, cols=2, subplot_titles=(fig1.layout.title.text, fig2.layout.title.text))\n",
    "    \n",
    "    for trace in fig1.data:\n",
    "        fig.add_trace(trace,row=1,col=1)\n",
    "\n",
    "    for trace in fig2.data:\n",
    "        fig.add_trace(trace,row=1,col=2)\n",
    "    \n",
    "    return fig\n",
    "\n",
    "def plot_multiple_spreads(assets):\n",
    "    for column in assets:\n",
    "       asset_spreads = assets[column]\n",
    "       create_spread_plot(asset_spreads).show()\n",
    "\n",
    "\n",
    "def plot_risk_adjusted_returns(series, time_frame):\n",
    "    series_adjusted_returns = calculate_risk_adjusted_returns(series, time_frame)\n",
    "    series_adjusted_returns_last_year = series_adjusted_returns.last('1Y')  # Filter data to only include the last year\n",
    "    \n",
    "    negative_returns = series_adjusted_returns_last_year[series_adjusted_returns_last_year < 0]\n",
    "    mean = negative_returns.mean()\n",
    "    standard_deviation = negative_returns.std()\n",
    "    standard_deviation_level_three_fourths = mean - 0.5 * standard_deviation\n",
    "    standard_deviation_level_single = mean - standard_deviation\n",
    "\n",
    "    fig = px.line(series_adjusted_returns_last_year)\n",
    "\n",
    "    fig.add_hline(y=0, line_dash=\"dash\", line_color=\"black\", \n",
    "                  annotation_text=\"Zero Line\", annotation_position=\"bottom right\")\n",
    "    fig.add_hline(y=mean, line_dash=\"dot\", line_color=\"blue\", \n",
    "                  annotation_text=f\"Mean of negative returns: {mean:.2f}\", annotation_position=\"top right\")\n",
    "    fig.add_hline(y=standard_deviation_level_three_fourths, line_dash=\"dashdot\", line_color=\"red\", \n",
    "                  annotation_text=f\".75 Std Dev: {standard_deviation_level_three_fourths:.2f}\", annotation_position=\"top right\")\n",
    "    fig.add_hline(y=standard_deviation_level_single, line_dash=\"dashdot\", line_color=\"red\", \n",
    "                  annotation_text=f\"1 Std Dev: {standard_deviation_level_single:.2f}\", annotation_position=\"top right\")\n",
    "\n",
    "    fig.add_shape(\n",
    "        type=\"rect\",\n",
    "        x0=series_adjusted_returns_last_year.index.min(),\n",
    "        x1=series_adjusted_returns_last_year.index.max(),\n",
    "        y0=standard_deviation_level_three_fourths,\n",
    "        y1=standard_deviation_level_single,\n",
    "        fillcolor=\"green\",\n",
    "        opacity=0.2,\n",
    "        line_width=0,\n",
    "    )\n",
    "    \n",
    "    return fig\n",
    "\n",
    "def filter_assets_by_positive_spread_std(asset_spreads):\n",
    "    spreads = asset_spreads\n",
    "    positive_spreads = spreads[spreads >= 0] \n",
    "    \n",
    "    mean = positive_spreads.mean()\n",
    "    std_dev = positive_spreads.std()\n",
    "\n",
    "    latest_spread = spreads.iloc[-1]\n",
    "    threshold = mean + std_dev\n",
    "\n",
    "    return latest_spread>=threshold\n",
    "\n",
    "\n",
    "def filter_assets_below_negative_std(asset_spreads):\n",
    "    if not isinstance(asset_spreads, pd.Series):\n",
    "        raise TypeError(\"asset_spreads must be a pandas Series\")\n",
    "\n",
    "    negative_spreads = asset_spreads[asset_spreads < 0]\n",
    "    if negative_spreads.empty:\n",
    "        return pd.Series(dtype=bool)  \n",
    "    \n",
    "    mean_negative = negative_spreads.mean()\n",
    "    std_dev_negative = negative_spreads.std()\n",
    "\n",
    "    threshold_negative = mean_negative - 0.75 * std_dev_negative\n",
    "    return asset_spreads < threshold_negative\n",
    "\n",
    "def get_sector_info(ticker):\n",
    "    try:\n",
    "        stock = yf.Ticker(ticker)\n",
    "        sector = stock.info.get('sector', 'N/A')\n",
    "        sub_industry = stock.info.get('industry', 'N/A')\n",
    "        return {'Ticker': ticker, 'Sector': sector, 'Sub-Industry': sub_industry}\n",
    "    except Exception as e:\n",
    "        print(f\"Error fetching data for {ticker}: {e}\")\n",
    "        return {'Ticker': ticker, 'Sector': 'N/A', 'Sub-Industry': 'N/A'}\n",
    "\n",
    "def fetch_ticker_info(ticker):\n",
    "    info = get_sector_info(ticker)\n",
    "    market_cap = yf.Ticker(ticker).info.get('marketCap')\n",
    "    return info['Sector'], info['Sub-Industry'], market_cap\n",
    "\n",
    "def get_market_caps(table):\n",
    "    print(\"Starting market cap retrieval process...\")\n",
    "    \n",
    "    tickers = table['Symbol'].tolist()\n",
    "    print(f\"Original tickers: {tickers[:10]}...\")  # Print first 10 for brevity\n",
    "\n",
    "    # Optimize ticker adjustment\n",
    "    tickers = ['BRK-B' if symbol == 'BRK.B' else 'BF-B' if symbol == 'BF.B' else symbol for symbol in tickers]\n",
    "    print(f\"Adjusted tickers: {tickers[:10]}...\")  # Print first 10 for brevity\n",
    "\n",
    "    with ThreadPoolExecutor() as executor:\n",
    "        results = list(executor.map(fetch_ticker_info, tickers))\n",
    "\n",
    "    # Unpack results\n",
    "    sectors, sub_industries, market_caps = zip(*results)\n",
    "\n",
    "    table['Sector'] = sectors\n",
    "    table['Sub-Industry'] = sub_industries\n",
    "    table['Market Cap'] = market_caps\n",
    "    \n",
    "    print(\"Market cap retrieval process completed.\")\n",
    "    return table\n",
    "\n",
    "def plot_market_caps(info):\n",
    "    market_caps = pd.DataFrame(info[['Symbol','Market Cap']])\n",
    "    #market_caps = market_caps.sort_values(by='Market Cap',ascending=False)\n",
    "    market_caps = market_caps.sort_values(by='Market Cap')\n",
    "    market_caps['Log Market Cap'] = np.log(market_caps['Market Cap'])\n",
    "    percentiles = np.percentile(market_caps['Log Market Cap'], [60, 90])\n",
    "\n",
    "    def categorize(market_cap):\n",
    "        if market_cap <= percentiles[0]:\n",
    "            return 'Small-Cap'\n",
    "        elif market_cap <= percentiles[1]:\n",
    "            return 'Mid-Cap'\n",
    "        else:\n",
    "            return 'Large-Cap'\n",
    "\n",
    "    market_caps['category'] = market_caps['Log Market Cap'].apply(categorize)\n",
    "    value_counts = market_caps['category'].value_counts()\n",
    "    fig = px.bar(market_caps, x='Symbol', y='Market Cap', \n",
    "                labels={'Ticker': 'Symbol', 'Market Cap': 'Market Cap (Billions USD)'},\n",
    "                title='Market Capitalizations Companies')\n",
    "\n",
    "    # Customize layout if needed\n",
    "    fig.update_layout(\n",
    "        xaxis_title=\"Ticker\",\n",
    "        yaxis_title=\"Market Cap (Billions USD)\"\n",
    "    )\n",
    "    mid_to_large= len(market_caps) - market_caps.tail(value_counts['Large-Cap']).count()['Symbol']+ 2.5\n",
    "    small_to_mid= market_caps.tail(value_counts['Small-Cap']).count()['Symbol'] - .5\n",
    "    market_caps[market_caps['category'] == 'Mid-Cap']\n",
    "\n",
    "    # Add vertical lines to separate the caps\n",
    "    fig.add_vline(x=small_to_mid, line=dict(color=\"Red\", width=2, dash=\"dashdot\"), annotation_text=\"Small to Mid\", annotation_position=\"top left\")\n",
    "    fig.add_vline(x=mid_to_large, line=dict(color=\"Blue\", width=2, dash=\"dashdot\"), annotation_text=\"Mid to Large\", annotation_position=\"top left\")\n",
    "\n",
    "    fig.show()"
   ]
  },
  {
   "cell_type": "code",
   "execution_count": 18,
   "metadata": {},
   "outputs": [],
   "source": [
    "#Load: retrieve all tickers\n",
    "\n",
    "\n",
    "sp500_table = pd.read_html(sp500_url)[0]\n",
    "qqq_table = pd.read_html(nasdaq_url)[4]\n",
    "dia_table = pd.read_html(dow_url)[1]\n",
    "\n",
    "sp500_table = sp500_table[['Symbol', 'GICS Sector', 'GICS Sub-Industry']]\n",
    "sp500_table = sp500_table.rename(columns={'GICS Sector' : 'Sector', \"GICS Sub-Industry\": 'Sub-Industry'})\n",
    "\n",
    "qqq_table = qqq_table[['Ticker', 'GICS Sector', 'GICS Sub-Industry']]\n",
    "qqq_table = qqq_table.rename(columns={'Ticker' : 'Symbol','GICS Sector' : 'Sector', \"GICS Sub-Industry\": 'Sub-Industry'})\n",
    "qqq_table = pd.merge(qqq_table, sp500_table[['Symbol', 'Sub-Industry']], on='Symbol', how='left')\n",
    "qqq_table['Sub-Industry'] = qqq_table['Sub-Industry_x'].combine_first(qqq_table['Sub-Industry_y'])\n",
    "qqq_table = qqq_table.drop(columns=['Sub-Industry_x', 'Sub-Industry_y'])\n",
    "\n",
    "tables = pd.read_html(dow_url)\n",
    "dia_table = tables[1]\n",
    "dia_table = dia_table[['Symbol', 'Industry']]\n",
    "dia_table = pd.merge(dia_table, sp500_table[['Symbol', 'Sector']], on='Symbol', how='left')\n",
    "dia_table = pd.merge(dia_table, sp500_table[['Symbol', 'Sub-Industry']], on='Symbol', how='left')\n",
    "dia_table = dia_table.drop(columns=['Industry'])\n",
    "\n",
    "xlk_table = sp500_table[sp500_table['Sector'] == 'Information Technology']\n",
    "xlf_table = sp500_table[sp500_table['Sector'] == 'Financials']\n",
    "xlv_table = sp500_table[sp500_table['Sector'] == 'Health Care']\n",
    "xli_table = sp500_table[sp500_table['Sector'] == 'Industrials']\n",
    "xly_table = sp500_table[sp500_table['Sector'] == 'Consumer Discretionary']\n",
    "xle_table = sp500_table[sp500_table['Sector'] == 'Energy']\n",
    "xlb_table = sp500_table[sp500_table['Sector'] == 'Materials']\n",
    "xlc_table = sp500_table[sp500_table['Sector'] == 'Communication Services']\n",
    "xlre_table = sp500_table[sp500_table['Sector'] == 'Real Estate']\n",
    "xlc_table = sp500_table[sp500_table['Sector'] == 'Communication Services']\n",
    "xlp_table = sp500_table[sp500_table['Sector'] == 'Consumer Staples']\n",
    "xlu_table = sp500_table[sp500_table['Sector'] == 'Utilities']\n",
    "\n",
    "INDICES          = ['SPY','QQQ','DIA','IWM']\n",
    "SECTORS          = ['SPY','XLF','XLK','XLV','XLC','XLI','XLU','XLB','VNQ','XLP','XLY','XBI','XLE']\n",
    "INDUSTRIES       = ['SPY', 'SMH', 'KRE','KIE', 'KBE']\n",
    "SPY_HOLDINGS     = sp500_table['Symbol'].tolist()\n",
    "QQQ_HOLDINGS     = qqq_table['Symbol'].tolist()\n",
    "DIA_HOLDINGS     = dia_table['Symbol'].tolist()\n",
    "XLK_HOLDINGS     = xlk_table['Symbol'].tolist()\n",
    "XLF_HOLDINGS     = xlf_table['Symbol'].tolist()\n",
    "XLI_HOLDINGS     = xli_table['Symbol'].tolist()\n",
    "XLV_HOLDINGS     = xlv_table['Symbol'].tolist()\n",
    "XLU_HOLDINGS     = xlu_table['Symbol'].tolist()\n",
    "XLF_HOLDINGS     = xlf_table['Symbol'].tolist()\n",
    "XLB_HOLDINGS     = xlb_table['Symbol'].tolist()\n",
    "XLY_HOLDINGS     = xly_table['Symbol'].tolist()\n",
    "XLRE_HOLDINGS    = xlre_table['Symbol'].tolist()\n",
    "XLC_HOLDINGS     = xlc_table['Symbol'].tolist()\n",
    "XLE_HOLDINGS     = xle_table['Symbol'].tolist()\n",
    "XLP_HOLDINGS     = xlp_table['Symbol'].tolist()\n",
    "BONDS            = ['AGG','IEF','TLT', 'HYG','LQD','TIPS', 'BKLN']\n",
    "PRECIOUS_METALS  = ['GLD','SLV','GDX','XME']\n",
    "CRYPTO           = ['GBTC','BLOK']\n",
    "ENERGY           = ['USO','UNG','OIH','XOP','TAN','ICLN','URA','URNM','GUSH','KOLD']\n",
    "CAPITALIZATIONS  = ['SPY', 'IJH' , 'IJR']\n",
    "INNOVATION       = ['ARKG','ARKF','ARKK']\n",
    "LONG_LEVERAGE    = ['TQQQ','SOXL','SPXL','TNA','BOIL','NUGT','ERX','DPST']\n",
    "SHORT_LEVERAGE   = ['SQQQ','SPXS','UDOW','SSO','TECL','FAS','NVDA','TQQQ', 'VXX','UVXY','VIXY','UVIX','SVXY','SOXS','TZA','USD','TSLL','LABU','DPST','NUGT','CONL']\n",
    "FOREIGN_MARKETS  = ['EWZ','EWJ','EWA','EWG','EWW','EEM','EFA','FEZ','INDA','EWU','EWG']\n",
    "\n"
   ]
  },
  {
   "cell_type": "code",
   "execution_count": 19,
   "metadata": {},
   "outputs": [
    {
     "name": "stdout",
     "output_type": "stream",
     "text": [
      "Starting market cap retrieval process...\n",
      "Original tickers: ['ADBE', 'ABNB', 'GOOGL', 'GOOG', 'AMZN', 'AMD', 'AEP', 'AMGN', 'ADI', 'ANSS']...\n",
      "Adjusted tickers: ['ADBE', 'ABNB', 'GOOGL', 'GOOG', 'AMZN', 'AMD', 'AEP', 'AMGN', 'ADI', 'ANSS']...\n",
      "Market cap retrieval process completed.\n",
      "Starting market cap retrieval process...\n",
      "Original tickers: ['ADBE', 'ABNB', 'GOOGL', 'GOOG', 'AMZN', 'AMD', 'AEP', 'AMGN', 'ADI', 'ANSS']...\n",
      "Adjusted tickers: ['ADBE', 'ABNB', 'GOOGL', 'GOOG', 'AMZN', 'AMD', 'AEP', 'AMGN', 'ADI', 'ANSS']...\n",
      "Market cap retrieval process completed.\n",
      "Starting market cap retrieval process...\n",
      "Original tickers: ['MMM', 'AOS', 'ABT', 'ABBV', 'ACN', 'ADBE', 'AMD', 'AES', 'AFL', 'A']...\n",
      "Adjusted tickers: ['MMM', 'AOS', 'ABT', 'ABBV', 'ACN', 'ADBE', 'AMD', 'AES', 'AFL', 'A']...\n",
      "Market cap retrieval process completed.\n"
     ]
    }
   ],
   "source": [
    "#Load: retrieve market caps\n",
    "\n",
    "\n",
    "\n",
    "dow_info    = get_market_caps(qqq_table)\n",
    "nasdaq_info = get_market_caps(qqq_table)\n",
    "sp500_info  = get_market_caps(sp500_table)\n",
    "\n",
    "xlk_info    = sp500_info[ sp500_info['Sector'] == 'Technology']\n",
    "xlf_info    = sp500_info[sp500_info['Sector'] == 'Financial Services']\n",
    "xli_info    = sp500_info[ sp500_info['Sector'] == 'Industrials']\n",
    "xlv_info    = sp500_info[sp500_info['Sector'] == 'Healthcare']\n",
    "xlu_info    = sp500_info[ sp500_info['Sector'] == 'Utilities']\n",
    "xlb_info    = sp500_info[sp500_info['Sector'] == 'Basic Materials']\n",
    "xly_info    = sp500_info[ sp500_info['Sector'] == 'Consumer Cyclical']\n",
    "xlc_info    = sp500_info[sp500_info['Sector'] == 'Communication Services']\n",
    "xle_info    = sp500_info[ sp500_info['Sector'] == 'Energy']\n",
    "xlre_info    = sp500_info[ sp500_info['Sector'] == 'Real Estate']\n",
    "xlp_info    = sp500_info[ sp500_info['Sector'] == 'Consumer Defensive']"
   ]
  },
  {
   "cell_type": "code",
   "execution_count": 20,
   "metadata": {},
   "outputs": [
    {
     "name": "stderr",
     "output_type": "stream",
     "text": [
      "[*********************100%%**********************]  4 of 4 completed\n",
      "[*********************100%%**********************]  13 of 13 completed\n",
      "[*********************100%%**********************]  5 of 5 completed\n",
      "[*********************100%%**********************]  101 of 101 completed\n",
      "\n",
      "7 Failed downloads:\n",
      "['GFS', 'CEG', 'ABNB', 'DASH', 'DDOG']: YFInvalidPeriodError(\"%ticker%: Period '10y' is invalid, must be one of ['1d', '5d', '1mo', '3mo', '6mo', '1y', '2y', '5y', 'ytd', 'max']\")\n",
      "['ARM']: YFInvalidPeriodError(\"%ticker%: Period '10y' is invalid, must be one of ['1d', '5d', '1mo', '3mo', '6mo', '1y', 'ytd', 'max']\")\n",
      "['GEHC']: YFInvalidPeriodError(\"%ticker%: Period '10y' is invalid, must be one of ['1d', '5d', '1mo', '3mo', '6mo', '1y', '2y', 'ytd', 'max']\")\n",
      "[*********************100%%**********************]  30 of 30 completed\n",
      "[*********************100%%**********************]  67 of 67 completed\n",
      "[*********************100%%**********************]  71 of 71 completed\n",
      "[*********************100%%**********************]  78 of 78 completed\n",
      "\n",
      "4 Failed downloads:\n",
      "['CARR', 'OTIS']: YFInvalidPeriodError(\"%ticker%: Period '10y' is invalid, must be one of ['1d', '5d', '1mo', '3mo', '6mo', '1y', '2y', '5y', 'ytd', 'max']\")\n",
      "['VLTO']: YFInvalidPeriodError(\"%ticker%: Period '10y' is invalid, must be one of ['1d', '5d', '1mo', '3mo', '6mo', '1y', 'ytd', 'max']\")\n",
      "['GEV']: YFInvalidPeriodError(\"%ticker%: Period '10y' is invalid, must be one of ['1d', '5d', '1mo', '3mo', '6mo', 'ytd', 'max']\")\n",
      "[*********************100%%**********************]  63 of 63 completed\n",
      "\n",
      "2 Failed downloads:\n",
      "['SOLV']: YFInvalidPeriodError(\"%ticker%: Period '10y' is invalid, must be one of ['1d', '5d', '1mo', '3mo', '6mo', 'ytd', 'max']\")\n",
      "['GEHC']: YFInvalidPeriodError(\"%ticker%: Period '10y' is invalid, must be one of ['1d', '5d', '1mo', '3mo', '6mo', '1y', '2y', 'ytd', 'max']\")\n",
      "[*********************100%%**********************]  31 of 31 completed\n",
      "\n",
      "1 Failed download:\n",
      "['CEG']: YFInvalidPeriodError(\"%ticker%: Period '10y' is invalid, must be one of ['1d', '5d', '1mo', '3mo', '6mo', '1y', '2y', '5y', 'ytd', 'max']\")\n",
      "[*********************100%%**********************]  28 of 28 completed\n",
      "\n",
      "1 Failed download:\n",
      "['SW']: YFInvalidPeriodError(\"%ticker%: Period '10y' is invalid, must be one of ['1d', '5d', '1mo', 'ytd', 'max']\")\n",
      "[*********************100%%**********************]  52 of 52 completed\n",
      "\n",
      "1 Failed download:\n",
      "['ABNB']: YFInvalidPeriodError(\"%ticker%: Period '10y' is invalid, must be one of ['1d', '5d', '1mo', '3mo', '6mo', '1y', '2y', '5y', 'ytd', 'max']\")\n",
      "[*********************100%%**********************]  22 of 22 completed\n",
      "[*********************100%%**********************]  22 of 22 completed\n",
      "[*********************100%%**********************]  31 of 31 completed\n",
      "[*********************100%%**********************]  38 of 38 completed\n",
      "\n",
      "1 Failed download:\n",
      "['KVUE']: YFInvalidPeriodError(\"%ticker%: Period '10y' is invalid, must be one of ['1d', '5d', '1mo', '3mo', '6mo', '1y', '2y', 'ytd', 'max']\")\n"
     ]
    }
   ],
   "source": [
    "#Load: retrieve prices\n",
    "\n",
    "\n",
    "indices_df             = generate_series(INDICES)\n",
    "sectors_df            = generate_series(SECTORS)\n",
    "industries_df         = generate_series(INDUSTRIES)\n",
    "qqq_holdings_df        = generate_series(QQQ_HOLDINGS)\n",
    "dia_holdings_df        = generate_series(DIA_HOLDINGS)\n",
    "xlk_holdings_df       = generate_series(XLK_HOLDINGS)\n",
    "xlf_holdings_df      = generate_series(XLF_HOLDINGS)\n",
    "xli_holdings_df        = generate_series(XLI_HOLDINGS)\n",
    "xlv_holdings_df       = generate_series(XLV_HOLDINGS)\n",
    "xlu_holdings_df        = generate_series(XLU_HOLDINGS)\n",
    "xlb_holdings_df        = generate_series(XLB_HOLDINGS)\n",
    "xly_holdings_df        = generate_series(XLY_HOLDINGS)\n",
    "xlc_holdings_df       = generate_series(XLC_HOLDINGS)\n",
    "xle_holdings_df        = generate_series(XLE_HOLDINGS)\n",
    "xlre_holdings_df       = generate_series(XLRE_HOLDINGS)\n",
    "xlp_holdings_df        = generate_series(XLP_HOLDINGS)\n",
    "\n",
    "\n",
    "all_series = pd.concat([\n",
    "    indices_df,\n",
    "    sectors_df,\n",
    "    industries_df,\n",
    "    qqq_holdings_df,\n",
    "    dia_holdings_df,\n",
    "    xlk_holdings_df,\n",
    "    xlf_holdings_df,\n",
    "    xli_holdings_df,\n",
    "    xlv_holdings_df,\n",
    "    xlu_holdings_df,\n",
    "    xlb_holdings_df,\n",
    "    xly_holdings_df,\n",
    "    xlc_holdings_df,\n",
    "    xle_holdings_df,\n",
    "    xlre_holdings_df,\n",
    "    xlp_holdings_df,\n",
    "], axis=1)\n",
    "\n",
    "benchmark_series           = all_series[benchmark]\n",
    "benchmark_series=benchmark_series.loc[:, ~benchmark_series.columns.duplicated()]\n",
    "\n",
    "all_series = pd.concat([\n",
    "    all_series,\n",
    "    benchmark_series\n",
    "], axis=1)\n",
    "\n",
    "benchmark_series = pd.Series(benchmark_series['SPY'])\n",
    "all_series=all_series.loc[:, ~all_series.columns.duplicated()]\n"
   ]
  },
  {
   "cell_type": "code",
   "execution_count": 21,
   "metadata": {},
   "outputs": [
    {
     "name": "stderr",
     "output_type": "stream",
     "text": [
      "C:\\Users\\kevin\\AppData\\Local\\Temp\\ipykernel_15944\\2813995731.py:56: FutureWarning:\n",
      "\n",
      "The default fill_method='pad' in DataFrame.pct_change is deprecated and will be removed in a future version. Either fill in any non-leading NA values prior to calling pct_change or specify 'fill_method=None' to not fill NA values.\n",
      "\n",
      "C:\\Users\\kevin\\AppData\\Local\\Temp\\ipykernel_15944\\2813995731.py:56: FutureWarning:\n",
      "\n",
      "The default fill_method='pad' in DataFrame.pct_change is deprecated and will be removed in a future version. Either fill in any non-leading NA values prior to calling pct_change or specify 'fill_method=None' to not fill NA values.\n",
      "\n",
      "C:\\Users\\kevin\\AppData\\Local\\Temp\\ipykernel_15944\\2813995731.py:56: FutureWarning:\n",
      "\n",
      "The default fill_method='pad' in DataFrame.pct_change is deprecated and will be removed in a future version. Either fill in any non-leading NA values prior to calling pct_change or specify 'fill_method=None' to not fill NA values.\n",
      "\n"
     ]
    }
   ],
   "source": [
    "#Calculate: spreads\n",
    "mode='standard'\n",
    "\n",
    "benchmark_minus_indices_week          = create_spreads(indices_df, benchmark_series, time_frame=time_frame_week,mode=mode)\n",
    "benchmark_minus_sectors_week          = create_spreads(sectors_df, benchmark_series, time_frame=time_frame_week,mode=mode)\n",
    "benchmark_minus_industries_week       = create_spreads(industries_df, benchmark_series, time_frame=time_frame_week,mode=mode)\n",
    "benchmark_minus_dia_holdings_week       = create_spreads(dia_holdings_df, benchmark_series, time_frame=time_frame_week,mode=mode)\n",
    "benchmark_minus_qqq_holdings_week       = create_spreads(qqq_holdings_df, benchmark_series, time_frame=time_frame_week,mode=mode)\n",
    "benchmark_minus_xlk_holdings_week       = create_spreads(xlk_holdings_df, benchmark_series, time_frame=time_frame_week,mode=mode)\n",
    "benchmark_minus_xlf_holdings_week       = create_spreads(xlf_holdings_df, benchmark_series, time_frame=time_frame_week,mode=mode)\n",
    "benchmark_minus_xli_holdings_week       = create_spreads(xli_holdings_df, benchmark_series, time_frame=time_frame_week,mode=mode)\n",
    "benchmark_minus_xlv_holdings_week       = create_spreads(xlv_holdings_df, benchmark_series, time_frame=time_frame_week,mode=mode)\n",
    "benchmark_minus_xlu_holdings_week       = create_spreads(xlu_holdings_df, benchmark_series, time_frame=time_frame_week,mode=mode)\n",
    "benchmark_minus_xlb_holdings_week       = create_spreads(xlb_holdings_df, benchmark_series, time_frame=time_frame_week,mode=mode)\n",
    "benchmark_minus_xly_holdings_week       = create_spreads(xly_holdings_df, benchmark_series, time_frame=time_frame_week,mode=mode)\n",
    "benchmark_minus_xlc_holdings_week       = create_spreads(xlc_holdings_df, benchmark_series, time_frame=time_frame_week,mode=mode)\n",
    "benchmark_minus_xle_holdings_week       = create_spreads(xle_holdings_df, benchmark_series, time_frame=time_frame_week,mode=mode)\n",
    "benchmark_minus_xlre_holdings_week       = create_spreads(xlre_holdings_df, benchmark_series, time_frame=time_frame_week,mode=mode)\n",
    "benchmark_minus_xlp_holdings_week       = create_spreads(xlp_holdings_df, benchmark_series, time_frame=time_frame_week,mode=mode)\n",
    "\n",
    "\n",
    "benchmark_minus_all_series_week= pd.concat([\n",
    "    benchmark_minus_indices_week,\n",
    "    benchmark_minus_sectors_week,\n",
    "    benchmark_minus_industries_week,\n",
    "    benchmark_minus_dia_holdings_week,\n",
    "    benchmark_minus_xlk_holdings_week,\n",
    "    benchmark_minus_xlf_holdings_week,\n",
    "    benchmark_minus_xli_holdings_week,\n",
    "    benchmark_minus_xlv_holdings_week,\n",
    "    benchmark_minus_xlu_holdings_week,\n",
    "    benchmark_minus_xlb_holdings_week,\n",
    "    benchmark_minus_xly_holdings_week,\n",
    "    benchmark_minus_xlc_holdings_week,\n",
    "    benchmark_minus_xle_holdings_week,\n",
    "    benchmark_minus_xlre_holdings_week,\n",
    "    benchmark_minus_xlp_holdings_week\n",
    "], axis=1)\n",
    "\n",
    "benchmark_minus_all_series_week=benchmark_minus_all_series_week.loc[:, ~benchmark_minus_all_series_week.columns.duplicated()]\n",
    "\n",
    "\n",
    "benchmark_minus_indices_short          = create_spreads(indices_df, benchmark_series, time_frame=time_frame_short,mode=mode)\n",
    "benchmark_minus_sectors_short          = create_spreads(sectors_df, benchmark_series, time_frame=time_frame_short,mode=mode)\n",
    "benchmark_minus_industries_short       = create_spreads(industries_df, benchmark_series, time_frame=time_frame_short,mode=mode)\n",
    "benchmark_minus_dia_holdings_short       = create_spreads(dia_holdings_df, benchmark_series, time_frame=time_frame_short,mode=mode)\n",
    "benchmark_minus_qqq_holdings_short       = create_spreads(qqq_holdings_df, benchmark_series, time_frame=time_frame_short,mode=mode)\n",
    "benchmark_minus_xlk_holdings_short       = create_spreads(xlk_holdings_df, benchmark_series, time_frame=time_frame_short,mode=mode)\n",
    "benchmark_minus_xlf_holdings_short       = create_spreads(xlf_holdings_df, benchmark_series, time_frame=time_frame_short,mode=mode)\n",
    "benchmark_minus_xli_holdings_short       = create_spreads(xli_holdings_df, benchmark_series, time_frame=time_frame_short,mode=mode)\n",
    "benchmark_minus_xlv_holdings_short       = create_spreads(xlv_holdings_df, benchmark_series, time_frame=time_frame_short,mode=mode)\n",
    "benchmark_minus_xlu_holdings_short       = create_spreads(xlu_holdings_df, benchmark_series, time_frame=time_frame_short,mode=mode)\n",
    "benchmark_minus_xlb_holdings_short       = create_spreads(xlb_holdings_df, benchmark_series, time_frame=time_frame_short,mode=mode)\n",
    "benchmark_minus_xly_holdings_short       = create_spreads(xly_holdings_df, benchmark_series, time_frame=time_frame_short,mode=mode)\n",
    "benchmark_minus_xlc_holdings_short       = create_spreads(xlc_holdings_df, benchmark_series, time_frame=time_frame_short,mode=mode)\n",
    "benchmark_minus_xle_holdings_short       = create_spreads(xle_holdings_df, benchmark_series, time_frame=time_frame_short,mode=mode)\n",
    "benchmark_minus_xlre_holdings_short       = create_spreads(xlre_holdings_df, benchmark_series, time_frame=time_frame_short,mode=mode)\n",
    "benchmark_minus_xlp_holdings_short       = create_spreads(xlp_holdings_df, benchmark_series, time_frame=time_frame_short,mode=mode)\n",
    "\n",
    "\n",
    "\n",
    "\n",
    "benchmark_minus_all_series_short= pd.concat([\n",
    "    benchmark_minus_indices_short,\n",
    "    benchmark_minus_sectors_short,\n",
    "    benchmark_minus_industries_short,\n",
    "    benchmark_minus_dia_holdings_short,\n",
    "    benchmark_minus_xlk_holdings_short,\n",
    "    benchmark_minus_xlf_holdings_short,\n",
    "    benchmark_minus_xli_holdings_short,\n",
    "    benchmark_minus_xlv_holdings_short,\n",
    "    benchmark_minus_xlu_holdings_short,\n",
    "    benchmark_minus_xlb_holdings_short,\n",
    "    benchmark_minus_xly_holdings_short,\n",
    "    benchmark_minus_xlc_holdings_short,\n",
    "    benchmark_minus_xle_holdings_short,\n",
    "    benchmark_minus_xlre_holdings_short,\n",
    "    benchmark_minus_xlp_holdings_short\n",
    "], axis=1)\n",
    "\n",
    "benchmark_minus_all_series_short=benchmark_minus_all_series_short.loc[:, ~benchmark_minus_all_series_short.columns.duplicated()]\n",
    "\n",
    "benchmark_minus_indices_mid          = create_spreads(indices_df, benchmark_series, time_frame=time_frame_mid,mode=mode)\n",
    "benchmark_minus_sectors_mid          = create_spreads(sectors_df, benchmark_series, time_frame=time_frame_mid,mode=mode)\n",
    "benchmark_minus_industries_mid       = create_spreads(industries_df, benchmark_series, time_frame=time_frame_mid,mode=mode)\n",
    "benchmark_minus_dia_holdings_mid       = create_spreads(dia_holdings_df, benchmark_series, time_frame=time_frame_mid,mode=mode)\n",
    "benchmark_minus_qqq_holdings_mid       = create_spreads(qqq_holdings_df, benchmark_series, time_frame=time_frame_mid,mode=mode)\n",
    "benchmark_minus_xlk_holdings_mid       = create_spreads(xlk_holdings_df, benchmark_series, time_frame=time_frame_mid,mode=mode)\n",
    "benchmark_minus_xlf_holdings_mid       = create_spreads(xlf_holdings_df, benchmark_series, time_frame=time_frame_mid,mode=mode)\n",
    "benchmark_minus_xli_holdings_mid       = create_spreads(xli_holdings_df, benchmark_series, time_frame=time_frame_mid,mode=mode)\n",
    "benchmark_minus_xlv_holdings_mid       = create_spreads(xlv_holdings_df, benchmark_series, time_frame=time_frame_mid,mode=mode)\n",
    "benchmark_minus_xlu_holdings_mid       = create_spreads(xlu_holdings_df, benchmark_series, time_frame=time_frame_mid,mode=mode)\n",
    "benchmark_minus_xlb_holdings_mid       = create_spreads(xlb_holdings_df, benchmark_series, time_frame=time_frame_mid,mode=mode)\n",
    "benchmark_minus_xly_holdings_mid       = create_spreads(xly_holdings_df, benchmark_series, time_frame=time_frame_mid,mode=mode)\n",
    "benchmark_minus_xlc_holdings_mid       = create_spreads(xlc_holdings_df, benchmark_series, time_frame=time_frame_mid,mode=mode)\n",
    "benchmark_minus_xle_holdings_mid       = create_spreads(xle_holdings_df, benchmark_series, time_frame=time_frame_mid,mode=mode)\n",
    "benchmark_minus_xlre_holdings_mid       = create_spreads(xlre_holdings_df, benchmark_series, time_frame=time_frame_mid,mode=mode)\n",
    "benchmark_minus_xlp_holdings_mid      = create_spreads(xlp_holdings_df, benchmark_series, time_frame=time_frame_mid,mode=mode)\n",
    "\n",
    "\n",
    "benchmark_minus_all_series_mid= pd.concat([\n",
    "    benchmark_minus_indices_mid,\n",
    "    benchmark_minus_sectors_mid,\n",
    "    benchmark_minus_industries_mid,\n",
    "    benchmark_minus_dia_holdings_mid,\n",
    "    benchmark_minus_xlk_holdings_mid,\n",
    "    benchmark_minus_xlf_holdings_mid,\n",
    "    benchmark_minus_xli_holdings_mid,\n",
    "    benchmark_minus_xlv_holdings_mid,\n",
    "    benchmark_minus_xlu_holdings_mid,\n",
    "    benchmark_minus_xlb_holdings_mid,\n",
    "    benchmark_minus_xly_holdings_mid,\n",
    "    benchmark_minus_xlc_holdings_mid,\n",
    "    benchmark_minus_xle_holdings_mid,\n",
    "    benchmark_minus_xlre_holdings_mid,\n",
    "    benchmark_minus_xlp_holdings_mid\n",
    "], axis=1)\n",
    "\n",
    "benchmark_minus_all_series_mid =benchmark_minus_all_series_mid.loc[:, ~benchmark_minus_all_series_mid.columns.duplicated()]\n",
    "\n"
   ]
  },
  {
   "cell_type": "code",
   "execution_count": 22,
   "metadata": {},
   "outputs": [
    {
     "data": {
      "application/vnd.plotly.v1+json": {
       "config": {
        "plotlyServerURL": "https://plot.ly"
       },
       "data": [
        {
         "alignmentgroup": "True",
         "hovertemplate": "Symbol=%{x}<br>Market Cap (Billions USD)=%{y}<extra></extra>",
         "legendgroup": "",
         "marker": {
          "color": "#636efa",
          "pattern": {
           "shape": ""
          }
         },
         "name": "",
         "offsetgroup": "",
         "orientation": "v",
         "showlegend": false,
         "textposition": "auto",
         "type": "bar",
         "x": [
          "AAL",
          "ETSY",
          "CZR",
          "BWA",
          "FMC",
          "BBWI",
          "LW",
          "IVZ",
          "NCLH",
          "PARA",
          "DAY",
          "GL",
          "MKTX",
          "HAS",
          "MHK",
          "AIZ",
          "MTCH",
          "BIO",
          "FRT",
          "WYNN",
          "HSIC",
          "TPR",
          "GNRC",
          "MOS",
          "PAYC",
          "PNW",
          "WBA",
          "SOLV",
          "RL",
          "FFIV",
          "LKQ",
          "CHRW",
          "TFX",
          "CTLT",
          "ALB",
          "HII",
          "QRVO",
          "IPG",
          "EMN",
          "CRL",
          "TAP",
          "ALLE",
          "APA",
          "CPT",
          "REG",
          "BXP",
          "AOS",
          "EPAM",
          "JNPR",
          "JKHY",
          "AES",
          "HST",
          "SJM",
          "TECH",
          "BEN",
          "DVA",
          "JBL",
          "KMX",
          "EVRG",
          "MGM",
          "TRMB",
          "PODD",
          "CF",
          "INCY",
          "UHS",
          "NDSN",
          "SWK",
          "POOL",
          "CPB",
          "RVTY",
          "NI",
          "KIM",
          "VTRS",
          "CAG",
          "PNR",
          "LNT",
          "SNA",
          "DOC",
          "AMCR",
          "AKAM",
          "DPZ",
          "CE",
          "EQT",
          "KEY",
          "NRG",
          "UDR",
          "UAL",
          "IEX",
          "NWS",
          "NWSA",
          "MRO",
          "FDS",
          "GEN",
          "ENPH",
          "BG",
          "DGX",
          "IP",
          "EG",
          "EXPE",
          "CLX",
          "ZBRA",
          "FOXA",
          "FOX",
          "MAS",
          "MAA",
          "LUV",
          "AVY",
          "DRI",
          "ALGN",
          "ULTA",
          "L",
          "JBHT",
          "TXT",
          "PKG",
          "HRL",
          "VRSN",
          "EXPD",
          "LH",
          "NTRS",
          "BAX",
          "SWKS",
          "HOLX",
          "J",
          "OMC",
          "WAT",
          "APTV",
          "COO",
          "CNP",
          "ESS",
          "BBY",
          "ATO",
          "CINF",
          "CMS",
          "HUBB",
          "MOH",
          "CTRA",
          "GPC",
          "BALL",
          "BLDR",
          "TER",
          "WBD",
          "K",
          "CFG",
          "CBOE",
          "TDY",
          "PFG",
          "SYF",
          "WRB",
          "STLD",
          "MKC",
          "CPAY",
          "GDDY",
          "ARE",
          "WST",
          "INVH",
          "LDOS",
          "RF",
          "AEE",
          "PTC",
          "LYV",
          "DECK",
          "TSN",
          "BF.B",
          "VTR",
          "PPL",
          "WDC",
          "STX",
          "HBAN",
          "DLTR",
          "WY",
          "CCL",
          "ES",
          "STE",
          "ROL",
          "SBAC",
          "ZBH",
          "FSLR",
          "FE",
          "AXON",
          "CAH",
          "KEYS",
          "ETR",
          "TYL",
          "CHD",
          "VST",
          "RJF",
          "DTE",
          "FTV",
          "VLTO",
          "BR",
          "SW",
          "IFF",
          "GPN",
          "HPE",
          "STT",
          "DOV",
          "TROW",
          "NTAP",
          "PHM",
          "DG",
          "NVR",
          "TTWO",
          "WEC",
          "EQR",
          "EBAY",
          "ANSS",
          "AWK",
          "TSCO",
          "BRO",
          "WAB",
          "DAL",
          "WTW",
          "IRM",
          "FITB",
          "AVB",
          "MTB",
          "DVN",
          "ON",
          "TRGP",
          "LVS",
          "PPG",
          "EIX",
          "MTD",
          "HAL",
          "HIG",
          "RMD",
          "CDW",
          "ROK",
          "LULU",
          "ADM",
          "LYB",
          "XEL",
          "CSGP",
          "VICI",
          "CBRE",
          "DD",
          "EFX",
          "BIIB",
          "ED",
          "XYL",
          "GRMN",
          "VMC",
          "HWM",
          "MLM",
          "KVUE",
          "EXR",
          "HPQ",
          "ACGL",
          "DFS",
          "FANG",
          "BKR",
          "YUM",
          "EL",
          "IT",
          "SYY",
          "CNC",
          "EW",
          "CTSH",
          "GEHC",
          "EXC",
          "PWR",
          "GLW",
          "GIS",
          "PEG",
          "DOW",
          "OTIS",
          "NUE",
          "EA",
          "MPWR",
          "KR",
          "CTVA",
          "CMI",
          "NDAQ",
          "IDXX",
          "HSY",
          "FICO",
          "AME",
          "RCL",
          "IR",
          "VRSK",
          "A",
          "FAST",
          "KHC",
          "SMCI",
          "FIS",
          "MSCI",
          "IQV",
          "DXCM",
          "ALL",
          "FTNT",
          "D",
          "AMP",
          "GEV",
          "PRU",
          "PAYX",
          "ODFL",
          "COR",
          "JCI",
          "KDP",
          "CHTR",
          "STZ",
          "MCHP",
          "CCI",
          "LHX",
          "MRNA",
          "HES",
          "HUM",
          "LEN",
          "F",
          "KMI",
          "GWW",
          "TEL",
          "ROST",
          "PCG",
          "KMB",
          "OKE",
          "TRV",
          "BK",
          "CPRT",
          "DLR",
          "MNST",
          "SRE",
          "GM",
          "AIG",
          "O",
          "URI",
          "NSC",
          "AEP",
          "WMB",
          "PCAR",
          "VLO",
          "PSA",
          "AZO",
          "ADSK",
          "NEM",
          "HLT",
          "AFL",
          "MET",
          "OXY",
          "CEG",
          "SPG",
          "DHI",
          "COF",
          "MMM",
          "APD",
          "ROP",
          "CARR",
          "TFC",
          "RSG",
          "PYPL",
          "AJG",
          "MPC",
          "PSX",
          "CRWD",
          "NXPI",
          "FCX",
          "MSI",
          "ORLY",
          "WELL",
          "AON",
          "EMR",
          "CSX",
          "MAR",
          "BDX",
          "TGT",
          "SLB",
          "TDG",
          "ECL",
          "NOC",
          "CMG",
          "PH",
          "USB",
          "CDNS",
          "PNC",
          "CME",
          "ITW",
          "FDX",
          "TT",
          "EQIX",
          "EOG",
          "CVS",
          "APH",
          "CTAS",
          "MCK",
          "CL",
          "MCO",
          "GD",
          "WM",
          "ZTS",
          "SNPS",
          "DUK",
          "SBUX",
          "ICE",
          "MO",
          "SHW",
          "ABNB",
          "MDLZ",
          "SO",
          "FI",
          "BMY",
          "HCA",
          "GILD",
          "CI",
          "AMT",
          "ANET",
          "MDT",
          "ADP",
          "KLAC",
          "PANW",
          "DE",
          "CB",
          "MMC",
          "KKR",
          "NKE",
          "UPS",
          "BSX",
          "ADI",
          "PLD",
          "BA",
          "LRCX",
          "ETN",
          "REGN",
          "MU",
          "ELV",
          "SCHW",
          "BLK",
          "C",
          "BKNG",
          "LMT",
          "PGR",
          "SYK",
          "TJX",
          "VRTX",
          "COP",
          "HON",
          "INTC",
          "LOW",
          "UBER",
          "T",
          "UNP",
          "CMCSA",
          "RTX",
          "NEE",
          "SPGI",
          "ISRG",
          "GS",
          "DIS",
          "AMAT",
          "MS",
          "VZ",
          "CAT",
          "NOW",
          "AXP",
          "PFE",
          "BX",
          "INTU",
          "PM",
          "IBM",
          "GE",
          "AMGN",
          "TXN",
          "MCD",
          "ABT",
          "CSCO",
          "DHR",
          "QCOM",
          "WFC",
          "TMUS",
          "ACN",
          "LIN",
          "AMD",
          "TMO",
          "PEP",
          "ADBE",
          "CRM",
          "NFLX",
          "KO",
          "CVX",
          "MRK",
          "ABBV",
          "BAC",
          "HD",
          "COST",
          "ORCL",
          "JNJ",
          "PG",
          "MA",
          "V",
          "UNH",
          "XOM",
          "WMT",
          "JPM",
          "AVGO",
          "TSLA",
          "LLY",
          "BRK.B",
          "META",
          "AMZN",
          "GOOGL",
          "GOOG",
          "NVDA",
          "MSFT",
          "AAPL"
         ],
         "xaxis": "x",
         "y": [
          6954553856,
          7066260992,
          7183761920,
          7330687488,
          7356772864,
          7393410560,
          7616718336,
          7694359040,
          7875047424,
          8067656704,
          8179219968,
          8218461696,
          8369909248,
          8564568576,
          8650896384,
          8814971904,
          8833461248,
          8906336256,
          8950164480,
          9023956992,
          9096742912,
          9112797184,
          9260061696,
          9416814592,
          9467862016,
          9488990208,
          9936295936,
          9941187584,
          10091230208,
          10182558720,
          10390925312,
          10469464064,
          10480328704,
          10576471040,
          10694957056,
          10806301696,
          11277067264,
          11424624640,
          11424743424,
          11426325504,
          11465887744,
          11574968320,
          11610886144,
          11815796736,
          11925997568,
          11966896128,
          11985541120,
          12012295168,
          12193550336,
          12209291264,
          12251898880,
          12286519296,
          12355806208,
          12397210624,
          12431529984,
          12488849408,
          12518656000,
          12726682624,
          12951900160,
          12997330944,
          13358177280,
          13369141248,
          13435389952,
          13509045248,
          13745918976,
          13776010240,
          13781403648,
          13796068352,
          13811106816,
          13923665920,
          13940043776,
          13981164544,
          14002398208,
          14126294016,
          14246564864,
          14316204032,
          14402924544,
          14610514944,
          14670200832,
          14678789120,
          14877250560,
          14966416384,
          15182208000,
          15213814784,
          15232299008,
          15327113216,
          15363124224,
          15378277376,
          15593308160,
          15612662784,
          15616705536,
          15654981632,
          15785139200,
          15914792960,
          15990324224,
          16054694912,
          16060632064,
          16242936832,
          16545628160,
          16559600640,
          16680968192,
          16684835840,
          16688977920,
          16703303680,
          16803857408,
          16822598656,
          16849354752,
          16869037056,
          17017427968,
          17335367680,
          17347823616,
          17417338880,
          17418446848,
          17442363392,
          17458032640,
          17603305472,
          17633898496,
          17656137728,
          17740111872,
          17888804864,
          18079168512,
          18175399936,
          18239776768,
          18248181760,
          18410166272,
          18453966848,
          18454441984,
          18475229184,
          18781169664,
          18841540608,
          18846046208,
          18849685504,
          18879705088,
          19085910016,
          19130750976,
          19141672960,
          19218917376,
          19255851008,
          19375450112,
          19410186240,
          19577974784,
          19583115264,
          19586076672,
          19670106112,
          19721119744,
          19786696704,
          19905609728,
          19976353792,
          20050169856,
          20069916672,
          20070791168,
          20194729984,
          20287043584,
          20294367232,
          20344246272,
          20556279808,
          20638162944,
          20690923520,
          20819888128,
          21348302848,
          21450610688,
          21462966272,
          21463191552,
          21533978624,
          21556791296,
          21710645248,
          21830455296,
          21873596416,
          22059702272,
          22100152320,
          22396672000,
          22399895552,
          22464389120,
          22637475840,
          22677995520,
          22778204160,
          23141193728,
          23285379072,
          23455961088,
          23611385856,
          23718105088,
          23796561920,
          23968989184,
          24410732544,
          24454234112,
          24459720704,
          24465125376,
          24536205312,
          24581025792,
          24601530368,
          24766560256,
          24809904128,
          25198280704,
          25278582784,
          25396604928,
          25618327552,
          25788915712,
          25840498688,
          25942575104,
          26023475200,
          26138152960,
          26303100928,
          26317215744,
          26349922304,
          26666240000,
          27123236864,
          27290808320,
          27754606592,
          27794403328,
          27890888704,
          28062818304,
          28380715008,
          28416313344,
          28477405184,
          28812570624,
          29016881152,
          29044029440,
          29057869824,
          29257775104,
          29313873920,
          29386444800,
          29395128320,
          30149388288,
          30250733568,
          30264610816,
          30619826176,
          30726070272,
          30899374080,
          30915495936,
          31317704704,
          31458342912,
          31599187968,
          31798026240,
          31801344000,
          32940623872,
          33051121664,
          33093193728,
          33114580992,
          33172494336,
          33251606528,
          33302484992,
          33536462848,
          33601626112,
          33724895232,
          34954854400,
          35416416256,
          35453227008,
          35471040512,
          35477303296,
          35633131520,
          35740467200,
          35809509376,
          35829866496,
          35862573056,
          35909484544,
          35963076608,
          36011376640,
          36399939584,
          36480679936,
          36481093632,
          36630716416,
          36671860736,
          36734377984,
          36972478464,
          37178503168,
          37606084608,
          37631844352,
          37681225728,
          38446014464,
          38471458816,
          38528831488,
          38770974720,
          38777610240,
          38872186880,
          38964469760,
          38974029824,
          39037415424,
          39114473472,
          39129346048,
          39364034560,
          39376064512,
          39546933248,
          40424050688,
          40732487680,
          41451823104,
          42312904704,
          42357407744,
          42890219520,
          43654180864,
          43781287936,
          43838435328,
          43866341376,
          43957325824,
          44195074048,
          44648546304,
          44695523328,
          44724543488,
          44940926976,
          45018480640,
          45402578944,
          45445275648,
          45619019776,
          45850865664,
          46111207424,
          46142095360,
          46179827712,
          46570020864,
          46614913024,
          46615072768,
          46764023808,
          46922698752,
          47045885952,
          47070769152,
          47120498688,
          47502835712,
          47514701824,
          47710519296,
          47834370048,
          48528687104,
          48733134848,
          49370193920,
          49412616192,
          49587347456,
          49937698816,
          49956302848,
          50253733888,
          50322341888,
          50519367680,
          50962026496,
          51171680256,
          51717689344,
          51846782976,
          51872092160,
          52202741760,
          52704264192,
          53312311296,
          53475373056,
          53558231040,
          53670617088,
          53725499392,
          55948353536,
          56300584960,
          56570847232,
          57209229312,
          57490550784,
          57899573248,
          58421612544,
          59095797760,
          59626074112,
          59854983168,
          59871195136,
          60426706944,
          60438597632,
          61850193920,
          63048962048,
          63966896128,
          64334753792,
          64365953024,
          64873889792,
          65007525888,
          65556934656,
          65685647360,
          66764144640,
          67277709312,
          67674537984,
          68479496192,
          68744454144,
          69596266496,
          69710241792,
          69814247424,
          70138396672,
          70353338368,
          70749609984,
          71552491520,
          71789756416,
          72782741504,
          72938807296,
          72939667456,
          73011904512,
          73040019456,
          73627451392,
          74186727424,
          76429066240,
          77294141440,
          79172558848,
          79578611712,
          79998869504,
          80296820736,
          82498142208,
          82540519424,
          83019194368,
          83049562112,
          85469904896,
          85546557440,
          86510624768,
          88897208320,
          89052889088,
          89300426752,
          91363680256,
          91726274560,
          92472664064,
          95319982080,
          96943087616,
          98015723520,
          98394415104,
          100606902272,
          102150848512,
          102704734208,
          103658094592,
          105187819520,
          105719898112,
          106214866944,
          107612340224,
          107813584896,
          108724436992,
          109190258688,
          109624254464,
          111501238272,
          113200209920,
          115590733824,
          117104369664,
          117258829824,
          119144849408,
          119249698816,
          121097977856,
          123915952128,
          123976556544,
          124170575872,
          124317999104,
          124654526464,
          124708175872,
          125785702400,
          127029166080,
          129296629760,
          131832602624,
          132388659200,
          133785862144,
          137406840832,
          137685499904,
          143610511360,
          148084408320,
          150859497472,
          150944907264,
          151293411328,
          155197292544,
          158506680320,
          162678980608,
          167515897856,
          167655555072,
          168231583744,
          168434745344,
          169912532992,
          170782392320,
          171187683328,
          171415224320,
          175085879296,
          176007282688,
          176408510464,
          178705137664,
          179330220032,
          180007010304,
          181229895680,
          184365989888,
          190320984064,
          195091398656,
          195735240704,
          203073732608,
          205810515968,
          206925332480,
          212971601920,
          223568019456,
          226949251072,
          234907959296,
          235955322880,
          248577572864,
          272129245184,
          284736094208,
          288383467520,
          318830116864,
          321706164224,
          324051599360,
          350456250368,
          361739190272,
          379977990144,
          384443088896,
          394025369600,
          399325396992,
          494000570368,
          515111878656,
          526962196480,
          563369541632,
          593772347392,
          694787309568,
          703619399680,
          739691724800,
          934881198080,
          1150087987200,
          1871627026432,
          2068634664960,
          2071009034240,
          2761897279488,
          3109678481408,
          3335013531648
         ],
         "yaxis": "y"
        }
       ],
       "layout": {
        "annotations": [
         {
          "showarrow": false,
          "text": "Small to Mid",
          "x": 301.5,
          "xanchor": "right",
          "xref": "x",
          "y": 1,
          "yanchor": "top",
          "yref": "y domain"
         },
         {
          "showarrow": false,
          "text": "Mid to Large",
          "x": 454.5,
          "xanchor": "right",
          "xref": "x",
          "y": 1,
          "yanchor": "top",
          "yref": "y domain"
         }
        ],
        "barmode": "relative",
        "legend": {
         "tracegroupgap": 0
        },
        "shapes": [
         {
          "line": {
           "color": "Red",
           "dash": "dashdot",
           "width": 2
          },
          "type": "line",
          "x0": 301.5,
          "x1": 301.5,
          "xref": "x",
          "y0": 0,
          "y1": 1,
          "yref": "y domain"
         },
         {
          "line": {
           "color": "Blue",
           "dash": "dashdot",
           "width": 2
          },
          "type": "line",
          "x0": 454.5,
          "x1": 454.5,
          "xref": "x",
          "y0": 0,
          "y1": 1,
          "yref": "y domain"
         }
        ],
        "template": {
         "data": {
          "bar": [
           {
            "error_x": {
             "color": "#2a3f5f"
            },
            "error_y": {
             "color": "#2a3f5f"
            },
            "marker": {
             "line": {
              "color": "#E5ECF6",
              "width": 0.5
             },
             "pattern": {
              "fillmode": "overlay",
              "size": 10,
              "solidity": 0.2
             }
            },
            "type": "bar"
           }
          ],
          "barpolar": [
           {
            "marker": {
             "line": {
              "color": "#E5ECF6",
              "width": 0.5
             },
             "pattern": {
              "fillmode": "overlay",
              "size": 10,
              "solidity": 0.2
             }
            },
            "type": "barpolar"
           }
          ],
          "carpet": [
           {
            "aaxis": {
             "endlinecolor": "#2a3f5f",
             "gridcolor": "white",
             "linecolor": "white",
             "minorgridcolor": "white",
             "startlinecolor": "#2a3f5f"
            },
            "baxis": {
             "endlinecolor": "#2a3f5f",
             "gridcolor": "white",
             "linecolor": "white",
             "minorgridcolor": "white",
             "startlinecolor": "#2a3f5f"
            },
            "type": "carpet"
           }
          ],
          "choropleth": [
           {
            "colorbar": {
             "outlinewidth": 0,
             "ticks": ""
            },
            "type": "choropleth"
           }
          ],
          "contour": [
           {
            "colorbar": {
             "outlinewidth": 0,
             "ticks": ""
            },
            "colorscale": [
             [
              0,
              "#0d0887"
             ],
             [
              0.1111111111111111,
              "#46039f"
             ],
             [
              0.2222222222222222,
              "#7201a8"
             ],
             [
              0.3333333333333333,
              "#9c179e"
             ],
             [
              0.4444444444444444,
              "#bd3786"
             ],
             [
              0.5555555555555556,
              "#d8576b"
             ],
             [
              0.6666666666666666,
              "#ed7953"
             ],
             [
              0.7777777777777778,
              "#fb9f3a"
             ],
             [
              0.8888888888888888,
              "#fdca26"
             ],
             [
              1,
              "#f0f921"
             ]
            ],
            "type": "contour"
           }
          ],
          "contourcarpet": [
           {
            "colorbar": {
             "outlinewidth": 0,
             "ticks": ""
            },
            "type": "contourcarpet"
           }
          ],
          "heatmap": [
           {
            "colorbar": {
             "outlinewidth": 0,
             "ticks": ""
            },
            "colorscale": [
             [
              0,
              "#0d0887"
             ],
             [
              0.1111111111111111,
              "#46039f"
             ],
             [
              0.2222222222222222,
              "#7201a8"
             ],
             [
              0.3333333333333333,
              "#9c179e"
             ],
             [
              0.4444444444444444,
              "#bd3786"
             ],
             [
              0.5555555555555556,
              "#d8576b"
             ],
             [
              0.6666666666666666,
              "#ed7953"
             ],
             [
              0.7777777777777778,
              "#fb9f3a"
             ],
             [
              0.8888888888888888,
              "#fdca26"
             ],
             [
              1,
              "#f0f921"
             ]
            ],
            "type": "heatmap"
           }
          ],
          "heatmapgl": [
           {
            "colorbar": {
             "outlinewidth": 0,
             "ticks": ""
            },
            "colorscale": [
             [
              0,
              "#0d0887"
             ],
             [
              0.1111111111111111,
              "#46039f"
             ],
             [
              0.2222222222222222,
              "#7201a8"
             ],
             [
              0.3333333333333333,
              "#9c179e"
             ],
             [
              0.4444444444444444,
              "#bd3786"
             ],
             [
              0.5555555555555556,
              "#d8576b"
             ],
             [
              0.6666666666666666,
              "#ed7953"
             ],
             [
              0.7777777777777778,
              "#fb9f3a"
             ],
             [
              0.8888888888888888,
              "#fdca26"
             ],
             [
              1,
              "#f0f921"
             ]
            ],
            "type": "heatmapgl"
           }
          ],
          "histogram": [
           {
            "marker": {
             "pattern": {
              "fillmode": "overlay",
              "size": 10,
              "solidity": 0.2
             }
            },
            "type": "histogram"
           }
          ],
          "histogram2d": [
           {
            "colorbar": {
             "outlinewidth": 0,
             "ticks": ""
            },
            "colorscale": [
             [
              0,
              "#0d0887"
             ],
             [
              0.1111111111111111,
              "#46039f"
             ],
             [
              0.2222222222222222,
              "#7201a8"
             ],
             [
              0.3333333333333333,
              "#9c179e"
             ],
             [
              0.4444444444444444,
              "#bd3786"
             ],
             [
              0.5555555555555556,
              "#d8576b"
             ],
             [
              0.6666666666666666,
              "#ed7953"
             ],
             [
              0.7777777777777778,
              "#fb9f3a"
             ],
             [
              0.8888888888888888,
              "#fdca26"
             ],
             [
              1,
              "#f0f921"
             ]
            ],
            "type": "histogram2d"
           }
          ],
          "histogram2dcontour": [
           {
            "colorbar": {
             "outlinewidth": 0,
             "ticks": ""
            },
            "colorscale": [
             [
              0,
              "#0d0887"
             ],
             [
              0.1111111111111111,
              "#46039f"
             ],
             [
              0.2222222222222222,
              "#7201a8"
             ],
             [
              0.3333333333333333,
              "#9c179e"
             ],
             [
              0.4444444444444444,
              "#bd3786"
             ],
             [
              0.5555555555555556,
              "#d8576b"
             ],
             [
              0.6666666666666666,
              "#ed7953"
             ],
             [
              0.7777777777777778,
              "#fb9f3a"
             ],
             [
              0.8888888888888888,
              "#fdca26"
             ],
             [
              1,
              "#f0f921"
             ]
            ],
            "type": "histogram2dcontour"
           }
          ],
          "mesh3d": [
           {
            "colorbar": {
             "outlinewidth": 0,
             "ticks": ""
            },
            "type": "mesh3d"
           }
          ],
          "parcoords": [
           {
            "line": {
             "colorbar": {
              "outlinewidth": 0,
              "ticks": ""
             }
            },
            "type": "parcoords"
           }
          ],
          "pie": [
           {
            "automargin": true,
            "type": "pie"
           }
          ],
          "scatter": [
           {
            "fillpattern": {
             "fillmode": "overlay",
             "size": 10,
             "solidity": 0.2
            },
            "type": "scatter"
           }
          ],
          "scatter3d": [
           {
            "line": {
             "colorbar": {
              "outlinewidth": 0,
              "ticks": ""
             }
            },
            "marker": {
             "colorbar": {
              "outlinewidth": 0,
              "ticks": ""
             }
            },
            "type": "scatter3d"
           }
          ],
          "scattercarpet": [
           {
            "marker": {
             "colorbar": {
              "outlinewidth": 0,
              "ticks": ""
             }
            },
            "type": "scattercarpet"
           }
          ],
          "scattergeo": [
           {
            "marker": {
             "colorbar": {
              "outlinewidth": 0,
              "ticks": ""
             }
            },
            "type": "scattergeo"
           }
          ],
          "scattergl": [
           {
            "marker": {
             "colorbar": {
              "outlinewidth": 0,
              "ticks": ""
             }
            },
            "type": "scattergl"
           }
          ],
          "scattermapbox": [
           {
            "marker": {
             "colorbar": {
              "outlinewidth": 0,
              "ticks": ""
             }
            },
            "type": "scattermapbox"
           }
          ],
          "scatterpolar": [
           {
            "marker": {
             "colorbar": {
              "outlinewidth": 0,
              "ticks": ""
             }
            },
            "type": "scatterpolar"
           }
          ],
          "scatterpolargl": [
           {
            "marker": {
             "colorbar": {
              "outlinewidth": 0,
              "ticks": ""
             }
            },
            "type": "scatterpolargl"
           }
          ],
          "scatterternary": [
           {
            "marker": {
             "colorbar": {
              "outlinewidth": 0,
              "ticks": ""
             }
            },
            "type": "scatterternary"
           }
          ],
          "surface": [
           {
            "colorbar": {
             "outlinewidth": 0,
             "ticks": ""
            },
            "colorscale": [
             [
              0,
              "#0d0887"
             ],
             [
              0.1111111111111111,
              "#46039f"
             ],
             [
              0.2222222222222222,
              "#7201a8"
             ],
             [
              0.3333333333333333,
              "#9c179e"
             ],
             [
              0.4444444444444444,
              "#bd3786"
             ],
             [
              0.5555555555555556,
              "#d8576b"
             ],
             [
              0.6666666666666666,
              "#ed7953"
             ],
             [
              0.7777777777777778,
              "#fb9f3a"
             ],
             [
              0.8888888888888888,
              "#fdca26"
             ],
             [
              1,
              "#f0f921"
             ]
            ],
            "type": "surface"
           }
          ],
          "table": [
           {
            "cells": {
             "fill": {
              "color": "#EBF0F8"
             },
             "line": {
              "color": "white"
             }
            },
            "header": {
             "fill": {
              "color": "#C8D4E3"
             },
             "line": {
              "color": "white"
             }
            },
            "type": "table"
           }
          ]
         },
         "layout": {
          "annotationdefaults": {
           "arrowcolor": "#2a3f5f",
           "arrowhead": 0,
           "arrowwidth": 1
          },
          "autotypenumbers": "strict",
          "coloraxis": {
           "colorbar": {
            "outlinewidth": 0,
            "ticks": ""
           }
          },
          "colorscale": {
           "diverging": [
            [
             0,
             "#8e0152"
            ],
            [
             0.1,
             "#c51b7d"
            ],
            [
             0.2,
             "#de77ae"
            ],
            [
             0.3,
             "#f1b6da"
            ],
            [
             0.4,
             "#fde0ef"
            ],
            [
             0.5,
             "#f7f7f7"
            ],
            [
             0.6,
             "#e6f5d0"
            ],
            [
             0.7,
             "#b8e186"
            ],
            [
             0.8,
             "#7fbc41"
            ],
            [
             0.9,
             "#4d9221"
            ],
            [
             1,
             "#276419"
            ]
           ],
           "sequential": [
            [
             0,
             "#0d0887"
            ],
            [
             0.1111111111111111,
             "#46039f"
            ],
            [
             0.2222222222222222,
             "#7201a8"
            ],
            [
             0.3333333333333333,
             "#9c179e"
            ],
            [
             0.4444444444444444,
             "#bd3786"
            ],
            [
             0.5555555555555556,
             "#d8576b"
            ],
            [
             0.6666666666666666,
             "#ed7953"
            ],
            [
             0.7777777777777778,
             "#fb9f3a"
            ],
            [
             0.8888888888888888,
             "#fdca26"
            ],
            [
             1,
             "#f0f921"
            ]
           ],
           "sequentialminus": [
            [
             0,
             "#0d0887"
            ],
            [
             0.1111111111111111,
             "#46039f"
            ],
            [
             0.2222222222222222,
             "#7201a8"
            ],
            [
             0.3333333333333333,
             "#9c179e"
            ],
            [
             0.4444444444444444,
             "#bd3786"
            ],
            [
             0.5555555555555556,
             "#d8576b"
            ],
            [
             0.6666666666666666,
             "#ed7953"
            ],
            [
             0.7777777777777778,
             "#fb9f3a"
            ],
            [
             0.8888888888888888,
             "#fdca26"
            ],
            [
             1,
             "#f0f921"
            ]
           ]
          },
          "colorway": [
           "#636efa",
           "#EF553B",
           "#00cc96",
           "#ab63fa",
           "#FFA15A",
           "#19d3f3",
           "#FF6692",
           "#B6E880",
           "#FF97FF",
           "#FECB52"
          ],
          "font": {
           "color": "#2a3f5f"
          },
          "geo": {
           "bgcolor": "white",
           "lakecolor": "white",
           "landcolor": "#E5ECF6",
           "showlakes": true,
           "showland": true,
           "subunitcolor": "white"
          },
          "hoverlabel": {
           "align": "left"
          },
          "hovermode": "closest",
          "mapbox": {
           "style": "light"
          },
          "paper_bgcolor": "white",
          "plot_bgcolor": "#E5ECF6",
          "polar": {
           "angularaxis": {
            "gridcolor": "white",
            "linecolor": "white",
            "ticks": ""
           },
           "bgcolor": "#E5ECF6",
           "radialaxis": {
            "gridcolor": "white",
            "linecolor": "white",
            "ticks": ""
           }
          },
          "scene": {
           "xaxis": {
            "backgroundcolor": "#E5ECF6",
            "gridcolor": "white",
            "gridwidth": 2,
            "linecolor": "white",
            "showbackground": true,
            "ticks": "",
            "zerolinecolor": "white"
           },
           "yaxis": {
            "backgroundcolor": "#E5ECF6",
            "gridcolor": "white",
            "gridwidth": 2,
            "linecolor": "white",
            "showbackground": true,
            "ticks": "",
            "zerolinecolor": "white"
           },
           "zaxis": {
            "backgroundcolor": "#E5ECF6",
            "gridcolor": "white",
            "gridwidth": 2,
            "linecolor": "white",
            "showbackground": true,
            "ticks": "",
            "zerolinecolor": "white"
           }
          },
          "shapedefaults": {
           "line": {
            "color": "#2a3f5f"
           }
          },
          "ternary": {
           "aaxis": {
            "gridcolor": "white",
            "linecolor": "white",
            "ticks": ""
           },
           "baxis": {
            "gridcolor": "white",
            "linecolor": "white",
            "ticks": ""
           },
           "bgcolor": "#E5ECF6",
           "caxis": {
            "gridcolor": "white",
            "linecolor": "white",
            "ticks": ""
           }
          },
          "title": {
           "x": 0.05
          },
          "xaxis": {
           "automargin": true,
           "gridcolor": "white",
           "linecolor": "white",
           "ticks": "",
           "title": {
            "standoff": 15
           },
           "zerolinecolor": "white",
           "zerolinewidth": 2
          },
          "yaxis": {
           "automargin": true,
           "gridcolor": "white",
           "linecolor": "white",
           "ticks": "",
           "title": {
            "standoff": 15
           },
           "zerolinecolor": "white",
           "zerolinewidth": 2
          }
         }
        },
        "title": {
         "text": "Market Capitalizations Companies"
        },
        "xaxis": {
         "anchor": "y",
         "domain": [
          0,
          1
         ],
         "title": {
          "text": "Ticker"
         }
        },
        "yaxis": {
         "anchor": "x",
         "domain": [
          0,
          1
         ],
         "title": {
          "text": "Market Cap (Billions USD)"
         }
        }
       }
      }
     },
     "metadata": {},
     "output_type": "display_data"
    },
    {
     "data": {
      "application/vnd.plotly.v1+json": {
       "config": {
        "plotlyServerURL": "https://plot.ly"
       },
       "data": [
        {
         "alignmentgroup": "True",
         "hovertemplate": "Symbol=%{x}<br>Market Cap (Billions USD)=%{y}<extra></extra>",
         "legendgroup": "",
         "marker": {
          "color": "#636efa",
          "pattern": {
           "shape": ""
          }
         },
         "name": "",
         "offsetgroup": "",
         "orientation": "v",
         "showlegend": false,
         "textposition": "auto",
         "type": "bar",
         "x": [
          "WBA",
          "ILMN",
          "MDB",
          "WBD",
          "DLTR",
          "TTWO",
          "ANSS",
          "ZS",
          "GFS",
          "ON",
          "CDW",
          "LULU",
          "XEL",
          "CSGP",
          "BIIB",
          "CCEP",
          "FANG",
          "BKR",
          "CTSH",
          "GEHC",
          "EXC",
          "EA",
          "IDXX",
          "VRSK",
          "FAST",
          "DDOG",
          "KHC",
          "DASH",
          "DXCM",
          "FTNT",
          "TTD",
          "PAYX",
          "ODFL",
          "KDP",
          "CHTR",
          "MCHP",
          "MRNA",
          "TEAM",
          "ROST",
          "CPRT",
          "MNST",
          "AEP",
          "PCAR",
          "ADSK",
          "CEG",
          "MRVL",
          "ROP",
          "PYPL",
          "WDAY",
          "CRWD",
          "NXPI",
          "ORLY",
          "CSX",
          "MAR",
          "CDNS",
          "CTAS",
          "MELI",
          "SNPS",
          "SBUX",
          "ABNB",
          "MDLZ",
          "GILD",
          "ADP",
          "KLAC",
          "PANW",
          "ADI",
          "LRCX",
          "REGN",
          "MU",
          "BKNG",
          "VRTX",
          "HON",
          "INTC",
          "CMCSA",
          "ISRG",
          "ARM",
          "AMAT",
          "INTU",
          "AMGN",
          "TXN",
          "PDD",
          "CSCO",
          "QCOM",
          "TMUS",
          "LIN",
          "AMD",
          "PEP",
          "ADBE",
          "AZN",
          "NFLX",
          "COST",
          "ASML",
          "AVGO",
          "TSLA",
          "META",
          "AMZN",
          "GOOGL",
          "GOOG",
          "NVDA",
          "MSFT",
          "AAPL"
         ],
         "xaxis": "x",
         "y": [
          9936295936,
          18685890560,
          18796851200,
          19577974784,
          22059702272,
          26303100928,
          27123236864,
          27509116928,
          28106907648,
          29057869824,
          30726070272,
          30915495936,
          31599187968,
          31798026240,
          33114580992,
          33631520768,
          35633131520,
          35740467200,
          36399939584,
          36480679936,
          36481093632,
          37681225728,
          38872186880,
          39364034560,
          39546933248,
          40243576832,
          40424050688,
          41210351616,
          42890219520,
          43781287936,
          44451860480,
          44648546304,
          44695523328,
          45018480640,
          45402578944,
          45619019776,
          46142095360,
          46390308864,
          47070769152,
          48528687104,
          49370193920,
          50519367680,
          51171680256,
          52202741760,
          53725499392,
          55389745152,
          57899573248,
          59854983168,
          60265668608,
          61850193920,
          63048962048,
          64365953024,
          65685647360,
          66764144640,
          70749609984,
          76429066240,
          82390884352,
          82540519424,
          83049562112,
          88897208320,
          89052889088,
          95319982080,
          102150848512,
          102704734208,
          103658094592,
          109624254464,
          115590733824,
          117258829824,
          119144849408,
          124170575872,
          127029166080,
          131832602624,
          132388659200,
          148084408320,
          155197292544,
          156274851840,
          167515897856,
          175085879296,
          179330220032,
          180007010304,
          180179025920,
          190320984064,
          195735240704,
          205810515968,
          212971601920,
          223568019456,
          234907959296,
          235955322880,
          243454377984,
          272129245184,
          361739190272,
          364340412416,
          694787309568,
          703619399680,
          1150087987200,
          1871627026432,
          2068634664960,
          2071009034240,
          2761897279488,
          3109678481408,
          3335013531648
         ],
         "yaxis": "y"
        }
       ],
       "layout": {
        "annotations": [
         {
          "showarrow": false,
          "text": "Small to Mid",
          "x": 60.5,
          "xanchor": "right",
          "xref": "x",
          "y": 1,
          "yanchor": "top",
          "yref": "y domain"
         },
         {
          "showarrow": false,
          "text": "Mid to Large",
          "x": 93.5,
          "xanchor": "right",
          "xref": "x",
          "y": 1,
          "yanchor": "top",
          "yref": "y domain"
         }
        ],
        "barmode": "relative",
        "legend": {
         "tracegroupgap": 0
        },
        "shapes": [
         {
          "line": {
           "color": "Red",
           "dash": "dashdot",
           "width": 2
          },
          "type": "line",
          "x0": 60.5,
          "x1": 60.5,
          "xref": "x",
          "y0": 0,
          "y1": 1,
          "yref": "y domain"
         },
         {
          "line": {
           "color": "Blue",
           "dash": "dashdot",
           "width": 2
          },
          "type": "line",
          "x0": 93.5,
          "x1": 93.5,
          "xref": "x",
          "y0": 0,
          "y1": 1,
          "yref": "y domain"
         }
        ],
        "template": {
         "data": {
          "bar": [
           {
            "error_x": {
             "color": "#2a3f5f"
            },
            "error_y": {
             "color": "#2a3f5f"
            },
            "marker": {
             "line": {
              "color": "#E5ECF6",
              "width": 0.5
             },
             "pattern": {
              "fillmode": "overlay",
              "size": 10,
              "solidity": 0.2
             }
            },
            "type": "bar"
           }
          ],
          "barpolar": [
           {
            "marker": {
             "line": {
              "color": "#E5ECF6",
              "width": 0.5
             },
             "pattern": {
              "fillmode": "overlay",
              "size": 10,
              "solidity": 0.2
             }
            },
            "type": "barpolar"
           }
          ],
          "carpet": [
           {
            "aaxis": {
             "endlinecolor": "#2a3f5f",
             "gridcolor": "white",
             "linecolor": "white",
             "minorgridcolor": "white",
             "startlinecolor": "#2a3f5f"
            },
            "baxis": {
             "endlinecolor": "#2a3f5f",
             "gridcolor": "white",
             "linecolor": "white",
             "minorgridcolor": "white",
             "startlinecolor": "#2a3f5f"
            },
            "type": "carpet"
           }
          ],
          "choropleth": [
           {
            "colorbar": {
             "outlinewidth": 0,
             "ticks": ""
            },
            "type": "choropleth"
           }
          ],
          "contour": [
           {
            "colorbar": {
             "outlinewidth": 0,
             "ticks": ""
            },
            "colorscale": [
             [
              0,
              "#0d0887"
             ],
             [
              0.1111111111111111,
              "#46039f"
             ],
             [
              0.2222222222222222,
              "#7201a8"
             ],
             [
              0.3333333333333333,
              "#9c179e"
             ],
             [
              0.4444444444444444,
              "#bd3786"
             ],
             [
              0.5555555555555556,
              "#d8576b"
             ],
             [
              0.6666666666666666,
              "#ed7953"
             ],
             [
              0.7777777777777778,
              "#fb9f3a"
             ],
             [
              0.8888888888888888,
              "#fdca26"
             ],
             [
              1,
              "#f0f921"
             ]
            ],
            "type": "contour"
           }
          ],
          "contourcarpet": [
           {
            "colorbar": {
             "outlinewidth": 0,
             "ticks": ""
            },
            "type": "contourcarpet"
           }
          ],
          "heatmap": [
           {
            "colorbar": {
             "outlinewidth": 0,
             "ticks": ""
            },
            "colorscale": [
             [
              0,
              "#0d0887"
             ],
             [
              0.1111111111111111,
              "#46039f"
             ],
             [
              0.2222222222222222,
              "#7201a8"
             ],
             [
              0.3333333333333333,
              "#9c179e"
             ],
             [
              0.4444444444444444,
              "#bd3786"
             ],
             [
              0.5555555555555556,
              "#d8576b"
             ],
             [
              0.6666666666666666,
              "#ed7953"
             ],
             [
              0.7777777777777778,
              "#fb9f3a"
             ],
             [
              0.8888888888888888,
              "#fdca26"
             ],
             [
              1,
              "#f0f921"
             ]
            ],
            "type": "heatmap"
           }
          ],
          "heatmapgl": [
           {
            "colorbar": {
             "outlinewidth": 0,
             "ticks": ""
            },
            "colorscale": [
             [
              0,
              "#0d0887"
             ],
             [
              0.1111111111111111,
              "#46039f"
             ],
             [
              0.2222222222222222,
              "#7201a8"
             ],
             [
              0.3333333333333333,
              "#9c179e"
             ],
             [
              0.4444444444444444,
              "#bd3786"
             ],
             [
              0.5555555555555556,
              "#d8576b"
             ],
             [
              0.6666666666666666,
              "#ed7953"
             ],
             [
              0.7777777777777778,
              "#fb9f3a"
             ],
             [
              0.8888888888888888,
              "#fdca26"
             ],
             [
              1,
              "#f0f921"
             ]
            ],
            "type": "heatmapgl"
           }
          ],
          "histogram": [
           {
            "marker": {
             "pattern": {
              "fillmode": "overlay",
              "size": 10,
              "solidity": 0.2
             }
            },
            "type": "histogram"
           }
          ],
          "histogram2d": [
           {
            "colorbar": {
             "outlinewidth": 0,
             "ticks": ""
            },
            "colorscale": [
             [
              0,
              "#0d0887"
             ],
             [
              0.1111111111111111,
              "#46039f"
             ],
             [
              0.2222222222222222,
              "#7201a8"
             ],
             [
              0.3333333333333333,
              "#9c179e"
             ],
             [
              0.4444444444444444,
              "#bd3786"
             ],
             [
              0.5555555555555556,
              "#d8576b"
             ],
             [
              0.6666666666666666,
              "#ed7953"
             ],
             [
              0.7777777777777778,
              "#fb9f3a"
             ],
             [
              0.8888888888888888,
              "#fdca26"
             ],
             [
              1,
              "#f0f921"
             ]
            ],
            "type": "histogram2d"
           }
          ],
          "histogram2dcontour": [
           {
            "colorbar": {
             "outlinewidth": 0,
             "ticks": ""
            },
            "colorscale": [
             [
              0,
              "#0d0887"
             ],
             [
              0.1111111111111111,
              "#46039f"
             ],
             [
              0.2222222222222222,
              "#7201a8"
             ],
             [
              0.3333333333333333,
              "#9c179e"
             ],
             [
              0.4444444444444444,
              "#bd3786"
             ],
             [
              0.5555555555555556,
              "#d8576b"
             ],
             [
              0.6666666666666666,
              "#ed7953"
             ],
             [
              0.7777777777777778,
              "#fb9f3a"
             ],
             [
              0.8888888888888888,
              "#fdca26"
             ],
             [
              1,
              "#f0f921"
             ]
            ],
            "type": "histogram2dcontour"
           }
          ],
          "mesh3d": [
           {
            "colorbar": {
             "outlinewidth": 0,
             "ticks": ""
            },
            "type": "mesh3d"
           }
          ],
          "parcoords": [
           {
            "line": {
             "colorbar": {
              "outlinewidth": 0,
              "ticks": ""
             }
            },
            "type": "parcoords"
           }
          ],
          "pie": [
           {
            "automargin": true,
            "type": "pie"
           }
          ],
          "scatter": [
           {
            "fillpattern": {
             "fillmode": "overlay",
             "size": 10,
             "solidity": 0.2
            },
            "type": "scatter"
           }
          ],
          "scatter3d": [
           {
            "line": {
             "colorbar": {
              "outlinewidth": 0,
              "ticks": ""
             }
            },
            "marker": {
             "colorbar": {
              "outlinewidth": 0,
              "ticks": ""
             }
            },
            "type": "scatter3d"
           }
          ],
          "scattercarpet": [
           {
            "marker": {
             "colorbar": {
              "outlinewidth": 0,
              "ticks": ""
             }
            },
            "type": "scattercarpet"
           }
          ],
          "scattergeo": [
           {
            "marker": {
             "colorbar": {
              "outlinewidth": 0,
              "ticks": ""
             }
            },
            "type": "scattergeo"
           }
          ],
          "scattergl": [
           {
            "marker": {
             "colorbar": {
              "outlinewidth": 0,
              "ticks": ""
             }
            },
            "type": "scattergl"
           }
          ],
          "scattermapbox": [
           {
            "marker": {
             "colorbar": {
              "outlinewidth": 0,
              "ticks": ""
             }
            },
            "type": "scattermapbox"
           }
          ],
          "scatterpolar": [
           {
            "marker": {
             "colorbar": {
              "outlinewidth": 0,
              "ticks": ""
             }
            },
            "type": "scatterpolar"
           }
          ],
          "scatterpolargl": [
           {
            "marker": {
             "colorbar": {
              "outlinewidth": 0,
              "ticks": ""
             }
            },
            "type": "scatterpolargl"
           }
          ],
          "scatterternary": [
           {
            "marker": {
             "colorbar": {
              "outlinewidth": 0,
              "ticks": ""
             }
            },
            "type": "scatterternary"
           }
          ],
          "surface": [
           {
            "colorbar": {
             "outlinewidth": 0,
             "ticks": ""
            },
            "colorscale": [
             [
              0,
              "#0d0887"
             ],
             [
              0.1111111111111111,
              "#46039f"
             ],
             [
              0.2222222222222222,
              "#7201a8"
             ],
             [
              0.3333333333333333,
              "#9c179e"
             ],
             [
              0.4444444444444444,
              "#bd3786"
             ],
             [
              0.5555555555555556,
              "#d8576b"
             ],
             [
              0.6666666666666666,
              "#ed7953"
             ],
             [
              0.7777777777777778,
              "#fb9f3a"
             ],
             [
              0.8888888888888888,
              "#fdca26"
             ],
             [
              1,
              "#f0f921"
             ]
            ],
            "type": "surface"
           }
          ],
          "table": [
           {
            "cells": {
             "fill": {
              "color": "#EBF0F8"
             },
             "line": {
              "color": "white"
             }
            },
            "header": {
             "fill": {
              "color": "#C8D4E3"
             },
             "line": {
              "color": "white"
             }
            },
            "type": "table"
           }
          ]
         },
         "layout": {
          "annotationdefaults": {
           "arrowcolor": "#2a3f5f",
           "arrowhead": 0,
           "arrowwidth": 1
          },
          "autotypenumbers": "strict",
          "coloraxis": {
           "colorbar": {
            "outlinewidth": 0,
            "ticks": ""
           }
          },
          "colorscale": {
           "diverging": [
            [
             0,
             "#8e0152"
            ],
            [
             0.1,
             "#c51b7d"
            ],
            [
             0.2,
             "#de77ae"
            ],
            [
             0.3,
             "#f1b6da"
            ],
            [
             0.4,
             "#fde0ef"
            ],
            [
             0.5,
             "#f7f7f7"
            ],
            [
             0.6,
             "#e6f5d0"
            ],
            [
             0.7,
             "#b8e186"
            ],
            [
             0.8,
             "#7fbc41"
            ],
            [
             0.9,
             "#4d9221"
            ],
            [
             1,
             "#276419"
            ]
           ],
           "sequential": [
            [
             0,
             "#0d0887"
            ],
            [
             0.1111111111111111,
             "#46039f"
            ],
            [
             0.2222222222222222,
             "#7201a8"
            ],
            [
             0.3333333333333333,
             "#9c179e"
            ],
            [
             0.4444444444444444,
             "#bd3786"
            ],
            [
             0.5555555555555556,
             "#d8576b"
            ],
            [
             0.6666666666666666,
             "#ed7953"
            ],
            [
             0.7777777777777778,
             "#fb9f3a"
            ],
            [
             0.8888888888888888,
             "#fdca26"
            ],
            [
             1,
             "#f0f921"
            ]
           ],
           "sequentialminus": [
            [
             0,
             "#0d0887"
            ],
            [
             0.1111111111111111,
             "#46039f"
            ],
            [
             0.2222222222222222,
             "#7201a8"
            ],
            [
             0.3333333333333333,
             "#9c179e"
            ],
            [
             0.4444444444444444,
             "#bd3786"
            ],
            [
             0.5555555555555556,
             "#d8576b"
            ],
            [
             0.6666666666666666,
             "#ed7953"
            ],
            [
             0.7777777777777778,
             "#fb9f3a"
            ],
            [
             0.8888888888888888,
             "#fdca26"
            ],
            [
             1,
             "#f0f921"
            ]
           ]
          },
          "colorway": [
           "#636efa",
           "#EF553B",
           "#00cc96",
           "#ab63fa",
           "#FFA15A",
           "#19d3f3",
           "#FF6692",
           "#B6E880",
           "#FF97FF",
           "#FECB52"
          ],
          "font": {
           "color": "#2a3f5f"
          },
          "geo": {
           "bgcolor": "white",
           "lakecolor": "white",
           "landcolor": "#E5ECF6",
           "showlakes": true,
           "showland": true,
           "subunitcolor": "white"
          },
          "hoverlabel": {
           "align": "left"
          },
          "hovermode": "closest",
          "mapbox": {
           "style": "light"
          },
          "paper_bgcolor": "white",
          "plot_bgcolor": "#E5ECF6",
          "polar": {
           "angularaxis": {
            "gridcolor": "white",
            "linecolor": "white",
            "ticks": ""
           },
           "bgcolor": "#E5ECF6",
           "radialaxis": {
            "gridcolor": "white",
            "linecolor": "white",
            "ticks": ""
           }
          },
          "scene": {
           "xaxis": {
            "backgroundcolor": "#E5ECF6",
            "gridcolor": "white",
            "gridwidth": 2,
            "linecolor": "white",
            "showbackground": true,
            "ticks": "",
            "zerolinecolor": "white"
           },
           "yaxis": {
            "backgroundcolor": "#E5ECF6",
            "gridcolor": "white",
            "gridwidth": 2,
            "linecolor": "white",
            "showbackground": true,
            "ticks": "",
            "zerolinecolor": "white"
           },
           "zaxis": {
            "backgroundcolor": "#E5ECF6",
            "gridcolor": "white",
            "gridwidth": 2,
            "linecolor": "white",
            "showbackground": true,
            "ticks": "",
            "zerolinecolor": "white"
           }
          },
          "shapedefaults": {
           "line": {
            "color": "#2a3f5f"
           }
          },
          "ternary": {
           "aaxis": {
            "gridcolor": "white",
            "linecolor": "white",
            "ticks": ""
           },
           "baxis": {
            "gridcolor": "white",
            "linecolor": "white",
            "ticks": ""
           },
           "bgcolor": "#E5ECF6",
           "caxis": {
            "gridcolor": "white",
            "linecolor": "white",
            "ticks": ""
           }
          },
          "title": {
           "x": 0.05
          },
          "xaxis": {
           "automargin": true,
           "gridcolor": "white",
           "linecolor": "white",
           "ticks": "",
           "title": {
            "standoff": 15
           },
           "zerolinecolor": "white",
           "zerolinewidth": 2
          },
          "yaxis": {
           "automargin": true,
           "gridcolor": "white",
           "linecolor": "white",
           "ticks": "",
           "title": {
            "standoff": 15
           },
           "zerolinecolor": "white",
           "zerolinewidth": 2
          }
         }
        },
        "title": {
         "text": "Market Capitalizations Companies"
        },
        "xaxis": {
         "anchor": "y",
         "domain": [
          0,
          1
         ],
         "title": {
          "text": "Ticker"
         }
        },
        "yaxis": {
         "anchor": "x",
         "domain": [
          0,
          1
         ],
         "title": {
          "text": "Market Cap (Billions USD)"
         }
        }
       }
      }
     },
     "metadata": {},
     "output_type": "display_data"
    },
    {
     "data": {
      "application/vnd.plotly.v1+json": {
       "config": {
        "plotlyServerURL": "https://plot.ly"
       },
       "data": [
        {
         "alignmentgroup": "True",
         "hovertemplate": "Symbol=%{x}<br>Market Cap (Billions USD)=%{y}<extra></extra>",
         "legendgroup": "",
         "marker": {
          "color": "#636efa",
          "pattern": {
           "shape": ""
          }
         },
         "name": "",
         "offsetgroup": "",
         "orientation": "v",
         "showlegend": false,
         "textposition": "auto",
         "type": "bar",
         "x": [
          "WBA",
          "ILMN",
          "MDB",
          "WBD",
          "DLTR",
          "TTWO",
          "ANSS",
          "ZS",
          "GFS",
          "ON",
          "CDW",
          "LULU",
          "XEL",
          "CSGP",
          "BIIB",
          "CCEP",
          "FANG",
          "BKR",
          "CTSH",
          "GEHC",
          "EXC",
          "EA",
          "IDXX",
          "VRSK",
          "FAST",
          "DDOG",
          "KHC",
          "DASH",
          "DXCM",
          "FTNT",
          "TTD",
          "PAYX",
          "ODFL",
          "KDP",
          "CHTR",
          "MCHP",
          "MRNA",
          "TEAM",
          "ROST",
          "CPRT",
          "MNST",
          "AEP",
          "PCAR",
          "ADSK",
          "CEG",
          "MRVL",
          "ROP",
          "PYPL",
          "WDAY",
          "CRWD",
          "NXPI",
          "ORLY",
          "CSX",
          "MAR",
          "CDNS",
          "CTAS",
          "MELI",
          "SNPS",
          "SBUX",
          "ABNB",
          "MDLZ",
          "GILD",
          "ADP",
          "KLAC",
          "PANW",
          "ADI",
          "LRCX",
          "REGN",
          "MU",
          "BKNG",
          "VRTX",
          "HON",
          "INTC",
          "CMCSA",
          "ISRG",
          "ARM",
          "AMAT",
          "INTU",
          "AMGN",
          "TXN",
          "PDD",
          "CSCO",
          "QCOM",
          "TMUS",
          "LIN",
          "AMD",
          "PEP",
          "ADBE",
          "AZN",
          "NFLX",
          "COST",
          "ASML",
          "AVGO",
          "TSLA",
          "META",
          "AMZN",
          "GOOGL",
          "GOOG",
          "NVDA",
          "MSFT",
          "AAPL"
         ],
         "xaxis": "x",
         "y": [
          9936295936,
          18685890560,
          18796851200,
          19577974784,
          22059702272,
          26303100928,
          27123236864,
          27509116928,
          28106907648,
          29057869824,
          30726070272,
          30915495936,
          31599187968,
          31798026240,
          33114580992,
          33631520768,
          35633131520,
          35740467200,
          36399939584,
          36480679936,
          36481093632,
          37681225728,
          38872186880,
          39364034560,
          39546933248,
          40243576832,
          40424050688,
          41210351616,
          42890219520,
          43781287936,
          44451860480,
          44648546304,
          44695523328,
          45018480640,
          45402578944,
          45619019776,
          46142095360,
          46390308864,
          47070769152,
          48528687104,
          49370193920,
          50519367680,
          51171680256,
          52202741760,
          53725499392,
          55389745152,
          57899573248,
          59854983168,
          60265668608,
          61850193920,
          63048962048,
          64365953024,
          65685647360,
          66764144640,
          70749609984,
          76429066240,
          82390884352,
          82540519424,
          83049562112,
          88897208320,
          89052889088,
          95319982080,
          102150848512,
          102704734208,
          103658094592,
          109624254464,
          115590733824,
          117258829824,
          119144849408,
          124170575872,
          127029166080,
          131832602624,
          132388659200,
          148084408320,
          155197292544,
          156274851840,
          167515897856,
          175085879296,
          179330220032,
          180007010304,
          180179025920,
          190320984064,
          195735240704,
          205810515968,
          212971601920,
          223568019456,
          234907959296,
          235955322880,
          243454377984,
          272129245184,
          361739190272,
          364340412416,
          694787309568,
          703619399680,
          1150087987200,
          1871627026432,
          2068634664960,
          2071009034240,
          2761897279488,
          3109678481408,
          3335013531648
         ],
         "yaxis": "y"
        }
       ],
       "layout": {
        "annotations": [
         {
          "showarrow": false,
          "text": "Small to Mid",
          "x": 60.5,
          "xanchor": "right",
          "xref": "x",
          "y": 1,
          "yanchor": "top",
          "yref": "y domain"
         },
         {
          "showarrow": false,
          "text": "Mid to Large",
          "x": 93.5,
          "xanchor": "right",
          "xref": "x",
          "y": 1,
          "yanchor": "top",
          "yref": "y domain"
         }
        ],
        "barmode": "relative",
        "legend": {
         "tracegroupgap": 0
        },
        "shapes": [
         {
          "line": {
           "color": "Red",
           "dash": "dashdot",
           "width": 2
          },
          "type": "line",
          "x0": 60.5,
          "x1": 60.5,
          "xref": "x",
          "y0": 0,
          "y1": 1,
          "yref": "y domain"
         },
         {
          "line": {
           "color": "Blue",
           "dash": "dashdot",
           "width": 2
          },
          "type": "line",
          "x0": 93.5,
          "x1": 93.5,
          "xref": "x",
          "y0": 0,
          "y1": 1,
          "yref": "y domain"
         }
        ],
        "template": {
         "data": {
          "bar": [
           {
            "error_x": {
             "color": "#2a3f5f"
            },
            "error_y": {
             "color": "#2a3f5f"
            },
            "marker": {
             "line": {
              "color": "#E5ECF6",
              "width": 0.5
             },
             "pattern": {
              "fillmode": "overlay",
              "size": 10,
              "solidity": 0.2
             }
            },
            "type": "bar"
           }
          ],
          "barpolar": [
           {
            "marker": {
             "line": {
              "color": "#E5ECF6",
              "width": 0.5
             },
             "pattern": {
              "fillmode": "overlay",
              "size": 10,
              "solidity": 0.2
             }
            },
            "type": "barpolar"
           }
          ],
          "carpet": [
           {
            "aaxis": {
             "endlinecolor": "#2a3f5f",
             "gridcolor": "white",
             "linecolor": "white",
             "minorgridcolor": "white",
             "startlinecolor": "#2a3f5f"
            },
            "baxis": {
             "endlinecolor": "#2a3f5f",
             "gridcolor": "white",
             "linecolor": "white",
             "minorgridcolor": "white",
             "startlinecolor": "#2a3f5f"
            },
            "type": "carpet"
           }
          ],
          "choropleth": [
           {
            "colorbar": {
             "outlinewidth": 0,
             "ticks": ""
            },
            "type": "choropleth"
           }
          ],
          "contour": [
           {
            "colorbar": {
             "outlinewidth": 0,
             "ticks": ""
            },
            "colorscale": [
             [
              0,
              "#0d0887"
             ],
             [
              0.1111111111111111,
              "#46039f"
             ],
             [
              0.2222222222222222,
              "#7201a8"
             ],
             [
              0.3333333333333333,
              "#9c179e"
             ],
             [
              0.4444444444444444,
              "#bd3786"
             ],
             [
              0.5555555555555556,
              "#d8576b"
             ],
             [
              0.6666666666666666,
              "#ed7953"
             ],
             [
              0.7777777777777778,
              "#fb9f3a"
             ],
             [
              0.8888888888888888,
              "#fdca26"
             ],
             [
              1,
              "#f0f921"
             ]
            ],
            "type": "contour"
           }
          ],
          "contourcarpet": [
           {
            "colorbar": {
             "outlinewidth": 0,
             "ticks": ""
            },
            "type": "contourcarpet"
           }
          ],
          "heatmap": [
           {
            "colorbar": {
             "outlinewidth": 0,
             "ticks": ""
            },
            "colorscale": [
             [
              0,
              "#0d0887"
             ],
             [
              0.1111111111111111,
              "#46039f"
             ],
             [
              0.2222222222222222,
              "#7201a8"
             ],
             [
              0.3333333333333333,
              "#9c179e"
             ],
             [
              0.4444444444444444,
              "#bd3786"
             ],
             [
              0.5555555555555556,
              "#d8576b"
             ],
             [
              0.6666666666666666,
              "#ed7953"
             ],
             [
              0.7777777777777778,
              "#fb9f3a"
             ],
             [
              0.8888888888888888,
              "#fdca26"
             ],
             [
              1,
              "#f0f921"
             ]
            ],
            "type": "heatmap"
           }
          ],
          "heatmapgl": [
           {
            "colorbar": {
             "outlinewidth": 0,
             "ticks": ""
            },
            "colorscale": [
             [
              0,
              "#0d0887"
             ],
             [
              0.1111111111111111,
              "#46039f"
             ],
             [
              0.2222222222222222,
              "#7201a8"
             ],
             [
              0.3333333333333333,
              "#9c179e"
             ],
             [
              0.4444444444444444,
              "#bd3786"
             ],
             [
              0.5555555555555556,
              "#d8576b"
             ],
             [
              0.6666666666666666,
              "#ed7953"
             ],
             [
              0.7777777777777778,
              "#fb9f3a"
             ],
             [
              0.8888888888888888,
              "#fdca26"
             ],
             [
              1,
              "#f0f921"
             ]
            ],
            "type": "heatmapgl"
           }
          ],
          "histogram": [
           {
            "marker": {
             "pattern": {
              "fillmode": "overlay",
              "size": 10,
              "solidity": 0.2
             }
            },
            "type": "histogram"
           }
          ],
          "histogram2d": [
           {
            "colorbar": {
             "outlinewidth": 0,
             "ticks": ""
            },
            "colorscale": [
             [
              0,
              "#0d0887"
             ],
             [
              0.1111111111111111,
              "#46039f"
             ],
             [
              0.2222222222222222,
              "#7201a8"
             ],
             [
              0.3333333333333333,
              "#9c179e"
             ],
             [
              0.4444444444444444,
              "#bd3786"
             ],
             [
              0.5555555555555556,
              "#d8576b"
             ],
             [
              0.6666666666666666,
              "#ed7953"
             ],
             [
              0.7777777777777778,
              "#fb9f3a"
             ],
             [
              0.8888888888888888,
              "#fdca26"
             ],
             [
              1,
              "#f0f921"
             ]
            ],
            "type": "histogram2d"
           }
          ],
          "histogram2dcontour": [
           {
            "colorbar": {
             "outlinewidth": 0,
             "ticks": ""
            },
            "colorscale": [
             [
              0,
              "#0d0887"
             ],
             [
              0.1111111111111111,
              "#46039f"
             ],
             [
              0.2222222222222222,
              "#7201a8"
             ],
             [
              0.3333333333333333,
              "#9c179e"
             ],
             [
              0.4444444444444444,
              "#bd3786"
             ],
             [
              0.5555555555555556,
              "#d8576b"
             ],
             [
              0.6666666666666666,
              "#ed7953"
             ],
             [
              0.7777777777777778,
              "#fb9f3a"
             ],
             [
              0.8888888888888888,
              "#fdca26"
             ],
             [
              1,
              "#f0f921"
             ]
            ],
            "type": "histogram2dcontour"
           }
          ],
          "mesh3d": [
           {
            "colorbar": {
             "outlinewidth": 0,
             "ticks": ""
            },
            "type": "mesh3d"
           }
          ],
          "parcoords": [
           {
            "line": {
             "colorbar": {
              "outlinewidth": 0,
              "ticks": ""
             }
            },
            "type": "parcoords"
           }
          ],
          "pie": [
           {
            "automargin": true,
            "type": "pie"
           }
          ],
          "scatter": [
           {
            "fillpattern": {
             "fillmode": "overlay",
             "size": 10,
             "solidity": 0.2
            },
            "type": "scatter"
           }
          ],
          "scatter3d": [
           {
            "line": {
             "colorbar": {
              "outlinewidth": 0,
              "ticks": ""
             }
            },
            "marker": {
             "colorbar": {
              "outlinewidth": 0,
              "ticks": ""
             }
            },
            "type": "scatter3d"
           }
          ],
          "scattercarpet": [
           {
            "marker": {
             "colorbar": {
              "outlinewidth": 0,
              "ticks": ""
             }
            },
            "type": "scattercarpet"
           }
          ],
          "scattergeo": [
           {
            "marker": {
             "colorbar": {
              "outlinewidth": 0,
              "ticks": ""
             }
            },
            "type": "scattergeo"
           }
          ],
          "scattergl": [
           {
            "marker": {
             "colorbar": {
              "outlinewidth": 0,
              "ticks": ""
             }
            },
            "type": "scattergl"
           }
          ],
          "scattermapbox": [
           {
            "marker": {
             "colorbar": {
              "outlinewidth": 0,
              "ticks": ""
             }
            },
            "type": "scattermapbox"
           }
          ],
          "scatterpolar": [
           {
            "marker": {
             "colorbar": {
              "outlinewidth": 0,
              "ticks": ""
             }
            },
            "type": "scatterpolar"
           }
          ],
          "scatterpolargl": [
           {
            "marker": {
             "colorbar": {
              "outlinewidth": 0,
              "ticks": ""
             }
            },
            "type": "scatterpolargl"
           }
          ],
          "scatterternary": [
           {
            "marker": {
             "colorbar": {
              "outlinewidth": 0,
              "ticks": ""
             }
            },
            "type": "scatterternary"
           }
          ],
          "surface": [
           {
            "colorbar": {
             "outlinewidth": 0,
             "ticks": ""
            },
            "colorscale": [
             [
              0,
              "#0d0887"
             ],
             [
              0.1111111111111111,
              "#46039f"
             ],
             [
              0.2222222222222222,
              "#7201a8"
             ],
             [
              0.3333333333333333,
              "#9c179e"
             ],
             [
              0.4444444444444444,
              "#bd3786"
             ],
             [
              0.5555555555555556,
              "#d8576b"
             ],
             [
              0.6666666666666666,
              "#ed7953"
             ],
             [
              0.7777777777777778,
              "#fb9f3a"
             ],
             [
              0.8888888888888888,
              "#fdca26"
             ],
             [
              1,
              "#f0f921"
             ]
            ],
            "type": "surface"
           }
          ],
          "table": [
           {
            "cells": {
             "fill": {
              "color": "#EBF0F8"
             },
             "line": {
              "color": "white"
             }
            },
            "header": {
             "fill": {
              "color": "#C8D4E3"
             },
             "line": {
              "color": "white"
             }
            },
            "type": "table"
           }
          ]
         },
         "layout": {
          "annotationdefaults": {
           "arrowcolor": "#2a3f5f",
           "arrowhead": 0,
           "arrowwidth": 1
          },
          "autotypenumbers": "strict",
          "coloraxis": {
           "colorbar": {
            "outlinewidth": 0,
            "ticks": ""
           }
          },
          "colorscale": {
           "diverging": [
            [
             0,
             "#8e0152"
            ],
            [
             0.1,
             "#c51b7d"
            ],
            [
             0.2,
             "#de77ae"
            ],
            [
             0.3,
             "#f1b6da"
            ],
            [
             0.4,
             "#fde0ef"
            ],
            [
             0.5,
             "#f7f7f7"
            ],
            [
             0.6,
             "#e6f5d0"
            ],
            [
             0.7,
             "#b8e186"
            ],
            [
             0.8,
             "#7fbc41"
            ],
            [
             0.9,
             "#4d9221"
            ],
            [
             1,
             "#276419"
            ]
           ],
           "sequential": [
            [
             0,
             "#0d0887"
            ],
            [
             0.1111111111111111,
             "#46039f"
            ],
            [
             0.2222222222222222,
             "#7201a8"
            ],
            [
             0.3333333333333333,
             "#9c179e"
            ],
            [
             0.4444444444444444,
             "#bd3786"
            ],
            [
             0.5555555555555556,
             "#d8576b"
            ],
            [
             0.6666666666666666,
             "#ed7953"
            ],
            [
             0.7777777777777778,
             "#fb9f3a"
            ],
            [
             0.8888888888888888,
             "#fdca26"
            ],
            [
             1,
             "#f0f921"
            ]
           ],
           "sequentialminus": [
            [
             0,
             "#0d0887"
            ],
            [
             0.1111111111111111,
             "#46039f"
            ],
            [
             0.2222222222222222,
             "#7201a8"
            ],
            [
             0.3333333333333333,
             "#9c179e"
            ],
            [
             0.4444444444444444,
             "#bd3786"
            ],
            [
             0.5555555555555556,
             "#d8576b"
            ],
            [
             0.6666666666666666,
             "#ed7953"
            ],
            [
             0.7777777777777778,
             "#fb9f3a"
            ],
            [
             0.8888888888888888,
             "#fdca26"
            ],
            [
             1,
             "#f0f921"
            ]
           ]
          },
          "colorway": [
           "#636efa",
           "#EF553B",
           "#00cc96",
           "#ab63fa",
           "#FFA15A",
           "#19d3f3",
           "#FF6692",
           "#B6E880",
           "#FF97FF",
           "#FECB52"
          ],
          "font": {
           "color": "#2a3f5f"
          },
          "geo": {
           "bgcolor": "white",
           "lakecolor": "white",
           "landcolor": "#E5ECF6",
           "showlakes": true,
           "showland": true,
           "subunitcolor": "white"
          },
          "hoverlabel": {
           "align": "left"
          },
          "hovermode": "closest",
          "mapbox": {
           "style": "light"
          },
          "paper_bgcolor": "white",
          "plot_bgcolor": "#E5ECF6",
          "polar": {
           "angularaxis": {
            "gridcolor": "white",
            "linecolor": "white",
            "ticks": ""
           },
           "bgcolor": "#E5ECF6",
           "radialaxis": {
            "gridcolor": "white",
            "linecolor": "white",
            "ticks": ""
           }
          },
          "scene": {
           "xaxis": {
            "backgroundcolor": "#E5ECF6",
            "gridcolor": "white",
            "gridwidth": 2,
            "linecolor": "white",
            "showbackground": true,
            "ticks": "",
            "zerolinecolor": "white"
           },
           "yaxis": {
            "backgroundcolor": "#E5ECF6",
            "gridcolor": "white",
            "gridwidth": 2,
            "linecolor": "white",
            "showbackground": true,
            "ticks": "",
            "zerolinecolor": "white"
           },
           "zaxis": {
            "backgroundcolor": "#E5ECF6",
            "gridcolor": "white",
            "gridwidth": 2,
            "linecolor": "white",
            "showbackground": true,
            "ticks": "",
            "zerolinecolor": "white"
           }
          },
          "shapedefaults": {
           "line": {
            "color": "#2a3f5f"
           }
          },
          "ternary": {
           "aaxis": {
            "gridcolor": "white",
            "linecolor": "white",
            "ticks": ""
           },
           "baxis": {
            "gridcolor": "white",
            "linecolor": "white",
            "ticks": ""
           },
           "bgcolor": "#E5ECF6",
           "caxis": {
            "gridcolor": "white",
            "linecolor": "white",
            "ticks": ""
           }
          },
          "title": {
           "x": 0.05
          },
          "xaxis": {
           "automargin": true,
           "gridcolor": "white",
           "linecolor": "white",
           "ticks": "",
           "title": {
            "standoff": 15
           },
           "zerolinecolor": "white",
           "zerolinewidth": 2
          },
          "yaxis": {
           "automargin": true,
           "gridcolor": "white",
           "linecolor": "white",
           "ticks": "",
           "title": {
            "standoff": 15
           },
           "zerolinecolor": "white",
           "zerolinewidth": 2
          }
         }
        },
        "title": {
         "text": "Market Capitalizations Companies"
        },
        "xaxis": {
         "anchor": "y",
         "domain": [
          0,
          1
         ],
         "title": {
          "text": "Ticker"
         }
        },
        "yaxis": {
         "anchor": "x",
         "domain": [
          0,
          1
         ],
         "title": {
          "text": "Market Cap (Billions USD)"
         }
        }
       }
      }
     },
     "metadata": {},
     "output_type": "display_data"
    },
    {
     "data": {
      "application/vnd.plotly.v1+json": {
       "config": {
        "plotlyServerURL": "https://plot.ly"
       },
       "data": [
        {
         "alignmentgroup": "True",
         "hovertemplate": "Symbol=%{x}<br>Market Cap (Billions USD)=%{y}<extra></extra>",
         "legendgroup": "",
         "marker": {
          "color": "#636efa",
          "pattern": {
           "shape": ""
          }
         },
         "name": "",
         "offsetgroup": "",
         "orientation": "v",
         "showlegend": false,
         "textposition": "auto",
         "type": "bar",
         "x": [
          "DAY",
          "PAYC",
          "FFIV",
          "QRVO",
          "EPAM",
          "JNPR",
          "JKHY",
          "JBL",
          "TRMB",
          "AKAM",
          "GEN",
          "ENPH",
          "ZBRA",
          "VRSN",
          "SWKS",
          "TER",
          "TDY",
          "CPAY",
          "GDDY",
          "LDOS",
          "PTC",
          "WDC",
          "STX",
          "FSLR",
          "KEYS",
          "TYL",
          "FTV",
          "BR",
          "HPE",
          "NTAP",
          "ANSS",
          "ON",
          "CDW",
          "GRMN",
          "HPQ",
          "IT",
          "CTSH",
          "GLW",
          "MPWR",
          "FICO",
          "SMCI",
          "FIS",
          "FTNT",
          "MCHP",
          "TEL",
          "ADSK",
          "ROP",
          "CRWD",
          "NXPI",
          "MSI",
          "CDNS",
          "APH",
          "SNPS",
          "FI",
          "ANET",
          "KLAC",
          "PANW",
          "ADI",
          "LRCX",
          "MU",
          "INTC",
          "UBER",
          "AMAT",
          "NOW",
          "INTU",
          "IBM",
          "TXN",
          "CSCO",
          "QCOM",
          "ACN",
          "AMD",
          "ADBE",
          "CRM",
          "ORCL",
          "AVGO",
          "NVDA",
          "MSFT",
          "AAPL"
         ],
         "xaxis": "x",
         "y": [
          8179219968,
          9467862016,
          10182558720,
          11277067264,
          12012295168,
          12193550336,
          12209291264,
          12518656000,
          13358177280,
          14678789120,
          15785139200,
          15914792960,
          16680968192,
          17603305472,
          18079168512,
          19410186240,
          19721119744,
          20070791168,
          20194729984,
          20556279808,
          20819888128,
          21710645248,
          21830455296,
          23141193728,
          23718105088,
          23968989184,
          24536205312,
          24601530368,
          25278582784,
          25840498688,
          27123236864,
          29057869824,
          30726070272,
          33302484992,
          35453227008,
          35862573056,
          36399939584,
          36671860736,
          38446014464,
          38974029824,
          40732487680,
          41451823104,
          43781287936,
          45619019776,
          47045885952,
          52202741760,
          57899573248,
          61850193920,
          63048962048,
          64334753792,
          70749609984,
          74186727424,
          82540519424,
          91363680256,
          98394415104,
          102704734208,
          103658094592,
          109624254464,
          115590733824,
          119144849408,
          132388659200,
          137406840832,
          167515897856,
          169912532992,
          175085879296,
          176408510464,
          180007010304,
          190320984064,
          195735240704,
          206925332480,
          223568019456,
          235955322880,
          248577572864,
          379977990144,
          694787309568,
          2761897279488,
          3109678481408,
          3335013531648
         ],
         "yaxis": "y"
        }
       ],
       "layout": {
        "annotations": [
         {
          "showarrow": false,
          "text": "Small to Mid",
          "x": 46.5,
          "xanchor": "right",
          "xref": "x",
          "y": 1,
          "yanchor": "top",
          "yref": "y domain"
         },
         {
          "showarrow": false,
          "text": "Mid to Large",
          "x": 72.5,
          "xanchor": "right",
          "xref": "x",
          "y": 1,
          "yanchor": "top",
          "yref": "y domain"
         }
        ],
        "barmode": "relative",
        "legend": {
         "tracegroupgap": 0
        },
        "shapes": [
         {
          "line": {
           "color": "Red",
           "dash": "dashdot",
           "width": 2
          },
          "type": "line",
          "x0": 46.5,
          "x1": 46.5,
          "xref": "x",
          "y0": 0,
          "y1": 1,
          "yref": "y domain"
         },
         {
          "line": {
           "color": "Blue",
           "dash": "dashdot",
           "width": 2
          },
          "type": "line",
          "x0": 72.5,
          "x1": 72.5,
          "xref": "x",
          "y0": 0,
          "y1": 1,
          "yref": "y domain"
         }
        ],
        "template": {
         "data": {
          "bar": [
           {
            "error_x": {
             "color": "#2a3f5f"
            },
            "error_y": {
             "color": "#2a3f5f"
            },
            "marker": {
             "line": {
              "color": "#E5ECF6",
              "width": 0.5
             },
             "pattern": {
              "fillmode": "overlay",
              "size": 10,
              "solidity": 0.2
             }
            },
            "type": "bar"
           }
          ],
          "barpolar": [
           {
            "marker": {
             "line": {
              "color": "#E5ECF6",
              "width": 0.5
             },
             "pattern": {
              "fillmode": "overlay",
              "size": 10,
              "solidity": 0.2
             }
            },
            "type": "barpolar"
           }
          ],
          "carpet": [
           {
            "aaxis": {
             "endlinecolor": "#2a3f5f",
             "gridcolor": "white",
             "linecolor": "white",
             "minorgridcolor": "white",
             "startlinecolor": "#2a3f5f"
            },
            "baxis": {
             "endlinecolor": "#2a3f5f",
             "gridcolor": "white",
             "linecolor": "white",
             "minorgridcolor": "white",
             "startlinecolor": "#2a3f5f"
            },
            "type": "carpet"
           }
          ],
          "choropleth": [
           {
            "colorbar": {
             "outlinewidth": 0,
             "ticks": ""
            },
            "type": "choropleth"
           }
          ],
          "contour": [
           {
            "colorbar": {
             "outlinewidth": 0,
             "ticks": ""
            },
            "colorscale": [
             [
              0,
              "#0d0887"
             ],
             [
              0.1111111111111111,
              "#46039f"
             ],
             [
              0.2222222222222222,
              "#7201a8"
             ],
             [
              0.3333333333333333,
              "#9c179e"
             ],
             [
              0.4444444444444444,
              "#bd3786"
             ],
             [
              0.5555555555555556,
              "#d8576b"
             ],
             [
              0.6666666666666666,
              "#ed7953"
             ],
             [
              0.7777777777777778,
              "#fb9f3a"
             ],
             [
              0.8888888888888888,
              "#fdca26"
             ],
             [
              1,
              "#f0f921"
             ]
            ],
            "type": "contour"
           }
          ],
          "contourcarpet": [
           {
            "colorbar": {
             "outlinewidth": 0,
             "ticks": ""
            },
            "type": "contourcarpet"
           }
          ],
          "heatmap": [
           {
            "colorbar": {
             "outlinewidth": 0,
             "ticks": ""
            },
            "colorscale": [
             [
              0,
              "#0d0887"
             ],
             [
              0.1111111111111111,
              "#46039f"
             ],
             [
              0.2222222222222222,
              "#7201a8"
             ],
             [
              0.3333333333333333,
              "#9c179e"
             ],
             [
              0.4444444444444444,
              "#bd3786"
             ],
             [
              0.5555555555555556,
              "#d8576b"
             ],
             [
              0.6666666666666666,
              "#ed7953"
             ],
             [
              0.7777777777777778,
              "#fb9f3a"
             ],
             [
              0.8888888888888888,
              "#fdca26"
             ],
             [
              1,
              "#f0f921"
             ]
            ],
            "type": "heatmap"
           }
          ],
          "heatmapgl": [
           {
            "colorbar": {
             "outlinewidth": 0,
             "ticks": ""
            },
            "colorscale": [
             [
              0,
              "#0d0887"
             ],
             [
              0.1111111111111111,
              "#46039f"
             ],
             [
              0.2222222222222222,
              "#7201a8"
             ],
             [
              0.3333333333333333,
              "#9c179e"
             ],
             [
              0.4444444444444444,
              "#bd3786"
             ],
             [
              0.5555555555555556,
              "#d8576b"
             ],
             [
              0.6666666666666666,
              "#ed7953"
             ],
             [
              0.7777777777777778,
              "#fb9f3a"
             ],
             [
              0.8888888888888888,
              "#fdca26"
             ],
             [
              1,
              "#f0f921"
             ]
            ],
            "type": "heatmapgl"
           }
          ],
          "histogram": [
           {
            "marker": {
             "pattern": {
              "fillmode": "overlay",
              "size": 10,
              "solidity": 0.2
             }
            },
            "type": "histogram"
           }
          ],
          "histogram2d": [
           {
            "colorbar": {
             "outlinewidth": 0,
             "ticks": ""
            },
            "colorscale": [
             [
              0,
              "#0d0887"
             ],
             [
              0.1111111111111111,
              "#46039f"
             ],
             [
              0.2222222222222222,
              "#7201a8"
             ],
             [
              0.3333333333333333,
              "#9c179e"
             ],
             [
              0.4444444444444444,
              "#bd3786"
             ],
             [
              0.5555555555555556,
              "#d8576b"
             ],
             [
              0.6666666666666666,
              "#ed7953"
             ],
             [
              0.7777777777777778,
              "#fb9f3a"
             ],
             [
              0.8888888888888888,
              "#fdca26"
             ],
             [
              1,
              "#f0f921"
             ]
            ],
            "type": "histogram2d"
           }
          ],
          "histogram2dcontour": [
           {
            "colorbar": {
             "outlinewidth": 0,
             "ticks": ""
            },
            "colorscale": [
             [
              0,
              "#0d0887"
             ],
             [
              0.1111111111111111,
              "#46039f"
             ],
             [
              0.2222222222222222,
              "#7201a8"
             ],
             [
              0.3333333333333333,
              "#9c179e"
             ],
             [
              0.4444444444444444,
              "#bd3786"
             ],
             [
              0.5555555555555556,
              "#d8576b"
             ],
             [
              0.6666666666666666,
              "#ed7953"
             ],
             [
              0.7777777777777778,
              "#fb9f3a"
             ],
             [
              0.8888888888888888,
              "#fdca26"
             ],
             [
              1,
              "#f0f921"
             ]
            ],
            "type": "histogram2dcontour"
           }
          ],
          "mesh3d": [
           {
            "colorbar": {
             "outlinewidth": 0,
             "ticks": ""
            },
            "type": "mesh3d"
           }
          ],
          "parcoords": [
           {
            "line": {
             "colorbar": {
              "outlinewidth": 0,
              "ticks": ""
             }
            },
            "type": "parcoords"
           }
          ],
          "pie": [
           {
            "automargin": true,
            "type": "pie"
           }
          ],
          "scatter": [
           {
            "fillpattern": {
             "fillmode": "overlay",
             "size": 10,
             "solidity": 0.2
            },
            "type": "scatter"
           }
          ],
          "scatter3d": [
           {
            "line": {
             "colorbar": {
              "outlinewidth": 0,
              "ticks": ""
             }
            },
            "marker": {
             "colorbar": {
              "outlinewidth": 0,
              "ticks": ""
             }
            },
            "type": "scatter3d"
           }
          ],
          "scattercarpet": [
           {
            "marker": {
             "colorbar": {
              "outlinewidth": 0,
              "ticks": ""
             }
            },
            "type": "scattercarpet"
           }
          ],
          "scattergeo": [
           {
            "marker": {
             "colorbar": {
              "outlinewidth": 0,
              "ticks": ""
             }
            },
            "type": "scattergeo"
           }
          ],
          "scattergl": [
           {
            "marker": {
             "colorbar": {
              "outlinewidth": 0,
              "ticks": ""
             }
            },
            "type": "scattergl"
           }
          ],
          "scattermapbox": [
           {
            "marker": {
             "colorbar": {
              "outlinewidth": 0,
              "ticks": ""
             }
            },
            "type": "scattermapbox"
           }
          ],
          "scatterpolar": [
           {
            "marker": {
             "colorbar": {
              "outlinewidth": 0,
              "ticks": ""
             }
            },
            "type": "scatterpolar"
           }
          ],
          "scatterpolargl": [
           {
            "marker": {
             "colorbar": {
              "outlinewidth": 0,
              "ticks": ""
             }
            },
            "type": "scatterpolargl"
           }
          ],
          "scatterternary": [
           {
            "marker": {
             "colorbar": {
              "outlinewidth": 0,
              "ticks": ""
             }
            },
            "type": "scatterternary"
           }
          ],
          "surface": [
           {
            "colorbar": {
             "outlinewidth": 0,
             "ticks": ""
            },
            "colorscale": [
             [
              0,
              "#0d0887"
             ],
             [
              0.1111111111111111,
              "#46039f"
             ],
             [
              0.2222222222222222,
              "#7201a8"
             ],
             [
              0.3333333333333333,
              "#9c179e"
             ],
             [
              0.4444444444444444,
              "#bd3786"
             ],
             [
              0.5555555555555556,
              "#d8576b"
             ],
             [
              0.6666666666666666,
              "#ed7953"
             ],
             [
              0.7777777777777778,
              "#fb9f3a"
             ],
             [
              0.8888888888888888,
              "#fdca26"
             ],
             [
              1,
              "#f0f921"
             ]
            ],
            "type": "surface"
           }
          ],
          "table": [
           {
            "cells": {
             "fill": {
              "color": "#EBF0F8"
             },
             "line": {
              "color": "white"
             }
            },
            "header": {
             "fill": {
              "color": "#C8D4E3"
             },
             "line": {
              "color": "white"
             }
            },
            "type": "table"
           }
          ]
         },
         "layout": {
          "annotationdefaults": {
           "arrowcolor": "#2a3f5f",
           "arrowhead": 0,
           "arrowwidth": 1
          },
          "autotypenumbers": "strict",
          "coloraxis": {
           "colorbar": {
            "outlinewidth": 0,
            "ticks": ""
           }
          },
          "colorscale": {
           "diverging": [
            [
             0,
             "#8e0152"
            ],
            [
             0.1,
             "#c51b7d"
            ],
            [
             0.2,
             "#de77ae"
            ],
            [
             0.3,
             "#f1b6da"
            ],
            [
             0.4,
             "#fde0ef"
            ],
            [
             0.5,
             "#f7f7f7"
            ],
            [
             0.6,
             "#e6f5d0"
            ],
            [
             0.7,
             "#b8e186"
            ],
            [
             0.8,
             "#7fbc41"
            ],
            [
             0.9,
             "#4d9221"
            ],
            [
             1,
             "#276419"
            ]
           ],
           "sequential": [
            [
             0,
             "#0d0887"
            ],
            [
             0.1111111111111111,
             "#46039f"
            ],
            [
             0.2222222222222222,
             "#7201a8"
            ],
            [
             0.3333333333333333,
             "#9c179e"
            ],
            [
             0.4444444444444444,
             "#bd3786"
            ],
            [
             0.5555555555555556,
             "#d8576b"
            ],
            [
             0.6666666666666666,
             "#ed7953"
            ],
            [
             0.7777777777777778,
             "#fb9f3a"
            ],
            [
             0.8888888888888888,
             "#fdca26"
            ],
            [
             1,
             "#f0f921"
            ]
           ],
           "sequentialminus": [
            [
             0,
             "#0d0887"
            ],
            [
             0.1111111111111111,
             "#46039f"
            ],
            [
             0.2222222222222222,
             "#7201a8"
            ],
            [
             0.3333333333333333,
             "#9c179e"
            ],
            [
             0.4444444444444444,
             "#bd3786"
            ],
            [
             0.5555555555555556,
             "#d8576b"
            ],
            [
             0.6666666666666666,
             "#ed7953"
            ],
            [
             0.7777777777777778,
             "#fb9f3a"
            ],
            [
             0.8888888888888888,
             "#fdca26"
            ],
            [
             1,
             "#f0f921"
            ]
           ]
          },
          "colorway": [
           "#636efa",
           "#EF553B",
           "#00cc96",
           "#ab63fa",
           "#FFA15A",
           "#19d3f3",
           "#FF6692",
           "#B6E880",
           "#FF97FF",
           "#FECB52"
          ],
          "font": {
           "color": "#2a3f5f"
          },
          "geo": {
           "bgcolor": "white",
           "lakecolor": "white",
           "landcolor": "#E5ECF6",
           "showlakes": true,
           "showland": true,
           "subunitcolor": "white"
          },
          "hoverlabel": {
           "align": "left"
          },
          "hovermode": "closest",
          "mapbox": {
           "style": "light"
          },
          "paper_bgcolor": "white",
          "plot_bgcolor": "#E5ECF6",
          "polar": {
           "angularaxis": {
            "gridcolor": "white",
            "linecolor": "white",
            "ticks": ""
           },
           "bgcolor": "#E5ECF6",
           "radialaxis": {
            "gridcolor": "white",
            "linecolor": "white",
            "ticks": ""
           }
          },
          "scene": {
           "xaxis": {
            "backgroundcolor": "#E5ECF6",
            "gridcolor": "white",
            "gridwidth": 2,
            "linecolor": "white",
            "showbackground": true,
            "ticks": "",
            "zerolinecolor": "white"
           },
           "yaxis": {
            "backgroundcolor": "#E5ECF6",
            "gridcolor": "white",
            "gridwidth": 2,
            "linecolor": "white",
            "showbackground": true,
            "ticks": "",
            "zerolinecolor": "white"
           },
           "zaxis": {
            "backgroundcolor": "#E5ECF6",
            "gridcolor": "white",
            "gridwidth": 2,
            "linecolor": "white",
            "showbackground": true,
            "ticks": "",
            "zerolinecolor": "white"
           }
          },
          "shapedefaults": {
           "line": {
            "color": "#2a3f5f"
           }
          },
          "ternary": {
           "aaxis": {
            "gridcolor": "white",
            "linecolor": "white",
            "ticks": ""
           },
           "baxis": {
            "gridcolor": "white",
            "linecolor": "white",
            "ticks": ""
           },
           "bgcolor": "#E5ECF6",
           "caxis": {
            "gridcolor": "white",
            "linecolor": "white",
            "ticks": ""
           }
          },
          "title": {
           "x": 0.05
          },
          "xaxis": {
           "automargin": true,
           "gridcolor": "white",
           "linecolor": "white",
           "ticks": "",
           "title": {
            "standoff": 15
           },
           "zerolinecolor": "white",
           "zerolinewidth": 2
          },
          "yaxis": {
           "automargin": true,
           "gridcolor": "white",
           "linecolor": "white",
           "ticks": "",
           "title": {
            "standoff": 15
           },
           "zerolinecolor": "white",
           "zerolinewidth": 2
          }
         }
        },
        "title": {
         "text": "Market Capitalizations Companies"
        },
        "xaxis": {
         "anchor": "y",
         "domain": [
          0,
          1
         ],
         "title": {
          "text": "Ticker"
         }
        },
        "yaxis": {
         "anchor": "x",
         "domain": [
          0,
          1
         ],
         "title": {
          "text": "Market Cap (Billions USD)"
         }
        }
       }
      }
     },
     "metadata": {},
     "output_type": "display_data"
    },
    {
     "data": {
      "application/vnd.plotly.v1+json": {
       "config": {
        "plotlyServerURL": "https://plot.ly"
       },
       "data": [
        {
         "alignmentgroup": "True",
         "hovertemplate": "Symbol=%{x}<br>Market Cap (Billions USD)=%{y}<extra></extra>",
         "legendgroup": "",
         "marker": {
          "color": "#636efa",
          "pattern": {
           "shape": ""
          }
         },
         "name": "",
         "offsetgroup": "",
         "orientation": "v",
         "showlegend": false,
         "textposition": "auto",
         "type": "bar",
         "x": [
          "IVZ",
          "GL",
          "MKTX",
          "AIZ",
          "BEN",
          "KEY",
          "FDS",
          "EG",
          "L",
          "NTRS",
          "CINF",
          "CFG",
          "CBOE",
          "PFG",
          "SYF",
          "WRB",
          "RF",
          "HBAN",
          "RJF",
          "STT",
          "TROW",
          "BRO",
          "WTW",
          "FITB",
          "MTB",
          "HIG",
          "ACGL",
          "DFS",
          "NDAQ",
          "MSCI",
          "ALL",
          "AMP",
          "PRU",
          "TRV",
          "BK",
          "AIG",
          "AFL",
          "MET",
          "COF",
          "TFC",
          "PYPL",
          "AJG",
          "AON",
          "USB",
          "PNC",
          "CME",
          "MCO",
          "ICE",
          "CB",
          "MMC",
          "KKR",
          "SCHW",
          "BLK",
          "C",
          "PGR",
          "SPGI",
          "GS",
          "MS",
          "AXP",
          "BX",
          "WFC",
          "BAC",
          "MA",
          "V",
          "JPM",
          "BRK.B"
         ],
         "xaxis": "x",
         "y": [
          7694359040,
          8218461696,
          8369909248,
          8814971904,
          12431529984,
          15213814784,
          15654981632,
          16242936832,
          17347823616,
          17740111872,
          18849685504,
          19586076672,
          19670106112,
          19786696704,
          19905609728,
          19976353792,
          20638162944,
          21873596416,
          24459720704,
          25396604928,
          25788915712,
          27794403328,
          28380715008,
          28477405184,
          29016881152,
          30264610816,
          35471040512,
          35477303296,
          38777610240,
          42312904704,
          43654180864,
          43866341376,
          44195074048,
          47710519296,
          47834370048,
          49937698816,
          53475373056,
          53558231040,
          56570847232,
          59095797760,
          59854983168,
          59871195136,
          65007525888,
          70353338368,
          71552491520,
          71789756416,
          79578611712,
          85469904896,
          105719898112,
          106214866944,
          107612340224,
          121097977856,
          123915952128,
          123976556544,
          124654526464,
          151293411328,
          158506680320,
          167655555072,
          170782392320,
          171415224320,
          203073732608,
          324051599360,
          399325396992,
          494000570368,
          593772347392,
          934881198080
         ],
         "yaxis": "y"
        }
       ],
       "layout": {
        "annotations": [
         {
          "showarrow": false,
          "text": "Small to Mid",
          "x": 39.5,
          "xanchor": "right",
          "xref": "x",
          "y": 1,
          "yanchor": "top",
          "yref": "y domain"
         },
         {
          "showarrow": false,
          "text": "Mid to Large",
          "x": 61.5,
          "xanchor": "right",
          "xref": "x",
          "y": 1,
          "yanchor": "top",
          "yref": "y domain"
         }
        ],
        "barmode": "relative",
        "legend": {
         "tracegroupgap": 0
        },
        "shapes": [
         {
          "line": {
           "color": "Red",
           "dash": "dashdot",
           "width": 2
          },
          "type": "line",
          "x0": 39.5,
          "x1": 39.5,
          "xref": "x",
          "y0": 0,
          "y1": 1,
          "yref": "y domain"
         },
         {
          "line": {
           "color": "Blue",
           "dash": "dashdot",
           "width": 2
          },
          "type": "line",
          "x0": 61.5,
          "x1": 61.5,
          "xref": "x",
          "y0": 0,
          "y1": 1,
          "yref": "y domain"
         }
        ],
        "template": {
         "data": {
          "bar": [
           {
            "error_x": {
             "color": "#2a3f5f"
            },
            "error_y": {
             "color": "#2a3f5f"
            },
            "marker": {
             "line": {
              "color": "#E5ECF6",
              "width": 0.5
             },
             "pattern": {
              "fillmode": "overlay",
              "size": 10,
              "solidity": 0.2
             }
            },
            "type": "bar"
           }
          ],
          "barpolar": [
           {
            "marker": {
             "line": {
              "color": "#E5ECF6",
              "width": 0.5
             },
             "pattern": {
              "fillmode": "overlay",
              "size": 10,
              "solidity": 0.2
             }
            },
            "type": "barpolar"
           }
          ],
          "carpet": [
           {
            "aaxis": {
             "endlinecolor": "#2a3f5f",
             "gridcolor": "white",
             "linecolor": "white",
             "minorgridcolor": "white",
             "startlinecolor": "#2a3f5f"
            },
            "baxis": {
             "endlinecolor": "#2a3f5f",
             "gridcolor": "white",
             "linecolor": "white",
             "minorgridcolor": "white",
             "startlinecolor": "#2a3f5f"
            },
            "type": "carpet"
           }
          ],
          "choropleth": [
           {
            "colorbar": {
             "outlinewidth": 0,
             "ticks": ""
            },
            "type": "choropleth"
           }
          ],
          "contour": [
           {
            "colorbar": {
             "outlinewidth": 0,
             "ticks": ""
            },
            "colorscale": [
             [
              0,
              "#0d0887"
             ],
             [
              0.1111111111111111,
              "#46039f"
             ],
             [
              0.2222222222222222,
              "#7201a8"
             ],
             [
              0.3333333333333333,
              "#9c179e"
             ],
             [
              0.4444444444444444,
              "#bd3786"
             ],
             [
              0.5555555555555556,
              "#d8576b"
             ],
             [
              0.6666666666666666,
              "#ed7953"
             ],
             [
              0.7777777777777778,
              "#fb9f3a"
             ],
             [
              0.8888888888888888,
              "#fdca26"
             ],
             [
              1,
              "#f0f921"
             ]
            ],
            "type": "contour"
           }
          ],
          "contourcarpet": [
           {
            "colorbar": {
             "outlinewidth": 0,
             "ticks": ""
            },
            "type": "contourcarpet"
           }
          ],
          "heatmap": [
           {
            "colorbar": {
             "outlinewidth": 0,
             "ticks": ""
            },
            "colorscale": [
             [
              0,
              "#0d0887"
             ],
             [
              0.1111111111111111,
              "#46039f"
             ],
             [
              0.2222222222222222,
              "#7201a8"
             ],
             [
              0.3333333333333333,
              "#9c179e"
             ],
             [
              0.4444444444444444,
              "#bd3786"
             ],
             [
              0.5555555555555556,
              "#d8576b"
             ],
             [
              0.6666666666666666,
              "#ed7953"
             ],
             [
              0.7777777777777778,
              "#fb9f3a"
             ],
             [
              0.8888888888888888,
              "#fdca26"
             ],
             [
              1,
              "#f0f921"
             ]
            ],
            "type": "heatmap"
           }
          ],
          "heatmapgl": [
           {
            "colorbar": {
             "outlinewidth": 0,
             "ticks": ""
            },
            "colorscale": [
             [
              0,
              "#0d0887"
             ],
             [
              0.1111111111111111,
              "#46039f"
             ],
             [
              0.2222222222222222,
              "#7201a8"
             ],
             [
              0.3333333333333333,
              "#9c179e"
             ],
             [
              0.4444444444444444,
              "#bd3786"
             ],
             [
              0.5555555555555556,
              "#d8576b"
             ],
             [
              0.6666666666666666,
              "#ed7953"
             ],
             [
              0.7777777777777778,
              "#fb9f3a"
             ],
             [
              0.8888888888888888,
              "#fdca26"
             ],
             [
              1,
              "#f0f921"
             ]
            ],
            "type": "heatmapgl"
           }
          ],
          "histogram": [
           {
            "marker": {
             "pattern": {
              "fillmode": "overlay",
              "size": 10,
              "solidity": 0.2
             }
            },
            "type": "histogram"
           }
          ],
          "histogram2d": [
           {
            "colorbar": {
             "outlinewidth": 0,
             "ticks": ""
            },
            "colorscale": [
             [
              0,
              "#0d0887"
             ],
             [
              0.1111111111111111,
              "#46039f"
             ],
             [
              0.2222222222222222,
              "#7201a8"
             ],
             [
              0.3333333333333333,
              "#9c179e"
             ],
             [
              0.4444444444444444,
              "#bd3786"
             ],
             [
              0.5555555555555556,
              "#d8576b"
             ],
             [
              0.6666666666666666,
              "#ed7953"
             ],
             [
              0.7777777777777778,
              "#fb9f3a"
             ],
             [
              0.8888888888888888,
              "#fdca26"
             ],
             [
              1,
              "#f0f921"
             ]
            ],
            "type": "histogram2d"
           }
          ],
          "histogram2dcontour": [
           {
            "colorbar": {
             "outlinewidth": 0,
             "ticks": ""
            },
            "colorscale": [
             [
              0,
              "#0d0887"
             ],
             [
              0.1111111111111111,
              "#46039f"
             ],
             [
              0.2222222222222222,
              "#7201a8"
             ],
             [
              0.3333333333333333,
              "#9c179e"
             ],
             [
              0.4444444444444444,
              "#bd3786"
             ],
             [
              0.5555555555555556,
              "#d8576b"
             ],
             [
              0.6666666666666666,
              "#ed7953"
             ],
             [
              0.7777777777777778,
              "#fb9f3a"
             ],
             [
              0.8888888888888888,
              "#fdca26"
             ],
             [
              1,
              "#f0f921"
             ]
            ],
            "type": "histogram2dcontour"
           }
          ],
          "mesh3d": [
           {
            "colorbar": {
             "outlinewidth": 0,
             "ticks": ""
            },
            "type": "mesh3d"
           }
          ],
          "parcoords": [
           {
            "line": {
             "colorbar": {
              "outlinewidth": 0,
              "ticks": ""
             }
            },
            "type": "parcoords"
           }
          ],
          "pie": [
           {
            "automargin": true,
            "type": "pie"
           }
          ],
          "scatter": [
           {
            "fillpattern": {
             "fillmode": "overlay",
             "size": 10,
             "solidity": 0.2
            },
            "type": "scatter"
           }
          ],
          "scatter3d": [
           {
            "line": {
             "colorbar": {
              "outlinewidth": 0,
              "ticks": ""
             }
            },
            "marker": {
             "colorbar": {
              "outlinewidth": 0,
              "ticks": ""
             }
            },
            "type": "scatter3d"
           }
          ],
          "scattercarpet": [
           {
            "marker": {
             "colorbar": {
              "outlinewidth": 0,
              "ticks": ""
             }
            },
            "type": "scattercarpet"
           }
          ],
          "scattergeo": [
           {
            "marker": {
             "colorbar": {
              "outlinewidth": 0,
              "ticks": ""
             }
            },
            "type": "scattergeo"
           }
          ],
          "scattergl": [
           {
            "marker": {
             "colorbar": {
              "outlinewidth": 0,
              "ticks": ""
             }
            },
            "type": "scattergl"
           }
          ],
          "scattermapbox": [
           {
            "marker": {
             "colorbar": {
              "outlinewidth": 0,
              "ticks": ""
             }
            },
            "type": "scattermapbox"
           }
          ],
          "scatterpolar": [
           {
            "marker": {
             "colorbar": {
              "outlinewidth": 0,
              "ticks": ""
             }
            },
            "type": "scatterpolar"
           }
          ],
          "scatterpolargl": [
           {
            "marker": {
             "colorbar": {
              "outlinewidth": 0,
              "ticks": ""
             }
            },
            "type": "scatterpolargl"
           }
          ],
          "scatterternary": [
           {
            "marker": {
             "colorbar": {
              "outlinewidth": 0,
              "ticks": ""
             }
            },
            "type": "scatterternary"
           }
          ],
          "surface": [
           {
            "colorbar": {
             "outlinewidth": 0,
             "ticks": ""
            },
            "colorscale": [
             [
              0,
              "#0d0887"
             ],
             [
              0.1111111111111111,
              "#46039f"
             ],
             [
              0.2222222222222222,
              "#7201a8"
             ],
             [
              0.3333333333333333,
              "#9c179e"
             ],
             [
              0.4444444444444444,
              "#bd3786"
             ],
             [
              0.5555555555555556,
              "#d8576b"
             ],
             [
              0.6666666666666666,
              "#ed7953"
             ],
             [
              0.7777777777777778,
              "#fb9f3a"
             ],
             [
              0.8888888888888888,
              "#fdca26"
             ],
             [
              1,
              "#f0f921"
             ]
            ],
            "type": "surface"
           }
          ],
          "table": [
           {
            "cells": {
             "fill": {
              "color": "#EBF0F8"
             },
             "line": {
              "color": "white"
             }
            },
            "header": {
             "fill": {
              "color": "#C8D4E3"
             },
             "line": {
              "color": "white"
             }
            },
            "type": "table"
           }
          ]
         },
         "layout": {
          "annotationdefaults": {
           "arrowcolor": "#2a3f5f",
           "arrowhead": 0,
           "arrowwidth": 1
          },
          "autotypenumbers": "strict",
          "coloraxis": {
           "colorbar": {
            "outlinewidth": 0,
            "ticks": ""
           }
          },
          "colorscale": {
           "diverging": [
            [
             0,
             "#8e0152"
            ],
            [
             0.1,
             "#c51b7d"
            ],
            [
             0.2,
             "#de77ae"
            ],
            [
             0.3,
             "#f1b6da"
            ],
            [
             0.4,
             "#fde0ef"
            ],
            [
             0.5,
             "#f7f7f7"
            ],
            [
             0.6,
             "#e6f5d0"
            ],
            [
             0.7,
             "#b8e186"
            ],
            [
             0.8,
             "#7fbc41"
            ],
            [
             0.9,
             "#4d9221"
            ],
            [
             1,
             "#276419"
            ]
           ],
           "sequential": [
            [
             0,
             "#0d0887"
            ],
            [
             0.1111111111111111,
             "#46039f"
            ],
            [
             0.2222222222222222,
             "#7201a8"
            ],
            [
             0.3333333333333333,
             "#9c179e"
            ],
            [
             0.4444444444444444,
             "#bd3786"
            ],
            [
             0.5555555555555556,
             "#d8576b"
            ],
            [
             0.6666666666666666,
             "#ed7953"
            ],
            [
             0.7777777777777778,
             "#fb9f3a"
            ],
            [
             0.8888888888888888,
             "#fdca26"
            ],
            [
             1,
             "#f0f921"
            ]
           ],
           "sequentialminus": [
            [
             0,
             "#0d0887"
            ],
            [
             0.1111111111111111,
             "#46039f"
            ],
            [
             0.2222222222222222,
             "#7201a8"
            ],
            [
             0.3333333333333333,
             "#9c179e"
            ],
            [
             0.4444444444444444,
             "#bd3786"
            ],
            [
             0.5555555555555556,
             "#d8576b"
            ],
            [
             0.6666666666666666,
             "#ed7953"
            ],
            [
             0.7777777777777778,
             "#fb9f3a"
            ],
            [
             0.8888888888888888,
             "#fdca26"
            ],
            [
             1,
             "#f0f921"
            ]
           ]
          },
          "colorway": [
           "#636efa",
           "#EF553B",
           "#00cc96",
           "#ab63fa",
           "#FFA15A",
           "#19d3f3",
           "#FF6692",
           "#B6E880",
           "#FF97FF",
           "#FECB52"
          ],
          "font": {
           "color": "#2a3f5f"
          },
          "geo": {
           "bgcolor": "white",
           "lakecolor": "white",
           "landcolor": "#E5ECF6",
           "showlakes": true,
           "showland": true,
           "subunitcolor": "white"
          },
          "hoverlabel": {
           "align": "left"
          },
          "hovermode": "closest",
          "mapbox": {
           "style": "light"
          },
          "paper_bgcolor": "white",
          "plot_bgcolor": "#E5ECF6",
          "polar": {
           "angularaxis": {
            "gridcolor": "white",
            "linecolor": "white",
            "ticks": ""
           },
           "bgcolor": "#E5ECF6",
           "radialaxis": {
            "gridcolor": "white",
            "linecolor": "white",
            "ticks": ""
           }
          },
          "scene": {
           "xaxis": {
            "backgroundcolor": "#E5ECF6",
            "gridcolor": "white",
            "gridwidth": 2,
            "linecolor": "white",
            "showbackground": true,
            "ticks": "",
            "zerolinecolor": "white"
           },
           "yaxis": {
            "backgroundcolor": "#E5ECF6",
            "gridcolor": "white",
            "gridwidth": 2,
            "linecolor": "white",
            "showbackground": true,
            "ticks": "",
            "zerolinecolor": "white"
           },
           "zaxis": {
            "backgroundcolor": "#E5ECF6",
            "gridcolor": "white",
            "gridwidth": 2,
            "linecolor": "white",
            "showbackground": true,
            "ticks": "",
            "zerolinecolor": "white"
           }
          },
          "shapedefaults": {
           "line": {
            "color": "#2a3f5f"
           }
          },
          "ternary": {
           "aaxis": {
            "gridcolor": "white",
            "linecolor": "white",
            "ticks": ""
           },
           "baxis": {
            "gridcolor": "white",
            "linecolor": "white",
            "ticks": ""
           },
           "bgcolor": "#E5ECF6",
           "caxis": {
            "gridcolor": "white",
            "linecolor": "white",
            "ticks": ""
           }
          },
          "title": {
           "x": 0.05
          },
          "xaxis": {
           "automargin": true,
           "gridcolor": "white",
           "linecolor": "white",
           "ticks": "",
           "title": {
            "standoff": 15
           },
           "zerolinecolor": "white",
           "zerolinewidth": 2
          },
          "yaxis": {
           "automargin": true,
           "gridcolor": "white",
           "linecolor": "white",
           "ticks": "",
           "title": {
            "standoff": 15
           },
           "zerolinecolor": "white",
           "zerolinewidth": 2
          }
         }
        },
        "title": {
         "text": "Market Capitalizations Companies"
        },
        "xaxis": {
         "anchor": "y",
         "domain": [
          0,
          1
         ],
         "title": {
          "text": "Ticker"
         }
        },
        "yaxis": {
         "anchor": "x",
         "domain": [
          0,
          1
         ],
         "title": {
          "text": "Market Cap (Billions USD)"
         }
        }
       }
      }
     },
     "metadata": {},
     "output_type": "display_data"
    },
    {
     "data": {
      "application/vnd.plotly.v1+json": {
       "config": {
        "plotlyServerURL": "https://plot.ly"
       },
       "data": [
        {
         "alignmentgroup": "True",
         "hovertemplate": "Symbol=%{x}<br>Market Cap (Billions USD)=%{y}<extra></extra>",
         "legendgroup": "",
         "marker": {
          "color": "#636efa",
          "pattern": {
           "shape": ""
          }
         },
         "name": "",
         "offsetgroup": "",
         "orientation": "v",
         "showlegend": false,
         "textposition": "auto",
         "type": "bar",
         "x": [
          "AAL",
          "GNRC",
          "CHRW",
          "HII",
          "ALLE",
          "AOS",
          "NDSN",
          "SWK",
          "POOL",
          "PNR",
          "SNA",
          "UAL",
          "IEX",
          "MAS",
          "LUV",
          "JBHT",
          "TXT",
          "EXPD",
          "J",
          "HUBB",
          "BLDR",
          "AXON",
          "VLTO",
          "GPN",
          "DOV",
          "WAB",
          "DAL",
          "ROK",
          "EFX",
          "XYL",
          "HWM",
          "PWR",
          "OTIS",
          "CMI",
          "AME",
          "IR",
          "VRSK",
          "FAST",
          "PAYX",
          "ODFL",
          "JCI",
          "LHX",
          "GWW",
          "CPRT",
          "URI",
          "NSC",
          "PCAR",
          "MMM",
          "CARR",
          "RSG",
          "EMR",
          "CSX",
          "TDG",
          "NOC",
          "PH",
          "ITW",
          "FDX",
          "TT",
          "CTAS",
          "GD",
          "WM",
          "ADP",
          "DE",
          "UPS",
          "BA",
          "ETN",
          "LMT",
          "HON",
          "UNP",
          "RTX",
          "CAT",
          "GE"
         ],
         "xaxis": "x",
         "y": [
          6954553856,
          9260061696,
          10469464064,
          10806301696,
          11574968320,
          11985541120,
          13776010240,
          13781403648,
          13796068352,
          14246564864,
          14402924544,
          15363124224,
          15378277376,
          16703303680,
          16822598656,
          17417338880,
          17418446848,
          17633898496,
          18239776768,
          19085910016,
          19375450112,
          23455961088,
          24581025792,
          25198280704,
          25618327552,
          27890888704,
          28062818304,
          30899374080,
          33093193728,
          33251606528,
          33601626112,
          36630716416,
          37606084608,
          38770974720,
          39037415424,
          39129346048,
          39364034560,
          39546933248,
          44648546304,
          44695523328,
          44940926976,
          46111207424,
          46922698752,
          48528687104,
          50253733888,
          50322341888,
          51171680256,
          57209229312,
          58421612544,
          59626074112,
          65556934656,
          65685647360,
          68744454144,
          69710241792,
          70138396672,
          72782741504,
          72938807296,
          72939667456,
          76429066240,
          79998869504,
          80296820736,
          102150848512,
          105187819520,
          108724436992,
          113200209920,
          117104369664,
          124317999104,
          131832602624,
          143610511360,
          150859497472,
          168434745344,
          178705137664
         ],
         "yaxis": "y"
        }
       ],
       "layout": {
        "annotations": [
         {
          "showarrow": false,
          "text": "Small to Mid",
          "x": 42.5,
          "xanchor": "right",
          "xref": "x",
          "y": 1,
          "yanchor": "top",
          "yref": "y domain"
         },
         {
          "showarrow": false,
          "text": "Mid to Large",
          "x": 66.5,
          "xanchor": "right",
          "xref": "x",
          "y": 1,
          "yanchor": "top",
          "yref": "y domain"
         }
        ],
        "barmode": "relative",
        "legend": {
         "tracegroupgap": 0
        },
        "shapes": [
         {
          "line": {
           "color": "Red",
           "dash": "dashdot",
           "width": 2
          },
          "type": "line",
          "x0": 42.5,
          "x1": 42.5,
          "xref": "x",
          "y0": 0,
          "y1": 1,
          "yref": "y domain"
         },
         {
          "line": {
           "color": "Blue",
           "dash": "dashdot",
           "width": 2
          },
          "type": "line",
          "x0": 66.5,
          "x1": 66.5,
          "xref": "x",
          "y0": 0,
          "y1": 1,
          "yref": "y domain"
         }
        ],
        "template": {
         "data": {
          "bar": [
           {
            "error_x": {
             "color": "#2a3f5f"
            },
            "error_y": {
             "color": "#2a3f5f"
            },
            "marker": {
             "line": {
              "color": "#E5ECF6",
              "width": 0.5
             },
             "pattern": {
              "fillmode": "overlay",
              "size": 10,
              "solidity": 0.2
             }
            },
            "type": "bar"
           }
          ],
          "barpolar": [
           {
            "marker": {
             "line": {
              "color": "#E5ECF6",
              "width": 0.5
             },
             "pattern": {
              "fillmode": "overlay",
              "size": 10,
              "solidity": 0.2
             }
            },
            "type": "barpolar"
           }
          ],
          "carpet": [
           {
            "aaxis": {
             "endlinecolor": "#2a3f5f",
             "gridcolor": "white",
             "linecolor": "white",
             "minorgridcolor": "white",
             "startlinecolor": "#2a3f5f"
            },
            "baxis": {
             "endlinecolor": "#2a3f5f",
             "gridcolor": "white",
             "linecolor": "white",
             "minorgridcolor": "white",
             "startlinecolor": "#2a3f5f"
            },
            "type": "carpet"
           }
          ],
          "choropleth": [
           {
            "colorbar": {
             "outlinewidth": 0,
             "ticks": ""
            },
            "type": "choropleth"
           }
          ],
          "contour": [
           {
            "colorbar": {
             "outlinewidth": 0,
             "ticks": ""
            },
            "colorscale": [
             [
              0,
              "#0d0887"
             ],
             [
              0.1111111111111111,
              "#46039f"
             ],
             [
              0.2222222222222222,
              "#7201a8"
             ],
             [
              0.3333333333333333,
              "#9c179e"
             ],
             [
              0.4444444444444444,
              "#bd3786"
             ],
             [
              0.5555555555555556,
              "#d8576b"
             ],
             [
              0.6666666666666666,
              "#ed7953"
             ],
             [
              0.7777777777777778,
              "#fb9f3a"
             ],
             [
              0.8888888888888888,
              "#fdca26"
             ],
             [
              1,
              "#f0f921"
             ]
            ],
            "type": "contour"
           }
          ],
          "contourcarpet": [
           {
            "colorbar": {
             "outlinewidth": 0,
             "ticks": ""
            },
            "type": "contourcarpet"
           }
          ],
          "heatmap": [
           {
            "colorbar": {
             "outlinewidth": 0,
             "ticks": ""
            },
            "colorscale": [
             [
              0,
              "#0d0887"
             ],
             [
              0.1111111111111111,
              "#46039f"
             ],
             [
              0.2222222222222222,
              "#7201a8"
             ],
             [
              0.3333333333333333,
              "#9c179e"
             ],
             [
              0.4444444444444444,
              "#bd3786"
             ],
             [
              0.5555555555555556,
              "#d8576b"
             ],
             [
              0.6666666666666666,
              "#ed7953"
             ],
             [
              0.7777777777777778,
              "#fb9f3a"
             ],
             [
              0.8888888888888888,
              "#fdca26"
             ],
             [
              1,
              "#f0f921"
             ]
            ],
            "type": "heatmap"
           }
          ],
          "heatmapgl": [
           {
            "colorbar": {
             "outlinewidth": 0,
             "ticks": ""
            },
            "colorscale": [
             [
              0,
              "#0d0887"
             ],
             [
              0.1111111111111111,
              "#46039f"
             ],
             [
              0.2222222222222222,
              "#7201a8"
             ],
             [
              0.3333333333333333,
              "#9c179e"
             ],
             [
              0.4444444444444444,
              "#bd3786"
             ],
             [
              0.5555555555555556,
              "#d8576b"
             ],
             [
              0.6666666666666666,
              "#ed7953"
             ],
             [
              0.7777777777777778,
              "#fb9f3a"
             ],
             [
              0.8888888888888888,
              "#fdca26"
             ],
             [
              1,
              "#f0f921"
             ]
            ],
            "type": "heatmapgl"
           }
          ],
          "histogram": [
           {
            "marker": {
             "pattern": {
              "fillmode": "overlay",
              "size": 10,
              "solidity": 0.2
             }
            },
            "type": "histogram"
           }
          ],
          "histogram2d": [
           {
            "colorbar": {
             "outlinewidth": 0,
             "ticks": ""
            },
            "colorscale": [
             [
              0,
              "#0d0887"
             ],
             [
              0.1111111111111111,
              "#46039f"
             ],
             [
              0.2222222222222222,
              "#7201a8"
             ],
             [
              0.3333333333333333,
              "#9c179e"
             ],
             [
              0.4444444444444444,
              "#bd3786"
             ],
             [
              0.5555555555555556,
              "#d8576b"
             ],
             [
              0.6666666666666666,
              "#ed7953"
             ],
             [
              0.7777777777777778,
              "#fb9f3a"
             ],
             [
              0.8888888888888888,
              "#fdca26"
             ],
             [
              1,
              "#f0f921"
             ]
            ],
            "type": "histogram2d"
           }
          ],
          "histogram2dcontour": [
           {
            "colorbar": {
             "outlinewidth": 0,
             "ticks": ""
            },
            "colorscale": [
             [
              0,
              "#0d0887"
             ],
             [
              0.1111111111111111,
              "#46039f"
             ],
             [
              0.2222222222222222,
              "#7201a8"
             ],
             [
              0.3333333333333333,
              "#9c179e"
             ],
             [
              0.4444444444444444,
              "#bd3786"
             ],
             [
              0.5555555555555556,
              "#d8576b"
             ],
             [
              0.6666666666666666,
              "#ed7953"
             ],
             [
              0.7777777777777778,
              "#fb9f3a"
             ],
             [
              0.8888888888888888,
              "#fdca26"
             ],
             [
              1,
              "#f0f921"
             ]
            ],
            "type": "histogram2dcontour"
           }
          ],
          "mesh3d": [
           {
            "colorbar": {
             "outlinewidth": 0,
             "ticks": ""
            },
            "type": "mesh3d"
           }
          ],
          "parcoords": [
           {
            "line": {
             "colorbar": {
              "outlinewidth": 0,
              "ticks": ""
             }
            },
            "type": "parcoords"
           }
          ],
          "pie": [
           {
            "automargin": true,
            "type": "pie"
           }
          ],
          "scatter": [
           {
            "fillpattern": {
             "fillmode": "overlay",
             "size": 10,
             "solidity": 0.2
            },
            "type": "scatter"
           }
          ],
          "scatter3d": [
           {
            "line": {
             "colorbar": {
              "outlinewidth": 0,
              "ticks": ""
             }
            },
            "marker": {
             "colorbar": {
              "outlinewidth": 0,
              "ticks": ""
             }
            },
            "type": "scatter3d"
           }
          ],
          "scattercarpet": [
           {
            "marker": {
             "colorbar": {
              "outlinewidth": 0,
              "ticks": ""
             }
            },
            "type": "scattercarpet"
           }
          ],
          "scattergeo": [
           {
            "marker": {
             "colorbar": {
              "outlinewidth": 0,
              "ticks": ""
             }
            },
            "type": "scattergeo"
           }
          ],
          "scattergl": [
           {
            "marker": {
             "colorbar": {
              "outlinewidth": 0,
              "ticks": ""
             }
            },
            "type": "scattergl"
           }
          ],
          "scattermapbox": [
           {
            "marker": {
             "colorbar": {
              "outlinewidth": 0,
              "ticks": ""
             }
            },
            "type": "scattermapbox"
           }
          ],
          "scatterpolar": [
           {
            "marker": {
             "colorbar": {
              "outlinewidth": 0,
              "ticks": ""
             }
            },
            "type": "scatterpolar"
           }
          ],
          "scatterpolargl": [
           {
            "marker": {
             "colorbar": {
              "outlinewidth": 0,
              "ticks": ""
             }
            },
            "type": "scatterpolargl"
           }
          ],
          "scatterternary": [
           {
            "marker": {
             "colorbar": {
              "outlinewidth": 0,
              "ticks": ""
             }
            },
            "type": "scatterternary"
           }
          ],
          "surface": [
           {
            "colorbar": {
             "outlinewidth": 0,
             "ticks": ""
            },
            "colorscale": [
             [
              0,
              "#0d0887"
             ],
             [
              0.1111111111111111,
              "#46039f"
             ],
             [
              0.2222222222222222,
              "#7201a8"
             ],
             [
              0.3333333333333333,
              "#9c179e"
             ],
             [
              0.4444444444444444,
              "#bd3786"
             ],
             [
              0.5555555555555556,
              "#d8576b"
             ],
             [
              0.6666666666666666,
              "#ed7953"
             ],
             [
              0.7777777777777778,
              "#fb9f3a"
             ],
             [
              0.8888888888888888,
              "#fdca26"
             ],
             [
              1,
              "#f0f921"
             ]
            ],
            "type": "surface"
           }
          ],
          "table": [
           {
            "cells": {
             "fill": {
              "color": "#EBF0F8"
             },
             "line": {
              "color": "white"
             }
            },
            "header": {
             "fill": {
              "color": "#C8D4E3"
             },
             "line": {
              "color": "white"
             }
            },
            "type": "table"
           }
          ]
         },
         "layout": {
          "annotationdefaults": {
           "arrowcolor": "#2a3f5f",
           "arrowhead": 0,
           "arrowwidth": 1
          },
          "autotypenumbers": "strict",
          "coloraxis": {
           "colorbar": {
            "outlinewidth": 0,
            "ticks": ""
           }
          },
          "colorscale": {
           "diverging": [
            [
             0,
             "#8e0152"
            ],
            [
             0.1,
             "#c51b7d"
            ],
            [
             0.2,
             "#de77ae"
            ],
            [
             0.3,
             "#f1b6da"
            ],
            [
             0.4,
             "#fde0ef"
            ],
            [
             0.5,
             "#f7f7f7"
            ],
            [
             0.6,
             "#e6f5d0"
            ],
            [
             0.7,
             "#b8e186"
            ],
            [
             0.8,
             "#7fbc41"
            ],
            [
             0.9,
             "#4d9221"
            ],
            [
             1,
             "#276419"
            ]
           ],
           "sequential": [
            [
             0,
             "#0d0887"
            ],
            [
             0.1111111111111111,
             "#46039f"
            ],
            [
             0.2222222222222222,
             "#7201a8"
            ],
            [
             0.3333333333333333,
             "#9c179e"
            ],
            [
             0.4444444444444444,
             "#bd3786"
            ],
            [
             0.5555555555555556,
             "#d8576b"
            ],
            [
             0.6666666666666666,
             "#ed7953"
            ],
            [
             0.7777777777777778,
             "#fb9f3a"
            ],
            [
             0.8888888888888888,
             "#fdca26"
            ],
            [
             1,
             "#f0f921"
            ]
           ],
           "sequentialminus": [
            [
             0,
             "#0d0887"
            ],
            [
             0.1111111111111111,
             "#46039f"
            ],
            [
             0.2222222222222222,
             "#7201a8"
            ],
            [
             0.3333333333333333,
             "#9c179e"
            ],
            [
             0.4444444444444444,
             "#bd3786"
            ],
            [
             0.5555555555555556,
             "#d8576b"
            ],
            [
             0.6666666666666666,
             "#ed7953"
            ],
            [
             0.7777777777777778,
             "#fb9f3a"
            ],
            [
             0.8888888888888888,
             "#fdca26"
            ],
            [
             1,
             "#f0f921"
            ]
           ]
          },
          "colorway": [
           "#636efa",
           "#EF553B",
           "#00cc96",
           "#ab63fa",
           "#FFA15A",
           "#19d3f3",
           "#FF6692",
           "#B6E880",
           "#FF97FF",
           "#FECB52"
          ],
          "font": {
           "color": "#2a3f5f"
          },
          "geo": {
           "bgcolor": "white",
           "lakecolor": "white",
           "landcolor": "#E5ECF6",
           "showlakes": true,
           "showland": true,
           "subunitcolor": "white"
          },
          "hoverlabel": {
           "align": "left"
          },
          "hovermode": "closest",
          "mapbox": {
           "style": "light"
          },
          "paper_bgcolor": "white",
          "plot_bgcolor": "#E5ECF6",
          "polar": {
           "angularaxis": {
            "gridcolor": "white",
            "linecolor": "white",
            "ticks": ""
           },
           "bgcolor": "#E5ECF6",
           "radialaxis": {
            "gridcolor": "white",
            "linecolor": "white",
            "ticks": ""
           }
          },
          "scene": {
           "xaxis": {
            "backgroundcolor": "#E5ECF6",
            "gridcolor": "white",
            "gridwidth": 2,
            "linecolor": "white",
            "showbackground": true,
            "ticks": "",
            "zerolinecolor": "white"
           },
           "yaxis": {
            "backgroundcolor": "#E5ECF6",
            "gridcolor": "white",
            "gridwidth": 2,
            "linecolor": "white",
            "showbackground": true,
            "ticks": "",
            "zerolinecolor": "white"
           },
           "zaxis": {
            "backgroundcolor": "#E5ECF6",
            "gridcolor": "white",
            "gridwidth": 2,
            "linecolor": "white",
            "showbackground": true,
            "ticks": "",
            "zerolinecolor": "white"
           }
          },
          "shapedefaults": {
           "line": {
            "color": "#2a3f5f"
           }
          },
          "ternary": {
           "aaxis": {
            "gridcolor": "white",
            "linecolor": "white",
            "ticks": ""
           },
           "baxis": {
            "gridcolor": "white",
            "linecolor": "white",
            "ticks": ""
           },
           "bgcolor": "#E5ECF6",
           "caxis": {
            "gridcolor": "white",
            "linecolor": "white",
            "ticks": ""
           }
          },
          "title": {
           "x": 0.05
          },
          "xaxis": {
           "automargin": true,
           "gridcolor": "white",
           "linecolor": "white",
           "ticks": "",
           "title": {
            "standoff": 15
           },
           "zerolinecolor": "white",
           "zerolinewidth": 2
          },
          "yaxis": {
           "automargin": true,
           "gridcolor": "white",
           "linecolor": "white",
           "ticks": "",
           "title": {
            "standoff": 15
           },
           "zerolinecolor": "white",
           "zerolinewidth": 2
          }
         }
        },
        "title": {
         "text": "Market Capitalizations Companies"
        },
        "xaxis": {
         "anchor": "y",
         "domain": [
          0,
          1
         ],
         "title": {
          "text": "Ticker"
         }
        },
        "yaxis": {
         "anchor": "x",
         "domain": [
          0,
          1
         ],
         "title": {
          "text": "Market Cap (Billions USD)"
         }
        }
       }
      }
     },
     "metadata": {},
     "output_type": "display_data"
    },
    {
     "data": {
      "application/vnd.plotly.v1+json": {
       "config": {
        "plotlyServerURL": "https://plot.ly"
       },
       "data": [
        {
         "alignmentgroup": "True",
         "hovertemplate": "Symbol=%{x}<br>Market Cap (Billions USD)=%{y}<extra></extra>",
         "legendgroup": "",
         "marker": {
          "color": "#636efa",
          "pattern": {
           "shape": ""
          }
         },
         "name": "",
         "offsetgroup": "",
         "orientation": "v",
         "showlegend": false,
         "textposition": "auto",
         "type": "bar",
         "x": [
          "BIO",
          "HSIC",
          "WBA",
          "SOLV",
          "TFX",
          "CTLT",
          "CRL",
          "TECH",
          "DVA",
          "PODD",
          "INCY",
          "UHS",
          "RVTY",
          "VTRS",
          "DGX",
          "ALGN",
          "LH",
          "BAX",
          "HOLX",
          "WAT",
          "COO",
          "MOH",
          "WST",
          "STE",
          "ZBH",
          "CAH",
          "MTD",
          "RMD",
          "BIIB",
          "CNC",
          "EW",
          "GEHC",
          "IDXX",
          "A",
          "IQV",
          "DXCM",
          "COR",
          "MRNA",
          "HUM",
          "BDX",
          "CVS",
          "MCK",
          "ZTS",
          "BMY",
          "HCA",
          "GILD",
          "CI",
          "MDT",
          "BSX",
          "REGN",
          "ELV",
          "SYK",
          "VRTX",
          "ISRG",
          "PFE",
          "AMGN",
          "ABT",
          "DHR",
          "TMO",
          "MRK",
          "ABBV",
          "JNJ",
          "UNH",
          "LLY"
         ],
         "xaxis": "x",
         "y": [
          8906336256,
          9096742912,
          9936295936,
          9941187584,
          10480328704,
          10576471040,
          11426325504,
          12397210624,
          12488849408,
          13369141248,
          13509045248,
          13745918976,
          13923665920,
          14002398208,
          16054694912,
          17017427968,
          17656137728,
          17888804864,
          18175399936,
          18410166272,
          18454441984,
          19130750976,
          20294367232,
          22464389120,
          22778204160,
          23611385856,
          30149388288,
          30619826176,
          33114580992,
          35963076608,
          36011376640,
          36480679936,
          38872186880,
          39376064512,
          42357407744,
          42890219520,
          44724543488,
          46142095360,
          46570020864,
          67277709312,
          73627451392,
          77294141440,
          82498142208,
          91726274560,
          92472664064,
          95319982080,
          96943087616,
          100606902272,
          109190258688,
          117258829824,
          119249698816,
          124708175872,
          127029166080,
          155197292544,
          171187683328,
          179330220032,
          184365989888,
          195091398656,
          226949251072,
          318830116864,
          321706164224,
          384443088896,
          515111878656,
          739691724800
         ],
         "yaxis": "y"
        }
       ],
       "layout": {
        "annotations": [
         {
          "showarrow": false,
          "text": "Small to Mid",
          "x": 37.5,
          "xanchor": "right",
          "xref": "x",
          "y": 1,
          "yanchor": "top",
          "yref": "y domain"
         },
         {
          "showarrow": false,
          "text": "Mid to Large",
          "x": 59.5,
          "xanchor": "right",
          "xref": "x",
          "y": 1,
          "yanchor": "top",
          "yref": "y domain"
         }
        ],
        "barmode": "relative",
        "legend": {
         "tracegroupgap": 0
        },
        "shapes": [
         {
          "line": {
           "color": "Red",
           "dash": "dashdot",
           "width": 2
          },
          "type": "line",
          "x0": 37.5,
          "x1": 37.5,
          "xref": "x",
          "y0": 0,
          "y1": 1,
          "yref": "y domain"
         },
         {
          "line": {
           "color": "Blue",
           "dash": "dashdot",
           "width": 2
          },
          "type": "line",
          "x0": 59.5,
          "x1": 59.5,
          "xref": "x",
          "y0": 0,
          "y1": 1,
          "yref": "y domain"
         }
        ],
        "template": {
         "data": {
          "bar": [
           {
            "error_x": {
             "color": "#2a3f5f"
            },
            "error_y": {
             "color": "#2a3f5f"
            },
            "marker": {
             "line": {
              "color": "#E5ECF6",
              "width": 0.5
             },
             "pattern": {
              "fillmode": "overlay",
              "size": 10,
              "solidity": 0.2
             }
            },
            "type": "bar"
           }
          ],
          "barpolar": [
           {
            "marker": {
             "line": {
              "color": "#E5ECF6",
              "width": 0.5
             },
             "pattern": {
              "fillmode": "overlay",
              "size": 10,
              "solidity": 0.2
             }
            },
            "type": "barpolar"
           }
          ],
          "carpet": [
           {
            "aaxis": {
             "endlinecolor": "#2a3f5f",
             "gridcolor": "white",
             "linecolor": "white",
             "minorgridcolor": "white",
             "startlinecolor": "#2a3f5f"
            },
            "baxis": {
             "endlinecolor": "#2a3f5f",
             "gridcolor": "white",
             "linecolor": "white",
             "minorgridcolor": "white",
             "startlinecolor": "#2a3f5f"
            },
            "type": "carpet"
           }
          ],
          "choropleth": [
           {
            "colorbar": {
             "outlinewidth": 0,
             "ticks": ""
            },
            "type": "choropleth"
           }
          ],
          "contour": [
           {
            "colorbar": {
             "outlinewidth": 0,
             "ticks": ""
            },
            "colorscale": [
             [
              0,
              "#0d0887"
             ],
             [
              0.1111111111111111,
              "#46039f"
             ],
             [
              0.2222222222222222,
              "#7201a8"
             ],
             [
              0.3333333333333333,
              "#9c179e"
             ],
             [
              0.4444444444444444,
              "#bd3786"
             ],
             [
              0.5555555555555556,
              "#d8576b"
             ],
             [
              0.6666666666666666,
              "#ed7953"
             ],
             [
              0.7777777777777778,
              "#fb9f3a"
             ],
             [
              0.8888888888888888,
              "#fdca26"
             ],
             [
              1,
              "#f0f921"
             ]
            ],
            "type": "contour"
           }
          ],
          "contourcarpet": [
           {
            "colorbar": {
             "outlinewidth": 0,
             "ticks": ""
            },
            "type": "contourcarpet"
           }
          ],
          "heatmap": [
           {
            "colorbar": {
             "outlinewidth": 0,
             "ticks": ""
            },
            "colorscale": [
             [
              0,
              "#0d0887"
             ],
             [
              0.1111111111111111,
              "#46039f"
             ],
             [
              0.2222222222222222,
              "#7201a8"
             ],
             [
              0.3333333333333333,
              "#9c179e"
             ],
             [
              0.4444444444444444,
              "#bd3786"
             ],
             [
              0.5555555555555556,
              "#d8576b"
             ],
             [
              0.6666666666666666,
              "#ed7953"
             ],
             [
              0.7777777777777778,
              "#fb9f3a"
             ],
             [
              0.8888888888888888,
              "#fdca26"
             ],
             [
              1,
              "#f0f921"
             ]
            ],
            "type": "heatmap"
           }
          ],
          "heatmapgl": [
           {
            "colorbar": {
             "outlinewidth": 0,
             "ticks": ""
            },
            "colorscale": [
             [
              0,
              "#0d0887"
             ],
             [
              0.1111111111111111,
              "#46039f"
             ],
             [
              0.2222222222222222,
              "#7201a8"
             ],
             [
              0.3333333333333333,
              "#9c179e"
             ],
             [
              0.4444444444444444,
              "#bd3786"
             ],
             [
              0.5555555555555556,
              "#d8576b"
             ],
             [
              0.6666666666666666,
              "#ed7953"
             ],
             [
              0.7777777777777778,
              "#fb9f3a"
             ],
             [
              0.8888888888888888,
              "#fdca26"
             ],
             [
              1,
              "#f0f921"
             ]
            ],
            "type": "heatmapgl"
           }
          ],
          "histogram": [
           {
            "marker": {
             "pattern": {
              "fillmode": "overlay",
              "size": 10,
              "solidity": 0.2
             }
            },
            "type": "histogram"
           }
          ],
          "histogram2d": [
           {
            "colorbar": {
             "outlinewidth": 0,
             "ticks": ""
            },
            "colorscale": [
             [
              0,
              "#0d0887"
             ],
             [
              0.1111111111111111,
              "#46039f"
             ],
             [
              0.2222222222222222,
              "#7201a8"
             ],
             [
              0.3333333333333333,
              "#9c179e"
             ],
             [
              0.4444444444444444,
              "#bd3786"
             ],
             [
              0.5555555555555556,
              "#d8576b"
             ],
             [
              0.6666666666666666,
              "#ed7953"
             ],
             [
              0.7777777777777778,
              "#fb9f3a"
             ],
             [
              0.8888888888888888,
              "#fdca26"
             ],
             [
              1,
              "#f0f921"
             ]
            ],
            "type": "histogram2d"
           }
          ],
          "histogram2dcontour": [
           {
            "colorbar": {
             "outlinewidth": 0,
             "ticks": ""
            },
            "colorscale": [
             [
              0,
              "#0d0887"
             ],
             [
              0.1111111111111111,
              "#46039f"
             ],
             [
              0.2222222222222222,
              "#7201a8"
             ],
             [
              0.3333333333333333,
              "#9c179e"
             ],
             [
              0.4444444444444444,
              "#bd3786"
             ],
             [
              0.5555555555555556,
              "#d8576b"
             ],
             [
              0.6666666666666666,
              "#ed7953"
             ],
             [
              0.7777777777777778,
              "#fb9f3a"
             ],
             [
              0.8888888888888888,
              "#fdca26"
             ],
             [
              1,
              "#f0f921"
             ]
            ],
            "type": "histogram2dcontour"
           }
          ],
          "mesh3d": [
           {
            "colorbar": {
             "outlinewidth": 0,
             "ticks": ""
            },
            "type": "mesh3d"
           }
          ],
          "parcoords": [
           {
            "line": {
             "colorbar": {
              "outlinewidth": 0,
              "ticks": ""
             }
            },
            "type": "parcoords"
           }
          ],
          "pie": [
           {
            "automargin": true,
            "type": "pie"
           }
          ],
          "scatter": [
           {
            "fillpattern": {
             "fillmode": "overlay",
             "size": 10,
             "solidity": 0.2
            },
            "type": "scatter"
           }
          ],
          "scatter3d": [
           {
            "line": {
             "colorbar": {
              "outlinewidth": 0,
              "ticks": ""
             }
            },
            "marker": {
             "colorbar": {
              "outlinewidth": 0,
              "ticks": ""
             }
            },
            "type": "scatter3d"
           }
          ],
          "scattercarpet": [
           {
            "marker": {
             "colorbar": {
              "outlinewidth": 0,
              "ticks": ""
             }
            },
            "type": "scattercarpet"
           }
          ],
          "scattergeo": [
           {
            "marker": {
             "colorbar": {
              "outlinewidth": 0,
              "ticks": ""
             }
            },
            "type": "scattergeo"
           }
          ],
          "scattergl": [
           {
            "marker": {
             "colorbar": {
              "outlinewidth": 0,
              "ticks": ""
             }
            },
            "type": "scattergl"
           }
          ],
          "scattermapbox": [
           {
            "marker": {
             "colorbar": {
              "outlinewidth": 0,
              "ticks": ""
             }
            },
            "type": "scattermapbox"
           }
          ],
          "scatterpolar": [
           {
            "marker": {
             "colorbar": {
              "outlinewidth": 0,
              "ticks": ""
             }
            },
            "type": "scatterpolar"
           }
          ],
          "scatterpolargl": [
           {
            "marker": {
             "colorbar": {
              "outlinewidth": 0,
              "ticks": ""
             }
            },
            "type": "scatterpolargl"
           }
          ],
          "scatterternary": [
           {
            "marker": {
             "colorbar": {
              "outlinewidth": 0,
              "ticks": ""
             }
            },
            "type": "scatterternary"
           }
          ],
          "surface": [
           {
            "colorbar": {
             "outlinewidth": 0,
             "ticks": ""
            },
            "colorscale": [
             [
              0,
              "#0d0887"
             ],
             [
              0.1111111111111111,
              "#46039f"
             ],
             [
              0.2222222222222222,
              "#7201a8"
             ],
             [
              0.3333333333333333,
              "#9c179e"
             ],
             [
              0.4444444444444444,
              "#bd3786"
             ],
             [
              0.5555555555555556,
              "#d8576b"
             ],
             [
              0.6666666666666666,
              "#ed7953"
             ],
             [
              0.7777777777777778,
              "#fb9f3a"
             ],
             [
              0.8888888888888888,
              "#fdca26"
             ],
             [
              1,
              "#f0f921"
             ]
            ],
            "type": "surface"
           }
          ],
          "table": [
           {
            "cells": {
             "fill": {
              "color": "#EBF0F8"
             },
             "line": {
              "color": "white"
             }
            },
            "header": {
             "fill": {
              "color": "#C8D4E3"
             },
             "line": {
              "color": "white"
             }
            },
            "type": "table"
           }
          ]
         },
         "layout": {
          "annotationdefaults": {
           "arrowcolor": "#2a3f5f",
           "arrowhead": 0,
           "arrowwidth": 1
          },
          "autotypenumbers": "strict",
          "coloraxis": {
           "colorbar": {
            "outlinewidth": 0,
            "ticks": ""
           }
          },
          "colorscale": {
           "diverging": [
            [
             0,
             "#8e0152"
            ],
            [
             0.1,
             "#c51b7d"
            ],
            [
             0.2,
             "#de77ae"
            ],
            [
             0.3,
             "#f1b6da"
            ],
            [
             0.4,
             "#fde0ef"
            ],
            [
             0.5,
             "#f7f7f7"
            ],
            [
             0.6,
             "#e6f5d0"
            ],
            [
             0.7,
             "#b8e186"
            ],
            [
             0.8,
             "#7fbc41"
            ],
            [
             0.9,
             "#4d9221"
            ],
            [
             1,
             "#276419"
            ]
           ],
           "sequential": [
            [
             0,
             "#0d0887"
            ],
            [
             0.1111111111111111,
             "#46039f"
            ],
            [
             0.2222222222222222,
             "#7201a8"
            ],
            [
             0.3333333333333333,
             "#9c179e"
            ],
            [
             0.4444444444444444,
             "#bd3786"
            ],
            [
             0.5555555555555556,
             "#d8576b"
            ],
            [
             0.6666666666666666,
             "#ed7953"
            ],
            [
             0.7777777777777778,
             "#fb9f3a"
            ],
            [
             0.8888888888888888,
             "#fdca26"
            ],
            [
             1,
             "#f0f921"
            ]
           ],
           "sequentialminus": [
            [
             0,
             "#0d0887"
            ],
            [
             0.1111111111111111,
             "#46039f"
            ],
            [
             0.2222222222222222,
             "#7201a8"
            ],
            [
             0.3333333333333333,
             "#9c179e"
            ],
            [
             0.4444444444444444,
             "#bd3786"
            ],
            [
             0.5555555555555556,
             "#d8576b"
            ],
            [
             0.6666666666666666,
             "#ed7953"
            ],
            [
             0.7777777777777778,
             "#fb9f3a"
            ],
            [
             0.8888888888888888,
             "#fdca26"
            ],
            [
             1,
             "#f0f921"
            ]
           ]
          },
          "colorway": [
           "#636efa",
           "#EF553B",
           "#00cc96",
           "#ab63fa",
           "#FFA15A",
           "#19d3f3",
           "#FF6692",
           "#B6E880",
           "#FF97FF",
           "#FECB52"
          ],
          "font": {
           "color": "#2a3f5f"
          },
          "geo": {
           "bgcolor": "white",
           "lakecolor": "white",
           "landcolor": "#E5ECF6",
           "showlakes": true,
           "showland": true,
           "subunitcolor": "white"
          },
          "hoverlabel": {
           "align": "left"
          },
          "hovermode": "closest",
          "mapbox": {
           "style": "light"
          },
          "paper_bgcolor": "white",
          "plot_bgcolor": "#E5ECF6",
          "polar": {
           "angularaxis": {
            "gridcolor": "white",
            "linecolor": "white",
            "ticks": ""
           },
           "bgcolor": "#E5ECF6",
           "radialaxis": {
            "gridcolor": "white",
            "linecolor": "white",
            "ticks": ""
           }
          },
          "scene": {
           "xaxis": {
            "backgroundcolor": "#E5ECF6",
            "gridcolor": "white",
            "gridwidth": 2,
            "linecolor": "white",
            "showbackground": true,
            "ticks": "",
            "zerolinecolor": "white"
           },
           "yaxis": {
            "backgroundcolor": "#E5ECF6",
            "gridcolor": "white",
            "gridwidth": 2,
            "linecolor": "white",
            "showbackground": true,
            "ticks": "",
            "zerolinecolor": "white"
           },
           "zaxis": {
            "backgroundcolor": "#E5ECF6",
            "gridcolor": "white",
            "gridwidth": 2,
            "linecolor": "white",
            "showbackground": true,
            "ticks": "",
            "zerolinecolor": "white"
           }
          },
          "shapedefaults": {
           "line": {
            "color": "#2a3f5f"
           }
          },
          "ternary": {
           "aaxis": {
            "gridcolor": "white",
            "linecolor": "white",
            "ticks": ""
           },
           "baxis": {
            "gridcolor": "white",
            "linecolor": "white",
            "ticks": ""
           },
           "bgcolor": "#E5ECF6",
           "caxis": {
            "gridcolor": "white",
            "linecolor": "white",
            "ticks": ""
           }
          },
          "title": {
           "x": 0.05
          },
          "xaxis": {
           "automargin": true,
           "gridcolor": "white",
           "linecolor": "white",
           "ticks": "",
           "title": {
            "standoff": 15
           },
           "zerolinecolor": "white",
           "zerolinewidth": 2
          },
          "yaxis": {
           "automargin": true,
           "gridcolor": "white",
           "linecolor": "white",
           "ticks": "",
           "title": {
            "standoff": 15
           },
           "zerolinecolor": "white",
           "zerolinewidth": 2
          }
         }
        },
        "title": {
         "text": "Market Capitalizations Companies"
        },
        "xaxis": {
         "anchor": "y",
         "domain": [
          0,
          1
         ],
         "title": {
          "text": "Ticker"
         }
        },
        "yaxis": {
         "anchor": "x",
         "domain": [
          0,
          1
         ],
         "title": {
          "text": "Market Cap (Billions USD)"
         }
        }
       }
      }
     },
     "metadata": {},
     "output_type": "display_data"
    },
    {
     "data": {
      "application/vnd.plotly.v1+json": {
       "config": {
        "plotlyServerURL": "https://plot.ly"
       },
       "data": [
        {
         "alignmentgroup": "True",
         "hovertemplate": "Symbol=%{x}<br>Market Cap (Billions USD)=%{y}<extra></extra>",
         "legendgroup": "",
         "marker": {
          "color": "#636efa",
          "pattern": {
           "shape": ""
          }
         },
         "name": "",
         "offsetgroup": "",
         "orientation": "v",
         "showlegend": false,
         "textposition": "auto",
         "type": "bar",
         "x": [
          "PNW",
          "AES",
          "EVRG",
          "NI",
          "LNT",
          "NRG",
          "CNP",
          "ATO",
          "CMS",
          "AEE",
          "PPL",
          "ES",
          "FE",
          "ETR",
          "VST",
          "DTE",
          "WEC",
          "AWK",
          "EIX",
          "XEL",
          "ED",
          "EXC",
          "PEG",
          "D",
          "GEV",
          "PCG",
          "SRE",
          "AEP",
          "CEG",
          "DUK",
          "SO",
          "NEE"
         ],
         "xaxis": "x",
         "y": [
          9488990208,
          12251898880,
          12951900160,
          13940043776,
          14316204032,
          15232299008,
          18475229184,
          18846046208,
          18879705088,
          20690923520,
          21556791296,
          22399895552,
          23285379072,
          23796561920,
          24454234112,
          24465125376,
          26317215744,
          27290808320,
          29395128320,
          31599187968,
          33172494336,
          36481093632,
          36972478464,
          43838435328,
          43957325824,
          47120498688,
          49412616192,
          50519367680,
          53725499392,
          83019194368,
          89300426752,
          150944907264
         ],
         "yaxis": "y"
        }
       ],
       "layout": {
        "annotations": [
         {
          "showarrow": false,
          "text": "Small to Mid",
          "x": 18.5,
          "xanchor": "right",
          "xref": "x",
          "y": 1,
          "yanchor": "top",
          "yref": "y domain"
         },
         {
          "showarrow": false,
          "text": "Mid to Large",
          "x": 30.5,
          "xanchor": "right",
          "xref": "x",
          "y": 1,
          "yanchor": "top",
          "yref": "y domain"
         }
        ],
        "barmode": "relative",
        "legend": {
         "tracegroupgap": 0
        },
        "shapes": [
         {
          "line": {
           "color": "Red",
           "dash": "dashdot",
           "width": 2
          },
          "type": "line",
          "x0": 18.5,
          "x1": 18.5,
          "xref": "x",
          "y0": 0,
          "y1": 1,
          "yref": "y domain"
         },
         {
          "line": {
           "color": "Blue",
           "dash": "dashdot",
           "width": 2
          },
          "type": "line",
          "x0": 30.5,
          "x1": 30.5,
          "xref": "x",
          "y0": 0,
          "y1": 1,
          "yref": "y domain"
         }
        ],
        "template": {
         "data": {
          "bar": [
           {
            "error_x": {
             "color": "#2a3f5f"
            },
            "error_y": {
             "color": "#2a3f5f"
            },
            "marker": {
             "line": {
              "color": "#E5ECF6",
              "width": 0.5
             },
             "pattern": {
              "fillmode": "overlay",
              "size": 10,
              "solidity": 0.2
             }
            },
            "type": "bar"
           }
          ],
          "barpolar": [
           {
            "marker": {
             "line": {
              "color": "#E5ECF6",
              "width": 0.5
             },
             "pattern": {
              "fillmode": "overlay",
              "size": 10,
              "solidity": 0.2
             }
            },
            "type": "barpolar"
           }
          ],
          "carpet": [
           {
            "aaxis": {
             "endlinecolor": "#2a3f5f",
             "gridcolor": "white",
             "linecolor": "white",
             "minorgridcolor": "white",
             "startlinecolor": "#2a3f5f"
            },
            "baxis": {
             "endlinecolor": "#2a3f5f",
             "gridcolor": "white",
             "linecolor": "white",
             "minorgridcolor": "white",
             "startlinecolor": "#2a3f5f"
            },
            "type": "carpet"
           }
          ],
          "choropleth": [
           {
            "colorbar": {
             "outlinewidth": 0,
             "ticks": ""
            },
            "type": "choropleth"
           }
          ],
          "contour": [
           {
            "colorbar": {
             "outlinewidth": 0,
             "ticks": ""
            },
            "colorscale": [
             [
              0,
              "#0d0887"
             ],
             [
              0.1111111111111111,
              "#46039f"
             ],
             [
              0.2222222222222222,
              "#7201a8"
             ],
             [
              0.3333333333333333,
              "#9c179e"
             ],
             [
              0.4444444444444444,
              "#bd3786"
             ],
             [
              0.5555555555555556,
              "#d8576b"
             ],
             [
              0.6666666666666666,
              "#ed7953"
             ],
             [
              0.7777777777777778,
              "#fb9f3a"
             ],
             [
              0.8888888888888888,
              "#fdca26"
             ],
             [
              1,
              "#f0f921"
             ]
            ],
            "type": "contour"
           }
          ],
          "contourcarpet": [
           {
            "colorbar": {
             "outlinewidth": 0,
             "ticks": ""
            },
            "type": "contourcarpet"
           }
          ],
          "heatmap": [
           {
            "colorbar": {
             "outlinewidth": 0,
             "ticks": ""
            },
            "colorscale": [
             [
              0,
              "#0d0887"
             ],
             [
              0.1111111111111111,
              "#46039f"
             ],
             [
              0.2222222222222222,
              "#7201a8"
             ],
             [
              0.3333333333333333,
              "#9c179e"
             ],
             [
              0.4444444444444444,
              "#bd3786"
             ],
             [
              0.5555555555555556,
              "#d8576b"
             ],
             [
              0.6666666666666666,
              "#ed7953"
             ],
             [
              0.7777777777777778,
              "#fb9f3a"
             ],
             [
              0.8888888888888888,
              "#fdca26"
             ],
             [
              1,
              "#f0f921"
             ]
            ],
            "type": "heatmap"
           }
          ],
          "heatmapgl": [
           {
            "colorbar": {
             "outlinewidth": 0,
             "ticks": ""
            },
            "colorscale": [
             [
              0,
              "#0d0887"
             ],
             [
              0.1111111111111111,
              "#46039f"
             ],
             [
              0.2222222222222222,
              "#7201a8"
             ],
             [
              0.3333333333333333,
              "#9c179e"
             ],
             [
              0.4444444444444444,
              "#bd3786"
             ],
             [
              0.5555555555555556,
              "#d8576b"
             ],
             [
              0.6666666666666666,
              "#ed7953"
             ],
             [
              0.7777777777777778,
              "#fb9f3a"
             ],
             [
              0.8888888888888888,
              "#fdca26"
             ],
             [
              1,
              "#f0f921"
             ]
            ],
            "type": "heatmapgl"
           }
          ],
          "histogram": [
           {
            "marker": {
             "pattern": {
              "fillmode": "overlay",
              "size": 10,
              "solidity": 0.2
             }
            },
            "type": "histogram"
           }
          ],
          "histogram2d": [
           {
            "colorbar": {
             "outlinewidth": 0,
             "ticks": ""
            },
            "colorscale": [
             [
              0,
              "#0d0887"
             ],
             [
              0.1111111111111111,
              "#46039f"
             ],
             [
              0.2222222222222222,
              "#7201a8"
             ],
             [
              0.3333333333333333,
              "#9c179e"
             ],
             [
              0.4444444444444444,
              "#bd3786"
             ],
             [
              0.5555555555555556,
              "#d8576b"
             ],
             [
              0.6666666666666666,
              "#ed7953"
             ],
             [
              0.7777777777777778,
              "#fb9f3a"
             ],
             [
              0.8888888888888888,
              "#fdca26"
             ],
             [
              1,
              "#f0f921"
             ]
            ],
            "type": "histogram2d"
           }
          ],
          "histogram2dcontour": [
           {
            "colorbar": {
             "outlinewidth": 0,
             "ticks": ""
            },
            "colorscale": [
             [
              0,
              "#0d0887"
             ],
             [
              0.1111111111111111,
              "#46039f"
             ],
             [
              0.2222222222222222,
              "#7201a8"
             ],
             [
              0.3333333333333333,
              "#9c179e"
             ],
             [
              0.4444444444444444,
              "#bd3786"
             ],
             [
              0.5555555555555556,
              "#d8576b"
             ],
             [
              0.6666666666666666,
              "#ed7953"
             ],
             [
              0.7777777777777778,
              "#fb9f3a"
             ],
             [
              0.8888888888888888,
              "#fdca26"
             ],
             [
              1,
              "#f0f921"
             ]
            ],
            "type": "histogram2dcontour"
           }
          ],
          "mesh3d": [
           {
            "colorbar": {
             "outlinewidth": 0,
             "ticks": ""
            },
            "type": "mesh3d"
           }
          ],
          "parcoords": [
           {
            "line": {
             "colorbar": {
              "outlinewidth": 0,
              "ticks": ""
             }
            },
            "type": "parcoords"
           }
          ],
          "pie": [
           {
            "automargin": true,
            "type": "pie"
           }
          ],
          "scatter": [
           {
            "fillpattern": {
             "fillmode": "overlay",
             "size": 10,
             "solidity": 0.2
            },
            "type": "scatter"
           }
          ],
          "scatter3d": [
           {
            "line": {
             "colorbar": {
              "outlinewidth": 0,
              "ticks": ""
             }
            },
            "marker": {
             "colorbar": {
              "outlinewidth": 0,
              "ticks": ""
             }
            },
            "type": "scatter3d"
           }
          ],
          "scattercarpet": [
           {
            "marker": {
             "colorbar": {
              "outlinewidth": 0,
              "ticks": ""
             }
            },
            "type": "scattercarpet"
           }
          ],
          "scattergeo": [
           {
            "marker": {
             "colorbar": {
              "outlinewidth": 0,
              "ticks": ""
             }
            },
            "type": "scattergeo"
           }
          ],
          "scattergl": [
           {
            "marker": {
             "colorbar": {
              "outlinewidth": 0,
              "ticks": ""
             }
            },
            "type": "scattergl"
           }
          ],
          "scattermapbox": [
           {
            "marker": {
             "colorbar": {
              "outlinewidth": 0,
              "ticks": ""
             }
            },
            "type": "scattermapbox"
           }
          ],
          "scatterpolar": [
           {
            "marker": {
             "colorbar": {
              "outlinewidth": 0,
              "ticks": ""
             }
            },
            "type": "scatterpolar"
           }
          ],
          "scatterpolargl": [
           {
            "marker": {
             "colorbar": {
              "outlinewidth": 0,
              "ticks": ""
             }
            },
            "type": "scatterpolargl"
           }
          ],
          "scatterternary": [
           {
            "marker": {
             "colorbar": {
              "outlinewidth": 0,
              "ticks": ""
             }
            },
            "type": "scatterternary"
           }
          ],
          "surface": [
           {
            "colorbar": {
             "outlinewidth": 0,
             "ticks": ""
            },
            "colorscale": [
             [
              0,
              "#0d0887"
             ],
             [
              0.1111111111111111,
              "#46039f"
             ],
             [
              0.2222222222222222,
              "#7201a8"
             ],
             [
              0.3333333333333333,
              "#9c179e"
             ],
             [
              0.4444444444444444,
              "#bd3786"
             ],
             [
              0.5555555555555556,
              "#d8576b"
             ],
             [
              0.6666666666666666,
              "#ed7953"
             ],
             [
              0.7777777777777778,
              "#fb9f3a"
             ],
             [
              0.8888888888888888,
              "#fdca26"
             ],
             [
              1,
              "#f0f921"
             ]
            ],
            "type": "surface"
           }
          ],
          "table": [
           {
            "cells": {
             "fill": {
              "color": "#EBF0F8"
             },
             "line": {
              "color": "white"
             }
            },
            "header": {
             "fill": {
              "color": "#C8D4E3"
             },
             "line": {
              "color": "white"
             }
            },
            "type": "table"
           }
          ]
         },
         "layout": {
          "annotationdefaults": {
           "arrowcolor": "#2a3f5f",
           "arrowhead": 0,
           "arrowwidth": 1
          },
          "autotypenumbers": "strict",
          "coloraxis": {
           "colorbar": {
            "outlinewidth": 0,
            "ticks": ""
           }
          },
          "colorscale": {
           "diverging": [
            [
             0,
             "#8e0152"
            ],
            [
             0.1,
             "#c51b7d"
            ],
            [
             0.2,
             "#de77ae"
            ],
            [
             0.3,
             "#f1b6da"
            ],
            [
             0.4,
             "#fde0ef"
            ],
            [
             0.5,
             "#f7f7f7"
            ],
            [
             0.6,
             "#e6f5d0"
            ],
            [
             0.7,
             "#b8e186"
            ],
            [
             0.8,
             "#7fbc41"
            ],
            [
             0.9,
             "#4d9221"
            ],
            [
             1,
             "#276419"
            ]
           ],
           "sequential": [
            [
             0,
             "#0d0887"
            ],
            [
             0.1111111111111111,
             "#46039f"
            ],
            [
             0.2222222222222222,
             "#7201a8"
            ],
            [
             0.3333333333333333,
             "#9c179e"
            ],
            [
             0.4444444444444444,
             "#bd3786"
            ],
            [
             0.5555555555555556,
             "#d8576b"
            ],
            [
             0.6666666666666666,
             "#ed7953"
            ],
            [
             0.7777777777777778,
             "#fb9f3a"
            ],
            [
             0.8888888888888888,
             "#fdca26"
            ],
            [
             1,
             "#f0f921"
            ]
           ],
           "sequentialminus": [
            [
             0,
             "#0d0887"
            ],
            [
             0.1111111111111111,
             "#46039f"
            ],
            [
             0.2222222222222222,
             "#7201a8"
            ],
            [
             0.3333333333333333,
             "#9c179e"
            ],
            [
             0.4444444444444444,
             "#bd3786"
            ],
            [
             0.5555555555555556,
             "#d8576b"
            ],
            [
             0.6666666666666666,
             "#ed7953"
            ],
            [
             0.7777777777777778,
             "#fb9f3a"
            ],
            [
             0.8888888888888888,
             "#fdca26"
            ],
            [
             1,
             "#f0f921"
            ]
           ]
          },
          "colorway": [
           "#636efa",
           "#EF553B",
           "#00cc96",
           "#ab63fa",
           "#FFA15A",
           "#19d3f3",
           "#FF6692",
           "#B6E880",
           "#FF97FF",
           "#FECB52"
          ],
          "font": {
           "color": "#2a3f5f"
          },
          "geo": {
           "bgcolor": "white",
           "lakecolor": "white",
           "landcolor": "#E5ECF6",
           "showlakes": true,
           "showland": true,
           "subunitcolor": "white"
          },
          "hoverlabel": {
           "align": "left"
          },
          "hovermode": "closest",
          "mapbox": {
           "style": "light"
          },
          "paper_bgcolor": "white",
          "plot_bgcolor": "#E5ECF6",
          "polar": {
           "angularaxis": {
            "gridcolor": "white",
            "linecolor": "white",
            "ticks": ""
           },
           "bgcolor": "#E5ECF6",
           "radialaxis": {
            "gridcolor": "white",
            "linecolor": "white",
            "ticks": ""
           }
          },
          "scene": {
           "xaxis": {
            "backgroundcolor": "#E5ECF6",
            "gridcolor": "white",
            "gridwidth": 2,
            "linecolor": "white",
            "showbackground": true,
            "ticks": "",
            "zerolinecolor": "white"
           },
           "yaxis": {
            "backgroundcolor": "#E5ECF6",
            "gridcolor": "white",
            "gridwidth": 2,
            "linecolor": "white",
            "showbackground": true,
            "ticks": "",
            "zerolinecolor": "white"
           },
           "zaxis": {
            "backgroundcolor": "#E5ECF6",
            "gridcolor": "white",
            "gridwidth": 2,
            "linecolor": "white",
            "showbackground": true,
            "ticks": "",
            "zerolinecolor": "white"
           }
          },
          "shapedefaults": {
           "line": {
            "color": "#2a3f5f"
           }
          },
          "ternary": {
           "aaxis": {
            "gridcolor": "white",
            "linecolor": "white",
            "ticks": ""
           },
           "baxis": {
            "gridcolor": "white",
            "linecolor": "white",
            "ticks": ""
           },
           "bgcolor": "#E5ECF6",
           "caxis": {
            "gridcolor": "white",
            "linecolor": "white",
            "ticks": ""
           }
          },
          "title": {
           "x": 0.05
          },
          "xaxis": {
           "automargin": true,
           "gridcolor": "white",
           "linecolor": "white",
           "ticks": "",
           "title": {
            "standoff": 15
           },
           "zerolinecolor": "white",
           "zerolinewidth": 2
          },
          "yaxis": {
           "automargin": true,
           "gridcolor": "white",
           "linecolor": "white",
           "ticks": "",
           "title": {
            "standoff": 15
           },
           "zerolinecolor": "white",
           "zerolinewidth": 2
          }
         }
        },
        "title": {
         "text": "Market Capitalizations Companies"
        },
        "xaxis": {
         "anchor": "y",
         "domain": [
          0,
          1
         ],
         "title": {
          "text": "Ticker"
         }
        },
        "yaxis": {
         "anchor": "x",
         "domain": [
          0,
          1
         ],
         "title": {
          "text": "Market Cap (Billions USD)"
         }
        }
       }
      }
     },
     "metadata": {},
     "output_type": "display_data"
    },
    {
     "data": {
      "application/vnd.plotly.v1+json": {
       "config": {
        "plotlyServerURL": "https://plot.ly"
       },
       "data": [
        {
         "alignmentgroup": "True",
         "hovertemplate": "Symbol=%{x}<br>Market Cap (Billions USD)=%{y}<extra></extra>",
         "legendgroup": "",
         "marker": {
          "color": "#636efa",
          "pattern": {
           "shape": ""
          }
         },
         "name": "",
         "offsetgroup": "",
         "orientation": "v",
         "showlegend": false,
         "textposition": "auto",
         "type": "bar",
         "x": [
          "LW",
          "TAP",
          "SJM",
          "CPB",
          "CAG",
          "BG",
          "CLX",
          "HRL",
          "K",
          "MKC",
          "TSN",
          "BF.B",
          "DLTR",
          "CHD",
          "DG",
          "ADM",
          "KVUE",
          "EL",
          "SYY",
          "GIS",
          "KR",
          "HSY",
          "KHC",
          "KDP",
          "STZ",
          "KMB",
          "MNST",
          "TGT",
          "CL",
          "MO",
          "MDLZ",
          "PM",
          "PEP",
          "KO",
          "COST",
          "PG",
          "WMT"
         ],
         "xaxis": "x",
         "y": [
          7616718336,
          11465887744,
          12355806208,
          13811106816,
          14126294016,
          15990324224,
          16559600640,
          17458032640,
          19583115264,
          20069916672,
          21462966272,
          21463191552,
          22059702272,
          24410732544,
          26023475200,
          31317704704,
          34954854400,
          35829866496,
          35909484544,
          36734377984,
          38471458816,
          38964469760,
          40424050688,
          45018480640,
          45445275648,
          47502835712,
          49370193920,
          67674537984,
          79172558848,
          85546557440,
          89052889088,
          176007282688,
          234907959296,
          284736094208,
          361739190272,
          394025369600,
          563369541632
         ],
         "yaxis": "y"
        }
       ],
       "layout": {
        "annotations": [
         {
          "showarrow": false,
          "text": "Small to Mid",
          "x": 21.5,
          "xanchor": "right",
          "xref": "x",
          "y": 1,
          "yanchor": "top",
          "yref": "y domain"
         },
         {
          "showarrow": false,
          "text": "Mid to Large",
          "x": 35.5,
          "xanchor": "right",
          "xref": "x",
          "y": 1,
          "yanchor": "top",
          "yref": "y domain"
         }
        ],
        "barmode": "relative",
        "legend": {
         "tracegroupgap": 0
        },
        "shapes": [
         {
          "line": {
           "color": "Red",
           "dash": "dashdot",
           "width": 2
          },
          "type": "line",
          "x0": 21.5,
          "x1": 21.5,
          "xref": "x",
          "y0": 0,
          "y1": 1,
          "yref": "y domain"
         },
         {
          "line": {
           "color": "Blue",
           "dash": "dashdot",
           "width": 2
          },
          "type": "line",
          "x0": 35.5,
          "x1": 35.5,
          "xref": "x",
          "y0": 0,
          "y1": 1,
          "yref": "y domain"
         }
        ],
        "template": {
         "data": {
          "bar": [
           {
            "error_x": {
             "color": "#2a3f5f"
            },
            "error_y": {
             "color": "#2a3f5f"
            },
            "marker": {
             "line": {
              "color": "#E5ECF6",
              "width": 0.5
             },
             "pattern": {
              "fillmode": "overlay",
              "size": 10,
              "solidity": 0.2
             }
            },
            "type": "bar"
           }
          ],
          "barpolar": [
           {
            "marker": {
             "line": {
              "color": "#E5ECF6",
              "width": 0.5
             },
             "pattern": {
              "fillmode": "overlay",
              "size": 10,
              "solidity": 0.2
             }
            },
            "type": "barpolar"
           }
          ],
          "carpet": [
           {
            "aaxis": {
             "endlinecolor": "#2a3f5f",
             "gridcolor": "white",
             "linecolor": "white",
             "minorgridcolor": "white",
             "startlinecolor": "#2a3f5f"
            },
            "baxis": {
             "endlinecolor": "#2a3f5f",
             "gridcolor": "white",
             "linecolor": "white",
             "minorgridcolor": "white",
             "startlinecolor": "#2a3f5f"
            },
            "type": "carpet"
           }
          ],
          "choropleth": [
           {
            "colorbar": {
             "outlinewidth": 0,
             "ticks": ""
            },
            "type": "choropleth"
           }
          ],
          "contour": [
           {
            "colorbar": {
             "outlinewidth": 0,
             "ticks": ""
            },
            "colorscale": [
             [
              0,
              "#0d0887"
             ],
             [
              0.1111111111111111,
              "#46039f"
             ],
             [
              0.2222222222222222,
              "#7201a8"
             ],
             [
              0.3333333333333333,
              "#9c179e"
             ],
             [
              0.4444444444444444,
              "#bd3786"
             ],
             [
              0.5555555555555556,
              "#d8576b"
             ],
             [
              0.6666666666666666,
              "#ed7953"
             ],
             [
              0.7777777777777778,
              "#fb9f3a"
             ],
             [
              0.8888888888888888,
              "#fdca26"
             ],
             [
              1,
              "#f0f921"
             ]
            ],
            "type": "contour"
           }
          ],
          "contourcarpet": [
           {
            "colorbar": {
             "outlinewidth": 0,
             "ticks": ""
            },
            "type": "contourcarpet"
           }
          ],
          "heatmap": [
           {
            "colorbar": {
             "outlinewidth": 0,
             "ticks": ""
            },
            "colorscale": [
             [
              0,
              "#0d0887"
             ],
             [
              0.1111111111111111,
              "#46039f"
             ],
             [
              0.2222222222222222,
              "#7201a8"
             ],
             [
              0.3333333333333333,
              "#9c179e"
             ],
             [
              0.4444444444444444,
              "#bd3786"
             ],
             [
              0.5555555555555556,
              "#d8576b"
             ],
             [
              0.6666666666666666,
              "#ed7953"
             ],
             [
              0.7777777777777778,
              "#fb9f3a"
             ],
             [
              0.8888888888888888,
              "#fdca26"
             ],
             [
              1,
              "#f0f921"
             ]
            ],
            "type": "heatmap"
           }
          ],
          "heatmapgl": [
           {
            "colorbar": {
             "outlinewidth": 0,
             "ticks": ""
            },
            "colorscale": [
             [
              0,
              "#0d0887"
             ],
             [
              0.1111111111111111,
              "#46039f"
             ],
             [
              0.2222222222222222,
              "#7201a8"
             ],
             [
              0.3333333333333333,
              "#9c179e"
             ],
             [
              0.4444444444444444,
              "#bd3786"
             ],
             [
              0.5555555555555556,
              "#d8576b"
             ],
             [
              0.6666666666666666,
              "#ed7953"
             ],
             [
              0.7777777777777778,
              "#fb9f3a"
             ],
             [
              0.8888888888888888,
              "#fdca26"
             ],
             [
              1,
              "#f0f921"
             ]
            ],
            "type": "heatmapgl"
           }
          ],
          "histogram": [
           {
            "marker": {
             "pattern": {
              "fillmode": "overlay",
              "size": 10,
              "solidity": 0.2
             }
            },
            "type": "histogram"
           }
          ],
          "histogram2d": [
           {
            "colorbar": {
             "outlinewidth": 0,
             "ticks": ""
            },
            "colorscale": [
             [
              0,
              "#0d0887"
             ],
             [
              0.1111111111111111,
              "#46039f"
             ],
             [
              0.2222222222222222,
              "#7201a8"
             ],
             [
              0.3333333333333333,
              "#9c179e"
             ],
             [
              0.4444444444444444,
              "#bd3786"
             ],
             [
              0.5555555555555556,
              "#d8576b"
             ],
             [
              0.6666666666666666,
              "#ed7953"
             ],
             [
              0.7777777777777778,
              "#fb9f3a"
             ],
             [
              0.8888888888888888,
              "#fdca26"
             ],
             [
              1,
              "#f0f921"
             ]
            ],
            "type": "histogram2d"
           }
          ],
          "histogram2dcontour": [
           {
            "colorbar": {
             "outlinewidth": 0,
             "ticks": ""
            },
            "colorscale": [
             [
              0,
              "#0d0887"
             ],
             [
              0.1111111111111111,
              "#46039f"
             ],
             [
              0.2222222222222222,
              "#7201a8"
             ],
             [
              0.3333333333333333,
              "#9c179e"
             ],
             [
              0.4444444444444444,
              "#bd3786"
             ],
             [
              0.5555555555555556,
              "#d8576b"
             ],
             [
              0.6666666666666666,
              "#ed7953"
             ],
             [
              0.7777777777777778,
              "#fb9f3a"
             ],
             [
              0.8888888888888888,
              "#fdca26"
             ],
             [
              1,
              "#f0f921"
             ]
            ],
            "type": "histogram2dcontour"
           }
          ],
          "mesh3d": [
           {
            "colorbar": {
             "outlinewidth": 0,
             "ticks": ""
            },
            "type": "mesh3d"
           }
          ],
          "parcoords": [
           {
            "line": {
             "colorbar": {
              "outlinewidth": 0,
              "ticks": ""
             }
            },
            "type": "parcoords"
           }
          ],
          "pie": [
           {
            "automargin": true,
            "type": "pie"
           }
          ],
          "scatter": [
           {
            "fillpattern": {
             "fillmode": "overlay",
             "size": 10,
             "solidity": 0.2
            },
            "type": "scatter"
           }
          ],
          "scatter3d": [
           {
            "line": {
             "colorbar": {
              "outlinewidth": 0,
              "ticks": ""
             }
            },
            "marker": {
             "colorbar": {
              "outlinewidth": 0,
              "ticks": ""
             }
            },
            "type": "scatter3d"
           }
          ],
          "scattercarpet": [
           {
            "marker": {
             "colorbar": {
              "outlinewidth": 0,
              "ticks": ""
             }
            },
            "type": "scattercarpet"
           }
          ],
          "scattergeo": [
           {
            "marker": {
             "colorbar": {
              "outlinewidth": 0,
              "ticks": ""
             }
            },
            "type": "scattergeo"
           }
          ],
          "scattergl": [
           {
            "marker": {
             "colorbar": {
              "outlinewidth": 0,
              "ticks": ""
             }
            },
            "type": "scattergl"
           }
          ],
          "scattermapbox": [
           {
            "marker": {
             "colorbar": {
              "outlinewidth": 0,
              "ticks": ""
             }
            },
            "type": "scattermapbox"
           }
          ],
          "scatterpolar": [
           {
            "marker": {
             "colorbar": {
              "outlinewidth": 0,
              "ticks": ""
             }
            },
            "type": "scatterpolar"
           }
          ],
          "scatterpolargl": [
           {
            "marker": {
             "colorbar": {
              "outlinewidth": 0,
              "ticks": ""
             }
            },
            "type": "scatterpolargl"
           }
          ],
          "scatterternary": [
           {
            "marker": {
             "colorbar": {
              "outlinewidth": 0,
              "ticks": ""
             }
            },
            "type": "scatterternary"
           }
          ],
          "surface": [
           {
            "colorbar": {
             "outlinewidth": 0,
             "ticks": ""
            },
            "colorscale": [
             [
              0,
              "#0d0887"
             ],
             [
              0.1111111111111111,
              "#46039f"
             ],
             [
              0.2222222222222222,
              "#7201a8"
             ],
             [
              0.3333333333333333,
              "#9c179e"
             ],
             [
              0.4444444444444444,
              "#bd3786"
             ],
             [
              0.5555555555555556,
              "#d8576b"
             ],
             [
              0.6666666666666666,
              "#ed7953"
             ],
             [
              0.7777777777777778,
              "#fb9f3a"
             ],
             [
              0.8888888888888888,
              "#fdca26"
             ],
             [
              1,
              "#f0f921"
             ]
            ],
            "type": "surface"
           }
          ],
          "table": [
           {
            "cells": {
             "fill": {
              "color": "#EBF0F8"
             },
             "line": {
              "color": "white"
             }
            },
            "header": {
             "fill": {
              "color": "#C8D4E3"
             },
             "line": {
              "color": "white"
             }
            },
            "type": "table"
           }
          ]
         },
         "layout": {
          "annotationdefaults": {
           "arrowcolor": "#2a3f5f",
           "arrowhead": 0,
           "arrowwidth": 1
          },
          "autotypenumbers": "strict",
          "coloraxis": {
           "colorbar": {
            "outlinewidth": 0,
            "ticks": ""
           }
          },
          "colorscale": {
           "diverging": [
            [
             0,
             "#8e0152"
            ],
            [
             0.1,
             "#c51b7d"
            ],
            [
             0.2,
             "#de77ae"
            ],
            [
             0.3,
             "#f1b6da"
            ],
            [
             0.4,
             "#fde0ef"
            ],
            [
             0.5,
             "#f7f7f7"
            ],
            [
             0.6,
             "#e6f5d0"
            ],
            [
             0.7,
             "#b8e186"
            ],
            [
             0.8,
             "#7fbc41"
            ],
            [
             0.9,
             "#4d9221"
            ],
            [
             1,
             "#276419"
            ]
           ],
           "sequential": [
            [
             0,
             "#0d0887"
            ],
            [
             0.1111111111111111,
             "#46039f"
            ],
            [
             0.2222222222222222,
             "#7201a8"
            ],
            [
             0.3333333333333333,
             "#9c179e"
            ],
            [
             0.4444444444444444,
             "#bd3786"
            ],
            [
             0.5555555555555556,
             "#d8576b"
            ],
            [
             0.6666666666666666,
             "#ed7953"
            ],
            [
             0.7777777777777778,
             "#fb9f3a"
            ],
            [
             0.8888888888888888,
             "#fdca26"
            ],
            [
             1,
             "#f0f921"
            ]
           ],
           "sequentialminus": [
            [
             0,
             "#0d0887"
            ],
            [
             0.1111111111111111,
             "#46039f"
            ],
            [
             0.2222222222222222,
             "#7201a8"
            ],
            [
             0.3333333333333333,
             "#9c179e"
            ],
            [
             0.4444444444444444,
             "#bd3786"
            ],
            [
             0.5555555555555556,
             "#d8576b"
            ],
            [
             0.6666666666666666,
             "#ed7953"
            ],
            [
             0.7777777777777778,
             "#fb9f3a"
            ],
            [
             0.8888888888888888,
             "#fdca26"
            ],
            [
             1,
             "#f0f921"
            ]
           ]
          },
          "colorway": [
           "#636efa",
           "#EF553B",
           "#00cc96",
           "#ab63fa",
           "#FFA15A",
           "#19d3f3",
           "#FF6692",
           "#B6E880",
           "#FF97FF",
           "#FECB52"
          ],
          "font": {
           "color": "#2a3f5f"
          },
          "geo": {
           "bgcolor": "white",
           "lakecolor": "white",
           "landcolor": "#E5ECF6",
           "showlakes": true,
           "showland": true,
           "subunitcolor": "white"
          },
          "hoverlabel": {
           "align": "left"
          },
          "hovermode": "closest",
          "mapbox": {
           "style": "light"
          },
          "paper_bgcolor": "white",
          "plot_bgcolor": "#E5ECF6",
          "polar": {
           "angularaxis": {
            "gridcolor": "white",
            "linecolor": "white",
            "ticks": ""
           },
           "bgcolor": "#E5ECF6",
           "radialaxis": {
            "gridcolor": "white",
            "linecolor": "white",
            "ticks": ""
           }
          },
          "scene": {
           "xaxis": {
            "backgroundcolor": "#E5ECF6",
            "gridcolor": "white",
            "gridwidth": 2,
            "linecolor": "white",
            "showbackground": true,
            "ticks": "",
            "zerolinecolor": "white"
           },
           "yaxis": {
            "backgroundcolor": "#E5ECF6",
            "gridcolor": "white",
            "gridwidth": 2,
            "linecolor": "white",
            "showbackground": true,
            "ticks": "",
            "zerolinecolor": "white"
           },
           "zaxis": {
            "backgroundcolor": "#E5ECF6",
            "gridcolor": "white",
            "gridwidth": 2,
            "linecolor": "white",
            "showbackground": true,
            "ticks": "",
            "zerolinecolor": "white"
           }
          },
          "shapedefaults": {
           "line": {
            "color": "#2a3f5f"
           }
          },
          "ternary": {
           "aaxis": {
            "gridcolor": "white",
            "linecolor": "white",
            "ticks": ""
           },
           "baxis": {
            "gridcolor": "white",
            "linecolor": "white",
            "ticks": ""
           },
           "bgcolor": "#E5ECF6",
           "caxis": {
            "gridcolor": "white",
            "linecolor": "white",
            "ticks": ""
           }
          },
          "title": {
           "x": 0.05
          },
          "xaxis": {
           "automargin": true,
           "gridcolor": "white",
           "linecolor": "white",
           "ticks": "",
           "title": {
            "standoff": 15
           },
           "zerolinecolor": "white",
           "zerolinewidth": 2
          },
          "yaxis": {
           "automargin": true,
           "gridcolor": "white",
           "linecolor": "white",
           "ticks": "",
           "title": {
            "standoff": 15
           },
           "zerolinecolor": "white",
           "zerolinewidth": 2
          }
         }
        },
        "title": {
         "text": "Market Capitalizations Companies"
        },
        "xaxis": {
         "anchor": "y",
         "domain": [
          0,
          1
         ],
         "title": {
          "text": "Ticker"
         }
        },
        "yaxis": {
         "anchor": "x",
         "domain": [
          0,
          1
         ],
         "title": {
          "text": "Market Cap (Billions USD)"
         }
        }
       }
      }
     },
     "metadata": {},
     "output_type": "display_data"
    },
    {
     "data": {
      "application/vnd.plotly.v1+json": {
       "config": {
        "plotlyServerURL": "https://plot.ly"
       },
       "data": [
        {
         "alignmentgroup": "True",
         "hovertemplate": "Symbol=%{x}<br>Market Cap (Billions USD)=%{y}<extra></extra>",
         "legendgroup": "",
         "marker": {
          "color": "#636efa",
          "pattern": {
           "shape": ""
          }
         },
         "name": "",
         "offsetgroup": "",
         "orientation": "v",
         "showlegend": false,
         "textposition": "auto",
         "type": "bar",
         "x": [
          "PARA",
          "MTCH",
          "IPG",
          "NWS",
          "NWSA",
          "FOXA",
          "FOX",
          "OMC",
          "WBD",
          "LYV",
          "TTWO",
          "EA",
          "CHTR",
          "T",
          "CMCSA",
          "DIS",
          "VZ",
          "TMUS",
          "NFLX",
          "META",
          "GOOGL",
          "GOOG"
         ],
         "xaxis": "x",
         "y": [
          8067656704,
          8833461248,
          11424624640,
          15593308160,
          15612662784,
          16684835840,
          16688977920,
          18248181760,
          19577974784,
          21348302848,
          26303100928,
          37681225728,
          45402578944,
          137685499904,
          148084408320,
          162678980608,
          168231583744,
          205810515968,
          272129245184,
          1150087987200,
          2068634664960,
          2071009034240
         ],
         "yaxis": "y"
        }
       ],
       "layout": {
        "annotations": [
         {
          "showarrow": false,
          "text": "Small to Mid",
          "x": 12.5,
          "xanchor": "right",
          "xref": "x",
          "y": 1,
          "yanchor": "top",
          "yref": "y domain"
         },
         {
          "showarrow": false,
          "text": "Mid to Large",
          "x": 21.5,
          "xanchor": "right",
          "xref": "x",
          "y": 1,
          "yanchor": "top",
          "yref": "y domain"
         }
        ],
        "barmode": "relative",
        "legend": {
         "tracegroupgap": 0
        },
        "shapes": [
         {
          "line": {
           "color": "Red",
           "dash": "dashdot",
           "width": 2
          },
          "type": "line",
          "x0": 12.5,
          "x1": 12.5,
          "xref": "x",
          "y0": 0,
          "y1": 1,
          "yref": "y domain"
         },
         {
          "line": {
           "color": "Blue",
           "dash": "dashdot",
           "width": 2
          },
          "type": "line",
          "x0": 21.5,
          "x1": 21.5,
          "xref": "x",
          "y0": 0,
          "y1": 1,
          "yref": "y domain"
         }
        ],
        "template": {
         "data": {
          "bar": [
           {
            "error_x": {
             "color": "#2a3f5f"
            },
            "error_y": {
             "color": "#2a3f5f"
            },
            "marker": {
             "line": {
              "color": "#E5ECF6",
              "width": 0.5
             },
             "pattern": {
              "fillmode": "overlay",
              "size": 10,
              "solidity": 0.2
             }
            },
            "type": "bar"
           }
          ],
          "barpolar": [
           {
            "marker": {
             "line": {
              "color": "#E5ECF6",
              "width": 0.5
             },
             "pattern": {
              "fillmode": "overlay",
              "size": 10,
              "solidity": 0.2
             }
            },
            "type": "barpolar"
           }
          ],
          "carpet": [
           {
            "aaxis": {
             "endlinecolor": "#2a3f5f",
             "gridcolor": "white",
             "linecolor": "white",
             "minorgridcolor": "white",
             "startlinecolor": "#2a3f5f"
            },
            "baxis": {
             "endlinecolor": "#2a3f5f",
             "gridcolor": "white",
             "linecolor": "white",
             "minorgridcolor": "white",
             "startlinecolor": "#2a3f5f"
            },
            "type": "carpet"
           }
          ],
          "choropleth": [
           {
            "colorbar": {
             "outlinewidth": 0,
             "ticks": ""
            },
            "type": "choropleth"
           }
          ],
          "contour": [
           {
            "colorbar": {
             "outlinewidth": 0,
             "ticks": ""
            },
            "colorscale": [
             [
              0,
              "#0d0887"
             ],
             [
              0.1111111111111111,
              "#46039f"
             ],
             [
              0.2222222222222222,
              "#7201a8"
             ],
             [
              0.3333333333333333,
              "#9c179e"
             ],
             [
              0.4444444444444444,
              "#bd3786"
             ],
             [
              0.5555555555555556,
              "#d8576b"
             ],
             [
              0.6666666666666666,
              "#ed7953"
             ],
             [
              0.7777777777777778,
              "#fb9f3a"
             ],
             [
              0.8888888888888888,
              "#fdca26"
             ],
             [
              1,
              "#f0f921"
             ]
            ],
            "type": "contour"
           }
          ],
          "contourcarpet": [
           {
            "colorbar": {
             "outlinewidth": 0,
             "ticks": ""
            },
            "type": "contourcarpet"
           }
          ],
          "heatmap": [
           {
            "colorbar": {
             "outlinewidth": 0,
             "ticks": ""
            },
            "colorscale": [
             [
              0,
              "#0d0887"
             ],
             [
              0.1111111111111111,
              "#46039f"
             ],
             [
              0.2222222222222222,
              "#7201a8"
             ],
             [
              0.3333333333333333,
              "#9c179e"
             ],
             [
              0.4444444444444444,
              "#bd3786"
             ],
             [
              0.5555555555555556,
              "#d8576b"
             ],
             [
              0.6666666666666666,
              "#ed7953"
             ],
             [
              0.7777777777777778,
              "#fb9f3a"
             ],
             [
              0.8888888888888888,
              "#fdca26"
             ],
             [
              1,
              "#f0f921"
             ]
            ],
            "type": "heatmap"
           }
          ],
          "heatmapgl": [
           {
            "colorbar": {
             "outlinewidth": 0,
             "ticks": ""
            },
            "colorscale": [
             [
              0,
              "#0d0887"
             ],
             [
              0.1111111111111111,
              "#46039f"
             ],
             [
              0.2222222222222222,
              "#7201a8"
             ],
             [
              0.3333333333333333,
              "#9c179e"
             ],
             [
              0.4444444444444444,
              "#bd3786"
             ],
             [
              0.5555555555555556,
              "#d8576b"
             ],
             [
              0.6666666666666666,
              "#ed7953"
             ],
             [
              0.7777777777777778,
              "#fb9f3a"
             ],
             [
              0.8888888888888888,
              "#fdca26"
             ],
             [
              1,
              "#f0f921"
             ]
            ],
            "type": "heatmapgl"
           }
          ],
          "histogram": [
           {
            "marker": {
             "pattern": {
              "fillmode": "overlay",
              "size": 10,
              "solidity": 0.2
             }
            },
            "type": "histogram"
           }
          ],
          "histogram2d": [
           {
            "colorbar": {
             "outlinewidth": 0,
             "ticks": ""
            },
            "colorscale": [
             [
              0,
              "#0d0887"
             ],
             [
              0.1111111111111111,
              "#46039f"
             ],
             [
              0.2222222222222222,
              "#7201a8"
             ],
             [
              0.3333333333333333,
              "#9c179e"
             ],
             [
              0.4444444444444444,
              "#bd3786"
             ],
             [
              0.5555555555555556,
              "#d8576b"
             ],
             [
              0.6666666666666666,
              "#ed7953"
             ],
             [
              0.7777777777777778,
              "#fb9f3a"
             ],
             [
              0.8888888888888888,
              "#fdca26"
             ],
             [
              1,
              "#f0f921"
             ]
            ],
            "type": "histogram2d"
           }
          ],
          "histogram2dcontour": [
           {
            "colorbar": {
             "outlinewidth": 0,
             "ticks": ""
            },
            "colorscale": [
             [
              0,
              "#0d0887"
             ],
             [
              0.1111111111111111,
              "#46039f"
             ],
             [
              0.2222222222222222,
              "#7201a8"
             ],
             [
              0.3333333333333333,
              "#9c179e"
             ],
             [
              0.4444444444444444,
              "#bd3786"
             ],
             [
              0.5555555555555556,
              "#d8576b"
             ],
             [
              0.6666666666666666,
              "#ed7953"
             ],
             [
              0.7777777777777778,
              "#fb9f3a"
             ],
             [
              0.8888888888888888,
              "#fdca26"
             ],
             [
              1,
              "#f0f921"
             ]
            ],
            "type": "histogram2dcontour"
           }
          ],
          "mesh3d": [
           {
            "colorbar": {
             "outlinewidth": 0,
             "ticks": ""
            },
            "type": "mesh3d"
           }
          ],
          "parcoords": [
           {
            "line": {
             "colorbar": {
              "outlinewidth": 0,
              "ticks": ""
             }
            },
            "type": "parcoords"
           }
          ],
          "pie": [
           {
            "automargin": true,
            "type": "pie"
           }
          ],
          "scatter": [
           {
            "fillpattern": {
             "fillmode": "overlay",
             "size": 10,
             "solidity": 0.2
            },
            "type": "scatter"
           }
          ],
          "scatter3d": [
           {
            "line": {
             "colorbar": {
              "outlinewidth": 0,
              "ticks": ""
             }
            },
            "marker": {
             "colorbar": {
              "outlinewidth": 0,
              "ticks": ""
             }
            },
            "type": "scatter3d"
           }
          ],
          "scattercarpet": [
           {
            "marker": {
             "colorbar": {
              "outlinewidth": 0,
              "ticks": ""
             }
            },
            "type": "scattercarpet"
           }
          ],
          "scattergeo": [
           {
            "marker": {
             "colorbar": {
              "outlinewidth": 0,
              "ticks": ""
             }
            },
            "type": "scattergeo"
           }
          ],
          "scattergl": [
           {
            "marker": {
             "colorbar": {
              "outlinewidth": 0,
              "ticks": ""
             }
            },
            "type": "scattergl"
           }
          ],
          "scattermapbox": [
           {
            "marker": {
             "colorbar": {
              "outlinewidth": 0,
              "ticks": ""
             }
            },
            "type": "scattermapbox"
           }
          ],
          "scatterpolar": [
           {
            "marker": {
             "colorbar": {
              "outlinewidth": 0,
              "ticks": ""
             }
            },
            "type": "scatterpolar"
           }
          ],
          "scatterpolargl": [
           {
            "marker": {
             "colorbar": {
              "outlinewidth": 0,
              "ticks": ""
             }
            },
            "type": "scatterpolargl"
           }
          ],
          "scatterternary": [
           {
            "marker": {
             "colorbar": {
              "outlinewidth": 0,
              "ticks": ""
             }
            },
            "type": "scatterternary"
           }
          ],
          "surface": [
           {
            "colorbar": {
             "outlinewidth": 0,
             "ticks": ""
            },
            "colorscale": [
             [
              0,
              "#0d0887"
             ],
             [
              0.1111111111111111,
              "#46039f"
             ],
             [
              0.2222222222222222,
              "#7201a8"
             ],
             [
              0.3333333333333333,
              "#9c179e"
             ],
             [
              0.4444444444444444,
              "#bd3786"
             ],
             [
              0.5555555555555556,
              "#d8576b"
             ],
             [
              0.6666666666666666,
              "#ed7953"
             ],
             [
              0.7777777777777778,
              "#fb9f3a"
             ],
             [
              0.8888888888888888,
              "#fdca26"
             ],
             [
              1,
              "#f0f921"
             ]
            ],
            "type": "surface"
           }
          ],
          "table": [
           {
            "cells": {
             "fill": {
              "color": "#EBF0F8"
             },
             "line": {
              "color": "white"
             }
            },
            "header": {
             "fill": {
              "color": "#C8D4E3"
             },
             "line": {
              "color": "white"
             }
            },
            "type": "table"
           }
          ]
         },
         "layout": {
          "annotationdefaults": {
           "arrowcolor": "#2a3f5f",
           "arrowhead": 0,
           "arrowwidth": 1
          },
          "autotypenumbers": "strict",
          "coloraxis": {
           "colorbar": {
            "outlinewidth": 0,
            "ticks": ""
           }
          },
          "colorscale": {
           "diverging": [
            [
             0,
             "#8e0152"
            ],
            [
             0.1,
             "#c51b7d"
            ],
            [
             0.2,
             "#de77ae"
            ],
            [
             0.3,
             "#f1b6da"
            ],
            [
             0.4,
             "#fde0ef"
            ],
            [
             0.5,
             "#f7f7f7"
            ],
            [
             0.6,
             "#e6f5d0"
            ],
            [
             0.7,
             "#b8e186"
            ],
            [
             0.8,
             "#7fbc41"
            ],
            [
             0.9,
             "#4d9221"
            ],
            [
             1,
             "#276419"
            ]
           ],
           "sequential": [
            [
             0,
             "#0d0887"
            ],
            [
             0.1111111111111111,
             "#46039f"
            ],
            [
             0.2222222222222222,
             "#7201a8"
            ],
            [
             0.3333333333333333,
             "#9c179e"
            ],
            [
             0.4444444444444444,
             "#bd3786"
            ],
            [
             0.5555555555555556,
             "#d8576b"
            ],
            [
             0.6666666666666666,
             "#ed7953"
            ],
            [
             0.7777777777777778,
             "#fb9f3a"
            ],
            [
             0.8888888888888888,
             "#fdca26"
            ],
            [
             1,
             "#f0f921"
            ]
           ],
           "sequentialminus": [
            [
             0,
             "#0d0887"
            ],
            [
             0.1111111111111111,
             "#46039f"
            ],
            [
             0.2222222222222222,
             "#7201a8"
            ],
            [
             0.3333333333333333,
             "#9c179e"
            ],
            [
             0.4444444444444444,
             "#bd3786"
            ],
            [
             0.5555555555555556,
             "#d8576b"
            ],
            [
             0.6666666666666666,
             "#ed7953"
            ],
            [
             0.7777777777777778,
             "#fb9f3a"
            ],
            [
             0.8888888888888888,
             "#fdca26"
            ],
            [
             1,
             "#f0f921"
            ]
           ]
          },
          "colorway": [
           "#636efa",
           "#EF553B",
           "#00cc96",
           "#ab63fa",
           "#FFA15A",
           "#19d3f3",
           "#FF6692",
           "#B6E880",
           "#FF97FF",
           "#FECB52"
          ],
          "font": {
           "color": "#2a3f5f"
          },
          "geo": {
           "bgcolor": "white",
           "lakecolor": "white",
           "landcolor": "#E5ECF6",
           "showlakes": true,
           "showland": true,
           "subunitcolor": "white"
          },
          "hoverlabel": {
           "align": "left"
          },
          "hovermode": "closest",
          "mapbox": {
           "style": "light"
          },
          "paper_bgcolor": "white",
          "plot_bgcolor": "#E5ECF6",
          "polar": {
           "angularaxis": {
            "gridcolor": "white",
            "linecolor": "white",
            "ticks": ""
           },
           "bgcolor": "#E5ECF6",
           "radialaxis": {
            "gridcolor": "white",
            "linecolor": "white",
            "ticks": ""
           }
          },
          "scene": {
           "xaxis": {
            "backgroundcolor": "#E5ECF6",
            "gridcolor": "white",
            "gridwidth": 2,
            "linecolor": "white",
            "showbackground": true,
            "ticks": "",
            "zerolinecolor": "white"
           },
           "yaxis": {
            "backgroundcolor": "#E5ECF6",
            "gridcolor": "white",
            "gridwidth": 2,
            "linecolor": "white",
            "showbackground": true,
            "ticks": "",
            "zerolinecolor": "white"
           },
           "zaxis": {
            "backgroundcolor": "#E5ECF6",
            "gridcolor": "white",
            "gridwidth": 2,
            "linecolor": "white",
            "showbackground": true,
            "ticks": "",
            "zerolinecolor": "white"
           }
          },
          "shapedefaults": {
           "line": {
            "color": "#2a3f5f"
           }
          },
          "ternary": {
           "aaxis": {
            "gridcolor": "white",
            "linecolor": "white",
            "ticks": ""
           },
           "baxis": {
            "gridcolor": "white",
            "linecolor": "white",
            "ticks": ""
           },
           "bgcolor": "#E5ECF6",
           "caxis": {
            "gridcolor": "white",
            "linecolor": "white",
            "ticks": ""
           }
          },
          "title": {
           "x": 0.05
          },
          "xaxis": {
           "automargin": true,
           "gridcolor": "white",
           "linecolor": "white",
           "ticks": "",
           "title": {
            "standoff": 15
           },
           "zerolinecolor": "white",
           "zerolinewidth": 2
          },
          "yaxis": {
           "automargin": true,
           "gridcolor": "white",
           "linecolor": "white",
           "ticks": "",
           "title": {
            "standoff": 15
           },
           "zerolinecolor": "white",
           "zerolinewidth": 2
          }
         }
        },
        "title": {
         "text": "Market Capitalizations Companies"
        },
        "xaxis": {
         "anchor": "y",
         "domain": [
          0,
          1
         ],
         "title": {
          "text": "Ticker"
         }
        },
        "yaxis": {
         "anchor": "x",
         "domain": [
          0,
          1
         ],
         "title": {
          "text": "Market Cap (Billions USD)"
         }
        }
       }
      }
     },
     "metadata": {},
     "output_type": "display_data"
    },
    {
     "data": {
      "application/vnd.plotly.v1+json": {
       "config": {
        "plotlyServerURL": "https://plot.ly"
       },
       "data": [
        {
         "alignmentgroup": "True",
         "hovertemplate": "Symbol=%{x}<br>Market Cap (Billions USD)=%{y}<extra></extra>",
         "legendgroup": "",
         "marker": {
          "color": "#636efa",
          "pattern": {
           "shape": ""
          }
         },
         "name": "",
         "offsetgroup": "",
         "orientation": "v",
         "showlegend": false,
         "textposition": "auto",
         "type": "bar",
         "x": [
          "FMC",
          "MOS",
          "ALB",
          "EMN",
          "CF",
          "CE",
          "STLD",
          "IFF",
          "PPG",
          "LYB",
          "DD",
          "VMC",
          "MLM",
          "DOW",
          "NUE",
          "CTVA",
          "NEM",
          "APD",
          "FCX",
          "ECL",
          "SHW",
          "LIN"
         ],
         "xaxis": "x",
         "y": [
          7356772864,
          9416814592,
          10694957056,
          11424743424,
          13435389952,
          14966416384,
          20050169856,
          24809904128,
          29386444800,
          31458342912,
          33051121664,
          33536462848,
          33724895232,
          37178503168,
          37631844352,
          38528831488,
          52704264192,
          57490550784,
          63966896128,
          69596266496,
          86510624768,
          212971601920
         ],
         "yaxis": "y"
        }
       ],
       "layout": {
        "annotations": [
         {
          "showarrow": false,
          "text": "Small to Mid",
          "x": 12.5,
          "xanchor": "right",
          "xref": "x",
          "y": 1,
          "yanchor": "top",
          "yref": "y domain"
         },
         {
          "showarrow": false,
          "text": "Mid to Large",
          "x": 21.5,
          "xanchor": "right",
          "xref": "x",
          "y": 1,
          "yanchor": "top",
          "yref": "y domain"
         }
        ],
        "barmode": "relative",
        "legend": {
         "tracegroupgap": 0
        },
        "shapes": [
         {
          "line": {
           "color": "Red",
           "dash": "dashdot",
           "width": 2
          },
          "type": "line",
          "x0": 12.5,
          "x1": 12.5,
          "xref": "x",
          "y0": 0,
          "y1": 1,
          "yref": "y domain"
         },
         {
          "line": {
           "color": "Blue",
           "dash": "dashdot",
           "width": 2
          },
          "type": "line",
          "x0": 21.5,
          "x1": 21.5,
          "xref": "x",
          "y0": 0,
          "y1": 1,
          "yref": "y domain"
         }
        ],
        "template": {
         "data": {
          "bar": [
           {
            "error_x": {
             "color": "#2a3f5f"
            },
            "error_y": {
             "color": "#2a3f5f"
            },
            "marker": {
             "line": {
              "color": "#E5ECF6",
              "width": 0.5
             },
             "pattern": {
              "fillmode": "overlay",
              "size": 10,
              "solidity": 0.2
             }
            },
            "type": "bar"
           }
          ],
          "barpolar": [
           {
            "marker": {
             "line": {
              "color": "#E5ECF6",
              "width": 0.5
             },
             "pattern": {
              "fillmode": "overlay",
              "size": 10,
              "solidity": 0.2
             }
            },
            "type": "barpolar"
           }
          ],
          "carpet": [
           {
            "aaxis": {
             "endlinecolor": "#2a3f5f",
             "gridcolor": "white",
             "linecolor": "white",
             "minorgridcolor": "white",
             "startlinecolor": "#2a3f5f"
            },
            "baxis": {
             "endlinecolor": "#2a3f5f",
             "gridcolor": "white",
             "linecolor": "white",
             "minorgridcolor": "white",
             "startlinecolor": "#2a3f5f"
            },
            "type": "carpet"
           }
          ],
          "choropleth": [
           {
            "colorbar": {
             "outlinewidth": 0,
             "ticks": ""
            },
            "type": "choropleth"
           }
          ],
          "contour": [
           {
            "colorbar": {
             "outlinewidth": 0,
             "ticks": ""
            },
            "colorscale": [
             [
              0,
              "#0d0887"
             ],
             [
              0.1111111111111111,
              "#46039f"
             ],
             [
              0.2222222222222222,
              "#7201a8"
             ],
             [
              0.3333333333333333,
              "#9c179e"
             ],
             [
              0.4444444444444444,
              "#bd3786"
             ],
             [
              0.5555555555555556,
              "#d8576b"
             ],
             [
              0.6666666666666666,
              "#ed7953"
             ],
             [
              0.7777777777777778,
              "#fb9f3a"
             ],
             [
              0.8888888888888888,
              "#fdca26"
             ],
             [
              1,
              "#f0f921"
             ]
            ],
            "type": "contour"
           }
          ],
          "contourcarpet": [
           {
            "colorbar": {
             "outlinewidth": 0,
             "ticks": ""
            },
            "type": "contourcarpet"
           }
          ],
          "heatmap": [
           {
            "colorbar": {
             "outlinewidth": 0,
             "ticks": ""
            },
            "colorscale": [
             [
              0,
              "#0d0887"
             ],
             [
              0.1111111111111111,
              "#46039f"
             ],
             [
              0.2222222222222222,
              "#7201a8"
             ],
             [
              0.3333333333333333,
              "#9c179e"
             ],
             [
              0.4444444444444444,
              "#bd3786"
             ],
             [
              0.5555555555555556,
              "#d8576b"
             ],
             [
              0.6666666666666666,
              "#ed7953"
             ],
             [
              0.7777777777777778,
              "#fb9f3a"
             ],
             [
              0.8888888888888888,
              "#fdca26"
             ],
             [
              1,
              "#f0f921"
             ]
            ],
            "type": "heatmap"
           }
          ],
          "heatmapgl": [
           {
            "colorbar": {
             "outlinewidth": 0,
             "ticks": ""
            },
            "colorscale": [
             [
              0,
              "#0d0887"
             ],
             [
              0.1111111111111111,
              "#46039f"
             ],
             [
              0.2222222222222222,
              "#7201a8"
             ],
             [
              0.3333333333333333,
              "#9c179e"
             ],
             [
              0.4444444444444444,
              "#bd3786"
             ],
             [
              0.5555555555555556,
              "#d8576b"
             ],
             [
              0.6666666666666666,
              "#ed7953"
             ],
             [
              0.7777777777777778,
              "#fb9f3a"
             ],
             [
              0.8888888888888888,
              "#fdca26"
             ],
             [
              1,
              "#f0f921"
             ]
            ],
            "type": "heatmapgl"
           }
          ],
          "histogram": [
           {
            "marker": {
             "pattern": {
              "fillmode": "overlay",
              "size": 10,
              "solidity": 0.2
             }
            },
            "type": "histogram"
           }
          ],
          "histogram2d": [
           {
            "colorbar": {
             "outlinewidth": 0,
             "ticks": ""
            },
            "colorscale": [
             [
              0,
              "#0d0887"
             ],
             [
              0.1111111111111111,
              "#46039f"
             ],
             [
              0.2222222222222222,
              "#7201a8"
             ],
             [
              0.3333333333333333,
              "#9c179e"
             ],
             [
              0.4444444444444444,
              "#bd3786"
             ],
             [
              0.5555555555555556,
              "#d8576b"
             ],
             [
              0.6666666666666666,
              "#ed7953"
             ],
             [
              0.7777777777777778,
              "#fb9f3a"
             ],
             [
              0.8888888888888888,
              "#fdca26"
             ],
             [
              1,
              "#f0f921"
             ]
            ],
            "type": "histogram2d"
           }
          ],
          "histogram2dcontour": [
           {
            "colorbar": {
             "outlinewidth": 0,
             "ticks": ""
            },
            "colorscale": [
             [
              0,
              "#0d0887"
             ],
             [
              0.1111111111111111,
              "#46039f"
             ],
             [
              0.2222222222222222,
              "#7201a8"
             ],
             [
              0.3333333333333333,
              "#9c179e"
             ],
             [
              0.4444444444444444,
              "#bd3786"
             ],
             [
              0.5555555555555556,
              "#d8576b"
             ],
             [
              0.6666666666666666,
              "#ed7953"
             ],
             [
              0.7777777777777778,
              "#fb9f3a"
             ],
             [
              0.8888888888888888,
              "#fdca26"
             ],
             [
              1,
              "#f0f921"
             ]
            ],
            "type": "histogram2dcontour"
           }
          ],
          "mesh3d": [
           {
            "colorbar": {
             "outlinewidth": 0,
             "ticks": ""
            },
            "type": "mesh3d"
           }
          ],
          "parcoords": [
           {
            "line": {
             "colorbar": {
              "outlinewidth": 0,
              "ticks": ""
             }
            },
            "type": "parcoords"
           }
          ],
          "pie": [
           {
            "automargin": true,
            "type": "pie"
           }
          ],
          "scatter": [
           {
            "fillpattern": {
             "fillmode": "overlay",
             "size": 10,
             "solidity": 0.2
            },
            "type": "scatter"
           }
          ],
          "scatter3d": [
           {
            "line": {
             "colorbar": {
              "outlinewidth": 0,
              "ticks": ""
             }
            },
            "marker": {
             "colorbar": {
              "outlinewidth": 0,
              "ticks": ""
             }
            },
            "type": "scatter3d"
           }
          ],
          "scattercarpet": [
           {
            "marker": {
             "colorbar": {
              "outlinewidth": 0,
              "ticks": ""
             }
            },
            "type": "scattercarpet"
           }
          ],
          "scattergeo": [
           {
            "marker": {
             "colorbar": {
              "outlinewidth": 0,
              "ticks": ""
             }
            },
            "type": "scattergeo"
           }
          ],
          "scattergl": [
           {
            "marker": {
             "colorbar": {
              "outlinewidth": 0,
              "ticks": ""
             }
            },
            "type": "scattergl"
           }
          ],
          "scattermapbox": [
           {
            "marker": {
             "colorbar": {
              "outlinewidth": 0,
              "ticks": ""
             }
            },
            "type": "scattermapbox"
           }
          ],
          "scatterpolar": [
           {
            "marker": {
             "colorbar": {
              "outlinewidth": 0,
              "ticks": ""
             }
            },
            "type": "scatterpolar"
           }
          ],
          "scatterpolargl": [
           {
            "marker": {
             "colorbar": {
              "outlinewidth": 0,
              "ticks": ""
             }
            },
            "type": "scatterpolargl"
           }
          ],
          "scatterternary": [
           {
            "marker": {
             "colorbar": {
              "outlinewidth": 0,
              "ticks": ""
             }
            },
            "type": "scatterternary"
           }
          ],
          "surface": [
           {
            "colorbar": {
             "outlinewidth": 0,
             "ticks": ""
            },
            "colorscale": [
             [
              0,
              "#0d0887"
             ],
             [
              0.1111111111111111,
              "#46039f"
             ],
             [
              0.2222222222222222,
              "#7201a8"
             ],
             [
              0.3333333333333333,
              "#9c179e"
             ],
             [
              0.4444444444444444,
              "#bd3786"
             ],
             [
              0.5555555555555556,
              "#d8576b"
             ],
             [
              0.6666666666666666,
              "#ed7953"
             ],
             [
              0.7777777777777778,
              "#fb9f3a"
             ],
             [
              0.8888888888888888,
              "#fdca26"
             ],
             [
              1,
              "#f0f921"
             ]
            ],
            "type": "surface"
           }
          ],
          "table": [
           {
            "cells": {
             "fill": {
              "color": "#EBF0F8"
             },
             "line": {
              "color": "white"
             }
            },
            "header": {
             "fill": {
              "color": "#C8D4E3"
             },
             "line": {
              "color": "white"
             }
            },
            "type": "table"
           }
          ]
         },
         "layout": {
          "annotationdefaults": {
           "arrowcolor": "#2a3f5f",
           "arrowhead": 0,
           "arrowwidth": 1
          },
          "autotypenumbers": "strict",
          "coloraxis": {
           "colorbar": {
            "outlinewidth": 0,
            "ticks": ""
           }
          },
          "colorscale": {
           "diverging": [
            [
             0,
             "#8e0152"
            ],
            [
             0.1,
             "#c51b7d"
            ],
            [
             0.2,
             "#de77ae"
            ],
            [
             0.3,
             "#f1b6da"
            ],
            [
             0.4,
             "#fde0ef"
            ],
            [
             0.5,
             "#f7f7f7"
            ],
            [
             0.6,
             "#e6f5d0"
            ],
            [
             0.7,
             "#b8e186"
            ],
            [
             0.8,
             "#7fbc41"
            ],
            [
             0.9,
             "#4d9221"
            ],
            [
             1,
             "#276419"
            ]
           ],
           "sequential": [
            [
             0,
             "#0d0887"
            ],
            [
             0.1111111111111111,
             "#46039f"
            ],
            [
             0.2222222222222222,
             "#7201a8"
            ],
            [
             0.3333333333333333,
             "#9c179e"
            ],
            [
             0.4444444444444444,
             "#bd3786"
            ],
            [
             0.5555555555555556,
             "#d8576b"
            ],
            [
             0.6666666666666666,
             "#ed7953"
            ],
            [
             0.7777777777777778,
             "#fb9f3a"
            ],
            [
             0.8888888888888888,
             "#fdca26"
            ],
            [
             1,
             "#f0f921"
            ]
           ],
           "sequentialminus": [
            [
             0,
             "#0d0887"
            ],
            [
             0.1111111111111111,
             "#46039f"
            ],
            [
             0.2222222222222222,
             "#7201a8"
            ],
            [
             0.3333333333333333,
             "#9c179e"
            ],
            [
             0.4444444444444444,
             "#bd3786"
            ],
            [
             0.5555555555555556,
             "#d8576b"
            ],
            [
             0.6666666666666666,
             "#ed7953"
            ],
            [
             0.7777777777777778,
             "#fb9f3a"
            ],
            [
             0.8888888888888888,
             "#fdca26"
            ],
            [
             1,
             "#f0f921"
            ]
           ]
          },
          "colorway": [
           "#636efa",
           "#EF553B",
           "#00cc96",
           "#ab63fa",
           "#FFA15A",
           "#19d3f3",
           "#FF6692",
           "#B6E880",
           "#FF97FF",
           "#FECB52"
          ],
          "font": {
           "color": "#2a3f5f"
          },
          "geo": {
           "bgcolor": "white",
           "lakecolor": "white",
           "landcolor": "#E5ECF6",
           "showlakes": true,
           "showland": true,
           "subunitcolor": "white"
          },
          "hoverlabel": {
           "align": "left"
          },
          "hovermode": "closest",
          "mapbox": {
           "style": "light"
          },
          "paper_bgcolor": "white",
          "plot_bgcolor": "#E5ECF6",
          "polar": {
           "angularaxis": {
            "gridcolor": "white",
            "linecolor": "white",
            "ticks": ""
           },
           "bgcolor": "#E5ECF6",
           "radialaxis": {
            "gridcolor": "white",
            "linecolor": "white",
            "ticks": ""
           }
          },
          "scene": {
           "xaxis": {
            "backgroundcolor": "#E5ECF6",
            "gridcolor": "white",
            "gridwidth": 2,
            "linecolor": "white",
            "showbackground": true,
            "ticks": "",
            "zerolinecolor": "white"
           },
           "yaxis": {
            "backgroundcolor": "#E5ECF6",
            "gridcolor": "white",
            "gridwidth": 2,
            "linecolor": "white",
            "showbackground": true,
            "ticks": "",
            "zerolinecolor": "white"
           },
           "zaxis": {
            "backgroundcolor": "#E5ECF6",
            "gridcolor": "white",
            "gridwidth": 2,
            "linecolor": "white",
            "showbackground": true,
            "ticks": "",
            "zerolinecolor": "white"
           }
          },
          "shapedefaults": {
           "line": {
            "color": "#2a3f5f"
           }
          },
          "ternary": {
           "aaxis": {
            "gridcolor": "white",
            "linecolor": "white",
            "ticks": ""
           },
           "baxis": {
            "gridcolor": "white",
            "linecolor": "white",
            "ticks": ""
           },
           "bgcolor": "#E5ECF6",
           "caxis": {
            "gridcolor": "white",
            "linecolor": "white",
            "ticks": ""
           }
          },
          "title": {
           "x": 0.05
          },
          "xaxis": {
           "automargin": true,
           "gridcolor": "white",
           "linecolor": "white",
           "ticks": "",
           "title": {
            "standoff": 15
           },
           "zerolinecolor": "white",
           "zerolinewidth": 2
          },
          "yaxis": {
           "automargin": true,
           "gridcolor": "white",
           "linecolor": "white",
           "ticks": "",
           "title": {
            "standoff": 15
           },
           "zerolinecolor": "white",
           "zerolinewidth": 2
          }
         }
        },
        "title": {
         "text": "Market Capitalizations Companies"
        },
        "xaxis": {
         "anchor": "y",
         "domain": [
          0,
          1
         ],
         "title": {
          "text": "Ticker"
         }
        },
        "yaxis": {
         "anchor": "x",
         "domain": [
          0,
          1
         ],
         "title": {
          "text": "Market Cap (Billions USD)"
         }
        }
       }
      }
     },
     "metadata": {},
     "output_type": "display_data"
    },
    {
     "data": {
      "application/vnd.plotly.v1+json": {
       "config": {
        "plotlyServerURL": "https://plot.ly"
       },
       "data": [
        {
         "alignmentgroup": "True",
         "hovertemplate": "Symbol=%{x}<br>Market Cap (Billions USD)=%{y}<extra></extra>",
         "legendgroup": "",
         "marker": {
          "color": "#636efa",
          "pattern": {
           "shape": ""
          }
         },
         "name": "",
         "offsetgroup": "",
         "orientation": "v",
         "showlegend": false,
         "textposition": "auto",
         "type": "bar",
         "x": [
          "FRT",
          "CPT",
          "REG",
          "BXP",
          "HST",
          "KIM",
          "DOC",
          "UDR",
          "MAA",
          "ESS",
          "ARE",
          "INVH",
          "VTR",
          "WY",
          "SBAC",
          "EQR",
          "IRM",
          "AVB",
          "CSGP",
          "VICI",
          "CBRE",
          "EXR",
          "CCI",
          "DLR",
          "O",
          "PSA",
          "SPG",
          "WELL",
          "EQIX",
          "AMT",
          "PLD"
         ],
         "xaxis": "x",
         "y": [
          8950164480,
          11815796736,
          11925997568,
          11966896128,
          12286519296,
          13981164544,
          14610514944,
          15327113216,
          16803857408,
          18781169664,
          20287043584,
          20344246272,
          21533978624,
          22100152320,
          22677995520,
          26349922304,
          28416313344,
          28812570624,
          31798026240,
          31801344000,
          32940623872,
          35416416256,
          45850865664,
          48733134848,
          49956302848,
          51846782976,
          55948353536,
          64873889792,
          73011904512,
          98015723520,
          111501238272
         ],
         "yaxis": "y"
        }
       ],
       "layout": {
        "annotations": [
         {
          "showarrow": false,
          "text": "Small to Mid",
          "x": 18.5,
          "xanchor": "right",
          "xref": "x",
          "y": 1,
          "yanchor": "top",
          "yref": "y domain"
         },
         {
          "showarrow": false,
          "text": "Mid to Large",
          "x": 30.5,
          "xanchor": "right",
          "xref": "x",
          "y": 1,
          "yanchor": "top",
          "yref": "y domain"
         }
        ],
        "barmode": "relative",
        "legend": {
         "tracegroupgap": 0
        },
        "shapes": [
         {
          "line": {
           "color": "Red",
           "dash": "dashdot",
           "width": 2
          },
          "type": "line",
          "x0": 18.5,
          "x1": 18.5,
          "xref": "x",
          "y0": 0,
          "y1": 1,
          "yref": "y domain"
         },
         {
          "line": {
           "color": "Blue",
           "dash": "dashdot",
           "width": 2
          },
          "type": "line",
          "x0": 30.5,
          "x1": 30.5,
          "xref": "x",
          "y0": 0,
          "y1": 1,
          "yref": "y domain"
         }
        ],
        "template": {
         "data": {
          "bar": [
           {
            "error_x": {
             "color": "#2a3f5f"
            },
            "error_y": {
             "color": "#2a3f5f"
            },
            "marker": {
             "line": {
              "color": "#E5ECF6",
              "width": 0.5
             },
             "pattern": {
              "fillmode": "overlay",
              "size": 10,
              "solidity": 0.2
             }
            },
            "type": "bar"
           }
          ],
          "barpolar": [
           {
            "marker": {
             "line": {
              "color": "#E5ECF6",
              "width": 0.5
             },
             "pattern": {
              "fillmode": "overlay",
              "size": 10,
              "solidity": 0.2
             }
            },
            "type": "barpolar"
           }
          ],
          "carpet": [
           {
            "aaxis": {
             "endlinecolor": "#2a3f5f",
             "gridcolor": "white",
             "linecolor": "white",
             "minorgridcolor": "white",
             "startlinecolor": "#2a3f5f"
            },
            "baxis": {
             "endlinecolor": "#2a3f5f",
             "gridcolor": "white",
             "linecolor": "white",
             "minorgridcolor": "white",
             "startlinecolor": "#2a3f5f"
            },
            "type": "carpet"
           }
          ],
          "choropleth": [
           {
            "colorbar": {
             "outlinewidth": 0,
             "ticks": ""
            },
            "type": "choropleth"
           }
          ],
          "contour": [
           {
            "colorbar": {
             "outlinewidth": 0,
             "ticks": ""
            },
            "colorscale": [
             [
              0,
              "#0d0887"
             ],
             [
              0.1111111111111111,
              "#46039f"
             ],
             [
              0.2222222222222222,
              "#7201a8"
             ],
             [
              0.3333333333333333,
              "#9c179e"
             ],
             [
              0.4444444444444444,
              "#bd3786"
             ],
             [
              0.5555555555555556,
              "#d8576b"
             ],
             [
              0.6666666666666666,
              "#ed7953"
             ],
             [
              0.7777777777777778,
              "#fb9f3a"
             ],
             [
              0.8888888888888888,
              "#fdca26"
             ],
             [
              1,
              "#f0f921"
             ]
            ],
            "type": "contour"
           }
          ],
          "contourcarpet": [
           {
            "colorbar": {
             "outlinewidth": 0,
             "ticks": ""
            },
            "type": "contourcarpet"
           }
          ],
          "heatmap": [
           {
            "colorbar": {
             "outlinewidth": 0,
             "ticks": ""
            },
            "colorscale": [
             [
              0,
              "#0d0887"
             ],
             [
              0.1111111111111111,
              "#46039f"
             ],
             [
              0.2222222222222222,
              "#7201a8"
             ],
             [
              0.3333333333333333,
              "#9c179e"
             ],
             [
              0.4444444444444444,
              "#bd3786"
             ],
             [
              0.5555555555555556,
              "#d8576b"
             ],
             [
              0.6666666666666666,
              "#ed7953"
             ],
             [
              0.7777777777777778,
              "#fb9f3a"
             ],
             [
              0.8888888888888888,
              "#fdca26"
             ],
             [
              1,
              "#f0f921"
             ]
            ],
            "type": "heatmap"
           }
          ],
          "heatmapgl": [
           {
            "colorbar": {
             "outlinewidth": 0,
             "ticks": ""
            },
            "colorscale": [
             [
              0,
              "#0d0887"
             ],
             [
              0.1111111111111111,
              "#46039f"
             ],
             [
              0.2222222222222222,
              "#7201a8"
             ],
             [
              0.3333333333333333,
              "#9c179e"
             ],
             [
              0.4444444444444444,
              "#bd3786"
             ],
             [
              0.5555555555555556,
              "#d8576b"
             ],
             [
              0.6666666666666666,
              "#ed7953"
             ],
             [
              0.7777777777777778,
              "#fb9f3a"
             ],
             [
              0.8888888888888888,
              "#fdca26"
             ],
             [
              1,
              "#f0f921"
             ]
            ],
            "type": "heatmapgl"
           }
          ],
          "histogram": [
           {
            "marker": {
             "pattern": {
              "fillmode": "overlay",
              "size": 10,
              "solidity": 0.2
             }
            },
            "type": "histogram"
           }
          ],
          "histogram2d": [
           {
            "colorbar": {
             "outlinewidth": 0,
             "ticks": ""
            },
            "colorscale": [
             [
              0,
              "#0d0887"
             ],
             [
              0.1111111111111111,
              "#46039f"
             ],
             [
              0.2222222222222222,
              "#7201a8"
             ],
             [
              0.3333333333333333,
              "#9c179e"
             ],
             [
              0.4444444444444444,
              "#bd3786"
             ],
             [
              0.5555555555555556,
              "#d8576b"
             ],
             [
              0.6666666666666666,
              "#ed7953"
             ],
             [
              0.7777777777777778,
              "#fb9f3a"
             ],
             [
              0.8888888888888888,
              "#fdca26"
             ],
             [
              1,
              "#f0f921"
             ]
            ],
            "type": "histogram2d"
           }
          ],
          "histogram2dcontour": [
           {
            "colorbar": {
             "outlinewidth": 0,
             "ticks": ""
            },
            "colorscale": [
             [
              0,
              "#0d0887"
             ],
             [
              0.1111111111111111,
              "#46039f"
             ],
             [
              0.2222222222222222,
              "#7201a8"
             ],
             [
              0.3333333333333333,
              "#9c179e"
             ],
             [
              0.4444444444444444,
              "#bd3786"
             ],
             [
              0.5555555555555556,
              "#d8576b"
             ],
             [
              0.6666666666666666,
              "#ed7953"
             ],
             [
              0.7777777777777778,
              "#fb9f3a"
             ],
             [
              0.8888888888888888,
              "#fdca26"
             ],
             [
              1,
              "#f0f921"
             ]
            ],
            "type": "histogram2dcontour"
           }
          ],
          "mesh3d": [
           {
            "colorbar": {
             "outlinewidth": 0,
             "ticks": ""
            },
            "type": "mesh3d"
           }
          ],
          "parcoords": [
           {
            "line": {
             "colorbar": {
              "outlinewidth": 0,
              "ticks": ""
             }
            },
            "type": "parcoords"
           }
          ],
          "pie": [
           {
            "automargin": true,
            "type": "pie"
           }
          ],
          "scatter": [
           {
            "fillpattern": {
             "fillmode": "overlay",
             "size": 10,
             "solidity": 0.2
            },
            "type": "scatter"
           }
          ],
          "scatter3d": [
           {
            "line": {
             "colorbar": {
              "outlinewidth": 0,
              "ticks": ""
             }
            },
            "marker": {
             "colorbar": {
              "outlinewidth": 0,
              "ticks": ""
             }
            },
            "type": "scatter3d"
           }
          ],
          "scattercarpet": [
           {
            "marker": {
             "colorbar": {
              "outlinewidth": 0,
              "ticks": ""
             }
            },
            "type": "scattercarpet"
           }
          ],
          "scattergeo": [
           {
            "marker": {
             "colorbar": {
              "outlinewidth": 0,
              "ticks": ""
             }
            },
            "type": "scattergeo"
           }
          ],
          "scattergl": [
           {
            "marker": {
             "colorbar": {
              "outlinewidth": 0,
              "ticks": ""
             }
            },
            "type": "scattergl"
           }
          ],
          "scattermapbox": [
           {
            "marker": {
             "colorbar": {
              "outlinewidth": 0,
              "ticks": ""
             }
            },
            "type": "scattermapbox"
           }
          ],
          "scatterpolar": [
           {
            "marker": {
             "colorbar": {
              "outlinewidth": 0,
              "ticks": ""
             }
            },
            "type": "scatterpolar"
           }
          ],
          "scatterpolargl": [
           {
            "marker": {
             "colorbar": {
              "outlinewidth": 0,
              "ticks": ""
             }
            },
            "type": "scatterpolargl"
           }
          ],
          "scatterternary": [
           {
            "marker": {
             "colorbar": {
              "outlinewidth": 0,
              "ticks": ""
             }
            },
            "type": "scatterternary"
           }
          ],
          "surface": [
           {
            "colorbar": {
             "outlinewidth": 0,
             "ticks": ""
            },
            "colorscale": [
             [
              0,
              "#0d0887"
             ],
             [
              0.1111111111111111,
              "#46039f"
             ],
             [
              0.2222222222222222,
              "#7201a8"
             ],
             [
              0.3333333333333333,
              "#9c179e"
             ],
             [
              0.4444444444444444,
              "#bd3786"
             ],
             [
              0.5555555555555556,
              "#d8576b"
             ],
             [
              0.6666666666666666,
              "#ed7953"
             ],
             [
              0.7777777777777778,
              "#fb9f3a"
             ],
             [
              0.8888888888888888,
              "#fdca26"
             ],
             [
              1,
              "#f0f921"
             ]
            ],
            "type": "surface"
           }
          ],
          "table": [
           {
            "cells": {
             "fill": {
              "color": "#EBF0F8"
             },
             "line": {
              "color": "white"
             }
            },
            "header": {
             "fill": {
              "color": "#C8D4E3"
             },
             "line": {
              "color": "white"
             }
            },
            "type": "table"
           }
          ]
         },
         "layout": {
          "annotationdefaults": {
           "arrowcolor": "#2a3f5f",
           "arrowhead": 0,
           "arrowwidth": 1
          },
          "autotypenumbers": "strict",
          "coloraxis": {
           "colorbar": {
            "outlinewidth": 0,
            "ticks": ""
           }
          },
          "colorscale": {
           "diverging": [
            [
             0,
             "#8e0152"
            ],
            [
             0.1,
             "#c51b7d"
            ],
            [
             0.2,
             "#de77ae"
            ],
            [
             0.3,
             "#f1b6da"
            ],
            [
             0.4,
             "#fde0ef"
            ],
            [
             0.5,
             "#f7f7f7"
            ],
            [
             0.6,
             "#e6f5d0"
            ],
            [
             0.7,
             "#b8e186"
            ],
            [
             0.8,
             "#7fbc41"
            ],
            [
             0.9,
             "#4d9221"
            ],
            [
             1,
             "#276419"
            ]
           ],
           "sequential": [
            [
             0,
             "#0d0887"
            ],
            [
             0.1111111111111111,
             "#46039f"
            ],
            [
             0.2222222222222222,
             "#7201a8"
            ],
            [
             0.3333333333333333,
             "#9c179e"
            ],
            [
             0.4444444444444444,
             "#bd3786"
            ],
            [
             0.5555555555555556,
             "#d8576b"
            ],
            [
             0.6666666666666666,
             "#ed7953"
            ],
            [
             0.7777777777777778,
             "#fb9f3a"
            ],
            [
             0.8888888888888888,
             "#fdca26"
            ],
            [
             1,
             "#f0f921"
            ]
           ],
           "sequentialminus": [
            [
             0,
             "#0d0887"
            ],
            [
             0.1111111111111111,
             "#46039f"
            ],
            [
             0.2222222222222222,
             "#7201a8"
            ],
            [
             0.3333333333333333,
             "#9c179e"
            ],
            [
             0.4444444444444444,
             "#bd3786"
            ],
            [
             0.5555555555555556,
             "#d8576b"
            ],
            [
             0.6666666666666666,
             "#ed7953"
            ],
            [
             0.7777777777777778,
             "#fb9f3a"
            ],
            [
             0.8888888888888888,
             "#fdca26"
            ],
            [
             1,
             "#f0f921"
            ]
           ]
          },
          "colorway": [
           "#636efa",
           "#EF553B",
           "#00cc96",
           "#ab63fa",
           "#FFA15A",
           "#19d3f3",
           "#FF6692",
           "#B6E880",
           "#FF97FF",
           "#FECB52"
          ],
          "font": {
           "color": "#2a3f5f"
          },
          "geo": {
           "bgcolor": "white",
           "lakecolor": "white",
           "landcolor": "#E5ECF6",
           "showlakes": true,
           "showland": true,
           "subunitcolor": "white"
          },
          "hoverlabel": {
           "align": "left"
          },
          "hovermode": "closest",
          "mapbox": {
           "style": "light"
          },
          "paper_bgcolor": "white",
          "plot_bgcolor": "#E5ECF6",
          "polar": {
           "angularaxis": {
            "gridcolor": "white",
            "linecolor": "white",
            "ticks": ""
           },
           "bgcolor": "#E5ECF6",
           "radialaxis": {
            "gridcolor": "white",
            "linecolor": "white",
            "ticks": ""
           }
          },
          "scene": {
           "xaxis": {
            "backgroundcolor": "#E5ECF6",
            "gridcolor": "white",
            "gridwidth": 2,
            "linecolor": "white",
            "showbackground": true,
            "ticks": "",
            "zerolinecolor": "white"
           },
           "yaxis": {
            "backgroundcolor": "#E5ECF6",
            "gridcolor": "white",
            "gridwidth": 2,
            "linecolor": "white",
            "showbackground": true,
            "ticks": "",
            "zerolinecolor": "white"
           },
           "zaxis": {
            "backgroundcolor": "#E5ECF6",
            "gridcolor": "white",
            "gridwidth": 2,
            "linecolor": "white",
            "showbackground": true,
            "ticks": "",
            "zerolinecolor": "white"
           }
          },
          "shapedefaults": {
           "line": {
            "color": "#2a3f5f"
           }
          },
          "ternary": {
           "aaxis": {
            "gridcolor": "white",
            "linecolor": "white",
            "ticks": ""
           },
           "baxis": {
            "gridcolor": "white",
            "linecolor": "white",
            "ticks": ""
           },
           "bgcolor": "#E5ECF6",
           "caxis": {
            "gridcolor": "white",
            "linecolor": "white",
            "ticks": ""
           }
          },
          "title": {
           "x": 0.05
          },
          "xaxis": {
           "automargin": true,
           "gridcolor": "white",
           "linecolor": "white",
           "ticks": "",
           "title": {
            "standoff": 15
           },
           "zerolinecolor": "white",
           "zerolinewidth": 2
          },
          "yaxis": {
           "automargin": true,
           "gridcolor": "white",
           "linecolor": "white",
           "ticks": "",
           "title": {
            "standoff": 15
           },
           "zerolinecolor": "white",
           "zerolinewidth": 2
          }
         }
        },
        "title": {
         "text": "Market Capitalizations Companies"
        },
        "xaxis": {
         "anchor": "y",
         "domain": [
          0,
          1
         ],
         "title": {
          "text": "Ticker"
         }
        },
        "yaxis": {
         "anchor": "x",
         "domain": [
          0,
          1
         ],
         "title": {
          "text": "Market Cap (Billions USD)"
         }
        }
       }
      }
     },
     "metadata": {},
     "output_type": "display_data"
    },
    {
     "data": {
      "application/vnd.plotly.v1+json": {
       "config": {
        "plotlyServerURL": "https://plot.ly"
       },
       "data": [
        {
         "alignmentgroup": "True",
         "hovertemplate": "Symbol=%{x}<br>Market Cap (Billions USD)=%{y}<extra></extra>",
         "legendgroup": "",
         "marker": {
          "color": "#636efa",
          "pattern": {
           "shape": ""
          }
         },
         "name": "",
         "offsetgroup": "",
         "orientation": "v",
         "showlegend": false,
         "textposition": "auto",
         "type": "bar",
         "x": [
          "APA",
          "EQT",
          "MRO",
          "CTRA",
          "DVN",
          "TRGP",
          "HAL",
          "FANG",
          "BKR",
          "HES",
          "KMI",
          "OKE",
          "WMB",
          "VLO",
          "OXY",
          "MPC",
          "PSX",
          "SLB",
          "EOG",
          "COP",
          "CVX",
          "XOM"
         ],
         "xaxis": "x",
         "y": [
          11610886144,
          15182208000,
          15616705536,
          19141672960,
          29044029440,
          29257775104,
          30250733568,
          35633131520,
          35740467200,
          46179827712,
          46764023808,
          47514701824,
          50962026496,
          51717689344,
          53670617088,
          60426706944,
          60438597632,
          68479496192,
          73040019456,
          129296629760,
          288383467520,
          526962196480
         ],
         "yaxis": "y"
        }
       ],
       "layout": {
        "annotations": [
         {
          "showarrow": false,
          "text": "Small to Mid",
          "x": 12.5,
          "xanchor": "right",
          "xref": "x",
          "y": 1,
          "yanchor": "top",
          "yref": "y domain"
         },
         {
          "showarrow": false,
          "text": "Mid to Large",
          "x": 21.5,
          "xanchor": "right",
          "xref": "x",
          "y": 1,
          "yanchor": "top",
          "yref": "y domain"
         }
        ],
        "barmode": "relative",
        "legend": {
         "tracegroupgap": 0
        },
        "shapes": [
         {
          "line": {
           "color": "Red",
           "dash": "dashdot",
           "width": 2
          },
          "type": "line",
          "x0": 12.5,
          "x1": 12.5,
          "xref": "x",
          "y0": 0,
          "y1": 1,
          "yref": "y domain"
         },
         {
          "line": {
           "color": "Blue",
           "dash": "dashdot",
           "width": 2
          },
          "type": "line",
          "x0": 21.5,
          "x1": 21.5,
          "xref": "x",
          "y0": 0,
          "y1": 1,
          "yref": "y domain"
         }
        ],
        "template": {
         "data": {
          "bar": [
           {
            "error_x": {
             "color": "#2a3f5f"
            },
            "error_y": {
             "color": "#2a3f5f"
            },
            "marker": {
             "line": {
              "color": "#E5ECF6",
              "width": 0.5
             },
             "pattern": {
              "fillmode": "overlay",
              "size": 10,
              "solidity": 0.2
             }
            },
            "type": "bar"
           }
          ],
          "barpolar": [
           {
            "marker": {
             "line": {
              "color": "#E5ECF6",
              "width": 0.5
             },
             "pattern": {
              "fillmode": "overlay",
              "size": 10,
              "solidity": 0.2
             }
            },
            "type": "barpolar"
           }
          ],
          "carpet": [
           {
            "aaxis": {
             "endlinecolor": "#2a3f5f",
             "gridcolor": "white",
             "linecolor": "white",
             "minorgridcolor": "white",
             "startlinecolor": "#2a3f5f"
            },
            "baxis": {
             "endlinecolor": "#2a3f5f",
             "gridcolor": "white",
             "linecolor": "white",
             "minorgridcolor": "white",
             "startlinecolor": "#2a3f5f"
            },
            "type": "carpet"
           }
          ],
          "choropleth": [
           {
            "colorbar": {
             "outlinewidth": 0,
             "ticks": ""
            },
            "type": "choropleth"
           }
          ],
          "contour": [
           {
            "colorbar": {
             "outlinewidth": 0,
             "ticks": ""
            },
            "colorscale": [
             [
              0,
              "#0d0887"
             ],
             [
              0.1111111111111111,
              "#46039f"
             ],
             [
              0.2222222222222222,
              "#7201a8"
             ],
             [
              0.3333333333333333,
              "#9c179e"
             ],
             [
              0.4444444444444444,
              "#bd3786"
             ],
             [
              0.5555555555555556,
              "#d8576b"
             ],
             [
              0.6666666666666666,
              "#ed7953"
             ],
             [
              0.7777777777777778,
              "#fb9f3a"
             ],
             [
              0.8888888888888888,
              "#fdca26"
             ],
             [
              1,
              "#f0f921"
             ]
            ],
            "type": "contour"
           }
          ],
          "contourcarpet": [
           {
            "colorbar": {
             "outlinewidth": 0,
             "ticks": ""
            },
            "type": "contourcarpet"
           }
          ],
          "heatmap": [
           {
            "colorbar": {
             "outlinewidth": 0,
             "ticks": ""
            },
            "colorscale": [
             [
              0,
              "#0d0887"
             ],
             [
              0.1111111111111111,
              "#46039f"
             ],
             [
              0.2222222222222222,
              "#7201a8"
             ],
             [
              0.3333333333333333,
              "#9c179e"
             ],
             [
              0.4444444444444444,
              "#bd3786"
             ],
             [
              0.5555555555555556,
              "#d8576b"
             ],
             [
              0.6666666666666666,
              "#ed7953"
             ],
             [
              0.7777777777777778,
              "#fb9f3a"
             ],
             [
              0.8888888888888888,
              "#fdca26"
             ],
             [
              1,
              "#f0f921"
             ]
            ],
            "type": "heatmap"
           }
          ],
          "heatmapgl": [
           {
            "colorbar": {
             "outlinewidth": 0,
             "ticks": ""
            },
            "colorscale": [
             [
              0,
              "#0d0887"
             ],
             [
              0.1111111111111111,
              "#46039f"
             ],
             [
              0.2222222222222222,
              "#7201a8"
             ],
             [
              0.3333333333333333,
              "#9c179e"
             ],
             [
              0.4444444444444444,
              "#bd3786"
             ],
             [
              0.5555555555555556,
              "#d8576b"
             ],
             [
              0.6666666666666666,
              "#ed7953"
             ],
             [
              0.7777777777777778,
              "#fb9f3a"
             ],
             [
              0.8888888888888888,
              "#fdca26"
             ],
             [
              1,
              "#f0f921"
             ]
            ],
            "type": "heatmapgl"
           }
          ],
          "histogram": [
           {
            "marker": {
             "pattern": {
              "fillmode": "overlay",
              "size": 10,
              "solidity": 0.2
             }
            },
            "type": "histogram"
           }
          ],
          "histogram2d": [
           {
            "colorbar": {
             "outlinewidth": 0,
             "ticks": ""
            },
            "colorscale": [
             [
              0,
              "#0d0887"
             ],
             [
              0.1111111111111111,
              "#46039f"
             ],
             [
              0.2222222222222222,
              "#7201a8"
             ],
             [
              0.3333333333333333,
              "#9c179e"
             ],
             [
              0.4444444444444444,
              "#bd3786"
             ],
             [
              0.5555555555555556,
              "#d8576b"
             ],
             [
              0.6666666666666666,
              "#ed7953"
             ],
             [
              0.7777777777777778,
              "#fb9f3a"
             ],
             [
              0.8888888888888888,
              "#fdca26"
             ],
             [
              1,
              "#f0f921"
             ]
            ],
            "type": "histogram2d"
           }
          ],
          "histogram2dcontour": [
           {
            "colorbar": {
             "outlinewidth": 0,
             "ticks": ""
            },
            "colorscale": [
             [
              0,
              "#0d0887"
             ],
             [
              0.1111111111111111,
              "#46039f"
             ],
             [
              0.2222222222222222,
              "#7201a8"
             ],
             [
              0.3333333333333333,
              "#9c179e"
             ],
             [
              0.4444444444444444,
              "#bd3786"
             ],
             [
              0.5555555555555556,
              "#d8576b"
             ],
             [
              0.6666666666666666,
              "#ed7953"
             ],
             [
              0.7777777777777778,
              "#fb9f3a"
             ],
             [
              0.8888888888888888,
              "#fdca26"
             ],
             [
              1,
              "#f0f921"
             ]
            ],
            "type": "histogram2dcontour"
           }
          ],
          "mesh3d": [
           {
            "colorbar": {
             "outlinewidth": 0,
             "ticks": ""
            },
            "type": "mesh3d"
           }
          ],
          "parcoords": [
           {
            "line": {
             "colorbar": {
              "outlinewidth": 0,
              "ticks": ""
             }
            },
            "type": "parcoords"
           }
          ],
          "pie": [
           {
            "automargin": true,
            "type": "pie"
           }
          ],
          "scatter": [
           {
            "fillpattern": {
             "fillmode": "overlay",
             "size": 10,
             "solidity": 0.2
            },
            "type": "scatter"
           }
          ],
          "scatter3d": [
           {
            "line": {
             "colorbar": {
              "outlinewidth": 0,
              "ticks": ""
             }
            },
            "marker": {
             "colorbar": {
              "outlinewidth": 0,
              "ticks": ""
             }
            },
            "type": "scatter3d"
           }
          ],
          "scattercarpet": [
           {
            "marker": {
             "colorbar": {
              "outlinewidth": 0,
              "ticks": ""
             }
            },
            "type": "scattercarpet"
           }
          ],
          "scattergeo": [
           {
            "marker": {
             "colorbar": {
              "outlinewidth": 0,
              "ticks": ""
             }
            },
            "type": "scattergeo"
           }
          ],
          "scattergl": [
           {
            "marker": {
             "colorbar": {
              "outlinewidth": 0,
              "ticks": ""
             }
            },
            "type": "scattergl"
           }
          ],
          "scattermapbox": [
           {
            "marker": {
             "colorbar": {
              "outlinewidth": 0,
              "ticks": ""
             }
            },
            "type": "scattermapbox"
           }
          ],
          "scatterpolar": [
           {
            "marker": {
             "colorbar": {
              "outlinewidth": 0,
              "ticks": ""
             }
            },
            "type": "scatterpolar"
           }
          ],
          "scatterpolargl": [
           {
            "marker": {
             "colorbar": {
              "outlinewidth": 0,
              "ticks": ""
             }
            },
            "type": "scatterpolargl"
           }
          ],
          "scatterternary": [
           {
            "marker": {
             "colorbar": {
              "outlinewidth": 0,
              "ticks": ""
             }
            },
            "type": "scatterternary"
           }
          ],
          "surface": [
           {
            "colorbar": {
             "outlinewidth": 0,
             "ticks": ""
            },
            "colorscale": [
             [
              0,
              "#0d0887"
             ],
             [
              0.1111111111111111,
              "#46039f"
             ],
             [
              0.2222222222222222,
              "#7201a8"
             ],
             [
              0.3333333333333333,
              "#9c179e"
             ],
             [
              0.4444444444444444,
              "#bd3786"
             ],
             [
              0.5555555555555556,
              "#d8576b"
             ],
             [
              0.6666666666666666,
              "#ed7953"
             ],
             [
              0.7777777777777778,
              "#fb9f3a"
             ],
             [
              0.8888888888888888,
              "#fdca26"
             ],
             [
              1,
              "#f0f921"
             ]
            ],
            "type": "surface"
           }
          ],
          "table": [
           {
            "cells": {
             "fill": {
              "color": "#EBF0F8"
             },
             "line": {
              "color": "white"
             }
            },
            "header": {
             "fill": {
              "color": "#C8D4E3"
             },
             "line": {
              "color": "white"
             }
            },
            "type": "table"
           }
          ]
         },
         "layout": {
          "annotationdefaults": {
           "arrowcolor": "#2a3f5f",
           "arrowhead": 0,
           "arrowwidth": 1
          },
          "autotypenumbers": "strict",
          "coloraxis": {
           "colorbar": {
            "outlinewidth": 0,
            "ticks": ""
           }
          },
          "colorscale": {
           "diverging": [
            [
             0,
             "#8e0152"
            ],
            [
             0.1,
             "#c51b7d"
            ],
            [
             0.2,
             "#de77ae"
            ],
            [
             0.3,
             "#f1b6da"
            ],
            [
             0.4,
             "#fde0ef"
            ],
            [
             0.5,
             "#f7f7f7"
            ],
            [
             0.6,
             "#e6f5d0"
            ],
            [
             0.7,
             "#b8e186"
            ],
            [
             0.8,
             "#7fbc41"
            ],
            [
             0.9,
             "#4d9221"
            ],
            [
             1,
             "#276419"
            ]
           ],
           "sequential": [
            [
             0,
             "#0d0887"
            ],
            [
             0.1111111111111111,
             "#46039f"
            ],
            [
             0.2222222222222222,
             "#7201a8"
            ],
            [
             0.3333333333333333,
             "#9c179e"
            ],
            [
             0.4444444444444444,
             "#bd3786"
            ],
            [
             0.5555555555555556,
             "#d8576b"
            ],
            [
             0.6666666666666666,
             "#ed7953"
            ],
            [
             0.7777777777777778,
             "#fb9f3a"
            ],
            [
             0.8888888888888888,
             "#fdca26"
            ],
            [
             1,
             "#f0f921"
            ]
           ],
           "sequentialminus": [
            [
             0,
             "#0d0887"
            ],
            [
             0.1111111111111111,
             "#46039f"
            ],
            [
             0.2222222222222222,
             "#7201a8"
            ],
            [
             0.3333333333333333,
             "#9c179e"
            ],
            [
             0.4444444444444444,
             "#bd3786"
            ],
            [
             0.5555555555555556,
             "#d8576b"
            ],
            [
             0.6666666666666666,
             "#ed7953"
            ],
            [
             0.7777777777777778,
             "#fb9f3a"
            ],
            [
             0.8888888888888888,
             "#fdca26"
            ],
            [
             1,
             "#f0f921"
            ]
           ]
          },
          "colorway": [
           "#636efa",
           "#EF553B",
           "#00cc96",
           "#ab63fa",
           "#FFA15A",
           "#19d3f3",
           "#FF6692",
           "#B6E880",
           "#FF97FF",
           "#FECB52"
          ],
          "font": {
           "color": "#2a3f5f"
          },
          "geo": {
           "bgcolor": "white",
           "lakecolor": "white",
           "landcolor": "#E5ECF6",
           "showlakes": true,
           "showland": true,
           "subunitcolor": "white"
          },
          "hoverlabel": {
           "align": "left"
          },
          "hovermode": "closest",
          "mapbox": {
           "style": "light"
          },
          "paper_bgcolor": "white",
          "plot_bgcolor": "#E5ECF6",
          "polar": {
           "angularaxis": {
            "gridcolor": "white",
            "linecolor": "white",
            "ticks": ""
           },
           "bgcolor": "#E5ECF6",
           "radialaxis": {
            "gridcolor": "white",
            "linecolor": "white",
            "ticks": ""
           }
          },
          "scene": {
           "xaxis": {
            "backgroundcolor": "#E5ECF6",
            "gridcolor": "white",
            "gridwidth": 2,
            "linecolor": "white",
            "showbackground": true,
            "ticks": "",
            "zerolinecolor": "white"
           },
           "yaxis": {
            "backgroundcolor": "#E5ECF6",
            "gridcolor": "white",
            "gridwidth": 2,
            "linecolor": "white",
            "showbackground": true,
            "ticks": "",
            "zerolinecolor": "white"
           },
           "zaxis": {
            "backgroundcolor": "#E5ECF6",
            "gridcolor": "white",
            "gridwidth": 2,
            "linecolor": "white",
            "showbackground": true,
            "ticks": "",
            "zerolinecolor": "white"
           }
          },
          "shapedefaults": {
           "line": {
            "color": "#2a3f5f"
           }
          },
          "ternary": {
           "aaxis": {
            "gridcolor": "white",
            "linecolor": "white",
            "ticks": ""
           },
           "baxis": {
            "gridcolor": "white",
            "linecolor": "white",
            "ticks": ""
           },
           "bgcolor": "#E5ECF6",
           "caxis": {
            "gridcolor": "white",
            "linecolor": "white",
            "ticks": ""
           }
          },
          "title": {
           "x": 0.05
          },
          "xaxis": {
           "automargin": true,
           "gridcolor": "white",
           "linecolor": "white",
           "ticks": "",
           "title": {
            "standoff": 15
           },
           "zerolinecolor": "white",
           "zerolinewidth": 2
          },
          "yaxis": {
           "automargin": true,
           "gridcolor": "white",
           "linecolor": "white",
           "ticks": "",
           "title": {
            "standoff": 15
           },
           "zerolinecolor": "white",
           "zerolinewidth": 2
          }
         }
        },
        "title": {
         "text": "Market Capitalizations Companies"
        },
        "xaxis": {
         "anchor": "y",
         "domain": [
          0,
          1
         ],
         "title": {
          "text": "Ticker"
         }
        },
        "yaxis": {
         "anchor": "x",
         "domain": [
          0,
          1
         ],
         "title": {
          "text": "Market Cap (Billions USD)"
         }
        }
       }
      }
     },
     "metadata": {},
     "output_type": "display_data"
    }
   ],
   "source": [
    "#Graph: Market Caps\n",
    "plot_market_caps(sp500_info)\n",
    "plot_market_caps(nasdaq_info)\n",
    "plot_market_caps(dow_info)\n",
    "plot_market_caps(xlk_info)\n",
    "plot_market_caps(xlf_info)\n",
    "plot_market_caps(xli_info)\n",
    "plot_market_caps(xlv_info)\n",
    "plot_market_caps(xlu_info)\n",
    "plot_market_caps(xlp_info)\n",
    "plot_market_caps(xlc_info)\n",
    "plot_market_caps(xlb_info)\n",
    "plot_market_caps(xlre_info)\n",
    "plot_market_caps(xle_info)"
   ]
  },
  {
   "cell_type": "code",
   "execution_count": 23,
   "metadata": {},
   "outputs": [
    {
     "data": {
      "application/vnd.plotly.v1+json": {
       "config": {
        "plotlyServerURL": "https://plot.ly"
       },
       "data": [
        {
         "cells": {
          "align": "left",
          "values": [
           [
            "Benchmark_minus_V",
            "Benchmark_minus_MA",
            "Benchmark_minus_MCD",
            "Benchmark_minus_DIS",
            "Benchmark_minus_ETN",
            "Benchmark_minus_UPS",
            "Benchmark_minus_NKE",
            "Benchmark_minus_MDLZ",
            "Benchmark_minus_APH",
            "Benchmark_minus_CDNS",
            "Benchmark_minus_CMG",
            "Benchmark_minus_PCAR",
            "Benchmark_minus_MNST",
            "Benchmark_minus_CPRT",
            "Benchmark_minus_A",
            "Benchmark_minus_EW",
            "Benchmark_minus_EL",
            "Benchmark_minus_MLM",
            "Benchmark_minus_CSGP",
            "Benchmark_minus_LULU",
            "Benchmark_minus_LVS",
            "Benchmark_minus_DAL",
            "Benchmark_minus_FTV",
            "Benchmark_minus_VST",
            "Benchmark_minus_DLTR",
            "Benchmark_minus_WST",
            "Benchmark_minus_K",
            "Benchmark_minus_GPC",
            "Benchmark_minus_HUBB",
            "Benchmark_minus_APTV",
            "Benchmark_minus_WAT",
            "Benchmark_minus_AVY",
            "Benchmark_minus_IEX",
            "Benchmark_minus_CE",
            "Benchmark_minus_DPZ",
            "Benchmark_minus_NDSN",
            "Benchmark_minus_AES",
            "Benchmark_minus_ALB",
            "Benchmark_minus_LKQ",
            "Benchmark_minus_WBA",
            "Benchmark_minus_LW",
            "Benchmark_minus_BBWI",
            "Benchmark_minus_BWA",
            "Benchmark_minus_AAL",
            "Benchmark_minus_SPY"
           ],
           [
            "Financial Services",
            "Financial Services",
            "Consumer Cyclical",
            "Communication Services",
            "Industrials",
            "Industrials",
            "Consumer Cyclical",
            "Consumer Defensive",
            "Technology",
            "Technology",
            "Consumer Cyclical",
            "Industrials",
            "Consumer Defensive",
            "Industrials",
            "Healthcare",
            "Healthcare",
            "Consumer Defensive",
            "Basic Materials",
            "Real Estate",
            "Consumer Cyclical",
            "Consumer Cyclical",
            "Industrials",
            "Technology",
            "Utilities",
            "Consumer Defensive",
            "Healthcare",
            "Consumer Defensive",
            "Consumer Cyclical",
            "Industrials",
            "Consumer Cyclical",
            "Healthcare",
            "Consumer Cyclical",
            "Industrials",
            "Basic Materials",
            "Consumer Cyclical",
            "Industrials",
            "Utilities",
            "Basic Materials",
            "Consumer Cyclical",
            "Healthcare",
            "Consumer Defensive",
            "Consumer Cyclical",
            "Consumer Cyclical",
            "Industrials",
            "Unknown"
           ],
           [
            "Credit Services",
            "Credit Services",
            "Restaurants",
            "Entertainment",
            "Specialty Industrial Machinery",
            "Integrated Freight & Logistics",
            "Footwear & Accessories",
            "Confectioners",
            "Electronic Components",
            "Software—Application",
            "Restaurants",
            "Farm & Heavy Construction Machinery",
            "Beverages—Non-Alcoholic",
            "Specialty Business Services",
            "Diagnostics & Research",
            "Medical Devices",
            "Household & Personal Products",
            "Building Materials",
            "Real Estate Services",
            "Apparel Retail",
            "Resorts & Casinos",
            "Airlines",
            "Scientific & Technical Instruments",
            "Utilities—Independent Power Producers",
            "Discount Stores",
            "Medical Instruments & Supplies",
            "Packaged Foods",
            "Auto Parts",
            "Electrical Equipment & Parts",
            "Auto Parts",
            "Diagnostics & Research",
            "Packaging & Containers",
            "Specialty Industrial Machinery",
            "Chemicals",
            "Restaurants",
            "Specialty Industrial Machinery",
            "Utilities - Diversified",
            "Specialty Chemicals",
            "Auto Parts",
            "Pharmaceutical Retailers",
            "Packaged Foods",
            "Specialty Retail",
            "Auto Parts",
            "Airlines",
            "Unknown"
           ],
           [
            true,
            true,
            true,
            true,
            true,
            true,
            true,
            true,
            true,
            true,
            true,
            true,
            true,
            true,
            true,
            true,
            true,
            true,
            true,
            true,
            true,
            true,
            true,
            true,
            true,
            true,
            true,
            true,
            true,
            true,
            true,
            true,
            true,
            true,
            true,
            true,
            true,
            true,
            true,
            true,
            true,
            true,
            true,
            true,
            true
           ],
           [
            494000570368,
            399325396992,
            181229895680,
            162678980608,
            117104369664,
            108724436992,
            107813584896,
            89052889088,
            74186727424,
            70749609984,
            69814247424,
            51171680256,
            49370193920,
            48528687104,
            39376064512,
            36011376640,
            35829866496,
            33724895232,
            31798026240,
            30915495936,
            29313873920,
            28062818304,
            24536205312,
            24454234112,
            22059702272,
            20294367232,
            19583115264,
            19218917376,
            19085910016,
            18453966848,
            18410166272,
            16849354752,
            15378277376,
            14966416384,
            14877250560,
            13776010240,
            12251898880,
            10694957056,
            10390925312,
            9936295936,
            7616718336,
            7393410560,
            7330687488,
            6954553856,
            null
           ]
          ]
         },
         "header": {
          "values": [
           "Symbol",
           "Sector",
           "Sub-Industry",
           "Boolean Value",
           "Market Cap"
          ]
         },
         "type": "table"
        }
       ],
       "layout": {
        "template": {
         "data": {
          "bar": [
           {
            "error_x": {
             "color": "#2a3f5f"
            },
            "error_y": {
             "color": "#2a3f5f"
            },
            "marker": {
             "line": {
              "color": "#E5ECF6",
              "width": 0.5
             },
             "pattern": {
              "fillmode": "overlay",
              "size": 10,
              "solidity": 0.2
             }
            },
            "type": "bar"
           }
          ],
          "barpolar": [
           {
            "marker": {
             "line": {
              "color": "#E5ECF6",
              "width": 0.5
             },
             "pattern": {
              "fillmode": "overlay",
              "size": 10,
              "solidity": 0.2
             }
            },
            "type": "barpolar"
           }
          ],
          "carpet": [
           {
            "aaxis": {
             "endlinecolor": "#2a3f5f",
             "gridcolor": "white",
             "linecolor": "white",
             "minorgridcolor": "white",
             "startlinecolor": "#2a3f5f"
            },
            "baxis": {
             "endlinecolor": "#2a3f5f",
             "gridcolor": "white",
             "linecolor": "white",
             "minorgridcolor": "white",
             "startlinecolor": "#2a3f5f"
            },
            "type": "carpet"
           }
          ],
          "choropleth": [
           {
            "colorbar": {
             "outlinewidth": 0,
             "ticks": ""
            },
            "type": "choropleth"
           }
          ],
          "contour": [
           {
            "colorbar": {
             "outlinewidth": 0,
             "ticks": ""
            },
            "colorscale": [
             [
              0,
              "#0d0887"
             ],
             [
              0.1111111111111111,
              "#46039f"
             ],
             [
              0.2222222222222222,
              "#7201a8"
             ],
             [
              0.3333333333333333,
              "#9c179e"
             ],
             [
              0.4444444444444444,
              "#bd3786"
             ],
             [
              0.5555555555555556,
              "#d8576b"
             ],
             [
              0.6666666666666666,
              "#ed7953"
             ],
             [
              0.7777777777777778,
              "#fb9f3a"
             ],
             [
              0.8888888888888888,
              "#fdca26"
             ],
             [
              1,
              "#f0f921"
             ]
            ],
            "type": "contour"
           }
          ],
          "contourcarpet": [
           {
            "colorbar": {
             "outlinewidth": 0,
             "ticks": ""
            },
            "type": "contourcarpet"
           }
          ],
          "heatmap": [
           {
            "colorbar": {
             "outlinewidth": 0,
             "ticks": ""
            },
            "colorscale": [
             [
              0,
              "#0d0887"
             ],
             [
              0.1111111111111111,
              "#46039f"
             ],
             [
              0.2222222222222222,
              "#7201a8"
             ],
             [
              0.3333333333333333,
              "#9c179e"
             ],
             [
              0.4444444444444444,
              "#bd3786"
             ],
             [
              0.5555555555555556,
              "#d8576b"
             ],
             [
              0.6666666666666666,
              "#ed7953"
             ],
             [
              0.7777777777777778,
              "#fb9f3a"
             ],
             [
              0.8888888888888888,
              "#fdca26"
             ],
             [
              1,
              "#f0f921"
             ]
            ],
            "type": "heatmap"
           }
          ],
          "heatmapgl": [
           {
            "colorbar": {
             "outlinewidth": 0,
             "ticks": ""
            },
            "colorscale": [
             [
              0,
              "#0d0887"
             ],
             [
              0.1111111111111111,
              "#46039f"
             ],
             [
              0.2222222222222222,
              "#7201a8"
             ],
             [
              0.3333333333333333,
              "#9c179e"
             ],
             [
              0.4444444444444444,
              "#bd3786"
             ],
             [
              0.5555555555555556,
              "#d8576b"
             ],
             [
              0.6666666666666666,
              "#ed7953"
             ],
             [
              0.7777777777777778,
              "#fb9f3a"
             ],
             [
              0.8888888888888888,
              "#fdca26"
             ],
             [
              1,
              "#f0f921"
             ]
            ],
            "type": "heatmapgl"
           }
          ],
          "histogram": [
           {
            "marker": {
             "pattern": {
              "fillmode": "overlay",
              "size": 10,
              "solidity": 0.2
             }
            },
            "type": "histogram"
           }
          ],
          "histogram2d": [
           {
            "colorbar": {
             "outlinewidth": 0,
             "ticks": ""
            },
            "colorscale": [
             [
              0,
              "#0d0887"
             ],
             [
              0.1111111111111111,
              "#46039f"
             ],
             [
              0.2222222222222222,
              "#7201a8"
             ],
             [
              0.3333333333333333,
              "#9c179e"
             ],
             [
              0.4444444444444444,
              "#bd3786"
             ],
             [
              0.5555555555555556,
              "#d8576b"
             ],
             [
              0.6666666666666666,
              "#ed7953"
             ],
             [
              0.7777777777777778,
              "#fb9f3a"
             ],
             [
              0.8888888888888888,
              "#fdca26"
             ],
             [
              1,
              "#f0f921"
             ]
            ],
            "type": "histogram2d"
           }
          ],
          "histogram2dcontour": [
           {
            "colorbar": {
             "outlinewidth": 0,
             "ticks": ""
            },
            "colorscale": [
             [
              0,
              "#0d0887"
             ],
             [
              0.1111111111111111,
              "#46039f"
             ],
             [
              0.2222222222222222,
              "#7201a8"
             ],
             [
              0.3333333333333333,
              "#9c179e"
             ],
             [
              0.4444444444444444,
              "#bd3786"
             ],
             [
              0.5555555555555556,
              "#d8576b"
             ],
             [
              0.6666666666666666,
              "#ed7953"
             ],
             [
              0.7777777777777778,
              "#fb9f3a"
             ],
             [
              0.8888888888888888,
              "#fdca26"
             ],
             [
              1,
              "#f0f921"
             ]
            ],
            "type": "histogram2dcontour"
           }
          ],
          "mesh3d": [
           {
            "colorbar": {
             "outlinewidth": 0,
             "ticks": ""
            },
            "type": "mesh3d"
           }
          ],
          "parcoords": [
           {
            "line": {
             "colorbar": {
              "outlinewidth": 0,
              "ticks": ""
             }
            },
            "type": "parcoords"
           }
          ],
          "pie": [
           {
            "automargin": true,
            "type": "pie"
           }
          ],
          "scatter": [
           {
            "fillpattern": {
             "fillmode": "overlay",
             "size": 10,
             "solidity": 0.2
            },
            "type": "scatter"
           }
          ],
          "scatter3d": [
           {
            "line": {
             "colorbar": {
              "outlinewidth": 0,
              "ticks": ""
             }
            },
            "marker": {
             "colorbar": {
              "outlinewidth": 0,
              "ticks": ""
             }
            },
            "type": "scatter3d"
           }
          ],
          "scattercarpet": [
           {
            "marker": {
             "colorbar": {
              "outlinewidth": 0,
              "ticks": ""
             }
            },
            "type": "scattercarpet"
           }
          ],
          "scattergeo": [
           {
            "marker": {
             "colorbar": {
              "outlinewidth": 0,
              "ticks": ""
             }
            },
            "type": "scattergeo"
           }
          ],
          "scattergl": [
           {
            "marker": {
             "colorbar": {
              "outlinewidth": 0,
              "ticks": ""
             }
            },
            "type": "scattergl"
           }
          ],
          "scattermapbox": [
           {
            "marker": {
             "colorbar": {
              "outlinewidth": 0,
              "ticks": ""
             }
            },
            "type": "scattermapbox"
           }
          ],
          "scatterpolar": [
           {
            "marker": {
             "colorbar": {
              "outlinewidth": 0,
              "ticks": ""
             }
            },
            "type": "scatterpolar"
           }
          ],
          "scatterpolargl": [
           {
            "marker": {
             "colorbar": {
              "outlinewidth": 0,
              "ticks": ""
             }
            },
            "type": "scatterpolargl"
           }
          ],
          "scatterternary": [
           {
            "marker": {
             "colorbar": {
              "outlinewidth": 0,
              "ticks": ""
             }
            },
            "type": "scatterternary"
           }
          ],
          "surface": [
           {
            "colorbar": {
             "outlinewidth": 0,
             "ticks": ""
            },
            "colorscale": [
             [
              0,
              "#0d0887"
             ],
             [
              0.1111111111111111,
              "#46039f"
             ],
             [
              0.2222222222222222,
              "#7201a8"
             ],
             [
              0.3333333333333333,
              "#9c179e"
             ],
             [
              0.4444444444444444,
              "#bd3786"
             ],
             [
              0.5555555555555556,
              "#d8576b"
             ],
             [
              0.6666666666666666,
              "#ed7953"
             ],
             [
              0.7777777777777778,
              "#fb9f3a"
             ],
             [
              0.8888888888888888,
              "#fdca26"
             ],
             [
              1,
              "#f0f921"
             ]
            ],
            "type": "surface"
           }
          ],
          "table": [
           {
            "cells": {
             "fill": {
              "color": "#EBF0F8"
             },
             "line": {
              "color": "white"
             }
            },
            "header": {
             "fill": {
              "color": "#C8D4E3"
             },
             "line": {
              "color": "white"
             }
            },
            "type": "table"
           }
          ]
         },
         "layout": {
          "annotationdefaults": {
           "arrowcolor": "#2a3f5f",
           "arrowhead": 0,
           "arrowwidth": 1
          },
          "autotypenumbers": "strict",
          "coloraxis": {
           "colorbar": {
            "outlinewidth": 0,
            "ticks": ""
           }
          },
          "colorscale": {
           "diverging": [
            [
             0,
             "#8e0152"
            ],
            [
             0.1,
             "#c51b7d"
            ],
            [
             0.2,
             "#de77ae"
            ],
            [
             0.3,
             "#f1b6da"
            ],
            [
             0.4,
             "#fde0ef"
            ],
            [
             0.5,
             "#f7f7f7"
            ],
            [
             0.6,
             "#e6f5d0"
            ],
            [
             0.7,
             "#b8e186"
            ],
            [
             0.8,
             "#7fbc41"
            ],
            [
             0.9,
             "#4d9221"
            ],
            [
             1,
             "#276419"
            ]
           ],
           "sequential": [
            [
             0,
             "#0d0887"
            ],
            [
             0.1111111111111111,
             "#46039f"
            ],
            [
             0.2222222222222222,
             "#7201a8"
            ],
            [
             0.3333333333333333,
             "#9c179e"
            ],
            [
             0.4444444444444444,
             "#bd3786"
            ],
            [
             0.5555555555555556,
             "#d8576b"
            ],
            [
             0.6666666666666666,
             "#ed7953"
            ],
            [
             0.7777777777777778,
             "#fb9f3a"
            ],
            [
             0.8888888888888888,
             "#fdca26"
            ],
            [
             1,
             "#f0f921"
            ]
           ],
           "sequentialminus": [
            [
             0,
             "#0d0887"
            ],
            [
             0.1111111111111111,
             "#46039f"
            ],
            [
             0.2222222222222222,
             "#7201a8"
            ],
            [
             0.3333333333333333,
             "#9c179e"
            ],
            [
             0.4444444444444444,
             "#bd3786"
            ],
            [
             0.5555555555555556,
             "#d8576b"
            ],
            [
             0.6666666666666666,
             "#ed7953"
            ],
            [
             0.7777777777777778,
             "#fb9f3a"
            ],
            [
             0.8888888888888888,
             "#fdca26"
            ],
            [
             1,
             "#f0f921"
            ]
           ]
          },
          "colorway": [
           "#636efa",
           "#EF553B",
           "#00cc96",
           "#ab63fa",
           "#FFA15A",
           "#19d3f3",
           "#FF6692",
           "#B6E880",
           "#FF97FF",
           "#FECB52"
          ],
          "font": {
           "color": "#2a3f5f"
          },
          "geo": {
           "bgcolor": "white",
           "lakecolor": "white",
           "landcolor": "#E5ECF6",
           "showlakes": true,
           "showland": true,
           "subunitcolor": "white"
          },
          "hoverlabel": {
           "align": "left"
          },
          "hovermode": "closest",
          "mapbox": {
           "style": "light"
          },
          "paper_bgcolor": "white",
          "plot_bgcolor": "#E5ECF6",
          "polar": {
           "angularaxis": {
            "gridcolor": "white",
            "linecolor": "white",
            "ticks": ""
           },
           "bgcolor": "#E5ECF6",
           "radialaxis": {
            "gridcolor": "white",
            "linecolor": "white",
            "ticks": ""
           }
          },
          "scene": {
           "xaxis": {
            "backgroundcolor": "#E5ECF6",
            "gridcolor": "white",
            "gridwidth": 2,
            "linecolor": "white",
            "showbackground": true,
            "ticks": "",
            "zerolinecolor": "white"
           },
           "yaxis": {
            "backgroundcolor": "#E5ECF6",
            "gridcolor": "white",
            "gridwidth": 2,
            "linecolor": "white",
            "showbackground": true,
            "ticks": "",
            "zerolinecolor": "white"
           },
           "zaxis": {
            "backgroundcolor": "#E5ECF6",
            "gridcolor": "white",
            "gridwidth": 2,
            "linecolor": "white",
            "showbackground": true,
            "ticks": "",
            "zerolinecolor": "white"
           }
          },
          "shapedefaults": {
           "line": {
            "color": "#2a3f5f"
           }
          },
          "ternary": {
           "aaxis": {
            "gridcolor": "white",
            "linecolor": "white",
            "ticks": ""
           },
           "baxis": {
            "gridcolor": "white",
            "linecolor": "white",
            "ticks": ""
           },
           "bgcolor": "#E5ECF6",
           "caxis": {
            "gridcolor": "white",
            "linecolor": "white",
            "ticks": ""
           }
          },
          "title": {
           "x": 0.05
          },
          "xaxis": {
           "automargin": true,
           "gridcolor": "white",
           "linecolor": "white",
           "ticks": "",
           "title": {
            "standoff": 15
           },
           "zerolinecolor": "white",
           "zerolinewidth": 2
          },
          "yaxis": {
           "automargin": true,
           "gridcolor": "white",
           "linecolor": "white",
           "ticks": "",
           "title": {
            "standoff": 15
           },
           "zerolinecolor": "white",
           "zerolinewidth": 2
          }
         }
        }
       }
      }
     },
     "metadata": {},
     "output_type": "display_data"
    }
   ],
   "source": [
    "#find oversold assets relative to benchmark\n",
    "import pandas as pd\n",
    "import plotly.graph_objects as go\n",
    "\n",
    "# Assuming necessary data and functions are already defined: filter_assets_by_positive_spread_std, benchmark_minus_all_series_mid, sp500_table, sp500_info\n",
    "\n",
    "# Filter assets by positive spread standard deviation\n",
    "filtered_assets = filter_assets_by_positive_spread_std(benchmark_minus_all_series_mid)\n",
    "filtered_assets = filtered_assets[filtered_assets]\n",
    "\n",
    "# Convert filtered_assets to a DataFrame and reset the index\n",
    "filtered_assets_df = filtered_assets.reset_index()\n",
    "filtered_assets_df.columns = ['Symbol', 'Boolean Value']\n",
    "\n",
    "# Remove any leading or trailing whitespace from symbols\n",
    "filtered_assets_df['Symbol'] = filtered_assets_df['Symbol'].str.strip()\n",
    "\n",
    "# Make a copy of sp500_table\n",
    "sp500_table_copy = sp500_table.copy()\n",
    "\n",
    "# Prefix 'Benchmark_minus_' to symbols in the copy to match the format\n",
    "sp500_table_copy['Symbol'] = 'Benchmark_minus_' + sp500_table_copy['Symbol'].str.strip()\n",
    "\n",
    "# Extract the symbols from filtered_assets_df (no prefix needed)\n",
    "filtered_symbols = filtered_assets_df['Symbol']\n",
    "\n",
    "# Filter the copy of sp500_table based on the updated filtered_assets symbols\n",
    "sp500_filtered = sp500_table_copy[sp500_table_copy['Symbol'].isin(filtered_symbols)]\n",
    "\n",
    "# Merge sp500_filtered with filtered_assets_df (no need to adjust filtered_assets_df)\n",
    "merged_df = sp500_filtered.merge(filtered_assets_df, left_on='Symbol', right_on='Symbol', how='right')\n",
    "\n",
    "# Add market caps\n",
    "merged_df = pd.merge(merged_df, sp500_info[['Symbol', 'Market Cap']], on='Symbol', how='left')\n",
    "\n",
    "# Handle missing sector and sub-industry information\n",
    "merged_df['Sector'] = merged_df['Sector'].fillna('Unknown')\n",
    "merged_df['Sub-Industry'] = merged_df['Sub-Industry'].fillna('Unknown')\n",
    "\n",
    "# Rename columns if needed\n",
    "if 'Market Cap_x' in merged_df.columns or 'Market Cap_y' in merged_df.columns:\n",
    "    merged_df['Market Cap'] = merged_df['Market Cap_x'].combine_first(merged_df['Market Cap_y'])\n",
    "    merged_df.drop(columns=['Market Cap_x', 'Market Cap_y'], inplace=True)\n",
    "\n",
    "# Sort the DataFrame by market cap in descending order\n",
    "merged_df = merged_df.sort_values(by='Market Cap', ascending=False)\n",
    "\n",
    "# Create a Plotly Table trace\n",
    "fig = go.Figure(data=[go.Table(\n",
    "    header=dict(values=['Symbol', 'Sector', 'Sub-Industry', 'Boolean Value', 'Market Cap']),\n",
    "    cells=dict(values=[merged_df['Symbol'], merged_df['Sector'], merged_df['Sub-Industry'], merged_df['Boolean Value'], merged_df['Market Cap']], align='left'))\n",
    "])\n",
    "\n",
    "fig.show()\n"
   ]
  },
  {
   "cell_type": "code",
   "execution_count": 24,
   "metadata": {},
   "outputs": [
    {
     "name": "stderr",
     "output_type": "stream",
     "text": [
      "C:\\Users\\kevin\\AppData\\Local\\Temp\\ipykernel_15944\\2813995731.py:68: FutureWarning:\n",
      "\n",
      "last is deprecated and will be removed in a future version. Please create a mask and filter using `.loc` instead\n",
      "\n",
      "C:\\Users\\kevin\\AppData\\Local\\Temp\\ipykernel_15944\\2813995731.py:68: FutureWarning:\n",
      "\n",
      "'Y' is deprecated and will be removed in a future version, please use 'YE' instead.\n",
      "\n"
     ]
    },
    {
     "data": {
      "application/vnd.plotly.v1+json": {
       "config": {
        "plotlyServerURL": "https://plot.ly"
       },
       "data": [
        {
         "hovertemplate": "variable=Benchmark_minus_XLP<br>Date=%{x}<br>value=%{y}<extra></extra>",
         "legendgroup": "Benchmark_minus_XLP",
         "line": {
          "color": "#636efa",
          "dash": "solid"
         },
         "marker": {
          "symbol": "circle"
         },
         "mode": "lines",
         "name": "Benchmark_minus_XLP",
         "orientation": "v",
         "showlegend": true,
         "type": "scatter",
         "x": [
          "2024-01-02T00:00:00",
          "2024-01-03T00:00:00",
          "2024-01-04T00:00:00",
          "2024-01-05T00:00:00",
          "2024-01-08T00:00:00",
          "2024-01-09T00:00:00",
          "2024-01-10T00:00:00",
          "2024-01-11T00:00:00",
          "2024-01-12T00:00:00",
          "2024-01-16T00:00:00",
          "2024-01-17T00:00:00",
          "2024-01-18T00:00:00",
          "2024-01-19T00:00:00",
          "2024-01-22T00:00:00",
          "2024-01-23T00:00:00",
          "2024-01-24T00:00:00",
          "2024-01-25T00:00:00",
          "2024-01-26T00:00:00",
          "2024-01-29T00:00:00",
          "2024-01-30T00:00:00",
          "2024-01-31T00:00:00",
          "2024-02-01T00:00:00",
          "2024-02-02T00:00:00",
          "2024-02-05T00:00:00",
          "2024-02-06T00:00:00",
          "2024-02-07T00:00:00",
          "2024-02-08T00:00:00",
          "2024-02-09T00:00:00",
          "2024-02-12T00:00:00",
          "2024-02-13T00:00:00",
          "2024-02-14T00:00:00",
          "2024-02-15T00:00:00",
          "2024-02-16T00:00:00",
          "2024-02-20T00:00:00",
          "2024-02-21T00:00:00",
          "2024-02-22T00:00:00",
          "2024-02-23T00:00:00",
          "2024-02-26T00:00:00",
          "2024-02-27T00:00:00",
          "2024-02-28T00:00:00",
          "2024-02-29T00:00:00",
          "2024-03-01T00:00:00",
          "2024-03-04T00:00:00",
          "2024-03-05T00:00:00",
          "2024-03-06T00:00:00",
          "2024-03-07T00:00:00",
          "2024-03-08T00:00:00",
          "2024-03-11T00:00:00",
          "2024-03-12T00:00:00",
          "2024-03-13T00:00:00",
          "2024-03-14T00:00:00",
          "2024-03-15T00:00:00",
          "2024-03-18T00:00:00",
          "2024-03-19T00:00:00",
          "2024-03-20T00:00:00",
          "2024-03-21T00:00:00",
          "2024-03-22T00:00:00",
          "2024-03-25T00:00:00",
          "2024-03-26T00:00:00",
          "2024-03-27T00:00:00",
          "2024-03-28T00:00:00",
          "2024-04-01T00:00:00",
          "2024-04-02T00:00:00",
          "2024-04-03T00:00:00",
          "2024-04-04T00:00:00",
          "2024-04-05T00:00:00",
          "2024-04-08T00:00:00",
          "2024-04-09T00:00:00",
          "2024-04-10T00:00:00",
          "2024-04-11T00:00:00",
          "2024-04-12T00:00:00",
          "2024-04-15T00:00:00",
          "2024-04-16T00:00:00",
          "2024-04-17T00:00:00",
          "2024-04-18T00:00:00",
          "2024-04-19T00:00:00",
          "2024-04-22T00:00:00",
          "2024-04-23T00:00:00",
          "2024-04-24T00:00:00",
          "2024-04-25T00:00:00",
          "2024-04-26T00:00:00",
          "2024-04-29T00:00:00",
          "2024-04-30T00:00:00",
          "2024-05-01T00:00:00",
          "2024-05-02T00:00:00",
          "2024-05-03T00:00:00",
          "2024-05-06T00:00:00",
          "2024-05-07T00:00:00",
          "2024-05-08T00:00:00",
          "2024-05-09T00:00:00",
          "2024-05-10T00:00:00",
          "2024-05-13T00:00:00",
          "2024-05-14T00:00:00",
          "2024-05-15T00:00:00",
          "2024-05-16T00:00:00",
          "2024-05-17T00:00:00",
          "2024-05-20T00:00:00",
          "2024-05-21T00:00:00",
          "2024-05-22T00:00:00",
          "2024-05-23T00:00:00",
          "2024-05-24T00:00:00",
          "2024-05-28T00:00:00",
          "2024-05-29T00:00:00",
          "2024-05-30T00:00:00",
          "2024-05-31T00:00:00",
          "2024-06-03T00:00:00",
          "2024-06-04T00:00:00",
          "2024-06-05T00:00:00",
          "2024-06-06T00:00:00",
          "2024-06-07T00:00:00",
          "2024-06-10T00:00:00",
          "2024-06-11T00:00:00",
          "2024-06-12T00:00:00",
          "2024-06-13T00:00:00",
          "2024-06-14T00:00:00",
          "2024-06-17T00:00:00",
          "2024-06-18T00:00:00",
          "2024-06-20T00:00:00",
          "2024-06-21T00:00:00",
          "2024-06-24T00:00:00",
          "2024-06-25T00:00:00",
          "2024-06-26T00:00:00",
          "2024-06-27T00:00:00",
          "2024-06-28T00:00:00",
          "2024-07-01T00:00:00",
          "2024-07-02T00:00:00",
          "2024-07-03T00:00:00",
          "2024-07-05T00:00:00",
          "2024-07-08T00:00:00",
          "2024-07-09T00:00:00",
          "2024-07-10T00:00:00",
          "2024-07-11T00:00:00",
          "2024-07-12T00:00:00",
          "2024-07-15T00:00:00",
          "2024-07-16T00:00:00",
          "2024-07-17T00:00:00",
          "2024-07-18T00:00:00",
          "2024-07-19T00:00:00",
          "2024-07-22T00:00:00",
          "2024-07-23T00:00:00",
          "2024-07-24T00:00:00",
          "2024-07-25T00:00:00"
         ],
         "xaxis": "x",
         "y": [
          -0.02837947824881404,
          -0.030767342197417724,
          -0.02678764559558311,
          -0.023102712089445587,
          -0.013611692502264572,
          -0.017720160879754032,
          -0.005005887211953164,
          0.01153493724528809,
          0.009496830542781831,
          0.013184361136986622,
          0.004617677125994923,
          0.007842189863962123,
          0.027392169622755258,
          0.02658243076132638,
          0.019105102861917467,
          0.03489323318531512,
          0.02924052197497773,
          0.028144158399434183,
          0.02008573222438481,
          -0.0020334186582871006,
          -0.018194400323437998,
          -0.017676945225907348,
          -0.017579215275893345,
          -0.010522473992963466,
          -0.0037310932108762795,
          0.0034990196119297767,
          0.010643492769607965,
          0.035333418537150996,
          0.034562675375181096,
          0.017385592234119174,
          0.025924525574183566,
          0.025865882655615402,
          0.010011346727505033,
          -0.006654055174527773,
          -0.024511325906193426,
          0.0005194831983386106,
          0.0012362682639888156,
          -0.009601741111369577,
          -0.008239609334320441,
          -0.004090481863257889,
          0.017385944002193288,
          0.02957175267726453,
          0.009860604461007783,
          -0.0002494843516160916,
          -0.003981442379026756,
          -0.0015047638442462485,
          0.0028728728615212695,
          -0.00874544602208549,
          -0.012481880097597431,
          -0.014709651067378982,
          0.003807317284936218,
          -0.00249803082294342,
          0.00017208451493655463,
          0.00008048024317863778,
          0.012700892425686616,
          0.009829706954479933,
          0.016853065008800128,
          0.011080596789016628,
          0.01840809041401803,
          0.00950126406111007,
          0.006085622109240685,
          0.006123671755938864,
          0.0021172380630294363,
          0.011221187475066619,
          0.003283612345520992,
          0.014372876719569105,
          0.018244738329759147,
          0.016141405233914385,
          0.003612395222236553,
          0.014702652564923313,
          -0.00105012568697882,
          -0.001573795116421861,
          -0.01232730125891246,
          -0.023710743412929447,
          -0.026595566375882562,
          -0.03862802732244763,
          -0.04904924257084431,
          -0.0371620128825082,
          -0.037095290350721344,
          -0.036189418756059744,
          -0.014714085887019834,
          -0.0075215462516615705,
          -0.0004662823514496317,
          0.002990654288628436,
          -0.005074342371330753,
          0.012292669851239446,
          0.023734503087683212,
          0.002125387769271514,
          0.004879524805825541,
          0.013984787051222192,
          0.0062938674453938415,
          0.008310777751894927,
          0.005434703490005077,
          0.0073954754411595935,
          0.0008359620838072068,
          0.0016192780401520501,
          0.01266427644043544,
          0.013627660210353776,
          0.011697631785229534,
          0.009613916332110617,
          0.0019455547508377968,
          0.02635314732362115,
          0.022569198367520804,
          0.005514897044079814,
          0.002602349694743822,
          0.0027221398774319727,
          -0.009424127711317176,
          0.0006695170846047205,
          -0.011107298739796878,
          -0.007479671596577253,
          0.005929471614094295,
          0.015321048566717455,
          0.03345248866532169,
          0.04161304889825834,
          0.026220893983211258,
          0.028007714699990305,
          0.025570425950105724,
          0.021041302927387928,
          0.012661253618713397,
          -0.013094247291929095,
          -0.0034240525357858154,
          0.001130950563498656,
          0.008449483047004325,
          0.007643046129419129,
          0.017194661974569758,
          0.022426773868827077,
          0.03493462297977867,
          0.01839324098415529,
          0.01778040382371593,
          0.015475929179621595,
          0.02071343308939233,
          0.006355999956774605,
          0.008506883870727178,
          0.01093465467127075,
          0.013773940339130153,
          -0.01616660620686816,
          -0.022425570070126355,
          -0.03088077159174063,
          -0.016645974273396424,
          -0.016383199565995432,
          -0.04641106689514152,
          -0.04684339769798285
         ],
         "yaxis": "y"
        }
       ],
       "layout": {
        "annotations": [
         {
          "showarrow": false,
          "text": "y=0",
          "x": 1,
          "xanchor": "right",
          "xref": "x domain",
          "y": 0,
          "yanchor": "bottom",
          "yref": "y"
         },
         {
          "showarrow": false,
          "text": "mean",
          "x": 1,
          "xanchor": "right",
          "xref": "x domain",
          "y": 0.01372022719592343,
          "yanchor": "bottom",
          "yref": "y"
         },
         {
          "showarrow": false,
          "text": "mean + 1 std dev",
          "x": 1,
          "xanchor": "right",
          "xref": "x domain",
          "y": 0.023778628255590593,
          "yanchor": "top",
          "yref": "y"
         },
         {
          "showarrow": false,
          "text": "mean - 1 std dev",
          "x": 1,
          "xanchor": "right",
          "xref": "x domain",
          "y": 0.003661826136256265,
          "yanchor": "top",
          "yref": "y"
         },
         {
          "showarrow": false,
          "text": "mean + 2 std dev",
          "x": 1,
          "xanchor": "right",
          "xref": "x domain",
          "y": 0.03383702931525776,
          "yanchor": "top",
          "yref": "y"
         },
         {
          "showarrow": false,
          "text": "mean - 2 std dev",
          "x": 1,
          "xanchor": "right",
          "xref": "x domain",
          "y": -0.0063965749234109,
          "yanchor": "top",
          "yref": "y"
         }
        ],
        "legend": {
         "title": {
          "text": "variable"
         },
         "tracegroupgap": 0
        },
        "margin": {
         "t": 60
        },
        "shapes": [
         {
          "line": {
           "color": "red",
           "dash": "dash"
          },
          "type": "line",
          "x0": 0,
          "x1": 1,
          "xref": "x domain",
          "y0": 0,
          "y1": 0,
          "yref": "y"
         },
         {
          "line": {
           "color": "red"
          },
          "type": "line",
          "x0": 0,
          "x1": 1,
          "xref": "x domain",
          "y0": 0.01372022719592343,
          "y1": 0.01372022719592343,
          "yref": "y"
         },
         {
          "line": {
           "color": "blue",
           "dash": "dash"
          },
          "type": "line",
          "x0": 0,
          "x1": 1,
          "xref": "x domain",
          "y0": 0.023778628255590593,
          "y1": 0.023778628255590593,
          "yref": "y"
         },
         {
          "line": {
           "color": "blue",
           "dash": "dash"
          },
          "type": "line",
          "x0": 0,
          "x1": 1,
          "xref": "x domain",
          "y0": 0.003661826136256265,
          "y1": 0.003661826136256265,
          "yref": "y"
         },
         {
          "line": {
           "color": "green",
           "dash": "dot"
          },
          "type": "line",
          "x0": 0,
          "x1": 1,
          "xref": "x domain",
          "y0": 0.03383702931525776,
          "y1": 0.03383702931525776,
          "yref": "y"
         },
         {
          "line": {
           "color": "green",
           "dash": "dot"
          },
          "type": "line",
          "x0": 0,
          "x1": 1,
          "xref": "x domain",
          "y0": -0.0063965749234109,
          "y1": -0.0063965749234109,
          "yref": "y"
         },
         {
          "fillcolor": "green",
          "line": {
           "width": 0
          },
          "opacity": 0.2,
          "type": "rect",
          "x0": 0,
          "x1": 1,
          "xref": "paper",
          "y0": 0.01372022719592343,
          "y1": 0.04161304889825834,
          "yref": "y"
         }
        ],
        "template": {
         "data": {
          "bar": [
           {
            "error_x": {
             "color": "#2a3f5f"
            },
            "error_y": {
             "color": "#2a3f5f"
            },
            "marker": {
             "line": {
              "color": "#E5ECF6",
              "width": 0.5
             },
             "pattern": {
              "fillmode": "overlay",
              "size": 10,
              "solidity": 0.2
             }
            },
            "type": "bar"
           }
          ],
          "barpolar": [
           {
            "marker": {
             "line": {
              "color": "#E5ECF6",
              "width": 0.5
             },
             "pattern": {
              "fillmode": "overlay",
              "size": 10,
              "solidity": 0.2
             }
            },
            "type": "barpolar"
           }
          ],
          "carpet": [
           {
            "aaxis": {
             "endlinecolor": "#2a3f5f",
             "gridcolor": "white",
             "linecolor": "white",
             "minorgridcolor": "white",
             "startlinecolor": "#2a3f5f"
            },
            "baxis": {
             "endlinecolor": "#2a3f5f",
             "gridcolor": "white",
             "linecolor": "white",
             "minorgridcolor": "white",
             "startlinecolor": "#2a3f5f"
            },
            "type": "carpet"
           }
          ],
          "choropleth": [
           {
            "colorbar": {
             "outlinewidth": 0,
             "ticks": ""
            },
            "type": "choropleth"
           }
          ],
          "contour": [
           {
            "colorbar": {
             "outlinewidth": 0,
             "ticks": ""
            },
            "colorscale": [
             [
              0,
              "#0d0887"
             ],
             [
              0.1111111111111111,
              "#46039f"
             ],
             [
              0.2222222222222222,
              "#7201a8"
             ],
             [
              0.3333333333333333,
              "#9c179e"
             ],
             [
              0.4444444444444444,
              "#bd3786"
             ],
             [
              0.5555555555555556,
              "#d8576b"
             ],
             [
              0.6666666666666666,
              "#ed7953"
             ],
             [
              0.7777777777777778,
              "#fb9f3a"
             ],
             [
              0.8888888888888888,
              "#fdca26"
             ],
             [
              1,
              "#f0f921"
             ]
            ],
            "type": "contour"
           }
          ],
          "contourcarpet": [
           {
            "colorbar": {
             "outlinewidth": 0,
             "ticks": ""
            },
            "type": "contourcarpet"
           }
          ],
          "heatmap": [
           {
            "colorbar": {
             "outlinewidth": 0,
             "ticks": ""
            },
            "colorscale": [
             [
              0,
              "#0d0887"
             ],
             [
              0.1111111111111111,
              "#46039f"
             ],
             [
              0.2222222222222222,
              "#7201a8"
             ],
             [
              0.3333333333333333,
              "#9c179e"
             ],
             [
              0.4444444444444444,
              "#bd3786"
             ],
             [
              0.5555555555555556,
              "#d8576b"
             ],
             [
              0.6666666666666666,
              "#ed7953"
             ],
             [
              0.7777777777777778,
              "#fb9f3a"
             ],
             [
              0.8888888888888888,
              "#fdca26"
             ],
             [
              1,
              "#f0f921"
             ]
            ],
            "type": "heatmap"
           }
          ],
          "heatmapgl": [
           {
            "colorbar": {
             "outlinewidth": 0,
             "ticks": ""
            },
            "colorscale": [
             [
              0,
              "#0d0887"
             ],
             [
              0.1111111111111111,
              "#46039f"
             ],
             [
              0.2222222222222222,
              "#7201a8"
             ],
             [
              0.3333333333333333,
              "#9c179e"
             ],
             [
              0.4444444444444444,
              "#bd3786"
             ],
             [
              0.5555555555555556,
              "#d8576b"
             ],
             [
              0.6666666666666666,
              "#ed7953"
             ],
             [
              0.7777777777777778,
              "#fb9f3a"
             ],
             [
              0.8888888888888888,
              "#fdca26"
             ],
             [
              1,
              "#f0f921"
             ]
            ],
            "type": "heatmapgl"
           }
          ],
          "histogram": [
           {
            "marker": {
             "pattern": {
              "fillmode": "overlay",
              "size": 10,
              "solidity": 0.2
             }
            },
            "type": "histogram"
           }
          ],
          "histogram2d": [
           {
            "colorbar": {
             "outlinewidth": 0,
             "ticks": ""
            },
            "colorscale": [
             [
              0,
              "#0d0887"
             ],
             [
              0.1111111111111111,
              "#46039f"
             ],
             [
              0.2222222222222222,
              "#7201a8"
             ],
             [
              0.3333333333333333,
              "#9c179e"
             ],
             [
              0.4444444444444444,
              "#bd3786"
             ],
             [
              0.5555555555555556,
              "#d8576b"
             ],
             [
              0.6666666666666666,
              "#ed7953"
             ],
             [
              0.7777777777777778,
              "#fb9f3a"
             ],
             [
              0.8888888888888888,
              "#fdca26"
             ],
             [
              1,
              "#f0f921"
             ]
            ],
            "type": "histogram2d"
           }
          ],
          "histogram2dcontour": [
           {
            "colorbar": {
             "outlinewidth": 0,
             "ticks": ""
            },
            "colorscale": [
             [
              0,
              "#0d0887"
             ],
             [
              0.1111111111111111,
              "#46039f"
             ],
             [
              0.2222222222222222,
              "#7201a8"
             ],
             [
              0.3333333333333333,
              "#9c179e"
             ],
             [
              0.4444444444444444,
              "#bd3786"
             ],
             [
              0.5555555555555556,
              "#d8576b"
             ],
             [
              0.6666666666666666,
              "#ed7953"
             ],
             [
              0.7777777777777778,
              "#fb9f3a"
             ],
             [
              0.8888888888888888,
              "#fdca26"
             ],
             [
              1,
              "#f0f921"
             ]
            ],
            "type": "histogram2dcontour"
           }
          ],
          "mesh3d": [
           {
            "colorbar": {
             "outlinewidth": 0,
             "ticks": ""
            },
            "type": "mesh3d"
           }
          ],
          "parcoords": [
           {
            "line": {
             "colorbar": {
              "outlinewidth": 0,
              "ticks": ""
             }
            },
            "type": "parcoords"
           }
          ],
          "pie": [
           {
            "automargin": true,
            "type": "pie"
           }
          ],
          "scatter": [
           {
            "fillpattern": {
             "fillmode": "overlay",
             "size": 10,
             "solidity": 0.2
            },
            "type": "scatter"
           }
          ],
          "scatter3d": [
           {
            "line": {
             "colorbar": {
              "outlinewidth": 0,
              "ticks": ""
             }
            },
            "marker": {
             "colorbar": {
              "outlinewidth": 0,
              "ticks": ""
             }
            },
            "type": "scatter3d"
           }
          ],
          "scattercarpet": [
           {
            "marker": {
             "colorbar": {
              "outlinewidth": 0,
              "ticks": ""
             }
            },
            "type": "scattercarpet"
           }
          ],
          "scattergeo": [
           {
            "marker": {
             "colorbar": {
              "outlinewidth": 0,
              "ticks": ""
             }
            },
            "type": "scattergeo"
           }
          ],
          "scattergl": [
           {
            "marker": {
             "colorbar": {
              "outlinewidth": 0,
              "ticks": ""
             }
            },
            "type": "scattergl"
           }
          ],
          "scattermapbox": [
           {
            "marker": {
             "colorbar": {
              "outlinewidth": 0,
              "ticks": ""
             }
            },
            "type": "scattermapbox"
           }
          ],
          "scatterpolar": [
           {
            "marker": {
             "colorbar": {
              "outlinewidth": 0,
              "ticks": ""
             }
            },
            "type": "scatterpolar"
           }
          ],
          "scatterpolargl": [
           {
            "marker": {
             "colorbar": {
              "outlinewidth": 0,
              "ticks": ""
             }
            },
            "type": "scatterpolargl"
           }
          ],
          "scatterternary": [
           {
            "marker": {
             "colorbar": {
              "outlinewidth": 0,
              "ticks": ""
             }
            },
            "type": "scatterternary"
           }
          ],
          "surface": [
           {
            "colorbar": {
             "outlinewidth": 0,
             "ticks": ""
            },
            "colorscale": [
             [
              0,
              "#0d0887"
             ],
             [
              0.1111111111111111,
              "#46039f"
             ],
             [
              0.2222222222222222,
              "#7201a8"
             ],
             [
              0.3333333333333333,
              "#9c179e"
             ],
             [
              0.4444444444444444,
              "#bd3786"
             ],
             [
              0.5555555555555556,
              "#d8576b"
             ],
             [
              0.6666666666666666,
              "#ed7953"
             ],
             [
              0.7777777777777778,
              "#fb9f3a"
             ],
             [
              0.8888888888888888,
              "#fdca26"
             ],
             [
              1,
              "#f0f921"
             ]
            ],
            "type": "surface"
           }
          ],
          "table": [
           {
            "cells": {
             "fill": {
              "color": "#EBF0F8"
             },
             "line": {
              "color": "white"
             }
            },
            "header": {
             "fill": {
              "color": "#C8D4E3"
             },
             "line": {
              "color": "white"
             }
            },
            "type": "table"
           }
          ]
         },
         "layout": {
          "annotationdefaults": {
           "arrowcolor": "#2a3f5f",
           "arrowhead": 0,
           "arrowwidth": 1
          },
          "autotypenumbers": "strict",
          "coloraxis": {
           "colorbar": {
            "outlinewidth": 0,
            "ticks": ""
           }
          },
          "colorscale": {
           "diverging": [
            [
             0,
             "#8e0152"
            ],
            [
             0.1,
             "#c51b7d"
            ],
            [
             0.2,
             "#de77ae"
            ],
            [
             0.3,
             "#f1b6da"
            ],
            [
             0.4,
             "#fde0ef"
            ],
            [
             0.5,
             "#f7f7f7"
            ],
            [
             0.6,
             "#e6f5d0"
            ],
            [
             0.7,
             "#b8e186"
            ],
            [
             0.8,
             "#7fbc41"
            ],
            [
             0.9,
             "#4d9221"
            ],
            [
             1,
             "#276419"
            ]
           ],
           "sequential": [
            [
             0,
             "#0d0887"
            ],
            [
             0.1111111111111111,
             "#46039f"
            ],
            [
             0.2222222222222222,
             "#7201a8"
            ],
            [
             0.3333333333333333,
             "#9c179e"
            ],
            [
             0.4444444444444444,
             "#bd3786"
            ],
            [
             0.5555555555555556,
             "#d8576b"
            ],
            [
             0.6666666666666666,
             "#ed7953"
            ],
            [
             0.7777777777777778,
             "#fb9f3a"
            ],
            [
             0.8888888888888888,
             "#fdca26"
            ],
            [
             1,
             "#f0f921"
            ]
           ],
           "sequentialminus": [
            [
             0,
             "#0d0887"
            ],
            [
             0.1111111111111111,
             "#46039f"
            ],
            [
             0.2222222222222222,
             "#7201a8"
            ],
            [
             0.3333333333333333,
             "#9c179e"
            ],
            [
             0.4444444444444444,
             "#bd3786"
            ],
            [
             0.5555555555555556,
             "#d8576b"
            ],
            [
             0.6666666666666666,
             "#ed7953"
            ],
            [
             0.7777777777777778,
             "#fb9f3a"
            ],
            [
             0.8888888888888888,
             "#fdca26"
            ],
            [
             1,
             "#f0f921"
            ]
           ]
          },
          "colorway": [
           "#636efa",
           "#EF553B",
           "#00cc96",
           "#ab63fa",
           "#FFA15A",
           "#19d3f3",
           "#FF6692",
           "#B6E880",
           "#FF97FF",
           "#FECB52"
          ],
          "font": {
           "color": "#2a3f5f"
          },
          "geo": {
           "bgcolor": "white",
           "lakecolor": "white",
           "landcolor": "#E5ECF6",
           "showlakes": true,
           "showland": true,
           "subunitcolor": "white"
          },
          "hoverlabel": {
           "align": "left"
          },
          "hovermode": "closest",
          "mapbox": {
           "style": "light"
          },
          "paper_bgcolor": "white",
          "plot_bgcolor": "#E5ECF6",
          "polar": {
           "angularaxis": {
            "gridcolor": "white",
            "linecolor": "white",
            "ticks": ""
           },
           "bgcolor": "#E5ECF6",
           "radialaxis": {
            "gridcolor": "white",
            "linecolor": "white",
            "ticks": ""
           }
          },
          "scene": {
           "xaxis": {
            "backgroundcolor": "#E5ECF6",
            "gridcolor": "white",
            "gridwidth": 2,
            "linecolor": "white",
            "showbackground": true,
            "ticks": "",
            "zerolinecolor": "white"
           },
           "yaxis": {
            "backgroundcolor": "#E5ECF6",
            "gridcolor": "white",
            "gridwidth": 2,
            "linecolor": "white",
            "showbackground": true,
            "ticks": "",
            "zerolinecolor": "white"
           },
           "zaxis": {
            "backgroundcolor": "#E5ECF6",
            "gridcolor": "white",
            "gridwidth": 2,
            "linecolor": "white",
            "showbackground": true,
            "ticks": "",
            "zerolinecolor": "white"
           }
          },
          "shapedefaults": {
           "line": {
            "color": "#2a3f5f"
           }
          },
          "ternary": {
           "aaxis": {
            "gridcolor": "white",
            "linecolor": "white",
            "ticks": ""
           },
           "baxis": {
            "gridcolor": "white",
            "linecolor": "white",
            "ticks": ""
           },
           "bgcolor": "#E5ECF6",
           "caxis": {
            "gridcolor": "white",
            "linecolor": "white",
            "ticks": ""
           }
          },
          "title": {
           "x": 0.05
          },
          "xaxis": {
           "automargin": true,
           "gridcolor": "white",
           "linecolor": "white",
           "ticks": "",
           "title": {
            "standoff": 15
           },
           "zerolinecolor": "white",
           "zerolinewidth": 2
          },
          "yaxis": {
           "automargin": true,
           "gridcolor": "white",
           "linecolor": "white",
           "ticks": "",
           "title": {
            "standoff": 15
           },
           "zerolinecolor": "white",
           "zerolinewidth": 2
          }
         }
        },
        "title": {
         "text": "Benchmark_minus_XLP"
        },
        "xaxis": {
         "anchor": "y",
         "domain": [
          0,
          1
         ],
         "title": {
          "text": "Date"
         }
        },
        "yaxis": {
         "anchor": "x",
         "domain": [
          0,
          1
         ],
         "title": {
          "text": "value"
         }
        }
       }
      }
     },
     "metadata": {},
     "output_type": "display_data"
    },
    {
     "name": "stderr",
     "output_type": "stream",
     "text": [
      "C:\\Users\\kevin\\AppData\\Local\\Temp\\ipykernel_15944\\2813995731.py:68: FutureWarning:\n",
      "\n",
      "last is deprecated and will be removed in a future version. Please create a mask and filter using `.loc` instead\n",
      "\n",
      "C:\\Users\\kevin\\AppData\\Local\\Temp\\ipykernel_15944\\2813995731.py:68: FutureWarning:\n",
      "\n",
      "'Y' is deprecated and will be removed in a future version, please use 'YE' instead.\n",
      "\n"
     ]
    },
    {
     "data": {
      "application/vnd.plotly.v1+json": {
       "config": {
        "plotlyServerURL": "https://plot.ly"
       },
       "data": [
        {
         "hovertemplate": "variable=Benchmark_minus_XLP<br>Date=%{x}<br>value=%{y}<extra></extra>",
         "legendgroup": "Benchmark_minus_XLP",
         "line": {
          "color": "#636efa",
          "dash": "solid"
         },
         "marker": {
          "symbol": "circle"
         },
         "mode": "lines",
         "name": "Benchmark_minus_XLP",
         "orientation": "v",
         "showlegend": true,
         "type": "scatter",
         "x": [
          "2024-01-02T00:00:00",
          "2024-01-03T00:00:00",
          "2024-01-04T00:00:00",
          "2024-01-05T00:00:00",
          "2024-01-08T00:00:00",
          "2024-01-09T00:00:00",
          "2024-01-10T00:00:00",
          "2024-01-11T00:00:00",
          "2024-01-12T00:00:00",
          "2024-01-16T00:00:00",
          "2024-01-17T00:00:00",
          "2024-01-18T00:00:00",
          "2024-01-19T00:00:00",
          "2024-01-22T00:00:00",
          "2024-01-23T00:00:00",
          "2024-01-24T00:00:00",
          "2024-01-25T00:00:00",
          "2024-01-26T00:00:00",
          "2024-01-29T00:00:00",
          "2024-01-30T00:00:00",
          "2024-01-31T00:00:00",
          "2024-02-01T00:00:00",
          "2024-02-02T00:00:00",
          "2024-02-05T00:00:00",
          "2024-02-06T00:00:00",
          "2024-02-07T00:00:00",
          "2024-02-08T00:00:00",
          "2024-02-09T00:00:00",
          "2024-02-12T00:00:00",
          "2024-02-13T00:00:00",
          "2024-02-14T00:00:00",
          "2024-02-15T00:00:00",
          "2024-02-16T00:00:00",
          "2024-02-20T00:00:00",
          "2024-02-21T00:00:00",
          "2024-02-22T00:00:00",
          "2024-02-23T00:00:00",
          "2024-02-26T00:00:00",
          "2024-02-27T00:00:00",
          "2024-02-28T00:00:00",
          "2024-02-29T00:00:00",
          "2024-03-01T00:00:00",
          "2024-03-04T00:00:00",
          "2024-03-05T00:00:00",
          "2024-03-06T00:00:00",
          "2024-03-07T00:00:00",
          "2024-03-08T00:00:00",
          "2024-03-11T00:00:00",
          "2024-03-12T00:00:00",
          "2024-03-13T00:00:00",
          "2024-03-14T00:00:00",
          "2024-03-15T00:00:00",
          "2024-03-18T00:00:00",
          "2024-03-19T00:00:00",
          "2024-03-20T00:00:00",
          "2024-03-21T00:00:00",
          "2024-03-22T00:00:00",
          "2024-03-25T00:00:00",
          "2024-03-26T00:00:00",
          "2024-03-27T00:00:00",
          "2024-03-28T00:00:00",
          "2024-04-01T00:00:00",
          "2024-04-02T00:00:00",
          "2024-04-03T00:00:00",
          "2024-04-04T00:00:00",
          "2024-04-05T00:00:00",
          "2024-04-08T00:00:00",
          "2024-04-09T00:00:00",
          "2024-04-10T00:00:00",
          "2024-04-11T00:00:00",
          "2024-04-12T00:00:00",
          "2024-04-15T00:00:00",
          "2024-04-16T00:00:00",
          "2024-04-17T00:00:00",
          "2024-04-18T00:00:00",
          "2024-04-19T00:00:00",
          "2024-04-22T00:00:00",
          "2024-04-23T00:00:00",
          "2024-04-24T00:00:00",
          "2024-04-25T00:00:00",
          "2024-04-26T00:00:00",
          "2024-04-29T00:00:00",
          "2024-04-30T00:00:00",
          "2024-05-01T00:00:00",
          "2024-05-02T00:00:00",
          "2024-05-03T00:00:00",
          "2024-05-06T00:00:00",
          "2024-05-07T00:00:00",
          "2024-05-08T00:00:00",
          "2024-05-09T00:00:00",
          "2024-05-10T00:00:00",
          "2024-05-13T00:00:00",
          "2024-05-14T00:00:00",
          "2024-05-15T00:00:00",
          "2024-05-16T00:00:00",
          "2024-05-17T00:00:00",
          "2024-05-20T00:00:00",
          "2024-05-21T00:00:00",
          "2024-05-22T00:00:00",
          "2024-05-23T00:00:00",
          "2024-05-24T00:00:00",
          "2024-05-28T00:00:00",
          "2024-05-29T00:00:00",
          "2024-05-30T00:00:00",
          "2024-05-31T00:00:00",
          "2024-06-03T00:00:00",
          "2024-06-04T00:00:00",
          "2024-06-05T00:00:00",
          "2024-06-06T00:00:00",
          "2024-06-07T00:00:00",
          "2024-06-10T00:00:00",
          "2024-06-11T00:00:00",
          "2024-06-12T00:00:00",
          "2024-06-13T00:00:00",
          "2024-06-14T00:00:00",
          "2024-06-17T00:00:00",
          "2024-06-18T00:00:00",
          "2024-06-20T00:00:00",
          "2024-06-21T00:00:00",
          "2024-06-24T00:00:00",
          "2024-06-25T00:00:00",
          "2024-06-26T00:00:00",
          "2024-06-27T00:00:00",
          "2024-06-28T00:00:00",
          "2024-07-01T00:00:00",
          "2024-07-02T00:00:00",
          "2024-07-03T00:00:00",
          "2024-07-05T00:00:00",
          "2024-07-08T00:00:00",
          "2024-07-09T00:00:00",
          "2024-07-10T00:00:00",
          "2024-07-11T00:00:00",
          "2024-07-12T00:00:00",
          "2024-07-15T00:00:00",
          "2024-07-16T00:00:00",
          "2024-07-17T00:00:00",
          "2024-07-18T00:00:00",
          "2024-07-19T00:00:00",
          "2024-07-22T00:00:00",
          "2024-07-23T00:00:00",
          "2024-07-24T00:00:00",
          "2024-07-25T00:00:00"
         ],
         "xaxis": "x",
         "y": [
          0.004752871253405511,
          0.0025018701177810243,
          0.007282095396278221,
          0.0030836884538494314,
          0.011763988254578583,
          0.003983098905675497,
          0.00031935879184974425,
          0.005793315669455845,
          0.0018984684593736922,
          0.008032395141007953,
          -0.014987938056467254,
          0.0009379390168304802,
          0.013623765345434746,
          0.016456079436037774,
          0.002824595861634638,
          0.013970910962946448,
          0.015476555974990536,
          0.009203939167872877,
          0.014273646002045393,
          0.007807671164152596,
          0.003570508964408692,
          0.01346118544363839,
          0.028233018541635513,
          0.03274038194002671,
          0.029724727194661682,
          0.03200784521125555,
          0.03699982360707943,
          0.0444016386650854,
          0.03709913502246143,
          0.035953104908903466,
          0.04563220494376585,
          0.0515936500184595,
          0.03419600752001872,
          0.001945327233861649,
          -0.008079131803078399,
          0.018134325526697692,
          0.0017127185082204122,
          0.006363746357396449,
          0.014439134607152404,
          0.009705176426249684,
          0.021541277126137626,
          0.04094600040125518,
          0.04574169833001385,
          0.018807514513636603,
          0.012942278794385587,
          0.016720933663287862,
          0.009053608831507631,
          0.001884874300308148,
          -0.007896905765879536,
          -0.004303966175693397,
          0.004898037738251704,
          -0.016342574503926732,
          -0.009683926708465629,
          -0.0011380501098510187,
          0.021820955359634686,
          0.027520958142925656,
          0.012393811650899034,
          0.014779339420757154,
          0.01204435437638307,
          0.00827432572480058,
          0.009199973276001305,
          0.010250720430302174,
          -0.0004071182969509479,
          0.013744337667025652,
          0.018172806300495337,
          0.030302863858100326,
          0.027922343967922036,
          0.022568778671569145,
          0.022227990512605378,
          0.026452367218768424,
          0.02645264040479689,
          0.012431214571214433,
          0.019683188604145196,
          0.0035616493408886507,
          -0.0047235313477272944,
          -0.028507847292299604,
          -0.031734351938105365,
          -0.026151933478144374,
          -0.0342562963194315,
          -0.03323919620329474,
          -0.019713481350933426,
          -0.01793161567500834,
          -0.035346757442270116,
          -0.031125498918021743,
          -0.0427127531521837,
          -0.025972991054591943,
          -0.024978771109354092,
          -0.03713370467145416,
          -0.030113792258819605,
          -0.02685437012985248,
          -0.04159685353041298,
          -0.03509077565220853,
          -0.019693348278960077,
          -0.005178925118989763,
          -0.012192881299419867,
          -0.0009885327524106202,
          0.02709166413978048,
          0.02366145711982215,
          0.015176384846396607,
          0.02788515380737122,
          0.033718512271450285,
          0.030360855970142486,
          0.029864815071509065,
          0.032487911170459016,
          0.023077091885599588,
          0.023143302463287663,
          0.005769469241112102,
          0.010144147471834675,
          0.01694040848572409,
          0.017623752936231973,
          0.024336907829292764,
          0.031703837827505854,
          0.04817300669698643,
          0.04229055955163319,
          0.029066378810002402,
          0.044005556230219844,
          0.04145982699248851,
          0.032731118563621986,
          0.0306354752323158,
          0.02320968868127471,
          0.029245224995992247,
          0.028407294199769728,
          0.02576631156788367,
          0.02614711808817627,
          0.044937841895518305,
          0.050989832775435895,
          0.05608098461999578,
          0.05737357136332921,
          0.045615670800662644,
          0.05226086593324508,
          0.05448931309712368,
          0.045182359824806784,
          0.04432724603726412,
          0.033477615143160167,
          0.02920471011077419,
          0.0028259957011835812,
          0.001537566791057543,
          -0.0030739754211093206,
          0.007156418307257217,
          0.014578237856938125,
          -0.0012419234377588628,
          -0.016064772642578773
         ],
         "yaxis": "y"
        }
       ],
       "layout": {
        "annotations": [
         {
          "showarrow": false,
          "text": "y=0",
          "x": 1,
          "xanchor": "right",
          "xref": "x domain",
          "y": 0,
          "yanchor": "bottom",
          "yref": "y"
         },
         {
          "showarrow": false,
          "text": "mean",
          "x": 1,
          "xanchor": "right",
          "xref": "x domain",
          "y": 0.02246240568458565,
          "yanchor": "bottom",
          "yref": "y"
         },
         {
          "showarrow": false,
          "text": "mean + 1 std dev",
          "x": 1,
          "xanchor": "right",
          "xref": "x domain",
          "y": 0.03751344201188603,
          "yanchor": "top",
          "yref": "y"
         },
         {
          "showarrow": false,
          "text": "mean - 1 std dev",
          "x": 1,
          "xanchor": "right",
          "xref": "x domain",
          "y": 0.007411369357285275,
          "yanchor": "top",
          "yref": "y"
         },
         {
          "showarrow": false,
          "text": "mean + 2 std dev",
          "x": 1,
          "xanchor": "right",
          "xref": "x domain",
          "y": 0.0525644783391864,
          "yanchor": "top",
          "yref": "y"
         },
         {
          "showarrow": false,
          "text": "mean - 2 std dev",
          "x": 1,
          "xanchor": "right",
          "xref": "x domain",
          "y": -0.007639666970015099,
          "yanchor": "top",
          "yref": "y"
         }
        ],
        "legend": {
         "title": {
          "text": "variable"
         },
         "tracegroupgap": 0
        },
        "margin": {
         "t": 60
        },
        "shapes": [
         {
          "line": {
           "color": "red",
           "dash": "dash"
          },
          "type": "line",
          "x0": 0,
          "x1": 1,
          "xref": "x domain",
          "y0": 0,
          "y1": 0,
          "yref": "y"
         },
         {
          "line": {
           "color": "red"
          },
          "type": "line",
          "x0": 0,
          "x1": 1,
          "xref": "x domain",
          "y0": 0.02246240568458565,
          "y1": 0.02246240568458565,
          "yref": "y"
         },
         {
          "line": {
           "color": "blue",
           "dash": "dash"
          },
          "type": "line",
          "x0": 0,
          "x1": 1,
          "xref": "x domain",
          "y0": 0.03751344201188603,
          "y1": 0.03751344201188603,
          "yref": "y"
         },
         {
          "line": {
           "color": "blue",
           "dash": "dash"
          },
          "type": "line",
          "x0": 0,
          "x1": 1,
          "xref": "x domain",
          "y0": 0.007411369357285275,
          "y1": 0.007411369357285275,
          "yref": "y"
         },
         {
          "line": {
           "color": "green",
           "dash": "dot"
          },
          "type": "line",
          "x0": 0,
          "x1": 1,
          "xref": "x domain",
          "y0": 0.0525644783391864,
          "y1": 0.0525644783391864,
          "yref": "y"
         },
         {
          "line": {
           "color": "green",
           "dash": "dot"
          },
          "type": "line",
          "x0": 0,
          "x1": 1,
          "xref": "x domain",
          "y0": -0.007639666970015099,
          "y1": -0.007639666970015099,
          "yref": "y"
         },
         {
          "fillcolor": "green",
          "line": {
           "width": 0
          },
          "opacity": 0.2,
          "type": "rect",
          "x0": 0,
          "x1": 1,
          "xref": "paper",
          "y0": 0.02246240568458565,
          "y1": 0.05737357136332921,
          "yref": "y"
         }
        ],
        "template": {
         "data": {
          "bar": [
           {
            "error_x": {
             "color": "#2a3f5f"
            },
            "error_y": {
             "color": "#2a3f5f"
            },
            "marker": {
             "line": {
              "color": "#E5ECF6",
              "width": 0.5
             },
             "pattern": {
              "fillmode": "overlay",
              "size": 10,
              "solidity": 0.2
             }
            },
            "type": "bar"
           }
          ],
          "barpolar": [
           {
            "marker": {
             "line": {
              "color": "#E5ECF6",
              "width": 0.5
             },
             "pattern": {
              "fillmode": "overlay",
              "size": 10,
              "solidity": 0.2
             }
            },
            "type": "barpolar"
           }
          ],
          "carpet": [
           {
            "aaxis": {
             "endlinecolor": "#2a3f5f",
             "gridcolor": "white",
             "linecolor": "white",
             "minorgridcolor": "white",
             "startlinecolor": "#2a3f5f"
            },
            "baxis": {
             "endlinecolor": "#2a3f5f",
             "gridcolor": "white",
             "linecolor": "white",
             "minorgridcolor": "white",
             "startlinecolor": "#2a3f5f"
            },
            "type": "carpet"
           }
          ],
          "choropleth": [
           {
            "colorbar": {
             "outlinewidth": 0,
             "ticks": ""
            },
            "type": "choropleth"
           }
          ],
          "contour": [
           {
            "colorbar": {
             "outlinewidth": 0,
             "ticks": ""
            },
            "colorscale": [
             [
              0,
              "#0d0887"
             ],
             [
              0.1111111111111111,
              "#46039f"
             ],
             [
              0.2222222222222222,
              "#7201a8"
             ],
             [
              0.3333333333333333,
              "#9c179e"
             ],
             [
              0.4444444444444444,
              "#bd3786"
             ],
             [
              0.5555555555555556,
              "#d8576b"
             ],
             [
              0.6666666666666666,
              "#ed7953"
             ],
             [
              0.7777777777777778,
              "#fb9f3a"
             ],
             [
              0.8888888888888888,
              "#fdca26"
             ],
             [
              1,
              "#f0f921"
             ]
            ],
            "type": "contour"
           }
          ],
          "contourcarpet": [
           {
            "colorbar": {
             "outlinewidth": 0,
             "ticks": ""
            },
            "type": "contourcarpet"
           }
          ],
          "heatmap": [
           {
            "colorbar": {
             "outlinewidth": 0,
             "ticks": ""
            },
            "colorscale": [
             [
              0,
              "#0d0887"
             ],
             [
              0.1111111111111111,
              "#46039f"
             ],
             [
              0.2222222222222222,
              "#7201a8"
             ],
             [
              0.3333333333333333,
              "#9c179e"
             ],
             [
              0.4444444444444444,
              "#bd3786"
             ],
             [
              0.5555555555555556,
              "#d8576b"
             ],
             [
              0.6666666666666666,
              "#ed7953"
             ],
             [
              0.7777777777777778,
              "#fb9f3a"
             ],
             [
              0.8888888888888888,
              "#fdca26"
             ],
             [
              1,
              "#f0f921"
             ]
            ],
            "type": "heatmap"
           }
          ],
          "heatmapgl": [
           {
            "colorbar": {
             "outlinewidth": 0,
             "ticks": ""
            },
            "colorscale": [
             [
              0,
              "#0d0887"
             ],
             [
              0.1111111111111111,
              "#46039f"
             ],
             [
              0.2222222222222222,
              "#7201a8"
             ],
             [
              0.3333333333333333,
              "#9c179e"
             ],
             [
              0.4444444444444444,
              "#bd3786"
             ],
             [
              0.5555555555555556,
              "#d8576b"
             ],
             [
              0.6666666666666666,
              "#ed7953"
             ],
             [
              0.7777777777777778,
              "#fb9f3a"
             ],
             [
              0.8888888888888888,
              "#fdca26"
             ],
             [
              1,
              "#f0f921"
             ]
            ],
            "type": "heatmapgl"
           }
          ],
          "histogram": [
           {
            "marker": {
             "pattern": {
              "fillmode": "overlay",
              "size": 10,
              "solidity": 0.2
             }
            },
            "type": "histogram"
           }
          ],
          "histogram2d": [
           {
            "colorbar": {
             "outlinewidth": 0,
             "ticks": ""
            },
            "colorscale": [
             [
              0,
              "#0d0887"
             ],
             [
              0.1111111111111111,
              "#46039f"
             ],
             [
              0.2222222222222222,
              "#7201a8"
             ],
             [
              0.3333333333333333,
              "#9c179e"
             ],
             [
              0.4444444444444444,
              "#bd3786"
             ],
             [
              0.5555555555555556,
              "#d8576b"
             ],
             [
              0.6666666666666666,
              "#ed7953"
             ],
             [
              0.7777777777777778,
              "#fb9f3a"
             ],
             [
              0.8888888888888888,
              "#fdca26"
             ],
             [
              1,
              "#f0f921"
             ]
            ],
            "type": "histogram2d"
           }
          ],
          "histogram2dcontour": [
           {
            "colorbar": {
             "outlinewidth": 0,
             "ticks": ""
            },
            "colorscale": [
             [
              0,
              "#0d0887"
             ],
             [
              0.1111111111111111,
              "#46039f"
             ],
             [
              0.2222222222222222,
              "#7201a8"
             ],
             [
              0.3333333333333333,
              "#9c179e"
             ],
             [
              0.4444444444444444,
              "#bd3786"
             ],
             [
              0.5555555555555556,
              "#d8576b"
             ],
             [
              0.6666666666666666,
              "#ed7953"
             ],
             [
              0.7777777777777778,
              "#fb9f3a"
             ],
             [
              0.8888888888888888,
              "#fdca26"
             ],
             [
              1,
              "#f0f921"
             ]
            ],
            "type": "histogram2dcontour"
           }
          ],
          "mesh3d": [
           {
            "colorbar": {
             "outlinewidth": 0,
             "ticks": ""
            },
            "type": "mesh3d"
           }
          ],
          "parcoords": [
           {
            "line": {
             "colorbar": {
              "outlinewidth": 0,
              "ticks": ""
             }
            },
            "type": "parcoords"
           }
          ],
          "pie": [
           {
            "automargin": true,
            "type": "pie"
           }
          ],
          "scatter": [
           {
            "fillpattern": {
             "fillmode": "overlay",
             "size": 10,
             "solidity": 0.2
            },
            "type": "scatter"
           }
          ],
          "scatter3d": [
           {
            "line": {
             "colorbar": {
              "outlinewidth": 0,
              "ticks": ""
             }
            },
            "marker": {
             "colorbar": {
              "outlinewidth": 0,
              "ticks": ""
             }
            },
            "type": "scatter3d"
           }
          ],
          "scattercarpet": [
           {
            "marker": {
             "colorbar": {
              "outlinewidth": 0,
              "ticks": ""
             }
            },
            "type": "scattercarpet"
           }
          ],
          "scattergeo": [
           {
            "marker": {
             "colorbar": {
              "outlinewidth": 0,
              "ticks": ""
             }
            },
            "type": "scattergeo"
           }
          ],
          "scattergl": [
           {
            "marker": {
             "colorbar": {
              "outlinewidth": 0,
              "ticks": ""
             }
            },
            "type": "scattergl"
           }
          ],
          "scattermapbox": [
           {
            "marker": {
             "colorbar": {
              "outlinewidth": 0,
              "ticks": ""
             }
            },
            "type": "scattermapbox"
           }
          ],
          "scatterpolar": [
           {
            "marker": {
             "colorbar": {
              "outlinewidth": 0,
              "ticks": ""
             }
            },
            "type": "scatterpolar"
           }
          ],
          "scatterpolargl": [
           {
            "marker": {
             "colorbar": {
              "outlinewidth": 0,
              "ticks": ""
             }
            },
            "type": "scatterpolargl"
           }
          ],
          "scatterternary": [
           {
            "marker": {
             "colorbar": {
              "outlinewidth": 0,
              "ticks": ""
             }
            },
            "type": "scatterternary"
           }
          ],
          "surface": [
           {
            "colorbar": {
             "outlinewidth": 0,
             "ticks": ""
            },
            "colorscale": [
             [
              0,
              "#0d0887"
             ],
             [
              0.1111111111111111,
              "#46039f"
             ],
             [
              0.2222222222222222,
              "#7201a8"
             ],
             [
              0.3333333333333333,
              "#9c179e"
             ],
             [
              0.4444444444444444,
              "#bd3786"
             ],
             [
              0.5555555555555556,
              "#d8576b"
             ],
             [
              0.6666666666666666,
              "#ed7953"
             ],
             [
              0.7777777777777778,
              "#fb9f3a"
             ],
             [
              0.8888888888888888,
              "#fdca26"
             ],
             [
              1,
              "#f0f921"
             ]
            ],
            "type": "surface"
           }
          ],
          "table": [
           {
            "cells": {
             "fill": {
              "color": "#EBF0F8"
             },
             "line": {
              "color": "white"
             }
            },
            "header": {
             "fill": {
              "color": "#C8D4E3"
             },
             "line": {
              "color": "white"
             }
            },
            "type": "table"
           }
          ]
         },
         "layout": {
          "annotationdefaults": {
           "arrowcolor": "#2a3f5f",
           "arrowhead": 0,
           "arrowwidth": 1
          },
          "autotypenumbers": "strict",
          "coloraxis": {
           "colorbar": {
            "outlinewidth": 0,
            "ticks": ""
           }
          },
          "colorscale": {
           "diverging": [
            [
             0,
             "#8e0152"
            ],
            [
             0.1,
             "#c51b7d"
            ],
            [
             0.2,
             "#de77ae"
            ],
            [
             0.3,
             "#f1b6da"
            ],
            [
             0.4,
             "#fde0ef"
            ],
            [
             0.5,
             "#f7f7f7"
            ],
            [
             0.6,
             "#e6f5d0"
            ],
            [
             0.7,
             "#b8e186"
            ],
            [
             0.8,
             "#7fbc41"
            ],
            [
             0.9,
             "#4d9221"
            ],
            [
             1,
             "#276419"
            ]
           ],
           "sequential": [
            [
             0,
             "#0d0887"
            ],
            [
             0.1111111111111111,
             "#46039f"
            ],
            [
             0.2222222222222222,
             "#7201a8"
            ],
            [
             0.3333333333333333,
             "#9c179e"
            ],
            [
             0.4444444444444444,
             "#bd3786"
            ],
            [
             0.5555555555555556,
             "#d8576b"
            ],
            [
             0.6666666666666666,
             "#ed7953"
            ],
            [
             0.7777777777777778,
             "#fb9f3a"
            ],
            [
             0.8888888888888888,
             "#fdca26"
            ],
            [
             1,
             "#f0f921"
            ]
           ],
           "sequentialminus": [
            [
             0,
             "#0d0887"
            ],
            [
             0.1111111111111111,
             "#46039f"
            ],
            [
             0.2222222222222222,
             "#7201a8"
            ],
            [
             0.3333333333333333,
             "#9c179e"
            ],
            [
             0.4444444444444444,
             "#bd3786"
            ],
            [
             0.5555555555555556,
             "#d8576b"
            ],
            [
             0.6666666666666666,
             "#ed7953"
            ],
            [
             0.7777777777777778,
             "#fb9f3a"
            ],
            [
             0.8888888888888888,
             "#fdca26"
            ],
            [
             1,
             "#f0f921"
            ]
           ]
          },
          "colorway": [
           "#636efa",
           "#EF553B",
           "#00cc96",
           "#ab63fa",
           "#FFA15A",
           "#19d3f3",
           "#FF6692",
           "#B6E880",
           "#FF97FF",
           "#FECB52"
          ],
          "font": {
           "color": "#2a3f5f"
          },
          "geo": {
           "bgcolor": "white",
           "lakecolor": "white",
           "landcolor": "#E5ECF6",
           "showlakes": true,
           "showland": true,
           "subunitcolor": "white"
          },
          "hoverlabel": {
           "align": "left"
          },
          "hovermode": "closest",
          "mapbox": {
           "style": "light"
          },
          "paper_bgcolor": "white",
          "plot_bgcolor": "#E5ECF6",
          "polar": {
           "angularaxis": {
            "gridcolor": "white",
            "linecolor": "white",
            "ticks": ""
           },
           "bgcolor": "#E5ECF6",
           "radialaxis": {
            "gridcolor": "white",
            "linecolor": "white",
            "ticks": ""
           }
          },
          "scene": {
           "xaxis": {
            "backgroundcolor": "#E5ECF6",
            "gridcolor": "white",
            "gridwidth": 2,
            "linecolor": "white",
            "showbackground": true,
            "ticks": "",
            "zerolinecolor": "white"
           },
           "yaxis": {
            "backgroundcolor": "#E5ECF6",
            "gridcolor": "white",
            "gridwidth": 2,
            "linecolor": "white",
            "showbackground": true,
            "ticks": "",
            "zerolinecolor": "white"
           },
           "zaxis": {
            "backgroundcolor": "#E5ECF6",
            "gridcolor": "white",
            "gridwidth": 2,
            "linecolor": "white",
            "showbackground": true,
            "ticks": "",
            "zerolinecolor": "white"
           }
          },
          "shapedefaults": {
           "line": {
            "color": "#2a3f5f"
           }
          },
          "ternary": {
           "aaxis": {
            "gridcolor": "white",
            "linecolor": "white",
            "ticks": ""
           },
           "baxis": {
            "gridcolor": "white",
            "linecolor": "white",
            "ticks": ""
           },
           "bgcolor": "#E5ECF6",
           "caxis": {
            "gridcolor": "white",
            "linecolor": "white",
            "ticks": ""
           }
          },
          "title": {
           "x": 0.05
          },
          "xaxis": {
           "automargin": true,
           "gridcolor": "white",
           "linecolor": "white",
           "ticks": "",
           "title": {
            "standoff": 15
           },
           "zerolinecolor": "white",
           "zerolinewidth": 2
          },
          "yaxis": {
           "automargin": true,
           "gridcolor": "white",
           "linecolor": "white",
           "ticks": "",
           "title": {
            "standoff": 15
           },
           "zerolinecolor": "white",
           "zerolinewidth": 2
          }
         }
        },
        "title": {
         "text": "Benchmark_minus_XLP"
        },
        "xaxis": {
         "anchor": "y",
         "domain": [
          0,
          1
         ],
         "title": {
          "text": "Date"
         }
        },
        "yaxis": {
         "anchor": "x",
         "domain": [
          0,
          1
         ],
         "title": {
          "text": "value"
         }
        }
       }
      }
     },
     "metadata": {},
     "output_type": "display_data"
    },
    {
     "name": "stderr",
     "output_type": "stream",
     "text": [
      "C:\\Users\\kevin\\AppData\\Local\\Temp\\ipykernel_15944\\2813995731.py:68: FutureWarning:\n",
      "\n",
      "last is deprecated and will be removed in a future version. Please create a mask and filter using `.loc` instead\n",
      "\n",
      "C:\\Users\\kevin\\AppData\\Local\\Temp\\ipykernel_15944\\2813995731.py:68: FutureWarning:\n",
      "\n",
      "'Y' is deprecated and will be removed in a future version, please use 'YE' instead.\n",
      "\n"
     ]
    },
    {
     "data": {
      "application/vnd.plotly.v1+json": {
       "config": {
        "plotlyServerURL": "https://plot.ly"
       },
       "data": [
        {
         "hovertemplate": "variable=Benchmark_minus_XLP<br>Date=%{x}<br>value=%{y}<extra></extra>",
         "legendgroup": "Benchmark_minus_XLP",
         "line": {
          "color": "#636efa",
          "dash": "solid"
         },
         "marker": {
          "symbol": "circle"
         },
         "mode": "lines",
         "name": "Benchmark_minus_XLP",
         "orientation": "v",
         "showlegend": true,
         "type": "scatter",
         "x": [
          "2024-01-02T00:00:00",
          "2024-01-03T00:00:00",
          "2024-01-04T00:00:00",
          "2024-01-05T00:00:00",
          "2024-01-08T00:00:00",
          "2024-01-09T00:00:00",
          "2024-01-10T00:00:00",
          "2024-01-11T00:00:00",
          "2024-01-12T00:00:00",
          "2024-01-16T00:00:00",
          "2024-01-17T00:00:00",
          "2024-01-18T00:00:00",
          "2024-01-19T00:00:00",
          "2024-01-22T00:00:00",
          "2024-01-23T00:00:00",
          "2024-01-24T00:00:00",
          "2024-01-25T00:00:00",
          "2024-01-26T00:00:00",
          "2024-01-29T00:00:00",
          "2024-01-30T00:00:00",
          "2024-01-31T00:00:00",
          "2024-02-01T00:00:00",
          "2024-02-02T00:00:00",
          "2024-02-05T00:00:00",
          "2024-02-06T00:00:00",
          "2024-02-07T00:00:00",
          "2024-02-08T00:00:00",
          "2024-02-09T00:00:00",
          "2024-02-12T00:00:00",
          "2024-02-13T00:00:00",
          "2024-02-14T00:00:00",
          "2024-02-15T00:00:00",
          "2024-02-16T00:00:00",
          "2024-02-20T00:00:00",
          "2024-02-21T00:00:00",
          "2024-02-22T00:00:00",
          "2024-02-23T00:00:00",
          "2024-02-26T00:00:00",
          "2024-02-27T00:00:00",
          "2024-02-28T00:00:00",
          "2024-02-29T00:00:00",
          "2024-03-01T00:00:00",
          "2024-03-04T00:00:00",
          "2024-03-05T00:00:00",
          "2024-03-06T00:00:00",
          "2024-03-07T00:00:00",
          "2024-03-08T00:00:00",
          "2024-03-11T00:00:00",
          "2024-03-12T00:00:00",
          "2024-03-13T00:00:00",
          "2024-03-14T00:00:00",
          "2024-03-15T00:00:00",
          "2024-03-18T00:00:00",
          "2024-03-19T00:00:00",
          "2024-03-20T00:00:00",
          "2024-03-21T00:00:00",
          "2024-03-22T00:00:00",
          "2024-03-25T00:00:00",
          "2024-03-26T00:00:00",
          "2024-03-27T00:00:00",
          "2024-03-28T00:00:00",
          "2024-04-01T00:00:00",
          "2024-04-02T00:00:00",
          "2024-04-03T00:00:00",
          "2024-04-04T00:00:00",
          "2024-04-05T00:00:00",
          "2024-04-08T00:00:00",
          "2024-04-09T00:00:00",
          "2024-04-10T00:00:00",
          "2024-04-11T00:00:00",
          "2024-04-12T00:00:00",
          "2024-04-15T00:00:00",
          "2024-04-16T00:00:00",
          "2024-04-17T00:00:00",
          "2024-04-18T00:00:00",
          "2024-04-19T00:00:00",
          "2024-04-22T00:00:00",
          "2024-04-23T00:00:00",
          "2024-04-24T00:00:00",
          "2024-04-25T00:00:00",
          "2024-04-26T00:00:00",
          "2024-04-29T00:00:00",
          "2024-04-30T00:00:00",
          "2024-05-01T00:00:00",
          "2024-05-02T00:00:00",
          "2024-05-03T00:00:00",
          "2024-05-06T00:00:00",
          "2024-05-07T00:00:00",
          "2024-05-08T00:00:00",
          "2024-05-09T00:00:00",
          "2024-05-10T00:00:00",
          "2024-05-13T00:00:00",
          "2024-05-14T00:00:00",
          "2024-05-15T00:00:00",
          "2024-05-16T00:00:00",
          "2024-05-17T00:00:00",
          "2024-05-20T00:00:00",
          "2024-05-21T00:00:00",
          "2024-05-22T00:00:00",
          "2024-05-23T00:00:00",
          "2024-05-24T00:00:00",
          "2024-05-28T00:00:00",
          "2024-05-29T00:00:00",
          "2024-05-30T00:00:00",
          "2024-05-31T00:00:00",
          "2024-06-03T00:00:00",
          "2024-06-04T00:00:00",
          "2024-06-05T00:00:00",
          "2024-06-06T00:00:00",
          "2024-06-07T00:00:00",
          "2024-06-10T00:00:00",
          "2024-06-11T00:00:00",
          "2024-06-12T00:00:00",
          "2024-06-13T00:00:00",
          "2024-06-14T00:00:00",
          "2024-06-17T00:00:00",
          "2024-06-18T00:00:00",
          "2024-06-20T00:00:00",
          "2024-06-21T00:00:00",
          "2024-06-24T00:00:00",
          "2024-06-25T00:00:00",
          "2024-06-26T00:00:00",
          "2024-06-27T00:00:00",
          "2024-06-28T00:00:00",
          "2024-07-01T00:00:00",
          "2024-07-02T00:00:00",
          "2024-07-03T00:00:00",
          "2024-07-05T00:00:00",
          "2024-07-08T00:00:00",
          "2024-07-09T00:00:00",
          "2024-07-10T00:00:00",
          "2024-07-11T00:00:00",
          "2024-07-12T00:00:00",
          "2024-07-15T00:00:00",
          "2024-07-16T00:00:00",
          "2024-07-17T00:00:00",
          "2024-07-18T00:00:00",
          "2024-07-19T00:00:00",
          "2024-07-22T00:00:00",
          "2024-07-23T00:00:00",
          "2024-07-24T00:00:00",
          "2024-07-25T00:00:00"
         ],
         "xaxis": "x",
         "y": [
          0.029756566825426045,
          0.038685801998679326,
          0.03643618664271675,
          0.0410426247317619,
          0.06892361629262456,
          0.0711792830015392,
          0.07029973451304583,
          0.07299866398317856,
          0.0670403774008268,
          0.05566497749373944,
          0.04282135205745363,
          0.045105877033484454,
          0.06095217392964836,
          0.06779138099733695,
          0.054783805972902666,
          0.07340803571942334,
          0.059479708266973796,
          0.05740200179344335,
          0.049586870841161534,
          0.04891762715856851,
          0.024516229606772022,
          0.014404338448779752,
          0.02013711766601123,
          0.028367744069161205,
          0.03245094764479517,
          0.045715490000995285,
          0.04547196589761948,
          0.06512779439804595,
          0.04954105348864246,
          0.05170728177568473,
          0.061307298230532936,
          0.06925275191767799,
          0.05424971426522007,
          0.03901359160717299,
          0.032375170123091435,
          0.03945228152538416,
          0.04275311405180515,
          0.04139431172041874,
          0.047137868836747865,
          0.02581859080268578,
          0.03750556506965497,
          0.04434243233867985,
          0.03781686202164636,
          0.018862092492122118,
          0.01258999905865843,
          0.023153467780319348,
          0.024938131790512852,
          0.021193465534432798,
          0.027339537766277955,
          0.028345686450595764,
          0.052153299831579014,
          0.04243582896135334,
          0.05195637765234706,
          0.05033455808112186,
          0.04938656491314353,
          0.056868467092642705,
          0.05153200643120193,
          0.05174125809336694,
          0.0517063572716745,
          0.048257919939827865,
          0.05209363305104553,
          0.04754889605566648,
          0.029531877817816632,
          0.03491192187082737,
          0.034313196889501185,
          0.029795347566286212,
          0.0360453203406661,
          0.038620029979487214,
          0.029263730711565294,
          0.04610560522842544,
          0.051615024861062064,
          0.0490473088600929,
          0.03286128409128497,
          0.020719035664203744,
          0.013380604665773954,
          -0.014437929300009977,
          -0.015621262279003068,
          -0.021896889052743118,
          -0.02239465647431227,
          -0.020905122256652753,
          -0.02031681003928565,
          -0.020318235316927113,
          -0.025349928691889234,
          -0.005872347829885438,
          -0.0021678354564573787,
          -0.010372299945832886,
          0.0019257166093182843,
          -0.008441876928493075,
          -0.007012464172782007,
          -0.00752473194184744,
          -0.017464756449140362,
          -0.023768227826918453,
          -0.015162712862805572,
          0.009754216216101286,
          -0.003598537466347196,
          -0.003901219334583539,
          0.0024445568261943773,
          0.005398108362923093,
          0.0007659199893619295,
          0.00951270918037661,
          0.007757467782166572,
          0.026346960870291314,
          0.01932251560007603,
          0.00796623661277418,
          -0.004795560536547949,
          -0.006379138469860379,
          -0.017160442564978284,
          -0.0028859421340059477,
          -0.00363515650846602,
          0.0023616269144000057,
          0.007830530119741663,
          0.004430370504902248,
          0.02549044318421667,
          0.013766406941033926,
          0.020984151225629688,
          0.010232287464654322,
          0.00942583744841019,
          0.012672958276308544,
          0.013894745725491209,
          -0.003230990849717008,
          0.011596924696693378,
          0.024334843682983998,
          0.03296611262181237,
          0.04363532283490357,
          0.06025771272217262,
          0.08013912717249871,
          0.08637234204695132,
          0.07008061332989879,
          0.08115625769106694,
          0.0866408757477295,
          0.08045034531914652,
          0.07412902149804923,
          0.08973455498461047,
          0.09588144497213902,
          0.090841001805956,
          0.05159285396831437,
          0.03785723622598525,
          0.04412945343215746,
          0.051258930983506756,
          0.055803006435529934,
          0.03695807431335818,
          0.029183240330566296
         ],
         "yaxis": "y"
        }
       ],
       "layout": {
        "annotations": [
         {
          "showarrow": false,
          "text": "y=0",
          "x": 1,
          "xanchor": "right",
          "xref": "x domain",
          "y": 0,
          "yanchor": "bottom",
          "yref": "y"
         },
         {
          "showarrow": false,
          "text": "mean",
          "x": 1,
          "xanchor": "right",
          "xref": "x domain",
          "y": 0.0410091203557816,
          "yanchor": "bottom",
          "yref": "y"
         },
         {
          "showarrow": false,
          "text": "mean + 1 std dev",
          "x": 1,
          "xanchor": "right",
          "xref": "x domain",
          "y": 0.06339819003899425,
          "yanchor": "top",
          "yref": "y"
         },
         {
          "showarrow": false,
          "text": "mean - 1 std dev",
          "x": 1,
          "xanchor": "right",
          "xref": "x domain",
          "y": 0.01862005067256895,
          "yanchor": "top",
          "yref": "y"
         },
         {
          "showarrow": false,
          "text": "mean + 2 std dev",
          "x": 1,
          "xanchor": "right",
          "xref": "x domain",
          "y": 0.08578725972220691,
          "yanchor": "top",
          "yref": "y"
         },
         {
          "showarrow": false,
          "text": "mean - 2 std dev",
          "x": 1,
          "xanchor": "right",
          "xref": "x domain",
          "y": -0.0037690190106436997,
          "yanchor": "top",
          "yref": "y"
         }
        ],
        "legend": {
         "title": {
          "text": "variable"
         },
         "tracegroupgap": 0
        },
        "margin": {
         "t": 60
        },
        "shapes": [
         {
          "line": {
           "color": "red",
           "dash": "dash"
          },
          "type": "line",
          "x0": 0,
          "x1": 1,
          "xref": "x domain",
          "y0": 0,
          "y1": 0,
          "yref": "y"
         },
         {
          "line": {
           "color": "red"
          },
          "type": "line",
          "x0": 0,
          "x1": 1,
          "xref": "x domain",
          "y0": 0.0410091203557816,
          "y1": 0.0410091203557816,
          "yref": "y"
         },
         {
          "line": {
           "color": "blue",
           "dash": "dash"
          },
          "type": "line",
          "x0": 0,
          "x1": 1,
          "xref": "x domain",
          "y0": 0.06339819003899425,
          "y1": 0.06339819003899425,
          "yref": "y"
         },
         {
          "line": {
           "color": "blue",
           "dash": "dash"
          },
          "type": "line",
          "x0": 0,
          "x1": 1,
          "xref": "x domain",
          "y0": 0.01862005067256895,
          "y1": 0.01862005067256895,
          "yref": "y"
         },
         {
          "line": {
           "color": "green",
           "dash": "dot"
          },
          "type": "line",
          "x0": 0,
          "x1": 1,
          "xref": "x domain",
          "y0": 0.08578725972220691,
          "y1": 0.08578725972220691,
          "yref": "y"
         },
         {
          "line": {
           "color": "green",
           "dash": "dot"
          },
          "type": "line",
          "x0": 0,
          "x1": 1,
          "xref": "x domain",
          "y0": -0.0037690190106436997,
          "y1": -0.0037690190106436997,
          "yref": "y"
         },
         {
          "fillcolor": "green",
          "line": {
           "width": 0
          },
          "opacity": 0.2,
          "type": "rect",
          "x0": 0,
          "x1": 1,
          "xref": "paper",
          "y0": 0.0410091203557816,
          "y1": 0.09588144497213902,
          "yref": "y"
         }
        ],
        "template": {
         "data": {
          "bar": [
           {
            "error_x": {
             "color": "#2a3f5f"
            },
            "error_y": {
             "color": "#2a3f5f"
            },
            "marker": {
             "line": {
              "color": "#E5ECF6",
              "width": 0.5
             },
             "pattern": {
              "fillmode": "overlay",
              "size": 10,
              "solidity": 0.2
             }
            },
            "type": "bar"
           }
          ],
          "barpolar": [
           {
            "marker": {
             "line": {
              "color": "#E5ECF6",
              "width": 0.5
             },
             "pattern": {
              "fillmode": "overlay",
              "size": 10,
              "solidity": 0.2
             }
            },
            "type": "barpolar"
           }
          ],
          "carpet": [
           {
            "aaxis": {
             "endlinecolor": "#2a3f5f",
             "gridcolor": "white",
             "linecolor": "white",
             "minorgridcolor": "white",
             "startlinecolor": "#2a3f5f"
            },
            "baxis": {
             "endlinecolor": "#2a3f5f",
             "gridcolor": "white",
             "linecolor": "white",
             "minorgridcolor": "white",
             "startlinecolor": "#2a3f5f"
            },
            "type": "carpet"
           }
          ],
          "choropleth": [
           {
            "colorbar": {
             "outlinewidth": 0,
             "ticks": ""
            },
            "type": "choropleth"
           }
          ],
          "contour": [
           {
            "colorbar": {
             "outlinewidth": 0,
             "ticks": ""
            },
            "colorscale": [
             [
              0,
              "#0d0887"
             ],
             [
              0.1111111111111111,
              "#46039f"
             ],
             [
              0.2222222222222222,
              "#7201a8"
             ],
             [
              0.3333333333333333,
              "#9c179e"
             ],
             [
              0.4444444444444444,
              "#bd3786"
             ],
             [
              0.5555555555555556,
              "#d8576b"
             ],
             [
              0.6666666666666666,
              "#ed7953"
             ],
             [
              0.7777777777777778,
              "#fb9f3a"
             ],
             [
              0.8888888888888888,
              "#fdca26"
             ],
             [
              1,
              "#f0f921"
             ]
            ],
            "type": "contour"
           }
          ],
          "contourcarpet": [
           {
            "colorbar": {
             "outlinewidth": 0,
             "ticks": ""
            },
            "type": "contourcarpet"
           }
          ],
          "heatmap": [
           {
            "colorbar": {
             "outlinewidth": 0,
             "ticks": ""
            },
            "colorscale": [
             [
              0,
              "#0d0887"
             ],
             [
              0.1111111111111111,
              "#46039f"
             ],
             [
              0.2222222222222222,
              "#7201a8"
             ],
             [
              0.3333333333333333,
              "#9c179e"
             ],
             [
              0.4444444444444444,
              "#bd3786"
             ],
             [
              0.5555555555555556,
              "#d8576b"
             ],
             [
              0.6666666666666666,
              "#ed7953"
             ],
             [
              0.7777777777777778,
              "#fb9f3a"
             ],
             [
              0.8888888888888888,
              "#fdca26"
             ],
             [
              1,
              "#f0f921"
             ]
            ],
            "type": "heatmap"
           }
          ],
          "heatmapgl": [
           {
            "colorbar": {
             "outlinewidth": 0,
             "ticks": ""
            },
            "colorscale": [
             [
              0,
              "#0d0887"
             ],
             [
              0.1111111111111111,
              "#46039f"
             ],
             [
              0.2222222222222222,
              "#7201a8"
             ],
             [
              0.3333333333333333,
              "#9c179e"
             ],
             [
              0.4444444444444444,
              "#bd3786"
             ],
             [
              0.5555555555555556,
              "#d8576b"
             ],
             [
              0.6666666666666666,
              "#ed7953"
             ],
             [
              0.7777777777777778,
              "#fb9f3a"
             ],
             [
              0.8888888888888888,
              "#fdca26"
             ],
             [
              1,
              "#f0f921"
             ]
            ],
            "type": "heatmapgl"
           }
          ],
          "histogram": [
           {
            "marker": {
             "pattern": {
              "fillmode": "overlay",
              "size": 10,
              "solidity": 0.2
             }
            },
            "type": "histogram"
           }
          ],
          "histogram2d": [
           {
            "colorbar": {
             "outlinewidth": 0,
             "ticks": ""
            },
            "colorscale": [
             [
              0,
              "#0d0887"
             ],
             [
              0.1111111111111111,
              "#46039f"
             ],
             [
              0.2222222222222222,
              "#7201a8"
             ],
             [
              0.3333333333333333,
              "#9c179e"
             ],
             [
              0.4444444444444444,
              "#bd3786"
             ],
             [
              0.5555555555555556,
              "#d8576b"
             ],
             [
              0.6666666666666666,
              "#ed7953"
             ],
             [
              0.7777777777777778,
              "#fb9f3a"
             ],
             [
              0.8888888888888888,
              "#fdca26"
             ],
             [
              1,
              "#f0f921"
             ]
            ],
            "type": "histogram2d"
           }
          ],
          "histogram2dcontour": [
           {
            "colorbar": {
             "outlinewidth": 0,
             "ticks": ""
            },
            "colorscale": [
             [
              0,
              "#0d0887"
             ],
             [
              0.1111111111111111,
              "#46039f"
             ],
             [
              0.2222222222222222,
              "#7201a8"
             ],
             [
              0.3333333333333333,
              "#9c179e"
             ],
             [
              0.4444444444444444,
              "#bd3786"
             ],
             [
              0.5555555555555556,
              "#d8576b"
             ],
             [
              0.6666666666666666,
              "#ed7953"
             ],
             [
              0.7777777777777778,
              "#fb9f3a"
             ],
             [
              0.8888888888888888,
              "#fdca26"
             ],
             [
              1,
              "#f0f921"
             ]
            ],
            "type": "histogram2dcontour"
           }
          ],
          "mesh3d": [
           {
            "colorbar": {
             "outlinewidth": 0,
             "ticks": ""
            },
            "type": "mesh3d"
           }
          ],
          "parcoords": [
           {
            "line": {
             "colorbar": {
              "outlinewidth": 0,
              "ticks": ""
             }
            },
            "type": "parcoords"
           }
          ],
          "pie": [
           {
            "automargin": true,
            "type": "pie"
           }
          ],
          "scatter": [
           {
            "fillpattern": {
             "fillmode": "overlay",
             "size": 10,
             "solidity": 0.2
            },
            "type": "scatter"
           }
          ],
          "scatter3d": [
           {
            "line": {
             "colorbar": {
              "outlinewidth": 0,
              "ticks": ""
             }
            },
            "marker": {
             "colorbar": {
              "outlinewidth": 0,
              "ticks": ""
             }
            },
            "type": "scatter3d"
           }
          ],
          "scattercarpet": [
           {
            "marker": {
             "colorbar": {
              "outlinewidth": 0,
              "ticks": ""
             }
            },
            "type": "scattercarpet"
           }
          ],
          "scattergeo": [
           {
            "marker": {
             "colorbar": {
              "outlinewidth": 0,
              "ticks": ""
             }
            },
            "type": "scattergeo"
           }
          ],
          "scattergl": [
           {
            "marker": {
             "colorbar": {
              "outlinewidth": 0,
              "ticks": ""
             }
            },
            "type": "scattergl"
           }
          ],
          "scattermapbox": [
           {
            "marker": {
             "colorbar": {
              "outlinewidth": 0,
              "ticks": ""
             }
            },
            "type": "scattermapbox"
           }
          ],
          "scatterpolar": [
           {
            "marker": {
             "colorbar": {
              "outlinewidth": 0,
              "ticks": ""
             }
            },
            "type": "scatterpolar"
           }
          ],
          "scatterpolargl": [
           {
            "marker": {
             "colorbar": {
              "outlinewidth": 0,
              "ticks": ""
             }
            },
            "type": "scatterpolargl"
           }
          ],
          "scatterternary": [
           {
            "marker": {
             "colorbar": {
              "outlinewidth": 0,
              "ticks": ""
             }
            },
            "type": "scatterternary"
           }
          ],
          "surface": [
           {
            "colorbar": {
             "outlinewidth": 0,
             "ticks": ""
            },
            "colorscale": [
             [
              0,
              "#0d0887"
             ],
             [
              0.1111111111111111,
              "#46039f"
             ],
             [
              0.2222222222222222,
              "#7201a8"
             ],
             [
              0.3333333333333333,
              "#9c179e"
             ],
             [
              0.4444444444444444,
              "#bd3786"
             ],
             [
              0.5555555555555556,
              "#d8576b"
             ],
             [
              0.6666666666666666,
              "#ed7953"
             ],
             [
              0.7777777777777778,
              "#fb9f3a"
             ],
             [
              0.8888888888888888,
              "#fdca26"
             ],
             [
              1,
              "#f0f921"
             ]
            ],
            "type": "surface"
           }
          ],
          "table": [
           {
            "cells": {
             "fill": {
              "color": "#EBF0F8"
             },
             "line": {
              "color": "white"
             }
            },
            "header": {
             "fill": {
              "color": "#C8D4E3"
             },
             "line": {
              "color": "white"
             }
            },
            "type": "table"
           }
          ]
         },
         "layout": {
          "annotationdefaults": {
           "arrowcolor": "#2a3f5f",
           "arrowhead": 0,
           "arrowwidth": 1
          },
          "autotypenumbers": "strict",
          "coloraxis": {
           "colorbar": {
            "outlinewidth": 0,
            "ticks": ""
           }
          },
          "colorscale": {
           "diverging": [
            [
             0,
             "#8e0152"
            ],
            [
             0.1,
             "#c51b7d"
            ],
            [
             0.2,
             "#de77ae"
            ],
            [
             0.3,
             "#f1b6da"
            ],
            [
             0.4,
             "#fde0ef"
            ],
            [
             0.5,
             "#f7f7f7"
            ],
            [
             0.6,
             "#e6f5d0"
            ],
            [
             0.7,
             "#b8e186"
            ],
            [
             0.8,
             "#7fbc41"
            ],
            [
             0.9,
             "#4d9221"
            ],
            [
             1,
             "#276419"
            ]
           ],
           "sequential": [
            [
             0,
             "#0d0887"
            ],
            [
             0.1111111111111111,
             "#46039f"
            ],
            [
             0.2222222222222222,
             "#7201a8"
            ],
            [
             0.3333333333333333,
             "#9c179e"
            ],
            [
             0.4444444444444444,
             "#bd3786"
            ],
            [
             0.5555555555555556,
             "#d8576b"
            ],
            [
             0.6666666666666666,
             "#ed7953"
            ],
            [
             0.7777777777777778,
             "#fb9f3a"
            ],
            [
             0.8888888888888888,
             "#fdca26"
            ],
            [
             1,
             "#f0f921"
            ]
           ],
           "sequentialminus": [
            [
             0,
             "#0d0887"
            ],
            [
             0.1111111111111111,
             "#46039f"
            ],
            [
             0.2222222222222222,
             "#7201a8"
            ],
            [
             0.3333333333333333,
             "#9c179e"
            ],
            [
             0.4444444444444444,
             "#bd3786"
            ],
            [
             0.5555555555555556,
             "#d8576b"
            ],
            [
             0.6666666666666666,
             "#ed7953"
            ],
            [
             0.7777777777777778,
             "#fb9f3a"
            ],
            [
             0.8888888888888888,
             "#fdca26"
            ],
            [
             1,
             "#f0f921"
            ]
           ]
          },
          "colorway": [
           "#636efa",
           "#EF553B",
           "#00cc96",
           "#ab63fa",
           "#FFA15A",
           "#19d3f3",
           "#FF6692",
           "#B6E880",
           "#FF97FF",
           "#FECB52"
          ],
          "font": {
           "color": "#2a3f5f"
          },
          "geo": {
           "bgcolor": "white",
           "lakecolor": "white",
           "landcolor": "#E5ECF6",
           "showlakes": true,
           "showland": true,
           "subunitcolor": "white"
          },
          "hoverlabel": {
           "align": "left"
          },
          "hovermode": "closest",
          "mapbox": {
           "style": "light"
          },
          "paper_bgcolor": "white",
          "plot_bgcolor": "#E5ECF6",
          "polar": {
           "angularaxis": {
            "gridcolor": "white",
            "linecolor": "white",
            "ticks": ""
           },
           "bgcolor": "#E5ECF6",
           "radialaxis": {
            "gridcolor": "white",
            "linecolor": "white",
            "ticks": ""
           }
          },
          "scene": {
           "xaxis": {
            "backgroundcolor": "#E5ECF6",
            "gridcolor": "white",
            "gridwidth": 2,
            "linecolor": "white",
            "showbackground": true,
            "ticks": "",
            "zerolinecolor": "white"
           },
           "yaxis": {
            "backgroundcolor": "#E5ECF6",
            "gridcolor": "white",
            "gridwidth": 2,
            "linecolor": "white",
            "showbackground": true,
            "ticks": "",
            "zerolinecolor": "white"
           },
           "zaxis": {
            "backgroundcolor": "#E5ECF6",
            "gridcolor": "white",
            "gridwidth": 2,
            "linecolor": "white",
            "showbackground": true,
            "ticks": "",
            "zerolinecolor": "white"
           }
          },
          "shapedefaults": {
           "line": {
            "color": "#2a3f5f"
           }
          },
          "ternary": {
           "aaxis": {
            "gridcolor": "white",
            "linecolor": "white",
            "ticks": ""
           },
           "baxis": {
            "gridcolor": "white",
            "linecolor": "white",
            "ticks": ""
           },
           "bgcolor": "#E5ECF6",
           "caxis": {
            "gridcolor": "white",
            "linecolor": "white",
            "ticks": ""
           }
          },
          "title": {
           "x": 0.05
          },
          "xaxis": {
           "automargin": true,
           "gridcolor": "white",
           "linecolor": "white",
           "ticks": "",
           "title": {
            "standoff": 15
           },
           "zerolinecolor": "white",
           "zerolinewidth": 2
          },
          "yaxis": {
           "automargin": true,
           "gridcolor": "white",
           "linecolor": "white",
           "ticks": "",
           "title": {
            "standoff": 15
           },
           "zerolinecolor": "white",
           "zerolinewidth": 2
          }
         }
        },
        "title": {
         "text": "Benchmark_minus_XLP"
        },
        "xaxis": {
         "anchor": "y",
         "domain": [
          0,
          1
         ],
         "title": {
          "text": "Date"
         }
        },
        "yaxis": {
         "anchor": "x",
         "domain": [
          0,
          1
         ],
         "title": {
          "text": "value"
         }
        }
       }
      }
     },
     "metadata": {},
     "output_type": "display_data"
    },
    {
     "name": "stderr",
     "output_type": "stream",
     "text": [
      "C:\\Users\\kevin\\AppData\\Local\\Temp\\ipykernel_15944\\2813995731.py:112: FutureWarning:\n",
      "\n",
      "last is deprecated and will be removed in a future version. Please create a mask and filter using `.loc` instead\n",
      "\n",
      "C:\\Users\\kevin\\AppData\\Local\\Temp\\ipykernel_15944\\2813995731.py:112: FutureWarning:\n",
      "\n",
      "'Y' is deprecated and will be removed in a future version, please use 'YE' instead.\n",
      "\n"
     ]
    },
    {
     "data": {
      "application/vnd.plotly.v1+json": {
       "config": {
        "plotlyServerURL": "https://plot.ly"
       },
       "data": [
        {
         "hovertemplate": "variable=XLP<br>Date=%{x}<br>value=%{y}<extra></extra>",
         "legendgroup": "XLP",
         "line": {
          "color": "#636efa",
          "dash": "solid"
         },
         "marker": {
          "symbol": "circle"
         },
         "mode": "lines",
         "name": "XLP",
         "orientation": "v",
         "showlegend": true,
         "type": "scatter",
         "x": [
          "2024-01-02T00:00:00",
          "2024-01-03T00:00:00",
          "2024-01-04T00:00:00",
          "2024-01-05T00:00:00",
          "2024-01-08T00:00:00",
          "2024-01-09T00:00:00",
          "2024-01-10T00:00:00",
          "2024-01-11T00:00:00",
          "2024-01-12T00:00:00",
          "2024-01-16T00:00:00",
          "2024-01-17T00:00:00",
          "2024-01-18T00:00:00",
          "2024-01-19T00:00:00",
          "2024-01-22T00:00:00",
          "2024-01-23T00:00:00",
          "2024-01-24T00:00:00",
          "2024-01-25T00:00:00",
          "2024-01-26T00:00:00",
          "2024-01-29T00:00:00",
          "2024-01-30T00:00:00",
          "2024-01-31T00:00:00",
          "2024-02-01T00:00:00",
          "2024-02-02T00:00:00",
          "2024-02-05T00:00:00",
          "2024-02-06T00:00:00",
          "2024-02-07T00:00:00",
          "2024-02-08T00:00:00",
          "2024-02-09T00:00:00",
          "2024-02-12T00:00:00",
          "2024-02-13T00:00:00",
          "2024-02-14T00:00:00",
          "2024-02-15T00:00:00",
          "2024-02-16T00:00:00",
          "2024-02-20T00:00:00",
          "2024-02-21T00:00:00",
          "2024-02-22T00:00:00",
          "2024-02-23T00:00:00",
          "2024-02-26T00:00:00",
          "2024-02-27T00:00:00",
          "2024-02-28T00:00:00",
          "2024-02-29T00:00:00",
          "2024-03-01T00:00:00",
          "2024-03-04T00:00:00",
          "2024-03-05T00:00:00",
          "2024-03-06T00:00:00",
          "2024-03-07T00:00:00",
          "2024-03-08T00:00:00",
          "2024-03-11T00:00:00",
          "2024-03-12T00:00:00",
          "2024-03-13T00:00:00",
          "2024-03-14T00:00:00",
          "2024-03-15T00:00:00",
          "2024-03-18T00:00:00",
          "2024-03-19T00:00:00",
          "2024-03-20T00:00:00",
          "2024-03-21T00:00:00",
          "2024-03-22T00:00:00",
          "2024-03-25T00:00:00",
          "2024-03-26T00:00:00",
          "2024-03-27T00:00:00",
          "2024-03-28T00:00:00",
          "2024-04-01T00:00:00",
          "2024-04-02T00:00:00",
          "2024-04-03T00:00:00",
          "2024-04-04T00:00:00",
          "2024-04-05T00:00:00",
          "2024-04-08T00:00:00",
          "2024-04-09T00:00:00",
          "2024-04-10T00:00:00",
          "2024-04-11T00:00:00",
          "2024-04-12T00:00:00",
          "2024-04-15T00:00:00",
          "2024-04-16T00:00:00",
          "2024-04-17T00:00:00",
          "2024-04-18T00:00:00",
          "2024-04-19T00:00:00",
          "2024-04-22T00:00:00",
          "2024-04-23T00:00:00",
          "2024-04-24T00:00:00",
          "2024-04-25T00:00:00",
          "2024-04-26T00:00:00",
          "2024-04-29T00:00:00",
          "2024-04-30T00:00:00",
          "2024-05-01T00:00:00",
          "2024-05-02T00:00:00",
          "2024-05-03T00:00:00",
          "2024-05-06T00:00:00",
          "2024-05-07T00:00:00",
          "2024-05-08T00:00:00",
          "2024-05-09T00:00:00",
          "2024-05-10T00:00:00",
          "2024-05-13T00:00:00",
          "2024-05-14T00:00:00",
          "2024-05-15T00:00:00",
          "2024-05-16T00:00:00",
          "2024-05-17T00:00:00",
          "2024-05-20T00:00:00",
          "2024-05-21T00:00:00",
          "2024-05-22T00:00:00",
          "2024-05-23T00:00:00",
          "2024-05-24T00:00:00",
          "2024-05-28T00:00:00",
          "2024-05-29T00:00:00",
          "2024-05-30T00:00:00",
          "2024-05-31T00:00:00",
          "2024-06-03T00:00:00",
          "2024-06-04T00:00:00",
          "2024-06-05T00:00:00",
          "2024-06-06T00:00:00",
          "2024-06-07T00:00:00",
          "2024-06-10T00:00:00",
          "2024-06-11T00:00:00",
          "2024-06-12T00:00:00",
          "2024-06-13T00:00:00",
          "2024-06-14T00:00:00",
          "2024-06-17T00:00:00",
          "2024-06-18T00:00:00",
          "2024-06-20T00:00:00",
          "2024-06-21T00:00:00",
          "2024-06-24T00:00:00",
          "2024-06-25T00:00:00",
          "2024-06-26T00:00:00",
          "2024-06-27T00:00:00",
          "2024-06-28T00:00:00",
          "2024-07-01T00:00:00",
          "2024-07-02T00:00:00",
          "2024-07-03T00:00:00",
          "2024-07-05T00:00:00",
          "2024-07-08T00:00:00",
          "2024-07-09T00:00:00",
          "2024-07-10T00:00:00",
          "2024-07-11T00:00:00",
          "2024-07-12T00:00:00",
          "2024-07-15T00:00:00",
          "2024-07-16T00:00:00",
          "2024-07-17T00:00:00",
          "2024-07-18T00:00:00",
          "2024-07-19T00:00:00",
          "2024-07-22T00:00:00",
          "2024-07-23T00:00:00",
          "2024-07-24T00:00:00",
          "2024-07-25T00:00:00"
         ],
         "xaxis": "x",
         "y": [
          0.19172372446854244,
          0.12484308825961134,
          0.10607452269676776,
          0.1410144017595862,
          0.2000203954337164,
          0.1891947817427156,
          0.21271229352223886,
          0.1550489161153833,
          0.1545308106287986,
          0.0016963211168195124,
          0.10890813368275515,
          0.10093678437405959,
          0.05967851070183495,
          0.0038209095784426735,
          0.6001240918131837,
          0.14941318679530774,
          0.17542348592059703,
          0.18362453303181436,
          0.19883749142822854,
          0.26646133247071696,
          0.14429956784870013,
          0.2644770969832682,
          0.3433456413237983,
          0.2773307528176398,
          0.32892952778532003,
          0.21971805438455436,
          0.18047719164794396,
          0.0775155110773482,
          0.17050428463317852,
          -0.005670920630435451,
          0.036302507743594434,
          0.12059005895454607,
          0.15279915602224536,
          0.30108958509953676,
          0.37620112407952644,
          0.29234146870808164,
          0.5129296501350337,
          0.37080630985693364,
          0.31029413071224027,
          0.249772290495353,
          0.1596411965654259,
          0.252159893302402,
          0.0008837845731398949,
          0.0687367533955443,
          0.2308620643526326,
          0.26946343942987,
          0.19245998373624573,
          0.27448139809925154,
          0.4424387469097557,
          0.3871158636789677,
          0.549036955894346,
          0.5079314495098199,
          0.4135333903189497,
          0.4445995659702334,
          0.3394465879565481,
          0.29553844095426207,
          0.1991829665898016,
          0.11724195374843253,
          0.17736153479727854,
          0.3338011963224517,
          0.33739351493978387,
          0.2267786102773531,
          0.16334612279076546,
          -0.015913513170724574,
          -0.11100037851996573,
          -0.2067278463350077,
          -0.30525951913314947,
          -0.1261125109174948,
          -0.2637267654762873,
          -0.38432006773770544,
          -0.5305498132762144,
          -0.4958831894317202,
          -0.4999853392147263,
          -0.4465512667750968,
          -0.4324994490896983,
          -0.3300322227502175,
          -0.1928296946322975,
          -0.07232086281357242,
          0.07552267332863513,
          0.034833248576491845,
          -0.1464272898785737,
          -0.11952232506113461,
          -0.07031481747201003,
          -0.08749891067597718,
          0.2537922252670075,
          0.36879979617082304,
          0.3495610447489226,
          0.5712410960457931,
          0.4537957275842076,
          0.6407208157550269,
          0.7565251767532921,
          1.6776075982421568,
          1.6373977746340322,
          1.6445553422917631,
          1.9630608528161944,
          1.8504668079510345,
          1.050798951826243,
          0.9586259260435096,
          0.8319863439353797,
          0.1826983064138607,
          0.25493011273639804,
          0.16589964393208237,
          0.006204589179684882,
          0.11196465105614865,
          0.42255522333011664,
          0.2809421966286341,
          0.3577687778306028,
          0.32874029606708277,
          0.21892175892683804,
          0.19321259454305487,
          0.05935477130268064,
          -0.027272859837775065,
          -0.12351791387417234,
          -0.08225415564293309,
          -0.06814572375210066,
          -0.12508354871518448,
          -0.07844096392161529,
          -0.022974133958606976,
          -0.08238998557641548,
          -0.0009077325965254987,
          0.06916798113076582,
          0.008791251527168887,
          0.059497892211006514,
          0.10475240044086688,
          -0.04133141434725307,
          -0.17138835645968192,
          -0.1979028549055564,
          -0.1414064881594512,
          -0.1299791809351084,
          -0.22511224906529453,
          -0.07254298428872001,
          -0.12383816036140093,
          -0.045693561258895274,
          0.057601873613942006,
          0.2588576004583323,
          0.5263512073094117,
          0.1822727154129374,
          0.06975025061707398,
          0.1426613659444318,
          0.03103569748654348,
          -0.07189520059546059,
          0.07425125344695775
         ],
         "yaxis": "y"
        }
       ],
       "layout": {
        "annotations": [
         {
          "showarrow": false,
          "text": "Zero Line",
          "x": 1,
          "xanchor": "right",
          "xref": "x domain",
          "y": 0,
          "yanchor": "top",
          "yref": "y"
         },
         {
          "showarrow": false,
          "text": "Mean of negative returns: -0.17",
          "x": 1,
          "xanchor": "right",
          "xref": "x domain",
          "y": -0.17115959413446566,
          "yanchor": "bottom",
          "yref": "y"
         },
         {
          "showarrow": false,
          "text": ".75 Std Dev: -0.25",
          "x": 1,
          "xanchor": "right",
          "xref": "x domain",
          "y": -0.24571283820783418,
          "yanchor": "bottom",
          "yref": "y"
         },
         {
          "showarrow": false,
          "text": "1 Std Dev: -0.32",
          "x": 1,
          "xanchor": "right",
          "xref": "x domain",
          "y": -0.3202660822812027,
          "yanchor": "bottom",
          "yref": "y"
         }
        ],
        "legend": {
         "title": {
          "text": "variable"
         },
         "tracegroupgap": 0
        },
        "margin": {
         "t": 60
        },
        "shapes": [
         {
          "line": {
           "color": "black",
           "dash": "dash"
          },
          "type": "line",
          "x0": 0,
          "x1": 1,
          "xref": "x domain",
          "y0": 0,
          "y1": 0,
          "yref": "y"
         },
         {
          "line": {
           "color": "blue",
           "dash": "dot"
          },
          "type": "line",
          "x0": 0,
          "x1": 1,
          "xref": "x domain",
          "y0": -0.17115959413446566,
          "y1": -0.17115959413446566,
          "yref": "y"
         },
         {
          "line": {
           "color": "red",
           "dash": "dashdot"
          },
          "type": "line",
          "x0": 0,
          "x1": 1,
          "xref": "x domain",
          "y0": -0.24571283820783418,
          "y1": -0.24571283820783418,
          "yref": "y"
         },
         {
          "line": {
           "color": "red",
           "dash": "dashdot"
          },
          "type": "line",
          "x0": 0,
          "x1": 1,
          "xref": "x domain",
          "y0": -0.3202660822812027,
          "y1": -0.3202660822812027,
          "yref": "y"
         },
         {
          "fillcolor": "green",
          "line": {
           "width": 0
          },
          "opacity": 0.2,
          "type": "rect",
          "x0": "2024-01-02T00:00:00",
          "x1": "2024-07-25T00:00:00",
          "y0": -0.24571283820783418,
          "y1": -0.3202660822812027
         }
        ],
        "template": {
         "data": {
          "bar": [
           {
            "error_x": {
             "color": "#2a3f5f"
            },
            "error_y": {
             "color": "#2a3f5f"
            },
            "marker": {
             "line": {
              "color": "#E5ECF6",
              "width": 0.5
             },
             "pattern": {
              "fillmode": "overlay",
              "size": 10,
              "solidity": 0.2
             }
            },
            "type": "bar"
           }
          ],
          "barpolar": [
           {
            "marker": {
             "line": {
              "color": "#E5ECF6",
              "width": 0.5
             },
             "pattern": {
              "fillmode": "overlay",
              "size": 10,
              "solidity": 0.2
             }
            },
            "type": "barpolar"
           }
          ],
          "carpet": [
           {
            "aaxis": {
             "endlinecolor": "#2a3f5f",
             "gridcolor": "white",
             "linecolor": "white",
             "minorgridcolor": "white",
             "startlinecolor": "#2a3f5f"
            },
            "baxis": {
             "endlinecolor": "#2a3f5f",
             "gridcolor": "white",
             "linecolor": "white",
             "minorgridcolor": "white",
             "startlinecolor": "#2a3f5f"
            },
            "type": "carpet"
           }
          ],
          "choropleth": [
           {
            "colorbar": {
             "outlinewidth": 0,
             "ticks": ""
            },
            "type": "choropleth"
           }
          ],
          "contour": [
           {
            "colorbar": {
             "outlinewidth": 0,
             "ticks": ""
            },
            "colorscale": [
             [
              0,
              "#0d0887"
             ],
             [
              0.1111111111111111,
              "#46039f"
             ],
             [
              0.2222222222222222,
              "#7201a8"
             ],
             [
              0.3333333333333333,
              "#9c179e"
             ],
             [
              0.4444444444444444,
              "#bd3786"
             ],
             [
              0.5555555555555556,
              "#d8576b"
             ],
             [
              0.6666666666666666,
              "#ed7953"
             ],
             [
              0.7777777777777778,
              "#fb9f3a"
             ],
             [
              0.8888888888888888,
              "#fdca26"
             ],
             [
              1,
              "#f0f921"
             ]
            ],
            "type": "contour"
           }
          ],
          "contourcarpet": [
           {
            "colorbar": {
             "outlinewidth": 0,
             "ticks": ""
            },
            "type": "contourcarpet"
           }
          ],
          "heatmap": [
           {
            "colorbar": {
             "outlinewidth": 0,
             "ticks": ""
            },
            "colorscale": [
             [
              0,
              "#0d0887"
             ],
             [
              0.1111111111111111,
              "#46039f"
             ],
             [
              0.2222222222222222,
              "#7201a8"
             ],
             [
              0.3333333333333333,
              "#9c179e"
             ],
             [
              0.4444444444444444,
              "#bd3786"
             ],
             [
              0.5555555555555556,
              "#d8576b"
             ],
             [
              0.6666666666666666,
              "#ed7953"
             ],
             [
              0.7777777777777778,
              "#fb9f3a"
             ],
             [
              0.8888888888888888,
              "#fdca26"
             ],
             [
              1,
              "#f0f921"
             ]
            ],
            "type": "heatmap"
           }
          ],
          "heatmapgl": [
           {
            "colorbar": {
             "outlinewidth": 0,
             "ticks": ""
            },
            "colorscale": [
             [
              0,
              "#0d0887"
             ],
             [
              0.1111111111111111,
              "#46039f"
             ],
             [
              0.2222222222222222,
              "#7201a8"
             ],
             [
              0.3333333333333333,
              "#9c179e"
             ],
             [
              0.4444444444444444,
              "#bd3786"
             ],
             [
              0.5555555555555556,
              "#d8576b"
             ],
             [
              0.6666666666666666,
              "#ed7953"
             ],
             [
              0.7777777777777778,
              "#fb9f3a"
             ],
             [
              0.8888888888888888,
              "#fdca26"
             ],
             [
              1,
              "#f0f921"
             ]
            ],
            "type": "heatmapgl"
           }
          ],
          "histogram": [
           {
            "marker": {
             "pattern": {
              "fillmode": "overlay",
              "size": 10,
              "solidity": 0.2
             }
            },
            "type": "histogram"
           }
          ],
          "histogram2d": [
           {
            "colorbar": {
             "outlinewidth": 0,
             "ticks": ""
            },
            "colorscale": [
             [
              0,
              "#0d0887"
             ],
             [
              0.1111111111111111,
              "#46039f"
             ],
             [
              0.2222222222222222,
              "#7201a8"
             ],
             [
              0.3333333333333333,
              "#9c179e"
             ],
             [
              0.4444444444444444,
              "#bd3786"
             ],
             [
              0.5555555555555556,
              "#d8576b"
             ],
             [
              0.6666666666666666,
              "#ed7953"
             ],
             [
              0.7777777777777778,
              "#fb9f3a"
             ],
             [
              0.8888888888888888,
              "#fdca26"
             ],
             [
              1,
              "#f0f921"
             ]
            ],
            "type": "histogram2d"
           }
          ],
          "histogram2dcontour": [
           {
            "colorbar": {
             "outlinewidth": 0,
             "ticks": ""
            },
            "colorscale": [
             [
              0,
              "#0d0887"
             ],
             [
              0.1111111111111111,
              "#46039f"
             ],
             [
              0.2222222222222222,
              "#7201a8"
             ],
             [
              0.3333333333333333,
              "#9c179e"
             ],
             [
              0.4444444444444444,
              "#bd3786"
             ],
             [
              0.5555555555555556,
              "#d8576b"
             ],
             [
              0.6666666666666666,
              "#ed7953"
             ],
             [
              0.7777777777777778,
              "#fb9f3a"
             ],
             [
              0.8888888888888888,
              "#fdca26"
             ],
             [
              1,
              "#f0f921"
             ]
            ],
            "type": "histogram2dcontour"
           }
          ],
          "mesh3d": [
           {
            "colorbar": {
             "outlinewidth": 0,
             "ticks": ""
            },
            "type": "mesh3d"
           }
          ],
          "parcoords": [
           {
            "line": {
             "colorbar": {
              "outlinewidth": 0,
              "ticks": ""
             }
            },
            "type": "parcoords"
           }
          ],
          "pie": [
           {
            "automargin": true,
            "type": "pie"
           }
          ],
          "scatter": [
           {
            "fillpattern": {
             "fillmode": "overlay",
             "size": 10,
             "solidity": 0.2
            },
            "type": "scatter"
           }
          ],
          "scatter3d": [
           {
            "line": {
             "colorbar": {
              "outlinewidth": 0,
              "ticks": ""
             }
            },
            "marker": {
             "colorbar": {
              "outlinewidth": 0,
              "ticks": ""
             }
            },
            "type": "scatter3d"
           }
          ],
          "scattercarpet": [
           {
            "marker": {
             "colorbar": {
              "outlinewidth": 0,
              "ticks": ""
             }
            },
            "type": "scattercarpet"
           }
          ],
          "scattergeo": [
           {
            "marker": {
             "colorbar": {
              "outlinewidth": 0,
              "ticks": ""
             }
            },
            "type": "scattergeo"
           }
          ],
          "scattergl": [
           {
            "marker": {
             "colorbar": {
              "outlinewidth": 0,
              "ticks": ""
             }
            },
            "type": "scattergl"
           }
          ],
          "scattermapbox": [
           {
            "marker": {
             "colorbar": {
              "outlinewidth": 0,
              "ticks": ""
             }
            },
            "type": "scattermapbox"
           }
          ],
          "scatterpolar": [
           {
            "marker": {
             "colorbar": {
              "outlinewidth": 0,
              "ticks": ""
             }
            },
            "type": "scatterpolar"
           }
          ],
          "scatterpolargl": [
           {
            "marker": {
             "colorbar": {
              "outlinewidth": 0,
              "ticks": ""
             }
            },
            "type": "scatterpolargl"
           }
          ],
          "scatterternary": [
           {
            "marker": {
             "colorbar": {
              "outlinewidth": 0,
              "ticks": ""
             }
            },
            "type": "scatterternary"
           }
          ],
          "surface": [
           {
            "colorbar": {
             "outlinewidth": 0,
             "ticks": ""
            },
            "colorscale": [
             [
              0,
              "#0d0887"
             ],
             [
              0.1111111111111111,
              "#46039f"
             ],
             [
              0.2222222222222222,
              "#7201a8"
             ],
             [
              0.3333333333333333,
              "#9c179e"
             ],
             [
              0.4444444444444444,
              "#bd3786"
             ],
             [
              0.5555555555555556,
              "#d8576b"
             ],
             [
              0.6666666666666666,
              "#ed7953"
             ],
             [
              0.7777777777777778,
              "#fb9f3a"
             ],
             [
              0.8888888888888888,
              "#fdca26"
             ],
             [
              1,
              "#f0f921"
             ]
            ],
            "type": "surface"
           }
          ],
          "table": [
           {
            "cells": {
             "fill": {
              "color": "#EBF0F8"
             },
             "line": {
              "color": "white"
             }
            },
            "header": {
             "fill": {
              "color": "#C8D4E3"
             },
             "line": {
              "color": "white"
             }
            },
            "type": "table"
           }
          ]
         },
         "layout": {
          "annotationdefaults": {
           "arrowcolor": "#2a3f5f",
           "arrowhead": 0,
           "arrowwidth": 1
          },
          "autotypenumbers": "strict",
          "coloraxis": {
           "colorbar": {
            "outlinewidth": 0,
            "ticks": ""
           }
          },
          "colorscale": {
           "diverging": [
            [
             0,
             "#8e0152"
            ],
            [
             0.1,
             "#c51b7d"
            ],
            [
             0.2,
             "#de77ae"
            ],
            [
             0.3,
             "#f1b6da"
            ],
            [
             0.4,
             "#fde0ef"
            ],
            [
             0.5,
             "#f7f7f7"
            ],
            [
             0.6,
             "#e6f5d0"
            ],
            [
             0.7,
             "#b8e186"
            ],
            [
             0.8,
             "#7fbc41"
            ],
            [
             0.9,
             "#4d9221"
            ],
            [
             1,
             "#276419"
            ]
           ],
           "sequential": [
            [
             0,
             "#0d0887"
            ],
            [
             0.1111111111111111,
             "#46039f"
            ],
            [
             0.2222222222222222,
             "#7201a8"
            ],
            [
             0.3333333333333333,
             "#9c179e"
            ],
            [
             0.4444444444444444,
             "#bd3786"
            ],
            [
             0.5555555555555556,
             "#d8576b"
            ],
            [
             0.6666666666666666,
             "#ed7953"
            ],
            [
             0.7777777777777778,
             "#fb9f3a"
            ],
            [
             0.8888888888888888,
             "#fdca26"
            ],
            [
             1,
             "#f0f921"
            ]
           ],
           "sequentialminus": [
            [
             0,
             "#0d0887"
            ],
            [
             0.1111111111111111,
             "#46039f"
            ],
            [
             0.2222222222222222,
             "#7201a8"
            ],
            [
             0.3333333333333333,
             "#9c179e"
            ],
            [
             0.4444444444444444,
             "#bd3786"
            ],
            [
             0.5555555555555556,
             "#d8576b"
            ],
            [
             0.6666666666666666,
             "#ed7953"
            ],
            [
             0.7777777777777778,
             "#fb9f3a"
            ],
            [
             0.8888888888888888,
             "#fdca26"
            ],
            [
             1,
             "#f0f921"
            ]
           ]
          },
          "colorway": [
           "#636efa",
           "#EF553B",
           "#00cc96",
           "#ab63fa",
           "#FFA15A",
           "#19d3f3",
           "#FF6692",
           "#B6E880",
           "#FF97FF",
           "#FECB52"
          ],
          "font": {
           "color": "#2a3f5f"
          },
          "geo": {
           "bgcolor": "white",
           "lakecolor": "white",
           "landcolor": "#E5ECF6",
           "showlakes": true,
           "showland": true,
           "subunitcolor": "white"
          },
          "hoverlabel": {
           "align": "left"
          },
          "hovermode": "closest",
          "mapbox": {
           "style": "light"
          },
          "paper_bgcolor": "white",
          "plot_bgcolor": "#E5ECF6",
          "polar": {
           "angularaxis": {
            "gridcolor": "white",
            "linecolor": "white",
            "ticks": ""
           },
           "bgcolor": "#E5ECF6",
           "radialaxis": {
            "gridcolor": "white",
            "linecolor": "white",
            "ticks": ""
           }
          },
          "scene": {
           "xaxis": {
            "backgroundcolor": "#E5ECF6",
            "gridcolor": "white",
            "gridwidth": 2,
            "linecolor": "white",
            "showbackground": true,
            "ticks": "",
            "zerolinecolor": "white"
           },
           "yaxis": {
            "backgroundcolor": "#E5ECF6",
            "gridcolor": "white",
            "gridwidth": 2,
            "linecolor": "white",
            "showbackground": true,
            "ticks": "",
            "zerolinecolor": "white"
           },
           "zaxis": {
            "backgroundcolor": "#E5ECF6",
            "gridcolor": "white",
            "gridwidth": 2,
            "linecolor": "white",
            "showbackground": true,
            "ticks": "",
            "zerolinecolor": "white"
           }
          },
          "shapedefaults": {
           "line": {
            "color": "#2a3f5f"
           }
          },
          "ternary": {
           "aaxis": {
            "gridcolor": "white",
            "linecolor": "white",
            "ticks": ""
           },
           "baxis": {
            "gridcolor": "white",
            "linecolor": "white",
            "ticks": ""
           },
           "bgcolor": "#E5ECF6",
           "caxis": {
            "gridcolor": "white",
            "linecolor": "white",
            "ticks": ""
           }
          },
          "title": {
           "x": 0.05
          },
          "xaxis": {
           "automargin": true,
           "gridcolor": "white",
           "linecolor": "white",
           "ticks": "",
           "title": {
            "standoff": 15
           },
           "zerolinecolor": "white",
           "zerolinewidth": 2
          },
          "yaxis": {
           "automargin": true,
           "gridcolor": "white",
           "linecolor": "white",
           "ticks": "",
           "title": {
            "standoff": 15
           },
           "zerolinecolor": "white",
           "zerolinewidth": 2
          }
         }
        },
        "xaxis": {
         "anchor": "y",
         "domain": [
          0,
          1
         ],
         "title": {
          "text": "Date"
         }
        },
        "yaxis": {
         "anchor": "x",
         "domain": [
          0,
          1
         ],
         "title": {
          "text": "value"
         }
        }
       }
      }
     },
     "metadata": {},
     "output_type": "display_data"
    },
    {
     "name": "stderr",
     "output_type": "stream",
     "text": [
      "C:\\Users\\kevin\\AppData\\Local\\Temp\\ipykernel_15944\\2813995731.py:112: FutureWarning:\n",
      "\n",
      "last is deprecated and will be removed in a future version. Please create a mask and filter using `.loc` instead\n",
      "\n",
      "C:\\Users\\kevin\\AppData\\Local\\Temp\\ipykernel_15944\\2813995731.py:112: FutureWarning:\n",
      "\n",
      "'Y' is deprecated and will be removed in a future version, please use 'YE' instead.\n",
      "\n"
     ]
    },
    {
     "data": {
      "application/vnd.plotly.v1+json": {
       "config": {
        "plotlyServerURL": "https://plot.ly"
       },
       "data": [
        {
         "hovertemplate": "variable=XLP<br>Date=%{x}<br>value=%{y}<extra></extra>",
         "legendgroup": "XLP",
         "line": {
          "color": "#636efa",
          "dash": "solid"
         },
         "marker": {
          "symbol": "circle"
         },
         "mode": "lines",
         "name": "XLP",
         "orientation": "v",
         "showlegend": true,
         "type": "scatter",
         "x": [
          "2024-01-02T00:00:00",
          "2024-01-03T00:00:00",
          "2024-01-04T00:00:00",
          "2024-01-05T00:00:00",
          "2024-01-08T00:00:00",
          "2024-01-09T00:00:00",
          "2024-01-10T00:00:00",
          "2024-01-11T00:00:00",
          "2024-01-12T00:00:00",
          "2024-01-16T00:00:00",
          "2024-01-17T00:00:00",
          "2024-01-18T00:00:00",
          "2024-01-19T00:00:00",
          "2024-01-22T00:00:00",
          "2024-01-23T00:00:00",
          "2024-01-24T00:00:00",
          "2024-01-25T00:00:00",
          "2024-01-26T00:00:00",
          "2024-01-29T00:00:00",
          "2024-01-30T00:00:00",
          "2024-01-31T00:00:00",
          "2024-02-01T00:00:00",
          "2024-02-02T00:00:00",
          "2024-02-05T00:00:00",
          "2024-02-06T00:00:00",
          "2024-02-07T00:00:00",
          "2024-02-08T00:00:00",
          "2024-02-09T00:00:00",
          "2024-02-12T00:00:00",
          "2024-02-13T00:00:00",
          "2024-02-14T00:00:00",
          "2024-02-15T00:00:00",
          "2024-02-16T00:00:00",
          "2024-02-20T00:00:00",
          "2024-02-21T00:00:00",
          "2024-02-22T00:00:00",
          "2024-02-23T00:00:00",
          "2024-02-26T00:00:00",
          "2024-02-27T00:00:00",
          "2024-02-28T00:00:00",
          "2024-02-29T00:00:00",
          "2024-03-01T00:00:00",
          "2024-03-04T00:00:00",
          "2024-03-05T00:00:00",
          "2024-03-06T00:00:00",
          "2024-03-07T00:00:00",
          "2024-03-08T00:00:00",
          "2024-03-11T00:00:00",
          "2024-03-12T00:00:00",
          "2024-03-13T00:00:00",
          "2024-03-14T00:00:00",
          "2024-03-15T00:00:00",
          "2024-03-18T00:00:00",
          "2024-03-19T00:00:00",
          "2024-03-20T00:00:00",
          "2024-03-21T00:00:00",
          "2024-03-22T00:00:00",
          "2024-03-25T00:00:00",
          "2024-03-26T00:00:00",
          "2024-03-27T00:00:00",
          "2024-03-28T00:00:00",
          "2024-04-01T00:00:00",
          "2024-04-02T00:00:00",
          "2024-04-03T00:00:00",
          "2024-04-04T00:00:00",
          "2024-04-05T00:00:00",
          "2024-04-08T00:00:00",
          "2024-04-09T00:00:00",
          "2024-04-10T00:00:00",
          "2024-04-11T00:00:00",
          "2024-04-12T00:00:00",
          "2024-04-15T00:00:00",
          "2024-04-16T00:00:00",
          "2024-04-17T00:00:00",
          "2024-04-18T00:00:00",
          "2024-04-19T00:00:00",
          "2024-04-22T00:00:00",
          "2024-04-23T00:00:00",
          "2024-04-24T00:00:00",
          "2024-04-25T00:00:00",
          "2024-04-26T00:00:00",
          "2024-04-29T00:00:00",
          "2024-04-30T00:00:00",
          "2024-05-01T00:00:00",
          "2024-05-02T00:00:00",
          "2024-05-03T00:00:00",
          "2024-05-06T00:00:00",
          "2024-05-07T00:00:00",
          "2024-05-08T00:00:00",
          "2024-05-09T00:00:00",
          "2024-05-10T00:00:00",
          "2024-05-13T00:00:00",
          "2024-05-14T00:00:00",
          "2024-05-15T00:00:00",
          "2024-05-16T00:00:00",
          "2024-05-17T00:00:00",
          "2024-05-20T00:00:00",
          "2024-05-21T00:00:00",
          "2024-05-22T00:00:00",
          "2024-05-23T00:00:00",
          "2024-05-24T00:00:00",
          "2024-05-28T00:00:00",
          "2024-05-29T00:00:00",
          "2024-05-30T00:00:00",
          "2024-05-31T00:00:00",
          "2024-06-03T00:00:00",
          "2024-06-04T00:00:00",
          "2024-06-05T00:00:00",
          "2024-06-06T00:00:00",
          "2024-06-07T00:00:00",
          "2024-06-10T00:00:00",
          "2024-06-11T00:00:00",
          "2024-06-12T00:00:00",
          "2024-06-13T00:00:00",
          "2024-06-14T00:00:00",
          "2024-06-17T00:00:00",
          "2024-06-18T00:00:00",
          "2024-06-20T00:00:00",
          "2024-06-21T00:00:00",
          "2024-06-24T00:00:00",
          "2024-06-25T00:00:00",
          "2024-06-26T00:00:00",
          "2024-06-27T00:00:00",
          "2024-06-28T00:00:00",
          "2024-07-01T00:00:00",
          "2024-07-02T00:00:00",
          "2024-07-03T00:00:00",
          "2024-07-05T00:00:00",
          "2024-07-08T00:00:00",
          "2024-07-09T00:00:00",
          "2024-07-10T00:00:00",
          "2024-07-11T00:00:00",
          "2024-07-12T00:00:00",
          "2024-07-15T00:00:00",
          "2024-07-16T00:00:00",
          "2024-07-17T00:00:00",
          "2024-07-18T00:00:00",
          "2024-07-19T00:00:00",
          "2024-07-22T00:00:00",
          "2024-07-23T00:00:00",
          "2024-07-24T00:00:00",
          "2024-07-25T00:00:00"
         ],
         "xaxis": "x",
         "y": [
          0.26371112640226896,
          0.2502910091767815,
          0.2510202658423228,
          0.21529191738770956,
          0.22974154846901834,
          0.255519527405242,
          0.31012975779796076,
          0.2521435754507546,
          0.2507335097452969,
          0.2384507992851894,
          0.18788591693260226,
          0.18078664567526803,
          0.1668200821983608,
          0.14130136354936754,
          0.19632119350749114,
          0.1570923835912682,
          0.1669858913256521,
          0.17320275258981568,
          0.1563423690669419,
          0.14731046982044757,
          0.17297103131678046,
          0.2555121172762254,
          0.24982638919834516,
          0.2186007765392447,
          0.19892638161270035,
          0.18097515928305288,
          0.18812106289421054,
          0.13429768343673604,
          0.1924261911292891,
          0.10998423895350667,
          0.08718319791215935,
          0.10792612679456731,
          0.1431628141678363,
          0.19139471746152886,
          0.18899199299131605,
          0.22310002030159906,
          0.19858782682082546,
          0.17489763969065517,
          0.10507117801288848,
          0.17698707442173475,
          0.17259943623118246,
          0.1614171526331205,
          0.15659009918316735,
          0.3308674268160159,
          0.33897777291398196,
          0.3281928968553867,
          0.26001857155745806,
          0.2647047324960354,
          0.29113925091077086,
          0.29344938205493937,
          0.18809004359919487,
          0.22855747643217564,
          0.23000871935441597,
          0.2584603678350536,
          0.23492327541511923,
          0.22352993832910248,
          0.20989890505992265,
          0.20105011995626626,
          0.18615192282803536,
          0.270206437969705,
          0.2819478135637204,
          0.24543754590371775,
          0.2349954228822603,
          0.18776437273643407,
          0.11078713875787233,
          0.20028178298193336,
          0.13593643871873531,
          0.1359840332569878,
          0.08315537503237803,
          0.03591549696743361,
          0.01844755977899437,
          -0.12529950939796136,
          -0.10208111971582537,
          -0.04409330824729407,
          -0.03091157851194568,
          0.029916618241763036,
          0.08762384297757243,
          0.15969309991335923,
          0.16235411182446713,
          0.22972312758642857,
          0.2291131057202472,
          0.2079968534060877,
          0.17507766503560374,
          0.06489078258575624,
          0.09672879053384986,
          0.0963635540710658,
          0.07922430195439607,
          0.17496634938224612,
          0.1574611806004055,
          0.20776445614037622,
          0.2563061553881459,
          0.24049559364959955,
          0.22323695921900513,
          0.21119770829156995,
          0.2506649253748174,
          0.19777307050986118,
          0.2083203900832693,
          0.21159975792731425,
          0.15083551569522494,
          0.04306485356231102,
          0.1095968089795209,
          0.06328454177428945,
          0.02290066140491387,
          0.01567580544645188,
          0.10012039163708104,
          0.09148151431483835,
          0.1760515835076913,
          0.17874916360494353,
          0.19497180598767463,
          0.09882579638825781,
          0.0841907207582375,
          0.1309211891394828,
          0.08706341350694563,
          0.16920202193155057,
          0.20298474163503882,
          0.25103448831260894,
          0.2667540271833278,
          0.22662210855849713,
          0.2483822932490828,
          0.27750745696591383,
          0.31908558986360724,
          0.32804008776212695,
          0.3057981566763685,
          0.25957381934458734,
          0.18389411042375425,
          0.1655212421919489,
          0.09218701461587958,
          0.15494054794561718,
          0.09516361815966913,
          0.09386363268354214,
          0.13582002149725986,
          0.09204207403974866,
          0.14783931371683312,
          0.1521092936528075,
          0.16011396894626576,
          0.2249623379475305,
          0.19230096938895197,
          0.09813259773212443,
          0.12111100434502108,
          0.03959261455391843,
          -0.005636078596270186,
          0.009130005061561166
         ],
         "yaxis": "y"
        }
       ],
       "layout": {
        "annotations": [
         {
          "showarrow": false,
          "text": "Zero Line",
          "x": 1,
          "xanchor": "right",
          "xref": "x domain",
          "y": 0,
          "yanchor": "top",
          "yref": "y"
         },
         {
          "showarrow": false,
          "text": "Mean of negative returns: -0.06",
          "x": 1,
          "xanchor": "right",
          "xref": "x domain",
          "y": -0.061604318893859346,
          "yanchor": "bottom",
          "yref": "y"
         },
         {
          "showarrow": false,
          "text": ".75 Std Dev: -0.09",
          "x": 1,
          "xanchor": "right",
          "xref": "x domain",
          "y": -0.08669985189547055,
          "yanchor": "bottom",
          "yref": "y"
         },
         {
          "showarrow": false,
          "text": "1 Std Dev: -0.11",
          "x": 1,
          "xanchor": "right",
          "xref": "x domain",
          "y": -0.11179538489708177,
          "yanchor": "bottom",
          "yref": "y"
         }
        ],
        "legend": {
         "title": {
          "text": "variable"
         },
         "tracegroupgap": 0
        },
        "margin": {
         "t": 60
        },
        "shapes": [
         {
          "line": {
           "color": "black",
           "dash": "dash"
          },
          "type": "line",
          "x0": 0,
          "x1": 1,
          "xref": "x domain",
          "y0": 0,
          "y1": 0,
          "yref": "y"
         },
         {
          "line": {
           "color": "blue",
           "dash": "dot"
          },
          "type": "line",
          "x0": 0,
          "x1": 1,
          "xref": "x domain",
          "y0": -0.061604318893859346,
          "y1": -0.061604318893859346,
          "yref": "y"
         },
         {
          "line": {
           "color": "red",
           "dash": "dashdot"
          },
          "type": "line",
          "x0": 0,
          "x1": 1,
          "xref": "x domain",
          "y0": -0.08669985189547055,
          "y1": -0.08669985189547055,
          "yref": "y"
         },
         {
          "line": {
           "color": "red",
           "dash": "dashdot"
          },
          "type": "line",
          "x0": 0,
          "x1": 1,
          "xref": "x domain",
          "y0": -0.11179538489708177,
          "y1": -0.11179538489708177,
          "yref": "y"
         },
         {
          "fillcolor": "green",
          "line": {
           "width": 0
          },
          "opacity": 0.2,
          "type": "rect",
          "x0": "2024-01-02T00:00:00",
          "x1": "2024-07-25T00:00:00",
          "y0": -0.08669985189547055,
          "y1": -0.11179538489708177
         }
        ],
        "template": {
         "data": {
          "bar": [
           {
            "error_x": {
             "color": "#2a3f5f"
            },
            "error_y": {
             "color": "#2a3f5f"
            },
            "marker": {
             "line": {
              "color": "#E5ECF6",
              "width": 0.5
             },
             "pattern": {
              "fillmode": "overlay",
              "size": 10,
              "solidity": 0.2
             }
            },
            "type": "bar"
           }
          ],
          "barpolar": [
           {
            "marker": {
             "line": {
              "color": "#E5ECF6",
              "width": 0.5
             },
             "pattern": {
              "fillmode": "overlay",
              "size": 10,
              "solidity": 0.2
             }
            },
            "type": "barpolar"
           }
          ],
          "carpet": [
           {
            "aaxis": {
             "endlinecolor": "#2a3f5f",
             "gridcolor": "white",
             "linecolor": "white",
             "minorgridcolor": "white",
             "startlinecolor": "#2a3f5f"
            },
            "baxis": {
             "endlinecolor": "#2a3f5f",
             "gridcolor": "white",
             "linecolor": "white",
             "minorgridcolor": "white",
             "startlinecolor": "#2a3f5f"
            },
            "type": "carpet"
           }
          ],
          "choropleth": [
           {
            "colorbar": {
             "outlinewidth": 0,
             "ticks": ""
            },
            "type": "choropleth"
           }
          ],
          "contour": [
           {
            "colorbar": {
             "outlinewidth": 0,
             "ticks": ""
            },
            "colorscale": [
             [
              0,
              "#0d0887"
             ],
             [
              0.1111111111111111,
              "#46039f"
             ],
             [
              0.2222222222222222,
              "#7201a8"
             ],
             [
              0.3333333333333333,
              "#9c179e"
             ],
             [
              0.4444444444444444,
              "#bd3786"
             ],
             [
              0.5555555555555556,
              "#d8576b"
             ],
             [
              0.6666666666666666,
              "#ed7953"
             ],
             [
              0.7777777777777778,
              "#fb9f3a"
             ],
             [
              0.8888888888888888,
              "#fdca26"
             ],
             [
              1,
              "#f0f921"
             ]
            ],
            "type": "contour"
           }
          ],
          "contourcarpet": [
           {
            "colorbar": {
             "outlinewidth": 0,
             "ticks": ""
            },
            "type": "contourcarpet"
           }
          ],
          "heatmap": [
           {
            "colorbar": {
             "outlinewidth": 0,
             "ticks": ""
            },
            "colorscale": [
             [
              0,
              "#0d0887"
             ],
             [
              0.1111111111111111,
              "#46039f"
             ],
             [
              0.2222222222222222,
              "#7201a8"
             ],
             [
              0.3333333333333333,
              "#9c179e"
             ],
             [
              0.4444444444444444,
              "#bd3786"
             ],
             [
              0.5555555555555556,
              "#d8576b"
             ],
             [
              0.6666666666666666,
              "#ed7953"
             ],
             [
              0.7777777777777778,
              "#fb9f3a"
             ],
             [
              0.8888888888888888,
              "#fdca26"
             ],
             [
              1,
              "#f0f921"
             ]
            ],
            "type": "heatmap"
           }
          ],
          "heatmapgl": [
           {
            "colorbar": {
             "outlinewidth": 0,
             "ticks": ""
            },
            "colorscale": [
             [
              0,
              "#0d0887"
             ],
             [
              0.1111111111111111,
              "#46039f"
             ],
             [
              0.2222222222222222,
              "#7201a8"
             ],
             [
              0.3333333333333333,
              "#9c179e"
             ],
             [
              0.4444444444444444,
              "#bd3786"
             ],
             [
              0.5555555555555556,
              "#d8576b"
             ],
             [
              0.6666666666666666,
              "#ed7953"
             ],
             [
              0.7777777777777778,
              "#fb9f3a"
             ],
             [
              0.8888888888888888,
              "#fdca26"
             ],
             [
              1,
              "#f0f921"
             ]
            ],
            "type": "heatmapgl"
           }
          ],
          "histogram": [
           {
            "marker": {
             "pattern": {
              "fillmode": "overlay",
              "size": 10,
              "solidity": 0.2
             }
            },
            "type": "histogram"
           }
          ],
          "histogram2d": [
           {
            "colorbar": {
             "outlinewidth": 0,
             "ticks": ""
            },
            "colorscale": [
             [
              0,
              "#0d0887"
             ],
             [
              0.1111111111111111,
              "#46039f"
             ],
             [
              0.2222222222222222,
              "#7201a8"
             ],
             [
              0.3333333333333333,
              "#9c179e"
             ],
             [
              0.4444444444444444,
              "#bd3786"
             ],
             [
              0.5555555555555556,
              "#d8576b"
             ],
             [
              0.6666666666666666,
              "#ed7953"
             ],
             [
              0.7777777777777778,
              "#fb9f3a"
             ],
             [
              0.8888888888888888,
              "#fdca26"
             ],
             [
              1,
              "#f0f921"
             ]
            ],
            "type": "histogram2d"
           }
          ],
          "histogram2dcontour": [
           {
            "colorbar": {
             "outlinewidth": 0,
             "ticks": ""
            },
            "colorscale": [
             [
              0,
              "#0d0887"
             ],
             [
              0.1111111111111111,
              "#46039f"
             ],
             [
              0.2222222222222222,
              "#7201a8"
             ],
             [
              0.3333333333333333,
              "#9c179e"
             ],
             [
              0.4444444444444444,
              "#bd3786"
             ],
             [
              0.5555555555555556,
              "#d8576b"
             ],
             [
              0.6666666666666666,
              "#ed7953"
             ],
             [
              0.7777777777777778,
              "#fb9f3a"
             ],
             [
              0.8888888888888888,
              "#fdca26"
             ],
             [
              1,
              "#f0f921"
             ]
            ],
            "type": "histogram2dcontour"
           }
          ],
          "mesh3d": [
           {
            "colorbar": {
             "outlinewidth": 0,
             "ticks": ""
            },
            "type": "mesh3d"
           }
          ],
          "parcoords": [
           {
            "line": {
             "colorbar": {
              "outlinewidth": 0,
              "ticks": ""
             }
            },
            "type": "parcoords"
           }
          ],
          "pie": [
           {
            "automargin": true,
            "type": "pie"
           }
          ],
          "scatter": [
           {
            "fillpattern": {
             "fillmode": "overlay",
             "size": 10,
             "solidity": 0.2
            },
            "type": "scatter"
           }
          ],
          "scatter3d": [
           {
            "line": {
             "colorbar": {
              "outlinewidth": 0,
              "ticks": ""
             }
            },
            "marker": {
             "colorbar": {
              "outlinewidth": 0,
              "ticks": ""
             }
            },
            "type": "scatter3d"
           }
          ],
          "scattercarpet": [
           {
            "marker": {
             "colorbar": {
              "outlinewidth": 0,
              "ticks": ""
             }
            },
            "type": "scattercarpet"
           }
          ],
          "scattergeo": [
           {
            "marker": {
             "colorbar": {
              "outlinewidth": 0,
              "ticks": ""
             }
            },
            "type": "scattergeo"
           }
          ],
          "scattergl": [
           {
            "marker": {
             "colorbar": {
              "outlinewidth": 0,
              "ticks": ""
             }
            },
            "type": "scattergl"
           }
          ],
          "scattermapbox": [
           {
            "marker": {
             "colorbar": {
              "outlinewidth": 0,
              "ticks": ""
             }
            },
            "type": "scattermapbox"
           }
          ],
          "scatterpolar": [
           {
            "marker": {
             "colorbar": {
              "outlinewidth": 0,
              "ticks": ""
             }
            },
            "type": "scatterpolar"
           }
          ],
          "scatterpolargl": [
           {
            "marker": {
             "colorbar": {
              "outlinewidth": 0,
              "ticks": ""
             }
            },
            "type": "scatterpolargl"
           }
          ],
          "scatterternary": [
           {
            "marker": {
             "colorbar": {
              "outlinewidth": 0,
              "ticks": ""
             }
            },
            "type": "scatterternary"
           }
          ],
          "surface": [
           {
            "colorbar": {
             "outlinewidth": 0,
             "ticks": ""
            },
            "colorscale": [
             [
              0,
              "#0d0887"
             ],
             [
              0.1111111111111111,
              "#46039f"
             ],
             [
              0.2222222222222222,
              "#7201a8"
             ],
             [
              0.3333333333333333,
              "#9c179e"
             ],
             [
              0.4444444444444444,
              "#bd3786"
             ],
             [
              0.5555555555555556,
              "#d8576b"
             ],
             [
              0.6666666666666666,
              "#ed7953"
             ],
             [
              0.7777777777777778,
              "#fb9f3a"
             ],
             [
              0.8888888888888888,
              "#fdca26"
             ],
             [
              1,
              "#f0f921"
             ]
            ],
            "type": "surface"
           }
          ],
          "table": [
           {
            "cells": {
             "fill": {
              "color": "#EBF0F8"
             },
             "line": {
              "color": "white"
             }
            },
            "header": {
             "fill": {
              "color": "#C8D4E3"
             },
             "line": {
              "color": "white"
             }
            },
            "type": "table"
           }
          ]
         },
         "layout": {
          "annotationdefaults": {
           "arrowcolor": "#2a3f5f",
           "arrowhead": 0,
           "arrowwidth": 1
          },
          "autotypenumbers": "strict",
          "coloraxis": {
           "colorbar": {
            "outlinewidth": 0,
            "ticks": ""
           }
          },
          "colorscale": {
           "diverging": [
            [
             0,
             "#8e0152"
            ],
            [
             0.1,
             "#c51b7d"
            ],
            [
             0.2,
             "#de77ae"
            ],
            [
             0.3,
             "#f1b6da"
            ],
            [
             0.4,
             "#fde0ef"
            ],
            [
             0.5,
             "#f7f7f7"
            ],
            [
             0.6,
             "#e6f5d0"
            ],
            [
             0.7,
             "#b8e186"
            ],
            [
             0.8,
             "#7fbc41"
            ],
            [
             0.9,
             "#4d9221"
            ],
            [
             1,
             "#276419"
            ]
           ],
           "sequential": [
            [
             0,
             "#0d0887"
            ],
            [
             0.1111111111111111,
             "#46039f"
            ],
            [
             0.2222222222222222,
             "#7201a8"
            ],
            [
             0.3333333333333333,
             "#9c179e"
            ],
            [
             0.4444444444444444,
             "#bd3786"
            ],
            [
             0.5555555555555556,
             "#d8576b"
            ],
            [
             0.6666666666666666,
             "#ed7953"
            ],
            [
             0.7777777777777778,
             "#fb9f3a"
            ],
            [
             0.8888888888888888,
             "#fdca26"
            ],
            [
             1,
             "#f0f921"
            ]
           ],
           "sequentialminus": [
            [
             0,
             "#0d0887"
            ],
            [
             0.1111111111111111,
             "#46039f"
            ],
            [
             0.2222222222222222,
             "#7201a8"
            ],
            [
             0.3333333333333333,
             "#9c179e"
            ],
            [
             0.4444444444444444,
             "#bd3786"
            ],
            [
             0.5555555555555556,
             "#d8576b"
            ],
            [
             0.6666666666666666,
             "#ed7953"
            ],
            [
             0.7777777777777778,
             "#fb9f3a"
            ],
            [
             0.8888888888888888,
             "#fdca26"
            ],
            [
             1,
             "#f0f921"
            ]
           ]
          },
          "colorway": [
           "#636efa",
           "#EF553B",
           "#00cc96",
           "#ab63fa",
           "#FFA15A",
           "#19d3f3",
           "#FF6692",
           "#B6E880",
           "#FF97FF",
           "#FECB52"
          ],
          "font": {
           "color": "#2a3f5f"
          },
          "geo": {
           "bgcolor": "white",
           "lakecolor": "white",
           "landcolor": "#E5ECF6",
           "showlakes": true,
           "showland": true,
           "subunitcolor": "white"
          },
          "hoverlabel": {
           "align": "left"
          },
          "hovermode": "closest",
          "mapbox": {
           "style": "light"
          },
          "paper_bgcolor": "white",
          "plot_bgcolor": "#E5ECF6",
          "polar": {
           "angularaxis": {
            "gridcolor": "white",
            "linecolor": "white",
            "ticks": ""
           },
           "bgcolor": "#E5ECF6",
           "radialaxis": {
            "gridcolor": "white",
            "linecolor": "white",
            "ticks": ""
           }
          },
          "scene": {
           "xaxis": {
            "backgroundcolor": "#E5ECF6",
            "gridcolor": "white",
            "gridwidth": 2,
            "linecolor": "white",
            "showbackground": true,
            "ticks": "",
            "zerolinecolor": "white"
           },
           "yaxis": {
            "backgroundcolor": "#E5ECF6",
            "gridcolor": "white",
            "gridwidth": 2,
            "linecolor": "white",
            "showbackground": true,
            "ticks": "",
            "zerolinecolor": "white"
           },
           "zaxis": {
            "backgroundcolor": "#E5ECF6",
            "gridcolor": "white",
            "gridwidth": 2,
            "linecolor": "white",
            "showbackground": true,
            "ticks": "",
            "zerolinecolor": "white"
           }
          },
          "shapedefaults": {
           "line": {
            "color": "#2a3f5f"
           }
          },
          "ternary": {
           "aaxis": {
            "gridcolor": "white",
            "linecolor": "white",
            "ticks": ""
           },
           "baxis": {
            "gridcolor": "white",
            "linecolor": "white",
            "ticks": ""
           },
           "bgcolor": "#E5ECF6",
           "caxis": {
            "gridcolor": "white",
            "linecolor": "white",
            "ticks": ""
           }
          },
          "title": {
           "x": 0.05
          },
          "xaxis": {
           "automargin": true,
           "gridcolor": "white",
           "linecolor": "white",
           "ticks": "",
           "title": {
            "standoff": 15
           },
           "zerolinecolor": "white",
           "zerolinewidth": 2
          },
          "yaxis": {
           "automargin": true,
           "gridcolor": "white",
           "linecolor": "white",
           "ticks": "",
           "title": {
            "standoff": 15
           },
           "zerolinecolor": "white",
           "zerolinewidth": 2
          }
         }
        },
        "xaxis": {
         "anchor": "y",
         "domain": [
          0,
          1
         ],
         "title": {
          "text": "Date"
         }
        },
        "yaxis": {
         "anchor": "x",
         "domain": [
          0,
          1
         ],
         "title": {
          "text": "value"
         }
        }
       }
      }
     },
     "metadata": {},
     "output_type": "display_data"
    }
   ],
   "source": [
    "#Graph: spreads & risk adjusted performance\n",
    "TICKER = 'XLP'\n",
    "SPREAD = 'Benchmark_minus_' + TICKER\n",
    "create_spread_plot(benchmark_minus_all_series_week[SPREAD]).show()\n",
    "create_spread_plot(benchmark_minus_all_series_short[SPREAD]).show()\n",
    "create_spread_plot(benchmark_minus_all_series_mid[SPREAD]).show()\n",
    "plot_risk_adjusted_returns(all_series[TICKER],time_frame_short).show()\n",
    "plot_risk_adjusted_returns(all_series[TICKER],time_frame_mid).show()\n"
   ]
  }
 ],
 "metadata": {
  "kernelspec": {
   "display_name": "base",
   "language": "python",
   "name": "python3"
  },
  "language_info": {
   "codemirror_mode": {
    "name": "ipython",
    "version": 3
   },
   "file_extension": ".py",
   "mimetype": "text/x-python",
   "name": "python",
   "nbconvert_exporter": "python",
   "pygments_lexer": "ipython3",
   "version": "3.12.4"
  }
 },
 "nbformat": 4,
 "nbformat_minor": 2
}
