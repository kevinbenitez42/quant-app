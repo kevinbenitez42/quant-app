{
 "cells": [
  {
   "cell_type": "code",
   "execution_count": 2,
   "metadata": {},
   "outputs": [],
   "source": [
    "import wbdata as wb\n",
    "import pandas as pd\n",
    "import datetime\n",
    "import numpy as np\n",
    "import plotly.express as px\n",
    "\n",
    "# Get the list of all countries\n",
    "all_countries = wb.get_countries()\n",
    "gdp_indicator = {'NY.GDP.MKTP.CD': 'GDP'}\n",
    "\n",
    "country_names = [country['name'] for country in all_countries]\n",
    "country_codes = [country['id'] for country in all_countries]\n",
    "\n",
    "# Create a dictionary to map country codes to country names\n",
    "country_dict = {country['id']: country['name'] for country in all_countries}\n",
    "country_info = pd.DataFrame(list(country_dict.items()), columns=['Country Code', 'Country Name'])\n",
    "data_date = datetime.datetime(2023, 1, 1)\n",
    "\n",
    "gdp_data = wb.get_dataframe(gdp_indicator, country='all')\n"
   ]
  },
  {
   "cell_type": "code",
   "execution_count": null,
   "metadata": {},
   "outputs": [],
   "source": []
  },
  {
   "cell_type": "code",
   "execution_count": null,
   "metadata": {},
   "outputs": [],
   "source": [
    "#country_info['latest gdp'] = np.nan\n",
    "for country in country_names:\n",
    "    try:\n",
    "        latest_gdp = gdp_data['GDP'].loc[country][0]\n",
    "    except:\n",
    "        latest_gdp = np.nan\n",
    "    country_info.loc[country_info['Country Name'] == country, 'latest_gdp'] = latest_gdp\n",
    "country_info = country_info.dropna()\n",
    "\n",
    "country_info.sort_values(by='latest_gdp', ascending=False, inplace=True)\n",
    "\n",
    "# Get top 20 countries\n",
    "top_20_countries = country_info.head(20)\n",
    "\n",
    "# Create a bar chart using Plotly\n",
    "fig = px.bar(\n",
    "    top_20_countries, \n",
    "    x='Country Name', \n",
    "    y='latest_gdp',\n",
    "    title='Top 20 Countries by GDP',\n",
    "    labels={'latest_gdp': 'GDP (in current US$)'},\n",
    "    color='latest_gdp',\n",
    "    color_continuous_scale='Viridis'\n",
    ")\n",
    "\n",
    "# Update layout for better aesthetics\n",
    "fig.update_layout(\n",
    "    xaxis_title='Country Name',\n",
    "    yaxis_title='GDP (in current US$)',\n",
    "    xaxis_tickangle=-45,  # Rotate x-axis labels for better readability\n",
    "    plot_bgcolor='black',  # Set background color\n",
    "    paper_bgcolor='black',  # Set paper background color\n",
    "    font_color='white'  # Set font color\n",
    ")\n",
    "\n",
    "# Show the plot\n",
    "fig.show() \n"
   ]
  },
  {
   "cell_type": "code",
   "execution_count": null,
   "metadata": {},
   "outputs": [],
   "source": [
    "import plotly.graph_objects as go\n",
    "import plotly.io as pio\n",
    "\n",
    "# Create a choropleth map of the world\n",
    "fig = go.Figure(go.Choropleth(\n",
    "    locations=['USA', 'Brazil', 'China', 'Russia', 'India'],\n",
    "    locationmode='country names',\n",
    "    z=[1, 2, 3, 4, 5],  # Example values for demonstration\n",
    "    colorscale='Blues',\n",
    "    colorbar_title='Example Value',\n",
    "))\n",
    "\n",
    "fig.update_layout(\n",
    "    title_text='World Map Example',\n",
    "    geo=dict(\n",
    "        scope='world',\n",
    "        projection_type='mercator',\n",
    "        showland=True,\n",
    "        landcolor='rgb(212, 212, 212)',\n",
    "        subunitcolor='rgb(255, 255, 255)',\n",
    "    ),\n",
    "    autosize=True,  # Enable automatic resizing\n",
    "    margin=dict(l=0, r=0, t=40, b=0),  # Adjust margins\n",
    ")\n",
    "\n",
    "# Display the figure in a Jupyter Notebook\n",
    "pio.show(fig)\n"
   ]
  }
 ],
 "metadata": {
  "kernelspec": {
   "display_name": "base",
   "language": "python",
   "name": "python3"
  },
  "language_info": {
   "codemirror_mode": {
    "name": "ipython",
    "version": 3
   },
   "file_extension": ".py",
   "mimetype": "text/x-python",
   "name": "python",
   "nbconvert_exporter": "python",
   "pygments_lexer": "ipython3",
   "version": "3.12.4"
  }
 },
 "nbformat": 4,
 "nbformat_minor": 2
}
