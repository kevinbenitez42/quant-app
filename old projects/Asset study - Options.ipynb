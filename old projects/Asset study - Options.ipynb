{
 "cells": [
  {
   "cell_type": "code",
   "execution_count": 1,
   "metadata": {},
   "outputs": [],
   "source": [
    "#Notebook description\n",
    "\n",
    "#This notebook is being used to evaluate the techinical market conditions of a single asset and assess\n",
    "#the appropriate strategy to take in order to maximize returns."
   ]
  },
  {
   "cell_type": "code",
   "execution_count": 2,
   "metadata": {},
   "outputs": [],
   "source": [
    "#take all compuation functions and put them in a separate file\n",
    "\n",
    "#simplify the date x axis on the percent drawdown chart\n",
    "\n",
    "#default the zoom range to a comfortable range, and create a dropdown to select the time range for Volatility section\n",
    "\n",
    "#properly label and annoate the garch models\n",
    "\n",
    "#Remove the VIX charting, its redudnant now that we have the volatility models"
   ]
  },
  {
   "cell_type": "code",
   "execution_count": 3,
   "metadata": {},
   "outputs": [],
   "source": [
    "#Load libraries \n",
    "import logging\n",
    "logger = logging.getLogger('yfinance')\n",
    "logger.disabled = True\n",
    "logger.propagate = False\n",
    "# Load libraries\n",
    "from Quantapp.Plotter import Plotter\n",
    "from Quantapp.Computation import Computation\n",
    "from Quantapp.EconomicData import EconomicData\n",
    "\n",
    "import numpy as np\n",
    "import json\n",
    "import os\n",
    "import pandas as pd\n",
    "import yfinance as yf\n",
    "from statsmodels.tsa.stattools import coint\n",
    "from IPython.display import display\n",
    "from concurrent.futures import ThreadPoolExecutor\n",
    "from plotly.subplots import make_subplots\n",
    "from datetime import datetime\n",
    "import statsmodels.api as sm\n",
    "import matplotlib.pyplot as plt\n",
    "import plotly.express as px\n",
    "import plotly.graph_objects as go\n",
    "import plotly.subplots as sp\n",
    "import plotly.graph_objects as go\n",
    "import plotly.graph_objects as go\n",
    "import pandas as pd\n",
    "from plotly.subplots import make_subplots\n",
    "\n",
    "#shut down warnings\n",
    "import warnings\n",
    "warnings.filterwarnings(\"ignore\")\n",
    "\n",
    "\n",
    "qc = Computation()\n",
    "qp = Plotter()\n",
    "qe = EconomicData()\n",
    "\n",
    "def simplify_datetime_index(series):\n",
    "    \"\"\"\n",
    "    Simplifies the DateTime index of a Series to contain only the date (YYYY-MM-DD),\n",
    "    maintaining it as a DateTimeIndex without timezone information.\n",
    "    \n",
    "    Parameters:\n",
    "        series (pd.Series): The input Series with a DateTimeIndex.\n",
    "    \n",
    "    Returns:\n",
    "        pd.Series: The Series with the DateTime index simplified to YYYY-MM-DD.\n",
    "    \"\"\"\n",
    "    if not isinstance(series.index, pd.DatetimeIndex):\n",
    "        raise TypeError(\"The Series index must be a DateTimeIndex.\")\n",
    "    \n",
    "    # Remove timezone information if present\n",
    "    if series.index.tz is not None:\n",
    "        series = series.copy()\n",
    "        series.index = series.index.tz_convert('UTC').tz_localize(None)\n",
    "    \n",
    "    # Normalize the index to remove the time component\n",
    "    series.index = series.index.normalize()\n",
    "    \n",
    "    return series\n",
    "                "
   ]
  },
  {
   "cell_type": "code",
   "execution_count": 4,
   "metadata": {},
   "outputs": [],
   "source": [
    "#PARAMETERS\n",
    "\n",
    "time_frame_week = 7\n",
    "time_frame_short = 21\n",
    "time_frame_mid   = 50\n",
    "time_frame_long = 200\n",
    "\n",
    "interval = '1d'\n",
    "period     = '10y'\n",
    "risk_free_rate = 0.02 / 252  # Annualized risk-free rate divided by trading days\n",
    "\n",
    "#should be a string or None\n",
    "ticker_str = 'SPY'\n",
    "\n"
   ]
  },
  {
   "cell_type": "code",
   "execution_count": 5,
   "metadata": {},
   "outputs": [
    {
     "data": {
      "text/plain": [
       "{'language': 'en-US',\n",
       " 'region': 'US',\n",
       " 'quoteType': 'ETF',\n",
       " 'typeDisp': 'ETF',\n",
       " 'quoteSourceName': 'Nasdaq Real Time Price',\n",
       " 'triggerable': True,\n",
       " 'customPriceAlertConfidence': 'HIGH',\n",
       " 'currency': 'USD',\n",
       " 'corporateActions': [],\n",
       " 'postMarketTime': 1754092799,\n",
       " 'regularMarketTime': 1754078400,\n",
       " 'exchange': 'PCX',\n",
       " 'marketState': 'CLOSED',\n",
       " 'tradeable': False,\n",
       " 'cryptoTradeable': False,\n",
       " 'hasPrePostMarketData': True,\n",
       " 'firstTradeDateMilliseconds': 728317800000,\n",
       " 'priceHint': 2,\n",
       " 'postMarketChangePercent': -0.0804221,\n",
       " 'postMarketPrice': 621.22,\n",
       " 'postMarketChange': -0.5,\n",
       " 'regularMarketChange': -10.36,\n",
       " 'regularMarketDayHigh': 626.34,\n",
       " 'regularMarketDayRange': '619.29 - 626.34',\n",
       " 'regularMarketDayLow': 619.29,\n",
       " 'regularMarketVolume': 139492478,\n",
       " 'regularMarketPreviousClose': 632.08,\n",
       " 'bid': 621.98,\n",
       " 'ask': 621.23,\n",
       " 'bidSize': 7,\n",
       " 'askSize': 3,\n",
       " 'fullExchangeName': 'NYSEArca',\n",
       " 'financialCurrency': 'USD',\n",
       " 'regularMarketOpen': 626.3,\n",
       " 'averageDailyVolume3Month': 70862608,\n",
       " 'averageDailyVolume10Day': 76133380,\n",
       " 'fiftyTwoWeekLowChange': 139.91998,\n",
       " 'fiftyTwoWeekLowChangePercent': 0.29041094,\n",
       " 'fiftyTwoWeekRange': '481.8 - 639.85',\n",
       " 'fiftyTwoWeekHighChange': -18.130005,\n",
       " 'fiftyTwoWeekHighChangePercent': -0.028334774,\n",
       " 'fiftyTwoWeekLow': 481.8,\n",
       " 'fiftyTwoWeekHigh': 639.85,\n",
       " 'fiftyTwoWeekChangePercent': 20.166992,\n",
       " 'trailingAnnualDividendRate': 5.662,\n",
       " 'trailingPE': 26.875242,\n",
       " 'trailingAnnualDividendYield': 0.008957727,\n",
       " 'dividendYield': 1.16,\n",
       " 'ytdReturn': 6.1564,\n",
       " 'trailingThreeMonthReturns': 10.90556,\n",
       " 'trailingThreeMonthNavReturns': 10.90556,\n",
       " 'netAssets': 636784210000.0,\n",
       " 'epsTrailingTwelveMonths': 23.133558,\n",
       " 'sharesOutstanding': 917782016,\n",
       " 'bookValue': 429.22,\n",
       " 'fiftyDayAverage': 611.287,\n",
       " 'fiftyDayAverageChange': 10.432983,\n",
       " 'fiftyDayAverageChangePercent': 0.017067242,\n",
       " 'twoHundredDayAverage': 588.4548,\n",
       " 'twoHundredDayAverageChange': 33.265198,\n",
       " 'twoHundredDayAverageChangePercent': 0.056529745,\n",
       " 'netExpenseRatio': 0.0945,\n",
       " 'marketCap': 570603405312,\n",
       " 'priceToBook': 1.4484879,\n",
       " 'sourceInterval': 15,\n",
       " 'exchangeDataDelayedBy': 0,\n",
       " 'shortName': 'SPDR S&P 500',\n",
       " 'messageBoardId': 'finmb_6160262',\n",
       " 'exchangeTimezoneName': 'America/New_York',\n",
       " 'exchangeTimezoneShortName': 'EDT',\n",
       " 'gmtOffSetMilliseconds': -14400000,\n",
       " 'market': 'us_market',\n",
       " 'esgPopulated': False,\n",
       " 'regularMarketChangePercent': -1.63904,\n",
       " 'regularMarketPrice': 621.72,\n",
       " 'longName': 'SPDR S&P 500 ETF',\n",
       " 'symbol': 'SPY'}"
      ]
     },
     "metadata": {},
     "output_type": "display_data"
    }
   ],
   "source": [
    "#Load data\n",
    "\n",
    "ticker = yf.Ticker(ticker_str).history(period=period, interval=interval)\n",
    "ticker = simplify_datetime_index(ticker)\n",
    "\n",
    "\n",
    "#retreive options data from yahoo finance\n",
    "options = yf.Ticker(ticker_str).options\n",
    "options = pd.DataFrame(options, columns=['Expiration Date'])\n",
    "\n",
    "#add another column called date till expiration\n",
    "options['Date Till Expiration'] = pd.to_datetime(options['Expiration Date']) - pd.to_datetime('today')\n",
    "options['Date Till Expiration'] = options['Date Till Expiration'].dt.days\n",
    "\n",
    "\n",
    "#retreive the contracts for the first expiration date and display them as a dataframe\n",
    "contracts = yf.Ticker(ticker_str).option_chain(options['Expiration Date'][0])\n",
    "call_contract_chain = pd.DataFrame(contracts.calls)\n",
    "put_call_contract_chain = pd.DataFrame(contracts.puts)\n",
    "underlying_data = contracts.underlying\n",
    "\n",
    "\n",
    "columns_to_drop = ['currency', 'contractSize', 'percentChange', 'change']\n",
    "\n",
    "call_contract_chain = call_contract_chain.drop(columns=columns_to_drop)\n",
    "put_call_contract_chain = put_call_contract_chain.drop(columns=columns_to_drop)\n",
    "display(underlying_data)"
   ]
  },
  {
   "cell_type": "code",
   "execution_count": 6,
   "metadata": {},
   "outputs": [
    {
     "data": {
      "application/vnd.jupyter.widget-view+json": {
       "model_id": "765fff0db77f46e9a2503500ae6ab909",
       "version_major": 2,
       "version_minor": 0
      },
      "text/plain": [
       "Dropdown(description='Show:', index=1, layout=Layout(width='200px'), options=(('10 Strikes', 10), ('20 Strikes…"
      ]
     },
     "metadata": {},
     "output_type": "display_data"
    },
    {
     "data": {
      "application/vnd.plotly.v1+json": {
       "config": {
        "plotlyServerURL": "https://plot.ly",
        "responsive": true,
        "scrollZoom": true
       },
       "data": [
        {
         "cells": {
          "align": "left",
          "fill": {
           "color": [
            [
             "rgba(144, 238, 144, 0.6)",
             "rgba(144, 238, 144, 0.6)",
             "rgba(144, 238, 144, 0.6)",
             "rgba(144, 238, 144, 0.6)",
             "rgba(144, 238, 144, 0.6)",
             "rgba(144, 238, 144, 0.6)",
             "rgba(144, 238, 144, 0.6)",
             "rgba(144, 238, 144, 0.6)",
             "rgba(144, 238, 144, 0.6)",
             "lavender",
             "lavender",
             "lavender",
             "lavender",
             "lavender",
             "lavender",
             "lavender",
             "lavender",
             "lavender",
             "lavender"
            ],
            [
             "rgba(144, 238, 144, 0.6)",
             "rgba(144, 238, 144, 0.6)",
             "rgba(144, 238, 144, 0.6)",
             "rgba(144, 238, 144, 0.6)",
             "rgba(144, 238, 144, 0.6)",
             "rgba(144, 238, 144, 0.6)",
             "rgba(144, 238, 144, 0.6)",
             "rgba(144, 238, 144, 0.6)",
             "rgba(144, 238, 144, 0.6)",
             "lavender",
             "lavender",
             "lavender",
             "lavender",
             "lavender",
             "lavender",
             "lavender",
             "lavender",
             "lavender",
             "lavender"
            ],
            [
             "rgba(144, 238, 144, 0.6)",
             "rgba(144, 238, 144, 0.6)",
             "rgba(144, 238, 144, 0.6)",
             "rgba(144, 238, 144, 0.6)",
             "rgba(144, 238, 144, 0.6)",
             "rgba(144, 238, 144, 0.6)",
             "rgba(144, 238, 144, 0.6)",
             "rgba(144, 238, 144, 0.6)",
             "rgba(144, 238, 144, 0.6)",
             "lavender",
             "lavender",
             "lavender",
             "lavender",
             "lavender",
             "lavender",
             "lavender",
             "lavender",
             "lavender",
             "lavender"
            ],
            [
             "rgba(144, 238, 144, 0.6)",
             "rgba(144, 238, 144, 0.6)",
             "rgba(144, 238, 144, 0.6)",
             "rgba(144, 238, 144, 0.6)",
             "rgba(144, 238, 144, 0.6)",
             "rgba(144, 238, 144, 0.6)",
             "rgba(144, 238, 144, 0.6)",
             "rgba(144, 238, 144, 0.6)",
             "rgba(144, 238, 144, 0.6)",
             "lavender",
             "lavender",
             "lavender",
             "lavender",
             "lavender",
             "lavender",
             "lavender",
             "lavender",
             "lavender",
             "lavender"
            ],
            [
             "rgba(144, 238, 144, 0.6)",
             "rgba(144, 238, 144, 0.6)",
             "rgba(144, 238, 144, 0.6)",
             "rgba(144, 238, 144, 0.6)",
             "rgba(144, 238, 144, 0.6)",
             "rgba(144, 238, 144, 0.6)",
             "rgba(144, 238, 144, 0.6)",
             "rgba(144, 238, 144, 0.6)",
             "rgba(144, 238, 144, 0.6)",
             "lavender",
             "lavender",
             "lavender",
             "lavender",
             "lavender",
             "lavender",
             "lavender",
             "lavender",
             "lavender",
             "lavender"
            ],
            [
             "rgba(144, 238, 144, 0.6)",
             "rgba(144, 238, 144, 0.6)",
             "rgba(144, 238, 144, 0.6)",
             "rgba(144, 238, 144, 0.6)",
             "rgba(144, 238, 144, 0.6)",
             "rgba(144, 238, 144, 0.6)",
             "rgba(144, 238, 144, 0.6)",
             "rgba(144, 238, 144, 0.6)",
             "rgba(144, 238, 144, 0.6)",
             "lavender",
             "lavender",
             "lavender",
             "lavender",
             "lavender",
             "lavender",
             "lavender",
             "lavender",
             "lavender",
             "lavender"
            ],
            [
             "rgba(144, 238, 144, 0.6)",
             "rgba(144, 238, 144, 0.6)",
             "rgba(144, 238, 144, 0.6)",
             "rgba(144, 238, 144, 0.6)",
             "rgba(144, 238, 144, 0.6)",
             "rgba(144, 238, 144, 0.6)",
             "rgba(144, 238, 144, 0.6)",
             "rgba(144, 238, 144, 0.6)",
             "rgba(144, 238, 144, 0.6)",
             "lavender",
             "lavender",
             "lavender",
             "lavender",
             "lavender",
             "lavender",
             "lavender",
             "lavender",
             "lavender",
             "lavender"
            ],
            [
             "rgba(144, 238, 144, 0.6)",
             "rgba(144, 238, 144, 0.6)",
             "rgba(144, 238, 144, 0.6)",
             "rgba(144, 238, 144, 0.6)",
             "rgba(144, 238, 144, 0.6)",
             "rgba(144, 238, 144, 0.6)",
             "rgba(144, 238, 144, 0.6)",
             "rgba(144, 238, 144, 0.6)",
             "rgba(144, 238, 144, 0.6)",
             "lavender",
             "lavender",
             "lavender",
             "lavender",
             "lavender",
             "lavender",
             "lavender",
             "lavender",
             "lavender",
             "lavender"
            ],
            [
             "rgba(144, 238, 144, 0.6)",
             "rgba(144, 238, 144, 0.6)",
             "rgba(144, 238, 144, 0.6)",
             "rgba(144, 238, 144, 0.6)",
             "rgba(144, 238, 144, 0.6)",
             "rgba(144, 238, 144, 0.6)",
             "rgba(144, 238, 144, 0.6)",
             "rgba(144, 238, 144, 0.6)",
             "rgba(144, 238, 144, 0.6)",
             "lavender",
             "lavender",
             "lavender",
             "lavender",
             "lavender",
             "lavender",
             "lavender",
             "lavender",
             "lavender",
             "lavender"
            ],
            [
             "rgba(144, 238, 144, 0.6)",
             "rgba(144, 238, 144, 0.6)",
             "rgba(144, 238, 144, 0.6)",
             "rgba(144, 238, 144, 0.6)",
             "rgba(144, 238, 144, 0.6)",
             "rgba(144, 238, 144, 0.6)",
             "rgba(144, 238, 144, 0.6)",
             "rgba(144, 238, 144, 0.6)",
             "rgba(144, 238, 144, 0.6)",
             "lavender",
             "lavender",
             "lavender",
             "lavender",
             "lavender",
             "lavender",
             "lavender",
             "lavender",
             "lavender",
             "lavender"
            ]
           ]
          },
          "values": [
           [
            "SPY250804C00613000",
            "SPY250804C00614000",
            "SPY250804C00615000",
            "SPY250804C00616000",
            "SPY250804C00617000",
            "SPY250804C00618000",
            "SPY250804C00619000",
            "SPY250804C00620000",
            "SPY250804C00621000",
            "SPY250804C00622000",
            "SPY250804C00623000",
            "SPY250804C00624000",
            "SPY250804C00625000",
            "SPY250804C00626000",
            "SPY250804C00627000",
            "SPY250804C00628000",
            "SPY250804C00629000",
            "SPY250804C00630000",
            "SPY250804C00631000"
           ],
           [
            "2025-08-01T20:13:32+00:00",
            "2025-08-01T20:04:41+00:00",
            "2025-08-01T20:10:15+00:00",
            "2025-08-01T20:12:14+00:00",
            "2025-08-01T20:14:47+00:00",
            "2025-08-01T20:14:37+00:00",
            "2025-08-01T20:14:37+00:00",
            "2025-08-01T20:14:28+00:00",
            "2025-08-01T20:14:58+00:00",
            "2025-08-01T20:14:58+00:00",
            "2025-08-01T20:14:58+00:00",
            "2025-08-01T20:14:57+00:00",
            "2025-08-01T20:14:59+00:00",
            "2025-08-01T20:14:58+00:00",
            "2025-08-01T20:14:57+00:00",
            "2025-08-01T20:14:58+00:00",
            "2025-08-01T20:14:48+00:00",
            "2025-08-01T20:14:57+00:00",
            "2025-08-01T20:14:54+00:00"
           ],
           [
            613,
            614,
            615,
            616,
            617,
            618,
            619,
            620,
            621,
            622,
            623,
            624,
            625,
            626,
            627,
            628,
            629,
            630,
            631
           ],
           [
            9.73,
            8.71,
            7.81,
            7.06,
            6.45,
            5.56,
            4.81,
            4.08,
            3.54,
            2.94,
            2.36,
            1.86,
            1.43,
            1.07,
            0.78,
            0.57,
            0.41,
            0.3,
            0.21
           ],
           [
            9.84,
            8.95,
            8.09,
            7.25,
            6.44,
            5.66,
            4.91,
            4.2,
            3.54,
            2.92,
            2.35,
            1.85,
            1.42,
            1.06,
            0.78,
            0.56,
            0.41,
            0.29,
            0.2
           ],
           [
            9.92,
            9.03,
            8.17,
            7.32,
            6.51,
            5.72,
            4.96,
            4.24,
            3.56,
            2.94,
            2.37,
            1.87,
            1.44,
            1.08,
            0.8,
            0.58,
            0.42,
            0.3,
            0.21
           ],
           [
            355,
            233,
            1170,
            971,
            1182,
            2660,
            7922,
            20484,
            38739,
            67706,
            62957,
            49608,
            80280,
            40839,
            31265,
            25681,
            15828,
            55270,
            13006
           ],
           [
            30,
            6,
            14,
            12,
            51,
            22,
            24,
            98,
            28,
            43,
            118,
            70,
            124,
            143,
            292,
            81,
            351,
            698,
            478
           ],
           [
            0.1878743322753906,
            0.18140467041015623,
            0.17566742309570313,
            0.1694418994140625,
            0.1641929284667969,
            0.15857775024414064,
            0.15284050292968754,
            0.14734739379882814,
            0.1417932501220703,
            0.1368494519042969,
            0.13172255004882813,
            0.1272670281982422,
            0.12317771362304689,
            0.11951564086914063,
            0.11695218994140624,
            0.11487701538085937,
            0.11390046264648437,
            0.1132901171875,
            0.1128018408203125
           ],
           [
            true,
            true,
            true,
            true,
            true,
            true,
            true,
            true,
            true,
            false,
            false,
            false,
            false,
            false,
            false,
            false,
            false,
            false,
            false
           ]
          ]
         },
         "domain": {
          "x": [
           0,
           0.45
          ],
          "y": [
           0,
           1
          ]
         },
         "header": {
          "align": "left",
          "fill": {
           "color": "paleturquoise"
          },
          "font": {
           "size": 11
          },
          "values": [
           "contractSymbol",
           "lastTradeDate",
           "strike",
           "lastPrice",
           "bid",
           "ask",
           "volume",
           "openInterest",
           "impliedVolatility",
           "inTheMoney"
          ]
         },
         "type": "table"
        },
        {
         "cells": {
          "align": "left",
          "fill": {
           "color": [
            [
             "mistyrose",
             "mistyrose",
             "mistyrose",
             "mistyrose",
             "mistyrose",
             "mistyrose",
             "mistyrose",
             "mistyrose",
             "mistyrose",
             "mistyrose",
             "rgba(144, 238, 144, 0.6)",
             "rgba(144, 238, 144, 0.6)",
             "rgba(144, 238, 144, 0.6)",
             "rgba(144, 238, 144, 0.6)",
             "rgba(144, 238, 144, 0.6)",
             "rgba(144, 238, 144, 0.6)",
             "rgba(144, 238, 144, 0.6)",
             "rgba(144, 238, 144, 0.6)",
             "rgba(144, 238, 144, 0.6)",
             "rgba(144, 238, 144, 0.6)"
            ],
            [
             "mistyrose",
             "mistyrose",
             "mistyrose",
             "mistyrose",
             "mistyrose",
             "mistyrose",
             "mistyrose",
             "mistyrose",
             "mistyrose",
             "mistyrose",
             "rgba(144, 238, 144, 0.6)",
             "rgba(144, 238, 144, 0.6)",
             "rgba(144, 238, 144, 0.6)",
             "rgba(144, 238, 144, 0.6)",
             "rgba(144, 238, 144, 0.6)",
             "rgba(144, 238, 144, 0.6)",
             "rgba(144, 238, 144, 0.6)",
             "rgba(144, 238, 144, 0.6)",
             "rgba(144, 238, 144, 0.6)",
             "rgba(144, 238, 144, 0.6)"
            ],
            [
             "mistyrose",
             "mistyrose",
             "mistyrose",
             "mistyrose",
             "mistyrose",
             "mistyrose",
             "mistyrose",
             "mistyrose",
             "mistyrose",
             "mistyrose",
             "rgba(144, 238, 144, 0.6)",
             "rgba(144, 238, 144, 0.6)",
             "rgba(144, 238, 144, 0.6)",
             "rgba(144, 238, 144, 0.6)",
             "rgba(144, 238, 144, 0.6)",
             "rgba(144, 238, 144, 0.6)",
             "rgba(144, 238, 144, 0.6)",
             "rgba(144, 238, 144, 0.6)",
             "rgba(144, 238, 144, 0.6)",
             "rgba(144, 238, 144, 0.6)"
            ],
            [
             "mistyrose",
             "mistyrose",
             "mistyrose",
             "mistyrose",
             "mistyrose",
             "mistyrose",
             "mistyrose",
             "mistyrose",
             "mistyrose",
             "mistyrose",
             "rgba(144, 238, 144, 0.6)",
             "rgba(144, 238, 144, 0.6)",
             "rgba(144, 238, 144, 0.6)",
             "rgba(144, 238, 144, 0.6)",
             "rgba(144, 238, 144, 0.6)",
             "rgba(144, 238, 144, 0.6)",
             "rgba(144, 238, 144, 0.6)",
             "rgba(144, 238, 144, 0.6)",
             "rgba(144, 238, 144, 0.6)",
             "rgba(144, 238, 144, 0.6)"
            ],
            [
             "mistyrose",
             "mistyrose",
             "mistyrose",
             "mistyrose",
             "mistyrose",
             "mistyrose",
             "mistyrose",
             "mistyrose",
             "mistyrose",
             "mistyrose",
             "rgba(144, 238, 144, 0.6)",
             "rgba(144, 238, 144, 0.6)",
             "rgba(144, 238, 144, 0.6)",
             "rgba(144, 238, 144, 0.6)",
             "rgba(144, 238, 144, 0.6)",
             "rgba(144, 238, 144, 0.6)",
             "rgba(144, 238, 144, 0.6)",
             "rgba(144, 238, 144, 0.6)",
             "rgba(144, 238, 144, 0.6)",
             "rgba(144, 238, 144, 0.6)"
            ],
            [
             "mistyrose",
             "mistyrose",
             "mistyrose",
             "mistyrose",
             "mistyrose",
             "mistyrose",
             "mistyrose",
             "mistyrose",
             "mistyrose",
             "mistyrose",
             "rgba(144, 238, 144, 0.6)",
             "rgba(144, 238, 144, 0.6)",
             "rgba(144, 238, 144, 0.6)",
             "rgba(144, 238, 144, 0.6)",
             "rgba(144, 238, 144, 0.6)",
             "rgba(144, 238, 144, 0.6)",
             "rgba(144, 238, 144, 0.6)",
             "rgba(144, 238, 144, 0.6)",
             "rgba(144, 238, 144, 0.6)",
             "rgba(144, 238, 144, 0.6)"
            ],
            [
             "mistyrose",
             "mistyrose",
             "mistyrose",
             "mistyrose",
             "mistyrose",
             "mistyrose",
             "mistyrose",
             "mistyrose",
             "mistyrose",
             "mistyrose",
             "rgba(144, 238, 144, 0.6)",
             "rgba(144, 238, 144, 0.6)",
             "rgba(144, 238, 144, 0.6)",
             "rgba(144, 238, 144, 0.6)",
             "rgba(144, 238, 144, 0.6)",
             "rgba(144, 238, 144, 0.6)",
             "rgba(144, 238, 144, 0.6)",
             "rgba(144, 238, 144, 0.6)",
             "rgba(144, 238, 144, 0.6)",
             "rgba(144, 238, 144, 0.6)"
            ],
            [
             "mistyrose",
             "mistyrose",
             "mistyrose",
             "mistyrose",
             "mistyrose",
             "mistyrose",
             "mistyrose",
             "mistyrose",
             "mistyrose",
             "mistyrose",
             "rgba(144, 238, 144, 0.6)",
             "rgba(144, 238, 144, 0.6)",
             "rgba(144, 238, 144, 0.6)",
             "rgba(144, 238, 144, 0.6)",
             "rgba(144, 238, 144, 0.6)",
             "rgba(144, 238, 144, 0.6)",
             "rgba(144, 238, 144, 0.6)",
             "rgba(144, 238, 144, 0.6)",
             "rgba(144, 238, 144, 0.6)",
             "rgba(144, 238, 144, 0.6)"
            ],
            [
             "mistyrose",
             "mistyrose",
             "mistyrose",
             "mistyrose",
             "mistyrose",
             "mistyrose",
             "mistyrose",
             "mistyrose",
             "mistyrose",
             "mistyrose",
             "rgba(144, 238, 144, 0.6)",
             "rgba(144, 238, 144, 0.6)",
             "rgba(144, 238, 144, 0.6)",
             "rgba(144, 238, 144, 0.6)",
             "rgba(144, 238, 144, 0.6)",
             "rgba(144, 238, 144, 0.6)",
             "rgba(144, 238, 144, 0.6)",
             "rgba(144, 238, 144, 0.6)",
             "rgba(144, 238, 144, 0.6)",
             "rgba(144, 238, 144, 0.6)"
            ],
            [
             "mistyrose",
             "mistyrose",
             "mistyrose",
             "mistyrose",
             "mistyrose",
             "mistyrose",
             "mistyrose",
             "mistyrose",
             "mistyrose",
             "mistyrose",
             "rgba(144, 238, 144, 0.6)",
             "rgba(144, 238, 144, 0.6)",
             "rgba(144, 238, 144, 0.6)",
             "rgba(144, 238, 144, 0.6)",
             "rgba(144, 238, 144, 0.6)",
             "rgba(144, 238, 144, 0.6)",
             "rgba(144, 238, 144, 0.6)",
             "rgba(144, 238, 144, 0.6)",
             "rgba(144, 238, 144, 0.6)",
             "rgba(144, 238, 144, 0.6)"
            ]
           ]
          },
          "values": [
           [
            "SPY250804P00612000",
            "SPY250804P00613000",
            "SPY250804P00614000",
            "SPY250804P00615000",
            "SPY250804P00616000",
            "SPY250804P00617000",
            "SPY250804P00618000",
            "SPY250804P00619000",
            "SPY250804P00620000",
            "SPY250804P00621000",
            "SPY250804P00622000",
            "SPY250804P00623000",
            "SPY250804P00624000",
            "SPY250804P00625000",
            "SPY250804P00626000",
            "SPY250804P00627000",
            "SPY250804P00628000",
            "SPY250804P00629000",
            "SPY250804P00630000",
            "SPY250804P00631000"
           ],
           [
            "2025-08-01T20:14:59+00:00",
            "2025-08-01T20:14:57+00:00",
            "2025-08-01T20:14:57+00:00",
            "2025-08-01T20:14:56+00:00",
            "2025-08-01T20:14:51+00:00",
            "2025-08-01T20:14:53+00:00",
            "2025-08-01T20:14:53+00:00",
            "2025-08-01T20:14:56+00:00",
            "2025-08-01T20:14:59+00:00",
            "2025-08-01T20:14:50+00:00",
            "2025-08-01T20:14:59+00:00",
            "2025-08-01T20:14:48+00:00",
            "2025-08-01T20:14:53+00:00",
            "2025-08-01T20:14:49+00:00",
            "2025-08-01T20:14:43+00:00",
            "2025-08-01T20:14:12+00:00",
            "2025-08-01T20:14:13+00:00",
            "2025-08-01T20:14:17+00:00",
            "2025-08-01T20:14:57+00:00",
            "2025-08-01T20:03:24+00:00"
           ],
           [
            612,
            613,
            614,
            615,
            616,
            617,
            618,
            619,
            620,
            621,
            622,
            623,
            624,
            625,
            626,
            627,
            628,
            629,
            630,
            631
           ],
           [
            0.56,
            0.64,
            0.77,
            0.9,
            1.07,
            1.24,
            1.45,
            1.69,
            1.98,
            2.33,
            2.68,
            3.15,
            3.62,
            4.23,
            4.91,
            5.77,
            6.57,
            7.4,
            8.08,
            9.24
           ],
           [
            0.55,
            0.64,
            0.75,
            0.89,
            1.05,
            1.23,
            1.44,
            1.69,
            1.97,
            2.3,
            2.67,
            3.11,
            3.6,
            4.16,
            4.8,
            5.5,
            6.28,
            7.11,
            7.99,
            8.91
           ],
           [
            0.56,
            0.66,
            0.77,
            0.91,
            1.06,
            1.25,
            1.46,
            1.7,
            2,
            2.33,
            2.69,
            3.14,
            3.64,
            4.2,
            4.86,
            5.59,
            6.38,
            7.23,
            8.08,
            9.04
           ],
           [
            10750,
            14039,
            18104,
            41347,
            21611,
            24910,
            27260,
            34970,
            78362,
            57522,
            62558,
            45235,
            27463,
            20558,
            6497,
            3822,
            3378,
            4148,
            9617,
            1765
           ],
           [
            330,
            1408,
            1273,
            1468,
            870,
            1075,
            1425,
            2298,
            4628,
            1228,
            2310,
            1615,
            1669,
            2206,
            1001,
            2403,
            1551,
            2089,
            3753,
            2057
           ],
           [
            0.15418326293945314,
            0.15088739746093754,
            0.14685911743164062,
            0.143563251953125,
            0.13941290283203128,
            0.13599496826171875,
            0.131844619140625,
            0.12732806274414063,
            0.12360495544433595,
            0.11902736450195311,
            0.1132901171875,
            0.1087125262451172,
            0.10315838256835935,
            0.09668872070312501,
            0.09070733520507812,
            0.08326112060546878,
            0.07081007324218751,
            0.000010000000000000003,
            0.000010000000000000003,
            0.000010000000000000003
           ],
           [
            false,
            false,
            false,
            false,
            false,
            false,
            false,
            false,
            false,
            false,
            true,
            true,
            true,
            true,
            true,
            true,
            true,
            true,
            true,
            true
           ]
          ]
         },
         "domain": {
          "x": [
           0.55,
           1
          ],
          "y": [
           0,
           1
          ]
         },
         "header": {
          "align": "left",
          "fill": {
           "color": "lightpink"
          },
          "values": [
           "contractSymbol",
           "lastTradeDate",
           "strike",
           "lastPrice",
           "bid",
           "ask",
           "volume",
           "openInterest",
           "impliedVolatility",
           "inTheMoney"
          ]
         },
         "type": "table"
        }
       ],
       "layout": {
        "annotations": [
         {
          "font": {
           "size": 16
          },
          "showarrow": false,
          "text": "Call Options",
          "x": 0.225,
          "xanchor": "center",
          "xref": "paper",
          "y": 1,
          "yanchor": "bottom",
          "yref": "paper"
         },
         {
          "font": {
           "size": 16
          },
          "showarrow": false,
          "text": "Put Options",
          "x": 0.775,
          "xanchor": "center",
          "xref": "paper",
          "y": 1,
          "yanchor": "bottom",
          "yref": "paper"
         }
        ],
        "autosize": true,
        "height": 800,
        "template": {
         "data": {
          "bar": [
           {
            "error_x": {
             "color": "#2a3f5f"
            },
            "error_y": {
             "color": "#2a3f5f"
            },
            "marker": {
             "line": {
              "color": "#E5ECF6",
              "width": 0.5
             },
             "pattern": {
              "fillmode": "overlay",
              "size": 10,
              "solidity": 0.2
             }
            },
            "type": "bar"
           }
          ],
          "barpolar": [
           {
            "marker": {
             "line": {
              "color": "#E5ECF6",
              "width": 0.5
             },
             "pattern": {
              "fillmode": "overlay",
              "size": 10,
              "solidity": 0.2
             }
            },
            "type": "barpolar"
           }
          ],
          "carpet": [
           {
            "aaxis": {
             "endlinecolor": "#2a3f5f",
             "gridcolor": "white",
             "linecolor": "white",
             "minorgridcolor": "white",
             "startlinecolor": "#2a3f5f"
            },
            "baxis": {
             "endlinecolor": "#2a3f5f",
             "gridcolor": "white",
             "linecolor": "white",
             "minorgridcolor": "white",
             "startlinecolor": "#2a3f5f"
            },
            "type": "carpet"
           }
          ],
          "choropleth": [
           {
            "colorbar": {
             "outlinewidth": 0,
             "ticks": ""
            },
            "type": "choropleth"
           }
          ],
          "contour": [
           {
            "colorbar": {
             "outlinewidth": 0,
             "ticks": ""
            },
            "colorscale": [
             [
              0,
              "#0d0887"
             ],
             [
              0.1111111111111111,
              "#46039f"
             ],
             [
              0.2222222222222222,
              "#7201a8"
             ],
             [
              0.3333333333333333,
              "#9c179e"
             ],
             [
              0.4444444444444444,
              "#bd3786"
             ],
             [
              0.5555555555555556,
              "#d8576b"
             ],
             [
              0.6666666666666666,
              "#ed7953"
             ],
             [
              0.7777777777777778,
              "#fb9f3a"
             ],
             [
              0.8888888888888888,
              "#fdca26"
             ],
             [
              1,
              "#f0f921"
             ]
            ],
            "type": "contour"
           }
          ],
          "contourcarpet": [
           {
            "colorbar": {
             "outlinewidth": 0,
             "ticks": ""
            },
            "type": "contourcarpet"
           }
          ],
          "heatmap": [
           {
            "colorbar": {
             "outlinewidth": 0,
             "ticks": ""
            },
            "colorscale": [
             [
              0,
              "#0d0887"
             ],
             [
              0.1111111111111111,
              "#46039f"
             ],
             [
              0.2222222222222222,
              "#7201a8"
             ],
             [
              0.3333333333333333,
              "#9c179e"
             ],
             [
              0.4444444444444444,
              "#bd3786"
             ],
             [
              0.5555555555555556,
              "#d8576b"
             ],
             [
              0.6666666666666666,
              "#ed7953"
             ],
             [
              0.7777777777777778,
              "#fb9f3a"
             ],
             [
              0.8888888888888888,
              "#fdca26"
             ],
             [
              1,
              "#f0f921"
             ]
            ],
            "type": "heatmap"
           }
          ],
          "heatmapgl": [
           {
            "colorbar": {
             "outlinewidth": 0,
             "ticks": ""
            },
            "colorscale": [
             [
              0,
              "#0d0887"
             ],
             [
              0.1111111111111111,
              "#46039f"
             ],
             [
              0.2222222222222222,
              "#7201a8"
             ],
             [
              0.3333333333333333,
              "#9c179e"
             ],
             [
              0.4444444444444444,
              "#bd3786"
             ],
             [
              0.5555555555555556,
              "#d8576b"
             ],
             [
              0.6666666666666666,
              "#ed7953"
             ],
             [
              0.7777777777777778,
              "#fb9f3a"
             ],
             [
              0.8888888888888888,
              "#fdca26"
             ],
             [
              1,
              "#f0f921"
             ]
            ],
            "type": "heatmapgl"
           }
          ],
          "histogram": [
           {
            "marker": {
             "pattern": {
              "fillmode": "overlay",
              "size": 10,
              "solidity": 0.2
             }
            },
            "type": "histogram"
           }
          ],
          "histogram2d": [
           {
            "colorbar": {
             "outlinewidth": 0,
             "ticks": ""
            },
            "colorscale": [
             [
              0,
              "#0d0887"
             ],
             [
              0.1111111111111111,
              "#46039f"
             ],
             [
              0.2222222222222222,
              "#7201a8"
             ],
             [
              0.3333333333333333,
              "#9c179e"
             ],
             [
              0.4444444444444444,
              "#bd3786"
             ],
             [
              0.5555555555555556,
              "#d8576b"
             ],
             [
              0.6666666666666666,
              "#ed7953"
             ],
             [
              0.7777777777777778,
              "#fb9f3a"
             ],
             [
              0.8888888888888888,
              "#fdca26"
             ],
             [
              1,
              "#f0f921"
             ]
            ],
            "type": "histogram2d"
           }
          ],
          "histogram2dcontour": [
           {
            "colorbar": {
             "outlinewidth": 0,
             "ticks": ""
            },
            "colorscale": [
             [
              0,
              "#0d0887"
             ],
             [
              0.1111111111111111,
              "#46039f"
             ],
             [
              0.2222222222222222,
              "#7201a8"
             ],
             [
              0.3333333333333333,
              "#9c179e"
             ],
             [
              0.4444444444444444,
              "#bd3786"
             ],
             [
              0.5555555555555556,
              "#d8576b"
             ],
             [
              0.6666666666666666,
              "#ed7953"
             ],
             [
              0.7777777777777778,
              "#fb9f3a"
             ],
             [
              0.8888888888888888,
              "#fdca26"
             ],
             [
              1,
              "#f0f921"
             ]
            ],
            "type": "histogram2dcontour"
           }
          ],
          "mesh3d": [
           {
            "colorbar": {
             "outlinewidth": 0,
             "ticks": ""
            },
            "type": "mesh3d"
           }
          ],
          "parcoords": [
           {
            "line": {
             "colorbar": {
              "outlinewidth": 0,
              "ticks": ""
             }
            },
            "type": "parcoords"
           }
          ],
          "pie": [
           {
            "automargin": true,
            "type": "pie"
           }
          ],
          "scatter": [
           {
            "fillpattern": {
             "fillmode": "overlay",
             "size": 10,
             "solidity": 0.2
            },
            "type": "scatter"
           }
          ],
          "scatter3d": [
           {
            "line": {
             "colorbar": {
              "outlinewidth": 0,
              "ticks": ""
             }
            },
            "marker": {
             "colorbar": {
              "outlinewidth": 0,
              "ticks": ""
             }
            },
            "type": "scatter3d"
           }
          ],
          "scattercarpet": [
           {
            "marker": {
             "colorbar": {
              "outlinewidth": 0,
              "ticks": ""
             }
            },
            "type": "scattercarpet"
           }
          ],
          "scattergeo": [
           {
            "marker": {
             "colorbar": {
              "outlinewidth": 0,
              "ticks": ""
             }
            },
            "type": "scattergeo"
           }
          ],
          "scattergl": [
           {
            "marker": {
             "colorbar": {
              "outlinewidth": 0,
              "ticks": ""
             }
            },
            "type": "scattergl"
           }
          ],
          "scattermapbox": [
           {
            "marker": {
             "colorbar": {
              "outlinewidth": 0,
              "ticks": ""
             }
            },
            "type": "scattermapbox"
           }
          ],
          "scatterpolar": [
           {
            "marker": {
             "colorbar": {
              "outlinewidth": 0,
              "ticks": ""
             }
            },
            "type": "scatterpolar"
           }
          ],
          "scatterpolargl": [
           {
            "marker": {
             "colorbar": {
              "outlinewidth": 0,
              "ticks": ""
             }
            },
            "type": "scatterpolargl"
           }
          ],
          "scatterternary": [
           {
            "marker": {
             "colorbar": {
              "outlinewidth": 0,
              "ticks": ""
             }
            },
            "type": "scatterternary"
           }
          ],
          "surface": [
           {
            "colorbar": {
             "outlinewidth": 0,
             "ticks": ""
            },
            "colorscale": [
             [
              0,
              "#0d0887"
             ],
             [
              0.1111111111111111,
              "#46039f"
             ],
             [
              0.2222222222222222,
              "#7201a8"
             ],
             [
              0.3333333333333333,
              "#9c179e"
             ],
             [
              0.4444444444444444,
              "#bd3786"
             ],
             [
              0.5555555555555556,
              "#d8576b"
             ],
             [
              0.6666666666666666,
              "#ed7953"
             ],
             [
              0.7777777777777778,
              "#fb9f3a"
             ],
             [
              0.8888888888888888,
              "#fdca26"
             ],
             [
              1,
              "#f0f921"
             ]
            ],
            "type": "surface"
           }
          ],
          "table": [
           {
            "cells": {
             "fill": {
              "color": "#EBF0F8"
             },
             "line": {
              "color": "white"
             }
            },
            "header": {
             "fill": {
              "color": "#C8D4E3"
             },
             "line": {
              "color": "white"
             }
            },
            "type": "table"
           }
          ]
         },
         "layout": {
          "annotationdefaults": {
           "arrowcolor": "#2a3f5f",
           "arrowhead": 0,
           "arrowwidth": 1
          },
          "autotypenumbers": "strict",
          "coloraxis": {
           "colorbar": {
            "outlinewidth": 0,
            "ticks": ""
           }
          },
          "colorscale": {
           "diverging": [
            [
             0,
             "#8e0152"
            ],
            [
             0.1,
             "#c51b7d"
            ],
            [
             0.2,
             "#de77ae"
            ],
            [
             0.3,
             "#f1b6da"
            ],
            [
             0.4,
             "#fde0ef"
            ],
            [
             0.5,
             "#f7f7f7"
            ],
            [
             0.6,
             "#e6f5d0"
            ],
            [
             0.7,
             "#b8e186"
            ],
            [
             0.8,
             "#7fbc41"
            ],
            [
             0.9,
             "#4d9221"
            ],
            [
             1,
             "#276419"
            ]
           ],
           "sequential": [
            [
             0,
             "#0d0887"
            ],
            [
             0.1111111111111111,
             "#46039f"
            ],
            [
             0.2222222222222222,
             "#7201a8"
            ],
            [
             0.3333333333333333,
             "#9c179e"
            ],
            [
             0.4444444444444444,
             "#bd3786"
            ],
            [
             0.5555555555555556,
             "#d8576b"
            ],
            [
             0.6666666666666666,
             "#ed7953"
            ],
            [
             0.7777777777777778,
             "#fb9f3a"
            ],
            [
             0.8888888888888888,
             "#fdca26"
            ],
            [
             1,
             "#f0f921"
            ]
           ],
           "sequentialminus": [
            [
             0,
             "#0d0887"
            ],
            [
             0.1111111111111111,
             "#46039f"
            ],
            [
             0.2222222222222222,
             "#7201a8"
            ],
            [
             0.3333333333333333,
             "#9c179e"
            ],
            [
             0.4444444444444444,
             "#bd3786"
            ],
            [
             0.5555555555555556,
             "#d8576b"
            ],
            [
             0.6666666666666666,
             "#ed7953"
            ],
            [
             0.7777777777777778,
             "#fb9f3a"
            ],
            [
             0.8888888888888888,
             "#fdca26"
            ],
            [
             1,
             "#f0f921"
            ]
           ]
          },
          "colorway": [
           "#636efa",
           "#EF553B",
           "#00cc96",
           "#ab63fa",
           "#FFA15A",
           "#19d3f3",
           "#FF6692",
           "#B6E880",
           "#FF97FF",
           "#FECB52"
          ],
          "font": {
           "color": "#2a3f5f"
          },
          "geo": {
           "bgcolor": "white",
           "lakecolor": "white",
           "landcolor": "#E5ECF6",
           "showlakes": true,
           "showland": true,
           "subunitcolor": "white"
          },
          "hoverlabel": {
           "align": "left"
          },
          "hovermode": "closest",
          "mapbox": {
           "style": "light"
          },
          "paper_bgcolor": "white",
          "plot_bgcolor": "#E5ECF6",
          "polar": {
           "angularaxis": {
            "gridcolor": "white",
            "linecolor": "white",
            "ticks": ""
           },
           "bgcolor": "#E5ECF6",
           "radialaxis": {
            "gridcolor": "white",
            "linecolor": "white",
            "ticks": ""
           }
          },
          "scene": {
           "xaxis": {
            "backgroundcolor": "#E5ECF6",
            "gridcolor": "white",
            "gridwidth": 2,
            "linecolor": "white",
            "showbackground": true,
            "ticks": "",
            "zerolinecolor": "white"
           },
           "yaxis": {
            "backgroundcolor": "#E5ECF6",
            "gridcolor": "white",
            "gridwidth": 2,
            "linecolor": "white",
            "showbackground": true,
            "ticks": "",
            "zerolinecolor": "white"
           },
           "zaxis": {
            "backgroundcolor": "#E5ECF6",
            "gridcolor": "white",
            "gridwidth": 2,
            "linecolor": "white",
            "showbackground": true,
            "ticks": "",
            "zerolinecolor": "white"
           }
          },
          "shapedefaults": {
           "line": {
            "color": "#2a3f5f"
           }
          },
          "ternary": {
           "aaxis": {
            "gridcolor": "white",
            "linecolor": "white",
            "ticks": ""
           },
           "baxis": {
            "gridcolor": "white",
            "linecolor": "white",
            "ticks": ""
           },
           "bgcolor": "#E5ECF6",
           "caxis": {
            "gridcolor": "white",
            "linecolor": "white",
            "ticks": ""
           }
          },
          "title": {
           "x": 0.05
          },
          "xaxis": {
           "automargin": true,
           "gridcolor": "white",
           "linecolor": "white",
           "ticks": "",
           "title": {
            "standoff": 15
           },
           "zerolinecolor": "white",
           "zerolinewidth": 2
          },
          "yaxis": {
           "automargin": true,
           "gridcolor": "white",
           "linecolor": "white",
           "ticks": "",
           "title": {
            "standoff": 15
           },
           "zerolinecolor": "white",
           "zerolinewidth": 2
          }
         }
        },
        "title": {
         "text": "Option Chain for SPY - Expiration: 2025-08-04<br><span style='font-size:12px;'>Green = In The Money | Showing strikes from $611.7 to $631.7</span>"
        }
       }
      }
     },
     "metadata": {},
     "output_type": "display_data"
    }
   ],
   "source": [
    "import ipywidgets as widgets\n",
    "from IPython.display import display, clear_output\n",
    "\n",
    "# Get the current stock price from underlying data\n",
    "current_price = underlying_data['regularMarketPrice']\n",
    "\n",
    "# Create a function to filter and display options based on strike range\n",
    "def show_options_table(strikes_to_show):\n",
    "    # Calculate the strike range\n",
    "    half_range = strikes_to_show // 2\n",
    "    min_strike = current_price - half_range\n",
    "    max_strike = current_price + half_range\n",
    "    \n",
    "    # Filter call options\n",
    "    filtered_calls = call_contract_chain[\n",
    "        (call_contract_chain['strike'] >= min_strike) & \n",
    "        (call_contract_chain['strike'] <= max_strike)\n",
    "    ]\n",
    "    \n",
    "    # Filter put options\n",
    "    filtered_puts = put_call_contract_chain[\n",
    "        (put_call_contract_chain['strike'] >= min_strike) & \n",
    "        (put_call_contract_chain['strike'] <= max_strike)\n",
    "    ]\n",
    "    \n",
    "    # Create a figure with two side-by-side tables\n",
    "    fig = make_subplots(\n",
    "        rows=1, cols=2,\n",
    "        column_widths=[0.5, 0.5],\n",
    "        subplot_titles=(\"Call Options\", \"Put Options\"),\n",
    "        specs=[[{\"type\": \"table\"}, {\"type\": \"table\"}]]\n",
    "    )\n",
    "\n",
    "    # Get expiration date from the options DataFrame\n",
    "    expiration_date = options['Expiration Date'][0]\n",
    "    \n",
    "    # Create conditional fill colors for calls based on inTheMoney status\n",
    "    call_fill_colors = []\n",
    "    for itm in filtered_calls['inTheMoney']:\n",
    "        if itm:\n",
    "            call_fill_colors.append('rgba(144, 238, 144, 0.6)')  # Light green for in-the-money\n",
    "        else:\n",
    "            call_fill_colors.append('lavender')  # Default for out-of-the-money\n",
    "    \n",
    "    # Add call options table with conditional formatting\n",
    "    fig.add_trace(\n",
    "        go.Table(\n",
    "            header=dict(values=list(filtered_calls.columns),\n",
    "                        fill_color='paleturquoise',\n",
    "                        align='left',\n",
    "                        font=dict(size=11)),\n",
    "            cells=dict(values=[filtered_calls[col] for col in filtered_calls.columns],\n",
    "                       fill_color=[call_fill_colors for _ in filtered_calls.columns],\n",
    "                       align='left')\n",
    "        ),\n",
    "        row=1, col=1\n",
    "    )\n",
    "    \n",
    "    # Create conditional fill colors for puts based on inTheMoney status\n",
    "    put_fill_colors = []\n",
    "    for itm in filtered_puts['inTheMoney']:\n",
    "        if itm:\n",
    "            put_fill_colors.append('rgba(144, 238, 144, 0.6)')  # Light green for in-the-money\n",
    "        else:\n",
    "            put_fill_colors.append('mistyrose')  # Default for out-of-the-money\n",
    "    \n",
    "    # Add put options table with conditional formatting\n",
    "    fig.add_trace(\n",
    "        go.Table(\n",
    "            header=dict(values=list(filtered_puts.columns),\n",
    "                        fill_color='lightpink',\n",
    "                        align='left'),\n",
    "            cells=dict(values=[filtered_puts[col] for col in filtered_puts.columns],\n",
    "                       fill_color=[put_fill_colors for _ in filtered_puts.columns],\n",
    "                       align='left')\n",
    "        ),\n",
    "        row=1, col=2\n",
    "    )\n",
    "    \n",
    "    # Update layout with title including the range information\n",
    "    fig.update_layout(\n",
    "        title_text=f\"Option Chain for {ticker_str} - Expiration: {expiration_date}<br>\" + \n",
    "                  f\"<span style='font-size:12px;'>Green = In The Money | \" +\n",
    "                  f\"Showing strikes from ${min_strike:.1f} to ${max_strike:.1f}</span>\",\n",
    "        height=800,\n",
    "        autosize=True,\n",
    "    )\n",
    "    \n",
    "    # Display with config that enables responsiveness\n",
    "    fig.show(config={'responsive': True, 'scrollZoom': True})\n",
    "\n",
    "# Create dropdown for strike selection\n",
    "strike_dropdown = widgets.Dropdown(\n",
    "    options=[(f\"{i} Strikes\", i) for i in [10, 20, 30, 40, 50, 60]],\n",
    "    value=20,\n",
    "    description='Show:',\n",
    "    style={'description_width': 'initial'},\n",
    "    layout=widgets.Layout(width='200px')\n",
    ")\n",
    "\n",
    "# Function to handle dropdown change\n",
    "def on_change(change):\n",
    "    if change['type'] == 'change' and change['name'] == 'value':\n",
    "        clear_output(wait=True)\n",
    "        display(strike_dropdown)\n",
    "        show_options_table(change['new'])\n",
    "\n",
    "# Register the callback\n",
    "strike_dropdown.observe(on_change, names='value')\n",
    "\n",
    "# Initial display\n",
    "display(strike_dropdown)\n",
    "show_options_table(strike_dropdown.value)\n"
   ]
  }
 ],
 "metadata": {
  "kernelspec": {
   "display_name": "base",
   "language": "python",
   "name": "python3"
  },
  "language_info": {
   "codemirror_mode": {
    "name": "ipython",
    "version": 3
   },
   "file_extension": ".py",
   "mimetype": "text/x-python",
   "name": "python",
   "nbconvert_exporter": "python",
   "pygments_lexer": "ipython3",
   "version": "3.12.4"
  }
 },
 "nbformat": 4,
 "nbformat_minor": 2
}
