{
 "cells": [
  {
   "cell_type": "code",
   "execution_count": null,
   "id": "33504f8f-13f2-4ac1-837f-510b618a1ddf",
   "metadata": {},
   "outputs": [],
   "source": [
    "import yfinance as yf\n",
    "import numpy as np\n",
    "import matplotlib.pyplot as plt\n",
    "import pandas as pd\n",
    "from Quantapp.UniverseManager  import UniverseManager\n",
    "from Quantapp.PortfolioManager import PortfolioManager\n",
    "from Quantapp.Algorithms       import Algorithms , Statistics\n",
    "um = UniverseManager()\n",
    "pm = PortfolioManager()\n",
    "algorithms = Algorithms()\n",
    "\n",
    "plt.rcParams[\"figure.figsize\"] = (20, 7)\n",
    "\n"
   ]
  },
  {
   "cell_type": "code",
   "execution_count": null,
   "id": "c5bac2ca-11a8-45bc-8e0c-a6716105c54b",
   "metadata": {},
   "outputs": [],
   "source": [
    "market_index = um.create_market_index(Sector='Health Care')[:252*5]\n",
    "asset = yf.Ticker('EW').history(period='max', interval='1d')['Close'][:252*5]\n",
    "\n",
    "def multi_asset_roc(symbols,window=21):\n",
    "    data = {}\n",
    "    for symbol in symbols:\n",
    "        close = yf.Ticker(symbol).history(period='1y', interval='1d')['Close']\n",
    "        data[symbol] = algorithms.rolling(algorithms.rate_of_change,window,close)\n",
    "    return pd.DataFrame(data)"
   ]
  },
  {
   "cell_type": "code",
   "execution_count": null,
   "id": "a6adbcd4-09bf-49b0-872d-373a80b2eb5c",
   "metadata": {},
   "outputs": [],
   "source": [
    "\n",
    "algorithms.rolling(algorithms.rate_of_change,200,market_index).plot()\n",
    "algorithms.rolling(algorithms.rate_of_change,200,asset).plot()\n",
    "plt.axhline(y=0, color='b', linestyle='--');\n",
    "plt.legend(['Market', 'Asset'])"
   ]
  },
  {
   "cell_type": "code",
   "execution_count": null,
   "id": "28b33619-3e4a-45ed-9006-4bd675e13554",
   "metadata": {},
   "outputs": [],
   "source": [
    "Sector = \"Utilities\"\n",
    "Industry = \"Electric Utilities\"\n",
    "\n",
    "symbols      = um.retrieve_assets(Sector=Sector, Industry=Industry)['Symbol']\n",
    "market_index = um.create_market_index(Sector=Sector, Industry=Industry)\n",
    "\n",
    "multi_asset_roc(symbols).plot()\n",
    "market_index.loc[:-200].plot()"
   ]
  },
  {
   "cell_type": "code",
   "execution_count": null,
   "id": "420ea5e1-a227-4450-a2ff-eefd9da68641",
   "metadata": {},
   "outputs": [],
   "source": [
    "\n",
    "ticker = \"GM\"\n",
    "pm = PortfolioManager()\n",
    "um = UniverseManager()\n",
    "pm.add(ticker)\n",
    "pm.load()\n",
    "data = {}\n",
    "industry = pm.assets[ticker]['asset'].data['Industry']\n",
    "symbols = um.retrieve_assets(Industry=industry)['Symbol']\n",
    "\n",
    "data = data_frame_roc(symbol)\n",
    "    \n",
    "pd.DataFrame(data).plot()"
   ]
  },
  {
   "cell_type": "code",
   "execution_count": null,
   "id": "7ebb203c-3b29-4524-914d-cf881b0f6740",
   "metadata": {},
   "outputs": [],
   "source": [
    "statistics = Statistics()\n",
    "positive_trading_days_21 = statistics.n_positive_days(ticker='XLV',number_of_days=21)\n",
    "positive_trading_days_50 = statistics.n_positive_days(ticker='XLV',number_of_days=50)\n",
    "positive_trading_days_200 = statistics.n_positive_days(ticker='XLV',number_of_days=200)"
   ]
  },
  {
   "cell_type": "code",
   "execution_count": null,
   "id": "3b80b31d-6547-42c2-b8c0-e57dc92cc2eb",
   "metadata": {},
   "outputs": [],
   "source": [
    "positive_trading_days_21[-252*3:].plot()\n",
    "positive_trading_days_50[-252*3:].plot()\n",
    "positive_trading_days_200[-252*3:].plot()"
   ]
  }
 ],
 "metadata": {
  "kernelspec": {
   "display_name": "Python 3 (ipykernel)",
   "language": "python",
   "name": "python3"
  },
  "language_info": {
   "codemirror_mode": {
    "name": "ipython",
    "version": 3
   },
   "file_extension": ".py",
   "mimetype": "text/x-python",
   "name": "python",
   "nbconvert_exporter": "python",
   "pygments_lexer": "ipython3",
   "version": "3.9.12"
  }
 },
 "nbformat": 4,
 "nbformat_minor": 5
}
