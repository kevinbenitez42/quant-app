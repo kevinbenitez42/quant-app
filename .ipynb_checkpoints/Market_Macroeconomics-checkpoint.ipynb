{
 "cells": [
  {
   "cell_type": "code",
   "execution_count": 4,
   "id": "75d3171c-5763-4e49-bf8f-6c8345660ac5",
   "metadata": {},
   "outputs": [
    {
     "ename": "NameError",
     "evalue": "name 'ism' is not defined",
     "output_type": "error",
     "traceback": [
      "\u001b[1;31m---------------------------------------------------------------------------\u001b[0m",
      "\u001b[1;31mNameError\u001b[0m                                 Traceback (most recent call last)",
      "Input \u001b[1;32mIn [4]\u001b[0m, in \u001b[0;36m<cell line: 140>\u001b[1;34m()\u001b[0m\n\u001b[0;32m    136\u001b[0m \u001b[38;5;66;03m#fig.add_trace(\u001b[39;00m\n\u001b[0;32m    137\u001b[0m \u001b[38;5;66;03m#    go\u001b[39;00m\n\u001b[0;32m    138\u001b[0m \u001b[38;5;66;03m#)\u001b[39;00m\n\u001b[0;32m    139\u001b[0m df \u001b[38;5;241m=\u001b[39m pd\u001b[38;5;241m.\u001b[39mDataFrame()\n\u001b[1;32m--> 140\u001b[0m df[\u001b[38;5;124m'\u001b[39m\u001b[38;5;124mPMI\u001b[39m\u001b[38;5;124m'\u001b[39m] \u001b[38;5;241m=\u001b[39m \u001b[43mism\u001b[49m[\u001b[38;5;124m'\u001b[39m\u001b[38;5;124mPMI\u001b[39m\u001b[38;5;124m'\u001b[39m]\u001b[38;5;241m.\u001b[39mpct_change()[\u001b[38;5;241m-\u001b[39m\u001b[38;5;241m120\u001b[39m:]\u001b[38;5;241m.\u001b[39mdropna()\n\u001b[0;32m    141\u001b[0m df[\u001b[38;5;124m'\u001b[39m\u001b[38;5;124mStock\u001b[39m\u001b[38;5;124m'\u001b[39m] \u001b[38;5;241m=\u001b[39m ticker\u001b[38;5;241m.\u001b[39mpct_change(\u001b[38;5;241m21\u001b[39m)[\u001b[38;5;241m-\u001b[39m\u001b[38;5;241m10\u001b[39m\u001b[38;5;241m*\u001b[39m\u001b[38;5;241m255\u001b[39m:]\n\u001b[0;32m    142\u001b[0m df[\u001b[38;5;124m'\u001b[39m\u001b[38;5;124mdiff\u001b[39m\u001b[38;5;124m'\u001b[39m] \u001b[38;5;241m=\u001b[39m df[\u001b[38;5;124m'\u001b[39m\u001b[38;5;124mPMI\u001b[39m\u001b[38;5;124m'\u001b[39m] \u001b[38;5;241m-\u001b[39m df[\u001b[38;5;124m'\u001b[39m\u001b[38;5;124mStock\u001b[39m\u001b[38;5;124m'\u001b[39m]\n",
      "\u001b[1;31mNameError\u001b[0m: name 'ism' is not defined"
     ]
    }
   ],
   "source": [
    "import nasdaqdatalink\n",
    "nasdaqdatalink.ApiConfig.api_key = \"D2S-LBYJrbd-1mNzGRGg\"\n",
    "\n",
    "import matplotlib.pyplot as plt\n",
    "import yfinance as yf\n",
    "import pandas as pd\n",
    "import numpy as np\n",
    "import plotly.express as px\n",
    "import plotly.graph_objects as go\n",
    "from   plotly.subplots import make_subplots\n",
    "plt.rcParams[\"figure.figsize\"] = (20, 7)\n",
    "\n",
    "from Quantapp.DataManager import EconomicData\n",
    "\n",
    "ed = EconomicData()\n",
    "\n",
    "inflation = ed.get_inflation_data()\n",
    "gdp       = ed.get_gdp_data()\n",
    "Bonds     = ed.get_bond_data()\n",
    "leading_indicators = ed.get_leading_indicators()\n",
    "coincident_indicators = ed.get_coincident_indicators()\n",
    "lagging_indicators = ed.get_lagging_indicators()\n",
    "BroadMarkets = ed.get_broad_market_data()\n",
    "StockMarket = ed.get_sector_data()\n",
    "Commodities = ed.get_commodity_data()\n",
    "International = ed.get_international_data()\n",
    "Factors = ed.get_factor_data()\n",
    "Allocation = ed.get_allocation_data()\n",
    "Volatility = ed.get_volatility_data()\n",
    "Strategies = ed.get_strategy_data()\n",
    "\n",
    "#import stock data\n",
    "ticker = yf.Ticker('SPY').history(period='max')['Close']\n",
    "\n",
    "fig = make_subplots(rows=2, cols=2,)\n",
    "#fig.add_trace(\n",
    "#    go\n",
    "#)\n",
    "df = pd.DataFrame()\n",
    "df['PMI'] = ism['PMI'].pct_change()[-120:].dropna()\n",
    "df['Stock'] = ticker.pct_change(21)[-10*255:]\n",
    "df['diff'] = df['PMI'] - df['Stock']\n",
    "s = df['PMI'] - df['Stock']\n",
    "\n",
    "df['hl'] = pd.Series([0]).repeat(len(df)).to_numpy()\n",
    "df = df.dropna()\n",
    "\n",
    "fig = px.line(df[['PMI', 'Stock']])\n",
    "fig.show()\n",
    "\n",
    "fig = px.line(df[['diff', 'hl']])\n",
    "fig.show()\n",
    "\n",
    "from plotly.subplots import make_subplots\n",
    "\n"
   ]
  },
  {
   "cell_type": "code",
   "execution_count": null,
   "id": "74022c8e-5252-4cfe-99f4-87463c958ff0",
   "metadata": {},
   "outputs": [],
   "source": []
  },
  {
   "cell_type": "code",
   "execution_count": null,
   "id": "e9e05d45-12a2-4392-b6da-46408ae717eb",
   "metadata": {},
   "outputs": [],
   "source": []
  },
  {
   "cell_type": "code",
   "execution_count": null,
   "id": "fece83cd-9a6f-40c0-abb1-f9ef6d522cb9",
   "metadata": {},
   "outputs": [],
   "source": [
    "\n",
    "ticker = yf.Ticker('SPY').history(period='max')['Close']\n",
    "import plotly.express as px\n",
    "df = pd.DataFrame()\n",
    "df['gdp'] = gdp['Value'].pct_change()[-80:].dropna()\n",
    "df['Stock'] = ticker.pct_change(21)[-20*255:]\n",
    "df['diff'] = df['gdp'] - df['Stock']\n",
    "s = df['gdp'] - df['Stock']\n",
    "\n",
    "df['hl'] = pd.Series([0]).repeat(len(df)).to_numpy()\n",
    "df = df.dropna()\n",
    "fig = px.line(df[['gdp', 'Stock']])\n",
    "fig.show()\n",
    "\n",
    "fig = px.line(df[['diff', 'hl']])\n",
    "fig.show()\n",
    "\n"
   ]
  },
  {
   "cell_type": "code",
   "execution_count": null,
   "id": "f61f88ca-2ca0-4ca1-859b-72c7b9dd2f5c",
   "metadata": {},
   "outputs": [],
   "source": [
    "\n",
    "ticker = yf.Ticker('SPY').history(period='max')['Close']\n",
    "import plotly.express as px\n",
    "df = pd.DataFrame()\n",
    "\n",
    "def growth_rate(arr):\n",
    "    return pd.Series(np.exp(np.diff(np.log(arr))) - 1)\n",
    "    \n",
    "df['cpi'] = growth_rate(cpi['Value'])[-120:].dropna()#cpi['Value'].pct_change()[-120:].dropna()\n",
    "df['Stock'] = growth_rate(ticker)#[-10*255:]          #ticker.pct_change(21)[-10*255:]\n",
    "df['diff'] = df['cpi'] - df['Stock']\n",
    "s = df['cpi'] - df['Stock']\n",
    "\n",
    "print(df)\n",
    "df['hl'] = pd.Series([0]).repeat(len(df)).to_numpy()\n",
    "df = df.dropna()\n",
    "\n",
    "fig = px.line(df[['diff', 'hl']])\n",
    "fig.show()\n",
    "\n",
    "#fig = px.line(df[['cpi', 'Stock']])\n",
    "#fig.show()\n",
    "\n",
    "#fig = px.line(df[['cpi']])\n",
    "#fig.show()\n",
    "\n",
    "\n",
    "#fig = px.line(df[['Stock']])\n",
    "#fig.show()\n"
   ]
  },
  {
   "cell_type": "code",
   "execution_count": null,
   "id": "91799e76-d1be-428e-a738-96c2d1269f56",
   "metadata": {},
   "outputs": [],
   "source": []
  },
  {
   "cell_type": "code",
   "execution_count": null,
   "id": "b5a99807-e8c7-442f-adb5-059681631fa0",
   "metadata": {},
   "outputs": [],
   "source": []
  }
 ],
 "metadata": {
  "kernelspec": {
   "display_name": "Python 3 (ipykernel)",
   "language": "python",
   "name": "python3"
  },
  "language_info": {
   "codemirror_mode": {
    "name": "ipython",
    "version": 3
   },
   "file_extension": ".py",
   "mimetype": "text/x-python",
   "name": "python",
   "nbconvert_exporter": "python",
   "pygments_lexer": "ipython3",
   "version": "3.9.12"
  }
 },
 "nbformat": 4,
 "nbformat_minor": 5
}
