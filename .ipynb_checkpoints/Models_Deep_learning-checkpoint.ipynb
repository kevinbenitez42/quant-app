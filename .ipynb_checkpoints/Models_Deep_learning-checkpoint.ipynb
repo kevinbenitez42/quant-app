{
 "cells": [
  {
   "cell_type": "code",
   "execution_count": 18,
   "id": "42ea54c2-72f3-47f5-b020-427971eedc1f",
   "metadata": {},
   "outputs": [
    {
     "name": "stdout",
     "output_type": "stream",
     "text": [
      "- : No data found for this date range, symbol may be delisted\n"
     ]
    }
   ],
   "source": [
    "import yfinance as yf\n",
    "import numpy as np\n",
    "import pandas as pd\n",
    "import matplotlib.pyplot as plt\n",
    "from Quantapp.Algorithms import Algorithms\n",
    "from Quantapp.DataManager import EconomicData\n",
    "from Quantapp.ModelManager import FeatureGenerator\n",
    "import pandas as pd\n",
    "\n",
    "from darts import concatenate\n",
    "from darts import TimeSeries\n",
    "from darts.utils.timeseries_generation import datetime_attribute_timeseries as dt_attr\n",
    "from darts.utils.missing_values import fill_missing_values\n",
    "from darts.models import NBEATSModel, NHiTS\n",
    "from darts.metrics import mape, smape\n",
    "from darts.dataprocessing.transformers import Scaler\n",
    "import torch \n",
    "torch.cuda.empty_cache()\n",
    "\n",
    "plt.rcParams['figure.figsize'] = [10,7]\n",
    "algorithms = Algorithms()\n",
    "feature_generator = FeatureGenerator()\n",
    "ed = EconomicData()\n",
    "scaler = Scaler()\n",
    "\n",
    "ticker = 'AAPL'\n",
    "period, interval = ('10y','1d')\n",
    "\n",
    "history = yf.Ticker(ticker).history(period=period,interval=interval)\n",
    "sectors       = ed.get_sector_data()\n",
    "broad_markets = ed.get_broad_market_data()\n",
    "risk_free_rate = yf.Ticker(\"^IRX\").history(period=period)['Close'].reindex(history.index).fillna(method='ffill')\n"
   ]
  },
  {
   "cell_type": "code",
   "execution_count": 2,
   "id": "e5e445e3-d554-489c-b987-c403784c6129",
   "metadata": {},
   "outputs": [],
   "source": [
    "data = feature_generator.fill_missing_dates(history['Close'])"
   ]
  },
  {
   "cell_type": "code",
   "execution_count": 21,
   "id": "13bf1b93-1103-4640-bdc7-ea2c6b36bdcf",
   "metadata": {},
   "outputs": [
    {
     "data": {
      "text/plain": [
       "\"\\nbeta_tech_df        = algorithms.rolling_range(algorithms.beta, start,end, step, history['Close'],benchmark_technology)\\nbeta_tech_df.index  = history.index\\nbeta_tech_df        = beta_tech_df.fillna(0)\\nbeta_tech_df        = feature_generator.fill_missing_dates_df(beta_tech_df)\\n\\nalpha_tech_df        = algorithms.rolling_range(algorithms.alpha, start,end, step, history['Close'],benchmark_technology)\\nalpha_tech_df.index  = history.index\\nalpha_tech_df        = alpha_tech_df.fillna(0)\\nalpha_tech_df        = feature_generator.fill_missing_dates_df(alpha_tech_df)\\n\\nsharpe_df        = algorithms.rolling_range(algorithms.sharpe, start,end, step, history['Close'],risk_free_rate)\\nsharpe_df.index  = history.index\\nsharpe_df        = sharpe_df.fillna(0)\\nsharpe_df        = feature_generator.fill_missing_dates_df(sharpe_df)\\n\\nskew_df        = algorithms.rolling_range(algorithms.skew, start,end, step, history['Close'])\\nskew_df.index  = history.index\\nskew_df        = skew_df.fillna(0)\\nskew_df        = feature_generator.fill_missing_dates_df(skew_df)\\n\\nkurtosis_df        = algorithms.rolling_range(algorithms.kurtosis, start,end, step, history['Close'])\\nkurtosis_df.index  = history.index\\nkurtosis_df        = skew_df.fillna(0)\\nkurtosis_df        = feature_generator.fill_missing_dates_df(kurtosis_df)\\n\""
      ]
     },
     "execution_count": 21,
     "metadata": {},
     "output_type": "execute_result"
    }
   ],
   "source": [
    "#CALCULATE RAW FEATURES\n",
    "\n",
    "def copy_index(data,index):\n",
    "        date_index = pd.date_range(start=index[0], end=index[-1], freq='D')\n",
    "        data = data.reindex(date_index)\n",
    "        data = data.fillna(method='ffill')\n",
    "        return data\n",
    "    \n",
    "start,end, step = (2,50,21)\n",
    "benchmark_technology =  sectors['Technology'].loc[history.index[0]:history.index[-1]]['Close']\n",
    "\n",
    "mean_df        = algorithms.rolling_range(algorithms.mean, start,end, step, history['Close'])\n",
    "mean_df.index  = history.index\n",
    "mean_df        = mean_df.fillna(0)\n",
    "mean_df        = feature_generator.fill_missing_dates_df(mean_df)\n",
    "\n",
    "standard_deviation_df        = algorithms.rolling_range(algorithms.standard_deviation, start,end, step, history['Close'])\n",
    "standard_deviation_df.index  = history.index\n",
    "standard_deviation_df        = standard_deviation_df.fillna(0)\n",
    "standard_deviation_df        = feature_generator.fill_missing_dates_df(standard_deviation_df)\n",
    "\n",
    "semi_standard_deviation_df        = algorithms.rolling_range(algorithms.semi_standard_deviation, start,end, step, history['Close'])\n",
    "semi_standard_deviation_df.index  = history.index\n",
    "semi_standard_deviation_df        = semi_standard_deviation_df.fillna(0)\n",
    "semi_standard_deviation_df        = feature_generator.fill_missing_dates_df(semi_standard_deviation_df)\n",
    "\n",
    "yang_zhang_volatility_df        = algorithms.rolling_range(algorithms.yang_zhang_volatility, start,end, step,history)\n",
    "yang_zhang_volatility_df        = copy_index(yang_zhang_volatility_df,history.index)\n",
    "yang_zhang_volatility_df        = yang_zhang_volatility_df.fillna(0)\n",
    "yang_zhang_volatility_df        = feature_generator.fill_missing_dates_df(yang_zhang_volatility_df)\n",
    "\n",
    "\n",
    "mean_diff_df        = feature_generator.calculate_differences(mean_df)\n",
    "mean_diff_df        = mean_diff_df.fillna(0)\n",
    "mean_diff_df        = feature_generator.fill_missing_dates_df(mean_diff_df)\n",
    "\n",
    "standard_deviation_diff_df        = feature_generator.calculate_differences(standard_deviation_df)\n",
    "standard_deviation_diff_df        = standard_deviation_diff_df.fillna(0)\n",
    "standard_deviation_diff_df        = feature_generator.fill_missing_dates_df(standard_deviation_diff_df)\n",
    "\n",
    "semi_standard_deviation_diff_df        = feature_generator.calculate_differences(semi_standard_deviation_df)\n",
    "semi_standard_deviation_diff_df        = semi_standard_deviation_diff_df.fillna(0)\n",
    "semi_standard_deviation_diff_df        = feature_generator.fill_missing_dates_df(semi_standard_deviation_diff_df)\n",
    "\n",
    "yang_zhang_volatility_diff_df        = feature_generator.calculate_differences(yang_zhang_volatility_df)\n",
    "yang_zhang_volatility_diff_df        = yang_zhang_volatility_diff_df.fillna(0)\n",
    "yang_zhang_volatility_diff_df        = feature_generator.fill_missing_dates_df(yang_zhang_volatility_diff_df)\n",
    "\n",
    "\n",
    "\"\"\"\n",
    "beta_tech_df        = algorithms.rolling_range(algorithms.beta, start,end, step, history['Close'],benchmark_technology)\n",
    "beta_tech_df.index  = history.index\n",
    "beta_tech_df        = beta_tech_df.fillna(0)\n",
    "beta_tech_df        = feature_generator.fill_missing_dates_df(beta_tech_df)\n",
    "\n",
    "alpha_tech_df        = algorithms.rolling_range(algorithms.alpha, start,end, step, history['Close'],benchmark_technology)\n",
    "alpha_tech_df.index  = history.index\n",
    "alpha_tech_df        = alpha_tech_df.fillna(0)\n",
    "alpha_tech_df        = feature_generator.fill_missing_dates_df(alpha_tech_df)\n",
    "\n",
    "sharpe_df        = algorithms.rolling_range(algorithms.sharpe, start,end, step, history['Close'],risk_free_rate)\n",
    "sharpe_df.index  = history.index\n",
    "sharpe_df        = sharpe_df.fillna(0)\n",
    "sharpe_df        = feature_generator.fill_missing_dates_df(sharpe_df)\n",
    "\n",
    "skew_df        = algorithms.rolling_range(algorithms.skew, start,end, step, history['Close'])\n",
    "skew_df.index  = history.index\n",
    "skew_df        = skew_df.fillna(0)\n",
    "skew_df        = feature_generator.fill_missing_dates_df(skew_df)\n",
    "\n",
    "kurtosis_df        = algorithms.rolling_range(algorithms.kurtosis, start,end, step, history['Close'])\n",
    "kurtosis_df.index  = history.index\n",
    "kurtosis_df        = skew_df.fillna(0)\n",
    "kurtosis_df        = feature_generator.fill_missing_dates_df(kurtosis_df)\n",
    "\"\"\"\n",
    "\n"
   ]
  },
  {
   "cell_type": "code",
   "execution_count": null,
   "id": "b94ab7be-5d47-4765-a88c-576c774b7233",
   "metadata": {},
   "outputs": [],
   "source": []
  },
  {
   "cell_type": "code",
   "execution_count": 22,
   "id": "7ed1250f-899d-45a4-8219-45353f54dda9",
   "metadata": {},
   "outputs": [],
   "source": [
    "#Feature Selection and Reduction\n",
    "\n",
    "features_raw        = [\n",
    "    history['Close'],\n",
    "    history['Open'],\n",
    "    history['High'],\n",
    "    history['Low'],\n",
    "    history['Volume'],\n",
    "]\n",
    "features_statistics = [\n",
    "    mean_df, \n",
    "#    mean_diff_df,\n",
    "    standard_deviation_df,\n",
    "    semi_standard_deviation_df,\n",
    "    yang_zhang_volatility_df,\n",
    "   # beta_tech_df,\n",
    "   # sharpe_df,\n",
    "   # alpha_tech_df,\n",
    "   # kurtorsis_df,\n",
    "    #skew_df\n",
    "]\n",
    "\n",
    "feature_statistics_diff = [\n",
    "    mean_diff_df,\n",
    "    standard_deviation_diff_df,\n",
    "    semi_standard_deviation_diff_df,\n",
    "    yang_zhang_volatility_df,\n",
    "]\n",
    "feature_groups = features_raw + features_statistics + feature_statistics_diff\n",
    "\n",
    "features = pd.concat(feature_groups, axis=1)\n",
    "\n",
    "features = features.interpolate().dropna()\n",
    "\n",
    "components = feature_generator.reduce_dimensionality(features, threshold=.98)\n",
    "components.index = features.index\n",
    "\n"
   ]
  },
  {
   "cell_type": "code",
   "execution_count": 23,
   "id": "b68190da-b082-483e-b2b9-41b237bf3707",
   "metadata": {},
   "outputs": [],
   "source": [
    "#Feature preprocessing\n",
    "covariates = features #components\n",
    "covariates  = scaler.fit_transform(TimeSeries.from_dataframe(covariates))\n"
   ]
  },
  {
   "cell_type": "code",
   "execution_count": 24,
   "id": "1977d509-f63d-47ea-b640-a3d98f1f2176",
   "metadata": {},
   "outputs": [
    {
     "name": "stderr",
     "output_type": "stream",
     "text": [
      "[2022-07-17 14:21:33,796] INFO | darts.models.forecasting.nhits | (N-HiTS): Using automatic kernel pooling size: ((182,), (102,), (57,), (32,), (18,), (10,), (5,), (3,), (1,), (1,)).\n",
      "[2022-07-17 14:21:33,796] INFO | darts.models.forecasting.nhits | (N-HiTS): Using automatic kernel pooling size: ((182,), (102,), (57,), (32,), (18,), (10,), (5,), (3,), (1,), (1,)).\n",
      "2022-07-17 14:21:33 darts.models.forecasting.nhits INFO: (N-HiTS): Using automatic kernel pooling size: ((182,), (102,), (57,), (32,), (18,), (10,), (5,), (3,), (1,), (1,)).\n",
      "[2022-07-17 14:21:33,797] INFO | darts.models.forecasting.nhits | (N-HiTS):  Using automatic downsampling coefficients: ((182,), (102,), (57,), (32,), (18,), (10,), (5,), (3,), (1,), (1,)).\n",
      "[2022-07-17 14:21:33,797] INFO | darts.models.forecasting.nhits | (N-HiTS):  Using automatic downsampling coefficients: ((182,), (102,), (57,), (32,), (18,), (10,), (5,), (3,), (1,), (1,)).\n",
      "2022-07-17 14:21:33 darts.models.forecasting.nhits INFO: (N-HiTS):  Using automatic downsampling coefficients: ((182,), (102,), (57,), (32,), (18,), (10,), (5,), (3,), (1,), (1,)).\n",
      "[2022-07-17 14:21:33,798] WARNING | darts.utils.data.encoders | Specified future encoders in `add_encoders` at model creation but model does not accept future covariates. future encoders will be ignored.\n",
      "2022-07-17 14:21:33 darts.utils.data.encoders WARNING: Specified future encoders in `add_encoders` at model creation but model does not accept future covariates. future encoders will be ignored.\n",
      "[2022-07-17 14:21:33,799] INFO | darts.models.forecasting.torch_forecasting_model | Train dataset contains 2009 samples.\n",
      "[2022-07-17 14:21:33,799] INFO | darts.models.forecasting.torch_forecasting_model | Train dataset contains 2009 samples.\n",
      "2022-07-17 14:21:33 darts.models.forecasting.torch_forecasting_model INFO: Train dataset contains 2009 samples.\n",
      "[2022-07-17 14:21:34,641] INFO | darts.models.forecasting.torch_forecasting_model | Time series values are 64-bits; casting model to float64.\n",
      "[2022-07-17 14:21:34,641] INFO | darts.models.forecasting.torch_forecasting_model | Time series values are 64-bits; casting model to float64.\n",
      "2022-07-17 14:21:34 darts.models.forecasting.torch_forecasting_model INFO: Time series values are 64-bits; casting model to float64.\n",
      "[2022-07-17 14:21:34,643] WARNING | darts.models.forecasting.torch_forecasting_model | DeprecationWarning: kwarg `verbose` is deprecated and will be removed in a future Darts version. Instead, control verbosity with PyTorch Lightning Trainer parameters `enable_progress_bar`, `progress_bar_refresh_rate` and `enable_model_summary` in the `pl_trainer_kwargs` dict at model creation.\n",
      "[2022-07-17 14:21:34,643] WARNING | darts.models.forecasting.torch_forecasting_model | DeprecationWarning: kwarg `verbose` is deprecated and will be removed in a future Darts version. Instead, control verbosity with PyTorch Lightning Trainer parameters `enable_progress_bar`, `progress_bar_refresh_rate` and `enable_model_summary` in the `pl_trainer_kwargs` dict at model creation.\n",
      "2022-07-17 14:21:34 darts.models.forecasting.torch_forecasting_model WARNING: DeprecationWarning: kwarg `verbose` is deprecated and will be removed in a future Darts version. Instead, control verbosity with PyTorch Lightning Trainer parameters `enable_progress_bar`, `progress_bar_refresh_rate` and `enable_model_summary` in the `pl_trainer_kwargs` dict at model creation.\n",
      "2022-07-17 14:21:34 pytorch_lightning.utilities.rank_zero INFO: GPU available: True, used: True\n",
      "2022-07-17 14:21:34 pytorch_lightning.utilities.rank_zero INFO: TPU available: False, using: 0 TPU cores\n",
      "2022-07-17 14:21:34 pytorch_lightning.utilities.rank_zero INFO: IPU available: False, using: 0 IPUs\n",
      "2022-07-17 14:21:34 pytorch_lightning.utilities.rank_zero INFO: HPU available: False, using: 0 HPUs\n",
      "2022-07-17 14:21:34 pytorch_lightning.accelerators.gpu INFO: LOCAL_RANK: 0 - CUDA_VISIBLE_DEVICES: [0]\n",
      "2022-07-17 14:21:34 pytorch_lightning.callbacks.model_summary INFO: \n",
      "  | Name      | Type       | Params\n",
      "-----------------------------------------\n",
      "0 | criterion | MSELoss    | 0     \n",
      "1 | stacks    | ModuleList | 97.8 M\n",
      "-----------------------------------------\n",
      "88.8 M    Trainable params\n",
      "9.0 M     Non-trainable params\n",
      "97.8 M    Total params\n",
      "782.596   Total estimated model params size (MB)\n"
     ]
    },
    {
     "data": {
      "application/vnd.jupyter.widget-view+json": {
       "model_id": "d9b444f4445f4a63b529392ca8665c93",
       "version_major": 2,
       "version_minor": 0
      },
      "text/plain": [
       "Training: 0it [00:00, ?it/s]"
      ]
     },
     "metadata": {},
     "output_type": "display_data"
    },
    {
     "data": {
      "text/plain": [
       "<darts.models.forecasting.nhits.NHiTS at 0x1a05640b820>"
      ]
     },
     "execution_count": 24,
     "metadata": {},
     "output_type": "execute_result"
    }
   ],
   "source": [
    "torch.cuda.empty_cache()\n",
    "\n",
    "#define and train model\\\n",
    "training_set_scalar = Scaler()\n",
    "testing_set_scalar = Scaler()\n",
    "\n",
    "training_set, testing_set = TimeSeries.from_series(data,fill_missing_dates=True, freq=\"D\").split_before(0.75)\n",
    "training_covariates, testing_covariates = covariates.split_before(0.75)\n",
    "\n",
    "data_training_set = training_set_scalar.fit_transform(training_set)\n",
    "data_testing_set  = training_set_scalar.fit_transform(testing_set)\n",
    "\"\"\"\n",
    "\n",
    "model_nbeats = NBEATSModel(\n",
    "    input_chunk_length=200,\n",
    "    output_chunk_length=200,\n",
    "    generic_architecture=True,\n",
    "    num_stacks=10,\n",
    "    num_blocks=1,\n",
    "    num_layers=10,\n",
    "    layer_widths=512,\n",
    "    n_epochs=50,\n",
    "    nr_epochs_val_period=1,\n",
    "    batch_size=400,\n",
    "    model_name=\"nbeats_run\",\n",
    "    force_reset=True,\n",
    "    pl_trainer_kwargs={\n",
    "      \"accelerator\": \"gpu\",\n",
    "      \"gpus\": [0]\n",
    "    },\n",
    ")\n",
    "\"\"\"\n",
    "model_nhits = NHiTS(\n",
    "    input_chunk_length=365,\n",
    "    output_chunk_length=365,\n",
    "    num_stacks=10,\n",
    "    num_blocks=1,\n",
    "    num_layers=10,\n",
    "    layer_widths=512,\n",
    "    n_epochs=50,\n",
    "    nr_epochs_val_period=1,\n",
    "    batch_size=800,\n",
    "    model_name=\"nbeats_run\",\n",
    "    force_reset=True,\n",
    "    add_encoders={\n",
    "    'cyclic': {'future': ['week','month','quarter']}\n",
    "    },\n",
    "    pl_trainer_kwargs={\n",
    "      \"accelerator\": \"gpu\",\n",
    "      \"gpus\": [0]\n",
    "    },\n",
    ")\n",
    "#model_nbeats.fit(data_,past_covariates=[training_covariates], verbose=True)\n",
    "model_nhits.fit(data_training_set,past_covariates=[training_covariates], verbose=True)\n"
   ]
  },
  {
   "cell_type": "code",
   "execution_count": 25,
   "id": "f4bbf1c3-9fe0-482d-b138-0dbcca824cff",
   "metadata": {},
   "outputs": [
    {
     "name": "stderr",
     "output_type": "stream",
     "text": [
      "2022-07-17 14:26:40 pytorch_lightning.accelerators.gpu INFO: LOCAL_RANK: 0 - CUDA_VISIBLE_DEVICES: [0]\n"
     ]
    },
    {
     "data": {
      "application/vnd.jupyter.widget-view+json": {
       "model_id": "11655208dfce42a598472ebaf2309e8d",
       "version_major": 2,
       "version_minor": 0
      },
      "text/plain": [
       "Predicting: 3it [00:00, ?it/s]"
      ]
     },
     "metadata": {},
     "output_type": "display_data"
    },
    {
     "data": {
      "text/plain": [
       "<matplotlib.legend.Legend at 0x1a0563ecd90>"
      ]
     },
     "execution_count": 25,
     "metadata": {},
     "output_type": "execute_result"
    },
    {
     "data": {
      "image/png": "[encoded data removed]",
      "text/plain": [
       "<Figure size 720x504 with 1 Axes>"
      ]
     },
     "metadata": {
      "needs_background": "light"
     },
     "output_type": "display_data"
    }
   ],
   "source": [
    "#plot results\n",
    "\n",
    "n =365 \n",
    "#pred = model_nbeats.predict(series=data_, past_covariates=training_covariates,n=n)\n",
    "pred = model_nhits.predict(series=data_training_set, past_covariates=training_covariates,n=n)\n",
    "pred = training_set_scalar.inverse_transform(pred)\n",
    "pred.plot(\"validation_forecast\")\n",
    "training_set[2500:].plot(label=\"data\")\n",
    "testing_set.plot(label=\"test\")\n",
    "plt.legend()\n",
    "\n"
   ]
  },
  {
   "cell_type": "code",
   "execution_count": null,
   "id": "8bfb2e6e-ae6a-498e-9202-393b5b1b0892",
   "metadata": {},
   "outputs": [],
   "source": []
  },
  {
   "cell_type": "code",
   "execution_count": null,
   "id": "d6d3034e-a5d3-446f-83fe-91c8e9cbf7eb",
   "metadata": {},
   "outputs": [],
   "source": []
  }
 ],
 "metadata": {
  "kernelspec": {
   "display_name": "Python 3 (ipykernel)",
   "language": "python",
   "name": "python3"
  },
  "language_info": {
   "codemirror_mode": {
    "name": "ipython",
    "version": 3
   },
   "file_extension": ".py",
   "mimetype": "text/x-python",
   "name": "python",
   "nbconvert_exporter": "python",
   "pygments_lexer": "ipython3",
   "version": "3.9.12"
  }
 },
 "nbformat": 4,
 "nbformat_minor": 5
}
