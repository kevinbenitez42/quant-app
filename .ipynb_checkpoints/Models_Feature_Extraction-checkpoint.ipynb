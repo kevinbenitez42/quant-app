{
 "cells": [
  {
   "cell_type": "code",
   "execution_count": 281,
   "id": "4b6deb47-95be-486e-b53e-6876c33efe95",
   "metadata": {},
   "outputs": [],
   "source": [
    "import yfinance as yf\n",
    "import pandas as pd\n",
    "import matplotlib.pyplot as plt\n",
    "\n",
    "import numpy as np\n",
    "import seaborn as sns\n",
    "from Quantapp.Algorithms   import Algorithms\n",
    "from Quantapp.ModelManager import Utilities\n",
    "\n",
    "plt.rcParams['figure.figsize'] = [10,7]\n",
    "\n",
    "algo = Algorithms()\n",
    "sc   = StandardScaler()\n",
    "util = Utilities()\n",
    "\n",
    "\n",
    "\n",
    "start,end,step = (2,51,1)\n",
    "period='10y'\n",
    "interval='1d'\n",
    "\n",
    "data           = yf.Ticker('AAPL').history(period=period, interval=interval)\n",
    "data_benchmark = yf.Ticker('QQQ').history(period=period, interval=interval)\n",
    "\n",
    "rolling_mean     = algo.rolling_range(algo.mean,start,end,step,data['Close'])\n",
    "rolling_std      = algo.rolling_range(algo.standard_deviation,start,end,step,data['Close'])\n",
    "rolling_skew     = algo.rolling_range(algo.skew,start,end,step,data['Close'])\n",
    "rolling_kurtosis = algo.rolling_range(algo.kurtosis,start,end,step,data['Close'])\n",
    "rolling_calculations = pd.concat([rolling_mean,rolling_std,rolling_skew,rolling_kurtosis], axis=1).fillna(0)\n"
   ]
  },
  {
   "cell_type": "code",
   "execution_count": 286,
   "id": "841c8a07-1ae4-4bcd-a8d2-a4140d8eeca4",
   "metadata": {},
   "outputs": [
    {
     "ename": "TypeError",
     "evalue": "reduce_dimensionality() takes 2 positional arguments but 3 were given",
     "output_type": "error",
     "traceback": [
      "\u001b[1;31m---------------------------------------------------------------------------\u001b[0m",
      "\u001b[1;31mTypeError\u001b[0m                                 Traceback (most recent call last)",
      "Input \u001b[1;32mIn [286]\u001b[0m, in \u001b[0;36m<cell line: 2>\u001b[1;34m()\u001b[0m\n\u001b[0;32m      1\u001b[0m thresholds \u001b[38;5;241m=\u001b[39m [\u001b[38;5;241m.95\u001b[39m,\u001b[38;5;241m.96\u001b[39m,\u001b[38;5;241m.97\u001b[39m,\u001b[38;5;241m.98\u001b[39m,\u001b[38;5;241m.99\u001b[39m,]\n\u001b[0;32m      2\u001b[0m \u001b[38;5;28;01mfor\u001b[39;00m threshold \u001b[38;5;129;01min\u001b[39;00m thresholds:\n\u001b[1;32m----> 3\u001b[0m     \u001b[38;5;28mprint\u001b[39m(\u001b[38;5;28mlen\u001b[39m(\u001b[43mutil\u001b[49m\u001b[38;5;241;43m.\u001b[39;49m\u001b[43mreduce_dimensionality\u001b[49m\u001b[43m(\u001b[49m\u001b[43mrolling_calculations\u001b[49m\u001b[43m,\u001b[49m\u001b[43mthreshold\u001b[49m\u001b[43m)\u001b[49m))\n",
      "\u001b[1;31mTypeError\u001b[0m: reduce_dimensionality() takes 2 positional arguments but 3 were given"
     ]
    }
   ],
   "source": [
    "thresholds = [.95,.96,.97,.98,.99,]\n",
    "for threshold in thresholds:\n",
    "    print(len(util.reduce_dimensionality(rolling_calculations,threshold)))\n"
   ]
  },
  {
   "cell_type": "code",
   "execution_count": null,
   "id": "43935408-977b-4575-9c9d-3fdf01aec26a",
   "metadata": {},
   "outputs": [],
   "source": []
  }
 ],
 "metadata": {
  "kernelspec": {
   "display_name": "Python 3 (ipykernel)",
   "language": "python",
   "name": "python3"
  },
  "language_info": {
   "codemirror_mode": {
    "name": "ipython",
    "version": 3
   },
   "file_extension": ".py",
   "mimetype": "text/x-python",
   "name": "python",
   "nbconvert_exporter": "python",
   "pygments_lexer": "ipython3",
   "version": "3.9.12"
  }
 },
 "nbformat": 4,
 "nbformat_minor": 5
}
