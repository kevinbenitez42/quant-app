{
 "cells": [
  {
   "cell_type": "code",
   "execution_count": 1,
   "id": "8f79b84a-e371-4ec2-91f0-633690a70e74",
   "metadata": {},
   "outputs": [],
   "source": [
    "from Quantapp.Application import Application\n",
    "from Quantapp.UniverseManager import UniverseManager\n",
    "from Quantapp.PortfolioManager import PortfolioManager\n",
    "\n",
    "import pandas as pd\n",
    "import yfinance as yf\n",
    "import matplotlib.pyplot as plt\n",
    "from ta.utils import dropna\n",
    "from ta.volatility import BollingerBands\n",
    "plt.rcParams[\"figure.figsize\"] = (20, 7)\n"
   ]
  },
  {
   "cell_type": "code",
   "execution_count": 2,
   "id": "144c9998-51bb-46d7-ab09-cf01bd6be7b0",
   "metadata": {},
   "outputs": [
    {
     "name": "stdout",
     "output_type": "stream",
     "text": [
      "{'AAPL': {'direction': 'long', 'weight': 0.0}, 'MSFT': {'direction': 'long', 'weight': 0.0}, 'NVDA': {'direction': 'long', 'weight': 0.0}, 'GM': {'direction': 'long', 'weight': 0.0}}\n",
      "done\n"
     ]
    }
   ],
   "source": [
    "pm = PortfolioManager()\n",
    "pm.add_tickers(['AAPL','MSFT','NVDA','GM'])\n",
    "pm.save_portfolio_config('assfds')\n",
    "pm.load_portfolio_config('assfds')"
   ]
  },
  {
   "cell_type": "code",
   "execution_count": null,
   "id": "d6e47cb1-e011-4344-93bc-043b6b07660b",
   "metadata": {},
   "outputs": [],
   "source": []
  }
 ],
 "metadata": {
  "kernelspec": {
   "display_name": "Python 3 (ipykernel)",
   "language": "python",
   "name": "python3"
  },
  "language_info": {
   "codemirror_mode": {
    "name": "ipython",
    "version": 3
   },
   "file_extension": ".py",
   "mimetype": "text/x-python",
   "name": "python",
   "nbconvert_exporter": "python",
   "pygments_lexer": "ipython3",
   "version": "3.9.12"
  }
 },
 "nbformat": 4,
 "nbformat_minor": 5
}
